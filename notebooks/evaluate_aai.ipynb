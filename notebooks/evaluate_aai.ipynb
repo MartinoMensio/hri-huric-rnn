{
 "cells": [
  {
   "cell_type": "code",
   "execution_count": 1,
   "metadata": {},
   "outputs": [],
   "source": [
    "import utils\n",
    "\n",
    "H_ONLY='../nlunetwork/results/tuning/optimized/h_only/conf_4/huric/modern_right/'\n",
    "FN_FT='../nlunetwork/results/tuning/optimized/fn_only_hyper_h/huric/modern_right/'\n",
    "FN_LU='../nlunetwork/results/tuning/optimized/fn_lu_only_hyper_h/huric/modern_right/'\n",
    "H_FN_FT='../nlunetwork/results/tuning/optimized/h_and_fn_ft/conf_4/huric/with_framenet_ft/'\n",
    "H_FN_LU='../nlunetwork/results/tuning/optimized/h_and_fn_lu/conf_4/huric/with_framenet_lu/'\n",
    "\n",
    "samples_h = utils.load_json(H_ONLY,16)\n",
    "samples_fn_ft = utils.load_json(FN_FT, 0)\n",
    "samples_fn_lu = utils.load_json(FN_LU, 0)\n",
    "samples_h_fn_ft = utils.load_json(H_FN_FT,48)\n",
    "samples_h_fn_lu = utils.load_json(H_FN_LU,9)\n",
    "\n",
    "# also the XML stuff\n",
    "HURIC_LOCATION = '../data/huric/modern/source'\n",
    "gold_missing = utils.get_samples_pos_and_lemmas_and_deps(HURIC_LOCATION)"
   ]
  },
  {
   "cell_type": "code",
   "execution_count": 2,
   "metadata": {},
   "outputs": [
    {
     "name": "stdout",
     "output_type": "stream",
     "text": [
      "samples_h {'ad': {'argmax': 0.06108202443280977, 'average': 0.06666441640112952}, 'ai': {'first_word_of_span_average': 0.4009082046609275, 'first_word_of_span_argmax': 0.42986981342244496, 'lexical_unit_average': 0.2671982474402903, 'lexical_unit_argmax': 0.30184372969460677, 'nouns_average': 0.1141823735116757, 'nouns_argmax': 0.13727238621244464}, 'ac': {'first_word_of_span_average': 0.13178006370861572, 'first_word_of_span_argmax': 0.08256172839506172, 'lexical_unit_average': 0.14608587902718712, 'lexical_unit_argmax': 0.13399354868653113, 'nouns_average': 0.14156582403408466, 'nouns_argmax': 0.02962672885918498}}\n",
      "samples_fn_ft {'ad': {'argmax': 0.8080279232111692, 'average': 0.7843535968729153}, 'ai': {'first_word_of_span_average': 0.10413457419867284, 'first_word_of_span_argmax': 0.051981806367771284, 'lexical_unit_average': 0.23573039606526341, 'lexical_unit_argmax': 0.17834246109099902, 'nouns_average': 0.05974153051101362, 'nouns_argmax': 0.01838456738554205}, 'ac': {'first_word_of_span_average': 0.06314223721342685, 'first_word_of_span_argmax': 0.03508771929824561, 'lexical_unit_average': 0.037225243348681464, 'lexical_unit_argmax': 0.00019493177387914232, 'nouns_average': 0.10164513178044002, 'nouns_argmax': 0.1986617779015438}}\n",
      "samples_fn_lu {'ad': {'argmax': 0.944153577661431, 'average': 0.9352291338680164}, 'ai': {'first_word_of_span_average': 0.3312808531745696, 'first_word_of_span_argmax': 0.3718938550078901, 'lexical_unit_average': 0.4020516958926324, 'lexical_unit_argmax': 0.46890644821931354, 'nouns_average': 0.08424277360857468, 'nouns_argmax': 0.09548640118815546}, 'ac': {'first_word_of_span_average': 0.14265144775720467, 'first_word_of_span_argmax': 0.04337231968810916, 'lexical_unit_average': 0.09940775909722764, 'lexical_unit_argmax': 0.0037361923326835605, 'nouns_average': 0.20187430609874865, 'nouns_argmax': 0.11172188444361926}}\n",
      "samples_h_fn_ft {'ad': {'argmax': 0.7085514834205934, 'average': 0.7134204803654215}, 'ai': {'first_word_of_span_average': 0.27740130977994465, 'first_word_of_span_argmax': 0.31107050032488626, 'lexical_unit_average': 0.2173468872192876, 'lexical_unit_argmax': 0.2713492837030849, 'nouns_average': 0.1377154636790948, 'nouns_argmax': 0.10473546262776275}, 'ac': {'first_word_of_span_average': 0.0745542052596765, 'first_word_of_span_argmax': 0.062122899842198084, 'lexical_unit_average': 0.0180337957146091, 'lexical_unit_argmax': 0.011276261641758718, 'nouns_average': 0.09088287615320685, 'nouns_argmax': 0.17072325876419453}}\n",
      "samples_h_fn_lu {'ad': {'argmax': 0.3368237347294939, 'average': 0.3451336893428643}, 'ai': {'first_word_of_span_average': 0.035103762326786594, 'first_word_of_span_argmax': 0.03508771929824561, 'lexical_unit_average': 2.143336222781053e-06, 'lexical_unit_argmax': 0.0, 'nouns_average': 0.00022088862716193992, 'nouns_argmax': 0.2897011046133853}, 'ac': {'first_word_of_span_average': 0.03510814390932783, 'first_word_of_span_argmax': 0.03508771929824561, 'lexical_unit_average': 4.6404888685874614e-08, 'lexical_unit_argmax': 0.0, 'nouns_average': 0.0008328822162768195, 'nouns_argmax': 0.29064327485380115}}\n"
     ]
    }
   ],
   "source": [
    "print('samples_h', utils.get_attention_scores(samples_h, gold_missing))\n",
    "print('samples_fn_ft', utils.get_attention_scores(samples_fn_ft, gold_missing))\n",
    "print('samples_fn_lu', utils.get_attention_scores(samples_fn_lu, gold_missing))\n",
    "print('samples_h_fn_ft', utils.get_attention_scores(samples_h_fn_ft, gold_missing))\n",
    "print('samples_h_fn_lu', utils.get_attention_scores(samples_h_fn_lu, gold_missing))\n"
   ]
  },
  {
   "cell_type": "code",
   "execution_count": 3,
   "metadata": {},
   "outputs": [
    {
     "name": "stdout",
     "output_type": "stream",
     "text": [
      "be\n",
      "move\n",
      "put\n",
      "get\n",
      "take\n",
      "come\n",
      "open\n",
      "look\n"
     ]
    }
   ],
   "source": [
    "xml_docs = utils.load_xmls(HURIC_LOCATION)\n",
    "invokers = utils.get_lemma_invoker(xml_docs)\n",
    "# ambiguous verbs invoking multiple frames\n",
    "for lemma, invocations in invokers.items():\n",
    "    if len(invocations) > 1:\n",
    "        print(lemma)#, {k: v for k, v in invocations.items()})"
   ]
  },
  {
   "cell_type": "code",
   "execution_count": 4,
   "metadata": {},
   "outputs": [
    {
     "name": "stdout",
     "output_type": "stream",
     "text": [
      "samples_h {'ad': {'argmax': 0.06108202443280977, 'average': 0.16198983686659482}, 'ai': {'first_word_of_span_average': 0.4009082046609275, 'first_word_of_span_argmax': 0.42986981342244496, 'lexical_unit_average': 0.3848031877603722, 'lexical_unit_argmax': 0.3876318239013169, 'nouns_average': 0.1141823735116757, 'nouns_argmax': 0.13727238621244464}, 'ac': {'first_word_of_span_average': 0.13178006370861572, 'first_word_of_span_argmax': 0.08256172839506172, 'lexical_unit_average': 0.19385945033472446, 'lexical_unit_argmax': 0.19916322441907244, 'nouns_average': 0.14156582403408466, 'nouns_argmax': 0.02962672885918498}}\n",
      "samples_fn_ft {'ad': {'argmax': 0.8080279232111692, 'average': 0.7871868741039088}, 'ai': {'first_word_of_span_average': 0.10413457419867284, 'first_word_of_span_argmax': 0.051981806367771284, 'lexical_unit_average': 0.27749576132789405, 'lexical_unit_argmax': 0.2606823772393949, 'nouns_average': 0.05974153051101362, 'nouns_argmax': 0.01838456738554205}, 'ac': {'first_word_of_span_average': 0.06314223721342685, 'first_word_of_span_argmax': 0.03508771929824561, 'lexical_unit_average': 0.057578481230730026, 'lexical_unit_argmax': 0.03324166898728302, 'nouns_average': 0.10164513178044002, 'nouns_argmax': 0.1986617779015438}}\n",
      "samples_fn_lu {'ad': {'argmax': 0.944153577661431, 'average': 0.9352329398681671}, 'ai': {'first_word_of_span_average': 0.3312808531745696, 'first_word_of_span_argmax': 0.3718938550078901, 'lexical_unit_average': 0.51297857834754, 'lexical_unit_argmax': 0.5461301788421671, 'nouns_average': 0.08424277360857468, 'nouns_argmax': 0.09548640118815546}, 'ac': {'first_word_of_span_average': 0.14265144775720467, 'first_word_of_span_argmax': 0.04337231968810916, 'lexical_unit_average': 0.15217351853304462, 'lexical_unit_argmax': 0.09799228008292335, 'nouns_average': 0.20187430609874865, 'nouns_argmax': 0.11172188444361926}}\n",
      "samples_h_fn_ft {'ad': {'argmax': 0.7085514834205934, 'average': 0.8178677612579024}, 'ai': {'first_word_of_span_average': 0.27740130977994465, 'first_word_of_span_argmax': 0.31107050032488626, 'lexical_unit_average': 0.3216237570278601, 'lexical_unit_argmax': 0.36985506461627327, 'nouns_average': 0.1377154636790948, 'nouns_argmax': 0.10473546262776275}, 'ac': {'first_word_of_span_average': 0.0745542052596765, 'first_word_of_span_argmax': 0.062122899842198084, 'lexical_unit_average': 0.04826409154002399, 'lexical_unit_argmax': 0.06094499365698198, 'nouns_average': 0.09088287615320685, 'nouns_argmax': 0.17072325876419453}}\n",
      "samples_h_fn_lu {'ad': {'argmax': 0.3368237347294939, 'average': 0.40259397714127565}, 'ai': {'first_word_of_span_average': 0.035103762326786594, 'first_word_of_span_argmax': 0.03508771929824561, 'lexical_unit_average': 0.0087809291047084, 'lexical_unit_argmax': 0.013320337881741393, 'nouns_average': 0.00022088862716193992, 'nouns_argmax': 0.2897011046133853}, 'ac': {'first_word_of_span_average': 0.03510814390932783, 'first_word_of_span_argmax': 0.03508771929824561, 'lexical_unit_average': 0.008772568165773176, 'lexical_unit_argmax': 0.013320337881741393, 'nouns_average': 0.0008328822162768195, 'nouns_argmax': 0.29064327485380115}}\n"
     ]
    }
   ],
   "source": [
    "# WARNING: this code has side effects! don't run twice!\n",
    "additional = utils.get_additional_discriminators_idxs(samples_h, gold_missing)\n",
    "for s in samples_h:\n",
    "    s['lexical_unit_ids'] += additional[s['id']]\n",
    "additional = utils.get_additional_discriminators_idxs(samples_fn_ft, gold_missing)\n",
    "for s in samples_fn_ft:\n",
    "    s['lexical_unit_ids'] += additional[s['id']]\n",
    "additional = utils.get_additional_discriminators_idxs(samples_fn_lu, gold_missing)\n",
    "for s in samples_fn_lu:\n",
    "    s['lexical_unit_ids'] += additional[s['id']]\n",
    "additional = utils.get_additional_discriminators_idxs(samples_h_fn_ft, gold_missing)\n",
    "for s in samples_h_fn_ft:\n",
    "    s['lexical_unit_ids'] += additional[s['id']]\n",
    "additional = utils.get_additional_discriminators_idxs(samples_h_fn_lu, gold_missing)\n",
    "for s in samples_h_fn_lu:\n",
    "    s['lexical_unit_ids'] += additional[s['id']]\n",
    "\n",
    "print('samples_h', utils.get_attention_scores(samples_h, gold_missing))\n",
    "print('samples_fn_ft', utils.get_attention_scores(samples_fn_ft, gold_missing))\n",
    "print('samples_fn_lu', utils.get_attention_scores(samples_fn_lu, gold_missing))\n",
    "print('samples_h_fn_ft', utils.get_attention_scores(samples_h_fn_ft, gold_missing))\n",
    "print('samples_h_fn_lu', utils.get_attention_scores(samples_h_fn_lu, gold_missing))"
   ]
  },
  {
   "cell_type": "code",
   "execution_count": null,
   "metadata": {},
   "outputs": [],
   "source": []
  }
 ],
 "metadata": {
  "kernelspec": {
   "display_name": "python3.6",
   "language": "python",
   "name": "python3.6"
  },
  "language_info": {
   "codemirror_mode": {
    "name": "ipython",
    "version": 3
   },
   "file_extension": ".py",
   "mimetype": "text/x-python",
   "name": "python",
   "nbconvert_exporter": "python",
   "pygments_lexer": "ipython3",
   "version": "3.6.6"
  }
 },
 "nbformat": 4,
 "nbformat_minor": 2
}
