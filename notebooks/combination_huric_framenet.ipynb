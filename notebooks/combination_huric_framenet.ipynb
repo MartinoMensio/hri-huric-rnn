{
 "cells": [
  {
   "cell_type": "markdown",
   "metadata": {},
   "source": [
    "# Combination of HuRIC with FrameNet\n",
    "This notebook analyses the enrichment of the HuRIC dataset with annotated frames coming from FrameNet. The additional frames are used only in train, while for testing the usual 5th fold from HuRIC is used."
   ]
  },
  {
   "cell_type": "code",
   "execution_count": 1,
   "metadata": {},
   "outputs": [],
   "source": [
    "import utils\n",
    "\n",
    "# put there the path to the results you want to show\n",
    "FOLDER_WITH_FRAMENET='../nlunetwork/results/framenet/results/eval_loss_both_slottype_full_we_large_recurrent_cell_lstm_attention_both_three_stages_true_highway___hyper:LABEL_EMB_SIZE=64,LSTM_SIZE=128,BATCH_SIZE=2,MAX_EPOCHS=100/with_framenet/'\n",
    "FOLDER_WITHOUT_FRAMENET='../nlunetwork/results/framenet/results/eval_loss_both_slottype_full_we_large_recurrent_cell_lstm_attention_both_three_stages_true_highway___hyper:LABEL_EMB_SIZE=64,LSTM_SIZE=128,BATCH_SIZE=2,MAX_EPOCHS=100/modern_right/'\n",
    "\n"
   ]
  },
  {
   "cell_type": "code",
   "execution_count": 2,
   "metadata": {},
   "outputs": [
    {
     "name": "stdout",
     "output_type": "stream",
     "text": [
      "#samples 109\n",
      "#samples_wrong_intent 1\n",
      "true: Closure pred: Closure\n"
     ]
    },
    {
     "data": {
      "text/html": [
       "<table><tr><td><b>words</b></td><td style=\"background-color: rgb(255,255,255);\">please</td><td style=\"background-color: rgb(255,255,255);\">close</td><td style=\"background-color: rgb(255,255,255);\">the</td><td style=\"background-color: rgb(255,255,255);\">blinds</td></tr><tr><td><b>lexical_unit</b></td><td style=\"background-color: rgb(255.0000, 255,255.0000);\">0.0000</td><td style=\"background-color: rgb(0.0000, 255,0.0000);\">1.0000</td><td style=\"background-color: rgb(255.0000, 255,255.0000);\">0.0000</td><td style=\"background-color: rgb(255.0000, 255,255.0000);\">0.0000</td></tr><tr><td><b>attention_intent</b></td><td style=\"background-color: rgb(255.0000, 255,255.0000);\">0.0000</td><td style=\"background-color: rgb(254.8837, 255,254.8837);\">0.0005</td><td style=\"background-color: rgb(0.1355, 255,0.1355);\">0.9995</td><td style=\"background-color: rgb(254.9884, 255,254.9884);\">0.0000</td></tr><tr><td><b>slots_true</b></td><td style=\"background-color: rgb(255,255,255);\">O</td><td style=\"background-color: rgb(255,255,255);\">O</td><td style=\"background-color: rgb(255,255,255);\">B-Container_portal</td><td style=\"background-color: rgb(255,255,255);\">I-Container_portal</td></tr><tr><td><b>slots_pred</b></td><td style=\"background-color: rgb(255,255,255);\">O</td><td style=\"background-color: rgb(255,255,255);\">O</td><td style=\"background-color: rgb(255,255,255);\">B-Container_portal</td><td style=\"background-color: rgb(255,255,255);\">I-Container_portal</td></tr></table>"
      ],
      "text/plain": [
       "<IPython.core.display.HTML object>"
      ]
     },
     "metadata": {},
     "output_type": "display_data"
    },
    {
     "name": "stdout",
     "output_type": "stream",
     "text": [
      "true: Motion pred: Motion\n"
     ]
    },
    {
     "data": {
      "text/html": [
       "<table><tr><td><b>words</b></td><td style=\"background-color: rgb(255,255,255);\">go</td><td style=\"background-color: rgb(255,255,255);\">next</td><td style=\"background-color: rgb(255,255,255);\">to</td><td style=\"background-color: rgb(255,255,255);\">the</td><td style=\"background-color: rgb(255,255,255);\">door</td></tr><tr><td><b>lexical_unit</b></td><td style=\"background-color: rgb(0.0000, 255,0.0000);\">1.0000</td><td style=\"background-color: rgb(255.0000, 255,255.0000);\">0.0000</td><td style=\"background-color: rgb(255.0000, 255,255.0000);\">0.0000</td><td style=\"background-color: rgb(255.0000, 255,255.0000);\">0.0000</td><td style=\"background-color: rgb(255.0000, 255,255.0000);\">0.0000</td></tr><tr><td><b>attention_intent</b></td><td style=\"background-color: rgb(254.9978, 255,254.9978);\">0.0000</td><td style=\"background-color: rgb(254.7730, 255,254.7730);\">0.0009</td><td style=\"background-color: rgb(19.6120, 255,19.6120);\">0.9231</td><td style=\"background-color: rgb(235.6291, 255,235.6291);\">0.0760</td><td style=\"background-color: rgb(254.9892, 255,254.9892);\">0.0000</td></tr><tr><td><b>slots_true</b></td><td style=\"background-color: rgb(255,255,255);\">O</td><td style=\"background-color: rgb(255,255,255);\">B-Goal</td><td style=\"background-color: rgb(255,255,255);\">I-Goal</td><td style=\"background-color: rgb(255,255,255);\">I-Goal</td><td style=\"background-color: rgb(255,255,255);\">I-Goal</td></tr><tr><td><b>slots_pred</b></td><td style=\"background-color: rgb(255,255,255);\">O</td><td style=\"background-color: rgb(255,255,255);\">B-Goal</td><td style=\"background-color: rgb(255,255,255);\">I-Goal</td><td style=\"background-color: rgb(255,255,255);\">I-Goal</td><td style=\"background-color: rgb(255,255,255);\">I-Goal</td></tr></table>"
      ],
      "text/plain": [
       "<IPython.core.display.HTML object>"
      ]
     },
     "metadata": {},
     "output_type": "display_data"
    },
    {
     "name": "stdout",
     "output_type": "stream",
     "text": [
      "true: Motion pred: Motion\n"
     ]
    },
    {
     "data": {
      "text/html": [
       "<table><tr><td><b>words</b></td><td style=\"background-color: rgb(255,255,255);\">go</td><td style=\"background-color: rgb(255,255,255);\">to</td><td style=\"background-color: rgb(255,255,255);\">the</td><td style=\"background-color: rgb(255,255,255);\">telephone</td></tr><tr><td><b>lexical_unit</b></td><td style=\"background-color: rgb(0.0000, 255,0.0000);\">1.0000</td><td style=\"background-color: rgb(255.0000, 255,255.0000);\">0.0000</td><td style=\"background-color: rgb(255.0000, 255,255.0000);\">0.0000</td><td style=\"background-color: rgb(255.0000, 255,255.0000);\">0.0000</td></tr><tr><td><b>attention_intent</b></td><td style=\"background-color: rgb(254.9977, 255,254.9977);\">0.0000</td><td style=\"background-color: rgb(183.0116, 255,183.0116);\">0.2823</td><td style=\"background-color: rgb(72.5045, 255,72.5045);\">0.7157</td><td style=\"background-color: rgb(254.4927, 255,254.4927);\">0.0020</td></tr><tr><td><b>slots_true</b></td><td style=\"background-color: rgb(255,255,255);\">O</td><td style=\"background-color: rgb(255,255,255);\">B-Goal</td><td style=\"background-color: rgb(255,255,255);\">I-Goal</td><td style=\"background-color: rgb(255,255,255);\">I-Goal</td></tr><tr><td><b>slots_pred</b></td><td style=\"background-color: rgb(255,255,255);\">O</td><td style=\"background-color: rgb(255,255,255);\">B-Goal</td><td style=\"background-color: rgb(255,255,255);\">I-Goal</td><td style=\"background-color: rgb(255,255,255);\">I-Goal</td></tr></table>"
      ],
      "text/plain": [
       "<IPython.core.display.HTML object>"
      ]
     },
     "metadata": {},
     "output_type": "display_data"
    },
    {
     "name": "stdout",
     "output_type": "stream",
     "text": [
      "true: Closure pred: Closure\n"
     ]
    },
    {
     "data": {
      "text/html": [
       "<table><tr><td><b>words</b></td><td style=\"background-color: rgb(255,255,255);\">could</td><td style=\"background-color: rgb(255,255,255);\">you</td><td style=\"background-color: rgb(255,255,255);\">close</td><td style=\"background-color: rgb(255,255,255);\">the</td><td style=\"background-color: rgb(255,255,255);\">shutters</td></tr><tr><td><b>lexical_unit</b></td><td style=\"background-color: rgb(255.0000, 255,255.0000);\">0.0000</td><td style=\"background-color: rgb(255.0000, 255,255.0000);\">0.0000</td><td style=\"background-color: rgb(0.0000, 255,0.0000);\">1.0000</td><td style=\"background-color: rgb(255.0000, 255,255.0000);\">0.0000</td><td style=\"background-color: rgb(255.0000, 255,255.0000);\">0.0000</td></tr><tr><td><b>attention_intent</b></td><td style=\"background-color: rgb(255.0000, 255,255.0000);\">0.0000</td><td style=\"background-color: rgb(255.0000, 255,255.0000);\">0.0000</td><td style=\"background-color: rgb(254.6254, 255,254.6254);\">0.0015</td><td style=\"background-color: rgb(0.8460, 255,0.8460);\">0.9967</td><td style=\"background-color: rgb(254.5309, 255,254.5309);\">0.0018</td></tr><tr><td><b>slots_true</b></td><td style=\"background-color: rgb(255,255,255);\">O</td><td style=\"background-color: rgb(255,255,255);\">B-Agent</td><td style=\"background-color: rgb(255,255,255);\">O</td><td style=\"background-color: rgb(255,255,255);\">B-Container_portal</td><td style=\"background-color: rgb(255,255,255);\">I-Container_portal</td></tr><tr><td><b>slots_pred</b></td><td style=\"background-color: rgb(255,255,255);\">O</td><td style=\"background-color: rgb(255,255,255);\">B-Theme</td><td style=\"background-color: rgb(255,255,255);\">O</td><td style=\"background-color: rgb(255,255,255);\">B-Container_portal</td><td style=\"background-color: rgb(255,255,255);\">I-Container_portal</td></tr></table>"
      ],
      "text/plain": [
       "<IPython.core.display.HTML object>"
      ]
     },
     "metadata": {},
     "output_type": "display_data"
    },
    {
     "name": "stdout",
     "output_type": "stream",
     "text": [
      "true: Taking pred: Taking\n"
     ]
    },
    {
     "data": {
      "text/html": [
       "<table><tr><td><b>words</b></td><td style=\"background-color: rgb(255,255,255);\">could</td><td style=\"background-color: rgb(255,255,255);\">you</td><td style=\"background-color: rgb(255,255,255);\">take</td><td style=\"background-color: rgb(255,255,255);\">the</td><td style=\"background-color: rgb(255,255,255);\">knife</td><td style=\"background-color: rgb(255,255,255);\">on</td><td style=\"background-color: rgb(255,255,255);\">the</td><td style=\"background-color: rgb(255,255,255);\">cutting</td><td style=\"background-color: rgb(255,255,255);\">board</td></tr><tr><td><b>lexical_unit</b></td><td style=\"background-color: rgb(255.0000, 255,255.0000);\">0.0000</td><td style=\"background-color: rgb(255.0000, 255,255.0000);\">0.0000</td><td style=\"background-color: rgb(0.0000, 255,0.0000);\">1.0000</td><td style=\"background-color: rgb(255.0000, 255,255.0000);\">0.0000</td><td style=\"background-color: rgb(255.0000, 255,255.0000);\">0.0000</td><td style=\"background-color: rgb(255.0000, 255,255.0000);\">0.0000</td><td style=\"background-color: rgb(255.0000, 255,255.0000);\">0.0000</td><td style=\"background-color: rgb(255.0000, 255,255.0000);\">0.0000</td><td style=\"background-color: rgb(255.0000, 255,255.0000);\">0.0000</td></tr><tr><td><b>attention_intent</b></td><td style=\"background-color: rgb(255.0000, 255,255.0000);\">0.0000</td><td style=\"background-color: rgb(255.0000, 255,255.0000);\">0.0000</td><td style=\"background-color: rgb(254.8527, 255,254.8527);\">0.0006</td><td style=\"background-color: rgb(239.4525, 255,239.4525);\">0.0610</td><td style=\"background-color: rgb(254.9306, 255,254.9306);\">0.0003</td><td style=\"background-color: rgb(158.8274, 255,158.8274);\">0.3771</td><td style=\"background-color: rgb(115.0141, 255,115.0141);\">0.5490</td><td style=\"background-color: rgb(251.9501, 255,251.9501);\">0.0120</td><td style=\"background-color: rgb(254.9945, 255,254.9945);\">0.0000</td></tr><tr><td><b>slots_true</b></td><td style=\"background-color: rgb(255,255,255);\">O</td><td style=\"background-color: rgb(255,255,255);\">B-Agent</td><td style=\"background-color: rgb(255,255,255);\">O</td><td style=\"background-color: rgb(255,255,255);\">B-Theme</td><td style=\"background-color: rgb(255,255,255);\">I-Theme</td><td style=\"background-color: rgb(255,255,255);\">I-Theme</td><td style=\"background-color: rgb(255,255,255);\">I-Theme</td><td style=\"background-color: rgb(255,255,255);\">I-Theme</td><td style=\"background-color: rgb(255,255,255);\">I-Theme</td></tr><tr><td><b>slots_pred</b></td><td style=\"background-color: rgb(255,255,255);\">O</td><td style=\"background-color: rgb(255,255,255);\">B-Agent</td><td style=\"background-color: rgb(255,255,255);\">O</td><td style=\"background-color: rgb(255,255,255);\">B-Theme</td><td style=\"background-color: rgb(255,255,255);\">I-Theme</td><td style=\"background-color: rgb(255,255,255);\">B-Theme</td><td style=\"background-color: rgb(255,255,255);\">I-Theme</td><td style=\"background-color: rgb(255,255,255);\">I-Theme</td><td style=\"background-color: rgb(255,255,255);\">I-Theme</td></tr></table>"
      ],
      "text/plain": [
       "<IPython.core.display.HTML object>"
      ]
     },
     "metadata": {},
     "output_type": "display_data"
    },
    {
     "name": "stdout",
     "output_type": "stream",
     "text": [
      "true: Bringing pred: Bringing\n"
     ]
    },
    {
     "data": {
      "text/html": [
       "<table><tr><td><b>words</b></td><td style=\"background-color: rgb(255,255,255);\">and</td><td style=\"background-color: rgb(255,255,255);\">bring</td><td style=\"background-color: rgb(255,255,255);\">it</td><td style=\"background-color: rgb(255,255,255);\">to</td><td style=\"background-color: rgb(255,255,255);\">me</td></tr><tr><td><b>lexical_unit</b></td><td style=\"background-color: rgb(255.0000, 255,255.0000);\">0.0000</td><td style=\"background-color: rgb(0.0000, 255,0.0000);\">1.0000</td><td style=\"background-color: rgb(255.0000, 255,255.0000);\">0.0000</td><td style=\"background-color: rgb(255.0000, 255,255.0000);\">0.0000</td><td style=\"background-color: rgb(255.0000, 255,255.0000);\">0.0000</td></tr><tr><td><b>attention_intent</b></td><td style=\"background-color: rgb(255.0000, 255,255.0000);\">0.0000</td><td style=\"background-color: rgb(254.6365, 255,254.6365);\">0.0014</td><td style=\"background-color: rgb(254.4520, 255,254.4520);\">0.0021</td><td style=\"background-color: rgb(17.7664, 255,17.7664);\">0.9303</td><td style=\"background-color: rgb(238.1458, 255,238.1458);\">0.0661</td></tr><tr><td><b>slots_true</b></td><td style=\"background-color: rgb(255,255,255);\">O</td><td style=\"background-color: rgb(255,255,255);\">O</td><td style=\"background-color: rgb(255,255,255);\">B-Theme</td><td style=\"background-color: rgb(255,255,255);\">B-Beneficiary</td><td style=\"background-color: rgb(255,255,255);\">I-Beneficiary</td></tr><tr><td><b>slots_pred</b></td><td style=\"background-color: rgb(255,255,255);\">O</td><td style=\"background-color: rgb(255,255,255);\">O</td><td style=\"background-color: rgb(255,255,255);\">B-Theme</td><td style=\"background-color: rgb(255,255,255);\">B-Beneficiary</td><td style=\"background-color: rgb(255,255,255);\">I-Beneficiary</td></tr></table>"
      ],
      "text/plain": [
       "<IPython.core.display.HTML object>"
      ]
     },
     "metadata": {},
     "output_type": "display_data"
    },
    {
     "name": "stdout",
     "output_type": "stream",
     "text": [
      "true: Searching pred: Searching\n"
     ]
    },
    {
     "data": {
      "text/html": [
       "<table><tr><td><b>words</b></td><td style=\"background-color: rgb(255,255,255);\">search</td><td style=\"background-color: rgb(255,255,255);\">the</td><td style=\"background-color: rgb(255,255,255);\">living</td><td style=\"background-color: rgb(255,255,255);\">room</td><td style=\"background-color: rgb(255,255,255);\">for</td><td style=\"background-color: rgb(255,255,255);\">the</td><td style=\"background-color: rgb(255,255,255);\">remote</td><td style=\"background-color: rgb(255,255,255);\">control</td></tr><tr><td><b>lexical_unit</b></td><td style=\"background-color: rgb(0.0000, 255,0.0000);\">1.0000</td><td style=\"background-color: rgb(255.0000, 255,255.0000);\">0.0000</td><td style=\"background-color: rgb(255.0000, 255,255.0000);\">0.0000</td><td style=\"background-color: rgb(255.0000, 255,255.0000);\">0.0000</td><td style=\"background-color: rgb(255.0000, 255,255.0000);\">0.0000</td><td style=\"background-color: rgb(255.0000, 255,255.0000);\">0.0000</td><td style=\"background-color: rgb(255.0000, 255,255.0000);\">0.0000</td><td style=\"background-color: rgb(255.0000, 255,255.0000);\">0.0000</td></tr><tr><td><b>attention_intent</b></td><td style=\"background-color: rgb(254.9973, 255,254.9973);\">0.0000</td><td style=\"background-color: rgb(243.1543, 255,243.1543);\">0.0465</td><td style=\"background-color: rgb(254.8578, 255,254.8578);\">0.0006</td><td style=\"background-color: rgb(254.9598, 255,254.9598);\">0.0002</td><td style=\"background-color: rgb(227.5021, 255,227.5021);\">0.1078</td><td style=\"background-color: rgb(117.2172, 255,117.2172);\">0.5403</td><td style=\"background-color: rgb(178.0952, 255,178.0952);\">0.3016</td><td style=\"background-color: rgb(254.2169, 255,254.2169);\">0.0031</td></tr><tr><td><b>slots_true</b></td><td style=\"background-color: rgb(255,255,255);\">O</td><td style=\"background-color: rgb(255,255,255);\">B-Ground</td><td style=\"background-color: rgb(255,255,255);\">I-Ground</td><td style=\"background-color: rgb(255,255,255);\">I-Ground</td><td style=\"background-color: rgb(255,255,255);\">B-Phenomenon</td><td style=\"background-color: rgb(255,255,255);\">I-Phenomenon</td><td style=\"background-color: rgb(255,255,255);\">I-Phenomenon</td><td style=\"background-color: rgb(255,255,255);\">I-Phenomenon</td></tr><tr><td><b>slots_pred</b></td><td style=\"background-color: rgb(255,255,255);\">O</td><td style=\"background-color: rgb(255,255,255);\">B-Ground</td><td style=\"background-color: rgb(255,255,255);\">I-Ground</td><td style=\"background-color: rgb(255,255,255);\">I-Ground</td><td style=\"background-color: rgb(255,255,255);\">B-Phenomenon</td><td style=\"background-color: rgb(255,255,255);\">I-Phenomenon</td><td style=\"background-color: rgb(255,255,255);\">I-Phenomenon</td><td style=\"background-color: rgb(255,255,255);\">I-Phenomenon</td></tr></table>"
      ],
      "text/plain": [
       "<IPython.core.display.HTML object>"
      ]
     },
     "metadata": {},
     "output_type": "display_data"
    },
    {
     "name": "stdout",
     "output_type": "stream",
     "text": [
      "true: Bringing pred: Bringing\n"
     ]
    },
    {
     "data": {
      "text/html": [
       "<table><tr><td><b>words</b></td><td style=\"background-color: rgb(255,255,255);\">and</td><td style=\"background-color: rgb(255,255,255);\">bring</td><td style=\"background-color: rgb(255,255,255);\">me</td><td style=\"background-color: rgb(255,255,255);\">my</td><td style=\"background-color: rgb(255,255,255);\">laptop</td></tr><tr><td><b>lexical_unit</b></td><td style=\"background-color: rgb(255.0000, 255,255.0000);\">0.0000</td><td style=\"background-color: rgb(0.0000, 255,0.0000);\">1.0000</td><td style=\"background-color: rgb(255.0000, 255,255.0000);\">0.0000</td><td style=\"background-color: rgb(255.0000, 255,255.0000);\">0.0000</td><td style=\"background-color: rgb(255.0000, 255,255.0000);\">0.0000</td></tr><tr><td><b>attention_intent</b></td><td style=\"background-color: rgb(255.0000, 255,255.0000);\">0.0000</td><td style=\"background-color: rgb(247.3159, 255,247.3159);\">0.0301</td><td style=\"background-color: rgb(14.1311, 255,14.1311);\">0.9446</td><td style=\"background-color: rgb(248.6008, 255,248.6008);\">0.0251</td><td style=\"background-color: rgb(254.9527, 255,254.9527);\">0.0002</td></tr><tr><td><b>slots_true</b></td><td style=\"background-color: rgb(255,255,255);\">O</td><td style=\"background-color: rgb(255,255,255);\">O</td><td style=\"background-color: rgb(255,255,255);\">B-Beneficiary</td><td style=\"background-color: rgb(255,255,255);\">B-Theme</td><td style=\"background-color: rgb(255,255,255);\">I-Theme</td></tr><tr><td><b>slots_pred</b></td><td style=\"background-color: rgb(255,255,255);\">O</td><td style=\"background-color: rgb(255,255,255);\">O</td><td style=\"background-color: rgb(255,255,255);\">B-Beneficiary</td><td style=\"background-color: rgb(255,255,255);\">B-Theme</td><td style=\"background-color: rgb(255,255,255);\">I-Theme</td></tr></table>"
      ],
      "text/plain": [
       "<IPython.core.display.HTML object>"
      ]
     },
     "metadata": {},
     "output_type": "display_data"
    },
    {
     "name": "stdout",
     "output_type": "stream",
     "text": [
      "true: Motion pred: Motion\n"
     ]
    },
    {
     "data": {
      "text/html": [
       "<table><tr><td><b>words</b></td><td style=\"background-color: rgb(255,255,255);\">go</td><td style=\"background-color: rgb(255,255,255);\">to</td><td style=\"background-color: rgb(255,255,255);\">the</td><td style=\"background-color: rgb(255,255,255);\">toilet</td></tr><tr><td><b>lexical_unit</b></td><td style=\"background-color: rgb(0.0000, 255,0.0000);\">1.0000</td><td style=\"background-color: rgb(255.0000, 255,255.0000);\">0.0000</td><td style=\"background-color: rgb(255.0000, 255,255.0000);\">0.0000</td><td style=\"background-color: rgb(255.0000, 255,255.0000);\">0.0000</td></tr><tr><td><b>attention_intent</b></td><td style=\"background-color: rgb(254.9933, 255,254.9933);\">0.0000</td><td style=\"background-color: rgb(108.3986, 255,108.3986);\">0.5749</td><td style=\"background-color: rgb(148.2657, 255,148.2657);\">0.4186</td><td style=\"background-color: rgb(253.3438, 255,253.3438);\">0.0065</td></tr><tr><td><b>slots_true</b></td><td style=\"background-color: rgb(255,255,255);\">O</td><td style=\"background-color: rgb(255,255,255);\">B-Goal</td><td style=\"background-color: rgb(255,255,255);\">I-Goal</td><td style=\"background-color: rgb(255,255,255);\">I-Goal</td></tr><tr><td><b>slots_pred</b></td><td style=\"background-color: rgb(255,255,255);\">O</td><td style=\"background-color: rgb(255,255,255);\">B-Goal</td><td style=\"background-color: rgb(255,255,255);\">I-Goal</td><td style=\"background-color: rgb(255,255,255);\">I-Goal</td></tr></table>"
      ],
      "text/plain": [
       "<IPython.core.display.HTML object>"
      ]
     },
     "metadata": {},
     "output_type": "display_data"
    },
    {
     "name": "stdout",
     "output_type": "stream",
     "text": [
      "true: Taking pred: Taking\n"
     ]
    },
    {
     "data": {
      "text/html": [
       "<table><tr><td><b>words</b></td><td style=\"background-color: rgb(255,255,255);\">take</td><td style=\"background-color: rgb(255,255,255);\">the</td><td style=\"background-color: rgb(255,255,255);\">bottle</td><td style=\"background-color: rgb(255,255,255);\">of</td><td style=\"background-color: rgb(255,255,255);\">water</td><td style=\"background-color: rgb(255,255,255);\">on</td><td style=\"background-color: rgb(255,255,255);\">the</td><td style=\"background-color: rgb(255,255,255);\">table</td></tr><tr><td><b>lexical_unit</b></td><td style=\"background-color: rgb(0.0000, 255,0.0000);\">1.0000</td><td style=\"background-color: rgb(255.0000, 255,255.0000);\">0.0000</td><td style=\"background-color: rgb(255.0000, 255,255.0000);\">0.0000</td><td style=\"background-color: rgb(255.0000, 255,255.0000);\">0.0000</td><td style=\"background-color: rgb(255.0000, 255,255.0000);\">0.0000</td><td style=\"background-color: rgb(255.0000, 255,255.0000);\">0.0000</td><td style=\"background-color: rgb(255.0000, 255,255.0000);\">0.0000</td><td style=\"background-color: rgb(255.0000, 255,255.0000);\">0.0000</td></tr><tr><td><b>attention_intent</b></td><td style=\"background-color: rgb(254.0922, 255,254.0922);\">0.0036</td><td style=\"background-color: rgb(27.0835, 255,27.0835);\">0.8938</td><td style=\"background-color: rgb(237.6360, 255,237.6360);\">0.0681</td><td style=\"background-color: rgb(249.3392, 255,249.3392);\">0.0222</td><td style=\"background-color: rgb(254.7796, 255,254.7796);\">0.0009</td><td style=\"background-color: rgb(254.9682, 255,254.9682);\">0.0001</td><td style=\"background-color: rgb(252.2840, 255,252.2840);\">0.0107</td><td style=\"background-color: rgb(255.0000, 255,255.0000);\">0.0000</td></tr><tr><td><b>slots_true</b></td><td style=\"background-color: rgb(255,255,255);\">O</td><td style=\"background-color: rgb(255,255,255);\">B-Theme</td><td style=\"background-color: rgb(255,255,255);\">I-Theme</td><td style=\"background-color: rgb(255,255,255);\">I-Theme</td><td style=\"background-color: rgb(255,255,255);\">I-Theme</td><td style=\"background-color: rgb(255,255,255);\">I-Theme</td><td style=\"background-color: rgb(255,255,255);\">I-Theme</td><td style=\"background-color: rgb(255,255,255);\">I-Theme</td></tr><tr><td><b>slots_pred</b></td><td style=\"background-color: rgb(255,255,255);\">O</td><td style=\"background-color: rgb(255,255,255);\">B-Theme</td><td style=\"background-color: rgb(255,255,255);\">I-Theme</td><td style=\"background-color: rgb(255,255,255);\">I-Theme</td><td style=\"background-color: rgb(255,255,255);\">I-Theme</td><td style=\"background-color: rgb(255,255,255);\">I-Theme</td><td style=\"background-color: rgb(255,255,255);\">I-Theme</td><td style=\"background-color: rgb(255,255,255);\">I-Theme</td></tr></table>"
      ],
      "text/plain": [
       "<IPython.core.display.HTML object>"
      ]
     },
     "metadata": {},
     "output_type": "display_data"
    },
    {
     "name": "stdout",
     "output_type": "stream",
     "text": [
      "true: Entering pred: Entering\n"
     ]
    },
    {
     "data": {
      "text/html": [
       "<table><tr><td><b>words</b></td><td style=\"background-color: rgb(255,255,255);\">enter</td><td style=\"background-color: rgb(255,255,255);\">the</td><td style=\"background-color: rgb(255,255,255);\">door</td></tr><tr><td><b>lexical_unit</b></td><td style=\"background-color: rgb(0.0000, 255,0.0000);\">1.0000</td><td style=\"background-color: rgb(255.0000, 255,255.0000);\">0.0000</td><td style=\"background-color: rgb(255.0000, 255,255.0000);\">0.0000</td></tr><tr><td><b>attention_intent</b></td><td style=\"background-color: rgb(254.8108, 255,254.8108);\">0.0007</td><td style=\"background-color: rgb(0.2664, 255,0.2664);\">0.9990</td><td style=\"background-color: rgb(254.9639, 255,254.9639);\">0.0001</td></tr><tr><td><b>slots_true</b></td><td style=\"background-color: rgb(255,255,255);\">O</td><td style=\"background-color: rgb(255,255,255);\">B-Goal</td><td style=\"background-color: rgb(255,255,255);\">I-Goal</td></tr><tr><td><b>slots_pred</b></td><td style=\"background-color: rgb(255,255,255);\">O</td><td style=\"background-color: rgb(255,255,255);\">B-Goal</td><td style=\"background-color: rgb(255,255,255);\">I-Goal</td></tr></table>"
      ],
      "text/plain": [
       "<IPython.core.display.HTML object>"
      ]
     },
     "metadata": {},
     "output_type": "display_data"
    },
    {
     "name": "stdout",
     "output_type": "stream",
     "text": [
      "true: Searching pred: Searching\n"
     ]
    },
    {
     "data": {
      "text/html": [
       "<table><tr><td><b>words</b></td><td style=\"background-color: rgb(255,255,255);\">look</td><td style=\"background-color: rgb(255,255,255);\">for</td><td style=\"background-color: rgb(255,255,255);\">my</td><td style=\"background-color: rgb(255,255,255);\">mobile</td><td style=\"background-color: rgb(255,255,255);\">phone</td></tr><tr><td><b>lexical_unit</b></td><td style=\"background-color: rgb(0.0000, 255,0.0000);\">1.0000</td><td style=\"background-color: rgb(255.0000, 255,255.0000);\">0.0000</td><td style=\"background-color: rgb(255.0000, 255,255.0000);\">0.0000</td><td style=\"background-color: rgb(255.0000, 255,255.0000);\">0.0000</td><td style=\"background-color: rgb(255.0000, 255,255.0000);\">0.0000</td></tr><tr><td><b>attention_intent</b></td><td style=\"background-color: rgb(254.9926, 255,254.9926);\">0.0000</td><td style=\"background-color: rgb(227.8549, 255,227.8549);\">0.1065</td><td style=\"background-color: rgb(31.8323, 255,31.8323);\">0.8752</td><td style=\"background-color: rgb(250.4054, 255,250.4054);\">0.0180</td><td style=\"background-color: rgb(254.9176, 255,254.9176);\">0.0003</td></tr><tr><td><b>slots_true</b></td><td style=\"background-color: rgb(255,255,255);\">O</td><td style=\"background-color: rgb(255,255,255);\">B-Phenomenon</td><td style=\"background-color: rgb(255,255,255);\">I-Phenomenon</td><td style=\"background-color: rgb(255,255,255);\">I-Phenomenon</td><td style=\"background-color: rgb(255,255,255);\">I-Phenomenon</td></tr><tr><td><b>slots_pred</b></td><td style=\"background-color: rgb(255,255,255);\">O</td><td style=\"background-color: rgb(255,255,255);\">B-Phenomenon</td><td style=\"background-color: rgb(255,255,255);\">I-Phenomenon</td><td style=\"background-color: rgb(255,255,255);\">I-Phenomenon</td><td style=\"background-color: rgb(255,255,255);\">I-Phenomenon</td></tr></table>"
      ],
      "text/plain": [
       "<IPython.core.display.HTML object>"
      ]
     },
     "metadata": {},
     "output_type": "display_data"
    },
    {
     "name": "stdout",
     "output_type": "stream",
     "text": [
      "true: Placing pred: Placing\n"
     ]
    },
    {
     "data": {
      "text/html": [
       "<table><tr><td><b>words</b></td><td style=\"background-color: rgb(255,255,255);\">put</td><td style=\"background-color: rgb(255,255,255);\">the</td><td style=\"background-color: rgb(255,255,255);\">phone</td><td style=\"background-color: rgb(255,255,255);\">in</td><td style=\"background-color: rgb(255,255,255);\">the</td><td style=\"background-color: rgb(255,255,255);\">kitchen</td><td style=\"background-color: rgb(255,255,255);\">stove</td></tr><tr><td><b>lexical_unit</b></td><td style=\"background-color: rgb(0.0000, 255,0.0000);\">1.0000</td><td style=\"background-color: rgb(255.0000, 255,255.0000);\">0.0000</td><td style=\"background-color: rgb(255.0000, 255,255.0000);\">0.0000</td><td style=\"background-color: rgb(255.0000, 255,255.0000);\">0.0000</td><td style=\"background-color: rgb(255.0000, 255,255.0000);\">0.0000</td><td style=\"background-color: rgb(255.0000, 255,255.0000);\">0.0000</td><td style=\"background-color: rgb(255.0000, 255,255.0000);\">0.0000</td></tr><tr><td><b>attention_intent</b></td><td style=\"background-color: rgb(254.9991, 255,254.9991);\">0.0000</td><td style=\"background-color: rgb(254.9774, 255,254.9774);\">0.0001</td><td style=\"background-color: rgb(254.9615, 255,254.9615);\">0.0002</td><td style=\"background-color: rgb(254.2161, 255,254.2161);\">0.0031</td><td style=\"background-color: rgb(36.9990, 255,36.9990);\">0.8549</td><td style=\"background-color: rgb(241.1678, 255,241.1678);\">0.0542</td><td style=\"background-color: rgb(232.6800, 255,232.6800);\">0.0875</td></tr><tr><td><b>slots_true</b></td><td style=\"background-color: rgb(255,255,255);\">O</td><td style=\"background-color: rgb(255,255,255);\">B-Theme</td><td style=\"background-color: rgb(255,255,255);\">I-Theme</td><td style=\"background-color: rgb(255,255,255);\">B-Goal</td><td style=\"background-color: rgb(255,255,255);\">I-Goal</td><td style=\"background-color: rgb(255,255,255);\">I-Goal</td><td style=\"background-color: rgb(255,255,255);\">I-Goal</td></tr><tr><td><b>slots_pred</b></td><td style=\"background-color: rgb(255,255,255);\">O</td><td style=\"background-color: rgb(255,255,255);\">B-Theme</td><td style=\"background-color: rgb(255,255,255);\">I-Theme</td><td style=\"background-color: rgb(255,255,255);\">B-Goal</td><td style=\"background-color: rgb(255,255,255);\">I-Goal</td><td style=\"background-color: rgb(255,255,255);\">I-Goal</td><td style=\"background-color: rgb(255,255,255);\">I-Goal</td></tr></table>"
      ],
      "text/plain": [
       "<IPython.core.display.HTML object>"
      ]
     },
     "metadata": {},
     "output_type": "display_data"
    },
    {
     "name": "stdout",
     "output_type": "stream",
     "text": [
      "true: Placing pred: Placing\n"
     ]
    },
    {
     "data": {
      "text/html": [
       "<table><tr><td><b>words</b></td><td style=\"background-color: rgb(255,255,255);\">and</td><td style=\"background-color: rgb(255,255,255);\">put</td><td style=\"background-color: rgb(255,255,255);\">it</td><td style=\"background-color: rgb(255,255,255);\">on</td><td style=\"background-color: rgb(255,255,255);\">the</td><td style=\"background-color: rgb(255,255,255);\">coffee</td><td style=\"background-color: rgb(255,255,255);\">table</td></tr><tr><td><b>lexical_unit</b></td><td style=\"background-color: rgb(255.0000, 255,255.0000);\">0.0000</td><td style=\"background-color: rgb(0.0000, 255,0.0000);\">1.0000</td><td style=\"background-color: rgb(255.0000, 255,255.0000);\">0.0000</td><td style=\"background-color: rgb(255.0000, 255,255.0000);\">0.0000</td><td style=\"background-color: rgb(255.0000, 255,255.0000);\">0.0000</td><td style=\"background-color: rgb(255.0000, 255,255.0000);\">0.0000</td><td style=\"background-color: rgb(255.0000, 255,255.0000);\">0.0000</td></tr><tr><td><b>attention_intent</b></td><td style=\"background-color: rgb(254.9999, 255,254.9999);\">0.0000</td><td style=\"background-color: rgb(254.9182, 255,254.9182);\">0.0003</td><td style=\"background-color: rgb(254.7609, 255,254.7609);\">0.0009</td><td style=\"background-color: rgb(226.3403, 255,226.3403);\">0.1124</td><td style=\"background-color: rgb(87.7540, 255,87.7540);\">0.6559</td><td style=\"background-color: rgb(226.5090, 255,226.5090);\">0.1117</td><td style=\"background-color: rgb(224.7209, 255,224.7209);\">0.1187</td></tr><tr><td><b>slots_true</b></td><td style=\"background-color: rgb(255,255,255);\">O</td><td style=\"background-color: rgb(255,255,255);\">O</td><td style=\"background-color: rgb(255,255,255);\">B-Theme</td><td style=\"background-color: rgb(255,255,255);\">B-Goal</td><td style=\"background-color: rgb(255,255,255);\">I-Goal</td><td style=\"background-color: rgb(255,255,255);\">I-Goal</td><td style=\"background-color: rgb(255,255,255);\">I-Goal</td></tr><tr><td><b>slots_pred</b></td><td style=\"background-color: rgb(255,255,255);\">O</td><td style=\"background-color: rgb(255,255,255);\">O</td><td style=\"background-color: rgb(255,255,255);\">B-Theme</td><td style=\"background-color: rgb(255,255,255);\">B-Goal</td><td style=\"background-color: rgb(255,255,255);\">I-Goal</td><td style=\"background-color: rgb(255,255,255);\">I-Goal</td><td style=\"background-color: rgb(255,255,255);\">I-Goal</td></tr></table>"
      ],
      "text/plain": [
       "<IPython.core.display.HTML object>"
      ]
     },
     "metadata": {},
     "output_type": "display_data"
    },
    {
     "name": "stdout",
     "output_type": "stream",
     "text": [
      "true: Bringing pred: Bringing\n"
     ]
    },
    {
     "data": {
      "text/html": [
       "<table><tr><td><b>words</b></td><td style=\"background-color: rgb(255,255,255);\">bring</td><td style=\"background-color: rgb(255,255,255);\">me</td><td style=\"background-color: rgb(255,255,255);\">the</td><td style=\"background-color: rgb(255,255,255);\">glasses</td></tr><tr><td><b>lexical_unit</b></td><td style=\"background-color: rgb(0.0000, 255,0.0000);\">1.0000</td><td style=\"background-color: rgb(255.0000, 255,255.0000);\">0.0000</td><td style=\"background-color: rgb(255.0000, 255,255.0000);\">0.0000</td><td style=\"background-color: rgb(255.0000, 255,255.0000);\">0.0000</td></tr><tr><td><b>attention_intent</b></td><td style=\"background-color: rgb(254.5015, 255,254.5015);\">0.0020</td><td style=\"background-color: rgb(5.3923, 255,5.3923);\">0.9789</td><td style=\"background-color: rgb(250.1098, 255,250.1098);\">0.0192</td><td style=\"background-color: rgb(254.9971, 255,254.9971);\">0.0000</td></tr><tr><td><b>slots_true</b></td><td style=\"background-color: rgb(255,255,255);\">O</td><td style=\"background-color: rgb(255,255,255);\">B-Beneficiary</td><td style=\"background-color: rgb(255,255,255);\">B-Theme</td><td style=\"background-color: rgb(255,255,255);\">I-Theme</td></tr><tr><td><b>slots_pred</b></td><td style=\"background-color: rgb(255,255,255);\">O</td><td style=\"background-color: rgb(255,255,255);\">B-Beneficiary</td><td style=\"background-color: rgb(255,255,255);\">B-Theme</td><td style=\"background-color: rgb(255,255,255);\">I-Theme</td></tr></table>"
      ],
      "text/plain": [
       "<IPython.core.display.HTML object>"
      ]
     },
     "metadata": {},
     "output_type": "display_data"
    },
    {
     "name": "stdout",
     "output_type": "stream",
     "text": [
      "true: Searching pred: Searching\n"
     ]
    },
    {
     "data": {
      "text/html": [
       "<table><tr><td><b>words</b></td><td style=\"background-color: rgb(255,255,255);\">and</td><td style=\"background-color: rgb(255,255,255);\">search</td><td style=\"background-color: rgb(255,255,255);\">for</td><td style=\"background-color: rgb(255,255,255);\">my</td><td style=\"background-color: rgb(255,255,255);\">hat</td></tr><tr><td><b>lexical_unit</b></td><td style=\"background-color: rgb(255.0000, 255,255.0000);\">0.0000</td><td style=\"background-color: rgb(0.0000, 255,0.0000);\">1.0000</td><td style=\"background-color: rgb(255.0000, 255,255.0000);\">0.0000</td><td style=\"background-color: rgb(255.0000, 255,255.0000);\">0.0000</td><td style=\"background-color: rgb(255.0000, 255,255.0000);\">0.0000</td></tr><tr><td><b>attention_intent</b></td><td style=\"background-color: rgb(255.0000, 255,255.0000);\">0.0000</td><td style=\"background-color: rgb(254.9977, 255,254.9977);\">0.0000</td><td style=\"background-color: rgb(217.9470, 255,217.9470);\">0.1453</td><td style=\"background-color: rgb(39.4079, 255,39.4079);\">0.8455</td><td style=\"background-color: rgb(252.6479, 255,252.6479);\">0.0092</td></tr><tr><td><b>slots_true</b></td><td style=\"background-color: rgb(255,255,255);\">O</td><td style=\"background-color: rgb(255,255,255);\">O</td><td style=\"background-color: rgb(255,255,255);\">B-Phenomenon</td><td style=\"background-color: rgb(255,255,255);\">I-Phenomenon</td><td style=\"background-color: rgb(255,255,255);\">I-Phenomenon</td></tr><tr><td><b>slots_pred</b></td><td style=\"background-color: rgb(255,255,255);\">O</td><td style=\"background-color: rgb(255,255,255);\">O</td><td style=\"background-color: rgb(255,255,255);\">B-Phenomenon</td><td style=\"background-color: rgb(255,255,255);\">I-Phenomenon</td><td style=\"background-color: rgb(255,255,255);\">I-Phenomenon</td></tr></table>"
      ],
      "text/plain": [
       "<IPython.core.display.HTML object>"
      ]
     },
     "metadata": {},
     "output_type": "display_data"
    },
    {
     "name": "stdout",
     "output_type": "stream",
     "text": [
      "true: Taking pred: Taking\n"
     ]
    },
    {
     "data": {
      "text/html": [
       "<table><tr><td><b>words</b></td><td style=\"background-color: rgb(255,255,255);\">take</td><td style=\"background-color: rgb(255,255,255);\">the</td><td style=\"background-color: rgb(255,255,255);\">remote</td><td style=\"background-color: rgb(255,255,255);\">control</td></tr><tr><td><b>lexical_unit</b></td><td style=\"background-color: rgb(0.0000, 255,0.0000);\">1.0000</td><td style=\"background-color: rgb(255.0000, 255,255.0000);\">0.0000</td><td style=\"background-color: rgb(255.0000, 255,255.0000);\">0.0000</td><td style=\"background-color: rgb(255.0000, 255,255.0000);\">0.0000</td></tr><tr><td><b>attention_intent</b></td><td style=\"background-color: rgb(246.3929, 255,246.3929);\">0.0338</td><td style=\"background-color: rgb(19.7180, 255,19.7180);\">0.9227</td><td style=\"background-color: rgb(243.9049, 255,243.9049);\">0.0435</td><td style=\"background-color: rgb(254.9998, 255,254.9998);\">0.0000</td></tr><tr><td><b>slots_true</b></td><td style=\"background-color: rgb(255,255,255);\">O</td><td style=\"background-color: rgb(255,255,255);\">B-Theme</td><td style=\"background-color: rgb(255,255,255);\">I-Theme</td><td style=\"background-color: rgb(255,255,255);\">I-Theme</td></tr><tr><td><b>slots_pred</b></td><td style=\"background-color: rgb(255,255,255);\">O</td><td style=\"background-color: rgb(255,255,255);\">B-Theme</td><td style=\"background-color: rgb(255,255,255);\">I-Theme</td><td style=\"background-color: rgb(255,255,255);\">I-Theme</td></tr></table>"
      ],
      "text/plain": [
       "<IPython.core.display.HTML object>"
      ]
     },
     "metadata": {},
     "output_type": "display_data"
    },
    {
     "name": "stdout",
     "output_type": "stream",
     "text": [
      "true: Following pred: Following\n"
     ]
    },
    {
     "data": {
      "text/html": [
       "<table><tr><td><b>words</b></td><td style=\"background-color: rgb(255,255,255);\">follow</td><td style=\"background-color: rgb(255,255,255);\">my</td><td style=\"background-color: rgb(255,255,255);\">friend</td><td style=\"background-color: rgb(255,255,255);\">into</td><td style=\"background-color: rgb(255,255,255);\">the</td><td style=\"background-color: rgb(255,255,255);\">living</td><td style=\"background-color: rgb(255,255,255);\">room</td></tr><tr><td><b>lexical_unit</b></td><td style=\"background-color: rgb(0.0000, 255,0.0000);\">1.0000</td><td style=\"background-color: rgb(255.0000, 255,255.0000);\">0.0000</td><td style=\"background-color: rgb(255.0000, 255,255.0000);\">0.0000</td><td style=\"background-color: rgb(255.0000, 255,255.0000);\">0.0000</td><td style=\"background-color: rgb(255.0000, 255,255.0000);\">0.0000</td><td style=\"background-color: rgb(255.0000, 255,255.0000);\">0.0000</td><td style=\"background-color: rgb(255.0000, 255,255.0000);\">0.0000</td></tr><tr><td><b>attention_intent</b></td><td style=\"background-color: rgb(83.3525, 255,83.3525);\">0.6731</td><td style=\"background-color: rgb(189.2945, 255,189.2945);\">0.2577</td><td style=\"background-color: rgb(254.9114, 255,254.9114);\">0.0003</td><td style=\"background-color: rgb(238.9067, 255,238.9067);\">0.0631</td><td style=\"background-color: rgb(253.6055, 255,253.6055);\">0.0055</td><td style=\"background-color: rgb(254.9329, 255,254.9329);\">0.0003</td><td style=\"background-color: rgb(255.0000, 255,255.0000);\">0.0000</td></tr><tr><td><b>slots_true</b></td><td style=\"background-color: rgb(255,255,255);\">O</td><td style=\"background-color: rgb(255,255,255);\">B-Cotheme</td><td style=\"background-color: rgb(255,255,255);\">I-Cotheme</td><td style=\"background-color: rgb(255,255,255);\">B-Goal</td><td style=\"background-color: rgb(255,255,255);\">I-Goal</td><td style=\"background-color: rgb(255,255,255);\">I-Goal</td><td style=\"background-color: rgb(255,255,255);\">I-Goal</td></tr><tr><td><b>slots_pred</b></td><td style=\"background-color: rgb(255,255,255);\">O</td><td style=\"background-color: rgb(255,255,255);\">B-Cotheme</td><td style=\"background-color: rgb(255,255,255);\">I-Cotheme</td><td style=\"background-color: rgb(255,255,255);\">B-Goal</td><td style=\"background-color: rgb(255,255,255);\">I-Goal</td><td style=\"background-color: rgb(255,255,255);\">I-Goal</td><td style=\"background-color: rgb(255,255,255);\">I-Goal</td></tr></table>"
      ],
      "text/plain": [
       "<IPython.core.display.HTML object>"
      ]
     },
     "metadata": {},
     "output_type": "display_data"
    },
    {
     "name": "stdout",
     "output_type": "stream",
     "text": [
      "true: Being_located pred: Being_located\n"
     ]
    },
    {
     "data": {
      "text/html": [
       "<table><tr><td><b>words</b></td><td style=\"background-color: rgb(255,255,255);\">there</td><td style=\"background-color: rgb(255,255,255);\">are</td><td style=\"background-color: rgb(255,255,255);\">some</td><td style=\"background-color: rgb(255,255,255);\">napkins</td><td style=\"background-color: rgb(255,255,255);\">on</td><td style=\"background-color: rgb(255,255,255);\">the</td><td style=\"background-color: rgb(255,255,255);\">kitchen</td><td style=\"background-color: rgb(255,255,255);\">table</td></tr><tr><td><b>lexical_unit</b></td><td style=\"background-color: rgb(0.0000, 255,0.0000);\">1.0000</td><td style=\"background-color: rgb(0.0000, 255,0.0000);\">1.0000</td><td style=\"background-color: rgb(255.0000, 255,255.0000);\">0.0000</td><td style=\"background-color: rgb(255.0000, 255,255.0000);\">0.0000</td><td style=\"background-color: rgb(255.0000, 255,255.0000);\">0.0000</td><td style=\"background-color: rgb(255.0000, 255,255.0000);\">0.0000</td><td style=\"background-color: rgb(255.0000, 255,255.0000);\">0.0000</td><td style=\"background-color: rgb(255.0000, 255,255.0000);\">0.0000</td></tr><tr><td><b>attention_intent</b></td><td style=\"background-color: rgb(255.0000, 255,255.0000);\">0.0000</td><td style=\"background-color: rgb(254.9986, 255,254.9986);\">0.0000</td><td style=\"background-color: rgb(254.8593, 255,254.8593);\">0.0006</td><td style=\"background-color: rgb(254.9914, 255,254.9914);\">0.0000</td><td style=\"background-color: rgb(228.3687, 255,228.3687);\">0.1044</td><td style=\"background-color: rgb(28.9671, 255,28.9671);\">0.8864</td><td style=\"background-color: rgb(252.8729, 255,252.8729);\">0.0083</td><td style=\"background-color: rgb(254.9487, 255,254.9487);\">0.0002</td></tr><tr><td><b>slots_true</b></td><td style=\"background-color: rgb(255,255,255);\">O</td><td style=\"background-color: rgb(255,255,255);\">O</td><td style=\"background-color: rgb(255,255,255);\">B-Theme</td><td style=\"background-color: rgb(255,255,255);\">I-Theme</td><td style=\"background-color: rgb(255,255,255);\">B-Location</td><td style=\"background-color: rgb(255,255,255);\">I-Location</td><td style=\"background-color: rgb(255,255,255);\">I-Location</td><td style=\"background-color: rgb(255,255,255);\">I-Location</td></tr><tr><td><b>slots_pred</b></td><td style=\"background-color: rgb(255,255,255);\">O</td><td style=\"background-color: rgb(255,255,255);\">O</td><td style=\"background-color: rgb(255,255,255);\">B-Theme</td><td style=\"background-color: rgb(255,255,255);\">I-Theme</td><td style=\"background-color: rgb(255,255,255);\">B-Location</td><td style=\"background-color: rgb(255,255,255);\">I-Location</td><td style=\"background-color: rgb(255,255,255);\">I-Location</td><td style=\"background-color: rgb(255,255,255);\">I-Location</td></tr></table>"
      ],
      "text/plain": [
       "<IPython.core.display.HTML object>"
      ]
     },
     "metadata": {},
     "output_type": "display_data"
    },
    {
     "name": "stdout",
     "output_type": "stream",
     "text": [
      "true: Bringing pred: Bringing\n"
     ]
    },
    {
     "data": {
      "text/html": [
       "<table><tr><td><b>words</b></td><td style=\"background-color: rgb(255,255,255);\">robot</td><td style=\"background-color: rgb(255,255,255);\">can</td><td style=\"background-color: rgb(255,255,255);\">you</td><td style=\"background-color: rgb(255,255,255);\">bring</td><td style=\"background-color: rgb(255,255,255);\">me</td><td style=\"background-color: rgb(255,255,255);\">a</td><td style=\"background-color: rgb(255,255,255);\">towel</td></tr><tr><td><b>lexical_unit</b></td><td style=\"background-color: rgb(255.0000, 255,255.0000);\">0.0000</td><td style=\"background-color: rgb(255.0000, 255,255.0000);\">0.0000</td><td style=\"background-color: rgb(255.0000, 255,255.0000);\">0.0000</td><td style=\"background-color: rgb(0.0000, 255,0.0000);\">1.0000</td><td style=\"background-color: rgb(255.0000, 255,255.0000);\">0.0000</td><td style=\"background-color: rgb(255.0000, 255,255.0000);\">0.0000</td><td style=\"background-color: rgb(255.0000, 255,255.0000);\">0.0000</td></tr><tr><td><b>attention_intent</b></td><td style=\"background-color: rgb(255.0000, 255,255.0000);\">0.0000</td><td style=\"background-color: rgb(255.0000, 255,255.0000);\">0.0000</td><td style=\"background-color: rgb(255.0000, 255,255.0000);\">0.0000</td><td style=\"background-color: rgb(253.1449, 255,253.1449);\">0.0073</td><td style=\"background-color: rgb(4.2900, 255,4.2900);\">0.9832</td><td style=\"background-color: rgb(252.5716, 255,252.5716);\">0.0095</td><td style=\"background-color: rgb(254.9939, 255,254.9939);\">0.0000</td></tr><tr><td><b>slots_true</b></td><td style=\"background-color: rgb(255,255,255);\">O</td><td style=\"background-color: rgb(255,255,255);\">O</td><td style=\"background-color: rgb(255,255,255);\">B-Agent</td><td style=\"background-color: rgb(255,255,255);\">O</td><td style=\"background-color: rgb(255,255,255);\">B-Beneficiary</td><td style=\"background-color: rgb(255,255,255);\">B-Theme</td><td style=\"background-color: rgb(255,255,255);\">I-Theme</td></tr><tr><td><b>slots_pred</b></td><td style=\"background-color: rgb(255,255,255);\">O</td><td style=\"background-color: rgb(255,255,255);\">O</td><td style=\"background-color: rgb(255,255,255);\">B-Agent</td><td style=\"background-color: rgb(255,255,255);\">O</td><td style=\"background-color: rgb(255,255,255);\">B-Beneficiary</td><td style=\"background-color: rgb(255,255,255);\">B-Theme</td><td style=\"background-color: rgb(255,255,255);\">I-Theme</td></tr></table>"
      ],
      "text/plain": [
       "<IPython.core.display.HTML object>"
      ]
     },
     "metadata": {},
     "output_type": "display_data"
    },
    {
     "name": "stdout",
     "output_type": "stream",
     "text": [
      "true: Bringing pred: Bringing\n"
     ]
    },
    {
     "data": {
      "text/html": [
       "<table><tr><td><b>words</b></td><td style=\"background-color: rgb(255,255,255);\">take</td><td style=\"background-color: rgb(255,255,255);\">the</td><td style=\"background-color: rgb(255,255,255);\">jar</td><td style=\"background-color: rgb(255,255,255);\">to</td><td style=\"background-color: rgb(255,255,255);\">the</td><td style=\"background-color: rgb(255,255,255);\">table</td><td style=\"background-color: rgb(255,255,255);\">of</td><td style=\"background-color: rgb(255,255,255);\">the</td><td style=\"background-color: rgb(255,255,255);\">kitchen</td></tr><tr><td><b>lexical_unit</b></td><td style=\"background-color: rgb(0.0000, 255,0.0000);\">1.0000</td><td style=\"background-color: rgb(255.0000, 255,255.0000);\">0.0000</td><td style=\"background-color: rgb(255.0000, 255,255.0000);\">0.0000</td><td style=\"background-color: rgb(255.0000, 255,255.0000);\">0.0000</td><td style=\"background-color: rgb(255.0000, 255,255.0000);\">0.0000</td><td style=\"background-color: rgb(255.0000, 255,255.0000);\">0.0000</td><td style=\"background-color: rgb(255.0000, 255,255.0000);\">0.0000</td><td style=\"background-color: rgb(255.0000, 255,255.0000);\">0.0000</td><td style=\"background-color: rgb(255.0000, 255,255.0000);\">0.0000</td></tr><tr><td><b>attention_intent</b></td><td style=\"background-color: rgb(254.9980, 255,254.9980);\">0.0000</td><td style=\"background-color: rgb(254.5813, 255,254.5813);\">0.0016</td><td style=\"background-color: rgb(255.0000, 255,255.0000);\">0.0000</td><td style=\"background-color: rgb(2.8978, 255,2.8978);\">0.9886</td><td style=\"background-color: rgb(253.5463, 255,253.5463);\">0.0057</td><td style=\"background-color: rgb(254.9641, 255,254.9641);\">0.0001</td><td style=\"background-color: rgb(254.3490, 255,254.3490);\">0.0026</td><td style=\"background-color: rgb(254.6692, 255,254.6692);\">0.0013</td><td style=\"background-color: rgb(254.9999, 255,254.9999);\">0.0000</td></tr><tr><td><b>slots_true</b></td><td style=\"background-color: rgb(255,255,255);\">O</td><td style=\"background-color: rgb(255,255,255);\">B-Theme</td><td style=\"background-color: rgb(255,255,255);\">I-Theme</td><td style=\"background-color: rgb(255,255,255);\">B-Goal</td><td style=\"background-color: rgb(255,255,255);\">I-Goal</td><td style=\"background-color: rgb(255,255,255);\">I-Goal</td><td style=\"background-color: rgb(255,255,255);\">I-Goal</td><td style=\"background-color: rgb(255,255,255);\">I-Goal</td><td style=\"background-color: rgb(255,255,255);\">I-Goal</td></tr><tr><td><b>slots_pred</b></td><td style=\"background-color: rgb(255,255,255);\">O</td><td style=\"background-color: rgb(255,255,255);\">B-Theme</td><td style=\"background-color: rgb(255,255,255);\">I-Theme</td><td style=\"background-color: rgb(255,255,255);\">B-Goal</td><td style=\"background-color: rgb(255,255,255);\">I-Goal</td><td style=\"background-color: rgb(255,255,255);\">I-Goal</td><td style=\"background-color: rgb(255,255,255);\">I-Goal</td><td style=\"background-color: rgb(255,255,255);\">I-Goal</td><td style=\"background-color: rgb(255,255,255);\">I-Goal</td></tr></table>"
      ],
      "text/plain": [
       "<IPython.core.display.HTML object>"
      ]
     },
     "metadata": {},
     "output_type": "display_data"
    },
    {
     "name": "stdout",
     "output_type": "stream",
     "text": [
      "true: Bringing pred: Bringing\n"
     ]
    },
    {
     "data": {
      "text/html": [
       "<table><tr><td><b>words</b></td><td style=\"background-color: rgb(255,255,255);\">and</td><td style=\"background-color: rgb(255,255,255);\">bring</td><td style=\"background-color: rgb(255,255,255);\">it</td><td style=\"background-color: rgb(255,255,255);\">here</td></tr><tr><td><b>lexical_unit</b></td><td style=\"background-color: rgb(255.0000, 255,255.0000);\">0.0000</td><td style=\"background-color: rgb(0.0000, 255,0.0000);\">1.0000</td><td style=\"background-color: rgb(255.0000, 255,255.0000);\">0.0000</td><td style=\"background-color: rgb(255.0000, 255,255.0000);\">0.0000</td></tr><tr><td><b>attention_intent</b></td><td style=\"background-color: rgb(254.9999, 255,254.9999);\">0.0000</td><td style=\"background-color: rgb(251.4665, 255,251.4665);\">0.0139</td><td style=\"background-color: rgb(73.4248, 255,73.4248);\">0.7121</td><td style=\"background-color: rgb(185.1123, 255,185.1123);\">0.2741</td></tr><tr><td><b>slots_true</b></td><td style=\"background-color: rgb(255,255,255);\">O</td><td style=\"background-color: rgb(255,255,255);\">O</td><td style=\"background-color: rgb(255,255,255);\">B-Theme</td><td style=\"background-color: rgb(255,255,255);\">B-Goal</td></tr><tr><td><b>slots_pred</b></td><td style=\"background-color: rgb(255,255,255);\">O</td><td style=\"background-color: rgb(255,255,255);\">O</td><td style=\"background-color: rgb(255,255,255);\">B-Theme</td><td style=\"background-color: rgb(255,255,255);\">B-Goal</td></tr></table>"
      ],
      "text/plain": [
       "<IPython.core.display.HTML object>"
      ]
     },
     "metadata": {},
     "output_type": "display_data"
    },
    {
     "name": "stdout",
     "output_type": "stream",
     "text": [
      "true: Searching pred: Searching\n"
     ]
    },
    {
     "data": {
      "text/html": [
       "<table><tr><td><b>words</b></td><td style=\"background-color: rgb(255,255,255);\">can</td><td style=\"background-color: rgb(255,255,255);\">you</td><td style=\"background-color: rgb(255,255,255);\">please</td><td style=\"background-color: rgb(255,255,255);\">search</td><td style=\"background-color: rgb(255,255,255);\">the</td><td style=\"background-color: rgb(255,255,255);\">book</td></tr><tr><td><b>lexical_unit</b></td><td style=\"background-color: rgb(255.0000, 255,255.0000);\">0.0000</td><td style=\"background-color: rgb(255.0000, 255,255.0000);\">0.0000</td><td style=\"background-color: rgb(255.0000, 255,255.0000);\">0.0000</td><td style=\"background-color: rgb(0.0000, 255,0.0000);\">1.0000</td><td style=\"background-color: rgb(255.0000, 255,255.0000);\">0.0000</td><td style=\"background-color: rgb(255.0000, 255,255.0000);\">0.0000</td></tr><tr><td><b>attention_intent</b></td><td style=\"background-color: rgb(255.0000, 255,255.0000);\">0.0000</td><td style=\"background-color: rgb(255.0000, 255,255.0000);\">0.0000</td><td style=\"background-color: rgb(255.0000, 255,255.0000);\">0.0000</td><td style=\"background-color: rgb(254.9840, 255,254.9840);\">0.0001</td><td style=\"background-color: rgb(41.0012, 255,41.0012);\">0.8392</td><td style=\"background-color: rgb(214.0154, 255,214.0154);\">0.1607</td></tr><tr><td><b>slots_true</b></td><td style=\"background-color: rgb(255,255,255);\">O</td><td style=\"background-color: rgb(255,255,255);\">B-Cognizer</td><td style=\"background-color: rgb(255,255,255);\">O</td><td style=\"background-color: rgb(255,255,255);\">O</td><td style=\"background-color: rgb(255,255,255);\">B-Phenomenon</td><td style=\"background-color: rgb(255,255,255);\">I-Phenomenon</td></tr><tr><td><b>slots_pred</b></td><td style=\"background-color: rgb(255,255,255);\">O</td><td style=\"background-color: rgb(255,255,255);\">B-Cognizer</td><td style=\"background-color: rgb(255,255,255);\">O</td><td style=\"background-color: rgb(255,255,255);\">O</td><td style=\"background-color: rgb(255,255,255);\">B-Phenomenon</td><td style=\"background-color: rgb(255,255,255);\">I-Phenomenon</td></tr></table>"
      ],
      "text/plain": [
       "<IPython.core.display.HTML object>"
      ]
     },
     "metadata": {},
     "output_type": "display_data"
    },
    {
     "name": "stdout",
     "output_type": "stream",
     "text": [
      "true: Bringing pred: Bringing\n"
     ]
    },
    {
     "data": {
      "text/html": [
       "<table><tr><td><b>words</b></td><td style=\"background-color: rgb(255,255,255);\">can</td><td style=\"background-color: rgb(255,255,255);\">you</td><td style=\"background-color: rgb(255,255,255);\">bring</td><td style=\"background-color: rgb(255,255,255);\">me</td><td style=\"background-color: rgb(255,255,255);\">my</td><td style=\"background-color: rgb(255,255,255);\">tablet</td></tr><tr><td><b>lexical_unit</b></td><td style=\"background-color: rgb(255.0000, 255,255.0000);\">0.0000</td><td style=\"background-color: rgb(255.0000, 255,255.0000);\">0.0000</td><td style=\"background-color: rgb(0.0000, 255,0.0000);\">1.0000</td><td style=\"background-color: rgb(255.0000, 255,255.0000);\">0.0000</td><td style=\"background-color: rgb(255.0000, 255,255.0000);\">0.0000</td><td style=\"background-color: rgb(255.0000, 255,255.0000);\">0.0000</td></tr><tr><td><b>attention_intent</b></td><td style=\"background-color: rgb(255.0000, 255,255.0000);\">0.0000</td><td style=\"background-color: rgb(255.0000, 255,255.0000);\">0.0000</td><td style=\"background-color: rgb(249.9829, 255,249.9829);\">0.0197</td><td style=\"background-color: rgb(8.3082, 255,8.3082);\">0.9674</td><td style=\"background-color: rgb(251.7737, 255,251.7737);\">0.0127</td><td style=\"background-color: rgb(254.9355, 255,254.9355);\">0.0003</td></tr><tr><td><b>slots_true</b></td><td style=\"background-color: rgb(255,255,255);\">O</td><td style=\"background-color: rgb(255,255,255);\">B-Agent</td><td style=\"background-color: rgb(255,255,255);\">O</td><td style=\"background-color: rgb(255,255,255);\">B-Beneficiary</td><td style=\"background-color: rgb(255,255,255);\">B-Theme</td><td style=\"background-color: rgb(255,255,255);\">I-Theme</td></tr><tr><td><b>slots_pred</b></td><td style=\"background-color: rgb(255,255,255);\">O</td><td style=\"background-color: rgb(255,255,255);\">B-Agent</td><td style=\"background-color: rgb(255,255,255);\">O</td><td style=\"background-color: rgb(255,255,255);\">B-Beneficiary</td><td style=\"background-color: rgb(255,255,255);\">B-Theme</td><td style=\"background-color: rgb(255,255,255);\">I-Theme</td></tr></table>"
      ],
      "text/plain": [
       "<IPython.core.display.HTML object>"
      ]
     },
     "metadata": {},
     "output_type": "display_data"
    },
    {
     "name": "stdout",
     "output_type": "stream",
     "text": [
      "true: Searching pred: Searching\n"
     ]
    },
    {
     "data": {
      "text/html": [
       "<table><tr><td><b>words</b></td><td style=\"background-color: rgb(255,255,255);\">robot</td><td style=\"background-color: rgb(255,255,255);\">please</td><td style=\"background-color: rgb(255,255,255);\">search</td><td style=\"background-color: rgb(255,255,255);\">for</td><td style=\"background-color: rgb(255,255,255);\">the</td><td style=\"background-color: rgb(255,255,255);\">horn</td><td style=\"background-color: rgb(255,255,255);\">glasses</td></tr><tr><td><b>lexical_unit</b></td><td style=\"background-color: rgb(255.0000, 255,255.0000);\">0.0000</td><td style=\"background-color: rgb(255.0000, 255,255.0000);\">0.0000</td><td style=\"background-color: rgb(0.0000, 255,0.0000);\">1.0000</td><td style=\"background-color: rgb(255.0000, 255,255.0000);\">0.0000</td><td style=\"background-color: rgb(255.0000, 255,255.0000);\">0.0000</td><td style=\"background-color: rgb(255.0000, 255,255.0000);\">0.0000</td><td style=\"background-color: rgb(255.0000, 255,255.0000);\">0.0000</td></tr><tr><td><b>attention_intent</b></td><td style=\"background-color: rgb(255.0000, 255,255.0000);\">0.0000</td><td style=\"background-color: rgb(255.0000, 255,255.0000);\">0.0000</td><td style=\"background-color: rgb(254.9974, 255,254.9974);\">0.0000</td><td style=\"background-color: rgb(248.4526, 255,248.4526);\">0.0257</td><td style=\"background-color: rgb(97.5554, 255,97.5554);\">0.6174</td><td style=\"background-color: rgb(171.6531, 255,171.6531);\">0.3269</td><td style=\"background-color: rgb(247.3428, 255,247.3428);\">0.0300</td></tr><tr><td><b>slots_true</b></td><td style=\"background-color: rgb(255,255,255);\">O</td><td style=\"background-color: rgb(255,255,255);\">O</td><td style=\"background-color: rgb(255,255,255);\">O</td><td style=\"background-color: rgb(255,255,255);\">B-Phenomenon</td><td style=\"background-color: rgb(255,255,255);\">I-Phenomenon</td><td style=\"background-color: rgb(255,255,255);\">I-Phenomenon</td><td style=\"background-color: rgb(255,255,255);\">I-Phenomenon</td></tr><tr><td><b>slots_pred</b></td><td style=\"background-color: rgb(255,255,255);\">O</td><td style=\"background-color: rgb(255,255,255);\">O</td><td style=\"background-color: rgb(255,255,255);\">O</td><td style=\"background-color: rgb(255,255,255);\">B-Phenomenon</td><td style=\"background-color: rgb(255,255,255);\">I-Phenomenon</td><td style=\"background-color: rgb(255,255,255);\">I-Phenomenon</td><td style=\"background-color: rgb(255,255,255);\">I-Phenomenon</td></tr></table>"
      ],
      "text/plain": [
       "<IPython.core.display.HTML object>"
      ]
     },
     "metadata": {},
     "output_type": "display_data"
    },
    {
     "name": "stdout",
     "output_type": "stream",
     "text": [
      "true: Bringing pred: Bringing\n"
     ]
    },
    {
     "data": {
      "text/html": [
       "<table><tr><td><b>words</b></td><td style=\"background-color: rgb(255,255,255);\">please</td><td style=\"background-color: rgb(255,255,255);\">bring</td><td style=\"background-color: rgb(255,255,255);\">the</td><td style=\"background-color: rgb(255,255,255);\">mobile</td><td style=\"background-color: rgb(255,255,255);\">phone</td><td style=\"background-color: rgb(255,255,255);\">to</td><td style=\"background-color: rgb(255,255,255);\">the</td><td style=\"background-color: rgb(255,255,255);\">livingroom</td></tr><tr><td><b>lexical_unit</b></td><td style=\"background-color: rgb(255.0000, 255,255.0000);\">0.0000</td><td style=\"background-color: rgb(0.0000, 255,0.0000);\">1.0000</td><td style=\"background-color: rgb(255.0000, 255,255.0000);\">0.0000</td><td style=\"background-color: rgb(255.0000, 255,255.0000);\">0.0000</td><td style=\"background-color: rgb(255.0000, 255,255.0000);\">0.0000</td><td style=\"background-color: rgb(255.0000, 255,255.0000);\">0.0000</td><td style=\"background-color: rgb(255.0000, 255,255.0000);\">0.0000</td><td style=\"background-color: rgb(255.0000, 255,255.0000);\">0.0000</td></tr><tr><td><b>attention_intent</b></td><td style=\"background-color: rgb(255.0000, 255,255.0000);\">0.0000</td><td style=\"background-color: rgb(254.9674, 255,254.9674);\">0.0001</td><td style=\"background-color: rgb(254.4360, 255,254.4360);\">0.0022</td><td style=\"background-color: rgb(254.7077, 255,254.7077);\">0.0011</td><td style=\"background-color: rgb(254.9883, 255,254.9883);\">0.0000</td><td style=\"background-color: rgb(17.7014, 255,17.7014);\">0.9306</td><td style=\"background-color: rgb(238.5719, 255,238.5719);\">0.0644</td><td style=\"background-color: rgb(254.6288, 255,254.6288);\">0.0015</td></tr><tr><td><b>slots_true</b></td><td style=\"background-color: rgb(255,255,255);\">O</td><td style=\"background-color: rgb(255,255,255);\">O</td><td style=\"background-color: rgb(255,255,255);\">B-Theme</td><td style=\"background-color: rgb(255,255,255);\">I-Theme</td><td style=\"background-color: rgb(255,255,255);\">I-Theme</td><td style=\"background-color: rgb(255,255,255);\">B-Goal</td><td style=\"background-color: rgb(255,255,255);\">I-Goal</td><td style=\"background-color: rgb(255,255,255);\">I-Goal</td></tr><tr><td><b>slots_pred</b></td><td style=\"background-color: rgb(255,255,255);\">O</td><td style=\"background-color: rgb(255,255,255);\">O</td><td style=\"background-color: rgb(255,255,255);\">B-Theme</td><td style=\"background-color: rgb(255,255,255);\">I-Theme</td><td style=\"background-color: rgb(255,255,255);\">I-Theme</td><td style=\"background-color: rgb(255,255,255);\">B-Goal</td><td style=\"background-color: rgb(255,255,255);\">I-Goal</td><td style=\"background-color: rgb(255,255,255);\">I-Goal</td></tr></table>"
      ],
      "text/plain": [
       "<IPython.core.display.HTML object>"
      ]
     },
     "metadata": {},
     "output_type": "display_data"
    },
    {
     "name": "stdout",
     "output_type": "stream",
     "text": [
      "true: Taking pred: Taking\n"
     ]
    },
    {
     "data": {
      "text/html": [
       "<table><tr><td><b>words</b></td><td style=\"background-color: rgb(255,255,255);\">take</td><td style=\"background-color: rgb(255,255,255);\">the</td><td style=\"background-color: rgb(255,255,255);\">phone</td><td style=\"background-color: rgb(255,255,255);\">on</td><td style=\"background-color: rgb(255,255,255);\">the</td><td style=\"background-color: rgb(255,255,255);\">couch</td></tr><tr><td><b>lexical_unit</b></td><td style=\"background-color: rgb(0.0000, 255,0.0000);\">1.0000</td><td style=\"background-color: rgb(255.0000, 255,255.0000);\">0.0000</td><td style=\"background-color: rgb(255.0000, 255,255.0000);\">0.0000</td><td style=\"background-color: rgb(255.0000, 255,255.0000);\">0.0000</td><td style=\"background-color: rgb(255.0000, 255,255.0000);\">0.0000</td><td style=\"background-color: rgb(255.0000, 255,255.0000);\">0.0000</td></tr><tr><td><b>attention_intent</b></td><td style=\"background-color: rgb(254.4140, 255,254.4140);\">0.0023</td><td style=\"background-color: rgb(119.2333, 255,119.2333);\">0.5324</td><td style=\"background-color: rgb(254.7958, 255,254.7958);\">0.0008</td><td style=\"background-color: rgb(228.1439, 255,228.1439);\">0.1053</td><td style=\"background-color: rgb(164.1837, 255,164.1837);\">0.3561</td><td style=\"background-color: rgb(254.9956, 255,254.9956);\">0.0000</td></tr><tr><td><b>slots_true</b></td><td style=\"background-color: rgb(255,255,255);\">O</td><td style=\"background-color: rgb(255,255,255);\">B-Theme</td><td style=\"background-color: rgb(255,255,255);\">I-Theme</td><td style=\"background-color: rgb(255,255,255);\">I-Theme</td><td style=\"background-color: rgb(255,255,255);\">I-Theme</td><td style=\"background-color: rgb(255,255,255);\">I-Theme</td></tr><tr><td><b>slots_pred</b></td><td style=\"background-color: rgb(255,255,255);\">O</td><td style=\"background-color: rgb(255,255,255);\">B-Theme</td><td style=\"background-color: rgb(255,255,255);\">I-Theme</td><td style=\"background-color: rgb(255,255,255);\">B-Theme</td><td style=\"background-color: rgb(255,255,255);\">I-Theme</td><td style=\"background-color: rgb(255,255,255);\">I-Theme</td></tr></table>"
      ],
      "text/plain": [
       "<IPython.core.display.HTML object>"
      ]
     },
     "metadata": {},
     "output_type": "display_data"
    },
    {
     "name": "stdout",
     "output_type": "stream",
     "text": [
      "true: Motion pred: Motion\n"
     ]
    },
    {
     "data": {
      "text/html": [
       "<table><tr><td><b>words</b></td><td style=\"background-color: rgb(255,255,255);\">go</td><td style=\"background-color: rgb(255,255,255);\">in</td><td style=\"background-color: rgb(255,255,255);\">the</td><td style=\"background-color: rgb(255,255,255);\">kitchen</td></tr><tr><td><b>lexical_unit</b></td><td style=\"background-color: rgb(0.0000, 255,0.0000);\">1.0000</td><td style=\"background-color: rgb(255.0000, 255,255.0000);\">0.0000</td><td style=\"background-color: rgb(255.0000, 255,255.0000);\">0.0000</td><td style=\"background-color: rgb(255.0000, 255,255.0000);\">0.0000</td></tr><tr><td><b>attention_intent</b></td><td style=\"background-color: rgb(253.9560, 255,253.9560);\">0.0041</td><td style=\"background-color: rgb(185.3341, 255,185.3341);\">0.2732</td><td style=\"background-color: rgb(70.7908, 255,70.7908);\">0.7224</td><td style=\"background-color: rgb(254.9420, 255,254.9420);\">0.0002</td></tr><tr><td><b>slots_true</b></td><td style=\"background-color: rgb(255,255,255);\">O</td><td style=\"background-color: rgb(255,255,255);\">B-Goal</td><td style=\"background-color: rgb(255,255,255);\">I-Goal</td><td style=\"background-color: rgb(255,255,255);\">I-Goal</td></tr><tr><td><b>slots_pred</b></td><td style=\"background-color: rgb(255,255,255);\">O</td><td style=\"background-color: rgb(255,255,255);\">B-Goal</td><td style=\"background-color: rgb(255,255,255);\">I-Goal</td><td style=\"background-color: rgb(255,255,255);\">I-Goal</td></tr></table>"
      ],
      "text/plain": [
       "<IPython.core.display.HTML object>"
      ]
     },
     "metadata": {},
     "output_type": "display_data"
    },
    {
     "name": "stdout",
     "output_type": "stream",
     "text": [
      "true: Placing pred: Placing\n"
     ]
    },
    {
     "data": {
      "text/html": [
       "<table><tr><td><b>words</b></td><td style=\"background-color: rgb(255,255,255);\">put</td><td style=\"background-color: rgb(255,255,255);\">this</td><td style=\"background-color: rgb(255,255,255);\">pan</td><td style=\"background-color: rgb(255,255,255);\">on</td><td style=\"background-color: rgb(255,255,255);\">the</td><td style=\"background-color: rgb(255,255,255);\">stove</td></tr><tr><td><b>lexical_unit</b></td><td style=\"background-color: rgb(0.0000, 255,0.0000);\">1.0000</td><td style=\"background-color: rgb(255.0000, 255,255.0000);\">0.0000</td><td style=\"background-color: rgb(255.0000, 255,255.0000);\">0.0000</td><td style=\"background-color: rgb(255.0000, 255,255.0000);\">0.0000</td><td style=\"background-color: rgb(255.0000, 255,255.0000);\">0.0000</td><td style=\"background-color: rgb(255.0000, 255,255.0000);\">0.0000</td></tr><tr><td><b>attention_intent</b></td><td style=\"background-color: rgb(254.9963, 255,254.9963);\">0.0000</td><td style=\"background-color: rgb(254.9872, 255,254.9872);\">0.0001</td><td style=\"background-color: rgb(254.9720, 255,254.9720);\">0.0001</td><td style=\"background-color: rgb(241.9684, 255,241.9684);\">0.0511</td><td style=\"background-color: rgb(123.6850, 255,123.6850);\">0.5150</td><td style=\"background-color: rgb(144.3946, 255,144.3946);\">0.4337</td></tr><tr><td><b>slots_true</b></td><td style=\"background-color: rgb(255,255,255);\">O</td><td style=\"background-color: rgb(255,255,255);\">B-Theme</td><td style=\"background-color: rgb(255,255,255);\">I-Theme</td><td style=\"background-color: rgb(255,255,255);\">B-Goal</td><td style=\"background-color: rgb(255,255,255);\">I-Goal</td><td style=\"background-color: rgb(255,255,255);\">I-Goal</td></tr><tr><td><b>slots_pred</b></td><td style=\"background-color: rgb(255,255,255);\">O</td><td style=\"background-color: rgb(255,255,255);\">B-Theme</td><td style=\"background-color: rgb(255,255,255);\">I-Theme</td><td style=\"background-color: rgb(255,255,255);\">B-Goal</td><td style=\"background-color: rgb(255,255,255);\">I-Goal</td><td style=\"background-color: rgb(255,255,255);\">I-Goal</td></tr></table>"
      ],
      "text/plain": [
       "<IPython.core.display.HTML object>"
      ]
     },
     "metadata": {},
     "output_type": "display_data"
    },
    {
     "name": "stdout",
     "output_type": "stream",
     "text": [
      "true: Motion pred: Motion\n"
     ]
    },
    {
     "data": {
      "text/html": [
       "<table><tr><td><b>words</b></td><td style=\"background-color: rgb(255,255,255);\">move</td><td style=\"background-color: rgb(255,255,255);\">near</td><td style=\"background-color: rgb(255,255,255);\">the</td><td style=\"background-color: rgb(255,255,255);\">television</td><td style=\"background-color: rgb(255,255,255);\">of</td><td style=\"background-color: rgb(255,255,255);\">the</td><td style=\"background-color: rgb(255,255,255);\">kitchen</td></tr><tr><td><b>lexical_unit</b></td><td style=\"background-color: rgb(0.0000, 255,0.0000);\">1.0000</td><td style=\"background-color: rgb(255.0000, 255,255.0000);\">0.0000</td><td style=\"background-color: rgb(255.0000, 255,255.0000);\">0.0000</td><td style=\"background-color: rgb(255.0000, 255,255.0000);\">0.0000</td><td style=\"background-color: rgb(255.0000, 255,255.0000);\">0.0000</td><td style=\"background-color: rgb(255.0000, 255,255.0000);\">0.0000</td><td style=\"background-color: rgb(255.0000, 255,255.0000);\">0.0000</td></tr><tr><td><b>attention_intent</b></td><td style=\"background-color: rgb(254.9854, 255,254.9854);\">0.0001</td><td style=\"background-color: rgb(150.3861, 255,150.3861);\">0.4103</td><td style=\"background-color: rgb(192.8684, 255,192.8684);\">0.2437</td><td style=\"background-color: rgb(198.0032, 255,198.0032);\">0.2235</td><td style=\"background-color: rgb(234.2532, 255,234.2532);\">0.0814</td><td style=\"background-color: rgb(244.5152, 255,244.5152);\">0.0411</td><td style=\"background-color: rgb(254.9999, 255,254.9999);\">0.0000</td></tr><tr><td><b>slots_true</b></td><td style=\"background-color: rgb(255,255,255);\">O</td><td style=\"background-color: rgb(255,255,255);\">B-Goal</td><td style=\"background-color: rgb(255,255,255);\">I-Goal</td><td style=\"background-color: rgb(255,255,255);\">I-Goal</td><td style=\"background-color: rgb(255,255,255);\">I-Goal</td><td style=\"background-color: rgb(255,255,255);\">I-Goal</td><td style=\"background-color: rgb(255,255,255);\">I-Goal</td></tr><tr><td><b>slots_pred</b></td><td style=\"background-color: rgb(255,255,255);\">O</td><td style=\"background-color: rgb(255,255,255);\">B-Goal</td><td style=\"background-color: rgb(255,255,255);\">I-Goal</td><td style=\"background-color: rgb(255,255,255);\">I-Goal</td><td style=\"background-color: rgb(255,255,255);\">I-Goal</td><td style=\"background-color: rgb(255,255,255);\">I-Goal</td><td style=\"background-color: rgb(255,255,255);\">I-Goal</td></tr></table>"
      ],
      "text/plain": [
       "<IPython.core.display.HTML object>"
      ]
     },
     "metadata": {},
     "output_type": "display_data"
    },
    {
     "name": "stdout",
     "output_type": "stream",
     "text": [
      "true: Taking pred: Taking\n"
     ]
    },
    {
     "data": {
      "text/html": [
       "<table><tr><td><b>words</b></td><td style=\"background-color: rgb(255,255,255);\">take</td><td style=\"background-color: rgb(255,255,255);\">the</td><td style=\"background-color: rgb(255,255,255);\">bottle</td><td style=\"background-color: rgb(255,255,255);\">near</td><td style=\"background-color: rgb(255,255,255);\">the</td><td style=\"background-color: rgb(255,255,255);\">fridge</td></tr><tr><td><b>lexical_unit</b></td><td style=\"background-color: rgb(0.0000, 255,0.0000);\">1.0000</td><td style=\"background-color: rgb(255.0000, 255,255.0000);\">0.0000</td><td style=\"background-color: rgb(255.0000, 255,255.0000);\">0.0000</td><td style=\"background-color: rgb(255.0000, 255,255.0000);\">0.0000</td><td style=\"background-color: rgb(255.0000, 255,255.0000);\">0.0000</td><td style=\"background-color: rgb(255.0000, 255,255.0000);\">0.0000</td></tr><tr><td><b>attention_intent</b></td><td style=\"background-color: rgb(254.9711, 255,254.9711);\">0.0001</td><td style=\"background-color: rgb(250.2014, 255,250.2014);\">0.0188</td><td style=\"background-color: rgb(254.9993, 255,254.9993);\">0.0000</td><td style=\"background-color: rgb(254.1668, 255,254.1668);\">0.0033</td><td style=\"background-color: rgb(5.7259, 255,5.7259);\">0.9775</td><td style=\"background-color: rgb(254.9982, 255,254.9982);\">0.0000</td></tr><tr><td><b>slots_true</b></td><td style=\"background-color: rgb(255,255,255);\">O</td><td style=\"background-color: rgb(255,255,255);\">B-Theme</td><td style=\"background-color: rgb(255,255,255);\">I-Theme</td><td style=\"background-color: rgb(255,255,255);\">I-Theme</td><td style=\"background-color: rgb(255,255,255);\">I-Theme</td><td style=\"background-color: rgb(255,255,255);\">I-Theme</td></tr><tr><td><b>slots_pred</b></td><td style=\"background-color: rgb(255,255,255);\">O</td><td style=\"background-color: rgb(255,255,255);\">B-Theme</td><td style=\"background-color: rgb(255,255,255);\">I-Theme</td><td style=\"background-color: rgb(255,255,255);\">B-Goal</td><td style=\"background-color: rgb(255,255,255);\">I-Goal</td><td style=\"background-color: rgb(255,255,255);\">I-Goal</td></tr></table>"
      ],
      "text/plain": [
       "<IPython.core.display.HTML object>"
      ]
     },
     "metadata": {},
     "output_type": "display_data"
    },
    {
     "name": "stdout",
     "output_type": "stream",
     "text": [
      "true: Searching pred: Searching\n"
     ]
    },
    {
     "data": {
      "text/html": [
       "<table><tr><td><b>words</b></td><td style=\"background-color: rgb(255,255,255);\">search</td><td style=\"background-color: rgb(255,255,255);\">for</td><td style=\"background-color: rgb(255,255,255);\">towel</td></tr><tr><td><b>lexical_unit</b></td><td style=\"background-color: rgb(0.0000, 255,0.0000);\">1.0000</td><td style=\"background-color: rgb(255.0000, 255,255.0000);\">0.0000</td><td style=\"background-color: rgb(255.0000, 255,255.0000);\">0.0000</td></tr><tr><td><b>attention_intent</b></td><td style=\"background-color: rgb(254.9610, 255,254.9610);\">0.0002</td><td style=\"background-color: rgb(0.8429, 255,0.8429);\">0.9967</td><td style=\"background-color: rgb(254.1984, 255,254.1984);\">0.0031</td></tr><tr><td><b>slots_true</b></td><td style=\"background-color: rgb(255,255,255);\">O</td><td style=\"background-color: rgb(255,255,255);\">B-Phenomenon</td><td style=\"background-color: rgb(255,255,255);\">I-Phenomenon</td></tr><tr><td><b>slots_pred</b></td><td style=\"background-color: rgb(255,255,255);\">O</td><td style=\"background-color: rgb(255,255,255);\">B-Phenomenon</td><td style=\"background-color: rgb(255,255,255);\">I-Phenomenon</td></tr></table>"
      ],
      "text/plain": [
       "<IPython.core.display.HTML object>"
      ]
     },
     "metadata": {},
     "output_type": "display_data"
    },
    {
     "name": "stdout",
     "output_type": "stream",
     "text": [
      "true: Searching pred: Searching\n"
     ]
    },
    {
     "data": {
      "text/html": [
       "<table><tr><td><b>words</b></td><td style=\"background-color: rgb(255,255,255);\">find</td><td style=\"background-color: rgb(255,255,255);\">me</td><td style=\"background-color: rgb(255,255,255);\">a</td><td style=\"background-color: rgb(255,255,255);\">cushion</td></tr><tr><td><b>lexical_unit</b></td><td style=\"background-color: rgb(0.0000, 255,0.0000);\">1.0000</td><td style=\"background-color: rgb(255.0000, 255,255.0000);\">0.0000</td><td style=\"background-color: rgb(255.0000, 255,255.0000);\">0.0000</td><td style=\"background-color: rgb(255.0000, 255,255.0000);\">0.0000</td></tr><tr><td><b>attention_intent</b></td><td style=\"background-color: rgb(254.9531, 255,254.9531);\">0.0002</td><td style=\"background-color: rgb(196.2640, 255,196.2640);\">0.2303</td><td style=\"background-color: rgb(58.7864, 255,58.7864);\">0.7695</td><td style=\"background-color: rgb(254.9987, 255,254.9987);\">0.0000</td></tr><tr><td><b>slots_true</b></td><td style=\"background-color: rgb(255,255,255);\">O</td><td style=\"background-color: rgb(255,255,255);\">B-Purpose</td><td style=\"background-color: rgb(255,255,255);\">B-Phenomenon</td><td style=\"background-color: rgb(255,255,255);\">I-Phenomenon</td></tr><tr><td><b>slots_pred</b></td><td style=\"background-color: rgb(255,255,255);\">O</td><td style=\"background-color: rgb(255,255,255);\">B-Purpose</td><td style=\"background-color: rgb(255,255,255);\">B-Phenomenon</td><td style=\"background-color: rgb(255,255,255);\">I-Phenomenon</td></tr></table>"
      ],
      "text/plain": [
       "<IPython.core.display.HTML object>"
      ]
     },
     "metadata": {},
     "output_type": "display_data"
    },
    {
     "name": "stdout",
     "output_type": "stream",
     "text": [
      "true: Placing pred: Placing\n"
     ]
    },
    {
     "data": {
      "text/html": [
       "<table><tr><td><b>words</b></td><td style=\"background-color: rgb(255,255,255);\">put</td><td style=\"background-color: rgb(255,255,255);\">the</td><td style=\"background-color: rgb(255,255,255);\">mug</td><td style=\"background-color: rgb(255,255,255);\">in</td><td style=\"background-color: rgb(255,255,255);\">the</td><td style=\"background-color: rgb(255,255,255);\">living</td><td style=\"background-color: rgb(255,255,255);\">room</td></tr><tr><td><b>lexical_unit</b></td><td style=\"background-color: rgb(0.0000, 255,0.0000);\">1.0000</td><td style=\"background-color: rgb(255.0000, 255,255.0000);\">0.0000</td><td style=\"background-color: rgb(255.0000, 255,255.0000);\">0.0000</td><td style=\"background-color: rgb(255.0000, 255,255.0000);\">0.0000</td><td style=\"background-color: rgb(255.0000, 255,255.0000);\">0.0000</td><td style=\"background-color: rgb(255.0000, 255,255.0000);\">0.0000</td><td style=\"background-color: rgb(255.0000, 255,255.0000);\">0.0000</td></tr><tr><td><b>attention_intent</b></td><td style=\"background-color: rgb(254.9952, 255,254.9952);\">0.0000</td><td style=\"background-color: rgb(254.7380, 255,254.7380);\">0.0010</td><td style=\"background-color: rgb(254.8889, 255,254.8889);\">0.0004</td><td style=\"background-color: rgb(254.3524, 255,254.3524);\">0.0025</td><td style=\"background-color: rgb(83.6763, 255,83.6763);\">0.6719</td><td style=\"background-color: rgb(201.5397, 255,201.5397);\">0.2096</td><td style=\"background-color: rgb(225.8130, 255,225.8130);\">0.1145</td></tr><tr><td><b>slots_true</b></td><td style=\"background-color: rgb(255,255,255);\">O</td><td style=\"background-color: rgb(255,255,255);\">B-Theme</td><td style=\"background-color: rgb(255,255,255);\">I-Theme</td><td style=\"background-color: rgb(255,255,255);\">B-Goal</td><td style=\"background-color: rgb(255,255,255);\">I-Goal</td><td style=\"background-color: rgb(255,255,255);\">I-Goal</td><td style=\"background-color: rgb(255,255,255);\">I-Goal</td></tr><tr><td><b>slots_pred</b></td><td style=\"background-color: rgb(255,255,255);\">O</td><td style=\"background-color: rgb(255,255,255);\">B-Theme</td><td style=\"background-color: rgb(255,255,255);\">I-Theme</td><td style=\"background-color: rgb(255,255,255);\">B-Goal</td><td style=\"background-color: rgb(255,255,255);\">I-Goal</td><td style=\"background-color: rgb(255,255,255);\">I-Goal</td><td style=\"background-color: rgb(255,255,255);\">I-Goal</td></tr></table>"
      ],
      "text/plain": [
       "<IPython.core.display.HTML object>"
      ]
     },
     "metadata": {},
     "output_type": "display_data"
    },
    {
     "name": "stdout",
     "output_type": "stream",
     "text": [
      "true: Taking pred: Taking\n"
     ]
    },
    {
     "data": {
      "text/html": [
       "<table><tr><td><b>words</b></td><td style=\"background-color: rgb(255,255,255);\">get</td><td style=\"background-color: rgb(255,255,255);\">the</td><td style=\"background-color: rgb(255,255,255);\">phone</td></tr><tr><td><b>lexical_unit</b></td><td style=\"background-color: rgb(0.0000, 255,0.0000);\">1.0000</td><td style=\"background-color: rgb(255.0000, 255,255.0000);\">0.0000</td><td style=\"background-color: rgb(255.0000, 255,255.0000);\">0.0000</td></tr><tr><td><b>attention_intent</b></td><td style=\"background-color: rgb(254.9533, 255,254.9533);\">0.0002</td><td style=\"background-color: rgb(0.0925, 255,0.0925);\">0.9996</td><td style=\"background-color: rgb(254.9900, 255,254.9900);\">0.0000</td></tr><tr><td><b>slots_true</b></td><td style=\"background-color: rgb(255,255,255);\">O</td><td style=\"background-color: rgb(255,255,255);\">B-Theme</td><td style=\"background-color: rgb(255,255,255);\">I-Theme</td></tr><tr><td><b>slots_pred</b></td><td style=\"background-color: rgb(255,255,255);\">O</td><td style=\"background-color: rgb(255,255,255);\">B-Theme</td><td style=\"background-color: rgb(255,255,255);\">I-Theme</td></tr></table>"
      ],
      "text/plain": [
       "<IPython.core.display.HTML object>"
      ]
     },
     "metadata": {},
     "output_type": "display_data"
    },
    {
     "name": "stdout",
     "output_type": "stream",
     "text": [
      "true: Taking pred: Taking\n"
     ]
    },
    {
     "data": {
      "text/html": [
       "<table><tr><td><b>words</b></td><td style=\"background-color: rgb(255,255,255);\">take</td><td style=\"background-color: rgb(255,255,255);\">the</td><td style=\"background-color: rgb(255,255,255);\">phone</td><td style=\"background-color: rgb(255,255,255);\">on</td><td style=\"background-color: rgb(255,255,255);\">the</td><td style=\"background-color: rgb(255,255,255);\">left</td><td style=\"background-color: rgb(255,255,255);\">of</td><td style=\"background-color: rgb(255,255,255);\">the</td><td style=\"background-color: rgb(255,255,255);\">pc</td></tr><tr><td><b>lexical_unit</b></td><td style=\"background-color: rgb(0.0000, 255,0.0000);\">1.0000</td><td style=\"background-color: rgb(255.0000, 255,255.0000);\">0.0000</td><td style=\"background-color: rgb(255.0000, 255,255.0000);\">0.0000</td><td style=\"background-color: rgb(255.0000, 255,255.0000);\">0.0000</td><td style=\"background-color: rgb(255.0000, 255,255.0000);\">0.0000</td><td style=\"background-color: rgb(255.0000, 255,255.0000);\">0.0000</td><td style=\"background-color: rgb(255.0000, 255,255.0000);\">0.0000</td><td style=\"background-color: rgb(255.0000, 255,255.0000);\">0.0000</td><td style=\"background-color: rgb(255.0000, 255,255.0000);\">0.0000</td></tr><tr><td><b>attention_intent</b></td><td style=\"background-color: rgb(254.1819, 255,254.1819);\">0.0032</td><td style=\"background-color: rgb(97.4210, 255,97.4210);\">0.6180</td><td style=\"background-color: rgb(254.4921, 255,254.4921);\">0.0020</td><td style=\"background-color: rgb(252.7629, 255,252.7629);\">0.0088</td><td style=\"background-color: rgb(254.8662, 255,254.8662);\">0.0005</td><td style=\"background-color: rgb(254.8282, 255,254.8282);\">0.0007</td><td style=\"background-color: rgb(246.7207, 255,246.7207);\">0.0325</td><td style=\"background-color: rgb(169.8064, 255,169.8064);\">0.3341</td><td style=\"background-color: rgb(254.9993, 255,254.9993);\">0.0000</td></tr><tr><td><b>slots_true</b></td><td style=\"background-color: rgb(255,255,255);\">O</td><td style=\"background-color: rgb(255,255,255);\">B-Theme</td><td style=\"background-color: rgb(255,255,255);\">I-Theme</td><td style=\"background-color: rgb(255,255,255);\">I-Theme</td><td style=\"background-color: rgb(255,255,255);\">I-Theme</td><td style=\"background-color: rgb(255,255,255);\">I-Theme</td><td style=\"background-color: rgb(255,255,255);\">I-Theme</td><td style=\"background-color: rgb(255,255,255);\">I-Theme</td><td style=\"background-color: rgb(255,255,255);\">I-Theme</td></tr><tr><td><b>slots_pred</b></td><td style=\"background-color: rgb(255,255,255);\">O</td><td style=\"background-color: rgb(255,255,255);\">B-Theme</td><td style=\"background-color: rgb(255,255,255);\">I-Theme</td><td style=\"background-color: rgb(255,255,255);\">I-Theme</td><td style=\"background-color: rgb(255,255,255);\">I-Theme</td><td style=\"background-color: rgb(255,255,255);\">I-Theme</td><td style=\"background-color: rgb(255,255,255);\">I-Theme</td><td style=\"background-color: rgb(255,255,255);\">I-Theme</td><td style=\"background-color: rgb(255,255,255);\">I-Theme</td></tr></table>"
      ],
      "text/plain": [
       "<IPython.core.display.HTML object>"
      ]
     },
     "metadata": {},
     "output_type": "display_data"
    },
    {
     "name": "stdout",
     "output_type": "stream",
     "text": [
      "true: Motion pred: Motion\n"
     ]
    },
    {
     "data": {
      "text/html": [
       "<table><tr><td><b>words</b></td><td style=\"background-color: rgb(255,255,255);\">go</td><td style=\"background-color: rgb(255,255,255);\">to</td><td style=\"background-color: rgb(255,255,255);\">dining</td><td style=\"background-color: rgb(255,255,255);\">room</td></tr><tr><td><b>lexical_unit</b></td><td style=\"background-color: rgb(0.0000, 255,0.0000);\">1.0000</td><td style=\"background-color: rgb(255.0000, 255,255.0000);\">0.0000</td><td style=\"background-color: rgb(255.0000, 255,255.0000);\">0.0000</td><td style=\"background-color: rgb(255.0000, 255,255.0000);\">0.0000</td></tr><tr><td><b>attention_intent</b></td><td style=\"background-color: rgb(254.9321, 255,254.9321);\">0.0003</td><td style=\"background-color: rgb(0.2045, 255,0.2045);\">0.9992</td><td style=\"background-color: rgb(254.8658, 255,254.8658);\">0.0005</td><td style=\"background-color: rgb(254.9999, 255,254.9999);\">0.0000</td></tr><tr><td><b>slots_true</b></td><td style=\"background-color: rgb(255,255,255);\">O</td><td style=\"background-color: rgb(255,255,255);\">B-Goal</td><td style=\"background-color: rgb(255,255,255);\">I-Goal</td><td style=\"background-color: rgb(255,255,255);\">I-Goal</td></tr><tr><td><b>slots_pred</b></td><td style=\"background-color: rgb(255,255,255);\">O</td><td style=\"background-color: rgb(255,255,255);\">B-Goal</td><td style=\"background-color: rgb(255,255,255);\">I-Goal</td><td style=\"background-color: rgb(255,255,255);\">I-Goal</td></tr></table>"
      ],
      "text/plain": [
       "<IPython.core.display.HTML object>"
      ]
     },
     "metadata": {},
     "output_type": "display_data"
    },
    {
     "name": "stdout",
     "output_type": "stream",
     "text": [
      "true: Change_operational_state pred: Change_operational_state\n"
     ]
    },
    {
     "data": {
      "text/html": [
       "<table><tr><td><b>words</b></td><td style=\"background-color: rgb(255,255,255);\">could</td><td style=\"background-color: rgb(255,255,255);\">you</td><td style=\"background-color: rgb(255,255,255);\">turn</td><td style=\"background-color: rgb(255,255,255);\">on</td><td style=\"background-color: rgb(255,255,255);\">the</td><td style=\"background-color: rgb(255,255,255);\">television</td></tr><tr><td><b>lexical_unit</b></td><td style=\"background-color: rgb(255.0000, 255,255.0000);\">0.0000</td><td style=\"background-color: rgb(255.0000, 255,255.0000);\">0.0000</td><td style=\"background-color: rgb(0.0000, 255,0.0000);\">1.0000</td><td style=\"background-color: rgb(255.0000, 255,255.0000);\">0.0000</td><td style=\"background-color: rgb(255.0000, 255,255.0000);\">0.0000</td><td style=\"background-color: rgb(255.0000, 255,255.0000);\">0.0000</td></tr><tr><td><b>attention_intent</b></td><td style=\"background-color: rgb(255.0000, 255,255.0000);\">0.0000</td><td style=\"background-color: rgb(255.0000, 255,255.0000);\">0.0000</td><td style=\"background-color: rgb(254.6429, 255,254.6429);\">0.0014</td><td style=\"background-color: rgb(82.5969, 255,82.5969);\">0.6761</td><td style=\"background-color: rgb(209.6523, 255,209.6523);\">0.1778</td><td style=\"background-color: rgb(218.1083, 255,218.1083);\">0.1447</td></tr><tr><td><b>slots_true</b></td><td style=\"background-color: rgb(255,255,255);\">O</td><td style=\"background-color: rgb(255,255,255);\">B-Agent</td><td style=\"background-color: rgb(255,255,255);\">O</td><td style=\"background-color: rgb(255,255,255);\">B-Operational_state</td><td style=\"background-color: rgb(255,255,255);\">B-Device</td><td style=\"background-color: rgb(255,255,255);\">I-Device</td></tr><tr><td><b>slots_pred</b></td><td style=\"background-color: rgb(255,255,255);\">O</td><td style=\"background-color: rgb(255,255,255);\">B-Agent</td><td style=\"background-color: rgb(255,255,255);\">O</td><td style=\"background-color: rgb(255,255,255);\">B-Operational_state</td><td style=\"background-color: rgb(255,255,255);\">B-Device</td><td style=\"background-color: rgb(255,255,255);\">I-Device</td></tr></table>"
      ],
      "text/plain": [
       "<IPython.core.display.HTML object>"
      ]
     },
     "metadata": {},
     "output_type": "display_data"
    },
    {
     "name": "stdout",
     "output_type": "stream",
     "text": [
      "true: Searching pred: Searching\n"
     ]
    },
    {
     "data": {
      "text/html": [
       "<table><tr><td><b>words</b></td><td style=\"background-color: rgb(255,255,255);\">find</td><td style=\"background-color: rgb(255,255,255);\">a</td><td style=\"background-color: rgb(255,255,255);\">bottle</td><td style=\"background-color: rgb(255,255,255);\">in</td><td style=\"background-color: rgb(255,255,255);\">the</td><td style=\"background-color: rgb(255,255,255);\">kitchen</td></tr><tr><td><b>lexical_unit</b></td><td style=\"background-color: rgb(0.0000, 255,0.0000);\">1.0000</td><td style=\"background-color: rgb(255.0000, 255,255.0000);\">0.0000</td><td style=\"background-color: rgb(255.0000, 255,255.0000);\">0.0000</td><td style=\"background-color: rgb(255.0000, 255,255.0000);\">0.0000</td><td style=\"background-color: rgb(255.0000, 255,255.0000);\">0.0000</td><td style=\"background-color: rgb(255.0000, 255,255.0000);\">0.0000</td></tr><tr><td><b>attention_intent</b></td><td style=\"background-color: rgb(254.9860, 255,254.9860);\">0.0001</td><td style=\"background-color: rgb(204.8711, 255,204.8711);\">0.1966</td><td style=\"background-color: rgb(254.4854, 255,254.4854);\">0.0020</td><td style=\"background-color: rgb(251.3408, 255,251.3408);\">0.0143</td><td style=\"background-color: rgb(54.4406, 255,54.4406);\">0.7865</td><td style=\"background-color: rgb(254.8778, 255,254.8778);\">0.0005</td></tr><tr><td><b>slots_true</b></td><td style=\"background-color: rgb(255,255,255);\">O</td><td style=\"background-color: rgb(255,255,255);\">B-Phenomenon</td><td style=\"background-color: rgb(255,255,255);\">I-Phenomenon</td><td style=\"background-color: rgb(255,255,255);\">B-Ground</td><td style=\"background-color: rgb(255,255,255);\">I-Ground</td><td style=\"background-color: rgb(255,255,255);\">I-Ground</td></tr><tr><td><b>slots_pred</b></td><td style=\"background-color: rgb(255,255,255);\">O</td><td style=\"background-color: rgb(255,255,255);\">B-Phenomenon</td><td style=\"background-color: rgb(255,255,255);\">I-Phenomenon</td><td style=\"background-color: rgb(255,255,255);\">B-Ground</td><td style=\"background-color: rgb(255,255,255);\">I-Ground</td><td style=\"background-color: rgb(255,255,255);\">I-Ground</td></tr></table>"
      ],
      "text/plain": [
       "<IPython.core.display.HTML object>"
      ]
     },
     "metadata": {},
     "output_type": "display_data"
    },
    {
     "name": "stdout",
     "output_type": "stream",
     "text": [
      "true: Bringing pred: Bringing\n"
     ]
    },
    {
     "data": {
      "text/html": [
       "<table><tr><td><b>words</b></td><td style=\"background-color: rgb(255,255,255);\">can</td><td style=\"background-color: rgb(255,255,255);\">you</td><td style=\"background-color: rgb(255,255,255);\">bring</td><td style=\"background-color: rgb(255,255,255);\">me</td><td style=\"background-color: rgb(255,255,255);\">my</td><td style=\"background-color: rgb(255,255,255);\">eyeglass</td></tr><tr><td><b>lexical_unit</b></td><td style=\"background-color: rgb(255.0000, 255,255.0000);\">0.0000</td><td style=\"background-color: rgb(255.0000, 255,255.0000);\">0.0000</td><td style=\"background-color: rgb(0.0000, 255,0.0000);\">1.0000</td><td style=\"background-color: rgb(255.0000, 255,255.0000);\">0.0000</td><td style=\"background-color: rgb(255.0000, 255,255.0000);\">0.0000</td><td style=\"background-color: rgb(255.0000, 255,255.0000);\">0.0000</td></tr><tr><td><b>attention_intent</b></td><td style=\"background-color: rgb(255.0000, 255,255.0000);\">0.0000</td><td style=\"background-color: rgb(255.0000, 255,255.0000);\">0.0000</td><td style=\"background-color: rgb(253.4247, 255,253.4247);\">0.0062</td><td style=\"background-color: rgb(3.1731, 255,3.1731);\">0.9876</td><td style=\"background-color: rgb(253.4052, 255,253.4052);\">0.0063</td><td style=\"background-color: rgb(254.9975, 255,254.9975);\">0.0000</td></tr><tr><td><b>slots_true</b></td><td style=\"background-color: rgb(255,255,255);\">O</td><td style=\"background-color: rgb(255,255,255);\">B-Agent</td><td style=\"background-color: rgb(255,255,255);\">O</td><td style=\"background-color: rgb(255,255,255);\">B-Beneficiary</td><td style=\"background-color: rgb(255,255,255);\">B-Theme</td><td style=\"background-color: rgb(255,255,255);\">I-Theme</td></tr><tr><td><b>slots_pred</b></td><td style=\"background-color: rgb(255,255,255);\">O</td><td style=\"background-color: rgb(255,255,255);\">B-Agent</td><td style=\"background-color: rgb(255,255,255);\">O</td><td style=\"background-color: rgb(255,255,255);\">B-Beneficiary</td><td style=\"background-color: rgb(255,255,255);\">B-Theme</td><td style=\"background-color: rgb(255,255,255);\">I-Theme</td></tr></table>"
      ],
      "text/plain": [
       "<IPython.core.display.HTML object>"
      ]
     },
     "metadata": {},
     "output_type": "display_data"
    },
    {
     "name": "stdout",
     "output_type": "stream",
     "text": [
      "true: Searching pred: Searching\n"
     ]
    },
    {
     "data": {
      "text/html": [
       "<table><tr><td><b>words</b></td><td style=\"background-color: rgb(255,255,255);\">look</td><td style=\"background-color: rgb(255,255,255);\">for</td><td style=\"background-color: rgb(255,255,255);\">the</td><td style=\"background-color: rgb(255,255,255);\">glass</td><td style=\"background-color: rgb(255,255,255);\">in</td><td style=\"background-color: rgb(255,255,255);\">the</td><td style=\"background-color: rgb(255,255,255);\">bedroom</td></tr><tr><td><b>lexical_unit</b></td><td style=\"background-color: rgb(0.0000, 255,0.0000);\">1.0000</td><td style=\"background-color: rgb(255.0000, 255,255.0000);\">0.0000</td><td style=\"background-color: rgb(255.0000, 255,255.0000);\">0.0000</td><td style=\"background-color: rgb(255.0000, 255,255.0000);\">0.0000</td><td style=\"background-color: rgb(255.0000, 255,255.0000);\">0.0000</td><td style=\"background-color: rgb(255.0000, 255,255.0000);\">0.0000</td><td style=\"background-color: rgb(255.0000, 255,255.0000);\">0.0000</td></tr><tr><td><b>attention_intent</b></td><td style=\"background-color: rgb(254.9978, 255,254.9978);\">0.0000</td><td style=\"background-color: rgb(254.3198, 255,254.3198);\">0.0027</td><td style=\"background-color: rgb(235.8344, 255,235.8344);\">0.0752</td><td style=\"background-color: rgb(254.9473, 255,254.9473);\">0.0002</td><td style=\"background-color: rgb(253.4645, 255,253.4645);\">0.0060</td><td style=\"background-color: rgb(22.4502, 255,22.4502);\">0.9120</td><td style=\"background-color: rgb(253.9882, 255,253.9882);\">0.0040</td></tr><tr><td><b>slots_true</b></td><td style=\"background-color: rgb(255,255,255);\">O</td><td style=\"background-color: rgb(255,255,255);\">B-Phenomenon</td><td style=\"background-color: rgb(255,255,255);\">I-Phenomenon</td><td style=\"background-color: rgb(255,255,255);\">I-Phenomenon</td><td style=\"background-color: rgb(255,255,255);\">B-Ground</td><td style=\"background-color: rgb(255,255,255);\">I-Ground</td><td style=\"background-color: rgb(255,255,255);\">I-Ground</td></tr><tr><td><b>slots_pred</b></td><td style=\"background-color: rgb(255,255,255);\">O</td><td style=\"background-color: rgb(255,255,255);\">B-Phenomenon</td><td style=\"background-color: rgb(255,255,255);\">I-Phenomenon</td><td style=\"background-color: rgb(255,255,255);\">I-Phenomenon</td><td style=\"background-color: rgb(255,255,255);\">B-Ground</td><td style=\"background-color: rgb(255,255,255);\">I-Ground</td><td style=\"background-color: rgb(255,255,255);\">I-Ground</td></tr></table>"
      ],
      "text/plain": [
       "<IPython.core.display.HTML object>"
      ]
     },
     "metadata": {},
     "output_type": "display_data"
    },
    {
     "name": "stdout",
     "output_type": "stream",
     "text": [
      "true: Motion pred: Motion\n"
     ]
    },
    {
     "data": {
      "text/html": [
       "<table><tr><td><b>words</b></td><td style=\"background-color: rgb(255,255,255);\">drive</td><td style=\"background-color: rgb(255,255,255);\">to</td><td style=\"background-color: rgb(255,255,255);\">the</td><td style=\"background-color: rgb(255,255,255);\">fridge</td></tr><tr><td><b>lexical_unit</b></td><td style=\"background-color: rgb(0.0000, 255,0.0000);\">1.0000</td><td style=\"background-color: rgb(255.0000, 255,255.0000);\">0.0000</td><td style=\"background-color: rgb(255.0000, 255,255.0000);\">0.0000</td><td style=\"background-color: rgb(255.0000, 255,255.0000);\">0.0000</td></tr><tr><td><b>attention_intent</b></td><td style=\"background-color: rgb(254.9968, 255,254.9968);\">0.0000</td><td style=\"background-color: rgb(45.9009, 255,45.9009);\">0.8200</td><td style=\"background-color: rgb(209.1378, 255,209.1378);\">0.1799</td><td style=\"background-color: rgb(254.9668, 255,254.9668);\">0.0001</td></tr><tr><td><b>slots_true</b></td><td style=\"background-color: rgb(255,255,255);\">O</td><td style=\"background-color: rgb(255,255,255);\">B-Goal</td><td style=\"background-color: rgb(255,255,255);\">I-Goal</td><td style=\"background-color: rgb(255,255,255);\">I-Goal</td></tr><tr><td><b>slots_pred</b></td><td style=\"background-color: rgb(255,255,255);\">O</td><td style=\"background-color: rgb(255,255,255);\">B-Goal</td><td style=\"background-color: rgb(255,255,255);\">I-Goal</td><td style=\"background-color: rgb(255,255,255);\">I-Goal</td></tr></table>"
      ],
      "text/plain": [
       "<IPython.core.display.HTML object>"
      ]
     },
     "metadata": {},
     "output_type": "display_data"
    },
    {
     "name": "stdout",
     "output_type": "stream",
     "text": [
      "true: Being_located pred: Being_located\n"
     ]
    },
    {
     "data": {
      "text/html": [
       "<table><tr><td><b>words</b></td><td style=\"background-color: rgb(255,255,255);\">there</td><td style=\"background-color: rgb(255,255,255);\">are</td><td style=\"background-color: rgb(255,255,255);\">some</td><td style=\"background-color: rgb(255,255,255);\">plastic</td><td style=\"background-color: rgb(255,255,255);\">bags</td><td style=\"background-color: rgb(255,255,255);\">in</td><td style=\"background-color: rgb(255,255,255);\">the</td><td style=\"background-color: rgb(255,255,255);\">kitchen</td><td style=\"background-color: rgb(255,255,255);\">drawer</td></tr><tr><td><b>lexical_unit</b></td><td style=\"background-color: rgb(0.0000, 255,0.0000);\">1.0000</td><td style=\"background-color: rgb(0.0000, 255,0.0000);\">1.0000</td><td style=\"background-color: rgb(255.0000, 255,255.0000);\">0.0000</td><td style=\"background-color: rgb(255.0000, 255,255.0000);\">0.0000</td><td style=\"background-color: rgb(255.0000, 255,255.0000);\">0.0000</td><td style=\"background-color: rgb(255.0000, 255,255.0000);\">0.0000</td><td style=\"background-color: rgb(255.0000, 255,255.0000);\">0.0000</td><td style=\"background-color: rgb(255.0000, 255,255.0000);\">0.0000</td><td style=\"background-color: rgb(255.0000, 255,255.0000);\">0.0000</td></tr><tr><td><b>attention_intent</b></td><td style=\"background-color: rgb(255.0000, 255,255.0000);\">0.0000</td><td style=\"background-color: rgb(254.9996, 255,254.9996);\">0.0000</td><td style=\"background-color: rgb(254.9496, 255,254.9496);\">0.0002</td><td style=\"background-color: rgb(254.9562, 255,254.9562);\">0.0002</td><td style=\"background-color: rgb(254.9803, 255,254.9803);\">0.0001</td><td style=\"background-color: rgb(254.6543, 255,254.6543);\">0.0014</td><td style=\"background-color: rgb(4.1242, 255,4.1242);\">0.9838</td><td style=\"background-color: rgb(251.9044, 255,251.9044);\">0.0121</td><td style=\"background-color: rgb(254.4352, 255,254.4352);\">0.0022</td></tr><tr><td><b>slots_true</b></td><td style=\"background-color: rgb(255,255,255);\">O</td><td style=\"background-color: rgb(255,255,255);\">O</td><td style=\"background-color: rgb(255,255,255);\">B-Theme</td><td style=\"background-color: rgb(255,255,255);\">I-Theme</td><td style=\"background-color: rgb(255,255,255);\">I-Theme</td><td style=\"background-color: rgb(255,255,255);\">B-Location</td><td style=\"background-color: rgb(255,255,255);\">I-Location</td><td style=\"background-color: rgb(255,255,255);\">I-Location</td><td style=\"background-color: rgb(255,255,255);\">I-Location</td></tr><tr><td><b>slots_pred</b></td><td style=\"background-color: rgb(255,255,255);\">O</td><td style=\"background-color: rgb(255,255,255);\">O</td><td style=\"background-color: rgb(255,255,255);\">B-Theme</td><td style=\"background-color: rgb(255,255,255);\">I-Theme</td><td style=\"background-color: rgb(255,255,255);\">I-Theme</td><td style=\"background-color: rgb(255,255,255);\">B-Location</td><td style=\"background-color: rgb(255,255,255);\">I-Location</td><td style=\"background-color: rgb(255,255,255);\">I-Location</td><td style=\"background-color: rgb(255,255,255);\">I-Location</td></tr></table>"
      ],
      "text/plain": [
       "<IPython.core.display.HTML object>"
      ]
     },
     "metadata": {},
     "output_type": "display_data"
    },
    {
     "name": "stdout",
     "output_type": "stream",
     "text": [
      "true: Motion pred: Motion\n"
     ]
    },
    {
     "data": {
      "text/html": [
       "<table><tr><td><b>words</b></td><td style=\"background-color: rgb(255,255,255);\">go</td><td style=\"background-color: rgb(255,255,255);\">next</td><td style=\"background-color: rgb(255,255,255);\">to</td><td style=\"background-color: rgb(255,255,255);\">the</td><td style=\"background-color: rgb(255,255,255);\">tv</td><td style=\"background-color: rgb(255,255,255);\">set</td></tr><tr><td><b>lexical_unit</b></td><td style=\"background-color: rgb(0.0000, 255,0.0000);\">1.0000</td><td style=\"background-color: rgb(255.0000, 255,255.0000);\">0.0000</td><td style=\"background-color: rgb(255.0000, 255,255.0000);\">0.0000</td><td style=\"background-color: rgb(255.0000, 255,255.0000);\">0.0000</td><td style=\"background-color: rgb(255.0000, 255,255.0000);\">0.0000</td><td style=\"background-color: rgb(255.0000, 255,255.0000);\">0.0000</td></tr><tr><td><b>attention_intent</b></td><td style=\"background-color: rgb(254.9971, 255,254.9971);\">0.0000</td><td style=\"background-color: rgb(254.9334, 255,254.9334);\">0.0003</td><td style=\"background-color: rgb(6.0260, 255,6.0260);\">0.9764</td><td style=\"background-color: rgb(250.0509, 255,250.0509);\">0.0194</td><td style=\"background-color: rgb(253.9955, 255,253.9955);\">0.0039</td><td style=\"background-color: rgb(254.9981, 255,254.9981);\">0.0000</td></tr><tr><td><b>slots_true</b></td><td style=\"background-color: rgb(255,255,255);\">O</td><td style=\"background-color: rgb(255,255,255);\">B-Goal</td><td style=\"background-color: rgb(255,255,255);\">I-Goal</td><td style=\"background-color: rgb(255,255,255);\">I-Goal</td><td style=\"background-color: rgb(255,255,255);\">I-Goal</td><td style=\"background-color: rgb(255,255,255);\">I-Goal</td></tr><tr><td><b>slots_pred</b></td><td style=\"background-color: rgb(255,255,255);\">O</td><td style=\"background-color: rgb(255,255,255);\">B-Goal</td><td style=\"background-color: rgb(255,255,255);\">B-Goal</td><td style=\"background-color: rgb(255,255,255);\">I-Goal</td><td style=\"background-color: rgb(255,255,255);\">I-Goal</td><td style=\"background-color: rgb(255,255,255);\">I-Goal</td></tr></table>"
      ],
      "text/plain": [
       "<IPython.core.display.HTML object>"
      ]
     },
     "metadata": {},
     "output_type": "display_data"
    },
    {
     "name": "stdout",
     "output_type": "stream",
     "text": [
      "true: Bringing pred: Bringing\n"
     ]
    },
    {
     "data": {
      "text/html": [
       "<table><tr><td><b>words</b></td><td style=\"background-color: rgb(255,255,255);\">and</td><td style=\"background-color: rgb(255,255,255);\">take</td><td style=\"background-color: rgb(255,255,255);\">it</td><td style=\"background-color: rgb(255,255,255);\">to</td><td style=\"background-color: rgb(255,255,255);\">the</td><td style=\"background-color: rgb(255,255,255);\">bathroom</td></tr><tr><td><b>lexical_unit</b></td><td style=\"background-color: rgb(255.0000, 255,255.0000);\">0.0000</td><td style=\"background-color: rgb(0.0000, 255,0.0000);\">1.0000</td><td style=\"background-color: rgb(255.0000, 255,255.0000);\">0.0000</td><td style=\"background-color: rgb(255.0000, 255,255.0000);\">0.0000</td><td style=\"background-color: rgb(255.0000, 255,255.0000);\">0.0000</td><td style=\"background-color: rgb(255.0000, 255,255.0000);\">0.0000</td></tr><tr><td><b>attention_intent</b></td><td style=\"background-color: rgb(255.0000, 255,255.0000);\">0.0000</td><td style=\"background-color: rgb(254.9722, 255,254.9722);\">0.0001</td><td style=\"background-color: rgb(254.9932, 255,254.9932);\">0.0000</td><td style=\"background-color: rgb(9.1355, 255,9.1355);\">0.9642</td><td style=\"background-color: rgb(245.9049, 255,245.9049);\">0.0357</td><td style=\"background-color: rgb(254.9966, 255,254.9966);\">0.0000</td></tr><tr><td><b>slots_true</b></td><td style=\"background-color: rgb(255,255,255);\">O</td><td style=\"background-color: rgb(255,255,255);\">O</td><td style=\"background-color: rgb(255,255,255);\">B-Theme</td><td style=\"background-color: rgb(255,255,255);\">B-Goal</td><td style=\"background-color: rgb(255,255,255);\">I-Goal</td><td style=\"background-color: rgb(255,255,255);\">I-Goal</td></tr><tr><td><b>slots_pred</b></td><td style=\"background-color: rgb(255,255,255);\">O</td><td style=\"background-color: rgb(255,255,255);\">O</td><td style=\"background-color: rgb(255,255,255);\">B-Theme</td><td style=\"background-color: rgb(255,255,255);\">B-Goal</td><td style=\"background-color: rgb(255,255,255);\">I-Goal</td><td style=\"background-color: rgb(255,255,255);\">I-Goal</td></tr></table>"
      ],
      "text/plain": [
       "<IPython.core.display.HTML object>"
      ]
     },
     "metadata": {},
     "output_type": "display_data"
    },
    {
     "name": "stdout",
     "output_type": "stream",
     "text": [
      "true: Searching pred: Searching\n"
     ]
    },
    {
     "data": {
      "text/html": [
       "<table><tr><td><b>words</b></td><td style=\"background-color: rgb(255,255,255);\">find</td><td style=\"background-color: rgb(255,255,255);\">the</td><td style=\"background-color: rgb(255,255,255);\">glasses</td><td style=\"background-color: rgb(255,255,255);\">on</td><td style=\"background-color: rgb(255,255,255);\">the</td><td style=\"background-color: rgb(255,255,255);\">table</td></tr><tr><td><b>lexical_unit</b></td><td style=\"background-color: rgb(0.0000, 255,0.0000);\">1.0000</td><td style=\"background-color: rgb(255.0000, 255,255.0000);\">0.0000</td><td style=\"background-color: rgb(255.0000, 255,255.0000);\">0.0000</td><td style=\"background-color: rgb(255.0000, 255,255.0000);\">0.0000</td><td style=\"background-color: rgb(255.0000, 255,255.0000);\">0.0000</td><td style=\"background-color: rgb(255.0000, 255,255.0000);\">0.0000</td></tr><tr><td><b>attention_intent</b></td><td style=\"background-color: rgb(254.9788, 255,254.9788);\">0.0001</td><td style=\"background-color: rgb(224.4730, 255,224.4730);\">0.1197</td><td style=\"background-color: rgb(254.4848, 255,254.4848);\">0.0020</td><td style=\"background-color: rgb(220.3947, 255,220.3947);\">0.1357</td><td style=\"background-color: rgb(65.6936, 255,65.6936);\">0.7424</td><td style=\"background-color: rgb(254.9787, 255,254.9787);\">0.0001</td></tr><tr><td><b>slots_true</b></td><td style=\"background-color: rgb(255,255,255);\">O</td><td style=\"background-color: rgb(255,255,255);\">B-Phenomenon</td><td style=\"background-color: rgb(255,255,255);\">I-Phenomenon</td><td style=\"background-color: rgb(255,255,255);\">B-Ground</td><td style=\"background-color: rgb(255,255,255);\">I-Ground</td><td style=\"background-color: rgb(255,255,255);\">I-Ground</td></tr><tr><td><b>slots_pred</b></td><td style=\"background-color: rgb(255,255,255);\">O</td><td style=\"background-color: rgb(255,255,255);\">B-Phenomenon</td><td style=\"background-color: rgb(255,255,255);\">I-Phenomenon</td><td style=\"background-color: rgb(255,255,255);\">B-Ground</td><td style=\"background-color: rgb(255,255,255);\">I-Ground</td><td style=\"background-color: rgb(255,255,255);\">I-Ground</td></tr></table>"
      ],
      "text/plain": [
       "<IPython.core.display.HTML object>"
      ]
     },
     "metadata": {},
     "output_type": "display_data"
    },
    {
     "name": "stdout",
     "output_type": "stream",
     "text": [
      "true: Following pred: Following\n"
     ]
    },
    {
     "data": {
      "text/html": [
       "<table><tr><td><b>words</b></td><td style=\"background-color: rgb(255,255,255);\">follow</td><td style=\"background-color: rgb(255,255,255);\">me</td><td style=\"background-color: rgb(255,255,255);\">to</td><td style=\"background-color: rgb(255,255,255);\">the</td><td style=\"background-color: rgb(255,255,255);\">bathroom</td></tr><tr><td><b>lexical_unit</b></td><td style=\"background-color: rgb(0.0000, 255,0.0000);\">1.0000</td><td style=\"background-color: rgb(255.0000, 255,255.0000);\">0.0000</td><td style=\"background-color: rgb(255.0000, 255,255.0000);\">0.0000</td><td style=\"background-color: rgb(255.0000, 255,255.0000);\">0.0000</td><td style=\"background-color: rgb(255.0000, 255,255.0000);\">0.0000</td></tr><tr><td><b>attention_intent</b></td><td style=\"background-color: rgb(6.9088, 255,6.9088);\">0.9729</td><td style=\"background-color: rgb(252.5266, 255,252.5266);\">0.0097</td><td style=\"background-color: rgb(251.2007, 255,251.2007);\">0.0149</td><td style=\"background-color: rgb(254.3657, 255,254.3657);\">0.0025</td><td style=\"background-color: rgb(254.9998, 255,254.9998);\">0.0000</td></tr><tr><td><b>slots_true</b></td><td style=\"background-color: rgb(255,255,255);\">O</td><td style=\"background-color: rgb(255,255,255);\">B-Cotheme</td><td style=\"background-color: rgb(255,255,255);\">B-Goal</td><td style=\"background-color: rgb(255,255,255);\">I-Goal</td><td style=\"background-color: rgb(255,255,255);\">I-Goal</td></tr><tr><td><b>slots_pred</b></td><td style=\"background-color: rgb(255,255,255);\">O</td><td style=\"background-color: rgb(255,255,255);\">B-Cotheme</td><td style=\"background-color: rgb(255,255,255);\">B-Goal</td><td style=\"background-color: rgb(255,255,255);\">I-Goal</td><td style=\"background-color: rgb(255,255,255);\">I-Goal</td></tr></table>"
      ],
      "text/plain": [
       "<IPython.core.display.HTML object>"
      ]
     },
     "metadata": {},
     "output_type": "display_data"
    },
    {
     "name": "stdout",
     "output_type": "stream",
     "text": [
      "true: Bringing pred: Bringing\n"
     ]
    },
    {
     "data": {
      "text/html": [
       "<table><tr><td><b>words</b></td><td style=\"background-color: rgb(255,255,255);\">robot</td><td style=\"background-color: rgb(255,255,255);\">can</td><td style=\"background-color: rgb(255,255,255);\">you</td><td style=\"background-color: rgb(255,255,255);\">bring</td><td style=\"background-color: rgb(255,255,255);\">me</td><td style=\"background-color: rgb(255,255,255);\">my</td><td style=\"background-color: rgb(255,255,255);\">reading</td><td style=\"background-color: rgb(255,255,255);\">glasses</td><td style=\"background-color: rgb(255,255,255);\">from</td><td style=\"background-color: rgb(255,255,255);\">the</td><td style=\"background-color: rgb(255,255,255);\">bedroom</td></tr><tr><td><b>lexical_unit</b></td><td style=\"background-color: rgb(255.0000, 255,255.0000);\">0.0000</td><td style=\"background-color: rgb(255.0000, 255,255.0000);\">0.0000</td><td style=\"background-color: rgb(255.0000, 255,255.0000);\">0.0000</td><td style=\"background-color: rgb(0.0000, 255,0.0000);\">1.0000</td><td style=\"background-color: rgb(255.0000, 255,255.0000);\">0.0000</td><td style=\"background-color: rgb(255.0000, 255,255.0000);\">0.0000</td><td style=\"background-color: rgb(255.0000, 255,255.0000);\">0.0000</td><td style=\"background-color: rgb(255.0000, 255,255.0000);\">0.0000</td><td style=\"background-color: rgb(255.0000, 255,255.0000);\">0.0000</td><td style=\"background-color: rgb(255.0000, 255,255.0000);\">0.0000</td><td style=\"background-color: rgb(255.0000, 255,255.0000);\">0.0000</td></tr><tr><td><b>attention_intent</b></td><td style=\"background-color: rgb(255.0000, 255,255.0000);\">0.0000</td><td style=\"background-color: rgb(255.0000, 255,255.0000);\">0.0000</td><td style=\"background-color: rgb(255.0000, 255,255.0000);\">0.0000</td><td style=\"background-color: rgb(254.4527, 255,254.4527);\">0.0021</td><td style=\"background-color: rgb(1.2846, 255,1.2846);\">0.9950</td><td style=\"background-color: rgb(254.3925, 255,254.3925);\">0.0024</td><td style=\"background-color: rgb(254.9190, 255,254.9190);\">0.0003</td><td style=\"background-color: rgb(254.9998, 255,254.9998);\">0.0000</td><td style=\"background-color: rgb(254.9967, 255,254.9967);\">0.0000</td><td style=\"background-color: rgb(254.9553, 255,254.9553);\">0.0002</td><td style=\"background-color: rgb(255.0000, 255,255.0000);\">0.0000</td></tr><tr><td><b>slots_true</b></td><td style=\"background-color: rgb(255,255,255);\">O</td><td style=\"background-color: rgb(255,255,255);\">O</td><td style=\"background-color: rgb(255,255,255);\">B-Agent</td><td style=\"background-color: rgb(255,255,255);\">O</td><td style=\"background-color: rgb(255,255,255);\">B-Beneficiary</td><td style=\"background-color: rgb(255,255,255);\">B-Theme</td><td style=\"background-color: rgb(255,255,255);\">I-Theme</td><td style=\"background-color: rgb(255,255,255);\">I-Theme</td><td style=\"background-color: rgb(255,255,255);\">B-Source</td><td style=\"background-color: rgb(255,255,255);\">I-Source</td><td style=\"background-color: rgb(255,255,255);\">I-Source</td></tr><tr><td><b>slots_pred</b></td><td style=\"background-color: rgb(255,255,255);\">O</td><td style=\"background-color: rgb(255,255,255);\">O</td><td style=\"background-color: rgb(255,255,255);\">B-Agent</td><td style=\"background-color: rgb(255,255,255);\">O</td><td style=\"background-color: rgb(255,255,255);\">B-Beneficiary</td><td style=\"background-color: rgb(255,255,255);\">B-Theme</td><td style=\"background-color: rgb(255,255,255);\">I-Theme</td><td style=\"background-color: rgb(255,255,255);\">I-Theme</td><td style=\"background-color: rgb(255,255,255);\">B-Source</td><td style=\"background-color: rgb(255,255,255);\">I-Source</td><td style=\"background-color: rgb(255,255,255);\">I-Source</td></tr></table>"
      ],
      "text/plain": [
       "<IPython.core.display.HTML object>"
      ]
     },
     "metadata": {},
     "output_type": "display_data"
    },
    {
     "name": "stdout",
     "output_type": "stream",
     "text": [
      "true: Taking pred: Taking\n"
     ]
    },
    {
     "data": {
      "text/html": [
       "<table><tr><td><b>words</b></td><td style=\"background-color: rgb(255,255,255);\">get</td><td style=\"background-color: rgb(255,255,255);\">my</td><td style=\"background-color: rgb(255,255,255);\">computer</td><td style=\"background-color: rgb(255,255,255);\">from</td><td style=\"background-color: rgb(255,255,255);\">the</td><td style=\"background-color: rgb(255,255,255);\">seat</td></tr><tr><td><b>lexical_unit</b></td><td style=\"background-color: rgb(0.0000, 255,0.0000);\">1.0000</td><td style=\"background-color: rgb(255.0000, 255,255.0000);\">0.0000</td><td style=\"background-color: rgb(255.0000, 255,255.0000);\">0.0000</td><td style=\"background-color: rgb(255.0000, 255,255.0000);\">0.0000</td><td style=\"background-color: rgb(255.0000, 255,255.0000);\">0.0000</td><td style=\"background-color: rgb(255.0000, 255,255.0000);\">0.0000</td></tr><tr><td><b>attention_intent</b></td><td style=\"background-color: rgb(254.4663, 255,254.4663);\">0.0021</td><td style=\"background-color: rgb(38.7738, 255,38.7738);\">0.8479</td><td style=\"background-color: rgb(254.8576, 255,254.8576);\">0.0006</td><td style=\"background-color: rgb(254.9195, 255,254.9195);\">0.0003</td><td style=\"background-color: rgb(217.0393, 255,217.0393);\">0.1489</td><td style=\"background-color: rgb(254.9999, 255,254.9999);\">0.0000</td></tr><tr><td><b>slots_true</b></td><td style=\"background-color: rgb(255,255,255);\">O</td><td style=\"background-color: rgb(255,255,255);\">B-Theme</td><td style=\"background-color: rgb(255,255,255);\">I-Theme</td><td style=\"background-color: rgb(255,255,255);\">B-Source</td><td style=\"background-color: rgb(255,255,255);\">I-Source</td><td style=\"background-color: rgb(255,255,255);\">I-Source</td></tr><tr><td><b>slots_pred</b></td><td style=\"background-color: rgb(255,255,255);\">O</td><td style=\"background-color: rgb(255,255,255);\">B-Theme</td><td style=\"background-color: rgb(255,255,255);\">I-Theme</td><td style=\"background-color: rgb(255,255,255);\">B-Source</td><td style=\"background-color: rgb(255,255,255);\">I-Source</td><td style=\"background-color: rgb(255,255,255);\">I-Source</td></tr></table>"
      ],
      "text/plain": [
       "<IPython.core.display.HTML object>"
      ]
     },
     "metadata": {},
     "output_type": "display_data"
    },
    {
     "name": "stdout",
     "output_type": "stream",
     "text": [
      "true: Change_operational_state pred: Change_operational_state\n"
     ]
    },
    {
     "data": {
      "text/html": [
       "<table><tr><td><b>words</b></td><td style=\"background-color: rgb(255,255,255);\">could</td><td style=\"background-color: rgb(255,255,255);\">you</td><td style=\"background-color: rgb(255,255,255);\">please</td><td style=\"background-color: rgb(255,255,255);\">turn</td><td style=\"background-color: rgb(255,255,255);\">on</td><td style=\"background-color: rgb(255,255,255);\">the</td><td style=\"background-color: rgb(255,255,255);\">tv</td></tr><tr><td><b>lexical_unit</b></td><td style=\"background-color: rgb(255.0000, 255,255.0000);\">0.0000</td><td style=\"background-color: rgb(255.0000, 255,255.0000);\">0.0000</td><td style=\"background-color: rgb(255.0000, 255,255.0000);\">0.0000</td><td style=\"background-color: rgb(0.0000, 255,0.0000);\">1.0000</td><td style=\"background-color: rgb(255.0000, 255,255.0000);\">0.0000</td><td style=\"background-color: rgb(255.0000, 255,255.0000);\">0.0000</td><td style=\"background-color: rgb(255.0000, 255,255.0000);\">0.0000</td></tr><tr><td><b>attention_intent</b></td><td style=\"background-color: rgb(255.0000, 255,255.0000);\">0.0000</td><td style=\"background-color: rgb(255.0000, 255,255.0000);\">0.0000</td><td style=\"background-color: rgb(255.0000, 255,255.0000);\">0.0000</td><td style=\"background-color: rgb(254.3328, 255,254.3328);\">0.0026</td><td style=\"background-color: rgb(129.2983, 255,129.2983);\">0.4929</td><td style=\"background-color: rgb(180.3723, 255,180.3723);\">0.2927</td><td style=\"background-color: rgb(200.9968, 255,200.9968);\">0.2118</td></tr><tr><td><b>slots_true</b></td><td style=\"background-color: rgb(255,255,255);\">O</td><td style=\"background-color: rgb(255,255,255);\">B-Agent</td><td style=\"background-color: rgb(255,255,255);\">O</td><td style=\"background-color: rgb(255,255,255);\">O</td><td style=\"background-color: rgb(255,255,255);\">B-Operational_state</td><td style=\"background-color: rgb(255,255,255);\">B-Device</td><td style=\"background-color: rgb(255,255,255);\">I-Device</td></tr><tr><td><b>slots_pred</b></td><td style=\"background-color: rgb(255,255,255);\">O</td><td style=\"background-color: rgb(255,255,255);\">B-Agent</td><td style=\"background-color: rgb(255,255,255);\">O</td><td style=\"background-color: rgb(255,255,255);\">O</td><td style=\"background-color: rgb(255,255,255);\">B-Operational_state</td><td style=\"background-color: rgb(255,255,255);\">B-Device</td><td style=\"background-color: rgb(255,255,255);\">I-Device</td></tr></table>"
      ],
      "text/plain": [
       "<IPython.core.display.HTML object>"
      ]
     },
     "metadata": {},
     "output_type": "display_data"
    },
    {
     "name": "stdout",
     "output_type": "stream",
     "text": [
      "true: Following pred: Following\n"
     ]
    },
    {
     "data": {
      "text/html": [
       "<table><tr><td><b>words</b></td><td style=\"background-color: rgb(255,255,255);\">follow</td><td style=\"background-color: rgb(255,255,255);\">me</td></tr><tr><td><b>lexical_unit</b></td><td style=\"background-color: rgb(0.0000, 255,0.0000);\">1.0000</td><td style=\"background-color: rgb(255.0000, 255,255.0000);\">0.0000</td></tr><tr><td><b>attention_intent</b></td><td style=\"background-color: rgb(0.8937, 255,0.8937);\">0.9965</td><td style=\"background-color: rgb(254.1072, 255,254.1072);\">0.0035</td></tr><tr><td><b>slots_true</b></td><td style=\"background-color: rgb(255,255,255);\">O</td><td style=\"background-color: rgb(255,255,255);\">B-Cotheme</td></tr><tr><td><b>slots_pred</b></td><td style=\"background-color: rgb(255,255,255);\">O</td><td style=\"background-color: rgb(255,255,255);\">B-Cotheme</td></tr></table>"
      ],
      "text/plain": [
       "<IPython.core.display.HTML object>"
      ]
     },
     "metadata": {},
     "output_type": "display_data"
    },
    {
     "name": "stdout",
     "output_type": "stream",
     "text": [
      "true: Following pred: Following\n"
     ]
    },
    {
     "data": {
      "text/html": [
       "<table><tr><td><b>words</b></td><td style=\"background-color: rgb(255,255,255);\">robot</td><td style=\"background-color: rgb(255,255,255);\">come</td><td style=\"background-color: rgb(255,255,255);\">with</td><td style=\"background-color: rgb(255,255,255);\">me</td><td style=\"background-color: rgb(255,255,255);\">to</td><td style=\"background-color: rgb(255,255,255);\">the</td><td style=\"background-color: rgb(255,255,255);\">living</td><td style=\"background-color: rgb(255,255,255);\">room</td></tr><tr><td><b>lexical_unit</b></td><td style=\"background-color: rgb(255.0000, 255,255.0000);\">0.0000</td><td style=\"background-color: rgb(0.0000, 255,0.0000);\">1.0000</td><td style=\"background-color: rgb(255.0000, 255,255.0000);\">0.0000</td><td style=\"background-color: rgb(255.0000, 255,255.0000);\">0.0000</td><td style=\"background-color: rgb(255.0000, 255,255.0000);\">0.0000</td><td style=\"background-color: rgb(255.0000, 255,255.0000);\">0.0000</td><td style=\"background-color: rgb(255.0000, 255,255.0000);\">0.0000</td><td style=\"background-color: rgb(255.0000, 255,255.0000);\">0.0000</td></tr><tr><td><b>attention_intent</b></td><td style=\"background-color: rgb(255.0000, 255,255.0000);\">0.0000</td><td style=\"background-color: rgb(254.9623, 255,254.9623);\">0.0001</td><td style=\"background-color: rgb(173.1298, 255,173.1298);\">0.3211</td><td style=\"background-color: rgb(230.5792, 255,230.5792);\">0.0958</td><td style=\"background-color: rgb(120.0500, 255,120.0500);\">0.5292</td><td style=\"background-color: rgb(242.3746, 255,242.3746);\">0.0495</td><td style=\"background-color: rgb(253.9193, 255,253.9193);\">0.0042</td><td style=\"background-color: rgb(255.0000, 255,255.0000);\">0.0000</td></tr><tr><td><b>slots_true</b></td><td style=\"background-color: rgb(255,255,255);\">O</td><td style=\"background-color: rgb(255,255,255);\">O</td><td style=\"background-color: rgb(255,255,255);\">B-Cotheme</td><td style=\"background-color: rgb(255,255,255);\">I-Cotheme</td><td style=\"background-color: rgb(255,255,255);\">B-Goal</td><td style=\"background-color: rgb(255,255,255);\">I-Goal</td><td style=\"background-color: rgb(255,255,255);\">I-Goal</td><td style=\"background-color: rgb(255,255,255);\">I-Goal</td></tr><tr><td><b>slots_pred</b></td><td style=\"background-color: rgb(255,255,255);\">O</td><td style=\"background-color: rgb(255,255,255);\">O</td><td style=\"background-color: rgb(255,255,255);\">B-Theme</td><td style=\"background-color: rgb(255,255,255);\">I-Theme</td><td style=\"background-color: rgb(255,255,255);\">B-Goal</td><td style=\"background-color: rgb(255,255,255);\">I-Goal</td><td style=\"background-color: rgb(255,255,255);\">I-Goal</td><td style=\"background-color: rgb(255,255,255);\">I-Goal</td></tr></table>"
      ],
      "text/plain": [
       "<IPython.core.display.HTML object>"
      ]
     },
     "metadata": {},
     "output_type": "display_data"
    },
    {
     "name": "stdout",
     "output_type": "stream",
     "text": [
      "true: Being_in_category pred: Being_in_category\n"
     ]
    },
    {
     "data": {
      "text/html": [
       "<table><tr><td><b>words</b></td><td style=\"background-color: rgb(255,255,255);\">this</td><td style=\"background-color: rgb(255,255,255);\">is</td><td style=\"background-color: rgb(255,255,255);\">a</td><td style=\"background-color: rgb(255,255,255);\">bed</td><td style=\"background-color: rgb(255,255,255);\">room</td></tr><tr><td><b>lexical_unit</b></td><td style=\"background-color: rgb(255.0000, 255,255.0000);\">0.0000</td><td style=\"background-color: rgb(0.0000, 255,0.0000);\">1.0000</td><td style=\"background-color: rgb(255.0000, 255,255.0000);\">0.0000</td><td style=\"background-color: rgb(255.0000, 255,255.0000);\">0.0000</td><td style=\"background-color: rgb(255.0000, 255,255.0000);\">0.0000</td></tr><tr><td><b>attention_intent</b></td><td style=\"background-color: rgb(254.9997, 255,254.9997);\">0.0000</td><td style=\"background-color: rgb(254.8419, 255,254.8419);\">0.0006</td><td style=\"background-color: rgb(6.1094, 255,6.1094);\">0.9760</td><td style=\"background-color: rgb(249.6359, 255,249.6359);\">0.0210</td><td style=\"background-color: rgb(254.8210, 255,254.8210);\">0.0007</td></tr><tr><td><b>slots_true</b></td><td style=\"background-color: rgb(255,255,255);\">B-Item</td><td style=\"background-color: rgb(255,255,255);\">O</td><td style=\"background-color: rgb(255,255,255);\">B-Category</td><td style=\"background-color: rgb(255,255,255);\">I-Category</td><td style=\"background-color: rgb(255,255,255);\">I-Category</td></tr><tr><td><b>slots_pred</b></td><td style=\"background-color: rgb(255,255,255);\">B-Item</td><td style=\"background-color: rgb(255,255,255);\">O</td><td style=\"background-color: rgb(255,255,255);\">B-Category</td><td style=\"background-color: rgb(255,255,255);\">I-Category</td><td style=\"background-color: rgb(255,255,255);\">I-Category</td></tr></table>"
      ],
      "text/plain": [
       "<IPython.core.display.HTML object>"
      ]
     },
     "metadata": {},
     "output_type": "display_data"
    },
    {
     "name": "stdout",
     "output_type": "stream",
     "text": [
      "true: Bringing pred: Bringing\n"
     ]
    },
    {
     "data": {
      "text/html": [
       "<table><tr><td><b>words</b></td><td style=\"background-color: rgb(255,255,255);\">take</td><td style=\"background-color: rgb(255,255,255);\">the</td><td style=\"background-color: rgb(255,255,255);\">book</td><td style=\"background-color: rgb(255,255,255);\">to</td><td style=\"background-color: rgb(255,255,255);\">the</td><td style=\"background-color: rgb(255,255,255);\">bedroom</td></tr><tr><td><b>lexical_unit</b></td><td style=\"background-color: rgb(0.0000, 255,0.0000);\">1.0000</td><td style=\"background-color: rgb(255.0000, 255,255.0000);\">0.0000</td><td style=\"background-color: rgb(255.0000, 255,255.0000);\">0.0000</td><td style=\"background-color: rgb(255.0000, 255,255.0000);\">0.0000</td><td style=\"background-color: rgb(255.0000, 255,255.0000);\">0.0000</td><td style=\"background-color: rgb(255.0000, 255,255.0000);\">0.0000</td></tr><tr><td><b>attention_intent</b></td><td style=\"background-color: rgb(254.9990, 255,254.9990);\">0.0000</td><td style=\"background-color: rgb(254.9224, 255,254.9224);\">0.0003</td><td style=\"background-color: rgb(255.0000, 255,255.0000);\">0.0000</td><td style=\"background-color: rgb(7.0705, 255,7.0705);\">0.9723</td><td style=\"background-color: rgb(248.0112, 255,248.0112);\">0.0274</td><td style=\"background-color: rgb(254.9997, 255,254.9997);\">0.0000</td></tr><tr><td><b>slots_true</b></td><td style=\"background-color: rgb(255,255,255);\">O</td><td style=\"background-color: rgb(255,255,255);\">B-Theme</td><td style=\"background-color: rgb(255,255,255);\">I-Theme</td><td style=\"background-color: rgb(255,255,255);\">B-Goal</td><td style=\"background-color: rgb(255,255,255);\">I-Goal</td><td style=\"background-color: rgb(255,255,255);\">I-Goal</td></tr><tr><td><b>slots_pred</b></td><td style=\"background-color: rgb(255,255,255);\">O</td><td style=\"background-color: rgb(255,255,255);\">B-Theme</td><td style=\"background-color: rgb(255,255,255);\">I-Theme</td><td style=\"background-color: rgb(255,255,255);\">B-Goal</td><td style=\"background-color: rgb(255,255,255);\">I-Goal</td><td style=\"background-color: rgb(255,255,255);\">I-Goal</td></tr></table>"
      ],
      "text/plain": [
       "<IPython.core.display.HTML object>"
      ]
     },
     "metadata": {},
     "output_type": "display_data"
    },
    {
     "name": "stdout",
     "output_type": "stream",
     "text": [
      "true: Taking pred: Taking\n"
     ]
    },
    {
     "data": {
      "text/html": [
       "<table><tr><td><b>words</b></td><td style=\"background-color: rgb(255,255,255);\">take</td><td style=\"background-color: rgb(255,255,255);\">the</td><td style=\"background-color: rgb(255,255,255);\">newspaper</td><td style=\"background-color: rgb(255,255,255);\">from</td><td style=\"background-color: rgb(255,255,255);\">the</td><td style=\"background-color: rgb(255,255,255);\">stand</td></tr><tr><td><b>lexical_unit</b></td><td style=\"background-color: rgb(0.0000, 255,0.0000);\">1.0000</td><td style=\"background-color: rgb(255.0000, 255,255.0000);\">0.0000</td><td style=\"background-color: rgb(255.0000, 255,255.0000);\">0.0000</td><td style=\"background-color: rgb(255.0000, 255,255.0000);\">0.0000</td><td style=\"background-color: rgb(255.0000, 255,255.0000);\">0.0000</td><td style=\"background-color: rgb(255.0000, 255,255.0000);\">0.0000</td></tr><tr><td><b>attention_intent</b></td><td style=\"background-color: rgb(254.8510, 255,254.8510);\">0.0006</td><td style=\"background-color: rgb(192.1929, 255,192.1929);\">0.2463</td><td style=\"background-color: rgb(254.6564, 255,254.6564);\">0.0013</td><td style=\"background-color: rgb(254.2607, 255,254.2607);\">0.0029</td><td style=\"background-color: rgb(64.1407, 255,64.1407);\">0.7485</td><td style=\"background-color: rgb(254.9980, 255,254.9980);\">0.0000</td></tr><tr><td><b>slots_true</b></td><td style=\"background-color: rgb(255,255,255);\">O</td><td style=\"background-color: rgb(255,255,255);\">B-Theme</td><td style=\"background-color: rgb(255,255,255);\">I-Theme</td><td style=\"background-color: rgb(255,255,255);\">B-Source</td><td style=\"background-color: rgb(255,255,255);\">I-Source</td><td style=\"background-color: rgb(255,255,255);\">I-Source</td></tr><tr><td><b>slots_pred</b></td><td style=\"background-color: rgb(255,255,255);\">O</td><td style=\"background-color: rgb(255,255,255);\">B-Theme</td><td style=\"background-color: rgb(255,255,255);\">I-Theme</td><td style=\"background-color: rgb(255,255,255);\">B-Source</td><td style=\"background-color: rgb(255,255,255);\">I-Source</td><td style=\"background-color: rgb(255,255,255);\">I-Source</td></tr></table>"
      ],
      "text/plain": [
       "<IPython.core.display.HTML object>"
      ]
     },
     "metadata": {},
     "output_type": "display_data"
    },
    {
     "name": "stdout",
     "output_type": "stream",
     "text": [
      "true: Motion pred: Motion\n"
     ]
    },
    {
     "data": {
      "text/html": [
       "<table><tr><td><b>words</b></td><td style=\"background-color: rgb(255,255,255);\">go</td><td style=\"background-color: rgb(255,255,255);\">to</td><td style=\"background-color: rgb(255,255,255);\">the</td><td style=\"background-color: rgb(255,255,255);\">fridge</td></tr><tr><td><b>lexical_unit</b></td><td style=\"background-color: rgb(0.0000, 255,0.0000);\">1.0000</td><td style=\"background-color: rgb(255.0000, 255,255.0000);\">0.0000</td><td style=\"background-color: rgb(255.0000, 255,255.0000);\">0.0000</td><td style=\"background-color: rgb(255.0000, 255,255.0000);\">0.0000</td></tr><tr><td><b>attention_intent</b></td><td style=\"background-color: rgb(254.9962, 255,254.9962);\">0.0000</td><td style=\"background-color: rgb(96.6320, 255,96.6320);\">0.6211</td><td style=\"background-color: rgb(158.4776, 255,158.4776);\">0.3785</td><td style=\"background-color: rgb(254.8959, 255,254.8959);\">0.0004</td></tr><tr><td><b>slots_true</b></td><td style=\"background-color: rgb(255,255,255);\">O</td><td style=\"background-color: rgb(255,255,255);\">B-Goal</td><td style=\"background-color: rgb(255,255,255);\">I-Goal</td><td style=\"background-color: rgb(255,255,255);\">I-Goal</td></tr><tr><td><b>slots_pred</b></td><td style=\"background-color: rgb(255,255,255);\">O</td><td style=\"background-color: rgb(255,255,255);\">B-Goal</td><td style=\"background-color: rgb(255,255,255);\">I-Goal</td><td style=\"background-color: rgb(255,255,255);\">I-Goal</td></tr></table>"
      ],
      "text/plain": [
       "<IPython.core.display.HTML object>"
      ]
     },
     "metadata": {},
     "output_type": "display_data"
    },
    {
     "name": "stdout",
     "output_type": "stream",
     "text": [
      "true: Closure pred: Change_operational_state\n"
     ]
    },
    {
     "data": {
      "text/html": [
       "<table><tr><td><b>words</b></td><td style=\"background-color: rgb(255,255,255);\">and</td><td style=\"background-color: rgb(255,255,255);\">open</td><td style=\"background-color: rgb(255,255,255);\">it</td></tr><tr><td><b>lexical_unit</b></td><td style=\"background-color: rgb(255.0000, 255,255.0000);\">0.0000</td><td style=\"background-color: rgb(0.0000, 255,0.0000);\">1.0000</td><td style=\"background-color: rgb(255.0000, 255,255.0000);\">0.0000</td></tr><tr><td><b>attention_intent</b></td><td style=\"background-color: rgb(254.9994, 255,254.9994);\">0.0000</td><td style=\"background-color: rgb(231.9199, 255,231.9199);\">0.0905</td><td style=\"background-color: rgb(23.0900, 255,23.0900);\">0.9095</td></tr><tr><td><b>slots_true</b></td><td style=\"background-color: rgb(255,255,255);\">O</td><td style=\"background-color: rgb(255,255,255);\">O</td><td style=\"background-color: rgb(255,255,255);\">B-Container_portal</td></tr><tr><td><b>slots_pred</b></td><td style=\"background-color: rgb(255,255,255);\">O</td><td style=\"background-color: rgb(255,255,255);\">O</td><td style=\"background-color: rgb(255,255,255);\">B-Containing_object</td></tr></table>"
      ],
      "text/plain": [
       "<IPython.core.display.HTML object>"
      ]
     },
     "metadata": {},
     "output_type": "display_data"
    },
    {
     "name": "stdout",
     "output_type": "stream",
     "text": [
      "true: Motion pred: Motion\n"
     ]
    },
    {
     "data": {
      "text/html": [
       "<table><tr><td><b>words</b></td><td style=\"background-color: rgb(255,255,255);\">move</td><td style=\"background-color: rgb(255,255,255);\">towards</td><td style=\"background-color: rgb(255,255,255);\">the</td><td style=\"background-color: rgb(255,255,255);\">kitchen</td></tr><tr><td><b>lexical_unit</b></td><td style=\"background-color: rgb(0.0000, 255,0.0000);\">1.0000</td><td style=\"background-color: rgb(255.0000, 255,255.0000);\">0.0000</td><td style=\"background-color: rgb(255.0000, 255,255.0000);\">0.0000</td><td style=\"background-color: rgb(255.0000, 255,255.0000);\">0.0000</td></tr><tr><td><b>attention_intent</b></td><td style=\"background-color: rgb(254.9477, 255,254.9477);\">0.0002</td><td style=\"background-color: rgb(31.2903, 255,31.2903);\">0.8773</td><td style=\"background-color: rgb(223.7698, 255,223.7698);\">0.1225</td><td style=\"background-color: rgb(254.9927, 255,254.9927);\">0.0000</td></tr><tr><td><b>slots_true</b></td><td style=\"background-color: rgb(255,255,255);\">O</td><td style=\"background-color: rgb(255,255,255);\">B-Goal</td><td style=\"background-color: rgb(255,255,255);\">I-Goal</td><td style=\"background-color: rgb(255,255,255);\">I-Goal</td></tr><tr><td><b>slots_pred</b></td><td style=\"background-color: rgb(255,255,255);\">O</td><td style=\"background-color: rgb(255,255,255);\">B-Goal</td><td style=\"background-color: rgb(255,255,255);\">I-Goal</td><td style=\"background-color: rgb(255,255,255);\">I-Goal</td></tr></table>"
      ],
      "text/plain": [
       "<IPython.core.display.HTML object>"
      ]
     },
     "metadata": {},
     "output_type": "display_data"
    },
    {
     "name": "stdout",
     "output_type": "stream",
     "text": [
      "true: Bringing pred: Bringing\n"
     ]
    },
    {
     "data": {
      "text/html": [
       "<table><tr><td><b>words</b></td><td style=\"background-color: rgb(255,255,255);\">and</td><td style=\"background-color: rgb(255,255,255);\">bring</td><td style=\"background-color: rgb(255,255,255);\">it</td><td style=\"background-color: rgb(255,255,255);\">to</td><td style=\"background-color: rgb(255,255,255);\">me</td></tr><tr><td><b>lexical_unit</b></td><td style=\"background-color: rgb(255.0000, 255,255.0000);\">0.0000</td><td style=\"background-color: rgb(0.0000, 255,0.0000);\">1.0000</td><td style=\"background-color: rgb(255.0000, 255,255.0000);\">0.0000</td><td style=\"background-color: rgb(255.0000, 255,255.0000);\">0.0000</td><td style=\"background-color: rgb(255.0000, 255,255.0000);\">0.0000</td></tr><tr><td><b>attention_intent</b></td><td style=\"background-color: rgb(255.0000, 255,255.0000);\">0.0000</td><td style=\"background-color: rgb(254.6365, 255,254.6365);\">0.0014</td><td style=\"background-color: rgb(254.4520, 255,254.4520);\">0.0021</td><td style=\"background-color: rgb(17.7664, 255,17.7664);\">0.9303</td><td style=\"background-color: rgb(238.1458, 255,238.1458);\">0.0661</td></tr><tr><td><b>slots_true</b></td><td style=\"background-color: rgb(255,255,255);\">O</td><td style=\"background-color: rgb(255,255,255);\">O</td><td style=\"background-color: rgb(255,255,255);\">B-Theme</td><td style=\"background-color: rgb(255,255,255);\">B-Beneficiary</td><td style=\"background-color: rgb(255,255,255);\">I-Beneficiary</td></tr><tr><td><b>slots_pred</b></td><td style=\"background-color: rgb(255,255,255);\">O</td><td style=\"background-color: rgb(255,255,255);\">O</td><td style=\"background-color: rgb(255,255,255);\">B-Theme</td><td style=\"background-color: rgb(255,255,255);\">B-Beneficiary</td><td style=\"background-color: rgb(255,255,255);\">I-Beneficiary</td></tr></table>"
      ],
      "text/plain": [
       "<IPython.core.display.HTML object>"
      ]
     },
     "metadata": {},
     "output_type": "display_data"
    },
    {
     "name": "stdout",
     "output_type": "stream",
     "text": [
      "true: Following pred: Following\n"
     ]
    },
    {
     "data": {
      "text/html": [
       "<table><tr><td><b>words</b></td><td style=\"background-color: rgb(255,255,255);\">please</td><td style=\"background-color: rgb(255,255,255);\">follow</td><td style=\"background-color: rgb(255,255,255);\">that</td><td style=\"background-color: rgb(255,255,255);\">person</td></tr><tr><td><b>lexical_unit</b></td><td style=\"background-color: rgb(255.0000, 255,255.0000);\">0.0000</td><td style=\"background-color: rgb(0.0000, 255,0.0000);\">1.0000</td><td style=\"background-color: rgb(255.0000, 255,255.0000);\">0.0000</td><td style=\"background-color: rgb(255.0000, 255,255.0000);\">0.0000</td></tr><tr><td><b>attention_intent</b></td><td style=\"background-color: rgb(255.0000, 255,255.0000);\">0.0000</td><td style=\"background-color: rgb(47.7749, 255,47.7749);\">0.8126</td><td style=\"background-color: rgb(207.2415, 255,207.2415);\">0.1873</td><td style=\"background-color: rgb(254.9853, 255,254.9853);\">0.0001</td></tr><tr><td><b>slots_true</b></td><td style=\"background-color: rgb(255,255,255);\">O</td><td style=\"background-color: rgb(255,255,255);\">O</td><td style=\"background-color: rgb(255,255,255);\">B-Cotheme</td><td style=\"background-color: rgb(255,255,255);\">I-Cotheme</td></tr><tr><td><b>slots_pred</b></td><td style=\"background-color: rgb(255,255,255);\">O</td><td style=\"background-color: rgb(255,255,255);\">O</td><td style=\"background-color: rgb(255,255,255);\">B-Cotheme</td><td style=\"background-color: rgb(255,255,255);\">I-Cotheme</td></tr></table>"
      ],
      "text/plain": [
       "<IPython.core.display.HTML object>"
      ]
     },
     "metadata": {},
     "output_type": "display_data"
    },
    {
     "name": "stdout",
     "output_type": "stream",
     "text": [
      "true: Searching pred: Searching\n"
     ]
    },
    {
     "data": {
      "text/html": [
       "<table><tr><td><b>words</b></td><td style=\"background-color: rgb(255,255,255);\">search</td><td style=\"background-color: rgb(255,255,255);\">for</td><td style=\"background-color: rgb(255,255,255);\">the</td><td style=\"background-color: rgb(255,255,255);\">scissors</td><td style=\"background-color: rgb(255,255,255);\">in</td><td style=\"background-color: rgb(255,255,255);\">the</td><td style=\"background-color: rgb(255,255,255);\">red</td><td style=\"background-color: rgb(255,255,255);\">drawer</td></tr><tr><td><b>lexical_unit</b></td><td style=\"background-color: rgb(0.0000, 255,0.0000);\">1.0000</td><td style=\"background-color: rgb(255.0000, 255,255.0000);\">0.0000</td><td style=\"background-color: rgb(255.0000, 255,255.0000);\">0.0000</td><td style=\"background-color: rgb(255.0000, 255,255.0000);\">0.0000</td><td style=\"background-color: rgb(255.0000, 255,255.0000);\">0.0000</td><td style=\"background-color: rgb(255.0000, 255,255.0000);\">0.0000</td><td style=\"background-color: rgb(255.0000, 255,255.0000);\">0.0000</td><td style=\"background-color: rgb(255.0000, 255,255.0000);\">0.0000</td></tr><tr><td><b>attention_intent</b></td><td style=\"background-color: rgb(254.9986, 255,254.9986);\">0.0000</td><td style=\"background-color: rgb(252.9379, 255,252.9379);\">0.0081</td><td style=\"background-color: rgb(242.9642, 255,242.9642);\">0.0472</td><td style=\"background-color: rgb(254.9913, 255,254.9913);\">0.0000</td><td style=\"background-color: rgb(254.5987, 255,254.5987);\">0.0016</td><td style=\"background-color: rgb(93.3683, 255,93.3683);\">0.6338</td><td style=\"background-color: rgb(176.4858, 255,176.4858);\">0.3079</td><td style=\"background-color: rgb(254.6568, 255,254.6568);\">0.0013</td></tr><tr><td><b>slots_true</b></td><td style=\"background-color: rgb(255,255,255);\">O</td><td style=\"background-color: rgb(255,255,255);\">B-Phenomenon</td><td style=\"background-color: rgb(255,255,255);\">I-Phenomenon</td><td style=\"background-color: rgb(255,255,255);\">I-Phenomenon</td><td style=\"background-color: rgb(255,255,255);\">B-Ground</td><td style=\"background-color: rgb(255,255,255);\">I-Ground</td><td style=\"background-color: rgb(255,255,255);\">I-Ground</td><td style=\"background-color: rgb(255,255,255);\">I-Ground</td></tr><tr><td><b>slots_pred</b></td><td style=\"background-color: rgb(255,255,255);\">O</td><td style=\"background-color: rgb(255,255,255);\">B-Phenomenon</td><td style=\"background-color: rgb(255,255,255);\">I-Phenomenon</td><td style=\"background-color: rgb(255,255,255);\">I-Phenomenon</td><td style=\"background-color: rgb(255,255,255);\">B-Ground</td><td style=\"background-color: rgb(255,255,255);\">I-Ground</td><td style=\"background-color: rgb(255,255,255);\">I-Ground</td><td style=\"background-color: rgb(255,255,255);\">I-Ground</td></tr></table>"
      ],
      "text/plain": [
       "<IPython.core.display.HTML object>"
      ]
     },
     "metadata": {},
     "output_type": "display_data"
    },
    {
     "name": "stdout",
     "output_type": "stream",
     "text": [
      "true: Searching pred: Searching\n"
     ]
    },
    {
     "data": {
      "text/html": [
       "<table><tr><td><b>words</b></td><td style=\"background-color: rgb(255,255,255);\">please</td><td style=\"background-color: rgb(255,255,255);\">find</td><td style=\"background-color: rgb(255,255,255);\">the</td><td style=\"background-color: rgb(255,255,255);\">flowers</td></tr><tr><td><b>lexical_unit</b></td><td style=\"background-color: rgb(255.0000, 255,255.0000);\">0.0000</td><td style=\"background-color: rgb(0.0000, 255,0.0000);\">1.0000</td><td style=\"background-color: rgb(255.0000, 255,255.0000);\">0.0000</td><td style=\"background-color: rgb(255.0000, 255,255.0000);\">0.0000</td></tr><tr><td><b>attention_intent</b></td><td style=\"background-color: rgb(255.0000, 255,255.0000);\">0.0000</td><td style=\"background-color: rgb(254.9874, 255,254.9874);\">0.0000</td><td style=\"background-color: rgb(20.8869, 255,20.8869);\">0.9181</td><td style=\"background-color: rgb(234.1265, 255,234.1265);\">0.0819</td></tr><tr><td><b>slots_true</b></td><td style=\"background-color: rgb(255,255,255);\">O</td><td style=\"background-color: rgb(255,255,255);\">O</td><td style=\"background-color: rgb(255,255,255);\">B-Phenomenon</td><td style=\"background-color: rgb(255,255,255);\">I-Phenomenon</td></tr><tr><td><b>slots_pred</b></td><td style=\"background-color: rgb(255,255,255);\">O</td><td style=\"background-color: rgb(255,255,255);\">O</td><td style=\"background-color: rgb(255,255,255);\">B-Phenomenon</td><td style=\"background-color: rgb(255,255,255);\">I-Phenomenon</td></tr></table>"
      ],
      "text/plain": [
       "<IPython.core.display.HTML object>"
      ]
     },
     "metadata": {},
     "output_type": "display_data"
    },
    {
     "name": "stdout",
     "output_type": "stream",
     "text": [
      "true: Taking pred: Taking\n"
     ]
    },
    {
     "data": {
      "text/html": [
       "<table><tr><td><b>words</b></td><td style=\"background-color: rgb(255,255,255);\">grab</td><td style=\"background-color: rgb(255,255,255);\">the</td><td style=\"background-color: rgb(255,255,255);\">pillow</td><td style=\"background-color: rgb(255,255,255);\">at</td><td style=\"background-color: rgb(255,255,255);\">the</td><td style=\"background-color: rgb(255,255,255);\">left</td><td style=\"background-color: rgb(255,255,255);\">of</td><td style=\"background-color: rgb(255,255,255);\">the</td><td style=\"background-color: rgb(255,255,255);\">couch</td></tr><tr><td><b>lexical_unit</b></td><td style=\"background-color: rgb(0.0000, 255,0.0000);\">1.0000</td><td style=\"background-color: rgb(255.0000, 255,255.0000);\">0.0000</td><td style=\"background-color: rgb(255.0000, 255,255.0000);\">0.0000</td><td style=\"background-color: rgb(255.0000, 255,255.0000);\">0.0000</td><td style=\"background-color: rgb(255.0000, 255,255.0000);\">0.0000</td><td style=\"background-color: rgb(255.0000, 255,255.0000);\">0.0000</td><td style=\"background-color: rgb(255.0000, 255,255.0000);\">0.0000</td><td style=\"background-color: rgb(255.0000, 255,255.0000);\">0.0000</td><td style=\"background-color: rgb(255.0000, 255,255.0000);\">0.0000</td></tr><tr><td><b>attention_intent</b></td><td style=\"background-color: rgb(254.2022, 255,254.2022);\">0.0031</td><td style=\"background-color: rgb(223.7738, 255,223.7738);\">0.1225</td><td style=\"background-color: rgb(254.9711, 255,254.9711);\">0.0001</td><td style=\"background-color: rgb(254.9702, 255,254.9702);\">0.0001</td><td style=\"background-color: rgb(253.1236, 255,253.1236);\">0.0074</td><td style=\"background-color: rgb(253.9852, 255,253.9852);\">0.0040</td><td style=\"background-color: rgb(214.5143, 255,214.5143);\">0.1588</td><td style=\"background-color: rgb(76.9269, 255,76.9269);\">0.6983</td><td style=\"background-color: rgb(254.9987, 255,254.9987);\">0.0000</td></tr><tr><td><b>slots_true</b></td><td style=\"background-color: rgb(255,255,255);\">O</td><td style=\"background-color: rgb(255,255,255);\">B-Theme</td><td style=\"background-color: rgb(255,255,255);\">I-Theme</td><td style=\"background-color: rgb(255,255,255);\">I-Theme</td><td style=\"background-color: rgb(255,255,255);\">I-Theme</td><td style=\"background-color: rgb(255,255,255);\">I-Theme</td><td style=\"background-color: rgb(255,255,255);\">I-Theme</td><td style=\"background-color: rgb(255,255,255);\">I-Theme</td><td style=\"background-color: rgb(255,255,255);\">I-Theme</td></tr><tr><td><b>slots_pred</b></td><td style=\"background-color: rgb(255,255,255);\">O</td><td style=\"background-color: rgb(255,255,255);\">B-Theme</td><td style=\"background-color: rgb(255,255,255);\">I-Theme</td><td style=\"background-color: rgb(255,255,255);\">B-Theme</td><td style=\"background-color: rgb(255,255,255);\">I-Theme</td><td style=\"background-color: rgb(255,255,255);\">I-Theme</td><td style=\"background-color: rgb(255,255,255);\">I-Theme</td><td style=\"background-color: rgb(255,255,255);\">I-Theme</td><td style=\"background-color: rgb(255,255,255);\">I-Theme</td></tr></table>"
      ],
      "text/plain": [
       "<IPython.core.display.HTML object>"
      ]
     },
     "metadata": {},
     "output_type": "display_data"
    },
    {
     "name": "stdout",
     "output_type": "stream",
     "text": [
      "true: Bringing pred: Bringing\n"
     ]
    },
    {
     "data": {
      "text/html": [
       "<table><tr><td><b>words</b></td><td style=\"background-color: rgb(255,255,255);\">take</td><td style=\"background-color: rgb(255,255,255);\">the</td><td style=\"background-color: rgb(255,255,255);\">bottle</td><td style=\"background-color: rgb(255,255,255);\">to</td><td style=\"background-color: rgb(255,255,255);\">the</td><td style=\"background-color: rgb(255,255,255);\">kitchen</td></tr><tr><td><b>lexical_unit</b></td><td style=\"background-color: rgb(0.0000, 255,0.0000);\">1.0000</td><td style=\"background-color: rgb(255.0000, 255,255.0000);\">0.0000</td><td style=\"background-color: rgb(255.0000, 255,255.0000);\">0.0000</td><td style=\"background-color: rgb(255.0000, 255,255.0000);\">0.0000</td><td style=\"background-color: rgb(255.0000, 255,255.0000);\">0.0000</td><td style=\"background-color: rgb(255.0000, 255,255.0000);\">0.0000</td></tr><tr><td><b>attention_intent</b></td><td style=\"background-color: rgb(254.9982, 255,254.9982);\">0.0000</td><td style=\"background-color: rgb(254.7151, 255,254.7151);\">0.0011</td><td style=\"background-color: rgb(255.0000, 255,255.0000);\">0.0000</td><td style=\"background-color: rgb(7.1943, 255,7.1943);\">0.9718</td><td style=\"background-color: rgb(248.0985, 255,248.0985);\">0.0271</td><td style=\"background-color: rgb(254.9986, 255,254.9986);\">0.0000</td></tr><tr><td><b>slots_true</b></td><td style=\"background-color: rgb(255,255,255);\">O</td><td style=\"background-color: rgb(255,255,255);\">B-Theme</td><td style=\"background-color: rgb(255,255,255);\">I-Theme</td><td style=\"background-color: rgb(255,255,255);\">B-Goal</td><td style=\"background-color: rgb(255,255,255);\">I-Goal</td><td style=\"background-color: rgb(255,255,255);\">I-Goal</td></tr><tr><td><b>slots_pred</b></td><td style=\"background-color: rgb(255,255,255);\">O</td><td style=\"background-color: rgb(255,255,255);\">B-Theme</td><td style=\"background-color: rgb(255,255,255);\">I-Theme</td><td style=\"background-color: rgb(255,255,255);\">B-Goal</td><td style=\"background-color: rgb(255,255,255);\">I-Goal</td><td style=\"background-color: rgb(255,255,255);\">I-Goal</td></tr></table>"
      ],
      "text/plain": [
       "<IPython.core.display.HTML object>"
      ]
     },
     "metadata": {},
     "output_type": "display_data"
    },
    {
     "name": "stdout",
     "output_type": "stream",
     "text": [
      "true: Placing pred: Placing\n"
     ]
    },
    {
     "data": {
      "text/html": [
       "<table><tr><td><b>words</b></td><td style=\"background-color: rgb(255,255,255);\">put</td><td style=\"background-color: rgb(255,255,255);\">the</td><td style=\"background-color: rgb(255,255,255);\">mobile</td><td style=\"background-color: rgb(255,255,255);\">phone</td><td style=\"background-color: rgb(255,255,255);\">in</td><td style=\"background-color: rgb(255,255,255);\">the</td><td style=\"background-color: rgb(255,255,255);\">nightstand</td></tr><tr><td><b>lexical_unit</b></td><td style=\"background-color: rgb(0.0000, 255,0.0000);\">1.0000</td><td style=\"background-color: rgb(255.0000, 255,255.0000);\">0.0000</td><td style=\"background-color: rgb(255.0000, 255,255.0000);\">0.0000</td><td style=\"background-color: rgb(255.0000, 255,255.0000);\">0.0000</td><td style=\"background-color: rgb(255.0000, 255,255.0000);\">0.0000</td><td style=\"background-color: rgb(255.0000, 255,255.0000);\">0.0000</td><td style=\"background-color: rgb(255.0000, 255,255.0000);\">0.0000</td></tr><tr><td><b>attention_intent</b></td><td style=\"background-color: rgb(254.9987, 255,254.9987);\">0.0000</td><td style=\"background-color: rgb(254.9574, 255,254.9574);\">0.0002</td><td style=\"background-color: rgb(254.9401, 255,254.9401);\">0.0002</td><td style=\"background-color: rgb(254.9217, 255,254.9217);\">0.0003</td><td style=\"background-color: rgb(252.6738, 255,252.6738);\">0.0091</td><td style=\"background-color: rgb(76.7002, 255,76.7002);\">0.6992</td><td style=\"background-color: rgb(180.8088, 255,180.8088);\">0.2909</td></tr><tr><td><b>slots_true</b></td><td style=\"background-color: rgb(255,255,255);\">O</td><td style=\"background-color: rgb(255,255,255);\">B-Theme</td><td style=\"background-color: rgb(255,255,255);\">I-Theme</td><td style=\"background-color: rgb(255,255,255);\">I-Theme</td><td style=\"background-color: rgb(255,255,255);\">B-Goal</td><td style=\"background-color: rgb(255,255,255);\">I-Goal</td><td style=\"background-color: rgb(255,255,255);\">I-Goal</td></tr><tr><td><b>slots_pred</b></td><td style=\"background-color: rgb(255,255,255);\">O</td><td style=\"background-color: rgb(255,255,255);\">B-Theme</td><td style=\"background-color: rgb(255,255,255);\">I-Theme</td><td style=\"background-color: rgb(255,255,255);\">I-Theme</td><td style=\"background-color: rgb(255,255,255);\">B-Goal</td><td style=\"background-color: rgb(255,255,255);\">I-Goal</td><td style=\"background-color: rgb(255,255,255);\">I-Goal</td></tr></table>"
      ],
      "text/plain": [
       "<IPython.core.display.HTML object>"
      ]
     },
     "metadata": {},
     "output_type": "display_data"
    },
    {
     "name": "stdout",
     "output_type": "stream",
     "text": [
      "true: Being_located pred: Being_located\n"
     ]
    },
    {
     "data": {
      "text/html": [
       "<table><tr><td><b>words</b></td><td style=\"background-color: rgb(255,255,255);\">and</td><td style=\"background-color: rgb(255,255,255);\">the</td><td style=\"background-color: rgb(255,255,255);\">bed</td><td style=\"background-color: rgb(255,255,255);\">is</td><td style=\"background-color: rgb(255,255,255);\">between</td><td style=\"background-color: rgb(255,255,255);\">two</td><td style=\"background-color: rgb(255,255,255);\">lamps</td></tr><tr><td><b>lexical_unit</b></td><td style=\"background-color: rgb(255.0000, 255,255.0000);\">0.0000</td><td style=\"background-color: rgb(255.0000, 255,255.0000);\">0.0000</td><td style=\"background-color: rgb(255.0000, 255,255.0000);\">0.0000</td><td style=\"background-color: rgb(0.0000, 255,0.0000);\">1.0000</td><td style=\"background-color: rgb(255.0000, 255,255.0000);\">0.0000</td><td style=\"background-color: rgb(255.0000, 255,255.0000);\">0.0000</td><td style=\"background-color: rgb(255.0000, 255,255.0000);\">0.0000</td></tr><tr><td><b>attention_intent</b></td><td style=\"background-color: rgb(254.9758, 255,254.9758);\">0.0001</td><td style=\"background-color: rgb(253.0061, 255,253.0061);\">0.0078</td><td style=\"background-color: rgb(254.9975, 255,254.9975);\">0.0000</td><td style=\"background-color: rgb(254.7806, 255,254.7806);\">0.0009</td><td style=\"background-color: rgb(109.1063, 255,109.1063);\">0.5721</td><td style=\"background-color: rgb(150.1448, 255,150.1448);\">0.4112</td><td style=\"background-color: rgb(252.9906, 255,252.9906);\">0.0079</td></tr><tr><td><b>slots_true</b></td><td style=\"background-color: rgb(255,255,255);\">O</td><td style=\"background-color: rgb(255,255,255);\">B-Theme</td><td style=\"background-color: rgb(255,255,255);\">I-Theme</td><td style=\"background-color: rgb(255,255,255);\">O</td><td style=\"background-color: rgb(255,255,255);\">B-Location</td><td style=\"background-color: rgb(255,255,255);\">I-Location</td><td style=\"background-color: rgb(255,255,255);\">I-Location</td></tr><tr><td><b>slots_pred</b></td><td style=\"background-color: rgb(255,255,255);\">O</td><td style=\"background-color: rgb(255,255,255);\">O</td><td style=\"background-color: rgb(255,255,255);\">O</td><td style=\"background-color: rgb(255,255,255);\">O</td><td style=\"background-color: rgb(255,255,255);\">O</td><td style=\"background-color: rgb(255,255,255);\">O</td><td style=\"background-color: rgb(255,255,255);\">O</td></tr></table>"
      ],
      "text/plain": [
       "<IPython.core.display.HTML object>"
      ]
     },
     "metadata": {},
     "output_type": "display_data"
    },
    {
     "name": "stdout",
     "output_type": "stream",
     "text": [
      "true: Bringing pred: Bringing\n"
     ]
    },
    {
     "data": {
      "text/html": [
       "<table><tr><td><b>words</b></td><td style=\"background-color: rgb(255,255,255);\">carry</td><td style=\"background-color: rgb(255,255,255);\">the</td><td style=\"background-color: rgb(255,255,255);\">laptop</td><td style=\"background-color: rgb(255,255,255);\">to</td><td style=\"background-color: rgb(255,255,255);\">daniele</td></tr><tr><td><b>lexical_unit</b></td><td style=\"background-color: rgb(0.0000, 255,0.0000);\">1.0000</td><td style=\"background-color: rgb(255.0000, 255,255.0000);\">0.0000</td><td style=\"background-color: rgb(255.0000, 255,255.0000);\">0.0000</td><td style=\"background-color: rgb(255.0000, 255,255.0000);\">0.0000</td><td style=\"background-color: rgb(255.0000, 255,255.0000);\">0.0000</td></tr><tr><td><b>attention_intent</b></td><td style=\"background-color: rgb(254.8607, 255,254.8607);\">0.0005</td><td style=\"background-color: rgb(236.6082, 255,236.6082);\">0.0721</td><td style=\"background-color: rgb(238.9786, 255,238.9786);\">0.0628</td><td style=\"background-color: rgb(34.7004, 255,34.7004);\">0.8639</td><td style=\"background-color: rgb(254.8528, 255,254.8528);\">0.0006</td></tr><tr><td><b>slots_true</b></td><td style=\"background-color: rgb(255,255,255);\">O</td><td style=\"background-color: rgb(255,255,255);\">B-Theme</td><td style=\"background-color: rgb(255,255,255);\">I-Theme</td><td style=\"background-color: rgb(255,255,255);\">B-Beneficiary</td><td style=\"background-color: rgb(255,255,255);\">I-Beneficiary</td></tr><tr><td><b>slots_pred</b></td><td style=\"background-color: rgb(255,255,255);\">O</td><td style=\"background-color: rgb(255,255,255);\">B-Theme</td><td style=\"background-color: rgb(255,255,255);\">I-Theme</td><td style=\"background-color: rgb(255,255,255);\">B-Beneficiary</td><td style=\"background-color: rgb(255,255,255);\">I-Beneficiary</td></tr></table>"
      ],
      "text/plain": [
       "<IPython.core.display.HTML object>"
      ]
     },
     "metadata": {},
     "output_type": "display_data"
    },
    {
     "name": "stdout",
     "output_type": "stream",
     "text": [
      "true: Placing pred: Placing\n"
     ]
    },
    {
     "data": {
      "text/html": [
       "<table><tr><td><b>words</b></td><td style=\"background-color: rgb(255,255,255);\">and</td><td style=\"background-color: rgb(255,255,255);\">put</td><td style=\"background-color: rgb(255,255,255);\">them</td><td style=\"background-color: rgb(255,255,255);\">on</td><td style=\"background-color: rgb(255,255,255);\">the</td><td style=\"background-color: rgb(255,255,255);\">table</td><td style=\"background-color: rgb(255,255,255);\">next</td><td style=\"background-color: rgb(255,255,255);\">to</td><td style=\"background-color: rgb(255,255,255);\">the</td><td style=\"background-color: rgb(255,255,255);\">couch</td></tr><tr><td><b>lexical_unit</b></td><td style=\"background-color: rgb(255.0000, 255,255.0000);\">0.0000</td><td style=\"background-color: rgb(0.0000, 255,0.0000);\">1.0000</td><td style=\"background-color: rgb(255.0000, 255,255.0000);\">0.0000</td><td style=\"background-color: rgb(255.0000, 255,255.0000);\">0.0000</td><td style=\"background-color: rgb(255.0000, 255,255.0000);\">0.0000</td><td style=\"background-color: rgb(255.0000, 255,255.0000);\">0.0000</td><td style=\"background-color: rgb(255.0000, 255,255.0000);\">0.0000</td><td style=\"background-color: rgb(255.0000, 255,255.0000);\">0.0000</td><td style=\"background-color: rgb(255.0000, 255,255.0000);\">0.0000</td><td style=\"background-color: rgb(255.0000, 255,255.0000);\">0.0000</td></tr><tr><td><b>attention_intent</b></td><td style=\"background-color: rgb(255.0000, 255,255.0000);\">0.0000</td><td style=\"background-color: rgb(254.9973, 255,254.9973);\">0.0000</td><td style=\"background-color: rgb(254.8713, 255,254.8713);\">0.0005</td><td style=\"background-color: rgb(254.4381, 255,254.4381);\">0.0022</td><td style=\"background-color: rgb(254.5336, 255,254.5336);\">0.0018</td><td style=\"background-color: rgb(254.9480, 255,254.9480);\">0.0002</td><td style=\"background-color: rgb(254.5680, 255,254.5680);\">0.0017</td><td style=\"background-color: rgb(225.7275, 255,225.7275);\">0.1148</td><td style=\"background-color: rgb(119.1156, 255,119.1156);\">0.5329</td><td style=\"background-color: rgb(166.8012, 255,166.8012);\">0.3459</td></tr><tr><td><b>slots_true</b></td><td style=\"background-color: rgb(255,255,255);\">O</td><td style=\"background-color: rgb(255,255,255);\">O</td><td style=\"background-color: rgb(255,255,255);\">B-Theme</td><td style=\"background-color: rgb(255,255,255);\">B-Goal</td><td style=\"background-color: rgb(255,255,255);\">I-Goal</td><td style=\"background-color: rgb(255,255,255);\">I-Goal</td><td style=\"background-color: rgb(255,255,255);\">I-Goal</td><td style=\"background-color: rgb(255,255,255);\">I-Goal</td><td style=\"background-color: rgb(255,255,255);\">I-Goal</td><td style=\"background-color: rgb(255,255,255);\">I-Goal</td></tr><tr><td><b>slots_pred</b></td><td style=\"background-color: rgb(255,255,255);\">O</td><td style=\"background-color: rgb(255,255,255);\">O</td><td style=\"background-color: rgb(255,255,255);\">B-Theme</td><td style=\"background-color: rgb(255,255,255);\">B-Goal</td><td style=\"background-color: rgb(255,255,255);\">I-Goal</td><td style=\"background-color: rgb(255,255,255);\">I-Goal</td><td style=\"background-color: rgb(255,255,255);\">I-Goal</td><td style=\"background-color: rgb(255,255,255);\">I-Goal</td><td style=\"background-color: rgb(255,255,255);\">I-Goal</td><td style=\"background-color: rgb(255,255,255);\">I-Goal</td></tr></table>"
      ],
      "text/plain": [
       "<IPython.core.display.HTML object>"
      ]
     },
     "metadata": {},
     "output_type": "display_data"
    },
    {
     "name": "stdout",
     "output_type": "stream",
     "text": [
      "true: Motion pred: Motion\n"
     ]
    },
    {
     "data": {
      "text/html": [
       "<table><tr><td><b>words</b></td><td style=\"background-color: rgb(255,255,255);\">go</td><td style=\"background-color: rgb(255,255,255);\">into</td><td style=\"background-color: rgb(255,255,255);\">the</td><td style=\"background-color: rgb(255,255,255);\">bathroom</td></tr><tr><td><b>lexical_unit</b></td><td style=\"background-color: rgb(0.0000, 255,0.0000);\">1.0000</td><td style=\"background-color: rgb(255.0000, 255,255.0000);\">0.0000</td><td style=\"background-color: rgb(255.0000, 255,255.0000);\">0.0000</td><td style=\"background-color: rgb(255.0000, 255,255.0000);\">0.0000</td></tr><tr><td><b>attention_intent</b></td><td style=\"background-color: rgb(254.9912, 255,254.9912);\">0.0000</td><td style=\"background-color: rgb(57.4064, 255,57.4064);\">0.7749</td><td style=\"background-color: rgb(197.6491, 255,197.6491);\">0.2249</td><td style=\"background-color: rgb(254.9537, 255,254.9537);\">0.0002</td></tr><tr><td><b>slots_true</b></td><td style=\"background-color: rgb(255,255,255);\">O</td><td style=\"background-color: rgb(255,255,255);\">B-Goal</td><td style=\"background-color: rgb(255,255,255);\">I-Goal</td><td style=\"background-color: rgb(255,255,255);\">I-Goal</td></tr><tr><td><b>slots_pred</b></td><td style=\"background-color: rgb(255,255,255);\">O</td><td style=\"background-color: rgb(255,255,255);\">B-Goal</td><td style=\"background-color: rgb(255,255,255);\">I-Goal</td><td style=\"background-color: rgb(255,255,255);\">I-Goal</td></tr></table>"
      ],
      "text/plain": [
       "<IPython.core.display.HTML object>"
      ]
     },
     "metadata": {},
     "output_type": "display_data"
    },
    {
     "name": "stdout",
     "output_type": "stream",
     "text": [
      "true: Inspecting pred: Inspecting\n"
     ]
    },
    {
     "data": {
      "text/html": [
       "<table><tr><td><b>words</b></td><td style=\"background-color: rgb(255,255,255);\">and</td><td style=\"background-color: rgb(255,255,255);\">check</td><td style=\"background-color: rgb(255,255,255);\">for</td><td style=\"background-color: rgb(255,255,255);\">any</td><td style=\"background-color: rgb(255,255,255);\">messages</td></tr><tr><td><b>lexical_unit</b></td><td style=\"background-color: rgb(255.0000, 255,255.0000);\">0.0000</td><td style=\"background-color: rgb(0.0000, 255,0.0000);\">1.0000</td><td style=\"background-color: rgb(255.0000, 255,255.0000);\">0.0000</td><td style=\"background-color: rgb(255.0000, 255,255.0000);\">0.0000</td><td style=\"background-color: rgb(255.0000, 255,255.0000);\">0.0000</td></tr><tr><td><b>attention_intent</b></td><td style=\"background-color: rgb(255.0000, 255,255.0000);\">0.0000</td><td style=\"background-color: rgb(254.9951, 255,254.9951);\">0.0000</td><td style=\"background-color: rgb(225.6062, 255,225.6062);\">0.1153</td><td style=\"background-color: rgb(30.0977, 255,30.0977);\">0.8820</td><td style=\"background-color: rgb(254.3029, 255,254.3029);\">0.0027</td></tr><tr><td><b>slots_true</b></td><td style=\"background-color: rgb(255,255,255);\">O</td><td style=\"background-color: rgb(255,255,255);\">O</td><td style=\"background-color: rgb(255,255,255);\">B-Unwanted_entity</td><td style=\"background-color: rgb(255,255,255);\">I-Unwanted_entity</td><td style=\"background-color: rgb(255,255,255);\">I-Unwanted_entity</td></tr><tr><td><b>slots_pred</b></td><td style=\"background-color: rgb(255,255,255);\">O</td><td style=\"background-color: rgb(255,255,255);\">O</td><td style=\"background-color: rgb(255,255,255);\">B-Phenomenon</td><td style=\"background-color: rgb(255,255,255);\">I-Phenomenon</td><td style=\"background-color: rgb(255,255,255);\">I-Phenomenon</td></tr></table>"
      ],
      "text/plain": [
       "<IPython.core.display.HTML object>"
      ]
     },
     "metadata": {},
     "output_type": "display_data"
    },
    {
     "name": "stdout",
     "output_type": "stream",
     "text": [
      "true: Placing pred: Placing\n"
     ]
    },
    {
     "data": {
      "text/html": [
       "<table><tr><td><b>words</b></td><td style=\"background-color: rgb(255,255,255);\">put</td><td style=\"background-color: rgb(255,255,255);\">my</td><td style=\"background-color: rgb(255,255,255);\">mobile</td><td style=\"background-color: rgb(255,255,255);\">phone</td><td style=\"background-color: rgb(255,255,255);\">on</td><td style=\"background-color: rgb(255,255,255);\">the</td><td style=\"background-color: rgb(255,255,255);\">kitchen</td><td style=\"background-color: rgb(255,255,255);\">table</td></tr><tr><td><b>lexical_unit</b></td><td style=\"background-color: rgb(0.0000, 255,0.0000);\">1.0000</td><td style=\"background-color: rgb(255.0000, 255,255.0000);\">0.0000</td><td style=\"background-color: rgb(255.0000, 255,255.0000);\">0.0000</td><td style=\"background-color: rgb(255.0000, 255,255.0000);\">0.0000</td><td style=\"background-color: rgb(255.0000, 255,255.0000);\">0.0000</td><td style=\"background-color: rgb(255.0000, 255,255.0000);\">0.0000</td><td style=\"background-color: rgb(255.0000, 255,255.0000);\">0.0000</td><td style=\"background-color: rgb(255.0000, 255,255.0000);\">0.0000</td></tr><tr><td><b>attention_intent</b></td><td style=\"background-color: rgb(254.9963, 255,254.9963);\">0.0000</td><td style=\"background-color: rgb(254.8033, 255,254.8033);\">0.0008</td><td style=\"background-color: rgb(254.9047, 255,254.9047);\">0.0004</td><td style=\"background-color: rgb(254.8979, 255,254.8979);\">0.0004</td><td style=\"background-color: rgb(228.9098, 255,228.9098);\">0.1023</td><td style=\"background-color: rgb(46.5103, 255,46.5103);\">0.8176</td><td style=\"background-color: rgb(250.5296, 255,250.5296);\">0.0175</td><td style=\"background-color: rgb(239.4502, 255,239.4502);\">0.0610</td></tr><tr><td><b>slots_true</b></td><td style=\"background-color: rgb(255,255,255);\">O</td><td style=\"background-color: rgb(255,255,255);\">B-Theme</td><td style=\"background-color: rgb(255,255,255);\">I-Theme</td><td style=\"background-color: rgb(255,255,255);\">I-Theme</td><td style=\"background-color: rgb(255,255,255);\">B-Goal</td><td style=\"background-color: rgb(255,255,255);\">I-Goal</td><td style=\"background-color: rgb(255,255,255);\">I-Goal</td><td style=\"background-color: rgb(255,255,255);\">I-Goal</td></tr><tr><td><b>slots_pred</b></td><td style=\"background-color: rgb(255,255,255);\">O</td><td style=\"background-color: rgb(255,255,255);\">B-Theme</td><td style=\"background-color: rgb(255,255,255);\">I-Theme</td><td style=\"background-color: rgb(255,255,255);\">I-Theme</td><td style=\"background-color: rgb(255,255,255);\">B-Goal</td><td style=\"background-color: rgb(255,255,255);\">I-Goal</td><td style=\"background-color: rgb(255,255,255);\">I-Goal</td><td style=\"background-color: rgb(255,255,255);\">I-Goal</td></tr></table>"
      ],
      "text/plain": [
       "<IPython.core.display.HTML object>"
      ]
     },
     "metadata": {},
     "output_type": "display_data"
    },
    {
     "name": "stdout",
     "output_type": "stream",
     "text": [
      "true: Bringing pred: Bringing\n"
     ]
    },
    {
     "data": {
      "text/html": [
       "<table><tr><td><b>words</b></td><td style=\"background-color: rgb(255,255,255);\">can</td><td style=\"background-color: rgb(255,255,255);\">you</td><td style=\"background-color: rgb(255,255,255);\">bring</td><td style=\"background-color: rgb(255,255,255);\">it</td><td style=\"background-color: rgb(255,255,255);\">to</td><td style=\"background-color: rgb(255,255,255);\">me</td></tr><tr><td><b>lexical_unit</b></td><td style=\"background-color: rgb(255.0000, 255,255.0000);\">0.0000</td><td style=\"background-color: rgb(255.0000, 255,255.0000);\">0.0000</td><td style=\"background-color: rgb(0.0000, 255,0.0000);\">1.0000</td><td style=\"background-color: rgb(255.0000, 255,255.0000);\">0.0000</td><td style=\"background-color: rgb(255.0000, 255,255.0000);\">0.0000</td><td style=\"background-color: rgb(255.0000, 255,255.0000);\">0.0000</td></tr><tr><td><b>attention_intent</b></td><td style=\"background-color: rgb(255.0000, 255,255.0000);\">0.0000</td><td style=\"background-color: rgb(255.0000, 255,255.0000);\">0.0000</td><td style=\"background-color: rgb(254.6034, 255,254.6034);\">0.0016</td><td style=\"background-color: rgb(254.2626, 255,254.2626);\">0.0029</td><td style=\"background-color: rgb(30.6255, 255,30.6255);\">0.8799</td><td style=\"background-color: rgb(225.5090, 255,225.5090);\">0.1157</td></tr><tr><td><b>slots_true</b></td><td style=\"background-color: rgb(255,255,255);\">O</td><td style=\"background-color: rgb(255,255,255);\">B-Agent</td><td style=\"background-color: rgb(255,255,255);\">O</td><td style=\"background-color: rgb(255,255,255);\">B-Theme</td><td style=\"background-color: rgb(255,255,255);\">B-Beneficiary</td><td style=\"background-color: rgb(255,255,255);\">I-Beneficiary</td></tr><tr><td><b>slots_pred</b></td><td style=\"background-color: rgb(255,255,255);\">O</td><td style=\"background-color: rgb(255,255,255);\">B-Agent</td><td style=\"background-color: rgb(255,255,255);\">O</td><td style=\"background-color: rgb(255,255,255);\">B-Theme</td><td style=\"background-color: rgb(255,255,255);\">B-Beneficiary</td><td style=\"background-color: rgb(255,255,255);\">I-Beneficiary</td></tr></table>"
      ],
      "text/plain": [
       "<IPython.core.display.HTML object>"
      ]
     },
     "metadata": {},
     "output_type": "display_data"
    },
    {
     "name": "stdout",
     "output_type": "stream",
     "text": [
      "true: Bringing pred: Bringing\n"
     ]
    },
    {
     "data": {
      "text/html": [
       "<table><tr><td><b>words</b></td><td style=\"background-color: rgb(255,255,255);\">bring</td><td style=\"background-color: rgb(255,255,255);\">over</td><td style=\"background-color: rgb(255,255,255);\">the</td><td style=\"background-color: rgb(255,255,255);\">gray</td><td style=\"background-color: rgb(255,255,255);\">folder</td></tr><tr><td><b>lexical_unit</b></td><td style=\"background-color: rgb(0.0000, 255,0.0000);\">1.0000</td><td style=\"background-color: rgb(255.0000, 255,255.0000);\">0.0000</td><td style=\"background-color: rgb(255.0000, 255,255.0000);\">0.0000</td><td style=\"background-color: rgb(255.0000, 255,255.0000);\">0.0000</td><td style=\"background-color: rgb(255.0000, 255,255.0000);\">0.0000</td></tr><tr><td><b>attention_intent</b></td><td style=\"background-color: rgb(254.6398, 255,254.6398);\">0.0014</td><td style=\"background-color: rgb(53.3747, 255,53.3747);\">0.7907</td><td style=\"background-color: rgb(228.4220, 255,228.4220);\">0.1042</td><td style=\"background-color: rgb(239.3772, 255,239.3772);\">0.0613</td><td style=\"background-color: rgb(244.1877, 255,244.1877);\">0.0424</td></tr><tr><td><b>slots_true</b></td><td style=\"background-color: rgb(255,255,255);\">O</td><td style=\"background-color: rgb(255,255,255);\">B-Area</td><td style=\"background-color: rgb(255,255,255);\">B-Theme</td><td style=\"background-color: rgb(255,255,255);\">I-Theme</td><td style=\"background-color: rgb(255,255,255);\">I-Theme</td></tr><tr><td><b>slots_pred</b></td><td style=\"background-color: rgb(255,255,255);\">O</td><td style=\"background-color: rgb(255,255,255);\">B-Goal</td><td style=\"background-color: rgb(255,255,255);\">B-Theme</td><td style=\"background-color: rgb(255,255,255);\">I-Theme</td><td style=\"background-color: rgb(255,255,255);\">I-Theme</td></tr></table>"
      ],
      "text/plain": [
       "<IPython.core.display.HTML object>"
      ]
     },
     "metadata": {},
     "output_type": "display_data"
    },
    {
     "name": "stdout",
     "output_type": "stream",
     "text": [
      "true: Searching pred: Searching\n"
     ]
    },
    {
     "data": {
      "text/html": [
       "<table><tr><td><b>words</b></td><td style=\"background-color: rgb(255,255,255);\">find</td><td style=\"background-color: rgb(255,255,255);\">the</td><td style=\"background-color: rgb(255,255,255);\">television</td></tr><tr><td><b>lexical_unit</b></td><td style=\"background-color: rgb(0.0000, 255,0.0000);\">1.0000</td><td style=\"background-color: rgb(255.0000, 255,255.0000);\">0.0000</td><td style=\"background-color: rgb(255.0000, 255,255.0000);\">0.0000</td></tr><tr><td><b>attention_intent</b></td><td style=\"background-color: rgb(253.1865, 255,253.1865);\">0.0071</td><td style=\"background-color: rgb(36.3600, 255,36.3600);\">0.8574</td><td style=\"background-color: rgb(220.4541, 255,220.4541);\">0.1355</td></tr><tr><td><b>slots_true</b></td><td style=\"background-color: rgb(255,255,255);\">O</td><td style=\"background-color: rgb(255,255,255);\">B-Phenomenon</td><td style=\"background-color: rgb(255,255,255);\">I-Phenomenon</td></tr><tr><td><b>slots_pred</b></td><td style=\"background-color: rgb(255,255,255);\">O</td><td style=\"background-color: rgb(255,255,255);\">B-Phenomenon</td><td style=\"background-color: rgb(255,255,255);\">I-Phenomenon</td></tr></table>"
      ],
      "text/plain": [
       "<IPython.core.display.HTML object>"
      ]
     },
     "metadata": {},
     "output_type": "display_data"
    },
    {
     "name": "stdout",
     "output_type": "stream",
     "text": [
      "true: Searching pred: Searching\n"
     ]
    },
    {
     "data": {
      "text/html": [
       "<table><tr><td><b>words</b></td><td style=\"background-color: rgb(255,255,255);\">find</td><td style=\"background-color: rgb(255,255,255);\">the</td><td style=\"background-color: rgb(255,255,255);\">magazine</td></tr><tr><td><b>lexical_unit</b></td><td style=\"background-color: rgb(0.0000, 255,0.0000);\">1.0000</td><td style=\"background-color: rgb(255.0000, 255,255.0000);\">0.0000</td><td style=\"background-color: rgb(255.0000, 255,255.0000);\">0.0000</td></tr><tr><td><b>attention_intent</b></td><td style=\"background-color: rgb(254.9710, 255,254.9710);\">0.0001</td><td style=\"background-color: rgb(42.6439, 255,42.6439);\">0.8328</td><td style=\"background-color: rgb(212.3858, 255,212.3858);\">0.1671</td></tr><tr><td><b>slots_true</b></td><td style=\"background-color: rgb(255,255,255);\">O</td><td style=\"background-color: rgb(255,255,255);\">B-Phenomenon</td><td style=\"background-color: rgb(255,255,255);\">I-Phenomenon</td></tr><tr><td><b>slots_pred</b></td><td style=\"background-color: rgb(255,255,255);\">O</td><td style=\"background-color: rgb(255,255,255);\">B-Phenomenon</td><td style=\"background-color: rgb(255,255,255);\">I-Phenomenon</td></tr></table>"
      ],
      "text/plain": [
       "<IPython.core.display.HTML object>"
      ]
     },
     "metadata": {},
     "output_type": "display_data"
    },
    {
     "name": "stdout",
     "output_type": "stream",
     "text": [
      "true: Motion pred: Motion\n"
     ]
    },
    {
     "data": {
      "text/html": [
       "<table><tr><td><b>words</b></td><td style=\"background-color: rgb(255,255,255);\">could</td><td style=\"background-color: rgb(255,255,255);\">you</td><td style=\"background-color: rgb(255,255,255);\">please</td><td style=\"background-color: rgb(255,255,255);\">move</td><td style=\"background-color: rgb(255,255,255);\">to</td><td style=\"background-color: rgb(255,255,255);\">the</td><td style=\"background-color: rgb(255,255,255);\">sink</td></tr><tr><td><b>lexical_unit</b></td><td style=\"background-color: rgb(255.0000, 255,255.0000);\">0.0000</td><td style=\"background-color: rgb(255.0000, 255,255.0000);\">0.0000</td><td style=\"background-color: rgb(255.0000, 255,255.0000);\">0.0000</td><td style=\"background-color: rgb(0.0000, 255,0.0000);\">1.0000</td><td style=\"background-color: rgb(255.0000, 255,255.0000);\">0.0000</td><td style=\"background-color: rgb(255.0000, 255,255.0000);\">0.0000</td><td style=\"background-color: rgb(255.0000, 255,255.0000);\">0.0000</td></tr><tr><td><b>attention_intent</b></td><td style=\"background-color: rgb(255.0000, 255,255.0000);\">0.0000</td><td style=\"background-color: rgb(255.0000, 255,255.0000);\">0.0000</td><td style=\"background-color: rgb(255.0000, 255,255.0000);\">0.0000</td><td style=\"background-color: rgb(254.9706, 255,254.9706);\">0.0001</td><td style=\"background-color: rgb(91.7568, 255,91.7568);\">0.6402</td><td style=\"background-color: rgb(170.3417, 255,170.3417);\">0.3320</td><td style=\"background-color: rgb(247.9316, 255,247.9316);\">0.0277</td></tr><tr><td><b>slots_true</b></td><td style=\"background-color: rgb(255,255,255);\">O</td><td style=\"background-color: rgb(255,255,255);\">B-Theme</td><td style=\"background-color: rgb(255,255,255);\">O</td><td style=\"background-color: rgb(255,255,255);\">O</td><td style=\"background-color: rgb(255,255,255);\">B-Goal</td><td style=\"background-color: rgb(255,255,255);\">I-Goal</td><td style=\"background-color: rgb(255,255,255);\">I-Goal</td></tr><tr><td><b>slots_pred</b></td><td style=\"background-color: rgb(255,255,255);\">O</td><td style=\"background-color: rgb(255,255,255);\">B-Theme</td><td style=\"background-color: rgb(255,255,255);\">O</td><td style=\"background-color: rgb(255,255,255);\">O</td><td style=\"background-color: rgb(255,255,255);\">B-Goal</td><td style=\"background-color: rgb(255,255,255);\">I-Goal</td><td style=\"background-color: rgb(255,255,255);\">I-Goal</td></tr></table>"
      ],
      "text/plain": [
       "<IPython.core.display.HTML object>"
      ]
     },
     "metadata": {},
     "output_type": "display_data"
    },
    {
     "name": "stdout",
     "output_type": "stream",
     "text": [
      "true: Bringing pred: Bringing\n"
     ]
    },
    {
     "data": {
      "text/html": [
       "<table><tr><td><b>words</b></td><td style=\"background-color: rgb(255,255,255);\">can</td><td style=\"background-color: rgb(255,255,255);\">you</td><td style=\"background-color: rgb(255,255,255);\">bring</td><td style=\"background-color: rgb(255,255,255);\">me</td><td style=\"background-color: rgb(255,255,255);\">the</td><td style=\"background-color: rgb(255,255,255);\">coke</td><td style=\"background-color: rgb(255,255,255);\">from</td><td style=\"background-color: rgb(255,255,255);\">the</td><td style=\"background-color: rgb(255,255,255);\">fridge</td></tr><tr><td><b>lexical_unit</b></td><td style=\"background-color: rgb(255.0000, 255,255.0000);\">0.0000</td><td style=\"background-color: rgb(255.0000, 255,255.0000);\">0.0000</td><td style=\"background-color: rgb(0.0000, 255,0.0000);\">1.0000</td><td style=\"background-color: rgb(255.0000, 255,255.0000);\">0.0000</td><td style=\"background-color: rgb(255.0000, 255,255.0000);\">0.0000</td><td style=\"background-color: rgb(255.0000, 255,255.0000);\">0.0000</td><td style=\"background-color: rgb(255.0000, 255,255.0000);\">0.0000</td><td style=\"background-color: rgb(255.0000, 255,255.0000);\">0.0000</td><td style=\"background-color: rgb(255.0000, 255,255.0000);\">0.0000</td></tr><tr><td><b>attention_intent</b></td><td style=\"background-color: rgb(255.0000, 255,255.0000);\">0.0000</td><td style=\"background-color: rgb(255.0000, 255,255.0000);\">0.0000</td><td style=\"background-color: rgb(254.2469, 255,254.2469);\">0.0030</td><td style=\"background-color: rgb(4.0488, 255,4.0488);\">0.9841</td><td style=\"background-color: rgb(253.9669, 255,253.9669);\">0.0041</td><td style=\"background-color: rgb(253.4278, 255,253.4278);\">0.0062</td><td style=\"background-color: rgb(254.9350, 255,254.9350);\">0.0003</td><td style=\"background-color: rgb(254.3753, 255,254.3753);\">0.0024</td><td style=\"background-color: rgb(254.9998, 255,254.9998);\">0.0000</td></tr><tr><td><b>slots_true</b></td><td style=\"background-color: rgb(255,255,255);\">O</td><td style=\"background-color: rgb(255,255,255);\">B-Agent</td><td style=\"background-color: rgb(255,255,255);\">O</td><td style=\"background-color: rgb(255,255,255);\">B-Beneficiary</td><td style=\"background-color: rgb(255,255,255);\">B-Theme</td><td style=\"background-color: rgb(255,255,255);\">I-Theme</td><td style=\"background-color: rgb(255,255,255);\">B-Source</td><td style=\"background-color: rgb(255,255,255);\">I-Source</td><td style=\"background-color: rgb(255,255,255);\">I-Source</td></tr><tr><td><b>slots_pred</b></td><td style=\"background-color: rgb(255,255,255);\">O</td><td style=\"background-color: rgb(255,255,255);\">B-Agent</td><td style=\"background-color: rgb(255,255,255);\">O</td><td style=\"background-color: rgb(255,255,255);\">B-Beneficiary</td><td style=\"background-color: rgb(255,255,255);\">B-Theme</td><td style=\"background-color: rgb(255,255,255);\">I-Theme</td><td style=\"background-color: rgb(255,255,255);\">B-Source</td><td style=\"background-color: rgb(255,255,255);\">I-Source</td><td style=\"background-color: rgb(255,255,255);\">I-Source</td></tr></table>"
      ],
      "text/plain": [
       "<IPython.core.display.HTML object>"
      ]
     },
     "metadata": {},
     "output_type": "display_data"
    },
    {
     "name": "stdout",
     "output_type": "stream",
     "text": [
      "true: Bringing pred: Bringing\n"
     ]
    },
    {
     "data": {
      "text/html": [
       "<table><tr><td><b>words</b></td><td style=\"background-color: rgb(255,255,255);\">bring</td><td style=\"background-color: rgb(255,255,255);\">me</td><td style=\"background-color: rgb(255,255,255);\">my</td><td style=\"background-color: rgb(255,255,255);\">book</td><td style=\"background-color: rgb(255,255,255);\">from</td><td style=\"background-color: rgb(255,255,255);\">the</td><td style=\"background-color: rgb(255,255,255);\">table</td></tr><tr><td><b>lexical_unit</b></td><td style=\"background-color: rgb(0.0000, 255,0.0000);\">1.0000</td><td style=\"background-color: rgb(255.0000, 255,255.0000);\">0.0000</td><td style=\"background-color: rgb(255.0000, 255,255.0000);\">0.0000</td><td style=\"background-color: rgb(255.0000, 255,255.0000);\">0.0000</td><td style=\"background-color: rgb(255.0000, 255,255.0000);\">0.0000</td><td style=\"background-color: rgb(255.0000, 255,255.0000);\">0.0000</td><td style=\"background-color: rgb(255.0000, 255,255.0000);\">0.0000</td></tr><tr><td><b>attention_intent</b></td><td style=\"background-color: rgb(254.6853, 255,254.6853);\">0.0012</td><td style=\"background-color: rgb(1.0288, 255,1.0288);\">0.9960</td><td style=\"background-color: rgb(254.4412, 255,254.4412);\">0.0022</td><td style=\"background-color: rgb(254.9522, 255,254.9522);\">0.0002</td><td style=\"background-color: rgb(254.9907, 255,254.9907);\">0.0000</td><td style=\"background-color: rgb(254.9023, 255,254.9023);\">0.0004</td><td style=\"background-color: rgb(255.0000, 255,255.0000);\">0.0000</td></tr><tr><td><b>slots_true</b></td><td style=\"background-color: rgb(255,255,255);\">O</td><td style=\"background-color: rgb(255,255,255);\">B-Beneficiary</td><td style=\"background-color: rgb(255,255,255);\">B-Theme</td><td style=\"background-color: rgb(255,255,255);\">I-Theme</td><td style=\"background-color: rgb(255,255,255);\">B-Source</td><td style=\"background-color: rgb(255,255,255);\">I-Source</td><td style=\"background-color: rgb(255,255,255);\">I-Source</td></tr><tr><td><b>slots_pred</b></td><td style=\"background-color: rgb(255,255,255);\">O</td><td style=\"background-color: rgb(255,255,255);\">B-Beneficiary</td><td style=\"background-color: rgb(255,255,255);\">B-Theme</td><td style=\"background-color: rgb(255,255,255);\">I-Theme</td><td style=\"background-color: rgb(255,255,255);\">B-Source</td><td style=\"background-color: rgb(255,255,255);\">I-Source</td><td style=\"background-color: rgb(255,255,255);\">I-Source</td></tr></table>"
      ],
      "text/plain": [
       "<IPython.core.display.HTML object>"
      ]
     },
     "metadata": {},
     "output_type": "display_data"
    },
    {
     "name": "stdout",
     "output_type": "stream",
     "text": [
      "true: Bringing pred: Bringing\n"
     ]
    },
    {
     "data": {
      "text/html": [
       "<table><tr><td><b>words</b></td><td style=\"background-color: rgb(255,255,255);\">robot</td><td style=\"background-color: rgb(255,255,255);\">can</td><td style=\"background-color: rgb(255,255,255);\">you</td><td style=\"background-color: rgb(255,255,255);\">bring</td><td style=\"background-color: rgb(255,255,255);\">me</td><td style=\"background-color: rgb(255,255,255);\">a</td><td style=\"background-color: rgb(255,255,255);\">bath</td><td style=\"background-color: rgb(255,255,255);\">towel</td></tr><tr><td><b>lexical_unit</b></td><td style=\"background-color: rgb(255.0000, 255,255.0000);\">0.0000</td><td style=\"background-color: rgb(255.0000, 255,255.0000);\">0.0000</td><td style=\"background-color: rgb(255.0000, 255,255.0000);\">0.0000</td><td style=\"background-color: rgb(0.0000, 255,0.0000);\">1.0000</td><td style=\"background-color: rgb(255.0000, 255,255.0000);\">0.0000</td><td style=\"background-color: rgb(255.0000, 255,255.0000);\">0.0000</td><td style=\"background-color: rgb(255.0000, 255,255.0000);\">0.0000</td><td style=\"background-color: rgb(255.0000, 255,255.0000);\">0.0000</td></tr><tr><td><b>attention_intent</b></td><td style=\"background-color: rgb(255.0000, 255,255.0000);\">0.0000</td><td style=\"background-color: rgb(255.0000, 255,255.0000);\">0.0000</td><td style=\"background-color: rgb(255.0000, 255,255.0000);\">0.0000</td><td style=\"background-color: rgb(253.5460, 255,253.5460);\">0.0057</td><td style=\"background-color: rgb(4.4787, 255,4.4787);\">0.9824</td><td style=\"background-color: rgb(252.4097, 255,252.4097);\">0.0102</td><td style=\"background-color: rgb(254.5686, 255,254.5686);\">0.0017</td><td style=\"background-color: rgb(254.9974, 255,254.9974);\">0.0000</td></tr><tr><td><b>slots_true</b></td><td style=\"background-color: rgb(255,255,255);\">O</td><td style=\"background-color: rgb(255,255,255);\">O</td><td style=\"background-color: rgb(255,255,255);\">B-Agent</td><td style=\"background-color: rgb(255,255,255);\">O</td><td style=\"background-color: rgb(255,255,255);\">B-Beneficiary</td><td style=\"background-color: rgb(255,255,255);\">B-Theme</td><td style=\"background-color: rgb(255,255,255);\">I-Theme</td><td style=\"background-color: rgb(255,255,255);\">I-Theme</td></tr><tr><td><b>slots_pred</b></td><td style=\"background-color: rgb(255,255,255);\">O</td><td style=\"background-color: rgb(255,255,255);\">O</td><td style=\"background-color: rgb(255,255,255);\">B-Agent</td><td style=\"background-color: rgb(255,255,255);\">O</td><td style=\"background-color: rgb(255,255,255);\">B-Beneficiary</td><td style=\"background-color: rgb(255,255,255);\">B-Theme</td><td style=\"background-color: rgb(255,255,255);\">I-Theme</td><td style=\"background-color: rgb(255,255,255);\">I-Theme</td></tr></table>"
      ],
      "text/plain": [
       "<IPython.core.display.HTML object>"
      ]
     },
     "metadata": {},
     "output_type": "display_data"
    },
    {
     "name": "stdout",
     "output_type": "stream",
     "text": [
      "true: Motion pred: Motion\n"
     ]
    },
    {
     "data": {
      "text/html": [
       "<table><tr><td><b>words</b></td><td style=\"background-color: rgb(255,255,255);\">go</td><td style=\"background-color: rgb(255,255,255);\">in</td><td style=\"background-color: rgb(255,255,255);\">the</td><td style=\"background-color: rgb(255,255,255);\">bathroom</td></tr><tr><td><b>lexical_unit</b></td><td style=\"background-color: rgb(0.0000, 255,0.0000);\">1.0000</td><td style=\"background-color: rgb(255.0000, 255,255.0000);\">0.0000</td><td style=\"background-color: rgb(255.0000, 255,255.0000);\">0.0000</td><td style=\"background-color: rgb(255.0000, 255,255.0000);\">0.0000</td></tr><tr><td><b>attention_intent</b></td><td style=\"background-color: rgb(253.7059, 255,253.7059);\">0.0051</td><td style=\"background-color: rgb(197.1121, 255,197.1121);\">0.2270</td><td style=\"background-color: rgb(59.3697, 255,59.3697);\">0.7672</td><td style=\"background-color: rgb(254.8337, 255,254.8337);\">0.0007</td></tr><tr><td><b>slots_true</b></td><td style=\"background-color: rgb(255,255,255);\">O</td><td style=\"background-color: rgb(255,255,255);\">B-Goal</td><td style=\"background-color: rgb(255,255,255);\">I-Goal</td><td style=\"background-color: rgb(255,255,255);\">I-Goal</td></tr><tr><td><b>slots_pred</b></td><td style=\"background-color: rgb(255,255,255);\">O</td><td style=\"background-color: rgb(255,255,255);\">B-Goal</td><td style=\"background-color: rgb(255,255,255);\">I-Goal</td><td style=\"background-color: rgb(255,255,255);\">I-Goal</td></tr></table>"
      ],
      "text/plain": [
       "<IPython.core.display.HTML object>"
      ]
     },
     "metadata": {},
     "output_type": "display_data"
    },
    {
     "name": "stdout",
     "output_type": "stream",
     "text": [
      "true: Taking pred: Taking\n"
     ]
    },
    {
     "data": {
      "text/html": [
       "<table><tr><td><b>words</b></td><td style=\"background-color: rgb(255,255,255);\">take</td><td style=\"background-color: rgb(255,255,255);\">the</td><td style=\"background-color: rgb(255,255,255);\">coke</td><td style=\"background-color: rgb(255,255,255);\">that</td><td style=\"background-color: rgb(255,255,255);\">is</td><td style=\"background-color: rgb(255,255,255);\">in</td><td style=\"background-color: rgb(255,255,255);\">the</td><td style=\"background-color: rgb(255,255,255);\">kitchen</td></tr><tr><td><b>lexical_unit</b></td><td style=\"background-color: rgb(0.0000, 255,0.0000);\">1.0000</td><td style=\"background-color: rgb(255.0000, 255,255.0000);\">0.0000</td><td style=\"background-color: rgb(255.0000, 255,255.0000);\">0.0000</td><td style=\"background-color: rgb(255.0000, 255,255.0000);\">0.0000</td><td style=\"background-color: rgb(255.0000, 255,255.0000);\">0.0000</td><td style=\"background-color: rgb(255.0000, 255,255.0000);\">0.0000</td><td style=\"background-color: rgb(255.0000, 255,255.0000);\">0.0000</td><td style=\"background-color: rgb(255.0000, 255,255.0000);\">0.0000</td></tr><tr><td><b>attention_intent</b></td><td style=\"background-color: rgb(251.5347, 255,251.5347);\">0.0136</td><td style=\"background-color: rgb(16.9254, 255,16.9254);\">0.9336</td><td style=\"background-color: rgb(252.1232, 255,252.1232);\">0.0113</td><td style=\"background-color: rgb(254.9735, 255,254.9735);\">0.0001</td><td style=\"background-color: rgb(254.9998, 255,254.9998);\">0.0000</td><td style=\"background-color: rgb(254.9958, 255,254.9958);\">0.0000</td><td style=\"background-color: rgb(245.6772, 255,245.6772);\">0.0366</td><td style=\"background-color: rgb(254.9998, 255,254.9998);\">0.0000</td></tr><tr><td><b>slots_true</b></td><td style=\"background-color: rgb(255,255,255);\">O</td><td style=\"background-color: rgb(255,255,255);\">B-Theme</td><td style=\"background-color: rgb(255,255,255);\">I-Theme</td><td style=\"background-color: rgb(255,255,255);\">I-Theme</td><td style=\"background-color: rgb(255,255,255);\">I-Theme</td><td style=\"background-color: rgb(255,255,255);\">I-Theme</td><td style=\"background-color: rgb(255,255,255);\">I-Theme</td><td style=\"background-color: rgb(255,255,255);\">I-Theme</td></tr><tr><td><b>slots_pred</b></td><td style=\"background-color: rgb(255,255,255);\">O</td><td style=\"background-color: rgb(255,255,255);\">B-Theme</td><td style=\"background-color: rgb(255,255,255);\">I-Theme</td><td style=\"background-color: rgb(255,255,255);\">I-Theme</td><td style=\"background-color: rgb(255,255,255);\">I-Theme</td><td style=\"background-color: rgb(255,255,255);\">I-Theme</td><td style=\"background-color: rgb(255,255,255);\">I-Theme</td><td style=\"background-color: rgb(255,255,255);\">I-Theme</td></tr></table>"
      ],
      "text/plain": [
       "<IPython.core.display.HTML object>"
      ]
     },
     "metadata": {},
     "output_type": "display_data"
    },
    {
     "name": "stdout",
     "output_type": "stream",
     "text": [
      "true: Change_operational_state pred: Change_operational_state\n"
     ]
    },
    {
     "data": {
      "text/html": [
       "<table><tr><td><b>words</b></td><td style=\"background-color: rgb(255,255,255);\">robot</td><td style=\"background-color: rgb(255,255,255);\">can</td><td style=\"background-color: rgb(255,255,255);\">you</td><td style=\"background-color: rgb(255,255,255);\">turn</td><td style=\"background-color: rgb(255,255,255);\">my</td><td style=\"background-color: rgb(255,255,255);\">laptop</td><td style=\"background-color: rgb(255,255,255);\">on</td></tr><tr><td><b>lexical_unit</b></td><td style=\"background-color: rgb(255.0000, 255,255.0000);\">0.0000</td><td style=\"background-color: rgb(255.0000, 255,255.0000);\">0.0000</td><td style=\"background-color: rgb(255.0000, 255,255.0000);\">0.0000</td><td style=\"background-color: rgb(0.0000, 255,0.0000);\">1.0000</td><td style=\"background-color: rgb(255.0000, 255,255.0000);\">0.0000</td><td style=\"background-color: rgb(255.0000, 255,255.0000);\">0.0000</td><td style=\"background-color: rgb(255.0000, 255,255.0000);\">0.0000</td></tr><tr><td><b>attention_intent</b></td><td style=\"background-color: rgb(255.0000, 255,255.0000);\">0.0000</td><td style=\"background-color: rgb(255.0000, 255,255.0000);\">0.0000</td><td style=\"background-color: rgb(255.0000, 255,255.0000);\">0.0000</td><td style=\"background-color: rgb(203.5553, 255,203.5553);\">0.2017</td><td style=\"background-color: rgb(216.6144, 255,216.6144);\">0.1505</td><td style=\"background-color: rgb(111.9313, 255,111.9313);\">0.5611</td><td style=\"background-color: rgb(232.9009, 255,232.9009);\">0.0867</td></tr><tr><td><b>slots_true</b></td><td style=\"background-color: rgb(255,255,255);\">O</td><td style=\"background-color: rgb(255,255,255);\">O</td><td style=\"background-color: rgb(255,255,255);\">B-Agent</td><td style=\"background-color: rgb(255,255,255);\">O</td><td style=\"background-color: rgb(255,255,255);\">B-Device</td><td style=\"background-color: rgb(255,255,255);\">I-Device</td><td style=\"background-color: rgb(255,255,255);\">B-Operational_state</td></tr><tr><td><b>slots_pred</b></td><td style=\"background-color: rgb(255,255,255);\">O</td><td style=\"background-color: rgb(255,255,255);\">O</td><td style=\"background-color: rgb(255,255,255);\">B-Agent</td><td style=\"background-color: rgb(255,255,255);\">O</td><td style=\"background-color: rgb(255,255,255);\">B-Device</td><td style=\"background-color: rgb(255,255,255);\">I-Device</td><td style=\"background-color: rgb(255,255,255);\">B-Operational_state</td></tr></table>"
      ],
      "text/plain": [
       "<IPython.core.display.HTML object>"
      ]
     },
     "metadata": {},
     "output_type": "display_data"
    },
    {
     "name": "stdout",
     "output_type": "stream",
     "text": [
      "true: Bringing pred: Bringing\n"
     ]
    },
    {
     "data": {
      "text/html": [
       "<table><tr><td><b>words</b></td><td style=\"background-color: rgb(255,255,255);\">bring</td><td style=\"background-color: rgb(255,255,255);\">the</td><td style=\"background-color: rgb(255,255,255);\">bottle</td><td style=\"background-color: rgb(255,255,255);\">to</td><td style=\"background-color: rgb(255,255,255);\">the</td><td style=\"background-color: rgb(255,255,255);\">couch</td></tr><tr><td><b>lexical_unit</b></td><td style=\"background-color: rgb(0.0000, 255,0.0000);\">1.0000</td><td style=\"background-color: rgb(255.0000, 255,255.0000);\">0.0000</td><td style=\"background-color: rgb(255.0000, 255,255.0000);\">0.0000</td><td style=\"background-color: rgb(255.0000, 255,255.0000);\">0.0000</td><td style=\"background-color: rgb(255.0000, 255,255.0000);\">0.0000</td><td style=\"background-color: rgb(255.0000, 255,255.0000);\">0.0000</td></tr><tr><td><b>attention_intent</b></td><td style=\"background-color: rgb(254.9863, 255,254.9863);\">0.0001</td><td style=\"background-color: rgb(254.7798, 255,254.7798);\">0.0009</td><td style=\"background-color: rgb(254.9042, 255,254.9042);\">0.0004</td><td style=\"background-color: rgb(53.4248, 255,53.4248);\">0.7905</td><td style=\"background-color: rgb(210.6754, 255,210.6754);\">0.1738</td><td style=\"background-color: rgb(246.2301, 255,246.2301);\">0.0344</td></tr><tr><td><b>slots_true</b></td><td style=\"background-color: rgb(255,255,255);\">O</td><td style=\"background-color: rgb(255,255,255);\">B-Theme</td><td style=\"background-color: rgb(255,255,255);\">I-Theme</td><td style=\"background-color: rgb(255,255,255);\">B-Goal</td><td style=\"background-color: rgb(255,255,255);\">I-Goal</td><td style=\"background-color: rgb(255,255,255);\">I-Goal</td></tr><tr><td><b>slots_pred</b></td><td style=\"background-color: rgb(255,255,255);\">O</td><td style=\"background-color: rgb(255,255,255);\">B-Theme</td><td style=\"background-color: rgb(255,255,255);\">I-Theme</td><td style=\"background-color: rgb(255,255,255);\">B-Goal</td><td style=\"background-color: rgb(255,255,255);\">I-Goal</td><td style=\"background-color: rgb(255,255,255);\">I-Goal</td></tr></table>"
      ],
      "text/plain": [
       "<IPython.core.display.HTML object>"
      ]
     },
     "metadata": {},
     "output_type": "display_data"
    },
    {
     "name": "stdout",
     "output_type": "stream",
     "text": [
      "true: Taking pred: Taking\n"
     ]
    },
    {
     "data": {
      "text/html": [
       "<table><tr><td><b>words</b></td><td style=\"background-color: rgb(255,255,255);\">john</td><td style=\"background-color: rgb(255,255,255);\">can</td><td style=\"background-color: rgb(255,255,255);\">you</td><td style=\"background-color: rgb(255,255,255);\">take</td><td style=\"background-color: rgb(255,255,255);\">the</td><td style=\"background-color: rgb(255,255,255);\">mug</td><td style=\"background-color: rgb(255,255,255);\">in</td><td style=\"background-color: rgb(255,255,255);\">the</td><td style=\"background-color: rgb(255,255,255);\">kitchen</td></tr><tr><td><b>lexical_unit</b></td><td style=\"background-color: rgb(255.0000, 255,255.0000);\">0.0000</td><td style=\"background-color: rgb(255.0000, 255,255.0000);\">0.0000</td><td style=\"background-color: rgb(255.0000, 255,255.0000);\">0.0000</td><td style=\"background-color: rgb(0.0000, 255,0.0000);\">1.0000</td><td style=\"background-color: rgb(255.0000, 255,255.0000);\">0.0000</td><td style=\"background-color: rgb(255.0000, 255,255.0000);\">0.0000</td><td style=\"background-color: rgb(255.0000, 255,255.0000);\">0.0000</td><td style=\"background-color: rgb(255.0000, 255,255.0000);\">0.0000</td><td style=\"background-color: rgb(255.0000, 255,255.0000);\">0.0000</td></tr><tr><td><b>attention_intent</b></td><td style=\"background-color: rgb(255.0000, 255,255.0000);\">0.0000</td><td style=\"background-color: rgb(255.0000, 255,255.0000);\">0.0000</td><td style=\"background-color: rgb(254.9999, 255,254.9999);\">0.0000</td><td style=\"background-color: rgb(254.5613, 255,254.5613);\">0.0017</td><td style=\"background-color: rgb(167.2181, 255,167.2181);\">0.3442</td><td style=\"background-color: rgb(254.6750, 255,254.6750);\">0.0013</td><td style=\"background-color: rgb(252.2503, 255,252.2503);\">0.0108</td><td style=\"background-color: rgb(91.4420, 255,91.4420);\">0.6414</td><td style=\"background-color: rgb(254.9989, 255,254.9989);\">0.0000</td></tr><tr><td><b>slots_true</b></td><td style=\"background-color: rgb(255,255,255);\">O</td><td style=\"background-color: rgb(255,255,255);\">O</td><td style=\"background-color: rgb(255,255,255);\">B-Agent</td><td style=\"background-color: rgb(255,255,255);\">O</td><td style=\"background-color: rgb(255,255,255);\">B-Theme</td><td style=\"background-color: rgb(255,255,255);\">I-Theme</td><td style=\"background-color: rgb(255,255,255);\">I-Theme</td><td style=\"background-color: rgb(255,255,255);\">I-Theme</td><td style=\"background-color: rgb(255,255,255);\">I-Theme</td></tr><tr><td><b>slots_pred</b></td><td style=\"background-color: rgb(255,255,255);\">O</td><td style=\"background-color: rgb(255,255,255);\">O</td><td style=\"background-color: rgb(255,255,255);\">B-Agent</td><td style=\"background-color: rgb(255,255,255);\">O</td><td style=\"background-color: rgb(255,255,255);\">B-Theme</td><td style=\"background-color: rgb(255,255,255);\">I-Theme</td><td style=\"background-color: rgb(255,255,255);\">B-Theme</td><td style=\"background-color: rgb(255,255,255);\">I-Theme</td><td style=\"background-color: rgb(255,255,255);\">I-Theme</td></tr></table>"
      ],
      "text/plain": [
       "<IPython.core.display.HTML object>"
      ]
     },
     "metadata": {},
     "output_type": "display_data"
    },
    {
     "name": "stdout",
     "output_type": "stream",
     "text": [
      "true: Bringing pred: Bringing\n"
     ]
    },
    {
     "data": {
      "text/html": [
       "<table><tr><td><b>words</b></td><td style=\"background-color: rgb(255,255,255);\">carry</td><td style=\"background-color: rgb(255,255,255);\">the</td><td style=\"background-color: rgb(255,255,255);\">mug</td><td style=\"background-color: rgb(255,255,255);\">to</td><td style=\"background-color: rgb(255,255,255);\">the</td><td style=\"background-color: rgb(255,255,255);\">living</td><td style=\"background-color: rgb(255,255,255);\">room</td></tr><tr><td><b>lexical_unit</b></td><td style=\"background-color: rgb(0.0000, 255,0.0000);\">1.0000</td><td style=\"background-color: rgb(255.0000, 255,255.0000);\">0.0000</td><td style=\"background-color: rgb(255.0000, 255,255.0000);\">0.0000</td><td style=\"background-color: rgb(255.0000, 255,255.0000);\">0.0000</td><td style=\"background-color: rgb(255.0000, 255,255.0000);\">0.0000</td><td style=\"background-color: rgb(255.0000, 255,255.0000);\">0.0000</td><td style=\"background-color: rgb(255.0000, 255,255.0000);\">0.0000</td></tr><tr><td><b>attention_intent</b></td><td style=\"background-color: rgb(254.9973, 255,254.9973);\">0.0000</td><td style=\"background-color: rgb(254.4092, 255,254.4092);\">0.0023</td><td style=\"background-color: rgb(254.9753, 255,254.9753);\">0.0001</td><td style=\"background-color: rgb(52.6125, 255,52.6125);\">0.7937</td><td style=\"background-color: rgb(212.7804, 255,212.7804);\">0.1656</td><td style=\"background-color: rgb(245.4380, 255,245.4380);\">0.0375</td><td style=\"background-color: rgb(254.7878, 255,254.7878);\">0.0008</td></tr><tr><td><b>slots_true</b></td><td style=\"background-color: rgb(255,255,255);\">O</td><td style=\"background-color: rgb(255,255,255);\">B-Theme</td><td style=\"background-color: rgb(255,255,255);\">I-Theme</td><td style=\"background-color: rgb(255,255,255);\">B-Goal</td><td style=\"background-color: rgb(255,255,255);\">I-Goal</td><td style=\"background-color: rgb(255,255,255);\">I-Goal</td><td style=\"background-color: rgb(255,255,255);\">I-Goal</td></tr><tr><td><b>slots_pred</b></td><td style=\"background-color: rgb(255,255,255);\">O</td><td style=\"background-color: rgb(255,255,255);\">B-Theme</td><td style=\"background-color: rgb(255,255,255);\">I-Theme</td><td style=\"background-color: rgb(255,255,255);\">B-Goal</td><td style=\"background-color: rgb(255,255,255);\">I-Goal</td><td style=\"background-color: rgb(255,255,255);\">I-Goal</td><td style=\"background-color: rgb(255,255,255);\">I-Goal</td></tr></table>"
      ],
      "text/plain": [
       "<IPython.core.display.HTML object>"
      ]
     },
     "metadata": {},
     "output_type": "display_data"
    },
    {
     "name": "stdout",
     "output_type": "stream",
     "text": [
      "true: Being_in_category pred: Being_in_category\n"
     ]
    },
    {
     "data": {
      "text/html": [
       "<table><tr><td><b>words</b></td><td style=\"background-color: rgb(255,255,255);\">this</td><td style=\"background-color: rgb(255,255,255);\">is</td><td style=\"background-color: rgb(255,255,255);\">a</td><td style=\"background-color: rgb(255,255,255);\">table</td><td style=\"background-color: rgb(255,255,255);\">with</td><td style=\"background-color: rgb(255,255,255);\">a</td><td style=\"background-color: rgb(255,255,255);\">glass</td><td style=\"background-color: rgb(255,255,255);\">deck</td></tr><tr><td><b>lexical_unit</b></td><td style=\"background-color: rgb(255.0000, 255,255.0000);\">0.0000</td><td style=\"background-color: rgb(0.0000, 255,0.0000);\">1.0000</td><td style=\"background-color: rgb(255.0000, 255,255.0000);\">0.0000</td><td style=\"background-color: rgb(255.0000, 255,255.0000);\">0.0000</td><td style=\"background-color: rgb(255.0000, 255,255.0000);\">0.0000</td><td style=\"background-color: rgb(255.0000, 255,255.0000);\">0.0000</td><td style=\"background-color: rgb(255.0000, 255,255.0000);\">0.0000</td><td style=\"background-color: rgb(255.0000, 255,255.0000);\">0.0000</td></tr><tr><td><b>attention_intent</b></td><td style=\"background-color: rgb(255.0000, 255,255.0000);\">0.0000</td><td style=\"background-color: rgb(254.4893, 255,254.4893);\">0.0020</td><td style=\"background-color: rgb(196.5695, 255,196.5695);\">0.2291</td><td style=\"background-color: rgb(254.3662, 255,254.3662);\">0.0025</td><td style=\"background-color: rgb(151.7147, 255,151.7147);\">0.4050</td><td style=\"background-color: rgb(171.7064, 255,171.7064);\">0.3266</td><td style=\"background-color: rgb(246.1880, 255,246.1880);\">0.0346</td><td style=\"background-color: rgb(254.9717, 255,254.9717);\">0.0001</td></tr><tr><td><b>slots_true</b></td><td style=\"background-color: rgb(255,255,255);\">B-Item</td><td style=\"background-color: rgb(255,255,255);\">O</td><td style=\"background-color: rgb(255,255,255);\">B-Category</td><td style=\"background-color: rgb(255,255,255);\">I-Category</td><td style=\"background-color: rgb(255,255,255);\">I-Category</td><td style=\"background-color: rgb(255,255,255);\">I-Category</td><td style=\"background-color: rgb(255,255,255);\">I-Category</td><td style=\"background-color: rgb(255,255,255);\">I-Category</td></tr><tr><td><b>slots_pred</b></td><td style=\"background-color: rgb(255,255,255);\">B-Item</td><td style=\"background-color: rgb(255,255,255);\">O</td><td style=\"background-color: rgb(255,255,255);\">B-Category</td><td style=\"background-color: rgb(255,255,255);\">I-Category</td><td style=\"background-color: rgb(255,255,255);\">I-Category</td><td style=\"background-color: rgb(255,255,255);\">I-Category</td><td style=\"background-color: rgb(255,255,255);\">I-Category</td><td style=\"background-color: rgb(255,255,255);\">I-Category</td></tr></table>"
      ],
      "text/plain": [
       "<IPython.core.display.HTML object>"
      ]
     },
     "metadata": {},
     "output_type": "display_data"
    },
    {
     "name": "stdout",
     "output_type": "stream",
     "text": [
      "true: Following pred: Following\n"
     ]
    },
    {
     "data": {
      "text/html": [
       "<table><tr><td><b>words</b></td><td style=\"background-color: rgb(255,255,255);\">and</td><td style=\"background-color: rgb(255,255,255);\">follow</td><td style=\"background-color: rgb(255,255,255);\">the</td><td style=\"background-color: rgb(255,255,255);\">skinny</td><td style=\"background-color: rgb(255,255,255);\">person</td></tr><tr><td><b>lexical_unit</b></td><td style=\"background-color: rgb(255.0000, 255,255.0000);\">0.0000</td><td style=\"background-color: rgb(0.0000, 255,0.0000);\">1.0000</td><td style=\"background-color: rgb(255.0000, 255,255.0000);\">0.0000</td><td style=\"background-color: rgb(255.0000, 255,255.0000);\">0.0000</td><td style=\"background-color: rgb(255.0000, 255,255.0000);\">0.0000</td></tr><tr><td><b>attention_intent</b></td><td style=\"background-color: rgb(255.0000, 255,255.0000);\">0.0000</td><td style=\"background-color: rgb(95.5375, 255,95.5375);\">0.6253</td><td style=\"background-color: rgb(165.5965, 255,165.5965);\">0.3506</td><td style=\"background-color: rgb(248.8751, 255,248.8751);\">0.0240</td><td style=\"background-color: rgb(254.9916, 255,254.9916);\">0.0000</td></tr><tr><td><b>slots_true</b></td><td style=\"background-color: rgb(255,255,255);\">O</td><td style=\"background-color: rgb(255,255,255);\">O</td><td style=\"background-color: rgb(255,255,255);\">B-Cotheme</td><td style=\"background-color: rgb(255,255,255);\">I-Cotheme</td><td style=\"background-color: rgb(255,255,255);\">I-Cotheme</td></tr><tr><td><b>slots_pred</b></td><td style=\"background-color: rgb(255,255,255);\">O</td><td style=\"background-color: rgb(255,255,255);\">O</td><td style=\"background-color: rgb(255,255,255);\">B-Cotheme</td><td style=\"background-color: rgb(255,255,255);\">I-Cotheme</td><td style=\"background-color: rgb(255,255,255);\">I-Cotheme</td></tr></table>"
      ],
      "text/plain": [
       "<IPython.core.display.HTML object>"
      ]
     },
     "metadata": {},
     "output_type": "display_data"
    },
    {
     "name": "stdout",
     "output_type": "stream",
     "text": [
      "true: Placing pred: Placing\n"
     ]
    },
    {
     "data": {
      "text/html": [
       "<table><tr><td><b>words</b></td><td style=\"background-color: rgb(255,255,255);\">could</td><td style=\"background-color: rgb(255,255,255);\">you</td><td style=\"background-color: rgb(255,255,255);\">put</td><td style=\"background-color: rgb(255,255,255);\">the</td><td style=\"background-color: rgb(255,255,255);\">vase</td><td style=\"background-color: rgb(255,255,255);\">on</td><td style=\"background-color: rgb(255,255,255);\">the</td><td style=\"background-color: rgb(255,255,255);\">coffee</td><td style=\"background-color: rgb(255,255,255);\">table</td></tr><tr><td><b>lexical_unit</b></td><td style=\"background-color: rgb(255.0000, 255,255.0000);\">0.0000</td><td style=\"background-color: rgb(255.0000, 255,255.0000);\">0.0000</td><td style=\"background-color: rgb(0.0000, 255,0.0000);\">1.0000</td><td style=\"background-color: rgb(255.0000, 255,255.0000);\">0.0000</td><td style=\"background-color: rgb(255.0000, 255,255.0000);\">0.0000</td><td style=\"background-color: rgb(255.0000, 255,255.0000);\">0.0000</td><td style=\"background-color: rgb(255.0000, 255,255.0000);\">0.0000</td><td style=\"background-color: rgb(255.0000, 255,255.0000);\">0.0000</td><td style=\"background-color: rgb(255.0000, 255,255.0000);\">0.0000</td></tr><tr><td><b>attention_intent</b></td><td style=\"background-color: rgb(255.0000, 255,255.0000);\">0.0000</td><td style=\"background-color: rgb(255.0000, 255,255.0000);\">0.0000</td><td style=\"background-color: rgb(254.9952, 255,254.9952);\">0.0000</td><td style=\"background-color: rgb(254.9099, 255,254.9099);\">0.0004</td><td style=\"background-color: rgb(254.9561, 255,254.9561);\">0.0002</td><td style=\"background-color: rgb(228.3589, 255,228.3589);\">0.1045</td><td style=\"background-color: rgb(68.3396, 255,68.3396);\">0.7320</td><td style=\"background-color: rgb(237.0056, 255,237.0056);\">0.0706</td><td style=\"background-color: rgb(231.4357, 255,231.4357);\">0.0924</td></tr><tr><td><b>slots_true</b></td><td style=\"background-color: rgb(255,255,255);\">O</td><td style=\"background-color: rgb(255,255,255);\">B-Agent</td><td style=\"background-color: rgb(255,255,255);\">O</td><td style=\"background-color: rgb(255,255,255);\">B-Theme</td><td style=\"background-color: rgb(255,255,255);\">I-Theme</td><td style=\"background-color: rgb(255,255,255);\">B-Goal</td><td style=\"background-color: rgb(255,255,255);\">I-Goal</td><td style=\"background-color: rgb(255,255,255);\">I-Goal</td><td style=\"background-color: rgb(255,255,255);\">I-Goal</td></tr><tr><td><b>slots_pred</b></td><td style=\"background-color: rgb(255,255,255);\">O</td><td style=\"background-color: rgb(255,255,255);\">B-Agent</td><td style=\"background-color: rgb(255,255,255);\">O</td><td style=\"background-color: rgb(255,255,255);\">B-Theme</td><td style=\"background-color: rgb(255,255,255);\">I-Theme</td><td style=\"background-color: rgb(255,255,255);\">B-Goal</td><td style=\"background-color: rgb(255,255,255);\">I-Goal</td><td style=\"background-color: rgb(255,255,255);\">I-Goal</td><td style=\"background-color: rgb(255,255,255);\">I-Goal</td></tr></table>"
      ],
      "text/plain": [
       "<IPython.core.display.HTML object>"
      ]
     },
     "metadata": {},
     "output_type": "display_data"
    },
    {
     "name": "stdout",
     "output_type": "stream",
     "text": [
      "true: Bringing pred: Bringing\n"
     ]
    },
    {
     "data": {
      "text/html": [
       "<table><tr><td><b>words</b></td><td style=\"background-color: rgb(255,255,255);\">robot</td><td style=\"background-color: rgb(255,255,255);\">can</td><td style=\"background-color: rgb(255,255,255);\">you</td><td style=\"background-color: rgb(255,255,255);\">bring</td><td style=\"background-color: rgb(255,255,255);\">me</td><td style=\"background-color: rgb(255,255,255);\">a</td><td style=\"background-color: rgb(255,255,255);\">magazine</td></tr><tr><td><b>lexical_unit</b></td><td style=\"background-color: rgb(255.0000, 255,255.0000);\">0.0000</td><td style=\"background-color: rgb(255.0000, 255,255.0000);\">0.0000</td><td style=\"background-color: rgb(255.0000, 255,255.0000);\">0.0000</td><td style=\"background-color: rgb(0.0000, 255,0.0000);\">1.0000</td><td style=\"background-color: rgb(255.0000, 255,255.0000);\">0.0000</td><td style=\"background-color: rgb(255.0000, 255,255.0000);\">0.0000</td><td style=\"background-color: rgb(255.0000, 255,255.0000);\">0.0000</td></tr><tr><td><b>attention_intent</b></td><td style=\"background-color: rgb(255.0000, 255,255.0000);\">0.0000</td><td style=\"background-color: rgb(255.0000, 255,255.0000);\">0.0000</td><td style=\"background-color: rgb(255.0000, 255,255.0000);\">0.0000</td><td style=\"background-color: rgb(253.6196, 255,253.6196);\">0.0054</td><td style=\"background-color: rgb(3.8577, 255,3.8577);\">0.9849</td><td style=\"background-color: rgb(252.5339, 255,252.5339);\">0.0097</td><td style=\"background-color: rgb(254.9893, 255,254.9893);\">0.0000</td></tr><tr><td><b>slots_true</b></td><td style=\"background-color: rgb(255,255,255);\">O</td><td style=\"background-color: rgb(255,255,255);\">O</td><td style=\"background-color: rgb(255,255,255);\">B-Agent</td><td style=\"background-color: rgb(255,255,255);\">O</td><td style=\"background-color: rgb(255,255,255);\">B-Beneficiary</td><td style=\"background-color: rgb(255,255,255);\">B-Theme</td><td style=\"background-color: rgb(255,255,255);\">I-Theme</td></tr><tr><td><b>slots_pred</b></td><td style=\"background-color: rgb(255,255,255);\">O</td><td style=\"background-color: rgb(255,255,255);\">O</td><td style=\"background-color: rgb(255,255,255);\">B-Agent</td><td style=\"background-color: rgb(255,255,255);\">O</td><td style=\"background-color: rgb(255,255,255);\">B-Beneficiary</td><td style=\"background-color: rgb(255,255,255);\">B-Theme</td><td style=\"background-color: rgb(255,255,255);\">I-Theme</td></tr></table>"
      ],
      "text/plain": [
       "<IPython.core.display.HTML object>"
      ]
     },
     "metadata": {},
     "output_type": "display_data"
    },
    {
     "name": "stdout",
     "output_type": "stream",
     "text": [
      "true: Motion pred: Motion\n"
     ]
    },
    {
     "data": {
      "text/html": [
       "<table><tr><td><b>words</b></td><td style=\"background-color: rgb(255,255,255);\">please</td><td style=\"background-color: rgb(255,255,255);\">walk</td><td style=\"background-color: rgb(255,255,255);\">slowly</td><td style=\"background-color: rgb(255,255,255);\">to</td><td style=\"background-color: rgb(255,255,255);\">the</td><td style=\"background-color: rgb(255,255,255);\">kitchen</td></tr><tr><td><b>lexical_unit</b></td><td style=\"background-color: rgb(255.0000, 255,255.0000);\">0.0000</td><td style=\"background-color: rgb(0.0000, 255,0.0000);\">1.0000</td><td style=\"background-color: rgb(255.0000, 255,255.0000);\">0.0000</td><td style=\"background-color: rgb(255.0000, 255,255.0000);\">0.0000</td><td style=\"background-color: rgb(255.0000, 255,255.0000);\">0.0000</td><td style=\"background-color: rgb(255.0000, 255,255.0000);\">0.0000</td></tr><tr><td><b>attention_intent</b></td><td style=\"background-color: rgb(255.0000, 255,255.0000);\">0.0000</td><td style=\"background-color: rgb(254.7506, 255,254.7506);\">0.0010</td><td style=\"background-color: rgb(251.5579, 255,251.5579);\">0.0135</td><td style=\"background-color: rgb(61.4382, 255,61.4382);\">0.7591</td><td style=\"background-color: rgb(197.2879, 255,197.2879);\">0.2263</td><td style=\"background-color: rgb(254.9663, 255,254.9663);\">0.0001</td></tr><tr><td><b>slots_true</b></td><td style=\"background-color: rgb(255,255,255);\">O</td><td style=\"background-color: rgb(255,255,255);\">O</td><td style=\"background-color: rgb(255,255,255);\">B-Manner</td><td style=\"background-color: rgb(255,255,255);\">B-Goal</td><td style=\"background-color: rgb(255,255,255);\">I-Goal</td><td style=\"background-color: rgb(255,255,255);\">I-Goal</td></tr><tr><td><b>slots_pred</b></td><td style=\"background-color: rgb(255,255,255);\">O</td><td style=\"background-color: rgb(255,255,255);\">O</td><td style=\"background-color: rgb(255,255,255);\">B-Goal</td><td style=\"background-color: rgb(255,255,255);\">B-Goal</td><td style=\"background-color: rgb(255,255,255);\">I-Goal</td><td style=\"background-color: rgb(255,255,255);\">I-Goal</td></tr></table>"
      ],
      "text/plain": [
       "<IPython.core.display.HTML object>"
      ]
     },
     "metadata": {},
     "output_type": "display_data"
    },
    {
     "name": "stdout",
     "output_type": "stream",
     "text": [
      "true: Being_located pred: Being_located\n"
     ]
    },
    {
     "data": {
      "text/html": [
       "<table><tr><td><b>words</b></td><td style=\"background-color: rgb(255,255,255);\">it</td><td style=\"background-color: rgb(255,255,255);\">should</td><td style=\"background-color: rgb(255,255,255);\">be</td><td style=\"background-color: rgb(255,255,255);\">on</td><td style=\"background-color: rgb(255,255,255);\">the</td><td style=\"background-color: rgb(255,255,255);\">nightstand</td></tr><tr><td><b>lexical_unit</b></td><td style=\"background-color: rgb(255.0000, 255,255.0000);\">0.0000</td><td style=\"background-color: rgb(255.0000, 255,255.0000);\">0.0000</td><td style=\"background-color: rgb(0.0000, 255,0.0000);\">1.0000</td><td style=\"background-color: rgb(255.0000, 255,255.0000);\">0.0000</td><td style=\"background-color: rgb(255.0000, 255,255.0000);\">0.0000</td><td style=\"background-color: rgb(255.0000, 255,255.0000);\">0.0000</td></tr><tr><td><b>attention_intent</b></td><td style=\"background-color: rgb(255.0000, 255,255.0000);\">0.0000</td><td style=\"background-color: rgb(255.0000, 255,255.0000);\">0.0000</td><td style=\"background-color: rgb(254.9998, 255,254.9998);\">0.0000</td><td style=\"background-color: rgb(247.4496, 255,247.4496);\">0.0296</td><td style=\"background-color: rgb(9.4595, 255,9.4595);\">0.9629</td><td style=\"background-color: rgb(253.1013, 255,253.1013);\">0.0074</td></tr><tr><td><b>slots_true</b></td><td style=\"background-color: rgb(255,255,255);\">B-Theme</td><td style=\"background-color: rgb(255,255,255);\">O</td><td style=\"background-color: rgb(255,255,255);\">O</td><td style=\"background-color: rgb(255,255,255);\">B-Location</td><td style=\"background-color: rgb(255,255,255);\">I-Location</td><td style=\"background-color: rgb(255,255,255);\">I-Location</td></tr><tr><td><b>slots_pred</b></td><td style=\"background-color: rgb(255,255,255);\">B-Theme</td><td style=\"background-color: rgb(255,255,255);\">O</td><td style=\"background-color: rgb(255,255,255);\">O</td><td style=\"background-color: rgb(255,255,255);\">B-Location</td><td style=\"background-color: rgb(255,255,255);\">I-Location</td><td style=\"background-color: rgb(255,255,255);\">I-Location</td></tr></table>"
      ],
      "text/plain": [
       "<IPython.core.display.HTML object>"
      ]
     },
     "metadata": {},
     "output_type": "display_data"
    },
    {
     "name": "stdout",
     "output_type": "stream",
     "text": [
      "true: Change_operational_state pred: Change_operational_state\n"
     ]
    },
    {
     "data": {
      "text/html": [
       "<table><tr><td><b>words</b></td><td style=\"background-color: rgb(255,255,255);\">robot</td><td style=\"background-color: rgb(255,255,255);\">can</td><td style=\"background-color: rgb(255,255,255);\">you</td><td style=\"background-color: rgb(255,255,255);\">turn</td><td style=\"background-color: rgb(255,255,255);\">the</td><td style=\"background-color: rgb(255,255,255);\">electric</td><td style=\"background-color: rgb(255,255,255);\">oven</td><td style=\"background-color: rgb(255,255,255);\">on</td></tr><tr><td><b>lexical_unit</b></td><td style=\"background-color: rgb(255.0000, 255,255.0000);\">0.0000</td><td style=\"background-color: rgb(255.0000, 255,255.0000);\">0.0000</td><td style=\"background-color: rgb(255.0000, 255,255.0000);\">0.0000</td><td style=\"background-color: rgb(0.0000, 255,0.0000);\">1.0000</td><td style=\"background-color: rgb(255.0000, 255,255.0000);\">0.0000</td><td style=\"background-color: rgb(255.0000, 255,255.0000);\">0.0000</td><td style=\"background-color: rgb(255.0000, 255,255.0000);\">0.0000</td><td style=\"background-color: rgb(255.0000, 255,255.0000);\">0.0000</td></tr><tr><td><b>attention_intent</b></td><td style=\"background-color: rgb(255.0000, 255,255.0000);\">0.0000</td><td style=\"background-color: rgb(255.0000, 255,255.0000);\">0.0000</td><td style=\"background-color: rgb(255.0000, 255,255.0000);\">0.0000</td><td style=\"background-color: rgb(240.2581, 255,240.2581);\">0.0578</td><td style=\"background-color: rgb(245.0937, 255,245.0937);\">0.0388</td><td style=\"background-color: rgb(231.1981, 255,231.1981);\">0.0933</td><td style=\"background-color: rgb(220.8177, 255,220.8177);\">0.1340</td><td style=\"background-color: rgb(82.6353, 255,82.6353);\">0.6759</td></tr><tr><td><b>slots_true</b></td><td style=\"background-color: rgb(255,255,255);\">O</td><td style=\"background-color: rgb(255,255,255);\">O</td><td style=\"background-color: rgb(255,255,255);\">B-Agent</td><td style=\"background-color: rgb(255,255,255);\">O</td><td style=\"background-color: rgb(255,255,255);\">B-Device</td><td style=\"background-color: rgb(255,255,255);\">I-Device</td><td style=\"background-color: rgb(255,255,255);\">I-Device</td><td style=\"background-color: rgb(255,255,255);\">B-Operational_state</td></tr><tr><td><b>slots_pred</b></td><td style=\"background-color: rgb(255,255,255);\">O</td><td style=\"background-color: rgb(255,255,255);\">O</td><td style=\"background-color: rgb(255,255,255);\">B-Agent</td><td style=\"background-color: rgb(255,255,255);\">O</td><td style=\"background-color: rgb(255,255,255);\">B-Device</td><td style=\"background-color: rgb(255,255,255);\">I-Device</td><td style=\"background-color: rgb(255,255,255);\">I-Device</td><td style=\"background-color: rgb(255,255,255);\">B-Operational_state</td></tr></table>"
      ],
      "text/plain": [
       "<IPython.core.display.HTML object>"
      ]
     },
     "metadata": {},
     "output_type": "display_data"
    },
    {
     "name": "stdout",
     "output_type": "stream",
     "text": [
      "true: Following pred: Following\n"
     ]
    },
    {
     "data": {
      "text/html": [
       "<table><tr><td><b>words</b></td><td style=\"background-color: rgb(255,255,255);\">would</td><td style=\"background-color: rgb(255,255,255);\">you</td><td style=\"background-color: rgb(255,255,255);\">please</td><td style=\"background-color: rgb(255,255,255);\">follow</td><td style=\"background-color: rgb(255,255,255);\">me</td><td style=\"background-color: rgb(255,255,255);\">to</td><td style=\"background-color: rgb(255,255,255);\">the</td><td style=\"background-color: rgb(255,255,255);\">kitchen</td></tr><tr><td><b>lexical_unit</b></td><td style=\"background-color: rgb(255.0000, 255,255.0000);\">0.0000</td><td style=\"background-color: rgb(255.0000, 255,255.0000);\">0.0000</td><td style=\"background-color: rgb(255.0000, 255,255.0000);\">0.0000</td><td style=\"background-color: rgb(0.0000, 255,0.0000);\">1.0000</td><td style=\"background-color: rgb(255.0000, 255,255.0000);\">0.0000</td><td style=\"background-color: rgb(255.0000, 255,255.0000);\">0.0000</td><td style=\"background-color: rgb(255.0000, 255,255.0000);\">0.0000</td><td style=\"background-color: rgb(255.0000, 255,255.0000);\">0.0000</td></tr><tr><td><b>attention_intent</b></td><td style=\"background-color: rgb(255.0000, 255,255.0000);\">0.0000</td><td style=\"background-color: rgb(255.0000, 255,255.0000);\">0.0000</td><td style=\"background-color: rgb(255.0000, 255,255.0000);\">0.0000</td><td style=\"background-color: rgb(9.9674, 255,9.9674);\">0.9609</td><td style=\"background-color: rgb(251.8606, 255,251.8606);\">0.0123</td><td style=\"background-color: rgb(249.0454, 255,249.0454);\">0.0234</td><td style=\"background-color: rgb(254.1275, 255,254.1275);\">0.0034</td><td style=\"background-color: rgb(254.9999, 255,254.9999);\">0.0000</td></tr><tr><td><b>slots_true</b></td><td style=\"background-color: rgb(255,255,255);\">O</td><td style=\"background-color: rgb(255,255,255);\">B-Theme</td><td style=\"background-color: rgb(255,255,255);\">O</td><td style=\"background-color: rgb(255,255,255);\">O</td><td style=\"background-color: rgb(255,255,255);\">B-Cotheme</td><td style=\"background-color: rgb(255,255,255);\">B-Goal</td><td style=\"background-color: rgb(255,255,255);\">I-Goal</td><td style=\"background-color: rgb(255,255,255);\">I-Goal</td></tr><tr><td><b>slots_pred</b></td><td style=\"background-color: rgb(255,255,255);\">O</td><td style=\"background-color: rgb(255,255,255);\">B-Theme</td><td style=\"background-color: rgb(255,255,255);\">O</td><td style=\"background-color: rgb(255,255,255);\">O</td><td style=\"background-color: rgb(255,255,255);\">B-Cotheme</td><td style=\"background-color: rgb(255,255,255);\">B-Goal</td><td style=\"background-color: rgb(255,255,255);\">I-Goal</td><td style=\"background-color: rgb(255,255,255);\">I-Goal</td></tr></table>"
      ],
      "text/plain": [
       "<IPython.core.display.HTML object>"
      ]
     },
     "metadata": {},
     "output_type": "display_data"
    },
    {
     "name": "stdout",
     "output_type": "stream",
     "text": [
      "true: Searching pred: Searching\n"
     ]
    },
    {
     "data": {
      "text/html": [
       "<table><tr><td><b>words</b></td><td style=\"background-color: rgb(255,255,255);\">find</td><td style=\"background-color: rgb(255,255,255);\">my</td><td style=\"background-color: rgb(255,255,255);\">tablet</td></tr><tr><td><b>lexical_unit</b></td><td style=\"background-color: rgb(0.0000, 255,0.0000);\">1.0000</td><td style=\"background-color: rgb(255.0000, 255,255.0000);\">0.0000</td><td style=\"background-color: rgb(255.0000, 255,255.0000);\">0.0000</td></tr><tr><td><b>attention_intent</b></td><td style=\"background-color: rgb(254.0728, 255,254.0728);\">0.0036</td><td style=\"background-color: rgb(17.7888, 255,17.7888);\">0.9302</td><td style=\"background-color: rgb(238.1392, 255,238.1392);\">0.0661</td></tr><tr><td><b>slots_true</b></td><td style=\"background-color: rgb(255,255,255);\">O</td><td style=\"background-color: rgb(255,255,255);\">B-Phenomenon</td><td style=\"background-color: rgb(255,255,255);\">I-Phenomenon</td></tr><tr><td><b>slots_pred</b></td><td style=\"background-color: rgb(255,255,255);\">O</td><td style=\"background-color: rgb(255,255,255);\">B-Phenomenon</td><td style=\"background-color: rgb(255,255,255);\">I-Phenomenon</td></tr></table>"
      ],
      "text/plain": [
       "<IPython.core.display.HTML object>"
      ]
     },
     "metadata": {},
     "output_type": "display_data"
    },
    {
     "name": "stdout",
     "output_type": "stream",
     "text": [
      "true: Giving pred: Giving\n"
     ]
    },
    {
     "data": {
      "text/html": [
       "<table><tr><td><b>words</b></td><td style=\"background-color: rgb(255,255,255);\">robot</td><td style=\"background-color: rgb(255,255,255);\">can</td><td style=\"background-color: rgb(255,255,255);\">you</td><td style=\"background-color: rgb(255,255,255);\">pass</td><td style=\"background-color: rgb(255,255,255);\">me</td><td style=\"background-color: rgb(255,255,255);\">a</td><td style=\"background-color: rgb(255,255,255);\">plastic</td><td style=\"background-color: rgb(255,255,255);\">plate</td></tr><tr><td><b>lexical_unit</b></td><td style=\"background-color: rgb(255.0000, 255,255.0000);\">0.0000</td><td style=\"background-color: rgb(255.0000, 255,255.0000);\">0.0000</td><td style=\"background-color: rgb(255.0000, 255,255.0000);\">0.0000</td><td style=\"background-color: rgb(0.0000, 255,0.0000);\">1.0000</td><td style=\"background-color: rgb(255.0000, 255,255.0000);\">0.0000</td><td style=\"background-color: rgb(255.0000, 255,255.0000);\">0.0000</td><td style=\"background-color: rgb(255.0000, 255,255.0000);\">0.0000</td><td style=\"background-color: rgb(255.0000, 255,255.0000);\">0.0000</td></tr><tr><td><b>attention_intent</b></td><td style=\"background-color: rgb(255.0000, 255,255.0000);\">0.0000</td><td style=\"background-color: rgb(255.0000, 255,255.0000);\">0.0000</td><td style=\"background-color: rgb(255.0000, 255,255.0000);\">0.0000</td><td style=\"background-color: rgb(254.9054, 255,254.9054);\">0.0004</td><td style=\"background-color: rgb(94.9296, 255,94.9296);\">0.6277</td><td style=\"background-color: rgb(162.6937, 255,162.6937);\">0.3620</td><td style=\"background-color: rgb(252.4992, 255,252.4992);\">0.0098</td><td style=\"background-color: rgb(255.0000, 255,255.0000);\">0.0000</td></tr><tr><td><b>slots_true</b></td><td style=\"background-color: rgb(255,255,255);\">O</td><td style=\"background-color: rgb(255,255,255);\">O</td><td style=\"background-color: rgb(255,255,255);\">B-Donor</td><td style=\"background-color: rgb(255,255,255);\">O</td><td style=\"background-color: rgb(255,255,255);\">B-Recipient</td><td style=\"background-color: rgb(255,255,255);\">B-Theme</td><td style=\"background-color: rgb(255,255,255);\">I-Theme</td><td style=\"background-color: rgb(255,255,255);\">I-Theme</td></tr><tr><td><b>slots_pred</b></td><td style=\"background-color: rgb(255,255,255);\">O</td><td style=\"background-color: rgb(255,255,255);\">O</td><td style=\"background-color: rgb(255,255,255);\">B-Donor</td><td style=\"background-color: rgb(255,255,255);\">O</td><td style=\"background-color: rgb(255,255,255);\">B-Recipient</td><td style=\"background-color: rgb(255,255,255);\">B-Theme</td><td style=\"background-color: rgb(255,255,255);\">I-Theme</td><td style=\"background-color: rgb(255,255,255);\">I-Theme</td></tr></table>"
      ],
      "text/plain": [
       "<IPython.core.display.HTML object>"
      ]
     },
     "metadata": {},
     "output_type": "display_data"
    },
    {
     "name": "stdout",
     "output_type": "stream",
     "text": [
      "true: Motion pred: Motion\n"
     ]
    },
    {
     "data": {
      "text/html": [
       "<table><tr><td><b>words</b></td><td style=\"background-color: rgb(255,255,255);\">go</td><td style=\"background-color: rgb(255,255,255);\">to</td><td style=\"background-color: rgb(255,255,255);\">the</td><td style=\"background-color: rgb(255,255,255);\">bathroom</td></tr><tr><td><b>lexical_unit</b></td><td style=\"background-color: rgb(0.0000, 255,0.0000);\">1.0000</td><td style=\"background-color: rgb(255.0000, 255,255.0000);\">0.0000</td><td style=\"background-color: rgb(255.0000, 255,255.0000);\">0.0000</td><td style=\"background-color: rgb(255.0000, 255,255.0000);\">0.0000</td></tr><tr><td><b>attention_intent</b></td><td style=\"background-color: rgb(254.9855, 255,254.9855);\">0.0001</td><td style=\"background-color: rgb(103.7271, 255,103.7271);\">0.5932</td><td style=\"background-color: rgb(151.3713, 255,151.3713);\">0.4064</td><td style=\"background-color: rgb(254.9172, 255,254.9172);\">0.0003</td></tr><tr><td><b>slots_true</b></td><td style=\"background-color: rgb(255,255,255);\">O</td><td style=\"background-color: rgb(255,255,255);\">B-Goal</td><td style=\"background-color: rgb(255,255,255);\">I-Goal</td><td style=\"background-color: rgb(255,255,255);\">I-Goal</td></tr><tr><td><b>slots_pred</b></td><td style=\"background-color: rgb(255,255,255);\">O</td><td style=\"background-color: rgb(255,255,255);\">B-Goal</td><td style=\"background-color: rgb(255,255,255);\">I-Goal</td><td style=\"background-color: rgb(255,255,255);\">I-Goal</td></tr></table>"
      ],
      "text/plain": [
       "<IPython.core.display.HTML object>"
      ]
     },
     "metadata": {},
     "output_type": "display_data"
    },
    {
     "name": "stdout",
     "output_type": "stream",
     "text": [
      "true: Releasing pred: Releasing\n"
     ]
    },
    {
     "data": {
      "text/html": [
       "<table><tr><td><b>words</b></td><td style=\"background-color: rgb(255,255,255);\">drop</td><td style=\"background-color: rgb(255,255,255);\">the</td><td style=\"background-color: rgb(255,255,255);\">vase</td></tr><tr><td><b>lexical_unit</b></td><td style=\"background-color: rgb(0.0000, 255,0.0000);\">1.0000</td><td style=\"background-color: rgb(255.0000, 255,255.0000);\">0.0000</td><td style=\"background-color: rgb(255.0000, 255,255.0000);\">0.0000</td></tr><tr><td><b>attention_intent</b></td><td style=\"background-color: rgb(254.9570, 255,254.9570);\">0.0002</td><td style=\"background-color: rgb(0.2485, 255,0.2485);\">0.9990</td><td style=\"background-color: rgb(254.9814, 255,254.9814);\">0.0001</td></tr><tr><td><b>slots_true</b></td><td style=\"background-color: rgb(255,255,255);\">O</td><td style=\"background-color: rgb(255,255,255);\">B-Theme</td><td style=\"background-color: rgb(255,255,255);\">I-Theme</td></tr><tr><td><b>slots_pred</b></td><td style=\"background-color: rgb(255,255,255);\">O</td><td style=\"background-color: rgb(255,255,255);\">B-Theme</td><td style=\"background-color: rgb(255,255,255);\">I-Theme</td></tr></table>"
      ],
      "text/plain": [
       "<IPython.core.display.HTML object>"
      ]
     },
     "metadata": {},
     "output_type": "display_data"
    },
    {
     "name": "stdout",
     "output_type": "stream",
     "text": [
      "true: Placing pred: Placing\n"
     ]
    },
    {
     "data": {
      "text/html": [
       "<table><tr><td><b>words</b></td><td style=\"background-color: rgb(255,255,255);\">please</td><td style=\"background-color: rgb(255,255,255);\">put</td><td style=\"background-color: rgb(255,255,255);\">the</td><td style=\"background-color: rgb(255,255,255);\">book</td><td style=\"background-color: rgb(255,255,255);\">in</td><td style=\"background-color: rgb(255,255,255);\">the</td><td style=\"background-color: rgb(255,255,255);\">dining</td><td style=\"background-color: rgb(255,255,255);\">room</td></tr><tr><td><b>lexical_unit</b></td><td style=\"background-color: rgb(255.0000, 255,255.0000);\">0.0000</td><td style=\"background-color: rgb(0.0000, 255,0.0000);\">1.0000</td><td style=\"background-color: rgb(255.0000, 255,255.0000);\">0.0000</td><td style=\"background-color: rgb(255.0000, 255,255.0000);\">0.0000</td><td style=\"background-color: rgb(255.0000, 255,255.0000);\">0.0000</td><td style=\"background-color: rgb(255.0000, 255,255.0000);\">0.0000</td><td style=\"background-color: rgb(255.0000, 255,255.0000);\">0.0000</td><td style=\"background-color: rgb(255.0000, 255,255.0000);\">0.0000</td></tr><tr><td><b>attention_intent</b></td><td style=\"background-color: rgb(255.0000, 255,255.0000);\">0.0000</td><td style=\"background-color: rgb(254.9969, 255,254.9969);\">0.0000</td><td style=\"background-color: rgb(254.9151, 255,254.9151);\">0.0003</td><td style=\"background-color: rgb(254.9543, 255,254.9543);\">0.0002</td><td style=\"background-color: rgb(254.0827, 255,254.0827);\">0.0036</td><td style=\"background-color: rgb(35.9278, 255,35.9278);\">0.8591</td><td style=\"background-color: rgb(239.3291, 255,239.3291);\">0.0615</td><td style=\"background-color: rgb(235.7996, 255,235.7996);\">0.0753</td></tr><tr><td><b>slots_true</b></td><td style=\"background-color: rgb(255,255,255);\">O</td><td style=\"background-color: rgb(255,255,255);\">O</td><td style=\"background-color: rgb(255,255,255);\">B-Theme</td><td style=\"background-color: rgb(255,255,255);\">I-Theme</td><td style=\"background-color: rgb(255,255,255);\">B-Goal</td><td style=\"background-color: rgb(255,255,255);\">I-Goal</td><td style=\"background-color: rgb(255,255,255);\">I-Goal</td><td style=\"background-color: rgb(255,255,255);\">I-Goal</td></tr><tr><td><b>slots_pred</b></td><td style=\"background-color: rgb(255,255,255);\">O</td><td style=\"background-color: rgb(255,255,255);\">O</td><td style=\"background-color: rgb(255,255,255);\">B-Theme</td><td style=\"background-color: rgb(255,255,255);\">I-Theme</td><td style=\"background-color: rgb(255,255,255);\">B-Goal</td><td style=\"background-color: rgb(255,255,255);\">I-Goal</td><td style=\"background-color: rgb(255,255,255);\">I-Goal</td><td style=\"background-color: rgb(255,255,255);\">I-Goal</td></tr></table>"
      ],
      "text/plain": [
       "<IPython.core.display.HTML object>"
      ]
     },
     "metadata": {},
     "output_type": "display_data"
    },
    {
     "name": "stdout",
     "output_type": "stream",
     "text": [
      "true: Motion pred: Motion\n"
     ]
    },
    {
     "data": {
      "text/html": [
       "<table><tr><td><b>words</b></td><td style=\"background-color: rgb(255,255,255);\">go</td><td style=\"background-color: rgb(255,255,255);\">to</td><td style=\"background-color: rgb(255,255,255);\">the</td><td style=\"background-color: rgb(255,255,255);\">coffee</td><td style=\"background-color: rgb(255,255,255);\">machine</td></tr><tr><td><b>lexical_unit</b></td><td style=\"background-color: rgb(0.0000, 255,0.0000);\">1.0000</td><td style=\"background-color: rgb(255.0000, 255,255.0000);\">0.0000</td><td style=\"background-color: rgb(255.0000, 255,255.0000);\">0.0000</td><td style=\"background-color: rgb(255.0000, 255,255.0000);\">0.0000</td><td style=\"background-color: rgb(255.0000, 255,255.0000);\">0.0000</td></tr><tr><td><b>attention_intent</b></td><td style=\"background-color: rgb(254.9896, 255,254.9896);\">0.0000</td><td style=\"background-color: rgb(39.1571, 255,39.1571);\">0.8464</td><td style=\"background-color: rgb(216.8689, 255,216.8689);\">0.1495</td><td style=\"background-color: rgb(253.9866, 255,253.9866);\">0.0040</td><td style=\"background-color: rgb(254.9985, 255,254.9985);\">0.0000</td></tr><tr><td><b>slots_true</b></td><td style=\"background-color: rgb(255,255,255);\">O</td><td style=\"background-color: rgb(255,255,255);\">B-Goal</td><td style=\"background-color: rgb(255,255,255);\">I-Goal</td><td style=\"background-color: rgb(255,255,255);\">I-Goal</td><td style=\"background-color: rgb(255,255,255);\">I-Goal</td></tr><tr><td><b>slots_pred</b></td><td style=\"background-color: rgb(255,255,255);\">O</td><td style=\"background-color: rgb(255,255,255);\">B-Goal</td><td style=\"background-color: rgb(255,255,255);\">I-Goal</td><td style=\"background-color: rgb(255,255,255);\">I-Goal</td><td style=\"background-color: rgb(255,255,255);\">I-Goal</td></tr></table>"
      ],
      "text/plain": [
       "<IPython.core.display.HTML object>"
      ]
     },
     "metadata": {},
     "output_type": "display_data"
    },
    {
     "name": "stdout",
     "output_type": "stream",
     "text": [
      "true: Motion pred: Motion\n"
     ]
    },
    {
     "data": {
      "text/html": [
       "<table><tr><td><b>words</b></td><td style=\"background-color: rgb(255,255,255);\">go</td><td style=\"background-color: rgb(255,255,255);\">to</td><td style=\"background-color: rgb(255,255,255);\">living</td><td style=\"background-color: rgb(255,255,255);\">room</td></tr><tr><td><b>lexical_unit</b></td><td style=\"background-color: rgb(0.0000, 255,0.0000);\">1.0000</td><td style=\"background-color: rgb(255.0000, 255,255.0000);\">0.0000</td><td style=\"background-color: rgb(255.0000, 255,255.0000);\">0.0000</td><td style=\"background-color: rgb(255.0000, 255,255.0000);\">0.0000</td></tr><tr><td><b>attention_intent</b></td><td style=\"background-color: rgb(254.7594, 255,254.7594);\">0.0009</td><td style=\"background-color: rgb(7.6716, 255,7.6716);\">0.9699</td><td style=\"background-color: rgb(247.5723, 255,247.5723);\">0.0291</td><td style=\"background-color: rgb(254.9979, 255,254.9979);\">0.0000</td></tr><tr><td><b>slots_true</b></td><td style=\"background-color: rgb(255,255,255);\">O</td><td style=\"background-color: rgb(255,255,255);\">B-Goal</td><td style=\"background-color: rgb(255,255,255);\">I-Goal</td><td style=\"background-color: rgb(255,255,255);\">I-Goal</td></tr><tr><td><b>slots_pred</b></td><td style=\"background-color: rgb(255,255,255);\">O</td><td style=\"background-color: rgb(255,255,255);\">B-Goal</td><td style=\"background-color: rgb(255,255,255);\">I-Goal</td><td style=\"background-color: rgb(255,255,255);\">I-Goal</td></tr></table>"
      ],
      "text/plain": [
       "<IPython.core.display.HTML object>"
      ]
     },
     "metadata": {},
     "output_type": "display_data"
    },
    {
     "name": "stdout",
     "output_type": "stream",
     "text": [
      "true: Placing pred: Placing\n"
     ]
    },
    {
     "data": {
      "text/html": [
       "<table><tr><td><b>words</b></td><td style=\"background-color: rgb(255,255,255);\">hang</td><td style=\"background-color: rgb(255,255,255);\">my</td><td style=\"background-color: rgb(255,255,255);\">coat</td><td style=\"background-color: rgb(255,255,255);\">in</td><td style=\"background-color: rgb(255,255,255);\">the</td><td style=\"background-color: rgb(255,255,255);\">closet</td><td style=\"background-color: rgb(255,255,255);\">in</td><td style=\"background-color: rgb(255,255,255);\">my</td><td style=\"background-color: rgb(255,255,255);\">bedroom</td></tr><tr><td><b>lexical_unit</b></td><td style=\"background-color: rgb(0.0000, 255,0.0000);\">1.0000</td><td style=\"background-color: rgb(255.0000, 255,255.0000);\">0.0000</td><td style=\"background-color: rgb(255.0000, 255,255.0000);\">0.0000</td><td style=\"background-color: rgb(255.0000, 255,255.0000);\">0.0000</td><td style=\"background-color: rgb(255.0000, 255,255.0000);\">0.0000</td><td style=\"background-color: rgb(255.0000, 255,255.0000);\">0.0000</td><td style=\"background-color: rgb(255.0000, 255,255.0000);\">0.0000</td><td style=\"background-color: rgb(255.0000, 255,255.0000);\">0.0000</td><td style=\"background-color: rgb(255.0000, 255,255.0000);\">0.0000</td></tr><tr><td><b>attention_intent</b></td><td style=\"background-color: rgb(254.9987, 255,254.9987);\">0.0000</td><td style=\"background-color: rgb(254.9054, 255,254.9054);\">0.0004</td><td style=\"background-color: rgb(254.9976, 255,254.9976);\">0.0000</td><td style=\"background-color: rgb(254.9822, 255,254.9822);\">0.0001</td><td style=\"background-color: rgb(254.7262, 255,254.7262);\">0.0011</td><td style=\"background-color: rgb(254.3902, 255,254.3902);\">0.0024</td><td style=\"background-color: rgb(251.2005, 255,251.2005);\">0.0149</td><td style=\"background-color: rgb(41.9461, 255,41.9461);\">0.8355</td><td style=\"background-color: rgb(217.8541, 255,217.8541);\">0.1457</td></tr><tr><td><b>slots_true</b></td><td style=\"background-color: rgb(255,255,255);\">O</td><td style=\"background-color: rgb(255,255,255);\">B-Theme</td><td style=\"background-color: rgb(255,255,255);\">I-Theme</td><td style=\"background-color: rgb(255,255,255);\">B-Goal</td><td style=\"background-color: rgb(255,255,255);\">I-Goal</td><td style=\"background-color: rgb(255,255,255);\">I-Goal</td><td style=\"background-color: rgb(255,255,255);\">I-Goal</td><td style=\"background-color: rgb(255,255,255);\">I-Goal</td><td style=\"background-color: rgb(255,255,255);\">I-Goal</td></tr><tr><td><b>slots_pred</b></td><td style=\"background-color: rgb(255,255,255);\">O</td><td style=\"background-color: rgb(255,255,255);\">B-Theme</td><td style=\"background-color: rgb(255,255,255);\">I-Theme</td><td style=\"background-color: rgb(255,255,255);\">B-Goal</td><td style=\"background-color: rgb(255,255,255);\">I-Goal</td><td style=\"background-color: rgb(255,255,255);\">I-Goal</td><td style=\"background-color: rgb(255,255,255);\">I-Goal</td><td style=\"background-color: rgb(255,255,255);\">I-Goal</td><td style=\"background-color: rgb(255,255,255);\">I-Goal</td></tr></table>"
      ],
      "text/plain": [
       "<IPython.core.display.HTML object>"
      ]
     },
     "metadata": {},
     "output_type": "display_data"
    },
    {
     "name": "stdout",
     "output_type": "stream",
     "text": [
      "true: Bringing pred: Bringing\n"
     ]
    },
    {
     "data": {
      "text/html": [
       "<table><tr><td><b>words</b></td><td style=\"background-color: rgb(255,255,255);\">please</td><td style=\"background-color: rgb(255,255,255);\">take</td><td style=\"background-color: rgb(255,255,255);\">the</td><td style=\"background-color: rgb(255,255,255);\">mug</td><td style=\"background-color: rgb(255,255,255);\">to</td><td style=\"background-color: rgb(255,255,255);\">the</td><td style=\"background-color: rgb(255,255,255);\">bedroom</td></tr><tr><td><b>lexical_unit</b></td><td style=\"background-color: rgb(255.0000, 255,255.0000);\">0.0000</td><td style=\"background-color: rgb(0.0000, 255,0.0000);\">1.0000</td><td style=\"background-color: rgb(255.0000, 255,255.0000);\">0.0000</td><td style=\"background-color: rgb(255.0000, 255,255.0000);\">0.0000</td><td style=\"background-color: rgb(255.0000, 255,255.0000);\">0.0000</td><td style=\"background-color: rgb(255.0000, 255,255.0000);\">0.0000</td><td style=\"background-color: rgb(255.0000, 255,255.0000);\">0.0000</td></tr><tr><td><b>attention_intent</b></td><td style=\"background-color: rgb(255.0000, 255,255.0000);\">0.0000</td><td style=\"background-color: rgb(254.9993, 255,254.9993);\">0.0000</td><td style=\"background-color: rgb(254.7923, 255,254.7923);\">0.0008</td><td style=\"background-color: rgb(254.9999, 255,254.9999);\">0.0000</td><td style=\"background-color: rgb(8.9352, 255,8.9352);\">0.9650</td><td style=\"background-color: rgb(246.2820, 255,246.2820);\">0.0342</td><td style=\"background-color: rgb(254.9929, 255,254.9929);\">0.0000</td></tr><tr><td><b>slots_true</b></td><td style=\"background-color: rgb(255,255,255);\">O</td><td style=\"background-color: rgb(255,255,255);\">O</td><td style=\"background-color: rgb(255,255,255);\">B-Theme</td><td style=\"background-color: rgb(255,255,255);\">I-Theme</td><td style=\"background-color: rgb(255,255,255);\">B-Goal</td><td style=\"background-color: rgb(255,255,255);\">I-Goal</td><td style=\"background-color: rgb(255,255,255);\">I-Goal</td></tr><tr><td><b>slots_pred</b></td><td style=\"background-color: rgb(255,255,255);\">O</td><td style=\"background-color: rgb(255,255,255);\">O</td><td style=\"background-color: rgb(255,255,255);\">B-Theme</td><td style=\"background-color: rgb(255,255,255);\">I-Theme</td><td style=\"background-color: rgb(255,255,255);\">B-Goal</td><td style=\"background-color: rgb(255,255,255);\">I-Goal</td><td style=\"background-color: rgb(255,255,255);\">I-Goal</td></tr></table>"
      ],
      "text/plain": [
       "<IPython.core.display.HTML object>"
      ]
     },
     "metadata": {},
     "output_type": "display_data"
    },
    {
     "name": "stdout",
     "output_type": "stream",
     "text": [
      "true: Searching pred: Searching\n"
     ]
    },
    {
     "data": {
      "text/html": [
       "<table><tr><td><b>words</b></td><td style=\"background-color: rgb(255,255,255);\">search</td><td style=\"background-color: rgb(255,255,255);\">for</td><td style=\"background-color: rgb(255,255,255);\">a</td><td style=\"background-color: rgb(255,255,255);\">blue</td><td style=\"background-color: rgb(255,255,255);\">plate</td></tr><tr><td><b>lexical_unit</b></td><td style=\"background-color: rgb(0.0000, 255,0.0000);\">1.0000</td><td style=\"background-color: rgb(255.0000, 255,255.0000);\">0.0000</td><td style=\"background-color: rgb(255.0000, 255,255.0000);\">0.0000</td><td style=\"background-color: rgb(255.0000, 255,255.0000);\">0.0000</td><td style=\"background-color: rgb(255.0000, 255,255.0000);\">0.0000</td></tr><tr><td><b>attention_intent</b></td><td style=\"background-color: rgb(254.9989, 255,254.9989);\">0.0000</td><td style=\"background-color: rgb(248.5301, 255,248.5301);\">0.0254</td><td style=\"background-color: rgb(82.4462, 255,82.4462);\">0.6767</td><td style=\"background-color: rgb(179.6669, 255,179.6669);\">0.2954</td><td style=\"background-color: rgb(254.3586, 255,254.3586);\">0.0025</td></tr><tr><td><b>slots_true</b></td><td style=\"background-color: rgb(255,255,255);\">O</td><td style=\"background-color: rgb(255,255,255);\">B-Phenomenon</td><td style=\"background-color: rgb(255,255,255);\">I-Phenomenon</td><td style=\"background-color: rgb(255,255,255);\">I-Phenomenon</td><td style=\"background-color: rgb(255,255,255);\">I-Phenomenon</td></tr><tr><td><b>slots_pred</b></td><td style=\"background-color: rgb(255,255,255);\">O</td><td style=\"background-color: rgb(255,255,255);\">B-Phenomenon</td><td style=\"background-color: rgb(255,255,255);\">I-Phenomenon</td><td style=\"background-color: rgb(255,255,255);\">I-Phenomenon</td><td style=\"background-color: rgb(255,255,255);\">I-Phenomenon</td></tr></table>"
      ],
      "text/plain": [
       "<IPython.core.display.HTML object>"
      ]
     },
     "metadata": {},
     "output_type": "display_data"
    },
    {
     "name": "stdout",
     "output_type": "stream",
     "text": [
      "true: Change_operational_state pred: Change_operational_state\n"
     ]
    },
    {
     "data": {
      "text/html": [
       "<table><tr><td><b>words</b></td><td style=\"background-color: rgb(255,255,255);\">activate</td><td style=\"background-color: rgb(255,255,255);\">the</td><td style=\"background-color: rgb(255,255,255);\">television</td></tr><tr><td><b>lexical_unit</b></td><td style=\"background-color: rgb(0.0000, 255,0.0000);\">1.0000</td><td style=\"background-color: rgb(255.0000, 255,255.0000);\">0.0000</td><td style=\"background-color: rgb(255.0000, 255,255.0000);\">0.0000</td></tr><tr><td><b>attention_intent</b></td><td style=\"background-color: rgb(208.2451, 255,208.2451);\">0.1834</td><td style=\"background-color: rgb(49.0565, 255,49.0565);\">0.8076</td><td style=\"background-color: rgb(252.7224, 255,252.7224);\">0.0089</td></tr><tr><td><b>slots_true</b></td><td style=\"background-color: rgb(255,255,255);\">O</td><td style=\"background-color: rgb(255,255,255);\">B-Device</td><td style=\"background-color: rgb(255,255,255);\">I-Device</td></tr><tr><td><b>slots_pred</b></td><td style=\"background-color: rgb(255,255,255);\">O</td><td style=\"background-color: rgb(255,255,255);\">B-Device</td><td style=\"background-color: rgb(255,255,255);\">I-Device</td></tr></table>"
      ],
      "text/plain": [
       "<IPython.core.display.HTML object>"
      ]
     },
     "metadata": {},
     "output_type": "display_data"
    },
    {
     "name": "stdout",
     "output_type": "stream",
     "text": [
      "true: Motion pred: Motion\n"
     ]
    },
    {
     "data": {
      "text/html": [
       "<table><tr><td><b>words</b></td><td style=\"background-color: rgb(255,255,255);\">please</td><td style=\"background-color: rgb(255,255,255);\">go</td><td style=\"background-color: rgb(255,255,255);\">to</td><td style=\"background-color: rgb(255,255,255);\">the</td><td style=\"background-color: rgb(255,255,255);\">sink</td></tr><tr><td><b>lexical_unit</b></td><td style=\"background-color: rgb(255.0000, 255,255.0000);\">0.0000</td><td style=\"background-color: rgb(0.0000, 255,0.0000);\">1.0000</td><td style=\"background-color: rgb(255.0000, 255,255.0000);\">0.0000</td><td style=\"background-color: rgb(255.0000, 255,255.0000);\">0.0000</td><td style=\"background-color: rgb(255.0000, 255,255.0000);\">0.0000</td></tr><tr><td><b>attention_intent</b></td><td style=\"background-color: rgb(255.0000, 255,255.0000);\">0.0000</td><td style=\"background-color: rgb(254.9909, 255,254.9909);\">0.0000</td><td style=\"background-color: rgb(149.2514, 255,149.2514);\">0.4147</td><td style=\"background-color: rgb(119.0991, 255,119.0991);\">0.5329</td><td style=\"background-color: rgb(241.6594, 255,241.6594);\">0.0523</td></tr><tr><td><b>slots_true</b></td><td style=\"background-color: rgb(255,255,255);\">O</td><td style=\"background-color: rgb(255,255,255);\">O</td><td style=\"background-color: rgb(255,255,255);\">B-Goal</td><td style=\"background-color: rgb(255,255,255);\">I-Goal</td><td style=\"background-color: rgb(255,255,255);\">I-Goal</td></tr><tr><td><b>slots_pred</b></td><td style=\"background-color: rgb(255,255,255);\">O</td><td style=\"background-color: rgb(255,255,255);\">O</td><td style=\"background-color: rgb(255,255,255);\">B-Goal</td><td style=\"background-color: rgb(255,255,255);\">I-Goal</td><td style=\"background-color: rgb(255,255,255);\">I-Goal</td></tr></table>"
      ],
      "text/plain": [
       "<IPython.core.display.HTML object>"
      ]
     },
     "metadata": {},
     "output_type": "display_data"
    },
    {
     "name": "stdout",
     "output_type": "stream",
     "text": [
      "true: Bringing pred: Bringing\n"
     ]
    },
    {
     "data": {
      "text/html": [
       "<table><tr><td><b>words</b></td><td style=\"background-color: rgb(255,255,255);\">take</td><td style=\"background-color: rgb(255,255,255);\">my</td><td style=\"background-color: rgb(255,255,255);\">cellphone</td><td style=\"background-color: rgb(255,255,255);\">to</td><td style=\"background-color: rgb(255,255,255);\">the</td><td style=\"background-color: rgb(255,255,255);\">bedroom</td></tr><tr><td><b>lexical_unit</b></td><td style=\"background-color: rgb(0.0000, 255,0.0000);\">1.0000</td><td style=\"background-color: rgb(255.0000, 255,255.0000);\">0.0000</td><td style=\"background-color: rgb(255.0000, 255,255.0000);\">0.0000</td><td style=\"background-color: rgb(255.0000, 255,255.0000);\">0.0000</td><td style=\"background-color: rgb(255.0000, 255,255.0000);\">0.0000</td><td style=\"background-color: rgb(255.0000, 255,255.0000);\">0.0000</td></tr><tr><td><b>attention_intent</b></td><td style=\"background-color: rgb(254.9980, 255,254.9980);\">0.0000</td><td style=\"background-color: rgb(254.5246, 255,254.5246);\">0.0019</td><td style=\"background-color: rgb(254.9998, 255,254.9998);\">0.0000</td><td style=\"background-color: rgb(7.7906, 255,7.7906);\">0.9694</td><td style=\"background-color: rgb(247.6912, 255,247.6912);\">0.0287</td><td style=\"background-color: rgb(254.9986, 255,254.9986);\">0.0000</td></tr><tr><td><b>slots_true</b></td><td style=\"background-color: rgb(255,255,255);\">O</td><td style=\"background-color: rgb(255,255,255);\">B-Theme</td><td style=\"background-color: rgb(255,255,255);\">I-Theme</td><td style=\"background-color: rgb(255,255,255);\">B-Goal</td><td style=\"background-color: rgb(255,255,255);\">I-Goal</td><td style=\"background-color: rgb(255,255,255);\">I-Goal</td></tr><tr><td><b>slots_pred</b></td><td style=\"background-color: rgb(255,255,255);\">O</td><td style=\"background-color: rgb(255,255,255);\">B-Theme</td><td style=\"background-color: rgb(255,255,255);\">I-Theme</td><td style=\"background-color: rgb(255,255,255);\">B-Goal</td><td style=\"background-color: rgb(255,255,255);\">I-Goal</td><td style=\"background-color: rgb(255,255,255);\">I-Goal</td></tr></table>"
      ],
      "text/plain": [
       "<IPython.core.display.HTML object>"
      ]
     },
     "metadata": {},
     "output_type": "display_data"
    },
    {
     "name": "stdout",
     "output_type": "stream",
     "text": [
      "true: Change_operational_state pred: Change_operational_state\n"
     ]
    },
    {
     "data": {
      "text/html": [
       "<table><tr><td><b>words</b></td><td style=\"background-color: rgb(255,255,255);\">restart</td><td style=\"background-color: rgb(255,255,255);\">the</td><td style=\"background-color: rgb(255,255,255);\">wifi</td></tr><tr><td><b>lexical_unit</b></td><td style=\"background-color: rgb(0.0000, 255,0.0000);\">1.0000</td><td style=\"background-color: rgb(255.0000, 255,255.0000);\">0.0000</td><td style=\"background-color: rgb(255.0000, 255,255.0000);\">0.0000</td></tr><tr><td><b>attention_intent</b></td><td style=\"background-color: rgb(229.1753, 255,229.1753);\">0.1013</td><td style=\"background-color: rgb(28.9203, 255,28.9203);\">0.8866</td><td style=\"background-color: rgb(251.9358, 255,251.9358);\">0.0120</td></tr><tr><td><b>slots_true</b></td><td style=\"background-color: rgb(255,255,255);\">O</td><td style=\"background-color: rgb(255,255,255);\">B-Device</td><td style=\"background-color: rgb(255,255,255);\">I-Device</td></tr><tr><td><b>slots_pred</b></td><td style=\"background-color: rgb(255,255,255);\">O</td><td style=\"background-color: rgb(255,255,255);\">B-Device</td><td style=\"background-color: rgb(255,255,255);\">I-Device</td></tr></table>"
      ],
      "text/plain": [
       "<IPython.core.display.HTML object>"
      ]
     },
     "metadata": {},
     "output_type": "display_data"
    },
    {
     "name": "stdout",
     "output_type": "stream",
     "text": [
      "true: Motion pred: Motion\n"
     ]
    },
    {
     "data": {
      "text/html": [
       "<table><tr><td><b>words</b></td><td style=\"background-color: rgb(255,255,255);\">move</td><td style=\"background-color: rgb(255,255,255);\">away</td><td style=\"background-color: rgb(255,255,255);\">from</td><td style=\"background-color: rgb(255,255,255);\">the</td><td style=\"background-color: rgb(255,255,255);\">oven</td></tr><tr><td><b>lexical_unit</b></td><td style=\"background-color: rgb(0.0000, 255,0.0000);\">1.0000</td><td style=\"background-color: rgb(255.0000, 255,255.0000);\">0.0000</td><td style=\"background-color: rgb(255.0000, 255,255.0000);\">0.0000</td><td style=\"background-color: rgb(255.0000, 255,255.0000);\">0.0000</td><td style=\"background-color: rgb(255.0000, 255,255.0000);\">0.0000</td></tr><tr><td><b>attention_intent</b></td><td style=\"background-color: rgb(254.9222, 255,254.9222);\">0.0003</td><td style=\"background-color: rgb(230.1072, 255,230.1072);\">0.0976</td><td style=\"background-color: rgb(57.0438, 255,57.0438);\">0.7763</td><td style=\"background-color: rgb(222.9324, 255,222.9324);\">0.1258</td><td style=\"background-color: rgb(254.9989, 255,254.9989);\">0.0000</td></tr><tr><td><b>slots_true</b></td><td style=\"background-color: rgb(255,255,255);\">O</td><td style=\"background-color: rgb(255,255,255);\">B-Source</td><td style=\"background-color: rgb(255,255,255);\">I-Source</td><td style=\"background-color: rgb(255,255,255);\">I-Source</td><td style=\"background-color: rgb(255,255,255);\">I-Source</td></tr><tr><td><b>slots_pred</b></td><td style=\"background-color: rgb(255,255,255);\">O</td><td style=\"background-color: rgb(255,255,255);\">B-Goal</td><td style=\"background-color: rgb(255,255,255);\">B-Path</td><td style=\"background-color: rgb(255,255,255);\">I-Path</td><td style=\"background-color: rgb(255,255,255);\">I-Path</td></tr></table>"
      ],
      "text/plain": [
       "<IPython.core.display.HTML object>"
      ]
     },
     "metadata": {},
     "output_type": "display_data"
    },
    {
     "name": "stdout",
     "output_type": "stream",
     "text": [
      "true: Change_operational_state pred: Change_operational_state\n"
     ]
    },
    {
     "data": {
      "text/html": [
       "<table><tr><td><b>words</b></td><td style=\"background-color: rgb(255,255,255);\">switch</td><td style=\"background-color: rgb(255,255,255);\">on</td><td style=\"background-color: rgb(255,255,255);\">the</td><td style=\"background-color: rgb(255,255,255);\">tv</td></tr><tr><td><b>lexical_unit</b></td><td style=\"background-color: rgb(0.0000, 255,0.0000);\">1.0000</td><td style=\"background-color: rgb(255.0000, 255,255.0000);\">0.0000</td><td style=\"background-color: rgb(255.0000, 255,255.0000);\">0.0000</td><td style=\"background-color: rgb(255.0000, 255,255.0000);\">0.0000</td></tr><tr><td><b>attention_intent</b></td><td style=\"background-color: rgb(254.9463, 255,254.9463);\">0.0002</td><td style=\"background-color: rgb(98.1880, 255,98.1880);\">0.6149</td><td style=\"background-color: rgb(203.4525, 255,203.4525);\">0.2021</td><td style=\"background-color: rgb(208.4160, 255,208.4160);\">0.1827</td></tr><tr><td><b>slots_true</b></td><td style=\"background-color: rgb(255,255,255);\">O</td><td style=\"background-color: rgb(255,255,255);\">B-Operational_state</td><td style=\"background-color: rgb(255,255,255);\">B-Device</td><td style=\"background-color: rgb(255,255,255);\">I-Device</td></tr><tr><td><b>slots_pred</b></td><td style=\"background-color: rgb(255,255,255);\">O</td><td style=\"background-color: rgb(255,255,255);\">B-Operational_state</td><td style=\"background-color: rgb(255,255,255);\">B-Device</td><td style=\"background-color: rgb(255,255,255);\">I-Device</td></tr></table>"
      ],
      "text/plain": [
       "<IPython.core.display.HTML object>"
      ]
     },
     "metadata": {},
     "output_type": "display_data"
    }
   ],
   "source": [
    "samples = utils.load_json(FOLDER_WITHOUT_FRAMENET)\n",
    "print('#samples', len(samples))\n",
    "samples_wrong = [s for s in samples if s['intent_pred'] != s['intent_true']]\n",
    "print('#samples_wrong_intent', len(samples_wrong))\n",
    "utils.display_all(samples, False, False, False)"
   ]
  },
  {
   "cell_type": "code",
   "execution_count": 3,
   "metadata": {},
   "outputs": [
    {
     "name": "stdout",
     "output_type": "stream",
     "text": [
      "#samples 109\n",
      "#samples_wrong_intent 2\n",
      "true: Searching pred: Searching\n"
     ]
    },
    {
     "data": {
      "text/html": [
       "<table><tr><td><b>words</b></td><td style=\"background-color: rgb(255,255,255);\">find</td><td style=\"background-color: rgb(255,255,255);\">the</td><td style=\"background-color: rgb(255,255,255);\">magazine</td></tr><tr><td><b>lexical_unit</b></td><td style=\"background-color: rgb(0.0000, 255,0.0000);\">1.0000</td><td style=\"background-color: rgb(255.0000, 255,255.0000);\">0.0000</td><td style=\"background-color: rgb(255.0000, 255,255.0000);\">0.0000</td></tr><tr><td><b>attention_intent</b></td><td style=\"background-color: rgb(0.0000, 255,0.0000);\">1.0000</td><td style=\"background-color: rgb(255.0000, 255,255.0000);\">0.0000</td><td style=\"background-color: rgb(255.0000, 255,255.0000);\">0.0000</td></tr><tr><td><b>slots_true</b></td><td style=\"background-color: rgb(255,255,255);\">O</td><td style=\"background-color: rgb(255,255,255);\">B-Phenomenon</td><td style=\"background-color: rgb(255,255,255);\">I-Phenomenon</td></tr><tr><td><b>slots_pred</b></td><td style=\"background-color: rgb(255,255,255);\">O</td><td style=\"background-color: rgb(255,255,255);\">B-Phenomenon</td><td style=\"background-color: rgb(255,255,255);\">I-Phenomenon</td></tr></table>"
      ],
      "text/plain": [
       "<IPython.core.display.HTML object>"
      ]
     },
     "metadata": {},
     "output_type": "display_data"
    },
    {
     "name": "stdout",
     "output_type": "stream",
     "text": [
      "true: Motion pred: Motion\n"
     ]
    },
    {
     "data": {
      "text/html": [
       "<table><tr><td><b>words</b></td><td style=\"background-color: rgb(255,255,255);\">go</td><td style=\"background-color: rgb(255,255,255);\">next</td><td style=\"background-color: rgb(255,255,255);\">to</td><td style=\"background-color: rgb(255,255,255);\">the</td><td style=\"background-color: rgb(255,255,255);\">door</td></tr><tr><td><b>lexical_unit</b></td><td style=\"background-color: rgb(0.0000, 255,0.0000);\">1.0000</td><td style=\"background-color: rgb(255.0000, 255,255.0000);\">0.0000</td><td style=\"background-color: rgb(255.0000, 255,255.0000);\">0.0000</td><td style=\"background-color: rgb(255.0000, 255,255.0000);\">0.0000</td><td style=\"background-color: rgb(255.0000, 255,255.0000);\">0.0000</td></tr><tr><td><b>attention_intent</b></td><td style=\"background-color: rgb(193.3994, 255,193.3994);\">0.2416</td><td style=\"background-color: rgb(61.6121, 255,61.6121);\">0.7584</td><td style=\"background-color: rgb(254.9887, 255,254.9887);\">0.0000</td><td style=\"background-color: rgb(255.0000, 255,255.0000);\">0.0000</td><td style=\"background-color: rgb(254.9998, 255,254.9998);\">0.0000</td></tr><tr><td><b>slots_true</b></td><td style=\"background-color: rgb(255,255,255);\">O</td><td style=\"background-color: rgb(255,255,255);\">B-Goal</td><td style=\"background-color: rgb(255,255,255);\">I-Goal</td><td style=\"background-color: rgb(255,255,255);\">I-Goal</td><td style=\"background-color: rgb(255,255,255);\">I-Goal</td></tr><tr><td><b>slots_pred</b></td><td style=\"background-color: rgb(255,255,255);\">O</td><td style=\"background-color: rgb(255,255,255);\">B-Goal</td><td style=\"background-color: rgb(255,255,255);\">I-Goal</td><td style=\"background-color: rgb(255,255,255);\">I-Goal</td><td style=\"background-color: rgb(255,255,255);\">I-Goal</td></tr></table>"
      ],
      "text/plain": [
       "<IPython.core.display.HTML object>"
      ]
     },
     "metadata": {},
     "output_type": "display_data"
    },
    {
     "name": "stdout",
     "output_type": "stream",
     "text": [
      "true: Bringing pred: Bringing\n"
     ]
    },
    {
     "data": {
      "text/html": [
       "<table><tr><td><b>words</b></td><td style=\"background-color: rgb(255,255,255);\">and</td><td style=\"background-color: rgb(255,255,255);\">take</td><td style=\"background-color: rgb(255,255,255);\">it</td><td style=\"background-color: rgb(255,255,255);\">to</td><td style=\"background-color: rgb(255,255,255);\">the</td><td style=\"background-color: rgb(255,255,255);\">bathroom</td></tr><tr><td><b>lexical_unit</b></td><td style=\"background-color: rgb(255.0000, 255,255.0000);\">0.0000</td><td style=\"background-color: rgb(0.0000, 255,0.0000);\">1.0000</td><td style=\"background-color: rgb(255.0000, 255,255.0000);\">0.0000</td><td style=\"background-color: rgb(255.0000, 255,255.0000);\">0.0000</td><td style=\"background-color: rgb(255.0000, 255,255.0000);\">0.0000</td><td style=\"background-color: rgb(255.0000, 255,255.0000);\">0.0000</td></tr><tr><td><b>attention_intent</b></td><td style=\"background-color: rgb(255.0000, 255,255.0000);\">0.0000</td><td style=\"background-color: rgb(247.5328, 255,247.5328);\">0.0293</td><td style=\"background-color: rgb(246.7639, 255,246.7639);\">0.0323</td><td style=\"background-color: rgb(15.7046, 255,15.7046);\">0.9384</td><td style=\"background-color: rgb(254.9986, 255,254.9986);\">0.0000</td><td style=\"background-color: rgb(255.0000, 255,255.0000);\">0.0000</td></tr><tr><td><b>slots_true</b></td><td style=\"background-color: rgb(255,255,255);\">O</td><td style=\"background-color: rgb(255,255,255);\">O</td><td style=\"background-color: rgb(255,255,255);\">B-Theme</td><td style=\"background-color: rgb(255,255,255);\">B-Goal</td><td style=\"background-color: rgb(255,255,255);\">I-Goal</td><td style=\"background-color: rgb(255,255,255);\">I-Goal</td></tr><tr><td><b>slots_pred</b></td><td style=\"background-color: rgb(255,255,255);\">O</td><td style=\"background-color: rgb(255,255,255);\">O</td><td style=\"background-color: rgb(255,255,255);\">B-Theme</td><td style=\"background-color: rgb(255,255,255);\">B-Goal</td><td style=\"background-color: rgb(255,255,255);\">I-Goal</td><td style=\"background-color: rgb(255,255,255);\">I-Goal</td></tr></table>"
      ],
      "text/plain": [
       "<IPython.core.display.HTML object>"
      ]
     },
     "metadata": {},
     "output_type": "display_data"
    },
    {
     "name": "stdout",
     "output_type": "stream",
     "text": [
      "true: Motion pred: Motion\n"
     ]
    },
    {
     "data": {
      "text/html": [
       "<table><tr><td><b>words</b></td><td style=\"background-color: rgb(255,255,255);\">move</td><td style=\"background-color: rgb(255,255,255);\">near</td><td style=\"background-color: rgb(255,255,255);\">the</td><td style=\"background-color: rgb(255,255,255);\">television</td><td style=\"background-color: rgb(255,255,255);\">of</td><td style=\"background-color: rgb(255,255,255);\">the</td><td style=\"background-color: rgb(255,255,255);\">kitchen</td></tr><tr><td><b>lexical_unit</b></td><td style=\"background-color: rgb(0.0000, 255,0.0000);\">1.0000</td><td style=\"background-color: rgb(255.0000, 255,255.0000);\">0.0000</td><td style=\"background-color: rgb(255.0000, 255,255.0000);\">0.0000</td><td style=\"background-color: rgb(255.0000, 255,255.0000);\">0.0000</td><td style=\"background-color: rgb(255.0000, 255,255.0000);\">0.0000</td><td style=\"background-color: rgb(255.0000, 255,255.0000);\">0.0000</td><td style=\"background-color: rgb(255.0000, 255,255.0000);\">0.0000</td></tr><tr><td><b>attention_intent</b></td><td style=\"background-color: rgb(0.3620, 255,0.3620);\">0.9986</td><td style=\"background-color: rgb(254.6381, 255,254.6381);\">0.0014</td><td style=\"background-color: rgb(255.0000, 255,255.0000);\">0.0000</td><td style=\"background-color: rgb(255.0000, 255,255.0000);\">0.0000</td><td style=\"background-color: rgb(255.0000, 255,255.0000);\">0.0000</td><td style=\"background-color: rgb(255.0000, 255,255.0000);\">0.0000</td><td style=\"background-color: rgb(255.0000, 255,255.0000);\">0.0000</td></tr><tr><td><b>slots_true</b></td><td style=\"background-color: rgb(255,255,255);\">O</td><td style=\"background-color: rgb(255,255,255);\">B-Goal</td><td style=\"background-color: rgb(255,255,255);\">I-Goal</td><td style=\"background-color: rgb(255,255,255);\">I-Goal</td><td style=\"background-color: rgb(255,255,255);\">I-Goal</td><td style=\"background-color: rgb(255,255,255);\">I-Goal</td><td style=\"background-color: rgb(255,255,255);\">I-Goal</td></tr><tr><td><b>slots_pred</b></td><td style=\"background-color: rgb(255,255,255);\">O</td><td style=\"background-color: rgb(255,255,255);\">B-Goal</td><td style=\"background-color: rgb(255,255,255);\">I-Goal</td><td style=\"background-color: rgb(255,255,255);\">I-Goal</td><td style=\"background-color: rgb(255,255,255);\">I-Goal</td><td style=\"background-color: rgb(255,255,255);\">I-Goal</td><td style=\"background-color: rgb(255,255,255);\">I-Goal</td></tr></table>"
      ],
      "text/plain": [
       "<IPython.core.display.HTML object>"
      ]
     },
     "metadata": {},
     "output_type": "display_data"
    },
    {
     "name": "stdout",
     "output_type": "stream",
     "text": [
      "true: Searching pred: Searching\n"
     ]
    },
    {
     "data": {
      "text/html": [
       "<table><tr><td><b>words</b></td><td style=\"background-color: rgb(255,255,255);\">please</td><td style=\"background-color: rgb(255,255,255);\">find</td><td style=\"background-color: rgb(255,255,255);\">the</td><td style=\"background-color: rgb(255,255,255);\">flowers</td></tr><tr><td><b>lexical_unit</b></td><td style=\"background-color: rgb(255.0000, 255,255.0000);\">0.0000</td><td style=\"background-color: rgb(0.0000, 255,0.0000);\">1.0000</td><td style=\"background-color: rgb(255.0000, 255,255.0000);\">0.0000</td><td style=\"background-color: rgb(255.0000, 255,255.0000);\">0.0000</td></tr><tr><td><b>attention_intent</b></td><td style=\"background-color: rgb(254.9996, 255,254.9996);\">0.0000</td><td style=\"background-color: rgb(0.0004, 255,0.0004);\">1.0000</td><td style=\"background-color: rgb(255.0000, 255,255.0000);\">0.0000</td><td style=\"background-color: rgb(255.0000, 255,255.0000);\">0.0000</td></tr><tr><td><b>slots_true</b></td><td style=\"background-color: rgb(255,255,255);\">O</td><td style=\"background-color: rgb(255,255,255);\">O</td><td style=\"background-color: rgb(255,255,255);\">B-Phenomenon</td><td style=\"background-color: rgb(255,255,255);\">I-Phenomenon</td></tr><tr><td><b>slots_pred</b></td><td style=\"background-color: rgb(255,255,255);\">O</td><td style=\"background-color: rgb(255,255,255);\">O</td><td style=\"background-color: rgb(255,255,255);\">B-Phenomenon</td><td style=\"background-color: rgb(255,255,255);\">I-Phenomenon</td></tr></table>"
      ],
      "text/plain": [
       "<IPython.core.display.HTML object>"
      ]
     },
     "metadata": {},
     "output_type": "display_data"
    },
    {
     "name": "stdout",
     "output_type": "stream",
     "text": [
      "true: Taking pred: Taking\n"
     ]
    },
    {
     "data": {
      "text/html": [
       "<table><tr><td><b>words</b></td><td style=\"background-color: rgb(255,255,255);\">take</td><td style=\"background-color: rgb(255,255,255);\">the</td><td style=\"background-color: rgb(255,255,255);\">phone</td><td style=\"background-color: rgb(255,255,255);\">on</td><td style=\"background-color: rgb(255,255,255);\">the</td><td style=\"background-color: rgb(255,255,255);\">left</td><td style=\"background-color: rgb(255,255,255);\">of</td><td style=\"background-color: rgb(255,255,255);\">the</td><td style=\"background-color: rgb(255,255,255);\">pc</td></tr><tr><td><b>lexical_unit</b></td><td style=\"background-color: rgb(0.0000, 255,0.0000);\">1.0000</td><td style=\"background-color: rgb(255.0000, 255,255.0000);\">0.0000</td><td style=\"background-color: rgb(255.0000, 255,255.0000);\">0.0000</td><td style=\"background-color: rgb(255.0000, 255,255.0000);\">0.0000</td><td style=\"background-color: rgb(255.0000, 255,255.0000);\">0.0000</td><td style=\"background-color: rgb(255.0000, 255,255.0000);\">0.0000</td><td style=\"background-color: rgb(255.0000, 255,255.0000);\">0.0000</td><td style=\"background-color: rgb(255.0000, 255,255.0000);\">0.0000</td><td style=\"background-color: rgb(255.0000, 255,255.0000);\">0.0000</td></tr><tr><td><b>attention_intent</b></td><td style=\"background-color: rgb(1.0142, 255,1.0142);\">0.9960</td><td style=\"background-color: rgb(254.9951, 255,254.9951);\">0.0000</td><td style=\"background-color: rgb(254.3337, 255,254.3337);\">0.0026</td><td style=\"background-color: rgb(254.7238, 255,254.7238);\">0.0011</td><td style=\"background-color: rgb(254.9972, 255,254.9972);\">0.0000</td><td style=\"background-color: rgb(254.9359, 255,254.9359);\">0.0003</td><td style=\"background-color: rgb(255.0000, 255,255.0000);\">0.0000</td><td style=\"background-color: rgb(255.0000, 255,255.0000);\">0.0000</td><td style=\"background-color: rgb(255.0000, 255,255.0000);\">0.0000</td></tr><tr><td><b>slots_true</b></td><td style=\"background-color: rgb(255,255,255);\">O</td><td style=\"background-color: rgb(255,255,255);\">B-Theme</td><td style=\"background-color: rgb(255,255,255);\">I-Theme</td><td style=\"background-color: rgb(255,255,255);\">I-Theme</td><td style=\"background-color: rgb(255,255,255);\">I-Theme</td><td style=\"background-color: rgb(255,255,255);\">I-Theme</td><td style=\"background-color: rgb(255,255,255);\">I-Theme</td><td style=\"background-color: rgb(255,255,255);\">I-Theme</td><td style=\"background-color: rgb(255,255,255);\">I-Theme</td></tr><tr><td><b>slots_pred</b></td><td style=\"background-color: rgb(255,255,255);\">O</td><td style=\"background-color: rgb(255,255,255);\">B-Theme</td><td style=\"background-color: rgb(255,255,255);\">I-Theme</td><td style=\"background-color: rgb(255,255,255);\">I-Theme</td><td style=\"background-color: rgb(255,255,255);\">I-Theme</td><td style=\"background-color: rgb(255,255,255);\">I-Theme</td><td style=\"background-color: rgb(255,255,255);\">I-Theme</td><td style=\"background-color: rgb(255,255,255);\">I-Theme</td><td style=\"background-color: rgb(255,255,255);\">I-Theme</td></tr></table>"
      ],
      "text/plain": [
       "<IPython.core.display.HTML object>"
      ]
     },
     "metadata": {},
     "output_type": "display_data"
    },
    {
     "name": "stdout",
     "output_type": "stream",
     "text": [
      "true: Taking pred: Taking\n"
     ]
    },
    {
     "data": {
      "text/html": [
       "<table><tr><td><b>words</b></td><td style=\"background-color: rgb(255,255,255);\">take</td><td style=\"background-color: rgb(255,255,255);\">the</td><td style=\"background-color: rgb(255,255,255);\">newspaper</td><td style=\"background-color: rgb(255,255,255);\">from</td><td style=\"background-color: rgb(255,255,255);\">the</td><td style=\"background-color: rgb(255,255,255);\">stand</td></tr><tr><td><b>lexical_unit</b></td><td style=\"background-color: rgb(0.0000, 255,0.0000);\">1.0000</td><td style=\"background-color: rgb(255.0000, 255,255.0000);\">0.0000</td><td style=\"background-color: rgb(255.0000, 255,255.0000);\">0.0000</td><td style=\"background-color: rgb(255.0000, 255,255.0000);\">0.0000</td><td style=\"background-color: rgb(255.0000, 255,255.0000);\">0.0000</td><td style=\"background-color: rgb(255.0000, 255,255.0000);\">0.0000</td></tr><tr><td><b>attention_intent</b></td><td style=\"background-color: rgb(0.3061, 255,0.3061);\">0.9988</td><td style=\"background-color: rgb(254.9948, 255,254.9948);\">0.0000</td><td style=\"background-color: rgb(254.9933, 255,254.9933);\">0.0000</td><td style=\"background-color: rgb(254.9998, 255,254.9998);\">0.0000</td><td style=\"background-color: rgb(255.0000, 255,255.0000);\">0.0000</td><td style=\"background-color: rgb(254.7060, 255,254.7060);\">0.0012</td></tr><tr><td><b>slots_true</b></td><td style=\"background-color: rgb(255,255,255);\">O</td><td style=\"background-color: rgb(255,255,255);\">B-Theme</td><td style=\"background-color: rgb(255,255,255);\">I-Theme</td><td style=\"background-color: rgb(255,255,255);\">B-Source</td><td style=\"background-color: rgb(255,255,255);\">I-Source</td><td style=\"background-color: rgb(255,255,255);\">I-Source</td></tr><tr><td><b>slots_pred</b></td><td style=\"background-color: rgb(255,255,255);\">O</td><td style=\"background-color: rgb(255,255,255);\">B-Theme</td><td style=\"background-color: rgb(255,255,255);\">I-Theme</td><td style=\"background-color: rgb(255,255,255);\">B-Theme</td><td style=\"background-color: rgb(255,255,255);\">I-Theme</td><td style=\"background-color: rgb(255,255,255);\">I-Theme</td></tr></table>"
      ],
      "text/plain": [
       "<IPython.core.display.HTML object>"
      ]
     },
     "metadata": {},
     "output_type": "display_data"
    },
    {
     "name": "stdout",
     "output_type": "stream",
     "text": [
      "true: Taking pred: Taking\n"
     ]
    },
    {
     "data": {
      "text/html": [
       "<table><tr><td><b>words</b></td><td style=\"background-color: rgb(255,255,255);\">take</td><td style=\"background-color: rgb(255,255,255);\">the</td><td style=\"background-color: rgb(255,255,255);\">phone</td><td style=\"background-color: rgb(255,255,255);\">on</td><td style=\"background-color: rgb(255,255,255);\">the</td><td style=\"background-color: rgb(255,255,255);\">couch</td></tr><tr><td><b>lexical_unit</b></td><td style=\"background-color: rgb(0.0000, 255,0.0000);\">1.0000</td><td style=\"background-color: rgb(255.0000, 255,255.0000);\">0.0000</td><td style=\"background-color: rgb(255.0000, 255,255.0000);\">0.0000</td><td style=\"background-color: rgb(255.0000, 255,255.0000);\">0.0000</td><td style=\"background-color: rgb(255.0000, 255,255.0000);\">0.0000</td><td style=\"background-color: rgb(255.0000, 255,255.0000);\">0.0000</td></tr><tr><td><b>attention_intent</b></td><td style=\"background-color: rgb(3.1927, 255,3.1927);\">0.9875</td><td style=\"background-color: rgb(254.9965, 255,254.9965);\">0.0000</td><td style=\"background-color: rgb(254.1002, 255,254.1002);\">0.0035</td><td style=\"background-color: rgb(252.7141, 255,252.7141);\">0.0090</td><td style=\"background-color: rgb(254.9971, 255,254.9971);\">0.0000</td><td style=\"background-color: rgb(254.9994, 255,254.9994);\">0.0000</td></tr><tr><td><b>slots_true</b></td><td style=\"background-color: rgb(255,255,255);\">O</td><td style=\"background-color: rgb(255,255,255);\">B-Theme</td><td style=\"background-color: rgb(255,255,255);\">I-Theme</td><td style=\"background-color: rgb(255,255,255);\">I-Theme</td><td style=\"background-color: rgb(255,255,255);\">I-Theme</td><td style=\"background-color: rgb(255,255,255);\">I-Theme</td></tr><tr><td><b>slots_pred</b></td><td style=\"background-color: rgb(255,255,255);\">O</td><td style=\"background-color: rgb(255,255,255);\">B-Theme</td><td style=\"background-color: rgb(255,255,255);\">I-Theme</td><td style=\"background-color: rgb(255,255,255);\">I-Theme</td><td style=\"background-color: rgb(255,255,255);\">I-Theme</td><td style=\"background-color: rgb(255,255,255);\">I-Theme</td></tr></table>"
      ],
      "text/plain": [
       "<IPython.core.display.HTML object>"
      ]
     },
     "metadata": {},
     "output_type": "display_data"
    },
    {
     "name": "stdout",
     "output_type": "stream",
     "text": [
      "true: Placing pred: Placing\n"
     ]
    },
    {
     "data": {
      "text/html": [
       "<table><tr><td><b>words</b></td><td style=\"background-color: rgb(255,255,255);\">and</td><td style=\"background-color: rgb(255,255,255);\">put</td><td style=\"background-color: rgb(255,255,255);\">them</td><td style=\"background-color: rgb(255,255,255);\">on</td><td style=\"background-color: rgb(255,255,255);\">the</td><td style=\"background-color: rgb(255,255,255);\">table</td><td style=\"background-color: rgb(255,255,255);\">next</td><td style=\"background-color: rgb(255,255,255);\">to</td><td style=\"background-color: rgb(255,255,255);\">the</td><td style=\"background-color: rgb(255,255,255);\">couch</td></tr><tr><td><b>lexical_unit</b></td><td style=\"background-color: rgb(255.0000, 255,255.0000);\">0.0000</td><td style=\"background-color: rgb(0.0000, 255,0.0000);\">1.0000</td><td style=\"background-color: rgb(255.0000, 255,255.0000);\">0.0000</td><td style=\"background-color: rgb(255.0000, 255,255.0000);\">0.0000</td><td style=\"background-color: rgb(255.0000, 255,255.0000);\">0.0000</td><td style=\"background-color: rgb(255.0000, 255,255.0000);\">0.0000</td><td style=\"background-color: rgb(255.0000, 255,255.0000);\">0.0000</td><td style=\"background-color: rgb(255.0000, 255,255.0000);\">0.0000</td><td style=\"background-color: rgb(255.0000, 255,255.0000);\">0.0000</td><td style=\"background-color: rgb(255.0000, 255,255.0000);\">0.0000</td></tr><tr><td><b>attention_intent</b></td><td style=\"background-color: rgb(255.0000, 255,255.0000);\">0.0000</td><td style=\"background-color: rgb(19.5874, 255,19.5874);\">0.9232</td><td style=\"background-color: rgb(235.4240, 255,235.4240);\">0.0768</td><td style=\"background-color: rgb(254.9965, 255,254.9965);\">0.0000</td><td style=\"background-color: rgb(255.0000, 255,255.0000);\">0.0000</td><td style=\"background-color: rgb(255.0000, 255,255.0000);\">0.0000</td><td style=\"background-color: rgb(254.9923, 255,254.9923);\">0.0000</td><td style=\"background-color: rgb(254.9999, 255,254.9999);\">0.0000</td><td style=\"background-color: rgb(255.0000, 255,255.0000);\">0.0000</td><td style=\"background-color: rgb(255.0000, 255,255.0000);\">0.0000</td></tr><tr><td><b>slots_true</b></td><td style=\"background-color: rgb(255,255,255);\">O</td><td style=\"background-color: rgb(255,255,255);\">O</td><td style=\"background-color: rgb(255,255,255);\">B-Theme</td><td style=\"background-color: rgb(255,255,255);\">B-Goal</td><td style=\"background-color: rgb(255,255,255);\">I-Goal</td><td style=\"background-color: rgb(255,255,255);\">I-Goal</td><td style=\"background-color: rgb(255,255,255);\">I-Goal</td><td style=\"background-color: rgb(255,255,255);\">I-Goal</td><td style=\"background-color: rgb(255,255,255);\">I-Goal</td><td style=\"background-color: rgb(255,255,255);\">I-Goal</td></tr><tr><td><b>slots_pred</b></td><td style=\"background-color: rgb(255,255,255);\">O</td><td style=\"background-color: rgb(255,255,255);\">O</td><td style=\"background-color: rgb(255,255,255);\">B-Theme</td><td style=\"background-color: rgb(255,255,255);\">B-Goal</td><td style=\"background-color: rgb(255,255,255);\">I-Goal</td><td style=\"background-color: rgb(255,255,255);\">I-Goal</td><td style=\"background-color: rgb(255,255,255);\">I-Goal</td><td style=\"background-color: rgb(255,255,255);\">I-Goal</td><td style=\"background-color: rgb(255,255,255);\">I-Goal</td><td style=\"background-color: rgb(255,255,255);\">I-Goal</td></tr></table>"
      ],
      "text/plain": [
       "<IPython.core.display.HTML object>"
      ]
     },
     "metadata": {},
     "output_type": "display_data"
    },
    {
     "name": "stdout",
     "output_type": "stream",
     "text": [
      "true: Following pred: Following\n"
     ]
    },
    {
     "data": {
      "text/html": [
       "<table><tr><td><b>words</b></td><td style=\"background-color: rgb(255,255,255);\">follow</td><td style=\"background-color: rgb(255,255,255);\">me</td></tr><tr><td><b>lexical_unit</b></td><td style=\"background-color: rgb(0.0000, 255,0.0000);\">1.0000</td><td style=\"background-color: rgb(255.0000, 255,255.0000);\">0.0000</td></tr><tr><td><b>attention_intent</b></td><td style=\"background-color: rgb(0.0005, 255,0.0005);\">1.0000</td><td style=\"background-color: rgb(254.9995, 255,254.9995);\">0.0000</td></tr><tr><td><b>slots_true</b></td><td style=\"background-color: rgb(255,255,255);\">O</td><td style=\"background-color: rgb(255,255,255);\">B-Cotheme</td></tr><tr><td><b>slots_pred</b></td><td style=\"background-color: rgb(255,255,255);\">O</td><td style=\"background-color: rgb(255,255,255);\">B-Cotheme</td></tr></table>"
      ],
      "text/plain": [
       "<IPython.core.display.HTML object>"
      ]
     },
     "metadata": {},
     "output_type": "display_data"
    },
    {
     "name": "stdout",
     "output_type": "stream",
     "text": [
      "true: Motion pred: Motion\n"
     ]
    },
    {
     "data": {
      "text/html": [
       "<table><tr><td><b>words</b></td><td style=\"background-color: rgb(255,255,255);\">move</td><td style=\"background-color: rgb(255,255,255);\">towards</td><td style=\"background-color: rgb(255,255,255);\">the</td><td style=\"background-color: rgb(255,255,255);\">kitchen</td></tr><tr><td><b>lexical_unit</b></td><td style=\"background-color: rgb(0.0000, 255,0.0000);\">1.0000</td><td style=\"background-color: rgb(255.0000, 255,255.0000);\">0.0000</td><td style=\"background-color: rgb(255.0000, 255,255.0000);\">0.0000</td><td style=\"background-color: rgb(255.0000, 255,255.0000);\">0.0000</td></tr><tr><td><b>attention_intent</b></td><td style=\"background-color: rgb(6.0356, 255,6.0356);\">0.9763</td><td style=\"background-color: rgb(248.9645, 255,248.9645);\">0.0237</td><td style=\"background-color: rgb(255.0000, 255,255.0000);\">0.0000</td><td style=\"background-color: rgb(255.0000, 255,255.0000);\">0.0000</td></tr><tr><td><b>slots_true</b></td><td style=\"background-color: rgb(255,255,255);\">O</td><td style=\"background-color: rgb(255,255,255);\">B-Goal</td><td style=\"background-color: rgb(255,255,255);\">I-Goal</td><td style=\"background-color: rgb(255,255,255);\">I-Goal</td></tr><tr><td><b>slots_pred</b></td><td style=\"background-color: rgb(255,255,255);\">O</td><td style=\"background-color: rgb(255,255,255);\">B-Goal</td><td style=\"background-color: rgb(255,255,255);\">I-Goal</td><td style=\"background-color: rgb(255,255,255);\">I-Goal</td></tr></table>"
      ],
      "text/plain": [
       "<IPython.core.display.HTML object>"
      ]
     },
     "metadata": {},
     "output_type": "display_data"
    },
    {
     "name": "stdout",
     "output_type": "stream",
     "text": [
      "true: Searching pred: Searching\n"
     ]
    },
    {
     "data": {
      "text/html": [
       "<table><tr><td><b>words</b></td><td style=\"background-color: rgb(255,255,255);\">look</td><td style=\"background-color: rgb(255,255,255);\">for</td><td style=\"background-color: rgb(255,255,255);\">the</td><td style=\"background-color: rgb(255,255,255);\">glass</td><td style=\"background-color: rgb(255,255,255);\">in</td><td style=\"background-color: rgb(255,255,255);\">the</td><td style=\"background-color: rgb(255,255,255);\">bedroom</td></tr><tr><td><b>lexical_unit</b></td><td style=\"background-color: rgb(0.0000, 255,0.0000);\">1.0000</td><td style=\"background-color: rgb(255.0000, 255,255.0000);\">0.0000</td><td style=\"background-color: rgb(255.0000, 255,255.0000);\">0.0000</td><td style=\"background-color: rgb(255.0000, 255,255.0000);\">0.0000</td><td style=\"background-color: rgb(255.0000, 255,255.0000);\">0.0000</td><td style=\"background-color: rgb(255.0000, 255,255.0000);\">0.0000</td><td style=\"background-color: rgb(255.0000, 255,255.0000);\">0.0000</td></tr><tr><td><b>attention_intent</b></td><td style=\"background-color: rgb(0.0004, 255,0.0004);\">1.0000</td><td style=\"background-color: rgb(255.0000, 255,255.0000);\">0.0000</td><td style=\"background-color: rgb(255.0000, 255,255.0000);\">0.0000</td><td style=\"background-color: rgb(254.9996, 255,254.9996);\">0.0000</td><td style=\"background-color: rgb(255.0000, 255,255.0000);\">0.0000</td><td style=\"background-color: rgb(255.0000, 255,255.0000);\">0.0000</td><td style=\"background-color: rgb(255.0000, 255,255.0000);\">0.0000</td></tr><tr><td><b>slots_true</b></td><td style=\"background-color: rgb(255,255,255);\">O</td><td style=\"background-color: rgb(255,255,255);\">B-Phenomenon</td><td style=\"background-color: rgb(255,255,255);\">I-Phenomenon</td><td style=\"background-color: rgb(255,255,255);\">I-Phenomenon</td><td style=\"background-color: rgb(255,255,255);\">B-Ground</td><td style=\"background-color: rgb(255,255,255);\">I-Ground</td><td style=\"background-color: rgb(255,255,255);\">I-Ground</td></tr><tr><td><b>slots_pred</b></td><td style=\"background-color: rgb(255,255,255);\">O</td><td style=\"background-color: rgb(255,255,255);\">B-Phenomenon</td><td style=\"background-color: rgb(255,255,255);\">I-Phenomenon</td><td style=\"background-color: rgb(255,255,255);\">I-Phenomenon</td><td style=\"background-color: rgb(255,255,255);\">I-Phenomenon</td><td style=\"background-color: rgb(255,255,255);\">I-Phenomenon</td><td style=\"background-color: rgb(255,255,255);\">I-Phenomenon</td></tr></table>"
      ],
      "text/plain": [
       "<IPython.core.display.HTML object>"
      ]
     },
     "metadata": {},
     "output_type": "display_data"
    },
    {
     "name": "stdout",
     "output_type": "stream",
     "text": [
      "true: Taking pred: Taking\n"
     ]
    },
    {
     "data": {
      "text/html": [
       "<table><tr><td><b>words</b></td><td style=\"background-color: rgb(255,255,255);\">take</td><td style=\"background-color: rgb(255,255,255);\">the</td><td style=\"background-color: rgb(255,255,255);\">remote</td><td style=\"background-color: rgb(255,255,255);\">control</td></tr><tr><td><b>lexical_unit</b></td><td style=\"background-color: rgb(0.0000, 255,0.0000);\">1.0000</td><td style=\"background-color: rgb(255.0000, 255,255.0000);\">0.0000</td><td style=\"background-color: rgb(255.0000, 255,255.0000);\">0.0000</td><td style=\"background-color: rgb(255.0000, 255,255.0000);\">0.0000</td></tr><tr><td><b>attention_intent</b></td><td style=\"background-color: rgb(1.2433, 255,1.2433);\">0.9951</td><td style=\"background-color: rgb(254.9970, 255,254.9970);\">0.0000</td><td style=\"background-color: rgb(253.7607, 255,253.7607);\">0.0049</td><td style=\"background-color: rgb(254.9990, 255,254.9990);\">0.0000</td></tr><tr><td><b>slots_true</b></td><td style=\"background-color: rgb(255,255,255);\">O</td><td style=\"background-color: rgb(255,255,255);\">B-Theme</td><td style=\"background-color: rgb(255,255,255);\">I-Theme</td><td style=\"background-color: rgb(255,255,255);\">I-Theme</td></tr><tr><td><b>slots_pred</b></td><td style=\"background-color: rgb(255,255,255);\">O</td><td style=\"background-color: rgb(255,255,255);\">B-Theme</td><td style=\"background-color: rgb(255,255,255);\">I-Theme</td><td style=\"background-color: rgb(255,255,255);\">I-Theme</td></tr></table>"
      ],
      "text/plain": [
       "<IPython.core.display.HTML object>"
      ]
     },
     "metadata": {},
     "output_type": "display_data"
    },
    {
     "name": "stdout",
     "output_type": "stream",
     "text": [
      "true: Motion pred: Motion\n"
     ]
    },
    {
     "data": {
      "text/html": [
       "<table><tr><td><b>words</b></td><td style=\"background-color: rgb(255,255,255);\">go</td><td style=\"background-color: rgb(255,255,255);\">to</td><td style=\"background-color: rgb(255,255,255);\">the</td><td style=\"background-color: rgb(255,255,255);\">toilet</td></tr><tr><td><b>lexical_unit</b></td><td style=\"background-color: rgb(0.0000, 255,0.0000);\">1.0000</td><td style=\"background-color: rgb(255.0000, 255,255.0000);\">0.0000</td><td style=\"background-color: rgb(255.0000, 255,255.0000);\">0.0000</td><td style=\"background-color: rgb(255.0000, 255,255.0000);\">0.0000</td></tr><tr><td><b>attention_intent</b></td><td style=\"background-color: rgb(0.5659, 255,0.5659);\">0.9978</td><td style=\"background-color: rgb(254.4342, 255,254.4342);\">0.0022</td><td style=\"background-color: rgb(255.0000, 255,255.0000);\">0.0000</td><td style=\"background-color: rgb(255.0000, 255,255.0000);\">0.0000</td></tr><tr><td><b>slots_true</b></td><td style=\"background-color: rgb(255,255,255);\">O</td><td style=\"background-color: rgb(255,255,255);\">B-Goal</td><td style=\"background-color: rgb(255,255,255);\">I-Goal</td><td style=\"background-color: rgb(255,255,255);\">I-Goal</td></tr><tr><td><b>slots_pred</b></td><td style=\"background-color: rgb(255,255,255);\">O</td><td style=\"background-color: rgb(255,255,255);\">B-Goal</td><td style=\"background-color: rgb(255,255,255);\">I-Goal</td><td style=\"background-color: rgb(255,255,255);\">I-Goal</td></tr></table>"
      ],
      "text/plain": [
       "<IPython.core.display.HTML object>"
      ]
     },
     "metadata": {},
     "output_type": "display_data"
    },
    {
     "name": "stdout",
     "output_type": "stream",
     "text": [
      "true: Searching pred: Searching\n"
     ]
    },
    {
     "data": {
      "text/html": [
       "<table><tr><td><b>words</b></td><td style=\"background-color: rgb(255,255,255);\">search</td><td style=\"background-color: rgb(255,255,255);\">for</td><td style=\"background-color: rgb(255,255,255);\">the</td><td style=\"background-color: rgb(255,255,255);\">scissors</td><td style=\"background-color: rgb(255,255,255);\">in</td><td style=\"background-color: rgb(255,255,255);\">the</td><td style=\"background-color: rgb(255,255,255);\">red</td><td style=\"background-color: rgb(255,255,255);\">drawer</td></tr><tr><td><b>lexical_unit</b></td><td style=\"background-color: rgb(0.0000, 255,0.0000);\">1.0000</td><td style=\"background-color: rgb(255.0000, 255,255.0000);\">0.0000</td><td style=\"background-color: rgb(255.0000, 255,255.0000);\">0.0000</td><td style=\"background-color: rgb(255.0000, 255,255.0000);\">0.0000</td><td style=\"background-color: rgb(255.0000, 255,255.0000);\">0.0000</td><td style=\"background-color: rgb(255.0000, 255,255.0000);\">0.0000</td><td style=\"background-color: rgb(255.0000, 255,255.0000);\">0.0000</td><td style=\"background-color: rgb(255.0000, 255,255.0000);\">0.0000</td></tr><tr><td><b>attention_intent</b></td><td style=\"background-color: rgb(0.0002, 255,0.0002);\">1.0000</td><td style=\"background-color: rgb(255.0000, 255,255.0000);\">0.0000</td><td style=\"background-color: rgb(255.0000, 255,255.0000);\">0.0000</td><td style=\"background-color: rgb(254.9999, 255,254.9999);\">0.0000</td><td style=\"background-color: rgb(255.0000, 255,255.0000);\">0.0000</td><td style=\"background-color: rgb(255.0000, 255,255.0000);\">0.0000</td><td style=\"background-color: rgb(255.0000, 255,255.0000);\">0.0000</td><td style=\"background-color: rgb(255.0000, 255,255.0000);\">0.0000</td></tr><tr><td><b>slots_true</b></td><td style=\"background-color: rgb(255,255,255);\">O</td><td style=\"background-color: rgb(255,255,255);\">B-Phenomenon</td><td style=\"background-color: rgb(255,255,255);\">I-Phenomenon</td><td style=\"background-color: rgb(255,255,255);\">I-Phenomenon</td><td style=\"background-color: rgb(255,255,255);\">B-Ground</td><td style=\"background-color: rgb(255,255,255);\">I-Ground</td><td style=\"background-color: rgb(255,255,255);\">I-Ground</td><td style=\"background-color: rgb(255,255,255);\">I-Ground</td></tr><tr><td><b>slots_pred</b></td><td style=\"background-color: rgb(255,255,255);\">O</td><td style=\"background-color: rgb(255,255,255);\">B-Phenomenon</td><td style=\"background-color: rgb(255,255,255);\">I-Phenomenon</td><td style=\"background-color: rgb(255,255,255);\">I-Phenomenon</td><td style=\"background-color: rgb(255,255,255);\">B-Ground</td><td style=\"background-color: rgb(255,255,255);\">I-Ground</td><td style=\"background-color: rgb(255,255,255);\">I-Ground</td><td style=\"background-color: rgb(255,255,255);\">I-Ground</td></tr></table>"
      ],
      "text/plain": [
       "<IPython.core.display.HTML object>"
      ]
     },
     "metadata": {},
     "output_type": "display_data"
    },
    {
     "name": "stdout",
     "output_type": "stream",
     "text": [
      "true: Bringing pred: Bringing\n"
     ]
    },
    {
     "data": {
      "text/html": [
       "<table><tr><td><b>words</b></td><td style=\"background-color: rgb(255,255,255);\">and</td><td style=\"background-color: rgb(255,255,255);\">bring</td><td style=\"background-color: rgb(255,255,255);\">me</td><td style=\"background-color: rgb(255,255,255);\">my</td><td style=\"background-color: rgb(255,255,255);\">laptop</td></tr><tr><td><b>lexical_unit</b></td><td style=\"background-color: rgb(255.0000, 255,255.0000);\">0.0000</td><td style=\"background-color: rgb(0.0000, 255,0.0000);\">1.0000</td><td style=\"background-color: rgb(255.0000, 255,255.0000);\">0.0000</td><td style=\"background-color: rgb(255.0000, 255,255.0000);\">0.0000</td><td style=\"background-color: rgb(255.0000, 255,255.0000);\">0.0000</td></tr><tr><td><b>attention_intent</b></td><td style=\"background-color: rgb(255.0000, 255,255.0000);\">0.0000</td><td style=\"background-color: rgb(68.2170, 255,68.2170);\">0.7325</td><td style=\"background-color: rgb(186.7830, 255,186.7830);\">0.2675</td><td style=\"background-color: rgb(255.0000, 255,255.0000);\">0.0000</td><td style=\"background-color: rgb(255.0000, 255,255.0000);\">0.0000</td></tr><tr><td><b>slots_true</b></td><td style=\"background-color: rgb(255,255,255);\">O</td><td style=\"background-color: rgb(255,255,255);\">O</td><td style=\"background-color: rgb(255,255,255);\">B-Beneficiary</td><td style=\"background-color: rgb(255,255,255);\">B-Theme</td><td style=\"background-color: rgb(255,255,255);\">I-Theme</td></tr><tr><td><b>slots_pred</b></td><td style=\"background-color: rgb(255,255,255);\">O</td><td style=\"background-color: rgb(255,255,255);\">O</td><td style=\"background-color: rgb(255,255,255);\">B-Beneficiary</td><td style=\"background-color: rgb(255,255,255);\">B-Theme</td><td style=\"background-color: rgb(255,255,255);\">I-Theme</td></tr></table>"
      ],
      "text/plain": [
       "<IPython.core.display.HTML object>"
      ]
     },
     "metadata": {},
     "output_type": "display_data"
    },
    {
     "name": "stdout",
     "output_type": "stream",
     "text": [
      "true: Motion pred: Motion\n"
     ]
    },
    {
     "data": {
      "text/html": [
       "<table><tr><td><b>words</b></td><td style=\"background-color: rgb(255,255,255);\">go</td><td style=\"background-color: rgb(255,255,255);\">to</td><td style=\"background-color: rgb(255,255,255);\">the</td><td style=\"background-color: rgb(255,255,255);\">fridge</td></tr><tr><td><b>lexical_unit</b></td><td style=\"background-color: rgb(0.0000, 255,0.0000);\">1.0000</td><td style=\"background-color: rgb(255.0000, 255,255.0000);\">0.0000</td><td style=\"background-color: rgb(255.0000, 255,255.0000);\">0.0000</td><td style=\"background-color: rgb(255.0000, 255,255.0000);\">0.0000</td></tr><tr><td><b>attention_intent</b></td><td style=\"background-color: rgb(1.4450, 255,1.4450);\">0.9943</td><td style=\"background-color: rgb(253.5550, 255,253.5550);\">0.0057</td><td style=\"background-color: rgb(255.0000, 255,255.0000);\">0.0000</td><td style=\"background-color: rgb(255.0000, 255,255.0000);\">0.0000</td></tr><tr><td><b>slots_true</b></td><td style=\"background-color: rgb(255,255,255);\">O</td><td style=\"background-color: rgb(255,255,255);\">B-Goal</td><td style=\"background-color: rgb(255,255,255);\">I-Goal</td><td style=\"background-color: rgb(255,255,255);\">I-Goal</td></tr><tr><td><b>slots_pred</b></td><td style=\"background-color: rgb(255,255,255);\">O</td><td style=\"background-color: rgb(255,255,255);\">B-Goal</td><td style=\"background-color: rgb(255,255,255);\">I-Goal</td><td style=\"background-color: rgb(255,255,255);\">I-Goal</td></tr></table>"
      ],
      "text/plain": [
       "<IPython.core.display.HTML object>"
      ]
     },
     "metadata": {},
     "output_type": "display_data"
    },
    {
     "name": "stdout",
     "output_type": "stream",
     "text": [
      "true: Following pred: Following\n"
     ]
    },
    {
     "data": {
      "text/html": [
       "<table><tr><td><b>words</b></td><td style=\"background-color: rgb(255,255,255);\">please</td><td style=\"background-color: rgb(255,255,255);\">follow</td><td style=\"background-color: rgb(255,255,255);\">that</td><td style=\"background-color: rgb(255,255,255);\">person</td></tr><tr><td><b>lexical_unit</b></td><td style=\"background-color: rgb(255.0000, 255,255.0000);\">0.0000</td><td style=\"background-color: rgb(0.0000, 255,0.0000);\">1.0000</td><td style=\"background-color: rgb(255.0000, 255,255.0000);\">0.0000</td><td style=\"background-color: rgb(255.0000, 255,255.0000);\">0.0000</td></tr><tr><td><b>attention_intent</b></td><td style=\"background-color: rgb(254.9997, 255,254.9997);\">0.0000</td><td style=\"background-color: rgb(0.0003, 255,0.0003);\">1.0000</td><td style=\"background-color: rgb(255.0000, 255,255.0000);\">0.0000</td><td style=\"background-color: rgb(255.0000, 255,255.0000);\">0.0000</td></tr><tr><td><b>slots_true</b></td><td style=\"background-color: rgb(255,255,255);\">O</td><td style=\"background-color: rgb(255,255,255);\">O</td><td style=\"background-color: rgb(255,255,255);\">B-Cotheme</td><td style=\"background-color: rgb(255,255,255);\">I-Cotheme</td></tr><tr><td><b>slots_pred</b></td><td style=\"background-color: rgb(255,255,255);\">O</td><td style=\"background-color: rgb(255,255,255);\">O</td><td style=\"background-color: rgb(255,255,255);\">B-Cotheme</td><td style=\"background-color: rgb(255,255,255);\">I-Cotheme</td></tr></table>"
      ],
      "text/plain": [
       "<IPython.core.display.HTML object>"
      ]
     },
     "metadata": {},
     "output_type": "display_data"
    },
    {
     "name": "stdout",
     "output_type": "stream",
     "text": [
      "true: Motion pred: Motion\n"
     ]
    },
    {
     "data": {
      "text/html": [
       "<table><tr><td><b>words</b></td><td style=\"background-color: rgb(255,255,255);\">please</td><td style=\"background-color: rgb(255,255,255);\">walk</td><td style=\"background-color: rgb(255,255,255);\">slowly</td><td style=\"background-color: rgb(255,255,255);\">to</td><td style=\"background-color: rgb(255,255,255);\">the</td><td style=\"background-color: rgb(255,255,255);\">kitchen</td></tr><tr><td><b>lexical_unit</b></td><td style=\"background-color: rgb(255.0000, 255,255.0000);\">0.0000</td><td style=\"background-color: rgb(0.0000, 255,0.0000);\">1.0000</td><td style=\"background-color: rgb(255.0000, 255,255.0000);\">0.0000</td><td style=\"background-color: rgb(255.0000, 255,255.0000);\">0.0000</td><td style=\"background-color: rgb(255.0000, 255,255.0000);\">0.0000</td><td style=\"background-color: rgb(255.0000, 255,255.0000);\">0.0000</td></tr><tr><td><b>attention_intent</b></td><td style=\"background-color: rgb(254.8288, 255,254.8288);\">0.0007</td><td style=\"background-color: rgb(159.4518, 255,159.4518);\">0.3747</td><td style=\"background-color: rgb(101.2545, 255,101.2545);\">0.6029</td><td style=\"background-color: rgb(249.4700, 255,249.4700);\">0.0217</td><td style=\"background-color: rgb(255.0000, 255,255.0000);\">0.0000</td><td style=\"background-color: rgb(254.9988, 255,254.9988);\">0.0000</td></tr><tr><td><b>slots_true</b></td><td style=\"background-color: rgb(255,255,255);\">O</td><td style=\"background-color: rgb(255,255,255);\">O</td><td style=\"background-color: rgb(255,255,255);\">B-Manner</td><td style=\"background-color: rgb(255,255,255);\">B-Goal</td><td style=\"background-color: rgb(255,255,255);\">I-Goal</td><td style=\"background-color: rgb(255,255,255);\">I-Goal</td></tr><tr><td><b>slots_pred</b></td><td style=\"background-color: rgb(255,255,255);\">O</td><td style=\"background-color: rgb(255,255,255);\">O</td><td style=\"background-color: rgb(255,255,255);\">O</td><td style=\"background-color: rgb(255,255,255);\">O</td><td style=\"background-color: rgb(255,255,255);\">O</td><td style=\"background-color: rgb(255,255,255);\">O</td></tr></table>"
      ],
      "text/plain": [
       "<IPython.core.display.HTML object>"
      ]
     },
     "metadata": {},
     "output_type": "display_data"
    },
    {
     "name": "stdout",
     "output_type": "stream",
     "text": [
      "true: Bringing pred: Bringing\n"
     ]
    },
    {
     "data": {
      "text/html": [
       "<table><tr><td><b>words</b></td><td style=\"background-color: rgb(255,255,255);\">can</td><td style=\"background-color: rgb(255,255,255);\">you</td><td style=\"background-color: rgb(255,255,255);\">bring</td><td style=\"background-color: rgb(255,255,255);\">it</td><td style=\"background-color: rgb(255,255,255);\">to</td><td style=\"background-color: rgb(255,255,255);\">me</td></tr><tr><td><b>lexical_unit</b></td><td style=\"background-color: rgb(255.0000, 255,255.0000);\">0.0000</td><td style=\"background-color: rgb(255.0000, 255,255.0000);\">0.0000</td><td style=\"background-color: rgb(0.0000, 255,0.0000);\">1.0000</td><td style=\"background-color: rgb(255.0000, 255,255.0000);\">0.0000</td><td style=\"background-color: rgb(255.0000, 255,255.0000);\">0.0000</td><td style=\"background-color: rgb(255.0000, 255,255.0000);\">0.0000</td></tr><tr><td><b>attention_intent</b></td><td style=\"background-color: rgb(254.9998, 255,254.9998);\">0.0000</td><td style=\"background-color: rgb(254.9978, 255,254.9978);\">0.0000</td><td style=\"background-color: rgb(5.8801, 255,5.8801);\">0.9769</td><td style=\"background-color: rgb(254.8511, 255,254.8511);\">0.0006</td><td style=\"background-color: rgb(249.2874, 255,249.2874);\">0.0224</td><td style=\"background-color: rgb(254.9840, 255,254.9840);\">0.0001</td></tr><tr><td><b>slots_true</b></td><td style=\"background-color: rgb(255,255,255);\">O</td><td style=\"background-color: rgb(255,255,255);\">B-Agent</td><td style=\"background-color: rgb(255,255,255);\">O</td><td style=\"background-color: rgb(255,255,255);\">B-Theme</td><td style=\"background-color: rgb(255,255,255);\">B-Beneficiary</td><td style=\"background-color: rgb(255,255,255);\">I-Beneficiary</td></tr><tr><td><b>slots_pred</b></td><td style=\"background-color: rgb(255,255,255);\">O</td><td style=\"background-color: rgb(255,255,255);\">B-Agent</td><td style=\"background-color: rgb(255,255,255);\">O</td><td style=\"background-color: rgb(255,255,255);\">O</td><td style=\"background-color: rgb(255,255,255);\">B-Beneficiary</td><td style=\"background-color: rgb(255,255,255);\">I-Beneficiary</td></tr></table>"
      ],
      "text/plain": [
       "<IPython.core.display.HTML object>"
      ]
     },
     "metadata": {},
     "output_type": "display_data"
    },
    {
     "name": "stdout",
     "output_type": "stream",
     "text": [
      "true: Giving pred: Giving\n"
     ]
    },
    {
     "data": {
      "text/html": [
       "<table><tr><td><b>words</b></td><td style=\"background-color: rgb(255,255,255);\">robot</td><td style=\"background-color: rgb(255,255,255);\">can</td><td style=\"background-color: rgb(255,255,255);\">you</td><td style=\"background-color: rgb(255,255,255);\">pass</td><td style=\"background-color: rgb(255,255,255);\">me</td><td style=\"background-color: rgb(255,255,255);\">a</td><td style=\"background-color: rgb(255,255,255);\">plastic</td><td style=\"background-color: rgb(255,255,255);\">plate</td></tr><tr><td><b>lexical_unit</b></td><td style=\"background-color: rgb(255.0000, 255,255.0000);\">0.0000</td><td style=\"background-color: rgb(255.0000, 255,255.0000);\">0.0000</td><td style=\"background-color: rgb(255.0000, 255,255.0000);\">0.0000</td><td style=\"background-color: rgb(0.0000, 255,0.0000);\">1.0000</td><td style=\"background-color: rgb(255.0000, 255,255.0000);\">0.0000</td><td style=\"background-color: rgb(255.0000, 255,255.0000);\">0.0000</td><td style=\"background-color: rgb(255.0000, 255,255.0000);\">0.0000</td><td style=\"background-color: rgb(255.0000, 255,255.0000);\">0.0000</td></tr><tr><td><b>attention_intent</b></td><td style=\"background-color: rgb(255.0000, 255,255.0000);\">0.0000</td><td style=\"background-color: rgb(255.0000, 255,255.0000);\">0.0000</td><td style=\"background-color: rgb(254.9995, 255,254.9995);\">0.0000</td><td style=\"background-color: rgb(142.2475, 255,142.2475);\">0.4422</td><td style=\"background-color: rgb(112.7564, 255,112.7564);\">0.5578</td><td style=\"background-color: rgb(255.0000, 255,255.0000);\">0.0000</td><td style=\"background-color: rgb(254.9999, 255,254.9999);\">0.0000</td><td style=\"background-color: rgb(254.9969, 255,254.9969);\">0.0000</td></tr><tr><td><b>slots_true</b></td><td style=\"background-color: rgb(255,255,255);\">O</td><td style=\"background-color: rgb(255,255,255);\">O</td><td style=\"background-color: rgb(255,255,255);\">B-Donor</td><td style=\"background-color: rgb(255,255,255);\">O</td><td style=\"background-color: rgb(255,255,255);\">B-Recipient</td><td style=\"background-color: rgb(255,255,255);\">B-Theme</td><td style=\"background-color: rgb(255,255,255);\">I-Theme</td><td style=\"background-color: rgb(255,255,255);\">I-Theme</td></tr><tr><td><b>slots_pred</b></td><td style=\"background-color: rgb(255,255,255);\">O</td><td style=\"background-color: rgb(255,255,255);\">O</td><td style=\"background-color: rgb(255,255,255);\">O</td><td style=\"background-color: rgb(255,255,255);\">O</td><td style=\"background-color: rgb(255,255,255);\">B-Recipient</td><td style=\"background-color: rgb(255,255,255);\">B-Theme</td><td style=\"background-color: rgb(255,255,255);\">I-Theme</td><td style=\"background-color: rgb(255,255,255);\">I-Theme</td></tr></table>"
      ],
      "text/plain": [
       "<IPython.core.display.HTML object>"
      ]
     },
     "metadata": {},
     "output_type": "display_data"
    },
    {
     "name": "stdout",
     "output_type": "stream",
     "text": [
      "true: Bringing pred: Bringing\n"
     ]
    },
    {
     "data": {
      "text/html": [
       "<table><tr><td><b>words</b></td><td style=\"background-color: rgb(255,255,255);\">please</td><td style=\"background-color: rgb(255,255,255);\">bring</td><td style=\"background-color: rgb(255,255,255);\">the</td><td style=\"background-color: rgb(255,255,255);\">mobile</td><td style=\"background-color: rgb(255,255,255);\">phone</td><td style=\"background-color: rgb(255,255,255);\">to</td><td style=\"background-color: rgb(255,255,255);\">the</td><td style=\"background-color: rgb(255,255,255);\">livingroom</td></tr><tr><td><b>lexical_unit</b></td><td style=\"background-color: rgb(255.0000, 255,255.0000);\">0.0000</td><td style=\"background-color: rgb(0.0000, 255,0.0000);\">1.0000</td><td style=\"background-color: rgb(255.0000, 255,255.0000);\">0.0000</td><td style=\"background-color: rgb(255.0000, 255,255.0000);\">0.0000</td><td style=\"background-color: rgb(255.0000, 255,255.0000);\">0.0000</td><td style=\"background-color: rgb(255.0000, 255,255.0000);\">0.0000</td><td style=\"background-color: rgb(255.0000, 255,255.0000);\">0.0000</td><td style=\"background-color: rgb(255.0000, 255,255.0000);\">0.0000</td></tr><tr><td><b>attention_intent</b></td><td style=\"background-color: rgb(254.9984, 255,254.9984);\">0.0000</td><td style=\"background-color: rgb(192.1537, 255,192.1537);\">0.2465</td><td style=\"background-color: rgb(255.0000, 255,255.0000);\">0.0000</td><td style=\"background-color: rgb(254.9945, 255,254.9945);\">0.0000</td><td style=\"background-color: rgb(253.7309, 255,253.7309);\">0.0050</td><td style=\"background-color: rgb(64.1241, 255,64.1241);\">0.7485</td><td style=\"background-color: rgb(254.9985, 255,254.9985);\">0.0000</td><td style=\"background-color: rgb(255.0000, 255,255.0000);\">0.0000</td></tr><tr><td><b>slots_true</b></td><td style=\"background-color: rgb(255,255,255);\">O</td><td style=\"background-color: rgb(255,255,255);\">O</td><td style=\"background-color: rgb(255,255,255);\">B-Theme</td><td style=\"background-color: rgb(255,255,255);\">I-Theme</td><td style=\"background-color: rgb(255,255,255);\">I-Theme</td><td style=\"background-color: rgb(255,255,255);\">B-Goal</td><td style=\"background-color: rgb(255,255,255);\">I-Goal</td><td style=\"background-color: rgb(255,255,255);\">I-Goal</td></tr><tr><td><b>slots_pred</b></td><td style=\"background-color: rgb(255,255,255);\">O</td><td style=\"background-color: rgb(255,255,255);\">O</td><td style=\"background-color: rgb(255,255,255);\">B-Theme</td><td style=\"background-color: rgb(255,255,255);\">I-Theme</td><td style=\"background-color: rgb(255,255,255);\">I-Theme</td><td style=\"background-color: rgb(255,255,255);\">B-Goal</td><td style=\"background-color: rgb(255,255,255);\">I-Goal</td><td style=\"background-color: rgb(255,255,255);\">I-Goal</td></tr></table>"
      ],
      "text/plain": [
       "<IPython.core.display.HTML object>"
      ]
     },
     "metadata": {},
     "output_type": "display_data"
    },
    {
     "name": "stdout",
     "output_type": "stream",
     "text": [
      "true: Placing pred: Placing\n"
     ]
    },
    {
     "data": {
      "text/html": [
       "<table><tr><td><b>words</b></td><td style=\"background-color: rgb(255,255,255);\">and</td><td style=\"background-color: rgb(255,255,255);\">put</td><td style=\"background-color: rgb(255,255,255);\">it</td><td style=\"background-color: rgb(255,255,255);\">on</td><td style=\"background-color: rgb(255,255,255);\">the</td><td style=\"background-color: rgb(255,255,255);\">coffee</td><td style=\"background-color: rgb(255,255,255);\">table</td></tr><tr><td><b>lexical_unit</b></td><td style=\"background-color: rgb(255.0000, 255,255.0000);\">0.0000</td><td style=\"background-color: rgb(0.0000, 255,0.0000);\">1.0000</td><td style=\"background-color: rgb(255.0000, 255,255.0000);\">0.0000</td><td style=\"background-color: rgb(255.0000, 255,255.0000);\">0.0000</td><td style=\"background-color: rgb(255.0000, 255,255.0000);\">0.0000</td><td style=\"background-color: rgb(255.0000, 255,255.0000);\">0.0000</td><td style=\"background-color: rgb(255.0000, 255,255.0000);\">0.0000</td></tr><tr><td><b>attention_intent</b></td><td style=\"background-color: rgb(255.0000, 255,255.0000);\">0.0000</td><td style=\"background-color: rgb(0.0756, 255,0.0756);\">0.9997</td><td style=\"background-color: rgb(254.9266, 255,254.9266);\">0.0003</td><td style=\"background-color: rgb(254.9979, 255,254.9979);\">0.0000</td><td style=\"background-color: rgb(255.0000, 255,255.0000);\">0.0000</td><td style=\"background-color: rgb(255.0000, 255,255.0000);\">0.0000</td><td style=\"background-color: rgb(255.0000, 255,255.0000);\">0.0000</td></tr><tr><td><b>slots_true</b></td><td style=\"background-color: rgb(255,255,255);\">O</td><td style=\"background-color: rgb(255,255,255);\">O</td><td style=\"background-color: rgb(255,255,255);\">B-Theme</td><td style=\"background-color: rgb(255,255,255);\">B-Goal</td><td style=\"background-color: rgb(255,255,255);\">I-Goal</td><td style=\"background-color: rgb(255,255,255);\">I-Goal</td><td style=\"background-color: rgb(255,255,255);\">I-Goal</td></tr><tr><td><b>slots_pred</b></td><td style=\"background-color: rgb(255,255,255);\">O</td><td style=\"background-color: rgb(255,255,255);\">O</td><td style=\"background-color: rgb(255,255,255);\">B-Theme</td><td style=\"background-color: rgb(255,255,255);\">B-Goal</td><td style=\"background-color: rgb(255,255,255);\">I-Goal</td><td style=\"background-color: rgb(255,255,255);\">I-Goal</td><td style=\"background-color: rgb(255,255,255);\">I-Goal</td></tr></table>"
      ],
      "text/plain": [
       "<IPython.core.display.HTML object>"
      ]
     },
     "metadata": {},
     "output_type": "display_data"
    },
    {
     "name": "stdout",
     "output_type": "stream",
     "text": [
      "true: Placing pred: Placing\n"
     ]
    },
    {
     "data": {
      "text/html": [
       "<table><tr><td><b>words</b></td><td style=\"background-color: rgb(255,255,255);\">hang</td><td style=\"background-color: rgb(255,255,255);\">my</td><td style=\"background-color: rgb(255,255,255);\">coat</td><td style=\"background-color: rgb(255,255,255);\">in</td><td style=\"background-color: rgb(255,255,255);\">the</td><td style=\"background-color: rgb(255,255,255);\">closet</td><td style=\"background-color: rgb(255,255,255);\">in</td><td style=\"background-color: rgb(255,255,255);\">my</td><td style=\"background-color: rgb(255,255,255);\">bedroom</td></tr><tr><td><b>lexical_unit</b></td><td style=\"background-color: rgb(0.0000, 255,0.0000);\">1.0000</td><td style=\"background-color: rgb(255.0000, 255,255.0000);\">0.0000</td><td style=\"background-color: rgb(255.0000, 255,255.0000);\">0.0000</td><td style=\"background-color: rgb(255.0000, 255,255.0000);\">0.0000</td><td style=\"background-color: rgb(255.0000, 255,255.0000);\">0.0000</td><td style=\"background-color: rgb(255.0000, 255,255.0000);\">0.0000</td><td style=\"background-color: rgb(255.0000, 255,255.0000);\">0.0000</td><td style=\"background-color: rgb(255.0000, 255,255.0000);\">0.0000</td><td style=\"background-color: rgb(255.0000, 255,255.0000);\">0.0000</td></tr><tr><td><b>attention_intent</b></td><td style=\"background-color: rgb(0.0367, 255,0.0367);\">0.9999</td><td style=\"background-color: rgb(254.9977, 255,254.9977);\">0.0000</td><td style=\"background-color: rgb(254.9709, 255,254.9709);\">0.0001</td><td style=\"background-color: rgb(255.0000, 255,255.0000);\">0.0000</td><td style=\"background-color: rgb(255.0000, 255,255.0000);\">0.0000</td><td style=\"background-color: rgb(254.9951, 255,254.9951);\">0.0000</td><td style=\"background-color: rgb(254.9997, 255,254.9997);\">0.0000</td><td style=\"background-color: rgb(255.0000, 255,255.0000);\">0.0000</td><td style=\"background-color: rgb(255.0000, 255,255.0000);\">0.0000</td></tr><tr><td><b>slots_true</b></td><td style=\"background-color: rgb(255,255,255);\">O</td><td style=\"background-color: rgb(255,255,255);\">B-Theme</td><td style=\"background-color: rgb(255,255,255);\">I-Theme</td><td style=\"background-color: rgb(255,255,255);\">B-Goal</td><td style=\"background-color: rgb(255,255,255);\">I-Goal</td><td style=\"background-color: rgb(255,255,255);\">I-Goal</td><td style=\"background-color: rgb(255,255,255);\">I-Goal</td><td style=\"background-color: rgb(255,255,255);\">I-Goal</td><td style=\"background-color: rgb(255,255,255);\">I-Goal</td></tr><tr><td><b>slots_pred</b></td><td style=\"background-color: rgb(255,255,255);\">O</td><td style=\"background-color: rgb(255,255,255);\">B-Theme</td><td style=\"background-color: rgb(255,255,255);\">I-Theme</td><td style=\"background-color: rgb(255,255,255);\">B-Goal</td><td style=\"background-color: rgb(255,255,255);\">I-Goal</td><td style=\"background-color: rgb(255,255,255);\">I-Goal</td><td style=\"background-color: rgb(255,255,255);\">I-Goal</td><td style=\"background-color: rgb(255,255,255);\">I-Goal</td><td style=\"background-color: rgb(255,255,255);\">I-Goal</td></tr></table>"
      ],
      "text/plain": [
       "<IPython.core.display.HTML object>"
      ]
     },
     "metadata": {},
     "output_type": "display_data"
    },
    {
     "name": "stdout",
     "output_type": "stream",
     "text": [
      "true: Being_located pred: Bringing\n"
     ]
    },
    {
     "data": {
      "text/html": [
       "<table><tr><td><b>words</b></td><td style=\"background-color: rgb(255,255,255);\">there</td><td style=\"background-color: rgb(255,255,255);\">are</td><td style=\"background-color: rgb(255,255,255);\">some</td><td style=\"background-color: rgb(255,255,255);\">plastic</td><td style=\"background-color: rgb(255,255,255);\">bags</td><td style=\"background-color: rgb(255,255,255);\">in</td><td style=\"background-color: rgb(255,255,255);\">the</td><td style=\"background-color: rgb(255,255,255);\">kitchen</td><td style=\"background-color: rgb(255,255,255);\">drawer</td></tr><tr><td><b>lexical_unit</b></td><td style=\"background-color: rgb(0.0000, 255,0.0000);\">1.0000</td><td style=\"background-color: rgb(0.0000, 255,0.0000);\">1.0000</td><td style=\"background-color: rgb(255.0000, 255,255.0000);\">0.0000</td><td style=\"background-color: rgb(255.0000, 255,255.0000);\">0.0000</td><td style=\"background-color: rgb(255.0000, 255,255.0000);\">0.0000</td><td style=\"background-color: rgb(255.0000, 255,255.0000);\">0.0000</td><td style=\"background-color: rgb(255.0000, 255,255.0000);\">0.0000</td><td style=\"background-color: rgb(255.0000, 255,255.0000);\">0.0000</td><td style=\"background-color: rgb(255.0000, 255,255.0000);\">0.0000</td></tr><tr><td><b>attention_intent</b></td><td style=\"background-color: rgb(254.6294, 255,254.6294);\">0.0015</td><td style=\"background-color: rgb(220.4297, 255,220.4297);\">0.1356</td><td style=\"background-color: rgb(254.5789, 255,254.5789);\">0.0017</td><td style=\"background-color: rgb(254.3057, 255,254.3057);\">0.0027</td><td style=\"background-color: rgb(45.9402, 255,45.9402);\">0.8198</td><td style=\"background-color: rgb(253.6643, 255,253.6643);\">0.0052</td><td style=\"background-color: rgb(254.9976, 255,254.9976);\">0.0000</td><td style=\"background-color: rgb(249.0577, 255,249.0577);\">0.0233</td><td style=\"background-color: rgb(252.4165, 255,252.4165);\">0.0101</td></tr><tr><td><b>slots_true</b></td><td style=\"background-color: rgb(255,255,255);\">O</td><td style=\"background-color: rgb(255,255,255);\">O</td><td style=\"background-color: rgb(255,255,255);\">B-Theme</td><td style=\"background-color: rgb(255,255,255);\">I-Theme</td><td style=\"background-color: rgb(255,255,255);\">I-Theme</td><td style=\"background-color: rgb(255,255,255);\">B-Location</td><td style=\"background-color: rgb(255,255,255);\">I-Location</td><td style=\"background-color: rgb(255,255,255);\">I-Location</td><td style=\"background-color: rgb(255,255,255);\">I-Location</td></tr><tr><td><b>slots_pred</b></td><td style=\"background-color: rgb(255,255,255);\">O</td><td style=\"background-color: rgb(255,255,255);\">O</td><td style=\"background-color: rgb(255,255,255);\">O</td><td style=\"background-color: rgb(255,255,255);\">O</td><td style=\"background-color: rgb(255,255,255);\">O</td><td style=\"background-color: rgb(255,255,255);\">B-Location</td><td style=\"background-color: rgb(255,255,255);\">I-Location</td><td style=\"background-color: rgb(255,255,255);\">I-Location</td><td style=\"background-color: rgb(255,255,255);\">I-Location</td></tr></table>"
      ],
      "text/plain": [
       "<IPython.core.display.HTML object>"
      ]
     },
     "metadata": {},
     "output_type": "display_data"
    },
    {
     "name": "stdout",
     "output_type": "stream",
     "text": [
      "true: Motion pred: Motion\n"
     ]
    },
    {
     "data": {
      "text/html": [
       "<table><tr><td><b>words</b></td><td style=\"background-color: rgb(255,255,255);\">go</td><td style=\"background-color: rgb(255,255,255);\">to</td><td style=\"background-color: rgb(255,255,255);\">dining</td><td style=\"background-color: rgb(255,255,255);\">room</td></tr><tr><td><b>lexical_unit</b></td><td style=\"background-color: rgb(0.0000, 255,0.0000);\">1.0000</td><td style=\"background-color: rgb(255.0000, 255,255.0000);\">0.0000</td><td style=\"background-color: rgb(255.0000, 255,255.0000);\">0.0000</td><td style=\"background-color: rgb(255.0000, 255,255.0000);\">0.0000</td></tr><tr><td><b>attention_intent</b></td><td style=\"background-color: rgb(0.7148, 255,0.7148);\">0.9972</td><td style=\"background-color: rgb(254.3115, 255,254.3115);\">0.0027</td><td style=\"background-color: rgb(254.9737, 255,254.9737);\">0.0001</td><td style=\"background-color: rgb(255.0000, 255,255.0000);\">0.0000</td></tr><tr><td><b>slots_true</b></td><td style=\"background-color: rgb(255,255,255);\">O</td><td style=\"background-color: rgb(255,255,255);\">B-Goal</td><td style=\"background-color: rgb(255,255,255);\">I-Goal</td><td style=\"background-color: rgb(255,255,255);\">I-Goal</td></tr><tr><td><b>slots_pred</b></td><td style=\"background-color: rgb(255,255,255);\">O</td><td style=\"background-color: rgb(255,255,255);\">B-Goal</td><td style=\"background-color: rgb(255,255,255);\">I-Goal</td><td style=\"background-color: rgb(255,255,255);\">I-Goal</td></tr></table>"
      ],
      "text/plain": [
       "<IPython.core.display.HTML object>"
      ]
     },
     "metadata": {},
     "output_type": "display_data"
    },
    {
     "name": "stdout",
     "output_type": "stream",
     "text": [
      "true: Searching pred: Searching\n"
     ]
    },
    {
     "data": {
      "text/html": [
       "<table><tr><td><b>words</b></td><td style=\"background-color: rgb(255,255,255);\">find</td><td style=\"background-color: rgb(255,255,255);\">a</td><td style=\"background-color: rgb(255,255,255);\">bottle</td><td style=\"background-color: rgb(255,255,255);\">in</td><td style=\"background-color: rgb(255,255,255);\">the</td><td style=\"background-color: rgb(255,255,255);\">kitchen</td></tr><tr><td><b>lexical_unit</b></td><td style=\"background-color: rgb(0.0000, 255,0.0000);\">1.0000</td><td style=\"background-color: rgb(255.0000, 255,255.0000);\">0.0000</td><td style=\"background-color: rgb(255.0000, 255,255.0000);\">0.0000</td><td style=\"background-color: rgb(255.0000, 255,255.0000);\">0.0000</td><td style=\"background-color: rgb(255.0000, 255,255.0000);\">0.0000</td><td style=\"background-color: rgb(255.0000, 255,255.0000);\">0.0000</td></tr><tr><td><b>attention_intent</b></td><td style=\"background-color: rgb(0.0001, 255,0.0001);\">1.0000</td><td style=\"background-color: rgb(255.0000, 255,255.0000);\">0.0000</td><td style=\"background-color: rgb(254.9999, 255,254.9999);\">0.0000</td><td style=\"background-color: rgb(255.0000, 255,255.0000);\">0.0000</td><td style=\"background-color: rgb(255.0000, 255,255.0000);\">0.0000</td><td style=\"background-color: rgb(255.0000, 255,255.0000);\">0.0000</td></tr><tr><td><b>slots_true</b></td><td style=\"background-color: rgb(255,255,255);\">O</td><td style=\"background-color: rgb(255,255,255);\">B-Phenomenon</td><td style=\"background-color: rgb(255,255,255);\">I-Phenomenon</td><td style=\"background-color: rgb(255,255,255);\">B-Ground</td><td style=\"background-color: rgb(255,255,255);\">I-Ground</td><td style=\"background-color: rgb(255,255,255);\">I-Ground</td></tr><tr><td><b>slots_pred</b></td><td style=\"background-color: rgb(255,255,255);\">O</td><td style=\"background-color: rgb(255,255,255);\">B-Phenomenon</td><td style=\"background-color: rgb(255,255,255);\">I-Phenomenon</td><td style=\"background-color: rgb(255,255,255);\">B-Ground</td><td style=\"background-color: rgb(255,255,255);\">I-Ground</td><td style=\"background-color: rgb(255,255,255);\">I-Ground</td></tr></table>"
      ],
      "text/plain": [
       "<IPython.core.display.HTML object>"
      ]
     },
     "metadata": {},
     "output_type": "display_data"
    },
    {
     "name": "stdout",
     "output_type": "stream",
     "text": [
      "true: Searching pred: Searching\n"
     ]
    },
    {
     "data": {
      "text/html": [
       "<table><tr><td><b>words</b></td><td style=\"background-color: rgb(255,255,255);\">find</td><td style=\"background-color: rgb(255,255,255);\">me</td><td style=\"background-color: rgb(255,255,255);\">a</td><td style=\"background-color: rgb(255,255,255);\">cushion</td></tr><tr><td><b>lexical_unit</b></td><td style=\"background-color: rgb(0.0000, 255,0.0000);\">1.0000</td><td style=\"background-color: rgb(255.0000, 255,255.0000);\">0.0000</td><td style=\"background-color: rgb(255.0000, 255,255.0000);\">0.0000</td><td style=\"background-color: rgb(255.0000, 255,255.0000);\">0.0000</td></tr><tr><td><b>attention_intent</b></td><td style=\"background-color: rgb(77.9397, 255,77.9397);\">0.6944</td><td style=\"background-color: rgb(177.0604, 255,177.0604);\">0.3056</td><td style=\"background-color: rgb(255.0000, 255,255.0000);\">0.0000</td><td style=\"background-color: rgb(255.0000, 255,255.0000);\">0.0000</td></tr><tr><td><b>slots_true</b></td><td style=\"background-color: rgb(255,255,255);\">O</td><td style=\"background-color: rgb(255,255,255);\">B-Purpose</td><td style=\"background-color: rgb(255,255,255);\">B-Phenomenon</td><td style=\"background-color: rgb(255,255,255);\">I-Phenomenon</td></tr><tr><td><b>slots_pred</b></td><td style=\"background-color: rgb(255,255,255);\">O</td><td style=\"background-color: rgb(255,255,255);\">B-Beneficiary</td><td style=\"background-color: rgb(255,255,255);\">B-Phenomenon</td><td style=\"background-color: rgb(255,255,255);\">I-Phenomenon</td></tr></table>"
      ],
      "text/plain": [
       "<IPython.core.display.HTML object>"
      ]
     },
     "metadata": {},
     "output_type": "display_data"
    },
    {
     "name": "stdout",
     "output_type": "stream",
     "text": [
      "true: Motion pred: Motion\n"
     ]
    },
    {
     "data": {
      "text/html": [
       "<table><tr><td><b>words</b></td><td style=\"background-color: rgb(255,255,255);\">drive</td><td style=\"background-color: rgb(255,255,255);\">to</td><td style=\"background-color: rgb(255,255,255);\">the</td><td style=\"background-color: rgb(255,255,255);\">fridge</td></tr><tr><td><b>lexical_unit</b></td><td style=\"background-color: rgb(0.0000, 255,0.0000);\">1.0000</td><td style=\"background-color: rgb(255.0000, 255,255.0000);\">0.0000</td><td style=\"background-color: rgb(255.0000, 255,255.0000);\">0.0000</td><td style=\"background-color: rgb(255.0000, 255,255.0000);\">0.0000</td></tr><tr><td><b>attention_intent</b></td><td style=\"background-color: rgb(49.5249, 255,49.5249);\">0.8058</td><td style=\"background-color: rgb(205.4753, 255,205.4753);\">0.1942</td><td style=\"background-color: rgb(255.0000, 255,255.0000);\">0.0000</td><td style=\"background-color: rgb(255.0000, 255,255.0000);\">0.0000</td></tr><tr><td><b>slots_true</b></td><td style=\"background-color: rgb(255,255,255);\">O</td><td style=\"background-color: rgb(255,255,255);\">B-Goal</td><td style=\"background-color: rgb(255,255,255);\">I-Goal</td><td style=\"background-color: rgb(255,255,255);\">I-Goal</td></tr><tr><td><b>slots_pred</b></td><td style=\"background-color: rgb(255,255,255);\">O</td><td style=\"background-color: rgb(255,255,255);\">B-Goal</td><td style=\"background-color: rgb(255,255,255);\">I-Goal</td><td style=\"background-color: rgb(255,255,255);\">I-Goal</td></tr></table>"
      ],
      "text/plain": [
       "<IPython.core.display.HTML object>"
      ]
     },
     "metadata": {},
     "output_type": "display_data"
    },
    {
     "name": "stdout",
     "output_type": "stream",
     "text": [
      "true: Closure pred: Closure\n"
     ]
    },
    {
     "data": {
      "text/html": [
       "<table><tr><td><b>words</b></td><td style=\"background-color: rgb(255,255,255);\">and</td><td style=\"background-color: rgb(255,255,255);\">open</td><td style=\"background-color: rgb(255,255,255);\">it</td></tr><tr><td><b>lexical_unit</b></td><td style=\"background-color: rgb(255.0000, 255,255.0000);\">0.0000</td><td style=\"background-color: rgb(0.0000, 255,0.0000);\">1.0000</td><td style=\"background-color: rgb(255.0000, 255,255.0000);\">0.0000</td></tr><tr><td><b>attention_intent</b></td><td style=\"background-color: rgb(254.9992, 255,254.9992);\">0.0000</td><td style=\"background-color: rgb(0.4569, 255,0.4569);\">0.9982</td><td style=\"background-color: rgb(254.5576, 255,254.5576);\">0.0017</td></tr><tr><td><b>slots_true</b></td><td style=\"background-color: rgb(255,255,255);\">O</td><td style=\"background-color: rgb(255,255,255);\">O</td><td style=\"background-color: rgb(255,255,255);\">B-Container_portal</td></tr><tr><td><b>slots_pred</b></td><td style=\"background-color: rgb(255,255,255);\">O</td><td style=\"background-color: rgb(255,255,255);\">O</td><td style=\"background-color: rgb(255,255,255);\">O</td></tr></table>"
      ],
      "text/plain": [
       "<IPython.core.display.HTML object>"
      ]
     },
     "metadata": {},
     "output_type": "display_data"
    },
    {
     "name": "stdout",
     "output_type": "stream",
     "text": [
      "true: Change_operational_state pred: Change_operational_state\n"
     ]
    },
    {
     "data": {
      "text/html": [
       "<table><tr><td><b>words</b></td><td style=\"background-color: rgb(255,255,255);\">could</td><td style=\"background-color: rgb(255,255,255);\">you</td><td style=\"background-color: rgb(255,255,255);\">please</td><td style=\"background-color: rgb(255,255,255);\">turn</td><td style=\"background-color: rgb(255,255,255);\">on</td><td style=\"background-color: rgb(255,255,255);\">the</td><td style=\"background-color: rgb(255,255,255);\">tv</td></tr><tr><td><b>lexical_unit</b></td><td style=\"background-color: rgb(255.0000, 255,255.0000);\">0.0000</td><td style=\"background-color: rgb(255.0000, 255,255.0000);\">0.0000</td><td style=\"background-color: rgb(255.0000, 255,255.0000);\">0.0000</td><td style=\"background-color: rgb(0.0000, 255,0.0000);\">1.0000</td><td style=\"background-color: rgb(255.0000, 255,255.0000);\">0.0000</td><td style=\"background-color: rgb(255.0000, 255,255.0000);\">0.0000</td><td style=\"background-color: rgb(255.0000, 255,255.0000);\">0.0000</td></tr><tr><td><b>attention_intent</b></td><td style=\"background-color: rgb(252.2638, 255,252.2638);\">0.0107</td><td style=\"background-color: rgb(254.8445, 255,254.8445);\">0.0006</td><td style=\"background-color: rgb(235.2569, 255,235.2569);\">0.0774</td><td style=\"background-color: rgb(22.7403, 255,22.7403);\">0.9108</td><td style=\"background-color: rgb(254.9759, 255,254.9759);\">0.0001</td><td style=\"background-color: rgb(255.0000, 255,255.0000);\">0.0000</td><td style=\"background-color: rgb(255.0000, 255,255.0000);\">0.0000</td></tr><tr><td><b>slots_true</b></td><td style=\"background-color: rgb(255,255,255);\">O</td><td style=\"background-color: rgb(255,255,255);\">B-Agent</td><td style=\"background-color: rgb(255,255,255);\">O</td><td style=\"background-color: rgb(255,255,255);\">O</td><td style=\"background-color: rgb(255,255,255);\">B-Operational_state</td><td style=\"background-color: rgb(255,255,255);\">B-Device</td><td style=\"background-color: rgb(255,255,255);\">I-Device</td></tr><tr><td><b>slots_pred</b></td><td style=\"background-color: rgb(255,255,255);\">O</td><td style=\"background-color: rgb(255,255,255);\">B-Agent</td><td style=\"background-color: rgb(255,255,255);\">O</td><td style=\"background-color: rgb(255,255,255);\">O</td><td style=\"background-color: rgb(255,255,255);\">B-Operational_state</td><td style=\"background-color: rgb(255,255,255);\">B-Device</td><td style=\"background-color: rgb(255,255,255);\">I-Device</td></tr></table>"
      ],
      "text/plain": [
       "<IPython.core.display.HTML object>"
      ]
     },
     "metadata": {},
     "output_type": "display_data"
    },
    {
     "name": "stdout",
     "output_type": "stream",
     "text": [
      "true: Closure pred: Closure\n"
     ]
    },
    {
     "data": {
      "text/html": [
       "<table><tr><td><b>words</b></td><td style=\"background-color: rgb(255,255,255);\">please</td><td style=\"background-color: rgb(255,255,255);\">close</td><td style=\"background-color: rgb(255,255,255);\">the</td><td style=\"background-color: rgb(255,255,255);\">blinds</td></tr><tr><td><b>lexical_unit</b></td><td style=\"background-color: rgb(255.0000, 255,255.0000);\">0.0000</td><td style=\"background-color: rgb(0.0000, 255,0.0000);\">1.0000</td><td style=\"background-color: rgb(255.0000, 255,255.0000);\">0.0000</td><td style=\"background-color: rgb(255.0000, 255,255.0000);\">0.0000</td></tr><tr><td><b>attention_intent</b></td><td style=\"background-color: rgb(254.7694, 255,254.7694);\">0.0009</td><td style=\"background-color: rgb(0.2311, 255,0.2311);\">0.9991</td><td style=\"background-color: rgb(255.0000, 255,255.0000);\">0.0000</td><td style=\"background-color: rgb(255.0000, 255,255.0000);\">0.0000</td></tr><tr><td><b>slots_true</b></td><td style=\"background-color: rgb(255,255,255);\">O</td><td style=\"background-color: rgb(255,255,255);\">O</td><td style=\"background-color: rgb(255,255,255);\">B-Container_portal</td><td style=\"background-color: rgb(255,255,255);\">I-Container_portal</td></tr><tr><td><b>slots_pred</b></td><td style=\"background-color: rgb(255,255,255);\">O</td><td style=\"background-color: rgb(255,255,255);\">O</td><td style=\"background-color: rgb(255,255,255);\">B-Goal</td><td style=\"background-color: rgb(255,255,255);\">I-Goal</td></tr></table>"
      ],
      "text/plain": [
       "<IPython.core.display.HTML object>"
      ]
     },
     "metadata": {},
     "output_type": "display_data"
    },
    {
     "name": "stdout",
     "output_type": "stream",
     "text": [
      "true: Change_operational_state pred: Change_operational_state\n"
     ]
    },
    {
     "data": {
      "text/html": [
       "<table><tr><td><b>words</b></td><td style=\"background-color: rgb(255,255,255);\">could</td><td style=\"background-color: rgb(255,255,255);\">you</td><td style=\"background-color: rgb(255,255,255);\">turn</td><td style=\"background-color: rgb(255,255,255);\">on</td><td style=\"background-color: rgb(255,255,255);\">the</td><td style=\"background-color: rgb(255,255,255);\">television</td></tr><tr><td><b>lexical_unit</b></td><td style=\"background-color: rgb(255.0000, 255,255.0000);\">0.0000</td><td style=\"background-color: rgb(255.0000, 255,255.0000);\">0.0000</td><td style=\"background-color: rgb(0.0000, 255,0.0000);\">1.0000</td><td style=\"background-color: rgb(255.0000, 255,255.0000);\">0.0000</td><td style=\"background-color: rgb(255.0000, 255,255.0000);\">0.0000</td><td style=\"background-color: rgb(255.0000, 255,255.0000);\">0.0000</td></tr><tr><td><b>attention_intent</b></td><td style=\"background-color: rgb(253.6048, 255,253.6048);\">0.0055</td><td style=\"background-color: rgb(254.8197, 255,254.8197);\">0.0007</td><td style=\"background-color: rgb(1.6540, 255,1.6540);\">0.9935</td><td style=\"background-color: rgb(254.9411, 255,254.9411);\">0.0002</td><td style=\"background-color: rgb(255.0000, 255,255.0000);\">0.0000</td><td style=\"background-color: rgb(255.0000, 255,255.0000);\">0.0000</td></tr><tr><td><b>slots_true</b></td><td style=\"background-color: rgb(255,255,255);\">O</td><td style=\"background-color: rgb(255,255,255);\">B-Agent</td><td style=\"background-color: rgb(255,255,255);\">O</td><td style=\"background-color: rgb(255,255,255);\">B-Operational_state</td><td style=\"background-color: rgb(255,255,255);\">B-Device</td><td style=\"background-color: rgb(255,255,255);\">I-Device</td></tr><tr><td><b>slots_pred</b></td><td style=\"background-color: rgb(255,255,255);\">O</td><td style=\"background-color: rgb(255,255,255);\">B-Agent</td><td style=\"background-color: rgb(255,255,255);\">O</td><td style=\"background-color: rgb(255,255,255);\">B-Operational_state</td><td style=\"background-color: rgb(255,255,255);\">B-Device</td><td style=\"background-color: rgb(255,255,255);\">I-Device</td></tr></table>"
      ],
      "text/plain": [
       "<IPython.core.display.HTML object>"
      ]
     },
     "metadata": {},
     "output_type": "display_data"
    },
    {
     "name": "stdout",
     "output_type": "stream",
     "text": [
      "true: Placing pred: Placing\n"
     ]
    },
    {
     "data": {
      "text/html": [
       "<table><tr><td><b>words</b></td><td style=\"background-color: rgb(255,255,255);\">put</td><td style=\"background-color: rgb(255,255,255);\">the</td><td style=\"background-color: rgb(255,255,255);\">mobile</td><td style=\"background-color: rgb(255,255,255);\">phone</td><td style=\"background-color: rgb(255,255,255);\">in</td><td style=\"background-color: rgb(255,255,255);\">the</td><td style=\"background-color: rgb(255,255,255);\">nightstand</td></tr><tr><td><b>lexical_unit</b></td><td style=\"background-color: rgb(0.0000, 255,0.0000);\">1.0000</td><td style=\"background-color: rgb(255.0000, 255,255.0000);\">0.0000</td><td style=\"background-color: rgb(255.0000, 255,255.0000);\">0.0000</td><td style=\"background-color: rgb(255.0000, 255,255.0000);\">0.0000</td><td style=\"background-color: rgb(255.0000, 255,255.0000);\">0.0000</td><td style=\"background-color: rgb(255.0000, 255,255.0000);\">0.0000</td><td style=\"background-color: rgb(255.0000, 255,255.0000);\">0.0000</td></tr><tr><td><b>attention_intent</b></td><td style=\"background-color: rgb(1.0508, 255,1.0508);\">0.9959</td><td style=\"background-color: rgb(255.0000, 255,255.0000);\">0.0000</td><td style=\"background-color: rgb(254.9994, 255,254.9994);\">0.0000</td><td style=\"background-color: rgb(254.1530, 255,254.1530);\">0.0033</td><td style=\"background-color: rgb(254.7980, 255,254.7980);\">0.0008</td><td style=\"background-color: rgb(255.0000, 255,255.0000);\">0.0000</td><td style=\"background-color: rgb(254.9989, 255,254.9989);\">0.0000</td></tr><tr><td><b>slots_true</b></td><td style=\"background-color: rgb(255,255,255);\">O</td><td style=\"background-color: rgb(255,255,255);\">B-Theme</td><td style=\"background-color: rgb(255,255,255);\">I-Theme</td><td style=\"background-color: rgb(255,255,255);\">I-Theme</td><td style=\"background-color: rgb(255,255,255);\">B-Goal</td><td style=\"background-color: rgb(255,255,255);\">I-Goal</td><td style=\"background-color: rgb(255,255,255);\">I-Goal</td></tr><tr><td><b>slots_pred</b></td><td style=\"background-color: rgb(255,255,255);\">O</td><td style=\"background-color: rgb(255,255,255);\">B-Theme</td><td style=\"background-color: rgb(255,255,255);\">I-Theme</td><td style=\"background-color: rgb(255,255,255);\">I-Theme</td><td style=\"background-color: rgb(255,255,255);\">B-Goal</td><td style=\"background-color: rgb(255,255,255);\">I-Goal</td><td style=\"background-color: rgb(255,255,255);\">I-Goal</td></tr></table>"
      ],
      "text/plain": [
       "<IPython.core.display.HTML object>"
      ]
     },
     "metadata": {},
     "output_type": "display_data"
    },
    {
     "name": "stdout",
     "output_type": "stream",
     "text": [
      "true: Placing pred: Placing\n"
     ]
    },
    {
     "data": {
      "text/html": [
       "<table><tr><td><b>words</b></td><td style=\"background-color: rgb(255,255,255);\">put</td><td style=\"background-color: rgb(255,255,255);\">my</td><td style=\"background-color: rgb(255,255,255);\">mobile</td><td style=\"background-color: rgb(255,255,255);\">phone</td><td style=\"background-color: rgb(255,255,255);\">on</td><td style=\"background-color: rgb(255,255,255);\">the</td><td style=\"background-color: rgb(255,255,255);\">kitchen</td><td style=\"background-color: rgb(255,255,255);\">table</td></tr><tr><td><b>lexical_unit</b></td><td style=\"background-color: rgb(0.0000, 255,0.0000);\">1.0000</td><td style=\"background-color: rgb(255.0000, 255,255.0000);\">0.0000</td><td style=\"background-color: rgb(255.0000, 255,255.0000);\">0.0000</td><td style=\"background-color: rgb(255.0000, 255,255.0000);\">0.0000</td><td style=\"background-color: rgb(255.0000, 255,255.0000);\">0.0000</td><td style=\"background-color: rgb(255.0000, 255,255.0000);\">0.0000</td><td style=\"background-color: rgb(255.0000, 255,255.0000);\">0.0000</td><td style=\"background-color: rgb(255.0000, 255,255.0000);\">0.0000</td></tr><tr><td><b>attention_intent</b></td><td style=\"background-color: rgb(0.2195, 255,0.2195);\">0.9991</td><td style=\"background-color: rgb(254.9999, 255,254.9999);\">0.0000</td><td style=\"background-color: rgb(254.9911, 255,254.9911);\">0.0000</td><td style=\"background-color: rgb(254.8141, 255,254.8141);\">0.0007</td><td style=\"background-color: rgb(254.9756, 255,254.9756);\">0.0001</td><td style=\"background-color: rgb(255.0000, 255,255.0000);\">0.0000</td><td style=\"background-color: rgb(254.9999, 255,254.9999);\">0.0000</td><td style=\"background-color: rgb(255.0000, 255,255.0000);\">0.0000</td></tr><tr><td><b>slots_true</b></td><td style=\"background-color: rgb(255,255,255);\">O</td><td style=\"background-color: rgb(255,255,255);\">B-Theme</td><td style=\"background-color: rgb(255,255,255);\">I-Theme</td><td style=\"background-color: rgb(255,255,255);\">I-Theme</td><td style=\"background-color: rgb(255,255,255);\">B-Goal</td><td style=\"background-color: rgb(255,255,255);\">I-Goal</td><td style=\"background-color: rgb(255,255,255);\">I-Goal</td><td style=\"background-color: rgb(255,255,255);\">I-Goal</td></tr><tr><td><b>slots_pred</b></td><td style=\"background-color: rgb(255,255,255);\">O</td><td style=\"background-color: rgb(255,255,255);\">B-Theme</td><td style=\"background-color: rgb(255,255,255);\">I-Theme</td><td style=\"background-color: rgb(255,255,255);\">I-Theme</td><td style=\"background-color: rgb(255,255,255);\">B-Goal</td><td style=\"background-color: rgb(255,255,255);\">I-Goal</td><td style=\"background-color: rgb(255,255,255);\">I-Goal</td><td style=\"background-color: rgb(255,255,255);\">I-Goal</td></tr></table>"
      ],
      "text/plain": [
       "<IPython.core.display.HTML object>"
      ]
     },
     "metadata": {},
     "output_type": "display_data"
    },
    {
     "name": "stdout",
     "output_type": "stream",
     "text": [
      "true: Motion pred: Entering\n"
     ]
    },
    {
     "data": {
      "text/html": [
       "<table><tr><td><b>words</b></td><td style=\"background-color: rgb(255,255,255);\">go</td><td style=\"background-color: rgb(255,255,255);\">next</td><td style=\"background-color: rgb(255,255,255);\">to</td><td style=\"background-color: rgb(255,255,255);\">the</td><td style=\"background-color: rgb(255,255,255);\">tv</td><td style=\"background-color: rgb(255,255,255);\">set</td></tr><tr><td><b>lexical_unit</b></td><td style=\"background-color: rgb(0.0000, 255,0.0000);\">1.0000</td><td style=\"background-color: rgb(255.0000, 255,255.0000);\">0.0000</td><td style=\"background-color: rgb(255.0000, 255,255.0000);\">0.0000</td><td style=\"background-color: rgb(255.0000, 255,255.0000);\">0.0000</td><td style=\"background-color: rgb(255.0000, 255,255.0000);\">0.0000</td><td style=\"background-color: rgb(255.0000, 255,255.0000);\">0.0000</td></tr><tr><td><b>attention_intent</b></td><td style=\"background-color: rgb(247.8141, 255,247.8141);\">0.0282</td><td style=\"background-color: rgb(7.2029, 255,7.2029);\">0.9718</td><td style=\"background-color: rgb(254.9844, 255,254.9844);\">0.0001</td><td style=\"background-color: rgb(255.0000, 255,255.0000);\">0.0000</td><td style=\"background-color: rgb(255.0000, 255,255.0000);\">0.0000</td><td style=\"background-color: rgb(254.9987, 255,254.9987);\">0.0000</td></tr><tr><td><b>slots_true</b></td><td style=\"background-color: rgb(255,255,255);\">O</td><td style=\"background-color: rgb(255,255,255);\">B-Goal</td><td style=\"background-color: rgb(255,255,255);\">I-Goal</td><td style=\"background-color: rgb(255,255,255);\">I-Goal</td><td style=\"background-color: rgb(255,255,255);\">I-Goal</td><td style=\"background-color: rgb(255,255,255);\">I-Goal</td></tr><tr><td><b>slots_pred</b></td><td style=\"background-color: rgb(255,255,255);\">O</td><td style=\"background-color: rgb(255,255,255);\">O</td><td style=\"background-color: rgb(255,255,255);\">B-Goal</td><td style=\"background-color: rgb(255,255,255);\">I-Goal</td><td style=\"background-color: rgb(255,255,255);\">I-Goal</td><td style=\"background-color: rgb(255,255,255);\">I-Goal</td></tr></table>"
      ],
      "text/plain": [
       "<IPython.core.display.HTML object>"
      ]
     },
     "metadata": {},
     "output_type": "display_data"
    },
    {
     "name": "stdout",
     "output_type": "stream",
     "text": [
      "true: Motion pred: Motion\n"
     ]
    },
    {
     "data": {
      "text/html": [
       "<table><tr><td><b>words</b></td><td style=\"background-color: rgb(255,255,255);\">go</td><td style=\"background-color: rgb(255,255,255);\">in</td><td style=\"background-color: rgb(255,255,255);\">the</td><td style=\"background-color: rgb(255,255,255);\">bathroom</td></tr><tr><td><b>lexical_unit</b></td><td style=\"background-color: rgb(0.0000, 255,0.0000);\">1.0000</td><td style=\"background-color: rgb(255.0000, 255,255.0000);\">0.0000</td><td style=\"background-color: rgb(255.0000, 255,255.0000);\">0.0000</td><td style=\"background-color: rgb(255.0000, 255,255.0000);\">0.0000</td></tr><tr><td><b>attention_intent</b></td><td style=\"background-color: rgb(0.0093, 255,0.0093);\">1.0000</td><td style=\"background-color: rgb(254.9907, 255,254.9907);\">0.0000</td><td style=\"background-color: rgb(255.0000, 255,255.0000);\">0.0000</td><td style=\"background-color: rgb(255.0000, 255,255.0000);\">0.0000</td></tr><tr><td><b>slots_true</b></td><td style=\"background-color: rgb(255,255,255);\">O</td><td style=\"background-color: rgb(255,255,255);\">B-Goal</td><td style=\"background-color: rgb(255,255,255);\">I-Goal</td><td style=\"background-color: rgb(255,255,255);\">I-Goal</td></tr><tr><td><b>slots_pred</b></td><td style=\"background-color: rgb(255,255,255);\">O</td><td style=\"background-color: rgb(255,255,255);\">B-Goal</td><td style=\"background-color: rgb(255,255,255);\">I-Goal</td><td style=\"background-color: rgb(255,255,255);\">I-Goal</td></tr></table>"
      ],
      "text/plain": [
       "<IPython.core.display.HTML object>"
      ]
     },
     "metadata": {},
     "output_type": "display_data"
    },
    {
     "name": "stdout",
     "output_type": "stream",
     "text": [
      "true: Taking pred: Taking\n"
     ]
    },
    {
     "data": {
      "text/html": [
       "<table><tr><td><b>words</b></td><td style=\"background-color: rgb(255,255,255);\">grab</td><td style=\"background-color: rgb(255,255,255);\">the</td><td style=\"background-color: rgb(255,255,255);\">pillow</td><td style=\"background-color: rgb(255,255,255);\">at</td><td style=\"background-color: rgb(255,255,255);\">the</td><td style=\"background-color: rgb(255,255,255);\">left</td><td style=\"background-color: rgb(255,255,255);\">of</td><td style=\"background-color: rgb(255,255,255);\">the</td><td style=\"background-color: rgb(255,255,255);\">couch</td></tr><tr><td><b>lexical_unit</b></td><td style=\"background-color: rgb(0.0000, 255,0.0000);\">1.0000</td><td style=\"background-color: rgb(255.0000, 255,255.0000);\">0.0000</td><td style=\"background-color: rgb(255.0000, 255,255.0000);\">0.0000</td><td style=\"background-color: rgb(255.0000, 255,255.0000);\">0.0000</td><td style=\"background-color: rgb(255.0000, 255,255.0000);\">0.0000</td><td style=\"background-color: rgb(255.0000, 255,255.0000);\">0.0000</td><td style=\"background-color: rgb(255.0000, 255,255.0000);\">0.0000</td><td style=\"background-color: rgb(255.0000, 255,255.0000);\">0.0000</td><td style=\"background-color: rgb(255.0000, 255,255.0000);\">0.0000</td></tr><tr><td><b>attention_intent</b></td><td style=\"background-color: rgb(0.0034, 255,0.0034);\">1.0000</td><td style=\"background-color: rgb(254.9997, 255,254.9997);\">0.0000</td><td style=\"background-color: rgb(254.9970, 255,254.9970);\">0.0000</td><td style=\"background-color: rgb(255.0000, 255,255.0000);\">0.0000</td><td style=\"background-color: rgb(255.0000, 255,255.0000);\">0.0000</td><td style=\"background-color: rgb(254.9998, 255,254.9998);\">0.0000</td><td style=\"background-color: rgb(255.0000, 255,255.0000);\">0.0000</td><td style=\"background-color: rgb(255.0000, 255,255.0000);\">0.0000</td><td style=\"background-color: rgb(255.0000, 255,255.0000);\">0.0000</td></tr><tr><td><b>slots_true</b></td><td style=\"background-color: rgb(255,255,255);\">O</td><td style=\"background-color: rgb(255,255,255);\">B-Theme</td><td style=\"background-color: rgb(255,255,255);\">I-Theme</td><td style=\"background-color: rgb(255,255,255);\">I-Theme</td><td style=\"background-color: rgb(255,255,255);\">I-Theme</td><td style=\"background-color: rgb(255,255,255);\">I-Theme</td><td style=\"background-color: rgb(255,255,255);\">I-Theme</td><td style=\"background-color: rgb(255,255,255);\">I-Theme</td><td style=\"background-color: rgb(255,255,255);\">I-Theme</td></tr><tr><td><b>slots_pred</b></td><td style=\"background-color: rgb(255,255,255);\">O</td><td style=\"background-color: rgb(255,255,255);\">B-Theme</td><td style=\"background-color: rgb(255,255,255);\">I-Theme</td><td style=\"background-color: rgb(255,255,255);\">I-Theme</td><td style=\"background-color: rgb(255,255,255);\">I-Theme</td><td style=\"background-color: rgb(255,255,255);\">I-Theme</td><td style=\"background-color: rgb(255,255,255);\">I-Theme</td><td style=\"background-color: rgb(255,255,255);\">I-Theme</td><td style=\"background-color: rgb(255,255,255);\">I-Theme</td></tr></table>"
      ],
      "text/plain": [
       "<IPython.core.display.HTML object>"
      ]
     },
     "metadata": {},
     "output_type": "display_data"
    },
    {
     "name": "stdout",
     "output_type": "stream",
     "text": [
      "true: Bringing pred: Bringing\n"
     ]
    },
    {
     "data": {
      "text/html": [
       "<table><tr><td><b>words</b></td><td style=\"background-color: rgb(255,255,255);\">carry</td><td style=\"background-color: rgb(255,255,255);\">the</td><td style=\"background-color: rgb(255,255,255);\">mug</td><td style=\"background-color: rgb(255,255,255);\">to</td><td style=\"background-color: rgb(255,255,255);\">the</td><td style=\"background-color: rgb(255,255,255);\">living</td><td style=\"background-color: rgb(255,255,255);\">room</td></tr><tr><td><b>lexical_unit</b></td><td style=\"background-color: rgb(0.0000, 255,0.0000);\">1.0000</td><td style=\"background-color: rgb(255.0000, 255,255.0000);\">0.0000</td><td style=\"background-color: rgb(255.0000, 255,255.0000);\">0.0000</td><td style=\"background-color: rgb(255.0000, 255,255.0000);\">0.0000</td><td style=\"background-color: rgb(255.0000, 255,255.0000);\">0.0000</td><td style=\"background-color: rgb(255.0000, 255,255.0000);\">0.0000</td><td style=\"background-color: rgb(255.0000, 255,255.0000);\">0.0000</td></tr><tr><td><b>attention_intent</b></td><td style=\"background-color: rgb(244.3053, 255,244.3053);\">0.0419</td><td style=\"background-color: rgb(255.0000, 255,255.0000);\">0.0000</td><td style=\"background-color: rgb(254.7919, 255,254.7919);\">0.0008</td><td style=\"background-color: rgb(10.9029, 255,10.9029);\">0.9572</td><td style=\"background-color: rgb(255.0000, 255,255.0000);\">0.0000</td><td style=\"background-color: rgb(255.0000, 255,255.0000);\">0.0000</td><td style=\"background-color: rgb(255.0000, 255,255.0000);\">0.0000</td></tr><tr><td><b>slots_true</b></td><td style=\"background-color: rgb(255,255,255);\">O</td><td style=\"background-color: rgb(255,255,255);\">B-Theme</td><td style=\"background-color: rgb(255,255,255);\">I-Theme</td><td style=\"background-color: rgb(255,255,255);\">B-Goal</td><td style=\"background-color: rgb(255,255,255);\">I-Goal</td><td style=\"background-color: rgb(255,255,255);\">I-Goal</td><td style=\"background-color: rgb(255,255,255);\">I-Goal</td></tr><tr><td><b>slots_pred</b></td><td style=\"background-color: rgb(255,255,255);\">O</td><td style=\"background-color: rgb(255,255,255);\">B-Theme</td><td style=\"background-color: rgb(255,255,255);\">I-Theme</td><td style=\"background-color: rgb(255,255,255);\">B-Goal</td><td style=\"background-color: rgb(255,255,255);\">I-Goal</td><td style=\"background-color: rgb(255,255,255);\">I-Goal</td><td style=\"background-color: rgb(255,255,255);\">I-Goal</td></tr></table>"
      ],
      "text/plain": [
       "<IPython.core.display.HTML object>"
      ]
     },
     "metadata": {},
     "output_type": "display_data"
    },
    {
     "name": "stdout",
     "output_type": "stream",
     "text": [
      "true: Being_located pred: Being_located\n"
     ]
    },
    {
     "data": {
      "text/html": [
       "<table><tr><td><b>words</b></td><td style=\"background-color: rgb(255,255,255);\">it</td><td style=\"background-color: rgb(255,255,255);\">should</td><td style=\"background-color: rgb(255,255,255);\">be</td><td style=\"background-color: rgb(255,255,255);\">on</td><td style=\"background-color: rgb(255,255,255);\">the</td><td style=\"background-color: rgb(255,255,255);\">nightstand</td></tr><tr><td><b>lexical_unit</b></td><td style=\"background-color: rgb(255.0000, 255,255.0000);\">0.0000</td><td style=\"background-color: rgb(255.0000, 255,255.0000);\">0.0000</td><td style=\"background-color: rgb(0.0000, 255,0.0000);\">1.0000</td><td style=\"background-color: rgb(255.0000, 255,255.0000);\">0.0000</td><td style=\"background-color: rgb(255.0000, 255,255.0000);\">0.0000</td><td style=\"background-color: rgb(255.0000, 255,255.0000);\">0.0000</td></tr><tr><td><b>attention_intent</b></td><td style=\"background-color: rgb(255.0000, 255,255.0000);\">0.0000</td><td style=\"background-color: rgb(254.9249, 255,254.9249);\">0.0003</td><td style=\"background-color: rgb(0.9246, 255,0.9246);\">0.9964</td><td style=\"background-color: rgb(254.7517, 255,254.7517);\">0.0010</td><td style=\"background-color: rgb(255.0000, 255,255.0000);\">0.0000</td><td style=\"background-color: rgb(254.3993, 255,254.3993);\">0.0024</td></tr><tr><td><b>slots_true</b></td><td style=\"background-color: rgb(255,255,255);\">B-Theme</td><td style=\"background-color: rgb(255,255,255);\">O</td><td style=\"background-color: rgb(255,255,255);\">O</td><td style=\"background-color: rgb(255,255,255);\">B-Location</td><td style=\"background-color: rgb(255,255,255);\">I-Location</td><td style=\"background-color: rgb(255,255,255);\">I-Location</td></tr><tr><td><b>slots_pred</b></td><td style=\"background-color: rgb(255,255,255);\">B-Theme</td><td style=\"background-color: rgb(255,255,255);\">O</td><td style=\"background-color: rgb(255,255,255);\">O</td><td style=\"background-color: rgb(255,255,255);\">O</td><td style=\"background-color: rgb(255,255,255);\">O</td><td style=\"background-color: rgb(255,255,255);\">O</td></tr></table>"
      ],
      "text/plain": [
       "<IPython.core.display.HTML object>"
      ]
     },
     "metadata": {},
     "output_type": "display_data"
    },
    {
     "name": "stdout",
     "output_type": "stream",
     "text": [
      "true: Searching pred: Searching\n"
     ]
    },
    {
     "data": {
      "text/html": [
       "<table><tr><td><b>words</b></td><td style=\"background-color: rgb(255,255,255);\">search</td><td style=\"background-color: rgb(255,255,255);\">for</td><td style=\"background-color: rgb(255,255,255);\">towel</td></tr><tr><td><b>lexical_unit</b></td><td style=\"background-color: rgb(0.0000, 255,0.0000);\">1.0000</td><td style=\"background-color: rgb(255.0000, 255,255.0000);\">0.0000</td><td style=\"background-color: rgb(255.0000, 255,255.0000);\">0.0000</td></tr><tr><td><b>attention_intent</b></td><td style=\"background-color: rgb(0.0000, 255,0.0000);\">1.0000</td><td style=\"background-color: rgb(255.0000, 255,255.0000);\">0.0000</td><td style=\"background-color: rgb(255.0000, 255,255.0000);\">0.0000</td></tr><tr><td><b>slots_true</b></td><td style=\"background-color: rgb(255,255,255);\">O</td><td style=\"background-color: rgb(255,255,255);\">B-Phenomenon</td><td style=\"background-color: rgb(255,255,255);\">I-Phenomenon</td></tr><tr><td><b>slots_pred</b></td><td style=\"background-color: rgb(255,255,255);\">O</td><td style=\"background-color: rgb(255,255,255);\">B-Phenomenon</td><td style=\"background-color: rgb(255,255,255);\">I-Phenomenon</td></tr></table>"
      ],
      "text/plain": [
       "<IPython.core.display.HTML object>"
      ]
     },
     "metadata": {},
     "output_type": "display_data"
    },
    {
     "name": "stdout",
     "output_type": "stream",
     "text": [
      "true: Being_in_category pred: Being_in_category\n"
     ]
    },
    {
     "data": {
      "text/html": [
       "<table><tr><td><b>words</b></td><td style=\"background-color: rgb(255,255,255);\">this</td><td style=\"background-color: rgb(255,255,255);\">is</td><td style=\"background-color: rgb(255,255,255);\">a</td><td style=\"background-color: rgb(255,255,255);\">table</td><td style=\"background-color: rgb(255,255,255);\">with</td><td style=\"background-color: rgb(255,255,255);\">a</td><td style=\"background-color: rgb(255,255,255);\">glass</td><td style=\"background-color: rgb(255,255,255);\">deck</td></tr><tr><td><b>lexical_unit</b></td><td style=\"background-color: rgb(255.0000, 255,255.0000);\">0.0000</td><td style=\"background-color: rgb(0.0000, 255,0.0000);\">1.0000</td><td style=\"background-color: rgb(255.0000, 255,255.0000);\">0.0000</td><td style=\"background-color: rgb(255.0000, 255,255.0000);\">0.0000</td><td style=\"background-color: rgb(255.0000, 255,255.0000);\">0.0000</td><td style=\"background-color: rgb(255.0000, 255,255.0000);\">0.0000</td><td style=\"background-color: rgb(255.0000, 255,255.0000);\">0.0000</td><td style=\"background-color: rgb(255.0000, 255,255.0000);\">0.0000</td></tr><tr><td><b>attention_intent</b></td><td style=\"background-color: rgb(252.9621, 255,252.9621);\">0.0080</td><td style=\"background-color: rgb(141.5277, 255,141.5277);\">0.4450</td><td style=\"background-color: rgb(254.9405, 255,254.9405);\">0.0002</td><td style=\"background-color: rgb(146.9714, 255,146.9714);\">0.4236</td><td style=\"background-color: rgb(253.6450, 255,253.6450);\">0.0053</td><td style=\"background-color: rgb(254.8588, 255,254.8588);\">0.0006</td><td style=\"background-color: rgb(230.4817, 255,230.4817);\">0.0962</td><td style=\"background-color: rgb(251.8368, 255,251.8368);\">0.0124</td></tr><tr><td><b>slots_true</b></td><td style=\"background-color: rgb(255,255,255);\">B-Item</td><td style=\"background-color: rgb(255,255,255);\">O</td><td style=\"background-color: rgb(255,255,255);\">B-Category</td><td style=\"background-color: rgb(255,255,255);\">I-Category</td><td style=\"background-color: rgb(255,255,255);\">I-Category</td><td style=\"background-color: rgb(255,255,255);\">I-Category</td><td style=\"background-color: rgb(255,255,255);\">I-Category</td><td style=\"background-color: rgb(255,255,255);\">I-Category</td></tr><tr><td><b>slots_pred</b></td><td style=\"background-color: rgb(255,255,255);\">O</td><td style=\"background-color: rgb(255,255,255);\">O</td><td style=\"background-color: rgb(255,255,255);\">B-Category</td><td style=\"background-color: rgb(255,255,255);\">I-Category</td><td style=\"background-color: rgb(255,255,255);\">I-Category</td><td style=\"background-color: rgb(255,255,255);\">I-Category</td><td style=\"background-color: rgb(255,255,255);\">I-Category</td><td style=\"background-color: rgb(255,255,255);\">I-Category</td></tr></table>"
      ],
      "text/plain": [
       "<IPython.core.display.HTML object>"
      ]
     },
     "metadata": {},
     "output_type": "display_data"
    },
    {
     "name": "stdout",
     "output_type": "stream",
     "text": [
      "true: Following pred: Following\n"
     ]
    },
    {
     "data": {
      "text/html": [
       "<table><tr><td><b>words</b></td><td style=\"background-color: rgb(255,255,255);\">robot</td><td style=\"background-color: rgb(255,255,255);\">come</td><td style=\"background-color: rgb(255,255,255);\">with</td><td style=\"background-color: rgb(255,255,255);\">me</td><td style=\"background-color: rgb(255,255,255);\">to</td><td style=\"background-color: rgb(255,255,255);\">the</td><td style=\"background-color: rgb(255,255,255);\">living</td><td style=\"background-color: rgb(255,255,255);\">room</td></tr><tr><td><b>lexical_unit</b></td><td style=\"background-color: rgb(255.0000, 255,255.0000);\">0.0000</td><td style=\"background-color: rgb(0.0000, 255,0.0000);\">1.0000</td><td style=\"background-color: rgb(255.0000, 255,255.0000);\">0.0000</td><td style=\"background-color: rgb(255.0000, 255,255.0000);\">0.0000</td><td style=\"background-color: rgb(255.0000, 255,255.0000);\">0.0000</td><td style=\"background-color: rgb(255.0000, 255,255.0000);\">0.0000</td><td style=\"background-color: rgb(255.0000, 255,255.0000);\">0.0000</td><td style=\"background-color: rgb(255.0000, 255,255.0000);\">0.0000</td></tr><tr><td><b>attention_intent</b></td><td style=\"background-color: rgb(254.9999, 255,254.9999);\">0.0000</td><td style=\"background-color: rgb(0.0708, 255,0.0708);\">0.9997</td><td style=\"background-color: rgb(255.0000, 255,255.0000);\">0.0000</td><td style=\"background-color: rgb(254.9467, 255,254.9467);\">0.0002</td><td style=\"background-color: rgb(254.9828, 255,254.9828);\">0.0001</td><td style=\"background-color: rgb(255.0000, 255,255.0000);\">0.0000</td><td style=\"background-color: rgb(255.0000, 255,255.0000);\">0.0000</td><td style=\"background-color: rgb(255.0000, 255,255.0000);\">0.0000</td></tr><tr><td><b>slots_true</b></td><td style=\"background-color: rgb(255,255,255);\">O</td><td style=\"background-color: rgb(255,255,255);\">O</td><td style=\"background-color: rgb(255,255,255);\">B-Cotheme</td><td style=\"background-color: rgb(255,255,255);\">I-Cotheme</td><td style=\"background-color: rgb(255,255,255);\">B-Goal</td><td style=\"background-color: rgb(255,255,255);\">I-Goal</td><td style=\"background-color: rgb(255,255,255);\">I-Goal</td><td style=\"background-color: rgb(255,255,255);\">I-Goal</td></tr><tr><td><b>slots_pred</b></td><td style=\"background-color: rgb(255,255,255);\">O</td><td style=\"background-color: rgb(255,255,255);\">O</td><td style=\"background-color: rgb(255,255,255);\">B-Cotheme</td><td style=\"background-color: rgb(255,255,255);\">I-Cotheme</td><td style=\"background-color: rgb(255,255,255);\">B-Goal</td><td style=\"background-color: rgb(255,255,255);\">I-Goal</td><td style=\"background-color: rgb(255,255,255);\">I-Goal</td><td style=\"background-color: rgb(255,255,255);\">I-Goal</td></tr></table>"
      ],
      "text/plain": [
       "<IPython.core.display.HTML object>"
      ]
     },
     "metadata": {},
     "output_type": "display_data"
    },
    {
     "name": "stdout",
     "output_type": "stream",
     "text": [
      "true: Bringing pred: Bringing\n"
     ]
    },
    {
     "data": {
      "text/html": [
       "<table><tr><td><b>words</b></td><td style=\"background-color: rgb(255,255,255);\">bring</td><td style=\"background-color: rgb(255,255,255);\">over</td><td style=\"background-color: rgb(255,255,255);\">the</td><td style=\"background-color: rgb(255,255,255);\">gray</td><td style=\"background-color: rgb(255,255,255);\">folder</td></tr><tr><td><b>lexical_unit</b></td><td style=\"background-color: rgb(0.0000, 255,0.0000);\">1.0000</td><td style=\"background-color: rgb(255.0000, 255,255.0000);\">0.0000</td><td style=\"background-color: rgb(255.0000, 255,255.0000);\">0.0000</td><td style=\"background-color: rgb(255.0000, 255,255.0000);\">0.0000</td><td style=\"background-color: rgb(255.0000, 255,255.0000);\">0.0000</td></tr><tr><td><b>attention_intent</b></td><td style=\"background-color: rgb(0.0005, 255,0.0005);\">1.0000</td><td style=\"background-color: rgb(254.9996, 255,254.9996);\">0.0000</td><td style=\"background-color: rgb(255.0000, 255,255.0000);\">0.0000</td><td style=\"background-color: rgb(255.0000, 255,255.0000);\">0.0000</td><td style=\"background-color: rgb(254.9999, 255,254.9999);\">0.0000</td></tr><tr><td><b>slots_true</b></td><td style=\"background-color: rgb(255,255,255);\">O</td><td style=\"background-color: rgb(255,255,255);\">B-Area</td><td style=\"background-color: rgb(255,255,255);\">B-Theme</td><td style=\"background-color: rgb(255,255,255);\">I-Theme</td><td style=\"background-color: rgb(255,255,255);\">I-Theme</td></tr><tr><td><b>slots_pred</b></td><td style=\"background-color: rgb(255,255,255);\">O</td><td style=\"background-color: rgb(255,255,255);\">B-Theme</td><td style=\"background-color: rgb(255,255,255);\">I-Theme</td><td style=\"background-color: rgb(255,255,255);\">I-Theme</td><td style=\"background-color: rgb(255,255,255);\">I-Theme</td></tr></table>"
      ],
      "text/plain": [
       "<IPython.core.display.HTML object>"
      ]
     },
     "metadata": {},
     "output_type": "display_data"
    },
    {
     "name": "stdout",
     "output_type": "stream",
     "text": [
      "true: Taking pred: Taking\n"
     ]
    },
    {
     "data": {
      "text/html": [
       "<table><tr><td><b>words</b></td><td style=\"background-color: rgb(255,255,255);\">take</td><td style=\"background-color: rgb(255,255,255);\">the</td><td style=\"background-color: rgb(255,255,255);\">bottle</td><td style=\"background-color: rgb(255,255,255);\">near</td><td style=\"background-color: rgb(255,255,255);\">the</td><td style=\"background-color: rgb(255,255,255);\">fridge</td></tr><tr><td><b>lexical_unit</b></td><td style=\"background-color: rgb(0.0000, 255,0.0000);\">1.0000</td><td style=\"background-color: rgb(255.0000, 255,255.0000);\">0.0000</td><td style=\"background-color: rgb(255.0000, 255,255.0000);\">0.0000</td><td style=\"background-color: rgb(255.0000, 255,255.0000);\">0.0000</td><td style=\"background-color: rgb(255.0000, 255,255.0000);\">0.0000</td><td style=\"background-color: rgb(255.0000, 255,255.0000);\">0.0000</td></tr><tr><td><b>attention_intent</b></td><td style=\"background-color: rgb(0.5834, 255,0.5834);\">0.9977</td><td style=\"background-color: rgb(254.9721, 255,254.9721);\">0.0001</td><td style=\"background-color: rgb(254.5608, 255,254.5608);\">0.0017</td><td style=\"background-color: rgb(254.8838, 255,254.8838);\">0.0005</td><td style=\"background-color: rgb(255.0000, 255,255.0000);\">0.0000</td><td style=\"background-color: rgb(255.0000, 255,255.0000);\">0.0000</td></tr><tr><td><b>slots_true</b></td><td style=\"background-color: rgb(255,255,255);\">O</td><td style=\"background-color: rgb(255,255,255);\">B-Theme</td><td style=\"background-color: rgb(255,255,255);\">I-Theme</td><td style=\"background-color: rgb(255,255,255);\">I-Theme</td><td style=\"background-color: rgb(255,255,255);\">I-Theme</td><td style=\"background-color: rgb(255,255,255);\">I-Theme</td></tr><tr><td><b>slots_pred</b></td><td style=\"background-color: rgb(255,255,255);\">O</td><td style=\"background-color: rgb(255,255,255);\">B-Theme</td><td style=\"background-color: rgb(255,255,255);\">I-Theme</td><td style=\"background-color: rgb(255,255,255);\">B-Theme</td><td style=\"background-color: rgb(255,255,255);\">I-Theme</td><td style=\"background-color: rgb(255,255,255);\">I-Theme</td></tr></table>"
      ],
      "text/plain": [
       "<IPython.core.display.HTML object>"
      ]
     },
     "metadata": {},
     "output_type": "display_data"
    },
    {
     "name": "stdout",
     "output_type": "stream",
     "text": [
      "true: Searching pred: Searching\n"
     ]
    },
    {
     "data": {
      "text/html": [
       "<table><tr><td><b>words</b></td><td style=\"background-color: rgb(255,255,255);\">find</td><td style=\"background-color: rgb(255,255,255);\">the</td><td style=\"background-color: rgb(255,255,255);\">glasses</td><td style=\"background-color: rgb(255,255,255);\">on</td><td style=\"background-color: rgb(255,255,255);\">the</td><td style=\"background-color: rgb(255,255,255);\">table</td></tr><tr><td><b>lexical_unit</b></td><td style=\"background-color: rgb(0.0000, 255,0.0000);\">1.0000</td><td style=\"background-color: rgb(255.0000, 255,255.0000);\">0.0000</td><td style=\"background-color: rgb(255.0000, 255,255.0000);\">0.0000</td><td style=\"background-color: rgb(255.0000, 255,255.0000);\">0.0000</td><td style=\"background-color: rgb(255.0000, 255,255.0000);\">0.0000</td><td style=\"background-color: rgb(255.0000, 255,255.0000);\">0.0000</td></tr><tr><td><b>attention_intent</b></td><td style=\"background-color: rgb(0.0009, 255,0.0009);\">1.0000</td><td style=\"background-color: rgb(255.0000, 255,255.0000);\">0.0000</td><td style=\"background-color: rgb(254.9992, 255,254.9992);\">0.0000</td><td style=\"background-color: rgb(254.9999, 255,254.9999);\">0.0000</td><td style=\"background-color: rgb(255.0000, 255,255.0000);\">0.0000</td><td style=\"background-color: rgb(255.0000, 255,255.0000);\">0.0000</td></tr><tr><td><b>slots_true</b></td><td style=\"background-color: rgb(255,255,255);\">O</td><td style=\"background-color: rgb(255,255,255);\">B-Phenomenon</td><td style=\"background-color: rgb(255,255,255);\">I-Phenomenon</td><td style=\"background-color: rgb(255,255,255);\">B-Ground</td><td style=\"background-color: rgb(255,255,255);\">I-Ground</td><td style=\"background-color: rgb(255,255,255);\">I-Ground</td></tr><tr><td><b>slots_pred</b></td><td style=\"background-color: rgb(255,255,255);\">O</td><td style=\"background-color: rgb(255,255,255);\">B-Phenomenon</td><td style=\"background-color: rgb(255,255,255);\">I-Phenomenon</td><td style=\"background-color: rgb(255,255,255);\">B-Ground</td><td style=\"background-color: rgb(255,255,255);\">I-Ground</td><td style=\"background-color: rgb(255,255,255);\">I-Ground</td></tr></table>"
      ],
      "text/plain": [
       "<IPython.core.display.HTML object>"
      ]
     },
     "metadata": {},
     "output_type": "display_data"
    },
    {
     "name": "stdout",
     "output_type": "stream",
     "text": [
      "true: Change_operational_state pred: Change_operational_state\n"
     ]
    },
    {
     "data": {
      "text/html": [
       "<table><tr><td><b>words</b></td><td style=\"background-color: rgb(255,255,255);\">activate</td><td style=\"background-color: rgb(255,255,255);\">the</td><td style=\"background-color: rgb(255,255,255);\">television</td></tr><tr><td><b>lexical_unit</b></td><td style=\"background-color: rgb(0.0000, 255,0.0000);\">1.0000</td><td style=\"background-color: rgb(255.0000, 255,255.0000);\">0.0000</td><td style=\"background-color: rgb(255.0000, 255,255.0000);\">0.0000</td></tr><tr><td><b>attention_intent</b></td><td style=\"background-color: rgb(0.0000, 255,0.0000);\">1.0000</td><td style=\"background-color: rgb(255.0000, 255,255.0000);\">0.0000</td><td style=\"background-color: rgb(255.0000, 255,255.0000);\">0.0000</td></tr><tr><td><b>slots_true</b></td><td style=\"background-color: rgb(255,255,255);\">O</td><td style=\"background-color: rgb(255,255,255);\">B-Device</td><td style=\"background-color: rgb(255,255,255);\">I-Device</td></tr><tr><td><b>slots_pred</b></td><td style=\"background-color: rgb(255,255,255);\">O</td><td style=\"background-color: rgb(255,255,255);\">B-Device</td><td style=\"background-color: rgb(255,255,255);\">I-Device</td></tr></table>"
      ],
      "text/plain": [
       "<IPython.core.display.HTML object>"
      ]
     },
     "metadata": {},
     "output_type": "display_data"
    },
    {
     "name": "stdout",
     "output_type": "stream",
     "text": [
      "true: Bringing pred: Bringing\n"
     ]
    },
    {
     "data": {
      "text/html": [
       "<table><tr><td><b>words</b></td><td style=\"background-color: rgb(255,255,255);\">take</td><td style=\"background-color: rgb(255,255,255);\">the</td><td style=\"background-color: rgb(255,255,255);\">jar</td><td style=\"background-color: rgb(255,255,255);\">to</td><td style=\"background-color: rgb(255,255,255);\">the</td><td style=\"background-color: rgb(255,255,255);\">table</td><td style=\"background-color: rgb(255,255,255);\">of</td><td style=\"background-color: rgb(255,255,255);\">the</td><td style=\"background-color: rgb(255,255,255);\">kitchen</td></tr><tr><td><b>lexical_unit</b></td><td style=\"background-color: rgb(0.0000, 255,0.0000);\">1.0000</td><td style=\"background-color: rgb(255.0000, 255,255.0000);\">0.0000</td><td style=\"background-color: rgb(255.0000, 255,255.0000);\">0.0000</td><td style=\"background-color: rgb(255.0000, 255,255.0000);\">0.0000</td><td style=\"background-color: rgb(255.0000, 255,255.0000);\">0.0000</td><td style=\"background-color: rgb(255.0000, 255,255.0000);\">0.0000</td><td style=\"background-color: rgb(255.0000, 255,255.0000);\">0.0000</td><td style=\"background-color: rgb(255.0000, 255,255.0000);\">0.0000</td><td style=\"background-color: rgb(255.0000, 255,255.0000);\">0.0000</td></tr><tr><td><b>attention_intent</b></td><td style=\"background-color: rgb(228.6025, 255,228.6025);\">0.1035</td><td style=\"background-color: rgb(254.9411, 255,254.9411);\">0.0002</td><td style=\"background-color: rgb(254.1061, 255,254.1061);\">0.0035</td><td style=\"background-color: rgb(27.3505, 255,27.3505);\">0.8927</td><td style=\"background-color: rgb(255.0000, 255,255.0000);\">0.0000</td><td style=\"background-color: rgb(254.9999, 255,254.9999);\">0.0000</td><td style=\"background-color: rgb(255.0000, 255,255.0000);\">0.0000</td><td style=\"background-color: rgb(255.0000, 255,255.0000);\">0.0000</td><td style=\"background-color: rgb(255.0000, 255,255.0000);\">0.0000</td></tr><tr><td><b>slots_true</b></td><td style=\"background-color: rgb(255,255,255);\">O</td><td style=\"background-color: rgb(255,255,255);\">B-Theme</td><td style=\"background-color: rgb(255,255,255);\">I-Theme</td><td style=\"background-color: rgb(255,255,255);\">B-Goal</td><td style=\"background-color: rgb(255,255,255);\">I-Goal</td><td style=\"background-color: rgb(255,255,255);\">I-Goal</td><td style=\"background-color: rgb(255,255,255);\">I-Goal</td><td style=\"background-color: rgb(255,255,255);\">I-Goal</td><td style=\"background-color: rgb(255,255,255);\">I-Goal</td></tr><tr><td><b>slots_pred</b></td><td style=\"background-color: rgb(255,255,255);\">O</td><td style=\"background-color: rgb(255,255,255);\">B-Theme</td><td style=\"background-color: rgb(255,255,255);\">I-Theme</td><td style=\"background-color: rgb(255,255,255);\">B-Goal</td><td style=\"background-color: rgb(255,255,255);\">I-Goal</td><td style=\"background-color: rgb(255,255,255);\">I-Goal</td><td style=\"background-color: rgb(255,255,255);\">I-Goal</td><td style=\"background-color: rgb(255,255,255);\">I-Goal</td><td style=\"background-color: rgb(255,255,255);\">I-Goal</td></tr></table>"
      ],
      "text/plain": [
       "<IPython.core.display.HTML object>"
      ]
     },
     "metadata": {},
     "output_type": "display_data"
    },
    {
     "name": "stdout",
     "output_type": "stream",
     "text": [
      "true: Motion pred: Motion\n"
     ]
    },
    {
     "data": {
      "text/html": [
       "<table><tr><td><b>words</b></td><td style=\"background-color: rgb(255,255,255);\">go</td><td style=\"background-color: rgb(255,255,255);\">into</td><td style=\"background-color: rgb(255,255,255);\">the</td><td style=\"background-color: rgb(255,255,255);\">bathroom</td></tr><tr><td><b>lexical_unit</b></td><td style=\"background-color: rgb(0.0000, 255,0.0000);\">1.0000</td><td style=\"background-color: rgb(255.0000, 255,255.0000);\">0.0000</td><td style=\"background-color: rgb(255.0000, 255,255.0000);\">0.0000</td><td style=\"background-color: rgb(255.0000, 255,255.0000);\">0.0000</td></tr><tr><td><b>attention_intent</b></td><td style=\"background-color: rgb(9.4136, 255,9.4136);\">0.9631</td><td style=\"background-color: rgb(245.5864, 255,245.5864);\">0.0369</td><td style=\"background-color: rgb(255.0000, 255,255.0000);\">0.0000</td><td style=\"background-color: rgb(255.0000, 255,255.0000);\">0.0000</td></tr><tr><td><b>slots_true</b></td><td style=\"background-color: rgb(255,255,255);\">O</td><td style=\"background-color: rgb(255,255,255);\">B-Goal</td><td style=\"background-color: rgb(255,255,255);\">I-Goal</td><td style=\"background-color: rgb(255,255,255);\">I-Goal</td></tr><tr><td><b>slots_pred</b></td><td style=\"background-color: rgb(255,255,255);\">O</td><td style=\"background-color: rgb(255,255,255);\">B-Goal</td><td style=\"background-color: rgb(255,255,255);\">I-Goal</td><td style=\"background-color: rgb(255,255,255);\">I-Goal</td></tr></table>"
      ],
      "text/plain": [
       "<IPython.core.display.HTML object>"
      ]
     },
     "metadata": {},
     "output_type": "display_data"
    },
    {
     "name": "stdout",
     "output_type": "stream",
     "text": [
      "true: Searching pred: Searching\n"
     ]
    },
    {
     "data": {
      "text/html": [
       "<table><tr><td><b>words</b></td><td style=\"background-color: rgb(255,255,255);\">and</td><td style=\"background-color: rgb(255,255,255);\">search</td><td style=\"background-color: rgb(255,255,255);\">for</td><td style=\"background-color: rgb(255,255,255);\">my</td><td style=\"background-color: rgb(255,255,255);\">hat</td></tr><tr><td><b>lexical_unit</b></td><td style=\"background-color: rgb(255.0000, 255,255.0000);\">0.0000</td><td style=\"background-color: rgb(0.0000, 255,0.0000);\">1.0000</td><td style=\"background-color: rgb(255.0000, 255,255.0000);\">0.0000</td><td style=\"background-color: rgb(255.0000, 255,255.0000);\">0.0000</td><td style=\"background-color: rgb(255.0000, 255,255.0000);\">0.0000</td></tr><tr><td><b>attention_intent</b></td><td style=\"background-color: rgb(255.0000, 255,255.0000);\">0.0000</td><td style=\"background-color: rgb(0.0000, 255,0.0000);\">1.0000</td><td style=\"background-color: rgb(255.0000, 255,255.0000);\">0.0000</td><td style=\"background-color: rgb(255.0000, 255,255.0000);\">0.0000</td><td style=\"background-color: rgb(255.0000, 255,255.0000);\">0.0000</td></tr><tr><td><b>slots_true</b></td><td style=\"background-color: rgb(255,255,255);\">O</td><td style=\"background-color: rgb(255,255,255);\">O</td><td style=\"background-color: rgb(255,255,255);\">B-Phenomenon</td><td style=\"background-color: rgb(255,255,255);\">I-Phenomenon</td><td style=\"background-color: rgb(255,255,255);\">I-Phenomenon</td></tr><tr><td><b>slots_pred</b></td><td style=\"background-color: rgb(255,255,255);\">O</td><td style=\"background-color: rgb(255,255,255);\">O</td><td style=\"background-color: rgb(255,255,255);\">B-Phenomenon</td><td style=\"background-color: rgb(255,255,255);\">I-Phenomenon</td><td style=\"background-color: rgb(255,255,255);\">I-Phenomenon</td></tr></table>"
      ],
      "text/plain": [
       "<IPython.core.display.HTML object>"
      ]
     },
     "metadata": {},
     "output_type": "display_data"
    },
    {
     "name": "stdout",
     "output_type": "stream",
     "text": [
      "true: Following pred: Following\n"
     ]
    },
    {
     "data": {
      "text/html": [
       "<table><tr><td><b>words</b></td><td style=\"background-color: rgb(255,255,255);\">and</td><td style=\"background-color: rgb(255,255,255);\">follow</td><td style=\"background-color: rgb(255,255,255);\">the</td><td style=\"background-color: rgb(255,255,255);\">skinny</td><td style=\"background-color: rgb(255,255,255);\">person</td></tr><tr><td><b>lexical_unit</b></td><td style=\"background-color: rgb(255.0000, 255,255.0000);\">0.0000</td><td style=\"background-color: rgb(0.0000, 255,0.0000);\">1.0000</td><td style=\"background-color: rgb(255.0000, 255,255.0000);\">0.0000</td><td style=\"background-color: rgb(255.0000, 255,255.0000);\">0.0000</td><td style=\"background-color: rgb(255.0000, 255,255.0000);\">0.0000</td></tr><tr><td><b>attention_intent</b></td><td style=\"background-color: rgb(255.0000, 255,255.0000);\">0.0000</td><td style=\"background-color: rgb(0.0000, 255,0.0000);\">1.0000</td><td style=\"background-color: rgb(255.0000, 255,255.0000);\">0.0000</td><td style=\"background-color: rgb(255.0000, 255,255.0000);\">0.0000</td><td style=\"background-color: rgb(255.0000, 255,255.0000);\">0.0000</td></tr><tr><td><b>slots_true</b></td><td style=\"background-color: rgb(255,255,255);\">O</td><td style=\"background-color: rgb(255,255,255);\">O</td><td style=\"background-color: rgb(255,255,255);\">B-Cotheme</td><td style=\"background-color: rgb(255,255,255);\">I-Cotheme</td><td style=\"background-color: rgb(255,255,255);\">I-Cotheme</td></tr><tr><td><b>slots_pred</b></td><td style=\"background-color: rgb(255,255,255);\">O</td><td style=\"background-color: rgb(255,255,255);\">O</td><td style=\"background-color: rgb(255,255,255);\">B-Cotheme</td><td style=\"background-color: rgb(255,255,255);\">I-Cotheme</td><td style=\"background-color: rgb(255,255,255);\">I-Cotheme</td></tr></table>"
      ],
      "text/plain": [
       "<IPython.core.display.HTML object>"
      ]
     },
     "metadata": {},
     "output_type": "display_data"
    },
    {
     "name": "stdout",
     "output_type": "stream",
     "text": [
      "true: Motion pred: Motion\n"
     ]
    },
    {
     "data": {
      "text/html": [
       "<table><tr><td><b>words</b></td><td style=\"background-color: rgb(255,255,255);\">could</td><td style=\"background-color: rgb(255,255,255);\">you</td><td style=\"background-color: rgb(255,255,255);\">please</td><td style=\"background-color: rgb(255,255,255);\">move</td><td style=\"background-color: rgb(255,255,255);\">to</td><td style=\"background-color: rgb(255,255,255);\">the</td><td style=\"background-color: rgb(255,255,255);\">sink</td></tr><tr><td><b>lexical_unit</b></td><td style=\"background-color: rgb(255.0000, 255,255.0000);\">0.0000</td><td style=\"background-color: rgb(255.0000, 255,255.0000);\">0.0000</td><td style=\"background-color: rgb(255.0000, 255,255.0000);\">0.0000</td><td style=\"background-color: rgb(0.0000, 255,0.0000);\">1.0000</td><td style=\"background-color: rgb(255.0000, 255,255.0000);\">0.0000</td><td style=\"background-color: rgb(255.0000, 255,255.0000);\">0.0000</td><td style=\"background-color: rgb(255.0000, 255,255.0000);\">0.0000</td></tr><tr><td><b>attention_intent</b></td><td style=\"background-color: rgb(254.9905, 255,254.9905);\">0.0000</td><td style=\"background-color: rgb(254.9997, 255,254.9997);\">0.0000</td><td style=\"background-color: rgb(254.9564, 255,254.9564);\">0.0002</td><td style=\"background-color: rgb(0.0559, 255,0.0559);\">0.9998</td><td style=\"background-color: rgb(254.9976, 255,254.9976);\">0.0000</td><td style=\"background-color: rgb(255.0000, 255,255.0000);\">0.0000</td><td style=\"background-color: rgb(255.0000, 255,255.0000);\">0.0000</td></tr><tr><td><b>slots_true</b></td><td style=\"background-color: rgb(255,255,255);\">O</td><td style=\"background-color: rgb(255,255,255);\">B-Theme</td><td style=\"background-color: rgb(255,255,255);\">O</td><td style=\"background-color: rgb(255,255,255);\">O</td><td style=\"background-color: rgb(255,255,255);\">B-Goal</td><td style=\"background-color: rgb(255,255,255);\">I-Goal</td><td style=\"background-color: rgb(255,255,255);\">I-Goal</td></tr><tr><td><b>slots_pred</b></td><td style=\"background-color: rgb(255,255,255);\">O</td><td style=\"background-color: rgb(255,255,255);\">B-Theme</td><td style=\"background-color: rgb(255,255,255);\">O</td><td style=\"background-color: rgb(255,255,255);\">O</td><td style=\"background-color: rgb(255,255,255);\">B-Goal</td><td style=\"background-color: rgb(255,255,255);\">I-Goal</td><td style=\"background-color: rgb(255,255,255);\">I-Goal</td></tr></table>"
      ],
      "text/plain": [
       "<IPython.core.display.HTML object>"
      ]
     },
     "metadata": {},
     "output_type": "display_data"
    },
    {
     "name": "stdout",
     "output_type": "stream",
     "text": [
      "true: Bringing pred: Bringing\n"
     ]
    },
    {
     "data": {
      "text/html": [
       "<table><tr><td><b>words</b></td><td style=\"background-color: rgb(255,255,255);\">can</td><td style=\"background-color: rgb(255,255,255);\">you</td><td style=\"background-color: rgb(255,255,255);\">bring</td><td style=\"background-color: rgb(255,255,255);\">me</td><td style=\"background-color: rgb(255,255,255);\">the</td><td style=\"background-color: rgb(255,255,255);\">coke</td><td style=\"background-color: rgb(255,255,255);\">from</td><td style=\"background-color: rgb(255,255,255);\">the</td><td style=\"background-color: rgb(255,255,255);\">fridge</td></tr><tr><td><b>lexical_unit</b></td><td style=\"background-color: rgb(255.0000, 255,255.0000);\">0.0000</td><td style=\"background-color: rgb(255.0000, 255,255.0000);\">0.0000</td><td style=\"background-color: rgb(0.0000, 255,0.0000);\">1.0000</td><td style=\"background-color: rgb(255.0000, 255,255.0000);\">0.0000</td><td style=\"background-color: rgb(255.0000, 255,255.0000);\">0.0000</td><td style=\"background-color: rgb(255.0000, 255,255.0000);\">0.0000</td><td style=\"background-color: rgb(255.0000, 255,255.0000);\">0.0000</td><td style=\"background-color: rgb(255.0000, 255,255.0000);\">0.0000</td><td style=\"background-color: rgb(255.0000, 255,255.0000);\">0.0000</td></tr><tr><td><b>attention_intent</b></td><td style=\"background-color: rgb(254.9997, 255,254.9997);\">0.0000</td><td style=\"background-color: rgb(254.9961, 255,254.9961);\">0.0000</td><td style=\"background-color: rgb(123.3462, 255,123.3462);\">0.5163</td><td style=\"background-color: rgb(131.7224, 255,131.7224);\">0.4834</td><td style=\"background-color: rgb(255.0000, 255,255.0000);\">0.0000</td><td style=\"background-color: rgb(254.9357, 255,254.9357);\">0.0003</td><td style=\"background-color: rgb(254.9999, 255,254.9999);\">0.0000</td><td style=\"background-color: rgb(255.0000, 255,255.0000);\">0.0000</td><td style=\"background-color: rgb(255.0000, 255,255.0000);\">0.0000</td></tr><tr><td><b>slots_true</b></td><td style=\"background-color: rgb(255,255,255);\">O</td><td style=\"background-color: rgb(255,255,255);\">B-Agent</td><td style=\"background-color: rgb(255,255,255);\">O</td><td style=\"background-color: rgb(255,255,255);\">B-Beneficiary</td><td style=\"background-color: rgb(255,255,255);\">B-Theme</td><td style=\"background-color: rgb(255,255,255);\">I-Theme</td><td style=\"background-color: rgb(255,255,255);\">B-Source</td><td style=\"background-color: rgb(255,255,255);\">I-Source</td><td style=\"background-color: rgb(255,255,255);\">I-Source</td></tr><tr><td><b>slots_pred</b></td><td style=\"background-color: rgb(255,255,255);\">O</td><td style=\"background-color: rgb(255,255,255);\">B-Agent</td><td style=\"background-color: rgb(255,255,255);\">O</td><td style=\"background-color: rgb(255,255,255);\">B-Beneficiary</td><td style=\"background-color: rgb(255,255,255);\">B-Theme</td><td style=\"background-color: rgb(255,255,255);\">I-Theme</td><td style=\"background-color: rgb(255,255,255);\">B-Source</td><td style=\"background-color: rgb(255,255,255);\">I-Source</td><td style=\"background-color: rgb(255,255,255);\">I-Source</td></tr></table>"
      ],
      "text/plain": [
       "<IPython.core.display.HTML object>"
      ]
     },
     "metadata": {},
     "output_type": "display_data"
    },
    {
     "name": "stdout",
     "output_type": "stream",
     "text": [
      "true: Placing pred: Placing\n"
     ]
    },
    {
     "data": {
      "text/html": [
       "<table><tr><td><b>words</b></td><td style=\"background-color: rgb(255,255,255);\">put</td><td style=\"background-color: rgb(255,255,255);\">the</td><td style=\"background-color: rgb(255,255,255);\">mug</td><td style=\"background-color: rgb(255,255,255);\">in</td><td style=\"background-color: rgb(255,255,255);\">the</td><td style=\"background-color: rgb(255,255,255);\">living</td><td style=\"background-color: rgb(255,255,255);\">room</td></tr><tr><td><b>lexical_unit</b></td><td style=\"background-color: rgb(0.0000, 255,0.0000);\">1.0000</td><td style=\"background-color: rgb(255.0000, 255,255.0000);\">0.0000</td><td style=\"background-color: rgb(255.0000, 255,255.0000);\">0.0000</td><td style=\"background-color: rgb(255.0000, 255,255.0000);\">0.0000</td><td style=\"background-color: rgb(255.0000, 255,255.0000);\">0.0000</td><td style=\"background-color: rgb(255.0000, 255,255.0000);\">0.0000</td><td style=\"background-color: rgb(255.0000, 255,255.0000);\">0.0000</td></tr><tr><td><b>attention_intent</b></td><td style=\"background-color: rgb(0.0123, 255,0.0123);\">1.0000</td><td style=\"background-color: rgb(255.0000, 255,255.0000);\">0.0000</td><td style=\"background-color: rgb(254.9880, 255,254.9880);\">0.0000</td><td style=\"background-color: rgb(254.9997, 255,254.9997);\">0.0000</td><td style=\"background-color: rgb(255.0000, 255,255.0000);\">0.0000</td><td style=\"background-color: rgb(255.0000, 255,255.0000);\">0.0000</td><td style=\"background-color: rgb(255.0000, 255,255.0000);\">0.0000</td></tr><tr><td><b>slots_true</b></td><td style=\"background-color: rgb(255,255,255);\">O</td><td style=\"background-color: rgb(255,255,255);\">B-Theme</td><td style=\"background-color: rgb(255,255,255);\">I-Theme</td><td style=\"background-color: rgb(255,255,255);\">B-Goal</td><td style=\"background-color: rgb(255,255,255);\">I-Goal</td><td style=\"background-color: rgb(255,255,255);\">I-Goal</td><td style=\"background-color: rgb(255,255,255);\">I-Goal</td></tr><tr><td><b>slots_pred</b></td><td style=\"background-color: rgb(255,255,255);\">O</td><td style=\"background-color: rgb(255,255,255);\">B-Theme</td><td style=\"background-color: rgb(255,255,255);\">I-Theme</td><td style=\"background-color: rgb(255,255,255);\">B-Goal</td><td style=\"background-color: rgb(255,255,255);\">I-Goal</td><td style=\"background-color: rgb(255,255,255);\">I-Goal</td><td style=\"background-color: rgb(255,255,255);\">I-Goal</td></tr></table>"
      ],
      "text/plain": [
       "<IPython.core.display.HTML object>"
      ]
     },
     "metadata": {},
     "output_type": "display_data"
    },
    {
     "name": "stdout",
     "output_type": "stream",
     "text": [
      "true: Following pred: Following\n"
     ]
    },
    {
     "data": {
      "text/html": [
       "<table><tr><td><b>words</b></td><td style=\"background-color: rgb(255,255,255);\">would</td><td style=\"background-color: rgb(255,255,255);\">you</td><td style=\"background-color: rgb(255,255,255);\">please</td><td style=\"background-color: rgb(255,255,255);\">follow</td><td style=\"background-color: rgb(255,255,255);\">me</td><td style=\"background-color: rgb(255,255,255);\">to</td><td style=\"background-color: rgb(255,255,255);\">the</td><td style=\"background-color: rgb(255,255,255);\">kitchen</td></tr><tr><td><b>lexical_unit</b></td><td style=\"background-color: rgb(255.0000, 255,255.0000);\">0.0000</td><td style=\"background-color: rgb(255.0000, 255,255.0000);\">0.0000</td><td style=\"background-color: rgb(255.0000, 255,255.0000);\">0.0000</td><td style=\"background-color: rgb(0.0000, 255,0.0000);\">1.0000</td><td style=\"background-color: rgb(255.0000, 255,255.0000);\">0.0000</td><td style=\"background-color: rgb(255.0000, 255,255.0000);\">0.0000</td><td style=\"background-color: rgb(255.0000, 255,255.0000);\">0.0000</td><td style=\"background-color: rgb(255.0000, 255,255.0000);\">0.0000</td></tr><tr><td><b>attention_intent</b></td><td style=\"background-color: rgb(254.9998, 255,254.9998);\">0.0000</td><td style=\"background-color: rgb(255.0000, 255,255.0000);\">0.0000</td><td style=\"background-color: rgb(254.9966, 255,254.9966);\">0.0000</td><td style=\"background-color: rgb(0.0728, 255,0.0728);\">0.9997</td><td style=\"background-color: rgb(254.9326, 255,254.9326);\">0.0003</td><td style=\"background-color: rgb(254.9982, 255,254.9982);\">0.0000</td><td style=\"background-color: rgb(255.0000, 255,255.0000);\">0.0000</td><td style=\"background-color: rgb(255.0000, 255,255.0000);\">0.0000</td></tr><tr><td><b>slots_true</b></td><td style=\"background-color: rgb(255,255,255);\">O</td><td style=\"background-color: rgb(255,255,255);\">B-Theme</td><td style=\"background-color: rgb(255,255,255);\">O</td><td style=\"background-color: rgb(255,255,255);\">O</td><td style=\"background-color: rgb(255,255,255);\">B-Cotheme</td><td style=\"background-color: rgb(255,255,255);\">B-Goal</td><td style=\"background-color: rgb(255,255,255);\">I-Goal</td><td style=\"background-color: rgb(255,255,255);\">I-Goal</td></tr><tr><td><b>slots_pred</b></td><td style=\"background-color: rgb(255,255,255);\">O</td><td style=\"background-color: rgb(255,255,255);\">B-Theme</td><td style=\"background-color: rgb(255,255,255);\">O</td><td style=\"background-color: rgb(255,255,255);\">O</td><td style=\"background-color: rgb(255,255,255);\">B-Cotheme</td><td style=\"background-color: rgb(255,255,255);\">B-Goal</td><td style=\"background-color: rgb(255,255,255);\">I-Goal</td><td style=\"background-color: rgb(255,255,255);\">I-Goal</td></tr></table>"
      ],
      "text/plain": [
       "<IPython.core.display.HTML object>"
      ]
     },
     "metadata": {},
     "output_type": "display_data"
    },
    {
     "name": "stdout",
     "output_type": "stream",
     "text": [
      "true: Placing pred: Placing\n"
     ]
    },
    {
     "data": {
      "text/html": [
       "<table><tr><td><b>words</b></td><td style=\"background-color: rgb(255,255,255);\">put</td><td style=\"background-color: rgb(255,255,255);\">this</td><td style=\"background-color: rgb(255,255,255);\">pan</td><td style=\"background-color: rgb(255,255,255);\">on</td><td style=\"background-color: rgb(255,255,255);\">the</td><td style=\"background-color: rgb(255,255,255);\">stove</td></tr><tr><td><b>lexical_unit</b></td><td style=\"background-color: rgb(0.0000, 255,0.0000);\">1.0000</td><td style=\"background-color: rgb(255.0000, 255,255.0000);\">0.0000</td><td style=\"background-color: rgb(255.0000, 255,255.0000);\">0.0000</td><td style=\"background-color: rgb(255.0000, 255,255.0000);\">0.0000</td><td style=\"background-color: rgb(255.0000, 255,255.0000);\">0.0000</td><td style=\"background-color: rgb(255.0000, 255,255.0000);\">0.0000</td></tr><tr><td><b>attention_intent</b></td><td style=\"background-color: rgb(0.0107, 255,0.0107);\">1.0000</td><td style=\"background-color: rgb(254.9968, 255,254.9968);\">0.0000</td><td style=\"background-color: rgb(254.9927, 255,254.9927);\">0.0000</td><td style=\"background-color: rgb(254.9998, 255,254.9998);\">0.0000</td><td style=\"background-color: rgb(255.0000, 255,255.0000);\">0.0000</td><td style=\"background-color: rgb(255.0000, 255,255.0000);\">0.0000</td></tr><tr><td><b>slots_true</b></td><td style=\"background-color: rgb(255,255,255);\">O</td><td style=\"background-color: rgb(255,255,255);\">B-Theme</td><td style=\"background-color: rgb(255,255,255);\">I-Theme</td><td style=\"background-color: rgb(255,255,255);\">B-Goal</td><td style=\"background-color: rgb(255,255,255);\">I-Goal</td><td style=\"background-color: rgb(255,255,255);\">I-Goal</td></tr><tr><td><b>slots_pred</b></td><td style=\"background-color: rgb(255,255,255);\">O</td><td style=\"background-color: rgb(255,255,255);\">B-Theme</td><td style=\"background-color: rgb(255,255,255);\">I-Theme</td><td style=\"background-color: rgb(255,255,255);\">B-Goal</td><td style=\"background-color: rgb(255,255,255);\">I-Goal</td><td style=\"background-color: rgb(255,255,255);\">I-Goal</td></tr></table>"
      ],
      "text/plain": [
       "<IPython.core.display.HTML object>"
      ]
     },
     "metadata": {},
     "output_type": "display_data"
    },
    {
     "name": "stdout",
     "output_type": "stream",
     "text": [
      "true: Taking pred: Taking\n"
     ]
    },
    {
     "data": {
      "text/html": [
       "<table><tr><td><b>words</b></td><td style=\"background-color: rgb(255,255,255);\">could</td><td style=\"background-color: rgb(255,255,255);\">you</td><td style=\"background-color: rgb(255,255,255);\">take</td><td style=\"background-color: rgb(255,255,255);\">the</td><td style=\"background-color: rgb(255,255,255);\">knife</td><td style=\"background-color: rgb(255,255,255);\">on</td><td style=\"background-color: rgb(255,255,255);\">the</td><td style=\"background-color: rgb(255,255,255);\">cutting</td><td style=\"background-color: rgb(255,255,255);\">board</td></tr><tr><td><b>lexical_unit</b></td><td style=\"background-color: rgb(255.0000, 255,255.0000);\">0.0000</td><td style=\"background-color: rgb(255.0000, 255,255.0000);\">0.0000</td><td style=\"background-color: rgb(0.0000, 255,0.0000);\">1.0000</td><td style=\"background-color: rgb(255.0000, 255,255.0000);\">0.0000</td><td style=\"background-color: rgb(255.0000, 255,255.0000);\">0.0000</td><td style=\"background-color: rgb(255.0000, 255,255.0000);\">0.0000</td><td style=\"background-color: rgb(255.0000, 255,255.0000);\">0.0000</td><td style=\"background-color: rgb(255.0000, 255,255.0000);\">0.0000</td><td style=\"background-color: rgb(255.0000, 255,255.0000);\">0.0000</td></tr><tr><td><b>attention_intent</b></td><td style=\"background-color: rgb(254.9991, 255,254.9991);\">0.0000</td><td style=\"background-color: rgb(254.9985, 255,254.9985);\">0.0000</td><td style=\"background-color: rgb(0.0047, 255,0.0047);\">1.0000</td><td style=\"background-color: rgb(254.9979, 255,254.9979);\">0.0000</td><td style=\"background-color: rgb(254.9999, 255,254.9999);\">0.0000</td><td style=\"background-color: rgb(254.9999, 255,254.9999);\">0.0000</td><td style=\"background-color: rgb(255.0000, 255,255.0000);\">0.0000</td><td style=\"background-color: rgb(255.0000, 255,255.0000);\">0.0000</td><td style=\"background-color: rgb(255.0000, 255,255.0000);\">0.0000</td></tr><tr><td><b>slots_true</b></td><td style=\"background-color: rgb(255,255,255);\">O</td><td style=\"background-color: rgb(255,255,255);\">B-Agent</td><td style=\"background-color: rgb(255,255,255);\">O</td><td style=\"background-color: rgb(255,255,255);\">B-Theme</td><td style=\"background-color: rgb(255,255,255);\">I-Theme</td><td style=\"background-color: rgb(255,255,255);\">I-Theme</td><td style=\"background-color: rgb(255,255,255);\">I-Theme</td><td style=\"background-color: rgb(255,255,255);\">I-Theme</td><td style=\"background-color: rgb(255,255,255);\">I-Theme</td></tr><tr><td><b>slots_pred</b></td><td style=\"background-color: rgb(255,255,255);\">O</td><td style=\"background-color: rgb(255,255,255);\">B-Agent</td><td style=\"background-color: rgb(255,255,255);\">O</td><td style=\"background-color: rgb(255,255,255);\">B-Theme</td><td style=\"background-color: rgb(255,255,255);\">I-Theme</td><td style=\"background-color: rgb(255,255,255);\">B-Theme</td><td style=\"background-color: rgb(255,255,255);\">I-Theme</td><td style=\"background-color: rgb(255,255,255);\">I-Theme</td><td style=\"background-color: rgb(255,255,255);\">I-Theme</td></tr></table>"
      ],
      "text/plain": [
       "<IPython.core.display.HTML object>"
      ]
     },
     "metadata": {},
     "output_type": "display_data"
    },
    {
     "name": "stdout",
     "output_type": "stream",
     "text": [
      "true: Following pred: Following\n"
     ]
    },
    {
     "data": {
      "text/html": [
       "<table><tr><td><b>words</b></td><td style=\"background-color: rgb(255,255,255);\">follow</td><td style=\"background-color: rgb(255,255,255);\">my</td><td style=\"background-color: rgb(255,255,255);\">friend</td><td style=\"background-color: rgb(255,255,255);\">into</td><td style=\"background-color: rgb(255,255,255);\">the</td><td style=\"background-color: rgb(255,255,255);\">living</td><td style=\"background-color: rgb(255,255,255);\">room</td></tr><tr><td><b>lexical_unit</b></td><td style=\"background-color: rgb(0.0000, 255,0.0000);\">1.0000</td><td style=\"background-color: rgb(255.0000, 255,255.0000);\">0.0000</td><td style=\"background-color: rgb(255.0000, 255,255.0000);\">0.0000</td><td style=\"background-color: rgb(255.0000, 255,255.0000);\">0.0000</td><td style=\"background-color: rgb(255.0000, 255,255.0000);\">0.0000</td><td style=\"background-color: rgb(255.0000, 255,255.0000);\">0.0000</td><td style=\"background-color: rgb(255.0000, 255,255.0000);\">0.0000</td></tr><tr><td><b>attention_intent</b></td><td style=\"background-color: rgb(0.0010, 255,0.0010);\">1.0000</td><td style=\"background-color: rgb(255.0000, 255,255.0000);\">0.0000</td><td style=\"background-color: rgb(254.9992, 255,254.9992);\">0.0000</td><td style=\"background-color: rgb(254.9998, 255,254.9998);\">0.0000</td><td style=\"background-color: rgb(255.0000, 255,255.0000);\">0.0000</td><td style=\"background-color: rgb(255.0000, 255,255.0000);\">0.0000</td><td style=\"background-color: rgb(255.0000, 255,255.0000);\">0.0000</td></tr><tr><td><b>slots_true</b></td><td style=\"background-color: rgb(255,255,255);\">O</td><td style=\"background-color: rgb(255,255,255);\">B-Cotheme</td><td style=\"background-color: rgb(255,255,255);\">I-Cotheme</td><td style=\"background-color: rgb(255,255,255);\">B-Goal</td><td style=\"background-color: rgb(255,255,255);\">I-Goal</td><td style=\"background-color: rgb(255,255,255);\">I-Goal</td><td style=\"background-color: rgb(255,255,255);\">I-Goal</td></tr><tr><td><b>slots_pred</b></td><td style=\"background-color: rgb(255,255,255);\">O</td><td style=\"background-color: rgb(255,255,255);\">B-Goal</td><td style=\"background-color: rgb(255,255,255);\">I-Goal</td><td style=\"background-color: rgb(255,255,255);\">I-Goal</td><td style=\"background-color: rgb(255,255,255);\">I-Goal</td><td style=\"background-color: rgb(255,255,255);\">I-Goal</td><td style=\"background-color: rgb(255,255,255);\">I-Goal</td></tr></table>"
      ],
      "text/plain": [
       "<IPython.core.display.HTML object>"
      ]
     },
     "metadata": {},
     "output_type": "display_data"
    },
    {
     "name": "stdout",
     "output_type": "stream",
     "text": [
      "true: Being_in_category pred: Being_in_category\n"
     ]
    },
    {
     "data": {
      "text/html": [
       "<table><tr><td><b>words</b></td><td style=\"background-color: rgb(255,255,255);\">this</td><td style=\"background-color: rgb(255,255,255);\">is</td><td style=\"background-color: rgb(255,255,255);\">a</td><td style=\"background-color: rgb(255,255,255);\">bed</td><td style=\"background-color: rgb(255,255,255);\">room</td></tr><tr><td><b>lexical_unit</b></td><td style=\"background-color: rgb(255.0000, 255,255.0000);\">0.0000</td><td style=\"background-color: rgb(0.0000, 255,0.0000);\">1.0000</td><td style=\"background-color: rgb(255.0000, 255,255.0000);\">0.0000</td><td style=\"background-color: rgb(255.0000, 255,255.0000);\">0.0000</td><td style=\"background-color: rgb(255.0000, 255,255.0000);\">0.0000</td></tr><tr><td><b>attention_intent</b></td><td style=\"background-color: rgb(253.5074, 255,253.5074);\">0.0059</td><td style=\"background-color: rgb(211.7755, 255,211.7755);\">0.1695</td><td style=\"background-color: rgb(254.8417, 255,254.8417);\">0.0006</td><td style=\"background-color: rgb(165.6955, 255,165.6955);\">0.3502</td><td style=\"background-color: rgb(139.2807, 255,139.2807);\">0.4538</td></tr><tr><td><b>slots_true</b></td><td style=\"background-color: rgb(255,255,255);\">B-Item</td><td style=\"background-color: rgb(255,255,255);\">O</td><td style=\"background-color: rgb(255,255,255);\">B-Category</td><td style=\"background-color: rgb(255,255,255);\">I-Category</td><td style=\"background-color: rgb(255,255,255);\">I-Category</td></tr><tr><td><b>slots_pred</b></td><td style=\"background-color: rgb(255,255,255);\">B-Item</td><td style=\"background-color: rgb(255,255,255);\">O</td><td style=\"background-color: rgb(255,255,255);\">B-Category</td><td style=\"background-color: rgb(255,255,255);\">I-Category</td><td style=\"background-color: rgb(255,255,255);\">I-Category</td></tr></table>"
      ],
      "text/plain": [
       "<IPython.core.display.HTML object>"
      ]
     },
     "metadata": {},
     "output_type": "display_data"
    },
    {
     "name": "stdout",
     "output_type": "stream",
     "text": [
      "true: Taking pred: Taking\n"
     ]
    },
    {
     "data": {
      "text/html": [
       "<table><tr><td><b>words</b></td><td style=\"background-color: rgb(255,255,255);\">john</td><td style=\"background-color: rgb(255,255,255);\">can</td><td style=\"background-color: rgb(255,255,255);\">you</td><td style=\"background-color: rgb(255,255,255);\">take</td><td style=\"background-color: rgb(255,255,255);\">the</td><td style=\"background-color: rgb(255,255,255);\">mug</td><td style=\"background-color: rgb(255,255,255);\">in</td><td style=\"background-color: rgb(255,255,255);\">the</td><td style=\"background-color: rgb(255,255,255);\">kitchen</td></tr><tr><td><b>lexical_unit</b></td><td style=\"background-color: rgb(255.0000, 255,255.0000);\">0.0000</td><td style=\"background-color: rgb(255.0000, 255,255.0000);\">0.0000</td><td style=\"background-color: rgb(255.0000, 255,255.0000);\">0.0000</td><td style=\"background-color: rgb(0.0000, 255,0.0000);\">1.0000</td><td style=\"background-color: rgb(255.0000, 255,255.0000);\">0.0000</td><td style=\"background-color: rgb(255.0000, 255,255.0000);\">0.0000</td><td style=\"background-color: rgb(255.0000, 255,255.0000);\">0.0000</td><td style=\"background-color: rgb(255.0000, 255,255.0000);\">0.0000</td><td style=\"background-color: rgb(255.0000, 255,255.0000);\">0.0000</td></tr><tr><td><b>attention_intent</b></td><td style=\"background-color: rgb(255.0000, 255,255.0000);\">0.0000</td><td style=\"background-color: rgb(254.9973, 255,254.9973);\">0.0000</td><td style=\"background-color: rgb(254.9912, 255,254.9912);\">0.0000</td><td style=\"background-color: rgb(0.2758, 255,0.2758);\">0.9989</td><td style=\"background-color: rgb(255.0000, 255,255.0000);\">0.0000</td><td style=\"background-color: rgb(254.7442, 255,254.7442);\">0.0010</td><td style=\"background-color: rgb(254.9916, 255,254.9916);\">0.0000</td><td style=\"background-color: rgb(255.0000, 255,255.0000);\">0.0000</td><td style=\"background-color: rgb(255.0000, 255,255.0000);\">0.0000</td></tr><tr><td><b>slots_true</b></td><td style=\"background-color: rgb(255,255,255);\">O</td><td style=\"background-color: rgb(255,255,255);\">O</td><td style=\"background-color: rgb(255,255,255);\">B-Agent</td><td style=\"background-color: rgb(255,255,255);\">O</td><td style=\"background-color: rgb(255,255,255);\">B-Theme</td><td style=\"background-color: rgb(255,255,255);\">I-Theme</td><td style=\"background-color: rgb(255,255,255);\">I-Theme</td><td style=\"background-color: rgb(255,255,255);\">I-Theme</td><td style=\"background-color: rgb(255,255,255);\">I-Theme</td></tr><tr><td><b>slots_pred</b></td><td style=\"background-color: rgb(255,255,255);\">O</td><td style=\"background-color: rgb(255,255,255);\">O</td><td style=\"background-color: rgb(255,255,255);\">B-Agent</td><td style=\"background-color: rgb(255,255,255);\">O</td><td style=\"background-color: rgb(255,255,255);\">B-Theme</td><td style=\"background-color: rgb(255,255,255);\">I-Theme</td><td style=\"background-color: rgb(255,255,255);\">B-Theme</td><td style=\"background-color: rgb(255,255,255);\">I-Theme</td><td style=\"background-color: rgb(255,255,255);\">I-Theme</td></tr></table>"
      ],
      "text/plain": [
       "<IPython.core.display.HTML object>"
      ]
     },
     "metadata": {},
     "output_type": "display_data"
    },
    {
     "name": "stdout",
     "output_type": "stream",
     "text": [
      "true: Motion pred: Motion\n"
     ]
    },
    {
     "data": {
      "text/html": [
       "<table><tr><td><b>words</b></td><td style=\"background-color: rgb(255,255,255);\">go</td><td style=\"background-color: rgb(255,255,255);\">to</td><td style=\"background-color: rgb(255,255,255);\">the</td><td style=\"background-color: rgb(255,255,255);\">telephone</td></tr><tr><td><b>lexical_unit</b></td><td style=\"background-color: rgb(0.0000, 255,0.0000);\">1.0000</td><td style=\"background-color: rgb(255.0000, 255,255.0000);\">0.0000</td><td style=\"background-color: rgb(255.0000, 255,255.0000);\">0.0000</td><td style=\"background-color: rgb(255.0000, 255,255.0000);\">0.0000</td></tr><tr><td><b>attention_intent</b></td><td style=\"background-color: rgb(0.9333, 255,0.9333);\">0.9963</td><td style=\"background-color: rgb(254.0667, 255,254.0667);\">0.0037</td><td style=\"background-color: rgb(255.0000, 255,255.0000);\">0.0000</td><td style=\"background-color: rgb(255.0000, 255,255.0000);\">0.0000</td></tr><tr><td><b>slots_true</b></td><td style=\"background-color: rgb(255,255,255);\">O</td><td style=\"background-color: rgb(255,255,255);\">B-Goal</td><td style=\"background-color: rgb(255,255,255);\">I-Goal</td><td style=\"background-color: rgb(255,255,255);\">I-Goal</td></tr><tr><td><b>slots_pred</b></td><td style=\"background-color: rgb(255,255,255);\">O</td><td style=\"background-color: rgb(255,255,255);\">B-Goal</td><td style=\"background-color: rgb(255,255,255);\">I-Goal</td><td style=\"background-color: rgb(255,255,255);\">I-Goal</td></tr></table>"
      ],
      "text/plain": [
       "<IPython.core.display.HTML object>"
      ]
     },
     "metadata": {},
     "output_type": "display_data"
    },
    {
     "name": "stdout",
     "output_type": "stream",
     "text": [
      "true: Bringing pred: Bringing\n"
     ]
    },
    {
     "data": {
      "text/html": [
       "<table><tr><td><b>words</b></td><td style=\"background-color: rgb(255,255,255);\">can</td><td style=\"background-color: rgb(255,255,255);\">you</td><td style=\"background-color: rgb(255,255,255);\">bring</td><td style=\"background-color: rgb(255,255,255);\">me</td><td style=\"background-color: rgb(255,255,255);\">my</td><td style=\"background-color: rgb(255,255,255);\">eyeglass</td></tr><tr><td><b>lexical_unit</b></td><td style=\"background-color: rgb(255.0000, 255,255.0000);\">0.0000</td><td style=\"background-color: rgb(255.0000, 255,255.0000);\">0.0000</td><td style=\"background-color: rgb(0.0000, 255,0.0000);\">1.0000</td><td style=\"background-color: rgb(255.0000, 255,255.0000);\">0.0000</td><td style=\"background-color: rgb(255.0000, 255,255.0000);\">0.0000</td><td style=\"background-color: rgb(255.0000, 255,255.0000);\">0.0000</td></tr><tr><td><b>attention_intent</b></td><td style=\"background-color: rgb(254.9998, 255,254.9998);\">0.0000</td><td style=\"background-color: rgb(254.9984, 255,254.9984);\">0.0000</td><td style=\"background-color: rgb(125.3021, 255,125.3021);\">0.5086</td><td style=\"background-color: rgb(129.7190, 255,129.7190);\">0.4913</td><td style=\"background-color: rgb(255.0000, 255,255.0000);\">0.0000</td><td style=\"background-color: rgb(254.9807, 255,254.9807);\">0.0001</td></tr><tr><td><b>slots_true</b></td><td style=\"background-color: rgb(255,255,255);\">O</td><td style=\"background-color: rgb(255,255,255);\">B-Agent</td><td style=\"background-color: rgb(255,255,255);\">O</td><td style=\"background-color: rgb(255,255,255);\">B-Beneficiary</td><td style=\"background-color: rgb(255,255,255);\">B-Theme</td><td style=\"background-color: rgb(255,255,255);\">I-Theme</td></tr><tr><td><b>slots_pred</b></td><td style=\"background-color: rgb(255,255,255);\">O</td><td style=\"background-color: rgb(255,255,255);\">B-Agent</td><td style=\"background-color: rgb(255,255,255);\">O</td><td style=\"background-color: rgb(255,255,255);\">B-Beneficiary</td><td style=\"background-color: rgb(255,255,255);\">B-Theme</td><td style=\"background-color: rgb(255,255,255);\">I-Theme</td></tr></table>"
      ],
      "text/plain": [
       "<IPython.core.display.HTML object>"
      ]
     },
     "metadata": {},
     "output_type": "display_data"
    },
    {
     "name": "stdout",
     "output_type": "stream",
     "text": [
      "true: Bringing pred: Bringing\n"
     ]
    },
    {
     "data": {
      "text/html": [
       "<table><tr><td><b>words</b></td><td style=\"background-color: rgb(255,255,255);\">take</td><td style=\"background-color: rgb(255,255,255);\">the</td><td style=\"background-color: rgb(255,255,255);\">bottle</td><td style=\"background-color: rgb(255,255,255);\">to</td><td style=\"background-color: rgb(255,255,255);\">the</td><td style=\"background-color: rgb(255,255,255);\">kitchen</td></tr><tr><td><b>lexical_unit</b></td><td style=\"background-color: rgb(0.0000, 255,0.0000);\">1.0000</td><td style=\"background-color: rgb(255.0000, 255,255.0000);\">0.0000</td><td style=\"background-color: rgb(255.0000, 255,255.0000);\">0.0000</td><td style=\"background-color: rgb(255.0000, 255,255.0000);\">0.0000</td><td style=\"background-color: rgb(255.0000, 255,255.0000);\">0.0000</td><td style=\"background-color: rgb(255.0000, 255,255.0000);\">0.0000</td></tr><tr><td><b>attention_intent</b></td><td style=\"background-color: rgb(246.8417, 255,246.8417);\">0.0320</td><td style=\"background-color: rgb(254.9967, 255,254.9967);\">0.0000</td><td style=\"background-color: rgb(254.6873, 255,254.6873);\">0.0012</td><td style=\"background-color: rgb(8.4750, 255,8.4750);\">0.9668</td><td style=\"background-color: rgb(254.9994, 255,254.9994);\">0.0000</td><td style=\"background-color: rgb(255.0000, 255,255.0000);\">0.0000</td></tr><tr><td><b>slots_true</b></td><td style=\"background-color: rgb(255,255,255);\">O</td><td style=\"background-color: rgb(255,255,255);\">B-Theme</td><td style=\"background-color: rgb(255,255,255);\">I-Theme</td><td style=\"background-color: rgb(255,255,255);\">B-Goal</td><td style=\"background-color: rgb(255,255,255);\">I-Goal</td><td style=\"background-color: rgb(255,255,255);\">I-Goal</td></tr><tr><td><b>slots_pred</b></td><td style=\"background-color: rgb(255,255,255);\">O</td><td style=\"background-color: rgb(255,255,255);\">B-Theme</td><td style=\"background-color: rgb(255,255,255);\">I-Theme</td><td style=\"background-color: rgb(255,255,255);\">B-Goal</td><td style=\"background-color: rgb(255,255,255);\">I-Goal</td><td style=\"background-color: rgb(255,255,255);\">I-Goal</td></tr></table>"
      ],
      "text/plain": [
       "<IPython.core.display.HTML object>"
      ]
     },
     "metadata": {},
     "output_type": "display_data"
    },
    {
     "name": "stdout",
     "output_type": "stream",
     "text": [
      "true: Entering pred: Entering\n"
     ]
    },
    {
     "data": {
      "text/html": [
       "<table><tr><td><b>words</b></td><td style=\"background-color: rgb(255,255,255);\">enter</td><td style=\"background-color: rgb(255,255,255);\">the</td><td style=\"background-color: rgb(255,255,255);\">door</td></tr><tr><td><b>lexical_unit</b></td><td style=\"background-color: rgb(0.0000, 255,0.0000);\">1.0000</td><td style=\"background-color: rgb(255.0000, 255,255.0000);\">0.0000</td><td style=\"background-color: rgb(255.0000, 255,255.0000);\">0.0000</td></tr><tr><td><b>attention_intent</b></td><td style=\"background-color: rgb(0.2360, 255,0.2360);\">0.9991</td><td style=\"background-color: rgb(254.9999, 255,254.9999);\">0.0000</td><td style=\"background-color: rgb(254.7641, 255,254.7641);\">0.0009</td></tr><tr><td><b>slots_true</b></td><td style=\"background-color: rgb(255,255,255);\">O</td><td style=\"background-color: rgb(255,255,255);\">B-Goal</td><td style=\"background-color: rgb(255,255,255);\">I-Goal</td></tr><tr><td><b>slots_pred</b></td><td style=\"background-color: rgb(255,255,255);\">O</td><td style=\"background-color: rgb(255,255,255);\">B-Goal</td><td style=\"background-color: rgb(255,255,255);\">I-Goal</td></tr></table>"
      ],
      "text/plain": [
       "<IPython.core.display.HTML object>"
      ]
     },
     "metadata": {},
     "output_type": "display_data"
    },
    {
     "name": "stdout",
     "output_type": "stream",
     "text": [
      "true: Being_located pred: Being_located\n"
     ]
    },
    {
     "data": {
      "text/html": [
       "<table><tr><td><b>words</b></td><td style=\"background-color: rgb(255,255,255);\">there</td><td style=\"background-color: rgb(255,255,255);\">are</td><td style=\"background-color: rgb(255,255,255);\">some</td><td style=\"background-color: rgb(255,255,255);\">napkins</td><td style=\"background-color: rgb(255,255,255);\">on</td><td style=\"background-color: rgb(255,255,255);\">the</td><td style=\"background-color: rgb(255,255,255);\">kitchen</td><td style=\"background-color: rgb(255,255,255);\">table</td></tr><tr><td><b>lexical_unit</b></td><td style=\"background-color: rgb(0.0000, 255,0.0000);\">1.0000</td><td style=\"background-color: rgb(0.0000, 255,0.0000);\">1.0000</td><td style=\"background-color: rgb(255.0000, 255,255.0000);\">0.0000</td><td style=\"background-color: rgb(255.0000, 255,255.0000);\">0.0000</td><td style=\"background-color: rgb(255.0000, 255,255.0000);\">0.0000</td><td style=\"background-color: rgb(255.0000, 255,255.0000);\">0.0000</td><td style=\"background-color: rgb(255.0000, 255,255.0000);\">0.0000</td><td style=\"background-color: rgb(255.0000, 255,255.0000);\">0.0000</td></tr><tr><td><b>attention_intent</b></td><td style=\"background-color: rgb(253.7888, 255,253.7888);\">0.0047</td><td style=\"background-color: rgb(32.5582, 255,32.5582);\">0.8723</td><td style=\"background-color: rgb(254.2409, 255,254.2409);\">0.0030</td><td style=\"background-color: rgb(237.9159, 255,237.9159);\">0.0670</td><td style=\"background-color: rgb(254.5405, 255,254.5405);\">0.0018</td><td style=\"background-color: rgb(254.9995, 255,254.9995);\">0.0000</td><td style=\"background-color: rgb(242.2004, 255,242.2004);\">0.0502</td><td style=\"background-color: rgb(254.7769, 255,254.7769);\">0.0009</td></tr><tr><td><b>slots_true</b></td><td style=\"background-color: rgb(255,255,255);\">O</td><td style=\"background-color: rgb(255,255,255);\">O</td><td style=\"background-color: rgb(255,255,255);\">B-Theme</td><td style=\"background-color: rgb(255,255,255);\">I-Theme</td><td style=\"background-color: rgb(255,255,255);\">B-Location</td><td style=\"background-color: rgb(255,255,255);\">I-Location</td><td style=\"background-color: rgb(255,255,255);\">I-Location</td><td style=\"background-color: rgb(255,255,255);\">I-Location</td></tr><tr><td><b>slots_pred</b></td><td style=\"background-color: rgb(255,255,255);\">O</td><td style=\"background-color: rgb(255,255,255);\">O</td><td style=\"background-color: rgb(255,255,255);\">B-Theme</td><td style=\"background-color: rgb(255,255,255);\">I-Theme</td><td style=\"background-color: rgb(255,255,255);\">B-Location</td><td style=\"background-color: rgb(255,255,255);\">I-Location</td><td style=\"background-color: rgb(255,255,255);\">I-Location</td><td style=\"background-color: rgb(255,255,255);\">I-Location</td></tr></table>"
      ],
      "text/plain": [
       "<IPython.core.display.HTML object>"
      ]
     },
     "metadata": {},
     "output_type": "display_data"
    },
    {
     "name": "stdout",
     "output_type": "stream",
     "text": [
      "true: Bringing pred: Bringing\n"
     ]
    },
    {
     "data": {
      "text/html": [
       "<table><tr><td><b>words</b></td><td style=\"background-color: rgb(255,255,255);\">robot</td><td style=\"background-color: rgb(255,255,255);\">can</td><td style=\"background-color: rgb(255,255,255);\">you</td><td style=\"background-color: rgb(255,255,255);\">bring</td><td style=\"background-color: rgb(255,255,255);\">me</td><td style=\"background-color: rgb(255,255,255);\">a</td><td style=\"background-color: rgb(255,255,255);\">magazine</td></tr><tr><td><b>lexical_unit</b></td><td style=\"background-color: rgb(255.0000, 255,255.0000);\">0.0000</td><td style=\"background-color: rgb(255.0000, 255,255.0000);\">0.0000</td><td style=\"background-color: rgb(255.0000, 255,255.0000);\">0.0000</td><td style=\"background-color: rgb(0.0000, 255,0.0000);\">1.0000</td><td style=\"background-color: rgb(255.0000, 255,255.0000);\">0.0000</td><td style=\"background-color: rgb(255.0000, 255,255.0000);\">0.0000</td><td style=\"background-color: rgb(255.0000, 255,255.0000);\">0.0000</td></tr><tr><td><b>attention_intent</b></td><td style=\"background-color: rgb(255.0000, 255,255.0000);\">0.0000</td><td style=\"background-color: rgb(255.0000, 255,255.0000);\">0.0000</td><td style=\"background-color: rgb(254.9999, 255,254.9999);\">0.0000</td><td style=\"background-color: rgb(171.5891, 255,171.5891);\">0.3271</td><td style=\"background-color: rgb(83.4110, 255,83.4110);\">0.6729</td><td style=\"background-color: rgb(255.0000, 255,255.0000);\">0.0000</td><td style=\"background-color: rgb(255.0000, 255,255.0000);\">0.0000</td></tr><tr><td><b>slots_true</b></td><td style=\"background-color: rgb(255,255,255);\">O</td><td style=\"background-color: rgb(255,255,255);\">O</td><td style=\"background-color: rgb(255,255,255);\">B-Agent</td><td style=\"background-color: rgb(255,255,255);\">O</td><td style=\"background-color: rgb(255,255,255);\">B-Beneficiary</td><td style=\"background-color: rgb(255,255,255);\">B-Theme</td><td style=\"background-color: rgb(255,255,255);\">I-Theme</td></tr><tr><td><b>slots_pred</b></td><td style=\"background-color: rgb(255,255,255);\">O</td><td style=\"background-color: rgb(255,255,255);\">O</td><td style=\"background-color: rgb(255,255,255);\">B-Agent</td><td style=\"background-color: rgb(255,255,255);\">O</td><td style=\"background-color: rgb(255,255,255);\">B-Beneficiary</td><td style=\"background-color: rgb(255,255,255);\">B-Theme</td><td style=\"background-color: rgb(255,255,255);\">I-Theme</td></tr></table>"
      ],
      "text/plain": [
       "<IPython.core.display.HTML object>"
      ]
     },
     "metadata": {},
     "output_type": "display_data"
    },
    {
     "name": "stdout",
     "output_type": "stream",
     "text": [
      "true: Inspecting pred: Inspecting\n"
     ]
    },
    {
     "data": {
      "text/html": [
       "<table><tr><td><b>words</b></td><td style=\"background-color: rgb(255,255,255);\">and</td><td style=\"background-color: rgb(255,255,255);\">check</td><td style=\"background-color: rgb(255,255,255);\">for</td><td style=\"background-color: rgb(255,255,255);\">any</td><td style=\"background-color: rgb(255,255,255);\">messages</td></tr><tr><td><b>lexical_unit</b></td><td style=\"background-color: rgb(255.0000, 255,255.0000);\">0.0000</td><td style=\"background-color: rgb(0.0000, 255,0.0000);\">1.0000</td><td style=\"background-color: rgb(255.0000, 255,255.0000);\">0.0000</td><td style=\"background-color: rgb(255.0000, 255,255.0000);\">0.0000</td><td style=\"background-color: rgb(255.0000, 255,255.0000);\">0.0000</td></tr><tr><td><b>attention_intent</b></td><td style=\"background-color: rgb(255.0000, 255,255.0000);\">0.0000</td><td style=\"background-color: rgb(0.0000, 255,0.0000);\">1.0000</td><td style=\"background-color: rgb(255.0000, 255,255.0000);\">0.0000</td><td style=\"background-color: rgb(255.0000, 255,255.0000);\">0.0000</td><td style=\"background-color: rgb(255.0000, 255,255.0000);\">0.0000</td></tr><tr><td><b>slots_true</b></td><td style=\"background-color: rgb(255,255,255);\">O</td><td style=\"background-color: rgb(255,255,255);\">O</td><td style=\"background-color: rgb(255,255,255);\">B-Unwanted_entity</td><td style=\"background-color: rgb(255,255,255);\">I-Unwanted_entity</td><td style=\"background-color: rgb(255,255,255);\">I-Unwanted_entity</td></tr><tr><td><b>slots_pred</b></td><td style=\"background-color: rgb(255,255,255);\">O</td><td style=\"background-color: rgb(255,255,255);\">O</td><td style=\"background-color: rgb(255,255,255);\">B-Unwanted_entity</td><td style=\"background-color: rgb(255,255,255);\">I-Unwanted_entity</td><td style=\"background-color: rgb(255,255,255);\">I-Unwanted_entity</td></tr></table>"
      ],
      "text/plain": [
       "<IPython.core.display.HTML object>"
      ]
     },
     "metadata": {},
     "output_type": "display_data"
    },
    {
     "name": "stdout",
     "output_type": "stream",
     "text": [
      "true: Taking pred: Taking\n"
     ]
    },
    {
     "data": {
      "text/html": [
       "<table><tr><td><b>words</b></td><td style=\"background-color: rgb(255,255,255);\">take</td><td style=\"background-color: rgb(255,255,255);\">the</td><td style=\"background-color: rgb(255,255,255);\">coke</td><td style=\"background-color: rgb(255,255,255);\">that</td><td style=\"background-color: rgb(255,255,255);\">is</td><td style=\"background-color: rgb(255,255,255);\">in</td><td style=\"background-color: rgb(255,255,255);\">the</td><td style=\"background-color: rgb(255,255,255);\">kitchen</td></tr><tr><td><b>lexical_unit</b></td><td style=\"background-color: rgb(0.0000, 255,0.0000);\">1.0000</td><td style=\"background-color: rgb(255.0000, 255,255.0000);\">0.0000</td><td style=\"background-color: rgb(255.0000, 255,255.0000);\">0.0000</td><td style=\"background-color: rgb(255.0000, 255,255.0000);\">0.0000</td><td style=\"background-color: rgb(255.0000, 255,255.0000);\">0.0000</td><td style=\"background-color: rgb(255.0000, 255,255.0000);\">0.0000</td><td style=\"background-color: rgb(255.0000, 255,255.0000);\">0.0000</td><td style=\"background-color: rgb(255.0000, 255,255.0000);\">0.0000</td></tr><tr><td><b>attention_intent</b></td><td style=\"background-color: rgb(0.0691, 255,0.0691);\">0.9997</td><td style=\"background-color: rgb(254.9801, 255,254.9801);\">0.0001</td><td style=\"background-color: rgb(255.0000, 255,255.0000);\">0.0000</td><td style=\"background-color: rgb(254.9991, 255,254.9991);\">0.0000</td><td style=\"background-color: rgb(254.9525, 255,254.9525);\">0.0002</td><td style=\"background-color: rgb(254.9992, 255,254.9992);\">0.0000</td><td style=\"background-color: rgb(255.0000, 255,255.0000);\">0.0000</td><td style=\"background-color: rgb(255.0000, 255,255.0000);\">0.0000</td></tr><tr><td><b>slots_true</b></td><td style=\"background-color: rgb(255,255,255);\">O</td><td style=\"background-color: rgb(255,255,255);\">B-Theme</td><td style=\"background-color: rgb(255,255,255);\">I-Theme</td><td style=\"background-color: rgb(255,255,255);\">I-Theme</td><td style=\"background-color: rgb(255,255,255);\">I-Theme</td><td style=\"background-color: rgb(255,255,255);\">I-Theme</td><td style=\"background-color: rgb(255,255,255);\">I-Theme</td><td style=\"background-color: rgb(255,255,255);\">I-Theme</td></tr><tr><td><b>slots_pred</b></td><td style=\"background-color: rgb(255,255,255);\">O</td><td style=\"background-color: rgb(255,255,255);\">B-Theme</td><td style=\"background-color: rgb(255,255,255);\">I-Theme</td><td style=\"background-color: rgb(255,255,255);\">I-Theme</td><td style=\"background-color: rgb(255,255,255);\">I-Theme</td><td style=\"background-color: rgb(255,255,255);\">I-Theme</td><td style=\"background-color: rgb(255,255,255);\">I-Theme</td><td style=\"background-color: rgb(255,255,255);\">I-Theme</td></tr></table>"
      ],
      "text/plain": [
       "<IPython.core.display.HTML object>"
      ]
     },
     "metadata": {},
     "output_type": "display_data"
    },
    {
     "name": "stdout",
     "output_type": "stream",
     "text": [
      "true: Bringing pred: Bringing\n"
     ]
    },
    {
     "data": {
      "text/html": [
       "<table><tr><td><b>words</b></td><td style=\"background-color: rgb(255,255,255);\">please</td><td style=\"background-color: rgb(255,255,255);\">take</td><td style=\"background-color: rgb(255,255,255);\">the</td><td style=\"background-color: rgb(255,255,255);\">mug</td><td style=\"background-color: rgb(255,255,255);\">to</td><td style=\"background-color: rgb(255,255,255);\">the</td><td style=\"background-color: rgb(255,255,255);\">bedroom</td></tr><tr><td><b>lexical_unit</b></td><td style=\"background-color: rgb(255.0000, 255,255.0000);\">0.0000</td><td style=\"background-color: rgb(0.0000, 255,0.0000);\">1.0000</td><td style=\"background-color: rgb(255.0000, 255,255.0000);\">0.0000</td><td style=\"background-color: rgb(255.0000, 255,255.0000);\">0.0000</td><td style=\"background-color: rgb(255.0000, 255,255.0000);\">0.0000</td><td style=\"background-color: rgb(255.0000, 255,255.0000);\">0.0000</td><td style=\"background-color: rgb(255.0000, 255,255.0000);\">0.0000</td></tr><tr><td><b>attention_intent</b></td><td style=\"background-color: rgb(254.9995, 255,254.9995);\">0.0000</td><td style=\"background-color: rgb(250.5925, 255,250.5925);\">0.0173</td><td style=\"background-color: rgb(254.9994, 255,254.9994);\">0.0000</td><td style=\"background-color: rgb(254.4683, 255,254.4683);\">0.0021</td><td style=\"background-color: rgb(4.9439, 255,4.9439);\">0.9806</td><td style=\"background-color: rgb(254.9964, 255,254.9964);\">0.0000</td><td style=\"background-color: rgb(255.0000, 255,255.0000);\">0.0000</td></tr><tr><td><b>slots_true</b></td><td style=\"background-color: rgb(255,255,255);\">O</td><td style=\"background-color: rgb(255,255,255);\">O</td><td style=\"background-color: rgb(255,255,255);\">B-Theme</td><td style=\"background-color: rgb(255,255,255);\">I-Theme</td><td style=\"background-color: rgb(255,255,255);\">B-Goal</td><td style=\"background-color: rgb(255,255,255);\">I-Goal</td><td style=\"background-color: rgb(255,255,255);\">I-Goal</td></tr><tr><td><b>slots_pred</b></td><td style=\"background-color: rgb(255,255,255);\">O</td><td style=\"background-color: rgb(255,255,255);\">O</td><td style=\"background-color: rgb(255,255,255);\">B-Theme</td><td style=\"background-color: rgb(255,255,255);\">I-Theme</td><td style=\"background-color: rgb(255,255,255);\">B-Goal</td><td style=\"background-color: rgb(255,255,255);\">I-Goal</td><td style=\"background-color: rgb(255,255,255);\">I-Goal</td></tr></table>"
      ],
      "text/plain": [
       "<IPython.core.display.HTML object>"
      ]
     },
     "metadata": {},
     "output_type": "display_data"
    },
    {
     "name": "stdout",
     "output_type": "stream",
     "text": [
      "true: Placing pred: Placing\n"
     ]
    },
    {
     "data": {
      "text/html": [
       "<table><tr><td><b>words</b></td><td style=\"background-color: rgb(255,255,255);\">put</td><td style=\"background-color: rgb(255,255,255);\">the</td><td style=\"background-color: rgb(255,255,255);\">phone</td><td style=\"background-color: rgb(255,255,255);\">in</td><td style=\"background-color: rgb(255,255,255);\">the</td><td style=\"background-color: rgb(255,255,255);\">kitchen</td><td style=\"background-color: rgb(255,255,255);\">stove</td></tr><tr><td><b>lexical_unit</b></td><td style=\"background-color: rgb(0.0000, 255,0.0000);\">1.0000</td><td style=\"background-color: rgb(255.0000, 255,255.0000);\">0.0000</td><td style=\"background-color: rgb(255.0000, 255,255.0000);\">0.0000</td><td style=\"background-color: rgb(255.0000, 255,255.0000);\">0.0000</td><td style=\"background-color: rgb(255.0000, 255,255.0000);\">0.0000</td><td style=\"background-color: rgb(255.0000, 255,255.0000);\">0.0000</td><td style=\"background-color: rgb(255.0000, 255,255.0000);\">0.0000</td></tr><tr><td><b>attention_intent</b></td><td style=\"background-color: rgb(0.0480, 255,0.0480);\">0.9998</td><td style=\"background-color: rgb(255.0000, 255,255.0000);\">0.0000</td><td style=\"background-color: rgb(254.9565, 255,254.9565);\">0.0002</td><td style=\"background-color: rgb(254.9955, 255,254.9955);\">0.0000</td><td style=\"background-color: rgb(255.0000, 255,255.0000);\">0.0000</td><td style=\"background-color: rgb(255.0000, 255,255.0000);\">0.0000</td><td style=\"background-color: rgb(255.0000, 255,255.0000);\">0.0000</td></tr><tr><td><b>slots_true</b></td><td style=\"background-color: rgb(255,255,255);\">O</td><td style=\"background-color: rgb(255,255,255);\">B-Theme</td><td style=\"background-color: rgb(255,255,255);\">I-Theme</td><td style=\"background-color: rgb(255,255,255);\">B-Goal</td><td style=\"background-color: rgb(255,255,255);\">I-Goal</td><td style=\"background-color: rgb(255,255,255);\">I-Goal</td><td style=\"background-color: rgb(255,255,255);\">I-Goal</td></tr><tr><td><b>slots_pred</b></td><td style=\"background-color: rgb(255,255,255);\">O</td><td style=\"background-color: rgb(255,255,255);\">B-Theme</td><td style=\"background-color: rgb(255,255,255);\">I-Theme</td><td style=\"background-color: rgb(255,255,255);\">B-Goal</td><td style=\"background-color: rgb(255,255,255);\">I-Goal</td><td style=\"background-color: rgb(255,255,255);\">I-Goal</td><td style=\"background-color: rgb(255,255,255);\">I-Goal</td></tr></table>"
      ],
      "text/plain": [
       "<IPython.core.display.HTML object>"
      ]
     },
     "metadata": {},
     "output_type": "display_data"
    },
    {
     "name": "stdout",
     "output_type": "stream",
     "text": [
      "true: Bringing pred: Bringing\n"
     ]
    },
    {
     "data": {
      "text/html": [
       "<table><tr><td><b>words</b></td><td style=\"background-color: rgb(255,255,255);\">bring</td><td style=\"background-color: rgb(255,255,255);\">me</td><td style=\"background-color: rgb(255,255,255);\">my</td><td style=\"background-color: rgb(255,255,255);\">book</td><td style=\"background-color: rgb(255,255,255);\">from</td><td style=\"background-color: rgb(255,255,255);\">the</td><td style=\"background-color: rgb(255,255,255);\">table</td></tr><tr><td><b>lexical_unit</b></td><td style=\"background-color: rgb(0.0000, 255,0.0000);\">1.0000</td><td style=\"background-color: rgb(255.0000, 255,255.0000);\">0.0000</td><td style=\"background-color: rgb(255.0000, 255,255.0000);\">0.0000</td><td style=\"background-color: rgb(255.0000, 255,255.0000);\">0.0000</td><td style=\"background-color: rgb(255.0000, 255,255.0000);\">0.0000</td><td style=\"background-color: rgb(255.0000, 255,255.0000);\">0.0000</td><td style=\"background-color: rgb(255.0000, 255,255.0000);\">0.0000</td></tr><tr><td><b>attention_intent</b></td><td style=\"background-color: rgb(156.3963, 255,156.3963);\">0.3867</td><td style=\"background-color: rgb(98.6521, 255,98.6521);\">0.6131</td><td style=\"background-color: rgb(254.9996, 255,254.9996);\">0.0000</td><td style=\"background-color: rgb(254.9520, 255,254.9520);\">0.0002</td><td style=\"background-color: rgb(255.0000, 255,255.0000);\">0.0000</td><td style=\"background-color: rgb(255.0000, 255,255.0000);\">0.0000</td><td style=\"background-color: rgb(255.0000, 255,255.0000);\">0.0000</td></tr><tr><td><b>slots_true</b></td><td style=\"background-color: rgb(255,255,255);\">O</td><td style=\"background-color: rgb(255,255,255);\">B-Beneficiary</td><td style=\"background-color: rgb(255,255,255);\">B-Theme</td><td style=\"background-color: rgb(255,255,255);\">I-Theme</td><td style=\"background-color: rgb(255,255,255);\">B-Source</td><td style=\"background-color: rgb(255,255,255);\">I-Source</td><td style=\"background-color: rgb(255,255,255);\">I-Source</td></tr><tr><td><b>slots_pred</b></td><td style=\"background-color: rgb(255,255,255);\">O</td><td style=\"background-color: rgb(255,255,255);\">B-Beneficiary</td><td style=\"background-color: rgb(255,255,255);\">B-Theme</td><td style=\"background-color: rgb(255,255,255);\">I-Theme</td><td style=\"background-color: rgb(255,255,255);\">B-Source</td><td style=\"background-color: rgb(255,255,255);\">I-Source</td><td style=\"background-color: rgb(255,255,255);\">I-Source</td></tr></table>"
      ],
      "text/plain": [
       "<IPython.core.display.HTML object>"
      ]
     },
     "metadata": {},
     "output_type": "display_data"
    },
    {
     "name": "stdout",
     "output_type": "stream",
     "text": [
      "true: Searching pred: Searching\n"
     ]
    },
    {
     "data": {
      "text/html": [
       "<table><tr><td><b>words</b></td><td style=\"background-color: rgb(255,255,255);\">find</td><td style=\"background-color: rgb(255,255,255);\">my</td><td style=\"background-color: rgb(255,255,255);\">tablet</td></tr><tr><td><b>lexical_unit</b></td><td style=\"background-color: rgb(0.0000, 255,0.0000);\">1.0000</td><td style=\"background-color: rgb(255.0000, 255,255.0000);\">0.0000</td><td style=\"background-color: rgb(255.0000, 255,255.0000);\">0.0000</td></tr><tr><td><b>attention_intent</b></td><td style=\"background-color: rgb(0.0001, 255,0.0001);\">1.0000</td><td style=\"background-color: rgb(255.0000, 255,255.0000);\">0.0000</td><td style=\"background-color: rgb(255.0000, 255,255.0000);\">0.0000</td></tr><tr><td><b>slots_true</b></td><td style=\"background-color: rgb(255,255,255);\">O</td><td style=\"background-color: rgb(255,255,255);\">B-Phenomenon</td><td style=\"background-color: rgb(255,255,255);\">I-Phenomenon</td></tr><tr><td><b>slots_pred</b></td><td style=\"background-color: rgb(255,255,255);\">O</td><td style=\"background-color: rgb(255,255,255);\">B-Phenomenon</td><td style=\"background-color: rgb(255,255,255);\">I-Phenomenon</td></tr></table>"
      ],
      "text/plain": [
       "<IPython.core.display.HTML object>"
      ]
     },
     "metadata": {},
     "output_type": "display_data"
    },
    {
     "name": "stdout",
     "output_type": "stream",
     "text": [
      "true: Change_operational_state pred: Change_operational_state\n"
     ]
    },
    {
     "data": {
      "text/html": [
       "<table><tr><td><b>words</b></td><td style=\"background-color: rgb(255,255,255);\">switch</td><td style=\"background-color: rgb(255,255,255);\">on</td><td style=\"background-color: rgb(255,255,255);\">the</td><td style=\"background-color: rgb(255,255,255);\">tv</td></tr><tr><td><b>lexical_unit</b></td><td style=\"background-color: rgb(0.0000, 255,0.0000);\">1.0000</td><td style=\"background-color: rgb(255.0000, 255,255.0000);\">0.0000</td><td style=\"background-color: rgb(255.0000, 255,255.0000);\">0.0000</td><td style=\"background-color: rgb(255.0000, 255,255.0000);\">0.0000</td></tr><tr><td><b>attention_intent</b></td><td style=\"background-color: rgb(0.0056, 255,0.0056);\">1.0000</td><td style=\"background-color: rgb(254.9966, 255,254.9966);\">0.0000</td><td style=\"background-color: rgb(255.0000, 255,255.0000);\">0.0000</td><td style=\"background-color: rgb(254.9998, 255,254.9998);\">0.0000</td></tr><tr><td><b>slots_true</b></td><td style=\"background-color: rgb(255,255,255);\">O</td><td style=\"background-color: rgb(255,255,255);\">B-Operational_state</td><td style=\"background-color: rgb(255,255,255);\">B-Device</td><td style=\"background-color: rgb(255,255,255);\">I-Device</td></tr><tr><td><b>slots_pred</b></td><td style=\"background-color: rgb(255,255,255);\">O</td><td style=\"background-color: rgb(255,255,255);\">B-Operational_state</td><td style=\"background-color: rgb(255,255,255);\">B-Device</td><td style=\"background-color: rgb(255,255,255);\">I-Device</td></tr></table>"
      ],
      "text/plain": [
       "<IPython.core.display.HTML object>"
      ]
     },
     "metadata": {},
     "output_type": "display_data"
    },
    {
     "name": "stdout",
     "output_type": "stream",
     "text": [
      "true: Closure pred: Closure\n"
     ]
    },
    {
     "data": {
      "text/html": [
       "<table><tr><td><b>words</b></td><td style=\"background-color: rgb(255,255,255);\">could</td><td style=\"background-color: rgb(255,255,255);\">you</td><td style=\"background-color: rgb(255,255,255);\">close</td><td style=\"background-color: rgb(255,255,255);\">the</td><td style=\"background-color: rgb(255,255,255);\">shutters</td></tr><tr><td><b>lexical_unit</b></td><td style=\"background-color: rgb(255.0000, 255,255.0000);\">0.0000</td><td style=\"background-color: rgb(255.0000, 255,255.0000);\">0.0000</td><td style=\"background-color: rgb(0.0000, 255,0.0000);\">1.0000</td><td style=\"background-color: rgb(255.0000, 255,255.0000);\">0.0000</td><td style=\"background-color: rgb(255.0000, 255,255.0000);\">0.0000</td></tr><tr><td><b>attention_intent</b></td><td style=\"background-color: rgb(254.8423, 255,254.8423);\">0.0006</td><td style=\"background-color: rgb(254.8396, 255,254.8396);\">0.0006</td><td style=\"background-color: rgb(0.3187, 255,0.3187);\">0.9988</td><td style=\"background-color: rgb(255.0000, 255,255.0000);\">0.0000</td><td style=\"background-color: rgb(255.0000, 255,255.0000);\">0.0000</td></tr><tr><td><b>slots_true</b></td><td style=\"background-color: rgb(255,255,255);\">O</td><td style=\"background-color: rgb(255,255,255);\">B-Agent</td><td style=\"background-color: rgb(255,255,255);\">O</td><td style=\"background-color: rgb(255,255,255);\">B-Container_portal</td><td style=\"background-color: rgb(255,255,255);\">I-Container_portal</td></tr><tr><td><b>slots_pred</b></td><td style=\"background-color: rgb(255,255,255);\">O</td><td style=\"background-color: rgb(255,255,255);\">O</td><td style=\"background-color: rgb(255,255,255);\">O</td><td style=\"background-color: rgb(255,255,255);\">B-Goal</td><td style=\"background-color: rgb(255,255,255);\">I-Goal</td></tr></table>"
      ],
      "text/plain": [
       "<IPython.core.display.HTML object>"
      ]
     },
     "metadata": {},
     "output_type": "display_data"
    },
    {
     "name": "stdout",
     "output_type": "stream",
     "text": [
      "true: Taking pred: Taking\n"
     ]
    },
    {
     "data": {
      "text/html": [
       "<table><tr><td><b>words</b></td><td style=\"background-color: rgb(255,255,255);\">get</td><td style=\"background-color: rgb(255,255,255);\">the</td><td style=\"background-color: rgb(255,255,255);\">phone</td></tr><tr><td><b>lexical_unit</b></td><td style=\"background-color: rgb(0.0000, 255,0.0000);\">1.0000</td><td style=\"background-color: rgb(255.0000, 255,255.0000);\">0.0000</td><td style=\"background-color: rgb(255.0000, 255,255.0000);\">0.0000</td></tr><tr><td><b>attention_intent</b></td><td style=\"background-color: rgb(0.2896, 255,0.2896);\">0.9989</td><td style=\"background-color: rgb(254.9936, 255,254.9936);\">0.0000</td><td style=\"background-color: rgb(254.7168, 255,254.7168);\">0.0011</td></tr><tr><td><b>slots_true</b></td><td style=\"background-color: rgb(255,255,255);\">O</td><td style=\"background-color: rgb(255,255,255);\">B-Theme</td><td style=\"background-color: rgb(255,255,255);\">I-Theme</td></tr><tr><td><b>slots_pred</b></td><td style=\"background-color: rgb(255,255,255);\">O</td><td style=\"background-color: rgb(255,255,255);\">B-Theme</td><td style=\"background-color: rgb(255,255,255);\">I-Theme</td></tr></table>"
      ],
      "text/plain": [
       "<IPython.core.display.HTML object>"
      ]
     },
     "metadata": {},
     "output_type": "display_data"
    },
    {
     "name": "stdout",
     "output_type": "stream",
     "text": [
      "true: Bringing pred: Bringing\n"
     ]
    },
    {
     "data": {
      "text/html": [
       "<table><tr><td><b>words</b></td><td style=\"background-color: rgb(255,255,255);\">robot</td><td style=\"background-color: rgb(255,255,255);\">can</td><td style=\"background-color: rgb(255,255,255);\">you</td><td style=\"background-color: rgb(255,255,255);\">bring</td><td style=\"background-color: rgb(255,255,255);\">me</td><td style=\"background-color: rgb(255,255,255);\">a</td><td style=\"background-color: rgb(255,255,255);\">towel</td></tr><tr><td><b>lexical_unit</b></td><td style=\"background-color: rgb(255.0000, 255,255.0000);\">0.0000</td><td style=\"background-color: rgb(255.0000, 255,255.0000);\">0.0000</td><td style=\"background-color: rgb(255.0000, 255,255.0000);\">0.0000</td><td style=\"background-color: rgb(0.0000, 255,0.0000);\">1.0000</td><td style=\"background-color: rgb(255.0000, 255,255.0000);\">0.0000</td><td style=\"background-color: rgb(255.0000, 255,255.0000);\">0.0000</td><td style=\"background-color: rgb(255.0000, 255,255.0000);\">0.0000</td></tr><tr><td><b>attention_intent</b></td><td style=\"background-color: rgb(255.0000, 255,255.0000);\">0.0000</td><td style=\"background-color: rgb(255.0000, 255,255.0000);\">0.0000</td><td style=\"background-color: rgb(254.9998, 255,254.9998);\">0.0000</td><td style=\"background-color: rgb(189.0227, 255,189.0227);\">0.2587</td><td style=\"background-color: rgb(65.9776, 255,65.9776);\">0.7413</td><td style=\"background-color: rgb(255.0000, 255,255.0000);\">0.0000</td><td style=\"background-color: rgb(255.0000, 255,255.0000);\">0.0000</td></tr><tr><td><b>slots_true</b></td><td style=\"background-color: rgb(255,255,255);\">O</td><td style=\"background-color: rgb(255,255,255);\">O</td><td style=\"background-color: rgb(255,255,255);\">B-Agent</td><td style=\"background-color: rgb(255,255,255);\">O</td><td style=\"background-color: rgb(255,255,255);\">B-Beneficiary</td><td style=\"background-color: rgb(255,255,255);\">B-Theme</td><td style=\"background-color: rgb(255,255,255);\">I-Theme</td></tr><tr><td><b>slots_pred</b></td><td style=\"background-color: rgb(255,255,255);\">O</td><td style=\"background-color: rgb(255,255,255);\">O</td><td style=\"background-color: rgb(255,255,255);\">B-Agent</td><td style=\"background-color: rgb(255,255,255);\">O</td><td style=\"background-color: rgb(255,255,255);\">B-Beneficiary</td><td style=\"background-color: rgb(255,255,255);\">B-Theme</td><td style=\"background-color: rgb(255,255,255);\">I-Theme</td></tr></table>"
      ],
      "text/plain": [
       "<IPython.core.display.HTML object>"
      ]
     },
     "metadata": {},
     "output_type": "display_data"
    },
    {
     "name": "stdout",
     "output_type": "stream",
     "text": [
      "true: Bringing pred: Bringing\n"
     ]
    },
    {
     "data": {
      "text/html": [
       "<table><tr><td><b>words</b></td><td style=\"background-color: rgb(255,255,255);\">and</td><td style=\"background-color: rgb(255,255,255);\">bring</td><td style=\"background-color: rgb(255,255,255);\">it</td><td style=\"background-color: rgb(255,255,255);\">here</td></tr><tr><td><b>lexical_unit</b></td><td style=\"background-color: rgb(255.0000, 255,255.0000);\">0.0000</td><td style=\"background-color: rgb(0.0000, 255,0.0000);\">1.0000</td><td style=\"background-color: rgb(255.0000, 255,255.0000);\">0.0000</td><td style=\"background-color: rgb(255.0000, 255,255.0000);\">0.0000</td></tr><tr><td><b>attention_intent</b></td><td style=\"background-color: rgb(255.0000, 255,255.0000);\">0.0000</td><td style=\"background-color: rgb(10.2574, 255,10.2574);\">0.9598</td><td style=\"background-color: rgb(254.9993, 255,254.9993);\">0.0000</td><td style=\"background-color: rgb(244.7433, 255,244.7433);\">0.0402</td></tr><tr><td><b>slots_true</b></td><td style=\"background-color: rgb(255,255,255);\">O</td><td style=\"background-color: rgb(255,255,255);\">O</td><td style=\"background-color: rgb(255,255,255);\">B-Theme</td><td style=\"background-color: rgb(255,255,255);\">B-Goal</td></tr><tr><td><b>slots_pred</b></td><td style=\"background-color: rgb(255,255,255);\">O</td><td style=\"background-color: rgb(255,255,255);\">O</td><td style=\"background-color: rgb(255,255,255);\">B-Theme</td><td style=\"background-color: rgb(255,255,255);\">B-Goal</td></tr></table>"
      ],
      "text/plain": [
       "<IPython.core.display.HTML object>"
      ]
     },
     "metadata": {},
     "output_type": "display_data"
    },
    {
     "name": "stdout",
     "output_type": "stream",
     "text": [
      "true: Motion pred: Motion\n"
     ]
    },
    {
     "data": {
      "text/html": [
       "<table><tr><td><b>words</b></td><td style=\"background-color: rgb(255,255,255);\">go</td><td style=\"background-color: rgb(255,255,255);\">in</td><td style=\"background-color: rgb(255,255,255);\">the</td><td style=\"background-color: rgb(255,255,255);\">kitchen</td></tr><tr><td><b>lexical_unit</b></td><td style=\"background-color: rgb(0.0000, 255,0.0000);\">1.0000</td><td style=\"background-color: rgb(255.0000, 255,255.0000);\">0.0000</td><td style=\"background-color: rgb(255.0000, 255,255.0000);\">0.0000</td><td style=\"background-color: rgb(255.0000, 255,255.0000);\">0.0000</td></tr><tr><td><b>attention_intent</b></td><td style=\"background-color: rgb(0.0089, 255,0.0089);\">1.0000</td><td style=\"background-color: rgb(254.9911, 255,254.9911);\">0.0000</td><td style=\"background-color: rgb(255.0000, 255,255.0000);\">0.0000</td><td style=\"background-color: rgb(255.0000, 255,255.0000);\">0.0000</td></tr><tr><td><b>slots_true</b></td><td style=\"background-color: rgb(255,255,255);\">O</td><td style=\"background-color: rgb(255,255,255);\">B-Goal</td><td style=\"background-color: rgb(255,255,255);\">I-Goal</td><td style=\"background-color: rgb(255,255,255);\">I-Goal</td></tr><tr><td><b>slots_pred</b></td><td style=\"background-color: rgb(255,255,255);\">O</td><td style=\"background-color: rgb(255,255,255);\">B-Goal</td><td style=\"background-color: rgb(255,255,255);\">I-Goal</td><td style=\"background-color: rgb(255,255,255);\">I-Goal</td></tr></table>"
      ],
      "text/plain": [
       "<IPython.core.display.HTML object>"
      ]
     },
     "metadata": {},
     "output_type": "display_data"
    },
    {
     "name": "stdout",
     "output_type": "stream",
     "text": [
      "true: Bringing pred: Bringing\n"
     ]
    },
    {
     "data": {
      "text/html": [
       "<table><tr><td><b>words</b></td><td style=\"background-color: rgb(255,255,255);\">bring</td><td style=\"background-color: rgb(255,255,255);\">the</td><td style=\"background-color: rgb(255,255,255);\">bottle</td><td style=\"background-color: rgb(255,255,255);\">to</td><td style=\"background-color: rgb(255,255,255);\">the</td><td style=\"background-color: rgb(255,255,255);\">couch</td></tr><tr><td><b>lexical_unit</b></td><td style=\"background-color: rgb(0.0000, 255,0.0000);\">1.0000</td><td style=\"background-color: rgb(255.0000, 255,255.0000);\">0.0000</td><td style=\"background-color: rgb(255.0000, 255,255.0000);\">0.0000</td><td style=\"background-color: rgb(255.0000, 255,255.0000);\">0.0000</td><td style=\"background-color: rgb(255.0000, 255,255.0000);\">0.0000</td><td style=\"background-color: rgb(255.0000, 255,255.0000);\">0.0000</td></tr><tr><td><b>attention_intent</b></td><td style=\"background-color: rgb(117.2300, 255,117.2300);\">0.5403</td><td style=\"background-color: rgb(255.0000, 255,255.0000);\">0.0000</td><td style=\"background-color: rgb(254.8362, 255,254.8362);\">0.0006</td><td style=\"background-color: rgb(137.9338, 255,137.9338);\">0.4591</td><td style=\"background-color: rgb(255.0000, 255,255.0000);\">0.0000</td><td style=\"background-color: rgb(255.0000, 255,255.0000);\">0.0000</td></tr><tr><td><b>slots_true</b></td><td style=\"background-color: rgb(255,255,255);\">O</td><td style=\"background-color: rgb(255,255,255);\">B-Theme</td><td style=\"background-color: rgb(255,255,255);\">I-Theme</td><td style=\"background-color: rgb(255,255,255);\">B-Goal</td><td style=\"background-color: rgb(255,255,255);\">I-Goal</td><td style=\"background-color: rgb(255,255,255);\">I-Goal</td></tr><tr><td><b>slots_pred</b></td><td style=\"background-color: rgb(255,255,255);\">O</td><td style=\"background-color: rgb(255,255,255);\">B-Theme</td><td style=\"background-color: rgb(255,255,255);\">I-Theme</td><td style=\"background-color: rgb(255,255,255);\">B-Goal</td><td style=\"background-color: rgb(255,255,255);\">I-Goal</td><td style=\"background-color: rgb(255,255,255);\">I-Goal</td></tr></table>"
      ],
      "text/plain": [
       "<IPython.core.display.HTML object>"
      ]
     },
     "metadata": {},
     "output_type": "display_data"
    },
    {
     "name": "stdout",
     "output_type": "stream",
     "text": [
      "true: Following pred: Following\n"
     ]
    },
    {
     "data": {
      "text/html": [
       "<table><tr><td><b>words</b></td><td style=\"background-color: rgb(255,255,255);\">follow</td><td style=\"background-color: rgb(255,255,255);\">me</td><td style=\"background-color: rgb(255,255,255);\">to</td><td style=\"background-color: rgb(255,255,255);\">the</td><td style=\"background-color: rgb(255,255,255);\">bathroom</td></tr><tr><td><b>lexical_unit</b></td><td style=\"background-color: rgb(0.0000, 255,0.0000);\">1.0000</td><td style=\"background-color: rgb(255.0000, 255,255.0000);\">0.0000</td><td style=\"background-color: rgb(255.0000, 255,255.0000);\">0.0000</td><td style=\"background-color: rgb(255.0000, 255,255.0000);\">0.0000</td><td style=\"background-color: rgb(255.0000, 255,255.0000);\">0.0000</td></tr><tr><td><b>attention_intent</b></td><td style=\"background-color: rgb(0.6922, 255,0.6922);\">0.9973</td><td style=\"background-color: rgb(254.3156, 255,254.3156);\">0.0027</td><td style=\"background-color: rgb(254.9922, 255,254.9922);\">0.0000</td><td style=\"background-color: rgb(255.0000, 255,255.0000);\">0.0000</td><td style=\"background-color: rgb(255.0000, 255,255.0000);\">0.0000</td></tr><tr><td><b>slots_true</b></td><td style=\"background-color: rgb(255,255,255);\">O</td><td style=\"background-color: rgb(255,255,255);\">B-Cotheme</td><td style=\"background-color: rgb(255,255,255);\">B-Goal</td><td style=\"background-color: rgb(255,255,255);\">I-Goal</td><td style=\"background-color: rgb(255,255,255);\">I-Goal</td></tr><tr><td><b>slots_pred</b></td><td style=\"background-color: rgb(255,255,255);\">O</td><td style=\"background-color: rgb(255,255,255);\">B-Cotheme</td><td style=\"background-color: rgb(255,255,255);\">B-Goal</td><td style=\"background-color: rgb(255,255,255);\">I-Goal</td><td style=\"background-color: rgb(255,255,255);\">I-Goal</td></tr></table>"
      ],
      "text/plain": [
       "<IPython.core.display.HTML object>"
      ]
     },
     "metadata": {},
     "output_type": "display_data"
    },
    {
     "name": "stdout",
     "output_type": "stream",
     "text": [
      "true: Placing pred: Placing\n"
     ]
    },
    {
     "data": {
      "text/html": [
       "<table><tr><td><b>words</b></td><td style=\"background-color: rgb(255,255,255);\">please</td><td style=\"background-color: rgb(255,255,255);\">put</td><td style=\"background-color: rgb(255,255,255);\">the</td><td style=\"background-color: rgb(255,255,255);\">book</td><td style=\"background-color: rgb(255,255,255);\">in</td><td style=\"background-color: rgb(255,255,255);\">the</td><td style=\"background-color: rgb(255,255,255);\">dining</td><td style=\"background-color: rgb(255,255,255);\">room</td></tr><tr><td><b>lexical_unit</b></td><td style=\"background-color: rgb(255.0000, 255,255.0000);\">0.0000</td><td style=\"background-color: rgb(0.0000, 255,0.0000);\">1.0000</td><td style=\"background-color: rgb(255.0000, 255,255.0000);\">0.0000</td><td style=\"background-color: rgb(255.0000, 255,255.0000);\">0.0000</td><td style=\"background-color: rgb(255.0000, 255,255.0000);\">0.0000</td><td style=\"background-color: rgb(255.0000, 255,255.0000);\">0.0000</td><td style=\"background-color: rgb(255.0000, 255,255.0000);\">0.0000</td><td style=\"background-color: rgb(255.0000, 255,255.0000);\">0.0000</td></tr><tr><td><b>attention_intent</b></td><td style=\"background-color: rgb(254.9929, 255,254.9929);\">0.0000</td><td style=\"background-color: rgb(0.0276, 255,0.0276);\">0.9999</td><td style=\"background-color: rgb(255.0000, 255,255.0000);\">0.0000</td><td style=\"background-color: rgb(254.9804, 255,254.9804);\">0.0001</td><td style=\"background-color: rgb(254.9992, 255,254.9992);\">0.0000</td><td style=\"background-color: rgb(255.0000, 255,255.0000);\">0.0000</td><td style=\"background-color: rgb(255.0000, 255,255.0000);\">0.0000</td><td style=\"background-color: rgb(255.0000, 255,255.0000);\">0.0000</td></tr><tr><td><b>slots_true</b></td><td style=\"background-color: rgb(255,255,255);\">O</td><td style=\"background-color: rgb(255,255,255);\">O</td><td style=\"background-color: rgb(255,255,255);\">B-Theme</td><td style=\"background-color: rgb(255,255,255);\">I-Theme</td><td style=\"background-color: rgb(255,255,255);\">B-Goal</td><td style=\"background-color: rgb(255,255,255);\">I-Goal</td><td style=\"background-color: rgb(255,255,255);\">I-Goal</td><td style=\"background-color: rgb(255,255,255);\">I-Goal</td></tr><tr><td><b>slots_pred</b></td><td style=\"background-color: rgb(255,255,255);\">O</td><td style=\"background-color: rgb(255,255,255);\">O</td><td style=\"background-color: rgb(255,255,255);\">B-Theme</td><td style=\"background-color: rgb(255,255,255);\">I-Theme</td><td style=\"background-color: rgb(255,255,255);\">B-Goal</td><td style=\"background-color: rgb(255,255,255);\">I-Goal</td><td style=\"background-color: rgb(255,255,255);\">I-Goal</td><td style=\"background-color: rgb(255,255,255);\">I-Goal</td></tr></table>"
      ],
      "text/plain": [
       "<IPython.core.display.HTML object>"
      ]
     },
     "metadata": {},
     "output_type": "display_data"
    },
    {
     "name": "stdout",
     "output_type": "stream",
     "text": [
      "true: Motion pred: Motion\n"
     ]
    },
    {
     "data": {
      "text/html": [
       "<table><tr><td><b>words</b></td><td style=\"background-color: rgb(255,255,255);\">go</td><td style=\"background-color: rgb(255,255,255);\">to</td><td style=\"background-color: rgb(255,255,255);\">living</td><td style=\"background-color: rgb(255,255,255);\">room</td></tr><tr><td><b>lexical_unit</b></td><td style=\"background-color: rgb(0.0000, 255,0.0000);\">1.0000</td><td style=\"background-color: rgb(255.0000, 255,255.0000);\">0.0000</td><td style=\"background-color: rgb(255.0000, 255,255.0000);\">0.0000</td><td style=\"background-color: rgb(255.0000, 255,255.0000);\">0.0000</td></tr><tr><td><b>attention_intent</b></td><td style=\"background-color: rgb(0.5636, 255,0.5636);\">0.9978</td><td style=\"background-color: rgb(254.4364, 255,254.4364);\">0.0022</td><td style=\"background-color: rgb(255.0000, 255,255.0000);\">0.0000</td><td style=\"background-color: rgb(255.0000, 255,255.0000);\">0.0000</td></tr><tr><td><b>slots_true</b></td><td style=\"background-color: rgb(255,255,255);\">O</td><td style=\"background-color: rgb(255,255,255);\">B-Goal</td><td style=\"background-color: rgb(255,255,255);\">I-Goal</td><td style=\"background-color: rgb(255,255,255);\">I-Goal</td></tr><tr><td><b>slots_pred</b></td><td style=\"background-color: rgb(255,255,255);\">O</td><td style=\"background-color: rgb(255,255,255);\">B-Goal</td><td style=\"background-color: rgb(255,255,255);\">I-Goal</td><td style=\"background-color: rgb(255,255,255);\">I-Goal</td></tr></table>"
      ],
      "text/plain": [
       "<IPython.core.display.HTML object>"
      ]
     },
     "metadata": {},
     "output_type": "display_data"
    },
    {
     "name": "stdout",
     "output_type": "stream",
     "text": [
      "true: Releasing pred: Releasing\n"
     ]
    },
    {
     "data": {
      "text/html": [
       "<table><tr><td><b>words</b></td><td style=\"background-color: rgb(255,255,255);\">drop</td><td style=\"background-color: rgb(255,255,255);\">the</td><td style=\"background-color: rgb(255,255,255);\">vase</td></tr><tr><td><b>lexical_unit</b></td><td style=\"background-color: rgb(0.0000, 255,0.0000);\">1.0000</td><td style=\"background-color: rgb(255.0000, 255,255.0000);\">0.0000</td><td style=\"background-color: rgb(255.0000, 255,255.0000);\">0.0000</td></tr><tr><td><b>attention_intent</b></td><td style=\"background-color: rgb(0.0126, 255,0.0126);\">1.0000</td><td style=\"background-color: rgb(254.9977, 255,254.9977);\">0.0000</td><td style=\"background-color: rgb(254.9903, 255,254.9903);\">0.0000</td></tr><tr><td><b>slots_true</b></td><td style=\"background-color: rgb(255,255,255);\">O</td><td style=\"background-color: rgb(255,255,255);\">B-Theme</td><td style=\"background-color: rgb(255,255,255);\">I-Theme</td></tr><tr><td><b>slots_pred</b></td><td style=\"background-color: rgb(255,255,255);\">O</td><td style=\"background-color: rgb(255,255,255);\">B-Theme</td><td style=\"background-color: rgb(255,255,255);\">I-Theme</td></tr></table>"
      ],
      "text/plain": [
       "<IPython.core.display.HTML object>"
      ]
     },
     "metadata": {},
     "output_type": "display_data"
    },
    {
     "name": "stdout",
     "output_type": "stream",
     "text": [
      "true: Taking pred: Taking\n"
     ]
    },
    {
     "data": {
      "text/html": [
       "<table><tr><td><b>words</b></td><td style=\"background-color: rgb(255,255,255);\">get</td><td style=\"background-color: rgb(255,255,255);\">my</td><td style=\"background-color: rgb(255,255,255);\">computer</td><td style=\"background-color: rgb(255,255,255);\">from</td><td style=\"background-color: rgb(255,255,255);\">the</td><td style=\"background-color: rgb(255,255,255);\">seat</td></tr><tr><td><b>lexical_unit</b></td><td style=\"background-color: rgb(0.0000, 255,0.0000);\">1.0000</td><td style=\"background-color: rgb(255.0000, 255,255.0000);\">0.0000</td><td style=\"background-color: rgb(255.0000, 255,255.0000);\">0.0000</td><td style=\"background-color: rgb(255.0000, 255,255.0000);\">0.0000</td><td style=\"background-color: rgb(255.0000, 255,255.0000);\">0.0000</td><td style=\"background-color: rgb(255.0000, 255,255.0000);\">0.0000</td></tr><tr><td><b>attention_intent</b></td><td style=\"background-color: rgb(1.6117, 255,1.6117);\">0.9937</td><td style=\"background-color: rgb(254.2465, 255,254.2465);\">0.0030</td><td style=\"background-color: rgb(254.1940, 255,254.1940);\">0.0032</td><td style=\"background-color: rgb(254.9897, 255,254.9897);\">0.0000</td><td style=\"background-color: rgb(254.9999, 255,254.9999);\">0.0000</td><td style=\"background-color: rgb(254.9585, 255,254.9585);\">0.0002</td></tr><tr><td><b>slots_true</b></td><td style=\"background-color: rgb(255,255,255);\">O</td><td style=\"background-color: rgb(255,255,255);\">B-Theme</td><td style=\"background-color: rgb(255,255,255);\">I-Theme</td><td style=\"background-color: rgb(255,255,255);\">B-Source</td><td style=\"background-color: rgb(255,255,255);\">I-Source</td><td style=\"background-color: rgb(255,255,255);\">I-Source</td></tr><tr><td><b>slots_pred</b></td><td style=\"background-color: rgb(255,255,255);\">O</td><td style=\"background-color: rgb(255,255,255);\">B-Theme</td><td style=\"background-color: rgb(255,255,255);\">I-Theme</td><td style=\"background-color: rgb(255,255,255);\">B-Theme</td><td style=\"background-color: rgb(255,255,255);\">I-Theme</td><td style=\"background-color: rgb(255,255,255);\">I-Theme</td></tr></table>"
      ],
      "text/plain": [
       "<IPython.core.display.HTML object>"
      ]
     },
     "metadata": {},
     "output_type": "display_data"
    },
    {
     "name": "stdout",
     "output_type": "stream",
     "text": [
      "true: Bringing pred: Bringing\n"
     ]
    },
    {
     "data": {
      "text/html": [
       "<table><tr><td><b>words</b></td><td style=\"background-color: rgb(255,255,255);\">and</td><td style=\"background-color: rgb(255,255,255);\">bring</td><td style=\"background-color: rgb(255,255,255);\">it</td><td style=\"background-color: rgb(255,255,255);\">to</td><td style=\"background-color: rgb(255,255,255);\">me</td></tr><tr><td><b>lexical_unit</b></td><td style=\"background-color: rgb(255.0000, 255,255.0000);\">0.0000</td><td style=\"background-color: rgb(0.0000, 255,0.0000);\">1.0000</td><td style=\"background-color: rgb(255.0000, 255,255.0000);\">0.0000</td><td style=\"background-color: rgb(255.0000, 255,255.0000);\">0.0000</td><td style=\"background-color: rgb(255.0000, 255,255.0000);\">0.0000</td></tr><tr><td><b>attention_intent</b></td><td style=\"background-color: rgb(255.0000, 255,255.0000);\">0.0000</td><td style=\"background-color: rgb(67.7999, 255,67.7999);\">0.7341</td><td style=\"background-color: rgb(254.9574, 255,254.9574);\">0.0002</td><td style=\"background-color: rgb(187.3684, 255,187.3684);\">0.2652</td><td style=\"background-color: rgb(254.8743, 255,254.8743);\">0.0005</td></tr><tr><td><b>slots_true</b></td><td style=\"background-color: rgb(255,255,255);\">O</td><td style=\"background-color: rgb(255,255,255);\">O</td><td style=\"background-color: rgb(255,255,255);\">B-Theme</td><td style=\"background-color: rgb(255,255,255);\">B-Beneficiary</td><td style=\"background-color: rgb(255,255,255);\">I-Beneficiary</td></tr><tr><td><b>slots_pred</b></td><td style=\"background-color: rgb(255,255,255);\">O</td><td style=\"background-color: rgb(255,255,255);\">O</td><td style=\"background-color: rgb(255,255,255);\">B-Theme</td><td style=\"background-color: rgb(255,255,255);\">B-Beneficiary</td><td style=\"background-color: rgb(255,255,255);\">I-Beneficiary</td></tr></table>"
      ],
      "text/plain": [
       "<IPython.core.display.HTML object>"
      ]
     },
     "metadata": {},
     "output_type": "display_data"
    },
    {
     "name": "stdout",
     "output_type": "stream",
     "text": [
      "true: Bringing pred: Bringing\n"
     ]
    },
    {
     "data": {
      "text/html": [
       "<table><tr><td><b>words</b></td><td style=\"background-color: rgb(255,255,255);\">take</td><td style=\"background-color: rgb(255,255,255);\">my</td><td style=\"background-color: rgb(255,255,255);\">cellphone</td><td style=\"background-color: rgb(255,255,255);\">to</td><td style=\"background-color: rgb(255,255,255);\">the</td><td style=\"background-color: rgb(255,255,255);\">bedroom</td></tr><tr><td><b>lexical_unit</b></td><td style=\"background-color: rgb(0.0000, 255,0.0000);\">1.0000</td><td style=\"background-color: rgb(255.0000, 255,255.0000);\">0.0000</td><td style=\"background-color: rgb(255.0000, 255,255.0000);\">0.0000</td><td style=\"background-color: rgb(255.0000, 255,255.0000);\">0.0000</td><td style=\"background-color: rgb(255.0000, 255,255.0000);\">0.0000</td><td style=\"background-color: rgb(255.0000, 255,255.0000);\">0.0000</td></tr><tr><td><b>attention_intent</b></td><td style=\"background-color: rgb(250.0515, 255,250.0515);\">0.0194</td><td style=\"background-color: rgb(254.8208, 255,254.8208);\">0.0007</td><td style=\"background-color: rgb(237.4551, 255,237.4551);\">0.0688</td><td style=\"background-color: rgb(22.8143, 255,22.8143);\">0.9105</td><td style=\"background-color: rgb(254.8583, 255,254.8583);\">0.0006</td><td style=\"background-color: rgb(254.9999, 255,254.9999);\">0.0000</td></tr><tr><td><b>slots_true</b></td><td style=\"background-color: rgb(255,255,255);\">O</td><td style=\"background-color: rgb(255,255,255);\">B-Theme</td><td style=\"background-color: rgb(255,255,255);\">I-Theme</td><td style=\"background-color: rgb(255,255,255);\">B-Goal</td><td style=\"background-color: rgb(255,255,255);\">I-Goal</td><td style=\"background-color: rgb(255,255,255);\">I-Goal</td></tr><tr><td><b>slots_pred</b></td><td style=\"background-color: rgb(255,255,255);\">O</td><td style=\"background-color: rgb(255,255,255);\">B-Theme</td><td style=\"background-color: rgb(255,255,255);\">I-Theme</td><td style=\"background-color: rgb(255,255,255);\">B-Goal</td><td style=\"background-color: rgb(255,255,255);\">I-Goal</td><td style=\"background-color: rgb(255,255,255);\">I-Goal</td></tr></table>"
      ],
      "text/plain": [
       "<IPython.core.display.HTML object>"
      ]
     },
     "metadata": {},
     "output_type": "display_data"
    },
    {
     "name": "stdout",
     "output_type": "stream",
     "text": [
      "true: Bringing pred: Bringing\n"
     ]
    },
    {
     "data": {
      "text/html": [
       "<table><tr><td><b>words</b></td><td style=\"background-color: rgb(255,255,255);\">can</td><td style=\"background-color: rgb(255,255,255);\">you</td><td style=\"background-color: rgb(255,255,255);\">bring</td><td style=\"background-color: rgb(255,255,255);\">me</td><td style=\"background-color: rgb(255,255,255);\">my</td><td style=\"background-color: rgb(255,255,255);\">tablet</td></tr><tr><td><b>lexical_unit</b></td><td style=\"background-color: rgb(255.0000, 255,255.0000);\">0.0000</td><td style=\"background-color: rgb(255.0000, 255,255.0000);\">0.0000</td><td style=\"background-color: rgb(0.0000, 255,0.0000);\">1.0000</td><td style=\"background-color: rgb(255.0000, 255,255.0000);\">0.0000</td><td style=\"background-color: rgb(255.0000, 255,255.0000);\">0.0000</td><td style=\"background-color: rgb(255.0000, 255,255.0000);\">0.0000</td></tr><tr><td><b>attention_intent</b></td><td style=\"background-color: rgb(254.9998, 255,254.9998);\">0.0000</td><td style=\"background-color: rgb(254.9977, 255,254.9977);\">0.0000</td><td style=\"background-color: rgb(121.6440, 255,121.6440);\">0.5230</td><td style=\"background-color: rgb(133.3585, 255,133.3585);\">0.4770</td><td style=\"background-color: rgb(255.0000, 255,255.0000);\">0.0000</td><td style=\"background-color: rgb(255.0000, 255,255.0000);\">0.0000</td></tr><tr><td><b>slots_true</b></td><td style=\"background-color: rgb(255,255,255);\">O</td><td style=\"background-color: rgb(255,255,255);\">B-Agent</td><td style=\"background-color: rgb(255,255,255);\">O</td><td style=\"background-color: rgb(255,255,255);\">B-Beneficiary</td><td style=\"background-color: rgb(255,255,255);\">B-Theme</td><td style=\"background-color: rgb(255,255,255);\">I-Theme</td></tr><tr><td><b>slots_pred</b></td><td style=\"background-color: rgb(255,255,255);\">O</td><td style=\"background-color: rgb(255,255,255);\">B-Agent</td><td style=\"background-color: rgb(255,255,255);\">O</td><td style=\"background-color: rgb(255,255,255);\">B-Beneficiary</td><td style=\"background-color: rgb(255,255,255);\">B-Theme</td><td style=\"background-color: rgb(255,255,255);\">I-Theme</td></tr></table>"
      ],
      "text/plain": [
       "<IPython.core.display.HTML object>"
      ]
     },
     "metadata": {},
     "output_type": "display_data"
    },
    {
     "name": "stdout",
     "output_type": "stream",
     "text": [
      "true: Placing pred: Placing\n"
     ]
    },
    {
     "data": {
      "text/html": [
       "<table><tr><td><b>words</b></td><td style=\"background-color: rgb(255,255,255);\">could</td><td style=\"background-color: rgb(255,255,255);\">you</td><td style=\"background-color: rgb(255,255,255);\">put</td><td style=\"background-color: rgb(255,255,255);\">the</td><td style=\"background-color: rgb(255,255,255);\">vase</td><td style=\"background-color: rgb(255,255,255);\">on</td><td style=\"background-color: rgb(255,255,255);\">the</td><td style=\"background-color: rgb(255,255,255);\">coffee</td><td style=\"background-color: rgb(255,255,255);\">table</td></tr><tr><td><b>lexical_unit</b></td><td style=\"background-color: rgb(255.0000, 255,255.0000);\">0.0000</td><td style=\"background-color: rgb(255.0000, 255,255.0000);\">0.0000</td><td style=\"background-color: rgb(0.0000, 255,0.0000);\">1.0000</td><td style=\"background-color: rgb(255.0000, 255,255.0000);\">0.0000</td><td style=\"background-color: rgb(255.0000, 255,255.0000);\">0.0000</td><td style=\"background-color: rgb(255.0000, 255,255.0000);\">0.0000</td><td style=\"background-color: rgb(255.0000, 255,255.0000);\">0.0000</td><td style=\"background-color: rgb(255.0000, 255,255.0000);\">0.0000</td><td style=\"background-color: rgb(255.0000, 255,255.0000);\">0.0000</td></tr><tr><td><b>attention_intent</b></td><td style=\"background-color: rgb(254.9975, 255,254.9975);\">0.0000</td><td style=\"background-color: rgb(254.9966, 255,254.9966);\">0.0000</td><td style=\"background-color: rgb(0.1981, 255,0.1981);\">0.9992</td><td style=\"background-color: rgb(255.0000, 255,255.0000);\">0.0000</td><td style=\"background-color: rgb(254.8079, 255,254.8079);\">0.0008</td><td style=\"background-color: rgb(255.0000, 255,255.0000);\">0.0000</td><td style=\"background-color: rgb(255.0000, 255,255.0000);\">0.0000</td><td style=\"background-color: rgb(255.0000, 255,255.0000);\">0.0000</td><td style=\"background-color: rgb(255.0000, 255,255.0000);\">0.0000</td></tr><tr><td><b>slots_true</b></td><td style=\"background-color: rgb(255,255,255);\">O</td><td style=\"background-color: rgb(255,255,255);\">B-Agent</td><td style=\"background-color: rgb(255,255,255);\">O</td><td style=\"background-color: rgb(255,255,255);\">B-Theme</td><td style=\"background-color: rgb(255,255,255);\">I-Theme</td><td style=\"background-color: rgb(255,255,255);\">B-Goal</td><td style=\"background-color: rgb(255,255,255);\">I-Goal</td><td style=\"background-color: rgb(255,255,255);\">I-Goal</td><td style=\"background-color: rgb(255,255,255);\">I-Goal</td></tr><tr><td><b>slots_pred</b></td><td style=\"background-color: rgb(255,255,255);\">O</td><td style=\"background-color: rgb(255,255,255);\">B-Agent</td><td style=\"background-color: rgb(255,255,255);\">O</td><td style=\"background-color: rgb(255,255,255);\">B-Theme</td><td style=\"background-color: rgb(255,255,255);\">I-Theme</td><td style=\"background-color: rgb(255,255,255);\">B-Goal</td><td style=\"background-color: rgb(255,255,255);\">I-Goal</td><td style=\"background-color: rgb(255,255,255);\">I-Goal</td><td style=\"background-color: rgb(255,255,255);\">I-Goal</td></tr></table>"
      ],
      "text/plain": [
       "<IPython.core.display.HTML object>"
      ]
     },
     "metadata": {},
     "output_type": "display_data"
    },
    {
     "name": "stdout",
     "output_type": "stream",
     "text": [
      "true: Bringing pred: Bringing\n"
     ]
    },
    {
     "data": {
      "text/html": [
       "<table><tr><td><b>words</b></td><td style=\"background-color: rgb(255,255,255);\">bring</td><td style=\"background-color: rgb(255,255,255);\">me</td><td style=\"background-color: rgb(255,255,255);\">the</td><td style=\"background-color: rgb(255,255,255);\">glasses</td></tr><tr><td><b>lexical_unit</b></td><td style=\"background-color: rgb(0.0000, 255,0.0000);\">1.0000</td><td style=\"background-color: rgb(255.0000, 255,255.0000);\">0.0000</td><td style=\"background-color: rgb(255.0000, 255,255.0000);\">0.0000</td><td style=\"background-color: rgb(255.0000, 255,255.0000);\">0.0000</td></tr><tr><td><b>attention_intent</b></td><td style=\"background-color: rgb(133.2062, 255,133.2062);\">0.4776</td><td style=\"background-color: rgb(121.7939, 255,121.7939);\">0.5224</td><td style=\"background-color: rgb(255.0000, 255,255.0000);\">0.0000</td><td style=\"background-color: rgb(255.0000, 255,255.0000);\">0.0000</td></tr><tr><td><b>slots_true</b></td><td style=\"background-color: rgb(255,255,255);\">O</td><td style=\"background-color: rgb(255,255,255);\">B-Beneficiary</td><td style=\"background-color: rgb(255,255,255);\">B-Theme</td><td style=\"background-color: rgb(255,255,255);\">I-Theme</td></tr><tr><td><b>slots_pred</b></td><td style=\"background-color: rgb(255,255,255);\">O</td><td style=\"background-color: rgb(255,255,255);\">B-Beneficiary</td><td style=\"background-color: rgb(255,255,255);\">B-Theme</td><td style=\"background-color: rgb(255,255,255);\">I-Theme</td></tr></table>"
      ],
      "text/plain": [
       "<IPython.core.display.HTML object>"
      ]
     },
     "metadata": {},
     "output_type": "display_data"
    },
    {
     "name": "stdout",
     "output_type": "stream",
     "text": [
      "true: Searching pred: Searching\n"
     ]
    },
    {
     "data": {
      "text/html": [
       "<table><tr><td><b>words</b></td><td style=\"background-color: rgb(255,255,255);\">find</td><td style=\"background-color: rgb(255,255,255);\">the</td><td style=\"background-color: rgb(255,255,255);\">television</td></tr><tr><td><b>lexical_unit</b></td><td style=\"background-color: rgb(0.0000, 255,0.0000);\">1.0000</td><td style=\"background-color: rgb(255.0000, 255,255.0000);\">0.0000</td><td style=\"background-color: rgb(255.0000, 255,255.0000);\">0.0000</td></tr><tr><td><b>attention_intent</b></td><td style=\"background-color: rgb(0.0000, 255,0.0000);\">1.0000</td><td style=\"background-color: rgb(255.0000, 255,255.0000);\">0.0000</td><td style=\"background-color: rgb(255.0000, 255,255.0000);\">0.0000</td></tr><tr><td><b>slots_true</b></td><td style=\"background-color: rgb(255,255,255);\">O</td><td style=\"background-color: rgb(255,255,255);\">B-Phenomenon</td><td style=\"background-color: rgb(255,255,255);\">I-Phenomenon</td></tr><tr><td><b>slots_pred</b></td><td style=\"background-color: rgb(255,255,255);\">O</td><td style=\"background-color: rgb(255,255,255);\">B-Phenomenon</td><td style=\"background-color: rgb(255,255,255);\">I-Phenomenon</td></tr></table>"
      ],
      "text/plain": [
       "<IPython.core.display.HTML object>"
      ]
     },
     "metadata": {},
     "output_type": "display_data"
    },
    {
     "name": "stdout",
     "output_type": "stream",
     "text": [
      "true: Searching pred: Searching\n"
     ]
    },
    {
     "data": {
      "text/html": [
       "<table><tr><td><b>words</b></td><td style=\"background-color: rgb(255,255,255);\">look</td><td style=\"background-color: rgb(255,255,255);\">for</td><td style=\"background-color: rgb(255,255,255);\">my</td><td style=\"background-color: rgb(255,255,255);\">mobile</td><td style=\"background-color: rgb(255,255,255);\">phone</td></tr><tr><td><b>lexical_unit</b></td><td style=\"background-color: rgb(0.0000, 255,0.0000);\">1.0000</td><td style=\"background-color: rgb(255.0000, 255,255.0000);\">0.0000</td><td style=\"background-color: rgb(255.0000, 255,255.0000);\">0.0000</td><td style=\"background-color: rgb(255.0000, 255,255.0000);\">0.0000</td><td style=\"background-color: rgb(255.0000, 255,255.0000);\">0.0000</td></tr><tr><td><b>attention_intent</b></td><td style=\"background-color: rgb(0.0003, 255,0.0003);\">1.0000</td><td style=\"background-color: rgb(255.0000, 255,255.0000);\">0.0000</td><td style=\"background-color: rgb(255.0000, 255,255.0000);\">0.0000</td><td style=\"background-color: rgb(254.9999, 255,254.9999);\">0.0000</td><td style=\"background-color: rgb(254.9998, 255,254.9998);\">0.0000</td></tr><tr><td><b>slots_true</b></td><td style=\"background-color: rgb(255,255,255);\">O</td><td style=\"background-color: rgb(255,255,255);\">B-Phenomenon</td><td style=\"background-color: rgb(255,255,255);\">I-Phenomenon</td><td style=\"background-color: rgb(255,255,255);\">I-Phenomenon</td><td style=\"background-color: rgb(255,255,255);\">I-Phenomenon</td></tr><tr><td><b>slots_pred</b></td><td style=\"background-color: rgb(255,255,255);\">O</td><td style=\"background-color: rgb(255,255,255);\">B-Phenomenon</td><td style=\"background-color: rgb(255,255,255);\">I-Phenomenon</td><td style=\"background-color: rgb(255,255,255);\">I-Phenomenon</td><td style=\"background-color: rgb(255,255,255);\">I-Phenomenon</td></tr></table>"
      ],
      "text/plain": [
       "<IPython.core.display.HTML object>"
      ]
     },
     "metadata": {},
     "output_type": "display_data"
    },
    {
     "name": "stdout",
     "output_type": "stream",
     "text": [
      "true: Motion pred: Motion\n"
     ]
    },
    {
     "data": {
      "text/html": [
       "<table><tr><td><b>words</b></td><td style=\"background-color: rgb(255,255,255);\">go</td><td style=\"background-color: rgb(255,255,255);\">to</td><td style=\"background-color: rgb(255,255,255);\">the</td><td style=\"background-color: rgb(255,255,255);\">coffee</td><td style=\"background-color: rgb(255,255,255);\">machine</td></tr><tr><td><b>lexical_unit</b></td><td style=\"background-color: rgb(0.0000, 255,0.0000);\">1.0000</td><td style=\"background-color: rgb(255.0000, 255,255.0000);\">0.0000</td><td style=\"background-color: rgb(255.0000, 255,255.0000);\">0.0000</td><td style=\"background-color: rgb(255.0000, 255,255.0000);\">0.0000</td><td style=\"background-color: rgb(255.0000, 255,255.0000);\">0.0000</td></tr><tr><td><b>attention_intent</b></td><td style=\"background-color: rgb(2.8779, 255,2.8779);\">0.9887</td><td style=\"background-color: rgb(252.1221, 255,252.1221);\">0.0113</td><td style=\"background-color: rgb(255.0000, 255,255.0000);\">0.0000</td><td style=\"background-color: rgb(255.0000, 255,255.0000);\">0.0000</td><td style=\"background-color: rgb(255.0000, 255,255.0000);\">0.0000</td></tr><tr><td><b>slots_true</b></td><td style=\"background-color: rgb(255,255,255);\">O</td><td style=\"background-color: rgb(255,255,255);\">B-Goal</td><td style=\"background-color: rgb(255,255,255);\">I-Goal</td><td style=\"background-color: rgb(255,255,255);\">I-Goal</td><td style=\"background-color: rgb(255,255,255);\">I-Goal</td></tr><tr><td><b>slots_pred</b></td><td style=\"background-color: rgb(255,255,255);\">O</td><td style=\"background-color: rgb(255,255,255);\">B-Goal</td><td style=\"background-color: rgb(255,255,255);\">I-Goal</td><td style=\"background-color: rgb(255,255,255);\">I-Goal</td><td style=\"background-color: rgb(255,255,255);\">I-Goal</td></tr></table>"
      ],
      "text/plain": [
       "<IPython.core.display.HTML object>"
      ]
     },
     "metadata": {},
     "output_type": "display_data"
    },
    {
     "name": "stdout",
     "output_type": "stream",
     "text": [
      "true: Taking pred: Taking\n"
     ]
    },
    {
     "data": {
      "text/html": [
       "<table><tr><td><b>words</b></td><td style=\"background-color: rgb(255,255,255);\">take</td><td style=\"background-color: rgb(255,255,255);\">the</td><td style=\"background-color: rgb(255,255,255);\">bottle</td><td style=\"background-color: rgb(255,255,255);\">of</td><td style=\"background-color: rgb(255,255,255);\">water</td><td style=\"background-color: rgb(255,255,255);\">on</td><td style=\"background-color: rgb(255,255,255);\">the</td><td style=\"background-color: rgb(255,255,255);\">table</td></tr><tr><td><b>lexical_unit</b></td><td style=\"background-color: rgb(0.0000, 255,0.0000);\">1.0000</td><td style=\"background-color: rgb(255.0000, 255,255.0000);\">0.0000</td><td style=\"background-color: rgb(255.0000, 255,255.0000);\">0.0000</td><td style=\"background-color: rgb(255.0000, 255,255.0000);\">0.0000</td><td style=\"background-color: rgb(255.0000, 255,255.0000);\">0.0000</td><td style=\"background-color: rgb(255.0000, 255,255.0000);\">0.0000</td><td style=\"background-color: rgb(255.0000, 255,255.0000);\">0.0000</td><td style=\"background-color: rgb(255.0000, 255,255.0000);\">0.0000</td></tr><tr><td><b>attention_intent</b></td><td style=\"background-color: rgb(0.2045, 255,0.2045);\">0.9992</td><td style=\"background-color: rgb(254.8043, 255,254.8043);\">0.0008</td><td style=\"background-color: rgb(254.9964, 255,254.9964);\">0.0000</td><td style=\"background-color: rgb(255.0000, 255,255.0000);\">0.0000</td><td style=\"background-color: rgb(254.9956, 255,254.9956);\">0.0000</td><td style=\"background-color: rgb(254.9992, 255,254.9992);\">0.0000</td><td style=\"background-color: rgb(255.0000, 255,255.0000);\">0.0000</td><td style=\"background-color: rgb(255.0000, 255,255.0000);\">0.0000</td></tr><tr><td><b>slots_true</b></td><td style=\"background-color: rgb(255,255,255);\">O</td><td style=\"background-color: rgb(255,255,255);\">B-Theme</td><td style=\"background-color: rgb(255,255,255);\">I-Theme</td><td style=\"background-color: rgb(255,255,255);\">I-Theme</td><td style=\"background-color: rgb(255,255,255);\">I-Theme</td><td style=\"background-color: rgb(255,255,255);\">I-Theme</td><td style=\"background-color: rgb(255,255,255);\">I-Theme</td><td style=\"background-color: rgb(255,255,255);\">I-Theme</td></tr><tr><td><b>slots_pred</b></td><td style=\"background-color: rgb(255,255,255);\">O</td><td style=\"background-color: rgb(255,255,255);\">B-Theme</td><td style=\"background-color: rgb(255,255,255);\">I-Theme</td><td style=\"background-color: rgb(255,255,255);\">I-Theme</td><td style=\"background-color: rgb(255,255,255);\">I-Theme</td><td style=\"background-color: rgb(255,255,255);\">I-Theme</td><td style=\"background-color: rgb(255,255,255);\">I-Theme</td><td style=\"background-color: rgb(255,255,255);\">I-Theme</td></tr></table>"
      ],
      "text/plain": [
       "<IPython.core.display.HTML object>"
      ]
     },
     "metadata": {},
     "output_type": "display_data"
    },
    {
     "name": "stdout",
     "output_type": "stream",
     "text": [
      "true: Motion pred: Motion\n"
     ]
    },
    {
     "data": {
      "text/html": [
       "<table><tr><td><b>words</b></td><td style=\"background-color: rgb(255,255,255);\">go</td><td style=\"background-color: rgb(255,255,255);\">to</td><td style=\"background-color: rgb(255,255,255);\">the</td><td style=\"background-color: rgb(255,255,255);\">bathroom</td></tr><tr><td><b>lexical_unit</b></td><td style=\"background-color: rgb(0.0000, 255,0.0000);\">1.0000</td><td style=\"background-color: rgb(255.0000, 255,255.0000);\">0.0000</td><td style=\"background-color: rgb(255.0000, 255,255.0000);\">0.0000</td><td style=\"background-color: rgb(255.0000, 255,255.0000);\">0.0000</td></tr><tr><td><b>attention_intent</b></td><td style=\"background-color: rgb(1.2518, 255,1.2518);\">0.9951</td><td style=\"background-color: rgb(253.7482, 255,253.7482);\">0.0049</td><td style=\"background-color: rgb(255.0000, 255,255.0000);\">0.0000</td><td style=\"background-color: rgb(255.0000, 255,255.0000);\">0.0000</td></tr><tr><td><b>slots_true</b></td><td style=\"background-color: rgb(255,255,255);\">O</td><td style=\"background-color: rgb(255,255,255);\">B-Goal</td><td style=\"background-color: rgb(255,255,255);\">I-Goal</td><td style=\"background-color: rgb(255,255,255);\">I-Goal</td></tr><tr><td><b>slots_pred</b></td><td style=\"background-color: rgb(255,255,255);\">O</td><td style=\"background-color: rgb(255,255,255);\">B-Goal</td><td style=\"background-color: rgb(255,255,255);\">I-Goal</td><td style=\"background-color: rgb(255,255,255);\">I-Goal</td></tr></table>"
      ],
      "text/plain": [
       "<IPython.core.display.HTML object>"
      ]
     },
     "metadata": {},
     "output_type": "display_data"
    },
    {
     "name": "stdout",
     "output_type": "stream",
     "text": [
      "true: Bringing pred: Bringing\n"
     ]
    },
    {
     "data": {
      "text/html": [
       "<table><tr><td><b>words</b></td><td style=\"background-color: rgb(255,255,255);\">and</td><td style=\"background-color: rgb(255,255,255);\">bring</td><td style=\"background-color: rgb(255,255,255);\">it</td><td style=\"background-color: rgb(255,255,255);\">to</td><td style=\"background-color: rgb(255,255,255);\">me</td></tr><tr><td><b>lexical_unit</b></td><td style=\"background-color: rgb(255.0000, 255,255.0000);\">0.0000</td><td style=\"background-color: rgb(0.0000, 255,0.0000);\">1.0000</td><td style=\"background-color: rgb(255.0000, 255,255.0000);\">0.0000</td><td style=\"background-color: rgb(255.0000, 255,255.0000);\">0.0000</td><td style=\"background-color: rgb(255.0000, 255,255.0000);\">0.0000</td></tr><tr><td><b>attention_intent</b></td><td style=\"background-color: rgb(255.0000, 255,255.0000);\">0.0000</td><td style=\"background-color: rgb(67.7999, 255,67.7999);\">0.7341</td><td style=\"background-color: rgb(254.9574, 255,254.9574);\">0.0002</td><td style=\"background-color: rgb(187.3684, 255,187.3684);\">0.2652</td><td style=\"background-color: rgb(254.8743, 255,254.8743);\">0.0005</td></tr><tr><td><b>slots_true</b></td><td style=\"background-color: rgb(255,255,255);\">O</td><td style=\"background-color: rgb(255,255,255);\">O</td><td style=\"background-color: rgb(255,255,255);\">B-Theme</td><td style=\"background-color: rgb(255,255,255);\">B-Beneficiary</td><td style=\"background-color: rgb(255,255,255);\">I-Beneficiary</td></tr><tr><td><b>slots_pred</b></td><td style=\"background-color: rgb(255,255,255);\">O</td><td style=\"background-color: rgb(255,255,255);\">O</td><td style=\"background-color: rgb(255,255,255);\">B-Theme</td><td style=\"background-color: rgb(255,255,255);\">B-Beneficiary</td><td style=\"background-color: rgb(255,255,255);\">I-Beneficiary</td></tr></table>"
      ],
      "text/plain": [
       "<IPython.core.display.HTML object>"
      ]
     },
     "metadata": {},
     "output_type": "display_data"
    },
    {
     "name": "stdout",
     "output_type": "stream",
     "text": [
      "true: Being_located pred: Being_located\n"
     ]
    },
    {
     "data": {
      "text/html": [
       "<table><tr><td><b>words</b></td><td style=\"background-color: rgb(255,255,255);\">and</td><td style=\"background-color: rgb(255,255,255);\">the</td><td style=\"background-color: rgb(255,255,255);\">bed</td><td style=\"background-color: rgb(255,255,255);\">is</td><td style=\"background-color: rgb(255,255,255);\">between</td><td style=\"background-color: rgb(255,255,255);\">two</td><td style=\"background-color: rgb(255,255,255);\">lamps</td></tr><tr><td><b>lexical_unit</b></td><td style=\"background-color: rgb(255.0000, 255,255.0000);\">0.0000</td><td style=\"background-color: rgb(255.0000, 255,255.0000);\">0.0000</td><td style=\"background-color: rgb(255.0000, 255,255.0000);\">0.0000</td><td style=\"background-color: rgb(0.0000, 255,0.0000);\">1.0000</td><td style=\"background-color: rgb(255.0000, 255,255.0000);\">0.0000</td><td style=\"background-color: rgb(255.0000, 255,255.0000);\">0.0000</td><td style=\"background-color: rgb(255.0000, 255,255.0000);\">0.0000</td></tr><tr><td><b>attention_intent</b></td><td style=\"background-color: rgb(250.0859, 255,250.0859);\">0.0193</td><td style=\"background-color: rgb(254.9860, 255,254.9860);\">0.0001</td><td style=\"background-color: rgb(254.7401, 255,254.7401);\">0.0010</td><td style=\"background-color: rgb(12.6783, 255,12.6783);\">0.9503</td><td style=\"background-color: rgb(254.9903, 255,254.9903);\">0.0000</td><td style=\"background-color: rgb(252.5644, 255,252.5644);\">0.0096</td><td style=\"background-color: rgb(253.6035, 255,253.6035);\">0.0055</td></tr><tr><td><b>slots_true</b></td><td style=\"background-color: rgb(255,255,255);\">O</td><td style=\"background-color: rgb(255,255,255);\">B-Theme</td><td style=\"background-color: rgb(255,255,255);\">I-Theme</td><td style=\"background-color: rgb(255,255,255);\">O</td><td style=\"background-color: rgb(255,255,255);\">B-Location</td><td style=\"background-color: rgb(255,255,255);\">I-Location</td><td style=\"background-color: rgb(255,255,255);\">I-Location</td></tr><tr><td><b>slots_pred</b></td><td style=\"background-color: rgb(255,255,255);\">O</td><td style=\"background-color: rgb(255,255,255);\">O</td><td style=\"background-color: rgb(255,255,255);\">O</td><td style=\"background-color: rgb(255,255,255);\">O</td><td style=\"background-color: rgb(255,255,255);\">O</td><td style=\"background-color: rgb(255,255,255);\">O</td><td style=\"background-color: rgb(255,255,255);\">O</td></tr></table>"
      ],
      "text/plain": [
       "<IPython.core.display.HTML object>"
      ]
     },
     "metadata": {},
     "output_type": "display_data"
    },
    {
     "name": "stdout",
     "output_type": "stream",
     "text": [
      "true: Bringing pred: Bringing\n"
     ]
    },
    {
     "data": {
      "text/html": [
       "<table><tr><td><b>words</b></td><td style=\"background-color: rgb(255,255,255);\">take</td><td style=\"background-color: rgb(255,255,255);\">the</td><td style=\"background-color: rgb(255,255,255);\">book</td><td style=\"background-color: rgb(255,255,255);\">to</td><td style=\"background-color: rgb(255,255,255);\">the</td><td style=\"background-color: rgb(255,255,255);\">bedroom</td></tr><tr><td><b>lexical_unit</b></td><td style=\"background-color: rgb(0.0000, 255,0.0000);\">1.0000</td><td style=\"background-color: rgb(255.0000, 255,255.0000);\">0.0000</td><td style=\"background-color: rgb(255.0000, 255,255.0000);\">0.0000</td><td style=\"background-color: rgb(255.0000, 255,255.0000);\">0.0000</td><td style=\"background-color: rgb(255.0000, 255,255.0000);\">0.0000</td><td style=\"background-color: rgb(255.0000, 255,255.0000);\">0.0000</td></tr><tr><td><b>attention_intent</b></td><td style=\"background-color: rgb(241.4335, 255,241.4335);\">0.0532</td><td style=\"background-color: rgb(254.9986, 255,254.9986);\">0.0000</td><td style=\"background-color: rgb(254.1212, 255,254.1212);\">0.0034</td><td style=\"background-color: rgb(14.4470, 255,14.4470);\">0.9433</td><td style=\"background-color: rgb(254.9998, 255,254.9998);\">0.0000</td><td style=\"background-color: rgb(255.0000, 255,255.0000);\">0.0000</td></tr><tr><td><b>slots_true</b></td><td style=\"background-color: rgb(255,255,255);\">O</td><td style=\"background-color: rgb(255,255,255);\">B-Theme</td><td style=\"background-color: rgb(255,255,255);\">I-Theme</td><td style=\"background-color: rgb(255,255,255);\">B-Goal</td><td style=\"background-color: rgb(255,255,255);\">I-Goal</td><td style=\"background-color: rgb(255,255,255);\">I-Goal</td></tr><tr><td><b>slots_pred</b></td><td style=\"background-color: rgb(255,255,255);\">O</td><td style=\"background-color: rgb(255,255,255);\">B-Theme</td><td style=\"background-color: rgb(255,255,255);\">I-Theme</td><td style=\"background-color: rgb(255,255,255);\">B-Goal</td><td style=\"background-color: rgb(255,255,255);\">I-Goal</td><td style=\"background-color: rgb(255,255,255);\">I-Goal</td></tr></table>"
      ],
      "text/plain": [
       "<IPython.core.display.HTML object>"
      ]
     },
     "metadata": {},
     "output_type": "display_data"
    },
    {
     "name": "stdout",
     "output_type": "stream",
     "text": [
      "true: Bringing pred: Bringing\n"
     ]
    },
    {
     "data": {
      "text/html": [
       "<table><tr><td><b>words</b></td><td style=\"background-color: rgb(255,255,255);\">robot</td><td style=\"background-color: rgb(255,255,255);\">can</td><td style=\"background-color: rgb(255,255,255);\">you</td><td style=\"background-color: rgb(255,255,255);\">bring</td><td style=\"background-color: rgb(255,255,255);\">me</td><td style=\"background-color: rgb(255,255,255);\">a</td><td style=\"background-color: rgb(255,255,255);\">bath</td><td style=\"background-color: rgb(255,255,255);\">towel</td></tr><tr><td><b>lexical_unit</b></td><td style=\"background-color: rgb(255.0000, 255,255.0000);\">0.0000</td><td style=\"background-color: rgb(255.0000, 255,255.0000);\">0.0000</td><td style=\"background-color: rgb(255.0000, 255,255.0000);\">0.0000</td><td style=\"background-color: rgb(0.0000, 255,0.0000);\">1.0000</td><td style=\"background-color: rgb(255.0000, 255,255.0000);\">0.0000</td><td style=\"background-color: rgb(255.0000, 255,255.0000);\">0.0000</td><td style=\"background-color: rgb(255.0000, 255,255.0000);\">0.0000</td><td style=\"background-color: rgb(255.0000, 255,255.0000);\">0.0000</td></tr><tr><td><b>attention_intent</b></td><td style=\"background-color: rgb(255.0000, 255,255.0000);\">0.0000</td><td style=\"background-color: rgb(255.0000, 255,255.0000);\">0.0000</td><td style=\"background-color: rgb(254.9998, 255,254.9998);\">0.0000</td><td style=\"background-color: rgb(188.2885, 255,188.2885);\">0.2616</td><td style=\"background-color: rgb(66.7118, 255,66.7118);\">0.7384</td><td style=\"background-color: rgb(255.0000, 255,255.0000);\">0.0000</td><td style=\"background-color: rgb(255.0000, 255,255.0000);\">0.0000</td><td style=\"background-color: rgb(255.0000, 255,255.0000);\">0.0000</td></tr><tr><td><b>slots_true</b></td><td style=\"background-color: rgb(255,255,255);\">O</td><td style=\"background-color: rgb(255,255,255);\">O</td><td style=\"background-color: rgb(255,255,255);\">B-Agent</td><td style=\"background-color: rgb(255,255,255);\">O</td><td style=\"background-color: rgb(255,255,255);\">B-Beneficiary</td><td style=\"background-color: rgb(255,255,255);\">B-Theme</td><td style=\"background-color: rgb(255,255,255);\">I-Theme</td><td style=\"background-color: rgb(255,255,255);\">I-Theme</td></tr><tr><td><b>slots_pred</b></td><td style=\"background-color: rgb(255,255,255);\">O</td><td style=\"background-color: rgb(255,255,255);\">O</td><td style=\"background-color: rgb(255,255,255);\">B-Agent</td><td style=\"background-color: rgb(255,255,255);\">O</td><td style=\"background-color: rgb(255,255,255);\">B-Beneficiary</td><td style=\"background-color: rgb(255,255,255);\">B-Theme</td><td style=\"background-color: rgb(255,255,255);\">I-Theme</td><td style=\"background-color: rgb(255,255,255);\">I-Theme</td></tr></table>"
      ],
      "text/plain": [
       "<IPython.core.display.HTML object>"
      ]
     },
     "metadata": {},
     "output_type": "display_data"
    },
    {
     "name": "stdout",
     "output_type": "stream",
     "text": [
      "true: Searching pred: Searching\n"
     ]
    },
    {
     "data": {
      "text/html": [
       "<table><tr><td><b>words</b></td><td style=\"background-color: rgb(255,255,255);\">can</td><td style=\"background-color: rgb(255,255,255);\">you</td><td style=\"background-color: rgb(255,255,255);\">please</td><td style=\"background-color: rgb(255,255,255);\">search</td><td style=\"background-color: rgb(255,255,255);\">the</td><td style=\"background-color: rgb(255,255,255);\">book</td></tr><tr><td><b>lexical_unit</b></td><td style=\"background-color: rgb(255.0000, 255,255.0000);\">0.0000</td><td style=\"background-color: rgb(255.0000, 255,255.0000);\">0.0000</td><td style=\"background-color: rgb(255.0000, 255,255.0000);\">0.0000</td><td style=\"background-color: rgb(0.0000, 255,0.0000);\">1.0000</td><td style=\"background-color: rgb(255.0000, 255,255.0000);\">0.0000</td><td style=\"background-color: rgb(255.0000, 255,255.0000);\">0.0000</td></tr><tr><td><b>attention_intent</b></td><td style=\"background-color: rgb(254.9999, 255,254.9999);\">0.0000</td><td style=\"background-color: rgb(255.0000, 255,255.0000);\">0.0000</td><td style=\"background-color: rgb(254.9986, 255,254.9986);\">0.0000</td><td style=\"background-color: rgb(0.0015, 255,0.0015);\">1.0000</td><td style=\"background-color: rgb(255.0000, 255,255.0000);\">0.0000</td><td style=\"background-color: rgb(255.0000, 255,255.0000);\">0.0000</td></tr><tr><td><b>slots_true</b></td><td style=\"background-color: rgb(255,255,255);\">O</td><td style=\"background-color: rgb(255,255,255);\">B-Cognizer</td><td style=\"background-color: rgb(255,255,255);\">O</td><td style=\"background-color: rgb(255,255,255);\">O</td><td style=\"background-color: rgb(255,255,255);\">B-Phenomenon</td><td style=\"background-color: rgb(255,255,255);\">I-Phenomenon</td></tr><tr><td><b>slots_pred</b></td><td style=\"background-color: rgb(255,255,255);\">O</td><td style=\"background-color: rgb(255,255,255);\">B-Cognizer</td><td style=\"background-color: rgb(255,255,255);\">O</td><td style=\"background-color: rgb(255,255,255);\">O</td><td style=\"background-color: rgb(255,255,255);\">B-Phenomenon</td><td style=\"background-color: rgb(255,255,255);\">I-Phenomenon</td></tr></table>"
      ],
      "text/plain": [
       "<IPython.core.display.HTML object>"
      ]
     },
     "metadata": {},
     "output_type": "display_data"
    },
    {
     "name": "stdout",
     "output_type": "stream",
     "text": [
      "true: Change_operational_state pred: Change_operational_state\n"
     ]
    },
    {
     "data": {
      "text/html": [
       "<table><tr><td><b>words</b></td><td style=\"background-color: rgb(255,255,255);\">robot</td><td style=\"background-color: rgb(255,255,255);\">can</td><td style=\"background-color: rgb(255,255,255);\">you</td><td style=\"background-color: rgb(255,255,255);\">turn</td><td style=\"background-color: rgb(255,255,255);\">my</td><td style=\"background-color: rgb(255,255,255);\">laptop</td><td style=\"background-color: rgb(255,255,255);\">on</td></tr><tr><td><b>lexical_unit</b></td><td style=\"background-color: rgb(255.0000, 255,255.0000);\">0.0000</td><td style=\"background-color: rgb(255.0000, 255,255.0000);\">0.0000</td><td style=\"background-color: rgb(255.0000, 255,255.0000);\">0.0000</td><td style=\"background-color: rgb(0.0000, 255,0.0000);\">1.0000</td><td style=\"background-color: rgb(255.0000, 255,255.0000);\">0.0000</td><td style=\"background-color: rgb(255.0000, 255,255.0000);\">0.0000</td><td style=\"background-color: rgb(255.0000, 255,255.0000);\">0.0000</td></tr><tr><td><b>attention_intent</b></td><td style=\"background-color: rgb(254.9999, 255,254.9999);\">0.0000</td><td style=\"background-color: rgb(254.9998, 255,254.9998);\">0.0000</td><td style=\"background-color: rgb(254.9970, 255,254.9970);\">0.0000</td><td style=\"background-color: rgb(0.0049, 255,0.0049);\">1.0000</td><td style=\"background-color: rgb(255.0000, 255,255.0000);\">0.0000</td><td style=\"background-color: rgb(254.9988, 255,254.9988);\">0.0000</td><td style=\"background-color: rgb(254.9999, 255,254.9999);\">0.0000</td></tr><tr><td><b>slots_true</b></td><td style=\"background-color: rgb(255,255,255);\">O</td><td style=\"background-color: rgb(255,255,255);\">O</td><td style=\"background-color: rgb(255,255,255);\">B-Agent</td><td style=\"background-color: rgb(255,255,255);\">O</td><td style=\"background-color: rgb(255,255,255);\">B-Device</td><td style=\"background-color: rgb(255,255,255);\">I-Device</td><td style=\"background-color: rgb(255,255,255);\">B-Operational_state</td></tr><tr><td><b>slots_pred</b></td><td style=\"background-color: rgb(255,255,255);\">O</td><td style=\"background-color: rgb(255,255,255);\">O</td><td style=\"background-color: rgb(255,255,255);\">B-Agent</td><td style=\"background-color: rgb(255,255,255);\">O</td><td style=\"background-color: rgb(255,255,255);\">B-Device</td><td style=\"background-color: rgb(255,255,255);\">I-Device</td><td style=\"background-color: rgb(255,255,255);\">B-Operational_state</td></tr></table>"
      ],
      "text/plain": [
       "<IPython.core.display.HTML object>"
      ]
     },
     "metadata": {},
     "output_type": "display_data"
    },
    {
     "name": "stdout",
     "output_type": "stream",
     "text": [
      "true: Motion pred: Motion\n"
     ]
    },
    {
     "data": {
      "text/html": [
       "<table><tr><td><b>words</b></td><td style=\"background-color: rgb(255,255,255);\">move</td><td style=\"background-color: rgb(255,255,255);\">away</td><td style=\"background-color: rgb(255,255,255);\">from</td><td style=\"background-color: rgb(255,255,255);\">the</td><td style=\"background-color: rgb(255,255,255);\">oven</td></tr><tr><td><b>lexical_unit</b></td><td style=\"background-color: rgb(0.0000, 255,0.0000);\">1.0000</td><td style=\"background-color: rgb(255.0000, 255,255.0000);\">0.0000</td><td style=\"background-color: rgb(255.0000, 255,255.0000);\">0.0000</td><td style=\"background-color: rgb(255.0000, 255,255.0000);\">0.0000</td><td style=\"background-color: rgb(255.0000, 255,255.0000);\">0.0000</td></tr><tr><td><b>attention_intent</b></td><td style=\"background-color: rgb(0.8279, 255,0.8279);\">0.9968</td><td style=\"background-color: rgb(254.1732, 255,254.1732);\">0.0032</td><td style=\"background-color: rgb(254.9989, 255,254.9989);\">0.0000</td><td style=\"background-color: rgb(255.0000, 255,255.0000);\">0.0000</td><td style=\"background-color: rgb(255.0000, 255,255.0000);\">0.0000</td></tr><tr><td><b>slots_true</b></td><td style=\"background-color: rgb(255,255,255);\">O</td><td style=\"background-color: rgb(255,255,255);\">B-Source</td><td style=\"background-color: rgb(255,255,255);\">I-Source</td><td style=\"background-color: rgb(255,255,255);\">I-Source</td><td style=\"background-color: rgb(255,255,255);\">I-Source</td></tr><tr><td><b>slots_pred</b></td><td style=\"background-color: rgb(255,255,255);\">O</td><td style=\"background-color: rgb(255,255,255);\">B-Source</td><td style=\"background-color: rgb(255,255,255);\">B-Source</td><td style=\"background-color: rgb(255,255,255);\">I-Source</td><td style=\"background-color: rgb(255,255,255);\">I-Source</td></tr></table>"
      ],
      "text/plain": [
       "<IPython.core.display.HTML object>"
      ]
     },
     "metadata": {},
     "output_type": "display_data"
    },
    {
     "name": "stdout",
     "output_type": "stream",
     "text": [
      "true: Change_operational_state pred: Change_operational_state\n"
     ]
    },
    {
     "data": {
      "text/html": [
       "<table><tr><td><b>words</b></td><td style=\"background-color: rgb(255,255,255);\">robot</td><td style=\"background-color: rgb(255,255,255);\">can</td><td style=\"background-color: rgb(255,255,255);\">you</td><td style=\"background-color: rgb(255,255,255);\">turn</td><td style=\"background-color: rgb(255,255,255);\">the</td><td style=\"background-color: rgb(255,255,255);\">electric</td><td style=\"background-color: rgb(255,255,255);\">oven</td><td style=\"background-color: rgb(255,255,255);\">on</td></tr><tr><td><b>lexical_unit</b></td><td style=\"background-color: rgb(255.0000, 255,255.0000);\">0.0000</td><td style=\"background-color: rgb(255.0000, 255,255.0000);\">0.0000</td><td style=\"background-color: rgb(255.0000, 255,255.0000);\">0.0000</td><td style=\"background-color: rgb(0.0000, 255,0.0000);\">1.0000</td><td style=\"background-color: rgb(255.0000, 255,255.0000);\">0.0000</td><td style=\"background-color: rgb(255.0000, 255,255.0000);\">0.0000</td><td style=\"background-color: rgb(255.0000, 255,255.0000);\">0.0000</td><td style=\"background-color: rgb(255.0000, 255,255.0000);\">0.0000</td></tr><tr><td><b>attention_intent</b></td><td style=\"background-color: rgb(255.0000, 255,255.0000);\">0.0000</td><td style=\"background-color: rgb(255.0000, 255,255.0000);\">0.0000</td><td style=\"background-color: rgb(254.9996, 255,254.9996);\">0.0000</td><td style=\"background-color: rgb(0.0006, 255,0.0006);\">1.0000</td><td style=\"background-color: rgb(255.0000, 255,255.0000);\">0.0000</td><td style=\"background-color: rgb(254.9999, 255,254.9999);\">0.0000</td><td style=\"background-color: rgb(255.0000, 255,255.0000);\">0.0000</td><td style=\"background-color: rgb(255.0000, 255,255.0000);\">0.0000</td></tr><tr><td><b>slots_true</b></td><td style=\"background-color: rgb(255,255,255);\">O</td><td style=\"background-color: rgb(255,255,255);\">O</td><td style=\"background-color: rgb(255,255,255);\">B-Agent</td><td style=\"background-color: rgb(255,255,255);\">O</td><td style=\"background-color: rgb(255,255,255);\">B-Device</td><td style=\"background-color: rgb(255,255,255);\">I-Device</td><td style=\"background-color: rgb(255,255,255);\">I-Device</td><td style=\"background-color: rgb(255,255,255);\">B-Operational_state</td></tr><tr><td><b>slots_pred</b></td><td style=\"background-color: rgb(255,255,255);\">O</td><td style=\"background-color: rgb(255,255,255);\">O</td><td style=\"background-color: rgb(255,255,255);\">B-Agent</td><td style=\"background-color: rgb(255,255,255);\">O</td><td style=\"background-color: rgb(255,255,255);\">B-Device</td><td style=\"background-color: rgb(255,255,255);\">I-Device</td><td style=\"background-color: rgb(255,255,255);\">I-Device</td><td style=\"background-color: rgb(255,255,255);\">B-Operational_state</td></tr></table>"
      ],
      "text/plain": [
       "<IPython.core.display.HTML object>"
      ]
     },
     "metadata": {},
     "output_type": "display_data"
    },
    {
     "name": "stdout",
     "output_type": "stream",
     "text": [
      "true: Change_operational_state pred: Change_operational_state\n"
     ]
    },
    {
     "data": {
      "text/html": [
       "<table><tr><td><b>words</b></td><td style=\"background-color: rgb(255,255,255);\">restart</td><td style=\"background-color: rgb(255,255,255);\">the</td><td style=\"background-color: rgb(255,255,255);\">wifi</td></tr><tr><td><b>lexical_unit</b></td><td style=\"background-color: rgb(0.0000, 255,0.0000);\">1.0000</td><td style=\"background-color: rgb(255.0000, 255,255.0000);\">0.0000</td><td style=\"background-color: rgb(255.0000, 255,255.0000);\">0.0000</td></tr><tr><td><b>attention_intent</b></td><td style=\"background-color: rgb(0.8180, 255,0.8180);\">0.9968</td><td style=\"background-color: rgb(254.9997, 255,254.9997);\">0.0000</td><td style=\"background-color: rgb(254.1891, 255,254.1891);\">0.0032</td></tr><tr><td><b>slots_true</b></td><td style=\"background-color: rgb(255,255,255);\">O</td><td style=\"background-color: rgb(255,255,255);\">B-Device</td><td style=\"background-color: rgb(255,255,255);\">I-Device</td></tr><tr><td><b>slots_pred</b></td><td style=\"background-color: rgb(255,255,255);\">O</td><td style=\"background-color: rgb(255,255,255);\">B-Device</td><td style=\"background-color: rgb(255,255,255);\">I-Device</td></tr></table>"
      ],
      "text/plain": [
       "<IPython.core.display.HTML object>"
      ]
     },
     "metadata": {},
     "output_type": "display_data"
    },
    {
     "name": "stdout",
     "output_type": "stream",
     "text": [
      "true: Bringing pred: Bringing\n"
     ]
    },
    {
     "data": {
      "text/html": [
       "<table><tr><td><b>words</b></td><td style=\"background-color: rgb(255,255,255);\">carry</td><td style=\"background-color: rgb(255,255,255);\">the</td><td style=\"background-color: rgb(255,255,255);\">laptop</td><td style=\"background-color: rgb(255,255,255);\">to</td><td style=\"background-color: rgb(255,255,255);\">daniele</td></tr><tr><td><b>lexical_unit</b></td><td style=\"background-color: rgb(0.0000, 255,0.0000);\">1.0000</td><td style=\"background-color: rgb(255.0000, 255,255.0000);\">0.0000</td><td style=\"background-color: rgb(255.0000, 255,255.0000);\">0.0000</td><td style=\"background-color: rgb(255.0000, 255,255.0000);\">0.0000</td><td style=\"background-color: rgb(255.0000, 255,255.0000);\">0.0000</td></tr><tr><td><b>attention_intent</b></td><td style=\"background-color: rgb(214.0885, 255,214.0885);\">0.1604</td><td style=\"background-color: rgb(255.0000, 255,255.0000);\">0.0000</td><td style=\"background-color: rgb(254.9985, 255,254.9985);\">0.0000</td><td style=\"background-color: rgb(40.9659, 255,40.9659);\">0.8393</td><td style=\"background-color: rgb(254.9471, 255,254.9471);\">0.0002</td></tr><tr><td><b>slots_true</b></td><td style=\"background-color: rgb(255,255,255);\">O</td><td style=\"background-color: rgb(255,255,255);\">B-Theme</td><td style=\"background-color: rgb(255,255,255);\">I-Theme</td><td style=\"background-color: rgb(255,255,255);\">B-Beneficiary</td><td style=\"background-color: rgb(255,255,255);\">I-Beneficiary</td></tr><tr><td><b>slots_pred</b></td><td style=\"background-color: rgb(255,255,255);\">O</td><td style=\"background-color: rgb(255,255,255);\">B-Theme</td><td style=\"background-color: rgb(255,255,255);\">I-Theme</td><td style=\"background-color: rgb(255,255,255);\">B-Beneficiary</td><td style=\"background-color: rgb(255,255,255);\">I-Beneficiary</td></tr></table>"
      ],
      "text/plain": [
       "<IPython.core.display.HTML object>"
      ]
     },
     "metadata": {},
     "output_type": "display_data"
    },
    {
     "name": "stdout",
     "output_type": "stream",
     "text": [
      "true: Searching pred: Searching\n"
     ]
    },
    {
     "data": {
      "text/html": [
       "<table><tr><td><b>words</b></td><td style=\"background-color: rgb(255,255,255);\">robot</td><td style=\"background-color: rgb(255,255,255);\">please</td><td style=\"background-color: rgb(255,255,255);\">search</td><td style=\"background-color: rgb(255,255,255);\">for</td><td style=\"background-color: rgb(255,255,255);\">the</td><td style=\"background-color: rgb(255,255,255);\">horn</td><td style=\"background-color: rgb(255,255,255);\">glasses</td></tr><tr><td><b>lexical_unit</b></td><td style=\"background-color: rgb(255.0000, 255,255.0000);\">0.0000</td><td style=\"background-color: rgb(255.0000, 255,255.0000);\">0.0000</td><td style=\"background-color: rgb(0.0000, 255,0.0000);\">1.0000</td><td style=\"background-color: rgb(255.0000, 255,255.0000);\">0.0000</td><td style=\"background-color: rgb(255.0000, 255,255.0000);\">0.0000</td><td style=\"background-color: rgb(255.0000, 255,255.0000);\">0.0000</td><td style=\"background-color: rgb(255.0000, 255,255.0000);\">0.0000</td></tr><tr><td><b>attention_intent</b></td><td style=\"background-color: rgb(254.9999, 255,254.9999);\">0.0000</td><td style=\"background-color: rgb(254.9990, 255,254.9990);\">0.0000</td><td style=\"background-color: rgb(0.0011, 255,0.0011);\">1.0000</td><td style=\"background-color: rgb(255.0000, 255,255.0000);\">0.0000</td><td style=\"background-color: rgb(255.0000, 255,255.0000);\">0.0000</td><td style=\"background-color: rgb(255.0000, 255,255.0000);\">0.0000</td><td style=\"background-color: rgb(255.0000, 255,255.0000);\">0.0000</td></tr><tr><td><b>slots_true</b></td><td style=\"background-color: rgb(255,255,255);\">O</td><td style=\"background-color: rgb(255,255,255);\">O</td><td style=\"background-color: rgb(255,255,255);\">O</td><td style=\"background-color: rgb(255,255,255);\">B-Phenomenon</td><td style=\"background-color: rgb(255,255,255);\">I-Phenomenon</td><td style=\"background-color: rgb(255,255,255);\">I-Phenomenon</td><td style=\"background-color: rgb(255,255,255);\">I-Phenomenon</td></tr><tr><td><b>slots_pred</b></td><td style=\"background-color: rgb(255,255,255);\">O</td><td style=\"background-color: rgb(255,255,255);\">O</td><td style=\"background-color: rgb(255,255,255);\">O</td><td style=\"background-color: rgb(255,255,255);\">B-Phenomenon</td><td style=\"background-color: rgb(255,255,255);\">O</td><td style=\"background-color: rgb(255,255,255);\">O</td><td style=\"background-color: rgb(255,255,255);\">O</td></tr></table>"
      ],
      "text/plain": [
       "<IPython.core.display.HTML object>"
      ]
     },
     "metadata": {},
     "output_type": "display_data"
    },
    {
     "name": "stdout",
     "output_type": "stream",
     "text": [
      "true: Motion pred: Motion\n"
     ]
    },
    {
     "data": {
      "text/html": [
       "<table><tr><td><b>words</b></td><td style=\"background-color: rgb(255,255,255);\">please</td><td style=\"background-color: rgb(255,255,255);\">go</td><td style=\"background-color: rgb(255,255,255);\">to</td><td style=\"background-color: rgb(255,255,255);\">the</td><td style=\"background-color: rgb(255,255,255);\">sink</td></tr><tr><td><b>lexical_unit</b></td><td style=\"background-color: rgb(255.0000, 255,255.0000);\">0.0000</td><td style=\"background-color: rgb(0.0000, 255,0.0000);\">1.0000</td><td style=\"background-color: rgb(255.0000, 255,255.0000);\">0.0000</td><td style=\"background-color: rgb(255.0000, 255,255.0000);\">0.0000</td><td style=\"background-color: rgb(255.0000, 255,255.0000);\">0.0000</td></tr><tr><td><b>attention_intent</b></td><td style=\"background-color: rgb(254.9995, 255,254.9995);\">0.0000</td><td style=\"background-color: rgb(0.5404, 255,0.5404);\">0.9979</td><td style=\"background-color: rgb(254.4601, 255,254.4601);\">0.0021</td><td style=\"background-color: rgb(255.0000, 255,255.0000);\">0.0000</td><td style=\"background-color: rgb(255.0000, 255,255.0000);\">0.0000</td></tr><tr><td><b>slots_true</b></td><td style=\"background-color: rgb(255,255,255);\">O</td><td style=\"background-color: rgb(255,255,255);\">O</td><td style=\"background-color: rgb(255,255,255);\">B-Goal</td><td style=\"background-color: rgb(255,255,255);\">I-Goal</td><td style=\"background-color: rgb(255,255,255);\">I-Goal</td></tr><tr><td><b>slots_pred</b></td><td style=\"background-color: rgb(255,255,255);\">O</td><td style=\"background-color: rgb(255,255,255);\">O</td><td style=\"background-color: rgb(255,255,255);\">B-Goal</td><td style=\"background-color: rgb(255,255,255);\">I-Goal</td><td style=\"background-color: rgb(255,255,255);\">I-Goal</td></tr></table>"
      ],
      "text/plain": [
       "<IPython.core.display.HTML object>"
      ]
     },
     "metadata": {},
     "output_type": "display_data"
    },
    {
     "name": "stdout",
     "output_type": "stream",
     "text": [
      "true: Bringing pred: Bringing\n"
     ]
    },
    {
     "data": {
      "text/html": [
       "<table><tr><td><b>words</b></td><td style=\"background-color: rgb(255,255,255);\">robot</td><td style=\"background-color: rgb(255,255,255);\">can</td><td style=\"background-color: rgb(255,255,255);\">you</td><td style=\"background-color: rgb(255,255,255);\">bring</td><td style=\"background-color: rgb(255,255,255);\">me</td><td style=\"background-color: rgb(255,255,255);\">my</td><td style=\"background-color: rgb(255,255,255);\">reading</td><td style=\"background-color: rgb(255,255,255);\">glasses</td><td style=\"background-color: rgb(255,255,255);\">from</td><td style=\"background-color: rgb(255,255,255);\">the</td><td style=\"background-color: rgb(255,255,255);\">bedroom</td></tr><tr><td><b>lexical_unit</b></td><td style=\"background-color: rgb(255.0000, 255,255.0000);\">0.0000</td><td style=\"background-color: rgb(255.0000, 255,255.0000);\">0.0000</td><td style=\"background-color: rgb(255.0000, 255,255.0000);\">0.0000</td><td style=\"background-color: rgb(0.0000, 255,0.0000);\">1.0000</td><td style=\"background-color: rgb(255.0000, 255,255.0000);\">0.0000</td><td style=\"background-color: rgb(255.0000, 255,255.0000);\">0.0000</td><td style=\"background-color: rgb(255.0000, 255,255.0000);\">0.0000</td><td style=\"background-color: rgb(255.0000, 255,255.0000);\">0.0000</td><td style=\"background-color: rgb(255.0000, 255,255.0000);\">0.0000</td><td style=\"background-color: rgb(255.0000, 255,255.0000);\">0.0000</td><td style=\"background-color: rgb(255.0000, 255,255.0000);\">0.0000</td></tr><tr><td><b>attention_intent</b></td><td style=\"background-color: rgb(255.0000, 255,255.0000);\">0.0000</td><td style=\"background-color: rgb(254.9999, 255,254.9999);\">0.0000</td><td style=\"background-color: rgb(254.9995, 255,254.9995);\">0.0000</td><td style=\"background-color: rgb(178.6818, 255,178.6818);\">0.2993</td><td style=\"background-color: rgb(76.3378, 255,76.3378);\">0.7006</td><td style=\"background-color: rgb(255.0000, 255,255.0000);\">0.0000</td><td style=\"background-color: rgb(254.9999, 255,254.9999);\">0.0000</td><td style=\"background-color: rgb(254.9811, 255,254.9811);\">0.0001</td><td style=\"background-color: rgb(255.0000, 255,255.0000);\">0.0000</td><td style=\"background-color: rgb(255.0000, 255,255.0000);\">0.0000</td><td style=\"background-color: rgb(255.0000, 255,255.0000);\">0.0000</td></tr><tr><td><b>slots_true</b></td><td style=\"background-color: rgb(255,255,255);\">O</td><td style=\"background-color: rgb(255,255,255);\">O</td><td style=\"background-color: rgb(255,255,255);\">B-Agent</td><td style=\"background-color: rgb(255,255,255);\">O</td><td style=\"background-color: rgb(255,255,255);\">B-Beneficiary</td><td style=\"background-color: rgb(255,255,255);\">B-Theme</td><td style=\"background-color: rgb(255,255,255);\">I-Theme</td><td style=\"background-color: rgb(255,255,255);\">I-Theme</td><td style=\"background-color: rgb(255,255,255);\">B-Source</td><td style=\"background-color: rgb(255,255,255);\">I-Source</td><td style=\"background-color: rgb(255,255,255);\">I-Source</td></tr><tr><td><b>slots_pred</b></td><td style=\"background-color: rgb(255,255,255);\">O</td><td style=\"background-color: rgb(255,255,255);\">O</td><td style=\"background-color: rgb(255,255,255);\">B-Agent</td><td style=\"background-color: rgb(255,255,255);\">O</td><td style=\"background-color: rgb(255,255,255);\">B-Beneficiary</td><td style=\"background-color: rgb(255,255,255);\">B-Theme</td><td style=\"background-color: rgb(255,255,255);\">I-Theme</td><td style=\"background-color: rgb(255,255,255);\">I-Theme</td><td style=\"background-color: rgb(255,255,255);\">B-Source</td><td style=\"background-color: rgb(255,255,255);\">I-Source</td><td style=\"background-color: rgb(255,255,255);\">I-Source</td></tr></table>"
      ],
      "text/plain": [
       "<IPython.core.display.HTML object>"
      ]
     },
     "metadata": {},
     "output_type": "display_data"
    },
    {
     "name": "stdout",
     "output_type": "stream",
     "text": [
      "true: Searching pred: Searching\n"
     ]
    },
    {
     "data": {
      "text/html": [
       "<table><tr><td><b>words</b></td><td style=\"background-color: rgb(255,255,255);\">search</td><td style=\"background-color: rgb(255,255,255);\">for</td><td style=\"background-color: rgb(255,255,255);\">a</td><td style=\"background-color: rgb(255,255,255);\">blue</td><td style=\"background-color: rgb(255,255,255);\">plate</td></tr><tr><td><b>lexical_unit</b></td><td style=\"background-color: rgb(0.0000, 255,0.0000);\">1.0000</td><td style=\"background-color: rgb(255.0000, 255,255.0000);\">0.0000</td><td style=\"background-color: rgb(255.0000, 255,255.0000);\">0.0000</td><td style=\"background-color: rgb(255.0000, 255,255.0000);\">0.0000</td><td style=\"background-color: rgb(255.0000, 255,255.0000);\">0.0000</td></tr><tr><td><b>attention_intent</b></td><td style=\"background-color: rgb(0.0001, 255,0.0001);\">1.0000</td><td style=\"background-color: rgb(255.0000, 255,255.0000);\">0.0000</td><td style=\"background-color: rgb(255.0000, 255,255.0000);\">0.0000</td><td style=\"background-color: rgb(255.0000, 255,255.0000);\">0.0000</td><td style=\"background-color: rgb(254.9999, 255,254.9999);\">0.0000</td></tr><tr><td><b>slots_true</b></td><td style=\"background-color: rgb(255,255,255);\">O</td><td style=\"background-color: rgb(255,255,255);\">B-Phenomenon</td><td style=\"background-color: rgb(255,255,255);\">I-Phenomenon</td><td style=\"background-color: rgb(255,255,255);\">I-Phenomenon</td><td style=\"background-color: rgb(255,255,255);\">I-Phenomenon</td></tr><tr><td><b>slots_pred</b></td><td style=\"background-color: rgb(255,255,255);\">O</td><td style=\"background-color: rgb(255,255,255);\">B-Phenomenon</td><td style=\"background-color: rgb(255,255,255);\">I-Phenomenon</td><td style=\"background-color: rgb(255,255,255);\">I-Phenomenon</td><td style=\"background-color: rgb(255,255,255);\">I-Phenomenon</td></tr></table>"
      ],
      "text/plain": [
       "<IPython.core.display.HTML object>"
      ]
     },
     "metadata": {},
     "output_type": "display_data"
    },
    {
     "name": "stdout",
     "output_type": "stream",
     "text": [
      "true: Searching pred: Searching\n"
     ]
    },
    {
     "data": {
      "text/html": [
       "<table><tr><td><b>words</b></td><td style=\"background-color: rgb(255,255,255);\">search</td><td style=\"background-color: rgb(255,255,255);\">the</td><td style=\"background-color: rgb(255,255,255);\">living</td><td style=\"background-color: rgb(255,255,255);\">room</td><td style=\"background-color: rgb(255,255,255);\">for</td><td style=\"background-color: rgb(255,255,255);\">the</td><td style=\"background-color: rgb(255,255,255);\">remote</td><td style=\"background-color: rgb(255,255,255);\">control</td></tr><tr><td><b>lexical_unit</b></td><td style=\"background-color: rgb(0.0000, 255,0.0000);\">1.0000</td><td style=\"background-color: rgb(255.0000, 255,255.0000);\">0.0000</td><td style=\"background-color: rgb(255.0000, 255,255.0000);\">0.0000</td><td style=\"background-color: rgb(255.0000, 255,255.0000);\">0.0000</td><td style=\"background-color: rgb(255.0000, 255,255.0000);\">0.0000</td><td style=\"background-color: rgb(255.0000, 255,255.0000);\">0.0000</td><td style=\"background-color: rgb(255.0000, 255,255.0000);\">0.0000</td><td style=\"background-color: rgb(255.0000, 255,255.0000);\">0.0000</td></tr><tr><td><b>attention_intent</b></td><td style=\"background-color: rgb(0.0976, 255,0.0976);\">0.9996</td><td style=\"background-color: rgb(255.0000, 255,255.0000);\">0.0000</td><td style=\"background-color: rgb(255.0000, 255,255.0000);\">0.0000</td><td style=\"background-color: rgb(254.9396, 255,254.9396);\">0.0002</td><td style=\"background-color: rgb(254.9893, 255,254.9893);\">0.0000</td><td style=\"background-color: rgb(255.0000, 255,255.0000);\">0.0000</td><td style=\"background-color: rgb(254.9735, 255,254.9735);\">0.0001</td><td style=\"background-color: rgb(254.9999, 255,254.9999);\">0.0000</td></tr><tr><td><b>slots_true</b></td><td style=\"background-color: rgb(255,255,255);\">O</td><td style=\"background-color: rgb(255,255,255);\">B-Ground</td><td style=\"background-color: rgb(255,255,255);\">I-Ground</td><td style=\"background-color: rgb(255,255,255);\">I-Ground</td><td style=\"background-color: rgb(255,255,255);\">B-Phenomenon</td><td style=\"background-color: rgb(255,255,255);\">I-Phenomenon</td><td style=\"background-color: rgb(255,255,255);\">I-Phenomenon</td><td style=\"background-color: rgb(255,255,255);\">I-Phenomenon</td></tr><tr><td><b>slots_pred</b></td><td style=\"background-color: rgb(255,255,255);\">O</td><td style=\"background-color: rgb(255,255,255);\">B-Ground</td><td style=\"background-color: rgb(255,255,255);\">I-Ground</td><td style=\"background-color: rgb(255,255,255);\">I-Ground</td><td style=\"background-color: rgb(255,255,255);\">B-Phenomenon</td><td style=\"background-color: rgb(255,255,255);\">I-Phenomenon</td><td style=\"background-color: rgb(255,255,255);\">I-Phenomenon</td><td style=\"background-color: rgb(255,255,255);\">I-Phenomenon</td></tr></table>"
      ],
      "text/plain": [
       "<IPython.core.display.HTML object>"
      ]
     },
     "metadata": {},
     "output_type": "display_data"
    }
   ],
   "source": [
    "samples_wf = utils.load_json(FOLDER_WITH_FRAMENET, 9)\n",
    "print('#samples', len(samples))\n",
    "samples_wrong_wf = [s for s in samples_wf if s['intent_pred'] != s['intent_true']]\n",
    "print('#samples_wrong_intent', len(samples_wrong_wf))\n",
    "utils.display_all(samples_wf, False, False, False)"
   ]
  },
  {
   "cell_type": "code",
   "execution_count": 4,
   "metadata": {},
   "outputs": [
    {
     "name": "stdout",
     "output_type": "stream",
     "text": [
      "lexical_unit score only huric: 0.045871559633027525\n",
      "lexical_unit score huric+framenet: 0.6788990825688074\n",
      "huric\n"
     ]
    },
    {
     "data": {
      "image/png": "[encoded data removed]",
      "text/plain": [
       "<Figure size 432x288 with 1 Axes>"
      ]
     },
     "metadata": {},
     "output_type": "display_data"
    },
    {
     "name": "stdout",
     "output_type": "stream",
     "text": [
      "only wrong ones huric\n",
      "true: Closure pred: Change_operational_state\n"
     ]
    },
    {
     "data": {
      "text/html": [
       "<table><tr><td><b>words</b></td><td style=\"background-color: rgb(255,255,255);\">and</td><td style=\"background-color: rgb(255,255,255);\">open</td><td style=\"background-color: rgb(255,255,255);\">it</td></tr><tr><td><b>lexical_unit</b></td><td style=\"background-color: rgb(255.0000, 255,255.0000);\">0.0000</td><td style=\"background-color: rgb(0.0000, 255,0.0000);\">1.0000</td><td style=\"background-color: rgb(255.0000, 255,255.0000);\">0.0000</td></tr><tr><td><b>attention_intent</b></td><td style=\"background-color: rgb(254.9994, 255,254.9994);\">0.0000</td><td style=\"background-color: rgb(231.9199, 255,231.9199);\">0.0905</td><td style=\"background-color: rgb(23.0900, 255,23.0900);\">0.9095</td></tr><tr><td><b>slots_true</b></td><td style=\"background-color: rgb(255,255,255);\">O</td><td style=\"background-color: rgb(255,255,255);\">O</td><td style=\"background-color: rgb(255,255,255);\">B-Container_portal</td></tr><tr><td><b>slots_pred</b></td><td style=\"background-color: rgb(255,255,255);\">O</td><td style=\"background-color: rgb(255,255,255);\">O</td><td style=\"background-color: rgb(255,255,255);\">B-Containing_object</td></tr></table>"
      ],
      "text/plain": [
       "<IPython.core.display.HTML object>"
      ]
     },
     "metadata": {},
     "output_type": "display_data"
    },
    {
     "name": "stdout",
     "output_type": "stream",
     "text": [
      "huric+framenet\n"
     ]
    },
    {
     "data": {
      "image/png": "[encoded data removed]",
      "text/plain": [
       "<Figure size 432x288 with 1 Axes>"
      ]
     },
     "metadata": {},
     "output_type": "display_data"
    },
    {
     "name": "stdout",
     "output_type": "stream",
     "text": [
      "only wrong huric+framenet\n",
      "true: Being_located pred: Bringing\n"
     ]
    },
    {
     "data": {
      "text/html": [
       "<table><tr><td><b>words</b></td><td style=\"background-color: rgb(255,255,255);\">there</td><td style=\"background-color: rgb(255,255,255);\">are</td><td style=\"background-color: rgb(255,255,255);\">some</td><td style=\"background-color: rgb(255,255,255);\">plastic</td><td style=\"background-color: rgb(255,255,255);\">bags</td><td style=\"background-color: rgb(255,255,255);\">in</td><td style=\"background-color: rgb(255,255,255);\">the</td><td style=\"background-color: rgb(255,255,255);\">kitchen</td><td style=\"background-color: rgb(255,255,255);\">drawer</td></tr><tr><td><b>lexical_unit</b></td><td style=\"background-color: rgb(0.0000, 255,0.0000);\">1.0000</td><td style=\"background-color: rgb(0.0000, 255,0.0000);\">1.0000</td><td style=\"background-color: rgb(255.0000, 255,255.0000);\">0.0000</td><td style=\"background-color: rgb(255.0000, 255,255.0000);\">0.0000</td><td style=\"background-color: rgb(255.0000, 255,255.0000);\">0.0000</td><td style=\"background-color: rgb(255.0000, 255,255.0000);\">0.0000</td><td style=\"background-color: rgb(255.0000, 255,255.0000);\">0.0000</td><td style=\"background-color: rgb(255.0000, 255,255.0000);\">0.0000</td><td style=\"background-color: rgb(255.0000, 255,255.0000);\">0.0000</td></tr><tr><td><b>attention_intent</b></td><td style=\"background-color: rgb(254.6294, 255,254.6294);\">0.0015</td><td style=\"background-color: rgb(220.4297, 255,220.4297);\">0.1356</td><td style=\"background-color: rgb(254.5789, 255,254.5789);\">0.0017</td><td style=\"background-color: rgb(254.3057, 255,254.3057);\">0.0027</td><td style=\"background-color: rgb(45.9402, 255,45.9402);\">0.8198</td><td style=\"background-color: rgb(253.6643, 255,253.6643);\">0.0052</td><td style=\"background-color: rgb(254.9976, 255,254.9976);\">0.0000</td><td style=\"background-color: rgb(249.0577, 255,249.0577);\">0.0233</td><td style=\"background-color: rgb(252.4165, 255,252.4165);\">0.0101</td></tr><tr><td><b>slots_true</b></td><td style=\"background-color: rgb(255,255,255);\">O</td><td style=\"background-color: rgb(255,255,255);\">O</td><td style=\"background-color: rgb(255,255,255);\">B-Theme</td><td style=\"background-color: rgb(255,255,255);\">I-Theme</td><td style=\"background-color: rgb(255,255,255);\">I-Theme</td><td style=\"background-color: rgb(255,255,255);\">B-Location</td><td style=\"background-color: rgb(255,255,255);\">I-Location</td><td style=\"background-color: rgb(255,255,255);\">I-Location</td><td style=\"background-color: rgb(255,255,255);\">I-Location</td></tr><tr><td><b>slots_pred</b></td><td style=\"background-color: rgb(255,255,255);\">O</td><td style=\"background-color: rgb(255,255,255);\">O</td><td style=\"background-color: rgb(255,255,255);\">O</td><td style=\"background-color: rgb(255,255,255);\">O</td><td style=\"background-color: rgb(255,255,255);\">O</td><td style=\"background-color: rgb(255,255,255);\">B-Location</td><td style=\"background-color: rgb(255,255,255);\">I-Location</td><td style=\"background-color: rgb(255,255,255);\">I-Location</td><td style=\"background-color: rgb(255,255,255);\">I-Location</td></tr></table>"
      ],
      "text/plain": [
       "<IPython.core.display.HTML object>"
      ]
     },
     "metadata": {},
     "output_type": "display_data"
    },
    {
     "name": "stdout",
     "output_type": "stream",
     "text": [
      "true: Motion pred: Entering\n"
     ]
    },
    {
     "data": {
      "text/html": [
       "<table><tr><td><b>words</b></td><td style=\"background-color: rgb(255,255,255);\">go</td><td style=\"background-color: rgb(255,255,255);\">next</td><td style=\"background-color: rgb(255,255,255);\">to</td><td style=\"background-color: rgb(255,255,255);\">the</td><td style=\"background-color: rgb(255,255,255);\">tv</td><td style=\"background-color: rgb(255,255,255);\">set</td></tr><tr><td><b>lexical_unit</b></td><td style=\"background-color: rgb(0.0000, 255,0.0000);\">1.0000</td><td style=\"background-color: rgb(255.0000, 255,255.0000);\">0.0000</td><td style=\"background-color: rgb(255.0000, 255,255.0000);\">0.0000</td><td style=\"background-color: rgb(255.0000, 255,255.0000);\">0.0000</td><td style=\"background-color: rgb(255.0000, 255,255.0000);\">0.0000</td><td style=\"background-color: rgb(255.0000, 255,255.0000);\">0.0000</td></tr><tr><td><b>attention_intent</b></td><td style=\"background-color: rgb(247.8141, 255,247.8141);\">0.0282</td><td style=\"background-color: rgb(7.2029, 255,7.2029);\">0.9718</td><td style=\"background-color: rgb(254.9844, 255,254.9844);\">0.0001</td><td style=\"background-color: rgb(255.0000, 255,255.0000);\">0.0000</td><td style=\"background-color: rgb(255.0000, 255,255.0000);\">0.0000</td><td style=\"background-color: rgb(254.9987, 255,254.9987);\">0.0000</td></tr><tr><td><b>slots_true</b></td><td style=\"background-color: rgb(255,255,255);\">O</td><td style=\"background-color: rgb(255,255,255);\">B-Goal</td><td style=\"background-color: rgb(255,255,255);\">I-Goal</td><td style=\"background-color: rgb(255,255,255);\">I-Goal</td><td style=\"background-color: rgb(255,255,255);\">I-Goal</td><td style=\"background-color: rgb(255,255,255);\">I-Goal</td></tr><tr><td><b>slots_pred</b></td><td style=\"background-color: rgb(255,255,255);\">O</td><td style=\"background-color: rgb(255,255,255);\">O</td><td style=\"background-color: rgb(255,255,255);\">B-Goal</td><td style=\"background-color: rgb(255,255,255);\">I-Goal</td><td style=\"background-color: rgb(255,255,255);\">I-Goal</td><td style=\"background-color: rgb(255,255,255);\">I-Goal</td></tr></table>"
      ],
      "text/plain": [
       "<IPython.core.display.HTML object>"
      ]
     },
     "metadata": {},
     "output_type": "display_data"
    }
   ],
   "source": [
    "print('lexical_unit score only huric:', utils.align_accuracy_argmax(samples))\n",
    "print('lexical_unit score huric+framenet:', utils.align_accuracy_argmax(samples_wf))\n",
    "print('huric')\n",
    "utils.align_score(samples, 100)\n",
    "print('only wrong ones huric')\n",
    "utils.display_all(samples_wrong, False, False, False)\n",
    "print('huric+framenet')\n",
    "utils.align_score(samples_wf, 100)\n",
    "print('only wrong huric+framenet')\n",
    "utils.display_all(samples_wrong_wf, False, False, False)"
   ]
  },
  {
   "cell_type": "code",
   "execution_count": null,
   "metadata": {},
   "outputs": [],
   "source": []
  }
 ],
 "metadata": {
  "kernelspec": {
   "display_name": "python3.6",
   "language": "python",
   "name": "python3.6"
  },
  "language_info": {
   "codemirror_mode": {
    "name": "ipython",
    "version": 3
   },
   "file_extension": ".py",
   "mimetype": "text/x-python",
   "name": "python",
   "nbconvert_exporter": "python",
   "pygments_lexer": "ipython3",
   "version": "3.6.6"
  }
 },
 "nbformat": 4,
 "nbformat_minor": 2
}
