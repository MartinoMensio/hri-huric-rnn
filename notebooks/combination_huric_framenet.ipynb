{
 "cells": [
  {
   "cell_type": "markdown",
   "metadata": {},
   "source": [
    "# Combination of HuRIC with FrameNet\n",
    "This notebook analyses the enrichment of the HuRIC dataset with annotated frames coming from FrameNet. The additional frames are used only in train, while for testing the usual 5th fold from HuRIC is used."
   ]
  },
  {
   "cell_type": "code",
   "execution_count": 1,
   "metadata": {},
   "outputs": [],
   "source": [
    "import utils\n",
    "\n",
    "# put there the path to the results you want to show\n",
    "\n",
    "# the basic results of train 80% huric, test 20% HuRIC\n",
    "FOLDER_WITHOUT_FRAMENET='../nlunetwork/results/framenet/results/eval_loss_both_slottype_full_we_large_recurrent_cell_lstm_attention_both_three_stages_true_highway___hyper:LABEL_EMB_SIZE=64,LSTM_SIZE=128,BATCH_SIZE=2,MAX_EPOCHS=100/modern_right/'\n",
    "# the results of train (FrameNet + 80% huric), test 20% HuRIC\n",
    "FOLDER_WITH_FRAMENET='../nlunetwork/results/framenet/results/eval_loss_both_slottype_full_we_large_recurrent_cell_lstm_attention_both_three_stages_true_highway___hyper:LABEL_EMB_SIZE=64,LSTM_SIZE=128,BATCH_SIZE=2,MAX_EPOCHS=100/with_framenet/'\n",
    "# the results of train all FrameNet, test all HuRIC\n",
    "FOLDER_FN_TEST_ALL_HURIC='../nlunetwork/results/framenet/results/test_all_loss_both_slottype_full_we_large_recurrent_cell_lstm_attention_both_three_stages_true_highway___hyper:LABEL_EMB_SIZE=64,LSTM_SIZE=100,BATCH_SIZE=16,MAX_EPOCHS=100/huric_eb/modern_right/'\n",
    "# the results of train all FrameNet, test 20 % HuRIC\n",
    "FOLDER_FN_TEST_HURIC='/home/martino/kmi/huric_rnn/nlunetwork/results/framenet/results/test_loss_both_slottype_full_we_large_recurrent_cell_lstm_attention_both_three_stages_true_highway___hyper:LABEL_EMB_SIZE=64,LSTM_SIZE=100,BATCH_SIZE=16,MAX_EPOCHS=100/huric_eb/modern_right/'\n"
   ]
  },
  {
   "cell_type": "code",
   "execution_count": 2,
   "metadata": {},
   "outputs": [
    {
     "name": "stdout",
     "output_type": "stream",
     "text": [
      "#samples 109\n",
      "#samples_wrong_intent 1\n",
      "true: Being_in_category pred: Being_in_category\n"
     ]
    },
    {
     "data": {
      "text/html": [
       "<table><tr><td><b>words</b></td><td style=\"background-color: rgb(255,255,255);\">this</td><td style=\"background-color: rgb(255,255,255);\">is</td><td style=\"background-color: rgb(255,255,255);\">a</td><td style=\"background-color: rgb(255,255,255);\">table</td><td style=\"background-color: rgb(255,255,255);\">with</td><td style=\"background-color: rgb(255,255,255);\">a</td><td style=\"background-color: rgb(255,255,255);\">glass</td><td style=\"background-color: rgb(255,255,255);\">deck</td></tr><tr><td><b>lexical_unit</b></td><td style=\"background-color: rgb(255.0000, 255,255.0000);\">0.0000</td><td style=\"background-color: rgb(0.0000, 255,0.0000);\">1.0000</td><td style=\"background-color: rgb(255.0000, 255,255.0000);\">0.0000</td><td style=\"background-color: rgb(255.0000, 255,255.0000);\">0.0000</td><td style=\"background-color: rgb(255.0000, 255,255.0000);\">0.0000</td><td style=\"background-color: rgb(255.0000, 255,255.0000);\">0.0000</td><td style=\"background-color: rgb(255.0000, 255,255.0000);\">0.0000</td><td style=\"background-color: rgb(255.0000, 255,255.0000);\">0.0000</td></tr><tr><td><b>attention_intent</b></td><td style=\"background-color: rgb(255.0000, 255,255.0000);\">0.0000</td><td style=\"background-color: rgb(254.4893, 255,254.4893);\">0.0020</td><td style=\"background-color: rgb(196.5695, 255,196.5695);\">0.2291</td><td style=\"background-color: rgb(254.3662, 255,254.3662);\">0.0025</td><td style=\"background-color: rgb(151.7147, 255,151.7147);\">0.4050</td><td style=\"background-color: rgb(171.7064, 255,171.7064);\">0.3266</td><td style=\"background-color: rgb(246.1880, 255,246.1880);\">0.0346</td><td style=\"background-color: rgb(254.9717, 255,254.9717);\">0.0001</td></tr><tr><td><b>slots_true</b></td><td style=\"background-color: rgb(255,255,255);\">B-Item</td><td style=\"background-color: rgb(255,255,255);\">O</td><td style=\"background-color: rgb(255,255,255);\">B-Category</td><td style=\"background-color: rgb(255,255,255);\">I-Category</td><td style=\"background-color: rgb(255,255,255);\">I-Category</td><td style=\"background-color: rgb(255,255,255);\">I-Category</td><td style=\"background-color: rgb(255,255,255);\">I-Category</td><td style=\"background-color: rgb(255,255,255);\">I-Category</td></tr><tr><td><b>slots_pred</b></td><td style=\"background-color: rgb(255,255,255);\">B-Item</td><td style=\"background-color: rgb(255,255,255);\">O</td><td style=\"background-color: rgb(255,255,255);\">B-Category</td><td style=\"background-color: rgb(255,255,255);\">I-Category</td><td style=\"background-color: rgb(255,255,255);\">I-Category</td><td style=\"background-color: rgb(255,255,255);\">I-Category</td><td style=\"background-color: rgb(255,255,255);\">I-Category</td><td style=\"background-color: rgb(255,255,255);\">I-Category</td></tr></table>"
      ],
      "text/plain": [
       "<IPython.core.display.HTML object>"
      ]
     },
     "metadata": {},
     "output_type": "display_data"
    },
    {
     "name": "stdout",
     "output_type": "stream",
     "text": [
      "true: Bringing pred: Bringing\n"
     ]
    },
    {
     "data": {
      "text/html": [
       "<table><tr><td><b>words</b></td><td style=\"background-color: rgb(255,255,255);\">please</td><td style=\"background-color: rgb(255,255,255);\">bring</td><td style=\"background-color: rgb(255,255,255);\">the</td><td style=\"background-color: rgb(255,255,255);\">mobile</td><td style=\"background-color: rgb(255,255,255);\">phone</td><td style=\"background-color: rgb(255,255,255);\">to</td><td style=\"background-color: rgb(255,255,255);\">the</td><td style=\"background-color: rgb(255,255,255);\">livingroom</td></tr><tr><td><b>lexical_unit</b></td><td style=\"background-color: rgb(255.0000, 255,255.0000);\">0.0000</td><td style=\"background-color: rgb(0.0000, 255,0.0000);\">1.0000</td><td style=\"background-color: rgb(255.0000, 255,255.0000);\">0.0000</td><td style=\"background-color: rgb(255.0000, 255,255.0000);\">0.0000</td><td style=\"background-color: rgb(255.0000, 255,255.0000);\">0.0000</td><td style=\"background-color: rgb(255.0000, 255,255.0000);\">0.0000</td><td style=\"background-color: rgb(255.0000, 255,255.0000);\">0.0000</td><td style=\"background-color: rgb(255.0000, 255,255.0000);\">0.0000</td></tr><tr><td><b>attention_intent</b></td><td style=\"background-color: rgb(255.0000, 255,255.0000);\">0.0000</td><td style=\"background-color: rgb(254.9674, 255,254.9674);\">0.0001</td><td style=\"background-color: rgb(254.4360, 255,254.4360);\">0.0022</td><td style=\"background-color: rgb(254.7077, 255,254.7077);\">0.0011</td><td style=\"background-color: rgb(254.9883, 255,254.9883);\">0.0000</td><td style=\"background-color: rgb(17.7014, 255,17.7014);\">0.9306</td><td style=\"background-color: rgb(238.5719, 255,238.5719);\">0.0644</td><td style=\"background-color: rgb(254.6288, 255,254.6288);\">0.0015</td></tr><tr><td><b>slots_true</b></td><td style=\"background-color: rgb(255,255,255);\">O</td><td style=\"background-color: rgb(255,255,255);\">O</td><td style=\"background-color: rgb(255,255,255);\">B-Theme</td><td style=\"background-color: rgb(255,255,255);\">I-Theme</td><td style=\"background-color: rgb(255,255,255);\">I-Theme</td><td style=\"background-color: rgb(255,255,255);\">B-Goal</td><td style=\"background-color: rgb(255,255,255);\">I-Goal</td><td style=\"background-color: rgb(255,255,255);\">I-Goal</td></tr><tr><td><b>slots_pred</b></td><td style=\"background-color: rgb(255,255,255);\">O</td><td style=\"background-color: rgb(255,255,255);\">O</td><td style=\"background-color: rgb(255,255,255);\">B-Theme</td><td style=\"background-color: rgb(255,255,255);\">I-Theme</td><td style=\"background-color: rgb(255,255,255);\">I-Theme</td><td style=\"background-color: rgb(255,255,255);\">B-Goal</td><td style=\"background-color: rgb(255,255,255);\">I-Goal</td><td style=\"background-color: rgb(255,255,255);\">I-Goal</td></tr></table>"
      ],
      "text/plain": [
       "<IPython.core.display.HTML object>"
      ]
     },
     "metadata": {},
     "output_type": "display_data"
    },
    {
     "name": "stdout",
     "output_type": "stream",
     "text": [
      "true: Motion pred: Motion\n"
     ]
    },
    {
     "data": {
      "text/html": [
       "<table><tr><td><b>words</b></td><td style=\"background-color: rgb(255,255,255);\">drive</td><td style=\"background-color: rgb(255,255,255);\">to</td><td style=\"background-color: rgb(255,255,255);\">the</td><td style=\"background-color: rgb(255,255,255);\">fridge</td></tr><tr><td><b>lexical_unit</b></td><td style=\"background-color: rgb(0.0000, 255,0.0000);\">1.0000</td><td style=\"background-color: rgb(255.0000, 255,255.0000);\">0.0000</td><td style=\"background-color: rgb(255.0000, 255,255.0000);\">0.0000</td><td style=\"background-color: rgb(255.0000, 255,255.0000);\">0.0000</td></tr><tr><td><b>attention_intent</b></td><td style=\"background-color: rgb(254.9968, 255,254.9968);\">0.0000</td><td style=\"background-color: rgb(45.9009, 255,45.9009);\">0.8200</td><td style=\"background-color: rgb(209.1378, 255,209.1378);\">0.1799</td><td style=\"background-color: rgb(254.9668, 255,254.9668);\">0.0001</td></tr><tr><td><b>slots_true</b></td><td style=\"background-color: rgb(255,255,255);\">O</td><td style=\"background-color: rgb(255,255,255);\">B-Goal</td><td style=\"background-color: rgb(255,255,255);\">I-Goal</td><td style=\"background-color: rgb(255,255,255);\">I-Goal</td></tr><tr><td><b>slots_pred</b></td><td style=\"background-color: rgb(255,255,255);\">O</td><td style=\"background-color: rgb(255,255,255);\">B-Goal</td><td style=\"background-color: rgb(255,255,255);\">I-Goal</td><td style=\"background-color: rgb(255,255,255);\">I-Goal</td></tr></table>"
      ],
      "text/plain": [
       "<IPython.core.display.HTML object>"
      ]
     },
     "metadata": {},
     "output_type": "display_data"
    },
    {
     "name": "stdout",
     "output_type": "stream",
     "text": [
      "true: Searching pred: Searching\n"
     ]
    },
    {
     "data": {
      "text/html": [
       "<table><tr><td><b>words</b></td><td style=\"background-color: rgb(255,255,255);\">search</td><td style=\"background-color: rgb(255,255,255);\">for</td><td style=\"background-color: rgb(255,255,255);\">towel</td></tr><tr><td><b>lexical_unit</b></td><td style=\"background-color: rgb(0.0000, 255,0.0000);\">1.0000</td><td style=\"background-color: rgb(255.0000, 255,255.0000);\">0.0000</td><td style=\"background-color: rgb(255.0000, 255,255.0000);\">0.0000</td></tr><tr><td><b>attention_intent</b></td><td style=\"background-color: rgb(254.9610, 255,254.9610);\">0.0002</td><td style=\"background-color: rgb(0.8429, 255,0.8429);\">0.9967</td><td style=\"background-color: rgb(254.1984, 255,254.1984);\">0.0031</td></tr><tr><td><b>slots_true</b></td><td style=\"background-color: rgb(255,255,255);\">O</td><td style=\"background-color: rgb(255,255,255);\">B-Phenomenon</td><td style=\"background-color: rgb(255,255,255);\">I-Phenomenon</td></tr><tr><td><b>slots_pred</b></td><td style=\"background-color: rgb(255,255,255);\">O</td><td style=\"background-color: rgb(255,255,255);\">B-Phenomenon</td><td style=\"background-color: rgb(255,255,255);\">I-Phenomenon</td></tr></table>"
      ],
      "text/plain": [
       "<IPython.core.display.HTML object>"
      ]
     },
     "metadata": {},
     "output_type": "display_data"
    },
    {
     "name": "stdout",
     "output_type": "stream",
     "text": [
      "true: Placing pred: Placing\n"
     ]
    },
    {
     "data": {
      "text/html": [
       "<table><tr><td><b>words</b></td><td style=\"background-color: rgb(255,255,255);\">put</td><td style=\"background-color: rgb(255,255,255);\">the</td><td style=\"background-color: rgb(255,255,255);\">mug</td><td style=\"background-color: rgb(255,255,255);\">in</td><td style=\"background-color: rgb(255,255,255);\">the</td><td style=\"background-color: rgb(255,255,255);\">living</td><td style=\"background-color: rgb(255,255,255);\">room</td></tr><tr><td><b>lexical_unit</b></td><td style=\"background-color: rgb(0.0000, 255,0.0000);\">1.0000</td><td style=\"background-color: rgb(255.0000, 255,255.0000);\">0.0000</td><td style=\"background-color: rgb(255.0000, 255,255.0000);\">0.0000</td><td style=\"background-color: rgb(255.0000, 255,255.0000);\">0.0000</td><td style=\"background-color: rgb(255.0000, 255,255.0000);\">0.0000</td><td style=\"background-color: rgb(255.0000, 255,255.0000);\">0.0000</td><td style=\"background-color: rgb(255.0000, 255,255.0000);\">0.0000</td></tr><tr><td><b>attention_intent</b></td><td style=\"background-color: rgb(254.9952, 255,254.9952);\">0.0000</td><td style=\"background-color: rgb(254.7380, 255,254.7380);\">0.0010</td><td style=\"background-color: rgb(254.8889, 255,254.8889);\">0.0004</td><td style=\"background-color: rgb(254.3524, 255,254.3524);\">0.0025</td><td style=\"background-color: rgb(83.6763, 255,83.6763);\">0.6719</td><td style=\"background-color: rgb(201.5397, 255,201.5397);\">0.2096</td><td style=\"background-color: rgb(225.8130, 255,225.8130);\">0.1145</td></tr><tr><td><b>slots_true</b></td><td style=\"background-color: rgb(255,255,255);\">O</td><td style=\"background-color: rgb(255,255,255);\">B-Theme</td><td style=\"background-color: rgb(255,255,255);\">I-Theme</td><td style=\"background-color: rgb(255,255,255);\">B-Goal</td><td style=\"background-color: rgb(255,255,255);\">I-Goal</td><td style=\"background-color: rgb(255,255,255);\">I-Goal</td><td style=\"background-color: rgb(255,255,255);\">I-Goal</td></tr><tr><td><b>slots_pred</b></td><td style=\"background-color: rgb(255,255,255);\">O</td><td style=\"background-color: rgb(255,255,255);\">B-Theme</td><td style=\"background-color: rgb(255,255,255);\">I-Theme</td><td style=\"background-color: rgb(255,255,255);\">B-Goal</td><td style=\"background-color: rgb(255,255,255);\">I-Goal</td><td style=\"background-color: rgb(255,255,255);\">I-Goal</td><td style=\"background-color: rgb(255,255,255);\">I-Goal</td></tr></table>"
      ],
      "text/plain": [
       "<IPython.core.display.HTML object>"
      ]
     },
     "metadata": {},
     "output_type": "display_data"
    },
    {
     "name": "stdout",
     "output_type": "stream",
     "text": [
      "true: Motion pred: Motion\n"
     ]
    },
    {
     "data": {
      "text/html": [
       "<table><tr><td><b>words</b></td><td style=\"background-color: rgb(255,255,255);\">go</td><td style=\"background-color: rgb(255,255,255);\">to</td><td style=\"background-color: rgb(255,255,255);\">the</td><td style=\"background-color: rgb(255,255,255);\">bathroom</td></tr><tr><td><b>lexical_unit</b></td><td style=\"background-color: rgb(0.0000, 255,0.0000);\">1.0000</td><td style=\"background-color: rgb(255.0000, 255,255.0000);\">0.0000</td><td style=\"background-color: rgb(255.0000, 255,255.0000);\">0.0000</td><td style=\"background-color: rgb(255.0000, 255,255.0000);\">0.0000</td></tr><tr><td><b>attention_intent</b></td><td style=\"background-color: rgb(254.9855, 255,254.9855);\">0.0001</td><td style=\"background-color: rgb(103.7271, 255,103.7271);\">0.5932</td><td style=\"background-color: rgb(151.3713, 255,151.3713);\">0.4064</td><td style=\"background-color: rgb(254.9172, 255,254.9172);\">0.0003</td></tr><tr><td><b>slots_true</b></td><td style=\"background-color: rgb(255,255,255);\">O</td><td style=\"background-color: rgb(255,255,255);\">B-Goal</td><td style=\"background-color: rgb(255,255,255);\">I-Goal</td><td style=\"background-color: rgb(255,255,255);\">I-Goal</td></tr><tr><td><b>slots_pred</b></td><td style=\"background-color: rgb(255,255,255);\">O</td><td style=\"background-color: rgb(255,255,255);\">B-Goal</td><td style=\"background-color: rgb(255,255,255);\">I-Goal</td><td style=\"background-color: rgb(255,255,255);\">I-Goal</td></tr></table>"
      ],
      "text/plain": [
       "<IPython.core.display.HTML object>"
      ]
     },
     "metadata": {},
     "output_type": "display_data"
    },
    {
     "name": "stdout",
     "output_type": "stream",
     "text": [
      "true: Being_located pred: Being_located\n"
     ]
    },
    {
     "data": {
      "text/html": [
       "<table><tr><td><b>words</b></td><td style=\"background-color: rgb(255,255,255);\">and</td><td style=\"background-color: rgb(255,255,255);\">the</td><td style=\"background-color: rgb(255,255,255);\">bed</td><td style=\"background-color: rgb(255,255,255);\">is</td><td style=\"background-color: rgb(255,255,255);\">between</td><td style=\"background-color: rgb(255,255,255);\">two</td><td style=\"background-color: rgb(255,255,255);\">lamps</td></tr><tr><td><b>lexical_unit</b></td><td style=\"background-color: rgb(255.0000, 255,255.0000);\">0.0000</td><td style=\"background-color: rgb(255.0000, 255,255.0000);\">0.0000</td><td style=\"background-color: rgb(255.0000, 255,255.0000);\">0.0000</td><td style=\"background-color: rgb(0.0000, 255,0.0000);\">1.0000</td><td style=\"background-color: rgb(255.0000, 255,255.0000);\">0.0000</td><td style=\"background-color: rgb(255.0000, 255,255.0000);\">0.0000</td><td style=\"background-color: rgb(255.0000, 255,255.0000);\">0.0000</td></tr><tr><td><b>attention_intent</b></td><td style=\"background-color: rgb(254.9758, 255,254.9758);\">0.0001</td><td style=\"background-color: rgb(253.0061, 255,253.0061);\">0.0078</td><td style=\"background-color: rgb(254.9975, 255,254.9975);\">0.0000</td><td style=\"background-color: rgb(254.7806, 255,254.7806);\">0.0009</td><td style=\"background-color: rgb(109.1063, 255,109.1063);\">0.5721</td><td style=\"background-color: rgb(150.1448, 255,150.1448);\">0.4112</td><td style=\"background-color: rgb(252.9906, 255,252.9906);\">0.0079</td></tr><tr><td><b>slots_true</b></td><td style=\"background-color: rgb(255,255,255);\">O</td><td style=\"background-color: rgb(255,255,255);\">B-Theme</td><td style=\"background-color: rgb(255,255,255);\">I-Theme</td><td style=\"background-color: rgb(255,255,255);\">O</td><td style=\"background-color: rgb(255,255,255);\">B-Location</td><td style=\"background-color: rgb(255,255,255);\">I-Location</td><td style=\"background-color: rgb(255,255,255);\">I-Location</td></tr><tr><td><b>slots_pred</b></td><td style=\"background-color: rgb(255,255,255);\">O</td><td style=\"background-color: rgb(255,255,255);\">O</td><td style=\"background-color: rgb(255,255,255);\">O</td><td style=\"background-color: rgb(255,255,255);\">O</td><td style=\"background-color: rgb(255,255,255);\">O</td><td style=\"background-color: rgb(255,255,255);\">O</td><td style=\"background-color: rgb(255,255,255);\">O</td></tr></table>"
      ],
      "text/plain": [
       "<IPython.core.display.HTML object>"
      ]
     },
     "metadata": {},
     "output_type": "display_data"
    },
    {
     "name": "stdout",
     "output_type": "stream",
     "text": [
      "true: Bringing pred: Bringing\n"
     ]
    },
    {
     "data": {
      "text/html": [
       "<table><tr><td><b>words</b></td><td style=\"background-color: rgb(255,255,255);\">can</td><td style=\"background-color: rgb(255,255,255);\">you</td><td style=\"background-color: rgb(255,255,255);\">bring</td><td style=\"background-color: rgb(255,255,255);\">me</td><td style=\"background-color: rgb(255,255,255);\">the</td><td style=\"background-color: rgb(255,255,255);\">coke</td><td style=\"background-color: rgb(255,255,255);\">from</td><td style=\"background-color: rgb(255,255,255);\">the</td><td style=\"background-color: rgb(255,255,255);\">fridge</td></tr><tr><td><b>lexical_unit</b></td><td style=\"background-color: rgb(255.0000, 255,255.0000);\">0.0000</td><td style=\"background-color: rgb(255.0000, 255,255.0000);\">0.0000</td><td style=\"background-color: rgb(0.0000, 255,0.0000);\">1.0000</td><td style=\"background-color: rgb(255.0000, 255,255.0000);\">0.0000</td><td style=\"background-color: rgb(255.0000, 255,255.0000);\">0.0000</td><td style=\"background-color: rgb(255.0000, 255,255.0000);\">0.0000</td><td style=\"background-color: rgb(255.0000, 255,255.0000);\">0.0000</td><td style=\"background-color: rgb(255.0000, 255,255.0000);\">0.0000</td><td style=\"background-color: rgb(255.0000, 255,255.0000);\">0.0000</td></tr><tr><td><b>attention_intent</b></td><td style=\"background-color: rgb(255.0000, 255,255.0000);\">0.0000</td><td style=\"background-color: rgb(255.0000, 255,255.0000);\">0.0000</td><td style=\"background-color: rgb(254.2469, 255,254.2469);\">0.0030</td><td style=\"background-color: rgb(4.0488, 255,4.0488);\">0.9841</td><td style=\"background-color: rgb(253.9669, 255,253.9669);\">0.0041</td><td style=\"background-color: rgb(253.4278, 255,253.4278);\">0.0062</td><td style=\"background-color: rgb(254.9350, 255,254.9350);\">0.0003</td><td style=\"background-color: rgb(254.3753, 255,254.3753);\">0.0024</td><td style=\"background-color: rgb(254.9998, 255,254.9998);\">0.0000</td></tr><tr><td><b>slots_true</b></td><td style=\"background-color: rgb(255,255,255);\">O</td><td style=\"background-color: rgb(255,255,255);\">B-Agent</td><td style=\"background-color: rgb(255,255,255);\">O</td><td style=\"background-color: rgb(255,255,255);\">B-Beneficiary</td><td style=\"background-color: rgb(255,255,255);\">B-Theme</td><td style=\"background-color: rgb(255,255,255);\">I-Theme</td><td style=\"background-color: rgb(255,255,255);\">B-Source</td><td style=\"background-color: rgb(255,255,255);\">I-Source</td><td style=\"background-color: rgb(255,255,255);\">I-Source</td></tr><tr><td><b>slots_pred</b></td><td style=\"background-color: rgb(255,255,255);\">O</td><td style=\"background-color: rgb(255,255,255);\">B-Agent</td><td style=\"background-color: rgb(255,255,255);\">O</td><td style=\"background-color: rgb(255,255,255);\">B-Beneficiary</td><td style=\"background-color: rgb(255,255,255);\">B-Theme</td><td style=\"background-color: rgb(255,255,255);\">I-Theme</td><td style=\"background-color: rgb(255,255,255);\">B-Source</td><td style=\"background-color: rgb(255,255,255);\">I-Source</td><td style=\"background-color: rgb(255,255,255);\">I-Source</td></tr></table>"
      ],
      "text/plain": [
       "<IPython.core.display.HTML object>"
      ]
     },
     "metadata": {},
     "output_type": "display_data"
    },
    {
     "name": "stdout",
     "output_type": "stream",
     "text": [
      "true: Being_in_category pred: Being_in_category\n"
     ]
    },
    {
     "data": {
      "text/html": [
       "<table><tr><td><b>words</b></td><td style=\"background-color: rgb(255,255,255);\">this</td><td style=\"background-color: rgb(255,255,255);\">is</td><td style=\"background-color: rgb(255,255,255);\">a</td><td style=\"background-color: rgb(255,255,255);\">bed</td><td style=\"background-color: rgb(255,255,255);\">room</td></tr><tr><td><b>lexical_unit</b></td><td style=\"background-color: rgb(255.0000, 255,255.0000);\">0.0000</td><td style=\"background-color: rgb(0.0000, 255,0.0000);\">1.0000</td><td style=\"background-color: rgb(255.0000, 255,255.0000);\">0.0000</td><td style=\"background-color: rgb(255.0000, 255,255.0000);\">0.0000</td><td style=\"background-color: rgb(255.0000, 255,255.0000);\">0.0000</td></tr><tr><td><b>attention_intent</b></td><td style=\"background-color: rgb(254.9997, 255,254.9997);\">0.0000</td><td style=\"background-color: rgb(254.8419, 255,254.8419);\">0.0006</td><td style=\"background-color: rgb(6.1094, 255,6.1094);\">0.9760</td><td style=\"background-color: rgb(249.6359, 255,249.6359);\">0.0210</td><td style=\"background-color: rgb(254.8210, 255,254.8210);\">0.0007</td></tr><tr><td><b>slots_true</b></td><td style=\"background-color: rgb(255,255,255);\">B-Item</td><td style=\"background-color: rgb(255,255,255);\">O</td><td style=\"background-color: rgb(255,255,255);\">B-Category</td><td style=\"background-color: rgb(255,255,255);\">I-Category</td><td style=\"background-color: rgb(255,255,255);\">I-Category</td></tr><tr><td><b>slots_pred</b></td><td style=\"background-color: rgb(255,255,255);\">B-Item</td><td style=\"background-color: rgb(255,255,255);\">O</td><td style=\"background-color: rgb(255,255,255);\">B-Category</td><td style=\"background-color: rgb(255,255,255);\">I-Category</td><td style=\"background-color: rgb(255,255,255);\">I-Category</td></tr></table>"
      ],
      "text/plain": [
       "<IPython.core.display.HTML object>"
      ]
     },
     "metadata": {},
     "output_type": "display_data"
    },
    {
     "name": "stdout",
     "output_type": "stream",
     "text": [
      "true: Following pred: Following\n"
     ]
    },
    {
     "data": {
      "text/html": [
       "<table><tr><td><b>words</b></td><td style=\"background-color: rgb(255,255,255);\">and</td><td style=\"background-color: rgb(255,255,255);\">follow</td><td style=\"background-color: rgb(255,255,255);\">the</td><td style=\"background-color: rgb(255,255,255);\">skinny</td><td style=\"background-color: rgb(255,255,255);\">person</td></tr><tr><td><b>lexical_unit</b></td><td style=\"background-color: rgb(255.0000, 255,255.0000);\">0.0000</td><td style=\"background-color: rgb(0.0000, 255,0.0000);\">1.0000</td><td style=\"background-color: rgb(255.0000, 255,255.0000);\">0.0000</td><td style=\"background-color: rgb(255.0000, 255,255.0000);\">0.0000</td><td style=\"background-color: rgb(255.0000, 255,255.0000);\">0.0000</td></tr><tr><td><b>attention_intent</b></td><td style=\"background-color: rgb(255.0000, 255,255.0000);\">0.0000</td><td style=\"background-color: rgb(95.5375, 255,95.5375);\">0.6253</td><td style=\"background-color: rgb(165.5965, 255,165.5965);\">0.3506</td><td style=\"background-color: rgb(248.8751, 255,248.8751);\">0.0240</td><td style=\"background-color: rgb(254.9916, 255,254.9916);\">0.0000</td></tr><tr><td><b>slots_true</b></td><td style=\"background-color: rgb(255,255,255);\">O</td><td style=\"background-color: rgb(255,255,255);\">O</td><td style=\"background-color: rgb(255,255,255);\">B-Cotheme</td><td style=\"background-color: rgb(255,255,255);\">I-Cotheme</td><td style=\"background-color: rgb(255,255,255);\">I-Cotheme</td></tr><tr><td><b>slots_pred</b></td><td style=\"background-color: rgb(255,255,255);\">O</td><td style=\"background-color: rgb(255,255,255);\">O</td><td style=\"background-color: rgb(255,255,255);\">B-Cotheme</td><td style=\"background-color: rgb(255,255,255);\">I-Cotheme</td><td style=\"background-color: rgb(255,255,255);\">I-Cotheme</td></tr></table>"
      ],
      "text/plain": [
       "<IPython.core.display.HTML object>"
      ]
     },
     "metadata": {},
     "output_type": "display_data"
    },
    {
     "name": "stdout",
     "output_type": "stream",
     "text": [
      "true: Searching pred: Searching\n"
     ]
    },
    {
     "data": {
      "text/html": [
       "<table><tr><td><b>words</b></td><td style=\"background-color: rgb(255,255,255);\">find</td><td style=\"background-color: rgb(255,255,255);\">me</td><td style=\"background-color: rgb(255,255,255);\">a</td><td style=\"background-color: rgb(255,255,255);\">cushion</td></tr><tr><td><b>lexical_unit</b></td><td style=\"background-color: rgb(0.0000, 255,0.0000);\">1.0000</td><td style=\"background-color: rgb(255.0000, 255,255.0000);\">0.0000</td><td style=\"background-color: rgb(255.0000, 255,255.0000);\">0.0000</td><td style=\"background-color: rgb(255.0000, 255,255.0000);\">0.0000</td></tr><tr><td><b>attention_intent</b></td><td style=\"background-color: rgb(254.9531, 255,254.9531);\">0.0002</td><td style=\"background-color: rgb(196.2640, 255,196.2640);\">0.2303</td><td style=\"background-color: rgb(58.7864, 255,58.7864);\">0.7695</td><td style=\"background-color: rgb(254.9987, 255,254.9987);\">0.0000</td></tr><tr><td><b>slots_true</b></td><td style=\"background-color: rgb(255,255,255);\">O</td><td style=\"background-color: rgb(255,255,255);\">B-Purpose</td><td style=\"background-color: rgb(255,255,255);\">B-Phenomenon</td><td style=\"background-color: rgb(255,255,255);\">I-Phenomenon</td></tr><tr><td><b>slots_pred</b></td><td style=\"background-color: rgb(255,255,255);\">O</td><td style=\"background-color: rgb(255,255,255);\">B-Purpose</td><td style=\"background-color: rgb(255,255,255);\">B-Phenomenon</td><td style=\"background-color: rgb(255,255,255);\">I-Phenomenon</td></tr></table>"
      ],
      "text/plain": [
       "<IPython.core.display.HTML object>"
      ]
     },
     "metadata": {},
     "output_type": "display_data"
    },
    {
     "name": "stdout",
     "output_type": "stream",
     "text": [
      "true: Searching pred: Searching\n"
     ]
    },
    {
     "data": {
      "text/html": [
       "<table><tr><td><b>words</b></td><td style=\"background-color: rgb(255,255,255);\">please</td><td style=\"background-color: rgb(255,255,255);\">find</td><td style=\"background-color: rgb(255,255,255);\">the</td><td style=\"background-color: rgb(255,255,255);\">flowers</td></tr><tr><td><b>lexical_unit</b></td><td style=\"background-color: rgb(255.0000, 255,255.0000);\">0.0000</td><td style=\"background-color: rgb(0.0000, 255,0.0000);\">1.0000</td><td style=\"background-color: rgb(255.0000, 255,255.0000);\">0.0000</td><td style=\"background-color: rgb(255.0000, 255,255.0000);\">0.0000</td></tr><tr><td><b>attention_intent</b></td><td style=\"background-color: rgb(255.0000, 255,255.0000);\">0.0000</td><td style=\"background-color: rgb(254.9874, 255,254.9874);\">0.0000</td><td style=\"background-color: rgb(20.8869, 255,20.8869);\">0.9181</td><td style=\"background-color: rgb(234.1265, 255,234.1265);\">0.0819</td></tr><tr><td><b>slots_true</b></td><td style=\"background-color: rgb(255,255,255);\">O</td><td style=\"background-color: rgb(255,255,255);\">O</td><td style=\"background-color: rgb(255,255,255);\">B-Phenomenon</td><td style=\"background-color: rgb(255,255,255);\">I-Phenomenon</td></tr><tr><td><b>slots_pred</b></td><td style=\"background-color: rgb(255,255,255);\">O</td><td style=\"background-color: rgb(255,255,255);\">O</td><td style=\"background-color: rgb(255,255,255);\">B-Phenomenon</td><td style=\"background-color: rgb(255,255,255);\">I-Phenomenon</td></tr></table>"
      ],
      "text/plain": [
       "<IPython.core.display.HTML object>"
      ]
     },
     "metadata": {},
     "output_type": "display_data"
    },
    {
     "name": "stdout",
     "output_type": "stream",
     "text": [
      "true: Following pred: Following\n"
     ]
    },
    {
     "data": {
      "text/html": [
       "<table><tr><td><b>words</b></td><td style=\"background-color: rgb(255,255,255);\">follow</td><td style=\"background-color: rgb(255,255,255);\">me</td></tr><tr><td><b>lexical_unit</b></td><td style=\"background-color: rgb(0.0000, 255,0.0000);\">1.0000</td><td style=\"background-color: rgb(255.0000, 255,255.0000);\">0.0000</td></tr><tr><td><b>attention_intent</b></td><td style=\"background-color: rgb(0.8937, 255,0.8937);\">0.9965</td><td style=\"background-color: rgb(254.1072, 255,254.1072);\">0.0035</td></tr><tr><td><b>slots_true</b></td><td style=\"background-color: rgb(255,255,255);\">O</td><td style=\"background-color: rgb(255,255,255);\">B-Cotheme</td></tr><tr><td><b>slots_pred</b></td><td style=\"background-color: rgb(255,255,255);\">O</td><td style=\"background-color: rgb(255,255,255);\">B-Cotheme</td></tr></table>"
      ],
      "text/plain": [
       "<IPython.core.display.HTML object>"
      ]
     },
     "metadata": {},
     "output_type": "display_data"
    },
    {
     "name": "stdout",
     "output_type": "stream",
     "text": [
      "true: Bringing pred: Bringing\n"
     ]
    },
    {
     "data": {
      "text/html": [
       "<table><tr><td><b>words</b></td><td style=\"background-color: rgb(255,255,255);\">take</td><td style=\"background-color: rgb(255,255,255);\">my</td><td style=\"background-color: rgb(255,255,255);\">cellphone</td><td style=\"background-color: rgb(255,255,255);\">to</td><td style=\"background-color: rgb(255,255,255);\">the</td><td style=\"background-color: rgb(255,255,255);\">bedroom</td></tr><tr><td><b>lexical_unit</b></td><td style=\"background-color: rgb(0.0000, 255,0.0000);\">1.0000</td><td style=\"background-color: rgb(255.0000, 255,255.0000);\">0.0000</td><td style=\"background-color: rgb(255.0000, 255,255.0000);\">0.0000</td><td style=\"background-color: rgb(255.0000, 255,255.0000);\">0.0000</td><td style=\"background-color: rgb(255.0000, 255,255.0000);\">0.0000</td><td style=\"background-color: rgb(255.0000, 255,255.0000);\">0.0000</td></tr><tr><td><b>attention_intent</b></td><td style=\"background-color: rgb(254.9980, 255,254.9980);\">0.0000</td><td style=\"background-color: rgb(254.5246, 255,254.5246);\">0.0019</td><td style=\"background-color: rgb(254.9998, 255,254.9998);\">0.0000</td><td style=\"background-color: rgb(7.7906, 255,7.7906);\">0.9694</td><td style=\"background-color: rgb(247.6912, 255,247.6912);\">0.0287</td><td style=\"background-color: rgb(254.9986, 255,254.9986);\">0.0000</td></tr><tr><td><b>slots_true</b></td><td style=\"background-color: rgb(255,255,255);\">O</td><td style=\"background-color: rgb(255,255,255);\">B-Theme</td><td style=\"background-color: rgb(255,255,255);\">I-Theme</td><td style=\"background-color: rgb(255,255,255);\">B-Goal</td><td style=\"background-color: rgb(255,255,255);\">I-Goal</td><td style=\"background-color: rgb(255,255,255);\">I-Goal</td></tr><tr><td><b>slots_pred</b></td><td style=\"background-color: rgb(255,255,255);\">O</td><td style=\"background-color: rgb(255,255,255);\">B-Theme</td><td style=\"background-color: rgb(255,255,255);\">I-Theme</td><td style=\"background-color: rgb(255,255,255);\">B-Goal</td><td style=\"background-color: rgb(255,255,255);\">I-Goal</td><td style=\"background-color: rgb(255,255,255);\">I-Goal</td></tr></table>"
      ],
      "text/plain": [
       "<IPython.core.display.HTML object>"
      ]
     },
     "metadata": {},
     "output_type": "display_data"
    },
    {
     "name": "stdout",
     "output_type": "stream",
     "text": [
      "true: Following pred: Following\n"
     ]
    },
    {
     "data": {
      "text/html": [
       "<table><tr><td><b>words</b></td><td style=\"background-color: rgb(255,255,255);\">follow</td><td style=\"background-color: rgb(255,255,255);\">my</td><td style=\"background-color: rgb(255,255,255);\">friend</td><td style=\"background-color: rgb(255,255,255);\">into</td><td style=\"background-color: rgb(255,255,255);\">the</td><td style=\"background-color: rgb(255,255,255);\">living</td><td style=\"background-color: rgb(255,255,255);\">room</td></tr><tr><td><b>lexical_unit</b></td><td style=\"background-color: rgb(0.0000, 255,0.0000);\">1.0000</td><td style=\"background-color: rgb(255.0000, 255,255.0000);\">0.0000</td><td style=\"background-color: rgb(255.0000, 255,255.0000);\">0.0000</td><td style=\"background-color: rgb(255.0000, 255,255.0000);\">0.0000</td><td style=\"background-color: rgb(255.0000, 255,255.0000);\">0.0000</td><td style=\"background-color: rgb(255.0000, 255,255.0000);\">0.0000</td><td style=\"background-color: rgb(255.0000, 255,255.0000);\">0.0000</td></tr><tr><td><b>attention_intent</b></td><td style=\"background-color: rgb(83.3525, 255,83.3525);\">0.6731</td><td style=\"background-color: rgb(189.2945, 255,189.2945);\">0.2577</td><td style=\"background-color: rgb(254.9114, 255,254.9114);\">0.0003</td><td style=\"background-color: rgb(238.9067, 255,238.9067);\">0.0631</td><td style=\"background-color: rgb(253.6055, 255,253.6055);\">0.0055</td><td style=\"background-color: rgb(254.9329, 255,254.9329);\">0.0003</td><td style=\"background-color: rgb(255.0000, 255,255.0000);\">0.0000</td></tr><tr><td><b>slots_true</b></td><td style=\"background-color: rgb(255,255,255);\">O</td><td style=\"background-color: rgb(255,255,255);\">B-Cotheme</td><td style=\"background-color: rgb(255,255,255);\">I-Cotheme</td><td style=\"background-color: rgb(255,255,255);\">B-Goal</td><td style=\"background-color: rgb(255,255,255);\">I-Goal</td><td style=\"background-color: rgb(255,255,255);\">I-Goal</td><td style=\"background-color: rgb(255,255,255);\">I-Goal</td></tr><tr><td><b>slots_pred</b></td><td style=\"background-color: rgb(255,255,255);\">O</td><td style=\"background-color: rgb(255,255,255);\">B-Cotheme</td><td style=\"background-color: rgb(255,255,255);\">I-Cotheme</td><td style=\"background-color: rgb(255,255,255);\">B-Goal</td><td style=\"background-color: rgb(255,255,255);\">I-Goal</td><td style=\"background-color: rgb(255,255,255);\">I-Goal</td><td style=\"background-color: rgb(255,255,255);\">I-Goal</td></tr></table>"
      ],
      "text/plain": [
       "<IPython.core.display.HTML object>"
      ]
     },
     "metadata": {},
     "output_type": "display_data"
    },
    {
     "name": "stdout",
     "output_type": "stream",
     "text": [
      "true: Motion pred: Motion\n"
     ]
    },
    {
     "data": {
      "text/html": [
       "<table><tr><td><b>words</b></td><td style=\"background-color: rgb(255,255,255);\">could</td><td style=\"background-color: rgb(255,255,255);\">you</td><td style=\"background-color: rgb(255,255,255);\">please</td><td style=\"background-color: rgb(255,255,255);\">move</td><td style=\"background-color: rgb(255,255,255);\">to</td><td style=\"background-color: rgb(255,255,255);\">the</td><td style=\"background-color: rgb(255,255,255);\">sink</td></tr><tr><td><b>lexical_unit</b></td><td style=\"background-color: rgb(255.0000, 255,255.0000);\">0.0000</td><td style=\"background-color: rgb(255.0000, 255,255.0000);\">0.0000</td><td style=\"background-color: rgb(255.0000, 255,255.0000);\">0.0000</td><td style=\"background-color: rgb(0.0000, 255,0.0000);\">1.0000</td><td style=\"background-color: rgb(255.0000, 255,255.0000);\">0.0000</td><td style=\"background-color: rgb(255.0000, 255,255.0000);\">0.0000</td><td style=\"background-color: rgb(255.0000, 255,255.0000);\">0.0000</td></tr><tr><td><b>attention_intent</b></td><td style=\"background-color: rgb(255.0000, 255,255.0000);\">0.0000</td><td style=\"background-color: rgb(255.0000, 255,255.0000);\">0.0000</td><td style=\"background-color: rgb(255.0000, 255,255.0000);\">0.0000</td><td style=\"background-color: rgb(254.9706, 255,254.9706);\">0.0001</td><td style=\"background-color: rgb(91.7568, 255,91.7568);\">0.6402</td><td style=\"background-color: rgb(170.3417, 255,170.3417);\">0.3320</td><td style=\"background-color: rgb(247.9316, 255,247.9316);\">0.0277</td></tr><tr><td><b>slots_true</b></td><td style=\"background-color: rgb(255,255,255);\">O</td><td style=\"background-color: rgb(255,255,255);\">B-Theme</td><td style=\"background-color: rgb(255,255,255);\">O</td><td style=\"background-color: rgb(255,255,255);\">O</td><td style=\"background-color: rgb(255,255,255);\">B-Goal</td><td style=\"background-color: rgb(255,255,255);\">I-Goal</td><td style=\"background-color: rgb(255,255,255);\">I-Goal</td></tr><tr><td><b>slots_pred</b></td><td style=\"background-color: rgb(255,255,255);\">O</td><td style=\"background-color: rgb(255,255,255);\">B-Theme</td><td style=\"background-color: rgb(255,255,255);\">O</td><td style=\"background-color: rgb(255,255,255);\">O</td><td style=\"background-color: rgb(255,255,255);\">B-Goal</td><td style=\"background-color: rgb(255,255,255);\">I-Goal</td><td style=\"background-color: rgb(255,255,255);\">I-Goal</td></tr></table>"
      ],
      "text/plain": [
       "<IPython.core.display.HTML object>"
      ]
     },
     "metadata": {},
     "output_type": "display_data"
    },
    {
     "name": "stdout",
     "output_type": "stream",
     "text": [
      "true: Taking pred: Taking\n"
     ]
    },
    {
     "data": {
      "text/html": [
       "<table><tr><td><b>words</b></td><td style=\"background-color: rgb(255,255,255);\">john</td><td style=\"background-color: rgb(255,255,255);\">can</td><td style=\"background-color: rgb(255,255,255);\">you</td><td style=\"background-color: rgb(255,255,255);\">take</td><td style=\"background-color: rgb(255,255,255);\">the</td><td style=\"background-color: rgb(255,255,255);\">mug</td><td style=\"background-color: rgb(255,255,255);\">in</td><td style=\"background-color: rgb(255,255,255);\">the</td><td style=\"background-color: rgb(255,255,255);\">kitchen</td></tr><tr><td><b>lexical_unit</b></td><td style=\"background-color: rgb(255.0000, 255,255.0000);\">0.0000</td><td style=\"background-color: rgb(255.0000, 255,255.0000);\">0.0000</td><td style=\"background-color: rgb(255.0000, 255,255.0000);\">0.0000</td><td style=\"background-color: rgb(0.0000, 255,0.0000);\">1.0000</td><td style=\"background-color: rgb(255.0000, 255,255.0000);\">0.0000</td><td style=\"background-color: rgb(255.0000, 255,255.0000);\">0.0000</td><td style=\"background-color: rgb(255.0000, 255,255.0000);\">0.0000</td><td style=\"background-color: rgb(255.0000, 255,255.0000);\">0.0000</td><td style=\"background-color: rgb(255.0000, 255,255.0000);\">0.0000</td></tr><tr><td><b>attention_intent</b></td><td style=\"background-color: rgb(255.0000, 255,255.0000);\">0.0000</td><td style=\"background-color: rgb(255.0000, 255,255.0000);\">0.0000</td><td style=\"background-color: rgb(254.9999, 255,254.9999);\">0.0000</td><td style=\"background-color: rgb(254.5613, 255,254.5613);\">0.0017</td><td style=\"background-color: rgb(167.2181, 255,167.2181);\">0.3442</td><td style=\"background-color: rgb(254.6750, 255,254.6750);\">0.0013</td><td style=\"background-color: rgb(252.2503, 255,252.2503);\">0.0108</td><td style=\"background-color: rgb(91.4420, 255,91.4420);\">0.6414</td><td style=\"background-color: rgb(254.9989, 255,254.9989);\">0.0000</td></tr><tr><td><b>slots_true</b></td><td style=\"background-color: rgb(255,255,255);\">O</td><td style=\"background-color: rgb(255,255,255);\">O</td><td style=\"background-color: rgb(255,255,255);\">B-Agent</td><td style=\"background-color: rgb(255,255,255);\">O</td><td style=\"background-color: rgb(255,255,255);\">B-Theme</td><td style=\"background-color: rgb(255,255,255);\">I-Theme</td><td style=\"background-color: rgb(255,255,255);\">I-Theme</td><td style=\"background-color: rgb(255,255,255);\">I-Theme</td><td style=\"background-color: rgb(255,255,255);\">I-Theme</td></tr><tr><td><b>slots_pred</b></td><td style=\"background-color: rgb(255,255,255);\">O</td><td style=\"background-color: rgb(255,255,255);\">O</td><td style=\"background-color: rgb(255,255,255);\">B-Agent</td><td style=\"background-color: rgb(255,255,255);\">O</td><td style=\"background-color: rgb(255,255,255);\">B-Theme</td><td style=\"background-color: rgb(255,255,255);\">I-Theme</td><td style=\"background-color: rgb(255,255,255);\">B-Theme</td><td style=\"background-color: rgb(255,255,255);\">I-Theme</td><td style=\"background-color: rgb(255,255,255);\">I-Theme</td></tr></table>"
      ],
      "text/plain": [
       "<IPython.core.display.HTML object>"
      ]
     },
     "metadata": {},
     "output_type": "display_data"
    },
    {
     "name": "stdout",
     "output_type": "stream",
     "text": [
      "true: Following pred: Following\n"
     ]
    },
    {
     "data": {
      "text/html": [
       "<table><tr><td><b>words</b></td><td style=\"background-color: rgb(255,255,255);\">would</td><td style=\"background-color: rgb(255,255,255);\">you</td><td style=\"background-color: rgb(255,255,255);\">please</td><td style=\"background-color: rgb(255,255,255);\">follow</td><td style=\"background-color: rgb(255,255,255);\">me</td><td style=\"background-color: rgb(255,255,255);\">to</td><td style=\"background-color: rgb(255,255,255);\">the</td><td style=\"background-color: rgb(255,255,255);\">kitchen</td></tr><tr><td><b>lexical_unit</b></td><td style=\"background-color: rgb(255.0000, 255,255.0000);\">0.0000</td><td style=\"background-color: rgb(255.0000, 255,255.0000);\">0.0000</td><td style=\"background-color: rgb(255.0000, 255,255.0000);\">0.0000</td><td style=\"background-color: rgb(0.0000, 255,0.0000);\">1.0000</td><td style=\"background-color: rgb(255.0000, 255,255.0000);\">0.0000</td><td style=\"background-color: rgb(255.0000, 255,255.0000);\">0.0000</td><td style=\"background-color: rgb(255.0000, 255,255.0000);\">0.0000</td><td style=\"background-color: rgb(255.0000, 255,255.0000);\">0.0000</td></tr><tr><td><b>attention_intent</b></td><td style=\"background-color: rgb(255.0000, 255,255.0000);\">0.0000</td><td style=\"background-color: rgb(255.0000, 255,255.0000);\">0.0000</td><td style=\"background-color: rgb(255.0000, 255,255.0000);\">0.0000</td><td style=\"background-color: rgb(9.9674, 255,9.9674);\">0.9609</td><td style=\"background-color: rgb(251.8606, 255,251.8606);\">0.0123</td><td style=\"background-color: rgb(249.0454, 255,249.0454);\">0.0234</td><td style=\"background-color: rgb(254.1275, 255,254.1275);\">0.0034</td><td style=\"background-color: rgb(254.9999, 255,254.9999);\">0.0000</td></tr><tr><td><b>slots_true</b></td><td style=\"background-color: rgb(255,255,255);\">O</td><td style=\"background-color: rgb(255,255,255);\">B-Theme</td><td style=\"background-color: rgb(255,255,255);\">O</td><td style=\"background-color: rgb(255,255,255);\">O</td><td style=\"background-color: rgb(255,255,255);\">B-Cotheme</td><td style=\"background-color: rgb(255,255,255);\">B-Goal</td><td style=\"background-color: rgb(255,255,255);\">I-Goal</td><td style=\"background-color: rgb(255,255,255);\">I-Goal</td></tr><tr><td><b>slots_pred</b></td><td style=\"background-color: rgb(255,255,255);\">O</td><td style=\"background-color: rgb(255,255,255);\">B-Theme</td><td style=\"background-color: rgb(255,255,255);\">O</td><td style=\"background-color: rgb(255,255,255);\">O</td><td style=\"background-color: rgb(255,255,255);\">B-Cotheme</td><td style=\"background-color: rgb(255,255,255);\">B-Goal</td><td style=\"background-color: rgb(255,255,255);\">I-Goal</td><td style=\"background-color: rgb(255,255,255);\">I-Goal</td></tr></table>"
      ],
      "text/plain": [
       "<IPython.core.display.HTML object>"
      ]
     },
     "metadata": {},
     "output_type": "display_data"
    },
    {
     "name": "stdout",
     "output_type": "stream",
     "text": [
      "true: Searching pred: Searching\n"
     ]
    },
    {
     "data": {
      "text/html": [
       "<table><tr><td><b>words</b></td><td style=\"background-color: rgb(255,255,255);\">find</td><td style=\"background-color: rgb(255,255,255);\">the</td><td style=\"background-color: rgb(255,255,255);\">glasses</td><td style=\"background-color: rgb(255,255,255);\">on</td><td style=\"background-color: rgb(255,255,255);\">the</td><td style=\"background-color: rgb(255,255,255);\">table</td></tr><tr><td><b>lexical_unit</b></td><td style=\"background-color: rgb(0.0000, 255,0.0000);\">1.0000</td><td style=\"background-color: rgb(255.0000, 255,255.0000);\">0.0000</td><td style=\"background-color: rgb(255.0000, 255,255.0000);\">0.0000</td><td style=\"background-color: rgb(255.0000, 255,255.0000);\">0.0000</td><td style=\"background-color: rgb(255.0000, 255,255.0000);\">0.0000</td><td style=\"background-color: rgb(255.0000, 255,255.0000);\">0.0000</td></tr><tr><td><b>attention_intent</b></td><td style=\"background-color: rgb(254.9788, 255,254.9788);\">0.0001</td><td style=\"background-color: rgb(224.4730, 255,224.4730);\">0.1197</td><td style=\"background-color: rgb(254.4848, 255,254.4848);\">0.0020</td><td style=\"background-color: rgb(220.3947, 255,220.3947);\">0.1357</td><td style=\"background-color: rgb(65.6936, 255,65.6936);\">0.7424</td><td style=\"background-color: rgb(254.9787, 255,254.9787);\">0.0001</td></tr><tr><td><b>slots_true</b></td><td style=\"background-color: rgb(255,255,255);\">O</td><td style=\"background-color: rgb(255,255,255);\">B-Phenomenon</td><td style=\"background-color: rgb(255,255,255);\">I-Phenomenon</td><td style=\"background-color: rgb(255,255,255);\">B-Ground</td><td style=\"background-color: rgb(255,255,255);\">I-Ground</td><td style=\"background-color: rgb(255,255,255);\">I-Ground</td></tr><tr><td><b>slots_pred</b></td><td style=\"background-color: rgb(255,255,255);\">O</td><td style=\"background-color: rgb(255,255,255);\">B-Phenomenon</td><td style=\"background-color: rgb(255,255,255);\">I-Phenomenon</td><td style=\"background-color: rgb(255,255,255);\">B-Ground</td><td style=\"background-color: rgb(255,255,255);\">I-Ground</td><td style=\"background-color: rgb(255,255,255);\">I-Ground</td></tr></table>"
      ],
      "text/plain": [
       "<IPython.core.display.HTML object>"
      ]
     },
     "metadata": {},
     "output_type": "display_data"
    },
    {
     "name": "stdout",
     "output_type": "stream",
     "text": [
      "true: Placing pred: Placing\n"
     ]
    },
    {
     "data": {
      "text/html": [
       "<table><tr><td><b>words</b></td><td style=\"background-color: rgb(255,255,255);\">put</td><td style=\"background-color: rgb(255,255,255);\">my</td><td style=\"background-color: rgb(255,255,255);\">mobile</td><td style=\"background-color: rgb(255,255,255);\">phone</td><td style=\"background-color: rgb(255,255,255);\">on</td><td style=\"background-color: rgb(255,255,255);\">the</td><td style=\"background-color: rgb(255,255,255);\">kitchen</td><td style=\"background-color: rgb(255,255,255);\">table</td></tr><tr><td><b>lexical_unit</b></td><td style=\"background-color: rgb(0.0000, 255,0.0000);\">1.0000</td><td style=\"background-color: rgb(255.0000, 255,255.0000);\">0.0000</td><td style=\"background-color: rgb(255.0000, 255,255.0000);\">0.0000</td><td style=\"background-color: rgb(255.0000, 255,255.0000);\">0.0000</td><td style=\"background-color: rgb(255.0000, 255,255.0000);\">0.0000</td><td style=\"background-color: rgb(255.0000, 255,255.0000);\">0.0000</td><td style=\"background-color: rgb(255.0000, 255,255.0000);\">0.0000</td><td style=\"background-color: rgb(255.0000, 255,255.0000);\">0.0000</td></tr><tr><td><b>attention_intent</b></td><td style=\"background-color: rgb(254.9963, 255,254.9963);\">0.0000</td><td style=\"background-color: rgb(254.8033, 255,254.8033);\">0.0008</td><td style=\"background-color: rgb(254.9047, 255,254.9047);\">0.0004</td><td style=\"background-color: rgb(254.8979, 255,254.8979);\">0.0004</td><td style=\"background-color: rgb(228.9098, 255,228.9098);\">0.1023</td><td style=\"background-color: rgb(46.5103, 255,46.5103);\">0.8176</td><td style=\"background-color: rgb(250.5296, 255,250.5296);\">0.0175</td><td style=\"background-color: rgb(239.4502, 255,239.4502);\">0.0610</td></tr><tr><td><b>slots_true</b></td><td style=\"background-color: rgb(255,255,255);\">O</td><td style=\"background-color: rgb(255,255,255);\">B-Theme</td><td style=\"background-color: rgb(255,255,255);\">I-Theme</td><td style=\"background-color: rgb(255,255,255);\">I-Theme</td><td style=\"background-color: rgb(255,255,255);\">B-Goal</td><td style=\"background-color: rgb(255,255,255);\">I-Goal</td><td style=\"background-color: rgb(255,255,255);\">I-Goal</td><td style=\"background-color: rgb(255,255,255);\">I-Goal</td></tr><tr><td><b>slots_pred</b></td><td style=\"background-color: rgb(255,255,255);\">O</td><td style=\"background-color: rgb(255,255,255);\">B-Theme</td><td style=\"background-color: rgb(255,255,255);\">I-Theme</td><td style=\"background-color: rgb(255,255,255);\">I-Theme</td><td style=\"background-color: rgb(255,255,255);\">B-Goal</td><td style=\"background-color: rgb(255,255,255);\">I-Goal</td><td style=\"background-color: rgb(255,255,255);\">I-Goal</td><td style=\"background-color: rgb(255,255,255);\">I-Goal</td></tr></table>"
      ],
      "text/plain": [
       "<IPython.core.display.HTML object>"
      ]
     },
     "metadata": {},
     "output_type": "display_data"
    },
    {
     "name": "stdout",
     "output_type": "stream",
     "text": [
      "true: Searching pred: Searching\n"
     ]
    },
    {
     "data": {
      "text/html": [
       "<table><tr><td><b>words</b></td><td style=\"background-color: rgb(255,255,255);\">can</td><td style=\"background-color: rgb(255,255,255);\">you</td><td style=\"background-color: rgb(255,255,255);\">please</td><td style=\"background-color: rgb(255,255,255);\">search</td><td style=\"background-color: rgb(255,255,255);\">the</td><td style=\"background-color: rgb(255,255,255);\">book</td></tr><tr><td><b>lexical_unit</b></td><td style=\"background-color: rgb(255.0000, 255,255.0000);\">0.0000</td><td style=\"background-color: rgb(255.0000, 255,255.0000);\">0.0000</td><td style=\"background-color: rgb(255.0000, 255,255.0000);\">0.0000</td><td style=\"background-color: rgb(0.0000, 255,0.0000);\">1.0000</td><td style=\"background-color: rgb(255.0000, 255,255.0000);\">0.0000</td><td style=\"background-color: rgb(255.0000, 255,255.0000);\">0.0000</td></tr><tr><td><b>attention_intent</b></td><td style=\"background-color: rgb(255.0000, 255,255.0000);\">0.0000</td><td style=\"background-color: rgb(255.0000, 255,255.0000);\">0.0000</td><td style=\"background-color: rgb(255.0000, 255,255.0000);\">0.0000</td><td style=\"background-color: rgb(254.9840, 255,254.9840);\">0.0001</td><td style=\"background-color: rgb(41.0012, 255,41.0012);\">0.8392</td><td style=\"background-color: rgb(214.0154, 255,214.0154);\">0.1607</td></tr><tr><td><b>slots_true</b></td><td style=\"background-color: rgb(255,255,255);\">O</td><td style=\"background-color: rgb(255,255,255);\">B-Cognizer</td><td style=\"background-color: rgb(255,255,255);\">O</td><td style=\"background-color: rgb(255,255,255);\">O</td><td style=\"background-color: rgb(255,255,255);\">B-Phenomenon</td><td style=\"background-color: rgb(255,255,255);\">I-Phenomenon</td></tr><tr><td><b>slots_pred</b></td><td style=\"background-color: rgb(255,255,255);\">O</td><td style=\"background-color: rgb(255,255,255);\">B-Cognizer</td><td style=\"background-color: rgb(255,255,255);\">O</td><td style=\"background-color: rgb(255,255,255);\">O</td><td style=\"background-color: rgb(255,255,255);\">B-Phenomenon</td><td style=\"background-color: rgb(255,255,255);\">I-Phenomenon</td></tr></table>"
      ],
      "text/plain": [
       "<IPython.core.display.HTML object>"
      ]
     },
     "metadata": {},
     "output_type": "display_data"
    },
    {
     "name": "stdout",
     "output_type": "stream",
     "text": [
      "true: Bringing pred: Bringing\n"
     ]
    },
    {
     "data": {
      "text/html": [
       "<table><tr><td><b>words</b></td><td style=\"background-color: rgb(255,255,255);\">and</td><td style=\"background-color: rgb(255,255,255);\">bring</td><td style=\"background-color: rgb(255,255,255);\">it</td><td style=\"background-color: rgb(255,255,255);\">to</td><td style=\"background-color: rgb(255,255,255);\">me</td></tr><tr><td><b>lexical_unit</b></td><td style=\"background-color: rgb(255.0000, 255,255.0000);\">0.0000</td><td style=\"background-color: rgb(0.0000, 255,0.0000);\">1.0000</td><td style=\"background-color: rgb(255.0000, 255,255.0000);\">0.0000</td><td style=\"background-color: rgb(255.0000, 255,255.0000);\">0.0000</td><td style=\"background-color: rgb(255.0000, 255,255.0000);\">0.0000</td></tr><tr><td><b>attention_intent</b></td><td style=\"background-color: rgb(255.0000, 255,255.0000);\">0.0000</td><td style=\"background-color: rgb(254.6365, 255,254.6365);\">0.0014</td><td style=\"background-color: rgb(254.4520, 255,254.4520);\">0.0021</td><td style=\"background-color: rgb(17.7664, 255,17.7664);\">0.9303</td><td style=\"background-color: rgb(238.1458, 255,238.1458);\">0.0661</td></tr><tr><td><b>slots_true</b></td><td style=\"background-color: rgb(255,255,255);\">O</td><td style=\"background-color: rgb(255,255,255);\">O</td><td style=\"background-color: rgb(255,255,255);\">B-Theme</td><td style=\"background-color: rgb(255,255,255);\">B-Beneficiary</td><td style=\"background-color: rgb(255,255,255);\">I-Beneficiary</td></tr><tr><td><b>slots_pred</b></td><td style=\"background-color: rgb(255,255,255);\">O</td><td style=\"background-color: rgb(255,255,255);\">O</td><td style=\"background-color: rgb(255,255,255);\">B-Theme</td><td style=\"background-color: rgb(255,255,255);\">B-Beneficiary</td><td style=\"background-color: rgb(255,255,255);\">I-Beneficiary</td></tr></table>"
      ],
      "text/plain": [
       "<IPython.core.display.HTML object>"
      ]
     },
     "metadata": {},
     "output_type": "display_data"
    },
    {
     "name": "stdout",
     "output_type": "stream",
     "text": [
      "true: Motion pred: Motion\n"
     ]
    },
    {
     "data": {
      "text/html": [
       "<table><tr><td><b>words</b></td><td style=\"background-color: rgb(255,255,255);\">please</td><td style=\"background-color: rgb(255,255,255);\">go</td><td style=\"background-color: rgb(255,255,255);\">to</td><td style=\"background-color: rgb(255,255,255);\">the</td><td style=\"background-color: rgb(255,255,255);\">sink</td></tr><tr><td><b>lexical_unit</b></td><td style=\"background-color: rgb(255.0000, 255,255.0000);\">0.0000</td><td style=\"background-color: rgb(0.0000, 255,0.0000);\">1.0000</td><td style=\"background-color: rgb(255.0000, 255,255.0000);\">0.0000</td><td style=\"background-color: rgb(255.0000, 255,255.0000);\">0.0000</td><td style=\"background-color: rgb(255.0000, 255,255.0000);\">0.0000</td></tr><tr><td><b>attention_intent</b></td><td style=\"background-color: rgb(255.0000, 255,255.0000);\">0.0000</td><td style=\"background-color: rgb(254.9909, 255,254.9909);\">0.0000</td><td style=\"background-color: rgb(149.2514, 255,149.2514);\">0.4147</td><td style=\"background-color: rgb(119.0991, 255,119.0991);\">0.5329</td><td style=\"background-color: rgb(241.6594, 255,241.6594);\">0.0523</td></tr><tr><td><b>slots_true</b></td><td style=\"background-color: rgb(255,255,255);\">O</td><td style=\"background-color: rgb(255,255,255);\">O</td><td style=\"background-color: rgb(255,255,255);\">B-Goal</td><td style=\"background-color: rgb(255,255,255);\">I-Goal</td><td style=\"background-color: rgb(255,255,255);\">I-Goal</td></tr><tr><td><b>slots_pred</b></td><td style=\"background-color: rgb(255,255,255);\">O</td><td style=\"background-color: rgb(255,255,255);\">O</td><td style=\"background-color: rgb(255,255,255);\">B-Goal</td><td style=\"background-color: rgb(255,255,255);\">I-Goal</td><td style=\"background-color: rgb(255,255,255);\">I-Goal</td></tr></table>"
      ],
      "text/plain": [
       "<IPython.core.display.HTML object>"
      ]
     },
     "metadata": {},
     "output_type": "display_data"
    },
    {
     "name": "stdout",
     "output_type": "stream",
     "text": [
      "true: Motion pred: Motion\n"
     ]
    },
    {
     "data": {
      "text/html": [
       "<table><tr><td><b>words</b></td><td style=\"background-color: rgb(255,255,255);\">move</td><td style=\"background-color: rgb(255,255,255);\">near</td><td style=\"background-color: rgb(255,255,255);\">the</td><td style=\"background-color: rgb(255,255,255);\">television</td><td style=\"background-color: rgb(255,255,255);\">of</td><td style=\"background-color: rgb(255,255,255);\">the</td><td style=\"background-color: rgb(255,255,255);\">kitchen</td></tr><tr><td><b>lexical_unit</b></td><td style=\"background-color: rgb(0.0000, 255,0.0000);\">1.0000</td><td style=\"background-color: rgb(255.0000, 255,255.0000);\">0.0000</td><td style=\"background-color: rgb(255.0000, 255,255.0000);\">0.0000</td><td style=\"background-color: rgb(255.0000, 255,255.0000);\">0.0000</td><td style=\"background-color: rgb(255.0000, 255,255.0000);\">0.0000</td><td style=\"background-color: rgb(255.0000, 255,255.0000);\">0.0000</td><td style=\"background-color: rgb(255.0000, 255,255.0000);\">0.0000</td></tr><tr><td><b>attention_intent</b></td><td style=\"background-color: rgb(254.9854, 255,254.9854);\">0.0001</td><td style=\"background-color: rgb(150.3861, 255,150.3861);\">0.4103</td><td style=\"background-color: rgb(192.8684, 255,192.8684);\">0.2437</td><td style=\"background-color: rgb(198.0032, 255,198.0032);\">0.2235</td><td style=\"background-color: rgb(234.2532, 255,234.2532);\">0.0814</td><td style=\"background-color: rgb(244.5152, 255,244.5152);\">0.0411</td><td style=\"background-color: rgb(254.9999, 255,254.9999);\">0.0000</td></tr><tr><td><b>slots_true</b></td><td style=\"background-color: rgb(255,255,255);\">O</td><td style=\"background-color: rgb(255,255,255);\">B-Goal</td><td style=\"background-color: rgb(255,255,255);\">I-Goal</td><td style=\"background-color: rgb(255,255,255);\">I-Goal</td><td style=\"background-color: rgb(255,255,255);\">I-Goal</td><td style=\"background-color: rgb(255,255,255);\">I-Goal</td><td style=\"background-color: rgb(255,255,255);\">I-Goal</td></tr><tr><td><b>slots_pred</b></td><td style=\"background-color: rgb(255,255,255);\">O</td><td style=\"background-color: rgb(255,255,255);\">B-Goal</td><td style=\"background-color: rgb(255,255,255);\">I-Goal</td><td style=\"background-color: rgb(255,255,255);\">I-Goal</td><td style=\"background-color: rgb(255,255,255);\">I-Goal</td><td style=\"background-color: rgb(255,255,255);\">I-Goal</td><td style=\"background-color: rgb(255,255,255);\">I-Goal</td></tr></table>"
      ],
      "text/plain": [
       "<IPython.core.display.HTML object>"
      ]
     },
     "metadata": {},
     "output_type": "display_data"
    },
    {
     "name": "stdout",
     "output_type": "stream",
     "text": [
      "true: Motion pred: Motion\n"
     ]
    },
    {
     "data": {
      "text/html": [
       "<table><tr><td><b>words</b></td><td style=\"background-color: rgb(255,255,255);\">go</td><td style=\"background-color: rgb(255,255,255);\">to</td><td style=\"background-color: rgb(255,255,255);\">living</td><td style=\"background-color: rgb(255,255,255);\">room</td></tr><tr><td><b>lexical_unit</b></td><td style=\"background-color: rgb(0.0000, 255,0.0000);\">1.0000</td><td style=\"background-color: rgb(255.0000, 255,255.0000);\">0.0000</td><td style=\"background-color: rgb(255.0000, 255,255.0000);\">0.0000</td><td style=\"background-color: rgb(255.0000, 255,255.0000);\">0.0000</td></tr><tr><td><b>attention_intent</b></td><td style=\"background-color: rgb(254.7594, 255,254.7594);\">0.0009</td><td style=\"background-color: rgb(7.6716, 255,7.6716);\">0.9699</td><td style=\"background-color: rgb(247.5723, 255,247.5723);\">0.0291</td><td style=\"background-color: rgb(254.9979, 255,254.9979);\">0.0000</td></tr><tr><td><b>slots_true</b></td><td style=\"background-color: rgb(255,255,255);\">O</td><td style=\"background-color: rgb(255,255,255);\">B-Goal</td><td style=\"background-color: rgb(255,255,255);\">I-Goal</td><td style=\"background-color: rgb(255,255,255);\">I-Goal</td></tr><tr><td><b>slots_pred</b></td><td style=\"background-color: rgb(255,255,255);\">O</td><td style=\"background-color: rgb(255,255,255);\">B-Goal</td><td style=\"background-color: rgb(255,255,255);\">I-Goal</td><td style=\"background-color: rgb(255,255,255);\">I-Goal</td></tr></table>"
      ],
      "text/plain": [
       "<IPython.core.display.HTML object>"
      ]
     },
     "metadata": {},
     "output_type": "display_data"
    },
    {
     "name": "stdout",
     "output_type": "stream",
     "text": [
      "true: Taking pred: Taking\n"
     ]
    },
    {
     "data": {
      "text/html": [
       "<table><tr><td><b>words</b></td><td style=\"background-color: rgb(255,255,255);\">take</td><td style=\"background-color: rgb(255,255,255);\">the</td><td style=\"background-color: rgb(255,255,255);\">remote</td><td style=\"background-color: rgb(255,255,255);\">control</td></tr><tr><td><b>lexical_unit</b></td><td style=\"background-color: rgb(0.0000, 255,0.0000);\">1.0000</td><td style=\"background-color: rgb(255.0000, 255,255.0000);\">0.0000</td><td style=\"background-color: rgb(255.0000, 255,255.0000);\">0.0000</td><td style=\"background-color: rgb(255.0000, 255,255.0000);\">0.0000</td></tr><tr><td><b>attention_intent</b></td><td style=\"background-color: rgb(246.3929, 255,246.3929);\">0.0338</td><td style=\"background-color: rgb(19.7180, 255,19.7180);\">0.9227</td><td style=\"background-color: rgb(243.9049, 255,243.9049);\">0.0435</td><td style=\"background-color: rgb(254.9998, 255,254.9998);\">0.0000</td></tr><tr><td><b>slots_true</b></td><td style=\"background-color: rgb(255,255,255);\">O</td><td style=\"background-color: rgb(255,255,255);\">B-Theme</td><td style=\"background-color: rgb(255,255,255);\">I-Theme</td><td style=\"background-color: rgb(255,255,255);\">I-Theme</td></tr><tr><td><b>slots_pred</b></td><td style=\"background-color: rgb(255,255,255);\">O</td><td style=\"background-color: rgb(255,255,255);\">B-Theme</td><td style=\"background-color: rgb(255,255,255);\">I-Theme</td><td style=\"background-color: rgb(255,255,255);\">I-Theme</td></tr></table>"
      ],
      "text/plain": [
       "<IPython.core.display.HTML object>"
      ]
     },
     "metadata": {},
     "output_type": "display_data"
    },
    {
     "name": "stdout",
     "output_type": "stream",
     "text": [
      "true: Closure pred: Change_operational_state\n"
     ]
    },
    {
     "data": {
      "text/html": [
       "<table><tr><td><b>words</b></td><td style=\"background-color: rgb(255,255,255);\">and</td><td style=\"background-color: rgb(255,255,255);\">open</td><td style=\"background-color: rgb(255,255,255);\">it</td></tr><tr><td><b>lexical_unit</b></td><td style=\"background-color: rgb(255.0000, 255,255.0000);\">0.0000</td><td style=\"background-color: rgb(0.0000, 255,0.0000);\">1.0000</td><td style=\"background-color: rgb(255.0000, 255,255.0000);\">0.0000</td></tr><tr><td><b>attention_intent</b></td><td style=\"background-color: rgb(254.9994, 255,254.9994);\">0.0000</td><td style=\"background-color: rgb(231.9199, 255,231.9199);\">0.0905</td><td style=\"background-color: rgb(23.0900, 255,23.0900);\">0.9095</td></tr><tr><td><b>slots_true</b></td><td style=\"background-color: rgb(255,255,255);\">O</td><td style=\"background-color: rgb(255,255,255);\">O</td><td style=\"background-color: rgb(255,255,255);\">B-Container_portal</td></tr><tr><td><b>slots_pred</b></td><td style=\"background-color: rgb(255,255,255);\">O</td><td style=\"background-color: rgb(255,255,255);\">O</td><td style=\"background-color: rgb(255,255,255);\">B-Containing_object</td></tr></table>"
      ],
      "text/plain": [
       "<IPython.core.display.HTML object>"
      ]
     },
     "metadata": {},
     "output_type": "display_data"
    },
    {
     "name": "stdout",
     "output_type": "stream",
     "text": [
      "true: Entering pred: Entering\n"
     ]
    },
    {
     "data": {
      "text/html": [
       "<table><tr><td><b>words</b></td><td style=\"background-color: rgb(255,255,255);\">enter</td><td style=\"background-color: rgb(255,255,255);\">the</td><td style=\"background-color: rgb(255,255,255);\">door</td></tr><tr><td><b>lexical_unit</b></td><td style=\"background-color: rgb(0.0000, 255,0.0000);\">1.0000</td><td style=\"background-color: rgb(255.0000, 255,255.0000);\">0.0000</td><td style=\"background-color: rgb(255.0000, 255,255.0000);\">0.0000</td></tr><tr><td><b>attention_intent</b></td><td style=\"background-color: rgb(254.8108, 255,254.8108);\">0.0007</td><td style=\"background-color: rgb(0.2664, 255,0.2664);\">0.9990</td><td style=\"background-color: rgb(254.9639, 255,254.9639);\">0.0001</td></tr><tr><td><b>slots_true</b></td><td style=\"background-color: rgb(255,255,255);\">O</td><td style=\"background-color: rgb(255,255,255);\">B-Goal</td><td style=\"background-color: rgb(255,255,255);\">I-Goal</td></tr><tr><td><b>slots_pred</b></td><td style=\"background-color: rgb(255,255,255);\">O</td><td style=\"background-color: rgb(255,255,255);\">B-Goal</td><td style=\"background-color: rgb(255,255,255);\">I-Goal</td></tr></table>"
      ],
      "text/plain": [
       "<IPython.core.display.HTML object>"
      ]
     },
     "metadata": {},
     "output_type": "display_data"
    },
    {
     "name": "stdout",
     "output_type": "stream",
     "text": [
      "true: Bringing pred: Bringing\n"
     ]
    },
    {
     "data": {
      "text/html": [
       "<table><tr><td><b>words</b></td><td style=\"background-color: rgb(255,255,255);\">carry</td><td style=\"background-color: rgb(255,255,255);\">the</td><td style=\"background-color: rgb(255,255,255);\">laptop</td><td style=\"background-color: rgb(255,255,255);\">to</td><td style=\"background-color: rgb(255,255,255);\">daniele</td></tr><tr><td><b>lexical_unit</b></td><td style=\"background-color: rgb(0.0000, 255,0.0000);\">1.0000</td><td style=\"background-color: rgb(255.0000, 255,255.0000);\">0.0000</td><td style=\"background-color: rgb(255.0000, 255,255.0000);\">0.0000</td><td style=\"background-color: rgb(255.0000, 255,255.0000);\">0.0000</td><td style=\"background-color: rgb(255.0000, 255,255.0000);\">0.0000</td></tr><tr><td><b>attention_intent</b></td><td style=\"background-color: rgb(254.8607, 255,254.8607);\">0.0005</td><td style=\"background-color: rgb(236.6082, 255,236.6082);\">0.0721</td><td style=\"background-color: rgb(238.9786, 255,238.9786);\">0.0628</td><td style=\"background-color: rgb(34.7004, 255,34.7004);\">0.8639</td><td style=\"background-color: rgb(254.8528, 255,254.8528);\">0.0006</td></tr><tr><td><b>slots_true</b></td><td style=\"background-color: rgb(255,255,255);\">O</td><td style=\"background-color: rgb(255,255,255);\">B-Theme</td><td style=\"background-color: rgb(255,255,255);\">I-Theme</td><td style=\"background-color: rgb(255,255,255);\">B-Beneficiary</td><td style=\"background-color: rgb(255,255,255);\">I-Beneficiary</td></tr><tr><td><b>slots_pred</b></td><td style=\"background-color: rgb(255,255,255);\">O</td><td style=\"background-color: rgb(255,255,255);\">B-Theme</td><td style=\"background-color: rgb(255,255,255);\">I-Theme</td><td style=\"background-color: rgb(255,255,255);\">B-Beneficiary</td><td style=\"background-color: rgb(255,255,255);\">I-Beneficiary</td></tr></table>"
      ],
      "text/plain": [
       "<IPython.core.display.HTML object>"
      ]
     },
     "metadata": {},
     "output_type": "display_data"
    },
    {
     "name": "stdout",
     "output_type": "stream",
     "text": [
      "true: Motion pred: Motion\n"
     ]
    },
    {
     "data": {
      "text/html": [
       "<table><tr><td><b>words</b></td><td style=\"background-color: rgb(255,255,255);\">go</td><td style=\"background-color: rgb(255,255,255);\">to</td><td style=\"background-color: rgb(255,255,255);\">the</td><td style=\"background-color: rgb(255,255,255);\">toilet</td></tr><tr><td><b>lexical_unit</b></td><td style=\"background-color: rgb(0.0000, 255,0.0000);\">1.0000</td><td style=\"background-color: rgb(255.0000, 255,255.0000);\">0.0000</td><td style=\"background-color: rgb(255.0000, 255,255.0000);\">0.0000</td><td style=\"background-color: rgb(255.0000, 255,255.0000);\">0.0000</td></tr><tr><td><b>attention_intent</b></td><td style=\"background-color: rgb(254.9933, 255,254.9933);\">0.0000</td><td style=\"background-color: rgb(108.3986, 255,108.3986);\">0.5749</td><td style=\"background-color: rgb(148.2657, 255,148.2657);\">0.4186</td><td style=\"background-color: rgb(253.3438, 255,253.3438);\">0.0065</td></tr><tr><td><b>slots_true</b></td><td style=\"background-color: rgb(255,255,255);\">O</td><td style=\"background-color: rgb(255,255,255);\">B-Goal</td><td style=\"background-color: rgb(255,255,255);\">I-Goal</td><td style=\"background-color: rgb(255,255,255);\">I-Goal</td></tr><tr><td><b>slots_pred</b></td><td style=\"background-color: rgb(255,255,255);\">O</td><td style=\"background-color: rgb(255,255,255);\">B-Goal</td><td style=\"background-color: rgb(255,255,255);\">I-Goal</td><td style=\"background-color: rgb(255,255,255);\">I-Goal</td></tr></table>"
      ],
      "text/plain": [
       "<IPython.core.display.HTML object>"
      ]
     },
     "metadata": {},
     "output_type": "display_data"
    },
    {
     "name": "stdout",
     "output_type": "stream",
     "text": [
      "true: Taking pred: Taking\n"
     ]
    },
    {
     "data": {
      "text/html": [
       "<table><tr><td><b>words</b></td><td style=\"background-color: rgb(255,255,255);\">grab</td><td style=\"background-color: rgb(255,255,255);\">the</td><td style=\"background-color: rgb(255,255,255);\">pillow</td><td style=\"background-color: rgb(255,255,255);\">at</td><td style=\"background-color: rgb(255,255,255);\">the</td><td style=\"background-color: rgb(255,255,255);\">left</td><td style=\"background-color: rgb(255,255,255);\">of</td><td style=\"background-color: rgb(255,255,255);\">the</td><td style=\"background-color: rgb(255,255,255);\">couch</td></tr><tr><td><b>lexical_unit</b></td><td style=\"background-color: rgb(0.0000, 255,0.0000);\">1.0000</td><td style=\"background-color: rgb(255.0000, 255,255.0000);\">0.0000</td><td style=\"background-color: rgb(255.0000, 255,255.0000);\">0.0000</td><td style=\"background-color: rgb(255.0000, 255,255.0000);\">0.0000</td><td style=\"background-color: rgb(255.0000, 255,255.0000);\">0.0000</td><td style=\"background-color: rgb(255.0000, 255,255.0000);\">0.0000</td><td style=\"background-color: rgb(255.0000, 255,255.0000);\">0.0000</td><td style=\"background-color: rgb(255.0000, 255,255.0000);\">0.0000</td><td style=\"background-color: rgb(255.0000, 255,255.0000);\">0.0000</td></tr><tr><td><b>attention_intent</b></td><td style=\"background-color: rgb(254.2022, 255,254.2022);\">0.0031</td><td style=\"background-color: rgb(223.7738, 255,223.7738);\">0.1225</td><td style=\"background-color: rgb(254.9711, 255,254.9711);\">0.0001</td><td style=\"background-color: rgb(254.9702, 255,254.9702);\">0.0001</td><td style=\"background-color: rgb(253.1236, 255,253.1236);\">0.0074</td><td style=\"background-color: rgb(253.9852, 255,253.9852);\">0.0040</td><td style=\"background-color: rgb(214.5143, 255,214.5143);\">0.1588</td><td style=\"background-color: rgb(76.9269, 255,76.9269);\">0.6983</td><td style=\"background-color: rgb(254.9987, 255,254.9987);\">0.0000</td></tr><tr><td><b>slots_true</b></td><td style=\"background-color: rgb(255,255,255);\">O</td><td style=\"background-color: rgb(255,255,255);\">B-Theme</td><td style=\"background-color: rgb(255,255,255);\">I-Theme</td><td style=\"background-color: rgb(255,255,255);\">I-Theme</td><td style=\"background-color: rgb(255,255,255);\">I-Theme</td><td style=\"background-color: rgb(255,255,255);\">I-Theme</td><td style=\"background-color: rgb(255,255,255);\">I-Theme</td><td style=\"background-color: rgb(255,255,255);\">I-Theme</td><td style=\"background-color: rgb(255,255,255);\">I-Theme</td></tr><tr><td><b>slots_pred</b></td><td style=\"background-color: rgb(255,255,255);\">O</td><td style=\"background-color: rgb(255,255,255);\">B-Theme</td><td style=\"background-color: rgb(255,255,255);\">I-Theme</td><td style=\"background-color: rgb(255,255,255);\">B-Theme</td><td style=\"background-color: rgb(255,255,255);\">I-Theme</td><td style=\"background-color: rgb(255,255,255);\">I-Theme</td><td style=\"background-color: rgb(255,255,255);\">I-Theme</td><td style=\"background-color: rgb(255,255,255);\">I-Theme</td><td style=\"background-color: rgb(255,255,255);\">I-Theme</td></tr></table>"
      ],
      "text/plain": [
       "<IPython.core.display.HTML object>"
      ]
     },
     "metadata": {},
     "output_type": "display_data"
    },
    {
     "name": "stdout",
     "output_type": "stream",
     "text": [
      "true: Searching pred: Searching\n"
     ]
    },
    {
     "data": {
      "text/html": [
       "<table><tr><td><b>words</b></td><td style=\"background-color: rgb(255,255,255);\">look</td><td style=\"background-color: rgb(255,255,255);\">for</td><td style=\"background-color: rgb(255,255,255);\">the</td><td style=\"background-color: rgb(255,255,255);\">glass</td><td style=\"background-color: rgb(255,255,255);\">in</td><td style=\"background-color: rgb(255,255,255);\">the</td><td style=\"background-color: rgb(255,255,255);\">bedroom</td></tr><tr><td><b>lexical_unit</b></td><td style=\"background-color: rgb(0.0000, 255,0.0000);\">1.0000</td><td style=\"background-color: rgb(255.0000, 255,255.0000);\">0.0000</td><td style=\"background-color: rgb(255.0000, 255,255.0000);\">0.0000</td><td style=\"background-color: rgb(255.0000, 255,255.0000);\">0.0000</td><td style=\"background-color: rgb(255.0000, 255,255.0000);\">0.0000</td><td style=\"background-color: rgb(255.0000, 255,255.0000);\">0.0000</td><td style=\"background-color: rgb(255.0000, 255,255.0000);\">0.0000</td></tr><tr><td><b>attention_intent</b></td><td style=\"background-color: rgb(254.9978, 255,254.9978);\">0.0000</td><td style=\"background-color: rgb(254.3198, 255,254.3198);\">0.0027</td><td style=\"background-color: rgb(235.8344, 255,235.8344);\">0.0752</td><td style=\"background-color: rgb(254.9473, 255,254.9473);\">0.0002</td><td style=\"background-color: rgb(253.4645, 255,253.4645);\">0.0060</td><td style=\"background-color: rgb(22.4502, 255,22.4502);\">0.9120</td><td style=\"background-color: rgb(253.9882, 255,253.9882);\">0.0040</td></tr><tr><td><b>slots_true</b></td><td style=\"background-color: rgb(255,255,255);\">O</td><td style=\"background-color: rgb(255,255,255);\">B-Phenomenon</td><td style=\"background-color: rgb(255,255,255);\">I-Phenomenon</td><td style=\"background-color: rgb(255,255,255);\">I-Phenomenon</td><td style=\"background-color: rgb(255,255,255);\">B-Ground</td><td style=\"background-color: rgb(255,255,255);\">I-Ground</td><td style=\"background-color: rgb(255,255,255);\">I-Ground</td></tr><tr><td><b>slots_pred</b></td><td style=\"background-color: rgb(255,255,255);\">O</td><td style=\"background-color: rgb(255,255,255);\">B-Phenomenon</td><td style=\"background-color: rgb(255,255,255);\">I-Phenomenon</td><td style=\"background-color: rgb(255,255,255);\">I-Phenomenon</td><td style=\"background-color: rgb(255,255,255);\">B-Ground</td><td style=\"background-color: rgb(255,255,255);\">I-Ground</td><td style=\"background-color: rgb(255,255,255);\">I-Ground</td></tr></table>"
      ],
      "text/plain": [
       "<IPython.core.display.HTML object>"
      ]
     },
     "metadata": {},
     "output_type": "display_data"
    },
    {
     "name": "stdout",
     "output_type": "stream",
     "text": [
      "true: Taking pred: Taking\n"
     ]
    },
    {
     "data": {
      "text/html": [
       "<table><tr><td><b>words</b></td><td style=\"background-color: rgb(255,255,255);\">take</td><td style=\"background-color: rgb(255,255,255);\">the</td><td style=\"background-color: rgb(255,255,255);\">bottle</td><td style=\"background-color: rgb(255,255,255);\">near</td><td style=\"background-color: rgb(255,255,255);\">the</td><td style=\"background-color: rgb(255,255,255);\">fridge</td></tr><tr><td><b>lexical_unit</b></td><td style=\"background-color: rgb(0.0000, 255,0.0000);\">1.0000</td><td style=\"background-color: rgb(255.0000, 255,255.0000);\">0.0000</td><td style=\"background-color: rgb(255.0000, 255,255.0000);\">0.0000</td><td style=\"background-color: rgb(255.0000, 255,255.0000);\">0.0000</td><td style=\"background-color: rgb(255.0000, 255,255.0000);\">0.0000</td><td style=\"background-color: rgb(255.0000, 255,255.0000);\">0.0000</td></tr><tr><td><b>attention_intent</b></td><td style=\"background-color: rgb(254.9711, 255,254.9711);\">0.0001</td><td style=\"background-color: rgb(250.2014, 255,250.2014);\">0.0188</td><td style=\"background-color: rgb(254.9993, 255,254.9993);\">0.0000</td><td style=\"background-color: rgb(254.1668, 255,254.1668);\">0.0033</td><td style=\"background-color: rgb(5.7259, 255,5.7259);\">0.9775</td><td style=\"background-color: rgb(254.9982, 255,254.9982);\">0.0000</td></tr><tr><td><b>slots_true</b></td><td style=\"background-color: rgb(255,255,255);\">O</td><td style=\"background-color: rgb(255,255,255);\">B-Theme</td><td style=\"background-color: rgb(255,255,255);\">I-Theme</td><td style=\"background-color: rgb(255,255,255);\">I-Theme</td><td style=\"background-color: rgb(255,255,255);\">I-Theme</td><td style=\"background-color: rgb(255,255,255);\">I-Theme</td></tr><tr><td><b>slots_pred</b></td><td style=\"background-color: rgb(255,255,255);\">O</td><td style=\"background-color: rgb(255,255,255);\">B-Theme</td><td style=\"background-color: rgb(255,255,255);\">I-Theme</td><td style=\"background-color: rgb(255,255,255);\">B-Goal</td><td style=\"background-color: rgb(255,255,255);\">I-Goal</td><td style=\"background-color: rgb(255,255,255);\">I-Goal</td></tr></table>"
      ],
      "text/plain": [
       "<IPython.core.display.HTML object>"
      ]
     },
     "metadata": {},
     "output_type": "display_data"
    },
    {
     "name": "stdout",
     "output_type": "stream",
     "text": [
      "true: Bringing pred: Bringing\n"
     ]
    },
    {
     "data": {
      "text/html": [
       "<table><tr><td><b>words</b></td><td style=\"background-color: rgb(255,255,255);\">take</td><td style=\"background-color: rgb(255,255,255);\">the</td><td style=\"background-color: rgb(255,255,255);\">jar</td><td style=\"background-color: rgb(255,255,255);\">to</td><td style=\"background-color: rgb(255,255,255);\">the</td><td style=\"background-color: rgb(255,255,255);\">table</td><td style=\"background-color: rgb(255,255,255);\">of</td><td style=\"background-color: rgb(255,255,255);\">the</td><td style=\"background-color: rgb(255,255,255);\">kitchen</td></tr><tr><td><b>lexical_unit</b></td><td style=\"background-color: rgb(0.0000, 255,0.0000);\">1.0000</td><td style=\"background-color: rgb(255.0000, 255,255.0000);\">0.0000</td><td style=\"background-color: rgb(255.0000, 255,255.0000);\">0.0000</td><td style=\"background-color: rgb(255.0000, 255,255.0000);\">0.0000</td><td style=\"background-color: rgb(255.0000, 255,255.0000);\">0.0000</td><td style=\"background-color: rgb(255.0000, 255,255.0000);\">0.0000</td><td style=\"background-color: rgb(255.0000, 255,255.0000);\">0.0000</td><td style=\"background-color: rgb(255.0000, 255,255.0000);\">0.0000</td><td style=\"background-color: rgb(255.0000, 255,255.0000);\">0.0000</td></tr><tr><td><b>attention_intent</b></td><td style=\"background-color: rgb(254.9980, 255,254.9980);\">0.0000</td><td style=\"background-color: rgb(254.5813, 255,254.5813);\">0.0016</td><td style=\"background-color: rgb(255.0000, 255,255.0000);\">0.0000</td><td style=\"background-color: rgb(2.8978, 255,2.8978);\">0.9886</td><td style=\"background-color: rgb(253.5463, 255,253.5463);\">0.0057</td><td style=\"background-color: rgb(254.9641, 255,254.9641);\">0.0001</td><td style=\"background-color: rgb(254.3490, 255,254.3490);\">0.0026</td><td style=\"background-color: rgb(254.6692, 255,254.6692);\">0.0013</td><td style=\"background-color: rgb(254.9999, 255,254.9999);\">0.0000</td></tr><tr><td><b>slots_true</b></td><td style=\"background-color: rgb(255,255,255);\">O</td><td style=\"background-color: rgb(255,255,255);\">B-Theme</td><td style=\"background-color: rgb(255,255,255);\">I-Theme</td><td style=\"background-color: rgb(255,255,255);\">B-Goal</td><td style=\"background-color: rgb(255,255,255);\">I-Goal</td><td style=\"background-color: rgb(255,255,255);\">I-Goal</td><td style=\"background-color: rgb(255,255,255);\">I-Goal</td><td style=\"background-color: rgb(255,255,255);\">I-Goal</td><td style=\"background-color: rgb(255,255,255);\">I-Goal</td></tr><tr><td><b>slots_pred</b></td><td style=\"background-color: rgb(255,255,255);\">O</td><td style=\"background-color: rgb(255,255,255);\">B-Theme</td><td style=\"background-color: rgb(255,255,255);\">I-Theme</td><td style=\"background-color: rgb(255,255,255);\">B-Goal</td><td style=\"background-color: rgb(255,255,255);\">I-Goal</td><td style=\"background-color: rgb(255,255,255);\">I-Goal</td><td style=\"background-color: rgb(255,255,255);\">I-Goal</td><td style=\"background-color: rgb(255,255,255);\">I-Goal</td><td style=\"background-color: rgb(255,255,255);\">I-Goal</td></tr></table>"
      ],
      "text/plain": [
       "<IPython.core.display.HTML object>"
      ]
     },
     "metadata": {},
     "output_type": "display_data"
    },
    {
     "name": "stdout",
     "output_type": "stream",
     "text": [
      "true: Taking pred: Taking\n"
     ]
    },
    {
     "data": {
      "text/html": [
       "<table><tr><td><b>words</b></td><td style=\"background-color: rgb(255,255,255);\">take</td><td style=\"background-color: rgb(255,255,255);\">the</td><td style=\"background-color: rgb(255,255,255);\">phone</td><td style=\"background-color: rgb(255,255,255);\">on</td><td style=\"background-color: rgb(255,255,255);\">the</td><td style=\"background-color: rgb(255,255,255);\">couch</td></tr><tr><td><b>lexical_unit</b></td><td style=\"background-color: rgb(0.0000, 255,0.0000);\">1.0000</td><td style=\"background-color: rgb(255.0000, 255,255.0000);\">0.0000</td><td style=\"background-color: rgb(255.0000, 255,255.0000);\">0.0000</td><td style=\"background-color: rgb(255.0000, 255,255.0000);\">0.0000</td><td style=\"background-color: rgb(255.0000, 255,255.0000);\">0.0000</td><td style=\"background-color: rgb(255.0000, 255,255.0000);\">0.0000</td></tr><tr><td><b>attention_intent</b></td><td style=\"background-color: rgb(254.4140, 255,254.4140);\">0.0023</td><td style=\"background-color: rgb(119.2333, 255,119.2333);\">0.5324</td><td style=\"background-color: rgb(254.7958, 255,254.7958);\">0.0008</td><td style=\"background-color: rgb(228.1439, 255,228.1439);\">0.1053</td><td style=\"background-color: rgb(164.1837, 255,164.1837);\">0.3561</td><td style=\"background-color: rgb(254.9956, 255,254.9956);\">0.0000</td></tr><tr><td><b>slots_true</b></td><td style=\"background-color: rgb(255,255,255);\">O</td><td style=\"background-color: rgb(255,255,255);\">B-Theme</td><td style=\"background-color: rgb(255,255,255);\">I-Theme</td><td style=\"background-color: rgb(255,255,255);\">I-Theme</td><td style=\"background-color: rgb(255,255,255);\">I-Theme</td><td style=\"background-color: rgb(255,255,255);\">I-Theme</td></tr><tr><td><b>slots_pred</b></td><td style=\"background-color: rgb(255,255,255);\">O</td><td style=\"background-color: rgb(255,255,255);\">B-Theme</td><td style=\"background-color: rgb(255,255,255);\">I-Theme</td><td style=\"background-color: rgb(255,255,255);\">B-Theme</td><td style=\"background-color: rgb(255,255,255);\">I-Theme</td><td style=\"background-color: rgb(255,255,255);\">I-Theme</td></tr></table>"
      ],
      "text/plain": [
       "<IPython.core.display.HTML object>"
      ]
     },
     "metadata": {},
     "output_type": "display_data"
    },
    {
     "name": "stdout",
     "output_type": "stream",
     "text": [
      "true: Taking pred: Taking\n"
     ]
    },
    {
     "data": {
      "text/html": [
       "<table><tr><td><b>words</b></td><td style=\"background-color: rgb(255,255,255);\">take</td><td style=\"background-color: rgb(255,255,255);\">the</td><td style=\"background-color: rgb(255,255,255);\">phone</td><td style=\"background-color: rgb(255,255,255);\">on</td><td style=\"background-color: rgb(255,255,255);\">the</td><td style=\"background-color: rgb(255,255,255);\">left</td><td style=\"background-color: rgb(255,255,255);\">of</td><td style=\"background-color: rgb(255,255,255);\">the</td><td style=\"background-color: rgb(255,255,255);\">pc</td></tr><tr><td><b>lexical_unit</b></td><td style=\"background-color: rgb(0.0000, 255,0.0000);\">1.0000</td><td style=\"background-color: rgb(255.0000, 255,255.0000);\">0.0000</td><td style=\"background-color: rgb(255.0000, 255,255.0000);\">0.0000</td><td style=\"background-color: rgb(255.0000, 255,255.0000);\">0.0000</td><td style=\"background-color: rgb(255.0000, 255,255.0000);\">0.0000</td><td style=\"background-color: rgb(255.0000, 255,255.0000);\">0.0000</td><td style=\"background-color: rgb(255.0000, 255,255.0000);\">0.0000</td><td style=\"background-color: rgb(255.0000, 255,255.0000);\">0.0000</td><td style=\"background-color: rgb(255.0000, 255,255.0000);\">0.0000</td></tr><tr><td><b>attention_intent</b></td><td style=\"background-color: rgb(254.1819, 255,254.1819);\">0.0032</td><td style=\"background-color: rgb(97.4210, 255,97.4210);\">0.6180</td><td style=\"background-color: rgb(254.4921, 255,254.4921);\">0.0020</td><td style=\"background-color: rgb(252.7629, 255,252.7629);\">0.0088</td><td style=\"background-color: rgb(254.8662, 255,254.8662);\">0.0005</td><td style=\"background-color: rgb(254.8282, 255,254.8282);\">0.0007</td><td style=\"background-color: rgb(246.7207, 255,246.7207);\">0.0325</td><td style=\"background-color: rgb(169.8064, 255,169.8064);\">0.3341</td><td style=\"background-color: rgb(254.9993, 255,254.9993);\">0.0000</td></tr><tr><td><b>slots_true</b></td><td style=\"background-color: rgb(255,255,255);\">O</td><td style=\"background-color: rgb(255,255,255);\">B-Theme</td><td style=\"background-color: rgb(255,255,255);\">I-Theme</td><td style=\"background-color: rgb(255,255,255);\">I-Theme</td><td style=\"background-color: rgb(255,255,255);\">I-Theme</td><td style=\"background-color: rgb(255,255,255);\">I-Theme</td><td style=\"background-color: rgb(255,255,255);\">I-Theme</td><td style=\"background-color: rgb(255,255,255);\">I-Theme</td><td style=\"background-color: rgb(255,255,255);\">I-Theme</td></tr><tr><td><b>slots_pred</b></td><td style=\"background-color: rgb(255,255,255);\">O</td><td style=\"background-color: rgb(255,255,255);\">B-Theme</td><td style=\"background-color: rgb(255,255,255);\">I-Theme</td><td style=\"background-color: rgb(255,255,255);\">I-Theme</td><td style=\"background-color: rgb(255,255,255);\">I-Theme</td><td style=\"background-color: rgb(255,255,255);\">I-Theme</td><td style=\"background-color: rgb(255,255,255);\">I-Theme</td><td style=\"background-color: rgb(255,255,255);\">I-Theme</td><td style=\"background-color: rgb(255,255,255);\">I-Theme</td></tr></table>"
      ],
      "text/plain": [
       "<IPython.core.display.HTML object>"
      ]
     },
     "metadata": {},
     "output_type": "display_data"
    },
    {
     "name": "stdout",
     "output_type": "stream",
     "text": [
      "true: Change_operational_state pred: Change_operational_state\n"
     ]
    },
    {
     "data": {
      "text/html": [
       "<table><tr><td><b>words</b></td><td style=\"background-color: rgb(255,255,255);\">activate</td><td style=\"background-color: rgb(255,255,255);\">the</td><td style=\"background-color: rgb(255,255,255);\">television</td></tr><tr><td><b>lexical_unit</b></td><td style=\"background-color: rgb(0.0000, 255,0.0000);\">1.0000</td><td style=\"background-color: rgb(255.0000, 255,255.0000);\">0.0000</td><td style=\"background-color: rgb(255.0000, 255,255.0000);\">0.0000</td></tr><tr><td><b>attention_intent</b></td><td style=\"background-color: rgb(208.2451, 255,208.2451);\">0.1834</td><td style=\"background-color: rgb(49.0565, 255,49.0565);\">0.8076</td><td style=\"background-color: rgb(252.7224, 255,252.7224);\">0.0089</td></tr><tr><td><b>slots_true</b></td><td style=\"background-color: rgb(255,255,255);\">O</td><td style=\"background-color: rgb(255,255,255);\">B-Device</td><td style=\"background-color: rgb(255,255,255);\">I-Device</td></tr><tr><td><b>slots_pred</b></td><td style=\"background-color: rgb(255,255,255);\">O</td><td style=\"background-color: rgb(255,255,255);\">B-Device</td><td style=\"background-color: rgb(255,255,255);\">I-Device</td></tr></table>"
      ],
      "text/plain": [
       "<IPython.core.display.HTML object>"
      ]
     },
     "metadata": {},
     "output_type": "display_data"
    },
    {
     "name": "stdout",
     "output_type": "stream",
     "text": [
      "true: Bringing pred: Bringing\n"
     ]
    },
    {
     "data": {
      "text/html": [
       "<table><tr><td><b>words</b></td><td style=\"background-color: rgb(255,255,255);\">bring</td><td style=\"background-color: rgb(255,255,255);\">the</td><td style=\"background-color: rgb(255,255,255);\">bottle</td><td style=\"background-color: rgb(255,255,255);\">to</td><td style=\"background-color: rgb(255,255,255);\">the</td><td style=\"background-color: rgb(255,255,255);\">couch</td></tr><tr><td><b>lexical_unit</b></td><td style=\"background-color: rgb(0.0000, 255,0.0000);\">1.0000</td><td style=\"background-color: rgb(255.0000, 255,255.0000);\">0.0000</td><td style=\"background-color: rgb(255.0000, 255,255.0000);\">0.0000</td><td style=\"background-color: rgb(255.0000, 255,255.0000);\">0.0000</td><td style=\"background-color: rgb(255.0000, 255,255.0000);\">0.0000</td><td style=\"background-color: rgb(255.0000, 255,255.0000);\">0.0000</td></tr><tr><td><b>attention_intent</b></td><td style=\"background-color: rgb(254.9863, 255,254.9863);\">0.0001</td><td style=\"background-color: rgb(254.7798, 255,254.7798);\">0.0009</td><td style=\"background-color: rgb(254.9042, 255,254.9042);\">0.0004</td><td style=\"background-color: rgb(53.4248, 255,53.4248);\">0.7905</td><td style=\"background-color: rgb(210.6754, 255,210.6754);\">0.1738</td><td style=\"background-color: rgb(246.2301, 255,246.2301);\">0.0344</td></tr><tr><td><b>slots_true</b></td><td style=\"background-color: rgb(255,255,255);\">O</td><td style=\"background-color: rgb(255,255,255);\">B-Theme</td><td style=\"background-color: rgb(255,255,255);\">I-Theme</td><td style=\"background-color: rgb(255,255,255);\">B-Goal</td><td style=\"background-color: rgb(255,255,255);\">I-Goal</td><td style=\"background-color: rgb(255,255,255);\">I-Goal</td></tr><tr><td><b>slots_pred</b></td><td style=\"background-color: rgb(255,255,255);\">O</td><td style=\"background-color: rgb(255,255,255);\">B-Theme</td><td style=\"background-color: rgb(255,255,255);\">I-Theme</td><td style=\"background-color: rgb(255,255,255);\">B-Goal</td><td style=\"background-color: rgb(255,255,255);\">I-Goal</td><td style=\"background-color: rgb(255,255,255);\">I-Goal</td></tr></table>"
      ],
      "text/plain": [
       "<IPython.core.display.HTML object>"
      ]
     },
     "metadata": {},
     "output_type": "display_data"
    },
    {
     "name": "stdout",
     "output_type": "stream",
     "text": [
      "true: Bringing pred: Bringing\n"
     ]
    },
    {
     "data": {
      "text/html": [
       "<table><tr><td><b>words</b></td><td style=\"background-color: rgb(255,255,255);\">carry</td><td style=\"background-color: rgb(255,255,255);\">the</td><td style=\"background-color: rgb(255,255,255);\">mug</td><td style=\"background-color: rgb(255,255,255);\">to</td><td style=\"background-color: rgb(255,255,255);\">the</td><td style=\"background-color: rgb(255,255,255);\">living</td><td style=\"background-color: rgb(255,255,255);\">room</td></tr><tr><td><b>lexical_unit</b></td><td style=\"background-color: rgb(0.0000, 255,0.0000);\">1.0000</td><td style=\"background-color: rgb(255.0000, 255,255.0000);\">0.0000</td><td style=\"background-color: rgb(255.0000, 255,255.0000);\">0.0000</td><td style=\"background-color: rgb(255.0000, 255,255.0000);\">0.0000</td><td style=\"background-color: rgb(255.0000, 255,255.0000);\">0.0000</td><td style=\"background-color: rgb(255.0000, 255,255.0000);\">0.0000</td><td style=\"background-color: rgb(255.0000, 255,255.0000);\">0.0000</td></tr><tr><td><b>attention_intent</b></td><td style=\"background-color: rgb(254.9973, 255,254.9973);\">0.0000</td><td style=\"background-color: rgb(254.4092, 255,254.4092);\">0.0023</td><td style=\"background-color: rgb(254.9753, 255,254.9753);\">0.0001</td><td style=\"background-color: rgb(52.6125, 255,52.6125);\">0.7937</td><td style=\"background-color: rgb(212.7804, 255,212.7804);\">0.1656</td><td style=\"background-color: rgb(245.4380, 255,245.4380);\">0.0375</td><td style=\"background-color: rgb(254.7878, 255,254.7878);\">0.0008</td></tr><tr><td><b>slots_true</b></td><td style=\"background-color: rgb(255,255,255);\">O</td><td style=\"background-color: rgb(255,255,255);\">B-Theme</td><td style=\"background-color: rgb(255,255,255);\">I-Theme</td><td style=\"background-color: rgb(255,255,255);\">B-Goal</td><td style=\"background-color: rgb(255,255,255);\">I-Goal</td><td style=\"background-color: rgb(255,255,255);\">I-Goal</td><td style=\"background-color: rgb(255,255,255);\">I-Goal</td></tr><tr><td><b>slots_pred</b></td><td style=\"background-color: rgb(255,255,255);\">O</td><td style=\"background-color: rgb(255,255,255);\">B-Theme</td><td style=\"background-color: rgb(255,255,255);\">I-Theme</td><td style=\"background-color: rgb(255,255,255);\">B-Goal</td><td style=\"background-color: rgb(255,255,255);\">I-Goal</td><td style=\"background-color: rgb(255,255,255);\">I-Goal</td><td style=\"background-color: rgb(255,255,255);\">I-Goal</td></tr></table>"
      ],
      "text/plain": [
       "<IPython.core.display.HTML object>"
      ]
     },
     "metadata": {},
     "output_type": "display_data"
    },
    {
     "name": "stdout",
     "output_type": "stream",
     "text": [
      "true: Searching pred: Searching\n"
     ]
    },
    {
     "data": {
      "text/html": [
       "<table><tr><td><b>words</b></td><td style=\"background-color: rgb(255,255,255);\">find</td><td style=\"background-color: rgb(255,255,255);\">a</td><td style=\"background-color: rgb(255,255,255);\">bottle</td><td style=\"background-color: rgb(255,255,255);\">in</td><td style=\"background-color: rgb(255,255,255);\">the</td><td style=\"background-color: rgb(255,255,255);\">kitchen</td></tr><tr><td><b>lexical_unit</b></td><td style=\"background-color: rgb(0.0000, 255,0.0000);\">1.0000</td><td style=\"background-color: rgb(255.0000, 255,255.0000);\">0.0000</td><td style=\"background-color: rgb(255.0000, 255,255.0000);\">0.0000</td><td style=\"background-color: rgb(255.0000, 255,255.0000);\">0.0000</td><td style=\"background-color: rgb(255.0000, 255,255.0000);\">0.0000</td><td style=\"background-color: rgb(255.0000, 255,255.0000);\">0.0000</td></tr><tr><td><b>attention_intent</b></td><td style=\"background-color: rgb(254.9860, 255,254.9860);\">0.0001</td><td style=\"background-color: rgb(204.8711, 255,204.8711);\">0.1966</td><td style=\"background-color: rgb(254.4854, 255,254.4854);\">0.0020</td><td style=\"background-color: rgb(251.3408, 255,251.3408);\">0.0143</td><td style=\"background-color: rgb(54.4406, 255,54.4406);\">0.7865</td><td style=\"background-color: rgb(254.8778, 255,254.8778);\">0.0005</td></tr><tr><td><b>slots_true</b></td><td style=\"background-color: rgb(255,255,255);\">O</td><td style=\"background-color: rgb(255,255,255);\">B-Phenomenon</td><td style=\"background-color: rgb(255,255,255);\">I-Phenomenon</td><td style=\"background-color: rgb(255,255,255);\">B-Ground</td><td style=\"background-color: rgb(255,255,255);\">I-Ground</td><td style=\"background-color: rgb(255,255,255);\">I-Ground</td></tr><tr><td><b>slots_pred</b></td><td style=\"background-color: rgb(255,255,255);\">O</td><td style=\"background-color: rgb(255,255,255);\">B-Phenomenon</td><td style=\"background-color: rgb(255,255,255);\">I-Phenomenon</td><td style=\"background-color: rgb(255,255,255);\">B-Ground</td><td style=\"background-color: rgb(255,255,255);\">I-Ground</td><td style=\"background-color: rgb(255,255,255);\">I-Ground</td></tr></table>"
      ],
      "text/plain": [
       "<IPython.core.display.HTML object>"
      ]
     },
     "metadata": {},
     "output_type": "display_data"
    },
    {
     "name": "stdout",
     "output_type": "stream",
     "text": [
      "true: Searching pred: Searching\n"
     ]
    },
    {
     "data": {
      "text/html": [
       "<table><tr><td><b>words</b></td><td style=\"background-color: rgb(255,255,255);\">find</td><td style=\"background-color: rgb(255,255,255);\">the</td><td style=\"background-color: rgb(255,255,255);\">television</td></tr><tr><td><b>lexical_unit</b></td><td style=\"background-color: rgb(0.0000, 255,0.0000);\">1.0000</td><td style=\"background-color: rgb(255.0000, 255,255.0000);\">0.0000</td><td style=\"background-color: rgb(255.0000, 255,255.0000);\">0.0000</td></tr><tr><td><b>attention_intent</b></td><td style=\"background-color: rgb(253.1865, 255,253.1865);\">0.0071</td><td style=\"background-color: rgb(36.3600, 255,36.3600);\">0.8574</td><td style=\"background-color: rgb(220.4541, 255,220.4541);\">0.1355</td></tr><tr><td><b>slots_true</b></td><td style=\"background-color: rgb(255,255,255);\">O</td><td style=\"background-color: rgb(255,255,255);\">B-Phenomenon</td><td style=\"background-color: rgb(255,255,255);\">I-Phenomenon</td></tr><tr><td><b>slots_pred</b></td><td style=\"background-color: rgb(255,255,255);\">O</td><td style=\"background-color: rgb(255,255,255);\">B-Phenomenon</td><td style=\"background-color: rgb(255,255,255);\">I-Phenomenon</td></tr></table>"
      ],
      "text/plain": [
       "<IPython.core.display.HTML object>"
      ]
     },
     "metadata": {},
     "output_type": "display_data"
    },
    {
     "name": "stdout",
     "output_type": "stream",
     "text": [
      "true: Taking pred: Taking\n"
     ]
    },
    {
     "data": {
      "text/html": [
       "<table><tr><td><b>words</b></td><td style=\"background-color: rgb(255,255,255);\">get</td><td style=\"background-color: rgb(255,255,255);\">the</td><td style=\"background-color: rgb(255,255,255);\">phone</td></tr><tr><td><b>lexical_unit</b></td><td style=\"background-color: rgb(0.0000, 255,0.0000);\">1.0000</td><td style=\"background-color: rgb(255.0000, 255,255.0000);\">0.0000</td><td style=\"background-color: rgb(255.0000, 255,255.0000);\">0.0000</td></tr><tr><td><b>attention_intent</b></td><td style=\"background-color: rgb(254.9533, 255,254.9533);\">0.0002</td><td style=\"background-color: rgb(0.0925, 255,0.0925);\">0.9996</td><td style=\"background-color: rgb(254.9900, 255,254.9900);\">0.0000</td></tr><tr><td><b>slots_true</b></td><td style=\"background-color: rgb(255,255,255);\">O</td><td style=\"background-color: rgb(255,255,255);\">B-Theme</td><td style=\"background-color: rgb(255,255,255);\">I-Theme</td></tr><tr><td><b>slots_pred</b></td><td style=\"background-color: rgb(255,255,255);\">O</td><td style=\"background-color: rgb(255,255,255);\">B-Theme</td><td style=\"background-color: rgb(255,255,255);\">I-Theme</td></tr></table>"
      ],
      "text/plain": [
       "<IPython.core.display.HTML object>"
      ]
     },
     "metadata": {},
     "output_type": "display_data"
    },
    {
     "name": "stdout",
     "output_type": "stream",
     "text": [
      "true: Bringing pred: Bringing\n"
     ]
    },
    {
     "data": {
      "text/html": [
       "<table><tr><td><b>words</b></td><td style=\"background-color: rgb(255,255,255);\">and</td><td style=\"background-color: rgb(255,255,255);\">take</td><td style=\"background-color: rgb(255,255,255);\">it</td><td style=\"background-color: rgb(255,255,255);\">to</td><td style=\"background-color: rgb(255,255,255);\">the</td><td style=\"background-color: rgb(255,255,255);\">bathroom</td></tr><tr><td><b>lexical_unit</b></td><td style=\"background-color: rgb(255.0000, 255,255.0000);\">0.0000</td><td style=\"background-color: rgb(0.0000, 255,0.0000);\">1.0000</td><td style=\"background-color: rgb(255.0000, 255,255.0000);\">0.0000</td><td style=\"background-color: rgb(255.0000, 255,255.0000);\">0.0000</td><td style=\"background-color: rgb(255.0000, 255,255.0000);\">0.0000</td><td style=\"background-color: rgb(255.0000, 255,255.0000);\">0.0000</td></tr><tr><td><b>attention_intent</b></td><td style=\"background-color: rgb(255.0000, 255,255.0000);\">0.0000</td><td style=\"background-color: rgb(254.9722, 255,254.9722);\">0.0001</td><td style=\"background-color: rgb(254.9932, 255,254.9932);\">0.0000</td><td style=\"background-color: rgb(9.1355, 255,9.1355);\">0.9642</td><td style=\"background-color: rgb(245.9049, 255,245.9049);\">0.0357</td><td style=\"background-color: rgb(254.9966, 255,254.9966);\">0.0000</td></tr><tr><td><b>slots_true</b></td><td style=\"background-color: rgb(255,255,255);\">O</td><td style=\"background-color: rgb(255,255,255);\">O</td><td style=\"background-color: rgb(255,255,255);\">B-Theme</td><td style=\"background-color: rgb(255,255,255);\">B-Goal</td><td style=\"background-color: rgb(255,255,255);\">I-Goal</td><td style=\"background-color: rgb(255,255,255);\">I-Goal</td></tr><tr><td><b>slots_pred</b></td><td style=\"background-color: rgb(255,255,255);\">O</td><td style=\"background-color: rgb(255,255,255);\">O</td><td style=\"background-color: rgb(255,255,255);\">B-Theme</td><td style=\"background-color: rgb(255,255,255);\">B-Goal</td><td style=\"background-color: rgb(255,255,255);\">I-Goal</td><td style=\"background-color: rgb(255,255,255);\">I-Goal</td></tr></table>"
      ],
      "text/plain": [
       "<IPython.core.display.HTML object>"
      ]
     },
     "metadata": {},
     "output_type": "display_data"
    },
    {
     "name": "stdout",
     "output_type": "stream",
     "text": [
      "true: Motion pred: Motion\n"
     ]
    },
    {
     "data": {
      "text/html": [
       "<table><tr><td><b>words</b></td><td style=\"background-color: rgb(255,255,255);\">go</td><td style=\"background-color: rgb(255,255,255);\">into</td><td style=\"background-color: rgb(255,255,255);\">the</td><td style=\"background-color: rgb(255,255,255);\">bathroom</td></tr><tr><td><b>lexical_unit</b></td><td style=\"background-color: rgb(0.0000, 255,0.0000);\">1.0000</td><td style=\"background-color: rgb(255.0000, 255,255.0000);\">0.0000</td><td style=\"background-color: rgb(255.0000, 255,255.0000);\">0.0000</td><td style=\"background-color: rgb(255.0000, 255,255.0000);\">0.0000</td></tr><tr><td><b>attention_intent</b></td><td style=\"background-color: rgb(254.9912, 255,254.9912);\">0.0000</td><td style=\"background-color: rgb(57.4064, 255,57.4064);\">0.7749</td><td style=\"background-color: rgb(197.6491, 255,197.6491);\">0.2249</td><td style=\"background-color: rgb(254.9537, 255,254.9537);\">0.0002</td></tr><tr><td><b>slots_true</b></td><td style=\"background-color: rgb(255,255,255);\">O</td><td style=\"background-color: rgb(255,255,255);\">B-Goal</td><td style=\"background-color: rgb(255,255,255);\">I-Goal</td><td style=\"background-color: rgb(255,255,255);\">I-Goal</td></tr><tr><td><b>slots_pred</b></td><td style=\"background-color: rgb(255,255,255);\">O</td><td style=\"background-color: rgb(255,255,255);\">B-Goal</td><td style=\"background-color: rgb(255,255,255);\">I-Goal</td><td style=\"background-color: rgb(255,255,255);\">I-Goal</td></tr></table>"
      ],
      "text/plain": [
       "<IPython.core.display.HTML object>"
      ]
     },
     "metadata": {},
     "output_type": "display_data"
    },
    {
     "name": "stdout",
     "output_type": "stream",
     "text": [
      "true: Motion pred: Motion\n"
     ]
    },
    {
     "data": {
      "text/html": [
       "<table><tr><td><b>words</b></td><td style=\"background-color: rgb(255,255,255);\">go</td><td style=\"background-color: rgb(255,255,255);\">to</td><td style=\"background-color: rgb(255,255,255);\">dining</td><td style=\"background-color: rgb(255,255,255);\">room</td></tr><tr><td><b>lexical_unit</b></td><td style=\"background-color: rgb(0.0000, 255,0.0000);\">1.0000</td><td style=\"background-color: rgb(255.0000, 255,255.0000);\">0.0000</td><td style=\"background-color: rgb(255.0000, 255,255.0000);\">0.0000</td><td style=\"background-color: rgb(255.0000, 255,255.0000);\">0.0000</td></tr><tr><td><b>attention_intent</b></td><td style=\"background-color: rgb(254.9321, 255,254.9321);\">0.0003</td><td style=\"background-color: rgb(0.2045, 255,0.2045);\">0.9992</td><td style=\"background-color: rgb(254.8658, 255,254.8658);\">0.0005</td><td style=\"background-color: rgb(254.9999, 255,254.9999);\">0.0000</td></tr><tr><td><b>slots_true</b></td><td style=\"background-color: rgb(255,255,255);\">O</td><td style=\"background-color: rgb(255,255,255);\">B-Goal</td><td style=\"background-color: rgb(255,255,255);\">I-Goal</td><td style=\"background-color: rgb(255,255,255);\">I-Goal</td></tr><tr><td><b>slots_pred</b></td><td style=\"background-color: rgb(255,255,255);\">O</td><td style=\"background-color: rgb(255,255,255);\">B-Goal</td><td style=\"background-color: rgb(255,255,255);\">I-Goal</td><td style=\"background-color: rgb(255,255,255);\">I-Goal</td></tr></table>"
      ],
      "text/plain": [
       "<IPython.core.display.HTML object>"
      ]
     },
     "metadata": {},
     "output_type": "display_data"
    },
    {
     "name": "stdout",
     "output_type": "stream",
     "text": [
      "true: Motion pred: Motion\n"
     ]
    },
    {
     "data": {
      "text/html": [
       "<table><tr><td><b>words</b></td><td style=\"background-color: rgb(255,255,255);\">go</td><td style=\"background-color: rgb(255,255,255);\">to</td><td style=\"background-color: rgb(255,255,255);\">the</td><td style=\"background-color: rgb(255,255,255);\">fridge</td></tr><tr><td><b>lexical_unit</b></td><td style=\"background-color: rgb(0.0000, 255,0.0000);\">1.0000</td><td style=\"background-color: rgb(255.0000, 255,255.0000);\">0.0000</td><td style=\"background-color: rgb(255.0000, 255,255.0000);\">0.0000</td><td style=\"background-color: rgb(255.0000, 255,255.0000);\">0.0000</td></tr><tr><td><b>attention_intent</b></td><td style=\"background-color: rgb(254.9962, 255,254.9962);\">0.0000</td><td style=\"background-color: rgb(96.6320, 255,96.6320);\">0.6211</td><td style=\"background-color: rgb(158.4776, 255,158.4776);\">0.3785</td><td style=\"background-color: rgb(254.8959, 255,254.8959);\">0.0004</td></tr><tr><td><b>slots_true</b></td><td style=\"background-color: rgb(255,255,255);\">O</td><td style=\"background-color: rgb(255,255,255);\">B-Goal</td><td style=\"background-color: rgb(255,255,255);\">I-Goal</td><td style=\"background-color: rgb(255,255,255);\">I-Goal</td></tr><tr><td><b>slots_pred</b></td><td style=\"background-color: rgb(255,255,255);\">O</td><td style=\"background-color: rgb(255,255,255);\">B-Goal</td><td style=\"background-color: rgb(255,255,255);\">I-Goal</td><td style=\"background-color: rgb(255,255,255);\">I-Goal</td></tr></table>"
      ],
      "text/plain": [
       "<IPython.core.display.HTML object>"
      ]
     },
     "metadata": {},
     "output_type": "display_data"
    },
    {
     "name": "stdout",
     "output_type": "stream",
     "text": [
      "true: Motion pred: Motion\n"
     ]
    },
    {
     "data": {
      "text/html": [
       "<table><tr><td><b>words</b></td><td style=\"background-color: rgb(255,255,255);\">move</td><td style=\"background-color: rgb(255,255,255);\">towards</td><td style=\"background-color: rgb(255,255,255);\">the</td><td style=\"background-color: rgb(255,255,255);\">kitchen</td></tr><tr><td><b>lexical_unit</b></td><td style=\"background-color: rgb(0.0000, 255,0.0000);\">1.0000</td><td style=\"background-color: rgb(255.0000, 255,255.0000);\">0.0000</td><td style=\"background-color: rgb(255.0000, 255,255.0000);\">0.0000</td><td style=\"background-color: rgb(255.0000, 255,255.0000);\">0.0000</td></tr><tr><td><b>attention_intent</b></td><td style=\"background-color: rgb(254.9477, 255,254.9477);\">0.0002</td><td style=\"background-color: rgb(31.2903, 255,31.2903);\">0.8773</td><td style=\"background-color: rgb(223.7698, 255,223.7698);\">0.1225</td><td style=\"background-color: rgb(254.9927, 255,254.9927);\">0.0000</td></tr><tr><td><b>slots_true</b></td><td style=\"background-color: rgb(255,255,255);\">O</td><td style=\"background-color: rgb(255,255,255);\">B-Goal</td><td style=\"background-color: rgb(255,255,255);\">I-Goal</td><td style=\"background-color: rgb(255,255,255);\">I-Goal</td></tr><tr><td><b>slots_pred</b></td><td style=\"background-color: rgb(255,255,255);\">O</td><td style=\"background-color: rgb(255,255,255);\">B-Goal</td><td style=\"background-color: rgb(255,255,255);\">I-Goal</td><td style=\"background-color: rgb(255,255,255);\">I-Goal</td></tr></table>"
      ],
      "text/plain": [
       "<IPython.core.display.HTML object>"
      ]
     },
     "metadata": {},
     "output_type": "display_data"
    },
    {
     "name": "stdout",
     "output_type": "stream",
     "text": [
      "true: Following pred: Following\n"
     ]
    },
    {
     "data": {
      "text/html": [
       "<table><tr><td><b>words</b></td><td style=\"background-color: rgb(255,255,255);\">please</td><td style=\"background-color: rgb(255,255,255);\">follow</td><td style=\"background-color: rgb(255,255,255);\">that</td><td style=\"background-color: rgb(255,255,255);\">person</td></tr><tr><td><b>lexical_unit</b></td><td style=\"background-color: rgb(255.0000, 255,255.0000);\">0.0000</td><td style=\"background-color: rgb(0.0000, 255,0.0000);\">1.0000</td><td style=\"background-color: rgb(255.0000, 255,255.0000);\">0.0000</td><td style=\"background-color: rgb(255.0000, 255,255.0000);\">0.0000</td></tr><tr><td><b>attention_intent</b></td><td style=\"background-color: rgb(255.0000, 255,255.0000);\">0.0000</td><td style=\"background-color: rgb(47.7749, 255,47.7749);\">0.8126</td><td style=\"background-color: rgb(207.2415, 255,207.2415);\">0.1873</td><td style=\"background-color: rgb(254.9853, 255,254.9853);\">0.0001</td></tr><tr><td><b>slots_true</b></td><td style=\"background-color: rgb(255,255,255);\">O</td><td style=\"background-color: rgb(255,255,255);\">O</td><td style=\"background-color: rgb(255,255,255);\">B-Cotheme</td><td style=\"background-color: rgb(255,255,255);\">I-Cotheme</td></tr><tr><td><b>slots_pred</b></td><td style=\"background-color: rgb(255,255,255);\">O</td><td style=\"background-color: rgb(255,255,255);\">O</td><td style=\"background-color: rgb(255,255,255);\">B-Cotheme</td><td style=\"background-color: rgb(255,255,255);\">I-Cotheme</td></tr></table>"
      ],
      "text/plain": [
       "<IPython.core.display.HTML object>"
      ]
     },
     "metadata": {},
     "output_type": "display_data"
    },
    {
     "name": "stdout",
     "output_type": "stream",
     "text": [
      "true: Placing pred: Placing\n"
     ]
    },
    {
     "data": {
      "text/html": [
       "<table><tr><td><b>words</b></td><td style=\"background-color: rgb(255,255,255);\">please</td><td style=\"background-color: rgb(255,255,255);\">put</td><td style=\"background-color: rgb(255,255,255);\">the</td><td style=\"background-color: rgb(255,255,255);\">book</td><td style=\"background-color: rgb(255,255,255);\">in</td><td style=\"background-color: rgb(255,255,255);\">the</td><td style=\"background-color: rgb(255,255,255);\">dining</td><td style=\"background-color: rgb(255,255,255);\">room</td></tr><tr><td><b>lexical_unit</b></td><td style=\"background-color: rgb(255.0000, 255,255.0000);\">0.0000</td><td style=\"background-color: rgb(0.0000, 255,0.0000);\">1.0000</td><td style=\"background-color: rgb(255.0000, 255,255.0000);\">0.0000</td><td style=\"background-color: rgb(255.0000, 255,255.0000);\">0.0000</td><td style=\"background-color: rgb(255.0000, 255,255.0000);\">0.0000</td><td style=\"background-color: rgb(255.0000, 255,255.0000);\">0.0000</td><td style=\"background-color: rgb(255.0000, 255,255.0000);\">0.0000</td><td style=\"background-color: rgb(255.0000, 255,255.0000);\">0.0000</td></tr><tr><td><b>attention_intent</b></td><td style=\"background-color: rgb(255.0000, 255,255.0000);\">0.0000</td><td style=\"background-color: rgb(254.9969, 255,254.9969);\">0.0000</td><td style=\"background-color: rgb(254.9151, 255,254.9151);\">0.0003</td><td style=\"background-color: rgb(254.9543, 255,254.9543);\">0.0002</td><td style=\"background-color: rgb(254.0827, 255,254.0827);\">0.0036</td><td style=\"background-color: rgb(35.9278, 255,35.9278);\">0.8591</td><td style=\"background-color: rgb(239.3291, 255,239.3291);\">0.0615</td><td style=\"background-color: rgb(235.7996, 255,235.7996);\">0.0753</td></tr><tr><td><b>slots_true</b></td><td style=\"background-color: rgb(255,255,255);\">O</td><td style=\"background-color: rgb(255,255,255);\">O</td><td style=\"background-color: rgb(255,255,255);\">B-Theme</td><td style=\"background-color: rgb(255,255,255);\">I-Theme</td><td style=\"background-color: rgb(255,255,255);\">B-Goal</td><td style=\"background-color: rgb(255,255,255);\">I-Goal</td><td style=\"background-color: rgb(255,255,255);\">I-Goal</td><td style=\"background-color: rgb(255,255,255);\">I-Goal</td></tr><tr><td><b>slots_pred</b></td><td style=\"background-color: rgb(255,255,255);\">O</td><td style=\"background-color: rgb(255,255,255);\">O</td><td style=\"background-color: rgb(255,255,255);\">B-Theme</td><td style=\"background-color: rgb(255,255,255);\">I-Theme</td><td style=\"background-color: rgb(255,255,255);\">B-Goal</td><td style=\"background-color: rgb(255,255,255);\">I-Goal</td><td style=\"background-color: rgb(255,255,255);\">I-Goal</td><td style=\"background-color: rgb(255,255,255);\">I-Goal</td></tr></table>"
      ],
      "text/plain": [
       "<IPython.core.display.HTML object>"
      ]
     },
     "metadata": {},
     "output_type": "display_data"
    },
    {
     "name": "stdout",
     "output_type": "stream",
     "text": [
      "true: Bringing pred: Bringing\n"
     ]
    },
    {
     "data": {
      "text/html": [
       "<table><tr><td><b>words</b></td><td style=\"background-color: rgb(255,255,255);\">please</td><td style=\"background-color: rgb(255,255,255);\">take</td><td style=\"background-color: rgb(255,255,255);\">the</td><td style=\"background-color: rgb(255,255,255);\">mug</td><td style=\"background-color: rgb(255,255,255);\">to</td><td style=\"background-color: rgb(255,255,255);\">the</td><td style=\"background-color: rgb(255,255,255);\">bedroom</td></tr><tr><td><b>lexical_unit</b></td><td style=\"background-color: rgb(255.0000, 255,255.0000);\">0.0000</td><td style=\"background-color: rgb(0.0000, 255,0.0000);\">1.0000</td><td style=\"background-color: rgb(255.0000, 255,255.0000);\">0.0000</td><td style=\"background-color: rgb(255.0000, 255,255.0000);\">0.0000</td><td style=\"background-color: rgb(255.0000, 255,255.0000);\">0.0000</td><td style=\"background-color: rgb(255.0000, 255,255.0000);\">0.0000</td><td style=\"background-color: rgb(255.0000, 255,255.0000);\">0.0000</td></tr><tr><td><b>attention_intent</b></td><td style=\"background-color: rgb(255.0000, 255,255.0000);\">0.0000</td><td style=\"background-color: rgb(254.9993, 255,254.9993);\">0.0000</td><td style=\"background-color: rgb(254.7923, 255,254.7923);\">0.0008</td><td style=\"background-color: rgb(254.9999, 255,254.9999);\">0.0000</td><td style=\"background-color: rgb(8.9352, 255,8.9352);\">0.9650</td><td style=\"background-color: rgb(246.2820, 255,246.2820);\">0.0342</td><td style=\"background-color: rgb(254.9929, 255,254.9929);\">0.0000</td></tr><tr><td><b>slots_true</b></td><td style=\"background-color: rgb(255,255,255);\">O</td><td style=\"background-color: rgb(255,255,255);\">O</td><td style=\"background-color: rgb(255,255,255);\">B-Theme</td><td style=\"background-color: rgb(255,255,255);\">I-Theme</td><td style=\"background-color: rgb(255,255,255);\">B-Goal</td><td style=\"background-color: rgb(255,255,255);\">I-Goal</td><td style=\"background-color: rgb(255,255,255);\">I-Goal</td></tr><tr><td><b>slots_pred</b></td><td style=\"background-color: rgb(255,255,255);\">O</td><td style=\"background-color: rgb(255,255,255);\">O</td><td style=\"background-color: rgb(255,255,255);\">B-Theme</td><td style=\"background-color: rgb(255,255,255);\">I-Theme</td><td style=\"background-color: rgb(255,255,255);\">B-Goal</td><td style=\"background-color: rgb(255,255,255);\">I-Goal</td><td style=\"background-color: rgb(255,255,255);\">I-Goal</td></tr></table>"
      ],
      "text/plain": [
       "<IPython.core.display.HTML object>"
      ]
     },
     "metadata": {},
     "output_type": "display_data"
    },
    {
     "name": "stdout",
     "output_type": "stream",
     "text": [
      "true: Motion pred: Motion\n"
     ]
    },
    {
     "data": {
      "text/html": [
       "<table><tr><td><b>words</b></td><td style=\"background-color: rgb(255,255,255);\">please</td><td style=\"background-color: rgb(255,255,255);\">walk</td><td style=\"background-color: rgb(255,255,255);\">slowly</td><td style=\"background-color: rgb(255,255,255);\">to</td><td style=\"background-color: rgb(255,255,255);\">the</td><td style=\"background-color: rgb(255,255,255);\">kitchen</td></tr><tr><td><b>lexical_unit</b></td><td style=\"background-color: rgb(255.0000, 255,255.0000);\">0.0000</td><td style=\"background-color: rgb(0.0000, 255,0.0000);\">1.0000</td><td style=\"background-color: rgb(255.0000, 255,255.0000);\">0.0000</td><td style=\"background-color: rgb(255.0000, 255,255.0000);\">0.0000</td><td style=\"background-color: rgb(255.0000, 255,255.0000);\">0.0000</td><td style=\"background-color: rgb(255.0000, 255,255.0000);\">0.0000</td></tr><tr><td><b>attention_intent</b></td><td style=\"background-color: rgb(255.0000, 255,255.0000);\">0.0000</td><td style=\"background-color: rgb(254.7506, 255,254.7506);\">0.0010</td><td style=\"background-color: rgb(251.5579, 255,251.5579);\">0.0135</td><td style=\"background-color: rgb(61.4382, 255,61.4382);\">0.7591</td><td style=\"background-color: rgb(197.2879, 255,197.2879);\">0.2263</td><td style=\"background-color: rgb(254.9663, 255,254.9663);\">0.0001</td></tr><tr><td><b>slots_true</b></td><td style=\"background-color: rgb(255,255,255);\">O</td><td style=\"background-color: rgb(255,255,255);\">O</td><td style=\"background-color: rgb(255,255,255);\">B-Manner</td><td style=\"background-color: rgb(255,255,255);\">B-Goal</td><td style=\"background-color: rgb(255,255,255);\">I-Goal</td><td style=\"background-color: rgb(255,255,255);\">I-Goal</td></tr><tr><td><b>slots_pred</b></td><td style=\"background-color: rgb(255,255,255);\">O</td><td style=\"background-color: rgb(255,255,255);\">O</td><td style=\"background-color: rgb(255,255,255);\">B-Goal</td><td style=\"background-color: rgb(255,255,255);\">B-Goal</td><td style=\"background-color: rgb(255,255,255);\">I-Goal</td><td style=\"background-color: rgb(255,255,255);\">I-Goal</td></tr></table>"
      ],
      "text/plain": [
       "<IPython.core.display.HTML object>"
      ]
     },
     "metadata": {},
     "output_type": "display_data"
    },
    {
     "name": "stdout",
     "output_type": "stream",
     "text": [
      "true: Placing pred: Placing\n"
     ]
    },
    {
     "data": {
      "text/html": [
       "<table><tr><td><b>words</b></td><td style=\"background-color: rgb(255,255,255);\">put</td><td style=\"background-color: rgb(255,255,255);\">the</td><td style=\"background-color: rgb(255,255,255);\">phone</td><td style=\"background-color: rgb(255,255,255);\">in</td><td style=\"background-color: rgb(255,255,255);\">the</td><td style=\"background-color: rgb(255,255,255);\">kitchen</td><td style=\"background-color: rgb(255,255,255);\">stove</td></tr><tr><td><b>lexical_unit</b></td><td style=\"background-color: rgb(0.0000, 255,0.0000);\">1.0000</td><td style=\"background-color: rgb(255.0000, 255,255.0000);\">0.0000</td><td style=\"background-color: rgb(255.0000, 255,255.0000);\">0.0000</td><td style=\"background-color: rgb(255.0000, 255,255.0000);\">0.0000</td><td style=\"background-color: rgb(255.0000, 255,255.0000);\">0.0000</td><td style=\"background-color: rgb(255.0000, 255,255.0000);\">0.0000</td><td style=\"background-color: rgb(255.0000, 255,255.0000);\">0.0000</td></tr><tr><td><b>attention_intent</b></td><td style=\"background-color: rgb(254.9991, 255,254.9991);\">0.0000</td><td style=\"background-color: rgb(254.9774, 255,254.9774);\">0.0001</td><td style=\"background-color: rgb(254.9615, 255,254.9615);\">0.0002</td><td style=\"background-color: rgb(254.2161, 255,254.2161);\">0.0031</td><td style=\"background-color: rgb(36.9990, 255,36.9990);\">0.8549</td><td style=\"background-color: rgb(241.1678, 255,241.1678);\">0.0542</td><td style=\"background-color: rgb(232.6800, 255,232.6800);\">0.0875</td></tr><tr><td><b>slots_true</b></td><td style=\"background-color: rgb(255,255,255);\">O</td><td style=\"background-color: rgb(255,255,255);\">B-Theme</td><td style=\"background-color: rgb(255,255,255);\">I-Theme</td><td style=\"background-color: rgb(255,255,255);\">B-Goal</td><td style=\"background-color: rgb(255,255,255);\">I-Goal</td><td style=\"background-color: rgb(255,255,255);\">I-Goal</td><td style=\"background-color: rgb(255,255,255);\">I-Goal</td></tr><tr><td><b>slots_pred</b></td><td style=\"background-color: rgb(255,255,255);\">O</td><td style=\"background-color: rgb(255,255,255);\">B-Theme</td><td style=\"background-color: rgb(255,255,255);\">I-Theme</td><td style=\"background-color: rgb(255,255,255);\">B-Goal</td><td style=\"background-color: rgb(255,255,255);\">I-Goal</td><td style=\"background-color: rgb(255,255,255);\">I-Goal</td><td style=\"background-color: rgb(255,255,255);\">I-Goal</td></tr></table>"
      ],
      "text/plain": [
       "<IPython.core.display.HTML object>"
      ]
     },
     "metadata": {},
     "output_type": "display_data"
    },
    {
     "name": "stdout",
     "output_type": "stream",
     "text": [
      "true: Bringing pred: Bringing\n"
     ]
    },
    {
     "data": {
      "text/html": [
       "<table><tr><td><b>words</b></td><td style=\"background-color: rgb(255,255,255);\">take</td><td style=\"background-color: rgb(255,255,255);\">the</td><td style=\"background-color: rgb(255,255,255);\">book</td><td style=\"background-color: rgb(255,255,255);\">to</td><td style=\"background-color: rgb(255,255,255);\">the</td><td style=\"background-color: rgb(255,255,255);\">bedroom</td></tr><tr><td><b>lexical_unit</b></td><td style=\"background-color: rgb(0.0000, 255,0.0000);\">1.0000</td><td style=\"background-color: rgb(255.0000, 255,255.0000);\">0.0000</td><td style=\"background-color: rgb(255.0000, 255,255.0000);\">0.0000</td><td style=\"background-color: rgb(255.0000, 255,255.0000);\">0.0000</td><td style=\"background-color: rgb(255.0000, 255,255.0000);\">0.0000</td><td style=\"background-color: rgb(255.0000, 255,255.0000);\">0.0000</td></tr><tr><td><b>attention_intent</b></td><td style=\"background-color: rgb(254.9990, 255,254.9990);\">0.0000</td><td style=\"background-color: rgb(254.9224, 255,254.9224);\">0.0003</td><td style=\"background-color: rgb(255.0000, 255,255.0000);\">0.0000</td><td style=\"background-color: rgb(7.0705, 255,7.0705);\">0.9723</td><td style=\"background-color: rgb(248.0112, 255,248.0112);\">0.0274</td><td style=\"background-color: rgb(254.9997, 255,254.9997);\">0.0000</td></tr><tr><td><b>slots_true</b></td><td style=\"background-color: rgb(255,255,255);\">O</td><td style=\"background-color: rgb(255,255,255);\">B-Theme</td><td style=\"background-color: rgb(255,255,255);\">I-Theme</td><td style=\"background-color: rgb(255,255,255);\">B-Goal</td><td style=\"background-color: rgb(255,255,255);\">I-Goal</td><td style=\"background-color: rgb(255,255,255);\">I-Goal</td></tr><tr><td><b>slots_pred</b></td><td style=\"background-color: rgb(255,255,255);\">O</td><td style=\"background-color: rgb(255,255,255);\">B-Theme</td><td style=\"background-color: rgb(255,255,255);\">I-Theme</td><td style=\"background-color: rgb(255,255,255);\">B-Goal</td><td style=\"background-color: rgb(255,255,255);\">I-Goal</td><td style=\"background-color: rgb(255,255,255);\">I-Goal</td></tr></table>"
      ],
      "text/plain": [
       "<IPython.core.display.HTML object>"
      ]
     },
     "metadata": {},
     "output_type": "display_data"
    },
    {
     "name": "stdout",
     "output_type": "stream",
     "text": [
      "true: Bringing pred: Bringing\n"
     ]
    },
    {
     "data": {
      "text/html": [
       "<table><tr><td><b>words</b></td><td style=\"background-color: rgb(255,255,255);\">take</td><td style=\"background-color: rgb(255,255,255);\">the</td><td style=\"background-color: rgb(255,255,255);\">bottle</td><td style=\"background-color: rgb(255,255,255);\">to</td><td style=\"background-color: rgb(255,255,255);\">the</td><td style=\"background-color: rgb(255,255,255);\">kitchen</td></tr><tr><td><b>lexical_unit</b></td><td style=\"background-color: rgb(0.0000, 255,0.0000);\">1.0000</td><td style=\"background-color: rgb(255.0000, 255,255.0000);\">0.0000</td><td style=\"background-color: rgb(255.0000, 255,255.0000);\">0.0000</td><td style=\"background-color: rgb(255.0000, 255,255.0000);\">0.0000</td><td style=\"background-color: rgb(255.0000, 255,255.0000);\">0.0000</td><td style=\"background-color: rgb(255.0000, 255,255.0000);\">0.0000</td></tr><tr><td><b>attention_intent</b></td><td style=\"background-color: rgb(254.9982, 255,254.9982);\">0.0000</td><td style=\"background-color: rgb(254.7151, 255,254.7151);\">0.0011</td><td style=\"background-color: rgb(255.0000, 255,255.0000);\">0.0000</td><td style=\"background-color: rgb(7.1943, 255,7.1943);\">0.9718</td><td style=\"background-color: rgb(248.0985, 255,248.0985);\">0.0271</td><td style=\"background-color: rgb(254.9986, 255,254.9986);\">0.0000</td></tr><tr><td><b>slots_true</b></td><td style=\"background-color: rgb(255,255,255);\">O</td><td style=\"background-color: rgb(255,255,255);\">B-Theme</td><td style=\"background-color: rgb(255,255,255);\">I-Theme</td><td style=\"background-color: rgb(255,255,255);\">B-Goal</td><td style=\"background-color: rgb(255,255,255);\">I-Goal</td><td style=\"background-color: rgb(255,255,255);\">I-Goal</td></tr><tr><td><b>slots_pred</b></td><td style=\"background-color: rgb(255,255,255);\">O</td><td style=\"background-color: rgb(255,255,255);\">B-Theme</td><td style=\"background-color: rgb(255,255,255);\">I-Theme</td><td style=\"background-color: rgb(255,255,255);\">B-Goal</td><td style=\"background-color: rgb(255,255,255);\">I-Goal</td><td style=\"background-color: rgb(255,255,255);\">I-Goal</td></tr></table>"
      ],
      "text/plain": [
       "<IPython.core.display.HTML object>"
      ]
     },
     "metadata": {},
     "output_type": "display_data"
    },
    {
     "name": "stdout",
     "output_type": "stream",
     "text": [
      "true: Bringing pred: Bringing\n"
     ]
    },
    {
     "data": {
      "text/html": [
       "<table><tr><td><b>words</b></td><td style=\"background-color: rgb(255,255,255);\">bring</td><td style=\"background-color: rgb(255,255,255);\">me</td><td style=\"background-color: rgb(255,255,255);\">the</td><td style=\"background-color: rgb(255,255,255);\">glasses</td></tr><tr><td><b>lexical_unit</b></td><td style=\"background-color: rgb(0.0000, 255,0.0000);\">1.0000</td><td style=\"background-color: rgb(255.0000, 255,255.0000);\">0.0000</td><td style=\"background-color: rgb(255.0000, 255,255.0000);\">0.0000</td><td style=\"background-color: rgb(255.0000, 255,255.0000);\">0.0000</td></tr><tr><td><b>attention_intent</b></td><td style=\"background-color: rgb(254.5015, 255,254.5015);\">0.0020</td><td style=\"background-color: rgb(5.3923, 255,5.3923);\">0.9789</td><td style=\"background-color: rgb(250.1098, 255,250.1098);\">0.0192</td><td style=\"background-color: rgb(254.9971, 255,254.9971);\">0.0000</td></tr><tr><td><b>slots_true</b></td><td style=\"background-color: rgb(255,255,255);\">O</td><td style=\"background-color: rgb(255,255,255);\">B-Beneficiary</td><td style=\"background-color: rgb(255,255,255);\">B-Theme</td><td style=\"background-color: rgb(255,255,255);\">I-Theme</td></tr><tr><td><b>slots_pred</b></td><td style=\"background-color: rgb(255,255,255);\">O</td><td style=\"background-color: rgb(255,255,255);\">B-Beneficiary</td><td style=\"background-color: rgb(255,255,255);\">B-Theme</td><td style=\"background-color: rgb(255,255,255);\">I-Theme</td></tr></table>"
      ],
      "text/plain": [
       "<IPython.core.display.HTML object>"
      ]
     },
     "metadata": {},
     "output_type": "display_data"
    },
    {
     "name": "stdout",
     "output_type": "stream",
     "text": [
      "true: Placing pred: Placing\n"
     ]
    },
    {
     "data": {
      "text/html": [
       "<table><tr><td><b>words</b></td><td style=\"background-color: rgb(255,255,255);\">and</td><td style=\"background-color: rgb(255,255,255);\">put</td><td style=\"background-color: rgb(255,255,255);\">them</td><td style=\"background-color: rgb(255,255,255);\">on</td><td style=\"background-color: rgb(255,255,255);\">the</td><td style=\"background-color: rgb(255,255,255);\">table</td><td style=\"background-color: rgb(255,255,255);\">next</td><td style=\"background-color: rgb(255,255,255);\">to</td><td style=\"background-color: rgb(255,255,255);\">the</td><td style=\"background-color: rgb(255,255,255);\">couch</td></tr><tr><td><b>lexical_unit</b></td><td style=\"background-color: rgb(255.0000, 255,255.0000);\">0.0000</td><td style=\"background-color: rgb(0.0000, 255,0.0000);\">1.0000</td><td style=\"background-color: rgb(255.0000, 255,255.0000);\">0.0000</td><td style=\"background-color: rgb(255.0000, 255,255.0000);\">0.0000</td><td style=\"background-color: rgb(255.0000, 255,255.0000);\">0.0000</td><td style=\"background-color: rgb(255.0000, 255,255.0000);\">0.0000</td><td style=\"background-color: rgb(255.0000, 255,255.0000);\">0.0000</td><td style=\"background-color: rgb(255.0000, 255,255.0000);\">0.0000</td><td style=\"background-color: rgb(255.0000, 255,255.0000);\">0.0000</td><td style=\"background-color: rgb(255.0000, 255,255.0000);\">0.0000</td></tr><tr><td><b>attention_intent</b></td><td style=\"background-color: rgb(255.0000, 255,255.0000);\">0.0000</td><td style=\"background-color: rgb(254.9973, 255,254.9973);\">0.0000</td><td style=\"background-color: rgb(254.8713, 255,254.8713);\">0.0005</td><td style=\"background-color: rgb(254.4381, 255,254.4381);\">0.0022</td><td style=\"background-color: rgb(254.5336, 255,254.5336);\">0.0018</td><td style=\"background-color: rgb(254.9480, 255,254.9480);\">0.0002</td><td style=\"background-color: rgb(254.5680, 255,254.5680);\">0.0017</td><td style=\"background-color: rgb(225.7275, 255,225.7275);\">0.1148</td><td style=\"background-color: rgb(119.1156, 255,119.1156);\">0.5329</td><td style=\"background-color: rgb(166.8012, 255,166.8012);\">0.3459</td></tr><tr><td><b>slots_true</b></td><td style=\"background-color: rgb(255,255,255);\">O</td><td style=\"background-color: rgb(255,255,255);\">O</td><td style=\"background-color: rgb(255,255,255);\">B-Theme</td><td style=\"background-color: rgb(255,255,255);\">B-Goal</td><td style=\"background-color: rgb(255,255,255);\">I-Goal</td><td style=\"background-color: rgb(255,255,255);\">I-Goal</td><td style=\"background-color: rgb(255,255,255);\">I-Goal</td><td style=\"background-color: rgb(255,255,255);\">I-Goal</td><td style=\"background-color: rgb(255,255,255);\">I-Goal</td><td style=\"background-color: rgb(255,255,255);\">I-Goal</td></tr><tr><td><b>slots_pred</b></td><td style=\"background-color: rgb(255,255,255);\">O</td><td style=\"background-color: rgb(255,255,255);\">O</td><td style=\"background-color: rgb(255,255,255);\">B-Theme</td><td style=\"background-color: rgb(255,255,255);\">B-Goal</td><td style=\"background-color: rgb(255,255,255);\">I-Goal</td><td style=\"background-color: rgb(255,255,255);\">I-Goal</td><td style=\"background-color: rgb(255,255,255);\">I-Goal</td><td style=\"background-color: rgb(255,255,255);\">I-Goal</td><td style=\"background-color: rgb(255,255,255);\">I-Goal</td><td style=\"background-color: rgb(255,255,255);\">I-Goal</td></tr></table>"
      ],
      "text/plain": [
       "<IPython.core.display.HTML object>"
      ]
     },
     "metadata": {},
     "output_type": "display_data"
    },
    {
     "name": "stdout",
     "output_type": "stream",
     "text": [
      "true: Bringing pred: Bringing\n"
     ]
    },
    {
     "data": {
      "text/html": [
       "<table><tr><td><b>words</b></td><td style=\"background-color: rgb(255,255,255);\">can</td><td style=\"background-color: rgb(255,255,255);\">you</td><td style=\"background-color: rgb(255,255,255);\">bring</td><td style=\"background-color: rgb(255,255,255);\">me</td><td style=\"background-color: rgb(255,255,255);\">my</td><td style=\"background-color: rgb(255,255,255);\">eyeglass</td></tr><tr><td><b>lexical_unit</b></td><td style=\"background-color: rgb(255.0000, 255,255.0000);\">0.0000</td><td style=\"background-color: rgb(255.0000, 255,255.0000);\">0.0000</td><td style=\"background-color: rgb(0.0000, 255,0.0000);\">1.0000</td><td style=\"background-color: rgb(255.0000, 255,255.0000);\">0.0000</td><td style=\"background-color: rgb(255.0000, 255,255.0000);\">0.0000</td><td style=\"background-color: rgb(255.0000, 255,255.0000);\">0.0000</td></tr><tr><td><b>attention_intent</b></td><td style=\"background-color: rgb(255.0000, 255,255.0000);\">0.0000</td><td style=\"background-color: rgb(255.0000, 255,255.0000);\">0.0000</td><td style=\"background-color: rgb(253.4247, 255,253.4247);\">0.0062</td><td style=\"background-color: rgb(3.1731, 255,3.1731);\">0.9876</td><td style=\"background-color: rgb(253.4052, 255,253.4052);\">0.0063</td><td style=\"background-color: rgb(254.9975, 255,254.9975);\">0.0000</td></tr><tr><td><b>slots_true</b></td><td style=\"background-color: rgb(255,255,255);\">O</td><td style=\"background-color: rgb(255,255,255);\">B-Agent</td><td style=\"background-color: rgb(255,255,255);\">O</td><td style=\"background-color: rgb(255,255,255);\">B-Beneficiary</td><td style=\"background-color: rgb(255,255,255);\">B-Theme</td><td style=\"background-color: rgb(255,255,255);\">I-Theme</td></tr><tr><td><b>slots_pred</b></td><td style=\"background-color: rgb(255,255,255);\">O</td><td style=\"background-color: rgb(255,255,255);\">B-Agent</td><td style=\"background-color: rgb(255,255,255);\">O</td><td style=\"background-color: rgb(255,255,255);\">B-Beneficiary</td><td style=\"background-color: rgb(255,255,255);\">B-Theme</td><td style=\"background-color: rgb(255,255,255);\">I-Theme</td></tr></table>"
      ],
      "text/plain": [
       "<IPython.core.display.HTML object>"
      ]
     },
     "metadata": {},
     "output_type": "display_data"
    },
    {
     "name": "stdout",
     "output_type": "stream",
     "text": [
      "true: Bringing pred: Bringing\n"
     ]
    },
    {
     "data": {
      "text/html": [
       "<table><tr><td><b>words</b></td><td style=\"background-color: rgb(255,255,255);\">can</td><td style=\"background-color: rgb(255,255,255);\">you</td><td style=\"background-color: rgb(255,255,255);\">bring</td><td style=\"background-color: rgb(255,255,255);\">me</td><td style=\"background-color: rgb(255,255,255);\">my</td><td style=\"background-color: rgb(255,255,255);\">tablet</td></tr><tr><td><b>lexical_unit</b></td><td style=\"background-color: rgb(255.0000, 255,255.0000);\">0.0000</td><td style=\"background-color: rgb(255.0000, 255,255.0000);\">0.0000</td><td style=\"background-color: rgb(0.0000, 255,0.0000);\">1.0000</td><td style=\"background-color: rgb(255.0000, 255,255.0000);\">0.0000</td><td style=\"background-color: rgb(255.0000, 255,255.0000);\">0.0000</td><td style=\"background-color: rgb(255.0000, 255,255.0000);\">0.0000</td></tr><tr><td><b>attention_intent</b></td><td style=\"background-color: rgb(255.0000, 255,255.0000);\">0.0000</td><td style=\"background-color: rgb(255.0000, 255,255.0000);\">0.0000</td><td style=\"background-color: rgb(249.9829, 255,249.9829);\">0.0197</td><td style=\"background-color: rgb(8.3082, 255,8.3082);\">0.9674</td><td style=\"background-color: rgb(251.7737, 255,251.7737);\">0.0127</td><td style=\"background-color: rgb(254.9355, 255,254.9355);\">0.0003</td></tr><tr><td><b>slots_true</b></td><td style=\"background-color: rgb(255,255,255);\">O</td><td style=\"background-color: rgb(255,255,255);\">B-Agent</td><td style=\"background-color: rgb(255,255,255);\">O</td><td style=\"background-color: rgb(255,255,255);\">B-Beneficiary</td><td style=\"background-color: rgb(255,255,255);\">B-Theme</td><td style=\"background-color: rgb(255,255,255);\">I-Theme</td></tr><tr><td><b>slots_pred</b></td><td style=\"background-color: rgb(255,255,255);\">O</td><td style=\"background-color: rgb(255,255,255);\">B-Agent</td><td style=\"background-color: rgb(255,255,255);\">O</td><td style=\"background-color: rgb(255,255,255);\">B-Beneficiary</td><td style=\"background-color: rgb(255,255,255);\">B-Theme</td><td style=\"background-color: rgb(255,255,255);\">I-Theme</td></tr></table>"
      ],
      "text/plain": [
       "<IPython.core.display.HTML object>"
      ]
     },
     "metadata": {},
     "output_type": "display_data"
    },
    {
     "name": "stdout",
     "output_type": "stream",
     "text": [
      "true: Bringing pred: Bringing\n"
     ]
    },
    {
     "data": {
      "text/html": [
       "<table><tr><td><b>words</b></td><td style=\"background-color: rgb(255,255,255);\">and</td><td style=\"background-color: rgb(255,255,255);\">bring</td><td style=\"background-color: rgb(255,255,255);\">it</td><td style=\"background-color: rgb(255,255,255);\">to</td><td style=\"background-color: rgb(255,255,255);\">me</td></tr><tr><td><b>lexical_unit</b></td><td style=\"background-color: rgb(255.0000, 255,255.0000);\">0.0000</td><td style=\"background-color: rgb(0.0000, 255,0.0000);\">1.0000</td><td style=\"background-color: rgb(255.0000, 255,255.0000);\">0.0000</td><td style=\"background-color: rgb(255.0000, 255,255.0000);\">0.0000</td><td style=\"background-color: rgb(255.0000, 255,255.0000);\">0.0000</td></tr><tr><td><b>attention_intent</b></td><td style=\"background-color: rgb(255.0000, 255,255.0000);\">0.0000</td><td style=\"background-color: rgb(254.6365, 255,254.6365);\">0.0014</td><td style=\"background-color: rgb(254.4520, 255,254.4520);\">0.0021</td><td style=\"background-color: rgb(17.7664, 255,17.7664);\">0.9303</td><td style=\"background-color: rgb(238.1458, 255,238.1458);\">0.0661</td></tr><tr><td><b>slots_true</b></td><td style=\"background-color: rgb(255,255,255);\">O</td><td style=\"background-color: rgb(255,255,255);\">O</td><td style=\"background-color: rgb(255,255,255);\">B-Theme</td><td style=\"background-color: rgb(255,255,255);\">B-Beneficiary</td><td style=\"background-color: rgb(255,255,255);\">I-Beneficiary</td></tr><tr><td><b>slots_pred</b></td><td style=\"background-color: rgb(255,255,255);\">O</td><td style=\"background-color: rgb(255,255,255);\">O</td><td style=\"background-color: rgb(255,255,255);\">B-Theme</td><td style=\"background-color: rgb(255,255,255);\">B-Beneficiary</td><td style=\"background-color: rgb(255,255,255);\">I-Beneficiary</td></tr></table>"
      ],
      "text/plain": [
       "<IPython.core.display.HTML object>"
      ]
     },
     "metadata": {},
     "output_type": "display_data"
    },
    {
     "name": "stdout",
     "output_type": "stream",
     "text": [
      "true: Taking pred: Taking\n"
     ]
    },
    {
     "data": {
      "text/html": [
       "<table><tr><td><b>words</b></td><td style=\"background-color: rgb(255,255,255);\">could</td><td style=\"background-color: rgb(255,255,255);\">you</td><td style=\"background-color: rgb(255,255,255);\">take</td><td style=\"background-color: rgb(255,255,255);\">the</td><td style=\"background-color: rgb(255,255,255);\">knife</td><td style=\"background-color: rgb(255,255,255);\">on</td><td style=\"background-color: rgb(255,255,255);\">the</td><td style=\"background-color: rgb(255,255,255);\">cutting</td><td style=\"background-color: rgb(255,255,255);\">board</td></tr><tr><td><b>lexical_unit</b></td><td style=\"background-color: rgb(255.0000, 255,255.0000);\">0.0000</td><td style=\"background-color: rgb(255.0000, 255,255.0000);\">0.0000</td><td style=\"background-color: rgb(0.0000, 255,0.0000);\">1.0000</td><td style=\"background-color: rgb(255.0000, 255,255.0000);\">0.0000</td><td style=\"background-color: rgb(255.0000, 255,255.0000);\">0.0000</td><td style=\"background-color: rgb(255.0000, 255,255.0000);\">0.0000</td><td style=\"background-color: rgb(255.0000, 255,255.0000);\">0.0000</td><td style=\"background-color: rgb(255.0000, 255,255.0000);\">0.0000</td><td style=\"background-color: rgb(255.0000, 255,255.0000);\">0.0000</td></tr><tr><td><b>attention_intent</b></td><td style=\"background-color: rgb(255.0000, 255,255.0000);\">0.0000</td><td style=\"background-color: rgb(255.0000, 255,255.0000);\">0.0000</td><td style=\"background-color: rgb(254.8527, 255,254.8527);\">0.0006</td><td style=\"background-color: rgb(239.4525, 255,239.4525);\">0.0610</td><td style=\"background-color: rgb(254.9306, 255,254.9306);\">0.0003</td><td style=\"background-color: rgb(158.8274, 255,158.8274);\">0.3771</td><td style=\"background-color: rgb(115.0141, 255,115.0141);\">0.5490</td><td style=\"background-color: rgb(251.9501, 255,251.9501);\">0.0120</td><td style=\"background-color: rgb(254.9945, 255,254.9945);\">0.0000</td></tr><tr><td><b>slots_true</b></td><td style=\"background-color: rgb(255,255,255);\">O</td><td style=\"background-color: rgb(255,255,255);\">B-Agent</td><td style=\"background-color: rgb(255,255,255);\">O</td><td style=\"background-color: rgb(255,255,255);\">B-Theme</td><td style=\"background-color: rgb(255,255,255);\">I-Theme</td><td style=\"background-color: rgb(255,255,255);\">I-Theme</td><td style=\"background-color: rgb(255,255,255);\">I-Theme</td><td style=\"background-color: rgb(255,255,255);\">I-Theme</td><td style=\"background-color: rgb(255,255,255);\">I-Theme</td></tr><tr><td><b>slots_pred</b></td><td style=\"background-color: rgb(255,255,255);\">O</td><td style=\"background-color: rgb(255,255,255);\">B-Agent</td><td style=\"background-color: rgb(255,255,255);\">O</td><td style=\"background-color: rgb(255,255,255);\">B-Theme</td><td style=\"background-color: rgb(255,255,255);\">I-Theme</td><td style=\"background-color: rgb(255,255,255);\">B-Theme</td><td style=\"background-color: rgb(255,255,255);\">I-Theme</td><td style=\"background-color: rgb(255,255,255);\">I-Theme</td><td style=\"background-color: rgb(255,255,255);\">I-Theme</td></tr></table>"
      ],
      "text/plain": [
       "<IPython.core.display.HTML object>"
      ]
     },
     "metadata": {},
     "output_type": "display_data"
    },
    {
     "name": "stdout",
     "output_type": "stream",
     "text": [
      "true: Releasing pred: Releasing\n"
     ]
    },
    {
     "data": {
      "text/html": [
       "<table><tr><td><b>words</b></td><td style=\"background-color: rgb(255,255,255);\">drop</td><td style=\"background-color: rgb(255,255,255);\">the</td><td style=\"background-color: rgb(255,255,255);\">vase</td></tr><tr><td><b>lexical_unit</b></td><td style=\"background-color: rgb(0.0000, 255,0.0000);\">1.0000</td><td style=\"background-color: rgb(255.0000, 255,255.0000);\">0.0000</td><td style=\"background-color: rgb(255.0000, 255,255.0000);\">0.0000</td></tr><tr><td><b>attention_intent</b></td><td style=\"background-color: rgb(254.9570, 255,254.9570);\">0.0002</td><td style=\"background-color: rgb(0.2485, 255,0.2485);\">0.9990</td><td style=\"background-color: rgb(254.9814, 255,254.9814);\">0.0001</td></tr><tr><td><b>slots_true</b></td><td style=\"background-color: rgb(255,255,255);\">O</td><td style=\"background-color: rgb(255,255,255);\">B-Theme</td><td style=\"background-color: rgb(255,255,255);\">I-Theme</td></tr><tr><td><b>slots_pred</b></td><td style=\"background-color: rgb(255,255,255);\">O</td><td style=\"background-color: rgb(255,255,255);\">B-Theme</td><td style=\"background-color: rgb(255,255,255);\">I-Theme</td></tr></table>"
      ],
      "text/plain": [
       "<IPython.core.display.HTML object>"
      ]
     },
     "metadata": {},
     "output_type": "display_data"
    },
    {
     "name": "stdout",
     "output_type": "stream",
     "text": [
      "true: Searching pred: Searching\n"
     ]
    },
    {
     "data": {
      "text/html": [
       "<table><tr><td><b>words</b></td><td style=\"background-color: rgb(255,255,255);\">find</td><td style=\"background-color: rgb(255,255,255);\">my</td><td style=\"background-color: rgb(255,255,255);\">tablet</td></tr><tr><td><b>lexical_unit</b></td><td style=\"background-color: rgb(0.0000, 255,0.0000);\">1.0000</td><td style=\"background-color: rgb(255.0000, 255,255.0000);\">0.0000</td><td style=\"background-color: rgb(255.0000, 255,255.0000);\">0.0000</td></tr><tr><td><b>attention_intent</b></td><td style=\"background-color: rgb(254.0728, 255,254.0728);\">0.0036</td><td style=\"background-color: rgb(17.7888, 255,17.7888);\">0.9302</td><td style=\"background-color: rgb(238.1392, 255,238.1392);\">0.0661</td></tr><tr><td><b>slots_true</b></td><td style=\"background-color: rgb(255,255,255);\">O</td><td style=\"background-color: rgb(255,255,255);\">B-Phenomenon</td><td style=\"background-color: rgb(255,255,255);\">I-Phenomenon</td></tr><tr><td><b>slots_pred</b></td><td style=\"background-color: rgb(255,255,255);\">O</td><td style=\"background-color: rgb(255,255,255);\">B-Phenomenon</td><td style=\"background-color: rgb(255,255,255);\">I-Phenomenon</td></tr></table>"
      ],
      "text/plain": [
       "<IPython.core.display.HTML object>"
      ]
     },
     "metadata": {},
     "output_type": "display_data"
    },
    {
     "name": "stdout",
     "output_type": "stream",
     "text": [
      "true: Motion pred: Motion\n"
     ]
    },
    {
     "data": {
      "text/html": [
       "<table><tr><td><b>words</b></td><td style=\"background-color: rgb(255,255,255);\">go</td><td style=\"background-color: rgb(255,255,255);\">in</td><td style=\"background-color: rgb(255,255,255);\">the</td><td style=\"background-color: rgb(255,255,255);\">bathroom</td></tr><tr><td><b>lexical_unit</b></td><td style=\"background-color: rgb(0.0000, 255,0.0000);\">1.0000</td><td style=\"background-color: rgb(255.0000, 255,255.0000);\">0.0000</td><td style=\"background-color: rgb(255.0000, 255,255.0000);\">0.0000</td><td style=\"background-color: rgb(255.0000, 255,255.0000);\">0.0000</td></tr><tr><td><b>attention_intent</b></td><td style=\"background-color: rgb(253.7059, 255,253.7059);\">0.0051</td><td style=\"background-color: rgb(197.1121, 255,197.1121);\">0.2270</td><td style=\"background-color: rgb(59.3697, 255,59.3697);\">0.7672</td><td style=\"background-color: rgb(254.8337, 255,254.8337);\">0.0007</td></tr><tr><td><b>slots_true</b></td><td style=\"background-color: rgb(255,255,255);\">O</td><td style=\"background-color: rgb(255,255,255);\">B-Goal</td><td style=\"background-color: rgb(255,255,255);\">I-Goal</td><td style=\"background-color: rgb(255,255,255);\">I-Goal</td></tr><tr><td><b>slots_pred</b></td><td style=\"background-color: rgb(255,255,255);\">O</td><td style=\"background-color: rgb(255,255,255);\">B-Goal</td><td style=\"background-color: rgb(255,255,255);\">I-Goal</td><td style=\"background-color: rgb(255,255,255);\">I-Goal</td></tr></table>"
      ],
      "text/plain": [
       "<IPython.core.display.HTML object>"
      ]
     },
     "metadata": {},
     "output_type": "display_data"
    },
    {
     "name": "stdout",
     "output_type": "stream",
     "text": [
      "true: Motion pred: Motion\n"
     ]
    },
    {
     "data": {
      "text/html": [
       "<table><tr><td><b>words</b></td><td style=\"background-color: rgb(255,255,255);\">go</td><td style=\"background-color: rgb(255,255,255);\">in</td><td style=\"background-color: rgb(255,255,255);\">the</td><td style=\"background-color: rgb(255,255,255);\">kitchen</td></tr><tr><td><b>lexical_unit</b></td><td style=\"background-color: rgb(0.0000, 255,0.0000);\">1.0000</td><td style=\"background-color: rgb(255.0000, 255,255.0000);\">0.0000</td><td style=\"background-color: rgb(255.0000, 255,255.0000);\">0.0000</td><td style=\"background-color: rgb(255.0000, 255,255.0000);\">0.0000</td></tr><tr><td><b>attention_intent</b></td><td style=\"background-color: rgb(253.9560, 255,253.9560);\">0.0041</td><td style=\"background-color: rgb(185.3341, 255,185.3341);\">0.2732</td><td style=\"background-color: rgb(70.7908, 255,70.7908);\">0.7224</td><td style=\"background-color: rgb(254.9420, 255,254.9420);\">0.0002</td></tr><tr><td><b>slots_true</b></td><td style=\"background-color: rgb(255,255,255);\">O</td><td style=\"background-color: rgb(255,255,255);\">B-Goal</td><td style=\"background-color: rgb(255,255,255);\">I-Goal</td><td style=\"background-color: rgb(255,255,255);\">I-Goal</td></tr><tr><td><b>slots_pred</b></td><td style=\"background-color: rgb(255,255,255);\">O</td><td style=\"background-color: rgb(255,255,255);\">B-Goal</td><td style=\"background-color: rgb(255,255,255);\">I-Goal</td><td style=\"background-color: rgb(255,255,255);\">I-Goal</td></tr></table>"
      ],
      "text/plain": [
       "<IPython.core.display.HTML object>"
      ]
     },
     "metadata": {},
     "output_type": "display_data"
    },
    {
     "name": "stdout",
     "output_type": "stream",
     "text": [
      "true: Motion pred: Motion\n"
     ]
    },
    {
     "data": {
      "text/html": [
       "<table><tr><td><b>words</b></td><td style=\"background-color: rgb(255,255,255);\">go</td><td style=\"background-color: rgb(255,255,255);\">next</td><td style=\"background-color: rgb(255,255,255);\">to</td><td style=\"background-color: rgb(255,255,255);\">the</td><td style=\"background-color: rgb(255,255,255);\">door</td></tr><tr><td><b>lexical_unit</b></td><td style=\"background-color: rgb(0.0000, 255,0.0000);\">1.0000</td><td style=\"background-color: rgb(255.0000, 255,255.0000);\">0.0000</td><td style=\"background-color: rgb(255.0000, 255,255.0000);\">0.0000</td><td style=\"background-color: rgb(255.0000, 255,255.0000);\">0.0000</td><td style=\"background-color: rgb(255.0000, 255,255.0000);\">0.0000</td></tr><tr><td><b>attention_intent</b></td><td style=\"background-color: rgb(254.9978, 255,254.9978);\">0.0000</td><td style=\"background-color: rgb(254.7730, 255,254.7730);\">0.0009</td><td style=\"background-color: rgb(19.6120, 255,19.6120);\">0.9231</td><td style=\"background-color: rgb(235.6291, 255,235.6291);\">0.0760</td><td style=\"background-color: rgb(254.9892, 255,254.9892);\">0.0000</td></tr><tr><td><b>slots_true</b></td><td style=\"background-color: rgb(255,255,255);\">O</td><td style=\"background-color: rgb(255,255,255);\">B-Goal</td><td style=\"background-color: rgb(255,255,255);\">I-Goal</td><td style=\"background-color: rgb(255,255,255);\">I-Goal</td><td style=\"background-color: rgb(255,255,255);\">I-Goal</td></tr><tr><td><b>slots_pred</b></td><td style=\"background-color: rgb(255,255,255);\">O</td><td style=\"background-color: rgb(255,255,255);\">B-Goal</td><td style=\"background-color: rgb(255,255,255);\">I-Goal</td><td style=\"background-color: rgb(255,255,255);\">I-Goal</td><td style=\"background-color: rgb(255,255,255);\">I-Goal</td></tr></table>"
      ],
      "text/plain": [
       "<IPython.core.display.HTML object>"
      ]
     },
     "metadata": {},
     "output_type": "display_data"
    },
    {
     "name": "stdout",
     "output_type": "stream",
     "text": [
      "true: Motion pred: Motion\n"
     ]
    },
    {
     "data": {
      "text/html": [
       "<table><tr><td><b>words</b></td><td style=\"background-color: rgb(255,255,255);\">go</td><td style=\"background-color: rgb(255,255,255);\">next</td><td style=\"background-color: rgb(255,255,255);\">to</td><td style=\"background-color: rgb(255,255,255);\">the</td><td style=\"background-color: rgb(255,255,255);\">tv</td><td style=\"background-color: rgb(255,255,255);\">set</td></tr><tr><td><b>lexical_unit</b></td><td style=\"background-color: rgb(0.0000, 255,0.0000);\">1.0000</td><td style=\"background-color: rgb(255.0000, 255,255.0000);\">0.0000</td><td style=\"background-color: rgb(255.0000, 255,255.0000);\">0.0000</td><td style=\"background-color: rgb(255.0000, 255,255.0000);\">0.0000</td><td style=\"background-color: rgb(255.0000, 255,255.0000);\">0.0000</td><td style=\"background-color: rgb(255.0000, 255,255.0000);\">0.0000</td></tr><tr><td><b>attention_intent</b></td><td style=\"background-color: rgb(254.9971, 255,254.9971);\">0.0000</td><td style=\"background-color: rgb(254.9334, 255,254.9334);\">0.0003</td><td style=\"background-color: rgb(6.0260, 255,6.0260);\">0.9764</td><td style=\"background-color: rgb(250.0509, 255,250.0509);\">0.0194</td><td style=\"background-color: rgb(253.9955, 255,253.9955);\">0.0039</td><td style=\"background-color: rgb(254.9981, 255,254.9981);\">0.0000</td></tr><tr><td><b>slots_true</b></td><td style=\"background-color: rgb(255,255,255);\">O</td><td style=\"background-color: rgb(255,255,255);\">B-Goal</td><td style=\"background-color: rgb(255,255,255);\">I-Goal</td><td style=\"background-color: rgb(255,255,255);\">I-Goal</td><td style=\"background-color: rgb(255,255,255);\">I-Goal</td><td style=\"background-color: rgb(255,255,255);\">I-Goal</td></tr><tr><td><b>slots_pred</b></td><td style=\"background-color: rgb(255,255,255);\">O</td><td style=\"background-color: rgb(255,255,255);\">B-Goal</td><td style=\"background-color: rgb(255,255,255);\">B-Goal</td><td style=\"background-color: rgb(255,255,255);\">I-Goal</td><td style=\"background-color: rgb(255,255,255);\">I-Goal</td><td style=\"background-color: rgb(255,255,255);\">I-Goal</td></tr></table>"
      ],
      "text/plain": [
       "<IPython.core.display.HTML object>"
      ]
     },
     "metadata": {},
     "output_type": "display_data"
    },
    {
     "name": "stdout",
     "output_type": "stream",
     "text": [
      "true: Motion pred: Motion\n"
     ]
    },
    {
     "data": {
      "text/html": [
       "<table><tr><td><b>words</b></td><td style=\"background-color: rgb(255,255,255);\">go</td><td style=\"background-color: rgb(255,255,255);\">to</td><td style=\"background-color: rgb(255,255,255);\">the</td><td style=\"background-color: rgb(255,255,255);\">coffee</td><td style=\"background-color: rgb(255,255,255);\">machine</td></tr><tr><td><b>lexical_unit</b></td><td style=\"background-color: rgb(0.0000, 255,0.0000);\">1.0000</td><td style=\"background-color: rgb(255.0000, 255,255.0000);\">0.0000</td><td style=\"background-color: rgb(255.0000, 255,255.0000);\">0.0000</td><td style=\"background-color: rgb(255.0000, 255,255.0000);\">0.0000</td><td style=\"background-color: rgb(255.0000, 255,255.0000);\">0.0000</td></tr><tr><td><b>attention_intent</b></td><td style=\"background-color: rgb(254.9896, 255,254.9896);\">0.0000</td><td style=\"background-color: rgb(39.1571, 255,39.1571);\">0.8464</td><td style=\"background-color: rgb(216.8689, 255,216.8689);\">0.1495</td><td style=\"background-color: rgb(253.9866, 255,253.9866);\">0.0040</td><td style=\"background-color: rgb(254.9985, 255,254.9985);\">0.0000</td></tr><tr><td><b>slots_true</b></td><td style=\"background-color: rgb(255,255,255);\">O</td><td style=\"background-color: rgb(255,255,255);\">B-Goal</td><td style=\"background-color: rgb(255,255,255);\">I-Goal</td><td style=\"background-color: rgb(255,255,255);\">I-Goal</td><td style=\"background-color: rgb(255,255,255);\">I-Goal</td></tr><tr><td><b>slots_pred</b></td><td style=\"background-color: rgb(255,255,255);\">O</td><td style=\"background-color: rgb(255,255,255);\">B-Goal</td><td style=\"background-color: rgb(255,255,255);\">I-Goal</td><td style=\"background-color: rgb(255,255,255);\">I-Goal</td><td style=\"background-color: rgb(255,255,255);\">I-Goal</td></tr></table>"
      ],
      "text/plain": [
       "<IPython.core.display.HTML object>"
      ]
     },
     "metadata": {},
     "output_type": "display_data"
    },
    {
     "name": "stdout",
     "output_type": "stream",
     "text": [
      "true: Bringing pred: Bringing\n"
     ]
    },
    {
     "data": {
      "text/html": [
       "<table><tr><td><b>words</b></td><td style=\"background-color: rgb(255,255,255);\">and</td><td style=\"background-color: rgb(255,255,255);\">bring</td><td style=\"background-color: rgb(255,255,255);\">it</td><td style=\"background-color: rgb(255,255,255);\">here</td></tr><tr><td><b>lexical_unit</b></td><td style=\"background-color: rgb(255.0000, 255,255.0000);\">0.0000</td><td style=\"background-color: rgb(0.0000, 255,0.0000);\">1.0000</td><td style=\"background-color: rgb(255.0000, 255,255.0000);\">0.0000</td><td style=\"background-color: rgb(255.0000, 255,255.0000);\">0.0000</td></tr><tr><td><b>attention_intent</b></td><td style=\"background-color: rgb(254.9999, 255,254.9999);\">0.0000</td><td style=\"background-color: rgb(251.4665, 255,251.4665);\">0.0139</td><td style=\"background-color: rgb(73.4248, 255,73.4248);\">0.7121</td><td style=\"background-color: rgb(185.1123, 255,185.1123);\">0.2741</td></tr><tr><td><b>slots_true</b></td><td style=\"background-color: rgb(255,255,255);\">O</td><td style=\"background-color: rgb(255,255,255);\">O</td><td style=\"background-color: rgb(255,255,255);\">B-Theme</td><td style=\"background-color: rgb(255,255,255);\">B-Goal</td></tr><tr><td><b>slots_pred</b></td><td style=\"background-color: rgb(255,255,255);\">O</td><td style=\"background-color: rgb(255,255,255);\">O</td><td style=\"background-color: rgb(255,255,255);\">B-Theme</td><td style=\"background-color: rgb(255,255,255);\">B-Goal</td></tr></table>"
      ],
      "text/plain": [
       "<IPython.core.display.HTML object>"
      ]
     },
     "metadata": {},
     "output_type": "display_data"
    },
    {
     "name": "stdout",
     "output_type": "stream",
     "text": [
      "true: Searching pred: Searching\n"
     ]
    },
    {
     "data": {
      "text/html": [
       "<table><tr><td><b>words</b></td><td style=\"background-color: rgb(255,255,255);\">look</td><td style=\"background-color: rgb(255,255,255);\">for</td><td style=\"background-color: rgb(255,255,255);\">my</td><td style=\"background-color: rgb(255,255,255);\">mobile</td><td style=\"background-color: rgb(255,255,255);\">phone</td></tr><tr><td><b>lexical_unit</b></td><td style=\"background-color: rgb(0.0000, 255,0.0000);\">1.0000</td><td style=\"background-color: rgb(255.0000, 255,255.0000);\">0.0000</td><td style=\"background-color: rgb(255.0000, 255,255.0000);\">0.0000</td><td style=\"background-color: rgb(255.0000, 255,255.0000);\">0.0000</td><td style=\"background-color: rgb(255.0000, 255,255.0000);\">0.0000</td></tr><tr><td><b>attention_intent</b></td><td style=\"background-color: rgb(254.9926, 255,254.9926);\">0.0000</td><td style=\"background-color: rgb(227.8549, 255,227.8549);\">0.1065</td><td style=\"background-color: rgb(31.8323, 255,31.8323);\">0.8752</td><td style=\"background-color: rgb(250.4054, 255,250.4054);\">0.0180</td><td style=\"background-color: rgb(254.9176, 255,254.9176);\">0.0003</td></tr><tr><td><b>slots_true</b></td><td style=\"background-color: rgb(255,255,255);\">O</td><td style=\"background-color: rgb(255,255,255);\">B-Phenomenon</td><td style=\"background-color: rgb(255,255,255);\">I-Phenomenon</td><td style=\"background-color: rgb(255,255,255);\">I-Phenomenon</td><td style=\"background-color: rgb(255,255,255);\">I-Phenomenon</td></tr><tr><td><b>slots_pred</b></td><td style=\"background-color: rgb(255,255,255);\">O</td><td style=\"background-color: rgb(255,255,255);\">B-Phenomenon</td><td style=\"background-color: rgb(255,255,255);\">I-Phenomenon</td><td style=\"background-color: rgb(255,255,255);\">I-Phenomenon</td><td style=\"background-color: rgb(255,255,255);\">I-Phenomenon</td></tr></table>"
      ],
      "text/plain": [
       "<IPython.core.display.HTML object>"
      ]
     },
     "metadata": {},
     "output_type": "display_data"
    },
    {
     "name": "stdout",
     "output_type": "stream",
     "text": [
      "true: Motion pred: Motion\n"
     ]
    },
    {
     "data": {
      "text/html": [
       "<table><tr><td><b>words</b></td><td style=\"background-color: rgb(255,255,255);\">move</td><td style=\"background-color: rgb(255,255,255);\">away</td><td style=\"background-color: rgb(255,255,255);\">from</td><td style=\"background-color: rgb(255,255,255);\">the</td><td style=\"background-color: rgb(255,255,255);\">oven</td></tr><tr><td><b>lexical_unit</b></td><td style=\"background-color: rgb(0.0000, 255,0.0000);\">1.0000</td><td style=\"background-color: rgb(255.0000, 255,255.0000);\">0.0000</td><td style=\"background-color: rgb(255.0000, 255,255.0000);\">0.0000</td><td style=\"background-color: rgb(255.0000, 255,255.0000);\">0.0000</td><td style=\"background-color: rgb(255.0000, 255,255.0000);\">0.0000</td></tr><tr><td><b>attention_intent</b></td><td style=\"background-color: rgb(254.9222, 255,254.9222);\">0.0003</td><td style=\"background-color: rgb(230.1072, 255,230.1072);\">0.0976</td><td style=\"background-color: rgb(57.0438, 255,57.0438);\">0.7763</td><td style=\"background-color: rgb(222.9324, 255,222.9324);\">0.1258</td><td style=\"background-color: rgb(254.9989, 255,254.9989);\">0.0000</td></tr><tr><td><b>slots_true</b></td><td style=\"background-color: rgb(255,255,255);\">O</td><td style=\"background-color: rgb(255,255,255);\">B-Source</td><td style=\"background-color: rgb(255,255,255);\">I-Source</td><td style=\"background-color: rgb(255,255,255);\">I-Source</td><td style=\"background-color: rgb(255,255,255);\">I-Source</td></tr><tr><td><b>slots_pred</b></td><td style=\"background-color: rgb(255,255,255);\">O</td><td style=\"background-color: rgb(255,255,255);\">B-Goal</td><td style=\"background-color: rgb(255,255,255);\">B-Path</td><td style=\"background-color: rgb(255,255,255);\">I-Path</td><td style=\"background-color: rgb(255,255,255);\">I-Path</td></tr></table>"
      ],
      "text/plain": [
       "<IPython.core.display.HTML object>"
      ]
     },
     "metadata": {},
     "output_type": "display_data"
    },
    {
     "name": "stdout",
     "output_type": "stream",
     "text": [
      "true: Placing pred: Placing\n"
     ]
    },
    {
     "data": {
      "text/html": [
       "<table><tr><td><b>words</b></td><td style=\"background-color: rgb(255,255,255);\">put</td><td style=\"background-color: rgb(255,255,255);\">the</td><td style=\"background-color: rgb(255,255,255);\">mobile</td><td style=\"background-color: rgb(255,255,255);\">phone</td><td style=\"background-color: rgb(255,255,255);\">in</td><td style=\"background-color: rgb(255,255,255);\">the</td><td style=\"background-color: rgb(255,255,255);\">nightstand</td></tr><tr><td><b>lexical_unit</b></td><td style=\"background-color: rgb(0.0000, 255,0.0000);\">1.0000</td><td style=\"background-color: rgb(255.0000, 255,255.0000);\">0.0000</td><td style=\"background-color: rgb(255.0000, 255,255.0000);\">0.0000</td><td style=\"background-color: rgb(255.0000, 255,255.0000);\">0.0000</td><td style=\"background-color: rgb(255.0000, 255,255.0000);\">0.0000</td><td style=\"background-color: rgb(255.0000, 255,255.0000);\">0.0000</td><td style=\"background-color: rgb(255.0000, 255,255.0000);\">0.0000</td></tr><tr><td><b>attention_intent</b></td><td style=\"background-color: rgb(254.9987, 255,254.9987);\">0.0000</td><td style=\"background-color: rgb(254.9574, 255,254.9574);\">0.0002</td><td style=\"background-color: rgb(254.9401, 255,254.9401);\">0.0002</td><td style=\"background-color: rgb(254.9217, 255,254.9217);\">0.0003</td><td style=\"background-color: rgb(252.6738, 255,252.6738);\">0.0091</td><td style=\"background-color: rgb(76.7002, 255,76.7002);\">0.6992</td><td style=\"background-color: rgb(180.8088, 255,180.8088);\">0.2909</td></tr><tr><td><b>slots_true</b></td><td style=\"background-color: rgb(255,255,255);\">O</td><td style=\"background-color: rgb(255,255,255);\">B-Theme</td><td style=\"background-color: rgb(255,255,255);\">I-Theme</td><td style=\"background-color: rgb(255,255,255);\">I-Theme</td><td style=\"background-color: rgb(255,255,255);\">B-Goal</td><td style=\"background-color: rgb(255,255,255);\">I-Goal</td><td style=\"background-color: rgb(255,255,255);\">I-Goal</td></tr><tr><td><b>slots_pred</b></td><td style=\"background-color: rgb(255,255,255);\">O</td><td style=\"background-color: rgb(255,255,255);\">B-Theme</td><td style=\"background-color: rgb(255,255,255);\">I-Theme</td><td style=\"background-color: rgb(255,255,255);\">I-Theme</td><td style=\"background-color: rgb(255,255,255);\">B-Goal</td><td style=\"background-color: rgb(255,255,255);\">I-Goal</td><td style=\"background-color: rgb(255,255,255);\">I-Goal</td></tr></table>"
      ],
      "text/plain": [
       "<IPython.core.display.HTML object>"
      ]
     },
     "metadata": {},
     "output_type": "display_data"
    },
    {
     "name": "stdout",
     "output_type": "stream",
     "text": [
      "true: Placing pred: Placing\n"
     ]
    },
    {
     "data": {
      "text/html": [
       "<table><tr><td><b>words</b></td><td style=\"background-color: rgb(255,255,255);\">put</td><td style=\"background-color: rgb(255,255,255);\">this</td><td style=\"background-color: rgb(255,255,255);\">pan</td><td style=\"background-color: rgb(255,255,255);\">on</td><td style=\"background-color: rgb(255,255,255);\">the</td><td style=\"background-color: rgb(255,255,255);\">stove</td></tr><tr><td><b>lexical_unit</b></td><td style=\"background-color: rgb(0.0000, 255,0.0000);\">1.0000</td><td style=\"background-color: rgb(255.0000, 255,255.0000);\">0.0000</td><td style=\"background-color: rgb(255.0000, 255,255.0000);\">0.0000</td><td style=\"background-color: rgb(255.0000, 255,255.0000);\">0.0000</td><td style=\"background-color: rgb(255.0000, 255,255.0000);\">0.0000</td><td style=\"background-color: rgb(255.0000, 255,255.0000);\">0.0000</td></tr><tr><td><b>attention_intent</b></td><td style=\"background-color: rgb(254.9963, 255,254.9963);\">0.0000</td><td style=\"background-color: rgb(254.9872, 255,254.9872);\">0.0001</td><td style=\"background-color: rgb(254.9720, 255,254.9720);\">0.0001</td><td style=\"background-color: rgb(241.9684, 255,241.9684);\">0.0511</td><td style=\"background-color: rgb(123.6850, 255,123.6850);\">0.5150</td><td style=\"background-color: rgb(144.3946, 255,144.3946);\">0.4337</td></tr><tr><td><b>slots_true</b></td><td style=\"background-color: rgb(255,255,255);\">O</td><td style=\"background-color: rgb(255,255,255);\">B-Theme</td><td style=\"background-color: rgb(255,255,255);\">I-Theme</td><td style=\"background-color: rgb(255,255,255);\">B-Goal</td><td style=\"background-color: rgb(255,255,255);\">I-Goal</td><td style=\"background-color: rgb(255,255,255);\">I-Goal</td></tr><tr><td><b>slots_pred</b></td><td style=\"background-color: rgb(255,255,255);\">O</td><td style=\"background-color: rgb(255,255,255);\">B-Theme</td><td style=\"background-color: rgb(255,255,255);\">I-Theme</td><td style=\"background-color: rgb(255,255,255);\">B-Goal</td><td style=\"background-color: rgb(255,255,255);\">I-Goal</td><td style=\"background-color: rgb(255,255,255);\">I-Goal</td></tr></table>"
      ],
      "text/plain": [
       "<IPython.core.display.HTML object>"
      ]
     },
     "metadata": {},
     "output_type": "display_data"
    },
    {
     "name": "stdout",
     "output_type": "stream",
     "text": [
      "true: Being_located pred: Being_located\n"
     ]
    },
    {
     "data": {
      "text/html": [
       "<table><tr><td><b>words</b></td><td style=\"background-color: rgb(255,255,255);\">it</td><td style=\"background-color: rgb(255,255,255);\">should</td><td style=\"background-color: rgb(255,255,255);\">be</td><td style=\"background-color: rgb(255,255,255);\">on</td><td style=\"background-color: rgb(255,255,255);\">the</td><td style=\"background-color: rgb(255,255,255);\">nightstand</td></tr><tr><td><b>lexical_unit</b></td><td style=\"background-color: rgb(255.0000, 255,255.0000);\">0.0000</td><td style=\"background-color: rgb(255.0000, 255,255.0000);\">0.0000</td><td style=\"background-color: rgb(0.0000, 255,0.0000);\">1.0000</td><td style=\"background-color: rgb(255.0000, 255,255.0000);\">0.0000</td><td style=\"background-color: rgb(255.0000, 255,255.0000);\">0.0000</td><td style=\"background-color: rgb(255.0000, 255,255.0000);\">0.0000</td></tr><tr><td><b>attention_intent</b></td><td style=\"background-color: rgb(255.0000, 255,255.0000);\">0.0000</td><td style=\"background-color: rgb(255.0000, 255,255.0000);\">0.0000</td><td style=\"background-color: rgb(254.9998, 255,254.9998);\">0.0000</td><td style=\"background-color: rgb(247.4496, 255,247.4496);\">0.0296</td><td style=\"background-color: rgb(9.4595, 255,9.4595);\">0.9629</td><td style=\"background-color: rgb(253.1013, 255,253.1013);\">0.0074</td></tr><tr><td><b>slots_true</b></td><td style=\"background-color: rgb(255,255,255);\">B-Theme</td><td style=\"background-color: rgb(255,255,255);\">O</td><td style=\"background-color: rgb(255,255,255);\">O</td><td style=\"background-color: rgb(255,255,255);\">B-Location</td><td style=\"background-color: rgb(255,255,255);\">I-Location</td><td style=\"background-color: rgb(255,255,255);\">I-Location</td></tr><tr><td><b>slots_pred</b></td><td style=\"background-color: rgb(255,255,255);\">B-Theme</td><td style=\"background-color: rgb(255,255,255);\">O</td><td style=\"background-color: rgb(255,255,255);\">O</td><td style=\"background-color: rgb(255,255,255);\">B-Location</td><td style=\"background-color: rgb(255,255,255);\">I-Location</td><td style=\"background-color: rgb(255,255,255);\">I-Location</td></tr></table>"
      ],
      "text/plain": [
       "<IPython.core.display.HTML object>"
      ]
     },
     "metadata": {},
     "output_type": "display_data"
    },
    {
     "name": "stdout",
     "output_type": "stream",
     "text": [
      "true: Searching pred: Searching\n"
     ]
    },
    {
     "data": {
      "text/html": [
       "<table><tr><td><b>words</b></td><td style=\"background-color: rgb(255,255,255);\">robot</td><td style=\"background-color: rgb(255,255,255);\">please</td><td style=\"background-color: rgb(255,255,255);\">search</td><td style=\"background-color: rgb(255,255,255);\">for</td><td style=\"background-color: rgb(255,255,255);\">the</td><td style=\"background-color: rgb(255,255,255);\">horn</td><td style=\"background-color: rgb(255,255,255);\">glasses</td></tr><tr><td><b>lexical_unit</b></td><td style=\"background-color: rgb(255.0000, 255,255.0000);\">0.0000</td><td style=\"background-color: rgb(255.0000, 255,255.0000);\">0.0000</td><td style=\"background-color: rgb(0.0000, 255,0.0000);\">1.0000</td><td style=\"background-color: rgb(255.0000, 255,255.0000);\">0.0000</td><td style=\"background-color: rgb(255.0000, 255,255.0000);\">0.0000</td><td style=\"background-color: rgb(255.0000, 255,255.0000);\">0.0000</td><td style=\"background-color: rgb(255.0000, 255,255.0000);\">0.0000</td></tr><tr><td><b>attention_intent</b></td><td style=\"background-color: rgb(255.0000, 255,255.0000);\">0.0000</td><td style=\"background-color: rgb(255.0000, 255,255.0000);\">0.0000</td><td style=\"background-color: rgb(254.9974, 255,254.9974);\">0.0000</td><td style=\"background-color: rgb(248.4526, 255,248.4526);\">0.0257</td><td style=\"background-color: rgb(97.5554, 255,97.5554);\">0.6174</td><td style=\"background-color: rgb(171.6531, 255,171.6531);\">0.3269</td><td style=\"background-color: rgb(247.3428, 255,247.3428);\">0.0300</td></tr><tr><td><b>slots_true</b></td><td style=\"background-color: rgb(255,255,255);\">O</td><td style=\"background-color: rgb(255,255,255);\">O</td><td style=\"background-color: rgb(255,255,255);\">O</td><td style=\"background-color: rgb(255,255,255);\">B-Phenomenon</td><td style=\"background-color: rgb(255,255,255);\">I-Phenomenon</td><td style=\"background-color: rgb(255,255,255);\">I-Phenomenon</td><td style=\"background-color: rgb(255,255,255);\">I-Phenomenon</td></tr><tr><td><b>slots_pred</b></td><td style=\"background-color: rgb(255,255,255);\">O</td><td style=\"background-color: rgb(255,255,255);\">O</td><td style=\"background-color: rgb(255,255,255);\">O</td><td style=\"background-color: rgb(255,255,255);\">B-Phenomenon</td><td style=\"background-color: rgb(255,255,255);\">I-Phenomenon</td><td style=\"background-color: rgb(255,255,255);\">I-Phenomenon</td><td style=\"background-color: rgb(255,255,255);\">I-Phenomenon</td></tr></table>"
      ],
      "text/plain": [
       "<IPython.core.display.HTML object>"
      ]
     },
     "metadata": {},
     "output_type": "display_data"
    },
    {
     "name": "stdout",
     "output_type": "stream",
     "text": [
      "true: Searching pred: Searching\n"
     ]
    },
    {
     "data": {
      "text/html": [
       "<table><tr><td><b>words</b></td><td style=\"background-color: rgb(255,255,255);\">and</td><td style=\"background-color: rgb(255,255,255);\">search</td><td style=\"background-color: rgb(255,255,255);\">for</td><td style=\"background-color: rgb(255,255,255);\">my</td><td style=\"background-color: rgb(255,255,255);\">hat</td></tr><tr><td><b>lexical_unit</b></td><td style=\"background-color: rgb(255.0000, 255,255.0000);\">0.0000</td><td style=\"background-color: rgb(0.0000, 255,0.0000);\">1.0000</td><td style=\"background-color: rgb(255.0000, 255,255.0000);\">0.0000</td><td style=\"background-color: rgb(255.0000, 255,255.0000);\">0.0000</td><td style=\"background-color: rgb(255.0000, 255,255.0000);\">0.0000</td></tr><tr><td><b>attention_intent</b></td><td style=\"background-color: rgb(255.0000, 255,255.0000);\">0.0000</td><td style=\"background-color: rgb(254.9977, 255,254.9977);\">0.0000</td><td style=\"background-color: rgb(217.9470, 255,217.9470);\">0.1453</td><td style=\"background-color: rgb(39.4079, 255,39.4079);\">0.8455</td><td style=\"background-color: rgb(252.6479, 255,252.6479);\">0.0092</td></tr><tr><td><b>slots_true</b></td><td style=\"background-color: rgb(255,255,255);\">O</td><td style=\"background-color: rgb(255,255,255);\">O</td><td style=\"background-color: rgb(255,255,255);\">B-Phenomenon</td><td style=\"background-color: rgb(255,255,255);\">I-Phenomenon</td><td style=\"background-color: rgb(255,255,255);\">I-Phenomenon</td></tr><tr><td><b>slots_pred</b></td><td style=\"background-color: rgb(255,255,255);\">O</td><td style=\"background-color: rgb(255,255,255);\">O</td><td style=\"background-color: rgb(255,255,255);\">B-Phenomenon</td><td style=\"background-color: rgb(255,255,255);\">I-Phenomenon</td><td style=\"background-color: rgb(255,255,255);\">I-Phenomenon</td></tr></table>"
      ],
      "text/plain": [
       "<IPython.core.display.HTML object>"
      ]
     },
     "metadata": {},
     "output_type": "display_data"
    },
    {
     "name": "stdout",
     "output_type": "stream",
     "text": [
      "true: Searching pred: Searching\n"
     ]
    },
    {
     "data": {
      "text/html": [
       "<table><tr><td><b>words</b></td><td style=\"background-color: rgb(255,255,255);\">search</td><td style=\"background-color: rgb(255,255,255);\">for</td><td style=\"background-color: rgb(255,255,255);\">a</td><td style=\"background-color: rgb(255,255,255);\">blue</td><td style=\"background-color: rgb(255,255,255);\">plate</td></tr><tr><td><b>lexical_unit</b></td><td style=\"background-color: rgb(0.0000, 255,0.0000);\">1.0000</td><td style=\"background-color: rgb(255.0000, 255,255.0000);\">0.0000</td><td style=\"background-color: rgb(255.0000, 255,255.0000);\">0.0000</td><td style=\"background-color: rgb(255.0000, 255,255.0000);\">0.0000</td><td style=\"background-color: rgb(255.0000, 255,255.0000);\">0.0000</td></tr><tr><td><b>attention_intent</b></td><td style=\"background-color: rgb(254.9989, 255,254.9989);\">0.0000</td><td style=\"background-color: rgb(248.5301, 255,248.5301);\">0.0254</td><td style=\"background-color: rgb(82.4462, 255,82.4462);\">0.6767</td><td style=\"background-color: rgb(179.6669, 255,179.6669);\">0.2954</td><td style=\"background-color: rgb(254.3586, 255,254.3586);\">0.0025</td></tr><tr><td><b>slots_true</b></td><td style=\"background-color: rgb(255,255,255);\">O</td><td style=\"background-color: rgb(255,255,255);\">B-Phenomenon</td><td style=\"background-color: rgb(255,255,255);\">I-Phenomenon</td><td style=\"background-color: rgb(255,255,255);\">I-Phenomenon</td><td style=\"background-color: rgb(255,255,255);\">I-Phenomenon</td></tr><tr><td><b>slots_pred</b></td><td style=\"background-color: rgb(255,255,255);\">O</td><td style=\"background-color: rgb(255,255,255);\">B-Phenomenon</td><td style=\"background-color: rgb(255,255,255);\">I-Phenomenon</td><td style=\"background-color: rgb(255,255,255);\">I-Phenomenon</td><td style=\"background-color: rgb(255,255,255);\">I-Phenomenon</td></tr></table>"
      ],
      "text/plain": [
       "<IPython.core.display.HTML object>"
      ]
     },
     "metadata": {},
     "output_type": "display_data"
    },
    {
     "name": "stdout",
     "output_type": "stream",
     "text": [
      "true: Searching pred: Searching\n"
     ]
    },
    {
     "data": {
      "text/html": [
       "<table><tr><td><b>words</b></td><td style=\"background-color: rgb(255,255,255);\">search</td><td style=\"background-color: rgb(255,255,255);\">for</td><td style=\"background-color: rgb(255,255,255);\">the</td><td style=\"background-color: rgb(255,255,255);\">scissors</td><td style=\"background-color: rgb(255,255,255);\">in</td><td style=\"background-color: rgb(255,255,255);\">the</td><td style=\"background-color: rgb(255,255,255);\">red</td><td style=\"background-color: rgb(255,255,255);\">drawer</td></tr><tr><td><b>lexical_unit</b></td><td style=\"background-color: rgb(0.0000, 255,0.0000);\">1.0000</td><td style=\"background-color: rgb(255.0000, 255,255.0000);\">0.0000</td><td style=\"background-color: rgb(255.0000, 255,255.0000);\">0.0000</td><td style=\"background-color: rgb(255.0000, 255,255.0000);\">0.0000</td><td style=\"background-color: rgb(255.0000, 255,255.0000);\">0.0000</td><td style=\"background-color: rgb(255.0000, 255,255.0000);\">0.0000</td><td style=\"background-color: rgb(255.0000, 255,255.0000);\">0.0000</td><td style=\"background-color: rgb(255.0000, 255,255.0000);\">0.0000</td></tr><tr><td><b>attention_intent</b></td><td style=\"background-color: rgb(254.9986, 255,254.9986);\">0.0000</td><td style=\"background-color: rgb(252.9379, 255,252.9379);\">0.0081</td><td style=\"background-color: rgb(242.9642, 255,242.9642);\">0.0472</td><td style=\"background-color: rgb(254.9913, 255,254.9913);\">0.0000</td><td style=\"background-color: rgb(254.5987, 255,254.5987);\">0.0016</td><td style=\"background-color: rgb(93.3683, 255,93.3683);\">0.6338</td><td style=\"background-color: rgb(176.4858, 255,176.4858);\">0.3079</td><td style=\"background-color: rgb(254.6568, 255,254.6568);\">0.0013</td></tr><tr><td><b>slots_true</b></td><td style=\"background-color: rgb(255,255,255);\">O</td><td style=\"background-color: rgb(255,255,255);\">B-Phenomenon</td><td style=\"background-color: rgb(255,255,255);\">I-Phenomenon</td><td style=\"background-color: rgb(255,255,255);\">I-Phenomenon</td><td style=\"background-color: rgb(255,255,255);\">B-Ground</td><td style=\"background-color: rgb(255,255,255);\">I-Ground</td><td style=\"background-color: rgb(255,255,255);\">I-Ground</td><td style=\"background-color: rgb(255,255,255);\">I-Ground</td></tr><tr><td><b>slots_pred</b></td><td style=\"background-color: rgb(255,255,255);\">O</td><td style=\"background-color: rgb(255,255,255);\">B-Phenomenon</td><td style=\"background-color: rgb(255,255,255);\">I-Phenomenon</td><td style=\"background-color: rgb(255,255,255);\">I-Phenomenon</td><td style=\"background-color: rgb(255,255,255);\">B-Ground</td><td style=\"background-color: rgb(255,255,255);\">I-Ground</td><td style=\"background-color: rgb(255,255,255);\">I-Ground</td><td style=\"background-color: rgb(255,255,255);\">I-Ground</td></tr></table>"
      ],
      "text/plain": [
       "<IPython.core.display.HTML object>"
      ]
     },
     "metadata": {},
     "output_type": "display_data"
    },
    {
     "name": "stdout",
     "output_type": "stream",
     "text": [
      "true: Searching pred: Searching\n"
     ]
    },
    {
     "data": {
      "text/html": [
       "<table><tr><td><b>words</b></td><td style=\"background-color: rgb(255,255,255);\">search</td><td style=\"background-color: rgb(255,255,255);\">the</td><td style=\"background-color: rgb(255,255,255);\">living</td><td style=\"background-color: rgb(255,255,255);\">room</td><td style=\"background-color: rgb(255,255,255);\">for</td><td style=\"background-color: rgb(255,255,255);\">the</td><td style=\"background-color: rgb(255,255,255);\">remote</td><td style=\"background-color: rgb(255,255,255);\">control</td></tr><tr><td><b>lexical_unit</b></td><td style=\"background-color: rgb(0.0000, 255,0.0000);\">1.0000</td><td style=\"background-color: rgb(255.0000, 255,255.0000);\">0.0000</td><td style=\"background-color: rgb(255.0000, 255,255.0000);\">0.0000</td><td style=\"background-color: rgb(255.0000, 255,255.0000);\">0.0000</td><td style=\"background-color: rgb(255.0000, 255,255.0000);\">0.0000</td><td style=\"background-color: rgb(255.0000, 255,255.0000);\">0.0000</td><td style=\"background-color: rgb(255.0000, 255,255.0000);\">0.0000</td><td style=\"background-color: rgb(255.0000, 255,255.0000);\">0.0000</td></tr><tr><td><b>attention_intent</b></td><td style=\"background-color: rgb(254.9973, 255,254.9973);\">0.0000</td><td style=\"background-color: rgb(243.1543, 255,243.1543);\">0.0465</td><td style=\"background-color: rgb(254.8578, 255,254.8578);\">0.0006</td><td style=\"background-color: rgb(254.9598, 255,254.9598);\">0.0002</td><td style=\"background-color: rgb(227.5021, 255,227.5021);\">0.1078</td><td style=\"background-color: rgb(117.2172, 255,117.2172);\">0.5403</td><td style=\"background-color: rgb(178.0952, 255,178.0952);\">0.3016</td><td style=\"background-color: rgb(254.2169, 255,254.2169);\">0.0031</td></tr><tr><td><b>slots_true</b></td><td style=\"background-color: rgb(255,255,255);\">O</td><td style=\"background-color: rgb(255,255,255);\">B-Ground</td><td style=\"background-color: rgb(255,255,255);\">I-Ground</td><td style=\"background-color: rgb(255,255,255);\">I-Ground</td><td style=\"background-color: rgb(255,255,255);\">B-Phenomenon</td><td style=\"background-color: rgb(255,255,255);\">I-Phenomenon</td><td style=\"background-color: rgb(255,255,255);\">I-Phenomenon</td><td style=\"background-color: rgb(255,255,255);\">I-Phenomenon</td></tr><tr><td><b>slots_pred</b></td><td style=\"background-color: rgb(255,255,255);\">O</td><td style=\"background-color: rgb(255,255,255);\">B-Ground</td><td style=\"background-color: rgb(255,255,255);\">I-Ground</td><td style=\"background-color: rgb(255,255,255);\">I-Ground</td><td style=\"background-color: rgb(255,255,255);\">B-Phenomenon</td><td style=\"background-color: rgb(255,255,255);\">I-Phenomenon</td><td style=\"background-color: rgb(255,255,255);\">I-Phenomenon</td><td style=\"background-color: rgb(255,255,255);\">I-Phenomenon</td></tr></table>"
      ],
      "text/plain": [
       "<IPython.core.display.HTML object>"
      ]
     },
     "metadata": {},
     "output_type": "display_data"
    },
    {
     "name": "stdout",
     "output_type": "stream",
     "text": [
      "true: Taking pred: Taking\n"
     ]
    },
    {
     "data": {
      "text/html": [
       "<table><tr><td><b>words</b></td><td style=\"background-color: rgb(255,255,255);\">take</td><td style=\"background-color: rgb(255,255,255);\">the</td><td style=\"background-color: rgb(255,255,255);\">bottle</td><td style=\"background-color: rgb(255,255,255);\">of</td><td style=\"background-color: rgb(255,255,255);\">water</td><td style=\"background-color: rgb(255,255,255);\">on</td><td style=\"background-color: rgb(255,255,255);\">the</td><td style=\"background-color: rgb(255,255,255);\">table</td></tr><tr><td><b>lexical_unit</b></td><td style=\"background-color: rgb(0.0000, 255,0.0000);\">1.0000</td><td style=\"background-color: rgb(255.0000, 255,255.0000);\">0.0000</td><td style=\"background-color: rgb(255.0000, 255,255.0000);\">0.0000</td><td style=\"background-color: rgb(255.0000, 255,255.0000);\">0.0000</td><td style=\"background-color: rgb(255.0000, 255,255.0000);\">0.0000</td><td style=\"background-color: rgb(255.0000, 255,255.0000);\">0.0000</td><td style=\"background-color: rgb(255.0000, 255,255.0000);\">0.0000</td><td style=\"background-color: rgb(255.0000, 255,255.0000);\">0.0000</td></tr><tr><td><b>attention_intent</b></td><td style=\"background-color: rgb(254.0922, 255,254.0922);\">0.0036</td><td style=\"background-color: rgb(27.0835, 255,27.0835);\">0.8938</td><td style=\"background-color: rgb(237.6360, 255,237.6360);\">0.0681</td><td style=\"background-color: rgb(249.3392, 255,249.3392);\">0.0222</td><td style=\"background-color: rgb(254.7796, 255,254.7796);\">0.0009</td><td style=\"background-color: rgb(254.9682, 255,254.9682);\">0.0001</td><td style=\"background-color: rgb(252.2840, 255,252.2840);\">0.0107</td><td style=\"background-color: rgb(255.0000, 255,255.0000);\">0.0000</td></tr><tr><td><b>slots_true</b></td><td style=\"background-color: rgb(255,255,255);\">O</td><td style=\"background-color: rgb(255,255,255);\">B-Theme</td><td style=\"background-color: rgb(255,255,255);\">I-Theme</td><td style=\"background-color: rgb(255,255,255);\">I-Theme</td><td style=\"background-color: rgb(255,255,255);\">I-Theme</td><td style=\"background-color: rgb(255,255,255);\">I-Theme</td><td style=\"background-color: rgb(255,255,255);\">I-Theme</td><td style=\"background-color: rgb(255,255,255);\">I-Theme</td></tr><tr><td><b>slots_pred</b></td><td style=\"background-color: rgb(255,255,255);\">O</td><td style=\"background-color: rgb(255,255,255);\">B-Theme</td><td style=\"background-color: rgb(255,255,255);\">I-Theme</td><td style=\"background-color: rgb(255,255,255);\">I-Theme</td><td style=\"background-color: rgb(255,255,255);\">I-Theme</td><td style=\"background-color: rgb(255,255,255);\">I-Theme</td><td style=\"background-color: rgb(255,255,255);\">I-Theme</td><td style=\"background-color: rgb(255,255,255);\">I-Theme</td></tr></table>"
      ],
      "text/plain": [
       "<IPython.core.display.HTML object>"
      ]
     },
     "metadata": {},
     "output_type": "display_data"
    },
    {
     "name": "stdout",
     "output_type": "stream",
     "text": [
      "true: Taking pred: Taking\n"
     ]
    },
    {
     "data": {
      "text/html": [
       "<table><tr><td><b>words</b></td><td style=\"background-color: rgb(255,255,255);\">take</td><td style=\"background-color: rgb(255,255,255);\">the</td><td style=\"background-color: rgb(255,255,255);\">coke</td><td style=\"background-color: rgb(255,255,255);\">that</td><td style=\"background-color: rgb(255,255,255);\">is</td><td style=\"background-color: rgb(255,255,255);\">in</td><td style=\"background-color: rgb(255,255,255);\">the</td><td style=\"background-color: rgb(255,255,255);\">kitchen</td></tr><tr><td><b>lexical_unit</b></td><td style=\"background-color: rgb(0.0000, 255,0.0000);\">1.0000</td><td style=\"background-color: rgb(255.0000, 255,255.0000);\">0.0000</td><td style=\"background-color: rgb(255.0000, 255,255.0000);\">0.0000</td><td style=\"background-color: rgb(255.0000, 255,255.0000);\">0.0000</td><td style=\"background-color: rgb(255.0000, 255,255.0000);\">0.0000</td><td style=\"background-color: rgb(255.0000, 255,255.0000);\">0.0000</td><td style=\"background-color: rgb(255.0000, 255,255.0000);\">0.0000</td><td style=\"background-color: rgb(255.0000, 255,255.0000);\">0.0000</td></tr><tr><td><b>attention_intent</b></td><td style=\"background-color: rgb(251.5347, 255,251.5347);\">0.0136</td><td style=\"background-color: rgb(16.9254, 255,16.9254);\">0.9336</td><td style=\"background-color: rgb(252.1232, 255,252.1232);\">0.0113</td><td style=\"background-color: rgb(254.9735, 255,254.9735);\">0.0001</td><td style=\"background-color: rgb(254.9998, 255,254.9998);\">0.0000</td><td style=\"background-color: rgb(254.9958, 255,254.9958);\">0.0000</td><td style=\"background-color: rgb(245.6772, 255,245.6772);\">0.0366</td><td style=\"background-color: rgb(254.9998, 255,254.9998);\">0.0000</td></tr><tr><td><b>slots_true</b></td><td style=\"background-color: rgb(255,255,255);\">O</td><td style=\"background-color: rgb(255,255,255);\">B-Theme</td><td style=\"background-color: rgb(255,255,255);\">I-Theme</td><td style=\"background-color: rgb(255,255,255);\">I-Theme</td><td style=\"background-color: rgb(255,255,255);\">I-Theme</td><td style=\"background-color: rgb(255,255,255);\">I-Theme</td><td style=\"background-color: rgb(255,255,255);\">I-Theme</td><td style=\"background-color: rgb(255,255,255);\">I-Theme</td></tr><tr><td><b>slots_pred</b></td><td style=\"background-color: rgb(255,255,255);\">O</td><td style=\"background-color: rgb(255,255,255);\">B-Theme</td><td style=\"background-color: rgb(255,255,255);\">I-Theme</td><td style=\"background-color: rgb(255,255,255);\">I-Theme</td><td style=\"background-color: rgb(255,255,255);\">I-Theme</td><td style=\"background-color: rgb(255,255,255);\">I-Theme</td><td style=\"background-color: rgb(255,255,255);\">I-Theme</td><td style=\"background-color: rgb(255,255,255);\">I-Theme</td></tr></table>"
      ],
      "text/plain": [
       "<IPython.core.display.HTML object>"
      ]
     },
     "metadata": {},
     "output_type": "display_data"
    },
    {
     "name": "stdout",
     "output_type": "stream",
     "text": [
      "true: Being_located pred: Being_located\n"
     ]
    },
    {
     "data": {
      "text/html": [
       "<table><tr><td><b>words</b></td><td style=\"background-color: rgb(255,255,255);\">there</td><td style=\"background-color: rgb(255,255,255);\">are</td><td style=\"background-color: rgb(255,255,255);\">some</td><td style=\"background-color: rgb(255,255,255);\">napkins</td><td style=\"background-color: rgb(255,255,255);\">on</td><td style=\"background-color: rgb(255,255,255);\">the</td><td style=\"background-color: rgb(255,255,255);\">kitchen</td><td style=\"background-color: rgb(255,255,255);\">table</td></tr><tr><td><b>lexical_unit</b></td><td style=\"background-color: rgb(0.0000, 255,0.0000);\">1.0000</td><td style=\"background-color: rgb(0.0000, 255,0.0000);\">1.0000</td><td style=\"background-color: rgb(255.0000, 255,255.0000);\">0.0000</td><td style=\"background-color: rgb(255.0000, 255,255.0000);\">0.0000</td><td style=\"background-color: rgb(255.0000, 255,255.0000);\">0.0000</td><td style=\"background-color: rgb(255.0000, 255,255.0000);\">0.0000</td><td style=\"background-color: rgb(255.0000, 255,255.0000);\">0.0000</td><td style=\"background-color: rgb(255.0000, 255,255.0000);\">0.0000</td></tr><tr><td><b>attention_intent</b></td><td style=\"background-color: rgb(255.0000, 255,255.0000);\">0.0000</td><td style=\"background-color: rgb(254.9986, 255,254.9986);\">0.0000</td><td style=\"background-color: rgb(254.8593, 255,254.8593);\">0.0006</td><td style=\"background-color: rgb(254.9914, 255,254.9914);\">0.0000</td><td style=\"background-color: rgb(228.3687, 255,228.3687);\">0.1044</td><td style=\"background-color: rgb(28.9671, 255,28.9671);\">0.8864</td><td style=\"background-color: rgb(252.8729, 255,252.8729);\">0.0083</td><td style=\"background-color: rgb(254.9487, 255,254.9487);\">0.0002</td></tr><tr><td><b>slots_true</b></td><td style=\"background-color: rgb(255,255,255);\">O</td><td style=\"background-color: rgb(255,255,255);\">O</td><td style=\"background-color: rgb(255,255,255);\">B-Theme</td><td style=\"background-color: rgb(255,255,255);\">I-Theme</td><td style=\"background-color: rgb(255,255,255);\">B-Location</td><td style=\"background-color: rgb(255,255,255);\">I-Location</td><td style=\"background-color: rgb(255,255,255);\">I-Location</td><td style=\"background-color: rgb(255,255,255);\">I-Location</td></tr><tr><td><b>slots_pred</b></td><td style=\"background-color: rgb(255,255,255);\">O</td><td style=\"background-color: rgb(255,255,255);\">O</td><td style=\"background-color: rgb(255,255,255);\">B-Theme</td><td style=\"background-color: rgb(255,255,255);\">I-Theme</td><td style=\"background-color: rgb(255,255,255);\">B-Location</td><td style=\"background-color: rgb(255,255,255);\">I-Location</td><td style=\"background-color: rgb(255,255,255);\">I-Location</td><td style=\"background-color: rgb(255,255,255);\">I-Location</td></tr></table>"
      ],
      "text/plain": [
       "<IPython.core.display.HTML object>"
      ]
     },
     "metadata": {},
     "output_type": "display_data"
    },
    {
     "name": "stdout",
     "output_type": "stream",
     "text": [
      "true: Being_located pred: Being_located\n"
     ]
    },
    {
     "data": {
      "text/html": [
       "<table><tr><td><b>words</b></td><td style=\"background-color: rgb(255,255,255);\">there</td><td style=\"background-color: rgb(255,255,255);\">are</td><td style=\"background-color: rgb(255,255,255);\">some</td><td style=\"background-color: rgb(255,255,255);\">plastic</td><td style=\"background-color: rgb(255,255,255);\">bags</td><td style=\"background-color: rgb(255,255,255);\">in</td><td style=\"background-color: rgb(255,255,255);\">the</td><td style=\"background-color: rgb(255,255,255);\">kitchen</td><td style=\"background-color: rgb(255,255,255);\">drawer</td></tr><tr><td><b>lexical_unit</b></td><td style=\"background-color: rgb(0.0000, 255,0.0000);\">1.0000</td><td style=\"background-color: rgb(0.0000, 255,0.0000);\">1.0000</td><td style=\"background-color: rgb(255.0000, 255,255.0000);\">0.0000</td><td style=\"background-color: rgb(255.0000, 255,255.0000);\">0.0000</td><td style=\"background-color: rgb(255.0000, 255,255.0000);\">0.0000</td><td style=\"background-color: rgb(255.0000, 255,255.0000);\">0.0000</td><td style=\"background-color: rgb(255.0000, 255,255.0000);\">0.0000</td><td style=\"background-color: rgb(255.0000, 255,255.0000);\">0.0000</td><td style=\"background-color: rgb(255.0000, 255,255.0000);\">0.0000</td></tr><tr><td><b>attention_intent</b></td><td style=\"background-color: rgb(255.0000, 255,255.0000);\">0.0000</td><td style=\"background-color: rgb(254.9996, 255,254.9996);\">0.0000</td><td style=\"background-color: rgb(254.9496, 255,254.9496);\">0.0002</td><td style=\"background-color: rgb(254.9562, 255,254.9562);\">0.0002</td><td style=\"background-color: rgb(254.9803, 255,254.9803);\">0.0001</td><td style=\"background-color: rgb(254.6543, 255,254.6543);\">0.0014</td><td style=\"background-color: rgb(4.1242, 255,4.1242);\">0.9838</td><td style=\"background-color: rgb(251.9044, 255,251.9044);\">0.0121</td><td style=\"background-color: rgb(254.4352, 255,254.4352);\">0.0022</td></tr><tr><td><b>slots_true</b></td><td style=\"background-color: rgb(255,255,255);\">O</td><td style=\"background-color: rgb(255,255,255);\">O</td><td style=\"background-color: rgb(255,255,255);\">B-Theme</td><td style=\"background-color: rgb(255,255,255);\">I-Theme</td><td style=\"background-color: rgb(255,255,255);\">I-Theme</td><td style=\"background-color: rgb(255,255,255);\">B-Location</td><td style=\"background-color: rgb(255,255,255);\">I-Location</td><td style=\"background-color: rgb(255,255,255);\">I-Location</td><td style=\"background-color: rgb(255,255,255);\">I-Location</td></tr><tr><td><b>slots_pred</b></td><td style=\"background-color: rgb(255,255,255);\">O</td><td style=\"background-color: rgb(255,255,255);\">O</td><td style=\"background-color: rgb(255,255,255);\">B-Theme</td><td style=\"background-color: rgb(255,255,255);\">I-Theme</td><td style=\"background-color: rgb(255,255,255);\">I-Theme</td><td style=\"background-color: rgb(255,255,255);\">B-Location</td><td style=\"background-color: rgb(255,255,255);\">I-Location</td><td style=\"background-color: rgb(255,255,255);\">I-Location</td><td style=\"background-color: rgb(255,255,255);\">I-Location</td></tr></table>"
      ],
      "text/plain": [
       "<IPython.core.display.HTML object>"
      ]
     },
     "metadata": {},
     "output_type": "display_data"
    },
    {
     "name": "stdout",
     "output_type": "stream",
     "text": [
      "true: Bringing pred: Bringing\n"
     ]
    },
    {
     "data": {
      "text/html": [
       "<table><tr><td><b>words</b></td><td style=\"background-color: rgb(255,255,255);\">can</td><td style=\"background-color: rgb(255,255,255);\">you</td><td style=\"background-color: rgb(255,255,255);\">bring</td><td style=\"background-color: rgb(255,255,255);\">it</td><td style=\"background-color: rgb(255,255,255);\">to</td><td style=\"background-color: rgb(255,255,255);\">me</td></tr><tr><td><b>lexical_unit</b></td><td style=\"background-color: rgb(255.0000, 255,255.0000);\">0.0000</td><td style=\"background-color: rgb(255.0000, 255,255.0000);\">0.0000</td><td style=\"background-color: rgb(0.0000, 255,0.0000);\">1.0000</td><td style=\"background-color: rgb(255.0000, 255,255.0000);\">0.0000</td><td style=\"background-color: rgb(255.0000, 255,255.0000);\">0.0000</td><td style=\"background-color: rgb(255.0000, 255,255.0000);\">0.0000</td></tr><tr><td><b>attention_intent</b></td><td style=\"background-color: rgb(255.0000, 255,255.0000);\">0.0000</td><td style=\"background-color: rgb(255.0000, 255,255.0000);\">0.0000</td><td style=\"background-color: rgb(254.6034, 255,254.6034);\">0.0016</td><td style=\"background-color: rgb(254.2626, 255,254.2626);\">0.0029</td><td style=\"background-color: rgb(30.6255, 255,30.6255);\">0.8799</td><td style=\"background-color: rgb(225.5090, 255,225.5090);\">0.1157</td></tr><tr><td><b>slots_true</b></td><td style=\"background-color: rgb(255,255,255);\">O</td><td style=\"background-color: rgb(255,255,255);\">B-Agent</td><td style=\"background-color: rgb(255,255,255);\">O</td><td style=\"background-color: rgb(255,255,255);\">B-Theme</td><td style=\"background-color: rgb(255,255,255);\">B-Beneficiary</td><td style=\"background-color: rgb(255,255,255);\">I-Beneficiary</td></tr><tr><td><b>slots_pred</b></td><td style=\"background-color: rgb(255,255,255);\">O</td><td style=\"background-color: rgb(255,255,255);\">B-Agent</td><td style=\"background-color: rgb(255,255,255);\">O</td><td style=\"background-color: rgb(255,255,255);\">B-Theme</td><td style=\"background-color: rgb(255,255,255);\">B-Beneficiary</td><td style=\"background-color: rgb(255,255,255);\">I-Beneficiary</td></tr></table>"
      ],
      "text/plain": [
       "<IPython.core.display.HTML object>"
      ]
     },
     "metadata": {},
     "output_type": "display_data"
    },
    {
     "name": "stdout",
     "output_type": "stream",
     "text": [
      "true: Bringing pred: Bringing\n"
     ]
    },
    {
     "data": {
      "text/html": [
       "<table><tr><td><b>words</b></td><td style=\"background-color: rgb(255,255,255);\">robot</td><td style=\"background-color: rgb(255,255,255);\">can</td><td style=\"background-color: rgb(255,255,255);\">you</td><td style=\"background-color: rgb(255,255,255);\">bring</td><td style=\"background-color: rgb(255,255,255);\">me</td><td style=\"background-color: rgb(255,255,255);\">a</td><td style=\"background-color: rgb(255,255,255);\">bath</td><td style=\"background-color: rgb(255,255,255);\">towel</td></tr><tr><td><b>lexical_unit</b></td><td style=\"background-color: rgb(255.0000, 255,255.0000);\">0.0000</td><td style=\"background-color: rgb(255.0000, 255,255.0000);\">0.0000</td><td style=\"background-color: rgb(255.0000, 255,255.0000);\">0.0000</td><td style=\"background-color: rgb(0.0000, 255,0.0000);\">1.0000</td><td style=\"background-color: rgb(255.0000, 255,255.0000);\">0.0000</td><td style=\"background-color: rgb(255.0000, 255,255.0000);\">0.0000</td><td style=\"background-color: rgb(255.0000, 255,255.0000);\">0.0000</td><td style=\"background-color: rgb(255.0000, 255,255.0000);\">0.0000</td></tr><tr><td><b>attention_intent</b></td><td style=\"background-color: rgb(255.0000, 255,255.0000);\">0.0000</td><td style=\"background-color: rgb(255.0000, 255,255.0000);\">0.0000</td><td style=\"background-color: rgb(255.0000, 255,255.0000);\">0.0000</td><td style=\"background-color: rgb(253.5460, 255,253.5460);\">0.0057</td><td style=\"background-color: rgb(4.4787, 255,4.4787);\">0.9824</td><td style=\"background-color: rgb(252.4097, 255,252.4097);\">0.0102</td><td style=\"background-color: rgb(254.5686, 255,254.5686);\">0.0017</td><td style=\"background-color: rgb(254.9974, 255,254.9974);\">0.0000</td></tr><tr><td><b>slots_true</b></td><td style=\"background-color: rgb(255,255,255);\">O</td><td style=\"background-color: rgb(255,255,255);\">O</td><td style=\"background-color: rgb(255,255,255);\">B-Agent</td><td style=\"background-color: rgb(255,255,255);\">O</td><td style=\"background-color: rgb(255,255,255);\">B-Beneficiary</td><td style=\"background-color: rgb(255,255,255);\">B-Theme</td><td style=\"background-color: rgb(255,255,255);\">I-Theme</td><td style=\"background-color: rgb(255,255,255);\">I-Theme</td></tr><tr><td><b>slots_pred</b></td><td style=\"background-color: rgb(255,255,255);\">O</td><td style=\"background-color: rgb(255,255,255);\">O</td><td style=\"background-color: rgb(255,255,255);\">B-Agent</td><td style=\"background-color: rgb(255,255,255);\">O</td><td style=\"background-color: rgb(255,255,255);\">B-Beneficiary</td><td style=\"background-color: rgb(255,255,255);\">B-Theme</td><td style=\"background-color: rgb(255,255,255);\">I-Theme</td><td style=\"background-color: rgb(255,255,255);\">I-Theme</td></tr></table>"
      ],
      "text/plain": [
       "<IPython.core.display.HTML object>"
      ]
     },
     "metadata": {},
     "output_type": "display_data"
    },
    {
     "name": "stdout",
     "output_type": "stream",
     "text": [
      "true: Bringing pred: Bringing\n"
     ]
    },
    {
     "data": {
      "text/html": [
       "<table><tr><td><b>words</b></td><td style=\"background-color: rgb(255,255,255);\">robot</td><td style=\"background-color: rgb(255,255,255);\">can</td><td style=\"background-color: rgb(255,255,255);\">you</td><td style=\"background-color: rgb(255,255,255);\">bring</td><td style=\"background-color: rgb(255,255,255);\">me</td><td style=\"background-color: rgb(255,255,255);\">a</td><td style=\"background-color: rgb(255,255,255);\">magazine</td></tr><tr><td><b>lexical_unit</b></td><td style=\"background-color: rgb(255.0000, 255,255.0000);\">0.0000</td><td style=\"background-color: rgb(255.0000, 255,255.0000);\">0.0000</td><td style=\"background-color: rgb(255.0000, 255,255.0000);\">0.0000</td><td style=\"background-color: rgb(0.0000, 255,0.0000);\">1.0000</td><td style=\"background-color: rgb(255.0000, 255,255.0000);\">0.0000</td><td style=\"background-color: rgb(255.0000, 255,255.0000);\">0.0000</td><td style=\"background-color: rgb(255.0000, 255,255.0000);\">0.0000</td></tr><tr><td><b>attention_intent</b></td><td style=\"background-color: rgb(255.0000, 255,255.0000);\">0.0000</td><td style=\"background-color: rgb(255.0000, 255,255.0000);\">0.0000</td><td style=\"background-color: rgb(255.0000, 255,255.0000);\">0.0000</td><td style=\"background-color: rgb(253.6196, 255,253.6196);\">0.0054</td><td style=\"background-color: rgb(3.8577, 255,3.8577);\">0.9849</td><td style=\"background-color: rgb(252.5339, 255,252.5339);\">0.0097</td><td style=\"background-color: rgb(254.9893, 255,254.9893);\">0.0000</td></tr><tr><td><b>slots_true</b></td><td style=\"background-color: rgb(255,255,255);\">O</td><td style=\"background-color: rgb(255,255,255);\">O</td><td style=\"background-color: rgb(255,255,255);\">B-Agent</td><td style=\"background-color: rgb(255,255,255);\">O</td><td style=\"background-color: rgb(255,255,255);\">B-Beneficiary</td><td style=\"background-color: rgb(255,255,255);\">B-Theme</td><td style=\"background-color: rgb(255,255,255);\">I-Theme</td></tr><tr><td><b>slots_pred</b></td><td style=\"background-color: rgb(255,255,255);\">O</td><td style=\"background-color: rgb(255,255,255);\">O</td><td style=\"background-color: rgb(255,255,255);\">B-Agent</td><td style=\"background-color: rgb(255,255,255);\">O</td><td style=\"background-color: rgb(255,255,255);\">B-Beneficiary</td><td style=\"background-color: rgb(255,255,255);\">B-Theme</td><td style=\"background-color: rgb(255,255,255);\">I-Theme</td></tr></table>"
      ],
      "text/plain": [
       "<IPython.core.display.HTML object>"
      ]
     },
     "metadata": {},
     "output_type": "display_data"
    },
    {
     "name": "stdout",
     "output_type": "stream",
     "text": [
      "true: Bringing pred: Bringing\n"
     ]
    },
    {
     "data": {
      "text/html": [
       "<table><tr><td><b>words</b></td><td style=\"background-color: rgb(255,255,255);\">robot</td><td style=\"background-color: rgb(255,255,255);\">can</td><td style=\"background-color: rgb(255,255,255);\">you</td><td style=\"background-color: rgb(255,255,255);\">bring</td><td style=\"background-color: rgb(255,255,255);\">me</td><td style=\"background-color: rgb(255,255,255);\">my</td><td style=\"background-color: rgb(255,255,255);\">reading</td><td style=\"background-color: rgb(255,255,255);\">glasses</td><td style=\"background-color: rgb(255,255,255);\">from</td><td style=\"background-color: rgb(255,255,255);\">the</td><td style=\"background-color: rgb(255,255,255);\">bedroom</td></tr><tr><td><b>lexical_unit</b></td><td style=\"background-color: rgb(255.0000, 255,255.0000);\">0.0000</td><td style=\"background-color: rgb(255.0000, 255,255.0000);\">0.0000</td><td style=\"background-color: rgb(255.0000, 255,255.0000);\">0.0000</td><td style=\"background-color: rgb(0.0000, 255,0.0000);\">1.0000</td><td style=\"background-color: rgb(255.0000, 255,255.0000);\">0.0000</td><td style=\"background-color: rgb(255.0000, 255,255.0000);\">0.0000</td><td style=\"background-color: rgb(255.0000, 255,255.0000);\">0.0000</td><td style=\"background-color: rgb(255.0000, 255,255.0000);\">0.0000</td><td style=\"background-color: rgb(255.0000, 255,255.0000);\">0.0000</td><td style=\"background-color: rgb(255.0000, 255,255.0000);\">0.0000</td><td style=\"background-color: rgb(255.0000, 255,255.0000);\">0.0000</td></tr><tr><td><b>attention_intent</b></td><td style=\"background-color: rgb(255.0000, 255,255.0000);\">0.0000</td><td style=\"background-color: rgb(255.0000, 255,255.0000);\">0.0000</td><td style=\"background-color: rgb(255.0000, 255,255.0000);\">0.0000</td><td style=\"background-color: rgb(254.4527, 255,254.4527);\">0.0021</td><td style=\"background-color: rgb(1.2846, 255,1.2846);\">0.9950</td><td style=\"background-color: rgb(254.3925, 255,254.3925);\">0.0024</td><td style=\"background-color: rgb(254.9190, 255,254.9190);\">0.0003</td><td style=\"background-color: rgb(254.9998, 255,254.9998);\">0.0000</td><td style=\"background-color: rgb(254.9967, 255,254.9967);\">0.0000</td><td style=\"background-color: rgb(254.9553, 255,254.9553);\">0.0002</td><td style=\"background-color: rgb(255.0000, 255,255.0000);\">0.0000</td></tr><tr><td><b>slots_true</b></td><td style=\"background-color: rgb(255,255,255);\">O</td><td style=\"background-color: rgb(255,255,255);\">O</td><td style=\"background-color: rgb(255,255,255);\">B-Agent</td><td style=\"background-color: rgb(255,255,255);\">O</td><td style=\"background-color: rgb(255,255,255);\">B-Beneficiary</td><td style=\"background-color: rgb(255,255,255);\">B-Theme</td><td style=\"background-color: rgb(255,255,255);\">I-Theme</td><td style=\"background-color: rgb(255,255,255);\">I-Theme</td><td style=\"background-color: rgb(255,255,255);\">B-Source</td><td style=\"background-color: rgb(255,255,255);\">I-Source</td><td style=\"background-color: rgb(255,255,255);\">I-Source</td></tr><tr><td><b>slots_pred</b></td><td style=\"background-color: rgb(255,255,255);\">O</td><td style=\"background-color: rgb(255,255,255);\">O</td><td style=\"background-color: rgb(255,255,255);\">B-Agent</td><td style=\"background-color: rgb(255,255,255);\">O</td><td style=\"background-color: rgb(255,255,255);\">B-Beneficiary</td><td style=\"background-color: rgb(255,255,255);\">B-Theme</td><td style=\"background-color: rgb(255,255,255);\">I-Theme</td><td style=\"background-color: rgb(255,255,255);\">I-Theme</td><td style=\"background-color: rgb(255,255,255);\">B-Source</td><td style=\"background-color: rgb(255,255,255);\">I-Source</td><td style=\"background-color: rgb(255,255,255);\">I-Source</td></tr></table>"
      ],
      "text/plain": [
       "<IPython.core.display.HTML object>"
      ]
     },
     "metadata": {},
     "output_type": "display_data"
    },
    {
     "name": "stdout",
     "output_type": "stream",
     "text": [
      "true: Change_operational_state pred: Change_operational_state\n"
     ]
    },
    {
     "data": {
      "text/html": [
       "<table><tr><td><b>words</b></td><td style=\"background-color: rgb(255,255,255);\">robot</td><td style=\"background-color: rgb(255,255,255);\">can</td><td style=\"background-color: rgb(255,255,255);\">you</td><td style=\"background-color: rgb(255,255,255);\">turn</td><td style=\"background-color: rgb(255,255,255);\">the</td><td style=\"background-color: rgb(255,255,255);\">electric</td><td style=\"background-color: rgb(255,255,255);\">oven</td><td style=\"background-color: rgb(255,255,255);\">on</td></tr><tr><td><b>lexical_unit</b></td><td style=\"background-color: rgb(255.0000, 255,255.0000);\">0.0000</td><td style=\"background-color: rgb(255.0000, 255,255.0000);\">0.0000</td><td style=\"background-color: rgb(255.0000, 255,255.0000);\">0.0000</td><td style=\"background-color: rgb(0.0000, 255,0.0000);\">1.0000</td><td style=\"background-color: rgb(255.0000, 255,255.0000);\">0.0000</td><td style=\"background-color: rgb(255.0000, 255,255.0000);\">0.0000</td><td style=\"background-color: rgb(255.0000, 255,255.0000);\">0.0000</td><td style=\"background-color: rgb(255.0000, 255,255.0000);\">0.0000</td></tr><tr><td><b>attention_intent</b></td><td style=\"background-color: rgb(255.0000, 255,255.0000);\">0.0000</td><td style=\"background-color: rgb(255.0000, 255,255.0000);\">0.0000</td><td style=\"background-color: rgb(255.0000, 255,255.0000);\">0.0000</td><td style=\"background-color: rgb(240.2581, 255,240.2581);\">0.0578</td><td style=\"background-color: rgb(245.0937, 255,245.0937);\">0.0388</td><td style=\"background-color: rgb(231.1981, 255,231.1981);\">0.0933</td><td style=\"background-color: rgb(220.8177, 255,220.8177);\">0.1340</td><td style=\"background-color: rgb(82.6353, 255,82.6353);\">0.6759</td></tr><tr><td><b>slots_true</b></td><td style=\"background-color: rgb(255,255,255);\">O</td><td style=\"background-color: rgb(255,255,255);\">O</td><td style=\"background-color: rgb(255,255,255);\">B-Agent</td><td style=\"background-color: rgb(255,255,255);\">O</td><td style=\"background-color: rgb(255,255,255);\">B-Device</td><td style=\"background-color: rgb(255,255,255);\">I-Device</td><td style=\"background-color: rgb(255,255,255);\">I-Device</td><td style=\"background-color: rgb(255,255,255);\">B-Operational_state</td></tr><tr><td><b>slots_pred</b></td><td style=\"background-color: rgb(255,255,255);\">O</td><td style=\"background-color: rgb(255,255,255);\">O</td><td style=\"background-color: rgb(255,255,255);\">B-Agent</td><td style=\"background-color: rgb(255,255,255);\">O</td><td style=\"background-color: rgb(255,255,255);\">B-Device</td><td style=\"background-color: rgb(255,255,255);\">I-Device</td><td style=\"background-color: rgb(255,255,255);\">I-Device</td><td style=\"background-color: rgb(255,255,255);\">B-Operational_state</td></tr></table>"
      ],
      "text/plain": [
       "<IPython.core.display.HTML object>"
      ]
     },
     "metadata": {},
     "output_type": "display_data"
    },
    {
     "name": "stdout",
     "output_type": "stream",
     "text": [
      "true: Bringing pred: Bringing\n"
     ]
    },
    {
     "data": {
      "text/html": [
       "<table><tr><td><b>words</b></td><td style=\"background-color: rgb(255,255,255);\">bring</td><td style=\"background-color: rgb(255,255,255);\">me</td><td style=\"background-color: rgb(255,255,255);\">my</td><td style=\"background-color: rgb(255,255,255);\">book</td><td style=\"background-color: rgb(255,255,255);\">from</td><td style=\"background-color: rgb(255,255,255);\">the</td><td style=\"background-color: rgb(255,255,255);\">table</td></tr><tr><td><b>lexical_unit</b></td><td style=\"background-color: rgb(0.0000, 255,0.0000);\">1.0000</td><td style=\"background-color: rgb(255.0000, 255,255.0000);\">0.0000</td><td style=\"background-color: rgb(255.0000, 255,255.0000);\">0.0000</td><td style=\"background-color: rgb(255.0000, 255,255.0000);\">0.0000</td><td style=\"background-color: rgb(255.0000, 255,255.0000);\">0.0000</td><td style=\"background-color: rgb(255.0000, 255,255.0000);\">0.0000</td><td style=\"background-color: rgb(255.0000, 255,255.0000);\">0.0000</td></tr><tr><td><b>attention_intent</b></td><td style=\"background-color: rgb(254.6853, 255,254.6853);\">0.0012</td><td style=\"background-color: rgb(1.0288, 255,1.0288);\">0.9960</td><td style=\"background-color: rgb(254.4412, 255,254.4412);\">0.0022</td><td style=\"background-color: rgb(254.9522, 255,254.9522);\">0.0002</td><td style=\"background-color: rgb(254.9907, 255,254.9907);\">0.0000</td><td style=\"background-color: rgb(254.9023, 255,254.9023);\">0.0004</td><td style=\"background-color: rgb(255.0000, 255,255.0000);\">0.0000</td></tr><tr><td><b>slots_true</b></td><td style=\"background-color: rgb(255,255,255);\">O</td><td style=\"background-color: rgb(255,255,255);\">B-Beneficiary</td><td style=\"background-color: rgb(255,255,255);\">B-Theme</td><td style=\"background-color: rgb(255,255,255);\">I-Theme</td><td style=\"background-color: rgb(255,255,255);\">B-Source</td><td style=\"background-color: rgb(255,255,255);\">I-Source</td><td style=\"background-color: rgb(255,255,255);\">I-Source</td></tr><tr><td><b>slots_pred</b></td><td style=\"background-color: rgb(255,255,255);\">O</td><td style=\"background-color: rgb(255,255,255);\">B-Beneficiary</td><td style=\"background-color: rgb(255,255,255);\">B-Theme</td><td style=\"background-color: rgb(255,255,255);\">I-Theme</td><td style=\"background-color: rgb(255,255,255);\">B-Source</td><td style=\"background-color: rgb(255,255,255);\">I-Source</td><td style=\"background-color: rgb(255,255,255);\">I-Source</td></tr></table>"
      ],
      "text/plain": [
       "<IPython.core.display.HTML object>"
      ]
     },
     "metadata": {},
     "output_type": "display_data"
    },
    {
     "name": "stdout",
     "output_type": "stream",
     "text": [
      "true: Bringing pred: Bringing\n"
     ]
    },
    {
     "data": {
      "text/html": [
       "<table><tr><td><b>words</b></td><td style=\"background-color: rgb(255,255,255);\">bring</td><td style=\"background-color: rgb(255,255,255);\">over</td><td style=\"background-color: rgb(255,255,255);\">the</td><td style=\"background-color: rgb(255,255,255);\">gray</td><td style=\"background-color: rgb(255,255,255);\">folder</td></tr><tr><td><b>lexical_unit</b></td><td style=\"background-color: rgb(0.0000, 255,0.0000);\">1.0000</td><td style=\"background-color: rgb(255.0000, 255,255.0000);\">0.0000</td><td style=\"background-color: rgb(255.0000, 255,255.0000);\">0.0000</td><td style=\"background-color: rgb(255.0000, 255,255.0000);\">0.0000</td><td style=\"background-color: rgb(255.0000, 255,255.0000);\">0.0000</td></tr><tr><td><b>attention_intent</b></td><td style=\"background-color: rgb(254.6398, 255,254.6398);\">0.0014</td><td style=\"background-color: rgb(53.3747, 255,53.3747);\">0.7907</td><td style=\"background-color: rgb(228.4220, 255,228.4220);\">0.1042</td><td style=\"background-color: rgb(239.3772, 255,239.3772);\">0.0613</td><td style=\"background-color: rgb(244.1877, 255,244.1877);\">0.0424</td></tr><tr><td><b>slots_true</b></td><td style=\"background-color: rgb(255,255,255);\">O</td><td style=\"background-color: rgb(255,255,255);\">B-Area</td><td style=\"background-color: rgb(255,255,255);\">B-Theme</td><td style=\"background-color: rgb(255,255,255);\">I-Theme</td><td style=\"background-color: rgb(255,255,255);\">I-Theme</td></tr><tr><td><b>slots_pred</b></td><td style=\"background-color: rgb(255,255,255);\">O</td><td style=\"background-color: rgb(255,255,255);\">B-Goal</td><td style=\"background-color: rgb(255,255,255);\">B-Theme</td><td style=\"background-color: rgb(255,255,255);\">I-Theme</td><td style=\"background-color: rgb(255,255,255);\">I-Theme</td></tr></table>"
      ],
      "text/plain": [
       "<IPython.core.display.HTML object>"
      ]
     },
     "metadata": {},
     "output_type": "display_data"
    },
    {
     "name": "stdout",
     "output_type": "stream",
     "text": [
      "true: Closure pred: Closure\n"
     ]
    },
    {
     "data": {
      "text/html": [
       "<table><tr><td><b>words</b></td><td style=\"background-color: rgb(255,255,255);\">could</td><td style=\"background-color: rgb(255,255,255);\">you</td><td style=\"background-color: rgb(255,255,255);\">close</td><td style=\"background-color: rgb(255,255,255);\">the</td><td style=\"background-color: rgb(255,255,255);\">shutters</td></tr><tr><td><b>lexical_unit</b></td><td style=\"background-color: rgb(255.0000, 255,255.0000);\">0.0000</td><td style=\"background-color: rgb(255.0000, 255,255.0000);\">0.0000</td><td style=\"background-color: rgb(0.0000, 255,0.0000);\">1.0000</td><td style=\"background-color: rgb(255.0000, 255,255.0000);\">0.0000</td><td style=\"background-color: rgb(255.0000, 255,255.0000);\">0.0000</td></tr><tr><td><b>attention_intent</b></td><td style=\"background-color: rgb(255.0000, 255,255.0000);\">0.0000</td><td style=\"background-color: rgb(255.0000, 255,255.0000);\">0.0000</td><td style=\"background-color: rgb(254.6254, 255,254.6254);\">0.0015</td><td style=\"background-color: rgb(0.8460, 255,0.8460);\">0.9967</td><td style=\"background-color: rgb(254.5309, 255,254.5309);\">0.0018</td></tr><tr><td><b>slots_true</b></td><td style=\"background-color: rgb(255,255,255);\">O</td><td style=\"background-color: rgb(255,255,255);\">B-Agent</td><td style=\"background-color: rgb(255,255,255);\">O</td><td style=\"background-color: rgb(255,255,255);\">B-Container_portal</td><td style=\"background-color: rgb(255,255,255);\">I-Container_portal</td></tr><tr><td><b>slots_pred</b></td><td style=\"background-color: rgb(255,255,255);\">O</td><td style=\"background-color: rgb(255,255,255);\">B-Theme</td><td style=\"background-color: rgb(255,255,255);\">O</td><td style=\"background-color: rgb(255,255,255);\">B-Container_portal</td><td style=\"background-color: rgb(255,255,255);\">I-Container_portal</td></tr></table>"
      ],
      "text/plain": [
       "<IPython.core.display.HTML object>"
      ]
     },
     "metadata": {},
     "output_type": "display_data"
    },
    {
     "name": "stdout",
     "output_type": "stream",
     "text": [
      "true: Change_operational_state pred: Change_operational_state\n"
     ]
    },
    {
     "data": {
      "text/html": [
       "<table><tr><td><b>words</b></td><td style=\"background-color: rgb(255,255,255);\">could</td><td style=\"background-color: rgb(255,255,255);\">you</td><td style=\"background-color: rgb(255,255,255);\">please</td><td style=\"background-color: rgb(255,255,255);\">turn</td><td style=\"background-color: rgb(255,255,255);\">on</td><td style=\"background-color: rgb(255,255,255);\">the</td><td style=\"background-color: rgb(255,255,255);\">tv</td></tr><tr><td><b>lexical_unit</b></td><td style=\"background-color: rgb(255.0000, 255,255.0000);\">0.0000</td><td style=\"background-color: rgb(255.0000, 255,255.0000);\">0.0000</td><td style=\"background-color: rgb(255.0000, 255,255.0000);\">0.0000</td><td style=\"background-color: rgb(0.0000, 255,0.0000);\">1.0000</td><td style=\"background-color: rgb(255.0000, 255,255.0000);\">0.0000</td><td style=\"background-color: rgb(255.0000, 255,255.0000);\">0.0000</td><td style=\"background-color: rgb(255.0000, 255,255.0000);\">0.0000</td></tr><tr><td><b>attention_intent</b></td><td style=\"background-color: rgb(255.0000, 255,255.0000);\">0.0000</td><td style=\"background-color: rgb(255.0000, 255,255.0000);\">0.0000</td><td style=\"background-color: rgb(255.0000, 255,255.0000);\">0.0000</td><td style=\"background-color: rgb(254.3328, 255,254.3328);\">0.0026</td><td style=\"background-color: rgb(129.2983, 255,129.2983);\">0.4929</td><td style=\"background-color: rgb(180.3723, 255,180.3723);\">0.2927</td><td style=\"background-color: rgb(200.9968, 255,200.9968);\">0.2118</td></tr><tr><td><b>slots_true</b></td><td style=\"background-color: rgb(255,255,255);\">O</td><td style=\"background-color: rgb(255,255,255);\">B-Agent</td><td style=\"background-color: rgb(255,255,255);\">O</td><td style=\"background-color: rgb(255,255,255);\">O</td><td style=\"background-color: rgb(255,255,255);\">B-Operational_state</td><td style=\"background-color: rgb(255,255,255);\">B-Device</td><td style=\"background-color: rgb(255,255,255);\">I-Device</td></tr><tr><td><b>slots_pred</b></td><td style=\"background-color: rgb(255,255,255);\">O</td><td style=\"background-color: rgb(255,255,255);\">B-Agent</td><td style=\"background-color: rgb(255,255,255);\">O</td><td style=\"background-color: rgb(255,255,255);\">O</td><td style=\"background-color: rgb(255,255,255);\">B-Operational_state</td><td style=\"background-color: rgb(255,255,255);\">B-Device</td><td style=\"background-color: rgb(255,255,255);\">I-Device</td></tr></table>"
      ],
      "text/plain": [
       "<IPython.core.display.HTML object>"
      ]
     },
     "metadata": {},
     "output_type": "display_data"
    },
    {
     "name": "stdout",
     "output_type": "stream",
     "text": [
      "true: Placing pred: Placing\n"
     ]
    },
    {
     "data": {
      "text/html": [
       "<table><tr><td><b>words</b></td><td style=\"background-color: rgb(255,255,255);\">could</td><td style=\"background-color: rgb(255,255,255);\">you</td><td style=\"background-color: rgb(255,255,255);\">put</td><td style=\"background-color: rgb(255,255,255);\">the</td><td style=\"background-color: rgb(255,255,255);\">vase</td><td style=\"background-color: rgb(255,255,255);\">on</td><td style=\"background-color: rgb(255,255,255);\">the</td><td style=\"background-color: rgb(255,255,255);\">coffee</td><td style=\"background-color: rgb(255,255,255);\">table</td></tr><tr><td><b>lexical_unit</b></td><td style=\"background-color: rgb(255.0000, 255,255.0000);\">0.0000</td><td style=\"background-color: rgb(255.0000, 255,255.0000);\">0.0000</td><td style=\"background-color: rgb(0.0000, 255,0.0000);\">1.0000</td><td style=\"background-color: rgb(255.0000, 255,255.0000);\">0.0000</td><td style=\"background-color: rgb(255.0000, 255,255.0000);\">0.0000</td><td style=\"background-color: rgb(255.0000, 255,255.0000);\">0.0000</td><td style=\"background-color: rgb(255.0000, 255,255.0000);\">0.0000</td><td style=\"background-color: rgb(255.0000, 255,255.0000);\">0.0000</td><td style=\"background-color: rgb(255.0000, 255,255.0000);\">0.0000</td></tr><tr><td><b>attention_intent</b></td><td style=\"background-color: rgb(255.0000, 255,255.0000);\">0.0000</td><td style=\"background-color: rgb(255.0000, 255,255.0000);\">0.0000</td><td style=\"background-color: rgb(254.9952, 255,254.9952);\">0.0000</td><td style=\"background-color: rgb(254.9099, 255,254.9099);\">0.0004</td><td style=\"background-color: rgb(254.9561, 255,254.9561);\">0.0002</td><td style=\"background-color: rgb(228.3589, 255,228.3589);\">0.1045</td><td style=\"background-color: rgb(68.3396, 255,68.3396);\">0.7320</td><td style=\"background-color: rgb(237.0056, 255,237.0056);\">0.0706</td><td style=\"background-color: rgb(231.4357, 255,231.4357);\">0.0924</td></tr><tr><td><b>slots_true</b></td><td style=\"background-color: rgb(255,255,255);\">O</td><td style=\"background-color: rgb(255,255,255);\">B-Agent</td><td style=\"background-color: rgb(255,255,255);\">O</td><td style=\"background-color: rgb(255,255,255);\">B-Theme</td><td style=\"background-color: rgb(255,255,255);\">I-Theme</td><td style=\"background-color: rgb(255,255,255);\">B-Goal</td><td style=\"background-color: rgb(255,255,255);\">I-Goal</td><td style=\"background-color: rgb(255,255,255);\">I-Goal</td><td style=\"background-color: rgb(255,255,255);\">I-Goal</td></tr><tr><td><b>slots_pred</b></td><td style=\"background-color: rgb(255,255,255);\">O</td><td style=\"background-color: rgb(255,255,255);\">B-Agent</td><td style=\"background-color: rgb(255,255,255);\">O</td><td style=\"background-color: rgb(255,255,255);\">B-Theme</td><td style=\"background-color: rgb(255,255,255);\">I-Theme</td><td style=\"background-color: rgb(255,255,255);\">B-Goal</td><td style=\"background-color: rgb(255,255,255);\">I-Goal</td><td style=\"background-color: rgb(255,255,255);\">I-Goal</td><td style=\"background-color: rgb(255,255,255);\">I-Goal</td></tr></table>"
      ],
      "text/plain": [
       "<IPython.core.display.HTML object>"
      ]
     },
     "metadata": {},
     "output_type": "display_data"
    },
    {
     "name": "stdout",
     "output_type": "stream",
     "text": [
      "true: Change_operational_state pred: Change_operational_state\n"
     ]
    },
    {
     "data": {
      "text/html": [
       "<table><tr><td><b>words</b></td><td style=\"background-color: rgb(255,255,255);\">could</td><td style=\"background-color: rgb(255,255,255);\">you</td><td style=\"background-color: rgb(255,255,255);\">turn</td><td style=\"background-color: rgb(255,255,255);\">on</td><td style=\"background-color: rgb(255,255,255);\">the</td><td style=\"background-color: rgb(255,255,255);\">television</td></tr><tr><td><b>lexical_unit</b></td><td style=\"background-color: rgb(255.0000, 255,255.0000);\">0.0000</td><td style=\"background-color: rgb(255.0000, 255,255.0000);\">0.0000</td><td style=\"background-color: rgb(0.0000, 255,0.0000);\">1.0000</td><td style=\"background-color: rgb(255.0000, 255,255.0000);\">0.0000</td><td style=\"background-color: rgb(255.0000, 255,255.0000);\">0.0000</td><td style=\"background-color: rgb(255.0000, 255,255.0000);\">0.0000</td></tr><tr><td><b>attention_intent</b></td><td style=\"background-color: rgb(255.0000, 255,255.0000);\">0.0000</td><td style=\"background-color: rgb(255.0000, 255,255.0000);\">0.0000</td><td style=\"background-color: rgb(254.6429, 255,254.6429);\">0.0014</td><td style=\"background-color: rgb(82.5969, 255,82.5969);\">0.6761</td><td style=\"background-color: rgb(209.6523, 255,209.6523);\">0.1778</td><td style=\"background-color: rgb(218.1083, 255,218.1083);\">0.1447</td></tr><tr><td><b>slots_true</b></td><td style=\"background-color: rgb(255,255,255);\">O</td><td style=\"background-color: rgb(255,255,255);\">B-Agent</td><td style=\"background-color: rgb(255,255,255);\">O</td><td style=\"background-color: rgb(255,255,255);\">B-Operational_state</td><td style=\"background-color: rgb(255,255,255);\">B-Device</td><td style=\"background-color: rgb(255,255,255);\">I-Device</td></tr><tr><td><b>slots_pred</b></td><td style=\"background-color: rgb(255,255,255);\">O</td><td style=\"background-color: rgb(255,255,255);\">B-Agent</td><td style=\"background-color: rgb(255,255,255);\">O</td><td style=\"background-color: rgb(255,255,255);\">B-Operational_state</td><td style=\"background-color: rgb(255,255,255);\">B-Device</td><td style=\"background-color: rgb(255,255,255);\">I-Device</td></tr></table>"
      ],
      "text/plain": [
       "<IPython.core.display.HTML object>"
      ]
     },
     "metadata": {},
     "output_type": "display_data"
    },
    {
     "name": "stdout",
     "output_type": "stream",
     "text": [
      "true: Searching pred: Searching\n"
     ]
    },
    {
     "data": {
      "text/html": [
       "<table><tr><td><b>words</b></td><td style=\"background-color: rgb(255,255,255);\">find</td><td style=\"background-color: rgb(255,255,255);\">the</td><td style=\"background-color: rgb(255,255,255);\">magazine</td></tr><tr><td><b>lexical_unit</b></td><td style=\"background-color: rgb(0.0000, 255,0.0000);\">1.0000</td><td style=\"background-color: rgb(255.0000, 255,255.0000);\">0.0000</td><td style=\"background-color: rgb(255.0000, 255,255.0000);\">0.0000</td></tr><tr><td><b>attention_intent</b></td><td style=\"background-color: rgb(254.9710, 255,254.9710);\">0.0001</td><td style=\"background-color: rgb(42.6439, 255,42.6439);\">0.8328</td><td style=\"background-color: rgb(212.3858, 255,212.3858);\">0.1671</td></tr><tr><td><b>slots_true</b></td><td style=\"background-color: rgb(255,255,255);\">O</td><td style=\"background-color: rgb(255,255,255);\">B-Phenomenon</td><td style=\"background-color: rgb(255,255,255);\">I-Phenomenon</td></tr><tr><td><b>slots_pred</b></td><td style=\"background-color: rgb(255,255,255);\">O</td><td style=\"background-color: rgb(255,255,255);\">B-Phenomenon</td><td style=\"background-color: rgb(255,255,255);\">I-Phenomenon</td></tr></table>"
      ],
      "text/plain": [
       "<IPython.core.display.HTML object>"
      ]
     },
     "metadata": {},
     "output_type": "display_data"
    },
    {
     "name": "stdout",
     "output_type": "stream",
     "text": [
      "true: Following pred: Following\n"
     ]
    },
    {
     "data": {
      "text/html": [
       "<table><tr><td><b>words</b></td><td style=\"background-color: rgb(255,255,255);\">follow</td><td style=\"background-color: rgb(255,255,255);\">me</td><td style=\"background-color: rgb(255,255,255);\">to</td><td style=\"background-color: rgb(255,255,255);\">the</td><td style=\"background-color: rgb(255,255,255);\">bathroom</td></tr><tr><td><b>lexical_unit</b></td><td style=\"background-color: rgb(0.0000, 255,0.0000);\">1.0000</td><td style=\"background-color: rgb(255.0000, 255,255.0000);\">0.0000</td><td style=\"background-color: rgb(255.0000, 255,255.0000);\">0.0000</td><td style=\"background-color: rgb(255.0000, 255,255.0000);\">0.0000</td><td style=\"background-color: rgb(255.0000, 255,255.0000);\">0.0000</td></tr><tr><td><b>attention_intent</b></td><td style=\"background-color: rgb(6.9088, 255,6.9088);\">0.9729</td><td style=\"background-color: rgb(252.5266, 255,252.5266);\">0.0097</td><td style=\"background-color: rgb(251.2007, 255,251.2007);\">0.0149</td><td style=\"background-color: rgb(254.3657, 255,254.3657);\">0.0025</td><td style=\"background-color: rgb(254.9998, 255,254.9998);\">0.0000</td></tr><tr><td><b>slots_true</b></td><td style=\"background-color: rgb(255,255,255);\">O</td><td style=\"background-color: rgb(255,255,255);\">B-Cotheme</td><td style=\"background-color: rgb(255,255,255);\">B-Goal</td><td style=\"background-color: rgb(255,255,255);\">I-Goal</td><td style=\"background-color: rgb(255,255,255);\">I-Goal</td></tr><tr><td><b>slots_pred</b></td><td style=\"background-color: rgb(255,255,255);\">O</td><td style=\"background-color: rgb(255,255,255);\">B-Cotheme</td><td style=\"background-color: rgb(255,255,255);\">B-Goal</td><td style=\"background-color: rgb(255,255,255);\">I-Goal</td><td style=\"background-color: rgb(255,255,255);\">I-Goal</td></tr></table>"
      ],
      "text/plain": [
       "<IPython.core.display.HTML object>"
      ]
     },
     "metadata": {},
     "output_type": "display_data"
    },
    {
     "name": "stdout",
     "output_type": "stream",
     "text": [
      "true: Taking pred: Taking\n"
     ]
    },
    {
     "data": {
      "text/html": [
       "<table><tr><td><b>words</b></td><td style=\"background-color: rgb(255,255,255);\">get</td><td style=\"background-color: rgb(255,255,255);\">my</td><td style=\"background-color: rgb(255,255,255);\">computer</td><td style=\"background-color: rgb(255,255,255);\">from</td><td style=\"background-color: rgb(255,255,255);\">the</td><td style=\"background-color: rgb(255,255,255);\">seat</td></tr><tr><td><b>lexical_unit</b></td><td style=\"background-color: rgb(0.0000, 255,0.0000);\">1.0000</td><td style=\"background-color: rgb(255.0000, 255,255.0000);\">0.0000</td><td style=\"background-color: rgb(255.0000, 255,255.0000);\">0.0000</td><td style=\"background-color: rgb(255.0000, 255,255.0000);\">0.0000</td><td style=\"background-color: rgb(255.0000, 255,255.0000);\">0.0000</td><td style=\"background-color: rgb(255.0000, 255,255.0000);\">0.0000</td></tr><tr><td><b>attention_intent</b></td><td style=\"background-color: rgb(254.4663, 255,254.4663);\">0.0021</td><td style=\"background-color: rgb(38.7738, 255,38.7738);\">0.8479</td><td style=\"background-color: rgb(254.8576, 255,254.8576);\">0.0006</td><td style=\"background-color: rgb(254.9195, 255,254.9195);\">0.0003</td><td style=\"background-color: rgb(217.0393, 255,217.0393);\">0.1489</td><td style=\"background-color: rgb(254.9999, 255,254.9999);\">0.0000</td></tr><tr><td><b>slots_true</b></td><td style=\"background-color: rgb(255,255,255);\">O</td><td style=\"background-color: rgb(255,255,255);\">B-Theme</td><td style=\"background-color: rgb(255,255,255);\">I-Theme</td><td style=\"background-color: rgb(255,255,255);\">B-Source</td><td style=\"background-color: rgb(255,255,255);\">I-Source</td><td style=\"background-color: rgb(255,255,255);\">I-Source</td></tr><tr><td><b>slots_pred</b></td><td style=\"background-color: rgb(255,255,255);\">O</td><td style=\"background-color: rgb(255,255,255);\">B-Theme</td><td style=\"background-color: rgb(255,255,255);\">I-Theme</td><td style=\"background-color: rgb(255,255,255);\">B-Source</td><td style=\"background-color: rgb(255,255,255);\">I-Source</td><td style=\"background-color: rgb(255,255,255);\">I-Source</td></tr></table>"
      ],
      "text/plain": [
       "<IPython.core.display.HTML object>"
      ]
     },
     "metadata": {},
     "output_type": "display_data"
    },
    {
     "name": "stdout",
     "output_type": "stream",
     "text": [
      "true: Bringing pred: Bringing\n"
     ]
    },
    {
     "data": {
      "text/html": [
       "<table><tr><td><b>words</b></td><td style=\"background-color: rgb(255,255,255);\">and</td><td style=\"background-color: rgb(255,255,255);\">bring</td><td style=\"background-color: rgb(255,255,255);\">me</td><td style=\"background-color: rgb(255,255,255);\">my</td><td style=\"background-color: rgb(255,255,255);\">laptop</td></tr><tr><td><b>lexical_unit</b></td><td style=\"background-color: rgb(255.0000, 255,255.0000);\">0.0000</td><td style=\"background-color: rgb(0.0000, 255,0.0000);\">1.0000</td><td style=\"background-color: rgb(255.0000, 255,255.0000);\">0.0000</td><td style=\"background-color: rgb(255.0000, 255,255.0000);\">0.0000</td><td style=\"background-color: rgb(255.0000, 255,255.0000);\">0.0000</td></tr><tr><td><b>attention_intent</b></td><td style=\"background-color: rgb(255.0000, 255,255.0000);\">0.0000</td><td style=\"background-color: rgb(247.3159, 255,247.3159);\">0.0301</td><td style=\"background-color: rgb(14.1311, 255,14.1311);\">0.9446</td><td style=\"background-color: rgb(248.6008, 255,248.6008);\">0.0251</td><td style=\"background-color: rgb(254.9527, 255,254.9527);\">0.0002</td></tr><tr><td><b>slots_true</b></td><td style=\"background-color: rgb(255,255,255);\">O</td><td style=\"background-color: rgb(255,255,255);\">O</td><td style=\"background-color: rgb(255,255,255);\">B-Beneficiary</td><td style=\"background-color: rgb(255,255,255);\">B-Theme</td><td style=\"background-color: rgb(255,255,255);\">I-Theme</td></tr><tr><td><b>slots_pred</b></td><td style=\"background-color: rgb(255,255,255);\">O</td><td style=\"background-color: rgb(255,255,255);\">O</td><td style=\"background-color: rgb(255,255,255);\">B-Beneficiary</td><td style=\"background-color: rgb(255,255,255);\">B-Theme</td><td style=\"background-color: rgb(255,255,255);\">I-Theme</td></tr></table>"
      ],
      "text/plain": [
       "<IPython.core.display.HTML object>"
      ]
     },
     "metadata": {},
     "output_type": "display_data"
    },
    {
     "name": "stdout",
     "output_type": "stream",
     "text": [
      "true: Motion pred: Motion\n"
     ]
    },
    {
     "data": {
      "text/html": [
       "<table><tr><td><b>words</b></td><td style=\"background-color: rgb(255,255,255);\">go</td><td style=\"background-color: rgb(255,255,255);\">to</td><td style=\"background-color: rgb(255,255,255);\">the</td><td style=\"background-color: rgb(255,255,255);\">telephone</td></tr><tr><td><b>lexical_unit</b></td><td style=\"background-color: rgb(0.0000, 255,0.0000);\">1.0000</td><td style=\"background-color: rgb(255.0000, 255,255.0000);\">0.0000</td><td style=\"background-color: rgb(255.0000, 255,255.0000);\">0.0000</td><td style=\"background-color: rgb(255.0000, 255,255.0000);\">0.0000</td></tr><tr><td><b>attention_intent</b></td><td style=\"background-color: rgb(254.9977, 255,254.9977);\">0.0000</td><td style=\"background-color: rgb(183.0116, 255,183.0116);\">0.2823</td><td style=\"background-color: rgb(72.5045, 255,72.5045);\">0.7157</td><td style=\"background-color: rgb(254.4927, 255,254.4927);\">0.0020</td></tr><tr><td><b>slots_true</b></td><td style=\"background-color: rgb(255,255,255);\">O</td><td style=\"background-color: rgb(255,255,255);\">B-Goal</td><td style=\"background-color: rgb(255,255,255);\">I-Goal</td><td style=\"background-color: rgb(255,255,255);\">I-Goal</td></tr><tr><td><b>slots_pred</b></td><td style=\"background-color: rgb(255,255,255);\">O</td><td style=\"background-color: rgb(255,255,255);\">B-Goal</td><td style=\"background-color: rgb(255,255,255);\">I-Goal</td><td style=\"background-color: rgb(255,255,255);\">I-Goal</td></tr></table>"
      ],
      "text/plain": [
       "<IPython.core.display.HTML object>"
      ]
     },
     "metadata": {},
     "output_type": "display_data"
    },
    {
     "name": "stdout",
     "output_type": "stream",
     "text": [
      "true: Inspecting pred: Inspecting\n"
     ]
    },
    {
     "data": {
      "text/html": [
       "<table><tr><td><b>words</b></td><td style=\"background-color: rgb(255,255,255);\">and</td><td style=\"background-color: rgb(255,255,255);\">check</td><td style=\"background-color: rgb(255,255,255);\">for</td><td style=\"background-color: rgb(255,255,255);\">any</td><td style=\"background-color: rgb(255,255,255);\">messages</td></tr><tr><td><b>lexical_unit</b></td><td style=\"background-color: rgb(255.0000, 255,255.0000);\">0.0000</td><td style=\"background-color: rgb(0.0000, 255,0.0000);\">1.0000</td><td style=\"background-color: rgb(255.0000, 255,255.0000);\">0.0000</td><td style=\"background-color: rgb(255.0000, 255,255.0000);\">0.0000</td><td style=\"background-color: rgb(255.0000, 255,255.0000);\">0.0000</td></tr><tr><td><b>attention_intent</b></td><td style=\"background-color: rgb(255.0000, 255,255.0000);\">0.0000</td><td style=\"background-color: rgb(254.9951, 255,254.9951);\">0.0000</td><td style=\"background-color: rgb(225.6062, 255,225.6062);\">0.1153</td><td style=\"background-color: rgb(30.0977, 255,30.0977);\">0.8820</td><td style=\"background-color: rgb(254.3029, 255,254.3029);\">0.0027</td></tr><tr><td><b>slots_true</b></td><td style=\"background-color: rgb(255,255,255);\">O</td><td style=\"background-color: rgb(255,255,255);\">O</td><td style=\"background-color: rgb(255,255,255);\">B-Unwanted_entity</td><td style=\"background-color: rgb(255,255,255);\">I-Unwanted_entity</td><td style=\"background-color: rgb(255,255,255);\">I-Unwanted_entity</td></tr><tr><td><b>slots_pred</b></td><td style=\"background-color: rgb(255,255,255);\">O</td><td style=\"background-color: rgb(255,255,255);\">O</td><td style=\"background-color: rgb(255,255,255);\">B-Phenomenon</td><td style=\"background-color: rgb(255,255,255);\">I-Phenomenon</td><td style=\"background-color: rgb(255,255,255);\">I-Phenomenon</td></tr></table>"
      ],
      "text/plain": [
       "<IPython.core.display.HTML object>"
      ]
     },
     "metadata": {},
     "output_type": "display_data"
    },
    {
     "name": "stdout",
     "output_type": "stream",
     "text": [
      "true: Closure pred: Closure\n"
     ]
    },
    {
     "data": {
      "text/html": [
       "<table><tr><td><b>words</b></td><td style=\"background-color: rgb(255,255,255);\">please</td><td style=\"background-color: rgb(255,255,255);\">close</td><td style=\"background-color: rgb(255,255,255);\">the</td><td style=\"background-color: rgb(255,255,255);\">blinds</td></tr><tr><td><b>lexical_unit</b></td><td style=\"background-color: rgb(255.0000, 255,255.0000);\">0.0000</td><td style=\"background-color: rgb(0.0000, 255,0.0000);\">1.0000</td><td style=\"background-color: rgb(255.0000, 255,255.0000);\">0.0000</td><td style=\"background-color: rgb(255.0000, 255,255.0000);\">0.0000</td></tr><tr><td><b>attention_intent</b></td><td style=\"background-color: rgb(255.0000, 255,255.0000);\">0.0000</td><td style=\"background-color: rgb(254.8837, 255,254.8837);\">0.0005</td><td style=\"background-color: rgb(0.1355, 255,0.1355);\">0.9995</td><td style=\"background-color: rgb(254.9884, 255,254.9884);\">0.0000</td></tr><tr><td><b>slots_true</b></td><td style=\"background-color: rgb(255,255,255);\">O</td><td style=\"background-color: rgb(255,255,255);\">O</td><td style=\"background-color: rgb(255,255,255);\">B-Container_portal</td><td style=\"background-color: rgb(255,255,255);\">I-Container_portal</td></tr><tr><td><b>slots_pred</b></td><td style=\"background-color: rgb(255,255,255);\">O</td><td style=\"background-color: rgb(255,255,255);\">O</td><td style=\"background-color: rgb(255,255,255);\">B-Container_portal</td><td style=\"background-color: rgb(255,255,255);\">I-Container_portal</td></tr></table>"
      ],
      "text/plain": [
       "<IPython.core.display.HTML object>"
      ]
     },
     "metadata": {},
     "output_type": "display_data"
    },
    {
     "name": "stdout",
     "output_type": "stream",
     "text": [
      "true: Bringing pred: Bringing\n"
     ]
    },
    {
     "data": {
      "text/html": [
       "<table><tr><td><b>words</b></td><td style=\"background-color: rgb(255,255,255);\">robot</td><td style=\"background-color: rgb(255,255,255);\">can</td><td style=\"background-color: rgb(255,255,255);\">you</td><td style=\"background-color: rgb(255,255,255);\">bring</td><td style=\"background-color: rgb(255,255,255);\">me</td><td style=\"background-color: rgb(255,255,255);\">a</td><td style=\"background-color: rgb(255,255,255);\">towel</td></tr><tr><td><b>lexical_unit</b></td><td style=\"background-color: rgb(255.0000, 255,255.0000);\">0.0000</td><td style=\"background-color: rgb(255.0000, 255,255.0000);\">0.0000</td><td style=\"background-color: rgb(255.0000, 255,255.0000);\">0.0000</td><td style=\"background-color: rgb(0.0000, 255,0.0000);\">1.0000</td><td style=\"background-color: rgb(255.0000, 255,255.0000);\">0.0000</td><td style=\"background-color: rgb(255.0000, 255,255.0000);\">0.0000</td><td style=\"background-color: rgb(255.0000, 255,255.0000);\">0.0000</td></tr><tr><td><b>attention_intent</b></td><td style=\"background-color: rgb(255.0000, 255,255.0000);\">0.0000</td><td style=\"background-color: rgb(255.0000, 255,255.0000);\">0.0000</td><td style=\"background-color: rgb(255.0000, 255,255.0000);\">0.0000</td><td style=\"background-color: rgb(253.1449, 255,253.1449);\">0.0073</td><td style=\"background-color: rgb(4.2900, 255,4.2900);\">0.9832</td><td style=\"background-color: rgb(252.5716, 255,252.5716);\">0.0095</td><td style=\"background-color: rgb(254.9939, 255,254.9939);\">0.0000</td></tr><tr><td><b>slots_true</b></td><td style=\"background-color: rgb(255,255,255);\">O</td><td style=\"background-color: rgb(255,255,255);\">O</td><td style=\"background-color: rgb(255,255,255);\">B-Agent</td><td style=\"background-color: rgb(255,255,255);\">O</td><td style=\"background-color: rgb(255,255,255);\">B-Beneficiary</td><td style=\"background-color: rgb(255,255,255);\">B-Theme</td><td style=\"background-color: rgb(255,255,255);\">I-Theme</td></tr><tr><td><b>slots_pred</b></td><td style=\"background-color: rgb(255,255,255);\">O</td><td style=\"background-color: rgb(255,255,255);\">O</td><td style=\"background-color: rgb(255,255,255);\">B-Agent</td><td style=\"background-color: rgb(255,255,255);\">O</td><td style=\"background-color: rgb(255,255,255);\">B-Beneficiary</td><td style=\"background-color: rgb(255,255,255);\">B-Theme</td><td style=\"background-color: rgb(255,255,255);\">I-Theme</td></tr></table>"
      ],
      "text/plain": [
       "<IPython.core.display.HTML object>"
      ]
     },
     "metadata": {},
     "output_type": "display_data"
    },
    {
     "name": "stdout",
     "output_type": "stream",
     "text": [
      "true: Giving pred: Giving\n"
     ]
    },
    {
     "data": {
      "text/html": [
       "<table><tr><td><b>words</b></td><td style=\"background-color: rgb(255,255,255);\">robot</td><td style=\"background-color: rgb(255,255,255);\">can</td><td style=\"background-color: rgb(255,255,255);\">you</td><td style=\"background-color: rgb(255,255,255);\">pass</td><td style=\"background-color: rgb(255,255,255);\">me</td><td style=\"background-color: rgb(255,255,255);\">a</td><td style=\"background-color: rgb(255,255,255);\">plastic</td><td style=\"background-color: rgb(255,255,255);\">plate</td></tr><tr><td><b>lexical_unit</b></td><td style=\"background-color: rgb(255.0000, 255,255.0000);\">0.0000</td><td style=\"background-color: rgb(255.0000, 255,255.0000);\">0.0000</td><td style=\"background-color: rgb(255.0000, 255,255.0000);\">0.0000</td><td style=\"background-color: rgb(0.0000, 255,0.0000);\">1.0000</td><td style=\"background-color: rgb(255.0000, 255,255.0000);\">0.0000</td><td style=\"background-color: rgb(255.0000, 255,255.0000);\">0.0000</td><td style=\"background-color: rgb(255.0000, 255,255.0000);\">0.0000</td><td style=\"background-color: rgb(255.0000, 255,255.0000);\">0.0000</td></tr><tr><td><b>attention_intent</b></td><td style=\"background-color: rgb(255.0000, 255,255.0000);\">0.0000</td><td style=\"background-color: rgb(255.0000, 255,255.0000);\">0.0000</td><td style=\"background-color: rgb(255.0000, 255,255.0000);\">0.0000</td><td style=\"background-color: rgb(254.9054, 255,254.9054);\">0.0004</td><td style=\"background-color: rgb(94.9296, 255,94.9296);\">0.6277</td><td style=\"background-color: rgb(162.6937, 255,162.6937);\">0.3620</td><td style=\"background-color: rgb(252.4992, 255,252.4992);\">0.0098</td><td style=\"background-color: rgb(255.0000, 255,255.0000);\">0.0000</td></tr><tr><td><b>slots_true</b></td><td style=\"background-color: rgb(255,255,255);\">O</td><td style=\"background-color: rgb(255,255,255);\">O</td><td style=\"background-color: rgb(255,255,255);\">B-Donor</td><td style=\"background-color: rgb(255,255,255);\">O</td><td style=\"background-color: rgb(255,255,255);\">B-Recipient</td><td style=\"background-color: rgb(255,255,255);\">B-Theme</td><td style=\"background-color: rgb(255,255,255);\">I-Theme</td><td style=\"background-color: rgb(255,255,255);\">I-Theme</td></tr><tr><td><b>slots_pred</b></td><td style=\"background-color: rgb(255,255,255);\">O</td><td style=\"background-color: rgb(255,255,255);\">O</td><td style=\"background-color: rgb(255,255,255);\">B-Donor</td><td style=\"background-color: rgb(255,255,255);\">O</td><td style=\"background-color: rgb(255,255,255);\">B-Recipient</td><td style=\"background-color: rgb(255,255,255);\">B-Theme</td><td style=\"background-color: rgb(255,255,255);\">I-Theme</td><td style=\"background-color: rgb(255,255,255);\">I-Theme</td></tr></table>"
      ],
      "text/plain": [
       "<IPython.core.display.HTML object>"
      ]
     },
     "metadata": {},
     "output_type": "display_data"
    },
    {
     "name": "stdout",
     "output_type": "stream",
     "text": [
      "true: Change_operational_state pred: Change_operational_state\n"
     ]
    },
    {
     "data": {
      "text/html": [
       "<table><tr><td><b>words</b></td><td style=\"background-color: rgb(255,255,255);\">robot</td><td style=\"background-color: rgb(255,255,255);\">can</td><td style=\"background-color: rgb(255,255,255);\">you</td><td style=\"background-color: rgb(255,255,255);\">turn</td><td style=\"background-color: rgb(255,255,255);\">my</td><td style=\"background-color: rgb(255,255,255);\">laptop</td><td style=\"background-color: rgb(255,255,255);\">on</td></tr><tr><td><b>lexical_unit</b></td><td style=\"background-color: rgb(255.0000, 255,255.0000);\">0.0000</td><td style=\"background-color: rgb(255.0000, 255,255.0000);\">0.0000</td><td style=\"background-color: rgb(255.0000, 255,255.0000);\">0.0000</td><td style=\"background-color: rgb(0.0000, 255,0.0000);\">1.0000</td><td style=\"background-color: rgb(255.0000, 255,255.0000);\">0.0000</td><td style=\"background-color: rgb(255.0000, 255,255.0000);\">0.0000</td><td style=\"background-color: rgb(255.0000, 255,255.0000);\">0.0000</td></tr><tr><td><b>attention_intent</b></td><td style=\"background-color: rgb(255.0000, 255,255.0000);\">0.0000</td><td style=\"background-color: rgb(255.0000, 255,255.0000);\">0.0000</td><td style=\"background-color: rgb(255.0000, 255,255.0000);\">0.0000</td><td style=\"background-color: rgb(203.5553, 255,203.5553);\">0.2017</td><td style=\"background-color: rgb(216.6144, 255,216.6144);\">0.1505</td><td style=\"background-color: rgb(111.9313, 255,111.9313);\">0.5611</td><td style=\"background-color: rgb(232.9009, 255,232.9009);\">0.0867</td></tr><tr><td><b>slots_true</b></td><td style=\"background-color: rgb(255,255,255);\">O</td><td style=\"background-color: rgb(255,255,255);\">O</td><td style=\"background-color: rgb(255,255,255);\">B-Agent</td><td style=\"background-color: rgb(255,255,255);\">O</td><td style=\"background-color: rgb(255,255,255);\">B-Device</td><td style=\"background-color: rgb(255,255,255);\">I-Device</td><td style=\"background-color: rgb(255,255,255);\">B-Operational_state</td></tr><tr><td><b>slots_pred</b></td><td style=\"background-color: rgb(255,255,255);\">O</td><td style=\"background-color: rgb(255,255,255);\">O</td><td style=\"background-color: rgb(255,255,255);\">B-Agent</td><td style=\"background-color: rgb(255,255,255);\">O</td><td style=\"background-color: rgb(255,255,255);\">B-Device</td><td style=\"background-color: rgb(255,255,255);\">I-Device</td><td style=\"background-color: rgb(255,255,255);\">B-Operational_state</td></tr></table>"
      ],
      "text/plain": [
       "<IPython.core.display.HTML object>"
      ]
     },
     "metadata": {},
     "output_type": "display_data"
    },
    {
     "name": "stdout",
     "output_type": "stream",
     "text": [
      "true: Following pred: Following\n"
     ]
    },
    {
     "data": {
      "text/html": [
       "<table><tr><td><b>words</b></td><td style=\"background-color: rgb(255,255,255);\">robot</td><td style=\"background-color: rgb(255,255,255);\">come</td><td style=\"background-color: rgb(255,255,255);\">with</td><td style=\"background-color: rgb(255,255,255);\">me</td><td style=\"background-color: rgb(255,255,255);\">to</td><td style=\"background-color: rgb(255,255,255);\">the</td><td style=\"background-color: rgb(255,255,255);\">living</td><td style=\"background-color: rgb(255,255,255);\">room</td></tr><tr><td><b>lexical_unit</b></td><td style=\"background-color: rgb(255.0000, 255,255.0000);\">0.0000</td><td style=\"background-color: rgb(0.0000, 255,0.0000);\">1.0000</td><td style=\"background-color: rgb(255.0000, 255,255.0000);\">0.0000</td><td style=\"background-color: rgb(255.0000, 255,255.0000);\">0.0000</td><td style=\"background-color: rgb(255.0000, 255,255.0000);\">0.0000</td><td style=\"background-color: rgb(255.0000, 255,255.0000);\">0.0000</td><td style=\"background-color: rgb(255.0000, 255,255.0000);\">0.0000</td><td style=\"background-color: rgb(255.0000, 255,255.0000);\">0.0000</td></tr><tr><td><b>attention_intent</b></td><td style=\"background-color: rgb(255.0000, 255,255.0000);\">0.0000</td><td style=\"background-color: rgb(254.9623, 255,254.9623);\">0.0001</td><td style=\"background-color: rgb(173.1298, 255,173.1298);\">0.3211</td><td style=\"background-color: rgb(230.5792, 255,230.5792);\">0.0958</td><td style=\"background-color: rgb(120.0500, 255,120.0500);\">0.5292</td><td style=\"background-color: rgb(242.3746, 255,242.3746);\">0.0495</td><td style=\"background-color: rgb(253.9193, 255,253.9193);\">0.0042</td><td style=\"background-color: rgb(255.0000, 255,255.0000);\">0.0000</td></tr><tr><td><b>slots_true</b></td><td style=\"background-color: rgb(255,255,255);\">O</td><td style=\"background-color: rgb(255,255,255);\">O</td><td style=\"background-color: rgb(255,255,255);\">B-Cotheme</td><td style=\"background-color: rgb(255,255,255);\">I-Cotheme</td><td style=\"background-color: rgb(255,255,255);\">B-Goal</td><td style=\"background-color: rgb(255,255,255);\">I-Goal</td><td style=\"background-color: rgb(255,255,255);\">I-Goal</td><td style=\"background-color: rgb(255,255,255);\">I-Goal</td></tr><tr><td><b>slots_pred</b></td><td style=\"background-color: rgb(255,255,255);\">O</td><td style=\"background-color: rgb(255,255,255);\">O</td><td style=\"background-color: rgb(255,255,255);\">B-Theme</td><td style=\"background-color: rgb(255,255,255);\">I-Theme</td><td style=\"background-color: rgb(255,255,255);\">B-Goal</td><td style=\"background-color: rgb(255,255,255);\">I-Goal</td><td style=\"background-color: rgb(255,255,255);\">I-Goal</td><td style=\"background-color: rgb(255,255,255);\">I-Goal</td></tr></table>"
      ],
      "text/plain": [
       "<IPython.core.display.HTML object>"
      ]
     },
     "metadata": {},
     "output_type": "display_data"
    },
    {
     "name": "stdout",
     "output_type": "stream",
     "text": [
      "true: Change_operational_state pred: Change_operational_state\n"
     ]
    },
    {
     "data": {
      "text/html": [
       "<table><tr><td><b>words</b></td><td style=\"background-color: rgb(255,255,255);\">switch</td><td style=\"background-color: rgb(255,255,255);\">on</td><td style=\"background-color: rgb(255,255,255);\">the</td><td style=\"background-color: rgb(255,255,255);\">tv</td></tr><tr><td><b>lexical_unit</b></td><td style=\"background-color: rgb(0.0000, 255,0.0000);\">1.0000</td><td style=\"background-color: rgb(255.0000, 255,255.0000);\">0.0000</td><td style=\"background-color: rgb(255.0000, 255,255.0000);\">0.0000</td><td style=\"background-color: rgb(255.0000, 255,255.0000);\">0.0000</td></tr><tr><td><b>attention_intent</b></td><td style=\"background-color: rgb(254.9463, 255,254.9463);\">0.0002</td><td style=\"background-color: rgb(98.1880, 255,98.1880);\">0.6149</td><td style=\"background-color: rgb(203.4525, 255,203.4525);\">0.2021</td><td style=\"background-color: rgb(208.4160, 255,208.4160);\">0.1827</td></tr><tr><td><b>slots_true</b></td><td style=\"background-color: rgb(255,255,255);\">O</td><td style=\"background-color: rgb(255,255,255);\">B-Operational_state</td><td style=\"background-color: rgb(255,255,255);\">B-Device</td><td style=\"background-color: rgb(255,255,255);\">I-Device</td></tr><tr><td><b>slots_pred</b></td><td style=\"background-color: rgb(255,255,255);\">O</td><td style=\"background-color: rgb(255,255,255);\">B-Operational_state</td><td style=\"background-color: rgb(255,255,255);\">B-Device</td><td style=\"background-color: rgb(255,255,255);\">I-Device</td></tr></table>"
      ],
      "text/plain": [
       "<IPython.core.display.HTML object>"
      ]
     },
     "metadata": {},
     "output_type": "display_data"
    },
    {
     "name": "stdout",
     "output_type": "stream",
     "text": [
      "true: Placing pred: Placing\n"
     ]
    },
    {
     "data": {
      "text/html": [
       "<table><tr><td><b>words</b></td><td style=\"background-color: rgb(255,255,255);\">and</td><td style=\"background-color: rgb(255,255,255);\">put</td><td style=\"background-color: rgb(255,255,255);\">it</td><td style=\"background-color: rgb(255,255,255);\">on</td><td style=\"background-color: rgb(255,255,255);\">the</td><td style=\"background-color: rgb(255,255,255);\">coffee</td><td style=\"background-color: rgb(255,255,255);\">table</td></tr><tr><td><b>lexical_unit</b></td><td style=\"background-color: rgb(255.0000, 255,255.0000);\">0.0000</td><td style=\"background-color: rgb(0.0000, 255,0.0000);\">1.0000</td><td style=\"background-color: rgb(255.0000, 255,255.0000);\">0.0000</td><td style=\"background-color: rgb(255.0000, 255,255.0000);\">0.0000</td><td style=\"background-color: rgb(255.0000, 255,255.0000);\">0.0000</td><td style=\"background-color: rgb(255.0000, 255,255.0000);\">0.0000</td><td style=\"background-color: rgb(255.0000, 255,255.0000);\">0.0000</td></tr><tr><td><b>attention_intent</b></td><td style=\"background-color: rgb(254.9999, 255,254.9999);\">0.0000</td><td style=\"background-color: rgb(254.9182, 255,254.9182);\">0.0003</td><td style=\"background-color: rgb(254.7609, 255,254.7609);\">0.0009</td><td style=\"background-color: rgb(226.3403, 255,226.3403);\">0.1124</td><td style=\"background-color: rgb(87.7540, 255,87.7540);\">0.6559</td><td style=\"background-color: rgb(226.5090, 255,226.5090);\">0.1117</td><td style=\"background-color: rgb(224.7209, 255,224.7209);\">0.1187</td></tr><tr><td><b>slots_true</b></td><td style=\"background-color: rgb(255,255,255);\">O</td><td style=\"background-color: rgb(255,255,255);\">O</td><td style=\"background-color: rgb(255,255,255);\">B-Theme</td><td style=\"background-color: rgb(255,255,255);\">B-Goal</td><td style=\"background-color: rgb(255,255,255);\">I-Goal</td><td style=\"background-color: rgb(255,255,255);\">I-Goal</td><td style=\"background-color: rgb(255,255,255);\">I-Goal</td></tr><tr><td><b>slots_pred</b></td><td style=\"background-color: rgb(255,255,255);\">O</td><td style=\"background-color: rgb(255,255,255);\">O</td><td style=\"background-color: rgb(255,255,255);\">B-Theme</td><td style=\"background-color: rgb(255,255,255);\">B-Goal</td><td style=\"background-color: rgb(255,255,255);\">I-Goal</td><td style=\"background-color: rgb(255,255,255);\">I-Goal</td><td style=\"background-color: rgb(255,255,255);\">I-Goal</td></tr></table>"
      ],
      "text/plain": [
       "<IPython.core.display.HTML object>"
      ]
     },
     "metadata": {},
     "output_type": "display_data"
    },
    {
     "name": "stdout",
     "output_type": "stream",
     "text": [
      "true: Taking pred: Taking\n"
     ]
    },
    {
     "data": {
      "text/html": [
       "<table><tr><td><b>words</b></td><td style=\"background-color: rgb(255,255,255);\">take</td><td style=\"background-color: rgb(255,255,255);\">the</td><td style=\"background-color: rgb(255,255,255);\">newspaper</td><td style=\"background-color: rgb(255,255,255);\">from</td><td style=\"background-color: rgb(255,255,255);\">the</td><td style=\"background-color: rgb(255,255,255);\">stand</td></tr><tr><td><b>lexical_unit</b></td><td style=\"background-color: rgb(0.0000, 255,0.0000);\">1.0000</td><td style=\"background-color: rgb(255.0000, 255,255.0000);\">0.0000</td><td style=\"background-color: rgb(255.0000, 255,255.0000);\">0.0000</td><td style=\"background-color: rgb(255.0000, 255,255.0000);\">0.0000</td><td style=\"background-color: rgb(255.0000, 255,255.0000);\">0.0000</td><td style=\"background-color: rgb(255.0000, 255,255.0000);\">0.0000</td></tr><tr><td><b>attention_intent</b></td><td style=\"background-color: rgb(254.8510, 255,254.8510);\">0.0006</td><td style=\"background-color: rgb(192.1929, 255,192.1929);\">0.2463</td><td style=\"background-color: rgb(254.6564, 255,254.6564);\">0.0013</td><td style=\"background-color: rgb(254.2607, 255,254.2607);\">0.0029</td><td style=\"background-color: rgb(64.1407, 255,64.1407);\">0.7485</td><td style=\"background-color: rgb(254.9980, 255,254.9980);\">0.0000</td></tr><tr><td><b>slots_true</b></td><td style=\"background-color: rgb(255,255,255);\">O</td><td style=\"background-color: rgb(255,255,255);\">B-Theme</td><td style=\"background-color: rgb(255,255,255);\">I-Theme</td><td style=\"background-color: rgb(255,255,255);\">B-Source</td><td style=\"background-color: rgb(255,255,255);\">I-Source</td><td style=\"background-color: rgb(255,255,255);\">I-Source</td></tr><tr><td><b>slots_pred</b></td><td style=\"background-color: rgb(255,255,255);\">O</td><td style=\"background-color: rgb(255,255,255);\">B-Theme</td><td style=\"background-color: rgb(255,255,255);\">I-Theme</td><td style=\"background-color: rgb(255,255,255);\">B-Source</td><td style=\"background-color: rgb(255,255,255);\">I-Source</td><td style=\"background-color: rgb(255,255,255);\">I-Source</td></tr></table>"
      ],
      "text/plain": [
       "<IPython.core.display.HTML object>"
      ]
     },
     "metadata": {},
     "output_type": "display_data"
    },
    {
     "name": "stdout",
     "output_type": "stream",
     "text": [
      "true: Change_operational_state pred: Change_operational_state\n"
     ]
    },
    {
     "data": {
      "text/html": [
       "<table><tr><td><b>words</b></td><td style=\"background-color: rgb(255,255,255);\">restart</td><td style=\"background-color: rgb(255,255,255);\">the</td><td style=\"background-color: rgb(255,255,255);\">wifi</td></tr><tr><td><b>lexical_unit</b></td><td style=\"background-color: rgb(0.0000, 255,0.0000);\">1.0000</td><td style=\"background-color: rgb(255.0000, 255,255.0000);\">0.0000</td><td style=\"background-color: rgb(255.0000, 255,255.0000);\">0.0000</td></tr><tr><td><b>attention_intent</b></td><td style=\"background-color: rgb(229.1753, 255,229.1753);\">0.1013</td><td style=\"background-color: rgb(28.9203, 255,28.9203);\">0.8866</td><td style=\"background-color: rgb(251.9358, 255,251.9358);\">0.0120</td></tr><tr><td><b>slots_true</b></td><td style=\"background-color: rgb(255,255,255);\">O</td><td style=\"background-color: rgb(255,255,255);\">B-Device</td><td style=\"background-color: rgb(255,255,255);\">I-Device</td></tr><tr><td><b>slots_pred</b></td><td style=\"background-color: rgb(255,255,255);\">O</td><td style=\"background-color: rgb(255,255,255);\">B-Device</td><td style=\"background-color: rgb(255,255,255);\">I-Device</td></tr></table>"
      ],
      "text/plain": [
       "<IPython.core.display.HTML object>"
      ]
     },
     "metadata": {},
     "output_type": "display_data"
    },
    {
     "name": "stdout",
     "output_type": "stream",
     "text": [
      "true: Placing pred: Placing\n"
     ]
    },
    {
     "data": {
      "text/html": [
       "<table><tr><td><b>words</b></td><td style=\"background-color: rgb(255,255,255);\">hang</td><td style=\"background-color: rgb(255,255,255);\">my</td><td style=\"background-color: rgb(255,255,255);\">coat</td><td style=\"background-color: rgb(255,255,255);\">in</td><td style=\"background-color: rgb(255,255,255);\">the</td><td style=\"background-color: rgb(255,255,255);\">closet</td><td style=\"background-color: rgb(255,255,255);\">in</td><td style=\"background-color: rgb(255,255,255);\">my</td><td style=\"background-color: rgb(255,255,255);\">bedroom</td></tr><tr><td><b>lexical_unit</b></td><td style=\"background-color: rgb(0.0000, 255,0.0000);\">1.0000</td><td style=\"background-color: rgb(255.0000, 255,255.0000);\">0.0000</td><td style=\"background-color: rgb(255.0000, 255,255.0000);\">0.0000</td><td style=\"background-color: rgb(255.0000, 255,255.0000);\">0.0000</td><td style=\"background-color: rgb(255.0000, 255,255.0000);\">0.0000</td><td style=\"background-color: rgb(255.0000, 255,255.0000);\">0.0000</td><td style=\"background-color: rgb(255.0000, 255,255.0000);\">0.0000</td><td style=\"background-color: rgb(255.0000, 255,255.0000);\">0.0000</td><td style=\"background-color: rgb(255.0000, 255,255.0000);\">0.0000</td></tr><tr><td><b>attention_intent</b></td><td style=\"background-color: rgb(254.9987, 255,254.9987);\">0.0000</td><td style=\"background-color: rgb(254.9054, 255,254.9054);\">0.0004</td><td style=\"background-color: rgb(254.9976, 255,254.9976);\">0.0000</td><td style=\"background-color: rgb(254.9822, 255,254.9822);\">0.0001</td><td style=\"background-color: rgb(254.7262, 255,254.7262);\">0.0011</td><td style=\"background-color: rgb(254.3902, 255,254.3902);\">0.0024</td><td style=\"background-color: rgb(251.2005, 255,251.2005);\">0.0149</td><td style=\"background-color: rgb(41.9461, 255,41.9461);\">0.8355</td><td style=\"background-color: rgb(217.8541, 255,217.8541);\">0.1457</td></tr><tr><td><b>slots_true</b></td><td style=\"background-color: rgb(255,255,255);\">O</td><td style=\"background-color: rgb(255,255,255);\">B-Theme</td><td style=\"background-color: rgb(255,255,255);\">I-Theme</td><td style=\"background-color: rgb(255,255,255);\">B-Goal</td><td style=\"background-color: rgb(255,255,255);\">I-Goal</td><td style=\"background-color: rgb(255,255,255);\">I-Goal</td><td style=\"background-color: rgb(255,255,255);\">I-Goal</td><td style=\"background-color: rgb(255,255,255);\">I-Goal</td><td style=\"background-color: rgb(255,255,255);\">I-Goal</td></tr><tr><td><b>slots_pred</b></td><td style=\"background-color: rgb(255,255,255);\">O</td><td style=\"background-color: rgb(255,255,255);\">B-Theme</td><td style=\"background-color: rgb(255,255,255);\">I-Theme</td><td style=\"background-color: rgb(255,255,255);\">B-Goal</td><td style=\"background-color: rgb(255,255,255);\">I-Goal</td><td style=\"background-color: rgb(255,255,255);\">I-Goal</td><td style=\"background-color: rgb(255,255,255);\">I-Goal</td><td style=\"background-color: rgb(255,255,255);\">I-Goal</td><td style=\"background-color: rgb(255,255,255);\">I-Goal</td></tr></table>"
      ],
      "text/plain": [
       "<IPython.core.display.HTML object>"
      ]
     },
     "metadata": {},
     "output_type": "display_data"
    }
   ],
   "source": [
    "# Basic HuRIC results\n",
    "samples = utils.load_json(FOLDER_WITHOUT_FRAMENET)\n",
    "print('#samples', len(samples))\n",
    "samples_wrong = [s for s in samples if s['intent_pred'] != s['intent_true']]\n",
    "print('#samples_wrong_intent', len(samples_wrong))\n",
    "utils.display_all(samples, False, False, False)"
   ]
  },
  {
   "cell_type": "code",
   "execution_count": 3,
   "metadata": {},
   "outputs": [
    {
     "name": "stdout",
     "output_type": "stream",
     "text": [
      "#samples 109\n",
      "#samples_wrong_intent 5\n",
      "true: Being_in_category pred: Being_in_category\n"
     ]
    },
    {
     "data": {
      "text/html": [
       "<table><tr><td><b>words</b></td><td style=\"background-color: rgb(255,255,255);\">this</td><td style=\"background-color: rgb(255,255,255);\">is</td><td style=\"background-color: rgb(255,255,255);\">a</td><td style=\"background-color: rgb(255,255,255);\">table</td><td style=\"background-color: rgb(255,255,255);\">with</td><td style=\"background-color: rgb(255,255,255);\">a</td><td style=\"background-color: rgb(255,255,255);\">glass</td><td style=\"background-color: rgb(255,255,255);\">deck</td></tr><tr><td><b>lexical_unit</b></td><td style=\"background-color: rgb(255.0000, 255,255.0000);\">0.0000</td><td style=\"background-color: rgb(0.0000, 255,0.0000);\">1.0000</td><td style=\"background-color: rgb(255.0000, 255,255.0000);\">0.0000</td><td style=\"background-color: rgb(255.0000, 255,255.0000);\">0.0000</td><td style=\"background-color: rgb(255.0000, 255,255.0000);\">0.0000</td><td style=\"background-color: rgb(255.0000, 255,255.0000);\">0.0000</td><td style=\"background-color: rgb(255.0000, 255,255.0000);\">0.0000</td><td style=\"background-color: rgb(255.0000, 255,255.0000);\">0.0000</td></tr><tr><td><b>attention_intent</b></td><td style=\"background-color: rgb(255.0000, 255,255.0000);\">0.0000</td><td style=\"background-color: rgb(254.9968, 255,254.9968);\">0.0000</td><td style=\"background-color: rgb(254.9941, 255,254.9941);\">0.0000</td><td style=\"background-color: rgb(197.9601, 255,197.9601);\">0.2237</td><td style=\"background-color: rgb(255.0000, 255,255.0000);\">0.0000</td><td style=\"background-color: rgb(255.0000, 255,255.0000);\">0.0000</td><td style=\"background-color: rgb(254.8624, 255,254.8624);\">0.0005</td><td style=\"background-color: rgb(57.1905, 255,57.1905);\">0.7757</td></tr><tr><td><b>slots_true</b></td><td style=\"background-color: rgb(255,255,255);\">B-Item</td><td style=\"background-color: rgb(255,255,255);\">O</td><td style=\"background-color: rgb(255,255,255);\">B-Category</td><td style=\"background-color: rgb(255,255,255);\">I-Category</td><td style=\"background-color: rgb(255,255,255);\">I-Category</td><td style=\"background-color: rgb(255,255,255);\">I-Category</td><td style=\"background-color: rgb(255,255,255);\">I-Category</td><td style=\"background-color: rgb(255,255,255);\">I-Category</td></tr><tr><td><b>slots_pred</b></td><td style=\"background-color: rgb(255,255,255);\">B-Item</td><td style=\"background-color: rgb(255,255,255);\">O</td><td style=\"background-color: rgb(255,255,255);\">B-Category</td><td style=\"background-color: rgb(255,255,255);\">I-Category</td><td style=\"background-color: rgb(255,255,255);\">I-Category</td><td style=\"background-color: rgb(255,255,255);\">I-Category</td><td style=\"background-color: rgb(255,255,255);\">I-Category</td><td style=\"background-color: rgb(255,255,255);\">I-Category</td></tr></table>"
      ],
      "text/plain": [
       "<IPython.core.display.HTML object>"
      ]
     },
     "metadata": {},
     "output_type": "display_data"
    },
    {
     "name": "stdout",
     "output_type": "stream",
     "text": [
      "true: Bringing pred: Bringing\n"
     ]
    },
    {
     "data": {
      "text/html": [
       "<table><tr><td><b>words</b></td><td style=\"background-color: rgb(255,255,255);\">please</td><td style=\"background-color: rgb(255,255,255);\">bring</td><td style=\"background-color: rgb(255,255,255);\">the</td><td style=\"background-color: rgb(255,255,255);\">mobile</td><td style=\"background-color: rgb(255,255,255);\">phone</td><td style=\"background-color: rgb(255,255,255);\">to</td><td style=\"background-color: rgb(255,255,255);\">the</td><td style=\"background-color: rgb(255,255,255);\">livingroom</td></tr><tr><td><b>lexical_unit</b></td><td style=\"background-color: rgb(255.0000, 255,255.0000);\">0.0000</td><td style=\"background-color: rgb(0.0000, 255,0.0000);\">1.0000</td><td style=\"background-color: rgb(255.0000, 255,255.0000);\">0.0000</td><td style=\"background-color: rgb(255.0000, 255,255.0000);\">0.0000</td><td style=\"background-color: rgb(255.0000, 255,255.0000);\">0.0000</td><td style=\"background-color: rgb(255.0000, 255,255.0000);\">0.0000</td><td style=\"background-color: rgb(255.0000, 255,255.0000);\">0.0000</td><td style=\"background-color: rgb(255.0000, 255,255.0000);\">0.0000</td></tr><tr><td><b>attention_intent</b></td><td style=\"background-color: rgb(255.0000, 255,255.0000);\">0.0000</td><td style=\"background-color: rgb(50.2533, 255,50.2533);\">0.8029</td><td style=\"background-color: rgb(254.9977, 255,254.9977);\">0.0000</td><td style=\"background-color: rgb(255.0000, 255,255.0000);\">0.0000</td><td style=\"background-color: rgb(254.6891, 255,254.6891);\">0.0012</td><td style=\"background-color: rgb(205.0598, 255,205.0598);\">0.1958</td><td style=\"background-color: rgb(255.0000, 255,255.0000);\">0.0000</td><td style=\"background-color: rgb(255.0000, 255,255.0000);\">0.0000</td></tr><tr><td><b>slots_true</b></td><td style=\"background-color: rgb(255,255,255);\">O</td><td style=\"background-color: rgb(255,255,255);\">O</td><td style=\"background-color: rgb(255,255,255);\">B-Theme</td><td style=\"background-color: rgb(255,255,255);\">I-Theme</td><td style=\"background-color: rgb(255,255,255);\">I-Theme</td><td style=\"background-color: rgb(255,255,255);\">B-Goal</td><td style=\"background-color: rgb(255,255,255);\">I-Goal</td><td style=\"background-color: rgb(255,255,255);\">I-Goal</td></tr><tr><td><b>slots_pred</b></td><td style=\"background-color: rgb(255,255,255);\">O</td><td style=\"background-color: rgb(255,255,255);\">O</td><td style=\"background-color: rgb(255,255,255);\">B-Theme</td><td style=\"background-color: rgb(255,255,255);\">I-Theme</td><td style=\"background-color: rgb(255,255,255);\">I-Theme</td><td style=\"background-color: rgb(255,255,255);\">B-Goal</td><td style=\"background-color: rgb(255,255,255);\">I-Goal</td><td style=\"background-color: rgb(255,255,255);\">I-Goal</td></tr></table>"
      ],
      "text/plain": [
       "<IPython.core.display.HTML object>"
      ]
     },
     "metadata": {},
     "output_type": "display_data"
    },
    {
     "name": "stdout",
     "output_type": "stream",
     "text": [
      "true: Motion pred: Motion\n"
     ]
    },
    {
     "data": {
      "text/html": [
       "<table><tr><td><b>words</b></td><td style=\"background-color: rgb(255,255,255);\">drive</td><td style=\"background-color: rgb(255,255,255);\">to</td><td style=\"background-color: rgb(255,255,255);\">the</td><td style=\"background-color: rgb(255,255,255);\">fridge</td></tr><tr><td><b>lexical_unit</b></td><td style=\"background-color: rgb(0.0000, 255,0.0000);\">1.0000</td><td style=\"background-color: rgb(255.0000, 255,255.0000);\">0.0000</td><td style=\"background-color: rgb(255.0000, 255,255.0000);\">0.0000</td><td style=\"background-color: rgb(255.0000, 255,255.0000);\">0.0000</td></tr><tr><td><b>attention_intent</b></td><td style=\"background-color: rgb(8.1863, 255,8.1863);\">0.9679</td><td style=\"background-color: rgb(246.8138, 255,246.8138);\">0.0321</td><td style=\"background-color: rgb(255.0000, 255,255.0000);\">0.0000</td><td style=\"background-color: rgb(255.0000, 255,255.0000);\">0.0000</td></tr><tr><td><b>slots_true</b></td><td style=\"background-color: rgb(255,255,255);\">O</td><td style=\"background-color: rgb(255,255,255);\">B-Goal</td><td style=\"background-color: rgb(255,255,255);\">I-Goal</td><td style=\"background-color: rgb(255,255,255);\">I-Goal</td></tr><tr><td><b>slots_pred</b></td><td style=\"background-color: rgb(255,255,255);\">O</td><td style=\"background-color: rgb(255,255,255);\">B-Goal</td><td style=\"background-color: rgb(255,255,255);\">I-Goal</td><td style=\"background-color: rgb(255,255,255);\">I-Goal</td></tr></table>"
      ],
      "text/plain": [
       "<IPython.core.display.HTML object>"
      ]
     },
     "metadata": {},
     "output_type": "display_data"
    },
    {
     "name": "stdout",
     "output_type": "stream",
     "text": [
      "true: Searching pred: Searching\n"
     ]
    },
    {
     "data": {
      "text/html": [
       "<table><tr><td><b>words</b></td><td style=\"background-color: rgb(255,255,255);\">search</td><td style=\"background-color: rgb(255,255,255);\">for</td><td style=\"background-color: rgb(255,255,255);\">towel</td></tr><tr><td><b>lexical_unit</b></td><td style=\"background-color: rgb(0.0000, 255,0.0000);\">1.0000</td><td style=\"background-color: rgb(255.0000, 255,255.0000);\">0.0000</td><td style=\"background-color: rgb(255.0000, 255,255.0000);\">0.0000</td></tr><tr><td><b>attention_intent</b></td><td style=\"background-color: rgb(0.0000, 255,0.0000);\">1.0000</td><td style=\"background-color: rgb(255.0000, 255,255.0000);\">0.0000</td><td style=\"background-color: rgb(255.0000, 255,255.0000);\">0.0000</td></tr><tr><td><b>slots_true</b></td><td style=\"background-color: rgb(255,255,255);\">O</td><td style=\"background-color: rgb(255,255,255);\">B-Phenomenon</td><td style=\"background-color: rgb(255,255,255);\">I-Phenomenon</td></tr><tr><td><b>slots_pred</b></td><td style=\"background-color: rgb(255,255,255);\">O</td><td style=\"background-color: rgb(255,255,255);\">B-Phenomenon</td><td style=\"background-color: rgb(255,255,255);\">I-Phenomenon</td></tr></table>"
      ],
      "text/plain": [
       "<IPython.core.display.HTML object>"
      ]
     },
     "metadata": {},
     "output_type": "display_data"
    },
    {
     "name": "stdout",
     "output_type": "stream",
     "text": [
      "true: Placing pred: Placing\n"
     ]
    },
    {
     "data": {
      "text/html": [
       "<table><tr><td><b>words</b></td><td style=\"background-color: rgb(255,255,255);\">put</td><td style=\"background-color: rgb(255,255,255);\">the</td><td style=\"background-color: rgb(255,255,255);\">mug</td><td style=\"background-color: rgb(255,255,255);\">in</td><td style=\"background-color: rgb(255,255,255);\">the</td><td style=\"background-color: rgb(255,255,255);\">living</td><td style=\"background-color: rgb(255,255,255);\">room</td></tr><tr><td><b>lexical_unit</b></td><td style=\"background-color: rgb(0.0000, 255,0.0000);\">1.0000</td><td style=\"background-color: rgb(255.0000, 255,255.0000);\">0.0000</td><td style=\"background-color: rgb(255.0000, 255,255.0000);\">0.0000</td><td style=\"background-color: rgb(255.0000, 255,255.0000);\">0.0000</td><td style=\"background-color: rgb(255.0000, 255,255.0000);\">0.0000</td><td style=\"background-color: rgb(255.0000, 255,255.0000);\">0.0000</td><td style=\"background-color: rgb(255.0000, 255,255.0000);\">0.0000</td></tr><tr><td><b>attention_intent</b></td><td style=\"background-color: rgb(254.9997, 255,254.9997);\">0.0000</td><td style=\"background-color: rgb(254.9907, 255,254.9907);\">0.0000</td><td style=\"background-color: rgb(254.9983, 255,254.9983);\">0.0000</td><td style=\"background-color: rgb(0.0113, 255,0.0113);\">1.0000</td><td style=\"background-color: rgb(255.0000, 255,255.0000);\">0.0000</td><td style=\"background-color: rgb(255.0000, 255,255.0000);\">0.0000</td><td style=\"background-color: rgb(255.0000, 255,255.0000);\">0.0000</td></tr><tr><td><b>slots_true</b></td><td style=\"background-color: rgb(255,255,255);\">O</td><td style=\"background-color: rgb(255,255,255);\">B-Theme</td><td style=\"background-color: rgb(255,255,255);\">I-Theme</td><td style=\"background-color: rgb(255,255,255);\">B-Goal</td><td style=\"background-color: rgb(255,255,255);\">I-Goal</td><td style=\"background-color: rgb(255,255,255);\">I-Goal</td><td style=\"background-color: rgb(255,255,255);\">I-Goal</td></tr><tr><td><b>slots_pred</b></td><td style=\"background-color: rgb(255,255,255);\">O</td><td style=\"background-color: rgb(255,255,255);\">B-Theme</td><td style=\"background-color: rgb(255,255,255);\">I-Theme</td><td style=\"background-color: rgb(255,255,255);\">B-Goal</td><td style=\"background-color: rgb(255,255,255);\">I-Goal</td><td style=\"background-color: rgb(255,255,255);\">I-Goal</td><td style=\"background-color: rgb(255,255,255);\">I-Goal</td></tr></table>"
      ],
      "text/plain": [
       "<IPython.core.display.HTML object>"
      ]
     },
     "metadata": {},
     "output_type": "display_data"
    },
    {
     "name": "stdout",
     "output_type": "stream",
     "text": [
      "true: Motion pred: Motion\n"
     ]
    },
    {
     "data": {
      "text/html": [
       "<table><tr><td><b>words</b></td><td style=\"background-color: rgb(255,255,255);\">go</td><td style=\"background-color: rgb(255,255,255);\">to</td><td style=\"background-color: rgb(255,255,255);\">the</td><td style=\"background-color: rgb(255,255,255);\">bathroom</td></tr><tr><td><b>lexical_unit</b></td><td style=\"background-color: rgb(0.0000, 255,0.0000);\">1.0000</td><td style=\"background-color: rgb(255.0000, 255,255.0000);\">0.0000</td><td style=\"background-color: rgb(255.0000, 255,255.0000);\">0.0000</td><td style=\"background-color: rgb(255.0000, 255,255.0000);\">0.0000</td></tr><tr><td><b>attention_intent</b></td><td style=\"background-color: rgb(0.0078, 255,0.0078);\">1.0000</td><td style=\"background-color: rgb(254.9923, 255,254.9923);\">0.0000</td><td style=\"background-color: rgb(255.0000, 255,255.0000);\">0.0000</td><td style=\"background-color: rgb(255.0000, 255,255.0000);\">0.0000</td></tr><tr><td><b>slots_true</b></td><td style=\"background-color: rgb(255,255,255);\">O</td><td style=\"background-color: rgb(255,255,255);\">B-Goal</td><td style=\"background-color: rgb(255,255,255);\">I-Goal</td><td style=\"background-color: rgb(255,255,255);\">I-Goal</td></tr><tr><td><b>slots_pred</b></td><td style=\"background-color: rgb(255,255,255);\">O</td><td style=\"background-color: rgb(255,255,255);\">B-Goal</td><td style=\"background-color: rgb(255,255,255);\">I-Goal</td><td style=\"background-color: rgb(255,255,255);\">I-Goal</td></tr></table>"
      ],
      "text/plain": [
       "<IPython.core.display.HTML object>"
      ]
     },
     "metadata": {},
     "output_type": "display_data"
    },
    {
     "name": "stdout",
     "output_type": "stream",
     "text": [
      "true: Being_located pred: Taking\n"
     ]
    },
    {
     "data": {
      "text/html": [
       "<table><tr><td><b>words</b></td><td style=\"background-color: rgb(255,255,255);\">and</td><td style=\"background-color: rgb(255,255,255);\">the</td><td style=\"background-color: rgb(255,255,255);\">bed</td><td style=\"background-color: rgb(255,255,255);\">is</td><td style=\"background-color: rgb(255,255,255);\">between</td><td style=\"background-color: rgb(255,255,255);\">two</td><td style=\"background-color: rgb(255,255,255);\">lamps</td></tr><tr><td><b>lexical_unit</b></td><td style=\"background-color: rgb(255.0000, 255,255.0000);\">0.0000</td><td style=\"background-color: rgb(255.0000, 255,255.0000);\">0.0000</td><td style=\"background-color: rgb(255.0000, 255,255.0000);\">0.0000</td><td style=\"background-color: rgb(0.0000, 255,0.0000);\">1.0000</td><td style=\"background-color: rgb(255.0000, 255,255.0000);\">0.0000</td><td style=\"background-color: rgb(255.0000, 255,255.0000);\">0.0000</td><td style=\"background-color: rgb(255.0000, 255,255.0000);\">0.0000</td></tr><tr><td><b>attention_intent</b></td><td style=\"background-color: rgb(5.8346, 255,5.8346);\">0.9771</td><td style=\"background-color: rgb(254.9977, 255,254.9977);\">0.0000</td><td style=\"background-color: rgb(254.9932, 255,254.9932);\">0.0000</td><td style=\"background-color: rgb(251.6312, 255,251.6312);\">0.0132</td><td style=\"background-color: rgb(254.9984, 255,254.9984);\">0.0000</td><td style=\"background-color: rgb(255.0000, 255,255.0000);\">0.0000</td><td style=\"background-color: rgb(254.9996, 255,254.9996);\">0.0000</td></tr><tr><td><b>slots_true</b></td><td style=\"background-color: rgb(255,255,255);\">O</td><td style=\"background-color: rgb(255,255,255);\">B-Theme</td><td style=\"background-color: rgb(255,255,255);\">I-Theme</td><td style=\"background-color: rgb(255,255,255);\">O</td><td style=\"background-color: rgb(255,255,255);\">B-Location</td><td style=\"background-color: rgb(255,255,255);\">I-Location</td><td style=\"background-color: rgb(255,255,255);\">I-Location</td></tr><tr><td><b>slots_pred</b></td><td style=\"background-color: rgb(255,255,255);\">B-Theme</td><td style=\"background-color: rgb(255,255,255);\">I-Theme</td><td style=\"background-color: rgb(255,255,255);\">I-Theme</td><td style=\"background-color: rgb(255,255,255);\">B-Ground</td><td style=\"background-color: rgb(255,255,255);\">I-Ground</td><td style=\"background-color: rgb(255,255,255);\">I-Ground</td><td style=\"background-color: rgb(255,255,255);\">I-Ground</td></tr></table>"
      ],
      "text/plain": [
       "<IPython.core.display.HTML object>"
      ]
     },
     "metadata": {},
     "output_type": "display_data"
    },
    {
     "name": "stdout",
     "output_type": "stream",
     "text": [
      "true: Bringing pred: Bringing\n"
     ]
    },
    {
     "data": {
      "text/html": [
       "<table><tr><td><b>words</b></td><td style=\"background-color: rgb(255,255,255);\">can</td><td style=\"background-color: rgb(255,255,255);\">you</td><td style=\"background-color: rgb(255,255,255);\">bring</td><td style=\"background-color: rgb(255,255,255);\">me</td><td style=\"background-color: rgb(255,255,255);\">the</td><td style=\"background-color: rgb(255,255,255);\">coke</td><td style=\"background-color: rgb(255,255,255);\">from</td><td style=\"background-color: rgb(255,255,255);\">the</td><td style=\"background-color: rgb(255,255,255);\">fridge</td></tr><tr><td><b>lexical_unit</b></td><td style=\"background-color: rgb(255.0000, 255,255.0000);\">0.0000</td><td style=\"background-color: rgb(255.0000, 255,255.0000);\">0.0000</td><td style=\"background-color: rgb(0.0000, 255,0.0000);\">1.0000</td><td style=\"background-color: rgb(255.0000, 255,255.0000);\">0.0000</td><td style=\"background-color: rgb(255.0000, 255,255.0000);\">0.0000</td><td style=\"background-color: rgb(255.0000, 255,255.0000);\">0.0000</td><td style=\"background-color: rgb(255.0000, 255,255.0000);\">0.0000</td><td style=\"background-color: rgb(255.0000, 255,255.0000);\">0.0000</td><td style=\"background-color: rgb(255.0000, 255,255.0000);\">0.0000</td></tr><tr><td><b>attention_intent</b></td><td style=\"background-color: rgb(255.0000, 255,255.0000);\">0.0000</td><td style=\"background-color: rgb(255.0000, 255,255.0000);\">0.0000</td><td style=\"background-color: rgb(154.5796, 255,154.5796);\">0.3938</td><td style=\"background-color: rgb(100.4204, 255,100.4204);\">0.6062</td><td style=\"background-color: rgb(255.0000, 255,255.0000);\">0.0000</td><td style=\"background-color: rgb(255.0000, 255,255.0000);\">0.0000</td><td style=\"background-color: rgb(255.0000, 255,255.0000);\">0.0000</td><td style=\"background-color: rgb(255.0000, 255,255.0000);\">0.0000</td><td style=\"background-color: rgb(255.0000, 255,255.0000);\">0.0000</td></tr><tr><td><b>slots_true</b></td><td style=\"background-color: rgb(255,255,255);\">O</td><td style=\"background-color: rgb(255,255,255);\">B-Agent</td><td style=\"background-color: rgb(255,255,255);\">O</td><td style=\"background-color: rgb(255,255,255);\">B-Beneficiary</td><td style=\"background-color: rgb(255,255,255);\">B-Theme</td><td style=\"background-color: rgb(255,255,255);\">I-Theme</td><td style=\"background-color: rgb(255,255,255);\">B-Source</td><td style=\"background-color: rgb(255,255,255);\">I-Source</td><td style=\"background-color: rgb(255,255,255);\">I-Source</td></tr><tr><td><b>slots_pred</b></td><td style=\"background-color: rgb(255,255,255);\">O</td><td style=\"background-color: rgb(255,255,255);\">B-Agent</td><td style=\"background-color: rgb(255,255,255);\">O</td><td style=\"background-color: rgb(255,255,255);\">B-Beneficiary</td><td style=\"background-color: rgb(255,255,255);\">B-Theme</td><td style=\"background-color: rgb(255,255,255);\">I-Theme</td><td style=\"background-color: rgb(255,255,255);\">B-Source</td><td style=\"background-color: rgb(255,255,255);\">I-Source</td><td style=\"background-color: rgb(255,255,255);\">I-Source</td></tr></table>"
      ],
      "text/plain": [
       "<IPython.core.display.HTML object>"
      ]
     },
     "metadata": {},
     "output_type": "display_data"
    },
    {
     "name": "stdout",
     "output_type": "stream",
     "text": [
      "true: Being_in_category pred: Being_in_category\n"
     ]
    },
    {
     "data": {
      "text/html": [
       "<table><tr><td><b>words</b></td><td style=\"background-color: rgb(255,255,255);\">this</td><td style=\"background-color: rgb(255,255,255);\">is</td><td style=\"background-color: rgb(255,255,255);\">a</td><td style=\"background-color: rgb(255,255,255);\">bed</td><td style=\"background-color: rgb(255,255,255);\">room</td></tr><tr><td><b>lexical_unit</b></td><td style=\"background-color: rgb(255.0000, 255,255.0000);\">0.0000</td><td style=\"background-color: rgb(0.0000, 255,0.0000);\">1.0000</td><td style=\"background-color: rgb(255.0000, 255,255.0000);\">0.0000</td><td style=\"background-color: rgb(255.0000, 255,255.0000);\">0.0000</td><td style=\"background-color: rgb(255.0000, 255,255.0000);\">0.0000</td></tr><tr><td><b>attention_intent</b></td><td style=\"background-color: rgb(255.0000, 255,255.0000);\">0.0000</td><td style=\"background-color: rgb(255.0000, 255,255.0000);\">0.0000</td><td style=\"background-color: rgb(255.0000, 255,255.0000);\">0.0000</td><td style=\"background-color: rgb(0.0003, 255,0.0003);\">1.0000</td><td style=\"background-color: rgb(254.9997, 255,254.9997);\">0.0000</td></tr><tr><td><b>slots_true</b></td><td style=\"background-color: rgb(255,255,255);\">B-Item</td><td style=\"background-color: rgb(255,255,255);\">O</td><td style=\"background-color: rgb(255,255,255);\">B-Category</td><td style=\"background-color: rgb(255,255,255);\">I-Category</td><td style=\"background-color: rgb(255,255,255);\">I-Category</td></tr><tr><td><b>slots_pred</b></td><td style=\"background-color: rgb(255,255,255);\">B-Item</td><td style=\"background-color: rgb(255,255,255);\">O</td><td style=\"background-color: rgb(255,255,255);\">B-Category</td><td style=\"background-color: rgb(255,255,255);\">I-Category</td><td style=\"background-color: rgb(255,255,255);\">I-Category</td></tr></table>"
      ],
      "text/plain": [
       "<IPython.core.display.HTML object>"
      ]
     },
     "metadata": {},
     "output_type": "display_data"
    },
    {
     "name": "stdout",
     "output_type": "stream",
     "text": [
      "true: Following pred: Following\n"
     ]
    },
    {
     "data": {
      "text/html": [
       "<table><tr><td><b>words</b></td><td style=\"background-color: rgb(255,255,255);\">and</td><td style=\"background-color: rgb(255,255,255);\">follow</td><td style=\"background-color: rgb(255,255,255);\">the</td><td style=\"background-color: rgb(255,255,255);\">skinny</td><td style=\"background-color: rgb(255,255,255);\">person</td></tr><tr><td><b>lexical_unit</b></td><td style=\"background-color: rgb(255.0000, 255,255.0000);\">0.0000</td><td style=\"background-color: rgb(0.0000, 255,0.0000);\">1.0000</td><td style=\"background-color: rgb(255.0000, 255,255.0000);\">0.0000</td><td style=\"background-color: rgb(255.0000, 255,255.0000);\">0.0000</td><td style=\"background-color: rgb(255.0000, 255,255.0000);\">0.0000</td></tr><tr><td><b>attention_intent</b></td><td style=\"background-color: rgb(255.0000, 255,255.0000);\">0.0000</td><td style=\"background-color: rgb(0.0000, 255,0.0000);\">1.0000</td><td style=\"background-color: rgb(255.0000, 255,255.0000);\">0.0000</td><td style=\"background-color: rgb(255.0000, 255,255.0000);\">0.0000</td><td style=\"background-color: rgb(255.0000, 255,255.0000);\">0.0000</td></tr><tr><td><b>slots_true</b></td><td style=\"background-color: rgb(255,255,255);\">O</td><td style=\"background-color: rgb(255,255,255);\">O</td><td style=\"background-color: rgb(255,255,255);\">B-Cotheme</td><td style=\"background-color: rgb(255,255,255);\">I-Cotheme</td><td style=\"background-color: rgb(255,255,255);\">I-Cotheme</td></tr><tr><td><b>slots_pred</b></td><td style=\"background-color: rgb(255,255,255);\">O</td><td style=\"background-color: rgb(255,255,255);\">O</td><td style=\"background-color: rgb(255,255,255);\">B-Cotheme</td><td style=\"background-color: rgb(255,255,255);\">I-Cotheme</td><td style=\"background-color: rgb(255,255,255);\">I-Cotheme</td></tr></table>"
      ],
      "text/plain": [
       "<IPython.core.display.HTML object>"
      ]
     },
     "metadata": {},
     "output_type": "display_data"
    },
    {
     "name": "stdout",
     "output_type": "stream",
     "text": [
      "true: Searching pred: Searching\n"
     ]
    },
    {
     "data": {
      "text/html": [
       "<table><tr><td><b>words</b></td><td style=\"background-color: rgb(255,255,255);\">find</td><td style=\"background-color: rgb(255,255,255);\">me</td><td style=\"background-color: rgb(255,255,255);\">a</td><td style=\"background-color: rgb(255,255,255);\">cushion</td></tr><tr><td><b>lexical_unit</b></td><td style=\"background-color: rgb(0.0000, 255,0.0000);\">1.0000</td><td style=\"background-color: rgb(255.0000, 255,255.0000);\">0.0000</td><td style=\"background-color: rgb(255.0000, 255,255.0000);\">0.0000</td><td style=\"background-color: rgb(255.0000, 255,255.0000);\">0.0000</td></tr><tr><td><b>attention_intent</b></td><td style=\"background-color: rgb(0.0000, 255,0.0000);\">1.0000</td><td style=\"background-color: rgb(255.0000, 255,255.0000);\">0.0000</td><td style=\"background-color: rgb(255.0000, 255,255.0000);\">0.0000</td><td style=\"background-color: rgb(255.0000, 255,255.0000);\">0.0000</td></tr><tr><td><b>slots_true</b></td><td style=\"background-color: rgb(255,255,255);\">O</td><td style=\"background-color: rgb(255,255,255);\">B-Purpose</td><td style=\"background-color: rgb(255,255,255);\">B-Phenomenon</td><td style=\"background-color: rgb(255,255,255);\">I-Phenomenon</td></tr><tr><td><b>slots_pred</b></td><td style=\"background-color: rgb(255,255,255);\">O</td><td style=\"background-color: rgb(255,255,255);\">B-Purpose</td><td style=\"background-color: rgb(255,255,255);\">B-Phenomenon</td><td style=\"background-color: rgb(255,255,255);\">I-Phenomenon</td></tr></table>"
      ],
      "text/plain": [
       "<IPython.core.display.HTML object>"
      ]
     },
     "metadata": {},
     "output_type": "display_data"
    },
    {
     "name": "stdout",
     "output_type": "stream",
     "text": [
      "true: Searching pred: Entering\n"
     ]
    },
    {
     "data": {
      "text/html": [
       "<table><tr><td><b>words</b></td><td style=\"background-color: rgb(255,255,255);\">please</td><td style=\"background-color: rgb(255,255,255);\">find</td><td style=\"background-color: rgb(255,255,255);\">the</td><td style=\"background-color: rgb(255,255,255);\">flowers</td></tr><tr><td><b>lexical_unit</b></td><td style=\"background-color: rgb(255.0000, 255,255.0000);\">0.0000</td><td style=\"background-color: rgb(0.0000, 255,0.0000);\">1.0000</td><td style=\"background-color: rgb(255.0000, 255,255.0000);\">0.0000</td><td style=\"background-color: rgb(255.0000, 255,255.0000);\">0.0000</td></tr><tr><td><b>attention_intent</b></td><td style=\"background-color: rgb(255.0000, 255,255.0000);\">0.0000</td><td style=\"background-color: rgb(0.0000, 255,0.0000);\">1.0000</td><td style=\"background-color: rgb(255.0000, 255,255.0000);\">0.0000</td><td style=\"background-color: rgb(255.0000, 255,255.0000);\">0.0000</td></tr><tr><td><b>slots_true</b></td><td style=\"background-color: rgb(255,255,255);\">O</td><td style=\"background-color: rgb(255,255,255);\">O</td><td style=\"background-color: rgb(255,255,255);\">B-Phenomenon</td><td style=\"background-color: rgb(255,255,255);\">I-Phenomenon</td></tr><tr><td><b>slots_pred</b></td><td style=\"background-color: rgb(255,255,255);\">O</td><td style=\"background-color: rgb(255,255,255);\">O</td><td style=\"background-color: rgb(255,255,255);\">B-Phenomenon</td><td style=\"background-color: rgb(255,255,255);\">I-Phenomenon</td></tr></table>"
      ],
      "text/plain": [
       "<IPython.core.display.HTML object>"
      ]
     },
     "metadata": {},
     "output_type": "display_data"
    },
    {
     "name": "stdout",
     "output_type": "stream",
     "text": [
      "true: Following pred: Following\n"
     ]
    },
    {
     "data": {
      "text/html": [
       "<table><tr><td><b>words</b></td><td style=\"background-color: rgb(255,255,255);\">follow</td><td style=\"background-color: rgb(255,255,255);\">me</td></tr><tr><td><b>lexical_unit</b></td><td style=\"background-color: rgb(0.0000, 255,0.0000);\">1.0000</td><td style=\"background-color: rgb(255.0000, 255,255.0000);\">0.0000</td></tr><tr><td><b>attention_intent</b></td><td style=\"background-color: rgb(0.0030, 255,0.0030);\">1.0000</td><td style=\"background-color: rgb(254.9970, 255,254.9970);\">0.0000</td></tr><tr><td><b>slots_true</b></td><td style=\"background-color: rgb(255,255,255);\">O</td><td style=\"background-color: rgb(255,255,255);\">B-Cotheme</td></tr><tr><td><b>slots_pred</b></td><td style=\"background-color: rgb(255,255,255);\">O</td><td style=\"background-color: rgb(255,255,255);\">B-Cotheme</td></tr></table>"
      ],
      "text/plain": [
       "<IPython.core.display.HTML object>"
      ]
     },
     "metadata": {},
     "output_type": "display_data"
    },
    {
     "name": "stdout",
     "output_type": "stream",
     "text": [
      "true: Bringing pred: Bringing\n"
     ]
    },
    {
     "data": {
      "text/html": [
       "<table><tr><td><b>words</b></td><td style=\"background-color: rgb(255,255,255);\">take</td><td style=\"background-color: rgb(255,255,255);\">my</td><td style=\"background-color: rgb(255,255,255);\">cellphone</td><td style=\"background-color: rgb(255,255,255);\">to</td><td style=\"background-color: rgb(255,255,255);\">the</td><td style=\"background-color: rgb(255,255,255);\">bedroom</td></tr><tr><td><b>lexical_unit</b></td><td style=\"background-color: rgb(0.0000, 255,0.0000);\">1.0000</td><td style=\"background-color: rgb(255.0000, 255,255.0000);\">0.0000</td><td style=\"background-color: rgb(255.0000, 255,255.0000);\">0.0000</td><td style=\"background-color: rgb(255.0000, 255,255.0000);\">0.0000</td><td style=\"background-color: rgb(255.0000, 255,255.0000);\">0.0000</td><td style=\"background-color: rgb(255.0000, 255,255.0000);\">0.0000</td></tr><tr><td><b>attention_intent</b></td><td style=\"background-color: rgb(207.5765, 255,207.5765);\">0.1860</td><td style=\"background-color: rgb(254.9993, 255,254.9993);\">0.0000</td><td style=\"background-color: rgb(254.7307, 255,254.7307);\">0.0011</td><td style=\"background-color: rgb(47.6957, 255,47.6957);\">0.8130</td><td style=\"background-color: rgb(254.9979, 255,254.9979);\">0.0000</td><td style=\"background-color: rgb(255.0000, 255,255.0000);\">0.0000</td></tr><tr><td><b>slots_true</b></td><td style=\"background-color: rgb(255,255,255);\">O</td><td style=\"background-color: rgb(255,255,255);\">B-Theme</td><td style=\"background-color: rgb(255,255,255);\">I-Theme</td><td style=\"background-color: rgb(255,255,255);\">B-Goal</td><td style=\"background-color: rgb(255,255,255);\">I-Goal</td><td style=\"background-color: rgb(255,255,255);\">I-Goal</td></tr><tr><td><b>slots_pred</b></td><td style=\"background-color: rgb(255,255,255);\">O</td><td style=\"background-color: rgb(255,255,255);\">B-Theme</td><td style=\"background-color: rgb(255,255,255);\">I-Theme</td><td style=\"background-color: rgb(255,255,255);\">B-Goal</td><td style=\"background-color: rgb(255,255,255);\">I-Goal</td><td style=\"background-color: rgb(255,255,255);\">I-Goal</td></tr></table>"
      ],
      "text/plain": [
       "<IPython.core.display.HTML object>"
      ]
     },
     "metadata": {},
     "output_type": "display_data"
    },
    {
     "name": "stdout",
     "output_type": "stream",
     "text": [
      "true: Following pred: Following\n"
     ]
    },
    {
     "data": {
      "text/html": [
       "<table><tr><td><b>words</b></td><td style=\"background-color: rgb(255,255,255);\">follow</td><td style=\"background-color: rgb(255,255,255);\">my</td><td style=\"background-color: rgb(255,255,255);\">friend</td><td style=\"background-color: rgb(255,255,255);\">into</td><td style=\"background-color: rgb(255,255,255);\">the</td><td style=\"background-color: rgb(255,255,255);\">living</td><td style=\"background-color: rgb(255,255,255);\">room</td></tr><tr><td><b>lexical_unit</b></td><td style=\"background-color: rgb(0.0000, 255,0.0000);\">1.0000</td><td style=\"background-color: rgb(255.0000, 255,255.0000);\">0.0000</td><td style=\"background-color: rgb(255.0000, 255,255.0000);\">0.0000</td><td style=\"background-color: rgb(255.0000, 255,255.0000);\">0.0000</td><td style=\"background-color: rgb(255.0000, 255,255.0000);\">0.0000</td><td style=\"background-color: rgb(255.0000, 255,255.0000);\">0.0000</td><td style=\"background-color: rgb(255.0000, 255,255.0000);\">0.0000</td></tr><tr><td><b>attention_intent</b></td><td style=\"background-color: rgb(0.0324, 255,0.0324);\">0.9999</td><td style=\"background-color: rgb(255.0000, 255,255.0000);\">0.0000</td><td style=\"background-color: rgb(254.9676, 255,254.9676);\">0.0001</td><td style=\"background-color: rgb(255.0000, 255,255.0000);\">0.0000</td><td style=\"background-color: rgb(255.0000, 255,255.0000);\">0.0000</td><td style=\"background-color: rgb(255.0000, 255,255.0000);\">0.0000</td><td style=\"background-color: rgb(255.0000, 255,255.0000);\">0.0000</td></tr><tr><td><b>slots_true</b></td><td style=\"background-color: rgb(255,255,255);\">O</td><td style=\"background-color: rgb(255,255,255);\">B-Cotheme</td><td style=\"background-color: rgb(255,255,255);\">I-Cotheme</td><td style=\"background-color: rgb(255,255,255);\">B-Goal</td><td style=\"background-color: rgb(255,255,255);\">I-Goal</td><td style=\"background-color: rgb(255,255,255);\">I-Goal</td><td style=\"background-color: rgb(255,255,255);\">I-Goal</td></tr><tr><td><b>slots_pred</b></td><td style=\"background-color: rgb(255,255,255);\">O</td><td style=\"background-color: rgb(255,255,255);\">B-Cotheme</td><td style=\"background-color: rgb(255,255,255);\">I-Cotheme</td><td style=\"background-color: rgb(255,255,255);\">B-Goal</td><td style=\"background-color: rgb(255,255,255);\">I-Goal</td><td style=\"background-color: rgb(255,255,255);\">I-Goal</td><td style=\"background-color: rgb(255,255,255);\">I-Goal</td></tr></table>"
      ],
      "text/plain": [
       "<IPython.core.display.HTML object>"
      ]
     },
     "metadata": {},
     "output_type": "display_data"
    },
    {
     "name": "stdout",
     "output_type": "stream",
     "text": [
      "true: Motion pred: Motion\n"
     ]
    },
    {
     "data": {
      "text/html": [
       "<table><tr><td><b>words</b></td><td style=\"background-color: rgb(255,255,255);\">could</td><td style=\"background-color: rgb(255,255,255);\">you</td><td style=\"background-color: rgb(255,255,255);\">please</td><td style=\"background-color: rgb(255,255,255);\">move</td><td style=\"background-color: rgb(255,255,255);\">to</td><td style=\"background-color: rgb(255,255,255);\">the</td><td style=\"background-color: rgb(255,255,255);\">sink</td></tr><tr><td><b>lexical_unit</b></td><td style=\"background-color: rgb(255.0000, 255,255.0000);\">0.0000</td><td style=\"background-color: rgb(255.0000, 255,255.0000);\">0.0000</td><td style=\"background-color: rgb(255.0000, 255,255.0000);\">0.0000</td><td style=\"background-color: rgb(0.0000, 255,0.0000);\">1.0000</td><td style=\"background-color: rgb(255.0000, 255,255.0000);\">0.0000</td><td style=\"background-color: rgb(255.0000, 255,255.0000);\">0.0000</td><td style=\"background-color: rgb(255.0000, 255,255.0000);\">0.0000</td></tr><tr><td><b>attention_intent</b></td><td style=\"background-color: rgb(255.0000, 255,255.0000);\">0.0000</td><td style=\"background-color: rgb(255.0000, 255,255.0000);\">0.0000</td><td style=\"background-color: rgb(255.0000, 255,255.0000);\">0.0000</td><td style=\"background-color: rgb(0.0009, 255,0.0009);\">1.0000</td><td style=\"background-color: rgb(254.9991, 255,254.9991);\">0.0000</td><td style=\"background-color: rgb(255.0000, 255,255.0000);\">0.0000</td><td style=\"background-color: rgb(255.0000, 255,255.0000);\">0.0000</td></tr><tr><td><b>slots_true</b></td><td style=\"background-color: rgb(255,255,255);\">O</td><td style=\"background-color: rgb(255,255,255);\">B-Theme</td><td style=\"background-color: rgb(255,255,255);\">O</td><td style=\"background-color: rgb(255,255,255);\">O</td><td style=\"background-color: rgb(255,255,255);\">B-Goal</td><td style=\"background-color: rgb(255,255,255);\">I-Goal</td><td style=\"background-color: rgb(255,255,255);\">I-Goal</td></tr><tr><td><b>slots_pred</b></td><td style=\"background-color: rgb(255,255,255);\">O</td><td style=\"background-color: rgb(255,255,255);\">B-Theme</td><td style=\"background-color: rgb(255,255,255);\">O</td><td style=\"background-color: rgb(255,255,255);\">O</td><td style=\"background-color: rgb(255,255,255);\">B-Goal</td><td style=\"background-color: rgb(255,255,255);\">I-Goal</td><td style=\"background-color: rgb(255,255,255);\">I-Goal</td></tr></table>"
      ],
      "text/plain": [
       "<IPython.core.display.HTML object>"
      ]
     },
     "metadata": {},
     "output_type": "display_data"
    },
    {
     "name": "stdout",
     "output_type": "stream",
     "text": [
      "true: Taking pred: Taking\n"
     ]
    },
    {
     "data": {
      "text/html": [
       "<table><tr><td><b>words</b></td><td style=\"background-color: rgb(255,255,255);\">john</td><td style=\"background-color: rgb(255,255,255);\">can</td><td style=\"background-color: rgb(255,255,255);\">you</td><td style=\"background-color: rgb(255,255,255);\">take</td><td style=\"background-color: rgb(255,255,255);\">the</td><td style=\"background-color: rgb(255,255,255);\">mug</td><td style=\"background-color: rgb(255,255,255);\">in</td><td style=\"background-color: rgb(255,255,255);\">the</td><td style=\"background-color: rgb(255,255,255);\">kitchen</td></tr><tr><td><b>lexical_unit</b></td><td style=\"background-color: rgb(255.0000, 255,255.0000);\">0.0000</td><td style=\"background-color: rgb(255.0000, 255,255.0000);\">0.0000</td><td style=\"background-color: rgb(255.0000, 255,255.0000);\">0.0000</td><td style=\"background-color: rgb(0.0000, 255,0.0000);\">1.0000</td><td style=\"background-color: rgb(255.0000, 255,255.0000);\">0.0000</td><td style=\"background-color: rgb(255.0000, 255,255.0000);\">0.0000</td><td style=\"background-color: rgb(255.0000, 255,255.0000);\">0.0000</td><td style=\"background-color: rgb(255.0000, 255,255.0000);\">0.0000</td><td style=\"background-color: rgb(255.0000, 255,255.0000);\">0.0000</td></tr><tr><td><b>attention_intent</b></td><td style=\"background-color: rgb(255.0000, 255,255.0000);\">0.0000</td><td style=\"background-color: rgb(255.0000, 255,255.0000);\">0.0000</td><td style=\"background-color: rgb(255.0000, 255,255.0000);\">0.0000</td><td style=\"background-color: rgb(0.3638, 255,0.3638);\">0.9986</td><td style=\"background-color: rgb(255.0000, 255,255.0000);\">0.0000</td><td style=\"background-color: rgb(254.9996, 255,254.9996);\">0.0000</td><td style=\"background-color: rgb(254.6366, 255,254.6366);\">0.0014</td><td style=\"background-color: rgb(255.0000, 255,255.0000);\">0.0000</td><td style=\"background-color: rgb(255.0000, 255,255.0000);\">0.0000</td></tr><tr><td><b>slots_true</b></td><td style=\"background-color: rgb(255,255,255);\">O</td><td style=\"background-color: rgb(255,255,255);\">O</td><td style=\"background-color: rgb(255,255,255);\">B-Agent</td><td style=\"background-color: rgb(255,255,255);\">O</td><td style=\"background-color: rgb(255,255,255);\">B-Theme</td><td style=\"background-color: rgb(255,255,255);\">I-Theme</td><td style=\"background-color: rgb(255,255,255);\">I-Theme</td><td style=\"background-color: rgb(255,255,255);\">I-Theme</td><td style=\"background-color: rgb(255,255,255);\">I-Theme</td></tr><tr><td><b>slots_pred</b></td><td style=\"background-color: rgb(255,255,255);\">O</td><td style=\"background-color: rgb(255,255,255);\">O</td><td style=\"background-color: rgb(255,255,255);\">B-Agent</td><td style=\"background-color: rgb(255,255,255);\">O</td><td style=\"background-color: rgb(255,255,255);\">B-Theme</td><td style=\"background-color: rgb(255,255,255);\">I-Theme</td><td style=\"background-color: rgb(255,255,255);\">B-Goal</td><td style=\"background-color: rgb(255,255,255);\">I-Goal</td><td style=\"background-color: rgb(255,255,255);\">I-Goal</td></tr></table>"
      ],
      "text/plain": [
       "<IPython.core.display.HTML object>"
      ]
     },
     "metadata": {},
     "output_type": "display_data"
    },
    {
     "name": "stdout",
     "output_type": "stream",
     "text": [
      "true: Following pred: Following\n"
     ]
    },
    {
     "data": {
      "text/html": [
       "<table><tr><td><b>words</b></td><td style=\"background-color: rgb(255,255,255);\">would</td><td style=\"background-color: rgb(255,255,255);\">you</td><td style=\"background-color: rgb(255,255,255);\">please</td><td style=\"background-color: rgb(255,255,255);\">follow</td><td style=\"background-color: rgb(255,255,255);\">me</td><td style=\"background-color: rgb(255,255,255);\">to</td><td style=\"background-color: rgb(255,255,255);\">the</td><td style=\"background-color: rgb(255,255,255);\">kitchen</td></tr><tr><td><b>lexical_unit</b></td><td style=\"background-color: rgb(255.0000, 255,255.0000);\">0.0000</td><td style=\"background-color: rgb(255.0000, 255,255.0000);\">0.0000</td><td style=\"background-color: rgb(255.0000, 255,255.0000);\">0.0000</td><td style=\"background-color: rgb(0.0000, 255,0.0000);\">1.0000</td><td style=\"background-color: rgb(255.0000, 255,255.0000);\">0.0000</td><td style=\"background-color: rgb(255.0000, 255,255.0000);\">0.0000</td><td style=\"background-color: rgb(255.0000, 255,255.0000);\">0.0000</td><td style=\"background-color: rgb(255.0000, 255,255.0000);\">0.0000</td></tr><tr><td><b>attention_intent</b></td><td style=\"background-color: rgb(255.0000, 255,255.0000);\">0.0000</td><td style=\"background-color: rgb(255.0000, 255,255.0000);\">0.0000</td><td style=\"background-color: rgb(255.0000, 255,255.0000);\">0.0000</td><td style=\"background-color: rgb(18.3517, 255,18.3517);\">0.9280</td><td style=\"background-color: rgb(236.6536, 255,236.6536);\">0.0719</td><td style=\"background-color: rgb(254.9946, 255,254.9946);\">0.0000</td><td style=\"background-color: rgb(255.0000, 255,255.0000);\">0.0000</td><td style=\"background-color: rgb(255.0000, 255,255.0000);\">0.0000</td></tr><tr><td><b>slots_true</b></td><td style=\"background-color: rgb(255,255,255);\">O</td><td style=\"background-color: rgb(255,255,255);\">B-Theme</td><td style=\"background-color: rgb(255,255,255);\">O</td><td style=\"background-color: rgb(255,255,255);\">O</td><td style=\"background-color: rgb(255,255,255);\">B-Cotheme</td><td style=\"background-color: rgb(255,255,255);\">B-Goal</td><td style=\"background-color: rgb(255,255,255);\">I-Goal</td><td style=\"background-color: rgb(255,255,255);\">I-Goal</td></tr><tr><td><b>slots_pred</b></td><td style=\"background-color: rgb(255,255,255);\">O</td><td style=\"background-color: rgb(255,255,255);\">B-Theme</td><td style=\"background-color: rgb(255,255,255);\">O</td><td style=\"background-color: rgb(255,255,255);\">O</td><td style=\"background-color: rgb(255,255,255);\">B-Cotheme</td><td style=\"background-color: rgb(255,255,255);\">B-Goal</td><td style=\"background-color: rgb(255,255,255);\">I-Goal</td><td style=\"background-color: rgb(255,255,255);\">I-Goal</td></tr></table>"
      ],
      "text/plain": [
       "<IPython.core.display.HTML object>"
      ]
     },
     "metadata": {},
     "output_type": "display_data"
    },
    {
     "name": "stdout",
     "output_type": "stream",
     "text": [
      "true: Searching pred: Searching\n"
     ]
    },
    {
     "data": {
      "text/html": [
       "<table><tr><td><b>words</b></td><td style=\"background-color: rgb(255,255,255);\">find</td><td style=\"background-color: rgb(255,255,255);\">the</td><td style=\"background-color: rgb(255,255,255);\">glasses</td><td style=\"background-color: rgb(255,255,255);\">on</td><td style=\"background-color: rgb(255,255,255);\">the</td><td style=\"background-color: rgb(255,255,255);\">table</td></tr><tr><td><b>lexical_unit</b></td><td style=\"background-color: rgb(0.0000, 255,0.0000);\">1.0000</td><td style=\"background-color: rgb(255.0000, 255,255.0000);\">0.0000</td><td style=\"background-color: rgb(255.0000, 255,255.0000);\">0.0000</td><td style=\"background-color: rgb(255.0000, 255,255.0000);\">0.0000</td><td style=\"background-color: rgb(255.0000, 255,255.0000);\">0.0000</td><td style=\"background-color: rgb(255.0000, 255,255.0000);\">0.0000</td></tr><tr><td><b>attention_intent</b></td><td style=\"background-color: rgb(0.0000, 255,0.0000);\">1.0000</td><td style=\"background-color: rgb(255.0000, 255,255.0000);\">0.0000</td><td style=\"background-color: rgb(255.0000, 255,255.0000);\">0.0000</td><td style=\"background-color: rgb(255.0000, 255,255.0000);\">0.0000</td><td style=\"background-color: rgb(255.0000, 255,255.0000);\">0.0000</td><td style=\"background-color: rgb(255.0000, 255,255.0000);\">0.0000</td></tr><tr><td><b>slots_true</b></td><td style=\"background-color: rgb(255,255,255);\">O</td><td style=\"background-color: rgb(255,255,255);\">B-Phenomenon</td><td style=\"background-color: rgb(255,255,255);\">I-Phenomenon</td><td style=\"background-color: rgb(255,255,255);\">B-Ground</td><td style=\"background-color: rgb(255,255,255);\">I-Ground</td><td style=\"background-color: rgb(255,255,255);\">I-Ground</td></tr><tr><td><b>slots_pred</b></td><td style=\"background-color: rgb(255,255,255);\">O</td><td style=\"background-color: rgb(255,255,255);\">B-Phenomenon</td><td style=\"background-color: rgb(255,255,255);\">I-Phenomenon</td><td style=\"background-color: rgb(255,255,255);\">B-Phenomenon</td><td style=\"background-color: rgb(255,255,255);\">I-Phenomenon</td><td style=\"background-color: rgb(255,255,255);\">I-Phenomenon</td></tr></table>"
      ],
      "text/plain": [
       "<IPython.core.display.HTML object>"
      ]
     },
     "metadata": {},
     "output_type": "display_data"
    },
    {
     "name": "stdout",
     "output_type": "stream",
     "text": [
      "true: Placing pred: Placing\n"
     ]
    },
    {
     "data": {
      "text/html": [
       "<table><tr><td><b>words</b></td><td style=\"background-color: rgb(255,255,255);\">put</td><td style=\"background-color: rgb(255,255,255);\">my</td><td style=\"background-color: rgb(255,255,255);\">mobile</td><td style=\"background-color: rgb(255,255,255);\">phone</td><td style=\"background-color: rgb(255,255,255);\">on</td><td style=\"background-color: rgb(255,255,255);\">the</td><td style=\"background-color: rgb(255,255,255);\">kitchen</td><td style=\"background-color: rgb(255,255,255);\">table</td></tr><tr><td><b>lexical_unit</b></td><td style=\"background-color: rgb(0.0000, 255,0.0000);\">1.0000</td><td style=\"background-color: rgb(255.0000, 255,255.0000);\">0.0000</td><td style=\"background-color: rgb(255.0000, 255,255.0000);\">0.0000</td><td style=\"background-color: rgb(255.0000, 255,255.0000);\">0.0000</td><td style=\"background-color: rgb(255.0000, 255,255.0000);\">0.0000</td><td style=\"background-color: rgb(255.0000, 255,255.0000);\">0.0000</td><td style=\"background-color: rgb(255.0000, 255,255.0000);\">0.0000</td><td style=\"background-color: rgb(255.0000, 255,255.0000);\">0.0000</td></tr><tr><td><b>attention_intent</b></td><td style=\"background-color: rgb(254.9927, 255,254.9927);\">0.0000</td><td style=\"background-color: rgb(254.9986, 255,254.9986);\">0.0000</td><td style=\"background-color: rgb(255.0000, 255,255.0000);\">0.0000</td><td style=\"background-color: rgb(254.5389, 255,254.5389);\">0.0018</td><td style=\"background-color: rgb(0.4838, 255,0.4838);\">0.9981</td><td style=\"background-color: rgb(254.9860, 255,254.9860);\">0.0001</td><td style=\"background-color: rgb(255.0000, 255,255.0000);\">0.0000</td><td style=\"background-color: rgb(255.0000, 255,255.0000);\">0.0000</td></tr><tr><td><b>slots_true</b></td><td style=\"background-color: rgb(255,255,255);\">O</td><td style=\"background-color: rgb(255,255,255);\">B-Theme</td><td style=\"background-color: rgb(255,255,255);\">I-Theme</td><td style=\"background-color: rgb(255,255,255);\">I-Theme</td><td style=\"background-color: rgb(255,255,255);\">B-Goal</td><td style=\"background-color: rgb(255,255,255);\">I-Goal</td><td style=\"background-color: rgb(255,255,255);\">I-Goal</td><td style=\"background-color: rgb(255,255,255);\">I-Goal</td></tr><tr><td><b>slots_pred</b></td><td style=\"background-color: rgb(255,255,255);\">O</td><td style=\"background-color: rgb(255,255,255);\">B-Theme</td><td style=\"background-color: rgb(255,255,255);\">I-Theme</td><td style=\"background-color: rgb(255,255,255);\">I-Theme</td><td style=\"background-color: rgb(255,255,255);\">B-Goal</td><td style=\"background-color: rgb(255,255,255);\">I-Goal</td><td style=\"background-color: rgb(255,255,255);\">I-Goal</td><td style=\"background-color: rgb(255,255,255);\">I-Goal</td></tr></table>"
      ],
      "text/plain": [
       "<IPython.core.display.HTML object>"
      ]
     },
     "metadata": {},
     "output_type": "display_data"
    },
    {
     "name": "stdout",
     "output_type": "stream",
     "text": [
      "true: Bringing pred: Bringing\n"
     ]
    },
    {
     "data": {
      "text/html": [
       "<table><tr><td><b>words</b></td><td style=\"background-color: rgb(255,255,255);\">and</td><td style=\"background-color: rgb(255,255,255);\">bring</td><td style=\"background-color: rgb(255,255,255);\">it</td><td style=\"background-color: rgb(255,255,255);\">to</td><td style=\"background-color: rgb(255,255,255);\">me</td></tr><tr><td><b>lexical_unit</b></td><td style=\"background-color: rgb(255.0000, 255,255.0000);\">0.0000</td><td style=\"background-color: rgb(0.0000, 255,0.0000);\">1.0000</td><td style=\"background-color: rgb(255.0000, 255,255.0000);\">0.0000</td><td style=\"background-color: rgb(255.0000, 255,255.0000);\">0.0000</td><td style=\"background-color: rgb(255.0000, 255,255.0000);\">0.0000</td></tr><tr><td><b>attention_intent</b></td><td style=\"background-color: rgb(255.0000, 255,255.0000);\">0.0000</td><td style=\"background-color: rgb(9.7908, 255,9.7908);\">0.9616</td><td style=\"background-color: rgb(254.8880, 255,254.8880);\">0.0004</td><td style=\"background-color: rgb(245.3345, 255,245.3345);\">0.0379</td><td style=\"background-color: rgb(254.9867, 255,254.9867);\">0.0001</td></tr><tr><td><b>slots_true</b></td><td style=\"background-color: rgb(255,255,255);\">O</td><td style=\"background-color: rgb(255,255,255);\">O</td><td style=\"background-color: rgb(255,255,255);\">B-Theme</td><td style=\"background-color: rgb(255,255,255);\">B-Beneficiary</td><td style=\"background-color: rgb(255,255,255);\">I-Beneficiary</td></tr><tr><td><b>slots_pred</b></td><td style=\"background-color: rgb(255,255,255);\">O</td><td style=\"background-color: rgb(255,255,255);\">O</td><td style=\"background-color: rgb(255,255,255);\">B-Theme</td><td style=\"background-color: rgb(255,255,255);\">B-Beneficiary</td><td style=\"background-color: rgb(255,255,255);\">I-Beneficiary</td></tr></table>"
      ],
      "text/plain": [
       "<IPython.core.display.HTML object>"
      ]
     },
     "metadata": {},
     "output_type": "display_data"
    },
    {
     "name": "stdout",
     "output_type": "stream",
     "text": [
      "true: Searching pred: Searching\n"
     ]
    },
    {
     "data": {
      "text/html": [
       "<table><tr><td><b>words</b></td><td style=\"background-color: rgb(255,255,255);\">can</td><td style=\"background-color: rgb(255,255,255);\">you</td><td style=\"background-color: rgb(255,255,255);\">please</td><td style=\"background-color: rgb(255,255,255);\">search</td><td style=\"background-color: rgb(255,255,255);\">the</td><td style=\"background-color: rgb(255,255,255);\">book</td></tr><tr><td><b>lexical_unit</b></td><td style=\"background-color: rgb(255.0000, 255,255.0000);\">0.0000</td><td style=\"background-color: rgb(255.0000, 255,255.0000);\">0.0000</td><td style=\"background-color: rgb(255.0000, 255,255.0000);\">0.0000</td><td style=\"background-color: rgb(0.0000, 255,0.0000);\">1.0000</td><td style=\"background-color: rgb(255.0000, 255,255.0000);\">0.0000</td><td style=\"background-color: rgb(255.0000, 255,255.0000);\">0.0000</td></tr><tr><td><b>attention_intent</b></td><td style=\"background-color: rgb(255.0000, 255,255.0000);\">0.0000</td><td style=\"background-color: rgb(255.0000, 255,255.0000);\">0.0000</td><td style=\"background-color: rgb(255.0000, 255,255.0000);\">0.0000</td><td style=\"background-color: rgb(0.0000, 255,0.0000);\">1.0000</td><td style=\"background-color: rgb(255.0000, 255,255.0000);\">0.0000</td><td style=\"background-color: rgb(255.0000, 255,255.0000);\">0.0000</td></tr><tr><td><b>slots_true</b></td><td style=\"background-color: rgb(255,255,255);\">O</td><td style=\"background-color: rgb(255,255,255);\">B-Cognizer</td><td style=\"background-color: rgb(255,255,255);\">O</td><td style=\"background-color: rgb(255,255,255);\">O</td><td style=\"background-color: rgb(255,255,255);\">B-Phenomenon</td><td style=\"background-color: rgb(255,255,255);\">I-Phenomenon</td></tr><tr><td><b>slots_pred</b></td><td style=\"background-color: rgb(255,255,255);\">O</td><td style=\"background-color: rgb(255,255,255);\">B-Cognizer</td><td style=\"background-color: rgb(255,255,255);\">O</td><td style=\"background-color: rgb(255,255,255);\">O</td><td style=\"background-color: rgb(255,255,255);\">B-Phenomenon</td><td style=\"background-color: rgb(255,255,255);\">I-Phenomenon</td></tr></table>"
      ],
      "text/plain": [
       "<IPython.core.display.HTML object>"
      ]
     },
     "metadata": {},
     "output_type": "display_data"
    },
    {
     "name": "stdout",
     "output_type": "stream",
     "text": [
      "true: Motion pred: Motion\n"
     ]
    },
    {
     "data": {
      "text/html": [
       "<table><tr><td><b>words</b></td><td style=\"background-color: rgb(255,255,255);\">please</td><td style=\"background-color: rgb(255,255,255);\">go</td><td style=\"background-color: rgb(255,255,255);\">to</td><td style=\"background-color: rgb(255,255,255);\">the</td><td style=\"background-color: rgb(255,255,255);\">sink</td></tr><tr><td><b>lexical_unit</b></td><td style=\"background-color: rgb(255.0000, 255,255.0000);\">0.0000</td><td style=\"background-color: rgb(0.0000, 255,0.0000);\">1.0000</td><td style=\"background-color: rgb(255.0000, 255,255.0000);\">0.0000</td><td style=\"background-color: rgb(255.0000, 255,255.0000);\">0.0000</td><td style=\"background-color: rgb(255.0000, 255,255.0000);\">0.0000</td></tr><tr><td><b>attention_intent</b></td><td style=\"background-color: rgb(255.0000, 255,255.0000);\">0.0000</td><td style=\"background-color: rgb(0.0013, 255,0.0013);\">1.0000</td><td style=\"background-color: rgb(254.9987, 255,254.9987);\">0.0000</td><td style=\"background-color: rgb(255.0000, 255,255.0000);\">0.0000</td><td style=\"background-color: rgb(255.0000, 255,255.0000);\">0.0000</td></tr><tr><td><b>slots_true</b></td><td style=\"background-color: rgb(255,255,255);\">O</td><td style=\"background-color: rgb(255,255,255);\">O</td><td style=\"background-color: rgb(255,255,255);\">B-Goal</td><td style=\"background-color: rgb(255,255,255);\">I-Goal</td><td style=\"background-color: rgb(255,255,255);\">I-Goal</td></tr><tr><td><b>slots_pred</b></td><td style=\"background-color: rgb(255,255,255);\">O</td><td style=\"background-color: rgb(255,255,255);\">O</td><td style=\"background-color: rgb(255,255,255);\">B-Goal</td><td style=\"background-color: rgb(255,255,255);\">I-Goal</td><td style=\"background-color: rgb(255,255,255);\">I-Goal</td></tr></table>"
      ],
      "text/plain": [
       "<IPython.core.display.HTML object>"
      ]
     },
     "metadata": {},
     "output_type": "display_data"
    },
    {
     "name": "stdout",
     "output_type": "stream",
     "text": [
      "true: Motion pred: Motion\n"
     ]
    },
    {
     "data": {
      "text/html": [
       "<table><tr><td><b>words</b></td><td style=\"background-color: rgb(255,255,255);\">move</td><td style=\"background-color: rgb(255,255,255);\">near</td><td style=\"background-color: rgb(255,255,255);\">the</td><td style=\"background-color: rgb(255,255,255);\">television</td><td style=\"background-color: rgb(255,255,255);\">of</td><td style=\"background-color: rgb(255,255,255);\">the</td><td style=\"background-color: rgb(255,255,255);\">kitchen</td></tr><tr><td><b>lexical_unit</b></td><td style=\"background-color: rgb(0.0000, 255,0.0000);\">1.0000</td><td style=\"background-color: rgb(255.0000, 255,255.0000);\">0.0000</td><td style=\"background-color: rgb(255.0000, 255,255.0000);\">0.0000</td><td style=\"background-color: rgb(255.0000, 255,255.0000);\">0.0000</td><td style=\"background-color: rgb(255.0000, 255,255.0000);\">0.0000</td><td style=\"background-color: rgb(255.0000, 255,255.0000);\">0.0000</td><td style=\"background-color: rgb(255.0000, 255,255.0000);\">0.0000</td></tr><tr><td><b>attention_intent</b></td><td style=\"background-color: rgb(0.0253, 255,0.0253);\">0.9999</td><td style=\"background-color: rgb(254.9747, 255,254.9747);\">0.0001</td><td style=\"background-color: rgb(255.0000, 255,255.0000);\">0.0000</td><td style=\"background-color: rgb(255.0000, 255,255.0000);\">0.0000</td><td style=\"background-color: rgb(255.0000, 255,255.0000);\">0.0000</td><td style=\"background-color: rgb(255.0000, 255,255.0000);\">0.0000</td><td style=\"background-color: rgb(255.0000, 255,255.0000);\">0.0000</td></tr><tr><td><b>slots_true</b></td><td style=\"background-color: rgb(255,255,255);\">O</td><td style=\"background-color: rgb(255,255,255);\">B-Goal</td><td style=\"background-color: rgb(255,255,255);\">I-Goal</td><td style=\"background-color: rgb(255,255,255);\">I-Goal</td><td style=\"background-color: rgb(255,255,255);\">I-Goal</td><td style=\"background-color: rgb(255,255,255);\">I-Goal</td><td style=\"background-color: rgb(255,255,255);\">I-Goal</td></tr><tr><td><b>slots_pred</b></td><td style=\"background-color: rgb(255,255,255);\">O</td><td style=\"background-color: rgb(255,255,255);\">B-Goal</td><td style=\"background-color: rgb(255,255,255);\">I-Goal</td><td style=\"background-color: rgb(255,255,255);\">I-Goal</td><td style=\"background-color: rgb(255,255,255);\">I-Goal</td><td style=\"background-color: rgb(255,255,255);\">I-Goal</td><td style=\"background-color: rgb(255,255,255);\">I-Goal</td></tr></table>"
      ],
      "text/plain": [
       "<IPython.core.display.HTML object>"
      ]
     },
     "metadata": {},
     "output_type": "display_data"
    },
    {
     "name": "stdout",
     "output_type": "stream",
     "text": [
      "true: Motion pred: Motion\n"
     ]
    },
    {
     "data": {
      "text/html": [
       "<table><tr><td><b>words</b></td><td style=\"background-color: rgb(255,255,255);\">go</td><td style=\"background-color: rgb(255,255,255);\">to</td><td style=\"background-color: rgb(255,255,255);\">living</td><td style=\"background-color: rgb(255,255,255);\">room</td></tr><tr><td><b>lexical_unit</b></td><td style=\"background-color: rgb(0.0000, 255,0.0000);\">1.0000</td><td style=\"background-color: rgb(255.0000, 255,255.0000);\">0.0000</td><td style=\"background-color: rgb(255.0000, 255,255.0000);\">0.0000</td><td style=\"background-color: rgb(255.0000, 255,255.0000);\">0.0000</td></tr><tr><td><b>attention_intent</b></td><td style=\"background-color: rgb(0.0002, 255,0.0002);\">1.0000</td><td style=\"background-color: rgb(254.9998, 255,254.9998);\">0.0000</td><td style=\"background-color: rgb(255.0000, 255,255.0000);\">0.0000</td><td style=\"background-color: rgb(255.0000, 255,255.0000);\">0.0000</td></tr><tr><td><b>slots_true</b></td><td style=\"background-color: rgb(255,255,255);\">O</td><td style=\"background-color: rgb(255,255,255);\">B-Goal</td><td style=\"background-color: rgb(255,255,255);\">I-Goal</td><td style=\"background-color: rgb(255,255,255);\">I-Goal</td></tr><tr><td><b>slots_pred</b></td><td style=\"background-color: rgb(255,255,255);\">O</td><td style=\"background-color: rgb(255,255,255);\">B-Goal</td><td style=\"background-color: rgb(255,255,255);\">I-Goal</td><td style=\"background-color: rgb(255,255,255);\">I-Goal</td></tr></table>"
      ],
      "text/plain": [
       "<IPython.core.display.HTML object>"
      ]
     },
     "metadata": {},
     "output_type": "display_data"
    },
    {
     "name": "stdout",
     "output_type": "stream",
     "text": [
      "true: Taking pred: Taking\n"
     ]
    },
    {
     "data": {
      "text/html": [
       "<table><tr><td><b>words</b></td><td style=\"background-color: rgb(255,255,255);\">take</td><td style=\"background-color: rgb(255,255,255);\">the</td><td style=\"background-color: rgb(255,255,255);\">remote</td><td style=\"background-color: rgb(255,255,255);\">control</td></tr><tr><td><b>lexical_unit</b></td><td style=\"background-color: rgb(0.0000, 255,0.0000);\">1.0000</td><td style=\"background-color: rgb(255.0000, 255,255.0000);\">0.0000</td><td style=\"background-color: rgb(255.0000, 255,255.0000);\">0.0000</td><td style=\"background-color: rgb(255.0000, 255,255.0000);\">0.0000</td></tr><tr><td><b>attention_intent</b></td><td style=\"background-color: rgb(14.4679, 255,14.4679);\">0.9433</td><td style=\"background-color: rgb(254.9992, 255,254.9992);\">0.0000</td><td style=\"background-color: rgb(240.5329, 255,240.5329);\">0.0567</td><td style=\"background-color: rgb(255.0000, 255,255.0000);\">0.0000</td></tr><tr><td><b>slots_true</b></td><td style=\"background-color: rgb(255,255,255);\">O</td><td style=\"background-color: rgb(255,255,255);\">B-Theme</td><td style=\"background-color: rgb(255,255,255);\">I-Theme</td><td style=\"background-color: rgb(255,255,255);\">I-Theme</td></tr><tr><td><b>slots_pred</b></td><td style=\"background-color: rgb(255,255,255);\">O</td><td style=\"background-color: rgb(255,255,255);\">B-Theme</td><td style=\"background-color: rgb(255,255,255);\">I-Theme</td><td style=\"background-color: rgb(255,255,255);\">I-Theme</td></tr></table>"
      ],
      "text/plain": [
       "<IPython.core.display.HTML object>"
      ]
     },
     "metadata": {},
     "output_type": "display_data"
    },
    {
     "name": "stdout",
     "output_type": "stream",
     "text": [
      "true: Closure pred: Closure\n"
     ]
    },
    {
     "data": {
      "text/html": [
       "<table><tr><td><b>words</b></td><td style=\"background-color: rgb(255,255,255);\">and</td><td style=\"background-color: rgb(255,255,255);\">open</td><td style=\"background-color: rgb(255,255,255);\">it</td></tr><tr><td><b>lexical_unit</b></td><td style=\"background-color: rgb(255.0000, 255,255.0000);\">0.0000</td><td style=\"background-color: rgb(0.0000, 255,0.0000);\">1.0000</td><td style=\"background-color: rgb(255.0000, 255,255.0000);\">0.0000</td></tr><tr><td><b>attention_intent</b></td><td style=\"background-color: rgb(255.0000, 255,255.0000);\">0.0000</td><td style=\"background-color: rgb(0.0000, 255,0.0000);\">1.0000</td><td style=\"background-color: rgb(255.0000, 255,255.0000);\">0.0000</td></tr><tr><td><b>slots_true</b></td><td style=\"background-color: rgb(255,255,255);\">O</td><td style=\"background-color: rgb(255,255,255);\">O</td><td style=\"background-color: rgb(255,255,255);\">B-Container_portal</td></tr><tr><td><b>slots_pred</b></td><td style=\"background-color: rgb(255,255,255);\">O</td><td style=\"background-color: rgb(255,255,255);\">O</td><td style=\"background-color: rgb(255,255,255);\">B-Containing_object</td></tr></table>"
      ],
      "text/plain": [
       "<IPython.core.display.HTML object>"
      ]
     },
     "metadata": {},
     "output_type": "display_data"
    },
    {
     "name": "stdout",
     "output_type": "stream",
     "text": [
      "true: Entering pred: Entering\n"
     ]
    },
    {
     "data": {
      "text/html": [
       "<table><tr><td><b>words</b></td><td style=\"background-color: rgb(255,255,255);\">enter</td><td style=\"background-color: rgb(255,255,255);\">the</td><td style=\"background-color: rgb(255,255,255);\">door</td></tr><tr><td><b>lexical_unit</b></td><td style=\"background-color: rgb(0.0000, 255,0.0000);\">1.0000</td><td style=\"background-color: rgb(255.0000, 255,255.0000);\">0.0000</td><td style=\"background-color: rgb(255.0000, 255,255.0000);\">0.0000</td></tr><tr><td><b>attention_intent</b></td><td style=\"background-color: rgb(0.0000, 255,0.0000);\">1.0000</td><td style=\"background-color: rgb(255.0000, 255,255.0000);\">0.0000</td><td style=\"background-color: rgb(255.0000, 255,255.0000);\">0.0000</td></tr><tr><td><b>slots_true</b></td><td style=\"background-color: rgb(255,255,255);\">O</td><td style=\"background-color: rgb(255,255,255);\">B-Goal</td><td style=\"background-color: rgb(255,255,255);\">I-Goal</td></tr><tr><td><b>slots_pred</b></td><td style=\"background-color: rgb(255,255,255);\">O</td><td style=\"background-color: rgb(255,255,255);\">B-Goal</td><td style=\"background-color: rgb(255,255,255);\">I-Goal</td></tr></table>"
      ],
      "text/plain": [
       "<IPython.core.display.HTML object>"
      ]
     },
     "metadata": {},
     "output_type": "display_data"
    },
    {
     "name": "stdout",
     "output_type": "stream",
     "text": [
      "true: Bringing pred: Bringing\n"
     ]
    },
    {
     "data": {
      "text/html": [
       "<table><tr><td><b>words</b></td><td style=\"background-color: rgb(255,255,255);\">carry</td><td style=\"background-color: rgb(255,255,255);\">the</td><td style=\"background-color: rgb(255,255,255);\">laptop</td><td style=\"background-color: rgb(255,255,255);\">to</td><td style=\"background-color: rgb(255,255,255);\">daniele</td></tr><tr><td><b>lexical_unit</b></td><td style=\"background-color: rgb(0.0000, 255,0.0000);\">1.0000</td><td style=\"background-color: rgb(255.0000, 255,255.0000);\">0.0000</td><td style=\"background-color: rgb(255.0000, 255,255.0000);\">0.0000</td><td style=\"background-color: rgb(255.0000, 255,255.0000);\">0.0000</td><td style=\"background-color: rgb(255.0000, 255,255.0000);\">0.0000</td></tr><tr><td><b>attention_intent</b></td><td style=\"background-color: rgb(47.1301, 255,47.1301);\">0.8152</td><td style=\"background-color: rgb(255.0000, 255,255.0000);\">0.0000</td><td style=\"background-color: rgb(254.8829, 255,254.8829);\">0.0005</td><td style=\"background-color: rgb(207.9870, 255,207.9870);\">0.1844</td><td style=\"background-color: rgb(255.0000, 255,255.0000);\">0.0000</td></tr><tr><td><b>slots_true</b></td><td style=\"background-color: rgb(255,255,255);\">O</td><td style=\"background-color: rgb(255,255,255);\">B-Theme</td><td style=\"background-color: rgb(255,255,255);\">I-Theme</td><td style=\"background-color: rgb(255,255,255);\">B-Beneficiary</td><td style=\"background-color: rgb(255,255,255);\">I-Beneficiary</td></tr><tr><td><b>slots_pred</b></td><td style=\"background-color: rgb(255,255,255);\">O</td><td style=\"background-color: rgb(255,255,255);\">B-Theme</td><td style=\"background-color: rgb(255,255,255);\">I-Theme</td><td style=\"background-color: rgb(255,255,255);\">B-Beneficiary</td><td style=\"background-color: rgb(255,255,255);\">I-Beneficiary</td></tr></table>"
      ],
      "text/plain": [
       "<IPython.core.display.HTML object>"
      ]
     },
     "metadata": {},
     "output_type": "display_data"
    },
    {
     "name": "stdout",
     "output_type": "stream",
     "text": [
      "true: Motion pred: Motion\n"
     ]
    },
    {
     "data": {
      "text/html": [
       "<table><tr><td><b>words</b></td><td style=\"background-color: rgb(255,255,255);\">go</td><td style=\"background-color: rgb(255,255,255);\">to</td><td style=\"background-color: rgb(255,255,255);\">the</td><td style=\"background-color: rgb(255,255,255);\">toilet</td></tr><tr><td><b>lexical_unit</b></td><td style=\"background-color: rgb(0.0000, 255,0.0000);\">1.0000</td><td style=\"background-color: rgb(255.0000, 255,255.0000);\">0.0000</td><td style=\"background-color: rgb(255.0000, 255,255.0000);\">0.0000</td><td style=\"background-color: rgb(255.0000, 255,255.0000);\">0.0000</td></tr><tr><td><b>attention_intent</b></td><td style=\"background-color: rgb(0.0373, 255,0.0373);\">0.9999</td><td style=\"background-color: rgb(254.9627, 255,254.9627);\">0.0001</td><td style=\"background-color: rgb(255.0000, 255,255.0000);\">0.0000</td><td style=\"background-color: rgb(255.0000, 255,255.0000);\">0.0000</td></tr><tr><td><b>slots_true</b></td><td style=\"background-color: rgb(255,255,255);\">O</td><td style=\"background-color: rgb(255,255,255);\">B-Goal</td><td style=\"background-color: rgb(255,255,255);\">I-Goal</td><td style=\"background-color: rgb(255,255,255);\">I-Goal</td></tr><tr><td><b>slots_pred</b></td><td style=\"background-color: rgb(255,255,255);\">O</td><td style=\"background-color: rgb(255,255,255);\">B-Goal</td><td style=\"background-color: rgb(255,255,255);\">I-Goal</td><td style=\"background-color: rgb(255,255,255);\">I-Goal</td></tr></table>"
      ],
      "text/plain": [
       "<IPython.core.display.HTML object>"
      ]
     },
     "metadata": {},
     "output_type": "display_data"
    },
    {
     "name": "stdout",
     "output_type": "stream",
     "text": [
      "true: Taking pred: Taking\n"
     ]
    },
    {
     "data": {
      "text/html": [
       "<table><tr><td><b>words</b></td><td style=\"background-color: rgb(255,255,255);\">grab</td><td style=\"background-color: rgb(255,255,255);\">the</td><td style=\"background-color: rgb(255,255,255);\">pillow</td><td style=\"background-color: rgb(255,255,255);\">at</td><td style=\"background-color: rgb(255,255,255);\">the</td><td style=\"background-color: rgb(255,255,255);\">left</td><td style=\"background-color: rgb(255,255,255);\">of</td><td style=\"background-color: rgb(255,255,255);\">the</td><td style=\"background-color: rgb(255,255,255);\">couch</td></tr><tr><td><b>lexical_unit</b></td><td style=\"background-color: rgb(0.0000, 255,0.0000);\">1.0000</td><td style=\"background-color: rgb(255.0000, 255,255.0000);\">0.0000</td><td style=\"background-color: rgb(255.0000, 255,255.0000);\">0.0000</td><td style=\"background-color: rgb(255.0000, 255,255.0000);\">0.0000</td><td style=\"background-color: rgb(255.0000, 255,255.0000);\">0.0000</td><td style=\"background-color: rgb(255.0000, 255,255.0000);\">0.0000</td><td style=\"background-color: rgb(255.0000, 255,255.0000);\">0.0000</td><td style=\"background-color: rgb(255.0000, 255,255.0000);\">0.0000</td><td style=\"background-color: rgb(255.0000, 255,255.0000);\">0.0000</td></tr><tr><td><b>attention_intent</b></td><td style=\"background-color: rgb(0.0000, 255,0.0000);\">1.0000</td><td style=\"background-color: rgb(255.0000, 255,255.0000);\">0.0000</td><td style=\"background-color: rgb(255.0000, 255,255.0000);\">0.0000</td><td style=\"background-color: rgb(255.0000, 255,255.0000);\">0.0000</td><td style=\"background-color: rgb(255.0000, 255,255.0000);\">0.0000</td><td style=\"background-color: rgb(255.0000, 255,255.0000);\">0.0000</td><td style=\"background-color: rgb(255.0000, 255,255.0000);\">0.0000</td><td style=\"background-color: rgb(255.0000, 255,255.0000);\">0.0000</td><td style=\"background-color: rgb(255.0000, 255,255.0000);\">0.0000</td></tr><tr><td><b>slots_true</b></td><td style=\"background-color: rgb(255,255,255);\">O</td><td style=\"background-color: rgb(255,255,255);\">B-Theme</td><td style=\"background-color: rgb(255,255,255);\">I-Theme</td><td style=\"background-color: rgb(255,255,255);\">I-Theme</td><td style=\"background-color: rgb(255,255,255);\">I-Theme</td><td style=\"background-color: rgb(255,255,255);\">I-Theme</td><td style=\"background-color: rgb(255,255,255);\">I-Theme</td><td style=\"background-color: rgb(255,255,255);\">I-Theme</td><td style=\"background-color: rgb(255,255,255);\">I-Theme</td></tr><tr><td><b>slots_pred</b></td><td style=\"background-color: rgb(255,255,255);\">O</td><td style=\"background-color: rgb(255,255,255);\">B-Theme</td><td style=\"background-color: rgb(255,255,255);\">I-Theme</td><td style=\"background-color: rgb(255,255,255);\">I-Theme</td><td style=\"background-color: rgb(255,255,255);\">I-Theme</td><td style=\"background-color: rgb(255,255,255);\">I-Theme</td><td style=\"background-color: rgb(255,255,255);\">I-Theme</td><td style=\"background-color: rgb(255,255,255);\">I-Theme</td><td style=\"background-color: rgb(255,255,255);\">I-Theme</td></tr></table>"
      ],
      "text/plain": [
       "<IPython.core.display.HTML object>"
      ]
     },
     "metadata": {},
     "output_type": "display_data"
    },
    {
     "name": "stdout",
     "output_type": "stream",
     "text": [
      "true: Searching pred: Searching\n"
     ]
    },
    {
     "data": {
      "text/html": [
       "<table><tr><td><b>words</b></td><td style=\"background-color: rgb(255,255,255);\">look</td><td style=\"background-color: rgb(255,255,255);\">for</td><td style=\"background-color: rgb(255,255,255);\">the</td><td style=\"background-color: rgb(255,255,255);\">glass</td><td style=\"background-color: rgb(255,255,255);\">in</td><td style=\"background-color: rgb(255,255,255);\">the</td><td style=\"background-color: rgb(255,255,255);\">bedroom</td></tr><tr><td><b>lexical_unit</b></td><td style=\"background-color: rgb(0.0000, 255,0.0000);\">1.0000</td><td style=\"background-color: rgb(255.0000, 255,255.0000);\">0.0000</td><td style=\"background-color: rgb(255.0000, 255,255.0000);\">0.0000</td><td style=\"background-color: rgb(255.0000, 255,255.0000);\">0.0000</td><td style=\"background-color: rgb(255.0000, 255,255.0000);\">0.0000</td><td style=\"background-color: rgb(255.0000, 255,255.0000);\">0.0000</td><td style=\"background-color: rgb(255.0000, 255,255.0000);\">0.0000</td></tr><tr><td><b>attention_intent</b></td><td style=\"background-color: rgb(0.0000, 255,0.0000);\">1.0000</td><td style=\"background-color: rgb(255.0000, 255,255.0000);\">0.0000</td><td style=\"background-color: rgb(255.0000, 255,255.0000);\">0.0000</td><td style=\"background-color: rgb(255.0000, 255,255.0000);\">0.0000</td><td style=\"background-color: rgb(255.0000, 255,255.0000);\">0.0000</td><td style=\"background-color: rgb(255.0000, 255,255.0000);\">0.0000</td><td style=\"background-color: rgb(255.0000, 255,255.0000);\">0.0000</td></tr><tr><td><b>slots_true</b></td><td style=\"background-color: rgb(255,255,255);\">O</td><td style=\"background-color: rgb(255,255,255);\">B-Phenomenon</td><td style=\"background-color: rgb(255,255,255);\">I-Phenomenon</td><td style=\"background-color: rgb(255,255,255);\">I-Phenomenon</td><td style=\"background-color: rgb(255,255,255);\">B-Ground</td><td style=\"background-color: rgb(255,255,255);\">I-Ground</td><td style=\"background-color: rgb(255,255,255);\">I-Ground</td></tr><tr><td><b>slots_pred</b></td><td style=\"background-color: rgb(255,255,255);\">O</td><td style=\"background-color: rgb(255,255,255);\">B-Phenomenon</td><td style=\"background-color: rgb(255,255,255);\">I-Phenomenon</td><td style=\"background-color: rgb(255,255,255);\">I-Phenomenon</td><td style=\"background-color: rgb(255,255,255);\">B-Ground</td><td style=\"background-color: rgb(255,255,255);\">I-Ground</td><td style=\"background-color: rgb(255,255,255);\">I-Ground</td></tr></table>"
      ],
      "text/plain": [
       "<IPython.core.display.HTML object>"
      ]
     },
     "metadata": {},
     "output_type": "display_data"
    },
    {
     "name": "stdout",
     "output_type": "stream",
     "text": [
      "true: Taking pred: Taking\n"
     ]
    },
    {
     "data": {
      "text/html": [
       "<table><tr><td><b>words</b></td><td style=\"background-color: rgb(255,255,255);\">take</td><td style=\"background-color: rgb(255,255,255);\">the</td><td style=\"background-color: rgb(255,255,255);\">bottle</td><td style=\"background-color: rgb(255,255,255);\">near</td><td style=\"background-color: rgb(255,255,255);\">the</td><td style=\"background-color: rgb(255,255,255);\">fridge</td></tr><tr><td><b>lexical_unit</b></td><td style=\"background-color: rgb(0.0000, 255,0.0000);\">1.0000</td><td style=\"background-color: rgb(255.0000, 255,255.0000);\">0.0000</td><td style=\"background-color: rgb(255.0000, 255,255.0000);\">0.0000</td><td style=\"background-color: rgb(255.0000, 255,255.0000);\">0.0000</td><td style=\"background-color: rgb(255.0000, 255,255.0000);\">0.0000</td><td style=\"background-color: rgb(255.0000, 255,255.0000);\">0.0000</td></tr><tr><td><b>attention_intent</b></td><td style=\"background-color: rgb(0.0007, 255,0.0007);\">1.0000</td><td style=\"background-color: rgb(254.9997, 255,254.9997);\">0.0000</td><td style=\"background-color: rgb(254.9999, 255,254.9999);\">0.0000</td><td style=\"background-color: rgb(254.9997, 255,254.9997);\">0.0000</td><td style=\"background-color: rgb(255.0000, 255,255.0000);\">0.0000</td><td style=\"background-color: rgb(255.0000, 255,255.0000);\">0.0000</td></tr><tr><td><b>slots_true</b></td><td style=\"background-color: rgb(255,255,255);\">O</td><td style=\"background-color: rgb(255,255,255);\">B-Theme</td><td style=\"background-color: rgb(255,255,255);\">I-Theme</td><td style=\"background-color: rgb(255,255,255);\">I-Theme</td><td style=\"background-color: rgb(255,255,255);\">I-Theme</td><td style=\"background-color: rgb(255,255,255);\">I-Theme</td></tr><tr><td><b>slots_pred</b></td><td style=\"background-color: rgb(255,255,255);\">O</td><td style=\"background-color: rgb(255,255,255);\">B-Goal</td><td style=\"background-color: rgb(255,255,255);\">I-Goal</td><td style=\"background-color: rgb(255,255,255);\">I-Goal</td><td style=\"background-color: rgb(255,255,255);\">I-Goal</td><td style=\"background-color: rgb(255,255,255);\">I-Goal</td></tr></table>"
      ],
      "text/plain": [
       "<IPython.core.display.HTML object>"
      ]
     },
     "metadata": {},
     "output_type": "display_data"
    },
    {
     "name": "stdout",
     "output_type": "stream",
     "text": [
      "true: Bringing pred: Bringing\n"
     ]
    },
    {
     "data": {
      "text/html": [
       "<table><tr><td><b>words</b></td><td style=\"background-color: rgb(255,255,255);\">take</td><td style=\"background-color: rgb(255,255,255);\">the</td><td style=\"background-color: rgb(255,255,255);\">jar</td><td style=\"background-color: rgb(255,255,255);\">to</td><td style=\"background-color: rgb(255,255,255);\">the</td><td style=\"background-color: rgb(255,255,255);\">table</td><td style=\"background-color: rgb(255,255,255);\">of</td><td style=\"background-color: rgb(255,255,255);\">the</td><td style=\"background-color: rgb(255,255,255);\">kitchen</td></tr><tr><td><b>lexical_unit</b></td><td style=\"background-color: rgb(0.0000, 255,0.0000);\">1.0000</td><td style=\"background-color: rgb(255.0000, 255,255.0000);\">0.0000</td><td style=\"background-color: rgb(255.0000, 255,255.0000);\">0.0000</td><td style=\"background-color: rgb(255.0000, 255,255.0000);\">0.0000</td><td style=\"background-color: rgb(255.0000, 255,255.0000);\">0.0000</td><td style=\"background-color: rgb(255.0000, 255,255.0000);\">0.0000</td><td style=\"background-color: rgb(255.0000, 255,255.0000);\">0.0000</td><td style=\"background-color: rgb(255.0000, 255,255.0000);\">0.0000</td><td style=\"background-color: rgb(255.0000, 255,255.0000);\">0.0000</td></tr><tr><td><b>attention_intent</b></td><td style=\"background-color: rgb(253.1060, 255,253.1060);\">0.0074</td><td style=\"background-color: rgb(255.0000, 255,255.0000);\">0.0000</td><td style=\"background-color: rgb(255.0000, 255,255.0000);\">0.0000</td><td style=\"background-color: rgb(1.9009, 255,1.9009);\">0.9925</td><td style=\"background-color: rgb(254.9931, 255,254.9931);\">0.0000</td><td style=\"background-color: rgb(255.0000, 255,255.0000);\">0.0000</td><td style=\"background-color: rgb(255.0000, 255,255.0000);\">0.0000</td><td style=\"background-color: rgb(255.0000, 255,255.0000);\">0.0000</td><td style=\"background-color: rgb(255.0000, 255,255.0000);\">0.0000</td></tr><tr><td><b>slots_true</b></td><td style=\"background-color: rgb(255,255,255);\">O</td><td style=\"background-color: rgb(255,255,255);\">B-Theme</td><td style=\"background-color: rgb(255,255,255);\">I-Theme</td><td style=\"background-color: rgb(255,255,255);\">B-Goal</td><td style=\"background-color: rgb(255,255,255);\">I-Goal</td><td style=\"background-color: rgb(255,255,255);\">I-Goal</td><td style=\"background-color: rgb(255,255,255);\">I-Goal</td><td style=\"background-color: rgb(255,255,255);\">I-Goal</td><td style=\"background-color: rgb(255,255,255);\">I-Goal</td></tr><tr><td><b>slots_pred</b></td><td style=\"background-color: rgb(255,255,255);\">O</td><td style=\"background-color: rgb(255,255,255);\">B-Theme</td><td style=\"background-color: rgb(255,255,255);\">I-Theme</td><td style=\"background-color: rgb(255,255,255);\">B-Goal</td><td style=\"background-color: rgb(255,255,255);\">I-Goal</td><td style=\"background-color: rgb(255,255,255);\">I-Goal</td><td style=\"background-color: rgb(255,255,255);\">I-Goal</td><td style=\"background-color: rgb(255,255,255);\">I-Goal</td><td style=\"background-color: rgb(255,255,255);\">I-Goal</td></tr></table>"
      ],
      "text/plain": [
       "<IPython.core.display.HTML object>"
      ]
     },
     "metadata": {},
     "output_type": "display_data"
    },
    {
     "name": "stdout",
     "output_type": "stream",
     "text": [
      "true: Taking pred: Taking\n"
     ]
    },
    {
     "data": {
      "text/html": [
       "<table><tr><td><b>words</b></td><td style=\"background-color: rgb(255,255,255);\">take</td><td style=\"background-color: rgb(255,255,255);\">the</td><td style=\"background-color: rgb(255,255,255);\">phone</td><td style=\"background-color: rgb(255,255,255);\">on</td><td style=\"background-color: rgb(255,255,255);\">the</td><td style=\"background-color: rgb(255,255,255);\">couch</td></tr><tr><td><b>lexical_unit</b></td><td style=\"background-color: rgb(0.0000, 255,0.0000);\">1.0000</td><td style=\"background-color: rgb(255.0000, 255,255.0000);\">0.0000</td><td style=\"background-color: rgb(255.0000, 255,255.0000);\">0.0000</td><td style=\"background-color: rgb(255.0000, 255,255.0000);\">0.0000</td><td style=\"background-color: rgb(255.0000, 255,255.0000);\">0.0000</td><td style=\"background-color: rgb(255.0000, 255,255.0000);\">0.0000</td></tr><tr><td><b>attention_intent</b></td><td style=\"background-color: rgb(25.0576, 255,25.0576);\">0.9017</td><td style=\"background-color: rgb(255.0000, 255,255.0000);\">0.0000</td><td style=\"background-color: rgb(254.9993, 255,254.9993);\">0.0000</td><td style=\"background-color: rgb(229.9432, 255,229.9432);\">0.0983</td><td style=\"background-color: rgb(255.0000, 255,255.0000);\">0.0000</td><td style=\"background-color: rgb(254.9999, 255,254.9999);\">0.0000</td></tr><tr><td><b>slots_true</b></td><td style=\"background-color: rgb(255,255,255);\">O</td><td style=\"background-color: rgb(255,255,255);\">B-Theme</td><td style=\"background-color: rgb(255,255,255);\">I-Theme</td><td style=\"background-color: rgb(255,255,255);\">I-Theme</td><td style=\"background-color: rgb(255,255,255);\">I-Theme</td><td style=\"background-color: rgb(255,255,255);\">I-Theme</td></tr><tr><td><b>slots_pred</b></td><td style=\"background-color: rgb(255,255,255);\">O</td><td style=\"background-color: rgb(255,255,255);\">B-Theme</td><td style=\"background-color: rgb(255,255,255);\">I-Theme</td><td style=\"background-color: rgb(255,255,255);\">I-Theme</td><td style=\"background-color: rgb(255,255,255);\">I-Theme</td><td style=\"background-color: rgb(255,255,255);\">I-Theme</td></tr></table>"
      ],
      "text/plain": [
       "<IPython.core.display.HTML object>"
      ]
     },
     "metadata": {},
     "output_type": "display_data"
    },
    {
     "name": "stdout",
     "output_type": "stream",
     "text": [
      "true: Taking pred: Taking\n"
     ]
    },
    {
     "data": {
      "text/html": [
       "<table><tr><td><b>words</b></td><td style=\"background-color: rgb(255,255,255);\">take</td><td style=\"background-color: rgb(255,255,255);\">the</td><td style=\"background-color: rgb(255,255,255);\">phone</td><td style=\"background-color: rgb(255,255,255);\">on</td><td style=\"background-color: rgb(255,255,255);\">the</td><td style=\"background-color: rgb(255,255,255);\">left</td><td style=\"background-color: rgb(255,255,255);\">of</td><td style=\"background-color: rgb(255,255,255);\">the</td><td style=\"background-color: rgb(255,255,255);\">pc</td></tr><tr><td><b>lexical_unit</b></td><td style=\"background-color: rgb(0.0000, 255,0.0000);\">1.0000</td><td style=\"background-color: rgb(255.0000, 255,255.0000);\">0.0000</td><td style=\"background-color: rgb(255.0000, 255,255.0000);\">0.0000</td><td style=\"background-color: rgb(255.0000, 255,255.0000);\">0.0000</td><td style=\"background-color: rgb(255.0000, 255,255.0000);\">0.0000</td><td style=\"background-color: rgb(255.0000, 255,255.0000);\">0.0000</td><td style=\"background-color: rgb(255.0000, 255,255.0000);\">0.0000</td><td style=\"background-color: rgb(255.0000, 255,255.0000);\">0.0000</td><td style=\"background-color: rgb(255.0000, 255,255.0000);\">0.0000</td></tr><tr><td><b>attention_intent</b></td><td style=\"background-color: rgb(2.4904, 255,2.4904);\">0.9902</td><td style=\"background-color: rgb(255.0000, 255,255.0000);\">0.0000</td><td style=\"background-color: rgb(254.9983, 255,254.9983);\">0.0000</td><td style=\"background-color: rgb(252.6472, 255,252.6472);\">0.0092</td><td style=\"background-color: rgb(255.0000, 255,255.0000);\">0.0000</td><td style=\"background-color: rgb(254.8641, 255,254.8641);\">0.0005</td><td style=\"background-color: rgb(255.0000, 255,255.0000);\">0.0000</td><td style=\"background-color: rgb(255.0000, 255,255.0000);\">0.0000</td><td style=\"background-color: rgb(255.0000, 255,255.0000);\">0.0000</td></tr><tr><td><b>slots_true</b></td><td style=\"background-color: rgb(255,255,255);\">O</td><td style=\"background-color: rgb(255,255,255);\">B-Theme</td><td style=\"background-color: rgb(255,255,255);\">I-Theme</td><td style=\"background-color: rgb(255,255,255);\">I-Theme</td><td style=\"background-color: rgb(255,255,255);\">I-Theme</td><td style=\"background-color: rgb(255,255,255);\">I-Theme</td><td style=\"background-color: rgb(255,255,255);\">I-Theme</td><td style=\"background-color: rgb(255,255,255);\">I-Theme</td><td style=\"background-color: rgb(255,255,255);\">I-Theme</td></tr><tr><td><b>slots_pred</b></td><td style=\"background-color: rgb(255,255,255);\">O</td><td style=\"background-color: rgb(255,255,255);\">B-Theme</td><td style=\"background-color: rgb(255,255,255);\">I-Theme</td><td style=\"background-color: rgb(255,255,255);\">I-Theme</td><td style=\"background-color: rgb(255,255,255);\">I-Theme</td><td style=\"background-color: rgb(255,255,255);\">I-Theme</td><td style=\"background-color: rgb(255,255,255);\">I-Theme</td><td style=\"background-color: rgb(255,255,255);\">I-Theme</td><td style=\"background-color: rgb(255,255,255);\">I-Theme</td></tr></table>"
      ],
      "text/plain": [
       "<IPython.core.display.HTML object>"
      ]
     },
     "metadata": {},
     "output_type": "display_data"
    },
    {
     "name": "stdout",
     "output_type": "stream",
     "text": [
      "true: Change_operational_state pred: Change_operational_state\n"
     ]
    },
    {
     "data": {
      "text/html": [
       "<table><tr><td><b>words</b></td><td style=\"background-color: rgb(255,255,255);\">activate</td><td style=\"background-color: rgb(255,255,255);\">the</td><td style=\"background-color: rgb(255,255,255);\">television</td></tr><tr><td><b>lexical_unit</b></td><td style=\"background-color: rgb(0.0000, 255,0.0000);\">1.0000</td><td style=\"background-color: rgb(255.0000, 255,255.0000);\">0.0000</td><td style=\"background-color: rgb(255.0000, 255,255.0000);\">0.0000</td></tr><tr><td><b>attention_intent</b></td><td style=\"background-color: rgb(0.0000, 255,0.0000);\">1.0000</td><td style=\"background-color: rgb(255.0000, 255,255.0000);\">0.0000</td><td style=\"background-color: rgb(255.0000, 255,255.0000);\">0.0000</td></tr><tr><td><b>slots_true</b></td><td style=\"background-color: rgb(255,255,255);\">O</td><td style=\"background-color: rgb(255,255,255);\">B-Device</td><td style=\"background-color: rgb(255,255,255);\">I-Device</td></tr><tr><td><b>slots_pred</b></td><td style=\"background-color: rgb(255,255,255);\">O</td><td style=\"background-color: rgb(255,255,255);\">B-Device</td><td style=\"background-color: rgb(255,255,255);\">I-Device</td></tr></table>"
      ],
      "text/plain": [
       "<IPython.core.display.HTML object>"
      ]
     },
     "metadata": {},
     "output_type": "display_data"
    },
    {
     "name": "stdout",
     "output_type": "stream",
     "text": [
      "true: Bringing pred: Bringing\n"
     ]
    },
    {
     "data": {
      "text/html": [
       "<table><tr><td><b>words</b></td><td style=\"background-color: rgb(255,255,255);\">bring</td><td style=\"background-color: rgb(255,255,255);\">the</td><td style=\"background-color: rgb(255,255,255);\">bottle</td><td style=\"background-color: rgb(255,255,255);\">to</td><td style=\"background-color: rgb(255,255,255);\">the</td><td style=\"background-color: rgb(255,255,255);\">couch</td></tr><tr><td><b>lexical_unit</b></td><td style=\"background-color: rgb(0.0000, 255,0.0000);\">1.0000</td><td style=\"background-color: rgb(255.0000, 255,255.0000);\">0.0000</td><td style=\"background-color: rgb(255.0000, 255,255.0000);\">0.0000</td><td style=\"background-color: rgb(255.0000, 255,255.0000);\">0.0000</td><td style=\"background-color: rgb(255.0000, 255,255.0000);\">0.0000</td><td style=\"background-color: rgb(255.0000, 255,255.0000);\">0.0000</td></tr><tr><td><b>attention_intent</b></td><td style=\"background-color: rgb(0.1018, 255,0.1018);\">0.9996</td><td style=\"background-color: rgb(255.0000, 255,255.0000);\">0.0000</td><td style=\"background-color: rgb(254.9999, 255,254.9999);\">0.0000</td><td style=\"background-color: rgb(254.8983, 255,254.8983);\">0.0004</td><td style=\"background-color: rgb(255.0000, 255,255.0000);\">0.0000</td><td style=\"background-color: rgb(255.0000, 255,255.0000);\">0.0000</td></tr><tr><td><b>slots_true</b></td><td style=\"background-color: rgb(255,255,255);\">O</td><td style=\"background-color: rgb(255,255,255);\">B-Theme</td><td style=\"background-color: rgb(255,255,255);\">I-Theme</td><td style=\"background-color: rgb(255,255,255);\">B-Goal</td><td style=\"background-color: rgb(255,255,255);\">I-Goal</td><td style=\"background-color: rgb(255,255,255);\">I-Goal</td></tr><tr><td><b>slots_pred</b></td><td style=\"background-color: rgb(255,255,255);\">O</td><td style=\"background-color: rgb(255,255,255);\">B-Theme</td><td style=\"background-color: rgb(255,255,255);\">I-Theme</td><td style=\"background-color: rgb(255,255,255);\">B-Goal</td><td style=\"background-color: rgb(255,255,255);\">I-Goal</td><td style=\"background-color: rgb(255,255,255);\">I-Goal</td></tr></table>"
      ],
      "text/plain": [
       "<IPython.core.display.HTML object>"
      ]
     },
     "metadata": {},
     "output_type": "display_data"
    },
    {
     "name": "stdout",
     "output_type": "stream",
     "text": [
      "true: Bringing pred: Bringing\n"
     ]
    },
    {
     "data": {
      "text/html": [
       "<table><tr><td><b>words</b></td><td style=\"background-color: rgb(255,255,255);\">carry</td><td style=\"background-color: rgb(255,255,255);\">the</td><td style=\"background-color: rgb(255,255,255);\">mug</td><td style=\"background-color: rgb(255,255,255);\">to</td><td style=\"background-color: rgb(255,255,255);\">the</td><td style=\"background-color: rgb(255,255,255);\">living</td><td style=\"background-color: rgb(255,255,255);\">room</td></tr><tr><td><b>lexical_unit</b></td><td style=\"background-color: rgb(0.0000, 255,0.0000);\">1.0000</td><td style=\"background-color: rgb(255.0000, 255,255.0000);\">0.0000</td><td style=\"background-color: rgb(255.0000, 255,255.0000);\">0.0000</td><td style=\"background-color: rgb(255.0000, 255,255.0000);\">0.0000</td><td style=\"background-color: rgb(255.0000, 255,255.0000);\">0.0000</td><td style=\"background-color: rgb(255.0000, 255,255.0000);\">0.0000</td><td style=\"background-color: rgb(255.0000, 255,255.0000);\">0.0000</td></tr><tr><td><b>attention_intent</b></td><td style=\"background-color: rgb(41.6602, 255,41.6602);\">0.8366</td><td style=\"background-color: rgb(254.9999, 255,254.9999);\">0.0000</td><td style=\"background-color: rgb(254.9268, 255,254.9268);\">0.0003</td><td style=\"background-color: rgb(213.4132, 255,213.4132);\">0.1631</td><td style=\"background-color: rgb(255.0000, 255,255.0000);\">0.0000</td><td style=\"background-color: rgb(255.0000, 255,255.0000);\">0.0000</td><td style=\"background-color: rgb(255.0000, 255,255.0000);\">0.0000</td></tr><tr><td><b>slots_true</b></td><td style=\"background-color: rgb(255,255,255);\">O</td><td style=\"background-color: rgb(255,255,255);\">B-Theme</td><td style=\"background-color: rgb(255,255,255);\">I-Theme</td><td style=\"background-color: rgb(255,255,255);\">B-Goal</td><td style=\"background-color: rgb(255,255,255);\">I-Goal</td><td style=\"background-color: rgb(255,255,255);\">I-Goal</td><td style=\"background-color: rgb(255,255,255);\">I-Goal</td></tr><tr><td><b>slots_pred</b></td><td style=\"background-color: rgb(255,255,255);\">O</td><td style=\"background-color: rgb(255,255,255);\">B-Theme</td><td style=\"background-color: rgb(255,255,255);\">I-Theme</td><td style=\"background-color: rgb(255,255,255);\">B-Goal</td><td style=\"background-color: rgb(255,255,255);\">I-Goal</td><td style=\"background-color: rgb(255,255,255);\">I-Goal</td><td style=\"background-color: rgb(255,255,255);\">I-Goal</td></tr></table>"
      ],
      "text/plain": [
       "<IPython.core.display.HTML object>"
      ]
     },
     "metadata": {},
     "output_type": "display_data"
    },
    {
     "name": "stdout",
     "output_type": "stream",
     "text": [
      "true: Searching pred: Searching\n"
     ]
    },
    {
     "data": {
      "text/html": [
       "<table><tr><td><b>words</b></td><td style=\"background-color: rgb(255,255,255);\">find</td><td style=\"background-color: rgb(255,255,255);\">a</td><td style=\"background-color: rgb(255,255,255);\">bottle</td><td style=\"background-color: rgb(255,255,255);\">in</td><td style=\"background-color: rgb(255,255,255);\">the</td><td style=\"background-color: rgb(255,255,255);\">kitchen</td></tr><tr><td><b>lexical_unit</b></td><td style=\"background-color: rgb(0.0000, 255,0.0000);\">1.0000</td><td style=\"background-color: rgb(255.0000, 255,255.0000);\">0.0000</td><td style=\"background-color: rgb(255.0000, 255,255.0000);\">0.0000</td><td style=\"background-color: rgb(255.0000, 255,255.0000);\">0.0000</td><td style=\"background-color: rgb(255.0000, 255,255.0000);\">0.0000</td><td style=\"background-color: rgb(255.0000, 255,255.0000);\">0.0000</td></tr><tr><td><b>attention_intent</b></td><td style=\"background-color: rgb(0.0000, 255,0.0000);\">1.0000</td><td style=\"background-color: rgb(255.0000, 255,255.0000);\">0.0000</td><td style=\"background-color: rgb(255.0000, 255,255.0000);\">0.0000</td><td style=\"background-color: rgb(255.0000, 255,255.0000);\">0.0000</td><td style=\"background-color: rgb(255.0000, 255,255.0000);\">0.0000</td><td style=\"background-color: rgb(255.0000, 255,255.0000);\">0.0000</td></tr><tr><td><b>slots_true</b></td><td style=\"background-color: rgb(255,255,255);\">O</td><td style=\"background-color: rgb(255,255,255);\">B-Phenomenon</td><td style=\"background-color: rgb(255,255,255);\">I-Phenomenon</td><td style=\"background-color: rgb(255,255,255);\">B-Ground</td><td style=\"background-color: rgb(255,255,255);\">I-Ground</td><td style=\"background-color: rgb(255,255,255);\">I-Ground</td></tr><tr><td><b>slots_pred</b></td><td style=\"background-color: rgb(255,255,255);\">O</td><td style=\"background-color: rgb(255,255,255);\">B-Phenomenon</td><td style=\"background-color: rgb(255,255,255);\">I-Phenomenon</td><td style=\"background-color: rgb(255,255,255);\">B-Ground</td><td style=\"background-color: rgb(255,255,255);\">I-Ground</td><td style=\"background-color: rgb(255,255,255);\">I-Ground</td></tr></table>"
      ],
      "text/plain": [
       "<IPython.core.display.HTML object>"
      ]
     },
     "metadata": {},
     "output_type": "display_data"
    },
    {
     "name": "stdout",
     "output_type": "stream",
     "text": [
      "true: Searching pred: Searching\n"
     ]
    },
    {
     "data": {
      "text/html": [
       "<table><tr><td><b>words</b></td><td style=\"background-color: rgb(255,255,255);\">find</td><td style=\"background-color: rgb(255,255,255);\">the</td><td style=\"background-color: rgb(255,255,255);\">television</td></tr><tr><td><b>lexical_unit</b></td><td style=\"background-color: rgb(0.0000, 255,0.0000);\">1.0000</td><td style=\"background-color: rgb(255.0000, 255,255.0000);\">0.0000</td><td style=\"background-color: rgb(255.0000, 255,255.0000);\">0.0000</td></tr><tr><td><b>attention_intent</b></td><td style=\"background-color: rgb(0.0000, 255,0.0000);\">1.0000</td><td style=\"background-color: rgb(255.0000, 255,255.0000);\">0.0000</td><td style=\"background-color: rgb(255.0000, 255,255.0000);\">0.0000</td></tr><tr><td><b>slots_true</b></td><td style=\"background-color: rgb(255,255,255);\">O</td><td style=\"background-color: rgb(255,255,255);\">B-Phenomenon</td><td style=\"background-color: rgb(255,255,255);\">I-Phenomenon</td></tr><tr><td><b>slots_pred</b></td><td style=\"background-color: rgb(255,255,255);\">O</td><td style=\"background-color: rgb(255,255,255);\">B-Phenomenon</td><td style=\"background-color: rgb(255,255,255);\">I-Phenomenon</td></tr></table>"
      ],
      "text/plain": [
       "<IPython.core.display.HTML object>"
      ]
     },
     "metadata": {},
     "output_type": "display_data"
    },
    {
     "name": "stdout",
     "output_type": "stream",
     "text": [
      "true: Taking pred: Taking\n"
     ]
    },
    {
     "data": {
      "text/html": [
       "<table><tr><td><b>words</b></td><td style=\"background-color: rgb(255,255,255);\">get</td><td style=\"background-color: rgb(255,255,255);\">the</td><td style=\"background-color: rgb(255,255,255);\">phone</td></tr><tr><td><b>lexical_unit</b></td><td style=\"background-color: rgb(0.0000, 255,0.0000);\">1.0000</td><td style=\"background-color: rgb(255.0000, 255,255.0000);\">0.0000</td><td style=\"background-color: rgb(255.0000, 255,255.0000);\">0.0000</td></tr><tr><td><b>attention_intent</b></td><td style=\"background-color: rgb(0.0000, 255,0.0000);\">1.0000</td><td style=\"background-color: rgb(255.0000, 255,255.0000);\">0.0000</td><td style=\"background-color: rgb(255.0000, 255,255.0000);\">0.0000</td></tr><tr><td><b>slots_true</b></td><td style=\"background-color: rgb(255,255,255);\">O</td><td style=\"background-color: rgb(255,255,255);\">B-Theme</td><td style=\"background-color: rgb(255,255,255);\">I-Theme</td></tr><tr><td><b>slots_pred</b></td><td style=\"background-color: rgb(255,255,255);\">O</td><td style=\"background-color: rgb(255,255,255);\">B-Theme</td><td style=\"background-color: rgb(255,255,255);\">I-Theme</td></tr></table>"
      ],
      "text/plain": [
       "<IPython.core.display.HTML object>"
      ]
     },
     "metadata": {},
     "output_type": "display_data"
    },
    {
     "name": "stdout",
     "output_type": "stream",
     "text": [
      "true: Bringing pred: Bringing\n"
     ]
    },
    {
     "data": {
      "text/html": [
       "<table><tr><td><b>words</b></td><td style=\"background-color: rgb(255,255,255);\">and</td><td style=\"background-color: rgb(255,255,255);\">take</td><td style=\"background-color: rgb(255,255,255);\">it</td><td style=\"background-color: rgb(255,255,255);\">to</td><td style=\"background-color: rgb(255,255,255);\">the</td><td style=\"background-color: rgb(255,255,255);\">bathroom</td></tr><tr><td><b>lexical_unit</b></td><td style=\"background-color: rgb(255.0000, 255,255.0000);\">0.0000</td><td style=\"background-color: rgb(0.0000, 255,0.0000);\">1.0000</td><td style=\"background-color: rgb(255.0000, 255,255.0000);\">0.0000</td><td style=\"background-color: rgb(255.0000, 255,255.0000);\">0.0000</td><td style=\"background-color: rgb(255.0000, 255,255.0000);\">0.0000</td><td style=\"background-color: rgb(255.0000, 255,255.0000);\">0.0000</td></tr><tr><td><b>attention_intent</b></td><td style=\"background-color: rgb(255.0000, 255,255.0000);\">0.0000</td><td style=\"background-color: rgb(254.5945, 255,254.5945);\">0.0016</td><td style=\"background-color: rgb(254.9957, 255,254.9957);\">0.0000</td><td style=\"background-color: rgb(0.4098, 255,0.4098);\">0.9984</td><td style=\"background-color: rgb(255.0000, 255,255.0000);\">0.0000</td><td style=\"background-color: rgb(255.0000, 255,255.0000);\">0.0000</td></tr><tr><td><b>slots_true</b></td><td style=\"background-color: rgb(255,255,255);\">O</td><td style=\"background-color: rgb(255,255,255);\">O</td><td style=\"background-color: rgb(255,255,255);\">B-Theme</td><td style=\"background-color: rgb(255,255,255);\">B-Goal</td><td style=\"background-color: rgb(255,255,255);\">I-Goal</td><td style=\"background-color: rgb(255,255,255);\">I-Goal</td></tr><tr><td><b>slots_pred</b></td><td style=\"background-color: rgb(255,255,255);\">O</td><td style=\"background-color: rgb(255,255,255);\">O</td><td style=\"background-color: rgb(255,255,255);\">B-Theme</td><td style=\"background-color: rgb(255,255,255);\">B-Goal</td><td style=\"background-color: rgb(255,255,255);\">I-Goal</td><td style=\"background-color: rgb(255,255,255);\">I-Goal</td></tr></table>"
      ],
      "text/plain": [
       "<IPython.core.display.HTML object>"
      ]
     },
     "metadata": {},
     "output_type": "display_data"
    },
    {
     "name": "stdout",
     "output_type": "stream",
     "text": [
      "true: Motion pred: Motion\n"
     ]
    },
    {
     "data": {
      "text/html": [
       "<table><tr><td><b>words</b></td><td style=\"background-color: rgb(255,255,255);\">go</td><td style=\"background-color: rgb(255,255,255);\">into</td><td style=\"background-color: rgb(255,255,255);\">the</td><td style=\"background-color: rgb(255,255,255);\">bathroom</td></tr><tr><td><b>lexical_unit</b></td><td style=\"background-color: rgb(0.0000, 255,0.0000);\">1.0000</td><td style=\"background-color: rgb(255.0000, 255,255.0000);\">0.0000</td><td style=\"background-color: rgb(255.0000, 255,255.0000);\">0.0000</td><td style=\"background-color: rgb(255.0000, 255,255.0000);\">0.0000</td></tr><tr><td><b>attention_intent</b></td><td style=\"background-color: rgb(10.1633, 255,10.1633);\">0.9601</td><td style=\"background-color: rgb(244.8367, 255,244.8367);\">0.0399</td><td style=\"background-color: rgb(255.0000, 255,255.0000);\">0.0000</td><td style=\"background-color: rgb(255.0000, 255,255.0000);\">0.0000</td></tr><tr><td><b>slots_true</b></td><td style=\"background-color: rgb(255,255,255);\">O</td><td style=\"background-color: rgb(255,255,255);\">B-Goal</td><td style=\"background-color: rgb(255,255,255);\">I-Goal</td><td style=\"background-color: rgb(255,255,255);\">I-Goal</td></tr><tr><td><b>slots_pred</b></td><td style=\"background-color: rgb(255,255,255);\">O</td><td style=\"background-color: rgb(255,255,255);\">B-Goal</td><td style=\"background-color: rgb(255,255,255);\">I-Goal</td><td style=\"background-color: rgb(255,255,255);\">I-Goal</td></tr></table>"
      ],
      "text/plain": [
       "<IPython.core.display.HTML object>"
      ]
     },
     "metadata": {},
     "output_type": "display_data"
    },
    {
     "name": "stdout",
     "output_type": "stream",
     "text": [
      "true: Motion pred: Motion\n"
     ]
    },
    {
     "data": {
      "text/html": [
       "<table><tr><td><b>words</b></td><td style=\"background-color: rgb(255,255,255);\">go</td><td style=\"background-color: rgb(255,255,255);\">to</td><td style=\"background-color: rgb(255,255,255);\">dining</td><td style=\"background-color: rgb(255,255,255);\">room</td></tr><tr><td><b>lexical_unit</b></td><td style=\"background-color: rgb(0.0000, 255,0.0000);\">1.0000</td><td style=\"background-color: rgb(255.0000, 255,255.0000);\">0.0000</td><td style=\"background-color: rgb(255.0000, 255,255.0000);\">0.0000</td><td style=\"background-color: rgb(255.0000, 255,255.0000);\">0.0000</td></tr><tr><td><b>attention_intent</b></td><td style=\"background-color: rgb(0.0017, 255,0.0017);\">1.0000</td><td style=\"background-color: rgb(254.9983, 255,254.9983);\">0.0000</td><td style=\"background-color: rgb(255.0000, 255,255.0000);\">0.0000</td><td style=\"background-color: rgb(255.0000, 255,255.0000);\">0.0000</td></tr><tr><td><b>slots_true</b></td><td style=\"background-color: rgb(255,255,255);\">O</td><td style=\"background-color: rgb(255,255,255);\">B-Goal</td><td style=\"background-color: rgb(255,255,255);\">I-Goal</td><td style=\"background-color: rgb(255,255,255);\">I-Goal</td></tr><tr><td><b>slots_pred</b></td><td style=\"background-color: rgb(255,255,255);\">O</td><td style=\"background-color: rgb(255,255,255);\">B-Goal</td><td style=\"background-color: rgb(255,255,255);\">I-Goal</td><td style=\"background-color: rgb(255,255,255);\">I-Goal</td></tr></table>"
      ],
      "text/plain": [
       "<IPython.core.display.HTML object>"
      ]
     },
     "metadata": {},
     "output_type": "display_data"
    },
    {
     "name": "stdout",
     "output_type": "stream",
     "text": [
      "true: Motion pred: Motion\n"
     ]
    },
    {
     "data": {
      "text/html": [
       "<table><tr><td><b>words</b></td><td style=\"background-color: rgb(255,255,255);\">go</td><td style=\"background-color: rgb(255,255,255);\">to</td><td style=\"background-color: rgb(255,255,255);\">the</td><td style=\"background-color: rgb(255,255,255);\">fridge</td></tr><tr><td><b>lexical_unit</b></td><td style=\"background-color: rgb(0.0000, 255,0.0000);\">1.0000</td><td style=\"background-color: rgb(255.0000, 255,255.0000);\">0.0000</td><td style=\"background-color: rgb(255.0000, 255,255.0000);\">0.0000</td><td style=\"background-color: rgb(255.0000, 255,255.0000);\">0.0000</td></tr><tr><td><b>attention_intent</b></td><td style=\"background-color: rgb(0.8669, 255,0.8669);\">0.9966</td><td style=\"background-color: rgb(254.1331, 255,254.1331);\">0.0034</td><td style=\"background-color: rgb(255.0000, 255,255.0000);\">0.0000</td><td style=\"background-color: rgb(255.0000, 255,255.0000);\">0.0000</td></tr><tr><td><b>slots_true</b></td><td style=\"background-color: rgb(255,255,255);\">O</td><td style=\"background-color: rgb(255,255,255);\">B-Goal</td><td style=\"background-color: rgb(255,255,255);\">I-Goal</td><td style=\"background-color: rgb(255,255,255);\">I-Goal</td></tr><tr><td><b>slots_pred</b></td><td style=\"background-color: rgb(255,255,255);\">O</td><td style=\"background-color: rgb(255,255,255);\">B-Goal</td><td style=\"background-color: rgb(255,255,255);\">I-Goal</td><td style=\"background-color: rgb(255,255,255);\">I-Goal</td></tr></table>"
      ],
      "text/plain": [
       "<IPython.core.display.HTML object>"
      ]
     },
     "metadata": {},
     "output_type": "display_data"
    },
    {
     "name": "stdout",
     "output_type": "stream",
     "text": [
      "true: Motion pred: Motion\n"
     ]
    },
    {
     "data": {
      "text/html": [
       "<table><tr><td><b>words</b></td><td style=\"background-color: rgb(255,255,255);\">move</td><td style=\"background-color: rgb(255,255,255);\">towards</td><td style=\"background-color: rgb(255,255,255);\">the</td><td style=\"background-color: rgb(255,255,255);\">kitchen</td></tr><tr><td><b>lexical_unit</b></td><td style=\"background-color: rgb(0.0000, 255,0.0000);\">1.0000</td><td style=\"background-color: rgb(255.0000, 255,255.0000);\">0.0000</td><td style=\"background-color: rgb(255.0000, 255,255.0000);\">0.0000</td><td style=\"background-color: rgb(255.0000, 255,255.0000);\">0.0000</td></tr><tr><td><b>attention_intent</b></td><td style=\"background-color: rgb(35.0542, 255,35.0542);\">0.8625</td><td style=\"background-color: rgb(219.9458, 255,219.9458);\">0.1375</td><td style=\"background-color: rgb(255.0000, 255,255.0000);\">0.0000</td><td style=\"background-color: rgb(255.0000, 255,255.0000);\">0.0000</td></tr><tr><td><b>slots_true</b></td><td style=\"background-color: rgb(255,255,255);\">O</td><td style=\"background-color: rgb(255,255,255);\">B-Goal</td><td style=\"background-color: rgb(255,255,255);\">I-Goal</td><td style=\"background-color: rgb(255,255,255);\">I-Goal</td></tr><tr><td><b>slots_pred</b></td><td style=\"background-color: rgb(255,255,255);\">O</td><td style=\"background-color: rgb(255,255,255);\">B-Goal</td><td style=\"background-color: rgb(255,255,255);\">I-Goal</td><td style=\"background-color: rgb(255,255,255);\">I-Goal</td></tr></table>"
      ],
      "text/plain": [
       "<IPython.core.display.HTML object>"
      ]
     },
     "metadata": {},
     "output_type": "display_data"
    },
    {
     "name": "stdout",
     "output_type": "stream",
     "text": [
      "true: Following pred: Following\n"
     ]
    },
    {
     "data": {
      "text/html": [
       "<table><tr><td><b>words</b></td><td style=\"background-color: rgb(255,255,255);\">please</td><td style=\"background-color: rgb(255,255,255);\">follow</td><td style=\"background-color: rgb(255,255,255);\">that</td><td style=\"background-color: rgb(255,255,255);\">person</td></tr><tr><td><b>lexical_unit</b></td><td style=\"background-color: rgb(255.0000, 255,255.0000);\">0.0000</td><td style=\"background-color: rgb(0.0000, 255,0.0000);\">1.0000</td><td style=\"background-color: rgb(255.0000, 255,255.0000);\">0.0000</td><td style=\"background-color: rgb(255.0000, 255,255.0000);\">0.0000</td></tr><tr><td><b>attention_intent</b></td><td style=\"background-color: rgb(255.0000, 255,255.0000);\">0.0000</td><td style=\"background-color: rgb(0.0000, 255,0.0000);\">1.0000</td><td style=\"background-color: rgb(255.0000, 255,255.0000);\">0.0000</td><td style=\"background-color: rgb(255.0000, 255,255.0000);\">0.0000</td></tr><tr><td><b>slots_true</b></td><td style=\"background-color: rgb(255,255,255);\">O</td><td style=\"background-color: rgb(255,255,255);\">O</td><td style=\"background-color: rgb(255,255,255);\">B-Cotheme</td><td style=\"background-color: rgb(255,255,255);\">I-Cotheme</td></tr><tr><td><b>slots_pred</b></td><td style=\"background-color: rgb(255,255,255);\">O</td><td style=\"background-color: rgb(255,255,255);\">O</td><td style=\"background-color: rgb(255,255,255);\">B-Cotheme</td><td style=\"background-color: rgb(255,255,255);\">I-Cotheme</td></tr></table>"
      ],
      "text/plain": [
       "<IPython.core.display.HTML object>"
      ]
     },
     "metadata": {},
     "output_type": "display_data"
    },
    {
     "name": "stdout",
     "output_type": "stream",
     "text": [
      "true: Placing pred: Placing\n"
     ]
    },
    {
     "data": {
      "text/html": [
       "<table><tr><td><b>words</b></td><td style=\"background-color: rgb(255,255,255);\">please</td><td style=\"background-color: rgb(255,255,255);\">put</td><td style=\"background-color: rgb(255,255,255);\">the</td><td style=\"background-color: rgb(255,255,255);\">book</td><td style=\"background-color: rgb(255,255,255);\">in</td><td style=\"background-color: rgb(255,255,255);\">the</td><td style=\"background-color: rgb(255,255,255);\">dining</td><td style=\"background-color: rgb(255,255,255);\">room</td></tr><tr><td><b>lexical_unit</b></td><td style=\"background-color: rgb(255.0000, 255,255.0000);\">0.0000</td><td style=\"background-color: rgb(0.0000, 255,0.0000);\">1.0000</td><td style=\"background-color: rgb(255.0000, 255,255.0000);\">0.0000</td><td style=\"background-color: rgb(255.0000, 255,255.0000);\">0.0000</td><td style=\"background-color: rgb(255.0000, 255,255.0000);\">0.0000</td><td style=\"background-color: rgb(255.0000, 255,255.0000);\">0.0000</td><td style=\"background-color: rgb(255.0000, 255,255.0000);\">0.0000</td><td style=\"background-color: rgb(255.0000, 255,255.0000);\">0.0000</td></tr><tr><td><b>attention_intent</b></td><td style=\"background-color: rgb(255.0000, 255,255.0000);\">0.0000</td><td style=\"background-color: rgb(254.9893, 255,254.9893);\">0.0000</td><td style=\"background-color: rgb(254.9998, 255,254.9998);\">0.0000</td><td style=\"background-color: rgb(254.5828, 255,254.5828);\">0.0016</td><td style=\"background-color: rgb(0.4280, 255,0.4280);\">0.9983</td><td style=\"background-color: rgb(255.0000, 255,255.0000);\">0.0000</td><td style=\"background-color: rgb(255.0000, 255,255.0000);\">0.0000</td><td style=\"background-color: rgb(255.0000, 255,255.0000);\">0.0000</td></tr><tr><td><b>slots_true</b></td><td style=\"background-color: rgb(255,255,255);\">O</td><td style=\"background-color: rgb(255,255,255);\">O</td><td style=\"background-color: rgb(255,255,255);\">B-Theme</td><td style=\"background-color: rgb(255,255,255);\">I-Theme</td><td style=\"background-color: rgb(255,255,255);\">B-Goal</td><td style=\"background-color: rgb(255,255,255);\">I-Goal</td><td style=\"background-color: rgb(255,255,255);\">I-Goal</td><td style=\"background-color: rgb(255,255,255);\">I-Goal</td></tr><tr><td><b>slots_pred</b></td><td style=\"background-color: rgb(255,255,255);\">O</td><td style=\"background-color: rgb(255,255,255);\">O</td><td style=\"background-color: rgb(255,255,255);\">B-Theme</td><td style=\"background-color: rgb(255,255,255);\">I-Theme</td><td style=\"background-color: rgb(255,255,255);\">B-Goal</td><td style=\"background-color: rgb(255,255,255);\">I-Goal</td><td style=\"background-color: rgb(255,255,255);\">I-Goal</td><td style=\"background-color: rgb(255,255,255);\">I-Goal</td></tr></table>"
      ],
      "text/plain": [
       "<IPython.core.display.HTML object>"
      ]
     },
     "metadata": {},
     "output_type": "display_data"
    },
    {
     "name": "stdout",
     "output_type": "stream",
     "text": [
      "true: Bringing pred: Bringing\n"
     ]
    },
    {
     "data": {
      "text/html": [
       "<table><tr><td><b>words</b></td><td style=\"background-color: rgb(255,255,255);\">please</td><td style=\"background-color: rgb(255,255,255);\">take</td><td style=\"background-color: rgb(255,255,255);\">the</td><td style=\"background-color: rgb(255,255,255);\">mug</td><td style=\"background-color: rgb(255,255,255);\">to</td><td style=\"background-color: rgb(255,255,255);\">the</td><td style=\"background-color: rgb(255,255,255);\">bedroom</td></tr><tr><td><b>lexical_unit</b></td><td style=\"background-color: rgb(255.0000, 255,255.0000);\">0.0000</td><td style=\"background-color: rgb(0.0000, 255,0.0000);\">1.0000</td><td style=\"background-color: rgb(255.0000, 255,255.0000);\">0.0000</td><td style=\"background-color: rgb(255.0000, 255,255.0000);\">0.0000</td><td style=\"background-color: rgb(255.0000, 255,255.0000);\">0.0000</td><td style=\"background-color: rgb(255.0000, 255,255.0000);\">0.0000</td><td style=\"background-color: rgb(255.0000, 255,255.0000);\">0.0000</td></tr><tr><td><b>attention_intent</b></td><td style=\"background-color: rgb(255.0000, 255,255.0000);\">0.0000</td><td style=\"background-color: rgb(254.0548, 255,254.0548);\">0.0037</td><td style=\"background-color: rgb(255.0000, 255,255.0000);\">0.0000</td><td style=\"background-color: rgb(254.9949, 255,254.9949);\">0.0000</td><td style=\"background-color: rgb(0.9503, 255,0.9503);\">0.9963</td><td style=\"background-color: rgb(254.9999, 255,254.9999);\">0.0000</td><td style=\"background-color: rgb(255.0000, 255,255.0000);\">0.0000</td></tr><tr><td><b>slots_true</b></td><td style=\"background-color: rgb(255,255,255);\">O</td><td style=\"background-color: rgb(255,255,255);\">O</td><td style=\"background-color: rgb(255,255,255);\">B-Theme</td><td style=\"background-color: rgb(255,255,255);\">I-Theme</td><td style=\"background-color: rgb(255,255,255);\">B-Goal</td><td style=\"background-color: rgb(255,255,255);\">I-Goal</td><td style=\"background-color: rgb(255,255,255);\">I-Goal</td></tr><tr><td><b>slots_pred</b></td><td style=\"background-color: rgb(255,255,255);\">O</td><td style=\"background-color: rgb(255,255,255);\">O</td><td style=\"background-color: rgb(255,255,255);\">B-Theme</td><td style=\"background-color: rgb(255,255,255);\">I-Theme</td><td style=\"background-color: rgb(255,255,255);\">B-Goal</td><td style=\"background-color: rgb(255,255,255);\">I-Goal</td><td style=\"background-color: rgb(255,255,255);\">I-Goal</td></tr></table>"
      ],
      "text/plain": [
       "<IPython.core.display.HTML object>"
      ]
     },
     "metadata": {},
     "output_type": "display_data"
    },
    {
     "name": "stdout",
     "output_type": "stream",
     "text": [
      "true: Motion pred: Motion\n"
     ]
    },
    {
     "data": {
      "text/html": [
       "<table><tr><td><b>words</b></td><td style=\"background-color: rgb(255,255,255);\">please</td><td style=\"background-color: rgb(255,255,255);\">walk</td><td style=\"background-color: rgb(255,255,255);\">slowly</td><td style=\"background-color: rgb(255,255,255);\">to</td><td style=\"background-color: rgb(255,255,255);\">the</td><td style=\"background-color: rgb(255,255,255);\">kitchen</td></tr><tr><td><b>lexical_unit</b></td><td style=\"background-color: rgb(255.0000, 255,255.0000);\">0.0000</td><td style=\"background-color: rgb(0.0000, 255,0.0000);\">1.0000</td><td style=\"background-color: rgb(255.0000, 255,255.0000);\">0.0000</td><td style=\"background-color: rgb(255.0000, 255,255.0000);\">0.0000</td><td style=\"background-color: rgb(255.0000, 255,255.0000);\">0.0000</td><td style=\"background-color: rgb(255.0000, 255,255.0000);\">0.0000</td></tr><tr><td><b>attention_intent</b></td><td style=\"background-color: rgb(255.0000, 255,255.0000);\">0.0000</td><td style=\"background-color: rgb(254.9999, 255,254.9999);\">0.0000</td><td style=\"background-color: rgb(76.5789, 255,76.5789);\">0.6997</td><td style=\"background-color: rgb(178.4212, 255,178.4212);\">0.3003</td><td style=\"background-color: rgb(255.0000, 255,255.0000);\">0.0000</td><td style=\"background-color: rgb(255.0000, 255,255.0000);\">0.0000</td></tr><tr><td><b>slots_true</b></td><td style=\"background-color: rgb(255,255,255);\">O</td><td style=\"background-color: rgb(255,255,255);\">O</td><td style=\"background-color: rgb(255,255,255);\">B-Manner</td><td style=\"background-color: rgb(255,255,255);\">B-Goal</td><td style=\"background-color: rgb(255,255,255);\">I-Goal</td><td style=\"background-color: rgb(255,255,255);\">I-Goal</td></tr><tr><td><b>slots_pred</b></td><td style=\"background-color: rgb(255,255,255);\">O</td><td style=\"background-color: rgb(255,255,255);\">O</td><td style=\"background-color: rgb(255,255,255);\">O</td><td style=\"background-color: rgb(255,255,255);\">B-Goal</td><td style=\"background-color: rgb(255,255,255);\">I-Goal</td><td style=\"background-color: rgb(255,255,255);\">I-Goal</td></tr></table>"
      ],
      "text/plain": [
       "<IPython.core.display.HTML object>"
      ]
     },
     "metadata": {},
     "output_type": "display_data"
    },
    {
     "name": "stdout",
     "output_type": "stream",
     "text": [
      "true: Placing pred: Placing\n"
     ]
    },
    {
     "data": {
      "text/html": [
       "<table><tr><td><b>words</b></td><td style=\"background-color: rgb(255,255,255);\">put</td><td style=\"background-color: rgb(255,255,255);\">the</td><td style=\"background-color: rgb(255,255,255);\">phone</td><td style=\"background-color: rgb(255,255,255);\">in</td><td style=\"background-color: rgb(255,255,255);\">the</td><td style=\"background-color: rgb(255,255,255);\">kitchen</td><td style=\"background-color: rgb(255,255,255);\">stove</td></tr><tr><td><b>lexical_unit</b></td><td style=\"background-color: rgb(0.0000, 255,0.0000);\">1.0000</td><td style=\"background-color: rgb(255.0000, 255,255.0000);\">0.0000</td><td style=\"background-color: rgb(255.0000, 255,255.0000);\">0.0000</td><td style=\"background-color: rgb(255.0000, 255,255.0000);\">0.0000</td><td style=\"background-color: rgb(255.0000, 255,255.0000);\">0.0000</td><td style=\"background-color: rgb(255.0000, 255,255.0000);\">0.0000</td><td style=\"background-color: rgb(255.0000, 255,255.0000);\">0.0000</td></tr><tr><td><b>attention_intent</b></td><td style=\"background-color: rgb(254.9992, 255,254.9992);\">0.0000</td><td style=\"background-color: rgb(254.9862, 255,254.9862);\">0.0001</td><td style=\"background-color: rgb(254.9998, 255,254.9998);\">0.0000</td><td style=\"background-color: rgb(0.0154, 255,0.0154);\">0.9999</td><td style=\"background-color: rgb(254.9995, 255,254.9995);\">0.0000</td><td style=\"background-color: rgb(255.0000, 255,255.0000);\">0.0000</td><td style=\"background-color: rgb(255.0000, 255,255.0000);\">0.0000</td></tr><tr><td><b>slots_true</b></td><td style=\"background-color: rgb(255,255,255);\">O</td><td style=\"background-color: rgb(255,255,255);\">B-Theme</td><td style=\"background-color: rgb(255,255,255);\">I-Theme</td><td style=\"background-color: rgb(255,255,255);\">B-Goal</td><td style=\"background-color: rgb(255,255,255);\">I-Goal</td><td style=\"background-color: rgb(255,255,255);\">I-Goal</td><td style=\"background-color: rgb(255,255,255);\">I-Goal</td></tr><tr><td><b>slots_pred</b></td><td style=\"background-color: rgb(255,255,255);\">O</td><td style=\"background-color: rgb(255,255,255);\">B-Theme</td><td style=\"background-color: rgb(255,255,255);\">I-Theme</td><td style=\"background-color: rgb(255,255,255);\">B-Goal</td><td style=\"background-color: rgb(255,255,255);\">I-Goal</td><td style=\"background-color: rgb(255,255,255);\">I-Goal</td><td style=\"background-color: rgb(255,255,255);\">I-Goal</td></tr></table>"
      ],
      "text/plain": [
       "<IPython.core.display.HTML object>"
      ]
     },
     "metadata": {},
     "output_type": "display_data"
    },
    {
     "name": "stdout",
     "output_type": "stream",
     "text": [
      "true: Bringing pred: Bringing\n"
     ]
    },
    {
     "data": {
      "text/html": [
       "<table><tr><td><b>words</b></td><td style=\"background-color: rgb(255,255,255);\">take</td><td style=\"background-color: rgb(255,255,255);\">the</td><td style=\"background-color: rgb(255,255,255);\">book</td><td style=\"background-color: rgb(255,255,255);\">to</td><td style=\"background-color: rgb(255,255,255);\">the</td><td style=\"background-color: rgb(255,255,255);\">bedroom</td></tr><tr><td><b>lexical_unit</b></td><td style=\"background-color: rgb(0.0000, 255,0.0000);\">1.0000</td><td style=\"background-color: rgb(255.0000, 255,255.0000);\">0.0000</td><td style=\"background-color: rgb(255.0000, 255,255.0000);\">0.0000</td><td style=\"background-color: rgb(255.0000, 255,255.0000);\">0.0000</td><td style=\"background-color: rgb(255.0000, 255,255.0000);\">0.0000</td><td style=\"background-color: rgb(255.0000, 255,255.0000);\">0.0000</td></tr><tr><td><b>attention_intent</b></td><td style=\"background-color: rgb(250.7150, 255,250.7150);\">0.0168</td><td style=\"background-color: rgb(255.0000, 255,255.0000);\">0.0000</td><td style=\"background-color: rgb(254.9997, 255,254.9997);\">0.0000</td><td style=\"background-color: rgb(4.2853, 255,4.2853);\">0.9832</td><td style=\"background-color: rgb(255.0000, 255,255.0000);\">0.0000</td><td style=\"background-color: rgb(255.0000, 255,255.0000);\">0.0000</td></tr><tr><td><b>slots_true</b></td><td style=\"background-color: rgb(255,255,255);\">O</td><td style=\"background-color: rgb(255,255,255);\">B-Theme</td><td style=\"background-color: rgb(255,255,255);\">I-Theme</td><td style=\"background-color: rgb(255,255,255);\">B-Goal</td><td style=\"background-color: rgb(255,255,255);\">I-Goal</td><td style=\"background-color: rgb(255,255,255);\">I-Goal</td></tr><tr><td><b>slots_pred</b></td><td style=\"background-color: rgb(255,255,255);\">O</td><td style=\"background-color: rgb(255,255,255);\">B-Theme</td><td style=\"background-color: rgb(255,255,255);\">I-Theme</td><td style=\"background-color: rgb(255,255,255);\">B-Goal</td><td style=\"background-color: rgb(255,255,255);\">I-Goal</td><td style=\"background-color: rgb(255,255,255);\">I-Goal</td></tr></table>"
      ],
      "text/plain": [
       "<IPython.core.display.HTML object>"
      ]
     },
     "metadata": {},
     "output_type": "display_data"
    },
    {
     "name": "stdout",
     "output_type": "stream",
     "text": [
      "true: Bringing pred: Bringing\n"
     ]
    },
    {
     "data": {
      "text/html": [
       "<table><tr><td><b>words</b></td><td style=\"background-color: rgb(255,255,255);\">take</td><td style=\"background-color: rgb(255,255,255);\">the</td><td style=\"background-color: rgb(255,255,255);\">bottle</td><td style=\"background-color: rgb(255,255,255);\">to</td><td style=\"background-color: rgb(255,255,255);\">the</td><td style=\"background-color: rgb(255,255,255);\">kitchen</td></tr><tr><td><b>lexical_unit</b></td><td style=\"background-color: rgb(0.0000, 255,0.0000);\">1.0000</td><td style=\"background-color: rgb(255.0000, 255,255.0000);\">0.0000</td><td style=\"background-color: rgb(255.0000, 255,255.0000);\">0.0000</td><td style=\"background-color: rgb(255.0000, 255,255.0000);\">0.0000</td><td style=\"background-color: rgb(255.0000, 255,255.0000);\">0.0000</td><td style=\"background-color: rgb(255.0000, 255,255.0000);\">0.0000</td></tr><tr><td><b>attention_intent</b></td><td style=\"background-color: rgb(254.3053, 255,254.3053);\">0.0027</td><td style=\"background-color: rgb(255.0000, 255,255.0000);\">0.0000</td><td style=\"background-color: rgb(254.9999, 255,254.9999);\">0.0000</td><td style=\"background-color: rgb(0.6957, 255,0.6957);\">0.9973</td><td style=\"background-color: rgb(254.9991, 255,254.9991);\">0.0000</td><td style=\"background-color: rgb(255.0000, 255,255.0000);\">0.0000</td></tr><tr><td><b>slots_true</b></td><td style=\"background-color: rgb(255,255,255);\">O</td><td style=\"background-color: rgb(255,255,255);\">B-Theme</td><td style=\"background-color: rgb(255,255,255);\">I-Theme</td><td style=\"background-color: rgb(255,255,255);\">B-Goal</td><td style=\"background-color: rgb(255,255,255);\">I-Goal</td><td style=\"background-color: rgb(255,255,255);\">I-Goal</td></tr><tr><td><b>slots_pred</b></td><td style=\"background-color: rgb(255,255,255);\">O</td><td style=\"background-color: rgb(255,255,255);\">B-Theme</td><td style=\"background-color: rgb(255,255,255);\">I-Theme</td><td style=\"background-color: rgb(255,255,255);\">B-Goal</td><td style=\"background-color: rgb(255,255,255);\">I-Goal</td><td style=\"background-color: rgb(255,255,255);\">I-Goal</td></tr></table>"
      ],
      "text/plain": [
       "<IPython.core.display.HTML object>"
      ]
     },
     "metadata": {},
     "output_type": "display_data"
    },
    {
     "name": "stdout",
     "output_type": "stream",
     "text": [
      "true: Bringing pred: Bringing\n"
     ]
    },
    {
     "data": {
      "text/html": [
       "<table><tr><td><b>words</b></td><td style=\"background-color: rgb(255,255,255);\">bring</td><td style=\"background-color: rgb(255,255,255);\">me</td><td style=\"background-color: rgb(255,255,255);\">the</td><td style=\"background-color: rgb(255,255,255);\">glasses</td></tr><tr><td><b>lexical_unit</b></td><td style=\"background-color: rgb(0.0000, 255,0.0000);\">1.0000</td><td style=\"background-color: rgb(255.0000, 255,255.0000);\">0.0000</td><td style=\"background-color: rgb(255.0000, 255,255.0000);\">0.0000</td><td style=\"background-color: rgb(255.0000, 255,255.0000);\">0.0000</td></tr><tr><td><b>attention_intent</b></td><td style=\"background-color: rgb(4.5850, 255,4.5850);\">0.9820</td><td style=\"background-color: rgb(250.4150, 255,250.4150);\">0.0180</td><td style=\"background-color: rgb(255.0000, 255,255.0000);\">0.0000</td><td style=\"background-color: rgb(255.0000, 255,255.0000);\">0.0000</td></tr><tr><td><b>slots_true</b></td><td style=\"background-color: rgb(255,255,255);\">O</td><td style=\"background-color: rgb(255,255,255);\">B-Beneficiary</td><td style=\"background-color: rgb(255,255,255);\">B-Theme</td><td style=\"background-color: rgb(255,255,255);\">I-Theme</td></tr><tr><td><b>slots_pred</b></td><td style=\"background-color: rgb(255,255,255);\">O</td><td style=\"background-color: rgb(255,255,255);\">B-Beneficiary</td><td style=\"background-color: rgb(255,255,255);\">B-Theme</td><td style=\"background-color: rgb(255,255,255);\">I-Theme</td></tr></table>"
      ],
      "text/plain": [
       "<IPython.core.display.HTML object>"
      ]
     },
     "metadata": {},
     "output_type": "display_data"
    },
    {
     "name": "stdout",
     "output_type": "stream",
     "text": [
      "true: Placing pred: Placing\n"
     ]
    },
    {
     "data": {
      "text/html": [
       "<table><tr><td><b>words</b></td><td style=\"background-color: rgb(255,255,255);\">and</td><td style=\"background-color: rgb(255,255,255);\">put</td><td style=\"background-color: rgb(255,255,255);\">them</td><td style=\"background-color: rgb(255,255,255);\">on</td><td style=\"background-color: rgb(255,255,255);\">the</td><td style=\"background-color: rgb(255,255,255);\">table</td><td style=\"background-color: rgb(255,255,255);\">next</td><td style=\"background-color: rgb(255,255,255);\">to</td><td style=\"background-color: rgb(255,255,255);\">the</td><td style=\"background-color: rgb(255,255,255);\">couch</td></tr><tr><td><b>lexical_unit</b></td><td style=\"background-color: rgb(255.0000, 255,255.0000);\">0.0000</td><td style=\"background-color: rgb(0.0000, 255,0.0000);\">1.0000</td><td style=\"background-color: rgb(255.0000, 255,255.0000);\">0.0000</td><td style=\"background-color: rgb(255.0000, 255,255.0000);\">0.0000</td><td style=\"background-color: rgb(255.0000, 255,255.0000);\">0.0000</td><td style=\"background-color: rgb(255.0000, 255,255.0000);\">0.0000</td><td style=\"background-color: rgb(255.0000, 255,255.0000);\">0.0000</td><td style=\"background-color: rgb(255.0000, 255,255.0000);\">0.0000</td><td style=\"background-color: rgb(255.0000, 255,255.0000);\">0.0000</td><td style=\"background-color: rgb(255.0000, 255,255.0000);\">0.0000</td></tr><tr><td><b>attention_intent</b></td><td style=\"background-color: rgb(255.0000, 255,255.0000);\">0.0000</td><td style=\"background-color: rgb(254.9963, 255,254.9963);\">0.0000</td><td style=\"background-color: rgb(254.8904, 255,254.8904);\">0.0004</td><td style=\"background-color: rgb(0.1133, 255,0.1133);\">0.9996</td><td style=\"background-color: rgb(255.0000, 255,255.0000);\">0.0000</td><td style=\"background-color: rgb(255.0000, 255,255.0000);\">0.0000</td><td style=\"background-color: rgb(255.0000, 255,255.0000);\">0.0000</td><td style=\"background-color: rgb(255.0000, 255,255.0000);\">0.0000</td><td style=\"background-color: rgb(255.0000, 255,255.0000);\">0.0000</td><td style=\"background-color: rgb(255.0000, 255,255.0000);\">0.0000</td></tr><tr><td><b>slots_true</b></td><td style=\"background-color: rgb(255,255,255);\">O</td><td style=\"background-color: rgb(255,255,255);\">O</td><td style=\"background-color: rgb(255,255,255);\">B-Theme</td><td style=\"background-color: rgb(255,255,255);\">B-Goal</td><td style=\"background-color: rgb(255,255,255);\">I-Goal</td><td style=\"background-color: rgb(255,255,255);\">I-Goal</td><td style=\"background-color: rgb(255,255,255);\">I-Goal</td><td style=\"background-color: rgb(255,255,255);\">I-Goal</td><td style=\"background-color: rgb(255,255,255);\">I-Goal</td><td style=\"background-color: rgb(255,255,255);\">I-Goal</td></tr><tr><td><b>slots_pred</b></td><td style=\"background-color: rgb(255,255,255);\">O</td><td style=\"background-color: rgb(255,255,255);\">O</td><td style=\"background-color: rgb(255,255,255);\">B-Theme</td><td style=\"background-color: rgb(255,255,255);\">B-Goal</td><td style=\"background-color: rgb(255,255,255);\">I-Goal</td><td style=\"background-color: rgb(255,255,255);\">I-Goal</td><td style=\"background-color: rgb(255,255,255);\">I-Goal</td><td style=\"background-color: rgb(255,255,255);\">I-Goal</td><td style=\"background-color: rgb(255,255,255);\">I-Goal</td><td style=\"background-color: rgb(255,255,255);\">I-Goal</td></tr></table>"
      ],
      "text/plain": [
       "<IPython.core.display.HTML object>"
      ]
     },
     "metadata": {},
     "output_type": "display_data"
    },
    {
     "name": "stdout",
     "output_type": "stream",
     "text": [
      "true: Bringing pred: Bringing\n"
     ]
    },
    {
     "data": {
      "text/html": [
       "<table><tr><td><b>words</b></td><td style=\"background-color: rgb(255,255,255);\">can</td><td style=\"background-color: rgb(255,255,255);\">you</td><td style=\"background-color: rgb(255,255,255);\">bring</td><td style=\"background-color: rgb(255,255,255);\">me</td><td style=\"background-color: rgb(255,255,255);\">my</td><td style=\"background-color: rgb(255,255,255);\">eyeglass</td></tr><tr><td><b>lexical_unit</b></td><td style=\"background-color: rgb(255.0000, 255,255.0000);\">0.0000</td><td style=\"background-color: rgb(255.0000, 255,255.0000);\">0.0000</td><td style=\"background-color: rgb(0.0000, 255,0.0000);\">1.0000</td><td style=\"background-color: rgb(255.0000, 255,255.0000);\">0.0000</td><td style=\"background-color: rgb(255.0000, 255,255.0000);\">0.0000</td><td style=\"background-color: rgb(255.0000, 255,255.0000);\">0.0000</td></tr><tr><td><b>attention_intent</b></td><td style=\"background-color: rgb(255.0000, 255,255.0000);\">0.0000</td><td style=\"background-color: rgb(255.0000, 255,255.0000);\">0.0000</td><td style=\"background-color: rgb(8.4583, 255,8.4583);\">0.9668</td><td style=\"background-color: rgb(246.5421, 255,246.5421);\">0.0332</td><td style=\"background-color: rgb(255.0000, 255,255.0000);\">0.0000</td><td style=\"background-color: rgb(254.9996, 255,254.9996);\">0.0000</td></tr><tr><td><b>slots_true</b></td><td style=\"background-color: rgb(255,255,255);\">O</td><td style=\"background-color: rgb(255,255,255);\">B-Agent</td><td style=\"background-color: rgb(255,255,255);\">O</td><td style=\"background-color: rgb(255,255,255);\">B-Beneficiary</td><td style=\"background-color: rgb(255,255,255);\">B-Theme</td><td style=\"background-color: rgb(255,255,255);\">I-Theme</td></tr><tr><td><b>slots_pred</b></td><td style=\"background-color: rgb(255,255,255);\">O</td><td style=\"background-color: rgb(255,255,255);\">B-Agent</td><td style=\"background-color: rgb(255,255,255);\">O</td><td style=\"background-color: rgb(255,255,255);\">B-Beneficiary</td><td style=\"background-color: rgb(255,255,255);\">B-Theme</td><td style=\"background-color: rgb(255,255,255);\">I-Theme</td></tr></table>"
      ],
      "text/plain": [
       "<IPython.core.display.HTML object>"
      ]
     },
     "metadata": {},
     "output_type": "display_data"
    },
    {
     "name": "stdout",
     "output_type": "stream",
     "text": [
      "true: Bringing pred: Bringing\n"
     ]
    },
    {
     "data": {
      "text/html": [
       "<table><tr><td><b>words</b></td><td style=\"background-color: rgb(255,255,255);\">can</td><td style=\"background-color: rgb(255,255,255);\">you</td><td style=\"background-color: rgb(255,255,255);\">bring</td><td style=\"background-color: rgb(255,255,255);\">me</td><td style=\"background-color: rgb(255,255,255);\">my</td><td style=\"background-color: rgb(255,255,255);\">tablet</td></tr><tr><td><b>lexical_unit</b></td><td style=\"background-color: rgb(255.0000, 255,255.0000);\">0.0000</td><td style=\"background-color: rgb(255.0000, 255,255.0000);\">0.0000</td><td style=\"background-color: rgb(0.0000, 255,0.0000);\">1.0000</td><td style=\"background-color: rgb(255.0000, 255,255.0000);\">0.0000</td><td style=\"background-color: rgb(255.0000, 255,255.0000);\">0.0000</td><td style=\"background-color: rgb(255.0000, 255,255.0000);\">0.0000</td></tr><tr><td><b>attention_intent</b></td><td style=\"background-color: rgb(255.0000, 255,255.0000);\">0.0000</td><td style=\"background-color: rgb(255.0000, 255,255.0000);\">0.0000</td><td style=\"background-color: rgb(97.0672, 255,97.0672);\">0.6193</td><td style=\"background-color: rgb(157.9332, 255,157.9332);\">0.3807</td><td style=\"background-color: rgb(254.9996, 255,254.9996);\">0.0000</td><td style=\"background-color: rgb(255.0000, 255,255.0000);\">0.0000</td></tr><tr><td><b>slots_true</b></td><td style=\"background-color: rgb(255,255,255);\">O</td><td style=\"background-color: rgb(255,255,255);\">B-Agent</td><td style=\"background-color: rgb(255,255,255);\">O</td><td style=\"background-color: rgb(255,255,255);\">B-Beneficiary</td><td style=\"background-color: rgb(255,255,255);\">B-Theme</td><td style=\"background-color: rgb(255,255,255);\">I-Theme</td></tr><tr><td><b>slots_pred</b></td><td style=\"background-color: rgb(255,255,255);\">O</td><td style=\"background-color: rgb(255,255,255);\">B-Agent</td><td style=\"background-color: rgb(255,255,255);\">O</td><td style=\"background-color: rgb(255,255,255);\">B-Beneficiary</td><td style=\"background-color: rgb(255,255,255);\">B-Theme</td><td style=\"background-color: rgb(255,255,255);\">I-Theme</td></tr></table>"
      ],
      "text/plain": [
       "<IPython.core.display.HTML object>"
      ]
     },
     "metadata": {},
     "output_type": "display_data"
    },
    {
     "name": "stdout",
     "output_type": "stream",
     "text": [
      "true: Bringing pred: Bringing\n"
     ]
    },
    {
     "data": {
      "text/html": [
       "<table><tr><td><b>words</b></td><td style=\"background-color: rgb(255,255,255);\">and</td><td style=\"background-color: rgb(255,255,255);\">bring</td><td style=\"background-color: rgb(255,255,255);\">it</td><td style=\"background-color: rgb(255,255,255);\">to</td><td style=\"background-color: rgb(255,255,255);\">me</td></tr><tr><td><b>lexical_unit</b></td><td style=\"background-color: rgb(255.0000, 255,255.0000);\">0.0000</td><td style=\"background-color: rgb(0.0000, 255,0.0000);\">1.0000</td><td style=\"background-color: rgb(255.0000, 255,255.0000);\">0.0000</td><td style=\"background-color: rgb(255.0000, 255,255.0000);\">0.0000</td><td style=\"background-color: rgb(255.0000, 255,255.0000);\">0.0000</td></tr><tr><td><b>attention_intent</b></td><td style=\"background-color: rgb(255.0000, 255,255.0000);\">0.0000</td><td style=\"background-color: rgb(9.7908, 255,9.7908);\">0.9616</td><td style=\"background-color: rgb(254.8880, 255,254.8880);\">0.0004</td><td style=\"background-color: rgb(245.3345, 255,245.3345);\">0.0379</td><td style=\"background-color: rgb(254.9867, 255,254.9867);\">0.0001</td></tr><tr><td><b>slots_true</b></td><td style=\"background-color: rgb(255,255,255);\">O</td><td style=\"background-color: rgb(255,255,255);\">O</td><td style=\"background-color: rgb(255,255,255);\">B-Theme</td><td style=\"background-color: rgb(255,255,255);\">B-Beneficiary</td><td style=\"background-color: rgb(255,255,255);\">I-Beneficiary</td></tr><tr><td><b>slots_pred</b></td><td style=\"background-color: rgb(255,255,255);\">O</td><td style=\"background-color: rgb(255,255,255);\">O</td><td style=\"background-color: rgb(255,255,255);\">B-Theme</td><td style=\"background-color: rgb(255,255,255);\">B-Beneficiary</td><td style=\"background-color: rgb(255,255,255);\">I-Beneficiary</td></tr></table>"
      ],
      "text/plain": [
       "<IPython.core.display.HTML object>"
      ]
     },
     "metadata": {},
     "output_type": "display_data"
    },
    {
     "name": "stdout",
     "output_type": "stream",
     "text": [
      "true: Taking pred: Taking\n"
     ]
    },
    {
     "data": {
      "text/html": [
       "<table><tr><td><b>words</b></td><td style=\"background-color: rgb(255,255,255);\">could</td><td style=\"background-color: rgb(255,255,255);\">you</td><td style=\"background-color: rgb(255,255,255);\">take</td><td style=\"background-color: rgb(255,255,255);\">the</td><td style=\"background-color: rgb(255,255,255);\">knife</td><td style=\"background-color: rgb(255,255,255);\">on</td><td style=\"background-color: rgb(255,255,255);\">the</td><td style=\"background-color: rgb(255,255,255);\">cutting</td><td style=\"background-color: rgb(255,255,255);\">board</td></tr><tr><td><b>lexical_unit</b></td><td style=\"background-color: rgb(255.0000, 255,255.0000);\">0.0000</td><td style=\"background-color: rgb(255.0000, 255,255.0000);\">0.0000</td><td style=\"background-color: rgb(0.0000, 255,0.0000);\">1.0000</td><td style=\"background-color: rgb(255.0000, 255,255.0000);\">0.0000</td><td style=\"background-color: rgb(255.0000, 255,255.0000);\">0.0000</td><td style=\"background-color: rgb(255.0000, 255,255.0000);\">0.0000</td><td style=\"background-color: rgb(255.0000, 255,255.0000);\">0.0000</td><td style=\"background-color: rgb(255.0000, 255,255.0000);\">0.0000</td><td style=\"background-color: rgb(255.0000, 255,255.0000);\">0.0000</td></tr><tr><td><b>attention_intent</b></td><td style=\"background-color: rgb(255.0000, 255,255.0000);\">0.0000</td><td style=\"background-color: rgb(255.0000, 255,255.0000);\">0.0000</td><td style=\"background-color: rgb(0.6646, 255,0.6646);\">0.9974</td><td style=\"background-color: rgb(254.9999, 255,254.9999);\">0.0000</td><td style=\"background-color: rgb(254.9993, 255,254.9993);\">0.0000</td><td style=\"background-color: rgb(254.3362, 255,254.3362);\">0.0026</td><td style=\"background-color: rgb(255.0000, 255,255.0000);\">0.0000</td><td style=\"background-color: rgb(255.0000, 255,255.0000);\">0.0000</td><td style=\"background-color: rgb(255.0000, 255,255.0000);\">0.0000</td></tr><tr><td><b>slots_true</b></td><td style=\"background-color: rgb(255,255,255);\">O</td><td style=\"background-color: rgb(255,255,255);\">B-Agent</td><td style=\"background-color: rgb(255,255,255);\">O</td><td style=\"background-color: rgb(255,255,255);\">B-Theme</td><td style=\"background-color: rgb(255,255,255);\">I-Theme</td><td style=\"background-color: rgb(255,255,255);\">I-Theme</td><td style=\"background-color: rgb(255,255,255);\">I-Theme</td><td style=\"background-color: rgb(255,255,255);\">I-Theme</td><td style=\"background-color: rgb(255,255,255);\">I-Theme</td></tr><tr><td><b>slots_pred</b></td><td style=\"background-color: rgb(255,255,255);\">O</td><td style=\"background-color: rgb(255,255,255);\">B-Agent</td><td style=\"background-color: rgb(255,255,255);\">O</td><td style=\"background-color: rgb(255,255,255);\">B-Theme</td><td style=\"background-color: rgb(255,255,255);\">I-Theme</td><td style=\"background-color: rgb(255,255,255);\">B-Goal</td><td style=\"background-color: rgb(255,255,255);\">I-Goal</td><td style=\"background-color: rgb(255,255,255);\">I-Goal</td><td style=\"background-color: rgb(255,255,255);\">I-Goal</td></tr></table>"
      ],
      "text/plain": [
       "<IPython.core.display.HTML object>"
      ]
     },
     "metadata": {},
     "output_type": "display_data"
    },
    {
     "name": "stdout",
     "output_type": "stream",
     "text": [
      "true: Releasing pred: Releasing\n"
     ]
    },
    {
     "data": {
      "text/html": [
       "<table><tr><td><b>words</b></td><td style=\"background-color: rgb(255,255,255);\">drop</td><td style=\"background-color: rgb(255,255,255);\">the</td><td style=\"background-color: rgb(255,255,255);\">vase</td></tr><tr><td><b>lexical_unit</b></td><td style=\"background-color: rgb(0.0000, 255,0.0000);\">1.0000</td><td style=\"background-color: rgb(255.0000, 255,255.0000);\">0.0000</td><td style=\"background-color: rgb(255.0000, 255,255.0000);\">0.0000</td></tr><tr><td><b>attention_intent</b></td><td style=\"background-color: rgb(0.0132, 255,0.0132);\">0.9999</td><td style=\"background-color: rgb(254.9868, 255,254.9868);\">0.0001</td><td style=\"background-color: rgb(255.0000, 255,255.0000);\">0.0000</td></tr><tr><td><b>slots_true</b></td><td style=\"background-color: rgb(255,255,255);\">O</td><td style=\"background-color: rgb(255,255,255);\">B-Theme</td><td style=\"background-color: rgb(255,255,255);\">I-Theme</td></tr><tr><td><b>slots_pred</b></td><td style=\"background-color: rgb(255,255,255);\">O</td><td style=\"background-color: rgb(255,255,255);\">B-Theme</td><td style=\"background-color: rgb(255,255,255);\">I-Theme</td></tr></table>"
      ],
      "text/plain": [
       "<IPython.core.display.HTML object>"
      ]
     },
     "metadata": {},
     "output_type": "display_data"
    },
    {
     "name": "stdout",
     "output_type": "stream",
     "text": [
      "true: Searching pred: Searching\n"
     ]
    },
    {
     "data": {
      "text/html": [
       "<table><tr><td><b>words</b></td><td style=\"background-color: rgb(255,255,255);\">find</td><td style=\"background-color: rgb(255,255,255);\">my</td><td style=\"background-color: rgb(255,255,255);\">tablet</td></tr><tr><td><b>lexical_unit</b></td><td style=\"background-color: rgb(0.0000, 255,0.0000);\">1.0000</td><td style=\"background-color: rgb(255.0000, 255,255.0000);\">0.0000</td><td style=\"background-color: rgb(255.0000, 255,255.0000);\">0.0000</td></tr><tr><td><b>attention_intent</b></td><td style=\"background-color: rgb(0.0000, 255,0.0000);\">1.0000</td><td style=\"background-color: rgb(255.0000, 255,255.0000);\">0.0000</td><td style=\"background-color: rgb(255.0000, 255,255.0000);\">0.0000</td></tr><tr><td><b>slots_true</b></td><td style=\"background-color: rgb(255,255,255);\">O</td><td style=\"background-color: rgb(255,255,255);\">B-Phenomenon</td><td style=\"background-color: rgb(255,255,255);\">I-Phenomenon</td></tr><tr><td><b>slots_pred</b></td><td style=\"background-color: rgb(255,255,255);\">O</td><td style=\"background-color: rgb(255,255,255);\">B-Phenomenon</td><td style=\"background-color: rgb(255,255,255);\">I-Phenomenon</td></tr></table>"
      ],
      "text/plain": [
       "<IPython.core.display.HTML object>"
      ]
     },
     "metadata": {},
     "output_type": "display_data"
    },
    {
     "name": "stdout",
     "output_type": "stream",
     "text": [
      "true: Motion pred: Motion\n"
     ]
    },
    {
     "data": {
      "text/html": [
       "<table><tr><td><b>words</b></td><td style=\"background-color: rgb(255,255,255);\">go</td><td style=\"background-color: rgb(255,255,255);\">in</td><td style=\"background-color: rgb(255,255,255);\">the</td><td style=\"background-color: rgb(255,255,255);\">bathroom</td></tr><tr><td><b>lexical_unit</b></td><td style=\"background-color: rgb(0.0000, 255,0.0000);\">1.0000</td><td style=\"background-color: rgb(255.0000, 255,255.0000);\">0.0000</td><td style=\"background-color: rgb(255.0000, 255,255.0000);\">0.0000</td><td style=\"background-color: rgb(255.0000, 255,255.0000);\">0.0000</td></tr><tr><td><b>attention_intent</b></td><td style=\"background-color: rgb(0.0000, 255,0.0000);\">1.0000</td><td style=\"background-color: rgb(255.0000, 255,255.0000);\">0.0000</td><td style=\"background-color: rgb(255.0000, 255,255.0000);\">0.0000</td><td style=\"background-color: rgb(255.0000, 255,255.0000);\">0.0000</td></tr><tr><td><b>slots_true</b></td><td style=\"background-color: rgb(255,255,255);\">O</td><td style=\"background-color: rgb(255,255,255);\">B-Goal</td><td style=\"background-color: rgb(255,255,255);\">I-Goal</td><td style=\"background-color: rgb(255,255,255);\">I-Goal</td></tr><tr><td><b>slots_pred</b></td><td style=\"background-color: rgb(255,255,255);\">O</td><td style=\"background-color: rgb(255,255,255);\">B-Goal</td><td style=\"background-color: rgb(255,255,255);\">I-Goal</td><td style=\"background-color: rgb(255,255,255);\">I-Goal</td></tr></table>"
      ],
      "text/plain": [
       "<IPython.core.display.HTML object>"
      ]
     },
     "metadata": {},
     "output_type": "display_data"
    },
    {
     "name": "stdout",
     "output_type": "stream",
     "text": [
      "true: Motion pred: Motion\n"
     ]
    },
    {
     "data": {
      "text/html": [
       "<table><tr><td><b>words</b></td><td style=\"background-color: rgb(255,255,255);\">go</td><td style=\"background-color: rgb(255,255,255);\">in</td><td style=\"background-color: rgb(255,255,255);\">the</td><td style=\"background-color: rgb(255,255,255);\">kitchen</td></tr><tr><td><b>lexical_unit</b></td><td style=\"background-color: rgb(0.0000, 255,0.0000);\">1.0000</td><td style=\"background-color: rgb(255.0000, 255,255.0000);\">0.0000</td><td style=\"background-color: rgb(255.0000, 255,255.0000);\">0.0000</td><td style=\"background-color: rgb(255.0000, 255,255.0000);\">0.0000</td></tr><tr><td><b>attention_intent</b></td><td style=\"background-color: rgb(0.0000, 255,0.0000);\">1.0000</td><td style=\"background-color: rgb(255.0000, 255,255.0000);\">0.0000</td><td style=\"background-color: rgb(255.0000, 255,255.0000);\">0.0000</td><td style=\"background-color: rgb(255.0000, 255,255.0000);\">0.0000</td></tr><tr><td><b>slots_true</b></td><td style=\"background-color: rgb(255,255,255);\">O</td><td style=\"background-color: rgb(255,255,255);\">B-Goal</td><td style=\"background-color: rgb(255,255,255);\">I-Goal</td><td style=\"background-color: rgb(255,255,255);\">I-Goal</td></tr><tr><td><b>slots_pred</b></td><td style=\"background-color: rgb(255,255,255);\">O</td><td style=\"background-color: rgb(255,255,255);\">B-Goal</td><td style=\"background-color: rgb(255,255,255);\">I-Goal</td><td style=\"background-color: rgb(255,255,255);\">I-Goal</td></tr></table>"
      ],
      "text/plain": [
       "<IPython.core.display.HTML object>"
      ]
     },
     "metadata": {},
     "output_type": "display_data"
    },
    {
     "name": "stdout",
     "output_type": "stream",
     "text": [
      "true: Motion pred: Motion\n"
     ]
    },
    {
     "data": {
      "text/html": [
       "<table><tr><td><b>words</b></td><td style=\"background-color: rgb(255,255,255);\">go</td><td style=\"background-color: rgb(255,255,255);\">next</td><td style=\"background-color: rgb(255,255,255);\">to</td><td style=\"background-color: rgb(255,255,255);\">the</td><td style=\"background-color: rgb(255,255,255);\">door</td></tr><tr><td><b>lexical_unit</b></td><td style=\"background-color: rgb(0.0000, 255,0.0000);\">1.0000</td><td style=\"background-color: rgb(255.0000, 255,255.0000);\">0.0000</td><td style=\"background-color: rgb(255.0000, 255,255.0000);\">0.0000</td><td style=\"background-color: rgb(255.0000, 255,255.0000);\">0.0000</td><td style=\"background-color: rgb(255.0000, 255,255.0000);\">0.0000</td></tr><tr><td><b>attention_intent</b></td><td style=\"background-color: rgb(10.0106, 255,10.0106);\">0.9607</td><td style=\"background-color: rgb(244.9895, 255,244.9895);\">0.0393</td><td style=\"background-color: rgb(254.9999, 255,254.9999);\">0.0000</td><td style=\"background-color: rgb(255.0000, 255,255.0000);\">0.0000</td><td style=\"background-color: rgb(255.0000, 255,255.0000);\">0.0000</td></tr><tr><td><b>slots_true</b></td><td style=\"background-color: rgb(255,255,255);\">O</td><td style=\"background-color: rgb(255,255,255);\">B-Goal</td><td style=\"background-color: rgb(255,255,255);\">I-Goal</td><td style=\"background-color: rgb(255,255,255);\">I-Goal</td><td style=\"background-color: rgb(255,255,255);\">I-Goal</td></tr><tr><td><b>slots_pred</b></td><td style=\"background-color: rgb(255,255,255);\">O</td><td style=\"background-color: rgb(255,255,255);\">B-Goal</td><td style=\"background-color: rgb(255,255,255);\">I-Goal</td><td style=\"background-color: rgb(255,255,255);\">I-Goal</td><td style=\"background-color: rgb(255,255,255);\">I-Goal</td></tr></table>"
      ],
      "text/plain": [
       "<IPython.core.display.HTML object>"
      ]
     },
     "metadata": {},
     "output_type": "display_data"
    },
    {
     "name": "stdout",
     "output_type": "stream",
     "text": [
      "true: Motion pred: Motion\n"
     ]
    },
    {
     "data": {
      "text/html": [
       "<table><tr><td><b>words</b></td><td style=\"background-color: rgb(255,255,255);\">go</td><td style=\"background-color: rgb(255,255,255);\">next</td><td style=\"background-color: rgb(255,255,255);\">to</td><td style=\"background-color: rgb(255,255,255);\">the</td><td style=\"background-color: rgb(255,255,255);\">tv</td><td style=\"background-color: rgb(255,255,255);\">set</td></tr><tr><td><b>lexical_unit</b></td><td style=\"background-color: rgb(0.0000, 255,0.0000);\">1.0000</td><td style=\"background-color: rgb(255.0000, 255,255.0000);\">0.0000</td><td style=\"background-color: rgb(255.0000, 255,255.0000);\">0.0000</td><td style=\"background-color: rgb(255.0000, 255,255.0000);\">0.0000</td><td style=\"background-color: rgb(255.0000, 255,255.0000);\">0.0000</td><td style=\"background-color: rgb(255.0000, 255,255.0000);\">0.0000</td></tr><tr><td><b>attention_intent</b></td><td style=\"background-color: rgb(131.3804, 255,131.3804);\">0.4848</td><td style=\"background-color: rgb(123.6381, 255,123.6381);\">0.5151</td><td style=\"background-color: rgb(254.9814, 255,254.9814);\">0.0001</td><td style=\"background-color: rgb(255.0000, 255,255.0000);\">0.0000</td><td style=\"background-color: rgb(255.0000, 255,255.0000);\">0.0000</td><td style=\"background-color: rgb(255.0000, 255,255.0000);\">0.0000</td></tr><tr><td><b>slots_true</b></td><td style=\"background-color: rgb(255,255,255);\">O</td><td style=\"background-color: rgb(255,255,255);\">B-Goal</td><td style=\"background-color: rgb(255,255,255);\">I-Goal</td><td style=\"background-color: rgb(255,255,255);\">I-Goal</td><td style=\"background-color: rgb(255,255,255);\">I-Goal</td><td style=\"background-color: rgb(255,255,255);\">I-Goal</td></tr><tr><td><b>slots_pred</b></td><td style=\"background-color: rgb(255,255,255);\">O</td><td style=\"background-color: rgb(255,255,255);\">B-Goal</td><td style=\"background-color: rgb(255,255,255);\">I-Goal</td><td style=\"background-color: rgb(255,255,255);\">I-Goal</td><td style=\"background-color: rgb(255,255,255);\">I-Goal</td><td style=\"background-color: rgb(255,255,255);\">I-Goal</td></tr></table>"
      ],
      "text/plain": [
       "<IPython.core.display.HTML object>"
      ]
     },
     "metadata": {},
     "output_type": "display_data"
    },
    {
     "name": "stdout",
     "output_type": "stream",
     "text": [
      "true: Motion pred: Motion\n"
     ]
    },
    {
     "data": {
      "text/html": [
       "<table><tr><td><b>words</b></td><td style=\"background-color: rgb(255,255,255);\">go</td><td style=\"background-color: rgb(255,255,255);\">to</td><td style=\"background-color: rgb(255,255,255);\">the</td><td style=\"background-color: rgb(255,255,255);\">coffee</td><td style=\"background-color: rgb(255,255,255);\">machine</td></tr><tr><td><b>lexical_unit</b></td><td style=\"background-color: rgb(0.0000, 255,0.0000);\">1.0000</td><td style=\"background-color: rgb(255.0000, 255,255.0000);\">0.0000</td><td style=\"background-color: rgb(255.0000, 255,255.0000);\">0.0000</td><td style=\"background-color: rgb(255.0000, 255,255.0000);\">0.0000</td><td style=\"background-color: rgb(255.0000, 255,255.0000);\">0.0000</td></tr><tr><td><b>attention_intent</b></td><td style=\"background-color: rgb(0.4403, 255,0.4403);\">0.9983</td><td style=\"background-color: rgb(254.5598, 255,254.5598);\">0.0017</td><td style=\"background-color: rgb(255.0000, 255,255.0000);\">0.0000</td><td style=\"background-color: rgb(255.0000, 255,255.0000);\">0.0000</td><td style=\"background-color: rgb(255.0000, 255,255.0000);\">0.0000</td></tr><tr><td><b>slots_true</b></td><td style=\"background-color: rgb(255,255,255);\">O</td><td style=\"background-color: rgb(255,255,255);\">B-Goal</td><td style=\"background-color: rgb(255,255,255);\">I-Goal</td><td style=\"background-color: rgb(255,255,255);\">I-Goal</td><td style=\"background-color: rgb(255,255,255);\">I-Goal</td></tr><tr><td><b>slots_pred</b></td><td style=\"background-color: rgb(255,255,255);\">O</td><td style=\"background-color: rgb(255,255,255);\">B-Goal</td><td style=\"background-color: rgb(255,255,255);\">I-Goal</td><td style=\"background-color: rgb(255,255,255);\">I-Goal</td><td style=\"background-color: rgb(255,255,255);\">I-Goal</td></tr></table>"
      ],
      "text/plain": [
       "<IPython.core.display.HTML object>"
      ]
     },
     "metadata": {},
     "output_type": "display_data"
    },
    {
     "name": "stdout",
     "output_type": "stream",
     "text": [
      "true: Bringing pred: Bringing\n"
     ]
    },
    {
     "data": {
      "text/html": [
       "<table><tr><td><b>words</b></td><td style=\"background-color: rgb(255,255,255);\">and</td><td style=\"background-color: rgb(255,255,255);\">bring</td><td style=\"background-color: rgb(255,255,255);\">it</td><td style=\"background-color: rgb(255,255,255);\">here</td></tr><tr><td><b>lexical_unit</b></td><td style=\"background-color: rgb(255.0000, 255,255.0000);\">0.0000</td><td style=\"background-color: rgb(0.0000, 255,0.0000);\">1.0000</td><td style=\"background-color: rgb(255.0000, 255,255.0000);\">0.0000</td><td style=\"background-color: rgb(255.0000, 255,255.0000);\">0.0000</td></tr><tr><td><b>attention_intent</b></td><td style=\"background-color: rgb(255.0000, 255,255.0000);\">0.0000</td><td style=\"background-color: rgb(0.0133, 255,0.0133);\">0.9999</td><td style=\"background-color: rgb(255.0000, 255,255.0000);\">0.0000</td><td style=\"background-color: rgb(254.9867, 255,254.9867);\">0.0001</td></tr><tr><td><b>slots_true</b></td><td style=\"background-color: rgb(255,255,255);\">O</td><td style=\"background-color: rgb(255,255,255);\">O</td><td style=\"background-color: rgb(255,255,255);\">B-Theme</td><td style=\"background-color: rgb(255,255,255);\">B-Goal</td></tr><tr><td><b>slots_pred</b></td><td style=\"background-color: rgb(255,255,255);\">O</td><td style=\"background-color: rgb(255,255,255);\">O</td><td style=\"background-color: rgb(255,255,255);\">B-Theme</td><td style=\"background-color: rgb(255,255,255);\">B-Goal</td></tr></table>"
      ],
      "text/plain": [
       "<IPython.core.display.HTML object>"
      ]
     },
     "metadata": {},
     "output_type": "display_data"
    },
    {
     "name": "stdout",
     "output_type": "stream",
     "text": [
      "true: Searching pred: Searching\n"
     ]
    },
    {
     "data": {
      "text/html": [
       "<table><tr><td><b>words</b></td><td style=\"background-color: rgb(255,255,255);\">look</td><td style=\"background-color: rgb(255,255,255);\">for</td><td style=\"background-color: rgb(255,255,255);\">my</td><td style=\"background-color: rgb(255,255,255);\">mobile</td><td style=\"background-color: rgb(255,255,255);\">phone</td></tr><tr><td><b>lexical_unit</b></td><td style=\"background-color: rgb(0.0000, 255,0.0000);\">1.0000</td><td style=\"background-color: rgb(255.0000, 255,255.0000);\">0.0000</td><td style=\"background-color: rgb(255.0000, 255,255.0000);\">0.0000</td><td style=\"background-color: rgb(255.0000, 255,255.0000);\">0.0000</td><td style=\"background-color: rgb(255.0000, 255,255.0000);\">0.0000</td></tr><tr><td><b>attention_intent</b></td><td style=\"background-color: rgb(0.0000, 255,0.0000);\">1.0000</td><td style=\"background-color: rgb(255.0000, 255,255.0000);\">0.0000</td><td style=\"background-color: rgb(255.0000, 255,255.0000);\">0.0000</td><td style=\"background-color: rgb(255.0000, 255,255.0000);\">0.0000</td><td style=\"background-color: rgb(255.0000, 255,255.0000);\">0.0000</td></tr><tr><td><b>slots_true</b></td><td style=\"background-color: rgb(255,255,255);\">O</td><td style=\"background-color: rgb(255,255,255);\">B-Phenomenon</td><td style=\"background-color: rgb(255,255,255);\">I-Phenomenon</td><td style=\"background-color: rgb(255,255,255);\">I-Phenomenon</td><td style=\"background-color: rgb(255,255,255);\">I-Phenomenon</td></tr><tr><td><b>slots_pred</b></td><td style=\"background-color: rgb(255,255,255);\">O</td><td style=\"background-color: rgb(255,255,255);\">B-Phenomenon</td><td style=\"background-color: rgb(255,255,255);\">I-Phenomenon</td><td style=\"background-color: rgb(255,255,255);\">I-Phenomenon</td><td style=\"background-color: rgb(255,255,255);\">I-Phenomenon</td></tr></table>"
      ],
      "text/plain": [
       "<IPython.core.display.HTML object>"
      ]
     },
     "metadata": {},
     "output_type": "display_data"
    },
    {
     "name": "stdout",
     "output_type": "stream",
     "text": [
      "true: Motion pred: Motion\n"
     ]
    },
    {
     "data": {
      "text/html": [
       "<table><tr><td><b>words</b></td><td style=\"background-color: rgb(255,255,255);\">move</td><td style=\"background-color: rgb(255,255,255);\">away</td><td style=\"background-color: rgb(255,255,255);\">from</td><td style=\"background-color: rgb(255,255,255);\">the</td><td style=\"background-color: rgb(255,255,255);\">oven</td></tr><tr><td><b>lexical_unit</b></td><td style=\"background-color: rgb(0.0000, 255,0.0000);\">1.0000</td><td style=\"background-color: rgb(255.0000, 255,255.0000);\">0.0000</td><td style=\"background-color: rgb(255.0000, 255,255.0000);\">0.0000</td><td style=\"background-color: rgb(255.0000, 255,255.0000);\">0.0000</td><td style=\"background-color: rgb(255.0000, 255,255.0000);\">0.0000</td></tr><tr><td><b>attention_intent</b></td><td style=\"background-color: rgb(2.2537, 255,2.2537);\">0.9912</td><td style=\"background-color: rgb(252.7485, 255,252.7485);\">0.0088</td><td style=\"background-color: rgb(254.9979, 255,254.9979);\">0.0000</td><td style=\"background-color: rgb(255.0000, 255,255.0000);\">0.0000</td><td style=\"background-color: rgb(255.0000, 255,255.0000);\">0.0000</td></tr><tr><td><b>slots_true</b></td><td style=\"background-color: rgb(255,255,255);\">O</td><td style=\"background-color: rgb(255,255,255);\">B-Source</td><td style=\"background-color: rgb(255,255,255);\">I-Source</td><td style=\"background-color: rgb(255,255,255);\">I-Source</td><td style=\"background-color: rgb(255,255,255);\">I-Source</td></tr><tr><td><b>slots_pred</b></td><td style=\"background-color: rgb(255,255,255);\">O</td><td style=\"background-color: rgb(255,255,255);\">B-Source</td><td style=\"background-color: rgb(255,255,255);\">B-Source</td><td style=\"background-color: rgb(255,255,255);\">I-Source</td><td style=\"background-color: rgb(255,255,255);\">I-Source</td></tr></table>"
      ],
      "text/plain": [
       "<IPython.core.display.HTML object>"
      ]
     },
     "metadata": {},
     "output_type": "display_data"
    },
    {
     "name": "stdout",
     "output_type": "stream",
     "text": [
      "true: Placing pred: Placing\n"
     ]
    },
    {
     "data": {
      "text/html": [
       "<table><tr><td><b>words</b></td><td style=\"background-color: rgb(255,255,255);\">put</td><td style=\"background-color: rgb(255,255,255);\">the</td><td style=\"background-color: rgb(255,255,255);\">mobile</td><td style=\"background-color: rgb(255,255,255);\">phone</td><td style=\"background-color: rgb(255,255,255);\">in</td><td style=\"background-color: rgb(255,255,255);\">the</td><td style=\"background-color: rgb(255,255,255);\">nightstand</td></tr><tr><td><b>lexical_unit</b></td><td style=\"background-color: rgb(0.0000, 255,0.0000);\">1.0000</td><td style=\"background-color: rgb(255.0000, 255,255.0000);\">0.0000</td><td style=\"background-color: rgb(255.0000, 255,255.0000);\">0.0000</td><td style=\"background-color: rgb(255.0000, 255,255.0000);\">0.0000</td><td style=\"background-color: rgb(255.0000, 255,255.0000);\">0.0000</td><td style=\"background-color: rgb(255.0000, 255,255.0000);\">0.0000</td><td style=\"background-color: rgb(255.0000, 255,255.0000);\">0.0000</td></tr><tr><td><b>attention_intent</b></td><td style=\"background-color: rgb(254.9979, 255,254.9979);\">0.0000</td><td style=\"background-color: rgb(254.0371, 255,254.0371);\">0.0038</td><td style=\"background-color: rgb(254.9956, 255,254.9956);\">0.0000</td><td style=\"background-color: rgb(254.9375, 255,254.9375);\">0.0002</td><td style=\"background-color: rgb(11.5993, 255,11.5993);\">0.9545</td><td style=\"background-color: rgb(244.4383, 255,244.4383);\">0.0414</td><td style=\"background-color: rgb(254.9943, 255,254.9943);\">0.0000</td></tr><tr><td><b>slots_true</b></td><td style=\"background-color: rgb(255,255,255);\">O</td><td style=\"background-color: rgb(255,255,255);\">B-Theme</td><td style=\"background-color: rgb(255,255,255);\">I-Theme</td><td style=\"background-color: rgb(255,255,255);\">I-Theme</td><td style=\"background-color: rgb(255,255,255);\">B-Goal</td><td style=\"background-color: rgb(255,255,255);\">I-Goal</td><td style=\"background-color: rgb(255,255,255);\">I-Goal</td></tr><tr><td><b>slots_pred</b></td><td style=\"background-color: rgb(255,255,255);\">O</td><td style=\"background-color: rgb(255,255,255);\">B-Theme</td><td style=\"background-color: rgb(255,255,255);\">I-Theme</td><td style=\"background-color: rgb(255,255,255);\">I-Theme</td><td style=\"background-color: rgb(255,255,255);\">B-Goal</td><td style=\"background-color: rgb(255,255,255);\">I-Goal</td><td style=\"background-color: rgb(255,255,255);\">I-Goal</td></tr></table>"
      ],
      "text/plain": [
       "<IPython.core.display.HTML object>"
      ]
     },
     "metadata": {},
     "output_type": "display_data"
    },
    {
     "name": "stdout",
     "output_type": "stream",
     "text": [
      "true: Placing pred: Placing\n"
     ]
    },
    {
     "data": {
      "text/html": [
       "<table><tr><td><b>words</b></td><td style=\"background-color: rgb(255,255,255);\">put</td><td style=\"background-color: rgb(255,255,255);\">this</td><td style=\"background-color: rgb(255,255,255);\">pan</td><td style=\"background-color: rgb(255,255,255);\">on</td><td style=\"background-color: rgb(255,255,255);\">the</td><td style=\"background-color: rgb(255,255,255);\">stove</td></tr><tr><td><b>lexical_unit</b></td><td style=\"background-color: rgb(0.0000, 255,0.0000);\">1.0000</td><td style=\"background-color: rgb(255.0000, 255,255.0000);\">0.0000</td><td style=\"background-color: rgb(255.0000, 255,255.0000);\">0.0000</td><td style=\"background-color: rgb(255.0000, 255,255.0000);\">0.0000</td><td style=\"background-color: rgb(255.0000, 255,255.0000);\">0.0000</td><td style=\"background-color: rgb(255.0000, 255,255.0000);\">0.0000</td></tr><tr><td><b>attention_intent</b></td><td style=\"background-color: rgb(255.0000, 255,255.0000);\">0.0000</td><td style=\"background-color: rgb(254.9763, 255,254.9763);\">0.0001</td><td style=\"background-color: rgb(254.9889, 255,254.9889);\">0.0000</td><td style=\"background-color: rgb(0.0347, 255,0.0347);\">0.9999</td><td style=\"background-color: rgb(255.0000, 255,255.0000);\">0.0000</td><td style=\"background-color: rgb(255.0000, 255,255.0000);\">0.0000</td></tr><tr><td><b>slots_true</b></td><td style=\"background-color: rgb(255,255,255);\">O</td><td style=\"background-color: rgb(255,255,255);\">B-Theme</td><td style=\"background-color: rgb(255,255,255);\">I-Theme</td><td style=\"background-color: rgb(255,255,255);\">B-Goal</td><td style=\"background-color: rgb(255,255,255);\">I-Goal</td><td style=\"background-color: rgb(255,255,255);\">I-Goal</td></tr><tr><td><b>slots_pred</b></td><td style=\"background-color: rgb(255,255,255);\">O</td><td style=\"background-color: rgb(255,255,255);\">B-Theme</td><td style=\"background-color: rgb(255,255,255);\">I-Theme</td><td style=\"background-color: rgb(255,255,255);\">B-Goal</td><td style=\"background-color: rgb(255,255,255);\">I-Goal</td><td style=\"background-color: rgb(255,255,255);\">I-Goal</td></tr></table>"
      ],
      "text/plain": [
       "<IPython.core.display.HTML object>"
      ]
     },
     "metadata": {},
     "output_type": "display_data"
    },
    {
     "name": "stdout",
     "output_type": "stream",
     "text": [
      "true: Being_located pred: Being_located\n"
     ]
    },
    {
     "data": {
      "text/html": [
       "<table><tr><td><b>words</b></td><td style=\"background-color: rgb(255,255,255);\">it</td><td style=\"background-color: rgb(255,255,255);\">should</td><td style=\"background-color: rgb(255,255,255);\">be</td><td style=\"background-color: rgb(255,255,255);\">on</td><td style=\"background-color: rgb(255,255,255);\">the</td><td style=\"background-color: rgb(255,255,255);\">nightstand</td></tr><tr><td><b>lexical_unit</b></td><td style=\"background-color: rgb(255.0000, 255,255.0000);\">0.0000</td><td style=\"background-color: rgb(255.0000, 255,255.0000);\">0.0000</td><td style=\"background-color: rgb(0.0000, 255,0.0000);\">1.0000</td><td style=\"background-color: rgb(255.0000, 255,255.0000);\">0.0000</td><td style=\"background-color: rgb(255.0000, 255,255.0000);\">0.0000</td><td style=\"background-color: rgb(255.0000, 255,255.0000);\">0.0000</td></tr><tr><td><b>attention_intent</b></td><td style=\"background-color: rgb(255.0000, 255,255.0000);\">0.0000</td><td style=\"background-color: rgb(255.0000, 255,255.0000);\">0.0000</td><td style=\"background-color: rgb(254.9710, 255,254.9710);\">0.0001</td><td style=\"background-color: rgb(0.0290, 255,0.0290);\">0.9999</td><td style=\"background-color: rgb(255.0000, 255,255.0000);\">0.0000</td><td style=\"background-color: rgb(255.0000, 255,255.0000);\">0.0000</td></tr><tr><td><b>slots_true</b></td><td style=\"background-color: rgb(255,255,255);\">B-Theme</td><td style=\"background-color: rgb(255,255,255);\">O</td><td style=\"background-color: rgb(255,255,255);\">O</td><td style=\"background-color: rgb(255,255,255);\">B-Location</td><td style=\"background-color: rgb(255,255,255);\">I-Location</td><td style=\"background-color: rgb(255,255,255);\">I-Location</td></tr><tr><td><b>slots_pred</b></td><td style=\"background-color: rgb(255,255,255);\">B-Theme</td><td style=\"background-color: rgb(255,255,255);\">O</td><td style=\"background-color: rgb(255,255,255);\">O</td><td style=\"background-color: rgb(255,255,255);\">B-Location</td><td style=\"background-color: rgb(255,255,255);\">I-Location</td><td style=\"background-color: rgb(255,255,255);\">I-Location</td></tr></table>"
      ],
      "text/plain": [
       "<IPython.core.display.HTML object>"
      ]
     },
     "metadata": {},
     "output_type": "display_data"
    },
    {
     "name": "stdout",
     "output_type": "stream",
     "text": [
      "true: Searching pred: Searching\n"
     ]
    },
    {
     "data": {
      "text/html": [
       "<table><tr><td><b>words</b></td><td style=\"background-color: rgb(255,255,255);\">robot</td><td style=\"background-color: rgb(255,255,255);\">please</td><td style=\"background-color: rgb(255,255,255);\">search</td><td style=\"background-color: rgb(255,255,255);\">for</td><td style=\"background-color: rgb(255,255,255);\">the</td><td style=\"background-color: rgb(255,255,255);\">horn</td><td style=\"background-color: rgb(255,255,255);\">glasses</td></tr><tr><td><b>lexical_unit</b></td><td style=\"background-color: rgb(255.0000, 255,255.0000);\">0.0000</td><td style=\"background-color: rgb(255.0000, 255,255.0000);\">0.0000</td><td style=\"background-color: rgb(0.0000, 255,0.0000);\">1.0000</td><td style=\"background-color: rgb(255.0000, 255,255.0000);\">0.0000</td><td style=\"background-color: rgb(255.0000, 255,255.0000);\">0.0000</td><td style=\"background-color: rgb(255.0000, 255,255.0000);\">0.0000</td><td style=\"background-color: rgb(255.0000, 255,255.0000);\">0.0000</td></tr><tr><td><b>attention_intent</b></td><td style=\"background-color: rgb(255.0000, 255,255.0000);\">0.0000</td><td style=\"background-color: rgb(255.0000, 255,255.0000);\">0.0000</td><td style=\"background-color: rgb(0.0000, 255,0.0000);\">1.0000</td><td style=\"background-color: rgb(255.0000, 255,255.0000);\">0.0000</td><td style=\"background-color: rgb(255.0000, 255,255.0000);\">0.0000</td><td style=\"background-color: rgb(255.0000, 255,255.0000);\">0.0000</td><td style=\"background-color: rgb(255.0000, 255,255.0000);\">0.0000</td></tr><tr><td><b>slots_true</b></td><td style=\"background-color: rgb(255,255,255);\">O</td><td style=\"background-color: rgb(255,255,255);\">O</td><td style=\"background-color: rgb(255,255,255);\">O</td><td style=\"background-color: rgb(255,255,255);\">B-Phenomenon</td><td style=\"background-color: rgb(255,255,255);\">I-Phenomenon</td><td style=\"background-color: rgb(255,255,255);\">I-Phenomenon</td><td style=\"background-color: rgb(255,255,255);\">I-Phenomenon</td></tr><tr><td><b>slots_pred</b></td><td style=\"background-color: rgb(255,255,255);\">O</td><td style=\"background-color: rgb(255,255,255);\">O</td><td style=\"background-color: rgb(255,255,255);\">O</td><td style=\"background-color: rgb(255,255,255);\">B-Phenomenon</td><td style=\"background-color: rgb(255,255,255);\">I-Phenomenon</td><td style=\"background-color: rgb(255,255,255);\">I-Phenomenon</td><td style=\"background-color: rgb(255,255,255);\">I-Phenomenon</td></tr></table>"
      ],
      "text/plain": [
       "<IPython.core.display.HTML object>"
      ]
     },
     "metadata": {},
     "output_type": "display_data"
    },
    {
     "name": "stdout",
     "output_type": "stream",
     "text": [
      "true: Searching pred: Searching\n"
     ]
    },
    {
     "data": {
      "text/html": [
       "<table><tr><td><b>words</b></td><td style=\"background-color: rgb(255,255,255);\">and</td><td style=\"background-color: rgb(255,255,255);\">search</td><td style=\"background-color: rgb(255,255,255);\">for</td><td style=\"background-color: rgb(255,255,255);\">my</td><td style=\"background-color: rgb(255,255,255);\">hat</td></tr><tr><td><b>lexical_unit</b></td><td style=\"background-color: rgb(255.0000, 255,255.0000);\">0.0000</td><td style=\"background-color: rgb(0.0000, 255,0.0000);\">1.0000</td><td style=\"background-color: rgb(255.0000, 255,255.0000);\">0.0000</td><td style=\"background-color: rgb(255.0000, 255,255.0000);\">0.0000</td><td style=\"background-color: rgb(255.0000, 255,255.0000);\">0.0000</td></tr><tr><td><b>attention_intent</b></td><td style=\"background-color: rgb(255.0000, 255,255.0000);\">0.0000</td><td style=\"background-color: rgb(0.0000, 255,0.0000);\">1.0000</td><td style=\"background-color: rgb(255.0000, 255,255.0000);\">0.0000</td><td style=\"background-color: rgb(255.0000, 255,255.0000);\">0.0000</td><td style=\"background-color: rgb(255.0000, 255,255.0000);\">0.0000</td></tr><tr><td><b>slots_true</b></td><td style=\"background-color: rgb(255,255,255);\">O</td><td style=\"background-color: rgb(255,255,255);\">O</td><td style=\"background-color: rgb(255,255,255);\">B-Phenomenon</td><td style=\"background-color: rgb(255,255,255);\">I-Phenomenon</td><td style=\"background-color: rgb(255,255,255);\">I-Phenomenon</td></tr><tr><td><b>slots_pred</b></td><td style=\"background-color: rgb(255,255,255);\">O</td><td style=\"background-color: rgb(255,255,255);\">O</td><td style=\"background-color: rgb(255,255,255);\">B-Phenomenon</td><td style=\"background-color: rgb(255,255,255);\">I-Phenomenon</td><td style=\"background-color: rgb(255,255,255);\">I-Phenomenon</td></tr></table>"
      ],
      "text/plain": [
       "<IPython.core.display.HTML object>"
      ]
     },
     "metadata": {},
     "output_type": "display_data"
    },
    {
     "name": "stdout",
     "output_type": "stream",
     "text": [
      "true: Searching pred: Searching\n"
     ]
    },
    {
     "data": {
      "text/html": [
       "<table><tr><td><b>words</b></td><td style=\"background-color: rgb(255,255,255);\">search</td><td style=\"background-color: rgb(255,255,255);\">for</td><td style=\"background-color: rgb(255,255,255);\">a</td><td style=\"background-color: rgb(255,255,255);\">blue</td><td style=\"background-color: rgb(255,255,255);\">plate</td></tr><tr><td><b>lexical_unit</b></td><td style=\"background-color: rgb(0.0000, 255,0.0000);\">1.0000</td><td style=\"background-color: rgb(255.0000, 255,255.0000);\">0.0000</td><td style=\"background-color: rgb(255.0000, 255,255.0000);\">0.0000</td><td style=\"background-color: rgb(255.0000, 255,255.0000);\">0.0000</td><td style=\"background-color: rgb(255.0000, 255,255.0000);\">0.0000</td></tr><tr><td><b>attention_intent</b></td><td style=\"background-color: rgb(0.0000, 255,0.0000);\">1.0000</td><td style=\"background-color: rgb(255.0000, 255,255.0000);\">0.0000</td><td style=\"background-color: rgb(255.0000, 255,255.0000);\">0.0000</td><td style=\"background-color: rgb(255.0000, 255,255.0000);\">0.0000</td><td style=\"background-color: rgb(255.0000, 255,255.0000);\">0.0000</td></tr><tr><td><b>slots_true</b></td><td style=\"background-color: rgb(255,255,255);\">O</td><td style=\"background-color: rgb(255,255,255);\">B-Phenomenon</td><td style=\"background-color: rgb(255,255,255);\">I-Phenomenon</td><td style=\"background-color: rgb(255,255,255);\">I-Phenomenon</td><td style=\"background-color: rgb(255,255,255);\">I-Phenomenon</td></tr><tr><td><b>slots_pred</b></td><td style=\"background-color: rgb(255,255,255);\">O</td><td style=\"background-color: rgb(255,255,255);\">B-Phenomenon</td><td style=\"background-color: rgb(255,255,255);\">I-Phenomenon</td><td style=\"background-color: rgb(255,255,255);\">I-Phenomenon</td><td style=\"background-color: rgb(255,255,255);\">I-Phenomenon</td></tr></table>"
      ],
      "text/plain": [
       "<IPython.core.display.HTML object>"
      ]
     },
     "metadata": {},
     "output_type": "display_data"
    },
    {
     "name": "stdout",
     "output_type": "stream",
     "text": [
      "true: Searching pred: Searching\n"
     ]
    },
    {
     "data": {
      "text/html": [
       "<table><tr><td><b>words</b></td><td style=\"background-color: rgb(255,255,255);\">search</td><td style=\"background-color: rgb(255,255,255);\">for</td><td style=\"background-color: rgb(255,255,255);\">the</td><td style=\"background-color: rgb(255,255,255);\">scissors</td><td style=\"background-color: rgb(255,255,255);\">in</td><td style=\"background-color: rgb(255,255,255);\">the</td><td style=\"background-color: rgb(255,255,255);\">red</td><td style=\"background-color: rgb(255,255,255);\">drawer</td></tr><tr><td><b>lexical_unit</b></td><td style=\"background-color: rgb(0.0000, 255,0.0000);\">1.0000</td><td style=\"background-color: rgb(255.0000, 255,255.0000);\">0.0000</td><td style=\"background-color: rgb(255.0000, 255,255.0000);\">0.0000</td><td style=\"background-color: rgb(255.0000, 255,255.0000);\">0.0000</td><td style=\"background-color: rgb(255.0000, 255,255.0000);\">0.0000</td><td style=\"background-color: rgb(255.0000, 255,255.0000);\">0.0000</td><td style=\"background-color: rgb(255.0000, 255,255.0000);\">0.0000</td><td style=\"background-color: rgb(255.0000, 255,255.0000);\">0.0000</td></tr><tr><td><b>attention_intent</b></td><td style=\"background-color: rgb(0.0000, 255,0.0000);\">1.0000</td><td style=\"background-color: rgb(255.0000, 255,255.0000);\">0.0000</td><td style=\"background-color: rgb(255.0000, 255,255.0000);\">0.0000</td><td style=\"background-color: rgb(255.0000, 255,255.0000);\">0.0000</td><td style=\"background-color: rgb(255.0000, 255,255.0000);\">0.0000</td><td style=\"background-color: rgb(255.0000, 255,255.0000);\">0.0000</td><td style=\"background-color: rgb(255.0000, 255,255.0000);\">0.0000</td><td style=\"background-color: rgb(255.0000, 255,255.0000);\">0.0000</td></tr><tr><td><b>slots_true</b></td><td style=\"background-color: rgb(255,255,255);\">O</td><td style=\"background-color: rgb(255,255,255);\">B-Phenomenon</td><td style=\"background-color: rgb(255,255,255);\">I-Phenomenon</td><td style=\"background-color: rgb(255,255,255);\">I-Phenomenon</td><td style=\"background-color: rgb(255,255,255);\">B-Ground</td><td style=\"background-color: rgb(255,255,255);\">I-Ground</td><td style=\"background-color: rgb(255,255,255);\">I-Ground</td><td style=\"background-color: rgb(255,255,255);\">I-Ground</td></tr><tr><td><b>slots_pred</b></td><td style=\"background-color: rgb(255,255,255);\">O</td><td style=\"background-color: rgb(255,255,255);\">B-Phenomenon</td><td style=\"background-color: rgb(255,255,255);\">I-Phenomenon</td><td style=\"background-color: rgb(255,255,255);\">I-Phenomenon</td><td style=\"background-color: rgb(255,255,255);\">B-Phenomenon</td><td style=\"background-color: rgb(255,255,255);\">I-Phenomenon</td><td style=\"background-color: rgb(255,255,255);\">I-Phenomenon</td><td style=\"background-color: rgb(255,255,255);\">I-Phenomenon</td></tr></table>"
      ],
      "text/plain": [
       "<IPython.core.display.HTML object>"
      ]
     },
     "metadata": {},
     "output_type": "display_data"
    },
    {
     "name": "stdout",
     "output_type": "stream",
     "text": [
      "true: Searching pred: Searching\n"
     ]
    },
    {
     "data": {
      "text/html": [
       "<table><tr><td><b>words</b></td><td style=\"background-color: rgb(255,255,255);\">search</td><td style=\"background-color: rgb(255,255,255);\">the</td><td style=\"background-color: rgb(255,255,255);\">living</td><td style=\"background-color: rgb(255,255,255);\">room</td><td style=\"background-color: rgb(255,255,255);\">for</td><td style=\"background-color: rgb(255,255,255);\">the</td><td style=\"background-color: rgb(255,255,255);\">remote</td><td style=\"background-color: rgb(255,255,255);\">control</td></tr><tr><td><b>lexical_unit</b></td><td style=\"background-color: rgb(0.0000, 255,0.0000);\">1.0000</td><td style=\"background-color: rgb(255.0000, 255,255.0000);\">0.0000</td><td style=\"background-color: rgb(255.0000, 255,255.0000);\">0.0000</td><td style=\"background-color: rgb(255.0000, 255,255.0000);\">0.0000</td><td style=\"background-color: rgb(255.0000, 255,255.0000);\">0.0000</td><td style=\"background-color: rgb(255.0000, 255,255.0000);\">0.0000</td><td style=\"background-color: rgb(255.0000, 255,255.0000);\">0.0000</td><td style=\"background-color: rgb(255.0000, 255,255.0000);\">0.0000</td></tr><tr><td><b>attention_intent</b></td><td style=\"background-color: rgb(0.0000, 255,0.0000);\">1.0000</td><td style=\"background-color: rgb(255.0000, 255,255.0000);\">0.0000</td><td style=\"background-color: rgb(255.0000, 255,255.0000);\">0.0000</td><td style=\"background-color: rgb(255.0000, 255,255.0000);\">0.0000</td><td style=\"background-color: rgb(255.0000, 255,255.0000);\">0.0000</td><td style=\"background-color: rgb(255.0000, 255,255.0000);\">0.0000</td><td style=\"background-color: rgb(255.0000, 255,255.0000);\">0.0000</td><td style=\"background-color: rgb(255.0000, 255,255.0000);\">0.0000</td></tr><tr><td><b>slots_true</b></td><td style=\"background-color: rgb(255,255,255);\">O</td><td style=\"background-color: rgb(255,255,255);\">B-Ground</td><td style=\"background-color: rgb(255,255,255);\">I-Ground</td><td style=\"background-color: rgb(255,255,255);\">I-Ground</td><td style=\"background-color: rgb(255,255,255);\">B-Phenomenon</td><td style=\"background-color: rgb(255,255,255);\">I-Phenomenon</td><td style=\"background-color: rgb(255,255,255);\">I-Phenomenon</td><td style=\"background-color: rgb(255,255,255);\">I-Phenomenon</td></tr><tr><td><b>slots_pred</b></td><td style=\"background-color: rgb(255,255,255);\">O</td><td style=\"background-color: rgb(255,255,255);\">B-Ground</td><td style=\"background-color: rgb(255,255,255);\">I-Ground</td><td style=\"background-color: rgb(255,255,255);\">I-Ground</td><td style=\"background-color: rgb(255,255,255);\">B-Phenomenon</td><td style=\"background-color: rgb(255,255,255);\">I-Phenomenon</td><td style=\"background-color: rgb(255,255,255);\">I-Phenomenon</td><td style=\"background-color: rgb(255,255,255);\">I-Phenomenon</td></tr></table>"
      ],
      "text/plain": [
       "<IPython.core.display.HTML object>"
      ]
     },
     "metadata": {},
     "output_type": "display_data"
    },
    {
     "name": "stdout",
     "output_type": "stream",
     "text": [
      "true: Taking pred: Taking\n"
     ]
    },
    {
     "data": {
      "text/html": [
       "<table><tr><td><b>words</b></td><td style=\"background-color: rgb(255,255,255);\">take</td><td style=\"background-color: rgb(255,255,255);\">the</td><td style=\"background-color: rgb(255,255,255);\">bottle</td><td style=\"background-color: rgb(255,255,255);\">of</td><td style=\"background-color: rgb(255,255,255);\">water</td><td style=\"background-color: rgb(255,255,255);\">on</td><td style=\"background-color: rgb(255,255,255);\">the</td><td style=\"background-color: rgb(255,255,255);\">table</td></tr><tr><td><b>lexical_unit</b></td><td style=\"background-color: rgb(0.0000, 255,0.0000);\">1.0000</td><td style=\"background-color: rgb(255.0000, 255,255.0000);\">0.0000</td><td style=\"background-color: rgb(255.0000, 255,255.0000);\">0.0000</td><td style=\"background-color: rgb(255.0000, 255,255.0000);\">0.0000</td><td style=\"background-color: rgb(255.0000, 255,255.0000);\">0.0000</td><td style=\"background-color: rgb(255.0000, 255,255.0000);\">0.0000</td><td style=\"background-color: rgb(255.0000, 255,255.0000);\">0.0000</td><td style=\"background-color: rgb(255.0000, 255,255.0000);\">0.0000</td></tr><tr><td><b>attention_intent</b></td><td style=\"background-color: rgb(0.3093, 255,0.3093);\">0.9988</td><td style=\"background-color: rgb(255.0000, 255,255.0000);\">0.0000</td><td style=\"background-color: rgb(255.0000, 255,255.0000);\">0.0000</td><td style=\"background-color: rgb(255.0000, 255,255.0000);\">0.0000</td><td style=\"background-color: rgb(255.0000, 255,255.0000);\">0.0000</td><td style=\"background-color: rgb(254.6907, 255,254.6907);\">0.0012</td><td style=\"background-color: rgb(255.0000, 255,255.0000);\">0.0000</td><td style=\"background-color: rgb(255.0000, 255,255.0000);\">0.0000</td></tr><tr><td><b>slots_true</b></td><td style=\"background-color: rgb(255,255,255);\">O</td><td style=\"background-color: rgb(255,255,255);\">B-Theme</td><td style=\"background-color: rgb(255,255,255);\">I-Theme</td><td style=\"background-color: rgb(255,255,255);\">I-Theme</td><td style=\"background-color: rgb(255,255,255);\">I-Theme</td><td style=\"background-color: rgb(255,255,255);\">I-Theme</td><td style=\"background-color: rgb(255,255,255);\">I-Theme</td><td style=\"background-color: rgb(255,255,255);\">I-Theme</td></tr><tr><td><b>slots_pred</b></td><td style=\"background-color: rgb(255,255,255);\">O</td><td style=\"background-color: rgb(255,255,255);\">B-Theme</td><td style=\"background-color: rgb(255,255,255);\">I-Theme</td><td style=\"background-color: rgb(255,255,255);\">I-Theme</td><td style=\"background-color: rgb(255,255,255);\">I-Theme</td><td style=\"background-color: rgb(255,255,255);\">I-Theme</td><td style=\"background-color: rgb(255,255,255);\">I-Theme</td><td style=\"background-color: rgb(255,255,255);\">I-Theme</td></tr></table>"
      ],
      "text/plain": [
       "<IPython.core.display.HTML object>"
      ]
     },
     "metadata": {},
     "output_type": "display_data"
    },
    {
     "name": "stdout",
     "output_type": "stream",
     "text": [
      "true: Taking pred: Taking\n"
     ]
    },
    {
     "data": {
      "text/html": [
       "<table><tr><td><b>words</b></td><td style=\"background-color: rgb(255,255,255);\">take</td><td style=\"background-color: rgb(255,255,255);\">the</td><td style=\"background-color: rgb(255,255,255);\">coke</td><td style=\"background-color: rgb(255,255,255);\">that</td><td style=\"background-color: rgb(255,255,255);\">is</td><td style=\"background-color: rgb(255,255,255);\">in</td><td style=\"background-color: rgb(255,255,255);\">the</td><td style=\"background-color: rgb(255,255,255);\">kitchen</td></tr><tr><td><b>lexical_unit</b></td><td style=\"background-color: rgb(0.0000, 255,0.0000);\">1.0000</td><td style=\"background-color: rgb(255.0000, 255,255.0000);\">0.0000</td><td style=\"background-color: rgb(255.0000, 255,255.0000);\">0.0000</td><td style=\"background-color: rgb(255.0000, 255,255.0000);\">0.0000</td><td style=\"background-color: rgb(255.0000, 255,255.0000);\">0.0000</td><td style=\"background-color: rgb(255.0000, 255,255.0000);\">0.0000</td><td style=\"background-color: rgb(255.0000, 255,255.0000);\">0.0000</td><td style=\"background-color: rgb(255.0000, 255,255.0000);\">0.0000</td></tr><tr><td><b>attention_intent</b></td><td style=\"background-color: rgb(0.0156, 255,0.0156);\">0.9999</td><td style=\"background-color: rgb(254.9844, 255,254.9844);\">0.0001</td><td style=\"background-color: rgb(255.0000, 255,255.0000);\">0.0000</td><td style=\"background-color: rgb(255.0000, 255,255.0000);\">0.0000</td><td style=\"background-color: rgb(255.0000, 255,255.0000);\">0.0000</td><td style=\"background-color: rgb(255.0000, 255,255.0000);\">0.0000</td><td style=\"background-color: rgb(255.0000, 255,255.0000);\">0.0000</td><td style=\"background-color: rgb(255.0000, 255,255.0000);\">0.0000</td></tr><tr><td><b>slots_true</b></td><td style=\"background-color: rgb(255,255,255);\">O</td><td style=\"background-color: rgb(255,255,255);\">B-Theme</td><td style=\"background-color: rgb(255,255,255);\">I-Theme</td><td style=\"background-color: rgb(255,255,255);\">I-Theme</td><td style=\"background-color: rgb(255,255,255);\">I-Theme</td><td style=\"background-color: rgb(255,255,255);\">I-Theme</td><td style=\"background-color: rgb(255,255,255);\">I-Theme</td><td style=\"background-color: rgb(255,255,255);\">I-Theme</td></tr><tr><td><b>slots_pred</b></td><td style=\"background-color: rgb(255,255,255);\">O</td><td style=\"background-color: rgb(255,255,255);\">B-Theme</td><td style=\"background-color: rgb(255,255,255);\">I-Theme</td><td style=\"background-color: rgb(255,255,255);\">I-Theme</td><td style=\"background-color: rgb(255,255,255);\">I-Theme</td><td style=\"background-color: rgb(255,255,255);\">I-Theme</td><td style=\"background-color: rgb(255,255,255);\">I-Theme</td><td style=\"background-color: rgb(255,255,255);\">I-Theme</td></tr></table>"
      ],
      "text/plain": [
       "<IPython.core.display.HTML object>"
      ]
     },
     "metadata": {},
     "output_type": "display_data"
    },
    {
     "name": "stdout",
     "output_type": "stream",
     "text": [
      "true: Being_located pred: Being_located\n"
     ]
    },
    {
     "data": {
      "text/html": [
       "<table><tr><td><b>words</b></td><td style=\"background-color: rgb(255,255,255);\">there</td><td style=\"background-color: rgb(255,255,255);\">are</td><td style=\"background-color: rgb(255,255,255);\">some</td><td style=\"background-color: rgb(255,255,255);\">napkins</td><td style=\"background-color: rgb(255,255,255);\">on</td><td style=\"background-color: rgb(255,255,255);\">the</td><td style=\"background-color: rgb(255,255,255);\">kitchen</td><td style=\"background-color: rgb(255,255,255);\">table</td></tr><tr><td><b>lexical_unit</b></td><td style=\"background-color: rgb(0.0000, 255,0.0000);\">1.0000</td><td style=\"background-color: rgb(0.0000, 255,0.0000);\">1.0000</td><td style=\"background-color: rgb(255.0000, 255,255.0000);\">0.0000</td><td style=\"background-color: rgb(255.0000, 255,255.0000);\">0.0000</td><td style=\"background-color: rgb(255.0000, 255,255.0000);\">0.0000</td><td style=\"background-color: rgb(255.0000, 255,255.0000);\">0.0000</td><td style=\"background-color: rgb(255.0000, 255,255.0000);\">0.0000</td><td style=\"background-color: rgb(255.0000, 255,255.0000);\">0.0000</td></tr><tr><td><b>attention_intent</b></td><td style=\"background-color: rgb(255.0000, 255,255.0000);\">0.0000</td><td style=\"background-color: rgb(255.0000, 255,255.0000);\">0.0000</td><td style=\"background-color: rgb(255.0000, 255,255.0000);\">0.0000</td><td style=\"background-color: rgb(254.9998, 255,254.9998);\">0.0000</td><td style=\"background-color: rgb(0.0002, 255,0.0002);\">1.0000</td><td style=\"background-color: rgb(255.0000, 255,255.0000);\">0.0000</td><td style=\"background-color: rgb(255.0000, 255,255.0000);\">0.0000</td><td style=\"background-color: rgb(255.0000, 255,255.0000);\">0.0000</td></tr><tr><td><b>slots_true</b></td><td style=\"background-color: rgb(255,255,255);\">O</td><td style=\"background-color: rgb(255,255,255);\">O</td><td style=\"background-color: rgb(255,255,255);\">B-Theme</td><td style=\"background-color: rgb(255,255,255);\">I-Theme</td><td style=\"background-color: rgb(255,255,255);\">B-Location</td><td style=\"background-color: rgb(255,255,255);\">I-Location</td><td style=\"background-color: rgb(255,255,255);\">I-Location</td><td style=\"background-color: rgb(255,255,255);\">I-Location</td></tr><tr><td><b>slots_pred</b></td><td style=\"background-color: rgb(255,255,255);\">O</td><td style=\"background-color: rgb(255,255,255);\">O</td><td style=\"background-color: rgb(255,255,255);\">B-Theme</td><td style=\"background-color: rgb(255,255,255);\">I-Theme</td><td style=\"background-color: rgb(255,255,255);\">B-Location</td><td style=\"background-color: rgb(255,255,255);\">I-Location</td><td style=\"background-color: rgb(255,255,255);\">I-Location</td><td style=\"background-color: rgb(255,255,255);\">I-Location</td></tr></table>"
      ],
      "text/plain": [
       "<IPython.core.display.HTML object>"
      ]
     },
     "metadata": {},
     "output_type": "display_data"
    },
    {
     "name": "stdout",
     "output_type": "stream",
     "text": [
      "true: Being_located pred: Being_located\n"
     ]
    },
    {
     "data": {
      "text/html": [
       "<table><tr><td><b>words</b></td><td style=\"background-color: rgb(255,255,255);\">there</td><td style=\"background-color: rgb(255,255,255);\">are</td><td style=\"background-color: rgb(255,255,255);\">some</td><td style=\"background-color: rgb(255,255,255);\">plastic</td><td style=\"background-color: rgb(255,255,255);\">bags</td><td style=\"background-color: rgb(255,255,255);\">in</td><td style=\"background-color: rgb(255,255,255);\">the</td><td style=\"background-color: rgb(255,255,255);\">kitchen</td><td style=\"background-color: rgb(255,255,255);\">drawer</td></tr><tr><td><b>lexical_unit</b></td><td style=\"background-color: rgb(0.0000, 255,0.0000);\">1.0000</td><td style=\"background-color: rgb(0.0000, 255,0.0000);\">1.0000</td><td style=\"background-color: rgb(255.0000, 255,255.0000);\">0.0000</td><td style=\"background-color: rgb(255.0000, 255,255.0000);\">0.0000</td><td style=\"background-color: rgb(255.0000, 255,255.0000);\">0.0000</td><td style=\"background-color: rgb(255.0000, 255,255.0000);\">0.0000</td><td style=\"background-color: rgb(255.0000, 255,255.0000);\">0.0000</td><td style=\"background-color: rgb(255.0000, 255,255.0000);\">0.0000</td><td style=\"background-color: rgb(255.0000, 255,255.0000);\">0.0000</td></tr><tr><td><b>attention_intent</b></td><td style=\"background-color: rgb(255.0000, 255,255.0000);\">0.0000</td><td style=\"background-color: rgb(255.0000, 255,255.0000);\">0.0000</td><td style=\"background-color: rgb(255.0000, 255,255.0000);\">0.0000</td><td style=\"background-color: rgb(255.0000, 255,255.0000);\">0.0000</td><td style=\"background-color: rgb(255.0000, 255,255.0000);\">0.0000</td><td style=\"background-color: rgb(0.0000, 255,0.0000);\">1.0000</td><td style=\"background-color: rgb(255.0000, 255,255.0000);\">0.0000</td><td style=\"background-color: rgb(255.0000, 255,255.0000);\">0.0000</td><td style=\"background-color: rgb(255.0000, 255,255.0000);\">0.0000</td></tr><tr><td><b>slots_true</b></td><td style=\"background-color: rgb(255,255,255);\">O</td><td style=\"background-color: rgb(255,255,255);\">O</td><td style=\"background-color: rgb(255,255,255);\">B-Theme</td><td style=\"background-color: rgb(255,255,255);\">I-Theme</td><td style=\"background-color: rgb(255,255,255);\">I-Theme</td><td style=\"background-color: rgb(255,255,255);\">B-Location</td><td style=\"background-color: rgb(255,255,255);\">I-Location</td><td style=\"background-color: rgb(255,255,255);\">I-Location</td><td style=\"background-color: rgb(255,255,255);\">I-Location</td></tr><tr><td><b>slots_pred</b></td><td style=\"background-color: rgb(255,255,255);\">O</td><td style=\"background-color: rgb(255,255,255);\">O</td><td style=\"background-color: rgb(255,255,255);\">B-Theme</td><td style=\"background-color: rgb(255,255,255);\">I-Theme</td><td style=\"background-color: rgb(255,255,255);\">I-Theme</td><td style=\"background-color: rgb(255,255,255);\">B-Goal</td><td style=\"background-color: rgb(255,255,255);\">I-Goal</td><td style=\"background-color: rgb(255,255,255);\">I-Goal</td><td style=\"background-color: rgb(255,255,255);\">I-Goal</td></tr></table>"
      ],
      "text/plain": [
       "<IPython.core.display.HTML object>"
      ]
     },
     "metadata": {},
     "output_type": "display_data"
    },
    {
     "name": "stdout",
     "output_type": "stream",
     "text": [
      "true: Bringing pred: Bringing\n"
     ]
    },
    {
     "data": {
      "text/html": [
       "<table><tr><td><b>words</b></td><td style=\"background-color: rgb(255,255,255);\">can</td><td style=\"background-color: rgb(255,255,255);\">you</td><td style=\"background-color: rgb(255,255,255);\">bring</td><td style=\"background-color: rgb(255,255,255);\">it</td><td style=\"background-color: rgb(255,255,255);\">to</td><td style=\"background-color: rgb(255,255,255);\">me</td></tr><tr><td><b>lexical_unit</b></td><td style=\"background-color: rgb(255.0000, 255,255.0000);\">0.0000</td><td style=\"background-color: rgb(255.0000, 255,255.0000);\">0.0000</td><td style=\"background-color: rgb(0.0000, 255,0.0000);\">1.0000</td><td style=\"background-color: rgb(255.0000, 255,255.0000);\">0.0000</td><td style=\"background-color: rgb(255.0000, 255,255.0000);\">0.0000</td><td style=\"background-color: rgb(255.0000, 255,255.0000);\">0.0000</td></tr><tr><td><b>attention_intent</b></td><td style=\"background-color: rgb(255.0000, 255,255.0000);\">0.0000</td><td style=\"background-color: rgb(255.0000, 255,255.0000);\">0.0000</td><td style=\"background-color: rgb(25.3606, 255,25.3606);\">0.9005</td><td style=\"background-color: rgb(254.9876, 255,254.9876);\">0.0000</td><td style=\"background-color: rgb(229.6635, 255,229.6635);\">0.0994</td><td style=\"background-color: rgb(254.9882, 255,254.9882);\">0.0000</td></tr><tr><td><b>slots_true</b></td><td style=\"background-color: rgb(255,255,255);\">O</td><td style=\"background-color: rgb(255,255,255);\">B-Agent</td><td style=\"background-color: rgb(255,255,255);\">O</td><td style=\"background-color: rgb(255,255,255);\">B-Theme</td><td style=\"background-color: rgb(255,255,255);\">B-Beneficiary</td><td style=\"background-color: rgb(255,255,255);\">I-Beneficiary</td></tr><tr><td><b>slots_pred</b></td><td style=\"background-color: rgb(255,255,255);\">O</td><td style=\"background-color: rgb(255,255,255);\">B-Agent</td><td style=\"background-color: rgb(255,255,255);\">O</td><td style=\"background-color: rgb(255,255,255);\">B-Theme</td><td style=\"background-color: rgb(255,255,255);\">B-Beneficiary</td><td style=\"background-color: rgb(255,255,255);\">I-Beneficiary</td></tr></table>"
      ],
      "text/plain": [
       "<IPython.core.display.HTML object>"
      ]
     },
     "metadata": {},
     "output_type": "display_data"
    },
    {
     "name": "stdout",
     "output_type": "stream",
     "text": [
      "true: Bringing pred: Bringing\n"
     ]
    },
    {
     "data": {
      "text/html": [
       "<table><tr><td><b>words</b></td><td style=\"background-color: rgb(255,255,255);\">robot</td><td style=\"background-color: rgb(255,255,255);\">can</td><td style=\"background-color: rgb(255,255,255);\">you</td><td style=\"background-color: rgb(255,255,255);\">bring</td><td style=\"background-color: rgb(255,255,255);\">me</td><td style=\"background-color: rgb(255,255,255);\">a</td><td style=\"background-color: rgb(255,255,255);\">bath</td><td style=\"background-color: rgb(255,255,255);\">towel</td></tr><tr><td><b>lexical_unit</b></td><td style=\"background-color: rgb(255.0000, 255,255.0000);\">0.0000</td><td style=\"background-color: rgb(255.0000, 255,255.0000);\">0.0000</td><td style=\"background-color: rgb(255.0000, 255,255.0000);\">0.0000</td><td style=\"background-color: rgb(0.0000, 255,0.0000);\">1.0000</td><td style=\"background-color: rgb(255.0000, 255,255.0000);\">0.0000</td><td style=\"background-color: rgb(255.0000, 255,255.0000);\">0.0000</td><td style=\"background-color: rgb(255.0000, 255,255.0000);\">0.0000</td><td style=\"background-color: rgb(255.0000, 255,255.0000);\">0.0000</td></tr><tr><td><b>attention_intent</b></td><td style=\"background-color: rgb(255.0000, 255,255.0000);\">0.0000</td><td style=\"background-color: rgb(255.0000, 255,255.0000);\">0.0000</td><td style=\"background-color: rgb(255.0000, 255,255.0000);\">0.0000</td><td style=\"background-color: rgb(4.1809, 255,4.1809);\">0.9836</td><td style=\"background-color: rgb(250.8191, 255,250.8191);\">0.0164</td><td style=\"background-color: rgb(255.0000, 255,255.0000);\">0.0000</td><td style=\"background-color: rgb(255.0000, 255,255.0000);\">0.0000</td><td style=\"background-color: rgb(255.0000, 255,255.0000);\">0.0000</td></tr><tr><td><b>slots_true</b></td><td style=\"background-color: rgb(255,255,255);\">O</td><td style=\"background-color: rgb(255,255,255);\">O</td><td style=\"background-color: rgb(255,255,255);\">B-Agent</td><td style=\"background-color: rgb(255,255,255);\">O</td><td style=\"background-color: rgb(255,255,255);\">B-Beneficiary</td><td style=\"background-color: rgb(255,255,255);\">B-Theme</td><td style=\"background-color: rgb(255,255,255);\">I-Theme</td><td style=\"background-color: rgb(255,255,255);\">I-Theme</td></tr><tr><td><b>slots_pred</b></td><td style=\"background-color: rgb(255,255,255);\">O</td><td style=\"background-color: rgb(255,255,255);\">O</td><td style=\"background-color: rgb(255,255,255);\">B-Agent</td><td style=\"background-color: rgb(255,255,255);\">O</td><td style=\"background-color: rgb(255,255,255);\">B-Beneficiary</td><td style=\"background-color: rgb(255,255,255);\">B-Theme</td><td style=\"background-color: rgb(255,255,255);\">I-Theme</td><td style=\"background-color: rgb(255,255,255);\">I-Theme</td></tr></table>"
      ],
      "text/plain": [
       "<IPython.core.display.HTML object>"
      ]
     },
     "metadata": {},
     "output_type": "display_data"
    },
    {
     "name": "stdout",
     "output_type": "stream",
     "text": [
      "true: Bringing pred: Bringing\n"
     ]
    },
    {
     "data": {
      "text/html": [
       "<table><tr><td><b>words</b></td><td style=\"background-color: rgb(255,255,255);\">robot</td><td style=\"background-color: rgb(255,255,255);\">can</td><td style=\"background-color: rgb(255,255,255);\">you</td><td style=\"background-color: rgb(255,255,255);\">bring</td><td style=\"background-color: rgb(255,255,255);\">me</td><td style=\"background-color: rgb(255,255,255);\">a</td><td style=\"background-color: rgb(255,255,255);\">magazine</td></tr><tr><td><b>lexical_unit</b></td><td style=\"background-color: rgb(255.0000, 255,255.0000);\">0.0000</td><td style=\"background-color: rgb(255.0000, 255,255.0000);\">0.0000</td><td style=\"background-color: rgb(255.0000, 255,255.0000);\">0.0000</td><td style=\"background-color: rgb(0.0000, 255,0.0000);\">1.0000</td><td style=\"background-color: rgb(255.0000, 255,255.0000);\">0.0000</td><td style=\"background-color: rgb(255.0000, 255,255.0000);\">0.0000</td><td style=\"background-color: rgb(255.0000, 255,255.0000);\">0.0000</td></tr><tr><td><b>attention_intent</b></td><td style=\"background-color: rgb(255.0000, 255,255.0000);\">0.0000</td><td style=\"background-color: rgb(255.0000, 255,255.0000);\">0.0000</td><td style=\"background-color: rgb(255.0000, 255,255.0000);\">0.0000</td><td style=\"background-color: rgb(25.2460, 255,25.2460);\">0.9010</td><td style=\"background-color: rgb(229.7540, 255,229.7540);\">0.0990</td><td style=\"background-color: rgb(255.0000, 255,255.0000);\">0.0000</td><td style=\"background-color: rgb(255.0000, 255,255.0000);\">0.0000</td></tr><tr><td><b>slots_true</b></td><td style=\"background-color: rgb(255,255,255);\">O</td><td style=\"background-color: rgb(255,255,255);\">O</td><td style=\"background-color: rgb(255,255,255);\">B-Agent</td><td style=\"background-color: rgb(255,255,255);\">O</td><td style=\"background-color: rgb(255,255,255);\">B-Beneficiary</td><td style=\"background-color: rgb(255,255,255);\">B-Theme</td><td style=\"background-color: rgb(255,255,255);\">I-Theme</td></tr><tr><td><b>slots_pred</b></td><td style=\"background-color: rgb(255,255,255);\">O</td><td style=\"background-color: rgb(255,255,255);\">O</td><td style=\"background-color: rgb(255,255,255);\">B-Agent</td><td style=\"background-color: rgb(255,255,255);\">O</td><td style=\"background-color: rgb(255,255,255);\">B-Beneficiary</td><td style=\"background-color: rgb(255,255,255);\">B-Theme</td><td style=\"background-color: rgb(255,255,255);\">I-Theme</td></tr></table>"
      ],
      "text/plain": [
       "<IPython.core.display.HTML object>"
      ]
     },
     "metadata": {},
     "output_type": "display_data"
    },
    {
     "name": "stdout",
     "output_type": "stream",
     "text": [
      "true: Bringing pred: Bringing\n"
     ]
    },
    {
     "data": {
      "text/html": [
       "<table><tr><td><b>words</b></td><td style=\"background-color: rgb(255,255,255);\">robot</td><td style=\"background-color: rgb(255,255,255);\">can</td><td style=\"background-color: rgb(255,255,255);\">you</td><td style=\"background-color: rgb(255,255,255);\">bring</td><td style=\"background-color: rgb(255,255,255);\">me</td><td style=\"background-color: rgb(255,255,255);\">my</td><td style=\"background-color: rgb(255,255,255);\">reading</td><td style=\"background-color: rgb(255,255,255);\">glasses</td><td style=\"background-color: rgb(255,255,255);\">from</td><td style=\"background-color: rgb(255,255,255);\">the</td><td style=\"background-color: rgb(255,255,255);\">bedroom</td></tr><tr><td><b>lexical_unit</b></td><td style=\"background-color: rgb(255.0000, 255,255.0000);\">0.0000</td><td style=\"background-color: rgb(255.0000, 255,255.0000);\">0.0000</td><td style=\"background-color: rgb(255.0000, 255,255.0000);\">0.0000</td><td style=\"background-color: rgb(0.0000, 255,0.0000);\">1.0000</td><td style=\"background-color: rgb(255.0000, 255,255.0000);\">0.0000</td><td style=\"background-color: rgb(255.0000, 255,255.0000);\">0.0000</td><td style=\"background-color: rgb(255.0000, 255,255.0000);\">0.0000</td><td style=\"background-color: rgb(255.0000, 255,255.0000);\">0.0000</td><td style=\"background-color: rgb(255.0000, 255,255.0000);\">0.0000</td><td style=\"background-color: rgb(255.0000, 255,255.0000);\">0.0000</td><td style=\"background-color: rgb(255.0000, 255,255.0000);\">0.0000</td></tr><tr><td><b>attention_intent</b></td><td style=\"background-color: rgb(255.0000, 255,255.0000);\">0.0000</td><td style=\"background-color: rgb(255.0000, 255,255.0000);\">0.0000</td><td style=\"background-color: rgb(255.0000, 255,255.0000);\">0.0000</td><td style=\"background-color: rgb(7.9632, 255,7.9632);\">0.9688</td><td style=\"background-color: rgb(247.0368, 255,247.0368);\">0.0312</td><td style=\"background-color: rgb(255.0000, 255,255.0000);\">0.0000</td><td style=\"background-color: rgb(255.0000, 255,255.0000);\">0.0000</td><td style=\"background-color: rgb(255.0000, 255,255.0000);\">0.0000</td><td style=\"background-color: rgb(255.0000, 255,255.0000);\">0.0000</td><td style=\"background-color: rgb(255.0000, 255,255.0000);\">0.0000</td><td style=\"background-color: rgb(255.0000, 255,255.0000);\">0.0000</td></tr><tr><td><b>slots_true</b></td><td style=\"background-color: rgb(255,255,255);\">O</td><td style=\"background-color: rgb(255,255,255);\">O</td><td style=\"background-color: rgb(255,255,255);\">B-Agent</td><td style=\"background-color: rgb(255,255,255);\">O</td><td style=\"background-color: rgb(255,255,255);\">B-Beneficiary</td><td style=\"background-color: rgb(255,255,255);\">B-Theme</td><td style=\"background-color: rgb(255,255,255);\">I-Theme</td><td style=\"background-color: rgb(255,255,255);\">I-Theme</td><td style=\"background-color: rgb(255,255,255);\">B-Source</td><td style=\"background-color: rgb(255,255,255);\">I-Source</td><td style=\"background-color: rgb(255,255,255);\">I-Source</td></tr><tr><td><b>slots_pred</b></td><td style=\"background-color: rgb(255,255,255);\">O</td><td style=\"background-color: rgb(255,255,255);\">O</td><td style=\"background-color: rgb(255,255,255);\">B-Agent</td><td style=\"background-color: rgb(255,255,255);\">O</td><td style=\"background-color: rgb(255,255,255);\">B-Beneficiary</td><td style=\"background-color: rgb(255,255,255);\">B-Theme</td><td style=\"background-color: rgb(255,255,255);\">I-Theme</td><td style=\"background-color: rgb(255,255,255);\">I-Theme</td><td style=\"background-color: rgb(255,255,255);\">B-Source</td><td style=\"background-color: rgb(255,255,255);\">I-Source</td><td style=\"background-color: rgb(255,255,255);\">I-Source</td></tr></table>"
      ],
      "text/plain": [
       "<IPython.core.display.HTML object>"
      ]
     },
     "metadata": {},
     "output_type": "display_data"
    },
    {
     "name": "stdout",
     "output_type": "stream",
     "text": [
      "true: Change_operational_state pred: Change_operational_state\n"
     ]
    },
    {
     "data": {
      "text/html": [
       "<table><tr><td><b>words</b></td><td style=\"background-color: rgb(255,255,255);\">robot</td><td style=\"background-color: rgb(255,255,255);\">can</td><td style=\"background-color: rgb(255,255,255);\">you</td><td style=\"background-color: rgb(255,255,255);\">turn</td><td style=\"background-color: rgb(255,255,255);\">the</td><td style=\"background-color: rgb(255,255,255);\">electric</td><td style=\"background-color: rgb(255,255,255);\">oven</td><td style=\"background-color: rgb(255,255,255);\">on</td></tr><tr><td><b>lexical_unit</b></td><td style=\"background-color: rgb(255.0000, 255,255.0000);\">0.0000</td><td style=\"background-color: rgb(255.0000, 255,255.0000);\">0.0000</td><td style=\"background-color: rgb(255.0000, 255,255.0000);\">0.0000</td><td style=\"background-color: rgb(0.0000, 255,0.0000);\">1.0000</td><td style=\"background-color: rgb(255.0000, 255,255.0000);\">0.0000</td><td style=\"background-color: rgb(255.0000, 255,255.0000);\">0.0000</td><td style=\"background-color: rgb(255.0000, 255,255.0000);\">0.0000</td><td style=\"background-color: rgb(255.0000, 255,255.0000);\">0.0000</td></tr><tr><td><b>attention_intent</b></td><td style=\"background-color: rgb(255.0000, 255,255.0000);\">0.0000</td><td style=\"background-color: rgb(255.0000, 255,255.0000);\">0.0000</td><td style=\"background-color: rgb(255.0000, 255,255.0000);\">0.0000</td><td style=\"background-color: rgb(0.0000, 255,0.0000);\">1.0000</td><td style=\"background-color: rgb(255.0000, 255,255.0000);\">0.0000</td><td style=\"background-color: rgb(255.0000, 255,255.0000);\">0.0000</td><td style=\"background-color: rgb(255.0000, 255,255.0000);\">0.0000</td><td style=\"background-color: rgb(255.0000, 255,255.0000);\">0.0000</td></tr><tr><td><b>slots_true</b></td><td style=\"background-color: rgb(255,255,255);\">O</td><td style=\"background-color: rgb(255,255,255);\">O</td><td style=\"background-color: rgb(255,255,255);\">B-Agent</td><td style=\"background-color: rgb(255,255,255);\">O</td><td style=\"background-color: rgb(255,255,255);\">B-Device</td><td style=\"background-color: rgb(255,255,255);\">I-Device</td><td style=\"background-color: rgb(255,255,255);\">I-Device</td><td style=\"background-color: rgb(255,255,255);\">B-Operational_state</td></tr><tr><td><b>slots_pred</b></td><td style=\"background-color: rgb(255,255,255);\">O</td><td style=\"background-color: rgb(255,255,255);\">O</td><td style=\"background-color: rgb(255,255,255);\">B-Agent</td><td style=\"background-color: rgb(255,255,255);\">O</td><td style=\"background-color: rgb(255,255,255);\">B-Device</td><td style=\"background-color: rgb(255,255,255);\">I-Device</td><td style=\"background-color: rgb(255,255,255);\">I-Device</td><td style=\"background-color: rgb(255,255,255);\">B-Operational_state</td></tr></table>"
      ],
      "text/plain": [
       "<IPython.core.display.HTML object>"
      ]
     },
     "metadata": {},
     "output_type": "display_data"
    },
    {
     "name": "stdout",
     "output_type": "stream",
     "text": [
      "true: Bringing pred: Bringing\n"
     ]
    },
    {
     "data": {
      "text/html": [
       "<table><tr><td><b>words</b></td><td style=\"background-color: rgb(255,255,255);\">bring</td><td style=\"background-color: rgb(255,255,255);\">me</td><td style=\"background-color: rgb(255,255,255);\">my</td><td style=\"background-color: rgb(255,255,255);\">book</td><td style=\"background-color: rgb(255,255,255);\">from</td><td style=\"background-color: rgb(255,255,255);\">the</td><td style=\"background-color: rgb(255,255,255);\">table</td></tr><tr><td><b>lexical_unit</b></td><td style=\"background-color: rgb(0.0000, 255,0.0000);\">1.0000</td><td style=\"background-color: rgb(255.0000, 255,255.0000);\">0.0000</td><td style=\"background-color: rgb(255.0000, 255,255.0000);\">0.0000</td><td style=\"background-color: rgb(255.0000, 255,255.0000);\">0.0000</td><td style=\"background-color: rgb(255.0000, 255,255.0000);\">0.0000</td><td style=\"background-color: rgb(255.0000, 255,255.0000);\">0.0000</td><td style=\"background-color: rgb(255.0000, 255,255.0000);\">0.0000</td></tr><tr><td><b>attention_intent</b></td><td style=\"background-color: rgb(63.5512, 255,63.5512);\">0.7508</td><td style=\"background-color: rgb(191.4489, 255,191.4489);\">0.2492</td><td style=\"background-color: rgb(255.0000, 255,255.0000);\">0.0000</td><td style=\"background-color: rgb(255.0000, 255,255.0000);\">0.0000</td><td style=\"background-color: rgb(255.0000, 255,255.0000);\">0.0000</td><td style=\"background-color: rgb(255.0000, 255,255.0000);\">0.0000</td><td style=\"background-color: rgb(255.0000, 255,255.0000);\">0.0000</td></tr><tr><td><b>slots_true</b></td><td style=\"background-color: rgb(255,255,255);\">O</td><td style=\"background-color: rgb(255,255,255);\">B-Beneficiary</td><td style=\"background-color: rgb(255,255,255);\">B-Theme</td><td style=\"background-color: rgb(255,255,255);\">I-Theme</td><td style=\"background-color: rgb(255,255,255);\">B-Source</td><td style=\"background-color: rgb(255,255,255);\">I-Source</td><td style=\"background-color: rgb(255,255,255);\">I-Source</td></tr><tr><td><b>slots_pred</b></td><td style=\"background-color: rgb(255,255,255);\">O</td><td style=\"background-color: rgb(255,255,255);\">B-Beneficiary</td><td style=\"background-color: rgb(255,255,255);\">B-Theme</td><td style=\"background-color: rgb(255,255,255);\">I-Theme</td><td style=\"background-color: rgb(255,255,255);\">B-Source</td><td style=\"background-color: rgb(255,255,255);\">I-Source</td><td style=\"background-color: rgb(255,255,255);\">I-Source</td></tr></table>"
      ],
      "text/plain": [
       "<IPython.core.display.HTML object>"
      ]
     },
     "metadata": {},
     "output_type": "display_data"
    },
    {
     "name": "stdout",
     "output_type": "stream",
     "text": [
      "true: Bringing pred: Bringing\n"
     ]
    },
    {
     "data": {
      "text/html": [
       "<table><tr><td><b>words</b></td><td style=\"background-color: rgb(255,255,255);\">bring</td><td style=\"background-color: rgb(255,255,255);\">over</td><td style=\"background-color: rgb(255,255,255);\">the</td><td style=\"background-color: rgb(255,255,255);\">gray</td><td style=\"background-color: rgb(255,255,255);\">folder</td></tr><tr><td><b>lexical_unit</b></td><td style=\"background-color: rgb(0.0000, 255,0.0000);\">1.0000</td><td style=\"background-color: rgb(255.0000, 255,255.0000);\">0.0000</td><td style=\"background-color: rgb(255.0000, 255,255.0000);\">0.0000</td><td style=\"background-color: rgb(255.0000, 255,255.0000);\">0.0000</td><td style=\"background-color: rgb(255.0000, 255,255.0000);\">0.0000</td></tr><tr><td><b>attention_intent</b></td><td style=\"background-color: rgb(0.0020, 255,0.0020);\">1.0000</td><td style=\"background-color: rgb(254.9982, 255,254.9982);\">0.0000</td><td style=\"background-color: rgb(254.9998, 255,254.9998);\">0.0000</td><td style=\"background-color: rgb(255.0000, 255,255.0000);\">0.0000</td><td style=\"background-color: rgb(255.0000, 255,255.0000);\">0.0000</td></tr><tr><td><b>slots_true</b></td><td style=\"background-color: rgb(255,255,255);\">O</td><td style=\"background-color: rgb(255,255,255);\">B-Area</td><td style=\"background-color: rgb(255,255,255);\">B-Theme</td><td style=\"background-color: rgb(255,255,255);\">I-Theme</td><td style=\"background-color: rgb(255,255,255);\">I-Theme</td></tr><tr><td><b>slots_pred</b></td><td style=\"background-color: rgb(255,255,255);\">O</td><td style=\"background-color: rgb(255,255,255);\">B-Goal</td><td style=\"background-color: rgb(255,255,255);\">I-Goal</td><td style=\"background-color: rgb(255,255,255);\">I-Goal</td><td style=\"background-color: rgb(255,255,255);\">I-Goal</td></tr></table>"
      ],
      "text/plain": [
       "<IPython.core.display.HTML object>"
      ]
     },
     "metadata": {},
     "output_type": "display_data"
    },
    {
     "name": "stdout",
     "output_type": "stream",
     "text": [
      "true: Closure pred: Closure\n"
     ]
    },
    {
     "data": {
      "text/html": [
       "<table><tr><td><b>words</b></td><td style=\"background-color: rgb(255,255,255);\">could</td><td style=\"background-color: rgb(255,255,255);\">you</td><td style=\"background-color: rgb(255,255,255);\">close</td><td style=\"background-color: rgb(255,255,255);\">the</td><td style=\"background-color: rgb(255,255,255);\">shutters</td></tr><tr><td><b>lexical_unit</b></td><td style=\"background-color: rgb(255.0000, 255,255.0000);\">0.0000</td><td style=\"background-color: rgb(255.0000, 255,255.0000);\">0.0000</td><td style=\"background-color: rgb(0.0000, 255,0.0000);\">1.0000</td><td style=\"background-color: rgb(255.0000, 255,255.0000);\">0.0000</td><td style=\"background-color: rgb(255.0000, 255,255.0000);\">0.0000</td></tr><tr><td><b>attention_intent</b></td><td style=\"background-color: rgb(255.0000, 255,255.0000);\">0.0000</td><td style=\"background-color: rgb(255.0000, 255,255.0000);\">0.0000</td><td style=\"background-color: rgb(0.0000, 255,0.0000);\">1.0000</td><td style=\"background-color: rgb(255.0000, 255,255.0000);\">0.0000</td><td style=\"background-color: rgb(255.0000, 255,255.0000);\">0.0000</td></tr><tr><td><b>slots_true</b></td><td style=\"background-color: rgb(255,255,255);\">O</td><td style=\"background-color: rgb(255,255,255);\">B-Agent</td><td style=\"background-color: rgb(255,255,255);\">O</td><td style=\"background-color: rgb(255,255,255);\">B-Container_portal</td><td style=\"background-color: rgb(255,255,255);\">I-Container_portal</td></tr><tr><td><b>slots_pred</b></td><td style=\"background-color: rgb(255,255,255);\">O</td><td style=\"background-color: rgb(255,255,255);\">B-Agent</td><td style=\"background-color: rgb(255,255,255);\">O</td><td style=\"background-color: rgb(255,255,255);\">B-Container_portal</td><td style=\"background-color: rgb(255,255,255);\">I-Container_portal</td></tr></table>"
      ],
      "text/plain": [
       "<IPython.core.display.HTML object>"
      ]
     },
     "metadata": {},
     "output_type": "display_data"
    },
    {
     "name": "stdout",
     "output_type": "stream",
     "text": [
      "true: Change_operational_state pred: Change_operational_state\n"
     ]
    },
    {
     "data": {
      "text/html": [
       "<table><tr><td><b>words</b></td><td style=\"background-color: rgb(255,255,255);\">could</td><td style=\"background-color: rgb(255,255,255);\">you</td><td style=\"background-color: rgb(255,255,255);\">please</td><td style=\"background-color: rgb(255,255,255);\">turn</td><td style=\"background-color: rgb(255,255,255);\">on</td><td style=\"background-color: rgb(255,255,255);\">the</td><td style=\"background-color: rgb(255,255,255);\">tv</td></tr><tr><td><b>lexical_unit</b></td><td style=\"background-color: rgb(255.0000, 255,255.0000);\">0.0000</td><td style=\"background-color: rgb(255.0000, 255,255.0000);\">0.0000</td><td style=\"background-color: rgb(255.0000, 255,255.0000);\">0.0000</td><td style=\"background-color: rgb(0.0000, 255,0.0000);\">1.0000</td><td style=\"background-color: rgb(255.0000, 255,255.0000);\">0.0000</td><td style=\"background-color: rgb(255.0000, 255,255.0000);\">0.0000</td><td style=\"background-color: rgb(255.0000, 255,255.0000);\">0.0000</td></tr><tr><td><b>attention_intent</b></td><td style=\"background-color: rgb(255.0000, 255,255.0000);\">0.0000</td><td style=\"background-color: rgb(255.0000, 255,255.0000);\">0.0000</td><td style=\"background-color: rgb(255.0000, 255,255.0000);\">0.0000</td><td style=\"background-color: rgb(63.5731, 255,63.5731);\">0.7507</td><td style=\"background-color: rgb(191.4269, 255,191.4269);\">0.2493</td><td style=\"background-color: rgb(255.0000, 255,255.0000);\">0.0000</td><td style=\"background-color: rgb(255.0000, 255,255.0000);\">0.0000</td></tr><tr><td><b>slots_true</b></td><td style=\"background-color: rgb(255,255,255);\">O</td><td style=\"background-color: rgb(255,255,255);\">B-Agent</td><td style=\"background-color: rgb(255,255,255);\">O</td><td style=\"background-color: rgb(255,255,255);\">O</td><td style=\"background-color: rgb(255,255,255);\">B-Operational_state</td><td style=\"background-color: rgb(255,255,255);\">B-Device</td><td style=\"background-color: rgb(255,255,255);\">I-Device</td></tr><tr><td><b>slots_pred</b></td><td style=\"background-color: rgb(255,255,255);\">O</td><td style=\"background-color: rgb(255,255,255);\">B-Agent</td><td style=\"background-color: rgb(255,255,255);\">O</td><td style=\"background-color: rgb(255,255,255);\">O</td><td style=\"background-color: rgb(255,255,255);\">B-Goal</td><td style=\"background-color: rgb(255,255,255);\">B-Device</td><td style=\"background-color: rgb(255,255,255);\">I-Device</td></tr></table>"
      ],
      "text/plain": [
       "<IPython.core.display.HTML object>"
      ]
     },
     "metadata": {},
     "output_type": "display_data"
    },
    {
     "name": "stdout",
     "output_type": "stream",
     "text": [
      "true: Placing pred: Placing\n"
     ]
    },
    {
     "data": {
      "text/html": [
       "<table><tr><td><b>words</b></td><td style=\"background-color: rgb(255,255,255);\">could</td><td style=\"background-color: rgb(255,255,255);\">you</td><td style=\"background-color: rgb(255,255,255);\">put</td><td style=\"background-color: rgb(255,255,255);\">the</td><td style=\"background-color: rgb(255,255,255);\">vase</td><td style=\"background-color: rgb(255,255,255);\">on</td><td style=\"background-color: rgb(255,255,255);\">the</td><td style=\"background-color: rgb(255,255,255);\">coffee</td><td style=\"background-color: rgb(255,255,255);\">table</td></tr><tr><td><b>lexical_unit</b></td><td style=\"background-color: rgb(255.0000, 255,255.0000);\">0.0000</td><td style=\"background-color: rgb(255.0000, 255,255.0000);\">0.0000</td><td style=\"background-color: rgb(0.0000, 255,0.0000);\">1.0000</td><td style=\"background-color: rgb(255.0000, 255,255.0000);\">0.0000</td><td style=\"background-color: rgb(255.0000, 255,255.0000);\">0.0000</td><td style=\"background-color: rgb(255.0000, 255,255.0000);\">0.0000</td><td style=\"background-color: rgb(255.0000, 255,255.0000);\">0.0000</td><td style=\"background-color: rgb(255.0000, 255,255.0000);\">0.0000</td><td style=\"background-color: rgb(255.0000, 255,255.0000);\">0.0000</td></tr><tr><td><b>attention_intent</b></td><td style=\"background-color: rgb(255.0000, 255,255.0000);\">0.0000</td><td style=\"background-color: rgb(255.0000, 255,255.0000);\">0.0000</td><td style=\"background-color: rgb(254.9987, 255,254.9987);\">0.0000</td><td style=\"background-color: rgb(255.0000, 255,255.0000);\">0.0000</td><td style=\"background-color: rgb(254.9914, 255,254.9914);\">0.0000</td><td style=\"background-color: rgb(0.0100, 255,0.0100);\">1.0000</td><td style=\"background-color: rgb(254.9999, 255,254.9999);\">0.0000</td><td style=\"background-color: rgb(255.0000, 255,255.0000);\">0.0000</td><td style=\"background-color: rgb(255.0000, 255,255.0000);\">0.0000</td></tr><tr><td><b>slots_true</b></td><td style=\"background-color: rgb(255,255,255);\">O</td><td style=\"background-color: rgb(255,255,255);\">B-Agent</td><td style=\"background-color: rgb(255,255,255);\">O</td><td style=\"background-color: rgb(255,255,255);\">B-Theme</td><td style=\"background-color: rgb(255,255,255);\">I-Theme</td><td style=\"background-color: rgb(255,255,255);\">B-Goal</td><td style=\"background-color: rgb(255,255,255);\">I-Goal</td><td style=\"background-color: rgb(255,255,255);\">I-Goal</td><td style=\"background-color: rgb(255,255,255);\">I-Goal</td></tr><tr><td><b>slots_pred</b></td><td style=\"background-color: rgb(255,255,255);\">O</td><td style=\"background-color: rgb(255,255,255);\">B-Agent</td><td style=\"background-color: rgb(255,255,255);\">O</td><td style=\"background-color: rgb(255,255,255);\">B-Theme</td><td style=\"background-color: rgb(255,255,255);\">I-Theme</td><td style=\"background-color: rgb(255,255,255);\">B-Goal</td><td style=\"background-color: rgb(255,255,255);\">I-Goal</td><td style=\"background-color: rgb(255,255,255);\">I-Goal</td><td style=\"background-color: rgb(255,255,255);\">I-Goal</td></tr></table>"
      ],
      "text/plain": [
       "<IPython.core.display.HTML object>"
      ]
     },
     "metadata": {},
     "output_type": "display_data"
    },
    {
     "name": "stdout",
     "output_type": "stream",
     "text": [
      "true: Change_operational_state pred: Change_operational_state\n"
     ]
    },
    {
     "data": {
      "text/html": [
       "<table><tr><td><b>words</b></td><td style=\"background-color: rgb(255,255,255);\">could</td><td style=\"background-color: rgb(255,255,255);\">you</td><td style=\"background-color: rgb(255,255,255);\">turn</td><td style=\"background-color: rgb(255,255,255);\">on</td><td style=\"background-color: rgb(255,255,255);\">the</td><td style=\"background-color: rgb(255,255,255);\">television</td></tr><tr><td><b>lexical_unit</b></td><td style=\"background-color: rgb(255.0000, 255,255.0000);\">0.0000</td><td style=\"background-color: rgb(255.0000, 255,255.0000);\">0.0000</td><td style=\"background-color: rgb(0.0000, 255,0.0000);\">1.0000</td><td style=\"background-color: rgb(255.0000, 255,255.0000);\">0.0000</td><td style=\"background-color: rgb(255.0000, 255,255.0000);\">0.0000</td><td style=\"background-color: rgb(255.0000, 255,255.0000);\">0.0000</td></tr><tr><td><b>attention_intent</b></td><td style=\"background-color: rgb(255.0000, 255,255.0000);\">0.0000</td><td style=\"background-color: rgb(255.0000, 255,255.0000);\">0.0000</td><td style=\"background-color: rgb(95.3721, 255,95.3721);\">0.6260</td><td style=\"background-color: rgb(159.6278, 255,159.6278);\">0.3740</td><td style=\"background-color: rgb(255.0000, 255,255.0000);\">0.0000</td><td style=\"background-color: rgb(255.0000, 255,255.0000);\">0.0000</td></tr><tr><td><b>slots_true</b></td><td style=\"background-color: rgb(255,255,255);\">O</td><td style=\"background-color: rgb(255,255,255);\">B-Agent</td><td style=\"background-color: rgb(255,255,255);\">O</td><td style=\"background-color: rgb(255,255,255);\">B-Operational_state</td><td style=\"background-color: rgb(255,255,255);\">B-Device</td><td style=\"background-color: rgb(255,255,255);\">I-Device</td></tr><tr><td><b>slots_pred</b></td><td style=\"background-color: rgb(255,255,255);\">O</td><td style=\"background-color: rgb(255,255,255);\">B-Agent</td><td style=\"background-color: rgb(255,255,255);\">O</td><td style=\"background-color: rgb(255,255,255);\">B-Operational_state</td><td style=\"background-color: rgb(255,255,255);\">B-Device</td><td style=\"background-color: rgb(255,255,255);\">I-Device</td></tr></table>"
      ],
      "text/plain": [
       "<IPython.core.display.HTML object>"
      ]
     },
     "metadata": {},
     "output_type": "display_data"
    },
    {
     "name": "stdout",
     "output_type": "stream",
     "text": [
      "true: Searching pred: Searching\n"
     ]
    },
    {
     "data": {
      "text/html": [
       "<table><tr><td><b>words</b></td><td style=\"background-color: rgb(255,255,255);\">find</td><td style=\"background-color: rgb(255,255,255);\">the</td><td style=\"background-color: rgb(255,255,255);\">magazine</td></tr><tr><td><b>lexical_unit</b></td><td style=\"background-color: rgb(0.0000, 255,0.0000);\">1.0000</td><td style=\"background-color: rgb(255.0000, 255,255.0000);\">0.0000</td><td style=\"background-color: rgb(255.0000, 255,255.0000);\">0.0000</td></tr><tr><td><b>attention_intent</b></td><td style=\"background-color: rgb(0.0000, 255,0.0000);\">1.0000</td><td style=\"background-color: rgb(255.0000, 255,255.0000);\">0.0000</td><td style=\"background-color: rgb(255.0000, 255,255.0000);\">0.0000</td></tr><tr><td><b>slots_true</b></td><td style=\"background-color: rgb(255,255,255);\">O</td><td style=\"background-color: rgb(255,255,255);\">B-Phenomenon</td><td style=\"background-color: rgb(255,255,255);\">I-Phenomenon</td></tr><tr><td><b>slots_pred</b></td><td style=\"background-color: rgb(255,255,255);\">O</td><td style=\"background-color: rgb(255,255,255);\">B-Phenomenon</td><td style=\"background-color: rgb(255,255,255);\">I-Phenomenon</td></tr></table>"
      ],
      "text/plain": [
       "<IPython.core.display.HTML object>"
      ]
     },
     "metadata": {},
     "output_type": "display_data"
    },
    {
     "name": "stdout",
     "output_type": "stream",
     "text": [
      "true: Following pred: Following\n"
     ]
    },
    {
     "data": {
      "text/html": [
       "<table><tr><td><b>words</b></td><td style=\"background-color: rgb(255,255,255);\">follow</td><td style=\"background-color: rgb(255,255,255);\">me</td><td style=\"background-color: rgb(255,255,255);\">to</td><td style=\"background-color: rgb(255,255,255);\">the</td><td style=\"background-color: rgb(255,255,255);\">bathroom</td></tr><tr><td><b>lexical_unit</b></td><td style=\"background-color: rgb(0.0000, 255,0.0000);\">1.0000</td><td style=\"background-color: rgb(255.0000, 255,255.0000);\">0.0000</td><td style=\"background-color: rgb(255.0000, 255,255.0000);\">0.0000</td><td style=\"background-color: rgb(255.0000, 255,255.0000);\">0.0000</td><td style=\"background-color: rgb(255.0000, 255,255.0000);\">0.0000</td></tr><tr><td><b>attention_intent</b></td><td style=\"background-color: rgb(0.5132, 255,0.5132);\">0.9980</td><td style=\"background-color: rgb(254.4869, 255,254.4869);\">0.0020</td><td style=\"background-color: rgb(255.0000, 255,255.0000);\">0.0000</td><td style=\"background-color: rgb(255.0000, 255,255.0000);\">0.0000</td><td style=\"background-color: rgb(255.0000, 255,255.0000);\">0.0000</td></tr><tr><td><b>slots_true</b></td><td style=\"background-color: rgb(255,255,255);\">O</td><td style=\"background-color: rgb(255,255,255);\">B-Cotheme</td><td style=\"background-color: rgb(255,255,255);\">B-Goal</td><td style=\"background-color: rgb(255,255,255);\">I-Goal</td><td style=\"background-color: rgb(255,255,255);\">I-Goal</td></tr><tr><td><b>slots_pred</b></td><td style=\"background-color: rgb(255,255,255);\">O</td><td style=\"background-color: rgb(255,255,255);\">B-Cotheme</td><td style=\"background-color: rgb(255,255,255);\">B-Goal</td><td style=\"background-color: rgb(255,255,255);\">I-Goal</td><td style=\"background-color: rgb(255,255,255);\">I-Goal</td></tr></table>"
      ],
      "text/plain": [
       "<IPython.core.display.HTML object>"
      ]
     },
     "metadata": {},
     "output_type": "display_data"
    },
    {
     "name": "stdout",
     "output_type": "stream",
     "text": [
      "true: Taking pred: Taking\n"
     ]
    },
    {
     "data": {
      "text/html": [
       "<table><tr><td><b>words</b></td><td style=\"background-color: rgb(255,255,255);\">get</td><td style=\"background-color: rgb(255,255,255);\">my</td><td style=\"background-color: rgb(255,255,255);\">computer</td><td style=\"background-color: rgb(255,255,255);\">from</td><td style=\"background-color: rgb(255,255,255);\">the</td><td style=\"background-color: rgb(255,255,255);\">seat</td></tr><tr><td><b>lexical_unit</b></td><td style=\"background-color: rgb(0.0000, 255,0.0000);\">1.0000</td><td style=\"background-color: rgb(255.0000, 255,255.0000);\">0.0000</td><td style=\"background-color: rgb(255.0000, 255,255.0000);\">0.0000</td><td style=\"background-color: rgb(255.0000, 255,255.0000);\">0.0000</td><td style=\"background-color: rgb(255.0000, 255,255.0000);\">0.0000</td><td style=\"background-color: rgb(255.0000, 255,255.0000);\">0.0000</td></tr><tr><td><b>attention_intent</b></td><td style=\"background-color: rgb(0.0005, 255,0.0005);\">1.0000</td><td style=\"background-color: rgb(255.0000, 255,255.0000);\">0.0000</td><td style=\"background-color: rgb(254.9996, 255,254.9996);\">0.0000</td><td style=\"background-color: rgb(255.0000, 255,255.0000);\">0.0000</td><td style=\"background-color: rgb(255.0000, 255,255.0000);\">0.0000</td><td style=\"background-color: rgb(255.0000, 255,255.0000);\">0.0000</td></tr><tr><td><b>slots_true</b></td><td style=\"background-color: rgb(255,255,255);\">O</td><td style=\"background-color: rgb(255,255,255);\">B-Theme</td><td style=\"background-color: rgb(255,255,255);\">I-Theme</td><td style=\"background-color: rgb(255,255,255);\">B-Source</td><td style=\"background-color: rgb(255,255,255);\">I-Source</td><td style=\"background-color: rgb(255,255,255);\">I-Source</td></tr><tr><td><b>slots_pred</b></td><td style=\"background-color: rgb(255,255,255);\">O</td><td style=\"background-color: rgb(255,255,255);\">B-Theme</td><td style=\"background-color: rgb(255,255,255);\">I-Theme</td><td style=\"background-color: rgb(255,255,255);\">B-Source</td><td style=\"background-color: rgb(255,255,255);\">I-Source</td><td style=\"background-color: rgb(255,255,255);\">I-Source</td></tr></table>"
      ],
      "text/plain": [
       "<IPython.core.display.HTML object>"
      ]
     },
     "metadata": {},
     "output_type": "display_data"
    },
    {
     "name": "stdout",
     "output_type": "stream",
     "text": [
      "true: Bringing pred: Bringing\n"
     ]
    },
    {
     "data": {
      "text/html": [
       "<table><tr><td><b>words</b></td><td style=\"background-color: rgb(255,255,255);\">and</td><td style=\"background-color: rgb(255,255,255);\">bring</td><td style=\"background-color: rgb(255,255,255);\">me</td><td style=\"background-color: rgb(255,255,255);\">my</td><td style=\"background-color: rgb(255,255,255);\">laptop</td></tr><tr><td><b>lexical_unit</b></td><td style=\"background-color: rgb(255.0000, 255,255.0000);\">0.0000</td><td style=\"background-color: rgb(0.0000, 255,0.0000);\">1.0000</td><td style=\"background-color: rgb(255.0000, 255,255.0000);\">0.0000</td><td style=\"background-color: rgb(255.0000, 255,255.0000);\">0.0000</td><td style=\"background-color: rgb(255.0000, 255,255.0000);\">0.0000</td></tr><tr><td><b>attention_intent</b></td><td style=\"background-color: rgb(255.0000, 255,255.0000);\">0.0000</td><td style=\"background-color: rgb(99.5896, 255,99.5896);\">0.6095</td><td style=\"background-color: rgb(155.4105, 255,155.4105);\">0.3905</td><td style=\"background-color: rgb(254.9999, 255,254.9999);\">0.0000</td><td style=\"background-color: rgb(255.0000, 255,255.0000);\">0.0000</td></tr><tr><td><b>slots_true</b></td><td style=\"background-color: rgb(255,255,255);\">O</td><td style=\"background-color: rgb(255,255,255);\">O</td><td style=\"background-color: rgb(255,255,255);\">B-Beneficiary</td><td style=\"background-color: rgb(255,255,255);\">B-Theme</td><td style=\"background-color: rgb(255,255,255);\">I-Theme</td></tr><tr><td><b>slots_pred</b></td><td style=\"background-color: rgb(255,255,255);\">O</td><td style=\"background-color: rgb(255,255,255);\">O</td><td style=\"background-color: rgb(255,255,255);\">B-Beneficiary</td><td style=\"background-color: rgb(255,255,255);\">B-Theme</td><td style=\"background-color: rgb(255,255,255);\">I-Theme</td></tr></table>"
      ],
      "text/plain": [
       "<IPython.core.display.HTML object>"
      ]
     },
     "metadata": {},
     "output_type": "display_data"
    },
    {
     "name": "stdout",
     "output_type": "stream",
     "text": [
      "true: Motion pred: Motion\n"
     ]
    },
    {
     "data": {
      "text/html": [
       "<table><tr><td><b>words</b></td><td style=\"background-color: rgb(255,255,255);\">go</td><td style=\"background-color: rgb(255,255,255);\">to</td><td style=\"background-color: rgb(255,255,255);\">the</td><td style=\"background-color: rgb(255,255,255);\">telephone</td></tr><tr><td><b>lexical_unit</b></td><td style=\"background-color: rgb(0.0000, 255,0.0000);\">1.0000</td><td style=\"background-color: rgb(255.0000, 255,255.0000);\">0.0000</td><td style=\"background-color: rgb(255.0000, 255,255.0000);\">0.0000</td><td style=\"background-color: rgb(255.0000, 255,255.0000);\">0.0000</td></tr><tr><td><b>attention_intent</b></td><td style=\"background-color: rgb(0.6875, 255,0.6875);\">0.9973</td><td style=\"background-color: rgb(254.3125, 255,254.3125);\">0.0027</td><td style=\"background-color: rgb(255.0000, 255,255.0000);\">0.0000</td><td style=\"background-color: rgb(255.0000, 255,255.0000);\">0.0000</td></tr><tr><td><b>slots_true</b></td><td style=\"background-color: rgb(255,255,255);\">O</td><td style=\"background-color: rgb(255,255,255);\">B-Goal</td><td style=\"background-color: rgb(255,255,255);\">I-Goal</td><td style=\"background-color: rgb(255,255,255);\">I-Goal</td></tr><tr><td><b>slots_pred</b></td><td style=\"background-color: rgb(255,255,255);\">O</td><td style=\"background-color: rgb(255,255,255);\">B-Goal</td><td style=\"background-color: rgb(255,255,255);\">I-Goal</td><td style=\"background-color: rgb(255,255,255);\">I-Goal</td></tr></table>"
      ],
      "text/plain": [
       "<IPython.core.display.HTML object>"
      ]
     },
     "metadata": {},
     "output_type": "display_data"
    },
    {
     "name": "stdout",
     "output_type": "stream",
     "text": [
      "true: Inspecting pred: Inspecting\n"
     ]
    },
    {
     "data": {
      "text/html": [
       "<table><tr><td><b>words</b></td><td style=\"background-color: rgb(255,255,255);\">and</td><td style=\"background-color: rgb(255,255,255);\">check</td><td style=\"background-color: rgb(255,255,255);\">for</td><td style=\"background-color: rgb(255,255,255);\">any</td><td style=\"background-color: rgb(255,255,255);\">messages</td></tr><tr><td><b>lexical_unit</b></td><td style=\"background-color: rgb(255.0000, 255,255.0000);\">0.0000</td><td style=\"background-color: rgb(0.0000, 255,0.0000);\">1.0000</td><td style=\"background-color: rgb(255.0000, 255,255.0000);\">0.0000</td><td style=\"background-color: rgb(255.0000, 255,255.0000);\">0.0000</td><td style=\"background-color: rgb(255.0000, 255,255.0000);\">0.0000</td></tr><tr><td><b>attention_intent</b></td><td style=\"background-color: rgb(255.0000, 255,255.0000);\">0.0000</td><td style=\"background-color: rgb(0.0000, 255,0.0000);\">1.0000</td><td style=\"background-color: rgb(255.0000, 255,255.0000);\">0.0000</td><td style=\"background-color: rgb(255.0000, 255,255.0000);\">0.0000</td><td style=\"background-color: rgb(255.0000, 255,255.0000);\">0.0000</td></tr><tr><td><b>slots_true</b></td><td style=\"background-color: rgb(255,255,255);\">O</td><td style=\"background-color: rgb(255,255,255);\">O</td><td style=\"background-color: rgb(255,255,255);\">B-Unwanted_entity</td><td style=\"background-color: rgb(255,255,255);\">I-Unwanted_entity</td><td style=\"background-color: rgb(255,255,255);\">I-Unwanted_entity</td></tr><tr><td><b>slots_pred</b></td><td style=\"background-color: rgb(255,255,255);\">O</td><td style=\"background-color: rgb(255,255,255);\">O</td><td style=\"background-color: rgb(255,255,255);\">B-Ground</td><td style=\"background-color: rgb(255,255,255);\">I-Ground</td><td style=\"background-color: rgb(255,255,255);\">I-Ground</td></tr></table>"
      ],
      "text/plain": [
       "<IPython.core.display.HTML object>"
      ]
     },
     "metadata": {},
     "output_type": "display_data"
    },
    {
     "name": "stdout",
     "output_type": "stream",
     "text": [
      "true: Closure pred: Closure\n"
     ]
    },
    {
     "data": {
      "text/html": [
       "<table><tr><td><b>words</b></td><td style=\"background-color: rgb(255,255,255);\">please</td><td style=\"background-color: rgb(255,255,255);\">close</td><td style=\"background-color: rgb(255,255,255);\">the</td><td style=\"background-color: rgb(255,255,255);\">blinds</td></tr><tr><td><b>lexical_unit</b></td><td style=\"background-color: rgb(255.0000, 255,255.0000);\">0.0000</td><td style=\"background-color: rgb(0.0000, 255,0.0000);\">1.0000</td><td style=\"background-color: rgb(255.0000, 255,255.0000);\">0.0000</td><td style=\"background-color: rgb(255.0000, 255,255.0000);\">0.0000</td></tr><tr><td><b>attention_intent</b></td><td style=\"background-color: rgb(255.0000, 255,255.0000);\">0.0000</td><td style=\"background-color: rgb(0.0000, 255,0.0000);\">1.0000</td><td style=\"background-color: rgb(255.0000, 255,255.0000);\">0.0000</td><td style=\"background-color: rgb(255.0000, 255,255.0000);\">0.0000</td></tr><tr><td><b>slots_true</b></td><td style=\"background-color: rgb(255,255,255);\">O</td><td style=\"background-color: rgb(255,255,255);\">O</td><td style=\"background-color: rgb(255,255,255);\">B-Container_portal</td><td style=\"background-color: rgb(255,255,255);\">I-Container_portal</td></tr><tr><td><b>slots_pred</b></td><td style=\"background-color: rgb(255,255,255);\">O</td><td style=\"background-color: rgb(255,255,255);\">O</td><td style=\"background-color: rgb(255,255,255);\">B-Containing_object</td><td style=\"background-color: rgb(255,255,255);\">I-Containing_object</td></tr></table>"
      ],
      "text/plain": [
       "<IPython.core.display.HTML object>"
      ]
     },
     "metadata": {},
     "output_type": "display_data"
    },
    {
     "name": "stdout",
     "output_type": "stream",
     "text": [
      "true: Bringing pred: Bringing\n"
     ]
    },
    {
     "data": {
      "text/html": [
       "<table><tr><td><b>words</b></td><td style=\"background-color: rgb(255,255,255);\">robot</td><td style=\"background-color: rgb(255,255,255);\">can</td><td style=\"background-color: rgb(255,255,255);\">you</td><td style=\"background-color: rgb(255,255,255);\">bring</td><td style=\"background-color: rgb(255,255,255);\">me</td><td style=\"background-color: rgb(255,255,255);\">a</td><td style=\"background-color: rgb(255,255,255);\">towel</td></tr><tr><td><b>lexical_unit</b></td><td style=\"background-color: rgb(255.0000, 255,255.0000);\">0.0000</td><td style=\"background-color: rgb(255.0000, 255,255.0000);\">0.0000</td><td style=\"background-color: rgb(255.0000, 255,255.0000);\">0.0000</td><td style=\"background-color: rgb(0.0000, 255,0.0000);\">1.0000</td><td style=\"background-color: rgb(255.0000, 255,255.0000);\">0.0000</td><td style=\"background-color: rgb(255.0000, 255,255.0000);\">0.0000</td><td style=\"background-color: rgb(255.0000, 255,255.0000);\">0.0000</td></tr><tr><td><b>attention_intent</b></td><td style=\"background-color: rgb(255.0000, 255,255.0000);\">0.0000</td><td style=\"background-color: rgb(255.0000, 255,255.0000);\">0.0000</td><td style=\"background-color: rgb(255.0000, 255,255.0000);\">0.0000</td><td style=\"background-color: rgb(8.3286, 255,8.3286);\">0.9673</td><td style=\"background-color: rgb(246.6714, 255,246.6714);\">0.0327</td><td style=\"background-color: rgb(255.0000, 255,255.0000);\">0.0000</td><td style=\"background-color: rgb(255.0000, 255,255.0000);\">0.0000</td></tr><tr><td><b>slots_true</b></td><td style=\"background-color: rgb(255,255,255);\">O</td><td style=\"background-color: rgb(255,255,255);\">O</td><td style=\"background-color: rgb(255,255,255);\">B-Agent</td><td style=\"background-color: rgb(255,255,255);\">O</td><td style=\"background-color: rgb(255,255,255);\">B-Beneficiary</td><td style=\"background-color: rgb(255,255,255);\">B-Theme</td><td style=\"background-color: rgb(255,255,255);\">I-Theme</td></tr><tr><td><b>slots_pred</b></td><td style=\"background-color: rgb(255,255,255);\">O</td><td style=\"background-color: rgb(255,255,255);\">O</td><td style=\"background-color: rgb(255,255,255);\">B-Agent</td><td style=\"background-color: rgb(255,255,255);\">O</td><td style=\"background-color: rgb(255,255,255);\">B-Beneficiary</td><td style=\"background-color: rgb(255,255,255);\">B-Theme</td><td style=\"background-color: rgb(255,255,255);\">I-Theme</td></tr></table>"
      ],
      "text/plain": [
       "<IPython.core.display.HTML object>"
      ]
     },
     "metadata": {},
     "output_type": "display_data"
    },
    {
     "name": "stdout",
     "output_type": "stream",
     "text": [
      "true: Giving pred: Giving\n"
     ]
    },
    {
     "data": {
      "text/html": [
       "<table><tr><td><b>words</b></td><td style=\"background-color: rgb(255,255,255);\">robot</td><td style=\"background-color: rgb(255,255,255);\">can</td><td style=\"background-color: rgb(255,255,255);\">you</td><td style=\"background-color: rgb(255,255,255);\">pass</td><td style=\"background-color: rgb(255,255,255);\">me</td><td style=\"background-color: rgb(255,255,255);\">a</td><td style=\"background-color: rgb(255,255,255);\">plastic</td><td style=\"background-color: rgb(255,255,255);\">plate</td></tr><tr><td><b>lexical_unit</b></td><td style=\"background-color: rgb(255.0000, 255,255.0000);\">0.0000</td><td style=\"background-color: rgb(255.0000, 255,255.0000);\">0.0000</td><td style=\"background-color: rgb(255.0000, 255,255.0000);\">0.0000</td><td style=\"background-color: rgb(0.0000, 255,0.0000);\">1.0000</td><td style=\"background-color: rgb(255.0000, 255,255.0000);\">0.0000</td><td style=\"background-color: rgb(255.0000, 255,255.0000);\">0.0000</td><td style=\"background-color: rgb(255.0000, 255,255.0000);\">0.0000</td><td style=\"background-color: rgb(255.0000, 255,255.0000);\">0.0000</td></tr><tr><td><b>attention_intent</b></td><td style=\"background-color: rgb(255.0000, 255,255.0000);\">0.0000</td><td style=\"background-color: rgb(255.0000, 255,255.0000);\">0.0000</td><td style=\"background-color: rgb(255.0000, 255,255.0000);\">0.0000</td><td style=\"background-color: rgb(46.0168, 255,46.0168);\">0.8195</td><td style=\"background-color: rgb(208.9832, 255,208.9832);\">0.1805</td><td style=\"background-color: rgb(255.0000, 255,255.0000);\">0.0000</td><td style=\"background-color: rgb(255.0000, 255,255.0000);\">0.0000</td><td style=\"background-color: rgb(255.0000, 255,255.0000);\">0.0000</td></tr><tr><td><b>slots_true</b></td><td style=\"background-color: rgb(255,255,255);\">O</td><td style=\"background-color: rgb(255,255,255);\">O</td><td style=\"background-color: rgb(255,255,255);\">B-Donor</td><td style=\"background-color: rgb(255,255,255);\">O</td><td style=\"background-color: rgb(255,255,255);\">B-Recipient</td><td style=\"background-color: rgb(255,255,255);\">B-Theme</td><td style=\"background-color: rgb(255,255,255);\">I-Theme</td><td style=\"background-color: rgb(255,255,255);\">I-Theme</td></tr><tr><td><b>slots_pred</b></td><td style=\"background-color: rgb(255,255,255);\">O</td><td style=\"background-color: rgb(255,255,255);\">O</td><td style=\"background-color: rgb(255,255,255);\">B-Donor</td><td style=\"background-color: rgb(255,255,255);\">O</td><td style=\"background-color: rgb(255,255,255);\">B-Recipient</td><td style=\"background-color: rgb(255,255,255);\">B-Theme</td><td style=\"background-color: rgb(255,255,255);\">I-Theme</td><td style=\"background-color: rgb(255,255,255);\">I-Theme</td></tr></table>"
      ],
      "text/plain": [
       "<IPython.core.display.HTML object>"
      ]
     },
     "metadata": {},
     "output_type": "display_data"
    },
    {
     "name": "stdout",
     "output_type": "stream",
     "text": [
      "true: Change_operational_state pred: Change_operational_state\n"
     ]
    },
    {
     "data": {
      "text/html": [
       "<table><tr><td><b>words</b></td><td style=\"background-color: rgb(255,255,255);\">robot</td><td style=\"background-color: rgb(255,255,255);\">can</td><td style=\"background-color: rgb(255,255,255);\">you</td><td style=\"background-color: rgb(255,255,255);\">turn</td><td style=\"background-color: rgb(255,255,255);\">my</td><td style=\"background-color: rgb(255,255,255);\">laptop</td><td style=\"background-color: rgb(255,255,255);\">on</td></tr><tr><td><b>lexical_unit</b></td><td style=\"background-color: rgb(255.0000, 255,255.0000);\">0.0000</td><td style=\"background-color: rgb(255.0000, 255,255.0000);\">0.0000</td><td style=\"background-color: rgb(255.0000, 255,255.0000);\">0.0000</td><td style=\"background-color: rgb(0.0000, 255,0.0000);\">1.0000</td><td style=\"background-color: rgb(255.0000, 255,255.0000);\">0.0000</td><td style=\"background-color: rgb(255.0000, 255,255.0000);\">0.0000</td><td style=\"background-color: rgb(255.0000, 255,255.0000);\">0.0000</td></tr><tr><td><b>attention_intent</b></td><td style=\"background-color: rgb(255.0000, 255,255.0000);\">0.0000</td><td style=\"background-color: rgb(255.0000, 255,255.0000);\">0.0000</td><td style=\"background-color: rgb(255.0000, 255,255.0000);\">0.0000</td><td style=\"background-color: rgb(0.0357, 255,0.0357);\">0.9999</td><td style=\"background-color: rgb(255.0000, 255,255.0000);\">0.0000</td><td style=\"background-color: rgb(254.9646, 255,254.9646);\">0.0001</td><td style=\"background-color: rgb(254.9998, 255,254.9998);\">0.0000</td></tr><tr><td><b>slots_true</b></td><td style=\"background-color: rgb(255,255,255);\">O</td><td style=\"background-color: rgb(255,255,255);\">O</td><td style=\"background-color: rgb(255,255,255);\">B-Agent</td><td style=\"background-color: rgb(255,255,255);\">O</td><td style=\"background-color: rgb(255,255,255);\">B-Device</td><td style=\"background-color: rgb(255,255,255);\">I-Device</td><td style=\"background-color: rgb(255,255,255);\">B-Operational_state</td></tr><tr><td><b>slots_pred</b></td><td style=\"background-color: rgb(255,255,255);\">O</td><td style=\"background-color: rgb(255,255,255);\">O</td><td style=\"background-color: rgb(255,255,255);\">B-Agent</td><td style=\"background-color: rgb(255,255,255);\">O</td><td style=\"background-color: rgb(255,255,255);\">B-Device</td><td style=\"background-color: rgb(255,255,255);\">I-Device</td><td style=\"background-color: rgb(255,255,255);\">B-Device</td></tr></table>"
      ],
      "text/plain": [
       "<IPython.core.display.HTML object>"
      ]
     },
     "metadata": {},
     "output_type": "display_data"
    },
    {
     "name": "stdout",
     "output_type": "stream",
     "text": [
      "true: Following pred: Entering\n"
     ]
    },
    {
     "data": {
      "text/html": [
       "<table><tr><td><b>words</b></td><td style=\"background-color: rgb(255,255,255);\">robot</td><td style=\"background-color: rgb(255,255,255);\">come</td><td style=\"background-color: rgb(255,255,255);\">with</td><td style=\"background-color: rgb(255,255,255);\">me</td><td style=\"background-color: rgb(255,255,255);\">to</td><td style=\"background-color: rgb(255,255,255);\">the</td><td style=\"background-color: rgb(255,255,255);\">living</td><td style=\"background-color: rgb(255,255,255);\">room</td></tr><tr><td><b>lexical_unit</b></td><td style=\"background-color: rgb(255.0000, 255,255.0000);\">0.0000</td><td style=\"background-color: rgb(0.0000, 255,0.0000);\">1.0000</td><td style=\"background-color: rgb(255.0000, 255,255.0000);\">0.0000</td><td style=\"background-color: rgb(255.0000, 255,255.0000);\">0.0000</td><td style=\"background-color: rgb(255.0000, 255,255.0000);\">0.0000</td><td style=\"background-color: rgb(255.0000, 255,255.0000);\">0.0000</td><td style=\"background-color: rgb(255.0000, 255,255.0000);\">0.0000</td><td style=\"background-color: rgb(255.0000, 255,255.0000);\">0.0000</td></tr><tr><td><b>attention_intent</b></td><td style=\"background-color: rgb(255.0000, 255,255.0000);\">0.0000</td><td style=\"background-color: rgb(2.8676, 255,2.8676);\">0.9888</td><td style=\"background-color: rgb(252.1326, 255,252.1326);\">0.0112</td><td style=\"background-color: rgb(254.9998, 255,254.9998);\">0.0000</td><td style=\"background-color: rgb(255.0000, 255,255.0000);\">0.0000</td><td style=\"background-color: rgb(255.0000, 255,255.0000);\">0.0000</td><td style=\"background-color: rgb(255.0000, 255,255.0000);\">0.0000</td><td style=\"background-color: rgb(255.0000, 255,255.0000);\">0.0000</td></tr><tr><td><b>slots_true</b></td><td style=\"background-color: rgb(255,255,255);\">O</td><td style=\"background-color: rgb(255,255,255);\">O</td><td style=\"background-color: rgb(255,255,255);\">B-Cotheme</td><td style=\"background-color: rgb(255,255,255);\">I-Cotheme</td><td style=\"background-color: rgb(255,255,255);\">B-Goal</td><td style=\"background-color: rgb(255,255,255);\">I-Goal</td><td style=\"background-color: rgb(255,255,255);\">I-Goal</td><td style=\"background-color: rgb(255,255,255);\">I-Goal</td></tr><tr><td><b>slots_pred</b></td><td style=\"background-color: rgb(255,255,255);\">O</td><td style=\"background-color: rgb(255,255,255);\">O</td><td style=\"background-color: rgb(255,255,255);\">B-Theme</td><td style=\"background-color: rgb(255,255,255);\">I-Theme</td><td style=\"background-color: rgb(255,255,255);\">B-Goal</td><td style=\"background-color: rgb(255,255,255);\">I-Goal</td><td style=\"background-color: rgb(255,255,255);\">I-Goal</td><td style=\"background-color: rgb(255,255,255);\">I-Goal</td></tr></table>"
      ],
      "text/plain": [
       "<IPython.core.display.HTML object>"
      ]
     },
     "metadata": {},
     "output_type": "display_data"
    },
    {
     "name": "stdout",
     "output_type": "stream",
     "text": [
      "true: Change_operational_state pred: Change_operational_state\n"
     ]
    },
    {
     "data": {
      "text/html": [
       "<table><tr><td><b>words</b></td><td style=\"background-color: rgb(255,255,255);\">switch</td><td style=\"background-color: rgb(255,255,255);\">on</td><td style=\"background-color: rgb(255,255,255);\">the</td><td style=\"background-color: rgb(255,255,255);\">tv</td></tr><tr><td><b>lexical_unit</b></td><td style=\"background-color: rgb(0.0000, 255,0.0000);\">1.0000</td><td style=\"background-color: rgb(255.0000, 255,255.0000);\">0.0000</td><td style=\"background-color: rgb(255.0000, 255,255.0000);\">0.0000</td><td style=\"background-color: rgb(255.0000, 255,255.0000);\">0.0000</td></tr><tr><td><b>attention_intent</b></td><td style=\"background-color: rgb(3.7173, 255,3.7173);\">0.9854</td><td style=\"background-color: rgb(251.2827, 255,251.2827);\">0.0146</td><td style=\"background-color: rgb(255.0000, 255,255.0000);\">0.0000</td><td style=\"background-color: rgb(255.0000, 255,255.0000);\">0.0000</td></tr><tr><td><b>slots_true</b></td><td style=\"background-color: rgb(255,255,255);\">O</td><td style=\"background-color: rgb(255,255,255);\">B-Operational_state</td><td style=\"background-color: rgb(255,255,255);\">B-Device</td><td style=\"background-color: rgb(255,255,255);\">I-Device</td></tr><tr><td><b>slots_pred</b></td><td style=\"background-color: rgb(255,255,255);\">O</td><td style=\"background-color: rgb(255,255,255);\">B-Operational_state</td><td style=\"background-color: rgb(255,255,255);\">B-Device</td><td style=\"background-color: rgb(255,255,255);\">I-Device</td></tr></table>"
      ],
      "text/plain": [
       "<IPython.core.display.HTML object>"
      ]
     },
     "metadata": {},
     "output_type": "display_data"
    },
    {
     "name": "stdout",
     "output_type": "stream",
     "text": [
      "true: Taking pred: Closure\n"
     ]
    },
    {
     "data": {
      "text/html": [
       "<table><tr><td><b>words</b></td><td style=\"background-color: rgb(255,255,255);\">take</td><td style=\"background-color: rgb(255,255,255);\">the</td><td style=\"background-color: rgb(255,255,255);\">newspaper</td><td style=\"background-color: rgb(255,255,255);\">from</td><td style=\"background-color: rgb(255,255,255);\">the</td><td style=\"background-color: rgb(255,255,255);\">stand</td></tr><tr><td><b>lexical_unit</b></td><td style=\"background-color: rgb(0.0000, 255,0.0000);\">1.0000</td><td style=\"background-color: rgb(255.0000, 255,255.0000);\">0.0000</td><td style=\"background-color: rgb(255.0000, 255,255.0000);\">0.0000</td><td style=\"background-color: rgb(255.0000, 255,255.0000);\">0.0000</td><td style=\"background-color: rgb(255.0000, 255,255.0000);\">0.0000</td><td style=\"background-color: rgb(255.0000, 255,255.0000);\">0.0000</td></tr><tr><td><b>attention_intent</b></td><td style=\"background-color: rgb(236.4970, 255,236.4970);\">0.0726</td><td style=\"background-color: rgb(254.9295, 255,254.9295);\">0.0003</td><td style=\"background-color: rgb(254.9954, 255,254.9954);\">0.0000</td><td style=\"background-color: rgb(254.5878, 255,254.5878);\">0.0016</td><td style=\"background-color: rgb(254.9994, 255,254.9994);\">0.0000</td><td style=\"background-color: rgb(18.9909, 255,18.9909);\">0.9255</td></tr><tr><td><b>slots_true</b></td><td style=\"background-color: rgb(255,255,255);\">O</td><td style=\"background-color: rgb(255,255,255);\">B-Theme</td><td style=\"background-color: rgb(255,255,255);\">I-Theme</td><td style=\"background-color: rgb(255,255,255);\">B-Source</td><td style=\"background-color: rgb(255,255,255);\">I-Source</td><td style=\"background-color: rgb(255,255,255);\">I-Source</td></tr><tr><td><b>slots_pred</b></td><td style=\"background-color: rgb(255,255,255);\">O</td><td style=\"background-color: rgb(255,255,255);\">B-Theme</td><td style=\"background-color: rgb(255,255,255);\">I-Theme</td><td style=\"background-color: rgb(255,255,255);\">I-Theme</td><td style=\"background-color: rgb(255,255,255);\">I-Theme</td><td style=\"background-color: rgb(255,255,255);\">I-Theme</td></tr></table>"
      ],
      "text/plain": [
       "<IPython.core.display.HTML object>"
      ]
     },
     "metadata": {},
     "output_type": "display_data"
    },
    {
     "name": "stdout",
     "output_type": "stream",
     "text": [
      "true: Placing pred: Placing\n"
     ]
    },
    {
     "data": {
      "text/html": [
       "<table><tr><td><b>words</b></td><td style=\"background-color: rgb(255,255,255);\">and</td><td style=\"background-color: rgb(255,255,255);\">put</td><td style=\"background-color: rgb(255,255,255);\">it</td><td style=\"background-color: rgb(255,255,255);\">on</td><td style=\"background-color: rgb(255,255,255);\">the</td><td style=\"background-color: rgb(255,255,255);\">coffee</td><td style=\"background-color: rgb(255,255,255);\">table</td></tr><tr><td><b>lexical_unit</b></td><td style=\"background-color: rgb(255.0000, 255,255.0000);\">0.0000</td><td style=\"background-color: rgb(0.0000, 255,0.0000);\">1.0000</td><td style=\"background-color: rgb(255.0000, 255,255.0000);\">0.0000</td><td style=\"background-color: rgb(255.0000, 255,255.0000);\">0.0000</td><td style=\"background-color: rgb(255.0000, 255,255.0000);\">0.0000</td><td style=\"background-color: rgb(255.0000, 255,255.0000);\">0.0000</td><td style=\"background-color: rgb(255.0000, 255,255.0000);\">0.0000</td></tr><tr><td><b>attention_intent</b></td><td style=\"background-color: rgb(255.0000, 255,255.0000);\">0.0000</td><td style=\"background-color: rgb(254.9994, 255,254.9994);\">0.0000</td><td style=\"background-color: rgb(254.9757, 255,254.9757);\">0.0001</td><td style=\"background-color: rgb(0.0248, 255,0.0248);\">0.9999</td><td style=\"background-color: rgb(255.0000, 255,255.0000);\">0.0000</td><td style=\"background-color: rgb(255.0000, 255,255.0000);\">0.0000</td><td style=\"background-color: rgb(255.0000, 255,255.0000);\">0.0000</td></tr><tr><td><b>slots_true</b></td><td style=\"background-color: rgb(255,255,255);\">O</td><td style=\"background-color: rgb(255,255,255);\">O</td><td style=\"background-color: rgb(255,255,255);\">B-Theme</td><td style=\"background-color: rgb(255,255,255);\">B-Goal</td><td style=\"background-color: rgb(255,255,255);\">I-Goal</td><td style=\"background-color: rgb(255,255,255);\">I-Goal</td><td style=\"background-color: rgb(255,255,255);\">I-Goal</td></tr><tr><td><b>slots_pred</b></td><td style=\"background-color: rgb(255,255,255);\">O</td><td style=\"background-color: rgb(255,255,255);\">O</td><td style=\"background-color: rgb(255,255,255);\">B-Theme</td><td style=\"background-color: rgb(255,255,255);\">B-Goal</td><td style=\"background-color: rgb(255,255,255);\">I-Goal</td><td style=\"background-color: rgb(255,255,255);\">I-Goal</td><td style=\"background-color: rgb(255,255,255);\">I-Goal</td></tr></table>"
      ],
      "text/plain": [
       "<IPython.core.display.HTML object>"
      ]
     },
     "metadata": {},
     "output_type": "display_data"
    },
    {
     "name": "stdout",
     "output_type": "stream",
     "text": [
      "true: Change_operational_state pred: Change_operational_state\n"
     ]
    },
    {
     "data": {
      "text/html": [
       "<table><tr><td><b>words</b></td><td style=\"background-color: rgb(255,255,255);\">restart</td><td style=\"background-color: rgb(255,255,255);\">the</td><td style=\"background-color: rgb(255,255,255);\">wifi</td></tr><tr><td><b>lexical_unit</b></td><td style=\"background-color: rgb(0.0000, 255,0.0000);\">1.0000</td><td style=\"background-color: rgb(255.0000, 255,255.0000);\">0.0000</td><td style=\"background-color: rgb(255.0000, 255,255.0000);\">0.0000</td></tr><tr><td><b>attention_intent</b></td><td style=\"background-color: rgb(0.0021, 255,0.0021);\">1.0000</td><td style=\"background-color: rgb(255.0000, 255,255.0000);\">0.0000</td><td style=\"background-color: rgb(254.9979, 255,254.9979);\">0.0000</td></tr><tr><td><b>slots_true</b></td><td style=\"background-color: rgb(255,255,255);\">O</td><td style=\"background-color: rgb(255,255,255);\">B-Device</td><td style=\"background-color: rgb(255,255,255);\">I-Device</td></tr><tr><td><b>slots_pred</b></td><td style=\"background-color: rgb(255,255,255);\">O</td><td style=\"background-color: rgb(255,255,255);\">B-Device</td><td style=\"background-color: rgb(255,255,255);\">I-Device</td></tr></table>"
      ],
      "text/plain": [
       "<IPython.core.display.HTML object>"
      ]
     },
     "metadata": {},
     "output_type": "display_data"
    },
    {
     "name": "stdout",
     "output_type": "stream",
     "text": [
      "true: Placing pred: Searching\n"
     ]
    },
    {
     "data": {
      "text/html": [
       "<table><tr><td><b>words</b></td><td style=\"background-color: rgb(255,255,255);\">hang</td><td style=\"background-color: rgb(255,255,255);\">my</td><td style=\"background-color: rgb(255,255,255);\">coat</td><td style=\"background-color: rgb(255,255,255);\">in</td><td style=\"background-color: rgb(255,255,255);\">the</td><td style=\"background-color: rgb(255,255,255);\">closet</td><td style=\"background-color: rgb(255,255,255);\">in</td><td style=\"background-color: rgb(255,255,255);\">my</td><td style=\"background-color: rgb(255,255,255);\">bedroom</td></tr><tr><td><b>lexical_unit</b></td><td style=\"background-color: rgb(0.0000, 255,0.0000);\">1.0000</td><td style=\"background-color: rgb(255.0000, 255,255.0000);\">0.0000</td><td style=\"background-color: rgb(255.0000, 255,255.0000);\">0.0000</td><td style=\"background-color: rgb(255.0000, 255,255.0000);\">0.0000</td><td style=\"background-color: rgb(255.0000, 255,255.0000);\">0.0000</td><td style=\"background-color: rgb(255.0000, 255,255.0000);\">0.0000</td><td style=\"background-color: rgb(255.0000, 255,255.0000);\">0.0000</td><td style=\"background-color: rgb(255.0000, 255,255.0000);\">0.0000</td><td style=\"background-color: rgb(255.0000, 255,255.0000);\">0.0000</td></tr><tr><td><b>attention_intent</b></td><td style=\"background-color: rgb(0.0068, 255,0.0068);\">1.0000</td><td style=\"background-color: rgb(255.0000, 255,255.0000);\">0.0000</td><td style=\"background-color: rgb(255.0000, 255,255.0000);\">0.0000</td><td style=\"background-color: rgb(254.9992, 255,254.9992);\">0.0000</td><td style=\"background-color: rgb(255.0000, 255,255.0000);\">0.0000</td><td style=\"background-color: rgb(254.9940, 255,254.9940);\">0.0000</td><td style=\"background-color: rgb(255.0000, 255,255.0000);\">0.0000</td><td style=\"background-color: rgb(255.0000, 255,255.0000);\">0.0000</td><td style=\"background-color: rgb(255.0000, 255,255.0000);\">0.0000</td></tr><tr><td><b>slots_true</b></td><td style=\"background-color: rgb(255,255,255);\">O</td><td style=\"background-color: rgb(255,255,255);\">B-Theme</td><td style=\"background-color: rgb(255,255,255);\">I-Theme</td><td style=\"background-color: rgb(255,255,255);\">B-Goal</td><td style=\"background-color: rgb(255,255,255);\">I-Goal</td><td style=\"background-color: rgb(255,255,255);\">I-Goal</td><td style=\"background-color: rgb(255,255,255);\">I-Goal</td><td style=\"background-color: rgb(255,255,255);\">I-Goal</td><td style=\"background-color: rgb(255,255,255);\">I-Goal</td></tr><tr><td><b>slots_pred</b></td><td style=\"background-color: rgb(255,255,255);\">O</td><td style=\"background-color: rgb(255,255,255);\">B-Phenomenon</td><td style=\"background-color: rgb(255,255,255);\">I-Phenomenon</td><td style=\"background-color: rgb(255,255,255);\">B-Goal</td><td style=\"background-color: rgb(255,255,255);\">I-Goal</td><td style=\"background-color: rgb(255,255,255);\">I-Goal</td><td style=\"background-color: rgb(255,255,255);\">I-Goal</td><td style=\"background-color: rgb(255,255,255);\">I-Goal</td><td style=\"background-color: rgb(255,255,255);\">I-Goal</td></tr></table>"
      ],
      "text/plain": [
       "<IPython.core.display.HTML object>"
      ]
     },
     "metadata": {},
     "output_type": "display_data"
    }
   ],
   "source": [
    "# HuRIC + FrameNet in train, FrameNet in test\n",
    "samples_wf = utils.load_json(FOLDER_WITH_FRAMENET)\n",
    "print('#samples', len(samples_wf))\n",
    "samples_wrong_wf = [s for s in samples_wf if s['intent_pred'] != s['intent_true']]\n",
    "print('#samples_wrong_intent', len(samples_wrong_wf))\n",
    "utils.display_all(samples_wf, False, False, False)"
   ]
  },
  {
   "cell_type": "code",
   "execution_count": 4,
   "metadata": {},
   "outputs": [
    {
     "name": "stdout",
     "output_type": "stream",
     "text": [
      "#samples 573\n",
      "#samples_wrong_intent 217\n"
     ]
    }
   ],
   "source": [
    "# FrameNet train, HuRIC full test\n",
    "samples_fn_test_hf = utils.load_json(FOLDER_FN_TEST_ALL_HURIC, 0)\n",
    "print('#samples', len(samples_fn_test_hf))\n",
    "samples_wrong_fn_test_hf = [s for s in samples_fn_test_hf if s['intent_pred'] != s['intent_true']]\n",
    "print('#samples_wrong_intent', len(samples_wrong_fn_test_hf))"
   ]
  },
  {
   "cell_type": "code",
   "execution_count": 5,
   "metadata": {},
   "outputs": [
    {
     "name": "stdout",
     "output_type": "stream",
     "text": [
      "#samples 109\n",
      "#samples_wrong_intent 38\n",
      "true: Being_in_category pred: Placing\n"
     ]
    },
    {
     "data": {
      "text/html": [
       "<table><tr><td><b>words</b></td><td style=\"background-color: rgb(255,255,255);\">this</td><td style=\"background-color: rgb(255,255,255);\">is</td><td style=\"background-color: rgb(255,255,255);\">a</td><td style=\"background-color: rgb(255,255,255);\">table</td><td style=\"background-color: rgb(255,255,255);\">with</td><td style=\"background-color: rgb(255,255,255);\">a</td><td style=\"background-color: rgb(255,255,255);\">glass</td><td style=\"background-color: rgb(255,255,255);\">deck</td></tr><tr><td><b>lexical_unit</b></td><td style=\"background-color: rgb(255.0000, 255,255.0000);\">0.0000</td><td style=\"background-color: rgb(0.0000, 255,0.0000);\">1.0000</td><td style=\"background-color: rgb(255.0000, 255,255.0000);\">0.0000</td><td style=\"background-color: rgb(255.0000, 255,255.0000);\">0.0000</td><td style=\"background-color: rgb(255.0000, 255,255.0000);\">0.0000</td><td style=\"background-color: rgb(255.0000, 255,255.0000);\">0.0000</td><td style=\"background-color: rgb(255.0000, 255,255.0000);\">0.0000</td><td style=\"background-color: rgb(255.0000, 255,255.0000);\">0.0000</td></tr><tr><td><b>attention_intent</b></td><td style=\"background-color: rgb(255.0000, 255,255.0000);\">0.0000</td><td style=\"background-color: rgb(255.0000, 255,255.0000);\">0.0000</td><td style=\"background-color: rgb(254.9999, 255,254.9999);\">0.0000</td><td style=\"background-color: rgb(3.1763, 255,3.1763);\">0.9875</td><td style=\"background-color: rgb(255.0000, 255,255.0000);\">0.0000</td><td style=\"background-color: rgb(255.0000, 255,255.0000);\">0.0000</td><td style=\"background-color: rgb(254.8436, 255,254.8436);\">0.0006</td><td style=\"background-color: rgb(251.9859, 255,251.9859);\">0.0118</td></tr><tr><td><b>slots_true</b></td><td style=\"background-color: rgb(255,255,255);\">B-Item</td><td style=\"background-color: rgb(255,255,255);\">O</td><td style=\"background-color: rgb(255,255,255);\">B-Category</td><td style=\"background-color: rgb(255,255,255);\">I-Category</td><td style=\"background-color: rgb(255,255,255);\">I-Category</td><td style=\"background-color: rgb(255,255,255);\">I-Category</td><td style=\"background-color: rgb(255,255,255);\">I-Category</td><td style=\"background-color: rgb(255,255,255);\">I-Category</td></tr><tr><td><b>slots_pred</b></td><td style=\"background-color: rgb(255,255,255);\">B-Depictive</td><td style=\"background-color: rgb(255,255,255);\">O</td><td style=\"background-color: rgb(255,255,255);\">O</td><td style=\"background-color: rgb(255,255,255);\">O</td><td style=\"background-color: rgb(255,255,255);\">B-Theme</td><td style=\"background-color: rgb(255,255,255);\">I-Theme</td><td style=\"background-color: rgb(255,255,255);\">I-Theme</td><td style=\"background-color: rgb(255,255,255);\">I-Theme</td></tr></table>"
      ],
      "text/plain": [
       "<IPython.core.display.HTML object>"
      ]
     },
     "metadata": {},
     "output_type": "display_data"
    },
    {
     "name": "stdout",
     "output_type": "stream",
     "text": [
      "true: Bringing pred: Bringing\n"
     ]
    },
    {
     "data": {
      "text/html": [
       "<table><tr><td><b>words</b></td><td style=\"background-color: rgb(255,255,255);\">please</td><td style=\"background-color: rgb(255,255,255);\">bring</td><td style=\"background-color: rgb(255,255,255);\">the</td><td style=\"background-color: rgb(255,255,255);\">mobile</td><td style=\"background-color: rgb(255,255,255);\">phone</td><td style=\"background-color: rgb(255,255,255);\">to</td><td style=\"background-color: rgb(255,255,255);\">the</td><td style=\"background-color: rgb(255,255,255);\">livingroom</td></tr><tr><td><b>lexical_unit</b></td><td style=\"background-color: rgb(255.0000, 255,255.0000);\">0.0000</td><td style=\"background-color: rgb(0.0000, 255,0.0000);\">1.0000</td><td style=\"background-color: rgb(255.0000, 255,255.0000);\">0.0000</td><td style=\"background-color: rgb(255.0000, 255,255.0000);\">0.0000</td><td style=\"background-color: rgb(255.0000, 255,255.0000);\">0.0000</td><td style=\"background-color: rgb(255.0000, 255,255.0000);\">0.0000</td><td style=\"background-color: rgb(255.0000, 255,255.0000);\">0.0000</td><td style=\"background-color: rgb(255.0000, 255,255.0000);\">0.0000</td></tr><tr><td><b>attention_intent</b></td><td style=\"background-color: rgb(163.0218, 255,163.0218);\">0.3607</td><td style=\"background-color: rgb(112.8093, 255,112.8093);\">0.5576</td><td style=\"background-color: rgb(255.0000, 255,255.0000);\">0.0000</td><td style=\"background-color: rgb(234.2643, 255,234.2643);\">0.0813</td><td style=\"background-color: rgb(254.9129, 255,254.9129);\">0.0003</td><td style=\"background-color: rgb(254.9919, 255,254.9919);\">0.0000</td><td style=\"background-color: rgb(255.0000, 255,255.0000);\">0.0000</td><td style=\"background-color: rgb(255.0000, 255,255.0000);\">0.0000</td></tr><tr><td><b>slots_true</b></td><td style=\"background-color: rgb(255,255,255);\">O</td><td style=\"background-color: rgb(255,255,255);\">O</td><td style=\"background-color: rgb(255,255,255);\">B-Theme</td><td style=\"background-color: rgb(255,255,255);\">I-Theme</td><td style=\"background-color: rgb(255,255,255);\">I-Theme</td><td style=\"background-color: rgb(255,255,255);\">B-Goal</td><td style=\"background-color: rgb(255,255,255);\">I-Goal</td><td style=\"background-color: rgb(255,255,255);\">I-Goal</td></tr><tr><td><b>slots_pred</b></td><td style=\"background-color: rgb(255,255,255);\">B-Agent</td><td style=\"background-color: rgb(255,255,255);\">O</td><td style=\"background-color: rgb(255,255,255);\">B-Theme</td><td style=\"background-color: rgb(255,255,255);\">I-Theme</td><td style=\"background-color: rgb(255,255,255);\">O</td><td style=\"background-color: rgb(255,255,255);\">B-Recipient</td><td style=\"background-color: rgb(255,255,255);\">I-Recipient</td><td style=\"background-color: rgb(255,255,255);\">I-Recipient</td></tr></table>"
      ],
      "text/plain": [
       "<IPython.core.display.HTML object>"
      ]
     },
     "metadata": {},
     "output_type": "display_data"
    },
    {
     "name": "stdout",
     "output_type": "stream",
     "text": [
      "true: Motion pred: Motion\n"
     ]
    },
    {
     "data": {
      "text/html": [
       "<table><tr><td><b>words</b></td><td style=\"background-color: rgb(255,255,255);\">drive</td><td style=\"background-color: rgb(255,255,255);\">to</td><td style=\"background-color: rgb(255,255,255);\">the</td><td style=\"background-color: rgb(255,255,255);\">fridge</td></tr><tr><td><b>lexical_unit</b></td><td style=\"background-color: rgb(0.0000, 255,0.0000);\">1.0000</td><td style=\"background-color: rgb(255.0000, 255,255.0000);\">0.0000</td><td style=\"background-color: rgb(255.0000, 255,255.0000);\">0.0000</td><td style=\"background-color: rgb(255.0000, 255,255.0000);\">0.0000</td></tr><tr><td><b>attention_intent</b></td><td style=\"background-color: rgb(90.4191, 255,90.4191);\">0.6454</td><td style=\"background-color: rgb(167.7823, 255,167.7823);\">0.3420</td><td style=\"background-color: rgb(254.9926, 255,254.9926);\">0.0000</td><td style=\"background-color: rgb(254.3463, 255,254.3463);\">0.0026</td></tr><tr><td><b>slots_true</b></td><td style=\"background-color: rgb(255,255,255);\">O</td><td style=\"background-color: rgb(255,255,255);\">B-Goal</td><td style=\"background-color: rgb(255,255,255);\">I-Goal</td><td style=\"background-color: rgb(255,255,255);\">I-Goal</td></tr><tr><td><b>slots_pred</b></td><td style=\"background-color: rgb(255,255,255);\">O</td><td style=\"background-color: rgb(255,255,255);\">B-Goal</td><td style=\"background-color: rgb(255,255,255);\">I-Goal</td><td style=\"background-color: rgb(255,255,255);\">I-Goal</td></tr></table>"
      ],
      "text/plain": [
       "<IPython.core.display.HTML object>"
      ]
     },
     "metadata": {},
     "output_type": "display_data"
    },
    {
     "name": "stdout",
     "output_type": "stream",
     "text": [
      "true: Searching pred: Searching\n"
     ]
    },
    {
     "data": {
      "text/html": [
       "<table><tr><td><b>words</b></td><td style=\"background-color: rgb(255,255,255);\">search</td><td style=\"background-color: rgb(255,255,255);\">for</td><td style=\"background-color: rgb(255,255,255);\">towel</td></tr><tr><td><b>lexical_unit</b></td><td style=\"background-color: rgb(0.0000, 255,0.0000);\">1.0000</td><td style=\"background-color: rgb(255.0000, 255,255.0000);\">0.0000</td><td style=\"background-color: rgb(255.0000, 255,255.0000);\">0.0000</td></tr><tr><td><b>attention_intent</b></td><td style=\"background-color: rgb(0.0012, 255,0.0012);\">1.0000</td><td style=\"background-color: rgb(254.9999, 255,254.9999);\">0.0000</td><td style=\"background-color: rgb(255.0000, 255,255.0000);\">0.0000</td></tr><tr><td><b>slots_true</b></td><td style=\"background-color: rgb(255,255,255);\">O</td><td style=\"background-color: rgb(255,255,255);\">B-Phenomenon</td><td style=\"background-color: rgb(255,255,255);\">I-Phenomenon</td></tr><tr><td><b>slots_pred</b></td><td style=\"background-color: rgb(255,255,255);\">O</td><td style=\"background-color: rgb(255,255,255);\">B-Ground</td><td style=\"background-color: rgb(255,255,255);\">I-Ground</td></tr></table>"
      ],
      "text/plain": [
       "<IPython.core.display.HTML object>"
      ]
     },
     "metadata": {},
     "output_type": "display_data"
    },
    {
     "name": "stdout",
     "output_type": "stream",
     "text": [
      "true: Placing pred: Placing\n"
     ]
    },
    {
     "data": {
      "text/html": [
       "<table><tr><td><b>words</b></td><td style=\"background-color: rgb(255,255,255);\">put</td><td style=\"background-color: rgb(255,255,255);\">the</td><td style=\"background-color: rgb(255,255,255);\">mug</td><td style=\"background-color: rgb(255,255,255);\">in</td><td style=\"background-color: rgb(255,255,255);\">the</td><td style=\"background-color: rgb(255,255,255);\">living</td><td style=\"background-color: rgb(255,255,255);\">room</td></tr><tr><td><b>lexical_unit</b></td><td style=\"background-color: rgb(0.0000, 255,0.0000);\">1.0000</td><td style=\"background-color: rgb(255.0000, 255,255.0000);\">0.0000</td><td style=\"background-color: rgb(255.0000, 255,255.0000);\">0.0000</td><td style=\"background-color: rgb(255.0000, 255,255.0000);\">0.0000</td><td style=\"background-color: rgb(255.0000, 255,255.0000);\">0.0000</td><td style=\"background-color: rgb(255.0000, 255,255.0000);\">0.0000</td><td style=\"background-color: rgb(255.0000, 255,255.0000);\">0.0000</td></tr><tr><td><b>attention_intent</b></td><td style=\"background-color: rgb(64.8075, 255,64.8075);\">0.7459</td><td style=\"background-color: rgb(255.0000, 255,255.0000);\">0.0000</td><td style=\"background-color: rgb(190.1930, 255,190.1930);\">0.2541</td><td style=\"background-color: rgb(254.9998, 255,254.9998);\">0.0000</td><td style=\"background-color: rgb(255.0000, 255,255.0000);\">0.0000</td><td style=\"background-color: rgb(255.0000, 255,255.0000);\">0.0000</td><td style=\"background-color: rgb(255.0000, 255,255.0000);\">0.0000</td></tr><tr><td><b>slots_true</b></td><td style=\"background-color: rgb(255,255,255);\">O</td><td style=\"background-color: rgb(255,255,255);\">B-Theme</td><td style=\"background-color: rgb(255,255,255);\">I-Theme</td><td style=\"background-color: rgb(255,255,255);\">B-Goal</td><td style=\"background-color: rgb(255,255,255);\">I-Goal</td><td style=\"background-color: rgb(255,255,255);\">I-Goal</td><td style=\"background-color: rgb(255,255,255);\">I-Goal</td></tr><tr><td><b>slots_pred</b></td><td style=\"background-color: rgb(255,255,255);\">O</td><td style=\"background-color: rgb(255,255,255);\">B-Theme</td><td style=\"background-color: rgb(255,255,255);\">I-Theme</td><td style=\"background-color: rgb(255,255,255);\">B-Goal</td><td style=\"background-color: rgb(255,255,255);\">I-Goal</td><td style=\"background-color: rgb(255,255,255);\">I-Goal</td><td style=\"background-color: rgb(255,255,255);\">I-Goal</td></tr></table>"
      ],
      "text/plain": [
       "<IPython.core.display.HTML object>"
      ]
     },
     "metadata": {},
     "output_type": "display_data"
    },
    {
     "name": "stdout",
     "output_type": "stream",
     "text": [
      "true: Motion pred: Motion\n"
     ]
    },
    {
     "data": {
      "text/html": [
       "<table><tr><td><b>words</b></td><td style=\"background-color: rgb(255,255,255);\">go</td><td style=\"background-color: rgb(255,255,255);\">to</td><td style=\"background-color: rgb(255,255,255);\">the</td><td style=\"background-color: rgb(255,255,255);\">bathroom</td></tr><tr><td><b>lexical_unit</b></td><td style=\"background-color: rgb(0.0000, 255,0.0000);\">1.0000</td><td style=\"background-color: rgb(255.0000, 255,255.0000);\">0.0000</td><td style=\"background-color: rgb(255.0000, 255,255.0000);\">0.0000</td><td style=\"background-color: rgb(255.0000, 255,255.0000);\">0.0000</td></tr><tr><td><b>attention_intent</b></td><td style=\"background-color: rgb(0.0198, 255,0.0198);\">0.9999</td><td style=\"background-color: rgb(254.9811, 255,254.9811);\">0.0001</td><td style=\"background-color: rgb(255.0000, 255,255.0000);\">0.0000</td><td style=\"background-color: rgb(255.0000, 255,255.0000);\">0.0000</td></tr><tr><td><b>slots_true</b></td><td style=\"background-color: rgb(255,255,255);\">O</td><td style=\"background-color: rgb(255,255,255);\">B-Goal</td><td style=\"background-color: rgb(255,255,255);\">I-Goal</td><td style=\"background-color: rgb(255,255,255);\">I-Goal</td></tr><tr><td><b>slots_pred</b></td><td style=\"background-color: rgb(255,255,255);\">O</td><td style=\"background-color: rgb(255,255,255);\">B-Goal</td><td style=\"background-color: rgb(255,255,255);\">I-Goal</td><td style=\"background-color: rgb(255,255,255);\">I-Goal</td></tr></table>"
      ],
      "text/plain": [
       "<IPython.core.display.HTML object>"
      ]
     },
     "metadata": {},
     "output_type": "display_data"
    },
    {
     "name": "stdout",
     "output_type": "stream",
     "text": [
      "true: Being_located pred: Being_located\n"
     ]
    },
    {
     "data": {
      "text/html": [
       "<table><tr><td><b>words</b></td><td style=\"background-color: rgb(255,255,255);\">and</td><td style=\"background-color: rgb(255,255,255);\">the</td><td style=\"background-color: rgb(255,255,255);\">bed</td><td style=\"background-color: rgb(255,255,255);\">is</td><td style=\"background-color: rgb(255,255,255);\">between</td><td style=\"background-color: rgb(255,255,255);\">two</td><td style=\"background-color: rgb(255,255,255);\">lamps</td></tr><tr><td><b>lexical_unit</b></td><td style=\"background-color: rgb(255.0000, 255,255.0000);\">0.0000</td><td style=\"background-color: rgb(255.0000, 255,255.0000);\">0.0000</td><td style=\"background-color: rgb(255.0000, 255,255.0000);\">0.0000</td><td style=\"background-color: rgb(0.0000, 255,0.0000);\">1.0000</td><td style=\"background-color: rgb(255.0000, 255,255.0000);\">0.0000</td><td style=\"background-color: rgb(255.0000, 255,255.0000);\">0.0000</td><td style=\"background-color: rgb(255.0000, 255,255.0000);\">0.0000</td></tr><tr><td><b>attention_intent</b></td><td style=\"background-color: rgb(254.9984, 255,254.9984);\">0.0000</td><td style=\"background-color: rgb(255.0000, 255,255.0000);\">0.0000</td><td style=\"background-color: rgb(3.7587, 255,3.7587);\">0.9853</td><td style=\"background-color: rgb(254.8686, 255,254.8686);\">0.0005</td><td style=\"background-color: rgb(255.0000, 255,255.0000);\">0.0000</td><td style=\"background-color: rgb(254.9993, 255,254.9993);\">0.0000</td><td style=\"background-color: rgb(254.9866, 255,254.9866);\">0.0001</td></tr><tr><td><b>slots_true</b></td><td style=\"background-color: rgb(255,255,255);\">O</td><td style=\"background-color: rgb(255,255,255);\">B-Theme</td><td style=\"background-color: rgb(255,255,255);\">I-Theme</td><td style=\"background-color: rgb(255,255,255);\">O</td><td style=\"background-color: rgb(255,255,255);\">B-Location</td><td style=\"background-color: rgb(255,255,255);\">I-Location</td><td style=\"background-color: rgb(255,255,255);\">I-Location</td></tr><tr><td><b>slots_pred</b></td><td style=\"background-color: rgb(255,255,255);\">B-Theme</td><td style=\"background-color: rgb(255,255,255);\">I-Theme</td><td style=\"background-color: rgb(255,255,255);\">I-Theme</td><td style=\"background-color: rgb(255,255,255);\">I-Theme</td><td style=\"background-color: rgb(255,255,255);\">I-Theme</td><td style=\"background-color: rgb(255,255,255);\">I-Theme</td><td style=\"background-color: rgb(255,255,255);\">I-Theme</td></tr></table>"
      ],
      "text/plain": [
       "<IPython.core.display.HTML object>"
      ]
     },
     "metadata": {},
     "output_type": "display_data"
    },
    {
     "name": "stdout",
     "output_type": "stream",
     "text": [
      "true: Bringing pred: Bringing\n"
     ]
    },
    {
     "data": {
      "text/html": [
       "<table><tr><td><b>words</b></td><td style=\"background-color: rgb(255,255,255);\">can</td><td style=\"background-color: rgb(255,255,255);\">you</td><td style=\"background-color: rgb(255,255,255);\">bring</td><td style=\"background-color: rgb(255,255,255);\">me</td><td style=\"background-color: rgb(255,255,255);\">the</td><td style=\"background-color: rgb(255,255,255);\">coke</td><td style=\"background-color: rgb(255,255,255);\">from</td><td style=\"background-color: rgb(255,255,255);\">the</td><td style=\"background-color: rgb(255,255,255);\">fridge</td></tr><tr><td><b>lexical_unit</b></td><td style=\"background-color: rgb(255.0000, 255,255.0000);\">0.0000</td><td style=\"background-color: rgb(255.0000, 255,255.0000);\">0.0000</td><td style=\"background-color: rgb(0.0000, 255,0.0000);\">1.0000</td><td style=\"background-color: rgb(255.0000, 255,255.0000);\">0.0000</td><td style=\"background-color: rgb(255.0000, 255,255.0000);\">0.0000</td><td style=\"background-color: rgb(255.0000, 255,255.0000);\">0.0000</td><td style=\"background-color: rgb(255.0000, 255,255.0000);\">0.0000</td><td style=\"background-color: rgb(255.0000, 255,255.0000);\">0.0000</td><td style=\"background-color: rgb(255.0000, 255,255.0000);\">0.0000</td></tr><tr><td><b>attention_intent</b></td><td style=\"background-color: rgb(254.9999, 255,254.9999);\">0.0000</td><td style=\"background-color: rgb(254.9989, 255,254.9989);\">0.0000</td><td style=\"background-color: rgb(49.0559, 255,49.0559);\">0.8076</td><td style=\"background-color: rgb(205.9493, 255,205.9493);\">0.1924</td><td style=\"background-color: rgb(255.0000, 255,255.0000);\">0.0000</td><td style=\"background-color: rgb(254.9964, 255,254.9964);\">0.0000</td><td style=\"background-color: rgb(255.0000, 255,255.0000);\">0.0000</td><td style=\"background-color: rgb(255.0000, 255,255.0000);\">0.0000</td><td style=\"background-color: rgb(255.0000, 255,255.0000);\">0.0000</td></tr><tr><td><b>slots_true</b></td><td style=\"background-color: rgb(255,255,255);\">O</td><td style=\"background-color: rgb(255,255,255);\">B-Agent</td><td style=\"background-color: rgb(255,255,255);\">O</td><td style=\"background-color: rgb(255,255,255);\">B-Beneficiary</td><td style=\"background-color: rgb(255,255,255);\">B-Theme</td><td style=\"background-color: rgb(255,255,255);\">I-Theme</td><td style=\"background-color: rgb(255,255,255);\">B-Source</td><td style=\"background-color: rgb(255,255,255);\">I-Source</td><td style=\"background-color: rgb(255,255,255);\">I-Source</td></tr><tr><td><b>slots_pred</b></td><td style=\"background-color: rgb(255,255,255);\">B-Agent</td><td style=\"background-color: rgb(255,255,255);\">O</td><td style=\"background-color: rgb(255,255,255);\">O</td><td style=\"background-color: rgb(255,255,255);\">B-Goal</td><td style=\"background-color: rgb(255,255,255);\">B-Source</td><td style=\"background-color: rgb(255,255,255);\">I-Source</td><td style=\"background-color: rgb(255,255,255);\">I-Source</td><td style=\"background-color: rgb(255,255,255);\">I-Source</td><td style=\"background-color: rgb(255,255,255);\">I-Source</td></tr></table>"
      ],
      "text/plain": [
       "<IPython.core.display.HTML object>"
      ]
     },
     "metadata": {},
     "output_type": "display_data"
    },
    {
     "name": "stdout",
     "output_type": "stream",
     "text": [
      "true: Being_in_category pred: Being_located\n"
     ]
    },
    {
     "data": {
      "text/html": [
       "<table><tr><td><b>words</b></td><td style=\"background-color: rgb(255,255,255);\">this</td><td style=\"background-color: rgb(255,255,255);\">is</td><td style=\"background-color: rgb(255,255,255);\">a</td><td style=\"background-color: rgb(255,255,255);\">bed</td><td style=\"background-color: rgb(255,255,255);\">room</td></tr><tr><td><b>lexical_unit</b></td><td style=\"background-color: rgb(255.0000, 255,255.0000);\">0.0000</td><td style=\"background-color: rgb(0.0000, 255,0.0000);\">1.0000</td><td style=\"background-color: rgb(255.0000, 255,255.0000);\">0.0000</td><td style=\"background-color: rgb(255.0000, 255,255.0000);\">0.0000</td><td style=\"background-color: rgb(255.0000, 255,255.0000);\">0.0000</td></tr><tr><td><b>attention_intent</b></td><td style=\"background-color: rgb(255.0000, 255,255.0000);\">0.0000</td><td style=\"background-color: rgb(254.9972, 255,254.9972);\">0.0000</td><td style=\"background-color: rgb(254.9965, 255,254.9965);\">0.0000</td><td style=\"background-color: rgb(0.1808, 255,0.1808);\">0.9993</td><td style=\"background-color: rgb(255.0000, 255,255.0000);\">0.0000</td></tr><tr><td><b>slots_true</b></td><td style=\"background-color: rgb(255,255,255);\">B-Item</td><td style=\"background-color: rgb(255,255,255);\">O</td><td style=\"background-color: rgb(255,255,255);\">B-Category</td><td style=\"background-color: rgb(255,255,255);\">I-Category</td><td style=\"background-color: rgb(255,255,255);\">I-Category</td></tr><tr><td><b>slots_pred</b></td><td style=\"background-color: rgb(255,255,255);\">B-Theme</td><td style=\"background-color: rgb(255,255,255);\">O</td><td style=\"background-color: rgb(255,255,255);\">O</td><td style=\"background-color: rgb(255,255,255);\">B-Location</td><td style=\"background-color: rgb(255,255,255);\">I-Location</td></tr></table>"
      ],
      "text/plain": [
       "<IPython.core.display.HTML object>"
      ]
     },
     "metadata": {},
     "output_type": "display_data"
    },
    {
     "name": "stdout",
     "output_type": "stream",
     "text": [
      "true: Following pred: Following\n"
     ]
    },
    {
     "data": {
      "text/html": [
       "<table><tr><td><b>words</b></td><td style=\"background-color: rgb(255,255,255);\">and</td><td style=\"background-color: rgb(255,255,255);\">follow</td><td style=\"background-color: rgb(255,255,255);\">the</td><td style=\"background-color: rgb(255,255,255);\">skinny</td><td style=\"background-color: rgb(255,255,255);\">person</td></tr><tr><td><b>lexical_unit</b></td><td style=\"background-color: rgb(255.0000, 255,255.0000);\">0.0000</td><td style=\"background-color: rgb(0.0000, 255,0.0000);\">1.0000</td><td style=\"background-color: rgb(255.0000, 255,255.0000);\">0.0000</td><td style=\"background-color: rgb(255.0000, 255,255.0000);\">0.0000</td><td style=\"background-color: rgb(255.0000, 255,255.0000);\">0.0000</td></tr><tr><td><b>attention_intent</b></td><td style=\"background-color: rgb(254.9991, 255,254.9991);\">0.0000</td><td style=\"background-color: rgb(0.0013, 255,0.0013);\">1.0000</td><td style=\"background-color: rgb(255.0000, 255,255.0000);\">0.0000</td><td style=\"background-color: rgb(255.0000, 255,255.0000);\">0.0000</td><td style=\"background-color: rgb(255.0000, 255,255.0000);\">0.0000</td></tr><tr><td><b>slots_true</b></td><td style=\"background-color: rgb(255,255,255);\">O</td><td style=\"background-color: rgb(255,255,255);\">O</td><td style=\"background-color: rgb(255,255,255);\">B-Cotheme</td><td style=\"background-color: rgb(255,255,255);\">I-Cotheme</td><td style=\"background-color: rgb(255,255,255);\">I-Cotheme</td></tr><tr><td><b>slots_pred</b></td><td style=\"background-color: rgb(255,255,255);\">B-Theme</td><td style=\"background-color: rgb(255,255,255);\">O</td><td style=\"background-color: rgb(255,255,255);\">B-Road</td><td style=\"background-color: rgb(255,255,255);\">I-Road</td><td style=\"background-color: rgb(255,255,255);\">I-Road</td></tr></table>"
      ],
      "text/plain": [
       "<IPython.core.display.HTML object>"
      ]
     },
     "metadata": {},
     "output_type": "display_data"
    },
    {
     "name": "stdout",
     "output_type": "stream",
     "text": [
      "true: Searching pred: Perception_active\n"
     ]
    },
    {
     "data": {
      "text/html": [
       "<table><tr><td><b>words</b></td><td style=\"background-color: rgb(255,255,255);\">find</td><td style=\"background-color: rgb(255,255,255);\">me</td><td style=\"background-color: rgb(255,255,255);\">a</td><td style=\"background-color: rgb(255,255,255);\">cushion</td></tr><tr><td><b>lexical_unit</b></td><td style=\"background-color: rgb(0.0000, 255,0.0000);\">1.0000</td><td style=\"background-color: rgb(255.0000, 255,255.0000);\">0.0000</td><td style=\"background-color: rgb(255.0000, 255,255.0000);\">0.0000</td><td style=\"background-color: rgb(255.0000, 255,255.0000);\">0.0000</td></tr><tr><td><b>attention_intent</b></td><td style=\"background-color: rgb(238.2343, 255,238.2343);\">0.0657</td><td style=\"background-color: rgb(17.5373, 255,17.5373);\">0.9312</td><td style=\"background-color: rgb(254.9966, 255,254.9966);\">0.0000</td><td style=\"background-color: rgb(254.2542, 255,254.2542);\">0.0029</td></tr><tr><td><b>slots_true</b></td><td style=\"background-color: rgb(255,255,255);\">O</td><td style=\"background-color: rgb(255,255,255);\">B-Purpose</td><td style=\"background-color: rgb(255,255,255);\">B-Phenomenon</td><td style=\"background-color: rgb(255,255,255);\">I-Phenomenon</td></tr><tr><td><b>slots_pred</b></td><td style=\"background-color: rgb(255,255,255);\">O</td><td style=\"background-color: rgb(255,255,255);\">B-Location</td><td style=\"background-color: rgb(255,255,255);\">B-Means</td><td style=\"background-color: rgb(255,255,255);\">I-Means</td></tr></table>"
      ],
      "text/plain": [
       "<IPython.core.display.HTML object>"
      ]
     },
     "metadata": {},
     "output_type": "display_data"
    },
    {
     "name": "stdout",
     "output_type": "stream",
     "text": [
      "true: Searching pred: Entering\n"
     ]
    },
    {
     "data": {
      "text/html": [
       "<table><tr><td><b>words</b></td><td style=\"background-color: rgb(255,255,255);\">please</td><td style=\"background-color: rgb(255,255,255);\">find</td><td style=\"background-color: rgb(255,255,255);\">the</td><td style=\"background-color: rgb(255,255,255);\">flowers</td></tr><tr><td><b>lexical_unit</b></td><td style=\"background-color: rgb(255.0000, 255,255.0000);\">0.0000</td><td style=\"background-color: rgb(0.0000, 255,0.0000);\">1.0000</td><td style=\"background-color: rgb(255.0000, 255,255.0000);\">0.0000</td><td style=\"background-color: rgb(255.0000, 255,255.0000);\">0.0000</td></tr><tr><td><b>attention_intent</b></td><td style=\"background-color: rgb(0.4625, 255,0.4625);\">0.9982</td><td style=\"background-color: rgb(254.5396, 255,254.5396);\">0.0018</td><td style=\"background-color: rgb(255.0000, 255,255.0000);\">0.0000</td><td style=\"background-color: rgb(255.0000, 255,255.0000);\">0.0000</td></tr><tr><td><b>slots_true</b></td><td style=\"background-color: rgb(255,255,255);\">O</td><td style=\"background-color: rgb(255,255,255);\">O</td><td style=\"background-color: rgb(255,255,255);\">B-Phenomenon</td><td style=\"background-color: rgb(255,255,255);\">I-Phenomenon</td></tr><tr><td><b>slots_pred</b></td><td style=\"background-color: rgb(255,255,255);\">B-Connector</td><td style=\"background-color: rgb(255,255,255);\">B-Phenomenon</td><td style=\"background-color: rgb(255,255,255);\">I-Phenomenon</td><td style=\"background-color: rgb(255,255,255);\">I-Phenomenon</td></tr></table>"
      ],
      "text/plain": [
       "<IPython.core.display.HTML object>"
      ]
     },
     "metadata": {},
     "output_type": "display_data"
    },
    {
     "name": "stdout",
     "output_type": "stream",
     "text": [
      "true: Following pred: Following\n"
     ]
    },
    {
     "data": {
      "text/html": [
       "<table><tr><td><b>words</b></td><td style=\"background-color: rgb(255,255,255);\">follow</td><td style=\"background-color: rgb(255,255,255);\">me</td></tr><tr><td><b>lexical_unit</b></td><td style=\"background-color: rgb(0.0000, 255,0.0000);\">1.0000</td><td style=\"background-color: rgb(255.0000, 255,255.0000);\">0.0000</td></tr><tr><td><b>attention_intent</b></td><td style=\"background-color: rgb(0.0128, 255,0.0128);\">0.9999</td><td style=\"background-color: rgb(254.9880, 255,254.9880);\">0.0000</td></tr><tr><td><b>slots_true</b></td><td style=\"background-color: rgb(255,255,255);\">O</td><td style=\"background-color: rgb(255,255,255);\">B-Cotheme</td></tr><tr><td><b>slots_pred</b></td><td style=\"background-color: rgb(255,255,255);\">O</td><td style=\"background-color: rgb(255,255,255);\">B-Road</td></tr></table>"
      ],
      "text/plain": [
       "<IPython.core.display.HTML object>"
      ]
     },
     "metadata": {},
     "output_type": "display_data"
    },
    {
     "name": "stdout",
     "output_type": "stream",
     "text": [
      "true: Bringing pred: Taking\n"
     ]
    },
    {
     "data": {
      "text/html": [
       "<table><tr><td><b>words</b></td><td style=\"background-color: rgb(255,255,255);\">take</td><td style=\"background-color: rgb(255,255,255);\">my</td><td style=\"background-color: rgb(255,255,255);\">cellphone</td><td style=\"background-color: rgb(255,255,255);\">to</td><td style=\"background-color: rgb(255,255,255);\">the</td><td style=\"background-color: rgb(255,255,255);\">bedroom</td></tr><tr><td><b>lexical_unit</b></td><td style=\"background-color: rgb(0.0000, 255,0.0000);\">1.0000</td><td style=\"background-color: rgb(255.0000, 255,255.0000);\">0.0000</td><td style=\"background-color: rgb(255.0000, 255,255.0000);\">0.0000</td><td style=\"background-color: rgb(255.0000, 255,255.0000);\">0.0000</td><td style=\"background-color: rgb(255.0000, 255,255.0000);\">0.0000</td><td style=\"background-color: rgb(255.0000, 255,255.0000);\">0.0000</td></tr><tr><td><b>attention_intent</b></td><td style=\"background-color: rgb(0.7898, 255,0.7898);\">0.9969</td><td style=\"background-color: rgb(254.9998, 255,254.9998);\">0.0000</td><td style=\"background-color: rgb(254.2129, 255,254.2129);\">0.0031</td><td style=\"background-color: rgb(254.9983, 255,254.9983);\">0.0000</td><td style=\"background-color: rgb(255.0000, 255,255.0000);\">0.0000</td><td style=\"background-color: rgb(255.0000, 255,255.0000);\">0.0000</td></tr><tr><td><b>slots_true</b></td><td style=\"background-color: rgb(255,255,255);\">O</td><td style=\"background-color: rgb(255,255,255);\">B-Theme</td><td style=\"background-color: rgb(255,255,255);\">I-Theme</td><td style=\"background-color: rgb(255,255,255);\">B-Goal</td><td style=\"background-color: rgb(255,255,255);\">I-Goal</td><td style=\"background-color: rgb(255,255,255);\">I-Goal</td></tr><tr><td><b>slots_pred</b></td><td style=\"background-color: rgb(255,255,255);\">O</td><td style=\"background-color: rgb(255,255,255);\">B-Theme</td><td style=\"background-color: rgb(255,255,255);\">I-Theme</td><td style=\"background-color: rgb(255,255,255);\">B-Goal</td><td style=\"background-color: rgb(255,255,255);\">I-Goal</td><td style=\"background-color: rgb(255,255,255);\">I-Goal</td></tr></table>"
      ],
      "text/plain": [
       "<IPython.core.display.HTML object>"
      ]
     },
     "metadata": {},
     "output_type": "display_data"
    },
    {
     "name": "stdout",
     "output_type": "stream",
     "text": [
      "true: Following pred: Following\n"
     ]
    },
    {
     "data": {
      "text/html": [
       "<table><tr><td><b>words</b></td><td style=\"background-color: rgb(255,255,255);\">follow</td><td style=\"background-color: rgb(255,255,255);\">my</td><td style=\"background-color: rgb(255,255,255);\">friend</td><td style=\"background-color: rgb(255,255,255);\">into</td><td style=\"background-color: rgb(255,255,255);\">the</td><td style=\"background-color: rgb(255,255,255);\">living</td><td style=\"background-color: rgb(255,255,255);\">room</td></tr><tr><td><b>lexical_unit</b></td><td style=\"background-color: rgb(0.0000, 255,0.0000);\">1.0000</td><td style=\"background-color: rgb(255.0000, 255,255.0000);\">0.0000</td><td style=\"background-color: rgb(255.0000, 255,255.0000);\">0.0000</td><td style=\"background-color: rgb(255.0000, 255,255.0000);\">0.0000</td><td style=\"background-color: rgb(255.0000, 255,255.0000);\">0.0000</td><td style=\"background-color: rgb(255.0000, 255,255.0000);\">0.0000</td><td style=\"background-color: rgb(255.0000, 255,255.0000);\">0.0000</td></tr><tr><td><b>attention_intent</b></td><td style=\"background-color: rgb(0.0054, 255,0.0054);\">1.0000</td><td style=\"background-color: rgb(255.0000, 255,255.0000);\">0.0000</td><td style=\"background-color: rgb(254.9949, 255,254.9949);\">0.0000</td><td style=\"background-color: rgb(255.0000, 255,255.0000);\">0.0000</td><td style=\"background-color: rgb(255.0000, 255,255.0000);\">0.0000</td><td style=\"background-color: rgb(255.0000, 255,255.0000);\">0.0000</td><td style=\"background-color: rgb(255.0000, 255,255.0000);\">0.0000</td></tr><tr><td><b>slots_true</b></td><td style=\"background-color: rgb(255,255,255);\">O</td><td style=\"background-color: rgb(255,255,255);\">B-Cotheme</td><td style=\"background-color: rgb(255,255,255);\">I-Cotheme</td><td style=\"background-color: rgb(255,255,255);\">B-Goal</td><td style=\"background-color: rgb(255,255,255);\">I-Goal</td><td style=\"background-color: rgb(255,255,255);\">I-Goal</td><td style=\"background-color: rgb(255,255,255);\">I-Goal</td></tr><tr><td><b>slots_pred</b></td><td style=\"background-color: rgb(255,255,255);\">O</td><td style=\"background-color: rgb(255,255,255);\">B-Path</td><td style=\"background-color: rgb(255,255,255);\">I-Path</td><td style=\"background-color: rgb(255,255,255);\">B-Path</td><td style=\"background-color: rgb(255,255,255);\">I-Path</td><td style=\"background-color: rgb(255,255,255);\">I-Path</td><td style=\"background-color: rgb(255,255,255);\">I-Path</td></tr></table>"
      ],
      "text/plain": [
       "<IPython.core.display.HTML object>"
      ]
     },
     "metadata": {},
     "output_type": "display_data"
    },
    {
     "name": "stdout",
     "output_type": "stream",
     "text": [
      "true: Motion pred: Following\n"
     ]
    },
    {
     "data": {
      "text/html": [
       "<table><tr><td><b>words</b></td><td style=\"background-color: rgb(255,255,255);\">could</td><td style=\"background-color: rgb(255,255,255);\">you</td><td style=\"background-color: rgb(255,255,255);\">please</td><td style=\"background-color: rgb(255,255,255);\">move</td><td style=\"background-color: rgb(255,255,255);\">to</td><td style=\"background-color: rgb(255,255,255);\">the</td><td style=\"background-color: rgb(255,255,255);\">sink</td></tr><tr><td><b>lexical_unit</b></td><td style=\"background-color: rgb(255.0000, 255,255.0000);\">0.0000</td><td style=\"background-color: rgb(255.0000, 255,255.0000);\">0.0000</td><td style=\"background-color: rgb(255.0000, 255,255.0000);\">0.0000</td><td style=\"background-color: rgb(0.0000, 255,0.0000);\">1.0000</td><td style=\"background-color: rgb(255.0000, 255,255.0000);\">0.0000</td><td style=\"background-color: rgb(255.0000, 255,255.0000);\">0.0000</td><td style=\"background-color: rgb(255.0000, 255,255.0000);\">0.0000</td></tr><tr><td><b>attention_intent</b></td><td style=\"background-color: rgb(255.0000, 255,255.0000);\">0.0000</td><td style=\"background-color: rgb(254.9984, 255,254.9984);\">0.0000</td><td style=\"background-color: rgb(37.2519, 255,37.2519);\">0.8539</td><td style=\"background-color: rgb(217.9468, 255,217.9468);\">0.1453</td><td style=\"background-color: rgb(254.9960, 255,254.9960);\">0.0000</td><td style=\"background-color: rgb(254.9999, 255,254.9999);\">0.0000</td><td style=\"background-color: rgb(254.8079, 255,254.8079);\">0.0008</td></tr><tr><td><b>slots_true</b></td><td style=\"background-color: rgb(255,255,255);\">O</td><td style=\"background-color: rgb(255,255,255);\">B-Theme</td><td style=\"background-color: rgb(255,255,255);\">O</td><td style=\"background-color: rgb(255,255,255);\">O</td><td style=\"background-color: rgb(255,255,255);\">B-Goal</td><td style=\"background-color: rgb(255,255,255);\">I-Goal</td><td style=\"background-color: rgb(255,255,255);\">I-Goal</td></tr><tr><td><b>slots_pred</b></td><td style=\"background-color: rgb(255,255,255);\">B-Theme</td><td style=\"background-color: rgb(255,255,255);\">O</td><td style=\"background-color: rgb(255,255,255);\">O</td><td style=\"background-color: rgb(255,255,255);\">O</td><td style=\"background-color: rgb(255,255,255);\">B-Goal</td><td style=\"background-color: rgb(255,255,255);\">I-Goal</td><td style=\"background-color: rgb(255,255,255);\">I-Goal</td></tr></table>"
      ],
      "text/plain": [
       "<IPython.core.display.HTML object>"
      ]
     },
     "metadata": {},
     "output_type": "display_data"
    },
    {
     "name": "stdout",
     "output_type": "stream",
     "text": [
      "true: Taking pred: Taking\n"
     ]
    },
    {
     "data": {
      "text/html": [
       "<table><tr><td><b>words</b></td><td style=\"background-color: rgb(255,255,255);\">john</td><td style=\"background-color: rgb(255,255,255);\">can</td><td style=\"background-color: rgb(255,255,255);\">you</td><td style=\"background-color: rgb(255,255,255);\">take</td><td style=\"background-color: rgb(255,255,255);\">the</td><td style=\"background-color: rgb(255,255,255);\">mug</td><td style=\"background-color: rgb(255,255,255);\">in</td><td style=\"background-color: rgb(255,255,255);\">the</td><td style=\"background-color: rgb(255,255,255);\">kitchen</td></tr><tr><td><b>lexical_unit</b></td><td style=\"background-color: rgb(255.0000, 255,255.0000);\">0.0000</td><td style=\"background-color: rgb(255.0000, 255,255.0000);\">0.0000</td><td style=\"background-color: rgb(255.0000, 255,255.0000);\">0.0000</td><td style=\"background-color: rgb(0.0000, 255,0.0000);\">1.0000</td><td style=\"background-color: rgb(255.0000, 255,255.0000);\">0.0000</td><td style=\"background-color: rgb(255.0000, 255,255.0000);\">0.0000</td><td style=\"background-color: rgb(255.0000, 255,255.0000);\">0.0000</td><td style=\"background-color: rgb(255.0000, 255,255.0000);\">0.0000</td><td style=\"background-color: rgb(255.0000, 255,255.0000);\">0.0000</td></tr><tr><td><b>attention_intent</b></td><td style=\"background-color: rgb(254.9649, 255,254.9649);\">0.0001</td><td style=\"background-color: rgb(254.9991, 255,254.9991);\">0.0000</td><td style=\"background-color: rgb(254.9725, 255,254.9725);\">0.0001</td><td style=\"background-color: rgb(0.9843, 255,0.9843);\">0.9961</td><td style=\"background-color: rgb(255.0000, 255,255.0000);\">0.0000</td><td style=\"background-color: rgb(254.0799, 255,254.0799);\">0.0036</td><td style=\"background-color: rgb(255.0000, 255,255.0000);\">0.0000</td><td style=\"background-color: rgb(255.0000, 255,255.0000);\">0.0000</td><td style=\"background-color: rgb(255.0000, 255,255.0000);\">0.0000</td></tr><tr><td><b>slots_true</b></td><td style=\"background-color: rgb(255,255,255);\">O</td><td style=\"background-color: rgb(255,255,255);\">O</td><td style=\"background-color: rgb(255,255,255);\">B-Agent</td><td style=\"background-color: rgb(255,255,255);\">O</td><td style=\"background-color: rgb(255,255,255);\">B-Theme</td><td style=\"background-color: rgb(255,255,255);\">I-Theme</td><td style=\"background-color: rgb(255,255,255);\">I-Theme</td><td style=\"background-color: rgb(255,255,255);\">I-Theme</td><td style=\"background-color: rgb(255,255,255);\">I-Theme</td></tr><tr><td><b>slots_pred</b></td><td style=\"background-color: rgb(255,255,255);\">B-Agent</td><td style=\"background-color: rgb(255,255,255);\">O</td><td style=\"background-color: rgb(255,255,255);\">O</td><td style=\"background-color: rgb(255,255,255);\">O</td><td style=\"background-color: rgb(255,255,255);\">B-Goal</td><td style=\"background-color: rgb(255,255,255);\">I-Goal</td><td style=\"background-color: rgb(255,255,255);\">I-Goal</td><td style=\"background-color: rgb(255,255,255);\">I-Goal</td><td style=\"background-color: rgb(255,255,255);\">I-Goal</td></tr></table>"
      ],
      "text/plain": [
       "<IPython.core.display.HTML object>"
      ]
     },
     "metadata": {},
     "output_type": "display_data"
    },
    {
     "name": "stdout",
     "output_type": "stream",
     "text": [
      "true: Following pred: Following\n"
     ]
    },
    {
     "data": {
      "text/html": [
       "<table><tr><td><b>words</b></td><td style=\"background-color: rgb(255,255,255);\">would</td><td style=\"background-color: rgb(255,255,255);\">you</td><td style=\"background-color: rgb(255,255,255);\">please</td><td style=\"background-color: rgb(255,255,255);\">follow</td><td style=\"background-color: rgb(255,255,255);\">me</td><td style=\"background-color: rgb(255,255,255);\">to</td><td style=\"background-color: rgb(255,255,255);\">the</td><td style=\"background-color: rgb(255,255,255);\">kitchen</td></tr><tr><td><b>lexical_unit</b></td><td style=\"background-color: rgb(255.0000, 255,255.0000);\">0.0000</td><td style=\"background-color: rgb(255.0000, 255,255.0000);\">0.0000</td><td style=\"background-color: rgb(255.0000, 255,255.0000);\">0.0000</td><td style=\"background-color: rgb(0.0000, 255,0.0000);\">1.0000</td><td style=\"background-color: rgb(255.0000, 255,255.0000);\">0.0000</td><td style=\"background-color: rgb(255.0000, 255,255.0000);\">0.0000</td><td style=\"background-color: rgb(255.0000, 255,255.0000);\">0.0000</td><td style=\"background-color: rgb(255.0000, 255,255.0000);\">0.0000</td></tr><tr><td><b>attention_intent</b></td><td style=\"background-color: rgb(254.9999, 255,254.9999);\">0.0000</td><td style=\"background-color: rgb(255.0000, 255,255.0000);\">0.0000</td><td style=\"background-color: rgb(240.0256, 255,240.0256);\">0.0587</td><td style=\"background-color: rgb(15.5933, 255,15.5933);\">0.9388</td><td style=\"background-color: rgb(254.3984, 255,254.3984);\">0.0024</td><td style=\"background-color: rgb(254.9832, 255,254.9832);\">0.0001</td><td style=\"background-color: rgb(255.0000, 255,255.0000);\">0.0000</td><td style=\"background-color: rgb(255.0000, 255,255.0000);\">0.0000</td></tr><tr><td><b>slots_true</b></td><td style=\"background-color: rgb(255,255,255);\">O</td><td style=\"background-color: rgb(255,255,255);\">B-Theme</td><td style=\"background-color: rgb(255,255,255);\">O</td><td style=\"background-color: rgb(255,255,255);\">O</td><td style=\"background-color: rgb(255,255,255);\">B-Cotheme</td><td style=\"background-color: rgb(255,255,255);\">B-Goal</td><td style=\"background-color: rgb(255,255,255);\">I-Goal</td><td style=\"background-color: rgb(255,255,255);\">I-Goal</td></tr><tr><td><b>slots_pred</b></td><td style=\"background-color: rgb(255,255,255);\">B-Theme</td><td style=\"background-color: rgb(255,255,255);\">O</td><td style=\"background-color: rgb(255,255,255);\">O</td><td style=\"background-color: rgb(255,255,255);\">O</td><td style=\"background-color: rgb(255,255,255);\">B-Cotheme</td><td style=\"background-color: rgb(255,255,255);\">B-Goal</td><td style=\"background-color: rgb(255,255,255);\">I-Goal</td><td style=\"background-color: rgb(255,255,255);\">I-Goal</td></tr></table>"
      ],
      "text/plain": [
       "<IPython.core.display.HTML object>"
      ]
     },
     "metadata": {},
     "output_type": "display_data"
    },
    {
     "name": "stdout",
     "output_type": "stream",
     "text": [
      "true: Searching pred: Perception_active\n"
     ]
    },
    {
     "data": {
      "text/html": [
       "<table><tr><td><b>words</b></td><td style=\"background-color: rgb(255,255,255);\">find</td><td style=\"background-color: rgb(255,255,255);\">the</td><td style=\"background-color: rgb(255,255,255);\">glasses</td><td style=\"background-color: rgb(255,255,255);\">on</td><td style=\"background-color: rgb(255,255,255);\">the</td><td style=\"background-color: rgb(255,255,255);\">table</td></tr><tr><td><b>lexical_unit</b></td><td style=\"background-color: rgb(0.0000, 255,0.0000);\">1.0000</td><td style=\"background-color: rgb(255.0000, 255,255.0000);\">0.0000</td><td style=\"background-color: rgb(255.0000, 255,255.0000);\">0.0000</td><td style=\"background-color: rgb(255.0000, 255,255.0000);\">0.0000</td><td style=\"background-color: rgb(255.0000, 255,255.0000);\">0.0000</td><td style=\"background-color: rgb(255.0000, 255,255.0000);\">0.0000</td></tr><tr><td><b>attention_intent</b></td><td style=\"background-color: rgb(254.5552, 255,254.5552);\">0.0017</td><td style=\"background-color: rgb(255.0000, 255,255.0000);\">0.0000</td><td style=\"background-color: rgb(0.4508, 255,0.4508);\">0.9982</td><td style=\"background-color: rgb(254.9988, 255,254.9988);\">0.0000</td><td style=\"background-color: rgb(255.0000, 255,255.0000);\">0.0000</td><td style=\"background-color: rgb(254.9985, 255,254.9985);\">0.0000</td></tr><tr><td><b>slots_true</b></td><td style=\"background-color: rgb(255,255,255);\">O</td><td style=\"background-color: rgb(255,255,255);\">B-Phenomenon</td><td style=\"background-color: rgb(255,255,255);\">I-Phenomenon</td><td style=\"background-color: rgb(255,255,255);\">B-Ground</td><td style=\"background-color: rgb(255,255,255);\">I-Ground</td><td style=\"background-color: rgb(255,255,255);\">I-Ground</td></tr><tr><td><b>slots_pred</b></td><td style=\"background-color: rgb(255,255,255);\">O</td><td style=\"background-color: rgb(255,255,255);\">B-Phenomenon</td><td style=\"background-color: rgb(255,255,255);\">I-Phenomenon</td><td style=\"background-color: rgb(255,255,255);\">B-Phenomenon</td><td style=\"background-color: rgb(255,255,255);\">I-Phenomenon</td><td style=\"background-color: rgb(255,255,255);\">I-Phenomenon</td></tr></table>"
      ],
      "text/plain": [
       "<IPython.core.display.HTML object>"
      ]
     },
     "metadata": {},
     "output_type": "display_data"
    },
    {
     "name": "stdout",
     "output_type": "stream",
     "text": [
      "true: Placing pred: Placing\n"
     ]
    },
    {
     "data": {
      "text/html": [
       "<table><tr><td><b>words</b></td><td style=\"background-color: rgb(255,255,255);\">put</td><td style=\"background-color: rgb(255,255,255);\">my</td><td style=\"background-color: rgb(255,255,255);\">mobile</td><td style=\"background-color: rgb(255,255,255);\">phone</td><td style=\"background-color: rgb(255,255,255);\">on</td><td style=\"background-color: rgb(255,255,255);\">the</td><td style=\"background-color: rgb(255,255,255);\">kitchen</td><td style=\"background-color: rgb(255,255,255);\">table</td></tr><tr><td><b>lexical_unit</b></td><td style=\"background-color: rgb(0.0000, 255,0.0000);\">1.0000</td><td style=\"background-color: rgb(255.0000, 255,255.0000);\">0.0000</td><td style=\"background-color: rgb(255.0000, 255,255.0000);\">0.0000</td><td style=\"background-color: rgb(255.0000, 255,255.0000);\">0.0000</td><td style=\"background-color: rgb(255.0000, 255,255.0000);\">0.0000</td><td style=\"background-color: rgb(255.0000, 255,255.0000);\">0.0000</td><td style=\"background-color: rgb(255.0000, 255,255.0000);\">0.0000</td><td style=\"background-color: rgb(255.0000, 255,255.0000);\">0.0000</td></tr><tr><td><b>attention_intent</b></td><td style=\"background-color: rgb(50.7730, 255,50.7730);\">0.8009</td><td style=\"background-color: rgb(255.0000, 255,255.0000);\">0.0000</td><td style=\"background-color: rgb(204.2510, 255,204.2510);\">0.1990</td><td style=\"background-color: rgb(254.9770, 255,254.9770);\">0.0001</td><td style=\"background-color: rgb(254.9993, 255,254.9993);\">0.0000</td><td style=\"background-color: rgb(255.0000, 255,255.0000);\">0.0000</td><td style=\"background-color: rgb(255.0000, 255,255.0000);\">0.0000</td><td style=\"background-color: rgb(255.0000, 255,255.0000);\">0.0000</td></tr><tr><td><b>slots_true</b></td><td style=\"background-color: rgb(255,255,255);\">O</td><td style=\"background-color: rgb(255,255,255);\">B-Theme</td><td style=\"background-color: rgb(255,255,255);\">I-Theme</td><td style=\"background-color: rgb(255,255,255);\">I-Theme</td><td style=\"background-color: rgb(255,255,255);\">B-Goal</td><td style=\"background-color: rgb(255,255,255);\">I-Goal</td><td style=\"background-color: rgb(255,255,255);\">I-Goal</td><td style=\"background-color: rgb(255,255,255);\">I-Goal</td></tr><tr><td><b>slots_pred</b></td><td style=\"background-color: rgb(255,255,255);\">O</td><td style=\"background-color: rgb(255,255,255);\">B-Theme</td><td style=\"background-color: rgb(255,255,255);\">B-Theme</td><td style=\"background-color: rgb(255,255,255);\">O</td><td style=\"background-color: rgb(255,255,255);\">B-Goal</td><td style=\"background-color: rgb(255,255,255);\">I-Goal</td><td style=\"background-color: rgb(255,255,255);\">I-Goal</td><td style=\"background-color: rgb(255,255,255);\">I-Goal</td></tr></table>"
      ],
      "text/plain": [
       "<IPython.core.display.HTML object>"
      ]
     },
     "metadata": {},
     "output_type": "display_data"
    },
    {
     "name": "stdout",
     "output_type": "stream",
     "text": [
      "true: Bringing pred: Bringing\n"
     ]
    },
    {
     "data": {
      "text/html": [
       "<table><tr><td><b>words</b></td><td style=\"background-color: rgb(255,255,255);\">and</td><td style=\"background-color: rgb(255,255,255);\">bring</td><td style=\"background-color: rgb(255,255,255);\">it</td><td style=\"background-color: rgb(255,255,255);\">to</td><td style=\"background-color: rgb(255,255,255);\">me</td></tr><tr><td><b>lexical_unit</b></td><td style=\"background-color: rgb(255.0000, 255,255.0000);\">0.0000</td><td style=\"background-color: rgb(0.0000, 255,0.0000);\">1.0000</td><td style=\"background-color: rgb(255.0000, 255,255.0000);\">0.0000</td><td style=\"background-color: rgb(255.0000, 255,255.0000);\">0.0000</td><td style=\"background-color: rgb(255.0000, 255,255.0000);\">0.0000</td></tr><tr><td><b>attention_intent</b></td><td style=\"background-color: rgb(254.9990, 255,254.9990);\">0.0000</td><td style=\"background-color: rgb(0.4795, 255,0.4795);\">0.9981</td><td style=\"background-color: rgb(254.9998, 255,254.9998);\">0.0000</td><td style=\"background-color: rgb(254.9980, 255,254.9980);\">0.0000</td><td style=\"background-color: rgb(254.5258, 255,254.5258);\">0.0019</td></tr><tr><td><b>slots_true</b></td><td style=\"background-color: rgb(255,255,255);\">O</td><td style=\"background-color: rgb(255,255,255);\">O</td><td style=\"background-color: rgb(255,255,255);\">B-Theme</td><td style=\"background-color: rgb(255,255,255);\">B-Beneficiary</td><td style=\"background-color: rgb(255,255,255);\">I-Beneficiary</td></tr><tr><td><b>slots_pred</b></td><td style=\"background-color: rgb(255,255,255);\">B-Agent</td><td style=\"background-color: rgb(255,255,255);\">O</td><td style=\"background-color: rgb(255,255,255);\">B-Theme</td><td style=\"background-color: rgb(255,255,255);\">B-Theme</td><td style=\"background-color: rgb(255,255,255);\">I-Theme</td></tr></table>"
      ],
      "text/plain": [
       "<IPython.core.display.HTML object>"
      ]
     },
     "metadata": {},
     "output_type": "display_data"
    },
    {
     "name": "stdout",
     "output_type": "stream",
     "text": [
      "true: Searching pred: Entering\n"
     ]
    },
    {
     "data": {
      "text/html": [
       "<table><tr><td><b>words</b></td><td style=\"background-color: rgb(255,255,255);\">can</td><td style=\"background-color: rgb(255,255,255);\">you</td><td style=\"background-color: rgb(255,255,255);\">please</td><td style=\"background-color: rgb(255,255,255);\">search</td><td style=\"background-color: rgb(255,255,255);\">the</td><td style=\"background-color: rgb(255,255,255);\">book</td></tr><tr><td><b>lexical_unit</b></td><td style=\"background-color: rgb(255.0000, 255,255.0000);\">0.0000</td><td style=\"background-color: rgb(255.0000, 255,255.0000);\">0.0000</td><td style=\"background-color: rgb(255.0000, 255,255.0000);\">0.0000</td><td style=\"background-color: rgb(0.0000, 255,0.0000);\">1.0000</td><td style=\"background-color: rgb(255.0000, 255,255.0000);\">0.0000</td><td style=\"background-color: rgb(255.0000, 255,255.0000);\">0.0000</td></tr><tr><td><b>attention_intent</b></td><td style=\"background-color: rgb(254.9979, 255,254.9979);\">0.0000</td><td style=\"background-color: rgb(254.9832, 255,254.9832);\">0.0001</td><td style=\"background-color: rgb(44.8675, 255,44.8675);\">0.8240</td><td style=\"background-color: rgb(210.1523, 255,210.1523);\">0.1759</td><td style=\"background-color: rgb(255.0000, 255,255.0000);\">0.0000</td><td style=\"background-color: rgb(255.0000, 255,255.0000);\">0.0000</td></tr><tr><td><b>slots_true</b></td><td style=\"background-color: rgb(255,255,255);\">O</td><td style=\"background-color: rgb(255,255,255);\">B-Cognizer</td><td style=\"background-color: rgb(255,255,255);\">O</td><td style=\"background-color: rgb(255,255,255);\">O</td><td style=\"background-color: rgb(255,255,255);\">B-Phenomenon</td><td style=\"background-color: rgb(255,255,255);\">I-Phenomenon</td></tr><tr><td><b>slots_pred</b></td><td style=\"background-color: rgb(255,255,255);\">B-Donor</td><td style=\"background-color: rgb(255,255,255);\">O</td><td style=\"background-color: rgb(255,255,255);\">O</td><td style=\"background-color: rgb(255,255,255);\">B-Ground</td><td style=\"background-color: rgb(255,255,255);\">I-Ground</td><td style=\"background-color: rgb(255,255,255);\">I-Ground</td></tr></table>"
      ],
      "text/plain": [
       "<IPython.core.display.HTML object>"
      ]
     },
     "metadata": {},
     "output_type": "display_data"
    },
    {
     "name": "stdout",
     "output_type": "stream",
     "text": [
      "true: Motion pred: Motion\n"
     ]
    },
    {
     "data": {
      "text/html": [
       "<table><tr><td><b>words</b></td><td style=\"background-color: rgb(255,255,255);\">please</td><td style=\"background-color: rgb(255,255,255);\">go</td><td style=\"background-color: rgb(255,255,255);\">to</td><td style=\"background-color: rgb(255,255,255);\">the</td><td style=\"background-color: rgb(255,255,255);\">sink</td></tr><tr><td><b>lexical_unit</b></td><td style=\"background-color: rgb(255.0000, 255,255.0000);\">0.0000</td><td style=\"background-color: rgb(0.0000, 255,0.0000);\">1.0000</td><td style=\"background-color: rgb(255.0000, 255,255.0000);\">0.0000</td><td style=\"background-color: rgb(255.0000, 255,255.0000);\">0.0000</td><td style=\"background-color: rgb(255.0000, 255,255.0000);\">0.0000</td></tr><tr><td><b>attention_intent</b></td><td style=\"background-color: rgb(178.9362, 255,178.9362);\">0.2983</td><td style=\"background-color: rgb(76.1754, 255,76.1754);\">0.7013</td><td style=\"background-color: rgb(254.9755, 255,254.9755);\">0.0001</td><td style=\"background-color: rgb(254.9996, 255,254.9996);\">0.0000</td><td style=\"background-color: rgb(254.9139, 255,254.9139);\">0.0003</td></tr><tr><td><b>slots_true</b></td><td style=\"background-color: rgb(255,255,255);\">O</td><td style=\"background-color: rgb(255,255,255);\">O</td><td style=\"background-color: rgb(255,255,255);\">B-Goal</td><td style=\"background-color: rgb(255,255,255);\">I-Goal</td><td style=\"background-color: rgb(255,255,255);\">I-Goal</td></tr><tr><td><b>slots_pred</b></td><td style=\"background-color: rgb(255,255,255);\">B-Theme</td><td style=\"background-color: rgb(255,255,255);\">O</td><td style=\"background-color: rgb(255,255,255);\">B-Goal</td><td style=\"background-color: rgb(255,255,255);\">I-Goal</td><td style=\"background-color: rgb(255,255,255);\">I-Goal</td></tr></table>"
      ],
      "text/plain": [
       "<IPython.core.display.HTML object>"
      ]
     },
     "metadata": {},
     "output_type": "display_data"
    },
    {
     "name": "stdout",
     "output_type": "stream",
     "text": [
      "true: Motion pred: Motion\n"
     ]
    },
    {
     "data": {
      "text/html": [
       "<table><tr><td><b>words</b></td><td style=\"background-color: rgb(255,255,255);\">move</td><td style=\"background-color: rgb(255,255,255);\">near</td><td style=\"background-color: rgb(255,255,255);\">the</td><td style=\"background-color: rgb(255,255,255);\">television</td><td style=\"background-color: rgb(255,255,255);\">of</td><td style=\"background-color: rgb(255,255,255);\">the</td><td style=\"background-color: rgb(255,255,255);\">kitchen</td></tr><tr><td><b>lexical_unit</b></td><td style=\"background-color: rgb(0.0000, 255,0.0000);\">1.0000</td><td style=\"background-color: rgb(255.0000, 255,255.0000);\">0.0000</td><td style=\"background-color: rgb(255.0000, 255,255.0000);\">0.0000</td><td style=\"background-color: rgb(255.0000, 255,255.0000);\">0.0000</td><td style=\"background-color: rgb(255.0000, 255,255.0000);\">0.0000</td><td style=\"background-color: rgb(255.0000, 255,255.0000);\">0.0000</td><td style=\"background-color: rgb(255.0000, 255,255.0000);\">0.0000</td></tr><tr><td><b>attention_intent</b></td><td style=\"background-color: rgb(5.8348, 255,5.8348);\">0.9771</td><td style=\"background-color: rgb(249.1741, 255,249.1741);\">0.0228</td><td style=\"background-color: rgb(255.0000, 255,255.0000);\">0.0000</td><td style=\"background-color: rgb(254.9984, 255,254.9984);\">0.0000</td><td style=\"background-color: rgb(255.0000, 255,255.0000);\">0.0000</td><td style=\"background-color: rgb(255.0000, 255,255.0000);\">0.0000</td><td style=\"background-color: rgb(255.0000, 255,255.0000);\">0.0000</td></tr><tr><td><b>slots_true</b></td><td style=\"background-color: rgb(255,255,255);\">O</td><td style=\"background-color: rgb(255,255,255);\">B-Goal</td><td style=\"background-color: rgb(255,255,255);\">I-Goal</td><td style=\"background-color: rgb(255,255,255);\">I-Goal</td><td style=\"background-color: rgb(255,255,255);\">I-Goal</td><td style=\"background-color: rgb(255,255,255);\">I-Goal</td><td style=\"background-color: rgb(255,255,255);\">I-Goal</td></tr><tr><td><b>slots_pred</b></td><td style=\"background-color: rgb(255,255,255);\">O</td><td style=\"background-color: rgb(255,255,255);\">B-Path</td><td style=\"background-color: rgb(255,255,255);\">I-Path</td><td style=\"background-color: rgb(255,255,255);\">I-Path</td><td style=\"background-color: rgb(255,255,255);\">I-Path</td><td style=\"background-color: rgb(255,255,255);\">I-Path</td><td style=\"background-color: rgb(255,255,255);\">I-Path</td></tr></table>"
      ],
      "text/plain": [
       "<IPython.core.display.HTML object>"
      ]
     },
     "metadata": {},
     "output_type": "display_data"
    },
    {
     "name": "stdout",
     "output_type": "stream",
     "text": [
      "true: Motion pred: Motion\n"
     ]
    },
    {
     "data": {
      "text/html": [
       "<table><tr><td><b>words</b></td><td style=\"background-color: rgb(255,255,255);\">go</td><td style=\"background-color: rgb(255,255,255);\">to</td><td style=\"background-color: rgb(255,255,255);\">living</td><td style=\"background-color: rgb(255,255,255);\">room</td></tr><tr><td><b>lexical_unit</b></td><td style=\"background-color: rgb(0.0000, 255,0.0000);\">1.0000</td><td style=\"background-color: rgb(255.0000, 255,255.0000);\">0.0000</td><td style=\"background-color: rgb(255.0000, 255,255.0000);\">0.0000</td><td style=\"background-color: rgb(255.0000, 255,255.0000);\">0.0000</td></tr><tr><td><b>attention_intent</b></td><td style=\"background-color: rgb(0.0025, 255,0.0025);\">1.0000</td><td style=\"background-color: rgb(254.9982, 255,254.9982);\">0.0000</td><td style=\"background-color: rgb(255.0000, 255,255.0000);\">0.0000</td><td style=\"background-color: rgb(255.0000, 255,255.0000);\">0.0000</td></tr><tr><td><b>slots_true</b></td><td style=\"background-color: rgb(255,255,255);\">O</td><td style=\"background-color: rgb(255,255,255);\">B-Goal</td><td style=\"background-color: rgb(255,255,255);\">I-Goal</td><td style=\"background-color: rgb(255,255,255);\">I-Goal</td></tr><tr><td><b>slots_pred</b></td><td style=\"background-color: rgb(255,255,255);\">O</td><td style=\"background-color: rgb(255,255,255);\">B-Goal</td><td style=\"background-color: rgb(255,255,255);\">I-Goal</td><td style=\"background-color: rgb(255,255,255);\">I-Goal</td></tr></table>"
      ],
      "text/plain": [
       "<IPython.core.display.HTML object>"
      ]
     },
     "metadata": {},
     "output_type": "display_data"
    },
    {
     "name": "stdout",
     "output_type": "stream",
     "text": [
      "true: Taking pred: Taking\n"
     ]
    },
    {
     "data": {
      "text/html": [
       "<table><tr><td><b>words</b></td><td style=\"background-color: rgb(255,255,255);\">take</td><td style=\"background-color: rgb(255,255,255);\">the</td><td style=\"background-color: rgb(255,255,255);\">remote</td><td style=\"background-color: rgb(255,255,255);\">control</td></tr><tr><td><b>lexical_unit</b></td><td style=\"background-color: rgb(0.0000, 255,0.0000);\">1.0000</td><td style=\"background-color: rgb(255.0000, 255,255.0000);\">0.0000</td><td style=\"background-color: rgb(255.0000, 255,255.0000);\">0.0000</td><td style=\"background-color: rgb(255.0000, 255,255.0000);\">0.0000</td></tr><tr><td><b>attention_intent</b></td><td style=\"background-color: rgb(32.7572, 255,32.7572);\">0.8715</td><td style=\"background-color: rgb(254.9996, 255,254.9996);\">0.0000</td><td style=\"background-color: rgb(222.2439, 255,222.2439);\">0.1285</td><td style=\"background-color: rgb(255.0000, 255,255.0000);\">0.0000</td></tr><tr><td><b>slots_true</b></td><td style=\"background-color: rgb(255,255,255);\">O</td><td style=\"background-color: rgb(255,255,255);\">B-Theme</td><td style=\"background-color: rgb(255,255,255);\">I-Theme</td><td style=\"background-color: rgb(255,255,255);\">I-Theme</td></tr><tr><td><b>slots_pred</b></td><td style=\"background-color: rgb(255,255,255);\">O</td><td style=\"background-color: rgb(255,255,255);\">B-Theme</td><td style=\"background-color: rgb(255,255,255);\">I-Theme</td><td style=\"background-color: rgb(255,255,255);\">I-Theme</td></tr></table>"
      ],
      "text/plain": [
       "<IPython.core.display.HTML object>"
      ]
     },
     "metadata": {},
     "output_type": "display_data"
    },
    {
     "name": "stdout",
     "output_type": "stream",
     "text": [
      "true: Closure pred: Placing\n"
     ]
    },
    {
     "data": {
      "text/html": [
       "<table><tr><td><b>words</b></td><td style=\"background-color: rgb(255,255,255);\">and</td><td style=\"background-color: rgb(255,255,255);\">open</td><td style=\"background-color: rgb(255,255,255);\">it</td></tr><tr><td><b>lexical_unit</b></td><td style=\"background-color: rgb(255.0000, 255,255.0000);\">0.0000</td><td style=\"background-color: rgb(0.0000, 255,0.0000);\">1.0000</td><td style=\"background-color: rgb(255.0000, 255,255.0000);\">0.0000</td></tr><tr><td><b>attention_intent</b></td><td style=\"background-color: rgb(254.7121, 255,254.7121);\">0.0011</td><td style=\"background-color: rgb(63.8221, 255,63.8221);\">0.7497</td><td style=\"background-color: rgb(254.9995, 255,254.9995);\">0.0000</td></tr><tr><td><b>slots_true</b></td><td style=\"background-color: rgb(255,255,255);\">O</td><td style=\"background-color: rgb(255,255,255);\">O</td><td style=\"background-color: rgb(255,255,255);\">B-Container_portal</td></tr><tr><td><b>slots_pred</b></td><td style=\"background-color: rgb(255,255,255);\">B-Theme</td><td style=\"background-color: rgb(255,255,255);\">O</td><td style=\"background-color: rgb(255,255,255);\">O</td></tr></table>"
      ],
      "text/plain": [
       "<IPython.core.display.HTML object>"
      ]
     },
     "metadata": {},
     "output_type": "display_data"
    },
    {
     "name": "stdout",
     "output_type": "stream",
     "text": [
      "true: Entering pred: Entering\n"
     ]
    },
    {
     "data": {
      "text/html": [
       "<table><tr><td><b>words</b></td><td style=\"background-color: rgb(255,255,255);\">enter</td><td style=\"background-color: rgb(255,255,255);\">the</td><td style=\"background-color: rgb(255,255,255);\">door</td></tr><tr><td><b>lexical_unit</b></td><td style=\"background-color: rgb(0.0000, 255,0.0000);\">1.0000</td><td style=\"background-color: rgb(255.0000, 255,255.0000);\">0.0000</td><td style=\"background-color: rgb(255.0000, 255,255.0000);\">0.0000</td></tr><tr><td><b>attention_intent</b></td><td style=\"background-color: rgb(0.0011, 255,0.0011);\">1.0000</td><td style=\"background-color: rgb(254.9996, 255,254.9996);\">0.0000</td><td style=\"background-color: rgb(254.9996, 255,254.9996);\">0.0000</td></tr><tr><td><b>slots_true</b></td><td style=\"background-color: rgb(255,255,255);\">O</td><td style=\"background-color: rgb(255,255,255);\">B-Goal</td><td style=\"background-color: rgb(255,255,255);\">I-Goal</td></tr><tr><td><b>slots_pred</b></td><td style=\"background-color: rgb(255,255,255);\">O</td><td style=\"background-color: rgb(255,255,255);\">B-Goal</td><td style=\"background-color: rgb(255,255,255);\">I-Goal</td></tr></table>"
      ],
      "text/plain": [
       "<IPython.core.display.HTML object>"
      ]
     },
     "metadata": {},
     "output_type": "display_data"
    },
    {
     "name": "stdout",
     "output_type": "stream",
     "text": [
      "true: Bringing pred: Bringing\n"
     ]
    },
    {
     "data": {
      "text/html": [
       "<table><tr><td><b>words</b></td><td style=\"background-color: rgb(255,255,255);\">carry</td><td style=\"background-color: rgb(255,255,255);\">the</td><td style=\"background-color: rgb(255,255,255);\">laptop</td><td style=\"background-color: rgb(255,255,255);\">to</td><td style=\"background-color: rgb(255,255,255);\">daniele</td></tr><tr><td><b>lexical_unit</b></td><td style=\"background-color: rgb(0.0000, 255,0.0000);\">1.0000</td><td style=\"background-color: rgb(255.0000, 255,255.0000);\">0.0000</td><td style=\"background-color: rgb(255.0000, 255,255.0000);\">0.0000</td><td style=\"background-color: rgb(255.0000, 255,255.0000);\">0.0000</td><td style=\"background-color: rgb(255.0000, 255,255.0000);\">0.0000</td></tr><tr><td><b>attention_intent</b></td><td style=\"background-color: rgb(11.0866, 255,11.0866);\">0.9565</td><td style=\"background-color: rgb(255.0000, 255,255.0000);\">0.0000</td><td style=\"background-color: rgb(243.9146, 255,243.9146);\">0.0435</td><td style=\"background-color: rgb(255.0000, 255,255.0000);\">0.0000</td><td style=\"background-color: rgb(254.9999, 255,254.9999);\">0.0000</td></tr><tr><td><b>slots_true</b></td><td style=\"background-color: rgb(255,255,255);\">O</td><td style=\"background-color: rgb(255,255,255);\">B-Theme</td><td style=\"background-color: rgb(255,255,255);\">I-Theme</td><td style=\"background-color: rgb(255,255,255);\">B-Beneficiary</td><td style=\"background-color: rgb(255,255,255);\">I-Beneficiary</td></tr><tr><td><b>slots_pred</b></td><td style=\"background-color: rgb(255,255,255);\">O</td><td style=\"background-color: rgb(255,255,255);\">B-Theme</td><td style=\"background-color: rgb(255,255,255);\">I-Theme</td><td style=\"background-color: rgb(255,255,255);\">B-Goal</td><td style=\"background-color: rgb(255,255,255);\">I-Goal</td></tr></table>"
      ],
      "text/plain": [
       "<IPython.core.display.HTML object>"
      ]
     },
     "metadata": {},
     "output_type": "display_data"
    },
    {
     "name": "stdout",
     "output_type": "stream",
     "text": [
      "true: Motion pred: Motion\n"
     ]
    },
    {
     "data": {
      "text/html": [
       "<table><tr><td><b>words</b></td><td style=\"background-color: rgb(255,255,255);\">go</td><td style=\"background-color: rgb(255,255,255);\">to</td><td style=\"background-color: rgb(255,255,255);\">the</td><td style=\"background-color: rgb(255,255,255);\">toilet</td></tr><tr><td><b>lexical_unit</b></td><td style=\"background-color: rgb(0.0000, 255,0.0000);\">1.0000</td><td style=\"background-color: rgb(255.0000, 255,255.0000);\">0.0000</td><td style=\"background-color: rgb(255.0000, 255,255.0000);\">0.0000</td><td style=\"background-color: rgb(255.0000, 255,255.0000);\">0.0000</td></tr><tr><td><b>attention_intent</b></td><td style=\"background-color: rgb(0.0230, 255,0.0230);\">0.9999</td><td style=\"background-color: rgb(254.9784, 255,254.9784);\">0.0001</td><td style=\"background-color: rgb(254.9996, 255,254.9996);\">0.0000</td><td style=\"background-color: rgb(255.0000, 255,255.0000);\">0.0000</td></tr><tr><td><b>slots_true</b></td><td style=\"background-color: rgb(255,255,255);\">O</td><td style=\"background-color: rgb(255,255,255);\">B-Goal</td><td style=\"background-color: rgb(255,255,255);\">I-Goal</td><td style=\"background-color: rgb(255,255,255);\">I-Goal</td></tr><tr><td><b>slots_pred</b></td><td style=\"background-color: rgb(255,255,255);\">O</td><td style=\"background-color: rgb(255,255,255);\">B-Goal</td><td style=\"background-color: rgb(255,255,255);\">I-Goal</td><td style=\"background-color: rgb(255,255,255);\">I-Goal</td></tr></table>"
      ],
      "text/plain": [
       "<IPython.core.display.HTML object>"
      ]
     },
     "metadata": {},
     "output_type": "display_data"
    },
    {
     "name": "stdout",
     "output_type": "stream",
     "text": [
      "true: Taking pred: Placing\n"
     ]
    },
    {
     "data": {
      "text/html": [
       "<table><tr><td><b>words</b></td><td style=\"background-color: rgb(255,255,255);\">grab</td><td style=\"background-color: rgb(255,255,255);\">the</td><td style=\"background-color: rgb(255,255,255);\">pillow</td><td style=\"background-color: rgb(255,255,255);\">at</td><td style=\"background-color: rgb(255,255,255);\">the</td><td style=\"background-color: rgb(255,255,255);\">left</td><td style=\"background-color: rgb(255,255,255);\">of</td><td style=\"background-color: rgb(255,255,255);\">the</td><td style=\"background-color: rgb(255,255,255);\">couch</td></tr><tr><td><b>lexical_unit</b></td><td style=\"background-color: rgb(0.0000, 255,0.0000);\">1.0000</td><td style=\"background-color: rgb(255.0000, 255,255.0000);\">0.0000</td><td style=\"background-color: rgb(255.0000, 255,255.0000);\">0.0000</td><td style=\"background-color: rgb(255.0000, 255,255.0000);\">0.0000</td><td style=\"background-color: rgb(255.0000, 255,255.0000);\">0.0000</td><td style=\"background-color: rgb(255.0000, 255,255.0000);\">0.0000</td><td style=\"background-color: rgb(255.0000, 255,255.0000);\">0.0000</td><td style=\"background-color: rgb(255.0000, 255,255.0000);\">0.0000</td><td style=\"background-color: rgb(255.0000, 255,255.0000);\">0.0000</td></tr><tr><td><b>attention_intent</b></td><td style=\"background-color: rgb(47.9306, 255,47.9306);\">0.8120</td><td style=\"background-color: rgb(254.9989, 255,254.9989);\">0.0000</td><td style=\"background-color: rgb(207.0758, 255,207.0758);\">0.1879</td><td style=\"background-color: rgb(255.0000, 255,255.0000);\">0.0000</td><td style=\"background-color: rgb(255.0000, 255,255.0000);\">0.0000</td><td style=\"background-color: rgb(254.9985, 255,254.9985);\">0.0000</td><td style=\"background-color: rgb(255.0000, 255,255.0000);\">0.0000</td><td style=\"background-color: rgb(255.0000, 255,255.0000);\">0.0000</td><td style=\"background-color: rgb(254.9965, 255,254.9965);\">0.0000</td></tr><tr><td><b>slots_true</b></td><td style=\"background-color: rgb(255,255,255);\">O</td><td style=\"background-color: rgb(255,255,255);\">B-Theme</td><td style=\"background-color: rgb(255,255,255);\">I-Theme</td><td style=\"background-color: rgb(255,255,255);\">I-Theme</td><td style=\"background-color: rgb(255,255,255);\">I-Theme</td><td style=\"background-color: rgb(255,255,255);\">I-Theme</td><td style=\"background-color: rgb(255,255,255);\">I-Theme</td><td style=\"background-color: rgb(255,255,255);\">I-Theme</td><td style=\"background-color: rgb(255,255,255);\">I-Theme</td></tr><tr><td><b>slots_pred</b></td><td style=\"background-color: rgb(255,255,255);\">O</td><td style=\"background-color: rgb(255,255,255);\">B-Theme</td><td style=\"background-color: rgb(255,255,255);\">I-Theme</td><td style=\"background-color: rgb(255,255,255);\">B-Goal</td><td style=\"background-color: rgb(255,255,255);\">I-Goal</td><td style=\"background-color: rgb(255,255,255);\">I-Goal</td><td style=\"background-color: rgb(255,255,255);\">I-Goal</td><td style=\"background-color: rgb(255,255,255);\">I-Goal</td><td style=\"background-color: rgb(255,255,255);\">I-Goal</td></tr></table>"
      ],
      "text/plain": [
       "<IPython.core.display.HTML object>"
      ]
     },
     "metadata": {},
     "output_type": "display_data"
    },
    {
     "name": "stdout",
     "output_type": "stream",
     "text": [
      "true: Searching pred: Perception_active\n"
     ]
    },
    {
     "data": {
      "text/html": [
       "<table><tr><td><b>words</b></td><td style=\"background-color: rgb(255,255,255);\">look</td><td style=\"background-color: rgb(255,255,255);\">for</td><td style=\"background-color: rgb(255,255,255);\">the</td><td style=\"background-color: rgb(255,255,255);\">glass</td><td style=\"background-color: rgb(255,255,255);\">in</td><td style=\"background-color: rgb(255,255,255);\">the</td><td style=\"background-color: rgb(255,255,255);\">bedroom</td></tr><tr><td><b>lexical_unit</b></td><td style=\"background-color: rgb(0.0000, 255,0.0000);\">1.0000</td><td style=\"background-color: rgb(255.0000, 255,255.0000);\">0.0000</td><td style=\"background-color: rgb(255.0000, 255,255.0000);\">0.0000</td><td style=\"background-color: rgb(255.0000, 255,255.0000);\">0.0000</td><td style=\"background-color: rgb(255.0000, 255,255.0000);\">0.0000</td><td style=\"background-color: rgb(255.0000, 255,255.0000);\">0.0000</td><td style=\"background-color: rgb(255.0000, 255,255.0000);\">0.0000</td></tr><tr><td><b>attention_intent</b></td><td style=\"background-color: rgb(0.0505, 255,0.0505);\">0.9998</td><td style=\"background-color: rgb(255.0000, 255,255.0000);\">0.0000</td><td style=\"background-color: rgb(255.0000, 255,255.0000);\">0.0000</td><td style=\"background-color: rgb(254.9497, 255,254.9497);\">0.0002</td><td style=\"background-color: rgb(255.0000, 255,255.0000);\">0.0000</td><td style=\"background-color: rgb(255.0000, 255,255.0000);\">0.0000</td><td style=\"background-color: rgb(255.0000, 255,255.0000);\">0.0000</td></tr><tr><td><b>slots_true</b></td><td style=\"background-color: rgb(255,255,255);\">O</td><td style=\"background-color: rgb(255,255,255);\">B-Phenomenon</td><td style=\"background-color: rgb(255,255,255);\">I-Phenomenon</td><td style=\"background-color: rgb(255,255,255);\">I-Phenomenon</td><td style=\"background-color: rgb(255,255,255);\">B-Ground</td><td style=\"background-color: rgb(255,255,255);\">I-Ground</td><td style=\"background-color: rgb(255,255,255);\">I-Ground</td></tr><tr><td><b>slots_pred</b></td><td style=\"background-color: rgb(255,255,255);\">O</td><td style=\"background-color: rgb(255,255,255);\">B-Phenomenon</td><td style=\"background-color: rgb(255,255,255);\">I-Phenomenon</td><td style=\"background-color: rgb(255,255,255);\">I-Phenomenon</td><td style=\"background-color: rgb(255,255,255);\">I-Phenomenon</td><td style=\"background-color: rgb(255,255,255);\">I-Phenomenon</td><td style=\"background-color: rgb(255,255,255);\">I-Phenomenon</td></tr></table>"
      ],
      "text/plain": [
       "<IPython.core.display.HTML object>"
      ]
     },
     "metadata": {},
     "output_type": "display_data"
    },
    {
     "name": "stdout",
     "output_type": "stream",
     "text": [
      "true: Taking pred: Placing\n"
     ]
    },
    {
     "data": {
      "text/html": [
       "<table><tr><td><b>words</b></td><td style=\"background-color: rgb(255,255,255);\">take</td><td style=\"background-color: rgb(255,255,255);\">the</td><td style=\"background-color: rgb(255,255,255);\">bottle</td><td style=\"background-color: rgb(255,255,255);\">near</td><td style=\"background-color: rgb(255,255,255);\">the</td><td style=\"background-color: rgb(255,255,255);\">fridge</td></tr><tr><td><b>lexical_unit</b></td><td style=\"background-color: rgb(0.0000, 255,0.0000);\">1.0000</td><td style=\"background-color: rgb(255.0000, 255,255.0000);\">0.0000</td><td style=\"background-color: rgb(255.0000, 255,255.0000);\">0.0000</td><td style=\"background-color: rgb(255.0000, 255,255.0000);\">0.0000</td><td style=\"background-color: rgb(255.0000, 255,255.0000);\">0.0000</td><td style=\"background-color: rgb(255.0000, 255,255.0000);\">0.0000</td></tr><tr><td><b>attention_intent</b></td><td style=\"background-color: rgb(170.3291, 255,170.3291);\">0.3320</td><td style=\"background-color: rgb(255.0000, 255,255.0000);\">0.0000</td><td style=\"background-color: rgb(84.6718, 255,84.6718);\">0.6680</td><td style=\"background-color: rgb(254.9995, 255,254.9995);\">0.0000</td><td style=\"background-color: rgb(255.0000, 255,255.0000);\">0.0000</td><td style=\"background-color: rgb(254.9998, 255,254.9998);\">0.0000</td></tr><tr><td><b>slots_true</b></td><td style=\"background-color: rgb(255,255,255);\">O</td><td style=\"background-color: rgb(255,255,255);\">B-Theme</td><td style=\"background-color: rgb(255,255,255);\">I-Theme</td><td style=\"background-color: rgb(255,255,255);\">I-Theme</td><td style=\"background-color: rgb(255,255,255);\">I-Theme</td><td style=\"background-color: rgb(255,255,255);\">I-Theme</td></tr><tr><td><b>slots_pred</b></td><td style=\"background-color: rgb(255,255,255);\">O</td><td style=\"background-color: rgb(255,255,255);\">B-Theme</td><td style=\"background-color: rgb(255,255,255);\">I-Theme</td><td style=\"background-color: rgb(255,255,255);\">B-Goal</td><td style=\"background-color: rgb(255,255,255);\">I-Goal</td><td style=\"background-color: rgb(255,255,255);\">I-Goal</td></tr></table>"
      ],
      "text/plain": [
       "<IPython.core.display.HTML object>"
      ]
     },
     "metadata": {},
     "output_type": "display_data"
    },
    {
     "name": "stdout",
     "output_type": "stream",
     "text": [
      "true: Bringing pred: Placing\n"
     ]
    },
    {
     "data": {
      "text/html": [
       "<table><tr><td><b>words</b></td><td style=\"background-color: rgb(255,255,255);\">take</td><td style=\"background-color: rgb(255,255,255);\">the</td><td style=\"background-color: rgb(255,255,255);\">jar</td><td style=\"background-color: rgb(255,255,255);\">to</td><td style=\"background-color: rgb(255,255,255);\">the</td><td style=\"background-color: rgb(255,255,255);\">table</td><td style=\"background-color: rgb(255,255,255);\">of</td><td style=\"background-color: rgb(255,255,255);\">the</td><td style=\"background-color: rgb(255,255,255);\">kitchen</td></tr><tr><td><b>lexical_unit</b></td><td style=\"background-color: rgb(0.0000, 255,0.0000);\">1.0000</td><td style=\"background-color: rgb(255.0000, 255,255.0000);\">0.0000</td><td style=\"background-color: rgb(255.0000, 255,255.0000);\">0.0000</td><td style=\"background-color: rgb(255.0000, 255,255.0000);\">0.0000</td><td style=\"background-color: rgb(255.0000, 255,255.0000);\">0.0000</td><td style=\"background-color: rgb(255.0000, 255,255.0000);\">0.0000</td><td style=\"background-color: rgb(255.0000, 255,255.0000);\">0.0000</td><td style=\"background-color: rgb(255.0000, 255,255.0000);\">0.0000</td><td style=\"background-color: rgb(255.0000, 255,255.0000);\">0.0000</td></tr><tr><td><b>attention_intent</b></td><td style=\"background-color: rgb(112.2464, 255,112.2464);\">0.5598</td><td style=\"background-color: rgb(255.0000, 255,255.0000);\">0.0000</td><td style=\"background-color: rgb(146.4873, 255,146.4873);\">0.4255</td><td style=\"background-color: rgb(254.6062, 255,254.6062);\">0.0015</td><td style=\"background-color: rgb(255.0000, 255,255.0000);\">0.0000</td><td style=\"background-color: rgb(251.6604, 255,251.6604);\">0.0131</td><td style=\"background-color: rgb(255.0000, 255,255.0000);\">0.0000</td><td style=\"background-color: rgb(255.0000, 255,255.0000);\">0.0000</td><td style=\"background-color: rgb(255.0000, 255,255.0000);\">0.0000</td></tr><tr><td><b>slots_true</b></td><td style=\"background-color: rgb(255,255,255);\">O</td><td style=\"background-color: rgb(255,255,255);\">B-Theme</td><td style=\"background-color: rgb(255,255,255);\">I-Theme</td><td style=\"background-color: rgb(255,255,255);\">B-Goal</td><td style=\"background-color: rgb(255,255,255);\">I-Goal</td><td style=\"background-color: rgb(255,255,255);\">I-Goal</td><td style=\"background-color: rgb(255,255,255);\">I-Goal</td><td style=\"background-color: rgb(255,255,255);\">I-Goal</td><td style=\"background-color: rgb(255,255,255);\">I-Goal</td></tr><tr><td><b>slots_pred</b></td><td style=\"background-color: rgb(255,255,255);\">O</td><td style=\"background-color: rgb(255,255,255);\">B-Theme</td><td style=\"background-color: rgb(255,255,255);\">I-Theme</td><td style=\"background-color: rgb(255,255,255);\">B-Goal</td><td style=\"background-color: rgb(255,255,255);\">I-Goal</td><td style=\"background-color: rgb(255,255,255);\">I-Goal</td><td style=\"background-color: rgb(255,255,255);\">I-Goal</td><td style=\"background-color: rgb(255,255,255);\">I-Goal</td><td style=\"background-color: rgb(255,255,255);\">I-Goal</td></tr></table>"
      ],
      "text/plain": [
       "<IPython.core.display.HTML object>"
      ]
     },
     "metadata": {},
     "output_type": "display_data"
    },
    {
     "name": "stdout",
     "output_type": "stream",
     "text": [
      "true: Taking pred: Taking\n"
     ]
    },
    {
     "data": {
      "text/html": [
       "<table><tr><td><b>words</b></td><td style=\"background-color: rgb(255,255,255);\">take</td><td style=\"background-color: rgb(255,255,255);\">the</td><td style=\"background-color: rgb(255,255,255);\">phone</td><td style=\"background-color: rgb(255,255,255);\">on</td><td style=\"background-color: rgb(255,255,255);\">the</td><td style=\"background-color: rgb(255,255,255);\">couch</td></tr><tr><td><b>lexical_unit</b></td><td style=\"background-color: rgb(0.0000, 255,0.0000);\">1.0000</td><td style=\"background-color: rgb(255.0000, 255,255.0000);\">0.0000</td><td style=\"background-color: rgb(255.0000, 255,255.0000);\">0.0000</td><td style=\"background-color: rgb(255.0000, 255,255.0000);\">0.0000</td><td style=\"background-color: rgb(255.0000, 255,255.0000);\">0.0000</td><td style=\"background-color: rgb(255.0000, 255,255.0000);\">0.0000</td></tr><tr><td><b>attention_intent</b></td><td style=\"background-color: rgb(2.7159, 255,2.7159);\">0.9893</td><td style=\"background-color: rgb(254.9999, 255,254.9999);\">0.0000</td><td style=\"background-color: rgb(252.3447, 255,252.3447);\">0.0104</td><td style=\"background-color: rgb(255.0000, 255,255.0000);\">0.0000</td><td style=\"background-color: rgb(255.0000, 255,255.0000);\">0.0000</td><td style=\"background-color: rgb(254.9401, 255,254.9401);\">0.0002</td></tr><tr><td><b>slots_true</b></td><td style=\"background-color: rgb(255,255,255);\">O</td><td style=\"background-color: rgb(255,255,255);\">B-Theme</td><td style=\"background-color: rgb(255,255,255);\">I-Theme</td><td style=\"background-color: rgb(255,255,255);\">I-Theme</td><td style=\"background-color: rgb(255,255,255);\">I-Theme</td><td style=\"background-color: rgb(255,255,255);\">I-Theme</td></tr><tr><td><b>slots_pred</b></td><td style=\"background-color: rgb(255,255,255);\">O</td><td style=\"background-color: rgb(255,255,255);\">B-Theme</td><td style=\"background-color: rgb(255,255,255);\">I-Theme</td><td style=\"background-color: rgb(255,255,255);\">B-Goal</td><td style=\"background-color: rgb(255,255,255);\">I-Goal</td><td style=\"background-color: rgb(255,255,255);\">I-Goal</td></tr></table>"
      ],
      "text/plain": [
       "<IPython.core.display.HTML object>"
      ]
     },
     "metadata": {},
     "output_type": "display_data"
    },
    {
     "name": "stdout",
     "output_type": "stream",
     "text": [
      "true: Taking pred: Taking\n"
     ]
    },
    {
     "data": {
      "text/html": [
       "<table><tr><td><b>words</b></td><td style=\"background-color: rgb(255,255,255);\">take</td><td style=\"background-color: rgb(255,255,255);\">the</td><td style=\"background-color: rgb(255,255,255);\">phone</td><td style=\"background-color: rgb(255,255,255);\">on</td><td style=\"background-color: rgb(255,255,255);\">the</td><td style=\"background-color: rgb(255,255,255);\">left</td><td style=\"background-color: rgb(255,255,255);\">of</td><td style=\"background-color: rgb(255,255,255);\">the</td><td style=\"background-color: rgb(255,255,255);\">pc</td></tr><tr><td><b>lexical_unit</b></td><td style=\"background-color: rgb(0.0000, 255,0.0000);\">1.0000</td><td style=\"background-color: rgb(255.0000, 255,255.0000);\">0.0000</td><td style=\"background-color: rgb(255.0000, 255,255.0000);\">0.0000</td><td style=\"background-color: rgb(255.0000, 255,255.0000);\">0.0000</td><td style=\"background-color: rgb(255.0000, 255,255.0000);\">0.0000</td><td style=\"background-color: rgb(255.0000, 255,255.0000);\">0.0000</td><td style=\"background-color: rgb(255.0000, 255,255.0000);\">0.0000</td><td style=\"background-color: rgb(255.0000, 255,255.0000);\">0.0000</td><td style=\"background-color: rgb(255.0000, 255,255.0000);\">0.0000</td></tr><tr><td><b>attention_intent</b></td><td style=\"background-color: rgb(5.2986, 255,5.2986);\">0.9792</td><td style=\"background-color: rgb(255.0000, 255,255.0000);\">0.0000</td><td style=\"background-color: rgb(249.7024, 255,249.7024);\">0.0208</td><td style=\"background-color: rgb(255.0000, 255,255.0000);\">0.0000</td><td style=\"background-color: rgb(255.0000, 255,255.0000);\">0.0000</td><td style=\"background-color: rgb(254.9995, 255,254.9995);\">0.0000</td><td style=\"background-color: rgb(255.0000, 255,255.0000);\">0.0000</td><td style=\"background-color: rgb(255.0000, 255,255.0000);\">0.0000</td><td style=\"background-color: rgb(255.0000, 255,255.0000);\">0.0000</td></tr><tr><td><b>slots_true</b></td><td style=\"background-color: rgb(255,255,255);\">O</td><td style=\"background-color: rgb(255,255,255);\">B-Theme</td><td style=\"background-color: rgb(255,255,255);\">I-Theme</td><td style=\"background-color: rgb(255,255,255);\">I-Theme</td><td style=\"background-color: rgb(255,255,255);\">I-Theme</td><td style=\"background-color: rgb(255,255,255);\">I-Theme</td><td style=\"background-color: rgb(255,255,255);\">I-Theme</td><td style=\"background-color: rgb(255,255,255);\">I-Theme</td><td style=\"background-color: rgb(255,255,255);\">I-Theme</td></tr><tr><td><b>slots_pred</b></td><td style=\"background-color: rgb(255,255,255);\">O</td><td style=\"background-color: rgb(255,255,255);\">B-Theme</td><td style=\"background-color: rgb(255,255,255);\">I-Theme</td><td style=\"background-color: rgb(255,255,255);\">B-Goal</td><td style=\"background-color: rgb(255,255,255);\">I-Goal</td><td style=\"background-color: rgb(255,255,255);\">I-Goal</td><td style=\"background-color: rgb(255,255,255);\">I-Goal</td><td style=\"background-color: rgb(255,255,255);\">I-Goal</td><td style=\"background-color: rgb(255,255,255);\">I-Goal</td></tr></table>"
      ],
      "text/plain": [
       "<IPython.core.display.HTML object>"
      ]
     },
     "metadata": {},
     "output_type": "display_data"
    },
    {
     "name": "stdout",
     "output_type": "stream",
     "text": [
      "true: Change_operational_state pred: Entering\n"
     ]
    },
    {
     "data": {
      "text/html": [
       "<table><tr><td><b>words</b></td><td style=\"background-color: rgb(255,255,255);\">activate</td><td style=\"background-color: rgb(255,255,255);\">the</td><td style=\"background-color: rgb(255,255,255);\">television</td></tr><tr><td><b>lexical_unit</b></td><td style=\"background-color: rgb(0.0000, 255,0.0000);\">1.0000</td><td style=\"background-color: rgb(255.0000, 255,255.0000);\">0.0000</td><td style=\"background-color: rgb(255.0000, 255,255.0000);\">0.0000</td></tr><tr><td><b>attention_intent</b></td><td style=\"background-color: rgb(0.0641, 255,0.0641);\">0.9997</td><td style=\"background-color: rgb(254.9999, 255,254.9999);\">0.0000</td><td style=\"background-color: rgb(255.0000, 255,255.0000);\">0.0000</td></tr><tr><td><b>slots_true</b></td><td style=\"background-color: rgb(255,255,255);\">O</td><td style=\"background-color: rgb(255,255,255);\">B-Device</td><td style=\"background-color: rgb(255,255,255);\">I-Device</td></tr><tr><td><b>slots_pred</b></td><td style=\"background-color: rgb(255,255,255);\">O</td><td style=\"background-color: rgb(255,255,255);\">B-Goal</td><td style=\"background-color: rgb(255,255,255);\">I-Goal</td></tr></table>"
      ],
      "text/plain": [
       "<IPython.core.display.HTML object>"
      ]
     },
     "metadata": {},
     "output_type": "display_data"
    },
    {
     "name": "stdout",
     "output_type": "stream",
     "text": [
      "true: Bringing pred: Bringing\n"
     ]
    },
    {
     "data": {
      "text/html": [
       "<table><tr><td><b>words</b></td><td style=\"background-color: rgb(255,255,255);\">bring</td><td style=\"background-color: rgb(255,255,255);\">the</td><td style=\"background-color: rgb(255,255,255);\">bottle</td><td style=\"background-color: rgb(255,255,255);\">to</td><td style=\"background-color: rgb(255,255,255);\">the</td><td style=\"background-color: rgb(255,255,255);\">couch</td></tr><tr><td><b>lexical_unit</b></td><td style=\"background-color: rgb(0.0000, 255,0.0000);\">1.0000</td><td style=\"background-color: rgb(255.0000, 255,255.0000);\">0.0000</td><td style=\"background-color: rgb(255.0000, 255,255.0000);\">0.0000</td><td style=\"background-color: rgb(255.0000, 255,255.0000);\">0.0000</td><td style=\"background-color: rgb(255.0000, 255,255.0000);\">0.0000</td><td style=\"background-color: rgb(255.0000, 255,255.0000);\">0.0000</td></tr><tr><td><b>attention_intent</b></td><td style=\"background-color: rgb(187.2228, 255,187.2228);\">0.2658</td><td style=\"background-color: rgb(255.0000, 255,255.0000);\">0.0000</td><td style=\"background-color: rgb(67.9444, 255,67.9444);\">0.7336</td><td style=\"background-color: rgb(254.9911, 255,254.9911);\">0.0000</td><td style=\"background-color: rgb(255.0000, 255,255.0000);\">0.0000</td><td style=\"background-color: rgb(254.8420, 255,254.8420);\">0.0006</td></tr><tr><td><b>slots_true</b></td><td style=\"background-color: rgb(255,255,255);\">O</td><td style=\"background-color: rgb(255,255,255);\">B-Theme</td><td style=\"background-color: rgb(255,255,255);\">I-Theme</td><td style=\"background-color: rgb(255,255,255);\">B-Goal</td><td style=\"background-color: rgb(255,255,255);\">I-Goal</td><td style=\"background-color: rgb(255,255,255);\">I-Goal</td></tr><tr><td><b>slots_pred</b></td><td style=\"background-color: rgb(255,255,255);\">O</td><td style=\"background-color: rgb(255,255,255);\">B-Theme</td><td style=\"background-color: rgb(255,255,255);\">I-Theme</td><td style=\"background-color: rgb(255,255,255);\">B-Goal</td><td style=\"background-color: rgb(255,255,255);\">I-Goal</td><td style=\"background-color: rgb(255,255,255);\">I-Goal</td></tr></table>"
      ],
      "text/plain": [
       "<IPython.core.display.HTML object>"
      ]
     },
     "metadata": {},
     "output_type": "display_data"
    },
    {
     "name": "stdout",
     "output_type": "stream",
     "text": [
      "true: Bringing pred: Bringing\n"
     ]
    },
    {
     "data": {
      "text/html": [
       "<table><tr><td><b>words</b></td><td style=\"background-color: rgb(255,255,255);\">carry</td><td style=\"background-color: rgb(255,255,255);\">the</td><td style=\"background-color: rgb(255,255,255);\">mug</td><td style=\"background-color: rgb(255,255,255);\">to</td><td style=\"background-color: rgb(255,255,255);\">the</td><td style=\"background-color: rgb(255,255,255);\">living</td><td style=\"background-color: rgb(255,255,255);\">room</td></tr><tr><td><b>lexical_unit</b></td><td style=\"background-color: rgb(0.0000, 255,0.0000);\">1.0000</td><td style=\"background-color: rgb(255.0000, 255,255.0000);\">0.0000</td><td style=\"background-color: rgb(255.0000, 255,255.0000);\">0.0000</td><td style=\"background-color: rgb(255.0000, 255,255.0000);\">0.0000</td><td style=\"background-color: rgb(255.0000, 255,255.0000);\">0.0000</td><td style=\"background-color: rgb(255.0000, 255,255.0000);\">0.0000</td><td style=\"background-color: rgb(255.0000, 255,255.0000);\">0.0000</td></tr><tr><td><b>attention_intent</b></td><td style=\"background-color: rgb(45.1803, 255,45.1803);\">0.8228</td><td style=\"background-color: rgb(255.0000, 255,255.0000);\">0.0000</td><td style=\"background-color: rgb(210.4837, 255,210.4837);\">0.1746</td><td style=\"background-color: rgb(254.3366, 255,254.3366);\">0.0026</td><td style=\"background-color: rgb(255.0000, 255,255.0000);\">0.0000</td><td style=\"background-color: rgb(255.0000, 255,255.0000);\">0.0000</td><td style=\"background-color: rgb(255.0000, 255,255.0000);\">0.0000</td></tr><tr><td><b>slots_true</b></td><td style=\"background-color: rgb(255,255,255);\">O</td><td style=\"background-color: rgb(255,255,255);\">B-Theme</td><td style=\"background-color: rgb(255,255,255);\">I-Theme</td><td style=\"background-color: rgb(255,255,255);\">B-Goal</td><td style=\"background-color: rgb(255,255,255);\">I-Goal</td><td style=\"background-color: rgb(255,255,255);\">I-Goal</td><td style=\"background-color: rgb(255,255,255);\">I-Goal</td></tr><tr><td><b>slots_pred</b></td><td style=\"background-color: rgb(255,255,255);\">O</td><td style=\"background-color: rgb(255,255,255);\">B-Theme</td><td style=\"background-color: rgb(255,255,255);\">I-Theme</td><td style=\"background-color: rgb(255,255,255);\">B-Goal</td><td style=\"background-color: rgb(255,255,255);\">I-Goal</td><td style=\"background-color: rgb(255,255,255);\">I-Goal</td><td style=\"background-color: rgb(255,255,255);\">I-Goal</td></tr></table>"
      ],
      "text/plain": [
       "<IPython.core.display.HTML object>"
      ]
     },
     "metadata": {},
     "output_type": "display_data"
    },
    {
     "name": "stdout",
     "output_type": "stream",
     "text": [
      "true: Searching pred: Placing\n"
     ]
    },
    {
     "data": {
      "text/html": [
       "<table><tr><td><b>words</b></td><td style=\"background-color: rgb(255,255,255);\">find</td><td style=\"background-color: rgb(255,255,255);\">a</td><td style=\"background-color: rgb(255,255,255);\">bottle</td><td style=\"background-color: rgb(255,255,255);\">in</td><td style=\"background-color: rgb(255,255,255);\">the</td><td style=\"background-color: rgb(255,255,255);\">kitchen</td></tr><tr><td><b>lexical_unit</b></td><td style=\"background-color: rgb(0.0000, 255,0.0000);\">1.0000</td><td style=\"background-color: rgb(255.0000, 255,255.0000);\">0.0000</td><td style=\"background-color: rgb(255.0000, 255,255.0000);\">0.0000</td><td style=\"background-color: rgb(255.0000, 255,255.0000);\">0.0000</td><td style=\"background-color: rgb(255.0000, 255,255.0000);\">0.0000</td><td style=\"background-color: rgb(255.0000, 255,255.0000);\">0.0000</td></tr><tr><td><b>attention_intent</b></td><td style=\"background-color: rgb(253.4038, 255,253.4038);\">0.0063</td><td style=\"background-color: rgb(254.9998, 255,254.9998);\">0.0000</td><td style=\"background-color: rgb(1.6003, 255,1.6003);\">0.9937</td><td style=\"background-color: rgb(254.9971, 255,254.9971);\">0.0000</td><td style=\"background-color: rgb(255.0000, 255,255.0000);\">0.0000</td><td style=\"background-color: rgb(255.0000, 255,255.0000);\">0.0000</td></tr><tr><td><b>slots_true</b></td><td style=\"background-color: rgb(255,255,255);\">O</td><td style=\"background-color: rgb(255,255,255);\">B-Phenomenon</td><td style=\"background-color: rgb(255,255,255);\">I-Phenomenon</td><td style=\"background-color: rgb(255,255,255);\">B-Ground</td><td style=\"background-color: rgb(255,255,255);\">I-Ground</td><td style=\"background-color: rgb(255,255,255);\">I-Ground</td></tr><tr><td><b>slots_pred</b></td><td style=\"background-color: rgb(255,255,255);\">O</td><td style=\"background-color: rgb(255,255,255);\">B-Goal</td><td style=\"background-color: rgb(255,255,255);\">I-Goal</td><td style=\"background-color: rgb(255,255,255);\">I-Goal</td><td style=\"background-color: rgb(255,255,255);\">I-Goal</td><td style=\"background-color: rgb(255,255,255);\">I-Goal</td></tr></table>"
      ],
      "text/plain": [
       "<IPython.core.display.HTML object>"
      ]
     },
     "metadata": {},
     "output_type": "display_data"
    },
    {
     "name": "stdout",
     "output_type": "stream",
     "text": [
      "true: Searching pred: Searching\n"
     ]
    },
    {
     "data": {
      "text/html": [
       "<table><tr><td><b>words</b></td><td style=\"background-color: rgb(255,255,255);\">find</td><td style=\"background-color: rgb(255,255,255);\">the</td><td style=\"background-color: rgb(255,255,255);\">television</td></tr><tr><td><b>lexical_unit</b></td><td style=\"background-color: rgb(0.0000, 255,0.0000);\">1.0000</td><td style=\"background-color: rgb(255.0000, 255,255.0000);\">0.0000</td><td style=\"background-color: rgb(255.0000, 255,255.0000);\">0.0000</td></tr><tr><td><b>attention_intent</b></td><td style=\"background-color: rgb(1.5081, 255,1.5081);\">0.9941</td><td style=\"background-color: rgb(254.9978, 255,254.9978);\">0.0000</td><td style=\"background-color: rgb(254.9970, 255,254.9970);\">0.0000</td></tr><tr><td><b>slots_true</b></td><td style=\"background-color: rgb(255,255,255);\">O</td><td style=\"background-color: rgb(255,255,255);\">B-Phenomenon</td><td style=\"background-color: rgb(255,255,255);\">I-Phenomenon</td></tr><tr><td><b>slots_pred</b></td><td style=\"background-color: rgb(255,255,255);\">O</td><td style=\"background-color: rgb(255,255,255);\">B-Phenomenon</td><td style=\"background-color: rgb(255,255,255);\">I-Phenomenon</td></tr></table>"
      ],
      "text/plain": [
       "<IPython.core.display.HTML object>"
      ]
     },
     "metadata": {},
     "output_type": "display_data"
    },
    {
     "name": "stdout",
     "output_type": "stream",
     "text": [
      "true: Taking pred: Entering\n"
     ]
    },
    {
     "data": {
      "text/html": [
       "<table><tr><td><b>words</b></td><td style=\"background-color: rgb(255,255,255);\">get</td><td style=\"background-color: rgb(255,255,255);\">the</td><td style=\"background-color: rgb(255,255,255);\">phone</td></tr><tr><td><b>lexical_unit</b></td><td style=\"background-color: rgb(0.0000, 255,0.0000);\">1.0000</td><td style=\"background-color: rgb(255.0000, 255,255.0000);\">0.0000</td><td style=\"background-color: rgb(255.0000, 255,255.0000);\">0.0000</td></tr><tr><td><b>attention_intent</b></td><td style=\"background-color: rgb(0.0014, 255,0.0014);\">1.0000</td><td style=\"background-color: rgb(254.9998, 255,254.9998);\">0.0000</td><td style=\"background-color: rgb(254.9996, 255,254.9996);\">0.0000</td></tr><tr><td><b>slots_true</b></td><td style=\"background-color: rgb(255,255,255);\">O</td><td style=\"background-color: rgb(255,255,255);\">B-Theme</td><td style=\"background-color: rgb(255,255,255);\">I-Theme</td></tr><tr><td><b>slots_pred</b></td><td style=\"background-color: rgb(255,255,255);\">O</td><td style=\"background-color: rgb(255,255,255);\">B-Goal</td><td style=\"background-color: rgb(255,255,255);\">I-Goal</td></tr></table>"
      ],
      "text/plain": [
       "<IPython.core.display.HTML object>"
      ]
     },
     "metadata": {},
     "output_type": "display_data"
    },
    {
     "name": "stdout",
     "output_type": "stream",
     "text": [
      "true: Bringing pred: Bringing\n"
     ]
    },
    {
     "data": {
      "text/html": [
       "<table><tr><td><b>words</b></td><td style=\"background-color: rgb(255,255,255);\">and</td><td style=\"background-color: rgb(255,255,255);\">take</td><td style=\"background-color: rgb(255,255,255);\">it</td><td style=\"background-color: rgb(255,255,255);\">to</td><td style=\"background-color: rgb(255,255,255);\">the</td><td style=\"background-color: rgb(255,255,255);\">bathroom</td></tr><tr><td><b>lexical_unit</b></td><td style=\"background-color: rgb(255.0000, 255,255.0000);\">0.0000</td><td style=\"background-color: rgb(0.0000, 255,0.0000);\">1.0000</td><td style=\"background-color: rgb(255.0000, 255,255.0000);\">0.0000</td><td style=\"background-color: rgb(255.0000, 255,255.0000);\">0.0000</td><td style=\"background-color: rgb(255.0000, 255,255.0000);\">0.0000</td><td style=\"background-color: rgb(255.0000, 255,255.0000);\">0.0000</td></tr><tr><td><b>attention_intent</b></td><td style=\"background-color: rgb(254.9972, 255,254.9972);\">0.0000</td><td style=\"background-color: rgb(1.0176, 255,1.0176);\">0.9960</td><td style=\"background-color: rgb(254.9381, 255,254.9381);\">0.0002</td><td style=\"background-color: rgb(254.0505, 255,254.0505);\">0.0037</td><td style=\"background-color: rgb(255.0000, 255,255.0000);\">0.0000</td><td style=\"background-color: rgb(255.0000, 255,255.0000);\">0.0000</td></tr><tr><td><b>slots_true</b></td><td style=\"background-color: rgb(255,255,255);\">O</td><td style=\"background-color: rgb(255,255,255);\">O</td><td style=\"background-color: rgb(255,255,255);\">B-Theme</td><td style=\"background-color: rgb(255,255,255);\">B-Goal</td><td style=\"background-color: rgb(255,255,255);\">I-Goal</td><td style=\"background-color: rgb(255,255,255);\">I-Goal</td></tr><tr><td><b>slots_pred</b></td><td style=\"background-color: rgb(255,255,255);\">B-Agent</td><td style=\"background-color: rgb(255,255,255);\">O</td><td style=\"background-color: rgb(255,255,255);\">B-Theme</td><td style=\"background-color: rgb(255,255,255);\">B-Goal</td><td style=\"background-color: rgb(255,255,255);\">I-Goal</td><td style=\"background-color: rgb(255,255,255);\">I-Goal</td></tr></table>"
      ],
      "text/plain": [
       "<IPython.core.display.HTML object>"
      ]
     },
     "metadata": {},
     "output_type": "display_data"
    },
    {
     "name": "stdout",
     "output_type": "stream",
     "text": [
      "true: Motion pred: Motion\n"
     ]
    },
    {
     "data": {
      "text/html": [
       "<table><tr><td><b>words</b></td><td style=\"background-color: rgb(255,255,255);\">go</td><td style=\"background-color: rgb(255,255,255);\">into</td><td style=\"background-color: rgb(255,255,255);\">the</td><td style=\"background-color: rgb(255,255,255);\">bathroom</td></tr><tr><td><b>lexical_unit</b></td><td style=\"background-color: rgb(0.0000, 255,0.0000);\">1.0000</td><td style=\"background-color: rgb(255.0000, 255,255.0000);\">0.0000</td><td style=\"background-color: rgb(255.0000, 255,255.0000);\">0.0000</td><td style=\"background-color: rgb(255.0000, 255,255.0000);\">0.0000</td></tr><tr><td><b>attention_intent</b></td><td style=\"background-color: rgb(0.0920, 255,0.0920);\">0.9996</td><td style=\"background-color: rgb(254.9088, 255,254.9088);\">0.0004</td><td style=\"background-color: rgb(255.0000, 255,255.0000);\">0.0000</td><td style=\"background-color: rgb(255.0000, 255,255.0000);\">0.0000</td></tr><tr><td><b>slots_true</b></td><td style=\"background-color: rgb(255,255,255);\">O</td><td style=\"background-color: rgb(255,255,255);\">B-Goal</td><td style=\"background-color: rgb(255,255,255);\">I-Goal</td><td style=\"background-color: rgb(255,255,255);\">I-Goal</td></tr><tr><td><b>slots_pred</b></td><td style=\"background-color: rgb(255,255,255);\">O</td><td style=\"background-color: rgb(255,255,255);\">B-Goal</td><td style=\"background-color: rgb(255,255,255);\">I-Goal</td><td style=\"background-color: rgb(255,255,255);\">I-Goal</td></tr></table>"
      ],
      "text/plain": [
       "<IPython.core.display.HTML object>"
      ]
     },
     "metadata": {},
     "output_type": "display_data"
    },
    {
     "name": "stdout",
     "output_type": "stream",
     "text": [
      "true: Motion pred: Motion\n"
     ]
    },
    {
     "data": {
      "text/html": [
       "<table><tr><td><b>words</b></td><td style=\"background-color: rgb(255,255,255);\">go</td><td style=\"background-color: rgb(255,255,255);\">to</td><td style=\"background-color: rgb(255,255,255);\">dining</td><td style=\"background-color: rgb(255,255,255);\">room</td></tr><tr><td><b>lexical_unit</b></td><td style=\"background-color: rgb(0.0000, 255,0.0000);\">1.0000</td><td style=\"background-color: rgb(255.0000, 255,255.0000);\">0.0000</td><td style=\"background-color: rgb(255.0000, 255,255.0000);\">0.0000</td><td style=\"background-color: rgb(255.0000, 255,255.0000);\">0.0000</td></tr><tr><td><b>attention_intent</b></td><td style=\"background-color: rgb(0.0094, 255,0.0094);\">1.0000</td><td style=\"background-color: rgb(254.9987, 255,254.9987);\">0.0000</td><td style=\"background-color: rgb(254.9926, 255,254.9926);\">0.0000</td><td style=\"background-color: rgb(255.0000, 255,255.0000);\">0.0000</td></tr><tr><td><b>slots_true</b></td><td style=\"background-color: rgb(255,255,255);\">O</td><td style=\"background-color: rgb(255,255,255);\">B-Goal</td><td style=\"background-color: rgb(255,255,255);\">I-Goal</td><td style=\"background-color: rgb(255,255,255);\">I-Goal</td></tr><tr><td><b>slots_pred</b></td><td style=\"background-color: rgb(255,255,255);\">O</td><td style=\"background-color: rgb(255,255,255);\">B-Goal</td><td style=\"background-color: rgb(255,255,255);\">I-Goal</td><td style=\"background-color: rgb(255,255,255);\">I-Goal</td></tr></table>"
      ],
      "text/plain": [
       "<IPython.core.display.HTML object>"
      ]
     },
     "metadata": {},
     "output_type": "display_data"
    },
    {
     "name": "stdout",
     "output_type": "stream",
     "text": [
      "true: Motion pred: Motion\n"
     ]
    },
    {
     "data": {
      "text/html": [
       "<table><tr><td><b>words</b></td><td style=\"background-color: rgb(255,255,255);\">go</td><td style=\"background-color: rgb(255,255,255);\">to</td><td style=\"background-color: rgb(255,255,255);\">the</td><td style=\"background-color: rgb(255,255,255);\">fridge</td></tr><tr><td><b>lexical_unit</b></td><td style=\"background-color: rgb(0.0000, 255,0.0000);\">1.0000</td><td style=\"background-color: rgb(255.0000, 255,255.0000);\">0.0000</td><td style=\"background-color: rgb(255.0000, 255,255.0000);\">0.0000</td><td style=\"background-color: rgb(255.0000, 255,255.0000);\">0.0000</td></tr><tr><td><b>attention_intent</b></td><td style=\"background-color: rgb(0.0156, 255,0.0156);\">0.9999</td><td style=\"background-color: rgb(254.9856, 255,254.9856);\">0.0001</td><td style=\"background-color: rgb(255.0000, 255,255.0000);\">0.0000</td><td style=\"background-color: rgb(254.9998, 255,254.9998);\">0.0000</td></tr><tr><td><b>slots_true</b></td><td style=\"background-color: rgb(255,255,255);\">O</td><td style=\"background-color: rgb(255,255,255);\">B-Goal</td><td style=\"background-color: rgb(255,255,255);\">I-Goal</td><td style=\"background-color: rgb(255,255,255);\">I-Goal</td></tr><tr><td><b>slots_pred</b></td><td style=\"background-color: rgb(255,255,255);\">O</td><td style=\"background-color: rgb(255,255,255);\">B-Goal</td><td style=\"background-color: rgb(255,255,255);\">I-Goal</td><td style=\"background-color: rgb(255,255,255);\">I-Goal</td></tr></table>"
      ],
      "text/plain": [
       "<IPython.core.display.HTML object>"
      ]
     },
     "metadata": {},
     "output_type": "display_data"
    },
    {
     "name": "stdout",
     "output_type": "stream",
     "text": [
      "true: Motion pred: Motion\n"
     ]
    },
    {
     "data": {
      "text/html": [
       "<table><tr><td><b>words</b></td><td style=\"background-color: rgb(255,255,255);\">move</td><td style=\"background-color: rgb(255,255,255);\">towards</td><td style=\"background-color: rgb(255,255,255);\">the</td><td style=\"background-color: rgb(255,255,255);\">kitchen</td></tr><tr><td><b>lexical_unit</b></td><td style=\"background-color: rgb(0.0000, 255,0.0000);\">1.0000</td><td style=\"background-color: rgb(255.0000, 255,255.0000);\">0.0000</td><td style=\"background-color: rgb(255.0000, 255,255.0000);\">0.0000</td><td style=\"background-color: rgb(255.0000, 255,255.0000);\">0.0000</td></tr><tr><td><b>attention_intent</b></td><td style=\"background-color: rgb(8.2829, 255,8.2829);\">0.9675</td><td style=\"background-color: rgb(246.7238, 255,246.7238);\">0.0325</td><td style=\"background-color: rgb(255.0000, 255,255.0000);\">0.0000</td><td style=\"background-color: rgb(255.0000, 255,255.0000);\">0.0000</td></tr><tr><td><b>slots_true</b></td><td style=\"background-color: rgb(255,255,255);\">O</td><td style=\"background-color: rgb(255,255,255);\">B-Goal</td><td style=\"background-color: rgb(255,255,255);\">I-Goal</td><td style=\"background-color: rgb(255,255,255);\">I-Goal</td></tr><tr><td><b>slots_pred</b></td><td style=\"background-color: rgb(255,255,255);\">O</td><td style=\"background-color: rgb(255,255,255);\">B-Path</td><td style=\"background-color: rgb(255,255,255);\">I-Path</td><td style=\"background-color: rgb(255,255,255);\">I-Path</td></tr></table>"
      ],
      "text/plain": [
       "<IPython.core.display.HTML object>"
      ]
     },
     "metadata": {},
     "output_type": "display_data"
    },
    {
     "name": "stdout",
     "output_type": "stream",
     "text": [
      "true: Following pred: Following\n"
     ]
    },
    {
     "data": {
      "text/html": [
       "<table><tr><td><b>words</b></td><td style=\"background-color: rgb(255,255,255);\">please</td><td style=\"background-color: rgb(255,255,255);\">follow</td><td style=\"background-color: rgb(255,255,255);\">that</td><td style=\"background-color: rgb(255,255,255);\">person</td></tr><tr><td><b>lexical_unit</b></td><td style=\"background-color: rgb(255.0000, 255,255.0000);\">0.0000</td><td style=\"background-color: rgb(0.0000, 255,0.0000);\">1.0000</td><td style=\"background-color: rgb(255.0000, 255,255.0000);\">0.0000</td><td style=\"background-color: rgb(255.0000, 255,255.0000);\">0.0000</td></tr><tr><td><b>attention_intent</b></td><td style=\"background-color: rgb(206.3161, 255,206.3161);\">0.1909</td><td style=\"background-color: rgb(48.6843, 255,48.6843);\">0.8091</td><td style=\"background-color: rgb(255.0000, 255,255.0000);\">0.0000</td><td style=\"background-color: rgb(255.0000, 255,255.0000);\">0.0000</td></tr><tr><td><b>slots_true</b></td><td style=\"background-color: rgb(255,255,255);\">O</td><td style=\"background-color: rgb(255,255,255);\">O</td><td style=\"background-color: rgb(255,255,255);\">B-Cotheme</td><td style=\"background-color: rgb(255,255,255);\">I-Cotheme</td></tr><tr><td><b>slots_pred</b></td><td style=\"background-color: rgb(255,255,255);\">B-Theme</td><td style=\"background-color: rgb(255,255,255);\">O</td><td style=\"background-color: rgb(255,255,255);\">B-Road</td><td style=\"background-color: rgb(255,255,255);\">I-Road</td></tr></table>"
      ],
      "text/plain": [
       "<IPython.core.display.HTML object>"
      ]
     },
     "metadata": {},
     "output_type": "display_data"
    },
    {
     "name": "stdout",
     "output_type": "stream",
     "text": [
      "true: Placing pred: Placing\n"
     ]
    },
    {
     "data": {
      "text/html": [
       "<table><tr><td><b>words</b></td><td style=\"background-color: rgb(255,255,255);\">please</td><td style=\"background-color: rgb(255,255,255);\">put</td><td style=\"background-color: rgb(255,255,255);\">the</td><td style=\"background-color: rgb(255,255,255);\">book</td><td style=\"background-color: rgb(255,255,255);\">in</td><td style=\"background-color: rgb(255,255,255);\">the</td><td style=\"background-color: rgb(255,255,255);\">dining</td><td style=\"background-color: rgb(255,255,255);\">room</td></tr><tr><td><b>lexical_unit</b></td><td style=\"background-color: rgb(255.0000, 255,255.0000);\">0.0000</td><td style=\"background-color: rgb(0.0000, 255,0.0000);\">1.0000</td><td style=\"background-color: rgb(255.0000, 255,255.0000);\">0.0000</td><td style=\"background-color: rgb(255.0000, 255,255.0000);\">0.0000</td><td style=\"background-color: rgb(255.0000, 255,255.0000);\">0.0000</td><td style=\"background-color: rgb(255.0000, 255,255.0000);\">0.0000</td><td style=\"background-color: rgb(255.0000, 255,255.0000);\">0.0000</td><td style=\"background-color: rgb(255.0000, 255,255.0000);\">0.0000</td></tr><tr><td><b>attention_intent</b></td><td style=\"background-color: rgb(156.2703, 255,156.2703);\">0.3872</td><td style=\"background-color: rgb(98.7307, 255,98.7307);\">0.6128</td><td style=\"background-color: rgb(255.0000, 255,255.0000);\">0.0000</td><td style=\"background-color: rgb(254.9997, 255,254.9997);\">0.0000</td><td style=\"background-color: rgb(255.0000, 255,255.0000);\">0.0000</td><td style=\"background-color: rgb(255.0000, 255,255.0000);\">0.0000</td><td style=\"background-color: rgb(254.9995, 255,254.9995);\">0.0000</td><td style=\"background-color: rgb(255.0000, 255,255.0000);\">0.0000</td></tr><tr><td><b>slots_true</b></td><td style=\"background-color: rgb(255,255,255);\">O</td><td style=\"background-color: rgb(255,255,255);\">O</td><td style=\"background-color: rgb(255,255,255);\">B-Theme</td><td style=\"background-color: rgb(255,255,255);\">I-Theme</td><td style=\"background-color: rgb(255,255,255);\">B-Goal</td><td style=\"background-color: rgb(255,255,255);\">I-Goal</td><td style=\"background-color: rgb(255,255,255);\">I-Goal</td><td style=\"background-color: rgb(255,255,255);\">I-Goal</td></tr><tr><td><b>slots_pred</b></td><td style=\"background-color: rgb(255,255,255);\">B-Agent</td><td style=\"background-color: rgb(255,255,255);\">O</td><td style=\"background-color: rgb(255,255,255);\">B-Theme</td><td style=\"background-color: rgb(255,255,255);\">I-Theme</td><td style=\"background-color: rgb(255,255,255);\">B-Goal</td><td style=\"background-color: rgb(255,255,255);\">I-Goal</td><td style=\"background-color: rgb(255,255,255);\">I-Goal</td><td style=\"background-color: rgb(255,255,255);\">I-Goal</td></tr></table>"
      ],
      "text/plain": [
       "<IPython.core.display.HTML object>"
      ]
     },
     "metadata": {},
     "output_type": "display_data"
    },
    {
     "name": "stdout",
     "output_type": "stream",
     "text": [
      "true: Bringing pred: Entering\n"
     ]
    },
    {
     "data": {
      "text/html": [
       "<table><tr><td><b>words</b></td><td style=\"background-color: rgb(255,255,255);\">please</td><td style=\"background-color: rgb(255,255,255);\">take</td><td style=\"background-color: rgb(255,255,255);\">the</td><td style=\"background-color: rgb(255,255,255);\">mug</td><td style=\"background-color: rgb(255,255,255);\">to</td><td style=\"background-color: rgb(255,255,255);\">the</td><td style=\"background-color: rgb(255,255,255);\">bedroom</td></tr><tr><td><b>lexical_unit</b></td><td style=\"background-color: rgb(255.0000, 255,255.0000);\">0.0000</td><td style=\"background-color: rgb(0.0000, 255,0.0000);\">1.0000</td><td style=\"background-color: rgb(255.0000, 255,255.0000);\">0.0000</td><td style=\"background-color: rgb(255.0000, 255,255.0000);\">0.0000</td><td style=\"background-color: rgb(255.0000, 255,255.0000);\">0.0000</td><td style=\"background-color: rgb(255.0000, 255,255.0000);\">0.0000</td><td style=\"background-color: rgb(255.0000, 255,255.0000);\">0.0000</td></tr><tr><td><b>attention_intent</b></td><td style=\"background-color: rgb(129.1792, 255,129.1792);\">0.4934</td><td style=\"background-color: rgb(145.0425, 255,145.0425);\">0.4312</td><td style=\"background-color: rgb(255.0000, 255,255.0000);\">0.0000</td><td style=\"background-color: rgb(235.8321, 255,235.8321);\">0.0752</td><td style=\"background-color: rgb(254.9464, 255,254.9464);\">0.0002</td><td style=\"background-color: rgb(255.0000, 255,255.0000);\">0.0000</td><td style=\"background-color: rgb(255.0000, 255,255.0000);\">0.0000</td></tr><tr><td><b>slots_true</b></td><td style=\"background-color: rgb(255,255,255);\">O</td><td style=\"background-color: rgb(255,255,255);\">O</td><td style=\"background-color: rgb(255,255,255);\">B-Theme</td><td style=\"background-color: rgb(255,255,255);\">I-Theme</td><td style=\"background-color: rgb(255,255,255);\">B-Goal</td><td style=\"background-color: rgb(255,255,255);\">I-Goal</td><td style=\"background-color: rgb(255,255,255);\">I-Goal</td></tr><tr><td><b>slots_pred</b></td><td style=\"background-color: rgb(255,255,255);\">B-Agent</td><td style=\"background-color: rgb(255,255,255);\">O</td><td style=\"background-color: rgb(255,255,255);\">B-Theme</td><td style=\"background-color: rgb(255,255,255);\">I-Theme</td><td style=\"background-color: rgb(255,255,255);\">B-Goal</td><td style=\"background-color: rgb(255,255,255);\">I-Goal</td><td style=\"background-color: rgb(255,255,255);\">I-Goal</td></tr></table>"
      ],
      "text/plain": [
       "<IPython.core.display.HTML object>"
      ]
     },
     "metadata": {},
     "output_type": "display_data"
    },
    {
     "name": "stdout",
     "output_type": "stream",
     "text": [
      "true: Motion pred: Entering\n"
     ]
    },
    {
     "data": {
      "text/html": [
       "<table><tr><td><b>words</b></td><td style=\"background-color: rgb(255,255,255);\">please</td><td style=\"background-color: rgb(255,255,255);\">walk</td><td style=\"background-color: rgb(255,255,255);\">slowly</td><td style=\"background-color: rgb(255,255,255);\">to</td><td style=\"background-color: rgb(255,255,255);\">the</td><td style=\"background-color: rgb(255,255,255);\">kitchen</td></tr><tr><td><b>lexical_unit</b></td><td style=\"background-color: rgb(255.0000, 255,255.0000);\">0.0000</td><td style=\"background-color: rgb(0.0000, 255,0.0000);\">1.0000</td><td style=\"background-color: rgb(255.0000, 255,255.0000);\">0.0000</td><td style=\"background-color: rgb(255.0000, 255,255.0000);\">0.0000</td><td style=\"background-color: rgb(255.0000, 255,255.0000);\">0.0000</td><td style=\"background-color: rgb(255.0000, 255,255.0000);\">0.0000</td></tr><tr><td><b>attention_intent</b></td><td style=\"background-color: rgb(21.3474, 255,21.3474);\">0.9163</td><td style=\"background-color: rgb(236.5060, 255,236.5060);\">0.0725</td><td style=\"background-color: rgb(252.1853, 255,252.1853);\">0.0110</td><td style=\"background-color: rgb(254.9628, 255,254.9628);\">0.0001</td><td style=\"background-color: rgb(255.0000, 255,255.0000);\">0.0000</td><td style=\"background-color: rgb(255.0000, 255,255.0000);\">0.0000</td></tr><tr><td><b>slots_true</b></td><td style=\"background-color: rgb(255,255,255);\">O</td><td style=\"background-color: rgb(255,255,255);\">O</td><td style=\"background-color: rgb(255,255,255);\">B-Manner</td><td style=\"background-color: rgb(255,255,255);\">B-Goal</td><td style=\"background-color: rgb(255,255,255);\">I-Goal</td><td style=\"background-color: rgb(255,255,255);\">I-Goal</td></tr><tr><td><b>slots_pred</b></td><td style=\"background-color: rgb(255,255,255);\">B-Theme</td><td style=\"background-color: rgb(255,255,255);\">O</td><td style=\"background-color: rgb(255,255,255);\">O</td><td style=\"background-color: rgb(255,255,255);\">B-Goal</td><td style=\"background-color: rgb(255,255,255);\">I-Goal</td><td style=\"background-color: rgb(255,255,255);\">I-Goal</td></tr></table>"
      ],
      "text/plain": [
       "<IPython.core.display.HTML object>"
      ]
     },
     "metadata": {},
     "output_type": "display_data"
    },
    {
     "name": "stdout",
     "output_type": "stream",
     "text": [
      "true: Placing pred: Placing\n"
     ]
    },
    {
     "data": {
      "text/html": [
       "<table><tr><td><b>words</b></td><td style=\"background-color: rgb(255,255,255);\">put</td><td style=\"background-color: rgb(255,255,255);\">the</td><td style=\"background-color: rgb(255,255,255);\">phone</td><td style=\"background-color: rgb(255,255,255);\">in</td><td style=\"background-color: rgb(255,255,255);\">the</td><td style=\"background-color: rgb(255,255,255);\">kitchen</td><td style=\"background-color: rgb(255,255,255);\">stove</td></tr><tr><td><b>lexical_unit</b></td><td style=\"background-color: rgb(0.0000, 255,0.0000);\">1.0000</td><td style=\"background-color: rgb(255.0000, 255,255.0000);\">0.0000</td><td style=\"background-color: rgb(255.0000, 255,255.0000);\">0.0000</td><td style=\"background-color: rgb(255.0000, 255,255.0000);\">0.0000</td><td style=\"background-color: rgb(255.0000, 255,255.0000);\">0.0000</td><td style=\"background-color: rgb(255.0000, 255,255.0000);\">0.0000</td><td style=\"background-color: rgb(255.0000, 255,255.0000);\">0.0000</td></tr><tr><td><b>attention_intent</b></td><td style=\"background-color: rgb(0.0433, 255,0.0433);\">0.9998</td><td style=\"background-color: rgb(255.0000, 255,255.0000);\">0.0000</td><td style=\"background-color: rgb(254.9572, 255,254.9572);\">0.0002</td><td style=\"background-color: rgb(254.9999, 255,254.9999);\">0.0000</td><td style=\"background-color: rgb(255.0000, 255,255.0000);\">0.0000</td><td style=\"background-color: rgb(255.0000, 255,255.0000);\">0.0000</td><td style=\"background-color: rgb(255.0000, 255,255.0000);\">0.0000</td></tr><tr><td><b>slots_true</b></td><td style=\"background-color: rgb(255,255,255);\">O</td><td style=\"background-color: rgb(255,255,255);\">B-Theme</td><td style=\"background-color: rgb(255,255,255);\">I-Theme</td><td style=\"background-color: rgb(255,255,255);\">B-Goal</td><td style=\"background-color: rgb(255,255,255);\">I-Goal</td><td style=\"background-color: rgb(255,255,255);\">I-Goal</td><td style=\"background-color: rgb(255,255,255);\">I-Goal</td></tr><tr><td><b>slots_pred</b></td><td style=\"background-color: rgb(255,255,255);\">O</td><td style=\"background-color: rgb(255,255,255);\">B-Theme</td><td style=\"background-color: rgb(255,255,255);\">I-Theme</td><td style=\"background-color: rgb(255,255,255);\">B-Goal</td><td style=\"background-color: rgb(255,255,255);\">I-Goal</td><td style=\"background-color: rgb(255,255,255);\">I-Goal</td><td style=\"background-color: rgb(255,255,255);\">I-Goal</td></tr></table>"
      ],
      "text/plain": [
       "<IPython.core.display.HTML object>"
      ]
     },
     "metadata": {},
     "output_type": "display_data"
    },
    {
     "name": "stdout",
     "output_type": "stream",
     "text": [
      "true: Bringing pred: Taking\n"
     ]
    },
    {
     "data": {
      "text/html": [
       "<table><tr><td><b>words</b></td><td style=\"background-color: rgb(255,255,255);\">take</td><td style=\"background-color: rgb(255,255,255);\">the</td><td style=\"background-color: rgb(255,255,255);\">book</td><td style=\"background-color: rgb(255,255,255);\">to</td><td style=\"background-color: rgb(255,255,255);\">the</td><td style=\"background-color: rgb(255,255,255);\">bedroom</td></tr><tr><td><b>lexical_unit</b></td><td style=\"background-color: rgb(0.0000, 255,0.0000);\">1.0000</td><td style=\"background-color: rgb(255.0000, 255,255.0000);\">0.0000</td><td style=\"background-color: rgb(255.0000, 255,255.0000);\">0.0000</td><td style=\"background-color: rgb(255.0000, 255,255.0000);\">0.0000</td><td style=\"background-color: rgb(255.0000, 255,255.0000);\">0.0000</td><td style=\"background-color: rgb(255.0000, 255,255.0000);\">0.0000</td></tr><tr><td><b>attention_intent</b></td><td style=\"background-color: rgb(0.0024, 255,0.0024);\">1.0000</td><td style=\"background-color: rgb(255.0000, 255,255.0000);\">0.0000</td><td style=\"background-color: rgb(254.9990, 255,254.9990);\">0.0000</td><td style=\"background-color: rgb(254.9994, 255,254.9994);\">0.0000</td><td style=\"background-color: rgb(255.0000, 255,255.0000);\">0.0000</td><td style=\"background-color: rgb(255.0000, 255,255.0000);\">0.0000</td></tr><tr><td><b>slots_true</b></td><td style=\"background-color: rgb(255,255,255);\">O</td><td style=\"background-color: rgb(255,255,255);\">B-Theme</td><td style=\"background-color: rgb(255,255,255);\">I-Theme</td><td style=\"background-color: rgb(255,255,255);\">B-Goal</td><td style=\"background-color: rgb(255,255,255);\">I-Goal</td><td style=\"background-color: rgb(255,255,255);\">I-Goal</td></tr><tr><td><b>slots_pred</b></td><td style=\"background-color: rgb(255,255,255);\">O</td><td style=\"background-color: rgb(255,255,255);\">B-Theme</td><td style=\"background-color: rgb(255,255,255);\">I-Theme</td><td style=\"background-color: rgb(255,255,255);\">B-Goal</td><td style=\"background-color: rgb(255,255,255);\">I-Goal</td><td style=\"background-color: rgb(255,255,255);\">I-Goal</td></tr></table>"
      ],
      "text/plain": [
       "<IPython.core.display.HTML object>"
      ]
     },
     "metadata": {},
     "output_type": "display_data"
    },
    {
     "name": "stdout",
     "output_type": "stream",
     "text": [
      "true: Bringing pred: Placing\n"
     ]
    },
    {
     "data": {
      "text/html": [
       "<table><tr><td><b>words</b></td><td style=\"background-color: rgb(255,255,255);\">take</td><td style=\"background-color: rgb(255,255,255);\">the</td><td style=\"background-color: rgb(255,255,255);\">bottle</td><td style=\"background-color: rgb(255,255,255);\">to</td><td style=\"background-color: rgb(255,255,255);\">the</td><td style=\"background-color: rgb(255,255,255);\">kitchen</td></tr><tr><td><b>lexical_unit</b></td><td style=\"background-color: rgb(0.0000, 255,0.0000);\">1.0000</td><td style=\"background-color: rgb(255.0000, 255,255.0000);\">0.0000</td><td style=\"background-color: rgb(255.0000, 255,255.0000);\">0.0000</td><td style=\"background-color: rgb(255.0000, 255,255.0000);\">0.0000</td><td style=\"background-color: rgb(255.0000, 255,255.0000);\">0.0000</td><td style=\"background-color: rgb(255.0000, 255,255.0000);\">0.0000</td></tr><tr><td><b>attention_intent</b></td><td style=\"background-color: rgb(170.1101, 255,170.1101);\">0.3329</td><td style=\"background-color: rgb(255.0000, 255,255.0000);\">0.0000</td><td style=\"background-color: rgb(84.9008, 255,84.9008);\">0.6671</td><td style=\"background-color: rgb(254.9894, 255,254.9894);\">0.0000</td><td style=\"background-color: rgb(255.0000, 255,255.0000);\">0.0000</td><td style=\"background-color: rgb(255.0000, 255,255.0000);\">0.0000</td></tr><tr><td><b>slots_true</b></td><td style=\"background-color: rgb(255,255,255);\">O</td><td style=\"background-color: rgb(255,255,255);\">B-Theme</td><td style=\"background-color: rgb(255,255,255);\">I-Theme</td><td style=\"background-color: rgb(255,255,255);\">B-Goal</td><td style=\"background-color: rgb(255,255,255);\">I-Goal</td><td style=\"background-color: rgb(255,255,255);\">I-Goal</td></tr><tr><td><b>slots_pred</b></td><td style=\"background-color: rgb(255,255,255);\">O</td><td style=\"background-color: rgb(255,255,255);\">B-Theme</td><td style=\"background-color: rgb(255,255,255);\">I-Theme</td><td style=\"background-color: rgb(255,255,255);\">B-Goal</td><td style=\"background-color: rgb(255,255,255);\">I-Goal</td><td style=\"background-color: rgb(255,255,255);\">I-Goal</td></tr></table>"
      ],
      "text/plain": [
       "<IPython.core.display.HTML object>"
      ]
     },
     "metadata": {},
     "output_type": "display_data"
    },
    {
     "name": "stdout",
     "output_type": "stream",
     "text": [
      "true: Bringing pred: Bringing\n"
     ]
    },
    {
     "data": {
      "text/html": [
       "<table><tr><td><b>words</b></td><td style=\"background-color: rgb(255,255,255);\">bring</td><td style=\"background-color: rgb(255,255,255);\">me</td><td style=\"background-color: rgb(255,255,255);\">the</td><td style=\"background-color: rgb(255,255,255);\">glasses</td></tr><tr><td><b>lexical_unit</b></td><td style=\"background-color: rgb(0.0000, 255,0.0000);\">1.0000</td><td style=\"background-color: rgb(255.0000, 255,255.0000);\">0.0000</td><td style=\"background-color: rgb(255.0000, 255,255.0000);\">0.0000</td><td style=\"background-color: rgb(255.0000, 255,255.0000);\">0.0000</td></tr><tr><td><b>attention_intent</b></td><td style=\"background-color: rgb(0.4780, 255,0.4780);\">0.9981</td><td style=\"background-color: rgb(254.5244, 255,254.5244);\">0.0019</td><td style=\"background-color: rgb(255.0000, 255,255.0000);\">0.0000</td><td style=\"background-color: rgb(254.9993, 255,254.9993);\">0.0000</td></tr><tr><td><b>slots_true</b></td><td style=\"background-color: rgb(255,255,255);\">O</td><td style=\"background-color: rgb(255,255,255);\">B-Beneficiary</td><td style=\"background-color: rgb(255,255,255);\">B-Theme</td><td style=\"background-color: rgb(255,255,255);\">I-Theme</td></tr><tr><td><b>slots_pred</b></td><td style=\"background-color: rgb(255,255,255);\">O</td><td style=\"background-color: rgb(255,255,255);\">B-Recipient</td><td style=\"background-color: rgb(255,255,255);\">B-Theme</td><td style=\"background-color: rgb(255,255,255);\">I-Theme</td></tr></table>"
      ],
      "text/plain": [
       "<IPython.core.display.HTML object>"
      ]
     },
     "metadata": {},
     "output_type": "display_data"
    },
    {
     "name": "stdout",
     "output_type": "stream",
     "text": [
      "true: Placing pred: Placing\n"
     ]
    },
    {
     "data": {
      "text/html": [
       "<table><tr><td><b>words</b></td><td style=\"background-color: rgb(255,255,255);\">and</td><td style=\"background-color: rgb(255,255,255);\">put</td><td style=\"background-color: rgb(255,255,255);\">them</td><td style=\"background-color: rgb(255,255,255);\">on</td><td style=\"background-color: rgb(255,255,255);\">the</td><td style=\"background-color: rgb(255,255,255);\">table</td><td style=\"background-color: rgb(255,255,255);\">next</td><td style=\"background-color: rgb(255,255,255);\">to</td><td style=\"background-color: rgb(255,255,255);\">the</td><td style=\"background-color: rgb(255,255,255);\">couch</td></tr><tr><td><b>lexical_unit</b></td><td style=\"background-color: rgb(255.0000, 255,255.0000);\">0.0000</td><td style=\"background-color: rgb(0.0000, 255,0.0000);\">1.0000</td><td style=\"background-color: rgb(255.0000, 255,255.0000);\">0.0000</td><td style=\"background-color: rgb(255.0000, 255,255.0000);\">0.0000</td><td style=\"background-color: rgb(255.0000, 255,255.0000);\">0.0000</td><td style=\"background-color: rgb(255.0000, 255,255.0000);\">0.0000</td><td style=\"background-color: rgb(255.0000, 255,255.0000);\">0.0000</td><td style=\"background-color: rgb(255.0000, 255,255.0000);\">0.0000</td><td style=\"background-color: rgb(255.0000, 255,255.0000);\">0.0000</td><td style=\"background-color: rgb(255.0000, 255,255.0000);\">0.0000</td></tr><tr><td><b>attention_intent</b></td><td style=\"background-color: rgb(254.9979, 255,254.9979);\">0.0000</td><td style=\"background-color: rgb(3.6114, 255,3.6114);\">0.9858</td><td style=\"background-color: rgb(252.5296, 255,252.5296);\">0.0097</td><td style=\"background-color: rgb(254.9974, 255,254.9974);\">0.0000</td><td style=\"background-color: rgb(255.0000, 255,255.0000);\">0.0000</td><td style=\"background-color: rgb(254.1171, 255,254.1171);\">0.0035</td><td style=\"background-color: rgb(254.9385, 255,254.9385);\">0.0002</td><td style=\"background-color: rgb(254.9990, 255,254.9990);\">0.0000</td><td style=\"background-color: rgb(255.0000, 255,255.0000);\">0.0000</td><td style=\"background-color: rgb(254.8096, 255,254.8096);\">0.0007</td></tr><tr><td><b>slots_true</b></td><td style=\"background-color: rgb(255,255,255);\">O</td><td style=\"background-color: rgb(255,255,255);\">O</td><td style=\"background-color: rgb(255,255,255);\">B-Theme</td><td style=\"background-color: rgb(255,255,255);\">B-Goal</td><td style=\"background-color: rgb(255,255,255);\">I-Goal</td><td style=\"background-color: rgb(255,255,255);\">I-Goal</td><td style=\"background-color: rgb(255,255,255);\">I-Goal</td><td style=\"background-color: rgb(255,255,255);\">I-Goal</td><td style=\"background-color: rgb(255,255,255);\">I-Goal</td><td style=\"background-color: rgb(255,255,255);\">I-Goal</td></tr><tr><td><b>slots_pred</b></td><td style=\"background-color: rgb(255,255,255);\">B-Agent</td><td style=\"background-color: rgb(255,255,255);\">O</td><td style=\"background-color: rgb(255,255,255);\">B-Theme</td><td style=\"background-color: rgb(255,255,255);\">B-Goal</td><td style=\"background-color: rgb(255,255,255);\">I-Goal</td><td style=\"background-color: rgb(255,255,255);\">I-Goal</td><td style=\"background-color: rgb(255,255,255);\">O</td><td style=\"background-color: rgb(255,255,255);\">B-Purpose</td><td style=\"background-color: rgb(255,255,255);\">I-Purpose</td><td style=\"background-color: rgb(255,255,255);\">I-Purpose</td></tr></table>"
      ],
      "text/plain": [
       "<IPython.core.display.HTML object>"
      ]
     },
     "metadata": {},
     "output_type": "display_data"
    },
    {
     "name": "stdout",
     "output_type": "stream",
     "text": [
      "true: Bringing pred: Bringing\n"
     ]
    },
    {
     "data": {
      "text/html": [
       "<table><tr><td><b>words</b></td><td style=\"background-color: rgb(255,255,255);\">can</td><td style=\"background-color: rgb(255,255,255);\">you</td><td style=\"background-color: rgb(255,255,255);\">bring</td><td style=\"background-color: rgb(255,255,255);\">me</td><td style=\"background-color: rgb(255,255,255);\">my</td><td style=\"background-color: rgb(255,255,255);\">eyeglass</td></tr><tr><td><b>lexical_unit</b></td><td style=\"background-color: rgb(255.0000, 255,255.0000);\">0.0000</td><td style=\"background-color: rgb(255.0000, 255,255.0000);\">0.0000</td><td style=\"background-color: rgb(0.0000, 255,0.0000);\">1.0000</td><td style=\"background-color: rgb(255.0000, 255,255.0000);\">0.0000</td><td style=\"background-color: rgb(255.0000, 255,255.0000);\">0.0000</td><td style=\"background-color: rgb(255.0000, 255,255.0000);\">0.0000</td></tr><tr><td><b>attention_intent</b></td><td style=\"background-color: rgb(254.9999, 255,254.9999);\">0.0000</td><td style=\"background-color: rgb(254.9983, 255,254.9983);\">0.0000</td><td style=\"background-color: rgb(3.5579, 255,3.5579);\">0.9860</td><td style=\"background-color: rgb(251.4458, 255,251.4458);\">0.0139</td><td style=\"background-color: rgb(255.0000, 255,255.0000);\">0.0000</td><td style=\"background-color: rgb(255.0000, 255,255.0000);\">0.0000</td></tr><tr><td><b>slots_true</b></td><td style=\"background-color: rgb(255,255,255);\">O</td><td style=\"background-color: rgb(255,255,255);\">B-Agent</td><td style=\"background-color: rgb(255,255,255);\">O</td><td style=\"background-color: rgb(255,255,255);\">B-Beneficiary</td><td style=\"background-color: rgb(255,255,255);\">B-Theme</td><td style=\"background-color: rgb(255,255,255);\">I-Theme</td></tr><tr><td><b>slots_pred</b></td><td style=\"background-color: rgb(255,255,255);\">B-Agent</td><td style=\"background-color: rgb(255,255,255);\">O</td><td style=\"background-color: rgb(255,255,255);\">O</td><td style=\"background-color: rgb(255,255,255);\">B-Goal</td><td style=\"background-color: rgb(255,255,255);\">B-Goal</td><td style=\"background-color: rgb(255,255,255);\">I-Goal</td></tr></table>"
      ],
      "text/plain": [
       "<IPython.core.display.HTML object>"
      ]
     },
     "metadata": {},
     "output_type": "display_data"
    },
    {
     "name": "stdout",
     "output_type": "stream",
     "text": [
      "true: Bringing pred: Bringing\n"
     ]
    },
    {
     "data": {
      "text/html": [
       "<table><tr><td><b>words</b></td><td style=\"background-color: rgb(255,255,255);\">can</td><td style=\"background-color: rgb(255,255,255);\">you</td><td style=\"background-color: rgb(255,255,255);\">bring</td><td style=\"background-color: rgb(255,255,255);\">me</td><td style=\"background-color: rgb(255,255,255);\">my</td><td style=\"background-color: rgb(255,255,255);\">tablet</td></tr><tr><td><b>lexical_unit</b></td><td style=\"background-color: rgb(255.0000, 255,255.0000);\">0.0000</td><td style=\"background-color: rgb(255.0000, 255,255.0000);\">0.0000</td><td style=\"background-color: rgb(0.0000, 255,0.0000);\">1.0000</td><td style=\"background-color: rgb(255.0000, 255,255.0000);\">0.0000</td><td style=\"background-color: rgb(255.0000, 255,255.0000);\">0.0000</td><td style=\"background-color: rgb(255.0000, 255,255.0000);\">0.0000</td></tr><tr><td><b>attention_intent</b></td><td style=\"background-color: rgb(254.9999, 255,254.9999);\">0.0000</td><td style=\"background-color: rgb(254.9983, 255,254.9983);\">0.0000</td><td style=\"background-color: rgb(4.3042, 255,4.3042);\">0.9831</td><td style=\"background-color: rgb(250.7532, 255,250.7532);\">0.0167</td><td style=\"background-color: rgb(255.0000, 255,255.0000);\">0.0000</td><td style=\"background-color: rgb(254.9462, 255,254.9462);\">0.0002</td></tr><tr><td><b>slots_true</b></td><td style=\"background-color: rgb(255,255,255);\">O</td><td style=\"background-color: rgb(255,255,255);\">B-Agent</td><td style=\"background-color: rgb(255,255,255);\">O</td><td style=\"background-color: rgb(255,255,255);\">B-Beneficiary</td><td style=\"background-color: rgb(255,255,255);\">B-Theme</td><td style=\"background-color: rgb(255,255,255);\">I-Theme</td></tr><tr><td><b>slots_pred</b></td><td style=\"background-color: rgb(255,255,255);\">B-Agent</td><td style=\"background-color: rgb(255,255,255);\">O</td><td style=\"background-color: rgb(255,255,255);\">O</td><td style=\"background-color: rgb(255,255,255);\">B-Goal</td><td style=\"background-color: rgb(255,255,255);\">O</td><td style=\"background-color: rgb(255,255,255);\">O</td></tr></table>"
      ],
      "text/plain": [
       "<IPython.core.display.HTML object>"
      ]
     },
     "metadata": {},
     "output_type": "display_data"
    },
    {
     "name": "stdout",
     "output_type": "stream",
     "text": [
      "true: Bringing pred: Bringing\n"
     ]
    },
    {
     "data": {
      "text/html": [
       "<table><tr><td><b>words</b></td><td style=\"background-color: rgb(255,255,255);\">and</td><td style=\"background-color: rgb(255,255,255);\">bring</td><td style=\"background-color: rgb(255,255,255);\">it</td><td style=\"background-color: rgb(255,255,255);\">to</td><td style=\"background-color: rgb(255,255,255);\">me</td></tr><tr><td><b>lexical_unit</b></td><td style=\"background-color: rgb(255.0000, 255,255.0000);\">0.0000</td><td style=\"background-color: rgb(0.0000, 255,0.0000);\">1.0000</td><td style=\"background-color: rgb(255.0000, 255,255.0000);\">0.0000</td><td style=\"background-color: rgb(255.0000, 255,255.0000);\">0.0000</td><td style=\"background-color: rgb(255.0000, 255,255.0000);\">0.0000</td></tr><tr><td><b>attention_intent</b></td><td style=\"background-color: rgb(254.9990, 255,254.9990);\">0.0000</td><td style=\"background-color: rgb(0.4795, 255,0.4795);\">0.9981</td><td style=\"background-color: rgb(254.9998, 255,254.9998);\">0.0000</td><td style=\"background-color: rgb(254.9980, 255,254.9980);\">0.0000</td><td style=\"background-color: rgb(254.5258, 255,254.5258);\">0.0019</td></tr><tr><td><b>slots_true</b></td><td style=\"background-color: rgb(255,255,255);\">O</td><td style=\"background-color: rgb(255,255,255);\">O</td><td style=\"background-color: rgb(255,255,255);\">B-Theme</td><td style=\"background-color: rgb(255,255,255);\">B-Beneficiary</td><td style=\"background-color: rgb(255,255,255);\">I-Beneficiary</td></tr><tr><td><b>slots_pred</b></td><td style=\"background-color: rgb(255,255,255);\">B-Agent</td><td style=\"background-color: rgb(255,255,255);\">O</td><td style=\"background-color: rgb(255,255,255);\">B-Theme</td><td style=\"background-color: rgb(255,255,255);\">B-Theme</td><td style=\"background-color: rgb(255,255,255);\">I-Theme</td></tr></table>"
      ],
      "text/plain": [
       "<IPython.core.display.HTML object>"
      ]
     },
     "metadata": {},
     "output_type": "display_data"
    },
    {
     "name": "stdout",
     "output_type": "stream",
     "text": [
      "true: Taking pred: Taking\n"
     ]
    },
    {
     "data": {
      "text/html": [
       "<table><tr><td><b>words</b></td><td style=\"background-color: rgb(255,255,255);\">could</td><td style=\"background-color: rgb(255,255,255);\">you</td><td style=\"background-color: rgb(255,255,255);\">take</td><td style=\"background-color: rgb(255,255,255);\">the</td><td style=\"background-color: rgb(255,255,255);\">knife</td><td style=\"background-color: rgb(255,255,255);\">on</td><td style=\"background-color: rgb(255,255,255);\">the</td><td style=\"background-color: rgb(255,255,255);\">cutting</td><td style=\"background-color: rgb(255,255,255);\">board</td></tr><tr><td><b>lexical_unit</b></td><td style=\"background-color: rgb(255.0000, 255,255.0000);\">0.0000</td><td style=\"background-color: rgb(255.0000, 255,255.0000);\">0.0000</td><td style=\"background-color: rgb(0.0000, 255,0.0000);\">1.0000</td><td style=\"background-color: rgb(255.0000, 255,255.0000);\">0.0000</td><td style=\"background-color: rgb(255.0000, 255,255.0000);\">0.0000</td><td style=\"background-color: rgb(255.0000, 255,255.0000);\">0.0000</td><td style=\"background-color: rgb(255.0000, 255,255.0000);\">0.0000</td><td style=\"background-color: rgb(255.0000, 255,255.0000);\">0.0000</td><td style=\"background-color: rgb(255.0000, 255,255.0000);\">0.0000</td></tr><tr><td><b>attention_intent</b></td><td style=\"background-color: rgb(254.9992, 255,254.9992);\">0.0000</td><td style=\"background-color: rgb(254.8030, 255,254.8030);\">0.0008</td><td style=\"background-color: rgb(2.6776, 255,2.6776);\">0.9895</td><td style=\"background-color: rgb(255.0000, 255,255.0000);\">0.0000</td><td style=\"background-color: rgb(252.5208, 255,252.5208);\">0.0097</td><td style=\"background-color: rgb(255.0000, 255,255.0000);\">0.0000</td><td style=\"background-color: rgb(255.0000, 255,255.0000);\">0.0000</td><td style=\"background-color: rgb(255.0000, 255,255.0000);\">0.0000</td><td style=\"background-color: rgb(255.0000, 255,255.0000);\">0.0000</td></tr><tr><td><b>slots_true</b></td><td style=\"background-color: rgb(255,255,255);\">O</td><td style=\"background-color: rgb(255,255,255);\">B-Agent</td><td style=\"background-color: rgb(255,255,255);\">O</td><td style=\"background-color: rgb(255,255,255);\">B-Theme</td><td style=\"background-color: rgb(255,255,255);\">I-Theme</td><td style=\"background-color: rgb(255,255,255);\">I-Theme</td><td style=\"background-color: rgb(255,255,255);\">I-Theme</td><td style=\"background-color: rgb(255,255,255);\">I-Theme</td><td style=\"background-color: rgb(255,255,255);\">I-Theme</td></tr><tr><td><b>slots_pred</b></td><td style=\"background-color: rgb(255,255,255);\">B-Agent</td><td style=\"background-color: rgb(255,255,255);\">O</td><td style=\"background-color: rgb(255,255,255);\">O</td><td style=\"background-color: rgb(255,255,255);\">B-Theme</td><td style=\"background-color: rgb(255,255,255);\">I-Theme</td><td style=\"background-color: rgb(255,255,255);\">I-Theme</td><td style=\"background-color: rgb(255,255,255);\">I-Theme</td><td style=\"background-color: rgb(255,255,255);\">I-Theme</td><td style=\"background-color: rgb(255,255,255);\">I-Theme</td></tr></table>"
      ],
      "text/plain": [
       "<IPython.core.display.HTML object>"
      ]
     },
     "metadata": {},
     "output_type": "display_data"
    },
    {
     "name": "stdout",
     "output_type": "stream",
     "text": [
      "true: Releasing pred: Placing\n"
     ]
    },
    {
     "data": {
      "text/html": [
       "<table><tr><td><b>words</b></td><td style=\"background-color: rgb(255,255,255);\">drop</td><td style=\"background-color: rgb(255,255,255);\">the</td><td style=\"background-color: rgb(255,255,255);\">vase</td></tr><tr><td><b>lexical_unit</b></td><td style=\"background-color: rgb(0.0000, 255,0.0000);\">1.0000</td><td style=\"background-color: rgb(255.0000, 255,255.0000);\">0.0000</td><td style=\"background-color: rgb(255.0000, 255,255.0000);\">0.0000</td></tr><tr><td><b>attention_intent</b></td><td style=\"background-color: rgb(34.2046, 255,34.2046);\">0.8659</td><td style=\"background-color: rgb(255.0000, 255,255.0000);\">0.0000</td><td style=\"background-color: rgb(220.8084, 255,220.8084);\">0.1341</td></tr><tr><td><b>slots_true</b></td><td style=\"background-color: rgb(255,255,255);\">O</td><td style=\"background-color: rgb(255,255,255);\">B-Theme</td><td style=\"background-color: rgb(255,255,255);\">I-Theme</td></tr><tr><td><b>slots_pred</b></td><td style=\"background-color: rgb(255,255,255);\">O</td><td style=\"background-color: rgb(255,255,255);\">B-Goal</td><td style=\"background-color: rgb(255,255,255);\">I-Goal</td></tr></table>"
      ],
      "text/plain": [
       "<IPython.core.display.HTML object>"
      ]
     },
     "metadata": {},
     "output_type": "display_data"
    },
    {
     "name": "stdout",
     "output_type": "stream",
     "text": [
      "true: Searching pred: Taking\n"
     ]
    },
    {
     "data": {
      "text/html": [
       "<table><tr><td><b>words</b></td><td style=\"background-color: rgb(255,255,255);\">find</td><td style=\"background-color: rgb(255,255,255);\">my</td><td style=\"background-color: rgb(255,255,255);\">tablet</td></tr><tr><td><b>lexical_unit</b></td><td style=\"background-color: rgb(0.0000, 255,0.0000);\">1.0000</td><td style=\"background-color: rgb(255.0000, 255,255.0000);\">0.0000</td><td style=\"background-color: rgb(255.0000, 255,255.0000);\">0.0000</td></tr><tr><td><b>attention_intent</b></td><td style=\"background-color: rgb(249.0842, 255,249.0842);\">0.0232</td><td style=\"background-color: rgb(255.0000, 255,255.0000);\">0.0000</td><td style=\"background-color: rgb(5.9845, 255,5.9845);\">0.9765</td></tr><tr><td><b>slots_true</b></td><td style=\"background-color: rgb(255,255,255);\">O</td><td style=\"background-color: rgb(255,255,255);\">B-Phenomenon</td><td style=\"background-color: rgb(255,255,255);\">I-Phenomenon</td></tr><tr><td><b>slots_pred</b></td><td style=\"background-color: rgb(255,255,255);\">O</td><td style=\"background-color: rgb(255,255,255);\">B-Phenomenon</td><td style=\"background-color: rgb(255,255,255);\">I-Phenomenon</td></tr></table>"
      ],
      "text/plain": [
       "<IPython.core.display.HTML object>"
      ]
     },
     "metadata": {},
     "output_type": "display_data"
    },
    {
     "name": "stdout",
     "output_type": "stream",
     "text": [
      "true: Motion pred: Motion\n"
     ]
    },
    {
     "data": {
      "text/html": [
       "<table><tr><td><b>words</b></td><td style=\"background-color: rgb(255,255,255);\">go</td><td style=\"background-color: rgb(255,255,255);\">in</td><td style=\"background-color: rgb(255,255,255);\">the</td><td style=\"background-color: rgb(255,255,255);\">bathroom</td></tr><tr><td><b>lexical_unit</b></td><td style=\"background-color: rgb(0.0000, 255,0.0000);\">1.0000</td><td style=\"background-color: rgb(255.0000, 255,255.0000);\">0.0000</td><td style=\"background-color: rgb(255.0000, 255,255.0000);\">0.0000</td><td style=\"background-color: rgb(255.0000, 255,255.0000);\">0.0000</td></tr><tr><td><b>attention_intent</b></td><td style=\"background-color: rgb(0.0048, 255,0.0048);\">1.0000</td><td style=\"background-color: rgb(254.9960, 255,254.9960);\">0.0000</td><td style=\"background-color: rgb(255.0000, 255,255.0000);\">0.0000</td><td style=\"background-color: rgb(255.0000, 255,255.0000);\">0.0000</td></tr><tr><td><b>slots_true</b></td><td style=\"background-color: rgb(255,255,255);\">O</td><td style=\"background-color: rgb(255,255,255);\">B-Goal</td><td style=\"background-color: rgb(255,255,255);\">I-Goal</td><td style=\"background-color: rgb(255,255,255);\">I-Goal</td></tr><tr><td><b>slots_pred</b></td><td style=\"background-color: rgb(255,255,255);\">O</td><td style=\"background-color: rgb(255,255,255);\">B-Goal</td><td style=\"background-color: rgb(255,255,255);\">I-Goal</td><td style=\"background-color: rgb(255,255,255);\">I-Goal</td></tr></table>"
      ],
      "text/plain": [
       "<IPython.core.display.HTML object>"
      ]
     },
     "metadata": {},
     "output_type": "display_data"
    },
    {
     "name": "stdout",
     "output_type": "stream",
     "text": [
      "true: Motion pred: Motion\n"
     ]
    },
    {
     "data": {
      "text/html": [
       "<table><tr><td><b>words</b></td><td style=\"background-color: rgb(255,255,255);\">go</td><td style=\"background-color: rgb(255,255,255);\">in</td><td style=\"background-color: rgb(255,255,255);\">the</td><td style=\"background-color: rgb(255,255,255);\">kitchen</td></tr><tr><td><b>lexical_unit</b></td><td style=\"background-color: rgb(0.0000, 255,0.0000);\">1.0000</td><td style=\"background-color: rgb(255.0000, 255,255.0000);\">0.0000</td><td style=\"background-color: rgb(255.0000, 255,255.0000);\">0.0000</td><td style=\"background-color: rgb(255.0000, 255,255.0000);\">0.0000</td></tr><tr><td><b>attention_intent</b></td><td style=\"background-color: rgb(0.0035, 255,0.0035);\">1.0000</td><td style=\"background-color: rgb(254.9974, 255,254.9974);\">0.0000</td><td style=\"background-color: rgb(255.0000, 255,255.0000);\">0.0000</td><td style=\"background-color: rgb(255.0000, 255,255.0000);\">0.0000</td></tr><tr><td><b>slots_true</b></td><td style=\"background-color: rgb(255,255,255);\">O</td><td style=\"background-color: rgb(255,255,255);\">B-Goal</td><td style=\"background-color: rgb(255,255,255);\">I-Goal</td><td style=\"background-color: rgb(255,255,255);\">I-Goal</td></tr><tr><td><b>slots_pred</b></td><td style=\"background-color: rgb(255,255,255);\">O</td><td style=\"background-color: rgb(255,255,255);\">B-Goal</td><td style=\"background-color: rgb(255,255,255);\">I-Goal</td><td style=\"background-color: rgb(255,255,255);\">I-Goal</td></tr></table>"
      ],
      "text/plain": [
       "<IPython.core.display.HTML object>"
      ]
     },
     "metadata": {},
     "output_type": "display_data"
    },
    {
     "name": "stdout",
     "output_type": "stream",
     "text": [
      "true: Motion pred: Motion\n"
     ]
    },
    {
     "data": {
      "text/html": [
       "<table><tr><td><b>words</b></td><td style=\"background-color: rgb(255,255,255);\">go</td><td style=\"background-color: rgb(255,255,255);\">next</td><td style=\"background-color: rgb(255,255,255);\">to</td><td style=\"background-color: rgb(255,255,255);\">the</td><td style=\"background-color: rgb(255,255,255);\">door</td></tr><tr><td><b>lexical_unit</b></td><td style=\"background-color: rgb(0.0000, 255,0.0000);\">1.0000</td><td style=\"background-color: rgb(255.0000, 255,255.0000);\">0.0000</td><td style=\"background-color: rgb(255.0000, 255,255.0000);\">0.0000</td><td style=\"background-color: rgb(255.0000, 255,255.0000);\">0.0000</td><td style=\"background-color: rgb(255.0000, 255,255.0000);\">0.0000</td></tr><tr><td><b>attention_intent</b></td><td style=\"background-color: rgb(0.2893, 255,0.2893);\">0.9989</td><td style=\"background-color: rgb(254.7126, 255,254.7126);\">0.0011</td><td style=\"background-color: rgb(254.9999, 255,254.9999);\">0.0000</td><td style=\"background-color: rgb(255.0000, 255,255.0000);\">0.0000</td><td style=\"background-color: rgb(254.9993, 255,254.9993);\">0.0000</td></tr><tr><td><b>slots_true</b></td><td style=\"background-color: rgb(255,255,255);\">O</td><td style=\"background-color: rgb(255,255,255);\">B-Goal</td><td style=\"background-color: rgb(255,255,255);\">I-Goal</td><td style=\"background-color: rgb(255,255,255);\">I-Goal</td><td style=\"background-color: rgb(255,255,255);\">I-Goal</td></tr><tr><td><b>slots_pred</b></td><td style=\"background-color: rgb(255,255,255);\">O</td><td style=\"background-color: rgb(255,255,255);\">B-Goal</td><td style=\"background-color: rgb(255,255,255);\">I-Goal</td><td style=\"background-color: rgb(255,255,255);\">I-Goal</td><td style=\"background-color: rgb(255,255,255);\">I-Goal</td></tr></table>"
      ],
      "text/plain": [
       "<IPython.core.display.HTML object>"
      ]
     },
     "metadata": {},
     "output_type": "display_data"
    },
    {
     "name": "stdout",
     "output_type": "stream",
     "text": [
      "true: Motion pred: Motion\n"
     ]
    },
    {
     "data": {
      "text/html": [
       "<table><tr><td><b>words</b></td><td style=\"background-color: rgb(255,255,255);\">go</td><td style=\"background-color: rgb(255,255,255);\">next</td><td style=\"background-color: rgb(255,255,255);\">to</td><td style=\"background-color: rgb(255,255,255);\">the</td><td style=\"background-color: rgb(255,255,255);\">tv</td><td style=\"background-color: rgb(255,255,255);\">set</td></tr><tr><td><b>lexical_unit</b></td><td style=\"background-color: rgb(0.0000, 255,0.0000);\">1.0000</td><td style=\"background-color: rgb(255.0000, 255,255.0000);\">0.0000</td><td style=\"background-color: rgb(255.0000, 255,255.0000);\">0.0000</td><td style=\"background-color: rgb(255.0000, 255,255.0000);\">0.0000</td><td style=\"background-color: rgb(255.0000, 255,255.0000);\">0.0000</td><td style=\"background-color: rgb(255.0000, 255,255.0000);\">0.0000</td></tr><tr><td><b>attention_intent</b></td><td style=\"background-color: rgb(0.0823, 255,0.0823);\">0.9997</td><td style=\"background-color: rgb(254.9195, 255,254.9195);\">0.0003</td><td style=\"background-color: rgb(254.9995, 255,254.9995);\">0.0000</td><td style=\"background-color: rgb(255.0000, 255,255.0000);\">0.0000</td><td style=\"background-color: rgb(254.9996, 255,254.9996);\">0.0000</td><td style=\"background-color: rgb(255.0000, 255,255.0000);\">0.0000</td></tr><tr><td><b>slots_true</b></td><td style=\"background-color: rgb(255,255,255);\">O</td><td style=\"background-color: rgb(255,255,255);\">B-Goal</td><td style=\"background-color: rgb(255,255,255);\">I-Goal</td><td style=\"background-color: rgb(255,255,255);\">I-Goal</td><td style=\"background-color: rgb(255,255,255);\">I-Goal</td><td style=\"background-color: rgb(255,255,255);\">I-Goal</td></tr><tr><td><b>slots_pred</b></td><td style=\"background-color: rgb(255,255,255);\">O</td><td style=\"background-color: rgb(255,255,255);\">B-Goal</td><td style=\"background-color: rgb(255,255,255);\">I-Goal</td><td style=\"background-color: rgb(255,255,255);\">I-Goal</td><td style=\"background-color: rgb(255,255,255);\">I-Goal</td><td style=\"background-color: rgb(255,255,255);\">I-Goal</td></tr></table>"
      ],
      "text/plain": [
       "<IPython.core.display.HTML object>"
      ]
     },
     "metadata": {},
     "output_type": "display_data"
    },
    {
     "name": "stdout",
     "output_type": "stream",
     "text": [
      "true: Motion pred: Motion\n"
     ]
    },
    {
     "data": {
      "text/html": [
       "<table><tr><td><b>words</b></td><td style=\"background-color: rgb(255,255,255);\">go</td><td style=\"background-color: rgb(255,255,255);\">to</td><td style=\"background-color: rgb(255,255,255);\">the</td><td style=\"background-color: rgb(255,255,255);\">coffee</td><td style=\"background-color: rgb(255,255,255);\">machine</td></tr><tr><td><b>lexical_unit</b></td><td style=\"background-color: rgb(0.0000, 255,0.0000);\">1.0000</td><td style=\"background-color: rgb(255.0000, 255,255.0000);\">0.0000</td><td style=\"background-color: rgb(255.0000, 255,255.0000);\">0.0000</td><td style=\"background-color: rgb(255.0000, 255,255.0000);\">0.0000</td><td style=\"background-color: rgb(255.0000, 255,255.0000);\">0.0000</td></tr><tr><td><b>attention_intent</b></td><td style=\"background-color: rgb(0.1745, 255,0.1745);\">0.9993</td><td style=\"background-color: rgb(254.8272, 255,254.8272);\">0.0007</td><td style=\"background-color: rgb(255.0000, 255,255.0000);\">0.0000</td><td style=\"background-color: rgb(254.9992, 255,254.9992);\">0.0000</td><td style=\"background-color: rgb(255.0000, 255,255.0000);\">0.0000</td></tr><tr><td><b>slots_true</b></td><td style=\"background-color: rgb(255,255,255);\">O</td><td style=\"background-color: rgb(255,255,255);\">B-Goal</td><td style=\"background-color: rgb(255,255,255);\">I-Goal</td><td style=\"background-color: rgb(255,255,255);\">I-Goal</td><td style=\"background-color: rgb(255,255,255);\">I-Goal</td></tr><tr><td><b>slots_pred</b></td><td style=\"background-color: rgb(255,255,255);\">O</td><td style=\"background-color: rgb(255,255,255);\">B-Goal</td><td style=\"background-color: rgb(255,255,255);\">I-Goal</td><td style=\"background-color: rgb(255,255,255);\">I-Goal</td><td style=\"background-color: rgb(255,255,255);\">I-Goal</td></tr></table>"
      ],
      "text/plain": [
       "<IPython.core.display.HTML object>"
      ]
     },
     "metadata": {},
     "output_type": "display_data"
    },
    {
     "name": "stdout",
     "output_type": "stream",
     "text": [
      "true: Bringing pred: Bringing\n"
     ]
    },
    {
     "data": {
      "text/html": [
       "<table><tr><td><b>words</b></td><td style=\"background-color: rgb(255,255,255);\">and</td><td style=\"background-color: rgb(255,255,255);\">bring</td><td style=\"background-color: rgb(255,255,255);\">it</td><td style=\"background-color: rgb(255,255,255);\">here</td></tr><tr><td><b>lexical_unit</b></td><td style=\"background-color: rgb(255.0000, 255,255.0000);\">0.0000</td><td style=\"background-color: rgb(0.0000, 255,0.0000);\">1.0000</td><td style=\"background-color: rgb(255.0000, 255,255.0000);\">0.0000</td><td style=\"background-color: rgb(255.0000, 255,255.0000);\">0.0000</td></tr><tr><td><b>attention_intent</b></td><td style=\"background-color: rgb(254.9964, 255,254.9964);\">0.0000</td><td style=\"background-color: rgb(29.2300, 255,29.2300);\">0.8854</td><td style=\"background-color: rgb(254.9895, 255,254.9895);\">0.0000</td><td style=\"background-color: rgb(226.8901, 255,226.8901);\">0.1102</td></tr><tr><td><b>slots_true</b></td><td style=\"background-color: rgb(255,255,255);\">O</td><td style=\"background-color: rgb(255,255,255);\">O</td><td style=\"background-color: rgb(255,255,255);\">B-Theme</td><td style=\"background-color: rgb(255,255,255);\">B-Goal</td></tr><tr><td><b>slots_pred</b></td><td style=\"background-color: rgb(255,255,255);\">B-Theme</td><td style=\"background-color: rgb(255,255,255);\">I-Theme</td><td style=\"background-color: rgb(255,255,255);\">B-Theme</td><td style=\"background-color: rgb(255,255,255);\">O</td></tr></table>"
      ],
      "text/plain": [
       "<IPython.core.display.HTML object>"
      ]
     },
     "metadata": {},
     "output_type": "display_data"
    },
    {
     "name": "stdout",
     "output_type": "stream",
     "text": [
      "true: Searching pred: Perception_active\n"
     ]
    },
    {
     "data": {
      "text/html": [
       "<table><tr><td><b>words</b></td><td style=\"background-color: rgb(255,255,255);\">look</td><td style=\"background-color: rgb(255,255,255);\">for</td><td style=\"background-color: rgb(255,255,255);\">my</td><td style=\"background-color: rgb(255,255,255);\">mobile</td><td style=\"background-color: rgb(255,255,255);\">phone</td></tr><tr><td><b>lexical_unit</b></td><td style=\"background-color: rgb(0.0000, 255,0.0000);\">1.0000</td><td style=\"background-color: rgb(255.0000, 255,255.0000);\">0.0000</td><td style=\"background-color: rgb(255.0000, 255,255.0000);\">0.0000</td><td style=\"background-color: rgb(255.0000, 255,255.0000);\">0.0000</td><td style=\"background-color: rgb(255.0000, 255,255.0000);\">0.0000</td></tr><tr><td><b>attention_intent</b></td><td style=\"background-color: rgb(5.6417, 255,5.6417);\">0.9779</td><td style=\"background-color: rgb(255.0000, 255,255.0000);\">0.0000</td><td style=\"background-color: rgb(255.0000, 255,255.0000);\">0.0000</td><td style=\"background-color: rgb(249.3588, 255,249.3588);\">0.0221</td><td style=\"background-color: rgb(255.0000, 255,255.0000);\">0.0000</td></tr><tr><td><b>slots_true</b></td><td style=\"background-color: rgb(255,255,255);\">O</td><td style=\"background-color: rgb(255,255,255);\">B-Phenomenon</td><td style=\"background-color: rgb(255,255,255);\">I-Phenomenon</td><td style=\"background-color: rgb(255,255,255);\">I-Phenomenon</td><td style=\"background-color: rgb(255,255,255);\">I-Phenomenon</td></tr><tr><td><b>slots_pred</b></td><td style=\"background-color: rgb(255,255,255);\">O</td><td style=\"background-color: rgb(255,255,255);\">B-Phenomenon</td><td style=\"background-color: rgb(255,255,255);\">I-Phenomenon</td><td style=\"background-color: rgb(255,255,255);\">I-Phenomenon</td><td style=\"background-color: rgb(255,255,255);\">I-Phenomenon</td></tr></table>"
      ],
      "text/plain": [
       "<IPython.core.display.HTML object>"
      ]
     },
     "metadata": {},
     "output_type": "display_data"
    },
    {
     "name": "stdout",
     "output_type": "stream",
     "text": [
      "true: Motion pred: Motion\n"
     ]
    },
    {
     "data": {
      "text/html": [
       "<table><tr><td><b>words</b></td><td style=\"background-color: rgb(255,255,255);\">move</td><td style=\"background-color: rgb(255,255,255);\">away</td><td style=\"background-color: rgb(255,255,255);\">from</td><td style=\"background-color: rgb(255,255,255);\">the</td><td style=\"background-color: rgb(255,255,255);\">oven</td></tr><tr><td><b>lexical_unit</b></td><td style=\"background-color: rgb(0.0000, 255,0.0000);\">1.0000</td><td style=\"background-color: rgb(255.0000, 255,255.0000);\">0.0000</td><td style=\"background-color: rgb(255.0000, 255,255.0000);\">0.0000</td><td style=\"background-color: rgb(255.0000, 255,255.0000);\">0.0000</td><td style=\"background-color: rgb(255.0000, 255,255.0000);\">0.0000</td></tr><tr><td><b>attention_intent</b></td><td style=\"background-color: rgb(0.8365, 255,0.8365);\">0.9967</td><td style=\"background-color: rgb(254.1699, 255,254.1699);\">0.0033</td><td style=\"background-color: rgb(255.0000, 255,255.0000);\">0.0000</td><td style=\"background-color: rgb(255.0000, 255,255.0000);\">0.0000</td><td style=\"background-color: rgb(255.0000, 255,255.0000);\">0.0000</td></tr><tr><td><b>slots_true</b></td><td style=\"background-color: rgb(255,255,255);\">O</td><td style=\"background-color: rgb(255,255,255);\">B-Source</td><td style=\"background-color: rgb(255,255,255);\">I-Source</td><td style=\"background-color: rgb(255,255,255);\">I-Source</td><td style=\"background-color: rgb(255,255,255);\">I-Source</td></tr><tr><td><b>slots_pred</b></td><td style=\"background-color: rgb(255,255,255);\">O</td><td style=\"background-color: rgb(255,255,255);\">B-Source</td><td style=\"background-color: rgb(255,255,255);\">I-Source</td><td style=\"background-color: rgb(255,255,255);\">I-Source</td><td style=\"background-color: rgb(255,255,255);\">I-Source</td></tr></table>"
      ],
      "text/plain": [
       "<IPython.core.display.HTML object>"
      ]
     },
     "metadata": {},
     "output_type": "display_data"
    },
    {
     "name": "stdout",
     "output_type": "stream",
     "text": [
      "true: Placing pred: Placing\n"
     ]
    },
    {
     "data": {
      "text/html": [
       "<table><tr><td><b>words</b></td><td style=\"background-color: rgb(255,255,255);\">put</td><td style=\"background-color: rgb(255,255,255);\">the</td><td style=\"background-color: rgb(255,255,255);\">mobile</td><td style=\"background-color: rgb(255,255,255);\">phone</td><td style=\"background-color: rgb(255,255,255);\">in</td><td style=\"background-color: rgb(255,255,255);\">the</td><td style=\"background-color: rgb(255,255,255);\">nightstand</td></tr><tr><td><b>lexical_unit</b></td><td style=\"background-color: rgb(0.0000, 255,0.0000);\">1.0000</td><td style=\"background-color: rgb(255.0000, 255,255.0000);\">0.0000</td><td style=\"background-color: rgb(255.0000, 255,255.0000);\">0.0000</td><td style=\"background-color: rgb(255.0000, 255,255.0000);\">0.0000</td><td style=\"background-color: rgb(255.0000, 255,255.0000);\">0.0000</td><td style=\"background-color: rgb(255.0000, 255,255.0000);\">0.0000</td><td style=\"background-color: rgb(255.0000, 255,255.0000);\">0.0000</td></tr><tr><td><b>attention_intent</b></td><td style=\"background-color: rgb(11.2361, 255,11.2361);\">0.9559</td><td style=\"background-color: rgb(255.0000, 255,255.0000);\">0.0000</td><td style=\"background-color: rgb(243.7738, 255,243.7738);\">0.0440</td><td style=\"background-color: rgb(254.9912, 255,254.9912);\">0.0000</td><td style=\"background-color: rgb(255.0000, 255,255.0000);\">0.0000</td><td style=\"background-color: rgb(255.0000, 255,255.0000);\">0.0000</td><td style=\"background-color: rgb(254.9992, 255,254.9992);\">0.0000</td></tr><tr><td><b>slots_true</b></td><td style=\"background-color: rgb(255,255,255);\">O</td><td style=\"background-color: rgb(255,255,255);\">B-Theme</td><td style=\"background-color: rgb(255,255,255);\">I-Theme</td><td style=\"background-color: rgb(255,255,255);\">I-Theme</td><td style=\"background-color: rgb(255,255,255);\">B-Goal</td><td style=\"background-color: rgb(255,255,255);\">I-Goal</td><td style=\"background-color: rgb(255,255,255);\">I-Goal</td></tr><tr><td><b>slots_pred</b></td><td style=\"background-color: rgb(255,255,255);\">O</td><td style=\"background-color: rgb(255,255,255);\">B-Theme</td><td style=\"background-color: rgb(255,255,255);\">I-Theme</td><td style=\"background-color: rgb(255,255,255);\">B-Goal</td><td style=\"background-color: rgb(255,255,255);\">I-Goal</td><td style=\"background-color: rgb(255,255,255);\">I-Goal</td><td style=\"background-color: rgb(255,255,255);\">I-Goal</td></tr></table>"
      ],
      "text/plain": [
       "<IPython.core.display.HTML object>"
      ]
     },
     "metadata": {},
     "output_type": "display_data"
    },
    {
     "name": "stdout",
     "output_type": "stream",
     "text": [
      "true: Placing pred: Placing\n"
     ]
    },
    {
     "data": {
      "text/html": [
       "<table><tr><td><b>words</b></td><td style=\"background-color: rgb(255,255,255);\">put</td><td style=\"background-color: rgb(255,255,255);\">this</td><td style=\"background-color: rgb(255,255,255);\">pan</td><td style=\"background-color: rgb(255,255,255);\">on</td><td style=\"background-color: rgb(255,255,255);\">the</td><td style=\"background-color: rgb(255,255,255);\">stove</td></tr><tr><td><b>lexical_unit</b></td><td style=\"background-color: rgb(0.0000, 255,0.0000);\">1.0000</td><td style=\"background-color: rgb(255.0000, 255,255.0000);\">0.0000</td><td style=\"background-color: rgb(255.0000, 255,255.0000);\">0.0000</td><td style=\"background-color: rgb(255.0000, 255,255.0000);\">0.0000</td><td style=\"background-color: rgb(255.0000, 255,255.0000);\">0.0000</td><td style=\"background-color: rgb(255.0000, 255,255.0000);\">0.0000</td></tr><tr><td><b>attention_intent</b></td><td style=\"background-color: rgb(30.5647, 255,30.5647);\">0.8801</td><td style=\"background-color: rgb(255.0000, 255,255.0000);\">0.0000</td><td style=\"background-color: rgb(224.4357, 255,224.4357);\">0.1199</td><td style=\"background-color: rgb(254.9999, 255,254.9999);\">0.0000</td><td style=\"background-color: rgb(255.0000, 255,255.0000);\">0.0000</td><td style=\"background-color: rgb(255.0000, 255,255.0000);\">0.0000</td></tr><tr><td><b>slots_true</b></td><td style=\"background-color: rgb(255,255,255);\">O</td><td style=\"background-color: rgb(255,255,255);\">B-Theme</td><td style=\"background-color: rgb(255,255,255);\">I-Theme</td><td style=\"background-color: rgb(255,255,255);\">B-Goal</td><td style=\"background-color: rgb(255,255,255);\">I-Goal</td><td style=\"background-color: rgb(255,255,255);\">I-Goal</td></tr><tr><td><b>slots_pred</b></td><td style=\"background-color: rgb(255,255,255);\">O</td><td style=\"background-color: rgb(255,255,255);\">B-Theme</td><td style=\"background-color: rgb(255,255,255);\">I-Theme</td><td style=\"background-color: rgb(255,255,255);\">B-Goal</td><td style=\"background-color: rgb(255,255,255);\">I-Goal</td><td style=\"background-color: rgb(255,255,255);\">I-Goal</td></tr></table>"
      ],
      "text/plain": [
       "<IPython.core.display.HTML object>"
      ]
     },
     "metadata": {},
     "output_type": "display_data"
    },
    {
     "name": "stdout",
     "output_type": "stream",
     "text": [
      "true: Being_located pred: Placing\n"
     ]
    },
    {
     "data": {
      "text/html": [
       "<table><tr><td><b>words</b></td><td style=\"background-color: rgb(255,255,255);\">it</td><td style=\"background-color: rgb(255,255,255);\">should</td><td style=\"background-color: rgb(255,255,255);\">be</td><td style=\"background-color: rgb(255,255,255);\">on</td><td style=\"background-color: rgb(255,255,255);\">the</td><td style=\"background-color: rgb(255,255,255);\">nightstand</td></tr><tr><td><b>lexical_unit</b></td><td style=\"background-color: rgb(255.0000, 255,255.0000);\">0.0000</td><td style=\"background-color: rgb(255.0000, 255,255.0000);\">0.0000</td><td style=\"background-color: rgb(0.0000, 255,0.0000);\">1.0000</td><td style=\"background-color: rgb(255.0000, 255,255.0000);\">0.0000</td><td style=\"background-color: rgb(255.0000, 255,255.0000);\">0.0000</td><td style=\"background-color: rgb(255.0000, 255,255.0000);\">0.0000</td></tr><tr><td><b>attention_intent</b></td><td style=\"background-color: rgb(255.0000, 255,255.0000);\">0.0000</td><td style=\"background-color: rgb(234.7756, 255,234.7756);\">0.0793</td><td style=\"background-color: rgb(21.1315, 255,21.1315);\">0.9171</td><td style=\"background-color: rgb(254.7120, 255,254.7120);\">0.0011</td><td style=\"background-color: rgb(255.0000, 255,255.0000);\">0.0000</td><td style=\"background-color: rgb(254.3831, 255,254.3831);\">0.0024</td></tr><tr><td><b>slots_true</b></td><td style=\"background-color: rgb(255,255,255);\">B-Theme</td><td style=\"background-color: rgb(255,255,255);\">O</td><td style=\"background-color: rgb(255,255,255);\">O</td><td style=\"background-color: rgb(255,255,255);\">B-Location</td><td style=\"background-color: rgb(255,255,255);\">I-Location</td><td style=\"background-color: rgb(255,255,255);\">I-Location</td></tr><tr><td><b>slots_pred</b></td><td style=\"background-color: rgb(255,255,255);\">B-Theme</td><td style=\"background-color: rgb(255,255,255);\">O</td><td style=\"background-color: rgb(255,255,255);\">O</td><td style=\"background-color: rgb(255,255,255);\">B-Goal</td><td style=\"background-color: rgb(255,255,255);\">I-Goal</td><td style=\"background-color: rgb(255,255,255);\">I-Goal</td></tr></table>"
      ],
      "text/plain": [
       "<IPython.core.display.HTML object>"
      ]
     },
     "metadata": {},
     "output_type": "display_data"
    },
    {
     "name": "stdout",
     "output_type": "stream",
     "text": [
      "true: Searching pred: Searching\n"
     ]
    },
    {
     "data": {
      "text/html": [
       "<table><tr><td><b>words</b></td><td style=\"background-color: rgb(255,255,255);\">robot</td><td style=\"background-color: rgb(255,255,255);\">please</td><td style=\"background-color: rgb(255,255,255);\">search</td><td style=\"background-color: rgb(255,255,255);\">for</td><td style=\"background-color: rgb(255,255,255);\">the</td><td style=\"background-color: rgb(255,255,255);\">horn</td><td style=\"background-color: rgb(255,255,255);\">glasses</td></tr><tr><td><b>lexical_unit</b></td><td style=\"background-color: rgb(255.0000, 255,255.0000);\">0.0000</td><td style=\"background-color: rgb(255.0000, 255,255.0000);\">0.0000</td><td style=\"background-color: rgb(0.0000, 255,0.0000);\">1.0000</td><td style=\"background-color: rgb(255.0000, 255,255.0000);\">0.0000</td><td style=\"background-color: rgb(255.0000, 255,255.0000);\">0.0000</td><td style=\"background-color: rgb(255.0000, 255,255.0000);\">0.0000</td><td style=\"background-color: rgb(255.0000, 255,255.0000);\">0.0000</td></tr><tr><td><b>attention_intent</b></td><td style=\"background-color: rgb(255.0000, 255,255.0000);\">0.0000</td><td style=\"background-color: rgb(218.3212, 255,218.3212);\">0.1438</td><td style=\"background-color: rgb(36.6812, 255,36.6812);\">0.8562</td><td style=\"background-color: rgb(255.0000, 255,255.0000);\">0.0000</td><td style=\"background-color: rgb(255.0000, 255,255.0000);\">0.0000</td><td style=\"background-color: rgb(254.9998, 255,254.9998);\">0.0000</td><td style=\"background-color: rgb(254.9993, 255,254.9993);\">0.0000</td></tr><tr><td><b>slots_true</b></td><td style=\"background-color: rgb(255,255,255);\">O</td><td style=\"background-color: rgb(255,255,255);\">O</td><td style=\"background-color: rgb(255,255,255);\">O</td><td style=\"background-color: rgb(255,255,255);\">B-Phenomenon</td><td style=\"background-color: rgb(255,255,255);\">I-Phenomenon</td><td style=\"background-color: rgb(255,255,255);\">I-Phenomenon</td><td style=\"background-color: rgb(255,255,255);\">I-Phenomenon</td></tr><tr><td><b>slots_pred</b></td><td style=\"background-color: rgb(255,255,255);\">B-Cognizer</td><td style=\"background-color: rgb(255,255,255);\">O</td><td style=\"background-color: rgb(255,255,255);\">O</td><td style=\"background-color: rgb(255,255,255);\">B-Ground</td><td style=\"background-color: rgb(255,255,255);\">I-Ground</td><td style=\"background-color: rgb(255,255,255);\">I-Ground</td><td style=\"background-color: rgb(255,255,255);\">I-Ground</td></tr></table>"
      ],
      "text/plain": [
       "<IPython.core.display.HTML object>"
      ]
     },
     "metadata": {},
     "output_type": "display_data"
    },
    {
     "name": "stdout",
     "output_type": "stream",
     "text": [
      "true: Searching pred: Searching\n"
     ]
    },
    {
     "data": {
      "text/html": [
       "<table><tr><td><b>words</b></td><td style=\"background-color: rgb(255,255,255);\">and</td><td style=\"background-color: rgb(255,255,255);\">search</td><td style=\"background-color: rgb(255,255,255);\">for</td><td style=\"background-color: rgb(255,255,255);\">my</td><td style=\"background-color: rgb(255,255,255);\">hat</td></tr><tr><td><b>lexical_unit</b></td><td style=\"background-color: rgb(255.0000, 255,255.0000);\">0.0000</td><td style=\"background-color: rgb(0.0000, 255,0.0000);\">1.0000</td><td style=\"background-color: rgb(255.0000, 255,255.0000);\">0.0000</td><td style=\"background-color: rgb(255.0000, 255,255.0000);\">0.0000</td><td style=\"background-color: rgb(255.0000, 255,255.0000);\">0.0000</td></tr><tr><td><b>attention_intent</b></td><td style=\"background-color: rgb(254.9999, 255,254.9999);\">0.0000</td><td style=\"background-color: rgb(0.0008, 255,0.0008);\">1.0000</td><td style=\"background-color: rgb(255.0000, 255,255.0000);\">0.0000</td><td style=\"background-color: rgb(255.0000, 255,255.0000);\">0.0000</td><td style=\"background-color: rgb(255.0000, 255,255.0000);\">0.0000</td></tr><tr><td><b>slots_true</b></td><td style=\"background-color: rgb(255,255,255);\">O</td><td style=\"background-color: rgb(255,255,255);\">O</td><td style=\"background-color: rgb(255,255,255);\">B-Phenomenon</td><td style=\"background-color: rgb(255,255,255);\">I-Phenomenon</td><td style=\"background-color: rgb(255,255,255);\">I-Phenomenon</td></tr><tr><td><b>slots_pred</b></td><td style=\"background-color: rgb(255,255,255);\">B-Ground</td><td style=\"background-color: rgb(255,255,255);\">O</td><td style=\"background-color: rgb(255,255,255);\">B-Ground</td><td style=\"background-color: rgb(255,255,255);\">I-Ground</td><td style=\"background-color: rgb(255,255,255);\">I-Ground</td></tr></table>"
      ],
      "text/plain": [
       "<IPython.core.display.HTML object>"
      ]
     },
     "metadata": {},
     "output_type": "display_data"
    },
    {
     "name": "stdout",
     "output_type": "stream",
     "text": [
      "true: Searching pred: Searching\n"
     ]
    },
    {
     "data": {
      "text/html": [
       "<table><tr><td><b>words</b></td><td style=\"background-color: rgb(255,255,255);\">search</td><td style=\"background-color: rgb(255,255,255);\">for</td><td style=\"background-color: rgb(255,255,255);\">a</td><td style=\"background-color: rgb(255,255,255);\">blue</td><td style=\"background-color: rgb(255,255,255);\">plate</td></tr><tr><td><b>lexical_unit</b></td><td style=\"background-color: rgb(0.0000, 255,0.0000);\">1.0000</td><td style=\"background-color: rgb(255.0000, 255,255.0000);\">0.0000</td><td style=\"background-color: rgb(255.0000, 255,255.0000);\">0.0000</td><td style=\"background-color: rgb(255.0000, 255,255.0000);\">0.0000</td><td style=\"background-color: rgb(255.0000, 255,255.0000);\">0.0000</td></tr><tr><td><b>attention_intent</b></td><td style=\"background-color: rgb(0.0089, 255,0.0089);\">1.0000</td><td style=\"background-color: rgb(255.0000, 255,255.0000);\">0.0000</td><td style=\"background-color: rgb(255.0000, 255,255.0000);\">0.0000</td><td style=\"background-color: rgb(255.0000, 255,255.0000);\">0.0000</td><td style=\"background-color: rgb(254.9917, 255,254.9917);\">0.0000</td></tr><tr><td><b>slots_true</b></td><td style=\"background-color: rgb(255,255,255);\">O</td><td style=\"background-color: rgb(255,255,255);\">B-Phenomenon</td><td style=\"background-color: rgb(255,255,255);\">I-Phenomenon</td><td style=\"background-color: rgb(255,255,255);\">I-Phenomenon</td><td style=\"background-color: rgb(255,255,255);\">I-Phenomenon</td></tr><tr><td><b>slots_pred</b></td><td style=\"background-color: rgb(255,255,255);\">O</td><td style=\"background-color: rgb(255,255,255);\">B-Phenomenon</td><td style=\"background-color: rgb(255,255,255);\">I-Phenomenon</td><td style=\"background-color: rgb(255,255,255);\">I-Phenomenon</td><td style=\"background-color: rgb(255,255,255);\">I-Phenomenon</td></tr></table>"
      ],
      "text/plain": [
       "<IPython.core.display.HTML object>"
      ]
     },
     "metadata": {},
     "output_type": "display_data"
    },
    {
     "name": "stdout",
     "output_type": "stream",
     "text": [
      "true: Searching pred: Searching\n"
     ]
    },
    {
     "data": {
      "text/html": [
       "<table><tr><td><b>words</b></td><td style=\"background-color: rgb(255,255,255);\">search</td><td style=\"background-color: rgb(255,255,255);\">for</td><td style=\"background-color: rgb(255,255,255);\">the</td><td style=\"background-color: rgb(255,255,255);\">scissors</td><td style=\"background-color: rgb(255,255,255);\">in</td><td style=\"background-color: rgb(255,255,255);\">the</td><td style=\"background-color: rgb(255,255,255);\">red</td><td style=\"background-color: rgb(255,255,255);\">drawer</td></tr><tr><td><b>lexical_unit</b></td><td style=\"background-color: rgb(0.0000, 255,0.0000);\">1.0000</td><td style=\"background-color: rgb(255.0000, 255,255.0000);\">0.0000</td><td style=\"background-color: rgb(255.0000, 255,255.0000);\">0.0000</td><td style=\"background-color: rgb(255.0000, 255,255.0000);\">0.0000</td><td style=\"background-color: rgb(255.0000, 255,255.0000);\">0.0000</td><td style=\"background-color: rgb(255.0000, 255,255.0000);\">0.0000</td><td style=\"background-color: rgb(255.0000, 255,255.0000);\">0.0000</td><td style=\"background-color: rgb(255.0000, 255,255.0000);\">0.0000</td></tr><tr><td><b>attention_intent</b></td><td style=\"background-color: rgb(0.0422, 255,0.0422);\">0.9998</td><td style=\"background-color: rgb(255.0000, 255,255.0000);\">0.0000</td><td style=\"background-color: rgb(255.0000, 255,255.0000);\">0.0000</td><td style=\"background-color: rgb(254.9585, 255,254.9585);\">0.0002</td><td style=\"background-color: rgb(255.0000, 255,255.0000);\">0.0000</td><td style=\"background-color: rgb(255.0000, 255,255.0000);\">0.0000</td><td style=\"background-color: rgb(255.0000, 255,255.0000);\">0.0000</td><td style=\"background-color: rgb(255.0000, 255,255.0000);\">0.0000</td></tr><tr><td><b>slots_true</b></td><td style=\"background-color: rgb(255,255,255);\">O</td><td style=\"background-color: rgb(255,255,255);\">B-Phenomenon</td><td style=\"background-color: rgb(255,255,255);\">I-Phenomenon</td><td style=\"background-color: rgb(255,255,255);\">I-Phenomenon</td><td style=\"background-color: rgb(255,255,255);\">B-Ground</td><td style=\"background-color: rgb(255,255,255);\">I-Ground</td><td style=\"background-color: rgb(255,255,255);\">I-Ground</td><td style=\"background-color: rgb(255,255,255);\">I-Ground</td></tr><tr><td><b>slots_pred</b></td><td style=\"background-color: rgb(255,255,255);\">O</td><td style=\"background-color: rgb(255,255,255);\">B-Ground</td><td style=\"background-color: rgb(255,255,255);\">I-Ground</td><td style=\"background-color: rgb(255,255,255);\">I-Ground</td><td style=\"background-color: rgb(255,255,255);\">I-Ground</td><td style=\"background-color: rgb(255,255,255);\">I-Ground</td><td style=\"background-color: rgb(255,255,255);\">I-Ground</td><td style=\"background-color: rgb(255,255,255);\">I-Ground</td></tr></table>"
      ],
      "text/plain": [
       "<IPython.core.display.HTML object>"
      ]
     },
     "metadata": {},
     "output_type": "display_data"
    },
    {
     "name": "stdout",
     "output_type": "stream",
     "text": [
      "true: Searching pred: Searching\n"
     ]
    },
    {
     "data": {
      "text/html": [
       "<table><tr><td><b>words</b></td><td style=\"background-color: rgb(255,255,255);\">search</td><td style=\"background-color: rgb(255,255,255);\">the</td><td style=\"background-color: rgb(255,255,255);\">living</td><td style=\"background-color: rgb(255,255,255);\">room</td><td style=\"background-color: rgb(255,255,255);\">for</td><td style=\"background-color: rgb(255,255,255);\">the</td><td style=\"background-color: rgb(255,255,255);\">remote</td><td style=\"background-color: rgb(255,255,255);\">control</td></tr><tr><td><b>lexical_unit</b></td><td style=\"background-color: rgb(0.0000, 255,0.0000);\">1.0000</td><td style=\"background-color: rgb(255.0000, 255,255.0000);\">0.0000</td><td style=\"background-color: rgb(255.0000, 255,255.0000);\">0.0000</td><td style=\"background-color: rgb(255.0000, 255,255.0000);\">0.0000</td><td style=\"background-color: rgb(255.0000, 255,255.0000);\">0.0000</td><td style=\"background-color: rgb(255.0000, 255,255.0000);\">0.0000</td><td style=\"background-color: rgb(255.0000, 255,255.0000);\">0.0000</td><td style=\"background-color: rgb(255.0000, 255,255.0000);\">0.0000</td></tr><tr><td><b>attention_intent</b></td><td style=\"background-color: rgb(0.8927, 255,0.8927);\">0.9965</td><td style=\"background-color: rgb(254.9994, 255,254.9994);\">0.0000</td><td style=\"background-color: rgb(255.0000, 255,255.0000);\">0.0000</td><td style=\"background-color: rgb(254.6409, 255,254.6409);\">0.0014</td><td style=\"background-color: rgb(255.0000, 255,255.0000);\">0.0000</td><td style=\"background-color: rgb(255.0000, 255,255.0000);\">0.0000</td><td style=\"background-color: rgb(254.4678, 255,254.4678);\">0.0021</td><td style=\"background-color: rgb(255.0000, 255,255.0000);\">0.0000</td></tr><tr><td><b>slots_true</b></td><td style=\"background-color: rgb(255,255,255);\">O</td><td style=\"background-color: rgb(255,255,255);\">B-Ground</td><td style=\"background-color: rgb(255,255,255);\">I-Ground</td><td style=\"background-color: rgb(255,255,255);\">I-Ground</td><td style=\"background-color: rgb(255,255,255);\">B-Phenomenon</td><td style=\"background-color: rgb(255,255,255);\">I-Phenomenon</td><td style=\"background-color: rgb(255,255,255);\">I-Phenomenon</td><td style=\"background-color: rgb(255,255,255);\">I-Phenomenon</td></tr><tr><td><b>slots_pred</b></td><td style=\"background-color: rgb(255,255,255);\">O</td><td style=\"background-color: rgb(255,255,255);\">B-Ground</td><td style=\"background-color: rgb(255,255,255);\">I-Ground</td><td style=\"background-color: rgb(255,255,255);\">I-Ground</td><td style=\"background-color: rgb(255,255,255);\">I-Ground</td><td style=\"background-color: rgb(255,255,255);\">I-Ground</td><td style=\"background-color: rgb(255,255,255);\">I-Ground</td><td style=\"background-color: rgb(255,255,255);\">I-Ground</td></tr></table>"
      ],
      "text/plain": [
       "<IPython.core.display.HTML object>"
      ]
     },
     "metadata": {},
     "output_type": "display_data"
    },
    {
     "name": "stdout",
     "output_type": "stream",
     "text": [
      "true: Taking pred: Placing\n"
     ]
    },
    {
     "data": {
      "text/html": [
       "<table><tr><td><b>words</b></td><td style=\"background-color: rgb(255,255,255);\">take</td><td style=\"background-color: rgb(255,255,255);\">the</td><td style=\"background-color: rgb(255,255,255);\">bottle</td><td style=\"background-color: rgb(255,255,255);\">of</td><td style=\"background-color: rgb(255,255,255);\">water</td><td style=\"background-color: rgb(255,255,255);\">on</td><td style=\"background-color: rgb(255,255,255);\">the</td><td style=\"background-color: rgb(255,255,255);\">table</td></tr><tr><td><b>lexical_unit</b></td><td style=\"background-color: rgb(0.0000, 255,0.0000);\">1.0000</td><td style=\"background-color: rgb(255.0000, 255,255.0000);\">0.0000</td><td style=\"background-color: rgb(255.0000, 255,255.0000);\">0.0000</td><td style=\"background-color: rgb(255.0000, 255,255.0000);\">0.0000</td><td style=\"background-color: rgb(255.0000, 255,255.0000);\">0.0000</td><td style=\"background-color: rgb(255.0000, 255,255.0000);\">0.0000</td><td style=\"background-color: rgb(255.0000, 255,255.0000);\">0.0000</td><td style=\"background-color: rgb(255.0000, 255,255.0000);\">0.0000</td></tr><tr><td><b>attention_intent</b></td><td style=\"background-color: rgb(172.7354, 255,172.7354);\">0.3226</td><td style=\"background-color: rgb(255.0000, 255,255.0000);\">0.0000</td><td style=\"background-color: rgb(107.5649, 255,107.5649);\">0.5782</td><td style=\"background-color: rgb(255.0000, 255,255.0000);\">0.0000</td><td style=\"background-color: rgb(229.6999, 255,229.6999);\">0.0992</td><td style=\"background-color: rgb(255.0000, 255,255.0000);\">0.0000</td><td style=\"background-color: rgb(255.0000, 255,255.0000);\">0.0000</td><td style=\"background-color: rgb(255.0000, 255,255.0000);\">0.0000</td></tr><tr><td><b>slots_true</b></td><td style=\"background-color: rgb(255,255,255);\">O</td><td style=\"background-color: rgb(255,255,255);\">B-Theme</td><td style=\"background-color: rgb(255,255,255);\">I-Theme</td><td style=\"background-color: rgb(255,255,255);\">I-Theme</td><td style=\"background-color: rgb(255,255,255);\">I-Theme</td><td style=\"background-color: rgb(255,255,255);\">I-Theme</td><td style=\"background-color: rgb(255,255,255);\">I-Theme</td><td style=\"background-color: rgb(255,255,255);\">I-Theme</td></tr><tr><td><b>slots_pred</b></td><td style=\"background-color: rgb(255,255,255);\">O</td><td style=\"background-color: rgb(255,255,255);\">B-Theme</td><td style=\"background-color: rgb(255,255,255);\">I-Theme</td><td style=\"background-color: rgb(255,255,255);\">B-Theme</td><td style=\"background-color: rgb(255,255,255);\">I-Theme</td><td style=\"background-color: rgb(255,255,255);\">B-Goal</td><td style=\"background-color: rgb(255,255,255);\">I-Goal</td><td style=\"background-color: rgb(255,255,255);\">I-Goal</td></tr></table>"
      ],
      "text/plain": [
       "<IPython.core.display.HTML object>"
      ]
     },
     "metadata": {},
     "output_type": "display_data"
    },
    {
     "name": "stdout",
     "output_type": "stream",
     "text": [
      "true: Taking pred: Taking\n"
     ]
    },
    {
     "data": {
      "text/html": [
       "<table><tr><td><b>words</b></td><td style=\"background-color: rgb(255,255,255);\">take</td><td style=\"background-color: rgb(255,255,255);\">the</td><td style=\"background-color: rgb(255,255,255);\">coke</td><td style=\"background-color: rgb(255,255,255);\">that</td><td style=\"background-color: rgb(255,255,255);\">is</td><td style=\"background-color: rgb(255,255,255);\">in</td><td style=\"background-color: rgb(255,255,255);\">the</td><td style=\"background-color: rgb(255,255,255);\">kitchen</td></tr><tr><td><b>lexical_unit</b></td><td style=\"background-color: rgb(0.0000, 255,0.0000);\">1.0000</td><td style=\"background-color: rgb(255.0000, 255,255.0000);\">0.0000</td><td style=\"background-color: rgb(255.0000, 255,255.0000);\">0.0000</td><td style=\"background-color: rgb(255.0000, 255,255.0000);\">0.0000</td><td style=\"background-color: rgb(255.0000, 255,255.0000);\">0.0000</td><td style=\"background-color: rgb(255.0000, 255,255.0000);\">0.0000</td><td style=\"background-color: rgb(255.0000, 255,255.0000);\">0.0000</td><td style=\"background-color: rgb(255.0000, 255,255.0000);\">0.0000</td></tr><tr><td><b>attention_intent</b></td><td style=\"background-color: rgb(0.0014, 255,0.0014);\">1.0000</td><td style=\"background-color: rgb(255.0000, 255,255.0000);\">0.0000</td><td style=\"background-color: rgb(254.9993, 255,254.9993);\">0.0000</td><td style=\"background-color: rgb(255.0000, 255,255.0000);\">0.0000</td><td style=\"background-color: rgb(255.0000, 255,255.0000);\">0.0000</td><td style=\"background-color: rgb(255.0000, 255,255.0000);\">0.0000</td><td style=\"background-color: rgb(255.0000, 255,255.0000);\">0.0000</td><td style=\"background-color: rgb(255.0000, 255,255.0000);\">0.0000</td></tr><tr><td><b>slots_true</b></td><td style=\"background-color: rgb(255,255,255);\">O</td><td style=\"background-color: rgb(255,255,255);\">B-Theme</td><td style=\"background-color: rgb(255,255,255);\">I-Theme</td><td style=\"background-color: rgb(255,255,255);\">I-Theme</td><td style=\"background-color: rgb(255,255,255);\">I-Theme</td><td style=\"background-color: rgb(255,255,255);\">I-Theme</td><td style=\"background-color: rgb(255,255,255);\">I-Theme</td><td style=\"background-color: rgb(255,255,255);\">I-Theme</td></tr><tr><td><b>slots_pred</b></td><td style=\"background-color: rgb(255,255,255);\">O</td><td style=\"background-color: rgb(255,255,255);\">B-Theme</td><td style=\"background-color: rgb(255,255,255);\">I-Theme</td><td style=\"background-color: rgb(255,255,255);\">I-Theme</td><td style=\"background-color: rgb(255,255,255);\">I-Theme</td><td style=\"background-color: rgb(255,255,255);\">I-Theme</td><td style=\"background-color: rgb(255,255,255);\">I-Theme</td><td style=\"background-color: rgb(255,255,255);\">I-Theme</td></tr></table>"
      ],
      "text/plain": [
       "<IPython.core.display.HTML object>"
      ]
     },
     "metadata": {},
     "output_type": "display_data"
    },
    {
     "name": "stdout",
     "output_type": "stream",
     "text": [
      "true: Being_located pred: Placing\n"
     ]
    },
    {
     "data": {
      "text/html": [
       "<table><tr><td><b>words</b></td><td style=\"background-color: rgb(255,255,255);\">there</td><td style=\"background-color: rgb(255,255,255);\">are</td><td style=\"background-color: rgb(255,255,255);\">some</td><td style=\"background-color: rgb(255,255,255);\">napkins</td><td style=\"background-color: rgb(255,255,255);\">on</td><td style=\"background-color: rgb(255,255,255);\">the</td><td style=\"background-color: rgb(255,255,255);\">kitchen</td><td style=\"background-color: rgb(255,255,255);\">table</td></tr><tr><td><b>lexical_unit</b></td><td style=\"background-color: rgb(0.0000, 255,0.0000);\">1.0000</td><td style=\"background-color: rgb(0.0000, 255,0.0000);\">1.0000</td><td style=\"background-color: rgb(255.0000, 255,255.0000);\">0.0000</td><td style=\"background-color: rgb(255.0000, 255,255.0000);\">0.0000</td><td style=\"background-color: rgb(255.0000, 255,255.0000);\">0.0000</td><td style=\"background-color: rgb(255.0000, 255,255.0000);\">0.0000</td><td style=\"background-color: rgb(255.0000, 255,255.0000);\">0.0000</td><td style=\"background-color: rgb(255.0000, 255,255.0000);\">0.0000</td></tr><tr><td><b>attention_intent</b></td><td style=\"background-color: rgb(254.9980, 255,254.9980);\">0.0000</td><td style=\"background-color: rgb(255.0000, 255,255.0000);\">0.0000</td><td style=\"background-color: rgb(255.0000, 255,255.0000);\">0.0000</td><td style=\"background-color: rgb(0.2773, 255,0.2773);\">0.9989</td><td style=\"background-color: rgb(254.9664, 255,254.9664);\">0.0001</td><td style=\"background-color: rgb(255.0000, 255,255.0000);\">0.0000</td><td style=\"background-color: rgb(254.7903, 255,254.7903);\">0.0008</td><td style=\"background-color: rgb(254.9705, 255,254.9705);\">0.0001</td></tr><tr><td><b>slots_true</b></td><td style=\"background-color: rgb(255,255,255);\">O</td><td style=\"background-color: rgb(255,255,255);\">O</td><td style=\"background-color: rgb(255,255,255);\">B-Theme</td><td style=\"background-color: rgb(255,255,255);\">I-Theme</td><td style=\"background-color: rgb(255,255,255);\">B-Location</td><td style=\"background-color: rgb(255,255,255);\">I-Location</td><td style=\"background-color: rgb(255,255,255);\">I-Location</td><td style=\"background-color: rgb(255,255,255);\">I-Location</td></tr><tr><td><b>slots_pred</b></td><td style=\"background-color: rgb(255,255,255);\">B-Agent</td><td style=\"background-color: rgb(255,255,255);\">O</td><td style=\"background-color: rgb(255,255,255);\">O</td><td style=\"background-color: rgb(255,255,255);\">O</td><td style=\"background-color: rgb(255,255,255);\">B-Goal</td><td style=\"background-color: rgb(255,255,255);\">I-Goal</td><td style=\"background-color: rgb(255,255,255);\">I-Goal</td><td style=\"background-color: rgb(255,255,255);\">I-Goal</td></tr></table>"
      ],
      "text/plain": [
       "<IPython.core.display.HTML object>"
      ]
     },
     "metadata": {},
     "output_type": "display_data"
    },
    {
     "name": "stdout",
     "output_type": "stream",
     "text": [
      "true: Being_located pred: Placing\n"
     ]
    },
    {
     "data": {
      "text/html": [
       "<table><tr><td><b>words</b></td><td style=\"background-color: rgb(255,255,255);\">there</td><td style=\"background-color: rgb(255,255,255);\">are</td><td style=\"background-color: rgb(255,255,255);\">some</td><td style=\"background-color: rgb(255,255,255);\">plastic</td><td style=\"background-color: rgb(255,255,255);\">bags</td><td style=\"background-color: rgb(255,255,255);\">in</td><td style=\"background-color: rgb(255,255,255);\">the</td><td style=\"background-color: rgb(255,255,255);\">kitchen</td><td style=\"background-color: rgb(255,255,255);\">drawer</td></tr><tr><td><b>lexical_unit</b></td><td style=\"background-color: rgb(0.0000, 255,0.0000);\">1.0000</td><td style=\"background-color: rgb(0.0000, 255,0.0000);\">1.0000</td><td style=\"background-color: rgb(255.0000, 255,255.0000);\">0.0000</td><td style=\"background-color: rgb(255.0000, 255,255.0000);\">0.0000</td><td style=\"background-color: rgb(255.0000, 255,255.0000);\">0.0000</td><td style=\"background-color: rgb(255.0000, 255,255.0000);\">0.0000</td><td style=\"background-color: rgb(255.0000, 255,255.0000);\">0.0000</td><td style=\"background-color: rgb(255.0000, 255,255.0000);\">0.0000</td><td style=\"background-color: rgb(255.0000, 255,255.0000);\">0.0000</td></tr><tr><td><b>attention_intent</b></td><td style=\"background-color: rgb(254.9943, 255,254.9943);\">0.0000</td><td style=\"background-color: rgb(254.9995, 255,254.9995);\">0.0000</td><td style=\"background-color: rgb(255.0000, 255,255.0000);\">0.0000</td><td style=\"background-color: rgb(165.0417, 255,165.0417);\">0.3528</td><td style=\"background-color: rgb(96.8575, 255,96.8575);\">0.6202</td><td style=\"background-color: rgb(254.9984, 255,254.9984);\">0.0000</td><td style=\"background-color: rgb(255.0000, 255,255.0000);\">0.0000</td><td style=\"background-color: rgb(254.7777, 255,254.7777);\">0.0009</td><td style=\"background-color: rgb(248.3477, 255,248.3477);\">0.0261</td></tr><tr><td><b>slots_true</b></td><td style=\"background-color: rgb(255,255,255);\">O</td><td style=\"background-color: rgb(255,255,255);\">O</td><td style=\"background-color: rgb(255,255,255);\">B-Theme</td><td style=\"background-color: rgb(255,255,255);\">I-Theme</td><td style=\"background-color: rgb(255,255,255);\">I-Theme</td><td style=\"background-color: rgb(255,255,255);\">B-Location</td><td style=\"background-color: rgb(255,255,255);\">I-Location</td><td style=\"background-color: rgb(255,255,255);\">I-Location</td><td style=\"background-color: rgb(255,255,255);\">I-Location</td></tr><tr><td><b>slots_pred</b></td><td style=\"background-color: rgb(255,255,255);\">B-Agent</td><td style=\"background-color: rgb(255,255,255);\">O</td><td style=\"background-color: rgb(255,255,255);\">O</td><td style=\"background-color: rgb(255,255,255);\">O</td><td style=\"background-color: rgb(255,255,255);\">O</td><td style=\"background-color: rgb(255,255,255);\">B-Goal</td><td style=\"background-color: rgb(255,255,255);\">I-Goal</td><td style=\"background-color: rgb(255,255,255);\">I-Goal</td><td style=\"background-color: rgb(255,255,255);\">I-Goal</td></tr></table>"
      ],
      "text/plain": [
       "<IPython.core.display.HTML object>"
      ]
     },
     "metadata": {},
     "output_type": "display_data"
    },
    {
     "name": "stdout",
     "output_type": "stream",
     "text": [
      "true: Bringing pred: Bringing\n"
     ]
    },
    {
     "data": {
      "text/html": [
       "<table><tr><td><b>words</b></td><td style=\"background-color: rgb(255,255,255);\">can</td><td style=\"background-color: rgb(255,255,255);\">you</td><td style=\"background-color: rgb(255,255,255);\">bring</td><td style=\"background-color: rgb(255,255,255);\">it</td><td style=\"background-color: rgb(255,255,255);\">to</td><td style=\"background-color: rgb(255,255,255);\">me</td></tr><tr><td><b>lexical_unit</b></td><td style=\"background-color: rgb(255.0000, 255,255.0000);\">0.0000</td><td style=\"background-color: rgb(255.0000, 255,255.0000);\">0.0000</td><td style=\"background-color: rgb(0.0000, 255,0.0000);\">1.0000</td><td style=\"background-color: rgb(255.0000, 255,255.0000);\">0.0000</td><td style=\"background-color: rgb(255.0000, 255,255.0000);\">0.0000</td><td style=\"background-color: rgb(255.0000, 255,255.0000);\">0.0000</td></tr><tr><td><b>attention_intent</b></td><td style=\"background-color: rgb(255.0000, 255,255.0000);\">0.0000</td><td style=\"background-color: rgb(254.9976, 255,254.9976);\">0.0000</td><td style=\"background-color: rgb(0.4463, 255,0.4463);\">0.9982</td><td style=\"background-color: rgb(254.9998, 255,254.9998);\">0.0000</td><td style=\"background-color: rgb(254.9996, 255,254.9996);\">0.0000</td><td style=\"background-color: rgb(254.5573, 255,254.5573);\">0.0017</td></tr><tr><td><b>slots_true</b></td><td style=\"background-color: rgb(255,255,255);\">O</td><td style=\"background-color: rgb(255,255,255);\">B-Agent</td><td style=\"background-color: rgb(255,255,255);\">O</td><td style=\"background-color: rgb(255,255,255);\">B-Theme</td><td style=\"background-color: rgb(255,255,255);\">B-Beneficiary</td><td style=\"background-color: rgb(255,255,255);\">I-Beneficiary</td></tr><tr><td><b>slots_pred</b></td><td style=\"background-color: rgb(255,255,255);\">B-Agent</td><td style=\"background-color: rgb(255,255,255);\">O</td><td style=\"background-color: rgb(255,255,255);\">O</td><td style=\"background-color: rgb(255,255,255);\">B-Goal</td><td style=\"background-color: rgb(255,255,255);\">B-Theme</td><td style=\"background-color: rgb(255,255,255);\">I-Theme</td></tr></table>"
      ],
      "text/plain": [
       "<IPython.core.display.HTML object>"
      ]
     },
     "metadata": {},
     "output_type": "display_data"
    },
    {
     "name": "stdout",
     "output_type": "stream",
     "text": [
      "true: Bringing pred: Bringing\n"
     ]
    },
    {
     "data": {
      "text/html": [
       "<table><tr><td><b>words</b></td><td style=\"background-color: rgb(255,255,255);\">robot</td><td style=\"background-color: rgb(255,255,255);\">can</td><td style=\"background-color: rgb(255,255,255);\">you</td><td style=\"background-color: rgb(255,255,255);\">bring</td><td style=\"background-color: rgb(255,255,255);\">me</td><td style=\"background-color: rgb(255,255,255);\">a</td><td style=\"background-color: rgb(255,255,255);\">bath</td><td style=\"background-color: rgb(255,255,255);\">towel</td></tr><tr><td><b>lexical_unit</b></td><td style=\"background-color: rgb(255.0000, 255,255.0000);\">0.0000</td><td style=\"background-color: rgb(255.0000, 255,255.0000);\">0.0000</td><td style=\"background-color: rgb(255.0000, 255,255.0000);\">0.0000</td><td style=\"background-color: rgb(0.0000, 255,0.0000);\">1.0000</td><td style=\"background-color: rgb(255.0000, 255,255.0000);\">0.0000</td><td style=\"background-color: rgb(255.0000, 255,255.0000);\">0.0000</td><td style=\"background-color: rgb(255.0000, 255,255.0000);\">0.0000</td><td style=\"background-color: rgb(255.0000, 255,255.0000);\">0.0000</td></tr><tr><td><b>attention_intent</b></td><td style=\"background-color: rgb(254.9985, 255,254.9985);\">0.0000</td><td style=\"background-color: rgb(254.9999, 255,254.9999);\">0.0000</td><td style=\"background-color: rgb(254.9984, 255,254.9984);\">0.0000</td><td style=\"background-color: rgb(81.8844, 255,81.8844);\">0.6789</td><td style=\"background-color: rgb(173.1445, 255,173.1445);\">0.3210</td><td style=\"background-color: rgb(255.0000, 255,255.0000);\">0.0000</td><td style=\"background-color: rgb(254.9760, 255,254.9760);\">0.0001</td><td style=\"background-color: rgb(255.0000, 255,255.0000);\">0.0000</td></tr><tr><td><b>slots_true</b></td><td style=\"background-color: rgb(255,255,255);\">O</td><td style=\"background-color: rgb(255,255,255);\">O</td><td style=\"background-color: rgb(255,255,255);\">B-Agent</td><td style=\"background-color: rgb(255,255,255);\">O</td><td style=\"background-color: rgb(255,255,255);\">B-Beneficiary</td><td style=\"background-color: rgb(255,255,255);\">B-Theme</td><td style=\"background-color: rgb(255,255,255);\">I-Theme</td><td style=\"background-color: rgb(255,255,255);\">I-Theme</td></tr><tr><td><b>slots_pred</b></td><td style=\"background-color: rgb(255,255,255);\">B-Agent</td><td style=\"background-color: rgb(255,255,255);\">O</td><td style=\"background-color: rgb(255,255,255);\">O</td><td style=\"background-color: rgb(255,255,255);\">O</td><td style=\"background-color: rgb(255,255,255);\">B-Goal</td><td style=\"background-color: rgb(255,255,255);\">B-Goal</td><td style=\"background-color: rgb(255,255,255);\">I-Goal</td><td style=\"background-color: rgb(255,255,255);\">I-Goal</td></tr></table>"
      ],
      "text/plain": [
       "<IPython.core.display.HTML object>"
      ]
     },
     "metadata": {},
     "output_type": "display_data"
    },
    {
     "name": "stdout",
     "output_type": "stream",
     "text": [
      "true: Bringing pred: Bringing\n"
     ]
    },
    {
     "data": {
      "text/html": [
       "<table><tr><td><b>words</b></td><td style=\"background-color: rgb(255,255,255);\">robot</td><td style=\"background-color: rgb(255,255,255);\">can</td><td style=\"background-color: rgb(255,255,255);\">you</td><td style=\"background-color: rgb(255,255,255);\">bring</td><td style=\"background-color: rgb(255,255,255);\">me</td><td style=\"background-color: rgb(255,255,255);\">a</td><td style=\"background-color: rgb(255,255,255);\">magazine</td></tr><tr><td><b>lexical_unit</b></td><td style=\"background-color: rgb(255.0000, 255,255.0000);\">0.0000</td><td style=\"background-color: rgb(255.0000, 255,255.0000);\">0.0000</td><td style=\"background-color: rgb(255.0000, 255,255.0000);\">0.0000</td><td style=\"background-color: rgb(0.0000, 255,0.0000);\">1.0000</td><td style=\"background-color: rgb(255.0000, 255,255.0000);\">0.0000</td><td style=\"background-color: rgb(255.0000, 255,255.0000);\">0.0000</td><td style=\"background-color: rgb(255.0000, 255,255.0000);\">0.0000</td></tr><tr><td><b>attention_intent</b></td><td style=\"background-color: rgb(254.9978, 255,254.9978);\">0.0000</td><td style=\"background-color: rgb(254.9999, 255,254.9999);\">0.0000</td><td style=\"background-color: rgb(254.9937, 255,254.9937);\">0.0000</td><td style=\"background-color: rgb(4.2290, 255,4.2290);\">0.9834</td><td style=\"background-color: rgb(250.7825, 255,250.7825);\">0.0165</td><td style=\"background-color: rgb(255.0000, 255,255.0000);\">0.0000</td><td style=\"background-color: rgb(255.0000, 255,255.0000);\">0.0000</td></tr><tr><td><b>slots_true</b></td><td style=\"background-color: rgb(255,255,255);\">O</td><td style=\"background-color: rgb(255,255,255);\">O</td><td style=\"background-color: rgb(255,255,255);\">B-Agent</td><td style=\"background-color: rgb(255,255,255);\">O</td><td style=\"background-color: rgb(255,255,255);\">B-Beneficiary</td><td style=\"background-color: rgb(255,255,255);\">B-Theme</td><td style=\"background-color: rgb(255,255,255);\">I-Theme</td></tr><tr><td><b>slots_pred</b></td><td style=\"background-color: rgb(255,255,255);\">B-Agent</td><td style=\"background-color: rgb(255,255,255);\">O</td><td style=\"background-color: rgb(255,255,255);\">O</td><td style=\"background-color: rgb(255,255,255);\">O</td><td style=\"background-color: rgb(255,255,255);\">B-Goal</td><td style=\"background-color: rgb(255,255,255);\">B-Goal</td><td style=\"background-color: rgb(255,255,255);\">I-Goal</td></tr></table>"
      ],
      "text/plain": [
       "<IPython.core.display.HTML object>"
      ]
     },
     "metadata": {},
     "output_type": "display_data"
    },
    {
     "name": "stdout",
     "output_type": "stream",
     "text": [
      "true: Bringing pred: Bringing\n"
     ]
    },
    {
     "data": {
      "text/html": [
       "<table><tr><td><b>words</b></td><td style=\"background-color: rgb(255,255,255);\">robot</td><td style=\"background-color: rgb(255,255,255);\">can</td><td style=\"background-color: rgb(255,255,255);\">you</td><td style=\"background-color: rgb(255,255,255);\">bring</td><td style=\"background-color: rgb(255,255,255);\">me</td><td style=\"background-color: rgb(255,255,255);\">my</td><td style=\"background-color: rgb(255,255,255);\">reading</td><td style=\"background-color: rgb(255,255,255);\">glasses</td><td style=\"background-color: rgb(255,255,255);\">from</td><td style=\"background-color: rgb(255,255,255);\">the</td><td style=\"background-color: rgb(255,255,255);\">bedroom</td></tr><tr><td><b>lexical_unit</b></td><td style=\"background-color: rgb(255.0000, 255,255.0000);\">0.0000</td><td style=\"background-color: rgb(255.0000, 255,255.0000);\">0.0000</td><td style=\"background-color: rgb(255.0000, 255,255.0000);\">0.0000</td><td style=\"background-color: rgb(0.0000, 255,0.0000);\">1.0000</td><td style=\"background-color: rgb(255.0000, 255,255.0000);\">0.0000</td><td style=\"background-color: rgb(255.0000, 255,255.0000);\">0.0000</td><td style=\"background-color: rgb(255.0000, 255,255.0000);\">0.0000</td><td style=\"background-color: rgb(255.0000, 255,255.0000);\">0.0000</td><td style=\"background-color: rgb(255.0000, 255,255.0000);\">0.0000</td><td style=\"background-color: rgb(255.0000, 255,255.0000);\">0.0000</td><td style=\"background-color: rgb(255.0000, 255,255.0000);\">0.0000</td></tr><tr><td><b>attention_intent</b></td><td style=\"background-color: rgb(254.9958, 255,254.9958);\">0.0000</td><td style=\"background-color: rgb(254.9994, 255,254.9994);\">0.0000</td><td style=\"background-color: rgb(254.9852, 255,254.9852);\">0.0001</td><td style=\"background-color: rgb(70.7824, 255,70.7824);\">0.7224</td><td style=\"background-color: rgb(241.1854, 255,241.1854);\">0.0542</td><td style=\"background-color: rgb(254.9996, 255,254.9996);\">0.0000</td><td style=\"background-color: rgb(227.1022, 255,227.1022);\">0.1094</td><td style=\"background-color: rgb(225.9520, 255,225.9520);\">0.1139</td><td style=\"background-color: rgb(255.0000, 255,255.0000);\">0.0000</td><td style=\"background-color: rgb(255.0000, 255,255.0000);\">0.0000</td><td style=\"background-color: rgb(255.0000, 255,255.0000);\">0.0000</td></tr><tr><td><b>slots_true</b></td><td style=\"background-color: rgb(255,255,255);\">O</td><td style=\"background-color: rgb(255,255,255);\">O</td><td style=\"background-color: rgb(255,255,255);\">B-Agent</td><td style=\"background-color: rgb(255,255,255);\">O</td><td style=\"background-color: rgb(255,255,255);\">B-Beneficiary</td><td style=\"background-color: rgb(255,255,255);\">B-Theme</td><td style=\"background-color: rgb(255,255,255);\">I-Theme</td><td style=\"background-color: rgb(255,255,255);\">I-Theme</td><td style=\"background-color: rgb(255,255,255);\">B-Source</td><td style=\"background-color: rgb(255,255,255);\">I-Source</td><td style=\"background-color: rgb(255,255,255);\">I-Source</td></tr><tr><td><b>slots_pred</b></td><td style=\"background-color: rgb(255,255,255);\">B-Agent</td><td style=\"background-color: rgb(255,255,255);\">O</td><td style=\"background-color: rgb(255,255,255);\">O</td><td style=\"background-color: rgb(255,255,255);\">O</td><td style=\"background-color: rgb(255,255,255);\">O</td><td style=\"background-color: rgb(255,255,255);\">O</td><td style=\"background-color: rgb(255,255,255);\">O</td><td style=\"background-color: rgb(255,255,255);\">O</td><td style=\"background-color: rgb(255,255,255);\">B-Source</td><td style=\"background-color: rgb(255,255,255);\">I-Source</td><td style=\"background-color: rgb(255,255,255);\">I-Source</td></tr></table>"
      ],
      "text/plain": [
       "<IPython.core.display.HTML object>"
      ]
     },
     "metadata": {},
     "output_type": "display_data"
    },
    {
     "name": "stdout",
     "output_type": "stream",
     "text": [
      "true: Change_operational_state pred: Placing\n"
     ]
    },
    {
     "data": {
      "text/html": [
       "<table><tr><td><b>words</b></td><td style=\"background-color: rgb(255,255,255);\">robot</td><td style=\"background-color: rgb(255,255,255);\">can</td><td style=\"background-color: rgb(255,255,255);\">you</td><td style=\"background-color: rgb(255,255,255);\">turn</td><td style=\"background-color: rgb(255,255,255);\">the</td><td style=\"background-color: rgb(255,255,255);\">electric</td><td style=\"background-color: rgb(255,255,255);\">oven</td><td style=\"background-color: rgb(255,255,255);\">on</td></tr><tr><td><b>lexical_unit</b></td><td style=\"background-color: rgb(255.0000, 255,255.0000);\">0.0000</td><td style=\"background-color: rgb(255.0000, 255,255.0000);\">0.0000</td><td style=\"background-color: rgb(255.0000, 255,255.0000);\">0.0000</td><td style=\"background-color: rgb(0.0000, 255,0.0000);\">1.0000</td><td style=\"background-color: rgb(255.0000, 255,255.0000);\">0.0000</td><td style=\"background-color: rgb(255.0000, 255,255.0000);\">0.0000</td><td style=\"background-color: rgb(255.0000, 255,255.0000);\">0.0000</td><td style=\"background-color: rgb(255.0000, 255,255.0000);\">0.0000</td></tr><tr><td><b>attention_intent</b></td><td style=\"background-color: rgb(254.9707, 255,254.9707);\">0.0001</td><td style=\"background-color: rgb(248.9673, 255,248.9673);\">0.0237</td><td style=\"background-color: rgb(245.6436, 255,245.6436);\">0.0367</td><td style=\"background-color: rgb(233.4459, 255,233.4459);\">0.0845</td><td style=\"background-color: rgb(255.0000, 255,255.0000);\">0.0000</td><td style=\"background-color: rgb(254.9987, 255,254.9987);\">0.0000</td><td style=\"background-color: rgb(37.0241, 255,37.0241);\">0.8548</td><td style=\"background-color: rgb(255.0000, 255,255.0000);\">0.0000</td></tr><tr><td><b>slots_true</b></td><td style=\"background-color: rgb(255,255,255);\">O</td><td style=\"background-color: rgb(255,255,255);\">O</td><td style=\"background-color: rgb(255,255,255);\">B-Agent</td><td style=\"background-color: rgb(255,255,255);\">O</td><td style=\"background-color: rgb(255,255,255);\">B-Device</td><td style=\"background-color: rgb(255,255,255);\">I-Device</td><td style=\"background-color: rgb(255,255,255);\">I-Device</td><td style=\"background-color: rgb(255,255,255);\">B-Operational_state</td></tr><tr><td><b>slots_pred</b></td><td style=\"background-color: rgb(255,255,255);\">B-Theme</td><td style=\"background-color: rgb(255,255,255);\">O</td><td style=\"background-color: rgb(255,255,255);\">B-Cotheme</td><td style=\"background-color: rgb(255,255,255);\">B-Goal</td><td style=\"background-color: rgb(255,255,255);\">I-Goal</td><td style=\"background-color: rgb(255,255,255);\">I-Goal</td><td style=\"background-color: rgb(255,255,255);\">I-Goal</td><td style=\"background-color: rgb(255,255,255);\">I-Goal</td></tr></table>"
      ],
      "text/plain": [
       "<IPython.core.display.HTML object>"
      ]
     },
     "metadata": {},
     "output_type": "display_data"
    },
    {
     "name": "stdout",
     "output_type": "stream",
     "text": [
      "true: Bringing pred: Bringing\n"
     ]
    },
    {
     "data": {
      "text/html": [
       "<table><tr><td><b>words</b></td><td style=\"background-color: rgb(255,255,255);\">bring</td><td style=\"background-color: rgb(255,255,255);\">me</td><td style=\"background-color: rgb(255,255,255);\">my</td><td style=\"background-color: rgb(255,255,255);\">book</td><td style=\"background-color: rgb(255,255,255);\">from</td><td style=\"background-color: rgb(255,255,255);\">the</td><td style=\"background-color: rgb(255,255,255);\">table</td></tr><tr><td><b>lexical_unit</b></td><td style=\"background-color: rgb(0.0000, 255,0.0000);\">1.0000</td><td style=\"background-color: rgb(255.0000, 255,255.0000);\">0.0000</td><td style=\"background-color: rgb(255.0000, 255,255.0000);\">0.0000</td><td style=\"background-color: rgb(255.0000, 255,255.0000);\">0.0000</td><td style=\"background-color: rgb(255.0000, 255,255.0000);\">0.0000</td><td style=\"background-color: rgb(255.0000, 255,255.0000);\">0.0000</td><td style=\"background-color: rgb(255.0000, 255,255.0000);\">0.0000</td></tr><tr><td><b>attention_intent</b></td><td style=\"background-color: rgb(50.2903, 255,50.2903);\">0.8028</td><td style=\"background-color: rgb(204.7117, 255,204.7117);\">0.1972</td><td style=\"background-color: rgb(254.9998, 255,254.9998);\">0.0000</td><td style=\"background-color: rgb(254.9988, 255,254.9988);\">0.0000</td><td style=\"background-color: rgb(255.0000, 255,255.0000);\">0.0000</td><td style=\"background-color: rgb(255.0000, 255,255.0000);\">0.0000</td><td style=\"background-color: rgb(255.0000, 255,255.0000);\">0.0000</td></tr><tr><td><b>slots_true</b></td><td style=\"background-color: rgb(255,255,255);\">O</td><td style=\"background-color: rgb(255,255,255);\">B-Beneficiary</td><td style=\"background-color: rgb(255,255,255);\">B-Theme</td><td style=\"background-color: rgb(255,255,255);\">I-Theme</td><td style=\"background-color: rgb(255,255,255);\">B-Source</td><td style=\"background-color: rgb(255,255,255);\">I-Source</td><td style=\"background-color: rgb(255,255,255);\">I-Source</td></tr><tr><td><b>slots_pred</b></td><td style=\"background-color: rgb(255,255,255);\">O</td><td style=\"background-color: rgb(255,255,255);\">B-Theme</td><td style=\"background-color: rgb(255,255,255);\">B-Source</td><td style=\"background-color: rgb(255,255,255);\">I-Source</td><td style=\"background-color: rgb(255,255,255);\">I-Source</td><td style=\"background-color: rgb(255,255,255);\">I-Source</td><td style=\"background-color: rgb(255,255,255);\">I-Source</td></tr></table>"
      ],
      "text/plain": [
       "<IPython.core.display.HTML object>"
      ]
     },
     "metadata": {},
     "output_type": "display_data"
    },
    {
     "name": "stdout",
     "output_type": "stream",
     "text": [
      "true: Bringing pred: Bringing\n"
     ]
    },
    {
     "data": {
      "text/html": [
       "<table><tr><td><b>words</b></td><td style=\"background-color: rgb(255,255,255);\">bring</td><td style=\"background-color: rgb(255,255,255);\">over</td><td style=\"background-color: rgb(255,255,255);\">the</td><td style=\"background-color: rgb(255,255,255);\">gray</td><td style=\"background-color: rgb(255,255,255);\">folder</td></tr><tr><td><b>lexical_unit</b></td><td style=\"background-color: rgb(0.0000, 255,0.0000);\">1.0000</td><td style=\"background-color: rgb(255.0000, 255,255.0000);\">0.0000</td><td style=\"background-color: rgb(255.0000, 255,255.0000);\">0.0000</td><td style=\"background-color: rgb(255.0000, 255,255.0000);\">0.0000</td><td style=\"background-color: rgb(255.0000, 255,255.0000);\">0.0000</td></tr><tr><td><b>attention_intent</b></td><td style=\"background-color: rgb(0.5614, 255,0.5614);\">0.9978</td><td style=\"background-color: rgb(254.9989, 255,254.9989);\">0.0000</td><td style=\"background-color: rgb(255.0000, 255,255.0000);\">0.0000</td><td style=\"background-color: rgb(255.0000, 255,255.0000);\">0.0000</td><td style=\"background-color: rgb(254.4405, 255,254.4405);\">0.0022</td></tr><tr><td><b>slots_true</b></td><td style=\"background-color: rgb(255,255,255);\">O</td><td style=\"background-color: rgb(255,255,255);\">B-Area</td><td style=\"background-color: rgb(255,255,255);\">B-Theme</td><td style=\"background-color: rgb(255,255,255);\">I-Theme</td><td style=\"background-color: rgb(255,255,255);\">I-Theme</td></tr><tr><td><b>slots_pred</b></td><td style=\"background-color: rgb(255,255,255);\">O</td><td style=\"background-color: rgb(255,255,255);\">B-Goal</td><td style=\"background-color: rgb(255,255,255);\">I-Goal</td><td style=\"background-color: rgb(255,255,255);\">I-Goal</td><td style=\"background-color: rgb(255,255,255);\">I-Goal</td></tr></table>"
      ],
      "text/plain": [
       "<IPython.core.display.HTML object>"
      ]
     },
     "metadata": {},
     "output_type": "display_data"
    },
    {
     "name": "stdout",
     "output_type": "stream",
     "text": [
      "true: Closure pred: Being_located\n"
     ]
    },
    {
     "data": {
      "text/html": [
       "<table><tr><td><b>words</b></td><td style=\"background-color: rgb(255,255,255);\">could</td><td style=\"background-color: rgb(255,255,255);\">you</td><td style=\"background-color: rgb(255,255,255);\">close</td><td style=\"background-color: rgb(255,255,255);\">the</td><td style=\"background-color: rgb(255,255,255);\">shutters</td></tr><tr><td><b>lexical_unit</b></td><td style=\"background-color: rgb(255.0000, 255,255.0000);\">0.0000</td><td style=\"background-color: rgb(255.0000, 255,255.0000);\">0.0000</td><td style=\"background-color: rgb(0.0000, 255,0.0000);\">1.0000</td><td style=\"background-color: rgb(255.0000, 255,255.0000);\">0.0000</td><td style=\"background-color: rgb(255.0000, 255,255.0000);\">0.0000</td></tr><tr><td><b>attention_intent</b></td><td style=\"background-color: rgb(251.5311, 255,251.5311);\">0.0136</td><td style=\"background-color: rgb(251.8009, 255,251.8009);\">0.0125</td><td style=\"background-color: rgb(6.7168, 255,6.7168);\">0.9737</td><td style=\"background-color: rgb(255.0000, 255,255.0000);\">0.0000</td><td style=\"background-color: rgb(255.0000, 255,255.0000);\">0.0000</td></tr><tr><td><b>slots_true</b></td><td style=\"background-color: rgb(255,255,255);\">O</td><td style=\"background-color: rgb(255,255,255);\">B-Agent</td><td style=\"background-color: rgb(255,255,255);\">O</td><td style=\"background-color: rgb(255,255,255);\">B-Container_portal</td><td style=\"background-color: rgb(255,255,255);\">I-Container_portal</td></tr><tr><td><b>slots_pred</b></td><td style=\"background-color: rgb(255,255,255);\">B-Theme</td><td style=\"background-color: rgb(255,255,255);\">O</td><td style=\"background-color: rgb(255,255,255);\">O</td><td style=\"background-color: rgb(255,255,255);\">B-Goal</td><td style=\"background-color: rgb(255,255,255);\">I-Goal</td></tr></table>"
      ],
      "text/plain": [
       "<IPython.core.display.HTML object>"
      ]
     },
     "metadata": {},
     "output_type": "display_data"
    },
    {
     "name": "stdout",
     "output_type": "stream",
     "text": [
      "true: Change_operational_state pred: Entering\n"
     ]
    },
    {
     "data": {
      "text/html": [
       "<table><tr><td><b>words</b></td><td style=\"background-color: rgb(255,255,255);\">could</td><td style=\"background-color: rgb(255,255,255);\">you</td><td style=\"background-color: rgb(255,255,255);\">please</td><td style=\"background-color: rgb(255,255,255);\">turn</td><td style=\"background-color: rgb(255,255,255);\">on</td><td style=\"background-color: rgb(255,255,255);\">the</td><td style=\"background-color: rgb(255,255,255);\">tv</td></tr><tr><td><b>lexical_unit</b></td><td style=\"background-color: rgb(255.0000, 255,255.0000);\">0.0000</td><td style=\"background-color: rgb(255.0000, 255,255.0000);\">0.0000</td><td style=\"background-color: rgb(255.0000, 255,255.0000);\">0.0000</td><td style=\"background-color: rgb(0.0000, 255,0.0000);\">1.0000</td><td style=\"background-color: rgb(255.0000, 255,255.0000);\">0.0000</td><td style=\"background-color: rgb(255.0000, 255,255.0000);\">0.0000</td><td style=\"background-color: rgb(255.0000, 255,255.0000);\">0.0000</td></tr><tr><td><b>attention_intent</b></td><td style=\"background-color: rgb(255.0000, 255,255.0000);\">0.0000</td><td style=\"background-color: rgb(254.9626, 255,254.9626);\">0.0001</td><td style=\"background-color: rgb(0.0531, 255,0.0531);\">0.9998</td><td style=\"background-color: rgb(254.9848, 255,254.9848);\">0.0001</td><td style=\"background-color: rgb(255.0000, 255,255.0000);\">0.0000</td><td style=\"background-color: rgb(255.0000, 255,255.0000);\">0.0000</td><td style=\"background-color: rgb(255.0000, 255,255.0000);\">0.0000</td></tr><tr><td><b>slots_true</b></td><td style=\"background-color: rgb(255,255,255);\">O</td><td style=\"background-color: rgb(255,255,255);\">B-Agent</td><td style=\"background-color: rgb(255,255,255);\">O</td><td style=\"background-color: rgb(255,255,255);\">O</td><td style=\"background-color: rgb(255,255,255);\">B-Operational_state</td><td style=\"background-color: rgb(255,255,255);\">B-Device</td><td style=\"background-color: rgb(255,255,255);\">I-Device</td></tr><tr><td><b>slots_pred</b></td><td style=\"background-color: rgb(255,255,255);\">B-Inspector</td><td style=\"background-color: rgb(255,255,255);\">O</td><td style=\"background-color: rgb(255,255,255);\">O</td><td style=\"background-color: rgb(255,255,255);\">B-Goal</td><td style=\"background-color: rgb(255,255,255);\">O</td><td style=\"background-color: rgb(255,255,255);\">O</td><td style=\"background-color: rgb(255,255,255);\">O</td></tr></table>"
      ],
      "text/plain": [
       "<IPython.core.display.HTML object>"
      ]
     },
     "metadata": {},
     "output_type": "display_data"
    },
    {
     "name": "stdout",
     "output_type": "stream",
     "text": [
      "true: Placing pred: Placing\n"
     ]
    },
    {
     "data": {
      "text/html": [
       "<table><tr><td><b>words</b></td><td style=\"background-color: rgb(255,255,255);\">could</td><td style=\"background-color: rgb(255,255,255);\">you</td><td style=\"background-color: rgb(255,255,255);\">put</td><td style=\"background-color: rgb(255,255,255);\">the</td><td style=\"background-color: rgb(255,255,255);\">vase</td><td style=\"background-color: rgb(255,255,255);\">on</td><td style=\"background-color: rgb(255,255,255);\">the</td><td style=\"background-color: rgb(255,255,255);\">coffee</td><td style=\"background-color: rgb(255,255,255);\">table</td></tr><tr><td><b>lexical_unit</b></td><td style=\"background-color: rgb(255.0000, 255,255.0000);\">0.0000</td><td style=\"background-color: rgb(255.0000, 255,255.0000);\">0.0000</td><td style=\"background-color: rgb(0.0000, 255,0.0000);\">1.0000</td><td style=\"background-color: rgb(255.0000, 255,255.0000);\">0.0000</td><td style=\"background-color: rgb(255.0000, 255,255.0000);\">0.0000</td><td style=\"background-color: rgb(255.0000, 255,255.0000);\">0.0000</td><td style=\"background-color: rgb(255.0000, 255,255.0000);\">0.0000</td><td style=\"background-color: rgb(255.0000, 255,255.0000);\">0.0000</td><td style=\"background-color: rgb(255.0000, 255,255.0000);\">0.0000</td></tr><tr><td><b>attention_intent</b></td><td style=\"background-color: rgb(254.9997, 255,254.9997);\">0.0000</td><td style=\"background-color: rgb(254.4948, 255,254.4948);\">0.0020</td><td style=\"background-color: rgb(114.2292, 255,114.2292);\">0.5520</td><td style=\"background-color: rgb(255.0000, 255,255.0000);\">0.0000</td><td style=\"background-color: rgb(141.2882, 255,141.2882);\">0.4459</td><td style=\"background-color: rgb(254.9994, 255,254.9994);\">0.0000</td><td style=\"background-color: rgb(255.0000, 255,255.0000);\">0.0000</td><td style=\"background-color: rgb(254.9976, 255,254.9976);\">0.0000</td><td style=\"background-color: rgb(254.9912, 255,254.9912);\">0.0000</td></tr><tr><td><b>slots_true</b></td><td style=\"background-color: rgb(255,255,255);\">O</td><td style=\"background-color: rgb(255,255,255);\">B-Agent</td><td style=\"background-color: rgb(255,255,255);\">O</td><td style=\"background-color: rgb(255,255,255);\">B-Theme</td><td style=\"background-color: rgb(255,255,255);\">I-Theme</td><td style=\"background-color: rgb(255,255,255);\">B-Goal</td><td style=\"background-color: rgb(255,255,255);\">I-Goal</td><td style=\"background-color: rgb(255,255,255);\">I-Goal</td><td style=\"background-color: rgb(255,255,255);\">I-Goal</td></tr><tr><td><b>slots_pred</b></td><td style=\"background-color: rgb(255,255,255);\">B-Agent</td><td style=\"background-color: rgb(255,255,255);\">O</td><td style=\"background-color: rgb(255,255,255);\">O</td><td style=\"background-color: rgb(255,255,255);\">B-Theme</td><td style=\"background-color: rgb(255,255,255);\">I-Theme</td><td style=\"background-color: rgb(255,255,255);\">B-Goal</td><td style=\"background-color: rgb(255,255,255);\">I-Goal</td><td style=\"background-color: rgb(255,255,255);\">I-Goal</td><td style=\"background-color: rgb(255,255,255);\">I-Goal</td></tr></table>"
      ],
      "text/plain": [
       "<IPython.core.display.HTML object>"
      ]
     },
     "metadata": {},
     "output_type": "display_data"
    },
    {
     "name": "stdout",
     "output_type": "stream",
     "text": [
      "true: Change_operational_state pred: Following\n"
     ]
    },
    {
     "data": {
      "text/html": [
       "<table><tr><td><b>words</b></td><td style=\"background-color: rgb(255,255,255);\">could</td><td style=\"background-color: rgb(255,255,255);\">you</td><td style=\"background-color: rgb(255,255,255);\">turn</td><td style=\"background-color: rgb(255,255,255);\">on</td><td style=\"background-color: rgb(255,255,255);\">the</td><td style=\"background-color: rgb(255,255,255);\">television</td></tr><tr><td><b>lexical_unit</b></td><td style=\"background-color: rgb(255.0000, 255,255.0000);\">0.0000</td><td style=\"background-color: rgb(255.0000, 255,255.0000);\">0.0000</td><td style=\"background-color: rgb(0.0000, 255,0.0000);\">1.0000</td><td style=\"background-color: rgb(255.0000, 255,255.0000);\">0.0000</td><td style=\"background-color: rgb(255.0000, 255,255.0000);\">0.0000</td><td style=\"background-color: rgb(255.0000, 255,255.0000);\">0.0000</td></tr><tr><td><b>attention_intent</b></td><td style=\"background-color: rgb(249.4829, 255,249.4829);\">0.0216</td><td style=\"background-color: rgb(60.9134, 255,60.9134);\">0.7611</td><td style=\"background-color: rgb(201.8908, 255,201.8908);\">0.2083</td><td style=\"background-color: rgb(254.5333, 255,254.5333);\">0.0018</td><td style=\"background-color: rgb(254.9999, 255,254.9999);\">0.0000</td><td style=\"background-color: rgb(255.0000, 255,255.0000);\">0.0000</td></tr><tr><td><b>slots_true</b></td><td style=\"background-color: rgb(255,255,255);\">O</td><td style=\"background-color: rgb(255,255,255);\">B-Agent</td><td style=\"background-color: rgb(255,255,255);\">O</td><td style=\"background-color: rgb(255,255,255);\">B-Operational_state</td><td style=\"background-color: rgb(255,255,255);\">B-Device</td><td style=\"background-color: rgb(255,255,255);\">I-Device</td></tr><tr><td><b>slots_pred</b></td><td style=\"background-color: rgb(255,255,255);\">B-Theme</td><td style=\"background-color: rgb(255,255,255);\">O</td><td style=\"background-color: rgb(255,255,255);\">O</td><td style=\"background-color: rgb(255,255,255);\">B-Goal</td><td style=\"background-color: rgb(255,255,255);\">I-Goal</td><td style=\"background-color: rgb(255,255,255);\">I-Goal</td></tr></table>"
      ],
      "text/plain": [
       "<IPython.core.display.HTML object>"
      ]
     },
     "metadata": {},
     "output_type": "display_data"
    },
    {
     "name": "stdout",
     "output_type": "stream",
     "text": [
      "true: Searching pred: Searching\n"
     ]
    },
    {
     "data": {
      "text/html": [
       "<table><tr><td><b>words</b></td><td style=\"background-color: rgb(255,255,255);\">find</td><td style=\"background-color: rgb(255,255,255);\">the</td><td style=\"background-color: rgb(255,255,255);\">magazine</td></tr><tr><td><b>lexical_unit</b></td><td style=\"background-color: rgb(0.0000, 255,0.0000);\">1.0000</td><td style=\"background-color: rgb(255.0000, 255,255.0000);\">0.0000</td><td style=\"background-color: rgb(255.0000, 255,255.0000);\">0.0000</td></tr><tr><td><b>attention_intent</b></td><td style=\"background-color: rgb(11.2350, 255,11.2350);\">0.9559</td><td style=\"background-color: rgb(254.9824, 255,254.9824);\">0.0001</td><td style=\"background-color: rgb(255.0000, 255,255.0000);\">0.0000</td></tr><tr><td><b>slots_true</b></td><td style=\"background-color: rgb(255,255,255);\">O</td><td style=\"background-color: rgb(255,255,255);\">B-Phenomenon</td><td style=\"background-color: rgb(255,255,255);\">I-Phenomenon</td></tr><tr><td><b>slots_pred</b></td><td style=\"background-color: rgb(255,255,255);\">B-Phenomenon</td><td style=\"background-color: rgb(255,255,255);\">B-Phenomenon</td><td style=\"background-color: rgb(255,255,255);\">I-Phenomenon</td></tr></table>"
      ],
      "text/plain": [
       "<IPython.core.display.HTML object>"
      ]
     },
     "metadata": {},
     "output_type": "display_data"
    },
    {
     "name": "stdout",
     "output_type": "stream",
     "text": [
      "true: Following pred: Following\n"
     ]
    },
    {
     "data": {
      "text/html": [
       "<table><tr><td><b>words</b></td><td style=\"background-color: rgb(255,255,255);\">follow</td><td style=\"background-color: rgb(255,255,255);\">me</td><td style=\"background-color: rgb(255,255,255);\">to</td><td style=\"background-color: rgb(255,255,255);\">the</td><td style=\"background-color: rgb(255,255,255);\">bathroom</td></tr><tr><td><b>lexical_unit</b></td><td style=\"background-color: rgb(0.0000, 255,0.0000);\">1.0000</td><td style=\"background-color: rgb(255.0000, 255,255.0000);\">0.0000</td><td style=\"background-color: rgb(255.0000, 255,255.0000);\">0.0000</td><td style=\"background-color: rgb(255.0000, 255,255.0000);\">0.0000</td><td style=\"background-color: rgb(255.0000, 255,255.0000);\">0.0000</td></tr><tr><td><b>attention_intent</b></td><td style=\"background-color: rgb(0.9041, 255,0.9041);\">0.9965</td><td style=\"background-color: rgb(254.1683, 255,254.1683);\">0.0033</td><td style=\"background-color: rgb(254.9280, 255,254.9280);\">0.0003</td><td style=\"background-color: rgb(255.0000, 255,255.0000);\">0.0000</td><td style=\"background-color: rgb(255.0000, 255,255.0000);\">0.0000</td></tr><tr><td><b>slots_true</b></td><td style=\"background-color: rgb(255,255,255);\">O</td><td style=\"background-color: rgb(255,255,255);\">B-Cotheme</td><td style=\"background-color: rgb(255,255,255);\">B-Goal</td><td style=\"background-color: rgb(255,255,255);\">I-Goal</td><td style=\"background-color: rgb(255,255,255);\">I-Goal</td></tr><tr><td><b>slots_pred</b></td><td style=\"background-color: rgb(255,255,255);\">O</td><td style=\"background-color: rgb(255,255,255);\">B-Direction</td><td style=\"background-color: rgb(255,255,255);\">B-Goal</td><td style=\"background-color: rgb(255,255,255);\">I-Goal</td><td style=\"background-color: rgb(255,255,255);\">I-Goal</td></tr></table>"
      ],
      "text/plain": [
       "<IPython.core.display.HTML object>"
      ]
     },
     "metadata": {},
     "output_type": "display_data"
    },
    {
     "name": "stdout",
     "output_type": "stream",
     "text": [
      "true: Taking pred: Entering\n"
     ]
    },
    {
     "data": {
      "text/html": [
       "<table><tr><td><b>words</b></td><td style=\"background-color: rgb(255,255,255);\">get</td><td style=\"background-color: rgb(255,255,255);\">my</td><td style=\"background-color: rgb(255,255,255);\">computer</td><td style=\"background-color: rgb(255,255,255);\">from</td><td style=\"background-color: rgb(255,255,255);\">the</td><td style=\"background-color: rgb(255,255,255);\">seat</td></tr><tr><td><b>lexical_unit</b></td><td style=\"background-color: rgb(0.0000, 255,0.0000);\">1.0000</td><td style=\"background-color: rgb(255.0000, 255,255.0000);\">0.0000</td><td style=\"background-color: rgb(255.0000, 255,255.0000);\">0.0000</td><td style=\"background-color: rgb(255.0000, 255,255.0000);\">0.0000</td><td style=\"background-color: rgb(255.0000, 255,255.0000);\">0.0000</td><td style=\"background-color: rgb(255.0000, 255,255.0000);\">0.0000</td></tr><tr><td><b>attention_intent</b></td><td style=\"background-color: rgb(0.1159, 255,0.1159);\">0.9995</td><td style=\"background-color: rgb(254.9984, 255,254.9984);\">0.0000</td><td style=\"background-color: rgb(254.8860, 255,254.8860);\">0.0004</td><td style=\"background-color: rgb(255.0000, 255,255.0000);\">0.0000</td><td style=\"background-color: rgb(255.0000, 255,255.0000);\">0.0000</td><td style=\"background-color: rgb(255.0000, 255,255.0000);\">0.0000</td></tr><tr><td><b>slots_true</b></td><td style=\"background-color: rgb(255,255,255);\">O</td><td style=\"background-color: rgb(255,255,255);\">B-Theme</td><td style=\"background-color: rgb(255,255,255);\">I-Theme</td><td style=\"background-color: rgb(255,255,255);\">B-Source</td><td style=\"background-color: rgb(255,255,255);\">I-Source</td><td style=\"background-color: rgb(255,255,255);\">I-Source</td></tr><tr><td><b>slots_pred</b></td><td style=\"background-color: rgb(255,255,255);\">O</td><td style=\"background-color: rgb(255,255,255);\">B-Theme</td><td style=\"background-color: rgb(255,255,255);\">I-Theme</td><td style=\"background-color: rgb(255,255,255);\">B-Source</td><td style=\"background-color: rgb(255,255,255);\">I-Source</td><td style=\"background-color: rgb(255,255,255);\">I-Source</td></tr></table>"
      ],
      "text/plain": [
       "<IPython.core.display.HTML object>"
      ]
     },
     "metadata": {},
     "output_type": "display_data"
    },
    {
     "name": "stdout",
     "output_type": "stream",
     "text": [
      "true: Bringing pred: Bringing\n"
     ]
    },
    {
     "data": {
      "text/html": [
       "<table><tr><td><b>words</b></td><td style=\"background-color: rgb(255,255,255);\">and</td><td style=\"background-color: rgb(255,255,255);\">bring</td><td style=\"background-color: rgb(255,255,255);\">me</td><td style=\"background-color: rgb(255,255,255);\">my</td><td style=\"background-color: rgb(255,255,255);\">laptop</td></tr><tr><td><b>lexical_unit</b></td><td style=\"background-color: rgb(255.0000, 255,255.0000);\">0.0000</td><td style=\"background-color: rgb(0.0000, 255,0.0000);\">1.0000</td><td style=\"background-color: rgb(255.0000, 255,255.0000);\">0.0000</td><td style=\"background-color: rgb(255.0000, 255,255.0000);\">0.0000</td><td style=\"background-color: rgb(255.0000, 255,255.0000);\">0.0000</td></tr><tr><td><b>attention_intent</b></td><td style=\"background-color: rgb(254.9999, 255,254.9999);\">0.0000</td><td style=\"background-color: rgb(9.7955, 255,9.7955);\">0.9616</td><td style=\"background-color: rgb(253.8597, 255,253.8597);\">0.0045</td><td style=\"background-color: rgb(255.0000, 255,255.0000);\">0.0000</td><td style=\"background-color: rgb(246.3476, 255,246.3476);\">0.0339</td></tr><tr><td><b>slots_true</b></td><td style=\"background-color: rgb(255,255,255);\">O</td><td style=\"background-color: rgb(255,255,255);\">O</td><td style=\"background-color: rgb(255,255,255);\">B-Beneficiary</td><td style=\"background-color: rgb(255,255,255);\">B-Theme</td><td style=\"background-color: rgb(255,255,255);\">I-Theme</td></tr><tr><td><b>slots_pred</b></td><td style=\"background-color: rgb(255,255,255);\">B-Agent</td><td style=\"background-color: rgb(255,255,255);\">O</td><td style=\"background-color: rgb(255,255,255);\">B-Goal</td><td style=\"background-color: rgb(255,255,255);\">B-Constant_location</td><td style=\"background-color: rgb(255,255,255);\">I-Constant_location</td></tr></table>"
      ],
      "text/plain": [
       "<IPython.core.display.HTML object>"
      ]
     },
     "metadata": {},
     "output_type": "display_data"
    },
    {
     "name": "stdout",
     "output_type": "stream",
     "text": [
      "true: Inspecting pred: Inspecting\n"
     ]
    },
    {
     "data": {
      "text/html": [
       "<table><tr><td><b>words</b></td><td style=\"background-color: rgb(255,255,255);\">and</td><td style=\"background-color: rgb(255,255,255);\">check</td><td style=\"background-color: rgb(255,255,255);\">for</td><td style=\"background-color: rgb(255,255,255);\">any</td><td style=\"background-color: rgb(255,255,255);\">messages</td></tr><tr><td><b>lexical_unit</b></td><td style=\"background-color: rgb(255.0000, 255,255.0000);\">0.0000</td><td style=\"background-color: rgb(0.0000, 255,0.0000);\">1.0000</td><td style=\"background-color: rgb(255.0000, 255,255.0000);\">0.0000</td><td style=\"background-color: rgb(255.0000, 255,255.0000);\">0.0000</td><td style=\"background-color: rgb(255.0000, 255,255.0000);\">0.0000</td></tr><tr><td><b>attention_intent</b></td><td style=\"background-color: rgb(254.9999, 255,254.9999);\">0.0000</td><td style=\"background-color: rgb(0.0006, 255,0.0006);\">1.0000</td><td style=\"background-color: rgb(255.0000, 255,255.0000);\">0.0000</td><td style=\"background-color: rgb(255.0000, 255,255.0000);\">0.0000</td><td style=\"background-color: rgb(255.0000, 255,255.0000);\">0.0000</td></tr><tr><td><b>slots_true</b></td><td style=\"background-color: rgb(255,255,255);\">O</td><td style=\"background-color: rgb(255,255,255);\">O</td><td style=\"background-color: rgb(255,255,255);\">B-Unwanted_entity</td><td style=\"background-color: rgb(255,255,255);\">I-Unwanted_entity</td><td style=\"background-color: rgb(255,255,255);\">I-Unwanted_entity</td></tr><tr><td><b>slots_pred</b></td><td style=\"background-color: rgb(255,255,255);\">B-Inspector</td><td style=\"background-color: rgb(255,255,255);\">O</td><td style=\"background-color: rgb(255,255,255);\">B-Ground</td><td style=\"background-color: rgb(255,255,255);\">I-Ground</td><td style=\"background-color: rgb(255,255,255);\">I-Ground</td></tr></table>"
      ],
      "text/plain": [
       "<IPython.core.display.HTML object>"
      ]
     },
     "metadata": {},
     "output_type": "display_data"
    },
    {
     "name": "stdout",
     "output_type": "stream",
     "text": [
      "true: Motion pred: Motion\n"
     ]
    },
    {
     "data": {
      "text/html": [
       "<table><tr><td><b>words</b></td><td style=\"background-color: rgb(255,255,255);\">go</td><td style=\"background-color: rgb(255,255,255);\">to</td><td style=\"background-color: rgb(255,255,255);\">the</td><td style=\"background-color: rgb(255,255,255);\">telephone</td></tr><tr><td><b>lexical_unit</b></td><td style=\"background-color: rgb(0.0000, 255,0.0000);\">1.0000</td><td style=\"background-color: rgb(255.0000, 255,255.0000);\">0.0000</td><td style=\"background-color: rgb(255.0000, 255,255.0000);\">0.0000</td><td style=\"background-color: rgb(255.0000, 255,255.0000);\">0.0000</td></tr><tr><td><b>attention_intent</b></td><td style=\"background-color: rgb(0.0072, 255,0.0072);\">1.0000</td><td style=\"background-color: rgb(254.9940, 255,254.9940);\">0.0000</td><td style=\"background-color: rgb(254.9996, 255,254.9996);\">0.0000</td><td style=\"background-color: rgb(255.0000, 255,255.0000);\">0.0000</td></tr><tr><td><b>slots_true</b></td><td style=\"background-color: rgb(255,255,255);\">O</td><td style=\"background-color: rgb(255,255,255);\">B-Goal</td><td style=\"background-color: rgb(255,255,255);\">I-Goal</td><td style=\"background-color: rgb(255,255,255);\">I-Goal</td></tr><tr><td><b>slots_pred</b></td><td style=\"background-color: rgb(255,255,255);\">O</td><td style=\"background-color: rgb(255,255,255);\">B-Goal</td><td style=\"background-color: rgb(255,255,255);\">I-Goal</td><td style=\"background-color: rgb(255,255,255);\">I-Goal</td></tr></table>"
      ],
      "text/plain": [
       "<IPython.core.display.HTML object>"
      ]
     },
     "metadata": {},
     "output_type": "display_data"
    },
    {
     "name": "stdout",
     "output_type": "stream",
     "text": [
      "true: Closure pred: Entering\n"
     ]
    },
    {
     "data": {
      "text/html": [
       "<table><tr><td><b>words</b></td><td style=\"background-color: rgb(255,255,255);\">please</td><td style=\"background-color: rgb(255,255,255);\">close</td><td style=\"background-color: rgb(255,255,255);\">the</td><td style=\"background-color: rgb(255,255,255);\">blinds</td></tr><tr><td><b>lexical_unit</b></td><td style=\"background-color: rgb(255.0000, 255,255.0000);\">0.0000</td><td style=\"background-color: rgb(0.0000, 255,0.0000);\">1.0000</td><td style=\"background-color: rgb(255.0000, 255,255.0000);\">0.0000</td><td style=\"background-color: rgb(255.0000, 255,255.0000);\">0.0000</td></tr><tr><td><b>attention_intent</b></td><td style=\"background-color: rgb(0.5331, 255,0.5331);\">0.9979</td><td style=\"background-color: rgb(254.4678, 255,254.4678);\">0.0021</td><td style=\"background-color: rgb(255.0000, 255,255.0000);\">0.0000</td><td style=\"background-color: rgb(255.0000, 255,255.0000);\">0.0000</td></tr><tr><td><b>slots_true</b></td><td style=\"background-color: rgb(255,255,255);\">O</td><td style=\"background-color: rgb(255,255,255);\">O</td><td style=\"background-color: rgb(255,255,255);\">B-Container_portal</td><td style=\"background-color: rgb(255,255,255);\">I-Container_portal</td></tr><tr><td><b>slots_pred</b></td><td style=\"background-color: rgb(255,255,255);\">B-Theme</td><td style=\"background-color: rgb(255,255,255);\">O</td><td style=\"background-color: rgb(255,255,255);\">O</td><td style=\"background-color: rgb(255,255,255);\">O</td></tr></table>"
      ],
      "text/plain": [
       "<IPython.core.display.HTML object>"
      ]
     },
     "metadata": {},
     "output_type": "display_data"
    },
    {
     "name": "stdout",
     "output_type": "stream",
     "text": [
      "true: Bringing pred: Bringing\n"
     ]
    },
    {
     "data": {
      "text/html": [
       "<table><tr><td><b>words</b></td><td style=\"background-color: rgb(255,255,255);\">robot</td><td style=\"background-color: rgb(255,255,255);\">can</td><td style=\"background-color: rgb(255,255,255);\">you</td><td style=\"background-color: rgb(255,255,255);\">bring</td><td style=\"background-color: rgb(255,255,255);\">me</td><td style=\"background-color: rgb(255,255,255);\">a</td><td style=\"background-color: rgb(255,255,255);\">towel</td></tr><tr><td><b>lexical_unit</b></td><td style=\"background-color: rgb(255.0000, 255,255.0000);\">0.0000</td><td style=\"background-color: rgb(255.0000, 255,255.0000);\">0.0000</td><td style=\"background-color: rgb(255.0000, 255,255.0000);\">0.0000</td><td style=\"background-color: rgb(0.0000, 255,0.0000);\">1.0000</td><td style=\"background-color: rgb(255.0000, 255,255.0000);\">0.0000</td><td style=\"background-color: rgb(255.0000, 255,255.0000);\">0.0000</td><td style=\"background-color: rgb(255.0000, 255,255.0000);\">0.0000</td></tr><tr><td><b>attention_intent</b></td><td style=\"background-color: rgb(254.9966, 255,254.9966);\">0.0000</td><td style=\"background-color: rgb(254.9999, 255,254.9999);\">0.0000</td><td style=\"background-color: rgb(254.9950, 255,254.9950);\">0.0000</td><td style=\"background-color: rgb(15.4564, 255,15.4564);\">0.9394</td><td style=\"background-color: rgb(239.5565, 255,239.5565);\">0.0606</td><td style=\"background-color: rgb(254.9994, 255,254.9994);\">0.0000</td><td style=\"background-color: rgb(255.0000, 255,255.0000);\">0.0000</td></tr><tr><td><b>slots_true</b></td><td style=\"background-color: rgb(255,255,255);\">O</td><td style=\"background-color: rgb(255,255,255);\">O</td><td style=\"background-color: rgb(255,255,255);\">B-Agent</td><td style=\"background-color: rgb(255,255,255);\">O</td><td style=\"background-color: rgb(255,255,255);\">B-Beneficiary</td><td style=\"background-color: rgb(255,255,255);\">B-Theme</td><td style=\"background-color: rgb(255,255,255);\">I-Theme</td></tr><tr><td><b>slots_pred</b></td><td style=\"background-color: rgb(255,255,255);\">B-Agent</td><td style=\"background-color: rgb(255,255,255);\">O</td><td style=\"background-color: rgb(255,255,255);\">O</td><td style=\"background-color: rgb(255,255,255);\">O</td><td style=\"background-color: rgb(255,255,255);\">B-Goal</td><td style=\"background-color: rgb(255,255,255);\">B-Goal</td><td style=\"background-color: rgb(255,255,255);\">I-Goal</td></tr></table>"
      ],
      "text/plain": [
       "<IPython.core.display.HTML object>"
      ]
     },
     "metadata": {},
     "output_type": "display_data"
    },
    {
     "name": "stdout",
     "output_type": "stream",
     "text": [
      "true: Giving pred: Entering\n"
     ]
    },
    {
     "data": {
      "text/html": [
       "<table><tr><td><b>words</b></td><td style=\"background-color: rgb(255,255,255);\">robot</td><td style=\"background-color: rgb(255,255,255);\">can</td><td style=\"background-color: rgb(255,255,255);\">you</td><td style=\"background-color: rgb(255,255,255);\">pass</td><td style=\"background-color: rgb(255,255,255);\">me</td><td style=\"background-color: rgb(255,255,255);\">a</td><td style=\"background-color: rgb(255,255,255);\">plastic</td><td style=\"background-color: rgb(255,255,255);\">plate</td></tr><tr><td><b>lexical_unit</b></td><td style=\"background-color: rgb(255.0000, 255,255.0000);\">0.0000</td><td style=\"background-color: rgb(255.0000, 255,255.0000);\">0.0000</td><td style=\"background-color: rgb(255.0000, 255,255.0000);\">0.0000</td><td style=\"background-color: rgb(0.0000, 255,0.0000);\">1.0000</td><td style=\"background-color: rgb(255.0000, 255,255.0000);\">0.0000</td><td style=\"background-color: rgb(255.0000, 255,255.0000);\">0.0000</td><td style=\"background-color: rgb(255.0000, 255,255.0000);\">0.0000</td><td style=\"background-color: rgb(255.0000, 255,255.0000);\">0.0000</td></tr><tr><td><b>attention_intent</b></td><td style=\"background-color: rgb(254.9949, 255,254.9949);\">0.0000</td><td style=\"background-color: rgb(254.9989, 255,254.9989);\">0.0000</td><td style=\"background-color: rgb(254.8912, 255,254.8912);\">0.0004</td><td style=\"background-color: rgb(218.4365, 255,218.4365);\">0.1434</td><td style=\"background-color: rgb(36.7854, 255,36.7854);\">0.8557</td><td style=\"background-color: rgb(254.9930, 255,254.9930);\">0.0000</td><td style=\"background-color: rgb(254.9663, 255,254.9663);\">0.0001</td><td style=\"background-color: rgb(254.9379, 255,254.9379);\">0.0002</td></tr><tr><td><b>slots_true</b></td><td style=\"background-color: rgb(255,255,255);\">O</td><td style=\"background-color: rgb(255,255,255);\">O</td><td style=\"background-color: rgb(255,255,255);\">B-Donor</td><td style=\"background-color: rgb(255,255,255);\">O</td><td style=\"background-color: rgb(255,255,255);\">B-Recipient</td><td style=\"background-color: rgb(255,255,255);\">B-Theme</td><td style=\"background-color: rgb(255,255,255);\">I-Theme</td><td style=\"background-color: rgb(255,255,255);\">I-Theme</td></tr><tr><td><b>slots_pred</b></td><td style=\"background-color: rgb(255,255,255);\">B-Theme</td><td style=\"background-color: rgb(255,255,255);\">O</td><td style=\"background-color: rgb(255,255,255);\">O</td><td style=\"background-color: rgb(255,255,255);\">O</td><td style=\"background-color: rgb(255,255,255);\">B-Goal</td><td style=\"background-color: rgb(255,255,255);\">B-Goal</td><td style=\"background-color: rgb(255,255,255);\">I-Goal</td><td style=\"background-color: rgb(255,255,255);\">I-Goal</td></tr></table>"
      ],
      "text/plain": [
       "<IPython.core.display.HTML object>"
      ]
     },
     "metadata": {},
     "output_type": "display_data"
    },
    {
     "name": "stdout",
     "output_type": "stream",
     "text": [
      "true: Change_operational_state pred: Bringing\n"
     ]
    },
    {
     "data": {
      "text/html": [
       "<table><tr><td><b>words</b></td><td style=\"background-color: rgb(255,255,255);\">robot</td><td style=\"background-color: rgb(255,255,255);\">can</td><td style=\"background-color: rgb(255,255,255);\">you</td><td style=\"background-color: rgb(255,255,255);\">turn</td><td style=\"background-color: rgb(255,255,255);\">my</td><td style=\"background-color: rgb(255,255,255);\">laptop</td><td style=\"background-color: rgb(255,255,255);\">on</td></tr><tr><td><b>lexical_unit</b></td><td style=\"background-color: rgb(255.0000, 255,255.0000);\">0.0000</td><td style=\"background-color: rgb(255.0000, 255,255.0000);\">0.0000</td><td style=\"background-color: rgb(255.0000, 255,255.0000);\">0.0000</td><td style=\"background-color: rgb(0.0000, 255,0.0000);\">1.0000</td><td style=\"background-color: rgb(255.0000, 255,255.0000);\">0.0000</td><td style=\"background-color: rgb(255.0000, 255,255.0000);\">0.0000</td><td style=\"background-color: rgb(255.0000, 255,255.0000);\">0.0000</td></tr><tr><td><b>attention_intent</b></td><td style=\"background-color: rgb(254.9941, 255,254.9941);\">0.0000</td><td style=\"background-color: rgb(253.8255, 255,253.8255);\">0.0046</td><td style=\"background-color: rgb(240.9239, 255,240.9239);\">0.0552</td><td style=\"background-color: rgb(253.0132, 255,253.0132);\">0.0078</td><td style=\"background-color: rgb(255.0000, 255,255.0000);\">0.0000</td><td style=\"background-color: rgb(17.2705, 255,17.2705);\">0.9323</td><td style=\"background-color: rgb(254.9999, 255,254.9999);\">0.0000</td></tr><tr><td><b>slots_true</b></td><td style=\"background-color: rgb(255,255,255);\">O</td><td style=\"background-color: rgb(255,255,255);\">O</td><td style=\"background-color: rgb(255,255,255);\">B-Agent</td><td style=\"background-color: rgb(255,255,255);\">O</td><td style=\"background-color: rgb(255,255,255);\">B-Device</td><td style=\"background-color: rgb(255,255,255);\">I-Device</td><td style=\"background-color: rgb(255,255,255);\">B-Operational_state</td></tr><tr><td><b>slots_pred</b></td><td style=\"background-color: rgb(255,255,255);\">B-Theme</td><td style=\"background-color: rgb(255,255,255);\">O</td><td style=\"background-color: rgb(255,255,255);\">O</td><td style=\"background-color: rgb(255,255,255);\">B-Goal</td><td style=\"background-color: rgb(255,255,255);\">I-Goal</td><td style=\"background-color: rgb(255,255,255);\">I-Goal</td><td style=\"background-color: rgb(255,255,255);\">B-Manner</td></tr></table>"
      ],
      "text/plain": [
       "<IPython.core.display.HTML object>"
      ]
     },
     "metadata": {},
     "output_type": "display_data"
    },
    {
     "name": "stdout",
     "output_type": "stream",
     "text": [
      "true: Following pred: Entering\n"
     ]
    },
    {
     "data": {
      "text/html": [
       "<table><tr><td><b>words</b></td><td style=\"background-color: rgb(255,255,255);\">robot</td><td style=\"background-color: rgb(255,255,255);\">come</td><td style=\"background-color: rgb(255,255,255);\">with</td><td style=\"background-color: rgb(255,255,255);\">me</td><td style=\"background-color: rgb(255,255,255);\">to</td><td style=\"background-color: rgb(255,255,255);\">the</td><td style=\"background-color: rgb(255,255,255);\">living</td><td style=\"background-color: rgb(255,255,255);\">room</td></tr><tr><td><b>lexical_unit</b></td><td style=\"background-color: rgb(255.0000, 255,255.0000);\">0.0000</td><td style=\"background-color: rgb(0.0000, 255,0.0000);\">1.0000</td><td style=\"background-color: rgb(255.0000, 255,255.0000);\">0.0000</td><td style=\"background-color: rgb(255.0000, 255,255.0000);\">0.0000</td><td style=\"background-color: rgb(255.0000, 255,255.0000);\">0.0000</td><td style=\"background-color: rgb(255.0000, 255,255.0000);\">0.0000</td><td style=\"background-color: rgb(255.0000, 255,255.0000);\">0.0000</td><td style=\"background-color: rgb(255.0000, 255,255.0000);\">0.0000</td></tr><tr><td><b>attention_intent</b></td><td style=\"background-color: rgb(254.9998, 255,254.9998);\">0.0000</td><td style=\"background-color: rgb(5.8393, 255,5.8393);\">0.9771</td><td style=\"background-color: rgb(254.9984, 255,254.9984);\">0.0000</td><td style=\"background-color: rgb(249.2606, 255,249.2606);\">0.0225</td><td style=\"background-color: rgb(254.9022, 255,254.9022);\">0.0004</td><td style=\"background-color: rgb(255.0000, 255,255.0000);\">0.0000</td><td style=\"background-color: rgb(255.0000, 255,255.0000);\">0.0000</td><td style=\"background-color: rgb(255.0000, 255,255.0000);\">0.0000</td></tr><tr><td><b>slots_true</b></td><td style=\"background-color: rgb(255,255,255);\">O</td><td style=\"background-color: rgb(255,255,255);\">O</td><td style=\"background-color: rgb(255,255,255);\">B-Cotheme</td><td style=\"background-color: rgb(255,255,255);\">I-Cotheme</td><td style=\"background-color: rgb(255,255,255);\">B-Goal</td><td style=\"background-color: rgb(255,255,255);\">I-Goal</td><td style=\"background-color: rgb(255,255,255);\">I-Goal</td><td style=\"background-color: rgb(255,255,255);\">I-Goal</td></tr><tr><td><b>slots_pred</b></td><td style=\"background-color: rgb(255,255,255);\">B-Theme</td><td style=\"background-color: rgb(255,255,255);\">O</td><td style=\"background-color: rgb(255,255,255);\">B-Goal</td><td style=\"background-color: rgb(255,255,255);\">I-Goal</td><td style=\"background-color: rgb(255,255,255);\">B-Purpose</td><td style=\"background-color: rgb(255,255,255);\">I-Purpose</td><td style=\"background-color: rgb(255,255,255);\">I-Purpose</td><td style=\"background-color: rgb(255,255,255);\">I-Purpose</td></tr></table>"
      ],
      "text/plain": [
       "<IPython.core.display.HTML object>"
      ]
     },
     "metadata": {},
     "output_type": "display_data"
    },
    {
     "name": "stdout",
     "output_type": "stream",
     "text": [
      "true: Change_operational_state pred: Motion\n"
     ]
    },
    {
     "data": {
      "text/html": [
       "<table><tr><td><b>words</b></td><td style=\"background-color: rgb(255,255,255);\">switch</td><td style=\"background-color: rgb(255,255,255);\">on</td><td style=\"background-color: rgb(255,255,255);\">the</td><td style=\"background-color: rgb(255,255,255);\">tv</td></tr><tr><td><b>lexical_unit</b></td><td style=\"background-color: rgb(0.0000, 255,0.0000);\">1.0000</td><td style=\"background-color: rgb(255.0000, 255,255.0000);\">0.0000</td><td style=\"background-color: rgb(255.0000, 255,255.0000);\">0.0000</td><td style=\"background-color: rgb(255.0000, 255,255.0000);\">0.0000</td></tr><tr><td><b>attention_intent</b></td><td style=\"background-color: rgb(6.0967, 255,6.0967);\">0.9761</td><td style=\"background-color: rgb(254.4870, 255,254.4870);\">0.0020</td><td style=\"background-color: rgb(254.9994, 255,254.9994);\">0.0000</td><td style=\"background-color: rgb(254.9931, 255,254.9931);\">0.0000</td></tr><tr><td><b>slots_true</b></td><td style=\"background-color: rgb(255,255,255);\">O</td><td style=\"background-color: rgb(255,255,255);\">B-Operational_state</td><td style=\"background-color: rgb(255,255,255);\">B-Device</td><td style=\"background-color: rgb(255,255,255);\">I-Device</td></tr><tr><td><b>slots_pred</b></td><td style=\"background-color: rgb(255,255,255);\">B-Manner</td><td style=\"background-color: rgb(255,255,255);\">B-Goal</td><td style=\"background-color: rgb(255,255,255);\">I-Goal</td><td style=\"background-color: rgb(255,255,255);\">I-Goal</td></tr></table>"
      ],
      "text/plain": [
       "<IPython.core.display.HTML object>"
      ]
     },
     "metadata": {},
     "output_type": "display_data"
    },
    {
     "name": "stdout",
     "output_type": "stream",
     "text": [
      "true: Taking pred: Taking\n"
     ]
    },
    {
     "data": {
      "text/html": [
       "<table><tr><td><b>words</b></td><td style=\"background-color: rgb(255,255,255);\">take</td><td style=\"background-color: rgb(255,255,255);\">the</td><td style=\"background-color: rgb(255,255,255);\">newspaper</td><td style=\"background-color: rgb(255,255,255);\">from</td><td style=\"background-color: rgb(255,255,255);\">the</td><td style=\"background-color: rgb(255,255,255);\">stand</td></tr><tr><td><b>lexical_unit</b></td><td style=\"background-color: rgb(0.0000, 255,0.0000);\">1.0000</td><td style=\"background-color: rgb(255.0000, 255,255.0000);\">0.0000</td><td style=\"background-color: rgb(255.0000, 255,255.0000);\">0.0000</td><td style=\"background-color: rgb(255.0000, 255,255.0000);\">0.0000</td><td style=\"background-color: rgb(255.0000, 255,255.0000);\">0.0000</td><td style=\"background-color: rgb(255.0000, 255,255.0000);\">0.0000</td></tr><tr><td><b>attention_intent</b></td><td style=\"background-color: rgb(0.0266, 255,0.0266);\">0.9999</td><td style=\"background-color: rgb(255.0000, 255,255.0000);\">0.0000</td><td style=\"background-color: rgb(254.9999, 255,254.9999);\">0.0000</td><td style=\"background-color: rgb(255.0000, 255,255.0000);\">0.0000</td><td style=\"background-color: rgb(255.0000, 255,255.0000);\">0.0000</td><td style=\"background-color: rgb(254.9745, 255,254.9745);\">0.0001</td></tr><tr><td><b>slots_true</b></td><td style=\"background-color: rgb(255,255,255);\">O</td><td style=\"background-color: rgb(255,255,255);\">B-Theme</td><td style=\"background-color: rgb(255,255,255);\">I-Theme</td><td style=\"background-color: rgb(255,255,255);\">B-Source</td><td style=\"background-color: rgb(255,255,255);\">I-Source</td><td style=\"background-color: rgb(255,255,255);\">I-Source</td></tr><tr><td><b>slots_pred</b></td><td style=\"background-color: rgb(255,255,255);\">O</td><td style=\"background-color: rgb(255,255,255);\">B-Theme</td><td style=\"background-color: rgb(255,255,255);\">I-Theme</td><td style=\"background-color: rgb(255,255,255);\">B-Theme</td><td style=\"background-color: rgb(255,255,255);\">I-Theme</td><td style=\"background-color: rgb(255,255,255);\">I-Theme</td></tr></table>"
      ],
      "text/plain": [
       "<IPython.core.display.HTML object>"
      ]
     },
     "metadata": {},
     "output_type": "display_data"
    },
    {
     "name": "stdout",
     "output_type": "stream",
     "text": [
      "true: Placing pred: Placing\n"
     ]
    },
    {
     "data": {
      "text/html": [
       "<table><tr><td><b>words</b></td><td style=\"background-color: rgb(255,255,255);\">and</td><td style=\"background-color: rgb(255,255,255);\">put</td><td style=\"background-color: rgb(255,255,255);\">it</td><td style=\"background-color: rgb(255,255,255);\">on</td><td style=\"background-color: rgb(255,255,255);\">the</td><td style=\"background-color: rgb(255,255,255);\">coffee</td><td style=\"background-color: rgb(255,255,255);\">table</td></tr><tr><td><b>lexical_unit</b></td><td style=\"background-color: rgb(255.0000, 255,255.0000);\">0.0000</td><td style=\"background-color: rgb(0.0000, 255,0.0000);\">1.0000</td><td style=\"background-color: rgb(255.0000, 255,255.0000);\">0.0000</td><td style=\"background-color: rgb(255.0000, 255,255.0000);\">0.0000</td><td style=\"background-color: rgb(255.0000, 255,255.0000);\">0.0000</td><td style=\"background-color: rgb(255.0000, 255,255.0000);\">0.0000</td><td style=\"background-color: rgb(255.0000, 255,255.0000);\">0.0000</td></tr><tr><td><b>attention_intent</b></td><td style=\"background-color: rgb(254.9990, 255,254.9990);\">0.0000</td><td style=\"background-color: rgb(0.1131, 255,0.1131);\">0.9996</td><td style=\"background-color: rgb(254.9637, 255,254.9637);\">0.0001</td><td style=\"background-color: rgb(254.9395, 255,254.9395);\">0.0002</td><td style=\"background-color: rgb(255.0000, 255,255.0000);\">0.0000</td><td style=\"background-color: rgb(254.9977, 255,254.9977);\">0.0000</td><td style=\"background-color: rgb(254.9874, 255,254.9874);\">0.0000</td></tr><tr><td><b>slots_true</b></td><td style=\"background-color: rgb(255,255,255);\">O</td><td style=\"background-color: rgb(255,255,255);\">O</td><td style=\"background-color: rgb(255,255,255);\">B-Theme</td><td style=\"background-color: rgb(255,255,255);\">B-Goal</td><td style=\"background-color: rgb(255,255,255);\">I-Goal</td><td style=\"background-color: rgb(255,255,255);\">I-Goal</td><td style=\"background-color: rgb(255,255,255);\">I-Goal</td></tr><tr><td><b>slots_pred</b></td><td style=\"background-color: rgb(255,255,255);\">B-Agent</td><td style=\"background-color: rgb(255,255,255);\">O</td><td style=\"background-color: rgb(255,255,255);\">B-Theme</td><td style=\"background-color: rgb(255,255,255);\">B-Goal</td><td style=\"background-color: rgb(255,255,255);\">I-Goal</td><td style=\"background-color: rgb(255,255,255);\">I-Goal</td><td style=\"background-color: rgb(255,255,255);\">I-Goal</td></tr></table>"
      ],
      "text/plain": [
       "<IPython.core.display.HTML object>"
      ]
     },
     "metadata": {},
     "output_type": "display_data"
    },
    {
     "name": "stdout",
     "output_type": "stream",
     "text": [
      "true: Change_operational_state pred: Inspecting\n"
     ]
    },
    {
     "data": {
      "text/html": [
       "<table><tr><td><b>words</b></td><td style=\"background-color: rgb(255,255,255);\">restart</td><td style=\"background-color: rgb(255,255,255);\">the</td><td style=\"background-color: rgb(255,255,255);\">wifi</td></tr><tr><td><b>lexical_unit</b></td><td style=\"background-color: rgb(0.0000, 255,0.0000);\">1.0000</td><td style=\"background-color: rgb(255.0000, 255,255.0000);\">0.0000</td><td style=\"background-color: rgb(255.0000, 255,255.0000);\">0.0000</td></tr><tr><td><b>attention_intent</b></td><td style=\"background-color: rgb(2.0184, 255,2.0184);\">0.9921</td><td style=\"background-color: rgb(254.9984, 255,254.9984);\">0.0000</td><td style=\"background-color: rgb(254.5675, 255,254.5675);\">0.0017</td></tr><tr><td><b>slots_true</b></td><td style=\"background-color: rgb(255,255,255);\">O</td><td style=\"background-color: rgb(255,255,255);\">B-Device</td><td style=\"background-color: rgb(255,255,255);\">I-Device</td></tr><tr><td><b>slots_pred</b></td><td style=\"background-color: rgb(255,255,255);\">B-Time</td><td style=\"background-color: rgb(255,255,255);\">B-Goal</td><td style=\"background-color: rgb(255,255,255);\">I-Goal</td></tr></table>"
      ],
      "text/plain": [
       "<IPython.core.display.HTML object>"
      ]
     },
     "metadata": {},
     "output_type": "display_data"
    },
    {
     "name": "stdout",
     "output_type": "stream",
     "text": [
      "true: Placing pred: Placing\n"
     ]
    },
    {
     "data": {
      "text/html": [
       "<table><tr><td><b>words</b></td><td style=\"background-color: rgb(255,255,255);\">hang</td><td style=\"background-color: rgb(255,255,255);\">my</td><td style=\"background-color: rgb(255,255,255);\">coat</td><td style=\"background-color: rgb(255,255,255);\">in</td><td style=\"background-color: rgb(255,255,255);\">the</td><td style=\"background-color: rgb(255,255,255);\">closet</td><td style=\"background-color: rgb(255,255,255);\">in</td><td style=\"background-color: rgb(255,255,255);\">my</td><td style=\"background-color: rgb(255,255,255);\">bedroom</td></tr><tr><td><b>lexical_unit</b></td><td style=\"background-color: rgb(0.0000, 255,0.0000);\">1.0000</td><td style=\"background-color: rgb(255.0000, 255,255.0000);\">0.0000</td><td style=\"background-color: rgb(255.0000, 255,255.0000);\">0.0000</td><td style=\"background-color: rgb(255.0000, 255,255.0000);\">0.0000</td><td style=\"background-color: rgb(255.0000, 255,255.0000);\">0.0000</td><td style=\"background-color: rgb(255.0000, 255,255.0000);\">0.0000</td><td style=\"background-color: rgb(255.0000, 255,255.0000);\">0.0000</td><td style=\"background-color: rgb(255.0000, 255,255.0000);\">0.0000</td><td style=\"background-color: rgb(255.0000, 255,255.0000);\">0.0000</td></tr><tr><td><b>attention_intent</b></td><td style=\"background-color: rgb(1.5697, 255,1.5697);\">0.9938</td><td style=\"background-color: rgb(255.0000, 255,255.0000);\">0.0000</td><td style=\"background-color: rgb(253.4825, 255,253.4825);\">0.0060</td><td style=\"background-color: rgb(255.0000, 255,255.0000);\">0.0000</td><td style=\"background-color: rgb(255.0000, 255,255.0000);\">0.0000</td><td style=\"background-color: rgb(254.9530, 255,254.9530);\">0.0002</td><td style=\"background-color: rgb(254.9999, 255,254.9999);\">0.0000</td><td style=\"background-color: rgb(255.0000, 255,255.0000);\">0.0000</td><td style=\"background-color: rgb(255.0000, 255,255.0000);\">0.0000</td></tr><tr><td><b>slots_true</b></td><td style=\"background-color: rgb(255,255,255);\">O</td><td style=\"background-color: rgb(255,255,255);\">B-Theme</td><td style=\"background-color: rgb(255,255,255);\">I-Theme</td><td style=\"background-color: rgb(255,255,255);\">B-Goal</td><td style=\"background-color: rgb(255,255,255);\">I-Goal</td><td style=\"background-color: rgb(255,255,255);\">I-Goal</td><td style=\"background-color: rgb(255,255,255);\">I-Goal</td><td style=\"background-color: rgb(255,255,255);\">I-Goal</td><td style=\"background-color: rgb(255,255,255);\">I-Goal</td></tr><tr><td><b>slots_pred</b></td><td style=\"background-color: rgb(255,255,255);\">O</td><td style=\"background-color: rgb(255,255,255);\">B-Goal</td><td style=\"background-color: rgb(255,255,255);\">I-Goal</td><td style=\"background-color: rgb(255,255,255);\">I-Goal</td><td style=\"background-color: rgb(255,255,255);\">I-Goal</td><td style=\"background-color: rgb(255,255,255);\">I-Goal</td><td style=\"background-color: rgb(255,255,255);\">B-Purpose</td><td style=\"background-color: rgb(255,255,255);\">I-Purpose</td><td style=\"background-color: rgb(255,255,255);\">I-Purpose</td></tr></table>"
      ],
      "text/plain": [
       "<IPython.core.display.HTML object>"
      ]
     },
     "metadata": {},
     "output_type": "display_data"
    }
   ],
   "source": [
    "# FrameNet train, HuRIC test 20%\n",
    "samples_fn_test_h = utils.load_json(FOLDER_FN_TEST_HURIC, 0)\n",
    "print('#samples', len(samples_fn_test_h))\n",
    "samples_wrong_fn_test_h = [s for s in samples_fn_test_h if s['intent_pred'] != s['intent_true']]\n",
    "print('#samples_wrong_intent', len(samples_wrong_fn_test_h))\n",
    "utils.display_all(samples_fn_test_h, False, False, False)"
   ]
  },
  {
   "cell_type": "code",
   "execution_count": 6,
   "metadata": {},
   "outputs": [
    {
     "name": "stdout",
     "output_type": "stream",
     "text": [
      "lexical_unit score only huric: 0.045871559633027525\n",
      "lexical_unit score huric+framenet: 0.6880733944954128\n",
      "lexical unit score train framenet test huric full 0.6893542757417103\n",
      "lexical unit score train framenet test huric 0.6605504587155964\n",
      "huric\n"
     ]
    },
    {
     "data": {
      "image/png": "[encoded data removed]",
      "text/plain": [
       "<Figure size 432x288 with 1 Axes>"
      ]
     },
     "metadata": {},
     "output_type": "display_data"
    },
    {
     "name": "stdout",
     "output_type": "stream",
     "text": [
      "only wrong ones huric\n",
      "true: Closure pred: Change_operational_state\n"
     ]
    },
    {
     "data": {
      "text/html": [
       "<table><tr><td><b>words</b></td><td style=\"background-color: rgb(255,255,255);\">and</td><td style=\"background-color: rgb(255,255,255);\">open</td><td style=\"background-color: rgb(255,255,255);\">it</td></tr><tr><td><b>lexical_unit</b></td><td style=\"background-color: rgb(255.0000, 255,255.0000);\">0.0000</td><td style=\"background-color: rgb(0.0000, 255,0.0000);\">1.0000</td><td style=\"background-color: rgb(255.0000, 255,255.0000);\">0.0000</td></tr><tr><td><b>attention_intent</b></td><td style=\"background-color: rgb(254.9994, 255,254.9994);\">0.0000</td><td style=\"background-color: rgb(231.9199, 255,231.9199);\">0.0905</td><td style=\"background-color: rgb(23.0900, 255,23.0900);\">0.9095</td></tr><tr><td><b>slots_true</b></td><td style=\"background-color: rgb(255,255,255);\">O</td><td style=\"background-color: rgb(255,255,255);\">O</td><td style=\"background-color: rgb(255,255,255);\">B-Container_portal</td></tr><tr><td><b>slots_pred</b></td><td style=\"background-color: rgb(255,255,255);\">O</td><td style=\"background-color: rgb(255,255,255);\">O</td><td style=\"background-color: rgb(255,255,255);\">B-Containing_object</td></tr></table>"
      ],
      "text/plain": [
       "<IPython.core.display.HTML object>"
      ]
     },
     "metadata": {},
     "output_type": "display_data"
    },
    {
     "name": "stdout",
     "output_type": "stream",
     "text": [
      "huric+framenet\n"
     ]
    },
    {
     "data": {
      "image/png": "[encoded data removed]",
      "text/plain": [
       "<Figure size 432x288 with 1 Axes>"
      ]
     },
     "metadata": {},
     "output_type": "display_data"
    },
    {
     "name": "stdout",
     "output_type": "stream",
     "text": [
      "only wrong huric+framenet\n",
      "true: Being_located pred: Taking\n"
     ]
    },
    {
     "data": {
      "text/html": [
       "<table><tr><td><b>words</b></td><td style=\"background-color: rgb(255,255,255);\">and</td><td style=\"background-color: rgb(255,255,255);\">the</td><td style=\"background-color: rgb(255,255,255);\">bed</td><td style=\"background-color: rgb(255,255,255);\">is</td><td style=\"background-color: rgb(255,255,255);\">between</td><td style=\"background-color: rgb(255,255,255);\">two</td><td style=\"background-color: rgb(255,255,255);\">lamps</td></tr><tr><td><b>lexical_unit</b></td><td style=\"background-color: rgb(255.0000, 255,255.0000);\">0.0000</td><td style=\"background-color: rgb(255.0000, 255,255.0000);\">0.0000</td><td style=\"background-color: rgb(255.0000, 255,255.0000);\">0.0000</td><td style=\"background-color: rgb(0.0000, 255,0.0000);\">1.0000</td><td style=\"background-color: rgb(255.0000, 255,255.0000);\">0.0000</td><td style=\"background-color: rgb(255.0000, 255,255.0000);\">0.0000</td><td style=\"background-color: rgb(255.0000, 255,255.0000);\">0.0000</td></tr><tr><td><b>attention_intent</b></td><td style=\"background-color: rgb(5.8346, 255,5.8346);\">0.9771</td><td style=\"background-color: rgb(254.9977, 255,254.9977);\">0.0000</td><td style=\"background-color: rgb(254.9932, 255,254.9932);\">0.0000</td><td style=\"background-color: rgb(251.6312, 255,251.6312);\">0.0132</td><td style=\"background-color: rgb(254.9984, 255,254.9984);\">0.0000</td><td style=\"background-color: rgb(255.0000, 255,255.0000);\">0.0000</td><td style=\"background-color: rgb(254.9996, 255,254.9996);\">0.0000</td></tr><tr><td><b>slots_true</b></td><td style=\"background-color: rgb(255,255,255);\">O</td><td style=\"background-color: rgb(255,255,255);\">B-Theme</td><td style=\"background-color: rgb(255,255,255);\">I-Theme</td><td style=\"background-color: rgb(255,255,255);\">O</td><td style=\"background-color: rgb(255,255,255);\">B-Location</td><td style=\"background-color: rgb(255,255,255);\">I-Location</td><td style=\"background-color: rgb(255,255,255);\">I-Location</td></tr><tr><td><b>slots_pred</b></td><td style=\"background-color: rgb(255,255,255);\">B-Theme</td><td style=\"background-color: rgb(255,255,255);\">I-Theme</td><td style=\"background-color: rgb(255,255,255);\">I-Theme</td><td style=\"background-color: rgb(255,255,255);\">B-Ground</td><td style=\"background-color: rgb(255,255,255);\">I-Ground</td><td style=\"background-color: rgb(255,255,255);\">I-Ground</td><td style=\"background-color: rgb(255,255,255);\">I-Ground</td></tr></table>"
      ],
      "text/plain": [
       "<IPython.core.display.HTML object>"
      ]
     },
     "metadata": {},
     "output_type": "display_data"
    },
    {
     "name": "stdout",
     "output_type": "stream",
     "text": [
      "true: Searching pred: Entering\n"
     ]
    },
    {
     "data": {
      "text/html": [
       "<table><tr><td><b>words</b></td><td style=\"background-color: rgb(255,255,255);\">please</td><td style=\"background-color: rgb(255,255,255);\">find</td><td style=\"background-color: rgb(255,255,255);\">the</td><td style=\"background-color: rgb(255,255,255);\">flowers</td></tr><tr><td><b>lexical_unit</b></td><td style=\"background-color: rgb(255.0000, 255,255.0000);\">0.0000</td><td style=\"background-color: rgb(0.0000, 255,0.0000);\">1.0000</td><td style=\"background-color: rgb(255.0000, 255,255.0000);\">0.0000</td><td style=\"background-color: rgb(255.0000, 255,255.0000);\">0.0000</td></tr><tr><td><b>attention_intent</b></td><td style=\"background-color: rgb(255.0000, 255,255.0000);\">0.0000</td><td style=\"background-color: rgb(0.0000, 255,0.0000);\">1.0000</td><td style=\"background-color: rgb(255.0000, 255,255.0000);\">0.0000</td><td style=\"background-color: rgb(255.0000, 255,255.0000);\">0.0000</td></tr><tr><td><b>slots_true</b></td><td style=\"background-color: rgb(255,255,255);\">O</td><td style=\"background-color: rgb(255,255,255);\">O</td><td style=\"background-color: rgb(255,255,255);\">B-Phenomenon</td><td style=\"background-color: rgb(255,255,255);\">I-Phenomenon</td></tr><tr><td><b>slots_pred</b></td><td style=\"background-color: rgb(255,255,255);\">O</td><td style=\"background-color: rgb(255,255,255);\">O</td><td style=\"background-color: rgb(255,255,255);\">B-Phenomenon</td><td style=\"background-color: rgb(255,255,255);\">I-Phenomenon</td></tr></table>"
      ],
      "text/plain": [
       "<IPython.core.display.HTML object>"
      ]
     },
     "metadata": {},
     "output_type": "display_data"
    },
    {
     "name": "stdout",
     "output_type": "stream",
     "text": [
      "true: Following pred: Entering\n"
     ]
    },
    {
     "data": {
      "text/html": [
       "<table><tr><td><b>words</b></td><td style=\"background-color: rgb(255,255,255);\">robot</td><td style=\"background-color: rgb(255,255,255);\">come</td><td style=\"background-color: rgb(255,255,255);\">with</td><td style=\"background-color: rgb(255,255,255);\">me</td><td style=\"background-color: rgb(255,255,255);\">to</td><td style=\"background-color: rgb(255,255,255);\">the</td><td style=\"background-color: rgb(255,255,255);\">living</td><td style=\"background-color: rgb(255,255,255);\">room</td></tr><tr><td><b>lexical_unit</b></td><td style=\"background-color: rgb(255.0000, 255,255.0000);\">0.0000</td><td style=\"background-color: rgb(0.0000, 255,0.0000);\">1.0000</td><td style=\"background-color: rgb(255.0000, 255,255.0000);\">0.0000</td><td style=\"background-color: rgb(255.0000, 255,255.0000);\">0.0000</td><td style=\"background-color: rgb(255.0000, 255,255.0000);\">0.0000</td><td style=\"background-color: rgb(255.0000, 255,255.0000);\">0.0000</td><td style=\"background-color: rgb(255.0000, 255,255.0000);\">0.0000</td><td style=\"background-color: rgb(255.0000, 255,255.0000);\">0.0000</td></tr><tr><td><b>attention_intent</b></td><td style=\"background-color: rgb(255.0000, 255,255.0000);\">0.0000</td><td style=\"background-color: rgb(2.8676, 255,2.8676);\">0.9888</td><td style=\"background-color: rgb(252.1326, 255,252.1326);\">0.0112</td><td style=\"background-color: rgb(254.9998, 255,254.9998);\">0.0000</td><td style=\"background-color: rgb(255.0000, 255,255.0000);\">0.0000</td><td style=\"background-color: rgb(255.0000, 255,255.0000);\">0.0000</td><td style=\"background-color: rgb(255.0000, 255,255.0000);\">0.0000</td><td style=\"background-color: rgb(255.0000, 255,255.0000);\">0.0000</td></tr><tr><td><b>slots_true</b></td><td style=\"background-color: rgb(255,255,255);\">O</td><td style=\"background-color: rgb(255,255,255);\">O</td><td style=\"background-color: rgb(255,255,255);\">B-Cotheme</td><td style=\"background-color: rgb(255,255,255);\">I-Cotheme</td><td style=\"background-color: rgb(255,255,255);\">B-Goal</td><td style=\"background-color: rgb(255,255,255);\">I-Goal</td><td style=\"background-color: rgb(255,255,255);\">I-Goal</td><td style=\"background-color: rgb(255,255,255);\">I-Goal</td></tr><tr><td><b>slots_pred</b></td><td style=\"background-color: rgb(255,255,255);\">O</td><td style=\"background-color: rgb(255,255,255);\">O</td><td style=\"background-color: rgb(255,255,255);\">B-Theme</td><td style=\"background-color: rgb(255,255,255);\">I-Theme</td><td style=\"background-color: rgb(255,255,255);\">B-Goal</td><td style=\"background-color: rgb(255,255,255);\">I-Goal</td><td style=\"background-color: rgb(255,255,255);\">I-Goal</td><td style=\"background-color: rgb(255,255,255);\">I-Goal</td></tr></table>"
      ],
      "text/plain": [
       "<IPython.core.display.HTML object>"
      ]
     },
     "metadata": {},
     "output_type": "display_data"
    },
    {
     "name": "stdout",
     "output_type": "stream",
     "text": [
      "true: Taking pred: Closure\n"
     ]
    },
    {
     "data": {
      "text/html": [
       "<table><tr><td><b>words</b></td><td style=\"background-color: rgb(255,255,255);\">take</td><td style=\"background-color: rgb(255,255,255);\">the</td><td style=\"background-color: rgb(255,255,255);\">newspaper</td><td style=\"background-color: rgb(255,255,255);\">from</td><td style=\"background-color: rgb(255,255,255);\">the</td><td style=\"background-color: rgb(255,255,255);\">stand</td></tr><tr><td><b>lexical_unit</b></td><td style=\"background-color: rgb(0.0000, 255,0.0000);\">1.0000</td><td style=\"background-color: rgb(255.0000, 255,255.0000);\">0.0000</td><td style=\"background-color: rgb(255.0000, 255,255.0000);\">0.0000</td><td style=\"background-color: rgb(255.0000, 255,255.0000);\">0.0000</td><td style=\"background-color: rgb(255.0000, 255,255.0000);\">0.0000</td><td style=\"background-color: rgb(255.0000, 255,255.0000);\">0.0000</td></tr><tr><td><b>attention_intent</b></td><td style=\"background-color: rgb(236.4970, 255,236.4970);\">0.0726</td><td style=\"background-color: rgb(254.9295, 255,254.9295);\">0.0003</td><td style=\"background-color: rgb(254.9954, 255,254.9954);\">0.0000</td><td style=\"background-color: rgb(254.5878, 255,254.5878);\">0.0016</td><td style=\"background-color: rgb(254.9994, 255,254.9994);\">0.0000</td><td style=\"background-color: rgb(18.9909, 255,18.9909);\">0.9255</td></tr><tr><td><b>slots_true</b></td><td style=\"background-color: rgb(255,255,255);\">O</td><td style=\"background-color: rgb(255,255,255);\">B-Theme</td><td style=\"background-color: rgb(255,255,255);\">I-Theme</td><td style=\"background-color: rgb(255,255,255);\">B-Source</td><td style=\"background-color: rgb(255,255,255);\">I-Source</td><td style=\"background-color: rgb(255,255,255);\">I-Source</td></tr><tr><td><b>slots_pred</b></td><td style=\"background-color: rgb(255,255,255);\">O</td><td style=\"background-color: rgb(255,255,255);\">B-Theme</td><td style=\"background-color: rgb(255,255,255);\">I-Theme</td><td style=\"background-color: rgb(255,255,255);\">I-Theme</td><td style=\"background-color: rgb(255,255,255);\">I-Theme</td><td style=\"background-color: rgb(255,255,255);\">I-Theme</td></tr></table>"
      ],
      "text/plain": [
       "<IPython.core.display.HTML object>"
      ]
     },
     "metadata": {},
     "output_type": "display_data"
    },
    {
     "name": "stdout",
     "output_type": "stream",
     "text": [
      "true: Placing pred: Searching\n"
     ]
    },
    {
     "data": {
      "text/html": [
       "<table><tr><td><b>words</b></td><td style=\"background-color: rgb(255,255,255);\">hang</td><td style=\"background-color: rgb(255,255,255);\">my</td><td style=\"background-color: rgb(255,255,255);\">coat</td><td style=\"background-color: rgb(255,255,255);\">in</td><td style=\"background-color: rgb(255,255,255);\">the</td><td style=\"background-color: rgb(255,255,255);\">closet</td><td style=\"background-color: rgb(255,255,255);\">in</td><td style=\"background-color: rgb(255,255,255);\">my</td><td style=\"background-color: rgb(255,255,255);\">bedroom</td></tr><tr><td><b>lexical_unit</b></td><td style=\"background-color: rgb(0.0000, 255,0.0000);\">1.0000</td><td style=\"background-color: rgb(255.0000, 255,255.0000);\">0.0000</td><td style=\"background-color: rgb(255.0000, 255,255.0000);\">0.0000</td><td style=\"background-color: rgb(255.0000, 255,255.0000);\">0.0000</td><td style=\"background-color: rgb(255.0000, 255,255.0000);\">0.0000</td><td style=\"background-color: rgb(255.0000, 255,255.0000);\">0.0000</td><td style=\"background-color: rgb(255.0000, 255,255.0000);\">0.0000</td><td style=\"background-color: rgb(255.0000, 255,255.0000);\">0.0000</td><td style=\"background-color: rgb(255.0000, 255,255.0000);\">0.0000</td></tr><tr><td><b>attention_intent</b></td><td style=\"background-color: rgb(0.0068, 255,0.0068);\">1.0000</td><td style=\"background-color: rgb(255.0000, 255,255.0000);\">0.0000</td><td style=\"background-color: rgb(255.0000, 255,255.0000);\">0.0000</td><td style=\"background-color: rgb(254.9992, 255,254.9992);\">0.0000</td><td style=\"background-color: rgb(255.0000, 255,255.0000);\">0.0000</td><td style=\"background-color: rgb(254.9940, 255,254.9940);\">0.0000</td><td style=\"background-color: rgb(255.0000, 255,255.0000);\">0.0000</td><td style=\"background-color: rgb(255.0000, 255,255.0000);\">0.0000</td><td style=\"background-color: rgb(255.0000, 255,255.0000);\">0.0000</td></tr><tr><td><b>slots_true</b></td><td style=\"background-color: rgb(255,255,255);\">O</td><td style=\"background-color: rgb(255,255,255);\">B-Theme</td><td style=\"background-color: rgb(255,255,255);\">I-Theme</td><td style=\"background-color: rgb(255,255,255);\">B-Goal</td><td style=\"background-color: rgb(255,255,255);\">I-Goal</td><td style=\"background-color: rgb(255,255,255);\">I-Goal</td><td style=\"background-color: rgb(255,255,255);\">I-Goal</td><td style=\"background-color: rgb(255,255,255);\">I-Goal</td><td style=\"background-color: rgb(255,255,255);\">I-Goal</td></tr><tr><td><b>slots_pred</b></td><td style=\"background-color: rgb(255,255,255);\">O</td><td style=\"background-color: rgb(255,255,255);\">B-Phenomenon</td><td style=\"background-color: rgb(255,255,255);\">I-Phenomenon</td><td style=\"background-color: rgb(255,255,255);\">B-Goal</td><td style=\"background-color: rgb(255,255,255);\">I-Goal</td><td style=\"background-color: rgb(255,255,255);\">I-Goal</td><td style=\"background-color: rgb(255,255,255);\">I-Goal</td><td style=\"background-color: rgb(255,255,255);\">I-Goal</td><td style=\"background-color: rgb(255,255,255);\">I-Goal</td></tr></table>"
      ],
      "text/plain": [
       "<IPython.core.display.HTML object>"
      ]
     },
     "metadata": {},
     "output_type": "display_data"
    }
   ],
   "source": [
    "print('lexical_unit score only huric:', utils.align_accuracy_argmax(samples))\n",
    "print('lexical_unit score huric+framenet:', utils.align_accuracy_argmax(samples_wf))\n",
    "print('lexical unit score train framenet test huric full', utils.align_accuracy_argmax(samples_fn_test_hf))\n",
    "print('lexical unit score train framenet test huric', utils.align_accuracy_argmax(samples_fn_test_h))\n",
    "print('huric')\n",
    "utils.align_score(samples, 100)\n",
    "print('only wrong ones huric')\n",
    "utils.display_all(samples_wrong, False, False, False)\n",
    "print('huric+framenet')\n",
    "utils.align_score(samples_wf, 100)\n",
    "print('only wrong huric+framenet')\n",
    "utils.display_all(samples_wrong_wf, False, False, False)"
   ]
  },
  {
   "cell_type": "code",
   "execution_count": null,
   "metadata": {},
   "outputs": [],
   "source": []
  }
 ],
 "metadata": {
  "kernelspec": {
   "display_name": "python3.6",
   "language": "python",
   "name": "python3.6"
  },
  "language_info": {
   "codemirror_mode": {
    "name": "ipython",
    "version": 3
   },
   "file_extension": ".py",
   "mimetype": "text/x-python",
   "name": "python",
   "nbconvert_exporter": "python",
   "pygments_lexer": "ipython3",
   "version": "3.6.6"
  }
 },
 "nbformat": 4,
 "nbformat_minor": 2
}
