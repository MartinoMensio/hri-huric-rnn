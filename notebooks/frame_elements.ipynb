{
 "cells": [
  {
   "cell_type": "code",
   "execution_count": 1,
   "metadata": {},
   "outputs": [],
   "source": [
    "import utils\n",
    "\n",
    "# the basic results of train 80% huric, test 20% HuRIC\n",
    "FOLDER_WITHOUT_FRAMENET='../nlunetwork/results/dataset_combination/eval_loss_both_slottype_full_we_large_recurrent_cell_lstm_attention_both_three_stages_true_highway___hyper:LABEL_EMB_SIZE=64,LSTM_SIZE=128,BATCH_SIZE=2,MAX_EPOCHS=100/huric_eb/modern_right/'\n",
    "# the results of train all FrameNet, test 20 % HuRIC\n",
    "FOLDER_FN_TEST_HURIC='../nlunetwork/results/dataset_combination/test_loss_both_slottype_full_we_large_recurrent_cell_lstm_attention_both_three_stages_true_highway___hyper:LABEL_EMB_SIZE=64,LSTM_SIZE=128,BATCH_SIZE=2,MAX_EPOCHS=100/huric_eb/modern_right/'\n",
    "# the results of train (FrameNet + 80% huric), test 20% HuRIC\n",
    "FOLDER_WITH_FRAMENET='../nlunetwork/results/dataset_combination/eval_loss_both_slottype_full_we_large_recurrent_cell_lstm_attention_both_three_stages_true_highway___hyper:LABEL_EMB_SIZE=64,LSTM_SIZE=128,BATCH_SIZE=2,MAX_EPOCHS=100/huric_eb/with_framenet'\n",
    "\n",
    "# also the full evaluation on 100% HuRIC\n",
    "FOLDER_FN_TEST_HURIC_FULL='../nlunetwork/results/dataset_combination/fn_model/test_all_loss_both_slottype_full_we_large_recurrent_cell_lstm_attention_both_three_stages_true_highway___hyper:LABEL_EMB_SIZE=64,LSTM_SIZE=128,BATCH_SIZE=2,MAX_EPOCHS=100/huric_eb/modern_right/'\n",
    "FOLDER_WITHOUT_FRAMENET_FULL='../nlunetwork/results/dataset_combination/cross_loss_both_slottype_full_we_large_recurrent_cell_lstm_attention_both_three_stages_true_highway___hyper:LABEL_EMB_SIZE=64,LSTM_SIZE=128,BATCH_SIZE=2,MAX_EPOCHS=100/huric_eb/modern_right/'\n",
    "\n",
    "samples_h = utils.load_json(FOLDER_WITHOUT_FRAMENET)\n",
    "samples_f = utils.load_json(FOLDER_FN_TEST_HURIC, 0)\n",
    "samples_hf = utils.load_json(FOLDER_WITH_FRAMENET)\n",
    "\n",
    "samples_f_full = utils.load_json(FOLDER_FN_TEST_HURIC_FULL, 0)\n",
    "samples_h_full = utils.load_json(FOLDER_WITHOUT_FRAMENET_FULL)\n",
    "\n",
    "# also the XML stuff\n",
    "HURIC_LOCATION = '../data/huric_eb/modern/source'\n",
    "gold_missing = utils.get_samples_pos_and_deps(HURIC_LOCATION)"
   ]
  },
  {
   "cell_type": "code",
   "execution_count": 2,
   "metadata": {
    "scrolled": true
   },
   "outputs": [
    {
     "name": "stdout",
     "output_type": "stream",
     "text": [
      "h {'ad': {'argmax': 0.009174311926605505, 'average': 0.006611827660167753}, 'ai': {'first_word_of_span_average': 0.39500361225481134, 'first_word_of_span_argmax': 0.4343112244897959, 'lexical_unit_average': 0.39505213027793923, 'lexical_unit_argmax': 0.40441569484936835, 'nouns_average': 0.0894268328529917, 'nouns_argmax': 0.14762917071590542}, 'ac': {'first_word_of_span_average': 0.13857827625523408, 'first_word_of_span_argmax': 0.11850097181729835, 'lexical_unit_average': 0.4124302207533925, 'lexical_unit_argmax': 0.5625789601554908, 'nouns_average': 0.08660290662807468, 'nouns_argmax': 0.025368480725623584}}\n",
      "f {'ad': {'argmax': 0.8623853211009175, 'average': 0.8126191459899438}, 'ai': {'first_word_of_span_average': 0.1750732039381316, 'first_word_of_span_argmax': 0.17846209912536443, 'lexical_unit_average': 0.4046992185649138, 'lexical_unit_argmax': 0.5086127308066083, 'nouns_average': 0.07234305975041976, 'nouns_argmax': 0.01913265306122449}, 'ac': {'first_word_of_span_average': 0.1295546817850318, 'first_word_of_span_argmax': 0.04591836734693878, 'lexical_unit_average': 0.12212726968533813, 'lexical_unit_argmax': 0.002551020408163265, 'nouns_average': 0.1735959737347593, 'nouns_argmax': 0.11709386135406544}}\n",
      "hf {'ad': {'argmax': 0.6605504587155964, 'average': 0.6649004071625932}, 'ai': {'first_word_of_span_average': 0.19517029731994204, 'first_word_of_span_argmax': 0.17517006802721088, 'lexical_unit_average': 0.10582093325092086, 'lexical_unit_argmax': 0.10561224489795917, 'nouns_average': 0.13178765164719114, 'nouns_argmax': 0.1003057175251053}, 'ac': {'first_word_of_span_average': 0.10109108127044936, 'first_word_of_span_argmax': 0.06808794946550048, 'lexical_unit_average': 0.06744734091835339, 'lexical_unit_argmax': 0.05250850340136054, 'nouns_average': 0.08302550799733104, 'nouns_argmax': 0.07705903790087464}}\n"
     ]
    }
   ],
   "source": [
    "print('h', utils.get_attention_scores(samples_h, gold_missing))\n",
    "print('f', utils.get_attention_scores(samples_f, gold_missing))\n",
    "print('hf', utils.get_attention_scores(samples_hf, gold_missing))"
   ]
  },
  {
   "cell_type": "code",
   "execution_count": 3,
   "metadata": {},
   "outputs": [
    {
     "name": "stdout",
     "output_type": "stream",
     "text": [
      "fn_full {'ad': {'argmax': 0.8464223385689355, 'average': 0.8100562715390721}, 'ai': {'first_word_of_span_average': 0.15198998398292088, 'first_word_of_span_argmax': 0.13788638262322475, 'lexical_unit_average': 0.4267576526072562, 'lexical_unit_argmax': 0.5602497756737523, 'nouns_average': 0.06927612212209434, 'nouns_argmax': 0.027638347411739216}, 'ac': {'first_word_of_span_average': 0.11720714205922608, 'first_word_of_span_argmax': 0.03313840155945419, 'lexical_unit_average': 0.11911688164794805, 'lexical_unit_argmax': 0.004117933723196881, 'nouns_average': 0.17675616437902195, 'nouns_argmax': 0.11931794506843234}}\n",
      "h_full {'ad': {'argmax': 0.019197207678883072, 'average': 0.020228370771133063}, 'ai': {'first_word_of_span_average': 0.40420459492816174, 'first_word_of_span_argmax': 0.45044671864847297, 'lexical_unit_average': 0.3273808215626397, 'lexical_unit_argmax': 0.36738799158389784, 'nouns_average': 0.13081258997527137, 'nouns_argmax': 0.186031436616232}, 'ac': {'first_word_of_span_average': 0.11998990706474989, 'first_word_of_span_argmax': 0.07166063306414185, 'lexical_unit_average': 0.438046524262254, 'lexical_unit_argmax': 0.6073354683003805, 'nouns_average': 0.09059627350325596, 'nouns_argmax': 0.036677766948234776}}\n"
     ]
    }
   ],
   "source": [
    "print('fn_full', utils.get_attention_scores(samples_f_full, gold_missing))\n",
    "print('h_full', utils.get_attention_scores(samples_h_full, gold_missing))"
   ]
  },
  {
   "cell_type": "code",
   "execution_count": 4,
   "metadata": {},
   "outputs": [
    {
     "name": "stdout",
     "output_type": "stream",
     "text": [
      "be {'Being_in_category': ['this is a table with a glass deck', 'this is a bed room', 'the living room is very light and bright', 'this is a very wide and bright livingroom', 'this is a bathroom with a shower bath and double sink', 'this is a bathroom where the door is on the right', 'this is a living room with white furniture', 'this is a double bedroom with four pictures on the wall', 'this is a bedroom with big double bed and two bedside tables', 'this is a bedroom with one bed and two night stands', 'robot this is the bedroom with a double bed with two lights next to it', \"it 's a diningroom with a table of glass in it with six chairs\"], 'Being_located': ['the fridge is on your right side', 'you are in the bedroom and the bed is between two lamps', 'you are in the bedroom and the bed is between two lamps', 'the bath-tub is on the left side', 'the sink is in the kitchen', 'this is a bathroom where the door is on the right', 'you are in a very big bathroom', 'please find me the black cushion which is on the bed', 'bring me my towel that is in the bathroom', 'i really need you to bring me my aspirin it is in one of the drawers of the bathroom', 'robot listen go into the bedroom and find the black pen it should be on the nightstand', 'search for the scissors they should be in the blue drawer', 'take the coke that is in the kitchen', 'take the magazine that is in the bathroom', 'you should bring me the brown envelope that is on the table', 'michael carry me the phone that is on the glass table in the dining room']}\n",
      "move {'Motion': ['can you please move near the right lamp', 'move to the living room', 'move to the lamp on the right side of the bed', 'please move to the fridge', 'please move to the far end of this table', 'could you please move to the sink and open the cold water', 'move to the left of the table', 'move near the television of the kitchen', 'please move to the front of the fridge', 'move near the couch of the bedroom slowly', 'move near the counter', 'move near the window', 'move to the fridge', 'move towards the bedroom', 'move towards the kitchen', 'please move towards the living room', 'can you move a little bit to the right', 'move along the wall', 'move away from the oven', 'move to bedroom', 'move to the bedroom', 'move to the dining room', 'please move along the fences', 'robot could you move near the table'], 'Bringing': ['could you please move the trash bin from the kitchen to the studio']}\n",
      "put {'Placing': ['put the mug in the living room', 'put the cell phone on the dining room table', 'put the book on the chair near the dining table', 'please pick my mobile phone and put it on the chair near the table', 'put the pillow under the bed', 'put my mobile phone on the kitchen table', 'put the coffee mug into the dishwasher', 'hey robot take the book and put it in the oven', 'please put the book in the dining room', 'please put the book on the table in the dining room', 'put the book on the bed', 'put the bottle on the table in the dining room', 'put the bottle on the table in the studio', 'put the phone in the kitchen stove', 'put the phone on the table in the dining room', 'bring the beers here and put them on the table next to the couch', 'go to the dining room take all the plates from the table and put them in the dishwasher', 'please robot put the pan on the stove and control it', 'put down the newspaper', 'put my clothes in the washing machine', 'put my jacket on the bed', 'put the baking tray in the oven', 'put the jacket in the wardrobe', 'put the kettle on the stove', 'put the milk in the fridge', 'put the mobile phone in the nightstand', 'put the pillow on the bed', 'put the pillow on the chair', 'put the soap on the bathroom sink', 'put this book on the bookshelf', 'put this pan on the stove', 'robot put this plate in the center of the table', 'take my trousers on the bed and put them in the washing machine', 'take the coffee mugs from the kitchen cabinet and put them on the table', 'can you put the detergent in the washing machine', 'can you put the soap in the washing machine', 'could you put my clothes on the washing line please', 'could you put the vase on the coffee table', 'could you put the vase on the table please', 'find the magazine and put it on the table', 'put the bottle in the bin', 'put the can in the bin', 'put the can in the trash', 'put the cup in the sink', 'put the plate on the counter', 'take the newspaper from the stand and put it on the coffee table'], 'Closure': ['robot can you put the blinds all the way down'], 'Change_operational_state': ['robot can you put the tv on']}\n",
      "get {'Taking': ['get the blue slippers from the bathroom', 'robot go get a book for me', 'get my coat from the closet', 'get the phone and take it to the bathroom', 'go get the book', 'please get the cushion from the bed', 'get a fork from the drawer', 'get my computer from the seat', \"let 's go get my book in the living room\"], 'Bringing': ['michael go to the kitchen and get me some water', 'get me my catalogue on the bedside table', 'get me my jacket', 'get me my towel', 'i need some toilet paper can you get me some', 'i would like some cutlery can you get me some', 'i would like some loo roll can you get me some loo roll', 'robot can you get me a glass of water from the kitchen']}\n",
      "take {'Bringing': ['can you take the mug to the coffee table in the living room', 'take the mug to the bedroom', 'take my cellphone to the bedroom', 'take my phone into the living room', 'robot please take the mug to the sink', 'take the jar to the table of the kitchen', 'take the paper to the bathroom', 'take the screwdriver to daniele', 'get the phone and take it to the bathroom', 'please take the book to the bathroom', 'please take the mug to the bedroom', 'take the book to the bedroom', 'take the bottle to the bedroom', 'take the bottle to the dining room', 'take the bottle to the kitchen', 'take the mobile into the bedroom', 'take the phone to the bathroom', 'take the phone to the bedroom', 'can you please take out the garbage', 'i need some utensils could you take me some', \"let 's take the soap to the kitchen\", 'please take my trash to the laundry room', 'robot can you take me to the laundry room', 'take the tray to the bedroom', 'the trash needs to go out could you take it out please'], 'Taking': ['take my phone and place it on the bench in the kitchen', 'john can you take the mug in the kitchen and bring it to the side of the bathtub please thanks', 'hey robot take the book and put it in the oven', 'go to the bathroom take the rag go to the hall and clean the mirror', 'take the remote control and turn on the tv', 'take the bottle near the fridge', 'take the phone on the couch', 'take the phone on the left of the pc', 'could you go to the bedroom and take the postcard on the nightstand please', 'could you take the knife on the cutting board', 'go to the dining room take all the plates from the table and put them in the dishwasher', 'please take some pasta from the kitchen cabinet', 'take a coffee mug', 'take my trousers on the bed and put them in the washing machine', 'take my wristwatch', 'take the apple jam jar', 'take the beer cans in the kitchen', 'take the black paperback from the bookshelf', 'take the bottle of water on the table', 'take the cereal box', 'take the coffee mugs from the kitchen cabinet and put them on the table', 'take the coke that is in the kitchen', 'take the corn can on the kitchen table', 'take the forks from the dishwasher', 'take the glass jar', 'take the knife with the black handle', 'take the magazine that is in the bathroom', 'take the orange juice from the fridge', 'take the salt box', 'take three coffee cups and bring them to me', 'there are some plastic bags in the kitchen drawer can you take one and bring it here', 'take the laptop near the table of the dining room', 'take the phone near the table at your right', 'take the mug on the table in the living room', 'take my jacket from the jacket hook in my bedroom', 'take the bottle from the table and use it to water the plant', 'take the newspaper from the stand and put it on the coffee table']}\n",
      "come {'Following': ['come with me', 'robot come with me to the living room'], 'Motion': ['come to the table', 'robot can you come to the studio with me']}\n",
      "open {'Change_operational_state': ['could you please move to the sink and open the cold water'], 'Closure': ['go in front of the main door and open it', 'open the bottle', 'open the box on the left of the recorder', 'robot can you open the cabinet', 'open the press', 'please open the pantry', 'please open the storage cupboard', 'robot can you open the laundry room cabinet', 'robot can you open the washer', 'robot can you open the washing machine']}\n",
      "look {'Perception_active': ['look at me'], 'Searching': ['look for the glass in the bedroom', 'look for the wrench in the bathroom', 'look for my handbag in the dining room', 'look for my phone', 'look for my phone in the bathroom and the bedroom', 'look for the bed in the bathroom', 'look for the soap in the bathroom', 'look for a blue book in the lounge', 'look for my mobile phone', 'look for the towel']}\n"
     ]
    }
   ],
   "source": [
    "xml_docs = utils.load_xmls(HURIC_LOCATION)\n",
    "invokers = utils.get_lemma_invoker(xml_docs)\n",
    "# ambiguous verbs invoking multiple frames\n",
    "for lemma, invocations in invokers.items():\n",
    "    if len(invocations) > 1:\n",
    "        print(lemma, {k: v for k, v in invocations.items()})"
   ]
  },
  {
   "cell_type": "code",
   "execution_count": null,
   "metadata": {},
   "outputs": [],
   "source": []
  }
 ],
 "metadata": {
  "kernelspec": {
   "display_name": "python3.6",
   "language": "python",
   "name": "python3.6"
  },
  "language_info": {
   "codemirror_mode": {
    "name": "ipython",
    "version": 3
   },
   "file_extension": ".py",
   "mimetype": "text/x-python",
   "name": "python",
   "nbconvert_exporter": "python",
   "pygments_lexer": "ipython3",
   "version": "3.6.6"
  }
 },
 "nbformat": 4,
 "nbformat_minor": 2
}
