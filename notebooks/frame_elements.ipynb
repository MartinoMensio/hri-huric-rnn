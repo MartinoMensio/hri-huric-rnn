{
 "cells": [
  {
   "cell_type": "code",
   "execution_count": 1,
   "metadata": {},
   "outputs": [],
   "source": [
    "import utils\n",
    "\n",
    "# the basic results of train 80% huric, test 20% HuRIC\n",
    "FOLDER_WITHOUT_FRAMENET='../nlunetwork/results/dataset_combination/eval_loss_both_slottype_full_we_large_recurrent_cell_lstm_attention_both_three_stages_true_highway___hyper:LABEL_EMB_SIZE=64,LSTM_SIZE=128,BATCH_SIZE=2,MAX_EPOCHS=100/huric_eb/modern_right/'\n",
    "# the results of train all FrameNet, test 20 % HuRIC\n",
    "FOLDER_FN_TEST_HURIC='../nlunetwork/results/dataset_combination/test_loss_both_slottype_full_we_large_recurrent_cell_lstm_attention_both_three_stages_true_highway___hyper:LABEL_EMB_SIZE=64,LSTM_SIZE=128,BATCH_SIZE=2,MAX_EPOCHS=100/huric_eb/modern_right/'\n",
    "# the results of train (FrameNet + 80% huric), test 20% HuRIC\n",
    "FOLDER_WITH_FRAMENET='../nlunetwork/results/dataset_combination/eval_loss_both_slottype_full_we_large_recurrent_cell_lstm_attention_both_three_stages_true_highway___hyper:LABEL_EMB_SIZE=64,LSTM_SIZE=128,BATCH_SIZE=2,MAX_EPOCHS=100/huric_eb/with_framenet'\n",
    "\n",
    "samples_h = utils.load_json(FOLDER_WITHOUT_FRAMENET)\n",
    "samples_f = utils.load_json(FOLDER_FN_TEST_HURIC, 0)\n",
    "samples_hf = utils.load_json(FOLDER_WITH_FRAMENET)\n",
    "\n",
    "# also the XML stuff\n",
    "HURIC_LOCATION = '../data/huric_eb/modern/source'\n",
    "gold_missing = utils.get_samples_pos_and_deps(HURIC_LOCATION)"
   ]
  },
  {
   "cell_type": "code",
   "execution_count": 2,
   "metadata": {},
   "outputs": [
    {
     "name": "stdout",
     "output_type": "stream",
     "text": [
      "h {'ad': {'argmax': 0.009174311926605505, 'average': 0.006611827660167753}, 'ai': {'first_word_of_span_average': 0.39500361225481134, 'first_word_of_span_argmax': 0.4343112244897959, 'lexical_unit_average': 0.39505213027793923, 'lexical_unit_argmax': 0.40441569484936835, 'nouns_average': 0.0894268328529917, 'nouns_argmax': 0.14762917071590542}, 'ac': {'first_word_of_span_average': 0.13857827625523408, 'first_word_of_span_argmax': 0.11850097181729835, 'lexical_unit_average': 0.4124302207533925, 'lexical_unit_argmax': 0.5625789601554908, 'nouns_average': 0.08660290662807468, 'nouns_argmax': 0.025368480725623584}}\n",
      "f {'ad': {'argmax': 0.8623853211009175, 'average': 0.8126191459899438}, 'ai': {'first_word_of_span_average': 0.1750732039381316, 'first_word_of_span_argmax': 0.17846209912536443, 'lexical_unit_average': 0.4046992185649138, 'lexical_unit_argmax': 0.5086127308066083, 'nouns_average': 0.07234305975041976, 'nouns_argmax': 0.01913265306122449}, 'ac': {'first_word_of_span_average': 0.1295546817850318, 'first_word_of_span_argmax': 0.04591836734693878, 'lexical_unit_average': 0.12212726968533813, 'lexical_unit_argmax': 0.002551020408163265, 'nouns_average': 0.1735959737347593, 'nouns_argmax': 0.11709386135406544}}\n",
      "hf {'ad': {'argmax': 0.6605504587155964, 'average': 0.6649004071625932}, 'ai': {'first_word_of_span_average': 0.19517029731994204, 'first_word_of_span_argmax': 0.17517006802721088, 'lexical_unit_average': 0.10582093325092086, 'lexical_unit_argmax': 0.10561224489795917, 'nouns_average': 0.13178765164719114, 'nouns_argmax': 0.1003057175251053}, 'ac': {'first_word_of_span_average': 0.10109108127044936, 'first_word_of_span_argmax': 0.06808794946550048, 'lexical_unit_average': 0.06744734091835339, 'lexical_unit_argmax': 0.05250850340136054, 'nouns_average': 0.08302550799733104, 'nouns_argmax': 0.07705903790087464}}\n"
     ]
    }
   ],
   "source": [
    "print('h', utils.get_attention_scores(samples_h, gold_missing))\n",
    "print('f', utils.get_attention_scores(samples_f, gold_missing))\n",
    "print('hf', utils.get_attention_scores(samples_hf, gold_missing))"
   ]
  },
  {
   "cell_type": "code",
   "execution_count": null,
   "metadata": {},
   "outputs": [],
   "source": []
  },
  {
   "cell_type": "raw",
   "metadata": {},
   "source": []
  }
 ],
 "metadata": {
  "kernelspec": {
   "display_name": "python3.6",
   "language": "python",
   "name": "python3.6"
  },
  "language_info": {
   "codemirror_mode": {
    "name": "ipython",
    "version": 3
   },
   "file_extension": ".py",
   "mimetype": "text/x-python",
   "name": "python",
   "nbconvert_exporter": "python",
   "pygments_lexer": "ipython3",
   "version": "3.6.6"
  }
 },
 "nbformat": 4,
 "nbformat_minor": 2
}
