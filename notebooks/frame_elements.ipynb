{
 "cells": [
  {
   "cell_type": "code",
   "execution_count": 1,
   "metadata": {},
   "outputs": [],
   "source": [
    "import utils\n",
    "\n",
    "# the basic results of train 80% huric, test 20% HuRIC\n",
    "FOLDER_WITHOUT_FRAMENET='../nlunetwork/results/framenet/results/eval_loss_both_slottype_full_we_large_recurrent_cell_lstm_attention_both_three_stages_true_highway___hyper:LABEL_EMB_SIZE=64,LSTM_SIZE=128,BATCH_SIZE=2,MAX_EPOCHS=100/modern_right/'\n",
    "# the results of train all FrameNet, test 20 % HuRIC\n",
    "FOLDER_FN_TEST_HURIC='/home/martino/kmi/huric_rnn/nlunetwork/results/framenet/results/test_loss_both_slottype_full_we_large_recurrent_cell_lstm_attention_both_three_stages_true_highway___hyper:LABEL_EMB_SIZE=64,LSTM_SIZE=100,BATCH_SIZE=16,MAX_EPOCHS=100/huric_eb/modern_right/'\n",
    "# the results of train (FrameNet + 80% huric), test 20% HuRIC\n",
    "FOLDER_WITH_FRAMENET='../nlunetwork/results/framenet/results/eval_loss_both_slottype_full_we_large_recurrent_cell_lstm_attention_both_three_stages_true_highway___hyper:LABEL_EMB_SIZE=64,LSTM_SIZE=128,BATCH_SIZE=2,MAX_EPOCHS=100/with_framenet/'\n",
    "\n",
    "samples_h = utils.load_json(FOLDER_WITHOUT_FRAMENET)\n",
    "samples_f = utils.load_json(FOLDER_FN_TEST_HURIC, 0)\n",
    "samples_hf = utils.load_json(FOLDER_WITH_FRAMENET)\n",
    "\n",
    "# also the XML stuff\n",
    "HURIC_LOCATION = '../data/huric_eb/modern/source'\n",
    "gold_missing = utils.get_samples_pos_and_deps(HURIC_LOCATION)"
   ]
  },
  {
   "cell_type": "code",
   "execution_count": 2,
   "metadata": {},
   "outputs": [
    {
     "name": "stdout",
     "output_type": "stream",
     "text": [
      "h {'ad': {'argmax': 0.05504587155963303, 'average': 0.053940200057320295}, 'ai': {'first_word_of_span_average': 0.454649774525806, 'first_word_of_span_argmax': 0.4952256944444445, 'lexical_unit_average': 0.295744347202455, 'lexical_unit_argmax': 0.37926587301587295, 'nouns_average': 0.13940724266030452, 'nouns_argmax': 0.19610821759259256}, 'ac': {'first_word_of_span_average': 0.1349154621514442, 'first_word_of_span_argmax': 0.0685763888888889, 'lexical_unit_average': 0.2118004997193883, 'lexical_unit_argmax': 0.2740885416666667, 'nouns_average': 0.10909154315436138, 'nouns_argmax': 0.004340277777777778}}\n",
      "f {'ad': {'argmax': 0.7798165137614679, 'average': 0.7493527278796304}, 'ai': {'first_word_of_span_average': 0.15608967182800818, 'first_word_of_span_argmax': 0.10564236111111112, 'lexical_unit_average': 0.24627487112137184, 'lexical_unit_argmax': 0.3029513888888889, 'nouns_average': 0.14150287028656056, 'nouns_argmax': 0.0630787037037037}, 'ac': {'first_word_of_span_average': 0.07427580579674138, 'first_word_of_span_argmax': 0.026041666666666668, 'lexical_unit_average': 0.0641499338499483, 'lexical_unit_argmax': 0.0032552083333333335, 'nouns_average': 0.08770463692466912, 'nouns_argmax': 0.07561383928571429}}\n",
      "hf {'ad': {'argmax': 0.7706422018348624, 'average': 0.751103914178788}, 'ai': {'first_word_of_span_average': 0.32152660365400304, 'first_word_of_span_argmax': 0.39887152777777773, 'lexical_unit_average': 0.25496983333058104, 'lexical_unit_argmax': 0.3563988095238096, 'nouns_average': 0.13847146272811295, 'nouns_argmax': 0.09333664021164023}, 'ac': {'first_word_of_span_average': 0.09890272307551178, 'first_word_of_span_argmax': 0.05572916666666667, 'lexical_unit_average': 0.08785651110791642, 'lexical_unit_argmax': 0.080078125, 'nouns_average': 0.2120074075234192, 'nouns_argmax': 0.22726727843915343}}\n"
     ]
    }
   ],
   "source": [
    "print('h', utils.get_attention_scores(samples_h, gold_missing))\n",
    "print('f', utils.get_attention_scores(samples_f, gold_missing))\n",
    "print('hf', utils.get_attention_scores(samples_hf, gold_missing))"
   ]
  },
  {
   "cell_type": "code",
   "execution_count": null,
   "metadata": {},
   "outputs": [],
   "source": []
  }
 ],
 "metadata": {
  "kernelspec": {
   "display_name": "python3.6",
   "language": "python",
   "name": "python3.6"
  },
  "language_info": {
   "codemirror_mode": {
    "name": "ipython",
    "version": 3
   },
   "file_extension": ".py",
   "mimetype": "text/x-python",
   "name": "python",
   "nbconvert_exporter": "python",
   "pygments_lexer": "ipython3",
   "version": "3.6.6"
  }
 },
 "nbformat": 4,
 "nbformat_minor": 2
}
