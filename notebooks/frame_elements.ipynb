{
 "cells": [
  {
   "cell_type": "code",
   "execution_count": 1,
   "metadata": {},
   "outputs": [],
   "source": [
    "import utils\n",
    "\n",
    "# the basic results of train 80% huric, test 20% HuRIC\n",
    "FOLDER_WITHOUT_FRAMENET='../nlunetwork/results/dataset_combination/eval_loss_both_slottype_full_we_large_recurrent_cell_lstm_attention_both_three_stages_true_highway___hyper:LABEL_EMB_SIZE=64,LSTM_SIZE=128,BATCH_SIZE=2,MAX_EPOCHS=100/huric_eb/modern_right/'\n",
    "# the results of train all FrameNet, test 20 % HuRIC\n",
    "FOLDER_FN_TEST_HURIC='../nlunetwork/results/dataset_combination/test_loss_both_slottype_full_we_large_recurrent_cell_lstm_attention_both_three_stages_true_highway___hyper:LABEL_EMB_SIZE=64,LSTM_SIZE=128,BATCH_SIZE=2,MAX_EPOCHS=100/huric_eb/modern_right/'\n",
    "# the results of train (FrameNet + 80% huric), test 20% HuRIC\n",
    "FOLDER_WITH_FRAMENET='../nlunetwork/results/dataset_combination/eval_loss_both_slottype_full_we_large_recurrent_cell_lstm_attention_both_three_stages_true_highway___hyper:LABEL_EMB_SIZE=64,LSTM_SIZE=128,BATCH_SIZE=2,MAX_EPOCHS=100/huric_eb/with_framenet'\n",
    "\n",
    "# also the full evaluation on 100% HuRIC\n",
    "FOLDER_FN_TEST_HURIC_FULL='../nlunetwork/results/dataset_combination/fn_model/test_all_loss_both_slottype_full_we_large_recurrent_cell_lstm_attention_both_three_stages_true_highway___hyper:LABEL_EMB_SIZE=64,LSTM_SIZE=128,BATCH_SIZE=2,MAX_EPOCHS=100/huric_eb/modern_right/'\n",
    "FOLDER_WITHOUT_FRAMENET_FULL='../nlunetwork/results/dataset_combination/cross_loss_both_slottype_full_we_large_recurrent_cell_lstm_attention_both_three_stages_true_highway___hyper:LABEL_EMB_SIZE=64,LSTM_SIZE=128,BATCH_SIZE=2,MAX_EPOCHS=100/huric_eb/modern_right/'\n",
    "FOLDER_WITHOUT_FRAMENET_FULL_2='../nlunetwork/results/tuning/optimized/cross_single_both_lstm_loss_both_slottype_full_we_large_recurrent_cell_lstm_attention_both_three_stages_true_highway___hyper:LABEL_EMB_SIZE=32,LSTM_SIZE=128,BATCH_SIZE=2,MAX_EPOCHS=50/huric_eb/modern_right/'\n",
    "WITH_DROPOUT='../nlunetwork/results/cross_lstm_loss_both_slottype_full_we_large_recurrent_cell_lstm_attention_both_three_stages_true_highway___hyper:LABEL_EMB_SIZE=64,LSTM_SIZE=128,BATCH_SIZE=2,MAX_EPOCHS=50,DROPOUT_KEEP_PROB=0.5/huric_eb/modern_right/'\n",
    "FOLDER_HF_FULL='../nlunetwork/results/tuning/optimized/cross_single_both_lstm_loss_both_slottype_full_we_large_recurrent_cell_lstm_attention_both_three_stages_true_highway___hyper:LABEL_EMB_SIZE=32,LSTM_SIZE=128,BATCH_SIZE=2,MAX_EPOCHS=50,DROPOUT_KEEP_PROB=1.0/huric_eb/with_framenet/'\n",
    "\n",
    "samples_h = utils.load_json(FOLDER_WITHOUT_FRAMENET)\n",
    "samples_f = utils.load_json(FOLDER_FN_TEST_HURIC, 0)\n",
    "samples_hf = utils.load_json(FOLDER_WITH_FRAMENET)\n",
    "\n",
    "\n",
    "samples_f_full = utils.load_json(FOLDER_FN_TEST_HURIC_FULL, 0)\n",
    "samples_h_full = utils.load_json(FOLDER_WITHOUT_FRAMENET_FULL,49)\n",
    "samples_h_full_2 = utils.load_json(FOLDER_WITHOUT_FRAMENET_FULL_2,49)\n",
    "samples_h_drop = utils.load_json(WITH_DROPOUT,49)\n",
    "samples_hf_full = utils.load_json(FOLDER_HF_FULL,40)\n",
    "\n",
    "# also the XML stuff\n",
    "HURIC_LOCATION = '../data/huric_eb/modern/source'\n",
    "gold_missing = utils.get_samples_pos_and_lemmas_and_deps(HURIC_LOCATION)"
   ]
  },
  {
   "cell_type": "code",
   "execution_count": 2,
   "metadata": {
    "scrolled": true
   },
   "outputs": [
    {
     "name": "stdout",
     "output_type": "stream",
     "text": [
      "h {'ad': {'argmax': 0.009174311926605505, 'average': 0.006611827660167753}, 'ai': {'first_word_of_span_average': 0.39500361225481134, 'first_word_of_span_argmax': 0.4343112244897959, 'lexical_unit_average': 0.39505213027793923, 'lexical_unit_argmax': 0.40441569484936835, 'nouns_average': 0.0894268328529917, 'nouns_argmax': 0.14762917071590542}, 'ac': {'first_word_of_span_average': 0.13857827625523408, 'first_word_of_span_argmax': 0.11850097181729835, 'lexical_unit_average': 0.4124302207533925, 'lexical_unit_argmax': 0.5625789601554908, 'nouns_average': 0.08660290662807468, 'nouns_argmax': 0.025368480725623584}}\n",
      "f {'ad': {'argmax': 0.8623853211009175, 'average': 0.8126191459899438}, 'ai': {'first_word_of_span_average': 0.1750732039381316, 'first_word_of_span_argmax': 0.17846209912536443, 'lexical_unit_average': 0.4046992185649138, 'lexical_unit_argmax': 0.5086127308066083, 'nouns_average': 0.07234305975041976, 'nouns_argmax': 0.01913265306122449}, 'ac': {'first_word_of_span_average': 0.1295546817850318, 'first_word_of_span_argmax': 0.04591836734693878, 'lexical_unit_average': 0.12212726968533813, 'lexical_unit_argmax': 0.002551020408163265, 'nouns_average': 0.1735959737347593, 'nouns_argmax': 0.11709386135406544}}\n",
      "hf {'ad': {'argmax': 0.6605504587155964, 'average': 0.6649004071625932}, 'ai': {'first_word_of_span_average': 0.19517029731994204, 'first_word_of_span_argmax': 0.17517006802721088, 'lexical_unit_average': 0.10582093325092086, 'lexical_unit_argmax': 0.10561224489795917, 'nouns_average': 0.13178765164719114, 'nouns_argmax': 0.1003057175251053}, 'ac': {'first_word_of_span_average': 0.10109108127044936, 'first_word_of_span_argmax': 0.06808794946550048, 'lexical_unit_average': 0.06744734091835339, 'lexical_unit_argmax': 0.05250850340136054, 'nouns_average': 0.08302550799733104, 'nouns_argmax': 0.07705903790087464}}\n"
     ]
    }
   ],
   "source": [
    "print('h', utils.get_attention_scores(samples_h, gold_missing))\n",
    "print('f', utils.get_attention_scores(samples_f, gold_missing))\n",
    "print('hf', utils.get_attention_scores(samples_hf, gold_missing))"
   ]
  },
  {
   "cell_type": "code",
   "execution_count": 3,
   "metadata": {},
   "outputs": [
    {
     "name": "stdout",
     "output_type": "stream",
     "text": [
      "fn_full {'ad': {'argmax': 0.8464223385689355, 'average': 0.8100562715390721}, 'ai': {'first_word_of_span_average': 0.15198998398292088, 'first_word_of_span_argmax': 0.13788638262322475, 'lexical_unit_average': 0.4267576526072562, 'lexical_unit_argmax': 0.5602497756737523, 'nouns_average': 0.06927612212209434, 'nouns_argmax': 0.027638347411739216}, 'ac': {'first_word_of_span_average': 0.11720714205922608, 'first_word_of_span_argmax': 0.03313840155945419, 'lexical_unit_average': 0.11911688164794805, 'lexical_unit_argmax': 0.004117933723196881, 'nouns_average': 0.17675616437902195, 'nouns_argmax': 0.11931794506843234}}\n",
      "h_full {'ad': {'argmax': 0.019197207678883072, 'average': 0.02350592646715401}, 'ai': {'first_word_of_span_average': 0.3831758160662886, 'first_word_of_span_argmax': 0.42832737708468693, 'lexical_unit_average': 0.34428865861564595, 'lexical_unit_argmax': 0.4013386088678486, 'nouns_average': 0.11633138844511265, 'nouns_argmax': 0.16395496199346102}, 'ac': {'first_word_of_span_average': 0.118703278723992, 'first_word_of_span_argmax': 0.07563468857328505, 'lexical_unit_average': 0.444745796577047, 'lexical_unit_argmax': 0.6326267056530214, 'nouns_average': 0.0872682529817182, 'nouns_argmax': 0.032316013799931896}}\n",
      "h_full_2 {'ad': {'argmax': 0.07329842931937172, 'average': 0.07610875782561315}, 'ai': {'first_word_of_span_average': 0.34876768351232923, 'first_word_of_span_argmax': 0.3633412234289427, 'lexical_unit_average': 0.37218431814075265, 'lexical_unit_argmax': 0.4455463504440113, 'nouns_average': 0.12583864919715848, 'nouns_argmax': 0.1675254881029735}, 'ac': {'first_word_of_span_average': 0.13689318227986055, 'first_word_of_span_argmax': 0.10215353197809335, 'lexical_unit_average': 0.2952356158111551, 'lexical_unit_argmax': 0.4182296017822334, 'nouns_average': 0.14178391996764433, 'nouns_argmax': 0.05163711748507074}}\n",
      "h_full_drop {'ad': {'argmax': 0.055846422338568937, 'average': 0.06878593610370624}, 'ai': {'first_word_of_span_average': 0.25123722041627755, 'first_word_of_span_argmax': 0.3282480893592005, 'lexical_unit_average': 0.17681788449579358, 'lexical_unit_argmax': 0.2162149200160896, 'nouns_average': 0.20807108152026152, 'nouns_argmax': 0.14876678579163966}, 'ac': {'first_word_of_span_average': 0.13605554309536327, 'first_word_of_span_argmax': 0.07228719948018195, 'lexical_unit_average': 0.19809226164901314, 'lexical_unit_argmax': 0.19657670410594383, 'nouns_average': 0.1672951320838284, 'nouns_argmax': 0.05382734098621043}}\n",
      "hf_full {'ad': {'argmax': 0.699825479930192, 'average': 0.7084512540148186}, 'ai': {'first_word_of_span_average': 0.2846698375199293, 'first_word_of_span_argmax': 0.3152746836226369, 'lexical_unit_average': 0.23493852179053473, 'lexical_unit_argmax': 0.3043929267613478, 'nouns_average': 0.12854230508604372, 'nouns_argmax': 0.09879630918860927}, 'ac': {'first_word_of_span_average': 0.05230180645750117, 'first_word_of_span_argmax': 0.04257170704539126, 'lexical_unit_average': 0.017065766785576156, 'lexical_unit_argmax': 0.013076673164392462, 'nouns_average': 0.0924519273502323, 'nouns_argmax': 0.20254939045143736}}\n"
     ]
    }
   ],
   "source": [
    "print('fn_full', utils.get_attention_scores(samples_f_full, gold_missing))\n",
    "print('h_full', utils.get_attention_scores(samples_h_full, gold_missing))\n",
    "print('h_full_2', utils.get_attention_scores(samples_h_full_2, gold_missing))\n",
    "print('h_full_drop', utils.get_attention_scores(samples_h_drop, gold_missing))\n",
    "print('hf_full', utils.get_attention_scores(samples_hf_full, gold_missing))\n"
   ]
  },
  {
   "cell_type": "code",
   "execution_count": 4,
   "metadata": {},
   "outputs": [
    {
     "name": "stdout",
     "output_type": "stream",
     "text": [
      "be\n",
      "move\n",
      "put\n",
      "get\n",
      "take\n",
      "come\n",
      "open\n",
      "look\n"
     ]
    }
   ],
   "source": [
    "xml_docs = utils.load_xmls(HURIC_LOCATION)\n",
    "invokers = utils.get_lemma_invoker(xml_docs)\n",
    "# ambiguous verbs invoking multiple frames\n",
    "for lemma, invocations in invokers.items():\n",
    "    if len(invocations) > 1:\n",
    "        print(lemma)#, {k: v for k, v in invocations.items()})"
   ]
  },
  {
   "cell_type": "code",
   "execution_count": 5,
   "metadata": {},
   "outputs": [
    {
     "name": "stdout",
     "output_type": "stream",
     "text": [
      "fn_full {'ad': {'argmax': 0.8464223385689355, 'average': 0.8126813355662391}, 'ai': {'first_word_of_span_average': 0.15198998398292088, 'first_word_of_span_argmax': 0.13788638262322475, 'lexical_unit_average': 0.479222948657168, 'lexical_unit_argmax': 0.5454840805717998, 'nouns_average': 0.06927612212209434, 'nouns_argmax': 0.027638347411739216}, 'ac': {'first_word_of_span_average': 0.11720714205922608, 'first_word_of_span_argmax': 0.03313840155945419, 'lexical_unit_average': 0.15336284499738548, 'lexical_unit_argmax': 0.07460124075621151, 'nouns_average': 0.17675616437902195, 'nouns_argmax': 0.11931794506843234}}\n",
      "h_full {'ad': {'argmax': 0.019197207678883072, 'average': 0.06980171063311298}, 'ai': {'first_word_of_span_average': 0.3831758160662886, 'first_word_of_span_argmax': 0.42832737708468693, 'lexical_unit_average': 0.4612264796883462, 'lexical_unit_argmax': 0.4793638545953362, 'nouns_average': 0.11633138844511265, 'nouns_argmax': 0.16395496199346102}, 'ac': {'first_word_of_span_average': 0.118703278723992, 'first_word_of_span_argmax': 0.07563468857328505, 'lexical_unit_average': 0.4802134131602147, 'lexical_unit_argmax': 0.5986942665305239, 'nouns_average': 0.0872682529817182, 'nouns_argmax': 0.032316013799931896}}\n",
      "hf_full {'ad': {'argmax': 0.699825479930192, 'average': 0.8149814691273132}, 'ai': {'first_word_of_span_average': 0.2846698375199293, 'first_word_of_span_argmax': 0.3152746836226369, 'lexical_unit_average': 0.34493746555347976, 'lexical_unit_argmax': 0.4101434785523478, 'nouns_average': 0.12854230508604372, 'nouns_argmax': 0.09879630918860927}, 'ac': {'first_word_of_span_average': 0.05230180645750117, 'first_word_of_span_argmax': 0.04257170704539126, 'lexical_unit_average': 0.03117316619993177, 'lexical_unit_argmax': 0.04547247749002136, 'nouns_average': 0.0924519273502323, 'nouns_argmax': 0.20254939045143736}}\n"
     ]
    }
   ],
   "source": [
    "additional = utils.get_additional_discriminators_idxs(samples_f_full, gold_missing)\n",
    "for s in samples_f_full:\n",
    "    s['lexical_unit_ids'] += additional[s['id']]\n",
    "additional = utils.get_additional_discriminators_idxs(samples_h_full, gold_missing)\n",
    "for s in samples_h_full:\n",
    "    s['lexical_unit_ids'] += additional[s['id']]\n",
    "additional = utils.get_additional_discriminators_idxs(samples_hf_full, gold_missing)\n",
    "for s in samples_hf_full:\n",
    "    s['lexical_unit_ids'] += additional[s['id']]\n",
    "\n",
    "\n",
    "print('fn_full', utils.get_attention_scores(samples_f_full, gold_missing))\n",
    "print('h_full', utils.get_attention_scores(samples_h_full, gold_missing))\n",
    "print('hf_full', utils.get_attention_scores(samples_hf_full, gold_missing))\n",
    "#print('h_full_2', utils.get_attention_scores(samples_h_full_2, gold_missing))\n",
    "#print('h_full_drop', utils.get_attention_scores(samples_h_drop, gold_missing))"
   ]
  },
  {
   "cell_type": "code",
   "execution_count": null,
   "metadata": {},
   "outputs": [],
   "source": []
  }
 ],
 "metadata": {
  "kernelspec": {
   "display_name": "python3.6",
   "language": "python",
   "name": "python3.6"
  },
  "language_info": {
   "codemirror_mode": {
    "name": "ipython",
    "version": 3
   },
   "file_extension": ".py",
   "mimetype": "text/x-python",
   "name": "python",
   "nbconvert_exporter": "python",
   "pygments_lexer": "ipython3",
   "version": "3.6.6"
  }
 },
 "nbformat": 4,
 "nbformat_minor": 2
}
