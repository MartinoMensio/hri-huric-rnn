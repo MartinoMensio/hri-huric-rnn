{
 "cells": [
  {
   "cell_type": "code",
   "execution_count": 1,
   "metadata": {},
   "outputs": [],
   "source": [
    "import utils\n",
    "\n",
    "# the basic results of train 80% huric, test 20% HuRIC\n",
    "FOLDER_WITHOUT_FRAMENET='../nlunetwork/results/framenet/results/eval_loss_both_slottype_full_we_large_recurrent_cell_lstm_attention_both_three_stages_true_highway___hyper:LABEL_EMB_SIZE=64,LSTM_SIZE=128,BATCH_SIZE=2,MAX_EPOCHS=100/modern_right/'\n",
    "# the results of train (FrameNet + 80% huric), test 20% HuRIC\n",
    "FOLDER_WITH_FRAMENET='../nlunetwork/results/framenet/results/eval_loss_both_slottype_full_we_large_recurrent_cell_lstm_attention_both_three_stages_true_highway___hyper:LABEL_EMB_SIZE=64,LSTM_SIZE=128,BATCH_SIZE=2,MAX_EPOCHS=100/with_framenet/'\n",
    "# the results of train all FrameNet, test 20 % HuRIC\n",
    "FOLDER_FN_TEST_HURIC='/home/martino/kmi/huric_rnn/nlunetwork/results/framenet/results/test_loss_both_slottype_full_we_large_recurrent_cell_lstm_attention_both_three_stages_true_highway___hyper:LABEL_EMB_SIZE=64,LSTM_SIZE=100,BATCH_SIZE=16,MAX_EPOCHS=100/huric_eb/modern_right/'\n",
    "\n",
    "samples_h = utils.load_json(FOLDER_WITHOUT_FRAMENET, 0)\n",
    "samples_f = utils.load_json(FOLDER_FN_TEST_HURIC, 0)\n",
    "samples_hf = utils.load_json(FOLDER_WITH_FRAMENET)\n",
    "\n",
    "# also the XML stuff\n",
    "HURIC_LOCATION = '../data/huric_eb/modern/source'\n",
    "gold_missing = utils.get_samples_pos_and_deps(HURIC_LOCATION)"
   ]
  },
  {
   "cell_type": "code",
   "execution_count": 2,
   "metadata": {},
   "outputs": [
    {
     "name": "stdout",
     "output_type": "stream",
     "text": [
      "h {'ad': 0.01834862385321101, 'ai': {'first_word_of_span': 0.25890406024640444, 'lexical_unit': 0.2487021312347635, 'nouns': 0.19553923681237462}, 'ac': {'first_word_of_span': 0.1629713594653396, 'lexical_unit': 0.20335136983591684, 'nouns': 0.20709599026432401}}\n",
      "f {'ad': 0.6605504587155964, 'ai': {'first_word_of_span': 0.15608967182800818, 'lexical_unit': 0.24627487112137184, 'nouns': 0.14150287028656056}, 'ac': {'first_word_of_span': 0.07427580579674138, 'lexical_unit': 0.0641499338499483, 'nouns': 0.08770463692466912}}\n",
      "hf {'ad': 0.6880733944954128, 'ai': {'first_word_of_span': 0.32152660365400304, 'lexical_unit': 0.25496983333058104, 'nouns': 0.13847146272811295}, 'ac': {'first_word_of_span': 0.09890272307551178, 'lexical_unit': 0.08785651110791642, 'nouns': 0.2120074075234192}}\n"
     ]
    }
   ],
   "source": [
    "#f_bd = utils.get_attention_score_on_task(samples_f, gold_missing, 'bd')\n",
    "#f_ac = utils.get_attention_score_on_task(samples_f, gold_missing, 'ac')\n",
    "#utils.get_attention_score_on_task(samples_h, gold_missing, 'bd')\n",
    "#utils.get_attention_score_on_task(samples_h, gold_missing, 'ac')\n",
    "#utils.get_attention_score_on_task(samples_hf, gold_missing, 'bd')\n",
    "#utils.get_attention_score_on_task(samples_hf, gold_missing, 'ac')\n",
    "print('h', utils.get_attention_scores(samples_h, gold_missing))\n",
    "print('f', utils.get_attention_scores(samples_f, gold_missing))\n",
    "print('hf', utils.get_attention_scores(samples_hf, gold_missing))"
   ]
  },
  {
   "cell_type": "code",
   "execution_count": null,
   "metadata": {},
   "outputs": [],
   "source": []
  }
 ],
 "metadata": {
  "kernelspec": {
   "display_name": "python3.6",
   "language": "python",
   "name": "python3.6"
  },
  "language_info": {
   "codemirror_mode": {
    "name": "ipython",
    "version": 3
   },
   "file_extension": ".py",
   "mimetype": "text/x-python",
   "name": "python",
   "nbconvert_exporter": "python",
   "pygments_lexer": "ipython3",
   "version": "3.6.6"
  }
 },
 "nbformat": 4,
 "nbformat_minor": 2
}
