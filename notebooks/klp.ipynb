{
 "cells": [
  {
   "cell_type": "code",
   "execution_count": 1,
   "metadata": {},
   "outputs": [],
   "source": [
    "import numpy as np\n",
    "\n",
    "import utils\n",
    "\n",
    "# analisis for klp paper\n",
    "FOLDER_H='../nlunetwork/results/dataset_combination/h_model/test_all_loss_both_slottype_full_we_large_recurrent_cell_lstm_attention_both_three_stages_true_highway___hyper:LABEL_EMB_SIZE=64,LSTM_SIZE=128,BATCH_SIZE=2,MAX_EPOCHS=100/huric_eb/modern_right'\n",
    "FOLDER_FNH='../nlunetwork/results/dataset_combination/fnh_model/test_all_loss_both_slottype_full_we_large_recurrent_cell_lstm_attention_both_three_stages_true_highway___hyper:LABEL_EMB_SIZE=64,LSTM_SIZE=128,BATCH_SIZE=2,MAX_EPOCHS=100/huric_eb/modern_right/'\n",
    "h_pred = utils.load_json(FOLDER_H, 0)\n",
    "fnh_pred = utils.load_json(FOLDER_FNH, 0)"
   ]
  },
  {
   "cell_type": "code",
   "execution_count": 2,
   "metadata": {},
   "outputs": [
    {
     "name": "stdout",
     "output_type": "stream",
     "text": [
      "true Giving pred_h Bringing pred_fnh Giving\n"
     ]
    },
    {
     "data": {
      "text/html": [
       "<table><tr><td><b>words</b></td><td style=\"background-color: rgb(255,255,255);\">give</td><td style=\"background-color: rgb(255,255,255);\">me</td><td style=\"background-color: rgb(255,255,255);\">the</td><td style=\"background-color: rgb(255,255,255);\">towel</td></tr><tr><td><b>lu</b></td><td style=\"background-color: rgb(0.0000, 255,0.0000);\">1.0000</td><td style=\"background-color: rgb(255.0000, 255,255.0000);\">0.0000</td><td style=\"background-color: rgb(255.0000, 255,255.0000);\">0.0000</td><td style=\"background-color: rgb(255.0000, 255,255.0000);\">0.0000</td></tr><tr><td><b>h->h</b></td><td style=\"background-color: rgb(254.9998, 255,254.9998);\">0.0000</td><td style=\"background-color: rgb(254.9461, 255,254.9461);\">0.0002</td><td style=\"background-color: rgb(243.4886, 255,243.4886);\">0.0451</td><td style=\"background-color: rgb(11.5785, 255,11.5785);\">0.9546</td></tr><tr><td><b>fn+h->h</b></td><td style=\"background-color: rgb(89.6156, 255,89.6156);\">0.6486</td><td style=\"background-color: rgb(165.3844, 255,165.3844);\">0.3514</td><td style=\"background-color: rgb(255.0000, 255,255.0000);\">0.0000</td><td style=\"background-color: rgb(255.0000, 255,255.0000);\">0.0000</td></tr></table>"
      ],
      "text/plain": [
       "<IPython.core.display.HTML object>"
      ]
     },
     "metadata": {},
     "output_type": "display_data"
    },
    {
     "name": "stdout",
     "output_type": "stream",
     "text": [
      "true Change_operational_state pred_h Motion pred_fnh Change_operational_state\n"
     ]
    },
    {
     "data": {
      "text/html": [
       "<table><tr><td><b>words</b></td><td style=\"background-color: rgb(255,255,255);\">i</td><td style=\"background-color: rgb(255,255,255);\">want</td><td style=\"background-color: rgb(255,255,255);\">to</td><td style=\"background-color: rgb(255,255,255);\">go</td><td style=\"background-color: rgb(255,255,255);\">to</td><td style=\"background-color: rgb(255,255,255);\">sleep</td><td style=\"background-color: rgb(255,255,255);\">turn</td><td style=\"background-color: rgb(255,255,255);\">off</td><td style=\"background-color: rgb(255,255,255);\">the</td><td style=\"background-color: rgb(255,255,255);\">light</td></tr><tr><td><b>lu</b></td><td style=\"background-color: rgb(255.0000, 255,255.0000);\">0.0000</td><td style=\"background-color: rgb(255.0000, 255,255.0000);\">0.0000</td><td style=\"background-color: rgb(255.0000, 255,255.0000);\">0.0000</td><td style=\"background-color: rgb(255.0000, 255,255.0000);\">0.0000</td><td style=\"background-color: rgb(255.0000, 255,255.0000);\">0.0000</td><td style=\"background-color: rgb(255.0000, 255,255.0000);\">0.0000</td><td style=\"background-color: rgb(0.0000, 255,0.0000);\">1.0000</td><td style=\"background-color: rgb(255.0000, 255,255.0000);\">0.0000</td><td style=\"background-color: rgb(255.0000, 255,255.0000);\">0.0000</td><td style=\"background-color: rgb(255.0000, 255,255.0000);\">0.0000</td></tr><tr><td><b>h->h</b></td><td style=\"background-color: rgb(255.0000, 255,255.0000);\">0.0000</td><td style=\"background-color: rgb(255.0000, 255,255.0000);\">0.0000</td><td style=\"background-color: rgb(255.0000, 255,255.0000);\">0.0000</td><td style=\"background-color: rgb(254.9998, 255,254.9998);\">0.0000</td><td style=\"background-color: rgb(254.9349, 255,254.9349);\">0.0003</td><td style=\"background-color: rgb(254.9784, 255,254.9784);\">0.0001</td><td style=\"background-color: rgb(254.9758, 255,254.9758);\">0.0001</td><td style=\"background-color: rgb(253.0453, 255,253.0453);\">0.0077</td><td style=\"background-color: rgb(104.4770, 255,104.4770);\">0.5903</td><td style=\"background-color: rgb(152.5900, 255,152.5900);\">0.4016</td></tr><tr><td><b>fn+h->h</b></td><td style=\"background-color: rgb(255.0000, 255,255.0000);\">0.0000</td><td style=\"background-color: rgb(255.0000, 255,255.0000);\">0.0000</td><td style=\"background-color: rgb(255.0000, 255,255.0000);\">0.0000</td><td style=\"background-color: rgb(254.5508, 255,254.5508);\">0.0018</td><td style=\"background-color: rgb(255.0000, 255,255.0000);\">0.0000</td><td style=\"background-color: rgb(255.0000, 255,255.0000);\">0.0000</td><td style=\"background-color: rgb(254.9850, 255,254.9850);\">0.0001</td><td style=\"background-color: rgb(0.4642, 255,0.4642);\">0.9982</td><td style=\"background-color: rgb(255.0000, 255,255.0000);\">0.0000</td><td style=\"background-color: rgb(255.0000, 255,255.0000);\">0.0000</td></tr></table>"
      ],
      "text/plain": [
       "<IPython.core.display.HTML object>"
      ]
     },
     "metadata": {},
     "output_type": "display_data"
    }
   ],
   "source": [
    "for p1, p2 in zip(sorted(h_pred, key=lambda x: x['file']), sorted(fnh_pred, key=lambda x: x['file'])):\n",
    "    lu, attn1 = utils.get_intent_attention_arrays(p1)\n",
    "    _, attn2 = utils.get_intent_attention_arrays(p2)\n",
    "    lu_idx = np.argmax(lu)\n",
    "    at1_idx = np.argmax(attn1)\n",
    "    at2_idx = np.argmax(attn2)\n",
    "    if p1['intent_pred'] != p1['intent_true']:\n",
    "        print('true', p1['intent_true'], 'pred_h', p1['intent_pred'], 'pred_fnh', p2['intent_pred'])\n",
    "        utils.display_sequences(['words', 'lu', 'h->h', 'fn+h->h'], [p1['words'], lu, attn1, attn2])"
   ]
  },
  {
   "cell_type": "code",
   "execution_count": 3,
   "metadata": {},
   "outputs": [
    {
     "name": "stdout",
     "output_type": "stream",
     "text": [
      "true Following pred_h Following pred_fnh Following\n"
     ]
    },
    {
     "data": {
      "text/html": [
       "<table><tr><td><b>words</b></td><td style=\"background-color: rgb(255,255,255);\">follow</td><td style=\"background-color: rgb(255,255,255);\">this</td><td style=\"background-color: rgb(255,255,255);\">guy</td></tr><tr><td><b>lu</b></td><td style=\"background-color: rgb(0.0000, 255,0.0000);\">1.0000</td><td style=\"background-color: rgb(255.0000, 255,255.0000);\">0.0000</td><td style=\"background-color: rgb(255.0000, 255,255.0000);\">0.0000</td></tr><tr><td><b>h->h</b></td><td style=\"background-color: rgb(254.9059, 255,254.9059);\">0.0004</td><td style=\"background-color: rgb(120.7832, 255,120.7832);\">0.5263</td><td style=\"background-color: rgb(134.3150, 255,134.3150);\">0.4733</td></tr><tr><td><b>fn+h->h</b></td><td style=\"background-color: rgb(0.0000, 255,0.0000);\">1.0000</td><td style=\"background-color: rgb(255.0000, 255,255.0000);\">0.0000</td><td style=\"background-color: rgb(255.0000, 255,255.0000);\">0.0000</td></tr></table>"
      ],
      "text/plain": [
       "<IPython.core.display.HTML object>"
      ]
     },
     "metadata": {},
     "output_type": "display_data"
    },
    {
     "name": "stdout",
     "output_type": "stream",
     "text": [
      "true Searching pred_h Searching pred_fnh Searching\n"
     ]
    },
    {
     "data": {
      "text/html": [
       "<table><tr><td><b>words</b></td><td style=\"background-color: rgb(255,255,255);\">search</td><td style=\"background-color: rgb(255,255,255);\">for</td><td style=\"background-color: rgb(255,255,255);\">the</td><td style=\"background-color: rgb(255,255,255);\">coffee</td><td style=\"background-color: rgb(255,255,255);\">cups</td></tr><tr><td><b>lu</b></td><td style=\"background-color: rgb(0.0000, 255,0.0000);\">1.0000</td><td style=\"background-color: rgb(255.0000, 255,255.0000);\">0.0000</td><td style=\"background-color: rgb(255.0000, 255,255.0000);\">0.0000</td><td style=\"background-color: rgb(255.0000, 255,255.0000);\">0.0000</td><td style=\"background-color: rgb(255.0000, 255,255.0000);\">0.0000</td></tr><tr><td><b>h->h</b></td><td style=\"background-color: rgb(254.9935, 255,254.9935);\">0.0000</td><td style=\"background-color: rgb(253.5236, 255,253.5236);\">0.0058</td><td style=\"background-color: rgb(245.6199, 255,245.6199);\">0.0368</td><td style=\"background-color: rgb(102.1521, 255,102.1521);\">0.5994</td><td style=\"background-color: rgb(163.7120, 255,163.7120);\">0.3580</td></tr><tr><td><b>fn+h->h</b></td><td style=\"background-color: rgb(0.0000, 255,0.0000);\">1.0000</td><td style=\"background-color: rgb(255.0000, 255,255.0000);\">0.0000</td><td style=\"background-color: rgb(255.0000, 255,255.0000);\">0.0000</td><td style=\"background-color: rgb(255.0000, 255,255.0000);\">0.0000</td><td style=\"background-color: rgb(255.0000, 255,255.0000);\">0.0000</td></tr></table>"
      ],
      "text/plain": [
       "<IPython.core.display.HTML object>"
      ]
     },
     "metadata": {},
     "output_type": "display_data"
    },
    {
     "name": "stdout",
     "output_type": "stream",
     "text": [
      "true Motion pred_h Motion pred_fnh Motion\n"
     ]
    },
    {
     "data": {
      "text/html": [
       "<table><tr><td><b>words</b></td><td style=\"background-color: rgb(255,255,255);\">go</td><td style=\"background-color: rgb(255,255,255);\">to</td><td style=\"background-color: rgb(255,255,255);\">the</td><td style=\"background-color: rgb(255,255,255);\">kitchen</td></tr><tr><td><b>lu</b></td><td style=\"background-color: rgb(0.0000, 255,0.0000);\">1.0000</td><td style=\"background-color: rgb(255.0000, 255,255.0000);\">0.0000</td><td style=\"background-color: rgb(255.0000, 255,255.0000);\">0.0000</td><td style=\"background-color: rgb(255.0000, 255,255.0000);\">0.0000</td></tr><tr><td><b>h->h</b></td><td style=\"background-color: rgb(254.9998, 255,254.9998);\">0.0000</td><td style=\"background-color: rgb(251.0887, 255,251.0887);\">0.0153</td><td style=\"background-color: rgb(48.2295, 255,48.2295);\">0.8109</td><td style=\"background-color: rgb(210.6827, 255,210.6827);\">0.1738</td></tr><tr><td><b>fn+h->h</b></td><td style=\"background-color: rgb(0.0194, 255,0.0194);\">0.9999</td><td style=\"background-color: rgb(254.9806, 255,254.9806);\">0.0001</td><td style=\"background-color: rgb(255.0000, 255,255.0000);\">0.0000</td><td style=\"background-color: rgb(255.0000, 255,255.0000);\">0.0000</td></tr></table>"
      ],
      "text/plain": [
       "<IPython.core.display.HTML object>"
      ]
     },
     "metadata": {},
     "output_type": "display_data"
    },
    {
     "name": "stdout",
     "output_type": "stream",
     "text": [
      "true Searching pred_h Searching pred_fnh Searching\n"
     ]
    },
    {
     "data": {
      "text/html": [
       "<table><tr><td><b>words</b></td><td style=\"background-color: rgb(255,255,255);\">please</td><td style=\"background-color: rgb(255,255,255);\">find</td><td style=\"background-color: rgb(255,255,255);\">the</td><td style=\"background-color: rgb(255,255,255);\">lamp</td></tr><tr><td><b>lu</b></td><td style=\"background-color: rgb(255.0000, 255,255.0000);\">0.0000</td><td style=\"background-color: rgb(0.0000, 255,0.0000);\">1.0000</td><td style=\"background-color: rgb(255.0000, 255,255.0000);\">0.0000</td><td style=\"background-color: rgb(255.0000, 255,255.0000);\">0.0000</td></tr><tr><td><b>h->h</b></td><td style=\"background-color: rgb(255.0000, 255,255.0000);\">0.0000</td><td style=\"background-color: rgb(254.9713, 255,254.9713);\">0.0001</td><td style=\"background-color: rgb(105.1913, 255,105.1913);\">0.5875</td><td style=\"background-color: rgb(149.8398, 255,149.8398);\">0.4124</td></tr><tr><td><b>fn+h->h</b></td><td style=\"background-color: rgb(255.0000, 255,255.0000);\">0.0000</td><td style=\"background-color: rgb(0.0000, 255,0.0000);\">1.0000</td><td style=\"background-color: rgb(255.0000, 255,255.0000);\">0.0000</td><td style=\"background-color: rgb(255.0000, 255,255.0000);\">0.0000</td></tr></table>"
      ],
      "text/plain": [
       "<IPython.core.display.HTML object>"
      ]
     },
     "metadata": {},
     "output_type": "display_data"
    },
    {
     "name": "stdout",
     "output_type": "stream",
     "text": [
      "true Searching pred_h Searching pred_fnh Searching\n"
     ]
    },
    {
     "data": {
      "text/html": [
       "<table><tr><td><b>words</b></td><td style=\"background-color: rgb(255,255,255);\">can</td><td style=\"background-color: rgb(255,255,255);\">you</td><td style=\"background-color: rgb(255,255,255);\">find</td><td style=\"background-color: rgb(255,255,255);\">the</td><td style=\"background-color: rgb(255,255,255);\">refrigerator</td><td style=\"background-color: rgb(255,255,255);\">for</td><td style=\"background-color: rgb(255,255,255);\">me</td></tr><tr><td><b>lu</b></td><td style=\"background-color: rgb(255.0000, 255,255.0000);\">0.0000</td><td style=\"background-color: rgb(255.0000, 255,255.0000);\">0.0000</td><td style=\"background-color: rgb(0.0000, 255,0.0000);\">1.0000</td><td style=\"background-color: rgb(255.0000, 255,255.0000);\">0.0000</td><td style=\"background-color: rgb(255.0000, 255,255.0000);\">0.0000</td><td style=\"background-color: rgb(255.0000, 255,255.0000);\">0.0000</td><td style=\"background-color: rgb(255.0000, 255,255.0000);\">0.0000</td></tr><tr><td><b>h->h</b></td><td style=\"background-color: rgb(255.0000, 255,255.0000);\">0.0000</td><td style=\"background-color: rgb(255.0000, 255,255.0000);\">0.0000</td><td style=\"background-color: rgb(254.9965, 255,254.9965);\">0.0000</td><td style=\"background-color: rgb(254.9422, 255,254.9422);\">0.0002</td><td style=\"background-color: rgb(252.8141, 255,252.8141);\">0.0086</td><td style=\"background-color: rgb(210.4532, 255,210.4532);\">0.1747</td><td style=\"background-color: rgb(46.7950, 255,46.7950);\">0.8165</td></tr><tr><td><b>fn+h->h</b></td><td style=\"background-color: rgb(255.0000, 255,255.0000);\">0.0000</td><td style=\"background-color: rgb(255.0000, 255,255.0000);\">0.0000</td><td style=\"background-color: rgb(0.0000, 255,0.0000);\">1.0000</td><td style=\"background-color: rgb(255.0000, 255,255.0000);\">0.0000</td><td style=\"background-color: rgb(255.0000, 255,255.0000);\">0.0000</td><td style=\"background-color: rgb(255.0000, 255,255.0000);\">0.0000</td><td style=\"background-color: rgb(255.0000, 255,255.0000);\">0.0000</td></tr></table>"
      ],
      "text/plain": [
       "<IPython.core.display.HTML object>"
      ]
     },
     "metadata": {},
     "output_type": "display_data"
    },
    {
     "name": "stdout",
     "output_type": "stream",
     "text": [
      "true Following pred_h Following pred_fnh Following\n"
     ]
    },
    {
     "data": {
      "text/html": [
       "<table><tr><td><b>words</b></td><td style=\"background-color: rgb(255,255,255);\">follow</td><td style=\"background-color: rgb(255,255,255);\">the</td><td style=\"background-color: rgb(255,255,255);\">person</td><td style=\"background-color: rgb(255,255,255);\">with</td><td style=\"background-color: rgb(255,255,255);\">the</td><td style=\"background-color: rgb(255,255,255);\">blonde</td><td style=\"background-color: rgb(255,255,255);\">hair</td><td style=\"background-color: rgb(255,255,255);\">and</td><td style=\"background-color: rgb(255,255,255);\">the</td><td style=\"background-color: rgb(255,255,255);\">black</td><td style=\"background-color: rgb(255,255,255);\">pants</td><td style=\"background-color: rgb(255,255,255);\">fast</td></tr><tr><td><b>lu</b></td><td style=\"background-color: rgb(0.0000, 255,0.0000);\">1.0000</td><td style=\"background-color: rgb(255.0000, 255,255.0000);\">0.0000</td><td style=\"background-color: rgb(255.0000, 255,255.0000);\">0.0000</td><td style=\"background-color: rgb(255.0000, 255,255.0000);\">0.0000</td><td style=\"background-color: rgb(255.0000, 255,255.0000);\">0.0000</td><td style=\"background-color: rgb(255.0000, 255,255.0000);\">0.0000</td><td style=\"background-color: rgb(255.0000, 255,255.0000);\">0.0000</td><td style=\"background-color: rgb(255.0000, 255,255.0000);\">0.0000</td><td style=\"background-color: rgb(255.0000, 255,255.0000);\">0.0000</td><td style=\"background-color: rgb(255.0000, 255,255.0000);\">0.0000</td><td style=\"background-color: rgb(255.0000, 255,255.0000);\">0.0000</td><td style=\"background-color: rgb(255.0000, 255,255.0000);\">0.0000</td></tr><tr><td><b>h->h</b></td><td style=\"background-color: rgb(254.9251, 255,254.9251);\">0.0003</td><td style=\"background-color: rgb(222.4479, 255,222.4479);\">0.1277</td><td style=\"background-color: rgb(248.0442, 255,248.0442);\">0.0273</td><td style=\"background-color: rgb(121.4447, 255,121.4447);\">0.5237</td><td style=\"background-color: rgb(186.9506, 255,186.9506);\">0.2669</td><td style=\"background-color: rgb(252.3875, 255,252.3875);\">0.0102</td><td style=\"background-color: rgb(253.7769, 255,253.7769);\">0.0048</td><td style=\"background-color: rgb(252.7933, 255,252.7933);\">0.0087</td><td style=\"background-color: rgb(252.6463, 255,252.6463);\">0.0092</td><td style=\"background-color: rgb(254.6150, 255,254.6150);\">0.0015</td><td style=\"background-color: rgb(253.4769, 255,253.4769);\">0.0060</td><td style=\"background-color: rgb(251.4957, 255,251.4957);\">0.0137</td></tr><tr><td><b>fn+h->h</b></td><td style=\"background-color: rgb(0.0000, 255,0.0000);\">1.0000</td><td style=\"background-color: rgb(255.0000, 255,255.0000);\">0.0000</td><td style=\"background-color: rgb(255.0000, 255,255.0000);\">0.0000</td><td style=\"background-color: rgb(255.0000, 255,255.0000);\">0.0000</td><td style=\"background-color: rgb(255.0000, 255,255.0000);\">0.0000</td><td style=\"background-color: rgb(255.0000, 255,255.0000);\">0.0000</td><td style=\"background-color: rgb(255.0000, 255,255.0000);\">0.0000</td><td style=\"background-color: rgb(255.0000, 255,255.0000);\">0.0000</td><td style=\"background-color: rgb(255.0000, 255,255.0000);\">0.0000</td><td style=\"background-color: rgb(255.0000, 255,255.0000);\">0.0000</td><td style=\"background-color: rgb(255.0000, 255,255.0000);\">0.0000</td><td style=\"background-color: rgb(255.0000, 255,255.0000);\">0.0000</td></tr></table>"
      ],
      "text/plain": [
       "<IPython.core.display.HTML object>"
      ]
     },
     "metadata": {},
     "output_type": "display_data"
    },
    {
     "name": "stdout",
     "output_type": "stream",
     "text": [
      "true Motion pred_h Motion pred_fnh Motion\n"
     ]
    },
    {
     "data": {
      "text/html": [
       "<table><tr><td><b>words</b></td><td style=\"background-color: rgb(255,255,255);\">can</td><td style=\"background-color: rgb(255,255,255);\">you</td><td style=\"background-color: rgb(255,255,255);\">please</td><td style=\"background-color: rgb(255,255,255);\">move</td><td style=\"background-color: rgb(255,255,255);\">near</td><td style=\"background-color: rgb(255,255,255);\">the</td><td style=\"background-color: rgb(255,255,255);\">right</td><td style=\"background-color: rgb(255,255,255);\">lamp</td></tr><tr><td><b>lu</b></td><td style=\"background-color: rgb(255.0000, 255,255.0000);\">0.0000</td><td style=\"background-color: rgb(255.0000, 255,255.0000);\">0.0000</td><td style=\"background-color: rgb(255.0000, 255,255.0000);\">0.0000</td><td style=\"background-color: rgb(0.0000, 255,0.0000);\">1.0000</td><td style=\"background-color: rgb(255.0000, 255,255.0000);\">0.0000</td><td style=\"background-color: rgb(255.0000, 255,255.0000);\">0.0000</td><td style=\"background-color: rgb(255.0000, 255,255.0000);\">0.0000</td><td style=\"background-color: rgb(255.0000, 255,255.0000);\">0.0000</td></tr><tr><td><b>h->h</b></td><td style=\"background-color: rgb(255.0000, 255,255.0000);\">0.0000</td><td style=\"background-color: rgb(255.0000, 255,255.0000);\">0.0000</td><td style=\"background-color: rgb(255.0000, 255,255.0000);\">0.0000</td><td style=\"background-color: rgb(254.9997, 255,254.9997);\">0.0000</td><td style=\"background-color: rgb(254.5690, 255,254.5690);\">0.0017</td><td style=\"background-color: rgb(236.5018, 255,236.5018);\">0.0725</td><td style=\"background-color: rgb(84.1067, 255,84.1067);\">0.6702</td><td style=\"background-color: rgb(189.8236, 255,189.8236);\">0.2556</td></tr><tr><td><b>fn+h->h</b></td><td style=\"background-color: rgb(255.0000, 255,255.0000);\">0.0000</td><td style=\"background-color: rgb(255.0000, 255,255.0000);\">0.0000</td><td style=\"background-color: rgb(255.0000, 255,255.0000);\">0.0000</td><td style=\"background-color: rgb(0.0018, 255,0.0018);\">1.0000</td><td style=\"background-color: rgb(254.9982, 255,254.9982);\">0.0000</td><td style=\"background-color: rgb(255.0000, 255,255.0000);\">0.0000</td><td style=\"background-color: rgb(255.0000, 255,255.0000);\">0.0000</td><td style=\"background-color: rgb(255.0000, 255,255.0000);\">0.0000</td></tr></table>"
      ],
      "text/plain": [
       "<IPython.core.display.HTML object>"
      ]
     },
     "metadata": {},
     "output_type": "display_data"
    },
    {
     "name": "stdout",
     "output_type": "stream",
     "text": [
      "true Following pred_h Following pred_fnh Following\n"
     ]
    },
    {
     "data": {
      "text/html": [
       "<table><tr><td><b>words</b></td><td style=\"background-color: rgb(255,255,255);\">follow</td><td style=\"background-color: rgb(255,255,255);\">the</td><td style=\"background-color: rgb(255,255,255);\">person</td><td style=\"background-color: rgb(255,255,255);\">behind</td><td style=\"background-color: rgb(255,255,255);\">you</td></tr><tr><td><b>lu</b></td><td style=\"background-color: rgb(0.0000, 255,0.0000);\">1.0000</td><td style=\"background-color: rgb(255.0000, 255,255.0000);\">0.0000</td><td style=\"background-color: rgb(255.0000, 255,255.0000);\">0.0000</td><td style=\"background-color: rgb(255.0000, 255,255.0000);\">0.0000</td><td style=\"background-color: rgb(255.0000, 255,255.0000);\">0.0000</td></tr><tr><td><b>h->h</b></td><td style=\"background-color: rgb(254.9412, 255,254.9412);\">0.0002</td><td style=\"background-color: rgb(249.7209, 255,249.7209);\">0.0207</td><td style=\"background-color: rgb(253.9358, 255,253.9358);\">0.0042</td><td style=\"background-color: rgb(15.0119, 255,15.0119);\">0.9411</td><td style=\"background-color: rgb(246.3967, 255,246.3967);\">0.0337</td></tr><tr><td><b>fn+h->h</b></td><td style=\"background-color: rgb(0.0000, 255,0.0000);\">1.0000</td><td style=\"background-color: rgb(255.0000, 255,255.0000);\">0.0000</td><td style=\"background-color: rgb(255.0000, 255,255.0000);\">0.0000</td><td style=\"background-color: rgb(255.0000, 255,255.0000);\">0.0000</td><td style=\"background-color: rgb(255.0000, 255,255.0000);\">0.0000</td></tr></table>"
      ],
      "text/plain": [
       "<IPython.core.display.HTML object>"
      ]
     },
     "metadata": {},
     "output_type": "display_data"
    },
    {
     "name": "stdout",
     "output_type": "stream",
     "text": [
      "true Motion pred_h Motion pred_fnh Motion\n"
     ]
    },
    {
     "data": {
      "text/html": [
       "<table><tr><td><b>words</b></td><td style=\"background-color: rgb(255,255,255);\">drive</td><td style=\"background-color: rgb(255,255,255);\">to</td><td style=\"background-color: rgb(255,255,255);\">the</td><td style=\"background-color: rgb(255,255,255);\">fridge</td></tr><tr><td><b>lu</b></td><td style=\"background-color: rgb(0.0000, 255,0.0000);\">1.0000</td><td style=\"background-color: rgb(255.0000, 255,255.0000);\">0.0000</td><td style=\"background-color: rgb(255.0000, 255,255.0000);\">0.0000</td><td style=\"background-color: rgb(255.0000, 255,255.0000);\">0.0000</td></tr><tr><td><b>h->h</b></td><td style=\"background-color: rgb(254.9970, 255,254.9970);\">0.0000</td><td style=\"background-color: rgb(252.7875, 255,252.7875);\">0.0087</td><td style=\"background-color: rgb(66.3761, 255,66.3761);\">0.7397</td><td style=\"background-color: rgb(190.8408, 255,190.8408);\">0.2516</td></tr><tr><td><b>fn+h->h</b></td><td style=\"background-color: rgb(0.0337, 255,0.0337);\">0.9999</td><td style=\"background-color: rgb(254.9663, 255,254.9663);\">0.0001</td><td style=\"background-color: rgb(255.0000, 255,255.0000);\">0.0000</td><td style=\"background-color: rgb(255.0000, 255,255.0000);\">0.0000</td></tr></table>"
      ],
      "text/plain": [
       "<IPython.core.display.HTML object>"
      ]
     },
     "metadata": {},
     "output_type": "display_data"
    },
    {
     "name": "stdout",
     "output_type": "stream",
     "text": [
      "true Searching pred_h Searching pred_fnh Searching\n"
     ]
    },
    {
     "data": {
      "text/html": [
       "<table><tr><td><b>words</b></td><td style=\"background-color: rgb(255,255,255);\">search</td><td style=\"background-color: rgb(255,255,255);\">for</td><td style=\"background-color: rgb(255,255,255);\">the</td><td style=\"background-color: rgb(255,255,255);\">lamp</td></tr><tr><td><b>lu</b></td><td style=\"background-color: rgb(0.0000, 255,0.0000);\">1.0000</td><td style=\"background-color: rgb(255.0000, 255,255.0000);\">0.0000</td><td style=\"background-color: rgb(255.0000, 255,255.0000);\">0.0000</td><td style=\"background-color: rgb(255.0000, 255,255.0000);\">0.0000</td></tr><tr><td><b>h->h</b></td><td style=\"background-color: rgb(254.9923, 255,254.9923);\">0.0000</td><td style=\"background-color: rgb(249.1288, 255,249.1288);\">0.0230</td><td style=\"background-color: rgb(105.3814, 255,105.3814);\">0.5867</td><td style=\"background-color: rgb(155.4986, 255,155.4986);\">0.3902</td></tr><tr><td><b>fn+h->h</b></td><td style=\"background-color: rgb(0.0000, 255,0.0000);\">1.0000</td><td style=\"background-color: rgb(255.0000, 255,255.0000);\">0.0000</td><td style=\"background-color: rgb(255.0000, 255,255.0000);\">0.0000</td><td style=\"background-color: rgb(255.0000, 255,255.0000);\">0.0000</td></tr></table>"
      ],
      "text/plain": [
       "<IPython.core.display.HTML object>"
      ]
     },
     "metadata": {},
     "output_type": "display_data"
    },
    {
     "name": "stdout",
     "output_type": "stream",
     "text": [
      "true Following pred_h Following pred_fnh Following\n"
     ]
    },
    {
     "data": {
      "text/html": [
       "<table><tr><td><b>words</b></td><td style=\"background-color: rgb(255,255,255);\">follow</td><td style=\"background-color: rgb(255,255,255);\">me</td><td style=\"background-color: rgb(255,255,255);\">carefully</td></tr><tr><td><b>lu</b></td><td style=\"background-color: rgb(0.0000, 255,0.0000);\">1.0000</td><td style=\"background-color: rgb(255.0000, 255,255.0000);\">0.0000</td><td style=\"background-color: rgb(255.0000, 255,255.0000);\">0.0000</td></tr><tr><td><b>h->h</b></td><td style=\"background-color: rgb(254.7488, 255,254.7488);\">0.0010</td><td style=\"background-color: rgb(54.7155, 255,54.7155);\">0.7854</td><td style=\"background-color: rgb(200.5536, 255,200.5536);\">0.2135</td></tr><tr><td><b>fn+h->h</b></td><td style=\"background-color: rgb(0.2206, 255,0.2206);\">0.9991</td><td style=\"background-color: rgb(254.9989, 255,254.9989);\">0.0000</td><td style=\"background-color: rgb(254.7806, 255,254.7806);\">0.0009</td></tr></table>"
      ],
      "text/plain": [
       "<IPython.core.display.HTML object>"
      ]
     },
     "metadata": {},
     "output_type": "display_data"
    },
    {
     "name": "stdout",
     "output_type": "stream",
     "text": [
      "true Searching pred_h Searching pred_fnh Searching\n"
     ]
    },
    {
     "data": {
      "text/html": [
       "<table><tr><td><b>words</b></td><td style=\"background-color: rgb(255,255,255);\">search</td><td style=\"background-color: rgb(255,255,255);\">for</td><td style=\"background-color: rgb(255,255,255);\">towel</td></tr><tr><td><b>lu</b></td><td style=\"background-color: rgb(0.0000, 255,0.0000);\">1.0000</td><td style=\"background-color: rgb(255.0000, 255,255.0000);\">0.0000</td><td style=\"background-color: rgb(255.0000, 255,255.0000);\">0.0000</td></tr><tr><td><b>h->h</b></td><td style=\"background-color: rgb(254.9630, 255,254.9630);\">0.0001</td><td style=\"background-color: rgb(235.9847, 255,235.9847);\">0.0746</td><td style=\"background-color: rgb(19.0548, 255,19.0548);\">0.9253</td></tr><tr><td><b>fn+h->h</b></td><td style=\"background-color: rgb(0.0000, 255,0.0000);\">1.0000</td><td style=\"background-color: rgb(255.0000, 255,255.0000);\">0.0000</td><td style=\"background-color: rgb(255.0000, 255,255.0000);\">0.0000</td></tr></table>"
      ],
      "text/plain": [
       "<IPython.core.display.HTML object>"
      ]
     },
     "metadata": {},
     "output_type": "display_data"
    },
    {
     "name": "stdout",
     "output_type": "stream",
     "text": [
      "true Motion pred_h Motion pred_fnh Motion\n"
     ]
    },
    {
     "data": {
      "text/html": [
       "<table><tr><td><b>words</b></td><td style=\"background-color: rgb(255,255,255);\">drive</td><td style=\"background-color: rgb(255,255,255);\">to</td><td style=\"background-color: rgb(255,255,255);\">kitchen</td></tr><tr><td><b>lu</b></td><td style=\"background-color: rgb(0.0000, 255,0.0000);\">1.0000</td><td style=\"background-color: rgb(255.0000, 255,255.0000);\">0.0000</td><td style=\"background-color: rgb(255.0000, 255,255.0000);\">0.0000</td></tr><tr><td><b>h->h</b></td><td style=\"background-color: rgb(254.9373, 255,254.9373);\">0.0002</td><td style=\"background-color: rgb(119.2055, 255,119.2055);\">0.5325</td><td style=\"background-color: rgb(135.8599, 255,135.8599);\">0.4672</td></tr><tr><td><b>fn+h->h</b></td><td style=\"background-color: rgb(0.0036, 255,0.0036);\">1.0000</td><td style=\"background-color: rgb(254.9964, 255,254.9964);\">0.0000</td><td style=\"background-color: rgb(255.0000, 255,255.0000);\">0.0000</td></tr></table>"
      ],
      "text/plain": [
       "<IPython.core.display.HTML object>"
      ]
     },
     "metadata": {},
     "output_type": "display_data"
    },
    {
     "name": "stdout",
     "output_type": "stream",
     "text": [
      "true Following pred_h Following pred_fnh Following\n"
     ]
    },
    {
     "data": {
      "text/html": [
       "<table><tr><td><b>words</b></td><td style=\"background-color: rgb(255,255,255);\">follow</td><td style=\"background-color: rgb(255,255,255);\">that</td><td style=\"background-color: rgb(255,255,255);\">person</td></tr><tr><td><b>lu</b></td><td style=\"background-color: rgb(0.0000, 255,0.0000);\">1.0000</td><td style=\"background-color: rgb(255.0000, 255,255.0000);\">0.0000</td><td style=\"background-color: rgb(255.0000, 255,255.0000);\">0.0000</td></tr><tr><td><b>h->h</b></td><td style=\"background-color: rgb(254.9072, 255,254.9072);\">0.0004</td><td style=\"background-color: rgb(27.3272, 255,27.3272);\">0.8928</td><td style=\"background-color: rgb(227.7769, 255,227.7769);\">0.1068</td></tr><tr><td><b>fn+h->h</b></td><td style=\"background-color: rgb(0.0019, 255,0.0019);\">1.0000</td><td style=\"background-color: rgb(254.9981, 255,254.9981);\">0.0000</td><td style=\"background-color: rgb(255.0000, 255,255.0000);\">0.0000</td></tr></table>"
      ],
      "text/plain": [
       "<IPython.core.display.HTML object>"
      ]
     },
     "metadata": {},
     "output_type": "display_data"
    },
    {
     "name": "stdout",
     "output_type": "stream",
     "text": [
      "true Searching pred_h Searching pred_fnh Searching\n"
     ]
    },
    {
     "data": {
      "text/html": [
       "<table><tr><td><b>words</b></td><td style=\"background-color: rgb(255,255,255);\">find</td><td style=\"background-color: rgb(255,255,255);\">the</td><td style=\"background-color: rgb(255,255,255);\">wine</td><td style=\"background-color: rgb(255,255,255);\">in</td><td style=\"background-color: rgb(255,255,255);\">the</td><td style=\"background-color: rgb(255,255,255);\">dining</td><td style=\"background-color: rgb(255,255,255);\">room</td></tr><tr><td><b>lu</b></td><td style=\"background-color: rgb(0.0000, 255,0.0000);\">1.0000</td><td style=\"background-color: rgb(255.0000, 255,255.0000);\">0.0000</td><td style=\"background-color: rgb(255.0000, 255,255.0000);\">0.0000</td><td style=\"background-color: rgb(255.0000, 255,255.0000);\">0.0000</td><td style=\"background-color: rgb(255.0000, 255,255.0000);\">0.0000</td><td style=\"background-color: rgb(255.0000, 255,255.0000);\">0.0000</td><td style=\"background-color: rgb(255.0000, 255,255.0000);\">0.0000</td></tr><tr><td><b>h->h</b></td><td style=\"background-color: rgb(254.9992, 255,254.9992);\">0.0000</td><td style=\"background-color: rgb(254.9370, 255,254.9370);\">0.0002</td><td style=\"background-color: rgb(254.9811, 255,254.9811);\">0.0001</td><td style=\"background-color: rgb(247.8084, 255,247.8084);\">0.0282</td><td style=\"background-color: rgb(171.2514, 255,171.2514);\">0.3284</td><td style=\"background-color: rgb(136.5836, 255,136.5836);\">0.4644</td><td style=\"background-color: rgb(209.4399, 255,209.4399);\">0.1787</td></tr><tr><td><b>fn+h->h</b></td><td style=\"background-color: rgb(0.0000, 255,0.0000);\">1.0000</td><td style=\"background-color: rgb(255.0000, 255,255.0000);\">0.0000</td><td style=\"background-color: rgb(255.0000, 255,255.0000);\">0.0000</td><td style=\"background-color: rgb(255.0000, 255,255.0000);\">0.0000</td><td style=\"background-color: rgb(255.0000, 255,255.0000);\">0.0000</td><td style=\"background-color: rgb(255.0000, 255,255.0000);\">0.0000</td><td style=\"background-color: rgb(255.0000, 255,255.0000);\">0.0000</td></tr></table>"
      ],
      "text/plain": [
       "<IPython.core.display.HTML object>"
      ]
     },
     "metadata": {},
     "output_type": "display_data"
    },
    {
     "name": "stdout",
     "output_type": "stream",
     "text": [
      "true Motion pred_h Motion pred_fnh Motion\n"
     ]
    },
    {
     "data": {
      "text/html": [
       "<table><tr><td><b>words</b></td><td style=\"background-color: rgb(255,255,255);\">go</td><td style=\"background-color: rgb(255,255,255);\">to</td><td style=\"background-color: rgb(255,255,255);\">the</td><td style=\"background-color: rgb(255,255,255);\">bathroom</td></tr><tr><td><b>lu</b></td><td style=\"background-color: rgb(0.0000, 255,0.0000);\">1.0000</td><td style=\"background-color: rgb(255.0000, 255,255.0000);\">0.0000</td><td style=\"background-color: rgb(255.0000, 255,255.0000);\">0.0000</td><td style=\"background-color: rgb(255.0000, 255,255.0000);\">0.0000</td></tr><tr><td><b>h->h</b></td><td style=\"background-color: rgb(254.9997, 255,254.9997);\">0.0000</td><td style=\"background-color: rgb(251.3682, 255,251.3682);\">0.0142</td><td style=\"background-color: rgb(35.0255, 255,35.0255);\">0.8626</td><td style=\"background-color: rgb(223.6074, 255,223.6074);\">0.1231</td></tr><tr><td><b>fn+h->h</b></td><td style=\"background-color: rgb(0.0380, 255,0.0380);\">0.9999</td><td style=\"background-color: rgb(254.9620, 255,254.9620);\">0.0001</td><td style=\"background-color: rgb(255.0000, 255,255.0000);\">0.0000</td><td style=\"background-color: rgb(255.0000, 255,255.0000);\">0.0000</td></tr></table>"
      ],
      "text/plain": [
       "<IPython.core.display.HTML object>"
      ]
     },
     "metadata": {},
     "output_type": "display_data"
    },
    {
     "name": "stdout",
     "output_type": "stream",
     "text": [
      "true Searching pred_h Searching pred_fnh Searching\n"
     ]
    },
    {
     "data": {
      "text/html": [
       "<table><tr><td><b>words</b></td><td style=\"background-color: rgb(255,255,255);\">find</td><td style=\"background-color: rgb(255,255,255);\">a</td><td style=\"background-color: rgb(255,255,255);\">drink</td><td style=\"background-color: rgb(255,255,255);\">for</td><td style=\"background-color: rgb(255,255,255);\">me</td></tr><tr><td><b>lu</b></td><td style=\"background-color: rgb(0.0000, 255,0.0000);\">1.0000</td><td style=\"background-color: rgb(255.0000, 255,255.0000);\">0.0000</td><td style=\"background-color: rgb(255.0000, 255,255.0000);\">0.0000</td><td style=\"background-color: rgb(255.0000, 255,255.0000);\">0.0000</td><td style=\"background-color: rgb(255.0000, 255,255.0000);\">0.0000</td></tr><tr><td><b>h->h</b></td><td style=\"background-color: rgb(254.9948, 255,254.9948);\">0.0000</td><td style=\"background-color: rgb(254.9030, 255,254.9030);\">0.0004</td><td style=\"background-color: rgb(254.7234, 255,254.7234);\">0.0011</td><td style=\"background-color: rgb(209.9620, 255,209.9620);\">0.1766</td><td style=\"background-color: rgb(45.4178, 255,45.4178);\">0.8219</td></tr><tr><td><b>fn+h->h</b></td><td style=\"background-color: rgb(0.0000, 255,0.0000);\">1.0000</td><td style=\"background-color: rgb(255.0000, 255,255.0000);\">0.0000</td><td style=\"background-color: rgb(255.0000, 255,255.0000);\">0.0000</td><td style=\"background-color: rgb(255.0000, 255,255.0000);\">0.0000</td><td style=\"background-color: rgb(255.0000, 255,255.0000);\">0.0000</td></tr></table>"
      ],
      "text/plain": [
       "<IPython.core.display.HTML object>"
      ]
     },
     "metadata": {},
     "output_type": "display_data"
    },
    {
     "name": "stdout",
     "output_type": "stream",
     "text": [
      "true Motion pred_h Motion pred_fnh Motion\n"
     ]
    },
    {
     "data": {
      "text/html": [
       "<table><tr><td><b>words</b></td><td style=\"background-color: rgb(255,255,255);\">go</td><td style=\"background-color: rgb(255,255,255);\">to</td><td style=\"background-color: rgb(255,255,255);\">the</td><td style=\"background-color: rgb(255,255,255);\">living</td><td style=\"background-color: rgb(255,255,255);\">room</td></tr><tr><td><b>lu</b></td><td style=\"background-color: rgb(0.0000, 255,0.0000);\">1.0000</td><td style=\"background-color: rgb(255.0000, 255,255.0000);\">0.0000</td><td style=\"background-color: rgb(255.0000, 255,255.0000);\">0.0000</td><td style=\"background-color: rgb(255.0000, 255,255.0000);\">0.0000</td><td style=\"background-color: rgb(255.0000, 255,255.0000);\">0.0000</td></tr><tr><td><b>h->h</b></td><td style=\"background-color: rgb(254.9999, 255,254.9999);\">0.0000</td><td style=\"background-color: rgb(254.0458, 255,254.0458);\">0.0037</td><td style=\"background-color: rgb(185.3823, 255,185.3823);\">0.2730</td><td style=\"background-color: rgb(94.6567, 255,94.6567);\">0.6288</td><td style=\"background-color: rgb(230.9159, 255,230.9159);\">0.0944</td></tr><tr><td><b>fn+h->h</b></td><td style=\"background-color: rgb(0.1103, 255,0.1103);\">0.9996</td><td style=\"background-color: rgb(254.8897, 255,254.8897);\">0.0004</td><td style=\"background-color: rgb(255.0000, 255,255.0000);\">0.0000</td><td style=\"background-color: rgb(255.0000, 255,255.0000);\">0.0000</td><td style=\"background-color: rgb(255.0000, 255,255.0000);\">0.0000</td></tr></table>"
      ],
      "text/plain": [
       "<IPython.core.display.HTML object>"
      ]
     },
     "metadata": {},
     "output_type": "display_data"
    },
    {
     "name": "stdout",
     "output_type": "stream",
     "text": [
      "true Motion pred_h Motion pred_fnh Motion\n"
     ]
    },
    {
     "data": {
      "text/html": [
       "<table><tr><td><b>words</b></td><td style=\"background-color: rgb(255,255,255);\">can</td><td style=\"background-color: rgb(255,255,255);\">you</td><td style=\"background-color: rgb(255,255,255);\">please</td><td style=\"background-color: rgb(255,255,255);\">go</td><td style=\"background-color: rgb(255,255,255);\">to</td><td style=\"background-color: rgb(255,255,255);\">the</td><td style=\"background-color: rgb(255,255,255);\">living</td><td style=\"background-color: rgb(255,255,255);\">room</td></tr><tr><td><b>lu</b></td><td style=\"background-color: rgb(255.0000, 255,255.0000);\">0.0000</td><td style=\"background-color: rgb(255.0000, 255,255.0000);\">0.0000</td><td style=\"background-color: rgb(255.0000, 255,255.0000);\">0.0000</td><td style=\"background-color: rgb(0.0000, 255,0.0000);\">1.0000</td><td style=\"background-color: rgb(255.0000, 255,255.0000);\">0.0000</td><td style=\"background-color: rgb(255.0000, 255,255.0000);\">0.0000</td><td style=\"background-color: rgb(255.0000, 255,255.0000);\">0.0000</td><td style=\"background-color: rgb(255.0000, 255,255.0000);\">0.0000</td></tr><tr><td><b>h->h</b></td><td style=\"background-color: rgb(255.0000, 255,255.0000);\">0.0000</td><td style=\"background-color: rgb(255.0000, 255,255.0000);\">0.0000</td><td style=\"background-color: rgb(255.0000, 255,255.0000);\">0.0000</td><td style=\"background-color: rgb(254.9999, 255,254.9999);\">0.0000</td><td style=\"background-color: rgb(254.3000, 255,254.3000);\">0.0027</td><td style=\"background-color: rgb(195.8629, 255,195.8629);\">0.2319</td><td style=\"background-color: rgb(94.7701, 255,94.7701);\">0.6284</td><td style=\"background-color: rgb(220.0678, 255,220.0678);\">0.1370</td></tr><tr><td><b>fn+h->h</b></td><td style=\"background-color: rgb(255.0000, 255,255.0000);\">0.0000</td><td style=\"background-color: rgb(255.0000, 255,255.0000);\">0.0000</td><td style=\"background-color: rgb(255.0000, 255,255.0000);\">0.0000</td><td style=\"background-color: rgb(0.3273, 255,0.3273);\">0.9987</td><td style=\"background-color: rgb(254.6727, 255,254.6727);\">0.0013</td><td style=\"background-color: rgb(255.0000, 255,255.0000);\">0.0000</td><td style=\"background-color: rgb(255.0000, 255,255.0000);\">0.0000</td><td style=\"background-color: rgb(255.0000, 255,255.0000);\">0.0000</td></tr></table>"
      ],
      "text/plain": [
       "<IPython.core.display.HTML object>"
      ]
     },
     "metadata": {},
     "output_type": "display_data"
    },
    {
     "name": "stdout",
     "output_type": "stream",
     "text": [
      "true Following pred_h Following pred_fnh Following\n"
     ]
    },
    {
     "data": {
      "text/html": [
       "<table><tr><td><b>words</b></td><td style=\"background-color: rgb(255,255,255);\">follow</td><td style=\"background-color: rgb(255,255,255);\">the</td><td style=\"background-color: rgb(255,255,255);\">guy</td><td style=\"background-color: rgb(255,255,255);\">with</td><td style=\"background-color: rgb(255,255,255);\">the</td><td style=\"background-color: rgb(255,255,255);\">blue</td><td style=\"background-color: rgb(255,255,255);\">jacket</td></tr><tr><td><b>lu</b></td><td style=\"background-color: rgb(0.0000, 255,0.0000);\">1.0000</td><td style=\"background-color: rgb(255.0000, 255,255.0000);\">0.0000</td><td style=\"background-color: rgb(255.0000, 255,255.0000);\">0.0000</td><td style=\"background-color: rgb(255.0000, 255,255.0000);\">0.0000</td><td style=\"background-color: rgb(255.0000, 255,255.0000);\">0.0000</td><td style=\"background-color: rgb(255.0000, 255,255.0000);\">0.0000</td><td style=\"background-color: rgb(255.0000, 255,255.0000);\">0.0000</td></tr><tr><td><b>h->h</b></td><td style=\"background-color: rgb(254.9226, 255,254.9226);\">0.0003</td><td style=\"background-color: rgb(235.2907, 255,235.2907);\">0.0773</td><td style=\"background-color: rgb(252.2497, 255,252.2497);\">0.0108</td><td style=\"background-color: rgb(224.2599, 255,224.2599);\">0.1205</td><td style=\"background-color: rgb(215.8141, 255,215.8141);\">0.1537</td><td style=\"background-color: rgb(164.6457, 255,164.6457);\">0.3543</td><td style=\"background-color: rgb(182.8262, 255,182.8262);\">0.2830</td></tr><tr><td><b>fn+h->h</b></td><td style=\"background-color: rgb(0.0000, 255,0.0000);\">1.0000</td><td style=\"background-color: rgb(255.0000, 255,255.0000);\">0.0000</td><td style=\"background-color: rgb(255.0000, 255,255.0000);\">0.0000</td><td style=\"background-color: rgb(255.0000, 255,255.0000);\">0.0000</td><td style=\"background-color: rgb(255.0000, 255,255.0000);\">0.0000</td><td style=\"background-color: rgb(255.0000, 255,255.0000);\">0.0000</td><td style=\"background-color: rgb(255.0000, 255,255.0000);\">0.0000</td></tr></table>"
      ],
      "text/plain": [
       "<IPython.core.display.HTML object>"
      ]
     },
     "metadata": {},
     "output_type": "display_data"
    },
    {
     "name": "stdout",
     "output_type": "stream",
     "text": [
      "true Bringing pred_h Bringing pred_fnh Bringing\n"
     ]
    },
    {
     "data": {
      "text/html": [
       "<table><tr><td><b>words</b></td><td style=\"background-color: rgb(255,255,255);\">can</td><td style=\"background-color: rgb(255,255,255);\">you</td><td style=\"background-color: rgb(255,255,255);\">bring</td><td style=\"background-color: rgb(255,255,255);\">me</td><td style=\"background-color: rgb(255,255,255);\">the</td><td style=\"background-color: rgb(255,255,255);\">coke</td><td style=\"background-color: rgb(255,255,255);\">from</td><td style=\"background-color: rgb(255,255,255);\">the</td><td style=\"background-color: rgb(255,255,255);\">fridge</td></tr><tr><td><b>lu</b></td><td style=\"background-color: rgb(255.0000, 255,255.0000);\">0.0000</td><td style=\"background-color: rgb(255.0000, 255,255.0000);\">0.0000</td><td style=\"background-color: rgb(0.0000, 255,0.0000);\">1.0000</td><td style=\"background-color: rgb(255.0000, 255,255.0000);\">0.0000</td><td style=\"background-color: rgb(255.0000, 255,255.0000);\">0.0000</td><td style=\"background-color: rgb(255.0000, 255,255.0000);\">0.0000</td><td style=\"background-color: rgb(255.0000, 255,255.0000);\">0.0000</td><td style=\"background-color: rgb(255.0000, 255,255.0000);\">0.0000</td><td style=\"background-color: rgb(255.0000, 255,255.0000);\">0.0000</td></tr><tr><td><b>h->h</b></td><td style=\"background-color: rgb(255.0000, 255,255.0000);\">0.0000</td><td style=\"background-color: rgb(255.0000, 255,255.0000);\">0.0000</td><td style=\"background-color: rgb(254.9999, 255,254.9999);\">0.0000</td><td style=\"background-color: rgb(254.9875, 255,254.9875);\">0.0000</td><td style=\"background-color: rgb(254.8065, 255,254.8065);\">0.0008</td><td style=\"background-color: rgb(254.6786, 255,254.6786);\">0.0013</td><td style=\"background-color: rgb(246.8274, 255,246.8274);\">0.0320</td><td style=\"background-color: rgb(233.5001, 255,233.5001);\">0.0843</td><td style=\"background-color: rgb(30.2006, 255,30.2006);\">0.8816</td></tr><tr><td><b>fn+h->h</b></td><td style=\"background-color: rgb(255.0000, 255,255.0000);\">0.0000</td><td style=\"background-color: rgb(255.0000, 255,255.0000);\">0.0000</td><td style=\"background-color: rgb(16.1522, 255,16.1522);\">0.9367</td><td style=\"background-color: rgb(238.8478, 255,238.8478);\">0.0633</td><td style=\"background-color: rgb(255.0000, 255,255.0000);\">0.0000</td><td style=\"background-color: rgb(255.0000, 255,255.0000);\">0.0000</td><td style=\"background-color: rgb(255.0000, 255,255.0000);\">0.0000</td><td style=\"background-color: rgb(255.0000, 255,255.0000);\">0.0000</td><td style=\"background-color: rgb(255.0000, 255,255.0000);\">0.0000</td></tr></table>"
      ],
      "text/plain": [
       "<IPython.core.display.HTML object>"
      ]
     },
     "metadata": {},
     "output_type": "display_data"
    },
    {
     "name": "stdout",
     "output_type": "stream",
     "text": [
      "true Following pred_h Following pred_fnh Following\n"
     ]
    },
    {
     "data": {
      "text/html": [
       "<table><tr><td><b>words</b></td><td style=\"background-color: rgb(255,255,255);\">follow</td><td style=\"background-color: rgb(255,255,255);\">the</td><td style=\"background-color: rgb(255,255,255);\">person</td><td style=\"background-color: rgb(255,255,255);\">in</td><td style=\"background-color: rgb(255,255,255);\">front</td><td style=\"background-color: rgb(255,255,255);\">of</td><td style=\"background-color: rgb(255,255,255);\">you</td></tr><tr><td><b>lu</b></td><td style=\"background-color: rgb(0.0000, 255,0.0000);\">1.0000</td><td style=\"background-color: rgb(255.0000, 255,255.0000);\">0.0000</td><td style=\"background-color: rgb(255.0000, 255,255.0000);\">0.0000</td><td style=\"background-color: rgb(255.0000, 255,255.0000);\">0.0000</td><td style=\"background-color: rgb(255.0000, 255,255.0000);\">0.0000</td><td style=\"background-color: rgb(255.0000, 255,255.0000);\">0.0000</td><td style=\"background-color: rgb(255.0000, 255,255.0000);\">0.0000</td></tr><tr><td><b>h->h</b></td><td style=\"background-color: rgb(254.9489, 255,254.9489);\">0.0002</td><td style=\"background-color: rgb(246.4276, 255,246.4276);\">0.0336</td><td style=\"background-color: rgb(253.9139, 255,253.9139);\">0.0043</td><td style=\"background-color: rgb(220.5037, 255,220.5037);\">0.1353</td><td style=\"background-color: rgb(231.4242, 255,231.4242);\">0.0925</td><td style=\"background-color: rgb(69.7937, 255,69.7937);\">0.7263</td><td style=\"background-color: rgb(252.9916, 255,252.9916);\">0.0079</td></tr><tr><td><b>fn+h->h</b></td><td style=\"background-color: rgb(0.0000, 255,0.0000);\">1.0000</td><td style=\"background-color: rgb(255.0000, 255,255.0000);\">0.0000</td><td style=\"background-color: rgb(255.0000, 255,255.0000);\">0.0000</td><td style=\"background-color: rgb(255.0000, 255,255.0000);\">0.0000</td><td style=\"background-color: rgb(255.0000, 255,255.0000);\">0.0000</td><td style=\"background-color: rgb(255.0000, 255,255.0000);\">0.0000</td><td style=\"background-color: rgb(255.0000, 255,255.0000);\">0.0000</td></tr></table>"
      ],
      "text/plain": [
       "<IPython.core.display.HTML object>"
      ]
     },
     "metadata": {},
     "output_type": "display_data"
    },
    {
     "name": "stdout",
     "output_type": "stream",
     "text": [
      "true Motion pred_h Motion pred_fnh Motion\n"
     ]
    },
    {
     "data": {
      "text/html": [
       "<table><tr><td><b>words</b></td><td style=\"background-color: rgb(255,255,255);\">move</td><td style=\"background-color: rgb(255,255,255);\">to</td><td style=\"background-color: rgb(255,255,255);\">the</td><td style=\"background-color: rgb(255,255,255);\">living</td><td style=\"background-color: rgb(255,255,255);\">room</td></tr><tr><td><b>lu</b></td><td style=\"background-color: rgb(0.0000, 255,0.0000);\">1.0000</td><td style=\"background-color: rgb(255.0000, 255,255.0000);\">0.0000</td><td style=\"background-color: rgb(255.0000, 255,255.0000);\">0.0000</td><td style=\"background-color: rgb(255.0000, 255,255.0000);\">0.0000</td><td style=\"background-color: rgb(255.0000, 255,255.0000);\">0.0000</td></tr><tr><td><b>h->h</b></td><td style=\"background-color: rgb(254.9982, 255,254.9982);\">0.0000</td><td style=\"background-color: rgb(254.1696, 255,254.1696);\">0.0033</td><td style=\"background-color: rgb(202.3470, 255,202.3470);\">0.2065</td><td style=\"background-color: rgb(70.5004, 255,70.5004);\">0.7235</td><td style=\"background-color: rgb(237.9856, 255,237.9856);\">0.0667</td></tr><tr><td><b>fn+h->h</b></td><td style=\"background-color: rgb(0.1510, 255,0.1510);\">0.9994</td><td style=\"background-color: rgb(254.8490, 255,254.8490);\">0.0006</td><td style=\"background-color: rgb(255.0000, 255,255.0000);\">0.0000</td><td style=\"background-color: rgb(255.0000, 255,255.0000);\">0.0000</td><td style=\"background-color: rgb(255.0000, 255,255.0000);\">0.0000</td></tr></table>"
      ],
      "text/plain": [
       "<IPython.core.display.HTML object>"
      ]
     },
     "metadata": {},
     "output_type": "display_data"
    },
    {
     "name": "stdout",
     "output_type": "stream",
     "text": [
      "true Bringing pred_h Bringing pred_fnh Bringing\n"
     ]
    },
    {
     "data": {
      "text/html": [
       "<table><tr><td><b>words</b></td><td style=\"background-color: rgb(255,255,255);\">bring</td><td style=\"background-color: rgb(255,255,255);\">me</td><td style=\"background-color: rgb(255,255,255);\">the</td><td style=\"background-color: rgb(255,255,255);\">pillow</td><td style=\"background-color: rgb(255,255,255);\">from</td><td style=\"background-color: rgb(255,255,255);\">the</td><td style=\"background-color: rgb(255,255,255);\">bed</td></tr><tr><td><b>lu</b></td><td style=\"background-color: rgb(0.0000, 255,0.0000);\">1.0000</td><td style=\"background-color: rgb(255.0000, 255,255.0000);\">0.0000</td><td style=\"background-color: rgb(255.0000, 255,255.0000);\">0.0000</td><td style=\"background-color: rgb(255.0000, 255,255.0000);\">0.0000</td><td style=\"background-color: rgb(255.0000, 255,255.0000);\">0.0000</td><td style=\"background-color: rgb(255.0000, 255,255.0000);\">0.0000</td><td style=\"background-color: rgb(255.0000, 255,255.0000);\">0.0000</td></tr><tr><td><b>h->h</b></td><td style=\"background-color: rgb(254.9999, 255,254.9999);\">0.0000</td><td style=\"background-color: rgb(254.9854, 255,254.9854);\">0.0001</td><td style=\"background-color: rgb(254.6979, 255,254.6979);\">0.0012</td><td style=\"background-color: rgb(254.6516, 255,254.6516);\">0.0014</td><td style=\"background-color: rgb(247.9014, 255,247.9014);\">0.0278</td><td style=\"background-color: rgb(241.8179, 255,241.8179);\">0.0517</td><td style=\"background-color: rgb(20.9469, 255,20.9469);\">0.9179</td></tr><tr><td><b>fn+h->h</b></td><td style=\"background-color: rgb(18.9554, 255,18.9554);\">0.9257</td><td style=\"background-color: rgb(236.0446, 255,236.0446);\">0.0743</td><td style=\"background-color: rgb(255.0000, 255,255.0000);\">0.0000</td><td style=\"background-color: rgb(255.0000, 255,255.0000);\">0.0000</td><td style=\"background-color: rgb(255.0000, 255,255.0000);\">0.0000</td><td style=\"background-color: rgb(255.0000, 255,255.0000);\">0.0000</td><td style=\"background-color: rgb(255.0000, 255,255.0000);\">0.0000</td></tr></table>"
      ],
      "text/plain": [
       "<IPython.core.display.HTML object>"
      ]
     },
     "metadata": {},
     "output_type": "display_data"
    },
    {
     "name": "stdout",
     "output_type": "stream",
     "text": [
      "true Bringing pred_h Bringing pred_fnh Bringing\n"
     ]
    },
    {
     "data": {
      "text/html": [
       "<table><tr><td><b>words</b></td><td style=\"background-color: rgb(255,255,255);\">bring</td><td style=\"background-color: rgb(255,255,255);\">the</td><td style=\"background-color: rgb(255,255,255);\">phone</td><td style=\"background-color: rgb(255,255,255);\">to</td><td style=\"background-color: rgb(255,255,255);\">the</td><td style=\"background-color: rgb(255,255,255);\">dinner</td><td style=\"background-color: rgb(255,255,255);\">table</td></tr><tr><td><b>lu</b></td><td style=\"background-color: rgb(0.0000, 255,0.0000);\">1.0000</td><td style=\"background-color: rgb(255.0000, 255,255.0000);\">0.0000</td><td style=\"background-color: rgb(255.0000, 255,255.0000);\">0.0000</td><td style=\"background-color: rgb(255.0000, 255,255.0000);\">0.0000</td><td style=\"background-color: rgb(255.0000, 255,255.0000);\">0.0000</td><td style=\"background-color: rgb(255.0000, 255,255.0000);\">0.0000</td><td style=\"background-color: rgb(255.0000, 255,255.0000);\">0.0000</td></tr><tr><td><b>h->h</b></td><td style=\"background-color: rgb(254.9997, 255,254.9997);\">0.0000</td><td style=\"background-color: rgb(254.9430, 255,254.9430);\">0.0002</td><td style=\"background-color: rgb(254.9882, 255,254.9882);\">0.0000</td><td style=\"background-color: rgb(254.6558, 255,254.6558);\">0.0013</td><td style=\"background-color: rgb(247.7746, 255,247.7746);\">0.0283</td><td style=\"background-color: rgb(247.2744, 255,247.2744);\">0.0303</td><td style=\"background-color: rgb(15.3654, 255,15.3654);\">0.9397</td></tr><tr><td><b>fn+h->h</b></td><td style=\"background-color: rgb(84.9173, 255,84.9173);\">0.6670</td><td style=\"background-color: rgb(255.0000, 255,255.0000);\">0.0000</td><td style=\"background-color: rgb(255.0000, 255,255.0000);\">0.0000</td><td style=\"background-color: rgb(170.0827, 255,170.0827);\">0.3330</td><td style=\"background-color: rgb(255.0000, 255,255.0000);\">0.0000</td><td style=\"background-color: rgb(255.0000, 255,255.0000);\">0.0000</td><td style=\"background-color: rgb(255.0000, 255,255.0000);\">0.0000</td></tr></table>"
      ],
      "text/plain": [
       "<IPython.core.display.HTML object>"
      ]
     },
     "metadata": {},
     "output_type": "display_data"
    },
    {
     "name": "stdout",
     "output_type": "stream",
     "text": [
      "true Following pred_h Following pred_fnh Following\n"
     ]
    },
    {
     "data": {
      "text/html": [
       "<table><tr><td><b>words</b></td><td style=\"background-color: rgb(255,255,255);\">please</td><td style=\"background-color: rgb(255,255,255);\">follow</td><td style=\"background-color: rgb(255,255,255);\">the</td><td style=\"background-color: rgb(255,255,255);\">person</td><td style=\"background-color: rgb(255,255,255);\">in</td><td style=\"background-color: rgb(255,255,255);\">front</td><td style=\"background-color: rgb(255,255,255);\">of</td><td style=\"background-color: rgb(255,255,255);\">you</td></tr><tr><td><b>lu</b></td><td style=\"background-color: rgb(255.0000, 255,255.0000);\">0.0000</td><td style=\"background-color: rgb(0.0000, 255,0.0000);\">1.0000</td><td style=\"background-color: rgb(255.0000, 255,255.0000);\">0.0000</td><td style=\"background-color: rgb(255.0000, 255,255.0000);\">0.0000</td><td style=\"background-color: rgb(255.0000, 255,255.0000);\">0.0000</td><td style=\"background-color: rgb(255.0000, 255,255.0000);\">0.0000</td><td style=\"background-color: rgb(255.0000, 255,255.0000);\">0.0000</td><td style=\"background-color: rgb(255.0000, 255,255.0000);\">0.0000</td></tr><tr><td><b>h->h</b></td><td style=\"background-color: rgb(255.0000, 255,255.0000);\">0.0000</td><td style=\"background-color: rgb(254.9428, 255,254.9428);\">0.0002</td><td style=\"background-color: rgb(246.0706, 255,246.0706);\">0.0350</td><td style=\"background-color: rgb(253.3566, 255,253.3566);\">0.0064</td><td style=\"background-color: rgb(218.6422, 255,218.6422);\">0.1426</td><td style=\"background-color: rgb(226.9331, 255,226.9331);\">0.1101</td><td style=\"background-color: rgb(78.5547, 255,78.5547);\">0.6919</td><td style=\"background-color: rgb(251.5029, 255,251.5029);\">0.0137</td></tr><tr><td><b>fn+h->h</b></td><td style=\"background-color: rgb(255.0000, 255,255.0000);\">0.0000</td><td style=\"background-color: rgb(0.0000, 255,0.0000);\">1.0000</td><td style=\"background-color: rgb(255.0000, 255,255.0000);\">0.0000</td><td style=\"background-color: rgb(255.0000, 255,255.0000);\">0.0000</td><td style=\"background-color: rgb(255.0000, 255,255.0000);\">0.0000</td><td style=\"background-color: rgb(255.0000, 255,255.0000);\">0.0000</td><td style=\"background-color: rgb(255.0000, 255,255.0000);\">0.0000</td><td style=\"background-color: rgb(255.0000, 255,255.0000);\">0.0000</td></tr></table>"
      ],
      "text/plain": [
       "<IPython.core.display.HTML object>"
      ]
     },
     "metadata": {},
     "output_type": "display_data"
    },
    {
     "name": "stdout",
     "output_type": "stream",
     "text": [
      "true Searching pred_h Searching pred_fnh Searching\n"
     ]
    },
    {
     "data": {
      "text/html": [
       "<table><tr><td><b>words</b></td><td style=\"background-color: rgb(255,255,255);\">search</td><td style=\"background-color: rgb(255,255,255);\">for</td><td style=\"background-color: rgb(255,255,255);\">the</td><td style=\"background-color: rgb(255,255,255);\">pillow</td></tr><tr><td><b>lu</b></td><td style=\"background-color: rgb(0.0000, 255,0.0000);\">1.0000</td><td style=\"background-color: rgb(255.0000, 255,255.0000);\">0.0000</td><td style=\"background-color: rgb(255.0000, 255,255.0000);\">0.0000</td><td style=\"background-color: rgb(255.0000, 255,255.0000);\">0.0000</td></tr><tr><td><b>h->h</b></td><td style=\"background-color: rgb(254.9943, 255,254.9943);\">0.0000</td><td style=\"background-color: rgb(253.9847, 255,253.9847);\">0.0040</td><td style=\"background-color: rgb(228.7813, 255,228.7813);\">0.1028</td><td style=\"background-color: rgb(27.2407, 255,27.2407);\">0.8932</td></tr><tr><td><b>fn+h->h</b></td><td style=\"background-color: rgb(0.0000, 255,0.0000);\">1.0000</td><td style=\"background-color: rgb(255.0000, 255,255.0000);\">0.0000</td><td style=\"background-color: rgb(255.0000, 255,255.0000);\">0.0000</td><td style=\"background-color: rgb(255.0000, 255,255.0000);\">0.0000</td></tr></table>"
      ],
      "text/plain": [
       "<IPython.core.display.HTML object>"
      ]
     },
     "metadata": {},
     "output_type": "display_data"
    },
    {
     "name": "stdout",
     "output_type": "stream",
     "text": [
      "true Motion pred_h Motion pred_fnh Motion\n"
     ]
    },
    {
     "data": {
      "text/html": [
       "<table><tr><td><b>words</b></td><td style=\"background-color: rgb(255,255,255);\">go</td><td style=\"background-color: rgb(255,255,255);\">to</td><td style=\"background-color: rgb(255,255,255);\">the</td><td style=\"background-color: rgb(255,255,255);\">sofa</td></tr><tr><td><b>lu</b></td><td style=\"background-color: rgb(0.0000, 255,0.0000);\">1.0000</td><td style=\"background-color: rgb(255.0000, 255,255.0000);\">0.0000</td><td style=\"background-color: rgb(255.0000, 255,255.0000);\">0.0000</td><td style=\"background-color: rgb(255.0000, 255,255.0000);\">0.0000</td></tr><tr><td><b>h->h</b></td><td style=\"background-color: rgb(254.9999, 255,254.9999);\">0.0000</td><td style=\"background-color: rgb(252.3617, 255,252.3617);\">0.0103</td><td style=\"background-color: rgb(87.8335, 255,87.8335);\">0.6556</td><td style=\"background-color: rgb(169.8057, 255,169.8057);\">0.3341</td></tr><tr><td><b>fn+h->h</b></td><td style=\"background-color: rgb(0.0140, 255,0.0140);\">0.9999</td><td style=\"background-color: rgb(254.9860, 255,254.9860);\">0.0001</td><td style=\"background-color: rgb(255.0000, 255,255.0000);\">0.0000</td><td style=\"background-color: rgb(255.0000, 255,255.0000);\">0.0000</td></tr></table>"
      ],
      "text/plain": [
       "<IPython.core.display.HTML object>"
      ]
     },
     "metadata": {},
     "output_type": "display_data"
    },
    {
     "name": "stdout",
     "output_type": "stream",
     "text": [
      "true Following pred_h Following pred_fnh Following\n"
     ]
    },
    {
     "data": {
      "text/html": [
       "<table><tr><td><b>words</b></td><td style=\"background-color: rgb(255,255,255);\">follow</td><td style=\"background-color: rgb(255,255,255);\">the</td><td style=\"background-color: rgb(255,255,255);\">skinny</td><td style=\"background-color: rgb(255,255,255);\">person</td></tr><tr><td><b>lu</b></td><td style=\"background-color: rgb(0.0000, 255,0.0000);\">1.0000</td><td style=\"background-color: rgb(255.0000, 255,255.0000);\">0.0000</td><td style=\"background-color: rgb(255.0000, 255,255.0000);\">0.0000</td><td style=\"background-color: rgb(255.0000, 255,255.0000);\">0.0000</td></tr><tr><td><b>h->h</b></td><td style=\"background-color: rgb(254.9263, 255,254.9263);\">0.0003</td><td style=\"background-color: rgb(198.2408, 255,198.2408);\">0.2226</td><td style=\"background-color: rgb(165.0299, 255,165.0299);\">0.3528</td><td style=\"background-color: rgb(146.8159, 255,146.8159);\">0.4243</td></tr><tr><td><b>fn+h->h</b></td><td style=\"background-color: rgb(0.0000, 255,0.0000);\">1.0000</td><td style=\"background-color: rgb(255.0000, 255,255.0000);\">0.0000</td><td style=\"background-color: rgb(255.0000, 255,255.0000);\">0.0000</td><td style=\"background-color: rgb(255.0000, 255,255.0000);\">0.0000</td></tr></table>"
      ],
      "text/plain": [
       "<IPython.core.display.HTML object>"
      ]
     },
     "metadata": {},
     "output_type": "display_data"
    },
    {
     "name": "stdout",
     "output_type": "stream",
     "text": [
      "true Motion pred_h Motion pred_fnh Motion\n"
     ]
    },
    {
     "data": {
      "text/html": [
       "<table><tr><td><b>words</b></td><td style=\"background-color: rgb(255,255,255);\">move</td><td style=\"background-color: rgb(255,255,255);\">to</td><td style=\"background-color: rgb(255,255,255);\">the</td><td style=\"background-color: rgb(255,255,255);\">lamp</td><td style=\"background-color: rgb(255,255,255);\">on</td><td style=\"background-color: rgb(255,255,255);\">the</td><td style=\"background-color: rgb(255,255,255);\">right</td><td style=\"background-color: rgb(255,255,255);\">side</td><td style=\"background-color: rgb(255,255,255);\">of</td><td style=\"background-color: rgb(255,255,255);\">the</td><td style=\"background-color: rgb(255,255,255);\">bed</td></tr><tr><td><b>lu</b></td><td style=\"background-color: rgb(0.0000, 255,0.0000);\">1.0000</td><td style=\"background-color: rgb(255.0000, 255,255.0000);\">0.0000</td><td style=\"background-color: rgb(255.0000, 255,255.0000);\">0.0000</td><td style=\"background-color: rgb(255.0000, 255,255.0000);\">0.0000</td><td style=\"background-color: rgb(255.0000, 255,255.0000);\">0.0000</td><td style=\"background-color: rgb(255.0000, 255,255.0000);\">0.0000</td><td style=\"background-color: rgb(255.0000, 255,255.0000);\">0.0000</td><td style=\"background-color: rgb(255.0000, 255,255.0000);\">0.0000</td><td style=\"background-color: rgb(255.0000, 255,255.0000);\">0.0000</td><td style=\"background-color: rgb(255.0000, 255,255.0000);\">0.0000</td><td style=\"background-color: rgb(255.0000, 255,255.0000);\">0.0000</td></tr><tr><td><b>h->h</b></td><td style=\"background-color: rgb(254.9990, 255,254.9990);\">0.0000</td><td style=\"background-color: rgb(254.7229, 255,254.7229);\">0.0011</td><td style=\"background-color: rgb(248.2004, 255,248.2004);\">0.0267</td><td style=\"background-color: rgb(231.7775, 255,231.7775);\">0.0911</td><td style=\"background-color: rgb(232.6149, 255,232.6149);\">0.0878</td><td style=\"background-color: rgb(247.1945, 255,247.1945);\">0.0306</td><td style=\"background-color: rgb(254.5742, 255,254.5742);\">0.0017</td><td style=\"background-color: rgb(249.2572, 255,249.2572);\">0.0225</td><td style=\"background-color: rgb(215.7870, 255,215.7870);\">0.1538</td><td style=\"background-color: rgb(114.5195, 255,114.5195);\">0.5509</td><td style=\"background-color: rgb(246.3541, 255,246.3541);\">0.0339</td></tr><tr><td><b>fn+h->h</b></td><td style=\"background-color: rgb(0.0001, 255,0.0001);\">1.0000</td><td style=\"background-color: rgb(254.9999, 255,254.9999);\">0.0000</td><td style=\"background-color: rgb(255.0000, 255,255.0000);\">0.0000</td><td style=\"background-color: rgb(255.0000, 255,255.0000);\">0.0000</td><td style=\"background-color: rgb(255.0000, 255,255.0000);\">0.0000</td><td style=\"background-color: rgb(255.0000, 255,255.0000);\">0.0000</td><td style=\"background-color: rgb(255.0000, 255,255.0000);\">0.0000</td><td style=\"background-color: rgb(255.0000, 255,255.0000);\">0.0000</td><td style=\"background-color: rgb(255.0000, 255,255.0000);\">0.0000</td><td style=\"background-color: rgb(255.0000, 255,255.0000);\">0.0000</td><td style=\"background-color: rgb(255.0000, 255,255.0000);\">0.0000</td></tr></table>"
      ],
      "text/plain": [
       "<IPython.core.display.HTML object>"
      ]
     },
     "metadata": {},
     "output_type": "display_data"
    },
    {
     "name": "stdout",
     "output_type": "stream",
     "text": [
      "true Placing pred_h Placing pred_fnh Placing\n"
     ]
    },
    {
     "data": {
      "text/html": [
       "<table><tr><td><b>words</b></td><td style=\"background-color: rgb(255,255,255);\">place</td><td style=\"background-color: rgb(255,255,255);\">the</td><td style=\"background-color: rgb(255,255,255);\">mug</td><td style=\"background-color: rgb(255,255,255);\">on</td><td style=\"background-color: rgb(255,255,255);\">the</td><td style=\"background-color: rgb(255,255,255);\">sink</td><td style=\"background-color: rgb(255,255,255);\">nearest</td><td style=\"background-color: rgb(255,255,255);\">to</td><td style=\"background-color: rgb(255,255,255);\">the</td><td style=\"background-color: rgb(255,255,255);\">refrigerator</td></tr><tr><td><b>lu</b></td><td style=\"background-color: rgb(0.0000, 255,0.0000);\">1.0000</td><td style=\"background-color: rgb(255.0000, 255,255.0000);\">0.0000</td><td style=\"background-color: rgb(255.0000, 255,255.0000);\">0.0000</td><td style=\"background-color: rgb(255.0000, 255,255.0000);\">0.0000</td><td style=\"background-color: rgb(255.0000, 255,255.0000);\">0.0000</td><td style=\"background-color: rgb(255.0000, 255,255.0000);\">0.0000</td><td style=\"background-color: rgb(255.0000, 255,255.0000);\">0.0000</td><td style=\"background-color: rgb(255.0000, 255,255.0000);\">0.0000</td><td style=\"background-color: rgb(255.0000, 255,255.0000);\">0.0000</td><td style=\"background-color: rgb(255.0000, 255,255.0000);\">0.0000</td></tr><tr><td><b>h->h</b></td><td style=\"background-color: rgb(254.9999, 255,254.9999);\">0.0000</td><td style=\"background-color: rgb(254.9989, 255,254.9989);\">0.0000</td><td style=\"background-color: rgb(254.9987, 255,254.9987);\">0.0000</td><td style=\"background-color: rgb(254.9562, 255,254.9562);\">0.0002</td><td style=\"background-color: rgb(254.7463, 255,254.7463);\">0.0010</td><td style=\"background-color: rgb(254.9127, 255,254.9127);\">0.0003</td><td style=\"background-color: rgb(254.7045, 255,254.7045);\">0.0012</td><td style=\"background-color: rgb(247.8277, 255,247.8277);\">0.0281</td><td style=\"background-color: rgb(47.1368, 255,47.1368);\">0.8151</td><td style=\"background-color: rgb(215.7195, 255,215.7195);\">0.1540</td></tr><tr><td><b>fn+h->h</b></td><td style=\"background-color: rgb(65.5612, 255,65.5612);\">0.7429</td><td style=\"background-color: rgb(255.0000, 255,255.0000);\">0.0000</td><td style=\"background-color: rgb(255.0000, 255,255.0000);\">0.0000</td><td style=\"background-color: rgb(192.7014, 255,192.7014);\">0.2443</td><td style=\"background-color: rgb(255.0000, 255,255.0000);\">0.0000</td><td style=\"background-color: rgb(255.0000, 255,255.0000);\">0.0000</td><td style=\"background-color: rgb(252.2560, 255,252.2560);\">0.0108</td><td style=\"background-color: rgb(254.8812, 255,254.8812);\">0.0005</td><td style=\"background-color: rgb(254.6001, 255,254.6001);\">0.0016</td><td style=\"background-color: rgb(255.0000, 255,255.0000);\">0.0000</td></tr></table>"
      ],
      "text/plain": [
       "<IPython.core.display.HTML object>"
      ]
     },
     "metadata": {},
     "output_type": "display_data"
    },
    {
     "name": "stdout",
     "output_type": "stream",
     "text": [
      "true Motion pred_h Motion pred_fnh Motion\n"
     ]
    },
    {
     "data": {
      "text/html": [
       "<table><tr><td><b>words</b></td><td style=\"background-color: rgb(255,255,255);\">please</td><td style=\"background-color: rgb(255,255,255);\">go</td><td style=\"background-color: rgb(255,255,255);\">to</td><td style=\"background-color: rgb(255,255,255);\">the</td><td style=\"background-color: rgb(255,255,255);\">mirror</td></tr><tr><td><b>lu</b></td><td style=\"background-color: rgb(255.0000, 255,255.0000);\">0.0000</td><td style=\"background-color: rgb(0.0000, 255,0.0000);\">1.0000</td><td style=\"background-color: rgb(255.0000, 255,255.0000);\">0.0000</td><td style=\"background-color: rgb(255.0000, 255,255.0000);\">0.0000</td><td style=\"background-color: rgb(255.0000, 255,255.0000);\">0.0000</td></tr><tr><td><b>h->h</b></td><td style=\"background-color: rgb(255.0000, 255,255.0000);\">0.0000</td><td style=\"background-color: rgb(254.9999, 255,254.9999);\">0.0000</td><td style=\"background-color: rgb(252.7377, 255,252.7377);\">0.0089</td><td style=\"background-color: rgb(121.8072, 255,121.8072);\">0.5223</td><td style=\"background-color: rgb(135.4558, 255,135.4558);\">0.4688</td></tr><tr><td><b>fn+h->h</b></td><td style=\"background-color: rgb(255.0000, 255,255.0000);\">0.0000</td><td style=\"background-color: rgb(0.0002, 255,0.0002);\">1.0000</td><td style=\"background-color: rgb(254.9999, 255,254.9999);\">0.0000</td><td style=\"background-color: rgb(255.0000, 255,255.0000);\">0.0000</td><td style=\"background-color: rgb(255.0000, 255,255.0000);\">0.0000</td></tr></table>"
      ],
      "text/plain": [
       "<IPython.core.display.HTML object>"
      ]
     },
     "metadata": {},
     "output_type": "display_data"
    },
    {
     "name": "stdout",
     "output_type": "stream",
     "text": [
      "true Searching pred_h Searching pred_fnh Searching\n"
     ]
    },
    {
     "data": {
      "text/html": [
       "<table><tr><td><b>words</b></td><td style=\"background-color: rgb(255,255,255);\">find</td><td style=\"background-color: rgb(255,255,255);\">me</td><td style=\"background-color: rgb(255,255,255);\">a</td><td style=\"background-color: rgb(255,255,255);\">cushion</td></tr><tr><td><b>lu</b></td><td style=\"background-color: rgb(0.0000, 255,0.0000);\">1.0000</td><td style=\"background-color: rgb(255.0000, 255,255.0000);\">0.0000</td><td style=\"background-color: rgb(255.0000, 255,255.0000);\">0.0000</td><td style=\"background-color: rgb(255.0000, 255,255.0000);\">0.0000</td></tr><tr><td><b>h->h</b></td><td style=\"background-color: rgb(254.9990, 255,254.9990);\">0.0000</td><td style=\"background-color: rgb(254.9590, 255,254.9590);\">0.0002</td><td style=\"background-color: rgb(218.4175, 255,218.4175);\">0.1435</td><td style=\"background-color: rgb(36.6262, 255,36.6262);\">0.8564</td></tr><tr><td><b>fn+h->h</b></td><td style=\"background-color: rgb(0.0000, 255,0.0000);\">1.0000</td><td style=\"background-color: rgb(255.0000, 255,255.0000);\">0.0000</td><td style=\"background-color: rgb(255.0000, 255,255.0000);\">0.0000</td><td style=\"background-color: rgb(255.0000, 255,255.0000);\">0.0000</td></tr></table>"
      ],
      "text/plain": [
       "<IPython.core.display.HTML object>"
      ]
     },
     "metadata": {},
     "output_type": "display_data"
    },
    {
     "name": "stdout",
     "output_type": "stream",
     "text": [
      "true Motion pred_h Motion pred_fnh Motion\n"
     ]
    },
    {
     "data": {
      "text/html": [
       "<table><tr><td><b>words</b></td><td style=\"background-color: rgb(255,255,255);\">please</td><td style=\"background-color: rgb(255,255,255);\">go</td><td style=\"background-color: rgb(255,255,255);\">to</td><td style=\"background-color: rgb(255,255,255);\">the</td><td style=\"background-color: rgb(255,255,255);\">table</td></tr><tr><td><b>lu</b></td><td style=\"background-color: rgb(255.0000, 255,255.0000);\">0.0000</td><td style=\"background-color: rgb(0.0000, 255,0.0000);\">1.0000</td><td style=\"background-color: rgb(255.0000, 255,255.0000);\">0.0000</td><td style=\"background-color: rgb(255.0000, 255,255.0000);\">0.0000</td><td style=\"background-color: rgb(255.0000, 255,255.0000);\">0.0000</td></tr><tr><td><b>h->h</b></td><td style=\"background-color: rgb(255.0000, 255,255.0000);\">0.0000</td><td style=\"background-color: rgb(254.9999, 255,254.9999);\">0.0000</td><td style=\"background-color: rgb(252.3133, 255,252.3133);\">0.0105</td><td style=\"background-color: rgb(107.0283, 255,107.0283);\">0.5803</td><td style=\"background-color: rgb(150.6593, 255,150.6593);\">0.4092</td></tr><tr><td><b>fn+h->h</b></td><td style=\"background-color: rgb(255.0000, 255,255.0000);\">0.0000</td><td style=\"background-color: rgb(0.0003, 255,0.0003);\">1.0000</td><td style=\"background-color: rgb(254.9997, 255,254.9997);\">0.0000</td><td style=\"background-color: rgb(255.0000, 255,255.0000);\">0.0000</td><td style=\"background-color: rgb(255.0000, 255,255.0000);\">0.0000</td></tr></table>"
      ],
      "text/plain": [
       "<IPython.core.display.HTML object>"
      ]
     },
     "metadata": {},
     "output_type": "display_data"
    },
    {
     "name": "stdout",
     "output_type": "stream",
     "text": [
      "true Following pred_h Following pred_fnh Following\n"
     ]
    },
    {
     "data": {
      "text/html": [
       "<table><tr><td><b>words</b></td><td style=\"background-color: rgb(255,255,255);\">can</td><td style=\"background-color: rgb(255,255,255);\">you</td><td style=\"background-color: rgb(255,255,255);\">slowly</td><td style=\"background-color: rgb(255,255,255);\">follow</td><td style=\"background-color: rgb(255,255,255);\">my</td><td style=\"background-color: rgb(255,255,255);\">father</td></tr><tr><td><b>lu</b></td><td style=\"background-color: rgb(255.0000, 255,255.0000);\">0.0000</td><td style=\"background-color: rgb(255.0000, 255,255.0000);\">0.0000</td><td style=\"background-color: rgb(255.0000, 255,255.0000);\">0.0000</td><td style=\"background-color: rgb(0.0000, 255,0.0000);\">1.0000</td><td style=\"background-color: rgb(255.0000, 255,255.0000);\">0.0000</td><td style=\"background-color: rgb(255.0000, 255,255.0000);\">0.0000</td></tr><tr><td><b>h->h</b></td><td style=\"background-color: rgb(254.9999, 255,254.9999);\">0.0000</td><td style=\"background-color: rgb(255.0000, 255,255.0000);\">0.0000</td><td style=\"background-color: rgb(255.0000, 255,255.0000);\">0.0000</td><td style=\"background-color: rgb(254.9590, 255,254.9590);\">0.0002</td><td style=\"background-color: rgb(191.6259, 255,191.6259);\">0.2485</td><td style=\"background-color: rgb(63.4220, 255,63.4220);\">0.7513</td></tr><tr><td><b>fn+h->h</b></td><td style=\"background-color: rgb(255.0000, 255,255.0000);\">0.0000</td><td style=\"background-color: rgb(255.0000, 255,255.0000);\">0.0000</td><td style=\"background-color: rgb(255.0000, 255,255.0000);\">0.0000</td><td style=\"background-color: rgb(0.0000, 255,0.0000);\">1.0000</td><td style=\"background-color: rgb(255.0000, 255,255.0000);\">0.0000</td><td style=\"background-color: rgb(255.0000, 255,255.0000);\">0.0000</td></tr></table>"
      ],
      "text/plain": [
       "<IPython.core.display.HTML object>"
      ]
     },
     "metadata": {},
     "output_type": "display_data"
    },
    {
     "name": "stdout",
     "output_type": "stream",
     "text": [
      "true Taking pred_h Taking pred_fnh Taking\n"
     ]
    },
    {
     "data": {
      "text/html": [
       "<table><tr><td><b>words</b></td><td style=\"background-color: rgb(255,255,255);\">get</td><td style=\"background-color: rgb(255,255,255);\">the</td><td style=\"background-color: rgb(255,255,255);\">blue</td><td style=\"background-color: rgb(255,255,255);\">slippers</td><td style=\"background-color: rgb(255,255,255);\">from</td><td style=\"background-color: rgb(255,255,255);\">the</td><td style=\"background-color: rgb(255,255,255);\">bathroom</td></tr><tr><td><b>lu</b></td><td style=\"background-color: rgb(0.0000, 255,0.0000);\">1.0000</td><td style=\"background-color: rgb(255.0000, 255,255.0000);\">0.0000</td><td style=\"background-color: rgb(255.0000, 255,255.0000);\">0.0000</td><td style=\"background-color: rgb(255.0000, 255,255.0000);\">0.0000</td><td style=\"background-color: rgb(255.0000, 255,255.0000);\">0.0000</td><td style=\"background-color: rgb(255.0000, 255,255.0000);\">0.0000</td><td style=\"background-color: rgb(255.0000, 255,255.0000);\">0.0000</td></tr><tr><td><b>h->h</b></td><td style=\"background-color: rgb(254.9945, 255,254.9945);\">0.0000</td><td style=\"background-color: rgb(254.7389, 255,254.7389);\">0.0010</td><td style=\"background-color: rgb(254.9406, 255,254.9406);\">0.0002</td><td style=\"background-color: rgb(254.9953, 255,254.9953);\">0.0000</td><td style=\"background-color: rgb(253.3122, 255,253.3122);\">0.0066</td><td style=\"background-color: rgb(2.1555, 255,2.1555);\">0.9915</td><td style=\"background-color: rgb(254.8674, 255,254.8674);\">0.0005</td></tr><tr><td><b>fn+h->h</b></td><td style=\"background-color: rgb(0.0000, 255,0.0000);\">1.0000</td><td style=\"background-color: rgb(255.0000, 255,255.0000);\">0.0000</td><td style=\"background-color: rgb(255.0000, 255,255.0000);\">0.0000</td><td style=\"background-color: rgb(255.0000, 255,255.0000);\">0.0000</td><td style=\"background-color: rgb(255.0000, 255,255.0000);\">0.0000</td><td style=\"background-color: rgb(255.0000, 255,255.0000);\">0.0000</td><td style=\"background-color: rgb(255.0000, 255,255.0000);\">0.0000</td></tr></table>"
      ],
      "text/plain": [
       "<IPython.core.display.HTML object>"
      ]
     },
     "metadata": {},
     "output_type": "display_data"
    },
    {
     "name": "stdout",
     "output_type": "stream",
     "text": [
      "true Bringing pred_h Bringing pred_fnh Bringing\n"
     ]
    },
    {
     "data": {
      "text/html": [
       "<table><tr><td><b>words</b></td><td style=\"background-color: rgb(255,255,255);\">bring</td><td style=\"background-color: rgb(255,255,255);\">the</td><td style=\"background-color: rgb(255,255,255);\">book</td><td style=\"background-color: rgb(255,255,255);\">near</td><td style=\"background-color: rgb(255,255,255);\">the</td><td style=\"background-color: rgb(255,255,255);\">lamp</td></tr><tr><td><b>lu</b></td><td style=\"background-color: rgb(0.0000, 255,0.0000);\">1.0000</td><td style=\"background-color: rgb(255.0000, 255,255.0000);\">0.0000</td><td style=\"background-color: rgb(255.0000, 255,255.0000);\">0.0000</td><td style=\"background-color: rgb(255.0000, 255,255.0000);\">0.0000</td><td style=\"background-color: rgb(255.0000, 255,255.0000);\">0.0000</td><td style=\"background-color: rgb(255.0000, 255,255.0000);\">0.0000</td></tr><tr><td><b>h->h</b></td><td style=\"background-color: rgb(254.9998, 255,254.9998);\">0.0000</td><td style=\"background-color: rgb(254.9677, 255,254.9677);\">0.0001</td><td style=\"background-color: rgb(254.9832, 255,254.9832);\">0.0001</td><td style=\"background-color: rgb(253.9294, 255,253.9294);\">0.0042</td><td style=\"background-color: rgb(215.5454, 255,215.5454);\">0.1547</td><td style=\"background-color: rgb(40.5752, 255,40.5752);\">0.8409</td></tr><tr><td><b>fn+h->h</b></td><td style=\"background-color: rgb(0.0090, 255,0.0090);\">1.0000</td><td style=\"background-color: rgb(255.0000, 255,255.0000);\">0.0000</td><td style=\"background-color: rgb(255.0000, 255,255.0000);\">0.0000</td><td style=\"background-color: rgb(254.9910, 255,254.9910);\">0.0000</td><td style=\"background-color: rgb(255.0000, 255,255.0000);\">0.0000</td><td style=\"background-color: rgb(255.0000, 255,255.0000);\">0.0000</td></tr></table>"
      ],
      "text/plain": [
       "<IPython.core.display.HTML object>"
      ]
     },
     "metadata": {},
     "output_type": "display_data"
    },
    {
     "name": "stdout",
     "output_type": "stream",
     "text": [
      "true Searching pred_h Searching pred_fnh Searching\n"
     ]
    },
    {
     "data": {
      "text/html": [
       "<table><tr><td><b>words</b></td><td style=\"background-color: rgb(255,255,255);\">please</td><td style=\"background-color: rgb(255,255,255);\">find</td><td style=\"background-color: rgb(255,255,255);\">the</td><td style=\"background-color: rgb(255,255,255);\">flowers</td></tr><tr><td><b>lu</b></td><td style=\"background-color: rgb(255.0000, 255,255.0000);\">0.0000</td><td style=\"background-color: rgb(0.0000, 255,0.0000);\">1.0000</td><td style=\"background-color: rgb(255.0000, 255,255.0000);\">0.0000</td><td style=\"background-color: rgb(255.0000, 255,255.0000);\">0.0000</td></tr><tr><td><b>h->h</b></td><td style=\"background-color: rgb(255.0000, 255,255.0000);\">0.0000</td><td style=\"background-color: rgb(254.9726, 255,254.9726);\">0.0001</td><td style=\"background-color: rgb(201.5450, 255,201.5450);\">0.2096</td><td style=\"background-color: rgb(53.4884, 255,53.4884);\">0.7902</td></tr><tr><td><b>fn+h->h</b></td><td style=\"background-color: rgb(255.0000, 255,255.0000);\">0.0000</td><td style=\"background-color: rgb(0.0000, 255,0.0000);\">1.0000</td><td style=\"background-color: rgb(255.0000, 255,255.0000);\">0.0000</td><td style=\"background-color: rgb(255.0000, 255,255.0000);\">0.0000</td></tr></table>"
      ],
      "text/plain": [
       "<IPython.core.display.HTML object>"
      ]
     },
     "metadata": {},
     "output_type": "display_data"
    },
    {
     "name": "stdout",
     "output_type": "stream",
     "text": [
      "true Following pred_h Following pred_fnh Following\n"
     ]
    },
    {
     "data": {
      "text/html": [
       "<table><tr><td><b>words</b></td><td style=\"background-color: rgb(255,255,255);\">please</td><td style=\"background-color: rgb(255,255,255);\">follow</td><td style=\"background-color: rgb(255,255,255);\">me</td><td style=\"background-color: rgb(255,255,255);\">slowly</td></tr><tr><td><b>lu</b></td><td style=\"background-color: rgb(255.0000, 255,255.0000);\">0.0000</td><td style=\"background-color: rgb(0.0000, 255,0.0000);\">1.0000</td><td style=\"background-color: rgb(255.0000, 255,255.0000);\">0.0000</td><td style=\"background-color: rgb(255.0000, 255,255.0000);\">0.0000</td></tr><tr><td><b>h->h</b></td><td style=\"background-color: rgb(255.0000, 255,255.0000);\">0.0000</td><td style=\"background-color: rgb(254.8495, 255,254.8495);\">0.0006</td><td style=\"background-color: rgb(92.8229, 255,92.8229);\">0.6360</td><td style=\"background-color: rgb(162.3332, 255,162.3332);\">0.3634</td></tr><tr><td><b>fn+h->h</b></td><td style=\"background-color: rgb(255.0000, 255,255.0000);\">0.0000</td><td style=\"background-color: rgb(0.0150, 255,0.0150);\">0.9999</td><td style=\"background-color: rgb(254.9850, 255,254.9850);\">0.0001</td><td style=\"background-color: rgb(255.0000, 255,255.0000);\">0.0000</td></tr></table>"
      ],
      "text/plain": [
       "<IPython.core.display.HTML object>"
      ]
     },
     "metadata": {},
     "output_type": "display_data"
    },
    {
     "name": "stdout",
     "output_type": "stream",
     "text": [
      "true Motion pred_h Motion pred_fnh Motion\n"
     ]
    },
    {
     "data": {
      "text/html": [
       "<table><tr><td><b>words</b></td><td style=\"background-color: rgb(255,255,255);\">could</td><td style=\"background-color: rgb(255,255,255);\">you</td><td style=\"background-color: rgb(255,255,255);\">please</td><td style=\"background-color: rgb(255,255,255);\">go</td><td style=\"background-color: rgb(255,255,255);\">to</td><td style=\"background-color: rgb(255,255,255);\">the</td><td style=\"background-color: rgb(255,255,255);\">door</td></tr><tr><td><b>lu</b></td><td style=\"background-color: rgb(255.0000, 255,255.0000);\">0.0000</td><td style=\"background-color: rgb(255.0000, 255,255.0000);\">0.0000</td><td style=\"background-color: rgb(255.0000, 255,255.0000);\">0.0000</td><td style=\"background-color: rgb(0.0000, 255,0.0000);\">1.0000</td><td style=\"background-color: rgb(255.0000, 255,255.0000);\">0.0000</td><td style=\"background-color: rgb(255.0000, 255,255.0000);\">0.0000</td><td style=\"background-color: rgb(255.0000, 255,255.0000);\">0.0000</td></tr><tr><td><b>h->h</b></td><td style=\"background-color: rgb(255.0000, 255,255.0000);\">0.0000</td><td style=\"background-color: rgb(255.0000, 255,255.0000);\">0.0000</td><td style=\"background-color: rgb(255.0000, 255,255.0000);\">0.0000</td><td style=\"background-color: rgb(254.9998, 255,254.9998);\">0.0000</td><td style=\"background-color: rgb(252.4151, 255,252.4151);\">0.0101</td><td style=\"background-color: rgb(107.8569, 255,107.8569);\">0.5770</td><td style=\"background-color: rgb(149.7287, 255,149.7287);\">0.4128</td></tr><tr><td><b>fn+h->h</b></td><td style=\"background-color: rgb(255.0000, 255,255.0000);\">0.0000</td><td style=\"background-color: rgb(255.0000, 255,255.0000);\">0.0000</td><td style=\"background-color: rgb(255.0000, 255,255.0000);\">0.0000</td><td style=\"background-color: rgb(0.0025, 255,0.0025);\">1.0000</td><td style=\"background-color: rgb(254.9975, 255,254.9975);\">0.0000</td><td style=\"background-color: rgb(255.0000, 255,255.0000);\">0.0000</td><td style=\"background-color: rgb(255.0000, 255,255.0000);\">0.0000</td></tr></table>"
      ],
      "text/plain": [
       "<IPython.core.display.HTML object>"
      ]
     },
     "metadata": {},
     "output_type": "display_data"
    },
    {
     "name": "stdout",
     "output_type": "stream",
     "text": [
      "true Following pred_h Following pred_fnh Following\n"
     ]
    },
    {
     "data": {
      "text/html": [
       "<table><tr><td><b>words</b></td><td style=\"background-color: rgb(255,255,255);\">follow</td><td style=\"background-color: rgb(255,255,255);\">me</td></tr><tr><td><b>lu</b></td><td style=\"background-color: rgb(0.0000, 255,0.0000);\">1.0000</td><td style=\"background-color: rgb(255.0000, 255,255.0000);\">0.0000</td></tr><tr><td><b>h->h</b></td><td style=\"background-color: rgb(252.2297, 255,252.2297);\">0.0109</td><td style=\"background-color: rgb(2.7965, 255,2.7965);\">0.9890</td></tr><tr><td><b>fn+h->h</b></td><td style=\"background-color: rgb(0.0341, 255,0.0341);\">0.9999</td><td style=\"background-color: rgb(254.9659, 255,254.9659);\">0.0001</td></tr></table>"
      ],
      "text/plain": [
       "<IPython.core.display.HTML object>"
      ]
     },
     "metadata": {},
     "output_type": "display_data"
    },
    {
     "name": "stdout",
     "output_type": "stream",
     "text": [
      "true Bringing pred_h Bringing pred_fnh Bringing\n"
     ]
    },
    {
     "data": {
      "text/html": [
       "<table><tr><td><b>words</b></td><td style=\"background-color: rgb(255,255,255);\">bring</td><td style=\"background-color: rgb(255,255,255);\">me</td><td style=\"background-color: rgb(255,255,255);\">my</td><td style=\"background-color: rgb(255,255,255);\">telephone</td><td style=\"background-color: rgb(255,255,255);\">from</td><td style=\"background-color: rgb(255,255,255);\">the</td><td style=\"background-color: rgb(255,255,255);\">couch</td></tr><tr><td><b>lu</b></td><td style=\"background-color: rgb(0.0000, 255,0.0000);\">1.0000</td><td style=\"background-color: rgb(255.0000, 255,255.0000);\">0.0000</td><td style=\"background-color: rgb(255.0000, 255,255.0000);\">0.0000</td><td style=\"background-color: rgb(255.0000, 255,255.0000);\">0.0000</td><td style=\"background-color: rgb(255.0000, 255,255.0000);\">0.0000</td><td style=\"background-color: rgb(255.0000, 255,255.0000);\">0.0000</td><td style=\"background-color: rgb(255.0000, 255,255.0000);\">0.0000</td></tr><tr><td><b>h->h</b></td><td style=\"background-color: rgb(254.9999, 255,254.9999);\">0.0000</td><td style=\"background-color: rgb(254.9888, 255,254.9888);\">0.0000</td><td style=\"background-color: rgb(254.7665, 255,254.7665);\">0.0009</td><td style=\"background-color: rgb(254.6147, 255,254.6147);\">0.0015</td><td style=\"background-color: rgb(246.8740, 255,246.8740);\">0.0319</td><td style=\"background-color: rgb(236.7378, 255,236.7378);\">0.0716</td><td style=\"background-color: rgb(27.0189, 255,27.0189);\">0.8940</td></tr><tr><td><b>fn+h->h</b></td><td style=\"background-color: rgb(17.5728, 255,17.5728);\">0.9311</td><td style=\"background-color: rgb(237.4272, 255,237.4272);\">0.0689</td><td style=\"background-color: rgb(255.0000, 255,255.0000);\">0.0000</td><td style=\"background-color: rgb(255.0000, 255,255.0000);\">0.0000</td><td style=\"background-color: rgb(255.0000, 255,255.0000);\">0.0000</td><td style=\"background-color: rgb(255.0000, 255,255.0000);\">0.0000</td><td style=\"background-color: rgb(255.0000, 255,255.0000);\">0.0000</td></tr></table>"
      ],
      "text/plain": [
       "<IPython.core.display.HTML object>"
      ]
     },
     "metadata": {},
     "output_type": "display_data"
    },
    {
     "name": "stdout",
     "output_type": "stream",
     "text": [
      "true Bringing pred_h Bringing pred_fnh Bringing\n"
     ]
    },
    {
     "data": {
      "text/html": [
       "<table><tr><td><b>words</b></td><td style=\"background-color: rgb(255,255,255);\">bring</td><td style=\"background-color: rgb(255,255,255);\">me</td><td style=\"background-color: rgb(255,255,255);\">the</td><td style=\"background-color: rgb(255,255,255);\">towel</td><td style=\"background-color: rgb(255,255,255);\">from</td><td style=\"background-color: rgb(255,255,255);\">the</td><td style=\"background-color: rgb(255,255,255);\">bathroom</td></tr><tr><td><b>lu</b></td><td style=\"background-color: rgb(0.0000, 255,0.0000);\">1.0000</td><td style=\"background-color: rgb(255.0000, 255,255.0000);\">0.0000</td><td style=\"background-color: rgb(255.0000, 255,255.0000);\">0.0000</td><td style=\"background-color: rgb(255.0000, 255,255.0000);\">0.0000</td><td style=\"background-color: rgb(255.0000, 255,255.0000);\">0.0000</td><td style=\"background-color: rgb(255.0000, 255,255.0000);\">0.0000</td><td style=\"background-color: rgb(255.0000, 255,255.0000);\">0.0000</td></tr><tr><td><b>h->h</b></td><td style=\"background-color: rgb(254.9999, 255,254.9999);\">0.0000</td><td style=\"background-color: rgb(254.9883, 255,254.9883);\">0.0000</td><td style=\"background-color: rgb(254.7154, 255,254.7154);\">0.0011</td><td style=\"background-color: rgb(254.4180, 255,254.4180);\">0.0023</td><td style=\"background-color: rgb(242.5579, 255,242.5579);\">0.0488</td><td style=\"background-color: rgb(220.0377, 255,220.0377);\">0.1371</td><td style=\"background-color: rgb(48.2835, 255,48.2835);\">0.8107</td></tr><tr><td><b>fn+h->h</b></td><td style=\"background-color: rgb(21.2856, 255,21.2856);\">0.9165</td><td style=\"background-color: rgb(233.7144, 255,233.7144);\">0.0835</td><td style=\"background-color: rgb(255.0000, 255,255.0000);\">0.0000</td><td style=\"background-color: rgb(255.0000, 255,255.0000);\">0.0000</td><td style=\"background-color: rgb(255.0000, 255,255.0000);\">0.0000</td><td style=\"background-color: rgb(255.0000, 255,255.0000);\">0.0000</td><td style=\"background-color: rgb(255.0000, 255,255.0000);\">0.0000</td></tr></table>"
      ],
      "text/plain": [
       "<IPython.core.display.HTML object>"
      ]
     },
     "metadata": {},
     "output_type": "display_data"
    },
    {
     "name": "stdout",
     "output_type": "stream",
     "text": [
      "true Following pred_h Following pred_fnh Following\n"
     ]
    },
    {
     "data": {
      "text/html": [
       "<table><tr><td><b>words</b></td><td style=\"background-color: rgb(255,255,255);\">please</td><td style=\"background-color: rgb(255,255,255);\">follow</td><td style=\"background-color: rgb(255,255,255);\">me</td></tr><tr><td><b>lu</b></td><td style=\"background-color: rgb(255.0000, 255,255.0000);\">0.0000</td><td style=\"background-color: rgb(0.0000, 255,0.0000);\">1.0000</td><td style=\"background-color: rgb(255.0000, 255,255.0000);\">0.0000</td></tr><tr><td><b>h->h</b></td><td style=\"background-color: rgb(255.0000, 255,255.0000);\">0.0000</td><td style=\"background-color: rgb(252.9088, 255,252.9088);\">0.0082</td><td style=\"background-color: rgb(2.1094, 255,2.1094);\">0.9917</td></tr><tr><td><b>fn+h->h</b></td><td style=\"background-color: rgb(255.0000, 255,255.0000);\">0.0000</td><td style=\"background-color: rgb(0.0940, 255,0.0940);\">0.9996</td><td style=\"background-color: rgb(254.9060, 255,254.9060);\">0.0004</td></tr></table>"
      ],
      "text/plain": [
       "<IPython.core.display.HTML object>"
      ]
     },
     "metadata": {},
     "output_type": "display_data"
    },
    {
     "name": "stdout",
     "output_type": "stream",
     "text": [
      "true Searching pred_h Searching pred_fnh Searching\n"
     ]
    },
    {
     "data": {
      "text/html": [
       "<table><tr><td><b>words</b></td><td style=\"background-color: rgb(255,255,255);\">could</td><td style=\"background-color: rgb(255,255,255);\">you</td><td style=\"background-color: rgb(255,255,255);\">find</td><td style=\"background-color: rgb(255,255,255);\">a</td><td style=\"background-color: rgb(255,255,255);\">glass</td><td style=\"background-color: rgb(255,255,255);\">in</td><td style=\"background-color: rgb(255,255,255);\">the</td><td style=\"background-color: rgb(255,255,255);\">dining</td><td style=\"background-color: rgb(255,255,255);\">room</td></tr><tr><td><b>lu</b></td><td style=\"background-color: rgb(255.0000, 255,255.0000);\">0.0000</td><td style=\"background-color: rgb(255.0000, 255,255.0000);\">0.0000</td><td style=\"background-color: rgb(0.0000, 255,0.0000);\">1.0000</td><td style=\"background-color: rgb(255.0000, 255,255.0000);\">0.0000</td><td style=\"background-color: rgb(255.0000, 255,255.0000);\">0.0000</td><td style=\"background-color: rgb(255.0000, 255,255.0000);\">0.0000</td><td style=\"background-color: rgb(255.0000, 255,255.0000);\">0.0000</td><td style=\"background-color: rgb(255.0000, 255,255.0000);\">0.0000</td><td style=\"background-color: rgb(255.0000, 255,255.0000);\">0.0000</td></tr><tr><td><b>h->h</b></td><td style=\"background-color: rgb(255.0000, 255,255.0000);\">0.0000</td><td style=\"background-color: rgb(255.0000, 255,255.0000);\">0.0000</td><td style=\"background-color: rgb(254.9997, 255,254.9997);\">0.0000</td><td style=\"background-color: rgb(254.8841, 255,254.8841);\">0.0005</td><td style=\"background-color: rgb(254.9431, 255,254.9431);\">0.0002</td><td style=\"background-color: rgb(248.5204, 255,248.5204);\">0.0254</td><td style=\"background-color: rgb(183.8348, 255,183.8348);\">0.2791</td><td style=\"background-color: rgb(153.5045, 255,153.5045);\">0.3980</td><td style=\"background-color: rgb(179.3139, 255,179.3139);\">0.2968</td></tr><tr><td><b>fn+h->h</b></td><td style=\"background-color: rgb(255.0000, 255,255.0000);\">0.0000</td><td style=\"background-color: rgb(255.0000, 255,255.0000);\">0.0000</td><td style=\"background-color: rgb(0.0000, 255,0.0000);\">1.0000</td><td style=\"background-color: rgb(255.0000, 255,255.0000);\">0.0000</td><td style=\"background-color: rgb(255.0000, 255,255.0000);\">0.0000</td><td style=\"background-color: rgb(255.0000, 255,255.0000);\">0.0000</td><td style=\"background-color: rgb(255.0000, 255,255.0000);\">0.0000</td><td style=\"background-color: rgb(255.0000, 255,255.0000);\">0.0000</td><td style=\"background-color: rgb(255.0000, 255,255.0000);\">0.0000</td></tr></table>"
      ],
      "text/plain": [
       "<IPython.core.display.HTML object>"
      ]
     },
     "metadata": {},
     "output_type": "display_data"
    },
    {
     "name": "stdout",
     "output_type": "stream",
     "text": [
      "true Motion pred_h Motion pred_fnh Motion\n"
     ]
    },
    {
     "data": {
      "text/html": [
       "<table><tr><td><b>words</b></td><td style=\"background-color: rgb(255,255,255);\">please</td><td style=\"background-color: rgb(255,255,255);\">move</td><td style=\"background-color: rgb(255,255,255);\">to</td><td style=\"background-color: rgb(255,255,255);\">the</td><td style=\"background-color: rgb(255,255,255);\">fridge</td></tr><tr><td><b>lu</b></td><td style=\"background-color: rgb(255.0000, 255,255.0000);\">0.0000</td><td style=\"background-color: rgb(0.0000, 255,0.0000);\">1.0000</td><td style=\"background-color: rgb(255.0000, 255,255.0000);\">0.0000</td><td style=\"background-color: rgb(255.0000, 255,255.0000);\">0.0000</td><td style=\"background-color: rgb(255.0000, 255,255.0000);\">0.0000</td></tr><tr><td><b>h->h</b></td><td style=\"background-color: rgb(255.0000, 255,255.0000);\">0.0000</td><td style=\"background-color: rgb(254.9992, 255,254.9992);\">0.0000</td><td style=\"background-color: rgb(252.1258, 255,252.1258);\">0.0113</td><td style=\"background-color: rgb(72.2596, 255,72.2596);\">0.7166</td><td style=\"background-color: rgb(185.6167, 255,185.6167);\">0.2721</td></tr><tr><td><b>fn+h->h</b></td><td style=\"background-color: rgb(255.0000, 255,255.0000);\">0.0000</td><td style=\"background-color: rgb(0.0004, 255,0.0004);\">1.0000</td><td style=\"background-color: rgb(254.9996, 255,254.9996);\">0.0000</td><td style=\"background-color: rgb(255.0000, 255,255.0000);\">0.0000</td><td style=\"background-color: rgb(255.0000, 255,255.0000);\">0.0000</td></tr></table>"
      ],
      "text/plain": [
       "<IPython.core.display.HTML object>"
      ]
     },
     "metadata": {},
     "output_type": "display_data"
    },
    {
     "name": "stdout",
     "output_type": "stream",
     "text": [
      "true Motion pred_h Motion pred_fnh Motion\n"
     ]
    },
    {
     "data": {
      "text/html": [
       "<table><tr><td><b>words</b></td><td style=\"background-color: rgb(255,255,255);\">go</td><td style=\"background-color: rgb(255,255,255);\">to</td><td style=\"background-color: rgb(255,255,255);\">the</td><td style=\"background-color: rgb(255,255,255);\">dining</td><td style=\"background-color: rgb(255,255,255);\">table</td></tr><tr><td><b>lu</b></td><td style=\"background-color: rgb(0.0000, 255,0.0000);\">1.0000</td><td style=\"background-color: rgb(255.0000, 255,255.0000);\">0.0000</td><td style=\"background-color: rgb(255.0000, 255,255.0000);\">0.0000</td><td style=\"background-color: rgb(255.0000, 255,255.0000);\">0.0000</td><td style=\"background-color: rgb(255.0000, 255,255.0000);\">0.0000</td></tr><tr><td><b>h->h</b></td><td style=\"background-color: rgb(254.9999, 255,254.9999);\">0.0000</td><td style=\"background-color: rgb(254.1636, 255,254.1636);\">0.0033</td><td style=\"background-color: rgb(180.0610, 255,180.0610);\">0.2939</td><td style=\"background-color: rgb(123.2377, 255,123.2377);\">0.5167</td><td style=\"background-color: rgb(207.5382, 255,207.5382);\">0.1861</td></tr><tr><td><b>fn+h->h</b></td><td style=\"background-color: rgb(0.0179, 255,0.0179);\">0.9999</td><td style=\"background-color: rgb(254.9821, 255,254.9821);\">0.0001</td><td style=\"background-color: rgb(255.0000, 255,255.0000);\">0.0000</td><td style=\"background-color: rgb(255.0000, 255,255.0000);\">0.0000</td><td style=\"background-color: rgb(255.0000, 255,255.0000);\">0.0000</td></tr></table>"
      ],
      "text/plain": [
       "<IPython.core.display.HTML object>"
      ]
     },
     "metadata": {},
     "output_type": "display_data"
    },
    {
     "name": "stdout",
     "output_type": "stream",
     "text": [
      "true Taking pred_h Taking pred_fnh Taking\n"
     ]
    },
    {
     "data": {
      "text/html": [
       "<table><tr><td><b>words</b></td><td style=\"background-color: rgb(255,255,255);\">robot</td><td style=\"background-color: rgb(255,255,255);\">go</td><td style=\"background-color: rgb(255,255,255);\">get</td><td style=\"background-color: rgb(255,255,255);\">a</td><td style=\"background-color: rgb(255,255,255);\">book</td><td style=\"background-color: rgb(255,255,255);\">for</td><td style=\"background-color: rgb(255,255,255);\">me</td></tr><tr><td><b>lu</b></td><td style=\"background-color: rgb(255.0000, 255,255.0000);\">0.0000</td><td style=\"background-color: rgb(255.0000, 255,255.0000);\">0.0000</td><td style=\"background-color: rgb(0.0000, 255,0.0000);\">1.0000</td><td style=\"background-color: rgb(255.0000, 255,255.0000);\">0.0000</td><td style=\"background-color: rgb(255.0000, 255,255.0000);\">0.0000</td><td style=\"background-color: rgb(255.0000, 255,255.0000);\">0.0000</td><td style=\"background-color: rgb(255.0000, 255,255.0000);\">0.0000</td></tr><tr><td><b>h->h</b></td><td style=\"background-color: rgb(255.0000, 255,255.0000);\">0.0000</td><td style=\"background-color: rgb(255.0000, 255,255.0000);\">0.0000</td><td style=\"background-color: rgb(254.6757, 255,254.6757);\">0.0013</td><td style=\"background-color: rgb(243.2328, 255,243.2328);\">0.0461</td><td style=\"background-color: rgb(252.1236, 255,252.1236);\">0.0113</td><td style=\"background-color: rgb(16.9401, 255,16.9401);\">0.9336</td><td style=\"background-color: rgb(253.0640, 255,253.0640);\">0.0076</td></tr><tr><td><b>fn+h->h</b></td><td style=\"background-color: rgb(255.0000, 255,255.0000);\">0.0000</td><td style=\"background-color: rgb(255.0000, 255,255.0000);\">0.0000</td><td style=\"background-color: rgb(0.0029, 255,0.0029);\">1.0000</td><td style=\"background-color: rgb(255.0000, 255,255.0000);\">0.0000</td><td style=\"background-color: rgb(255.0000, 255,255.0000);\">0.0000</td><td style=\"background-color: rgb(254.9992, 255,254.9992);\">0.0000</td><td style=\"background-color: rgb(254.9980, 255,254.9980);\">0.0000</td></tr></table>"
      ],
      "text/plain": [
       "<IPython.core.display.HTML object>"
      ]
     },
     "metadata": {},
     "output_type": "display_data"
    },
    {
     "name": "stdout",
     "output_type": "stream",
     "text": [
      "true Motion pred_h Motion pred_fnh Motion\n"
     ]
    },
    {
     "data": {
      "text/html": [
       "<table><tr><td><b>words</b></td><td style=\"background-color: rgb(255,255,255);\">can</td><td style=\"background-color: rgb(255,255,255);\">you</td><td style=\"background-color: rgb(255,255,255);\">go</td><td style=\"background-color: rgb(255,255,255);\">to</td><td style=\"background-color: rgb(255,255,255);\">the</td><td style=\"background-color: rgb(255,255,255);\">bathroom</td></tr><tr><td><b>lu</b></td><td style=\"background-color: rgb(255.0000, 255,255.0000);\">0.0000</td><td style=\"background-color: rgb(255.0000, 255,255.0000);\">0.0000</td><td style=\"background-color: rgb(0.0000, 255,0.0000);\">1.0000</td><td style=\"background-color: rgb(255.0000, 255,255.0000);\">0.0000</td><td style=\"background-color: rgb(255.0000, 255,255.0000);\">0.0000</td><td style=\"background-color: rgb(255.0000, 255,255.0000);\">0.0000</td></tr><tr><td><b>h->h</b></td><td style=\"background-color: rgb(255.0000, 255,255.0000);\">0.0000</td><td style=\"background-color: rgb(255.0000, 255,255.0000);\">0.0000</td><td style=\"background-color: rgb(254.9999, 255,254.9999);\">0.0000</td><td style=\"background-color: rgb(253.0359, 255,253.0359);\">0.0077</td><td style=\"background-color: rgb(40.1533, 255,40.1533);\">0.8425</td><td style=\"background-color: rgb(216.8117, 255,216.8117);\">0.1498</td></tr><tr><td><b>fn+h->h</b></td><td style=\"background-color: rgb(255.0000, 255,255.0000);\">0.0000</td><td style=\"background-color: rgb(255.0000, 255,255.0000);\">0.0000</td><td style=\"background-color: rgb(2.7870, 255,2.7870);\">0.9891</td><td style=\"background-color: rgb(252.2130, 255,252.2130);\">0.0109</td><td style=\"background-color: rgb(255.0000, 255,255.0000);\">0.0000</td><td style=\"background-color: rgb(255.0000, 255,255.0000);\">0.0000</td></tr></table>"
      ],
      "text/plain": [
       "<IPython.core.display.HTML object>"
      ]
     },
     "metadata": {},
     "output_type": "display_data"
    },
    {
     "name": "stdout",
     "output_type": "stream",
     "text": [
      "true Following pred_h Following pred_fnh Following\n"
     ]
    },
    {
     "data": {
      "text/html": [
       "<table><tr><td><b>words</b></td><td style=\"background-color: rgb(255,255,255);\">go</td><td style=\"background-color: rgb(255,255,255);\">follow</td><td style=\"background-color: rgb(255,255,255);\">my</td><td style=\"background-color: rgb(255,255,255);\">sister</td><td style=\"background-color: rgb(255,255,255);\">around</td><td style=\"background-color: rgb(255,255,255);\">the</td><td style=\"background-color: rgb(255,255,255);\">house</td></tr><tr><td><b>lu</b></td><td style=\"background-color: rgb(255.0000, 255,255.0000);\">0.0000</td><td style=\"background-color: rgb(0.0000, 255,0.0000);\">1.0000</td><td style=\"background-color: rgb(255.0000, 255,255.0000);\">0.0000</td><td style=\"background-color: rgb(255.0000, 255,255.0000);\">0.0000</td><td style=\"background-color: rgb(255.0000, 255,255.0000);\">0.0000</td><td style=\"background-color: rgb(255.0000, 255,255.0000);\">0.0000</td><td style=\"background-color: rgb(255.0000, 255,255.0000);\">0.0000</td></tr><tr><td><b>h->h</b></td><td style=\"background-color: rgb(255.0000, 255,255.0000);\">0.0000</td><td style=\"background-color: rgb(254.9559, 255,254.9559);\">0.0002</td><td style=\"background-color: rgb(251.6209, 255,251.6209);\">0.0133</td><td style=\"background-color: rgb(254.9778, 255,254.9778);\">0.0001</td><td style=\"background-color: rgb(244.7691, 255,244.7691);\">0.0401</td><td style=\"background-color: rgb(69.9860, 255,69.9860);\">0.7255</td><td style=\"background-color: rgb(198.6924, 255,198.6924);\">0.2208</td></tr><tr><td><b>fn+h->h</b></td><td style=\"background-color: rgb(255.0000, 255,255.0000);\">0.0000</td><td style=\"background-color: rgb(0.0000, 255,0.0000);\">1.0000</td><td style=\"background-color: rgb(255.0000, 255,255.0000);\">0.0000</td><td style=\"background-color: rgb(255.0000, 255,255.0000);\">0.0000</td><td style=\"background-color: rgb(255.0000, 255,255.0000);\">0.0000</td><td style=\"background-color: rgb(255.0000, 255,255.0000);\">0.0000</td><td style=\"background-color: rgb(255.0000, 255,255.0000);\">0.0000</td></tr></table>"
      ],
      "text/plain": [
       "<IPython.core.display.HTML object>"
      ]
     },
     "metadata": {},
     "output_type": "display_data"
    },
    {
     "name": "stdout",
     "output_type": "stream",
     "text": [
      "true Taking pred_h Taking pred_fnh Taking\n"
     ]
    },
    {
     "data": {
      "text/html": [
       "<table><tr><td><b>words</b></td><td style=\"background-color: rgb(255,255,255);\">can</td><td style=\"background-color: rgb(255,255,255);\">you</td><td style=\"background-color: rgb(255,255,255);\">grab</td><td style=\"background-color: rgb(255,255,255);\">my</td><td style=\"background-color: rgb(255,255,255);\">wine</td><td style=\"background-color: rgb(255,255,255);\">glass</td><td style=\"background-color: rgb(255,255,255);\">from</td><td style=\"background-color: rgb(255,255,255);\">the</td><td style=\"background-color: rgb(255,255,255);\">dining</td><td style=\"background-color: rgb(255,255,255);\">room</td></tr><tr><td><b>lu</b></td><td style=\"background-color: rgb(255.0000, 255,255.0000);\">0.0000</td><td style=\"background-color: rgb(255.0000, 255,255.0000);\">0.0000</td><td style=\"background-color: rgb(0.0000, 255,0.0000);\">1.0000</td><td style=\"background-color: rgb(255.0000, 255,255.0000);\">0.0000</td><td style=\"background-color: rgb(255.0000, 255,255.0000);\">0.0000</td><td style=\"background-color: rgb(255.0000, 255,255.0000);\">0.0000</td><td style=\"background-color: rgb(255.0000, 255,255.0000);\">0.0000</td><td style=\"background-color: rgb(255.0000, 255,255.0000);\">0.0000</td><td style=\"background-color: rgb(255.0000, 255,255.0000);\">0.0000</td><td style=\"background-color: rgb(255.0000, 255,255.0000);\">0.0000</td></tr><tr><td><b>h->h</b></td><td style=\"background-color: rgb(255.0000, 255,255.0000);\">0.0000</td><td style=\"background-color: rgb(255.0000, 255,255.0000);\">0.0000</td><td style=\"background-color: rgb(254.9660, 255,254.9660);\">0.0001</td><td style=\"background-color: rgb(251.3052, 255,251.3052);\">0.0145</td><td style=\"background-color: rgb(254.6170, 255,254.6170);\">0.0015</td><td style=\"background-color: rgb(254.9969, 255,254.9969);\">0.0000</td><td style=\"background-color: rgb(254.5125, 255,254.5125);\">0.0019</td><td style=\"background-color: rgb(106.8645, 255,106.8645);\">0.5809</td><td style=\"background-color: rgb(153.2348, 255,153.2348);\">0.3991</td><td style=\"background-color: rgb(254.5173, 255,254.5173);\">0.0019</td></tr><tr><td><b>fn+h->h</b></td><td style=\"background-color: rgb(255.0000, 255,255.0000);\">0.0000</td><td style=\"background-color: rgb(255.0000, 255,255.0000);\">0.0000</td><td style=\"background-color: rgb(0.0275, 255,0.0275);\">0.9999</td><td style=\"background-color: rgb(255.0000, 255,255.0000);\">0.0000</td><td style=\"background-color: rgb(255.0000, 255,255.0000);\">0.0000</td><td style=\"background-color: rgb(254.9989, 255,254.9989);\">0.0000</td><td style=\"background-color: rgb(254.9736, 255,254.9736);\">0.0001</td><td style=\"background-color: rgb(255.0000, 255,255.0000);\">0.0000</td><td style=\"background-color: rgb(255.0000, 255,255.0000);\">0.0000</td><td style=\"background-color: rgb(255.0000, 255,255.0000);\">0.0000</td></tr></table>"
      ],
      "text/plain": [
       "<IPython.core.display.HTML object>"
      ]
     },
     "metadata": {},
     "output_type": "display_data"
    },
    {
     "name": "stdout",
     "output_type": "stream",
     "text": [
      "true Motion pred_h Motion pred_fnh Motion\n"
     ]
    },
    {
     "data": {
      "text/html": [
       "<table><tr><td><b>words</b></td><td style=\"background-color: rgb(255,255,255);\">can</td><td style=\"background-color: rgb(255,255,255);\">you</td><td style=\"background-color: rgb(255,255,255);\">go</td><td style=\"background-color: rgb(255,255,255);\">to</td><td style=\"background-color: rgb(255,255,255);\">the</td><td style=\"background-color: rgb(255,255,255);\">kitchen</td></tr><tr><td><b>lu</b></td><td style=\"background-color: rgb(255.0000, 255,255.0000);\">0.0000</td><td style=\"background-color: rgb(255.0000, 255,255.0000);\">0.0000</td><td style=\"background-color: rgb(0.0000, 255,0.0000);\">1.0000</td><td style=\"background-color: rgb(255.0000, 255,255.0000);\">0.0000</td><td style=\"background-color: rgb(255.0000, 255,255.0000);\">0.0000</td><td style=\"background-color: rgb(255.0000, 255,255.0000);\">0.0000</td></tr><tr><td><b>h->h</b></td><td style=\"background-color: rgb(255.0000, 255,255.0000);\">0.0000</td><td style=\"background-color: rgb(255.0000, 255,255.0000);\">0.0000</td><td style=\"background-color: rgb(254.9999, 255,254.9999);\">0.0000</td><td style=\"background-color: rgb(252.8219, 255,252.8219);\">0.0085</td><td style=\"background-color: rgb(54.4437, 255,54.4437);\">0.7865</td><td style=\"background-color: rgb(202.7354, 255,202.7354);\">0.2050</td></tr><tr><td><b>fn+h->h</b></td><td style=\"background-color: rgb(255.0000, 255,255.0000);\">0.0000</td><td style=\"background-color: rgb(255.0000, 255,255.0000);\">0.0000</td><td style=\"background-color: rgb(1.3666, 255,1.3666);\">0.9946</td><td style=\"background-color: rgb(253.6334, 255,253.6334);\">0.0054</td><td style=\"background-color: rgb(255.0000, 255,255.0000);\">0.0000</td><td style=\"background-color: rgb(255.0000, 255,255.0000);\">0.0000</td></tr></table>"
      ],
      "text/plain": [
       "<IPython.core.display.HTML object>"
      ]
     },
     "metadata": {},
     "output_type": "display_data"
    },
    {
     "name": "stdout",
     "output_type": "stream",
     "text": [
      "true Bringing pred_h Bringing pred_fnh Bringing\n"
     ]
    },
    {
     "data": {
      "text/html": [
       "<table><tr><td><b>words</b></td><td style=\"background-color: rgb(255,255,255);\">bring</td><td style=\"background-color: rgb(255,255,255);\">me</td><td style=\"background-color: rgb(255,255,255);\">some</td><td style=\"background-color: rgb(255,255,255);\">bread</td><td style=\"background-color: rgb(255,255,255);\">from</td><td style=\"background-color: rgb(255,255,255);\">the</td><td style=\"background-color: rgb(255,255,255);\">pantry</td></tr><tr><td><b>lu</b></td><td style=\"background-color: rgb(0.0000, 255,0.0000);\">1.0000</td><td style=\"background-color: rgb(255.0000, 255,255.0000);\">0.0000</td><td style=\"background-color: rgb(255.0000, 255,255.0000);\">0.0000</td><td style=\"background-color: rgb(255.0000, 255,255.0000);\">0.0000</td><td style=\"background-color: rgb(255.0000, 255,255.0000);\">0.0000</td><td style=\"background-color: rgb(255.0000, 255,255.0000);\">0.0000</td><td style=\"background-color: rgb(255.0000, 255,255.0000);\">0.0000</td></tr><tr><td><b>h->h</b></td><td style=\"background-color: rgb(254.9999, 255,254.9999);\">0.0000</td><td style=\"background-color: rgb(254.9930, 255,254.9930);\">0.0000</td><td style=\"background-color: rgb(254.9014, 255,254.9014);\">0.0004</td><td style=\"background-color: rgb(254.8293, 255,254.8293);\">0.0007</td><td style=\"background-color: rgb(244.9277, 255,244.9277);\">0.0395</td><td style=\"background-color: rgb(235.9811, 255,235.9811);\">0.0746</td><td style=\"background-color: rgb(29.3684, 255,29.3684);\">0.8848</td></tr><tr><td><b>fn+h->h</b></td><td style=\"background-color: rgb(39.4793, 255,39.4793);\">0.8452</td><td style=\"background-color: rgb(215.5207, 255,215.5207);\">0.1548</td><td style=\"background-color: rgb(255.0000, 255,255.0000);\">0.0000</td><td style=\"background-color: rgb(255.0000, 255,255.0000);\">0.0000</td><td style=\"background-color: rgb(255.0000, 255,255.0000);\">0.0000</td><td style=\"background-color: rgb(255.0000, 255,255.0000);\">0.0000</td><td style=\"background-color: rgb(255.0000, 255,255.0000);\">0.0000</td></tr></table>"
      ],
      "text/plain": [
       "<IPython.core.display.HTML object>"
      ]
     },
     "metadata": {},
     "output_type": "display_data"
    },
    {
     "name": "stdout",
     "output_type": "stream",
     "text": [
      "true Motion pred_h Motion pred_fnh Motion\n"
     ]
    },
    {
     "data": {
      "text/html": [
       "<table><tr><td><b>words</b></td><td style=\"background-color: rgb(255,255,255);\">go</td><td style=\"background-color: rgb(255,255,255);\">to</td><td style=\"background-color: rgb(255,255,255);\">the</td><td style=\"background-color: rgb(255,255,255);\">fridge</td><td style=\"background-color: rgb(255,255,255);\">inside</td><td style=\"background-color: rgb(255,255,255);\">the</td><td style=\"background-color: rgb(255,255,255);\">kitchen</td></tr><tr><td><b>lu</b></td><td style=\"background-color: rgb(0.0000, 255,0.0000);\">1.0000</td><td style=\"background-color: rgb(255.0000, 255,255.0000);\">0.0000</td><td style=\"background-color: rgb(255.0000, 255,255.0000);\">0.0000</td><td style=\"background-color: rgb(255.0000, 255,255.0000);\">0.0000</td><td style=\"background-color: rgb(255.0000, 255,255.0000);\">0.0000</td><td style=\"background-color: rgb(255.0000, 255,255.0000);\">0.0000</td><td style=\"background-color: rgb(255.0000, 255,255.0000);\">0.0000</td></tr><tr><td><b>h->h</b></td><td style=\"background-color: rgb(255.0000, 255,255.0000);\">0.0000</td><td style=\"background-color: rgb(254.8007, 255,254.8007);\">0.0008</td><td style=\"background-color: rgb(251.5997, 255,251.5997);\">0.0133</td><td style=\"background-color: rgb(251.8414, 255,251.8414);\">0.0124</td><td style=\"background-color: rgb(198.2919, 255,198.2919);\">0.2224</td><td style=\"background-color: rgb(72.1510, 255,72.1510);\">0.7171</td><td style=\"background-color: rgb(246.3160, 255,246.3160);\">0.0341</td></tr><tr><td><b>fn+h->h</b></td><td style=\"background-color: rgb(0.0004, 255,0.0004);\">1.0000</td><td style=\"background-color: rgb(254.9998, 255,254.9998);\">0.0000</td><td style=\"background-color: rgb(255.0000, 255,255.0000);\">0.0000</td><td style=\"background-color: rgb(255.0000, 255,255.0000);\">0.0000</td><td style=\"background-color: rgb(254.9998, 255,254.9998);\">0.0000</td><td style=\"background-color: rgb(255.0000, 255,255.0000);\">0.0000</td><td style=\"background-color: rgb(255.0000, 255,255.0000);\">0.0000</td></tr></table>"
      ],
      "text/plain": [
       "<IPython.core.display.HTML object>"
      ]
     },
     "metadata": {},
     "output_type": "display_data"
    },
    {
     "name": "stdout",
     "output_type": "stream",
     "text": [
      "true Following pred_h Following pred_fnh Following\n"
     ]
    },
    {
     "data": {
      "text/html": [
       "<table><tr><td><b>words</b></td><td style=\"background-color: rgb(255,255,255);\">can</td><td style=\"background-color: rgb(255,255,255);\">you</td><td style=\"background-color: rgb(255,255,255);\">please</td><td style=\"background-color: rgb(255,255,255);\">follow</td><td style=\"background-color: rgb(255,255,255);\">that</td><td style=\"background-color: rgb(255,255,255);\">guy</td><td style=\"background-color: rgb(255,255,255);\">over</td><td style=\"background-color: rgb(255,255,255);\">there</td></tr><tr><td><b>lu</b></td><td style=\"background-color: rgb(255.0000, 255,255.0000);\">0.0000</td><td style=\"background-color: rgb(255.0000, 255,255.0000);\">0.0000</td><td style=\"background-color: rgb(255.0000, 255,255.0000);\">0.0000</td><td style=\"background-color: rgb(0.0000, 255,0.0000);\">1.0000</td><td style=\"background-color: rgb(255.0000, 255,255.0000);\">0.0000</td><td style=\"background-color: rgb(255.0000, 255,255.0000);\">0.0000</td><td style=\"background-color: rgb(255.0000, 255,255.0000);\">0.0000</td><td style=\"background-color: rgb(255.0000, 255,255.0000);\">0.0000</td></tr><tr><td><b>h->h</b></td><td style=\"background-color: rgb(255.0000, 255,255.0000);\">0.0000</td><td style=\"background-color: rgb(255.0000, 255,255.0000);\">0.0000</td><td style=\"background-color: rgb(255.0000, 255,255.0000);\">0.0000</td><td style=\"background-color: rgb(254.9506, 255,254.9506);\">0.0002</td><td style=\"background-color: rgb(254.5443, 255,254.5443);\">0.0018</td><td style=\"background-color: rgb(254.0065, 255,254.0065);\">0.0039</td><td style=\"background-color: rgb(63.5345, 255,63.5345);\">0.7508</td><td style=\"background-color: rgb(192.9688, 255,192.9688);\">0.2433</td></tr><tr><td><b>fn+h->h</b></td><td style=\"background-color: rgb(255.0000, 255,255.0000);\">0.0000</td><td style=\"background-color: rgb(255.0000, 255,255.0000);\">0.0000</td><td style=\"background-color: rgb(255.0000, 255,255.0000);\">0.0000</td><td style=\"background-color: rgb(0.0000, 255,0.0000);\">1.0000</td><td style=\"background-color: rgb(255.0000, 255,255.0000);\">0.0000</td><td style=\"background-color: rgb(255.0000, 255,255.0000);\">0.0000</td><td style=\"background-color: rgb(255.0000, 255,255.0000);\">0.0000</td><td style=\"background-color: rgb(255.0000, 255,255.0000);\">0.0000</td></tr></table>"
      ],
      "text/plain": [
       "<IPython.core.display.HTML object>"
      ]
     },
     "metadata": {},
     "output_type": "display_data"
    },
    {
     "name": "stdout",
     "output_type": "stream",
     "text": [
      "true Taking pred_h Taking pred_fnh Taking\n"
     ]
    },
    {
     "data": {
      "text/html": [
       "<table><tr><td><b>words</b></td><td style=\"background-color: rgb(255,255,255);\">take</td><td style=\"background-color: rgb(255,255,255);\">my</td><td style=\"background-color: rgb(255,255,255);\">phone</td></tr><tr><td><b>lu</b></td><td style=\"background-color: rgb(0.0000, 255,0.0000);\">1.0000</td><td style=\"background-color: rgb(255.0000, 255,255.0000);\">0.0000</td><td style=\"background-color: rgb(255.0000, 255,255.0000);\">0.0000</td></tr><tr><td><b>h->h</b></td><td style=\"background-color: rgb(254.8835, 255,254.8835);\">0.0005</td><td style=\"background-color: rgb(2.0172, 255,2.0172);\">0.9921</td><td style=\"background-color: rgb(253.1691, 255,253.1691);\">0.0072</td></tr><tr><td><b>fn+h->h</b></td><td style=\"background-color: rgb(0.2491, 255,0.2491);\">0.9990</td><td style=\"background-color: rgb(254.7628, 255,254.7628);\">0.0009</td><td style=\"background-color: rgb(254.9881, 255,254.9881);\">0.0000</td></tr></table>"
      ],
      "text/plain": [
       "<IPython.core.display.HTML object>"
      ]
     },
     "metadata": {},
     "output_type": "display_data"
    },
    {
     "name": "stdout",
     "output_type": "stream",
     "text": [
      "true Taking pred_h Taking pred_fnh Taking\n"
     ]
    },
    {
     "data": {
      "text/html": [
       "<table><tr><td><b>words</b></td><td style=\"background-color: rgb(255,255,255);\">get</td><td style=\"background-color: rgb(255,255,255);\">my</td><td style=\"background-color: rgb(255,255,255);\">coat</td><td style=\"background-color: rgb(255,255,255);\">from</td><td style=\"background-color: rgb(255,255,255);\">the</td><td style=\"background-color: rgb(255,255,255);\">closet</td></tr><tr><td><b>lu</b></td><td style=\"background-color: rgb(0.0000, 255,0.0000);\">1.0000</td><td style=\"background-color: rgb(255.0000, 255,255.0000);\">0.0000</td><td style=\"background-color: rgb(255.0000, 255,255.0000);\">0.0000</td><td style=\"background-color: rgb(255.0000, 255,255.0000);\">0.0000</td><td style=\"background-color: rgb(255.0000, 255,255.0000);\">0.0000</td><td style=\"background-color: rgb(255.0000, 255,255.0000);\">0.0000</td></tr><tr><td><b>h->h</b></td><td style=\"background-color: rgb(254.9891, 255,254.9891);\">0.0000</td><td style=\"background-color: rgb(253.9413, 255,253.9413);\">0.0042</td><td style=\"background-color: rgb(254.9724, 255,254.9724);\">0.0001</td><td style=\"background-color: rgb(252.5987, 255,252.5987);\">0.0094</td><td style=\"background-color: rgb(3.9457, 255,3.9457);\">0.9845</td><td style=\"background-color: rgb(254.5608, 255,254.5608);\">0.0017</td></tr><tr><td><b>fn+h->h</b></td><td style=\"background-color: rgb(0.0000, 255,0.0000);\">1.0000</td><td style=\"background-color: rgb(255.0000, 255,255.0000);\">0.0000</td><td style=\"background-color: rgb(255.0000, 255,255.0000);\">0.0000</td><td style=\"background-color: rgb(255.0000, 255,255.0000);\">0.0000</td><td style=\"background-color: rgb(255.0000, 255,255.0000);\">0.0000</td><td style=\"background-color: rgb(255.0000, 255,255.0000);\">0.0000</td></tr></table>"
      ],
      "text/plain": [
       "<IPython.core.display.HTML object>"
      ]
     },
     "metadata": {},
     "output_type": "display_data"
    },
    {
     "name": "stdout",
     "output_type": "stream",
     "text": [
      "true Following pred_h Following pred_fnh Entering\n"
     ]
    },
    {
     "data": {
      "text/html": [
       "<table><tr><td><b>words</b></td><td style=\"background-color: rgb(255,255,255);\">come</td><td style=\"background-color: rgb(255,255,255);\">with</td><td style=\"background-color: rgb(255,255,255);\">me</td></tr><tr><td><b>lu</b></td><td style=\"background-color: rgb(0.0000, 255,0.0000);\">1.0000</td><td style=\"background-color: rgb(255.0000, 255,255.0000);\">0.0000</td><td style=\"background-color: rgb(255.0000, 255,255.0000);\">0.0000</td></tr><tr><td><b>h->h</b></td><td style=\"background-color: rgb(254.9524, 255,254.9524);\">0.0002</td><td style=\"background-color: rgb(192.6882, 255,192.6882);\">0.2444</td><td style=\"background-color: rgb(62.3821, 255,62.3821);\">0.7554</td></tr><tr><td><b>fn+h->h</b></td><td style=\"background-color: rgb(0.1976, 255,0.1976);\">0.9992</td><td style=\"background-color: rgb(255.0000, 255,255.0000);\">0.0000</td><td style=\"background-color: rgb(254.8024, 255,254.8024);\">0.0008</td></tr></table>"
      ],
      "text/plain": [
       "<IPython.core.display.HTML object>"
      ]
     },
     "metadata": {},
     "output_type": "display_data"
    },
    {
     "name": "stdout",
     "output_type": "stream",
     "text": [
      "true Searching pred_h Searching pred_fnh Searching\n"
     ]
    },
    {
     "data": {
      "text/html": [
       "<table><tr><td><b>words</b></td><td style=\"background-color: rgb(255,255,255);\">find</td><td style=\"background-color: rgb(255,255,255);\">a</td><td style=\"background-color: rgb(255,255,255);\">plate</td></tr><tr><td><b>lu</b></td><td style=\"background-color: rgb(0.0000, 255,0.0000);\">1.0000</td><td style=\"background-color: rgb(255.0000, 255,255.0000);\">0.0000</td><td style=\"background-color: rgb(255.0000, 255,255.0000);\">0.0000</td></tr><tr><td><b>h->h</b></td><td style=\"background-color: rgb(254.9921, 255,254.9921);\">0.0000</td><td style=\"background-color: rgb(224.6322, 255,224.6322);\">0.1191</td><td style=\"background-color: rgb(30.3766, 255,30.3766);\">0.8809</td></tr><tr><td><b>fn+h->h</b></td><td style=\"background-color: rgb(0.0000, 255,0.0000);\">1.0000</td><td style=\"background-color: rgb(255.0000, 255,255.0000);\">0.0000</td><td style=\"background-color: rgb(255.0000, 255,255.0000);\">0.0000</td></tr></table>"
      ],
      "text/plain": [
       "<IPython.core.display.HTML object>"
      ]
     },
     "metadata": {},
     "output_type": "display_data"
    },
    {
     "name": "stdout",
     "output_type": "stream",
     "text": [
      "true Motion pred_h Motion pred_fnh Motion\n"
     ]
    },
    {
     "data": {
      "text/html": [
       "<table><tr><td><b>words</b></td><td style=\"background-color: rgb(255,255,255);\">go</td><td style=\"background-color: rgb(255,255,255);\">to</td><td style=\"background-color: rgb(255,255,255);\">the</td><td style=\"background-color: rgb(255,255,255);\">bedroom</td></tr><tr><td><b>lu</b></td><td style=\"background-color: rgb(0.0000, 255,0.0000);\">1.0000</td><td style=\"background-color: rgb(255.0000, 255,255.0000);\">0.0000</td><td style=\"background-color: rgb(255.0000, 255,255.0000);\">0.0000</td><td style=\"background-color: rgb(255.0000, 255,255.0000);\">0.0000</td></tr><tr><td><b>h->h</b></td><td style=\"background-color: rgb(254.9997, 255,254.9997);\">0.0000</td><td style=\"background-color: rgb(252.3799, 255,252.3799);\">0.0103</td><td style=\"background-color: rgb(58.6727, 255,58.6727);\">0.7699</td><td style=\"background-color: rgb(198.9485, 255,198.9485);\">0.2198</td></tr><tr><td><b>fn+h->h</b></td><td style=\"background-color: rgb(0.0307, 255,0.0307);\">0.9999</td><td style=\"background-color: rgb(254.9693, 255,254.9693);\">0.0001</td><td style=\"background-color: rgb(255.0000, 255,255.0000);\">0.0000</td><td style=\"background-color: rgb(255.0000, 255,255.0000);\">0.0000</td></tr></table>"
      ],
      "text/plain": [
       "<IPython.core.display.HTML object>"
      ]
     },
     "metadata": {},
     "output_type": "display_data"
    },
    {
     "name": "stdout",
     "output_type": "stream",
     "text": [
      "true Following pred_h Following pred_fnh Following\n"
     ]
    },
    {
     "data": {
      "text/html": [
       "<table><tr><td><b>words</b></td><td style=\"background-color: rgb(255,255,255);\">follow</td><td style=\"background-color: rgb(255,255,255);\">the</td><td style=\"background-color: rgb(255,255,255);\">person</td><td style=\"background-color: rgb(255,255,255);\">in</td><td style=\"background-color: rgb(255,255,255);\">front</td><td style=\"background-color: rgb(255,255,255);\">of</td><td style=\"background-color: rgb(255,255,255);\">me</td></tr><tr><td><b>lu</b></td><td style=\"background-color: rgb(0.0000, 255,0.0000);\">1.0000</td><td style=\"background-color: rgb(255.0000, 255,255.0000);\">0.0000</td><td style=\"background-color: rgb(255.0000, 255,255.0000);\">0.0000</td><td style=\"background-color: rgb(255.0000, 255,255.0000);\">0.0000</td><td style=\"background-color: rgb(255.0000, 255,255.0000);\">0.0000</td><td style=\"background-color: rgb(255.0000, 255,255.0000);\">0.0000</td><td style=\"background-color: rgb(255.0000, 255,255.0000);\">0.0000</td></tr><tr><td><b>h->h</b></td><td style=\"background-color: rgb(254.9643, 255,254.9643);\">0.0001</td><td style=\"background-color: rgb(249.9790, 255,249.9790);\">0.0197</td><td style=\"background-color: rgb(254.3607, 255,254.3607);\">0.0025</td><td style=\"background-color: rgb(235.0776, 255,235.0776);\">0.0781</td><td style=\"background-color: rgb(238.1681, 255,238.1681);\">0.0660</td><td style=\"background-color: rgb(53.1649, 255,53.1649);\">0.7915</td><td style=\"background-color: rgb(244.2887, 255,244.2887);\">0.0420</td></tr><tr><td><b>fn+h->h</b></td><td style=\"background-color: rgb(0.0000, 255,0.0000);\">1.0000</td><td style=\"background-color: rgb(255.0000, 255,255.0000);\">0.0000</td><td style=\"background-color: rgb(255.0000, 255,255.0000);\">0.0000</td><td style=\"background-color: rgb(255.0000, 255,255.0000);\">0.0000</td><td style=\"background-color: rgb(255.0000, 255,255.0000);\">0.0000</td><td style=\"background-color: rgb(255.0000, 255,255.0000);\">0.0000</td><td style=\"background-color: rgb(255.0000, 255,255.0000);\">0.0000</td></tr></table>"
      ],
      "text/plain": [
       "<IPython.core.display.HTML object>"
      ]
     },
     "metadata": {},
     "output_type": "display_data"
    },
    {
     "name": "stdout",
     "output_type": "stream",
     "text": [
      "true Searching pred_h Searching pred_fnh Searching\n"
     ]
    },
    {
     "data": {
      "text/html": [
       "<table><tr><td><b>words</b></td><td style=\"background-color: rgb(255,255,255);\">find</td><td style=\"background-color: rgb(255,255,255);\">the</td><td style=\"background-color: rgb(255,255,255);\">refrigerator</td></tr><tr><td><b>lu</b></td><td style=\"background-color: rgb(0.0000, 255,0.0000);\">1.0000</td><td style=\"background-color: rgb(255.0000, 255,255.0000);\">0.0000</td><td style=\"background-color: rgb(255.0000, 255,255.0000);\">0.0000</td></tr><tr><td><b>h->h</b></td><td style=\"background-color: rgb(254.9682, 255,254.9682);\">0.0001</td><td style=\"background-color: rgb(125.7766, 255,125.7766);\">0.5068</td><td style=\"background-color: rgb(129.2575, 255,129.2575);\">0.4931</td></tr><tr><td><b>fn+h->h</b></td><td style=\"background-color: rgb(0.0000, 255,0.0000);\">1.0000</td><td style=\"background-color: rgb(255.0000, 255,255.0000);\">0.0000</td><td style=\"background-color: rgb(255.0000, 255,255.0000);\">0.0000</td></tr></table>"
      ],
      "text/plain": [
       "<IPython.core.display.HTML object>"
      ]
     },
     "metadata": {},
     "output_type": "display_data"
    },
    {
     "name": "stdout",
     "output_type": "stream",
     "text": [
      "true Motion pred_h Motion pred_fnh Motion\n"
     ]
    },
    {
     "data": {
      "text/html": [
       "<table><tr><td><b>words</b></td><td style=\"background-color: rgb(255,255,255);\">go</td><td style=\"background-color: rgb(255,255,255);\">to</td><td style=\"background-color: rgb(255,255,255);\">the</td><td style=\"background-color: rgb(255,255,255);\">dining</td><td style=\"background-color: rgb(255,255,255);\">room</td></tr><tr><td><b>lu</b></td><td style=\"background-color: rgb(0.0000, 255,0.0000);\">1.0000</td><td style=\"background-color: rgb(255.0000, 255,255.0000);\">0.0000</td><td style=\"background-color: rgb(255.0000, 255,255.0000);\">0.0000</td><td style=\"background-color: rgb(255.0000, 255,255.0000);\">0.0000</td><td style=\"background-color: rgb(255.0000, 255,255.0000);\">0.0000</td></tr><tr><td><b>h->h</b></td><td style=\"background-color: rgb(254.9999, 255,254.9999);\">0.0000</td><td style=\"background-color: rgb(254.1775, 255,254.1775);\">0.0032</td><td style=\"background-color: rgb(178.5180, 255,178.5180);\">0.2999</td><td style=\"background-color: rgb(96.7164, 255,96.7164);\">0.6207</td><td style=\"background-color: rgb(235.5888, 255,235.5888);\">0.0761</td></tr><tr><td><b>fn+h->h</b></td><td style=\"background-color: rgb(0.0139, 255,0.0139);\">0.9999</td><td style=\"background-color: rgb(254.9862, 255,254.9862);\">0.0001</td><td style=\"background-color: rgb(255.0000, 255,255.0000);\">0.0000</td><td style=\"background-color: rgb(255.0000, 255,255.0000);\">0.0000</td><td style=\"background-color: rgb(255.0000, 255,255.0000);\">0.0000</td></tr></table>"
      ],
      "text/plain": [
       "<IPython.core.display.HTML object>"
      ]
     },
     "metadata": {},
     "output_type": "display_data"
    },
    {
     "name": "stdout",
     "output_type": "stream",
     "text": [
      "true Searching pred_h Searching pred_fnh Searching\n"
     ]
    },
    {
     "data": {
      "text/html": [
       "<table><tr><td><b>words</b></td><td style=\"background-color: rgb(255,255,255);\">find</td><td style=\"background-color: rgb(255,255,255);\">the</td><td style=\"background-color: rgb(255,255,255);\">lamp</td><td style=\"background-color: rgb(255,255,255);\">in</td><td style=\"background-color: rgb(255,255,255);\">the</td><td style=\"background-color: rgb(255,255,255);\">living</td><td style=\"background-color: rgb(255,255,255);\">room</td></tr><tr><td><b>lu</b></td><td style=\"background-color: rgb(0.0000, 255,0.0000);\">1.0000</td><td style=\"background-color: rgb(255.0000, 255,255.0000);\">0.0000</td><td style=\"background-color: rgb(255.0000, 255,255.0000);\">0.0000</td><td style=\"background-color: rgb(255.0000, 255,255.0000);\">0.0000</td><td style=\"background-color: rgb(255.0000, 255,255.0000);\">0.0000</td><td style=\"background-color: rgb(255.0000, 255,255.0000);\">0.0000</td><td style=\"background-color: rgb(255.0000, 255,255.0000);\">0.0000</td></tr><tr><td><b>h->h</b></td><td style=\"background-color: rgb(254.9993, 255,254.9993);\">0.0000</td><td style=\"background-color: rgb(254.4974, 255,254.4974);\">0.0020</td><td style=\"background-color: rgb(254.7256, 255,254.7256);\">0.0011</td><td style=\"background-color: rgb(247.9341, 255,247.9341);\">0.0277</td><td style=\"background-color: rgb(191.6815, 255,191.6815);\">0.2483</td><td style=\"background-color: rgb(132.1486, 255,132.1486);\">0.4818</td><td style=\"background-color: rgb(194.0141, 255,194.0141);\">0.2392</td></tr><tr><td><b>fn+h->h</b></td><td style=\"background-color: rgb(0.0000, 255,0.0000);\">1.0000</td><td style=\"background-color: rgb(255.0000, 255,255.0000);\">0.0000</td><td style=\"background-color: rgb(255.0000, 255,255.0000);\">0.0000</td><td style=\"background-color: rgb(255.0000, 255,255.0000);\">0.0000</td><td style=\"background-color: rgb(255.0000, 255,255.0000);\">0.0000</td><td style=\"background-color: rgb(255.0000, 255,255.0000);\">0.0000</td><td style=\"background-color: rgb(255.0000, 255,255.0000);\">0.0000</td></tr></table>"
      ],
      "text/plain": [
       "<IPython.core.display.HTML object>"
      ]
     },
     "metadata": {},
     "output_type": "display_data"
    },
    {
     "name": "stdout",
     "output_type": "stream",
     "text": [
      "true Following pred_h Following pred_fnh Following\n"
     ]
    },
    {
     "data": {
      "text/html": [
       "<table><tr><td><b>words</b></td><td style=\"background-color: rgb(255,255,255);\">follow</td><td style=\"background-color: rgb(255,255,255);\">the</td><td style=\"background-color: rgb(255,255,255);\">man</td><td style=\"background-color: rgb(255,255,255);\">closely</td></tr><tr><td><b>lu</b></td><td style=\"background-color: rgb(0.0000, 255,0.0000);\">1.0000</td><td style=\"background-color: rgb(255.0000, 255,255.0000);\">0.0000</td><td style=\"background-color: rgb(255.0000, 255,255.0000);\">0.0000</td><td style=\"background-color: rgb(255.0000, 255,255.0000);\">0.0000</td></tr><tr><td><b>h->h</b></td><td style=\"background-color: rgb(254.9158, 255,254.9158);\">0.0003</td><td style=\"background-color: rgb(224.2008, 255,224.2008);\">0.1208</td><td style=\"background-color: rgb(216.6038, 255,216.6038);\">0.1506</td><td style=\"background-color: rgb(69.2935, 255,69.2935);\">0.7283</td></tr><tr><td><b>fn+h->h</b></td><td style=\"background-color: rgb(0.0000, 255,0.0000);\">1.0000</td><td style=\"background-color: rgb(255.0000, 255,255.0000);\">0.0000</td><td style=\"background-color: rgb(255.0000, 255,255.0000);\">0.0000</td><td style=\"background-color: rgb(255.0000, 255,255.0000);\">0.0000</td></tr></table>"
      ],
      "text/plain": [
       "<IPython.core.display.HTML object>"
      ]
     },
     "metadata": {},
     "output_type": "display_data"
    },
    {
     "name": "stdout",
     "output_type": "stream",
     "text": [
      "true Bringing pred_h Bringing pred_fnh Bringing\n"
     ]
    },
    {
     "data": {
      "text/html": [
       "<table><tr><td><b>words</b></td><td style=\"background-color: rgb(255,255,255);\">fetch</td><td style=\"background-color: rgb(255,255,255);\">me</td><td style=\"background-color: rgb(255,255,255);\">the</td><td style=\"background-color: rgb(255,255,255);\">tissue</td><td style=\"background-color: rgb(255,255,255);\">box</td></tr><tr><td><b>lu</b></td><td style=\"background-color: rgb(0.0000, 255,0.0000);\">1.0000</td><td style=\"background-color: rgb(255.0000, 255,255.0000);\">0.0000</td><td style=\"background-color: rgb(255.0000, 255,255.0000);\">0.0000</td><td style=\"background-color: rgb(255.0000, 255,255.0000);\">0.0000</td><td style=\"background-color: rgb(255.0000, 255,255.0000);\">0.0000</td></tr><tr><td><b>h->h</b></td><td style=\"background-color: rgb(254.9995, 255,254.9995);\">0.0000</td><td style=\"background-color: rgb(254.9775, 255,254.9775);\">0.0001</td><td style=\"background-color: rgb(252.0693, 255,252.0693);\">0.0115</td><td style=\"background-color: rgb(246.9000, 255,246.9000);\">0.0318</td><td style=\"background-color: rgb(11.0547, 255,11.0547);\">0.9566</td></tr><tr><td><b>fn+h->h</b></td><td style=\"background-color: rgb(0.0017, 255,0.0017);\">1.0000</td><td style=\"background-color: rgb(254.9983, 255,254.9983);\">0.0000</td><td style=\"background-color: rgb(255.0000, 255,255.0000);\">0.0000</td><td style=\"background-color: rgb(255.0000, 255,255.0000);\">0.0000</td><td style=\"background-color: rgb(255.0000, 255,255.0000);\">0.0000</td></tr></table>"
      ],
      "text/plain": [
       "<IPython.core.display.HTML object>"
      ]
     },
     "metadata": {},
     "output_type": "display_data"
    },
    {
     "name": "stdout",
     "output_type": "stream",
     "text": [
      "true Searching pred_h Searching pred_fnh Searching\n"
     ]
    },
    {
     "data": {
      "text/html": [
       "<table><tr><td><b>words</b></td><td style=\"background-color: rgb(255,255,255);\">can</td><td style=\"background-color: rgb(255,255,255);\">you</td><td style=\"background-color: rgb(255,255,255);\">find</td><td style=\"background-color: rgb(255,255,255);\">me</td><td style=\"background-color: rgb(255,255,255);\">the</td><td style=\"background-color: rgb(255,255,255);\">butcher</td><td style=\"background-color: rgb(255,255,255);\">knife</td></tr><tr><td><b>lu</b></td><td style=\"background-color: rgb(255.0000, 255,255.0000);\">0.0000</td><td style=\"background-color: rgb(255.0000, 255,255.0000);\">0.0000</td><td style=\"background-color: rgb(0.0000, 255,0.0000);\">1.0000</td><td style=\"background-color: rgb(255.0000, 255,255.0000);\">0.0000</td><td style=\"background-color: rgb(255.0000, 255,255.0000);\">0.0000</td><td style=\"background-color: rgb(255.0000, 255,255.0000);\">0.0000</td><td style=\"background-color: rgb(255.0000, 255,255.0000);\">0.0000</td></tr><tr><td><b>h->h</b></td><td style=\"background-color: rgb(255.0000, 255,255.0000);\">0.0000</td><td style=\"background-color: rgb(255.0000, 255,255.0000);\">0.0000</td><td style=\"background-color: rgb(254.9998, 255,254.9998);\">0.0000</td><td style=\"background-color: rgb(254.9782, 255,254.9782);\">0.0001</td><td style=\"background-color: rgb(253.6992, 255,253.6992);\">0.0051</td><td style=\"background-color: rgb(242.6351, 255,242.6351);\">0.0485</td><td style=\"background-color: rgb(13.6893, 255,13.6893);\">0.9463</td></tr><tr><td><b>fn+h->h</b></td><td style=\"background-color: rgb(255.0000, 255,255.0000);\">0.0000</td><td style=\"background-color: rgb(255.0000, 255,255.0000);\">0.0000</td><td style=\"background-color: rgb(0.0000, 255,0.0000);\">1.0000</td><td style=\"background-color: rgb(255.0000, 255,255.0000);\">0.0000</td><td style=\"background-color: rgb(255.0000, 255,255.0000);\">0.0000</td><td style=\"background-color: rgb(255.0000, 255,255.0000);\">0.0000</td><td style=\"background-color: rgb(255.0000, 255,255.0000);\">0.0000</td></tr></table>"
      ],
      "text/plain": [
       "<IPython.core.display.HTML object>"
      ]
     },
     "metadata": {},
     "output_type": "display_data"
    },
    {
     "name": "stdout",
     "output_type": "stream",
     "text": [
      "true Motion pred_h Motion pred_fnh Motion\n"
     ]
    },
    {
     "data": {
      "text/html": [
       "<table><tr><td><b>words</b></td><td style=\"background-color: rgb(255,255,255);\">can</td><td style=\"background-color: rgb(255,255,255);\">you</td><td style=\"background-color: rgb(255,255,255);\">go</td><td style=\"background-color: rgb(255,255,255);\">over</td><td style=\"background-color: rgb(255,255,255);\">to</td><td style=\"background-color: rgb(255,255,255);\">the</td><td style=\"background-color: rgb(255,255,255);\">sofa</td></tr><tr><td><b>lu</b></td><td style=\"background-color: rgb(255.0000, 255,255.0000);\">0.0000</td><td style=\"background-color: rgb(255.0000, 255,255.0000);\">0.0000</td><td style=\"background-color: rgb(0.0000, 255,0.0000);\">1.0000</td><td style=\"background-color: rgb(255.0000, 255,255.0000);\">0.0000</td><td style=\"background-color: rgb(255.0000, 255,255.0000);\">0.0000</td><td style=\"background-color: rgb(255.0000, 255,255.0000);\">0.0000</td><td style=\"background-color: rgb(255.0000, 255,255.0000);\">0.0000</td></tr><tr><td><b>h->h</b></td><td style=\"background-color: rgb(255.0000, 255,255.0000);\">0.0000</td><td style=\"background-color: rgb(255.0000, 255,255.0000);\">0.0000</td><td style=\"background-color: rgb(255.0000, 255,255.0000);\">0.0000</td><td style=\"background-color: rgb(254.9705, 255,254.9705);\">0.0001</td><td style=\"background-color: rgb(249.3038, 255,249.3038);\">0.0223</td><td style=\"background-color: rgb(91.9232, 255,91.9232);\">0.6395</td><td style=\"background-color: rgb(168.8032, 255,168.8032);\">0.3380</td></tr><tr><td><b>fn+h->h</b></td><td style=\"background-color: rgb(255.0000, 255,255.0000);\">0.0000</td><td style=\"background-color: rgb(255.0000, 255,255.0000);\">0.0000</td><td style=\"background-color: rgb(0.1724, 255,0.1724);\">0.9993</td><td style=\"background-color: rgb(254.9973, 255,254.9973);\">0.0000</td><td style=\"background-color: rgb(254.8304, 255,254.8304);\">0.0007</td><td style=\"background-color: rgb(255.0000, 255,255.0000);\">0.0000</td><td style=\"background-color: rgb(255.0000, 255,255.0000);\">0.0000</td></tr></table>"
      ],
      "text/plain": [
       "<IPython.core.display.HTML object>"
      ]
     },
     "metadata": {},
     "output_type": "display_data"
    },
    {
     "name": "stdout",
     "output_type": "stream",
     "text": [
      "true Following pred_h Following pred_fnh Following\n"
     ]
    },
    {
     "data": {
      "text/html": [
       "<table><tr><td><b>words</b></td><td style=\"background-color: rgb(255,255,255);\">can</td><td style=\"background-color: rgb(255,255,255);\">you</td><td style=\"background-color: rgb(255,255,255);\">follow</td><td style=\"background-color: rgb(255,255,255);\">my</td><td style=\"background-color: rgb(255,255,255);\">mother</td><td style=\"background-color: rgb(255,255,255);\">to</td><td style=\"background-color: rgb(255,255,255);\">the</td><td style=\"background-color: rgb(255,255,255);\">garden</td></tr><tr><td><b>lu</b></td><td style=\"background-color: rgb(255.0000, 255,255.0000);\">0.0000</td><td style=\"background-color: rgb(255.0000, 255,255.0000);\">0.0000</td><td style=\"background-color: rgb(0.0000, 255,0.0000);\">1.0000</td><td style=\"background-color: rgb(255.0000, 255,255.0000);\">0.0000</td><td style=\"background-color: rgb(255.0000, 255,255.0000);\">0.0000</td><td style=\"background-color: rgb(255.0000, 255,255.0000);\">0.0000</td><td style=\"background-color: rgb(255.0000, 255,255.0000);\">0.0000</td><td style=\"background-color: rgb(255.0000, 255,255.0000);\">0.0000</td></tr><tr><td><b>h->h</b></td><td style=\"background-color: rgb(255.0000, 255,255.0000);\">0.0000</td><td style=\"background-color: rgb(255.0000, 255,255.0000);\">0.0000</td><td style=\"background-color: rgb(254.9974, 255,254.9974);\">0.0000</td><td style=\"background-color: rgb(254.3128, 255,254.3128);\">0.0027</td><td style=\"background-color: rgb(254.9477, 255,254.9477);\">0.0002</td><td style=\"background-color: rgb(249.0893, 255,249.0893);\">0.0232</td><td style=\"background-color: rgb(24.3523, 255,24.3523);\">0.9045</td><td style=\"background-color: rgb(237.3035, 255,237.3035);\">0.0694</td></tr><tr><td><b>fn+h->h</b></td><td style=\"background-color: rgb(255.0000, 255,255.0000);\">0.0000</td><td style=\"background-color: rgb(255.0000, 255,255.0000);\">0.0000</td><td style=\"background-color: rgb(0.0558, 255,0.0558);\">0.9998</td><td style=\"background-color: rgb(255.0000, 255,255.0000);\">0.0000</td><td style=\"background-color: rgb(254.9468, 255,254.9468);\">0.0002</td><td style=\"background-color: rgb(254.9974, 255,254.9974);\">0.0000</td><td style=\"background-color: rgb(255.0000, 255,255.0000);\">0.0000</td><td style=\"background-color: rgb(255.0000, 255,255.0000);\">0.0000</td></tr></table>"
      ],
      "text/plain": [
       "<IPython.core.display.HTML object>"
      ]
     },
     "metadata": {},
     "output_type": "display_data"
    },
    {
     "name": "stdout",
     "output_type": "stream",
     "text": [
      "true Following pred_h Following pred_fnh Following\n"
     ]
    },
    {
     "data": {
      "text/html": [
       "<table><tr><td><b>words</b></td><td style=\"background-color: rgb(255,255,255);\">follow</td><td style=\"background-color: rgb(255,255,255);\">my</td><td style=\"background-color: rgb(255,255,255);\">friend</td><td style=\"background-color: rgb(255,255,255);\">into</td><td style=\"background-color: rgb(255,255,255);\">the</td><td style=\"background-color: rgb(255,255,255);\">living</td><td style=\"background-color: rgb(255,255,255);\">room</td></tr><tr><td><b>lu</b></td><td style=\"background-color: rgb(0.0000, 255,0.0000);\">1.0000</td><td style=\"background-color: rgb(255.0000, 255,255.0000);\">0.0000</td><td style=\"background-color: rgb(255.0000, 255,255.0000);\">0.0000</td><td style=\"background-color: rgb(255.0000, 255,255.0000);\">0.0000</td><td style=\"background-color: rgb(255.0000, 255,255.0000);\">0.0000</td><td style=\"background-color: rgb(255.0000, 255,255.0000);\">0.0000</td><td style=\"background-color: rgb(255.0000, 255,255.0000);\">0.0000</td></tr><tr><td><b>h->h</b></td><td style=\"background-color: rgb(254.9950, 255,254.9950);\">0.0000</td><td style=\"background-color: rgb(253.8218, 255,253.8218);\">0.0046</td><td style=\"background-color: rgb(254.9719, 255,254.9719);\">0.0001</td><td style=\"background-color: rgb(239.9113, 255,239.9113);\">0.0592</td><td style=\"background-color: rgb(166.3683, 255,166.3683);\">0.3476</td><td style=\"background-color: rgb(110.5189, 255,110.5189);\">0.5666</td><td style=\"background-color: rgb(249.4153, 255,249.4153);\">0.0219</td></tr><tr><td><b>fn+h->h</b></td><td style=\"background-color: rgb(0.2921, 255,0.2921);\">0.9989</td><td style=\"background-color: rgb(255.0000, 255,255.0000);\">0.0000</td><td style=\"background-color: rgb(254.9999, 255,254.9999);\">0.0000</td><td style=\"background-color: rgb(254.7081, 255,254.7081);\">0.0011</td><td style=\"background-color: rgb(255.0000, 255,255.0000);\">0.0000</td><td style=\"background-color: rgb(255.0000, 255,255.0000);\">0.0000</td><td style=\"background-color: rgb(255.0000, 255,255.0000);\">0.0000</td></tr></table>"
      ],
      "text/plain": [
       "<IPython.core.display.HTML object>"
      ]
     },
     "metadata": {},
     "output_type": "display_data"
    },
    {
     "name": "stdout",
     "output_type": "stream",
     "text": [
      "true Motion pred_h Motion pred_fnh Motion\n"
     ]
    },
    {
     "data": {
      "text/html": [
       "<table><tr><td><b>words</b></td><td style=\"background-color: rgb(255,255,255);\">please</td><td style=\"background-color: rgb(255,255,255);\">move</td><td style=\"background-color: rgb(255,255,255);\">to</td><td style=\"background-color: rgb(255,255,255);\">the</td><td style=\"background-color: rgb(255,255,255);\">far</td><td style=\"background-color: rgb(255,255,255);\">end</td><td style=\"background-color: rgb(255,255,255);\">of</td><td style=\"background-color: rgb(255,255,255);\">this</td><td style=\"background-color: rgb(255,255,255);\">table</td></tr><tr><td><b>lu</b></td><td style=\"background-color: rgb(255.0000, 255,255.0000);\">0.0000</td><td style=\"background-color: rgb(0.0000, 255,0.0000);\">1.0000</td><td style=\"background-color: rgb(255.0000, 255,255.0000);\">0.0000</td><td style=\"background-color: rgb(255.0000, 255,255.0000);\">0.0000</td><td style=\"background-color: rgb(255.0000, 255,255.0000);\">0.0000</td><td style=\"background-color: rgb(255.0000, 255,255.0000);\">0.0000</td><td style=\"background-color: rgb(255.0000, 255,255.0000);\">0.0000</td><td style=\"background-color: rgb(255.0000, 255,255.0000);\">0.0000</td><td style=\"background-color: rgb(255.0000, 255,255.0000);\">0.0000</td></tr><tr><td><b>h->h</b></td><td style=\"background-color: rgb(255.0000, 255,255.0000);\">0.0000</td><td style=\"background-color: rgb(254.9986, 255,254.9986);\">0.0000</td><td style=\"background-color: rgb(254.1394, 255,254.1394);\">0.0034</td><td style=\"background-color: rgb(251.9949, 255,251.9949);\">0.0118</td><td style=\"background-color: rgb(254.8395, 255,254.8395);\">0.0006</td><td style=\"background-color: rgb(250.5747, 255,250.5747);\">0.0174</td><td style=\"background-color: rgb(174.6396, 255,174.6396);\">0.3151</td><td style=\"background-color: rgb(109.4463, 255,109.4463);\">0.5708</td><td style=\"background-color: rgb(234.3674, 255,234.3674);\">0.0809</td></tr><tr><td><b>fn+h->h</b></td><td style=\"background-color: rgb(255.0000, 255,255.0000);\">0.0000</td><td style=\"background-color: rgb(0.0000, 255,0.0000);\">1.0000</td><td style=\"background-color: rgb(255.0000, 255,255.0000);\">0.0000</td><td style=\"background-color: rgb(255.0000, 255,255.0000);\">0.0000</td><td style=\"background-color: rgb(255.0000, 255,255.0000);\">0.0000</td><td style=\"background-color: rgb(255.0000, 255,255.0000);\">0.0000</td><td style=\"background-color: rgb(255.0000, 255,255.0000);\">0.0000</td><td style=\"background-color: rgb(255.0000, 255,255.0000);\">0.0000</td><td style=\"background-color: rgb(255.0000, 255,255.0000);\">0.0000</td></tr></table>"
      ],
      "text/plain": [
       "<IPython.core.display.HTML object>"
      ]
     },
     "metadata": {},
     "output_type": "display_data"
    },
    {
     "name": "stdout",
     "output_type": "stream",
     "text": [
      "true Searching pred_h Searching pred_fnh Searching\n"
     ]
    },
    {
     "data": {
      "text/html": [
       "<table><tr><td><b>words</b></td><td style=\"background-color: rgb(255,255,255);\">find</td><td style=\"background-color: rgb(255,255,255);\">the</td><td style=\"background-color: rgb(255,255,255);\">red</td><td style=\"background-color: rgb(255,255,255);\">pillow</td></tr><tr><td><b>lu</b></td><td style=\"background-color: rgb(0.0000, 255,0.0000);\">1.0000</td><td style=\"background-color: rgb(255.0000, 255,255.0000);\">0.0000</td><td style=\"background-color: rgb(255.0000, 255,255.0000);\">0.0000</td><td style=\"background-color: rgb(255.0000, 255,255.0000);\">0.0000</td></tr><tr><td><b>h->h</b></td><td style=\"background-color: rgb(254.9941, 255,254.9941);\">0.0000</td><td style=\"background-color: rgb(254.3655, 255,254.3655);\">0.0025</td><td style=\"background-color: rgb(246.1924, 255,246.1924);\">0.0345</td><td style=\"background-color: rgb(9.4497, 255,9.4497);\">0.9629</td></tr><tr><td><b>fn+h->h</b></td><td style=\"background-color: rgb(0.0000, 255,0.0000);\">1.0000</td><td style=\"background-color: rgb(255.0000, 255,255.0000);\">0.0000</td><td style=\"background-color: rgb(255.0000, 255,255.0000);\">0.0000</td><td style=\"background-color: rgb(255.0000, 255,255.0000);\">0.0000</td></tr></table>"
      ],
      "text/plain": [
       "<IPython.core.display.HTML object>"
      ]
     },
     "metadata": {},
     "output_type": "display_data"
    },
    {
     "name": "stdout",
     "output_type": "stream",
     "text": [
      "true Taking pred_h Taking pred_fnh Taking\n"
     ]
    },
    {
     "data": {
      "text/html": [
       "<table><tr><td><b>words</b></td><td style=\"background-color: rgb(255,255,255);\">please</td><td style=\"background-color: rgb(255,255,255);\">pick</td><td style=\"background-color: rgb(255,255,255);\">my</td><td style=\"background-color: rgb(255,255,255);\">mobile</td><td style=\"background-color: rgb(255,255,255);\">phone</td></tr><tr><td><b>lu</b></td><td style=\"background-color: rgb(255.0000, 255,255.0000);\">0.0000</td><td style=\"background-color: rgb(0.0000, 255,0.0000);\">1.0000</td><td style=\"background-color: rgb(255.0000, 255,255.0000);\">0.0000</td><td style=\"background-color: rgb(255.0000, 255,255.0000);\">0.0000</td><td style=\"background-color: rgb(255.0000, 255,255.0000);\">0.0000</td></tr><tr><td><b>h->h</b></td><td style=\"background-color: rgb(255.0000, 255,255.0000);\">0.0000</td><td style=\"background-color: rgb(254.9043, 255,254.9043);\">0.0004</td><td style=\"background-color: rgb(164.2608, 255,164.2608);\">0.3558</td><td style=\"background-color: rgb(91.7479, 255,91.7479);\">0.6402</td><td style=\"background-color: rgb(254.1724, 255,254.1724);\">0.0032</td></tr><tr><td><b>fn+h->h</b></td><td style=\"background-color: rgb(255.0000, 255,255.0000);\">0.0000</td><td style=\"background-color: rgb(0.0000, 255,0.0000);\">1.0000</td><td style=\"background-color: rgb(255.0000, 255,255.0000);\">0.0000</td><td style=\"background-color: rgb(255.0000, 255,255.0000);\">0.0000</td><td style=\"background-color: rgb(255.0000, 255,255.0000);\">0.0000</td></tr></table>"
      ],
      "text/plain": [
       "<IPython.core.display.HTML object>"
      ]
     },
     "metadata": {},
     "output_type": "display_data"
    },
    {
     "name": "stdout",
     "output_type": "stream",
     "text": [
      "true Motion pred_h Motion pred_fnh Motion\n"
     ]
    },
    {
     "data": {
      "text/html": [
       "<table><tr><td><b>words</b></td><td style=\"background-color: rgb(255,255,255);\">could</td><td style=\"background-color: rgb(255,255,255);\">you</td><td style=\"background-color: rgb(255,255,255);\">please</td><td style=\"background-color: rgb(255,255,255);\">move</td><td style=\"background-color: rgb(255,255,255);\">to</td><td style=\"background-color: rgb(255,255,255);\">the</td><td style=\"background-color: rgb(255,255,255);\">sink</td></tr><tr><td><b>lu</b></td><td style=\"background-color: rgb(255.0000, 255,255.0000);\">0.0000</td><td style=\"background-color: rgb(255.0000, 255,255.0000);\">0.0000</td><td style=\"background-color: rgb(255.0000, 255,255.0000);\">0.0000</td><td style=\"background-color: rgb(0.0000, 255,0.0000);\">1.0000</td><td style=\"background-color: rgb(255.0000, 255,255.0000);\">0.0000</td><td style=\"background-color: rgb(255.0000, 255,255.0000);\">0.0000</td><td style=\"background-color: rgb(255.0000, 255,255.0000);\">0.0000</td></tr><tr><td><b>h->h</b></td><td style=\"background-color: rgb(255.0000, 255,255.0000);\">0.0000</td><td style=\"background-color: rgb(255.0000, 255,255.0000);\">0.0000</td><td style=\"background-color: rgb(255.0000, 255,255.0000);\">0.0000</td><td style=\"background-color: rgb(254.9986, 255,254.9986);\">0.0000</td><td style=\"background-color: rgb(253.0353, 255,253.0353);\">0.0077</td><td style=\"background-color: rgb(77.0723, 255,77.0723);\">0.6978</td><td style=\"background-color: rgb(179.8954, 255,179.8954);\">0.2945</td></tr><tr><td><b>fn+h->h</b></td><td style=\"background-color: rgb(255.0000, 255,255.0000);\">0.0000</td><td style=\"background-color: rgb(255.0000, 255,255.0000);\">0.0000</td><td style=\"background-color: rgb(255.0000, 255,255.0000);\">0.0000</td><td style=\"background-color: rgb(0.0003, 255,0.0003);\">1.0000</td><td style=\"background-color: rgb(254.9997, 255,254.9997);\">0.0000</td><td style=\"background-color: rgb(255.0000, 255,255.0000);\">0.0000</td><td style=\"background-color: rgb(255.0000, 255,255.0000);\">0.0000</td></tr></table>"
      ],
      "text/plain": [
       "<IPython.core.display.HTML object>"
      ]
     },
     "metadata": {},
     "output_type": "display_data"
    },
    {
     "name": "stdout",
     "output_type": "stream",
     "text": [
      "true Change_operational_state pred_h Change_operational_state pred_fnh Change_operational_state\n"
     ]
    },
    {
     "data": {
      "text/html": [
       "<table><tr><td><b>words</b></td><td style=\"background-color: rgb(255,255,255);\">open</td><td style=\"background-color: rgb(255,255,255);\">the</td><td style=\"background-color: rgb(255,255,255);\">cold</td><td style=\"background-color: rgb(255,255,255);\">water</td></tr><tr><td><b>lu</b></td><td style=\"background-color: rgb(0.0000, 255,0.0000);\">1.0000</td><td style=\"background-color: rgb(255.0000, 255,255.0000);\">0.0000</td><td style=\"background-color: rgb(255.0000, 255,255.0000);\">0.0000</td><td style=\"background-color: rgb(255.0000, 255,255.0000);\">0.0000</td></tr><tr><td><b>h->h</b></td><td style=\"background-color: rgb(254.9173, 255,254.9173);\">0.0003</td><td style=\"background-color: rgb(253.9462, 255,253.9462);\">0.0041</td><td style=\"background-color: rgb(2.0948, 255,2.0948);\">0.9918</td><td style=\"background-color: rgb(254.0438, 255,254.0438);\">0.0037</td></tr><tr><td><b>fn+h->h</b></td><td style=\"background-color: rgb(0.0000, 255,0.0000);\">1.0000</td><td style=\"background-color: rgb(255.0000, 255,255.0000);\">0.0000</td><td style=\"background-color: rgb(255.0000, 255,255.0000);\">0.0000</td><td style=\"background-color: rgb(255.0000, 255,255.0000);\">0.0000</td></tr></table>"
      ],
      "text/plain": [
       "<IPython.core.display.HTML object>"
      ]
     },
     "metadata": {},
     "output_type": "display_data"
    },
    {
     "name": "stdout",
     "output_type": "stream",
     "text": [
      "true Taking pred_h Taking pred_fnh Taking\n"
     ]
    },
    {
     "data": {
      "text/html": [
       "<table><tr><td><b>words</b></td><td style=\"background-color: rgb(255,255,255);\">john</td><td style=\"background-color: rgb(255,255,255);\">can</td><td style=\"background-color: rgb(255,255,255);\">you</td><td style=\"background-color: rgb(255,255,255);\">take</td><td style=\"background-color: rgb(255,255,255);\">the</td><td style=\"background-color: rgb(255,255,255);\">mug</td><td style=\"background-color: rgb(255,255,255);\">in</td><td style=\"background-color: rgb(255,255,255);\">the</td><td style=\"background-color: rgb(255,255,255);\">kitchen</td></tr><tr><td><b>lu</b></td><td style=\"background-color: rgb(255.0000, 255,255.0000);\">0.0000</td><td style=\"background-color: rgb(255.0000, 255,255.0000);\">0.0000</td><td style=\"background-color: rgb(255.0000, 255,255.0000);\">0.0000</td><td style=\"background-color: rgb(0.0000, 255,0.0000);\">1.0000</td><td style=\"background-color: rgb(255.0000, 255,255.0000);\">0.0000</td><td style=\"background-color: rgb(255.0000, 255,255.0000);\">0.0000</td><td style=\"background-color: rgb(255.0000, 255,255.0000);\">0.0000</td><td style=\"background-color: rgb(255.0000, 255,255.0000);\">0.0000</td><td style=\"background-color: rgb(255.0000, 255,255.0000);\">0.0000</td></tr><tr><td><b>h->h</b></td><td style=\"background-color: rgb(255.0000, 255,255.0000);\">0.0000</td><td style=\"background-color: rgb(255.0000, 255,255.0000);\">0.0000</td><td style=\"background-color: rgb(255.0000, 255,255.0000);\">0.0000</td><td style=\"background-color: rgb(254.9986, 255,254.9986);\">0.0000</td><td style=\"background-color: rgb(254.9440, 255,254.9440);\">0.0002</td><td style=\"background-color: rgb(254.9978, 255,254.9978);\">0.0000</td><td style=\"background-color: rgb(254.2104, 255,254.2104);\">0.0031</td><td style=\"background-color: rgb(0.9656, 255,0.9656);\">0.9962</td><td style=\"background-color: rgb(254.8880, 255,254.8880);\">0.0004</td></tr><tr><td><b>fn+h->h</b></td><td style=\"background-color: rgb(255.0000, 255,255.0000);\">0.0000</td><td style=\"background-color: rgb(255.0000, 255,255.0000);\">0.0000</td><td style=\"background-color: rgb(255.0000, 255,255.0000);\">0.0000</td><td style=\"background-color: rgb(0.0418, 255,0.0418);\">0.9998</td><td style=\"background-color: rgb(255.0000, 255,255.0000);\">0.0000</td><td style=\"background-color: rgb(255.0000, 255,255.0000);\">0.0000</td><td style=\"background-color: rgb(254.9582, 255,254.9582);\">0.0002</td><td style=\"background-color: rgb(255.0000, 255,255.0000);\">0.0000</td><td style=\"background-color: rgb(255.0000, 255,255.0000);\">0.0000</td></tr></table>"
      ],
      "text/plain": [
       "<IPython.core.display.HTML object>"
      ]
     },
     "metadata": {},
     "output_type": "display_data"
    },
    {
     "name": "stdout",
     "output_type": "stream",
     "text": [
      "true Bringing pred_h Bringing pred_fnh Bringing\n"
     ]
    },
    {
     "data": {
      "text/html": [
       "<table><tr><td><b>words</b></td><td style=\"background-color: rgb(255,255,255);\">bring</td><td style=\"background-color: rgb(255,255,255);\">it</td><td style=\"background-color: rgb(255,255,255);\">to</td><td style=\"background-color: rgb(255,255,255);\">the</td><td style=\"background-color: rgb(255,255,255);\">side</td><td style=\"background-color: rgb(255,255,255);\">of</td><td style=\"background-color: rgb(255,255,255);\">the</td><td style=\"background-color: rgb(255,255,255);\">bathtub</td></tr><tr><td><b>lu</b></td><td style=\"background-color: rgb(0.0000, 255,0.0000);\">1.0000</td><td style=\"background-color: rgb(255.0000, 255,255.0000);\">0.0000</td><td style=\"background-color: rgb(255.0000, 255,255.0000);\">0.0000</td><td style=\"background-color: rgb(255.0000, 255,255.0000);\">0.0000</td><td style=\"background-color: rgb(255.0000, 255,255.0000);\">0.0000</td><td style=\"background-color: rgb(255.0000, 255,255.0000);\">0.0000</td><td style=\"background-color: rgb(255.0000, 255,255.0000);\">0.0000</td><td style=\"background-color: rgb(255.0000, 255,255.0000);\">0.0000</td></tr><tr><td><b>h->h</b></td><td style=\"background-color: rgb(254.9996, 255,254.9996);\">0.0000</td><td style=\"background-color: rgb(254.9980, 255,254.9980);\">0.0000</td><td style=\"background-color: rgb(254.7910, 255,254.7910);\">0.0008</td><td style=\"background-color: rgb(253.3555, 255,253.3555);\">0.0064</td><td style=\"background-color: rgb(253.7600, 255,253.7600);\">0.0049</td><td style=\"background-color: rgb(248.4009, 255,248.4009);\">0.0259</td><td style=\"background-color: rgb(229.6104, 255,229.6104);\">0.0996</td><td style=\"background-color: rgb(35.0856, 255,35.0856);\">0.8624</td></tr><tr><td><b>fn+h->h</b></td><td style=\"background-color: rgb(68.5882, 255,68.5882);\">0.7310</td><td style=\"background-color: rgb(254.7227, 255,254.7227);\">0.0011</td><td style=\"background-color: rgb(186.6892, 255,186.6892);\">0.2679</td><td style=\"background-color: rgb(255.0000, 255,255.0000);\">0.0000</td><td style=\"background-color: rgb(255.0000, 255,255.0000);\">0.0000</td><td style=\"background-color: rgb(255.0000, 255,255.0000);\">0.0000</td><td style=\"background-color: rgb(255.0000, 255,255.0000);\">0.0000</td><td style=\"background-color: rgb(255.0000, 255,255.0000);\">0.0000</td></tr></table>"
      ],
      "text/plain": [
       "<IPython.core.display.HTML object>"
      ]
     },
     "metadata": {},
     "output_type": "display_data"
    },
    {
     "name": "stdout",
     "output_type": "stream",
     "text": [
      "true Motion pred_h Motion pred_fnh Motion\n"
     ]
    },
    {
     "data": {
      "text/html": [
       "<table><tr><td><b>words</b></td><td style=\"background-color: rgb(255,255,255);\">michael</td><td style=\"background-color: rgb(255,255,255);\">go</td><td style=\"background-color: rgb(255,255,255);\">to</td><td style=\"background-color: rgb(255,255,255);\">the</td><td style=\"background-color: rgb(255,255,255);\">kitchen</td></tr><tr><td><b>lu</b></td><td style=\"background-color: rgb(255.0000, 255,255.0000);\">0.0000</td><td style=\"background-color: rgb(0.0000, 255,0.0000);\">1.0000</td><td style=\"background-color: rgb(255.0000, 255,255.0000);\">0.0000</td><td style=\"background-color: rgb(255.0000, 255,255.0000);\">0.0000</td><td style=\"background-color: rgb(255.0000, 255,255.0000);\">0.0000</td></tr><tr><td><b>h->h</b></td><td style=\"background-color: rgb(255.0000, 255,255.0000);\">0.0000</td><td style=\"background-color: rgb(254.9994, 255,254.9994);\">0.0000</td><td style=\"background-color: rgb(245.7429, 255,245.7429);\">0.0363</td><td style=\"background-color: rgb(53.1279, 255,53.1279);\">0.7917</td><td style=\"background-color: rgb(211.1304, 255,211.1304);\">0.1720</td></tr><tr><td><b>fn+h->h</b></td><td style=\"background-color: rgb(255.0000, 255,255.0000);\">0.0000</td><td style=\"background-color: rgb(0.0003, 255,0.0003);\">1.0000</td><td style=\"background-color: rgb(254.9997, 255,254.9997);\">0.0000</td><td style=\"background-color: rgb(255.0000, 255,255.0000);\">0.0000</td><td style=\"background-color: rgb(255.0000, 255,255.0000);\">0.0000</td></tr></table>"
      ],
      "text/plain": [
       "<IPython.core.display.HTML object>"
      ]
     },
     "metadata": {},
     "output_type": "display_data"
    },
    {
     "name": "stdout",
     "output_type": "stream",
     "text": [
      "true Bringing pred_h Bringing pred_fnh Bringing\n"
     ]
    },
    {
     "data": {
      "text/html": [
       "<table><tr><td><b>words</b></td><td style=\"background-color: rgb(255,255,255);\">get</td><td style=\"background-color: rgb(255,255,255);\">me</td><td style=\"background-color: rgb(255,255,255);\">some</td><td style=\"background-color: rgb(255,255,255);\">water</td></tr><tr><td><b>lu</b></td><td style=\"background-color: rgb(0.0000, 255,0.0000);\">1.0000</td><td style=\"background-color: rgb(255.0000, 255,255.0000);\">0.0000</td><td style=\"background-color: rgb(255.0000, 255,255.0000);\">0.0000</td><td style=\"background-color: rgb(255.0000, 255,255.0000);\">0.0000</td></tr><tr><td><b>h->h</b></td><td style=\"background-color: rgb(254.9954, 255,254.9954);\">0.0000</td><td style=\"background-color: rgb(254.9352, 255,254.9352);\">0.0003</td><td style=\"background-color: rgb(235.7336, 255,235.7336);\">0.0756</td><td style=\"background-color: rgb(19.3378, 255,19.3378);\">0.9242</td></tr><tr><td><b>fn+h->h</b></td><td style=\"background-color: rgb(61.6837, 255,61.6837);\">0.7581</td><td style=\"background-color: rgb(193.3182, 255,193.3182);\">0.2419</td><td style=\"background-color: rgb(254.9981, 255,254.9981);\">0.0000</td><td style=\"background-color: rgb(255.0000, 255,255.0000);\">0.0000</td></tr></table>"
      ],
      "text/plain": [
       "<IPython.core.display.HTML object>"
      ]
     },
     "metadata": {},
     "output_type": "display_data"
    },
    {
     "name": "stdout",
     "output_type": "stream",
     "text": [
      "true Searching pred_h Searching pred_fnh Searching\n"
     ]
    },
    {
     "data": {
      "text/html": [
       "<table><tr><td><b>words</b></td><td style=\"background-color: rgb(255,255,255);\">michael</td><td style=\"background-color: rgb(255,255,255);\">find</td><td style=\"background-color: rgb(255,255,255);\">my</td><td style=\"background-color: rgb(255,255,255);\">book</td><td style=\"background-color: rgb(255,255,255);\">on</td><td style=\"background-color: rgb(255,255,255);\">the</td><td style=\"background-color: rgb(255,255,255);\">sofa</td><td style=\"background-color: rgb(255,255,255);\">near</td><td style=\"background-color: rgb(255,255,255);\">the</td><td style=\"background-color: rgb(255,255,255);\">window</td></tr><tr><td><b>lu</b></td><td style=\"background-color: rgb(255.0000, 255,255.0000);\">0.0000</td><td style=\"background-color: rgb(0.0000, 255,0.0000);\">1.0000</td><td style=\"background-color: rgb(255.0000, 255,255.0000);\">0.0000</td><td style=\"background-color: rgb(255.0000, 255,255.0000);\">0.0000</td><td style=\"background-color: rgb(255.0000, 255,255.0000);\">0.0000</td><td style=\"background-color: rgb(255.0000, 255,255.0000);\">0.0000</td><td style=\"background-color: rgb(255.0000, 255,255.0000);\">0.0000</td><td style=\"background-color: rgb(255.0000, 255,255.0000);\">0.0000</td><td style=\"background-color: rgb(255.0000, 255,255.0000);\">0.0000</td><td style=\"background-color: rgb(255.0000, 255,255.0000);\">0.0000</td></tr><tr><td><b>h->h</b></td><td style=\"background-color: rgb(255.0000, 255,255.0000);\">0.0000</td><td style=\"background-color: rgb(254.9982, 255,254.9982);\">0.0000</td><td style=\"background-color: rgb(254.6252, 255,254.6252);\">0.0015</td><td style=\"background-color: rgb(254.9665, 255,254.9665);\">0.0001</td><td style=\"background-color: rgb(250.6846, 255,250.6846);\">0.0169</td><td style=\"background-color: rgb(239.9822, 255,239.9822);\">0.0589</td><td style=\"background-color: rgb(241.2065, 255,241.2065);\">0.0541</td><td style=\"background-color: rgb(248.6097, 255,248.6097);\">0.0251</td><td style=\"background-color: rgb(141.3832, 255,141.3832);\">0.4456</td><td style=\"background-color: rgb(153.5444, 255,153.5444);\">0.3979</td></tr><tr><td><b>fn+h->h</b></td><td style=\"background-color: rgb(255.0000, 255,255.0000);\">0.0000</td><td style=\"background-color: rgb(0.0000, 255,0.0000);\">1.0000</td><td style=\"background-color: rgb(255.0000, 255,255.0000);\">0.0000</td><td style=\"background-color: rgb(255.0000, 255,255.0000);\">0.0000</td><td style=\"background-color: rgb(255.0000, 255,255.0000);\">0.0000</td><td style=\"background-color: rgb(255.0000, 255,255.0000);\">0.0000</td><td style=\"background-color: rgb(255.0000, 255,255.0000);\">0.0000</td><td style=\"background-color: rgb(255.0000, 255,255.0000);\">0.0000</td><td style=\"background-color: rgb(255.0000, 255,255.0000);\">0.0000</td><td style=\"background-color: rgb(255.0000, 255,255.0000);\">0.0000</td></tr></table>"
      ],
      "text/plain": [
       "<IPython.core.display.HTML object>"
      ]
     },
     "metadata": {},
     "output_type": "display_data"
    },
    {
     "name": "stdout",
     "output_type": "stream",
     "text": [
      "true Following pred_h Following pred_fnh Following\n"
     ]
    },
    {
     "data": {
      "text/html": [
       "<table><tr><td><b>words</b></td><td style=\"background-color: rgb(255,255,255);\">michael</td><td style=\"background-color: rgb(255,255,255);\">follow</td><td style=\"background-color: rgb(255,255,255);\">the</td><td style=\"background-color: rgb(255,255,255);\">guy</td><td style=\"background-color: rgb(255,255,255);\">with</td><td style=\"background-color: rgb(255,255,255);\">the</td><td style=\"background-color: rgb(255,255,255);\">red</td><td style=\"background-color: rgb(255,255,255);\">hoodie</td><td style=\"background-color: rgb(255,255,255);\">and</td><td style=\"background-color: rgb(255,255,255);\">the</td><td style=\"background-color: rgb(255,255,255);\">white</td><td style=\"background-color: rgb(255,255,255);\">shoes</td></tr><tr><td><b>lu</b></td><td style=\"background-color: rgb(255.0000, 255,255.0000);\">0.0000</td><td style=\"background-color: rgb(0.0000, 255,0.0000);\">1.0000</td><td style=\"background-color: rgb(255.0000, 255,255.0000);\">0.0000</td><td style=\"background-color: rgb(255.0000, 255,255.0000);\">0.0000</td><td style=\"background-color: rgb(255.0000, 255,255.0000);\">0.0000</td><td style=\"background-color: rgb(255.0000, 255,255.0000);\">0.0000</td><td style=\"background-color: rgb(255.0000, 255,255.0000);\">0.0000</td><td style=\"background-color: rgb(255.0000, 255,255.0000);\">0.0000</td><td style=\"background-color: rgb(255.0000, 255,255.0000);\">0.0000</td><td style=\"background-color: rgb(255.0000, 255,255.0000);\">0.0000</td><td style=\"background-color: rgb(255.0000, 255,255.0000);\">0.0000</td><td style=\"background-color: rgb(255.0000, 255,255.0000);\">0.0000</td></tr><tr><td><b>h->h</b></td><td style=\"background-color: rgb(255.0000, 255,255.0000);\">0.0000</td><td style=\"background-color: rgb(254.8709, 255,254.8709);\">0.0005</td><td style=\"background-color: rgb(170.6696, 255,170.6696);\">0.3307</td><td style=\"background-color: rgb(228.0136, 255,228.0136);\">0.1058</td><td style=\"background-color: rgb(195.4849, 255,195.4849);\">0.2334</td><td style=\"background-color: rgb(210.1006, 255,210.1006);\">0.1761</td><td style=\"background-color: rgb(247.3755, 255,247.3755);\">0.0299</td><td style=\"background-color: rgb(254.5438, 255,254.5438);\">0.0018</td><td style=\"background-color: rgb(252.0533, 255,252.0533);\">0.0116</td><td style=\"background-color: rgb(247.8813, 255,247.8813);\">0.0279</td><td style=\"background-color: rgb(235.4189, 255,235.4189);\">0.0768</td><td style=\"background-color: rgb(253.5892, 255,253.5892);\">0.0055</td></tr><tr><td><b>fn+h->h</b></td><td style=\"background-color: rgb(255.0000, 255,255.0000);\">0.0000</td><td style=\"background-color: rgb(0.0000, 255,0.0000);\">1.0000</td><td style=\"background-color: rgb(255.0000, 255,255.0000);\">0.0000</td><td style=\"background-color: rgb(255.0000, 255,255.0000);\">0.0000</td><td style=\"background-color: rgb(255.0000, 255,255.0000);\">0.0000</td><td style=\"background-color: rgb(255.0000, 255,255.0000);\">0.0000</td><td style=\"background-color: rgb(255.0000, 255,255.0000);\">0.0000</td><td style=\"background-color: rgb(255.0000, 255,255.0000);\">0.0000</td><td style=\"background-color: rgb(255.0000, 255,255.0000);\">0.0000</td><td style=\"background-color: rgb(255.0000, 255,255.0000);\">0.0000</td><td style=\"background-color: rgb(255.0000, 255,255.0000);\">0.0000</td><td style=\"background-color: rgb(255.0000, 255,255.0000);\">0.0000</td></tr></table>"
      ],
      "text/plain": [
       "<IPython.core.display.HTML object>"
      ]
     },
     "metadata": {},
     "output_type": "display_data"
    },
    {
     "name": "stdout",
     "output_type": "stream",
     "text": [
      "true Following pred_h Following pred_fnh Following\n"
     ]
    },
    {
     "data": {
      "text/html": [
       "<table><tr><td><b>words</b></td><td style=\"background-color: rgb(255,255,255);\">would</td><td style=\"background-color: rgb(255,255,255);\">you</td><td style=\"background-color: rgb(255,255,255);\">please</td><td style=\"background-color: rgb(255,255,255);\">follow</td><td style=\"background-color: rgb(255,255,255);\">me</td><td style=\"background-color: rgb(255,255,255);\">to</td><td style=\"background-color: rgb(255,255,255);\">the</td><td style=\"background-color: rgb(255,255,255);\">kitchen</td></tr><tr><td><b>lu</b></td><td style=\"background-color: rgb(255.0000, 255,255.0000);\">0.0000</td><td style=\"background-color: rgb(255.0000, 255,255.0000);\">0.0000</td><td style=\"background-color: rgb(255.0000, 255,255.0000);\">0.0000</td><td style=\"background-color: rgb(0.0000, 255,0.0000);\">1.0000</td><td style=\"background-color: rgb(255.0000, 255,255.0000);\">0.0000</td><td style=\"background-color: rgb(255.0000, 255,255.0000);\">0.0000</td><td style=\"background-color: rgb(255.0000, 255,255.0000);\">0.0000</td><td style=\"background-color: rgb(255.0000, 255,255.0000);\">0.0000</td></tr><tr><td><b>h->h</b></td><td style=\"background-color: rgb(255.0000, 255,255.0000);\">0.0000</td><td style=\"background-color: rgb(255.0000, 255,255.0000);\">0.0000</td><td style=\"background-color: rgb(255.0000, 255,255.0000);\">0.0000</td><td style=\"background-color: rgb(254.9907, 255,254.9907);\">0.0000</td><td style=\"background-color: rgb(254.9721, 255,254.9721);\">0.0001</td><td style=\"background-color: rgb(245.0347, 255,245.0347);\">0.0391</td><td style=\"background-color: rgb(27.6729, 255,27.6729);\">0.8915</td><td style=\"background-color: rgb(237.3326, 255,237.3326);\">0.0693</td></tr><tr><td><b>fn+h->h</b></td><td style=\"background-color: rgb(255.0000, 255,255.0000);\">0.0000</td><td style=\"background-color: rgb(255.0000, 255,255.0000);\">0.0000</td><td style=\"background-color: rgb(255.0000, 255,255.0000);\">0.0000</td><td style=\"background-color: rgb(0.4050, 255,0.4050);\">0.9984</td><td style=\"background-color: rgb(254.5955, 255,254.5955);\">0.0016</td><td style=\"background-color: rgb(254.9995, 255,254.9995);\">0.0000</td><td style=\"background-color: rgb(255.0000, 255,255.0000);\">0.0000</td><td style=\"background-color: rgb(255.0000, 255,255.0000);\">0.0000</td></tr></table>"
      ],
      "text/plain": [
       "<IPython.core.display.HTML object>"
      ]
     },
     "metadata": {},
     "output_type": "display_data"
    },
    {
     "name": "stdout",
     "output_type": "stream",
     "text": [
      "true Following pred_h Following pred_fnh Following\n"
     ]
    },
    {
     "data": {
      "text/html": [
       "<table><tr><td><b>words</b></td><td style=\"background-color: rgb(255,255,255);\">follow</td><td style=\"background-color: rgb(255,255,255);\">me</td><td style=\"background-color: rgb(255,255,255);\">to</td><td style=\"background-color: rgb(255,255,255);\">the</td><td style=\"background-color: rgb(255,255,255);\">bedroom</td></tr><tr><td><b>lu</b></td><td style=\"background-color: rgb(0.0000, 255,0.0000);\">1.0000</td><td style=\"background-color: rgb(255.0000, 255,255.0000);\">0.0000</td><td style=\"background-color: rgb(255.0000, 255,255.0000);\">0.0000</td><td style=\"background-color: rgb(255.0000, 255,255.0000);\">0.0000</td><td style=\"background-color: rgb(255.0000, 255,255.0000);\">0.0000</td></tr><tr><td><b>h->h</b></td><td style=\"background-color: rgb(254.9887, 255,254.9887);\">0.0000</td><td style=\"background-color: rgb(254.9738, 255,254.9738);\">0.0001</td><td style=\"background-color: rgb(246.7584, 255,246.7584);\">0.0323</td><td style=\"background-color: rgb(19.2370, 255,19.2370);\">0.9246</td><td style=\"background-color: rgb(244.0459, 255,244.0459);\">0.0430</td></tr><tr><td><b>fn+h->h</b></td><td style=\"background-color: rgb(0.5460, 255,0.5460);\">0.9979</td><td style=\"background-color: rgb(254.4540, 255,254.4540);\">0.0021</td><td style=\"background-color: rgb(255.0000, 255,255.0000);\">0.0000</td><td style=\"background-color: rgb(255.0000, 255,255.0000);\">0.0000</td><td style=\"background-color: rgb(255.0000, 255,255.0000);\">0.0000</td></tr></table>"
      ],
      "text/plain": [
       "<IPython.core.display.HTML object>"
      ]
     },
     "metadata": {},
     "output_type": "display_data"
    },
    {
     "name": "stdout",
     "output_type": "stream",
     "text": [
      "true Motion pred_h Motion pred_fnh Motion\n"
     ]
    },
    {
     "data": {
      "text/html": [
       "<table><tr><td><b>words</b></td><td style=\"background-color: rgb(255,255,255);\">move</td><td style=\"background-color: rgb(255,255,255);\">to</td><td style=\"background-color: rgb(255,255,255);\">the</td><td style=\"background-color: rgb(255,255,255);\">left</td><td style=\"background-color: rgb(255,255,255);\">of</td><td style=\"background-color: rgb(255,255,255);\">the</td><td style=\"background-color: rgb(255,255,255);\">table</td></tr><tr><td><b>lu</b></td><td style=\"background-color: rgb(0.0000, 255,0.0000);\">1.0000</td><td style=\"background-color: rgb(255.0000, 255,255.0000);\">0.0000</td><td style=\"background-color: rgb(255.0000, 255,255.0000);\">0.0000</td><td style=\"background-color: rgb(255.0000, 255,255.0000);\">0.0000</td><td style=\"background-color: rgb(255.0000, 255,255.0000);\">0.0000</td><td style=\"background-color: rgb(255.0000, 255,255.0000);\">0.0000</td><td style=\"background-color: rgb(255.0000, 255,255.0000);\">0.0000</td></tr><tr><td><b>h->h</b></td><td style=\"background-color: rgb(254.9985, 255,254.9985);\">0.0000</td><td style=\"background-color: rgb(254.5490, 255,254.5490);\">0.0018</td><td style=\"background-color: rgb(245.8341, 255,245.8341);\">0.0359</td><td style=\"background-color: rgb(248.6899, 255,248.6899);\">0.0247</td><td style=\"background-color: rgb(180.3888, 255,180.3888);\">0.2926</td><td style=\"background-color: rgb(117.0181, 255,117.0181);\">0.5411</td><td style=\"background-color: rgb(228.5222, 255,228.5222);\">0.1038</td></tr><tr><td><b>fn+h->h</b></td><td style=\"background-color: rgb(0.0009, 255,0.0009);\">1.0000</td><td style=\"background-color: rgb(254.9990, 255,254.9990);\">0.0000</td><td style=\"background-color: rgb(255.0000, 255,255.0000);\">0.0000</td><td style=\"background-color: rgb(255.0000, 255,255.0000);\">0.0000</td><td style=\"background-color: rgb(255.0000, 255,255.0000);\">0.0000</td><td style=\"background-color: rgb(255.0000, 255,255.0000);\">0.0000</td><td style=\"background-color: rgb(255.0000, 255,255.0000);\">0.0000</td></tr></table>"
      ],
      "text/plain": [
       "<IPython.core.display.HTML object>"
      ]
     },
     "metadata": {},
     "output_type": "display_data"
    },
    {
     "name": "stdout",
     "output_type": "stream",
     "text": [
      "true Searching pred_h Searching pred_fnh Searching\n"
     ]
    },
    {
     "data": {
      "text/html": [
       "<table><tr><td><b>words</b></td><td style=\"background-color: rgb(255,255,255);\">find</td><td style=\"background-color: rgb(255,255,255);\">the</td><td style=\"background-color: rgb(255,255,255);\">glasses</td><td style=\"background-color: rgb(255,255,255);\">on</td><td style=\"background-color: rgb(255,255,255);\">the</td><td style=\"background-color: rgb(255,255,255);\">table</td></tr><tr><td><b>lu</b></td><td style=\"background-color: rgb(0.0000, 255,0.0000);\">1.0000</td><td style=\"background-color: rgb(255.0000, 255,255.0000);\">0.0000</td><td style=\"background-color: rgb(255.0000, 255,255.0000);\">0.0000</td><td style=\"background-color: rgb(255.0000, 255,255.0000);\">0.0000</td><td style=\"background-color: rgb(255.0000, 255,255.0000);\">0.0000</td><td style=\"background-color: rgb(255.0000, 255,255.0000);\">0.0000</td></tr><tr><td><b>h->h</b></td><td style=\"background-color: rgb(254.9990, 255,254.9990);\">0.0000</td><td style=\"background-color: rgb(254.9676, 255,254.9676);\">0.0001</td><td style=\"background-color: rgb(254.9686, 255,254.9686);\">0.0001</td><td style=\"background-color: rgb(244.1644, 255,244.1644);\">0.0425</td><td style=\"background-color: rgb(102.9290, 255,102.9290);\">0.5964</td><td style=\"background-color: rgb(162.9720, 255,162.9720);\">0.3609</td></tr><tr><td><b>fn+h->h</b></td><td style=\"background-color: rgb(0.0000, 255,0.0000);\">1.0000</td><td style=\"background-color: rgb(255.0000, 255,255.0000);\">0.0000</td><td style=\"background-color: rgb(255.0000, 255,255.0000);\">0.0000</td><td style=\"background-color: rgb(255.0000, 255,255.0000);\">0.0000</td><td style=\"background-color: rgb(255.0000, 255,255.0000);\">0.0000</td><td style=\"background-color: rgb(255.0000, 255,255.0000);\">0.0000</td></tr></table>"
      ],
      "text/plain": [
       "<IPython.core.display.HTML object>"
      ]
     },
     "metadata": {},
     "output_type": "display_data"
    },
    {
     "name": "stdout",
     "output_type": "stream",
     "text": [
      "true Following pred_h Following pred_fnh Following\n"
     ]
    },
    {
     "data": {
      "text/html": [
       "<table><tr><td><b>words</b></td><td style=\"background-color: rgb(255,255,255);\">follow</td><td style=\"background-color: rgb(255,255,255);\">the</td><td style=\"background-color: rgb(255,255,255);\">person</td><td style=\"background-color: rgb(255,255,255);\">behind</td><td style=\"background-color: rgb(255,255,255);\">me</td></tr><tr><td><b>lu</b></td><td style=\"background-color: rgb(0.0000, 255,0.0000);\">1.0000</td><td style=\"background-color: rgb(255.0000, 255,255.0000);\">0.0000</td><td style=\"background-color: rgb(255.0000, 255,255.0000);\">0.0000</td><td style=\"background-color: rgb(255.0000, 255,255.0000);\">0.0000</td><td style=\"background-color: rgb(255.0000, 255,255.0000);\">0.0000</td></tr><tr><td><b>h->h</b></td><td style=\"background-color: rgb(254.9598, 255,254.9598);\">0.0002</td><td style=\"background-color: rgb(251.7234, 255,251.7234);\">0.0128</td><td style=\"background-color: rgb(253.9519, 255,253.9519);\">0.0041</td><td style=\"background-color: rgb(43.0818, 255,43.0818);\">0.8311</td><td style=\"background-color: rgb(216.2895, 255,216.2895);\">0.1518</td></tr><tr><td><b>fn+h->h</b></td><td style=\"background-color: rgb(0.0000, 255,0.0000);\">1.0000</td><td style=\"background-color: rgb(255.0000, 255,255.0000);\">0.0000</td><td style=\"background-color: rgb(255.0000, 255,255.0000);\">0.0000</td><td style=\"background-color: rgb(255.0000, 255,255.0000);\">0.0000</td><td style=\"background-color: rgb(255.0000, 255,255.0000);\">0.0000</td></tr></table>"
      ],
      "text/plain": [
       "<IPython.core.display.HTML object>"
      ]
     },
     "metadata": {},
     "output_type": "display_data"
    },
    {
     "name": "stdout",
     "output_type": "stream",
     "text": [
      "true Motion pred_h Motion pred_fnh Motion\n"
     ]
    },
    {
     "data": {
      "text/html": [
       "<table><tr><td><b>words</b></td><td style=\"background-color: rgb(255,255,255);\">go</td><td style=\"background-color: rgb(255,255,255);\">close</td><td style=\"background-color: rgb(255,255,255);\">to</td><td style=\"background-color: rgb(255,255,255);\">the</td><td style=\"background-color: rgb(255,255,255);\">shower</td></tr><tr><td><b>lu</b></td><td style=\"background-color: rgb(0.0000, 255,0.0000);\">1.0000</td><td style=\"background-color: rgb(255.0000, 255,255.0000);\">0.0000</td><td style=\"background-color: rgb(255.0000, 255,255.0000);\">0.0000</td><td style=\"background-color: rgb(255.0000, 255,255.0000);\">0.0000</td><td style=\"background-color: rgb(255.0000, 255,255.0000);\">0.0000</td></tr><tr><td><b>h->h</b></td><td style=\"background-color: rgb(255.0000, 255,255.0000);\">0.0000</td><td style=\"background-color: rgb(254.9016, 255,254.9016);\">0.0004</td><td style=\"background-color: rgb(248.1938, 255,248.1938);\">0.0267</td><td style=\"background-color: rgb(33.9064, 255,33.9064);\">0.8670</td><td style=\"background-color: rgb(227.9992, 255,227.9992);\">0.1059</td></tr><tr><td><b>fn+h->h</b></td><td style=\"background-color: rgb(0.0155, 255,0.0155);\">0.9999</td><td style=\"background-color: rgb(254.9845, 255,254.9845);\">0.0001</td><td style=\"background-color: rgb(255.0000, 255,255.0000);\">0.0000</td><td style=\"background-color: rgb(255.0000, 255,255.0000);\">0.0000</td><td style=\"background-color: rgb(255.0000, 255,255.0000);\">0.0000</td></tr></table>"
      ],
      "text/plain": [
       "<IPython.core.display.HTML object>"
      ]
     },
     "metadata": {},
     "output_type": "display_data"
    },
    {
     "name": "stdout",
     "output_type": "stream",
     "text": [
      "true Following pred_h Following pred_fnh Following\n"
     ]
    },
    {
     "data": {
      "text/html": [
       "<table><tr><td><b>words</b></td><td style=\"background-color: rgb(255,255,255);\">follow</td><td style=\"background-color: rgb(255,255,255);\">the</td><td style=\"background-color: rgb(255,255,255);\">man</td><td style=\"background-color: rgb(255,255,255);\">in</td><td style=\"background-color: rgb(255,255,255);\">black</td></tr><tr><td><b>lu</b></td><td style=\"background-color: rgb(0.0000, 255,0.0000);\">1.0000</td><td style=\"background-color: rgb(255.0000, 255,255.0000);\">0.0000</td><td style=\"background-color: rgb(255.0000, 255,255.0000);\">0.0000</td><td style=\"background-color: rgb(255.0000, 255,255.0000);\">0.0000</td><td style=\"background-color: rgb(255.0000, 255,255.0000);\">0.0000</td></tr><tr><td><b>h->h</b></td><td style=\"background-color: rgb(254.9785, 255,254.9785);\">0.0001</td><td style=\"background-color: rgb(249.9741, 255,249.9741);\">0.0197</td><td style=\"background-color: rgb(254.1742, 255,254.1742);\">0.0032</td><td style=\"background-color: rgb(26.0841, 255,26.0841);\">0.8977</td><td style=\"background-color: rgb(234.7917, 255,234.7917);\">0.0792</td></tr><tr><td><b>fn+h->h</b></td><td style=\"background-color: rgb(0.0000, 255,0.0000);\">1.0000</td><td style=\"background-color: rgb(255.0000, 255,255.0000);\">0.0000</td><td style=\"background-color: rgb(255.0000, 255,255.0000);\">0.0000</td><td style=\"background-color: rgb(255.0000, 255,255.0000);\">0.0000</td><td style=\"background-color: rgb(255.0000, 255,255.0000);\">0.0000</td></tr></table>"
      ],
      "text/plain": [
       "<IPython.core.display.HTML object>"
      ]
     },
     "metadata": {},
     "output_type": "display_data"
    },
    {
     "name": "stdout",
     "output_type": "stream",
     "text": [
      "true Bringing pred_h Bringing pred_fnh Bringing\n"
     ]
    },
    {
     "data": {
      "text/html": [
       "<table><tr><td><b>words</b></td><td style=\"background-color: rgb(255,255,255);\">bring</td><td style=\"background-color: rgb(255,255,255);\">me</td><td style=\"background-color: rgb(255,255,255);\">yogurt</td><td style=\"background-color: rgb(255,255,255);\">from</td><td style=\"background-color: rgb(255,255,255);\">the</td><td style=\"background-color: rgb(255,255,255);\">fridge</td></tr><tr><td><b>lu</b></td><td style=\"background-color: rgb(0.0000, 255,0.0000);\">1.0000</td><td style=\"background-color: rgb(255.0000, 255,255.0000);\">0.0000</td><td style=\"background-color: rgb(255.0000, 255,255.0000);\">0.0000</td><td style=\"background-color: rgb(255.0000, 255,255.0000);\">0.0000</td><td style=\"background-color: rgb(255.0000, 255,255.0000);\">0.0000</td><td style=\"background-color: rgb(255.0000, 255,255.0000);\">0.0000</td></tr><tr><td><b>h->h</b></td><td style=\"background-color: rgb(254.9995, 255,254.9995);\">0.0000</td><td style=\"background-color: rgb(254.9866, 255,254.9866);\">0.0001</td><td style=\"background-color: rgb(254.9028, 255,254.9028);\">0.0004</td><td style=\"background-color: rgb(246.6539, 255,246.6539);\">0.0327</td><td style=\"background-color: rgb(231.7026, 255,231.7026);\">0.0914</td><td style=\"background-color: rgb(31.7553, 255,31.7553);\">0.8755</td></tr><tr><td><b>fn+h->h</b></td><td style=\"background-color: rgb(18.4937, 255,18.4937);\">0.9275</td><td style=\"background-color: rgb(236.5063, 255,236.5063);\">0.0725</td><td style=\"background-color: rgb(255.0000, 255,255.0000);\">0.0000</td><td style=\"background-color: rgb(255.0000, 255,255.0000);\">0.0000</td><td style=\"background-color: rgb(255.0000, 255,255.0000);\">0.0000</td><td style=\"background-color: rgb(255.0000, 255,255.0000);\">0.0000</td></tr></table>"
      ],
      "text/plain": [
       "<IPython.core.display.HTML object>"
      ]
     },
     "metadata": {},
     "output_type": "display_data"
    },
    {
     "name": "stdout",
     "output_type": "stream",
     "text": [
      "true Searching pred_h Searching pred_fnh Searching\n"
     ]
    },
    {
     "data": {
      "text/html": [
       "<table><tr><td><b>words</b></td><td style=\"background-color: rgb(255,255,255);\">search</td><td style=\"background-color: rgb(255,255,255);\">for</td><td style=\"background-color: rgb(255,255,255);\">the</td><td style=\"background-color: rgb(255,255,255);\">bottle</td><td style=\"background-color: rgb(255,255,255);\">of</td><td style=\"background-color: rgb(255,255,255);\">wine</td><td style=\"background-color: rgb(255,255,255);\">on</td><td style=\"background-color: rgb(255,255,255);\">the</td><td style=\"background-color: rgb(255,255,255);\">table</td></tr><tr><td><b>lu</b></td><td style=\"background-color: rgb(0.0000, 255,0.0000);\">1.0000</td><td style=\"background-color: rgb(255.0000, 255,255.0000);\">0.0000</td><td style=\"background-color: rgb(255.0000, 255,255.0000);\">0.0000</td><td style=\"background-color: rgb(255.0000, 255,255.0000);\">0.0000</td><td style=\"background-color: rgb(255.0000, 255,255.0000);\">0.0000</td><td style=\"background-color: rgb(255.0000, 255,255.0000);\">0.0000</td><td style=\"background-color: rgb(255.0000, 255,255.0000);\">0.0000</td><td style=\"background-color: rgb(255.0000, 255,255.0000);\">0.0000</td><td style=\"background-color: rgb(255.0000, 255,255.0000);\">0.0000</td></tr><tr><td><b>h->h</b></td><td style=\"background-color: rgb(254.9977, 255,254.9977);\">0.0000</td><td style=\"background-color: rgb(254.7956, 255,254.7956);\">0.0008</td><td style=\"background-color: rgb(254.8070, 255,254.8070);\">0.0008</td><td style=\"background-color: rgb(254.5603, 255,254.5603);\">0.0017</td><td style=\"background-color: rgb(253.5474, 255,253.5474);\">0.0057</td><td style=\"background-color: rgb(254.7554, 255,254.7554);\">0.0010</td><td style=\"background-color: rgb(240.8308, 255,240.8308);\">0.0556</td><td style=\"background-color: rgb(128.4321, 255,128.4321);\">0.4963</td><td style=\"background-color: rgb(143.2742, 255,143.2742);\">0.4381</td></tr><tr><td><b>fn+h->h</b></td><td style=\"background-color: rgb(0.0065, 255,0.0065);\">1.0000</td><td style=\"background-color: rgb(255.0000, 255,255.0000);\">0.0000</td><td style=\"background-color: rgb(255.0000, 255,255.0000);\">0.0000</td><td style=\"background-color: rgb(255.0000, 255,255.0000);\">0.0000</td><td style=\"background-color: rgb(255.0000, 255,255.0000);\">0.0000</td><td style=\"background-color: rgb(255.0000, 255,255.0000);\">0.0000</td><td style=\"background-color: rgb(254.9935, 255,254.9935);\">0.0000</td><td style=\"background-color: rgb(255.0000, 255,255.0000);\">0.0000</td><td style=\"background-color: rgb(255.0000, 255,255.0000);\">0.0000</td></tr></table>"
      ],
      "text/plain": [
       "<IPython.core.display.HTML object>"
      ]
     },
     "metadata": {},
     "output_type": "display_data"
    },
    {
     "name": "stdout",
     "output_type": "stream",
     "text": [
      "true Taking pred_h Taking pred_fnh Taking\n"
     ]
    },
    {
     "data": {
      "text/html": [
       "<table><tr><td><b>words</b></td><td style=\"background-color: rgb(255,255,255);\">hey</td><td style=\"background-color: rgb(255,255,255);\">robot</td><td style=\"background-color: rgb(255,255,255);\">take</td><td style=\"background-color: rgb(255,255,255);\">the</td><td style=\"background-color: rgb(255,255,255);\">book</td></tr><tr><td><b>lu</b></td><td style=\"background-color: rgb(255.0000, 255,255.0000);\">0.0000</td><td style=\"background-color: rgb(255.0000, 255,255.0000);\">0.0000</td><td style=\"background-color: rgb(0.0000, 255,0.0000);\">1.0000</td><td style=\"background-color: rgb(255.0000, 255,255.0000);\">0.0000</td><td style=\"background-color: rgb(255.0000, 255,255.0000);\">0.0000</td></tr><tr><td><b>h->h</b></td><td style=\"background-color: rgb(255.0000, 255,255.0000);\">0.0000</td><td style=\"background-color: rgb(255.0000, 255,255.0000);\">0.0000</td><td style=\"background-color: rgb(254.8081, 255,254.8081);\">0.0008</td><td style=\"background-color: rgb(3.6199, 255,3.6199);\">0.9858</td><td style=\"background-color: rgb(251.9800, 255,251.9800);\">0.0118</td></tr><tr><td><b>fn+h->h</b></td><td style=\"background-color: rgb(255.0000, 255,255.0000);\">0.0000</td><td style=\"background-color: rgb(255.0000, 255,255.0000);\">0.0000</td><td style=\"background-color: rgb(0.0000, 255,0.0000);\">1.0000</td><td style=\"background-color: rgb(255.0000, 255,255.0000);\">0.0000</td><td style=\"background-color: rgb(255.0000, 255,255.0000);\">0.0000</td></tr></table>"
      ],
      "text/plain": [
       "<IPython.core.display.HTML object>"
      ]
     },
     "metadata": {},
     "output_type": "display_data"
    },
    {
     "name": "stdout",
     "output_type": "stream",
     "text": [
      "true Following pred_h Following pred_fnh Following\n"
     ]
    },
    {
     "data": {
      "text/html": [
       "<table><tr><td><b>words</b></td><td style=\"background-color: rgb(255,255,255);\">hey</td><td style=\"background-color: rgb(255,255,255);\">robot</td><td style=\"background-color: rgb(255,255,255);\">follow</td><td style=\"background-color: rgb(255,255,255);\">john</td><td style=\"background-color: rgb(255,255,255);\">everywhere</td><td style=\"background-color: rgb(255,255,255);\">he</td><td style=\"background-color: rgb(255,255,255);\">goes</td></tr><tr><td><b>lu</b></td><td style=\"background-color: rgb(255.0000, 255,255.0000);\">0.0000</td><td style=\"background-color: rgb(255.0000, 255,255.0000);\">0.0000</td><td style=\"background-color: rgb(0.0000, 255,0.0000);\">1.0000</td><td style=\"background-color: rgb(255.0000, 255,255.0000);\">0.0000</td><td style=\"background-color: rgb(255.0000, 255,255.0000);\">0.0000</td><td style=\"background-color: rgb(255.0000, 255,255.0000);\">0.0000</td><td style=\"background-color: rgb(255.0000, 255,255.0000);\">0.0000</td></tr><tr><td><b>h->h</b></td><td style=\"background-color: rgb(255.0000, 255,255.0000);\">0.0000</td><td style=\"background-color: rgb(255.0000, 255,255.0000);\">0.0000</td><td style=\"background-color: rgb(254.9968, 255,254.9968);\">0.0000</td><td style=\"background-color: rgb(254.9926, 255,254.9926);\">0.0000</td><td style=\"background-color: rgb(253.2051, 255,253.2051);\">0.0070</td><td style=\"background-color: rgb(29.0701, 255,29.0701);\">0.8860</td><td style=\"background-color: rgb(227.7375, 255,227.7375);\">0.1069</td></tr><tr><td><b>fn+h->h</b></td><td style=\"background-color: rgb(255.0000, 255,255.0000);\">0.0000</td><td style=\"background-color: rgb(255.0000, 255,255.0000);\">0.0000</td><td style=\"background-color: rgb(0.0000, 255,0.0000);\">1.0000</td><td style=\"background-color: rgb(255.0000, 255,255.0000);\">0.0000</td><td style=\"background-color: rgb(255.0000, 255,255.0000);\">0.0000</td><td style=\"background-color: rgb(255.0000, 255,255.0000);\">0.0000</td><td style=\"background-color: rgb(255.0000, 255,255.0000);\">0.0000</td></tr></table>"
      ],
      "text/plain": [
       "<IPython.core.display.HTML object>"
      ]
     },
     "metadata": {},
     "output_type": "display_data"
    },
    {
     "name": "stdout",
     "output_type": "stream",
     "text": [
      "true Searching pred_h Searching pred_fnh Searching\n"
     ]
    },
    {
     "data": {
      "text/html": [
       "<table><tr><td><b>words</b></td><td style=\"background-color: rgb(255,255,255);\">please</td><td style=\"background-color: rgb(255,255,255);\">find</td><td style=\"background-color: rgb(255,255,255);\">me</td><td style=\"background-color: rgb(255,255,255);\">the</td><td style=\"background-color: rgb(255,255,255);\">black</td><td style=\"background-color: rgb(255,255,255);\">cushion</td><td style=\"background-color: rgb(255,255,255);\">which</td><td style=\"background-color: rgb(255,255,255);\">is</td><td style=\"background-color: rgb(255,255,255);\">on</td><td style=\"background-color: rgb(255,255,255);\">the</td><td style=\"background-color: rgb(255,255,255);\">bed</td></tr><tr><td><b>lu</b></td><td style=\"background-color: rgb(255.0000, 255,255.0000);\">0.0000</td><td style=\"background-color: rgb(0.0000, 255,0.0000);\">1.0000</td><td style=\"background-color: rgb(255.0000, 255,255.0000);\">0.0000</td><td style=\"background-color: rgb(255.0000, 255,255.0000);\">0.0000</td><td style=\"background-color: rgb(255.0000, 255,255.0000);\">0.0000</td><td style=\"background-color: rgb(255.0000, 255,255.0000);\">0.0000</td><td style=\"background-color: rgb(255.0000, 255,255.0000);\">0.0000</td><td style=\"background-color: rgb(255.0000, 255,255.0000);\">0.0000</td><td style=\"background-color: rgb(255.0000, 255,255.0000);\">0.0000</td><td style=\"background-color: rgb(255.0000, 255,255.0000);\">0.0000</td><td style=\"background-color: rgb(255.0000, 255,255.0000);\">0.0000</td></tr><tr><td><b>h->h</b></td><td style=\"background-color: rgb(255.0000, 255,255.0000);\">0.0000</td><td style=\"background-color: rgb(254.9998, 255,254.9998);\">0.0000</td><td style=\"background-color: rgb(254.9226, 255,254.9226);\">0.0003</td><td style=\"background-color: rgb(250.6032, 255,250.6032);\">0.0172</td><td style=\"background-color: rgb(253.0548, 255,253.0548);\">0.0076</td><td style=\"background-color: rgb(254.5793, 255,254.5793);\">0.0016</td><td style=\"background-color: rgb(254.9486, 255,254.9486);\">0.0002</td><td style=\"background-color: rgb(254.9667, 255,254.9667);\">0.0001</td><td style=\"background-color: rgb(251.7011, 255,251.7011);\">0.0129</td><td style=\"background-color: rgb(162.2667, 255,162.2667);\">0.3637</td><td style=\"background-color: rgb(102.9577, 255,102.9577);\">0.5962</td></tr><tr><td><b>fn+h->h</b></td><td style=\"background-color: rgb(255.0000, 255,255.0000);\">0.0000</td><td style=\"background-color: rgb(0.0000, 255,0.0000);\">1.0000</td><td style=\"background-color: rgb(255.0000, 255,255.0000);\">0.0000</td><td style=\"background-color: rgb(255.0000, 255,255.0000);\">0.0000</td><td style=\"background-color: rgb(255.0000, 255,255.0000);\">0.0000</td><td style=\"background-color: rgb(255.0000, 255,255.0000);\">0.0000</td><td style=\"background-color: rgb(255.0000, 255,255.0000);\">0.0000</td><td style=\"background-color: rgb(255.0000, 255,255.0000);\">0.0000</td><td style=\"background-color: rgb(255.0000, 255,255.0000);\">0.0000</td><td style=\"background-color: rgb(255.0000, 255,255.0000);\">0.0000</td><td style=\"background-color: rgb(255.0000, 255,255.0000);\">0.0000</td></tr></table>"
      ],
      "text/plain": [
       "<IPython.core.display.HTML object>"
      ]
     },
     "metadata": {},
     "output_type": "display_data"
    },
    {
     "name": "stdout",
     "output_type": "stream",
     "text": [
      "true Entering pred_h Entering pred_fnh Entering\n"
     ]
    },
    {
     "data": {
      "text/html": [
       "<table><tr><td><b>words</b></td><td style=\"background-color: rgb(255,255,255);\">please</td><td style=\"background-color: rgb(255,255,255);\">enter</td><td style=\"background-color: rgb(255,255,255);\">the</td><td style=\"background-color: rgb(255,255,255);\">bathroom</td></tr><tr><td><b>lu</b></td><td style=\"background-color: rgb(255.0000, 255,255.0000);\">0.0000</td><td style=\"background-color: rgb(0.0000, 255,0.0000);\">1.0000</td><td style=\"background-color: rgb(255.0000, 255,255.0000);\">0.0000</td><td style=\"background-color: rgb(255.0000, 255,255.0000);\">0.0000</td></tr><tr><td><b>h->h</b></td><td style=\"background-color: rgb(255.0000, 255,255.0000);\">0.0000</td><td style=\"background-color: rgb(254.9326, 255,254.9326);\">0.0003</td><td style=\"background-color: rgb(0.7960, 255,0.7960);\">0.9969</td><td style=\"background-color: rgb(254.2801, 255,254.2801);\">0.0028</td></tr><tr><td><b>fn+h->h</b></td><td style=\"background-color: rgb(255.0000, 255,255.0000);\">0.0000</td><td style=\"background-color: rgb(0.0000, 255,0.0000);\">1.0000</td><td style=\"background-color: rgb(255.0000, 255,255.0000);\">0.0000</td><td style=\"background-color: rgb(255.0000, 255,255.0000);\">0.0000</td></tr></table>"
      ],
      "text/plain": [
       "<IPython.core.display.HTML object>"
      ]
     },
     "metadata": {},
     "output_type": "display_data"
    },
    {
     "name": "stdout",
     "output_type": "stream",
     "text": [
      "true Motion pred_h Motion pred_fnh Motion\n"
     ]
    },
    {
     "data": {
      "text/html": [
       "<table><tr><td><b>words</b></td><td style=\"background-color: rgb(255,255,255);\">go</td><td style=\"background-color: rgb(255,255,255);\">towards</td><td style=\"background-color: rgb(255,255,255);\">the</td><td style=\"background-color: rgb(255,255,255);\">sink</td><td style=\"background-color: rgb(255,255,255);\">on</td><td style=\"background-color: rgb(255,255,255);\">the</td><td style=\"background-color: rgb(255,255,255);\">left</td><td style=\"background-color: rgb(255,255,255);\">hand</td><td style=\"background-color: rgb(255,255,255);\">side</td></tr><tr><td><b>lu</b></td><td style=\"background-color: rgb(0.0000, 255,0.0000);\">1.0000</td><td style=\"background-color: rgb(255.0000, 255,255.0000);\">0.0000</td><td style=\"background-color: rgb(255.0000, 255,255.0000);\">0.0000</td><td style=\"background-color: rgb(255.0000, 255,255.0000);\">0.0000</td><td style=\"background-color: rgb(255.0000, 255,255.0000);\">0.0000</td><td style=\"background-color: rgb(255.0000, 255,255.0000);\">0.0000</td><td style=\"background-color: rgb(255.0000, 255,255.0000);\">0.0000</td><td style=\"background-color: rgb(255.0000, 255,255.0000);\">0.0000</td><td style=\"background-color: rgb(255.0000, 255,255.0000);\">0.0000</td></tr><tr><td><b>h->h</b></td><td style=\"background-color: rgb(255.0000, 255,255.0000);\">0.0000</td><td style=\"background-color: rgb(254.1871, 255,254.1871);\">0.0032</td><td style=\"background-color: rgb(243.6884, 255,243.6884);\">0.0444</td><td style=\"background-color: rgb(248.7800, 255,248.7800);\">0.0244</td><td style=\"background-color: rgb(236.1016, 255,236.1016);\">0.0741</td><td style=\"background-color: rgb(234.4540, 255,234.4540);\">0.0806</td><td style=\"background-color: rgb(247.3438, 255,247.3438);\">0.0300</td><td style=\"background-color: rgb(141.2527, 255,141.2527);\">0.4461</td><td style=\"background-color: rgb(179.1928, 255,179.1928);\">0.2973</td></tr><tr><td><b>fn+h->h</b></td><td style=\"background-color: rgb(0.0039, 255,0.0039);\">1.0000</td><td style=\"background-color: rgb(254.9961, 255,254.9961);\">0.0000</td><td style=\"background-color: rgb(255.0000, 255,255.0000);\">0.0000</td><td style=\"background-color: rgb(255.0000, 255,255.0000);\">0.0000</td><td style=\"background-color: rgb(255.0000, 255,255.0000);\">0.0000</td><td style=\"background-color: rgb(255.0000, 255,255.0000);\">0.0000</td><td style=\"background-color: rgb(255.0000, 255,255.0000);\">0.0000</td><td style=\"background-color: rgb(255.0000, 255,255.0000);\">0.0000</td><td style=\"background-color: rgb(255.0000, 255,255.0000);\">0.0000</td></tr></table>"
      ],
      "text/plain": [
       "<IPython.core.display.HTML object>"
      ]
     },
     "metadata": {},
     "output_type": "display_data"
    },
    {
     "name": "stdout",
     "output_type": "stream",
     "text": [
      "true Following pred_h Following pred_fnh Following\n"
     ]
    },
    {
     "data": {
      "text/html": [
       "<table><tr><td><b>words</b></td><td style=\"background-color: rgb(255,255,255);\">robot</td><td style=\"background-color: rgb(255,255,255);\">follow</td><td style=\"background-color: rgb(255,255,255);\">me</td><td style=\"background-color: rgb(255,255,255);\">slowly</td></tr><tr><td><b>lu</b></td><td style=\"background-color: rgb(255.0000, 255,255.0000);\">0.0000</td><td style=\"background-color: rgb(0.0000, 255,0.0000);\">1.0000</td><td style=\"background-color: rgb(255.0000, 255,255.0000);\">0.0000</td><td style=\"background-color: rgb(255.0000, 255,255.0000);\">0.0000</td></tr><tr><td><b>h->h</b></td><td style=\"background-color: rgb(255.0000, 255,255.0000);\">0.0000</td><td style=\"background-color: rgb(254.9095, 255,254.9095);\">0.0004</td><td style=\"background-color: rgb(117.0639, 255,117.0639);\">0.5409</td><td style=\"background-color: rgb(138.0344, 255,138.0344);\">0.4587</td></tr><tr><td><b>fn+h->h</b></td><td style=\"background-color: rgb(255.0000, 255,255.0000);\">0.0000</td><td style=\"background-color: rgb(0.0135, 255,0.0135);\">0.9999</td><td style=\"background-color: rgb(254.9865, 255,254.9865);\">0.0001</td><td style=\"background-color: rgb(255.0000, 255,255.0000);\">0.0000</td></tr></table>"
      ],
      "text/plain": [
       "<IPython.core.display.HTML object>"
      ]
     },
     "metadata": {},
     "output_type": "display_data"
    },
    {
     "name": "stdout",
     "output_type": "stream",
     "text": [
      "true Motion pred_h Motion pred_fnh Motion\n"
     ]
    },
    {
     "data": {
      "text/html": [
       "<table><tr><td><b>words</b></td><td style=\"background-color: rgb(255,255,255);\">please</td><td style=\"background-color: rgb(255,255,255);\">go</td><td style=\"background-color: rgb(255,255,255);\">to</td><td style=\"background-color: rgb(255,255,255);\">the</td><td style=\"background-color: rgb(255,255,255);\">chair</td></tr><tr><td><b>lu</b></td><td style=\"background-color: rgb(255.0000, 255,255.0000);\">0.0000</td><td style=\"background-color: rgb(0.0000, 255,0.0000);\">1.0000</td><td style=\"background-color: rgb(255.0000, 255,255.0000);\">0.0000</td><td style=\"background-color: rgb(255.0000, 255,255.0000);\">0.0000</td><td style=\"background-color: rgb(255.0000, 255,255.0000);\">0.0000</td></tr><tr><td><b>h->h</b></td><td style=\"background-color: rgb(255.0000, 255,255.0000);\">0.0000</td><td style=\"background-color: rgb(254.9999, 255,254.9999);\">0.0000</td><td style=\"background-color: rgb(252.6298, 255,252.6298);\">0.0093</td><td style=\"background-color: rgb(106.4796, 255,106.4796);\">0.5824</td><td style=\"background-color: rgb(150.8915, 255,150.8915);\">0.4083</td></tr><tr><td><b>fn+h->h</b></td><td style=\"background-color: rgb(255.0000, 255,255.0000);\">0.0000</td><td style=\"background-color: rgb(0.0004, 255,0.0004);\">1.0000</td><td style=\"background-color: rgb(254.9996, 255,254.9996);\">0.0000</td><td style=\"background-color: rgb(255.0000, 255,255.0000);\">0.0000</td><td style=\"background-color: rgb(255.0000, 255,255.0000);\">0.0000</td></tr></table>"
      ],
      "text/plain": [
       "<IPython.core.display.HTML object>"
      ]
     },
     "metadata": {},
     "output_type": "display_data"
    },
    {
     "name": "stdout",
     "output_type": "stream",
     "text": [
      "true Searching pred_h Searching pred_fnh Searching\n"
     ]
    },
    {
     "data": {
      "text/html": [
       "<table><tr><td><b>words</b></td><td style=\"background-color: rgb(255,255,255);\">can</td><td style=\"background-color: rgb(255,255,255);\">you</td><td style=\"background-color: rgb(255,255,255);\">please</td><td style=\"background-color: rgb(255,255,255);\">search</td><td style=\"background-color: rgb(255,255,255);\">the</td><td style=\"background-color: rgb(255,255,255);\">book</td></tr><tr><td><b>lu</b></td><td style=\"background-color: rgb(255.0000, 255,255.0000);\">0.0000</td><td style=\"background-color: rgb(255.0000, 255,255.0000);\">0.0000</td><td style=\"background-color: rgb(255.0000, 255,255.0000);\">0.0000</td><td style=\"background-color: rgb(0.0000, 255,0.0000);\">1.0000</td><td style=\"background-color: rgb(255.0000, 255,255.0000);\">0.0000</td><td style=\"background-color: rgb(255.0000, 255,255.0000);\">0.0000</td></tr><tr><td><b>h->h</b></td><td style=\"background-color: rgb(255.0000, 255,255.0000);\">0.0000</td><td style=\"background-color: rgb(255.0000, 255,255.0000);\">0.0000</td><td style=\"background-color: rgb(255.0000, 255,255.0000);\">0.0000</td><td style=\"background-color: rgb(254.9749, 255,254.9749);\">0.0001</td><td style=\"background-color: rgb(244.1143, 255,244.1143);\">0.0427</td><td style=\"background-color: rgb(10.9142, 255,10.9142);\">0.9572</td></tr><tr><td><b>fn+h->h</b></td><td style=\"background-color: rgb(255.0000, 255,255.0000);\">0.0000</td><td style=\"background-color: rgb(255.0000, 255,255.0000);\">0.0000</td><td style=\"background-color: rgb(255.0000, 255,255.0000);\">0.0000</td><td style=\"background-color: rgb(0.0000, 255,0.0000);\">1.0000</td><td style=\"background-color: rgb(255.0000, 255,255.0000);\">0.0000</td><td style=\"background-color: rgb(255.0000, 255,255.0000);\">0.0000</td></tr></table>"
      ],
      "text/plain": [
       "<IPython.core.display.HTML object>"
      ]
     },
     "metadata": {},
     "output_type": "display_data"
    },
    {
     "name": "stdout",
     "output_type": "stream",
     "text": [
      "true Bringing pred_h Bringing pred_fnh Bringing\n"
     ]
    },
    {
     "data": {
      "text/html": [
       "<table><tr><td><b>words</b></td><td style=\"background-color: rgb(255,255,255);\">bring</td><td style=\"background-color: rgb(255,255,255);\">it</td><td style=\"background-color: rgb(255,255,255);\">to</td><td style=\"background-color: rgb(255,255,255);\">me</td></tr><tr><td><b>lu</b></td><td style=\"background-color: rgb(0.0000, 255,0.0000);\">1.0000</td><td style=\"background-color: rgb(255.0000, 255,255.0000);\">0.0000</td><td style=\"background-color: rgb(255.0000, 255,255.0000);\">0.0000</td><td style=\"background-color: rgb(255.0000, 255,255.0000);\">0.0000</td></tr><tr><td><b>h->h</b></td><td style=\"background-color: rgb(254.9887, 255,254.9887);\">0.0000</td><td style=\"background-color: rgb(254.8624, 255,254.8624);\">0.0005</td><td style=\"background-color: rgb(249.7083, 255,249.7083);\">0.0208</td><td style=\"background-color: rgb(5.4444, 255,5.4444);\">0.9786</td></tr><tr><td><b>fn+h->h</b></td><td style=\"background-color: rgb(20.1473, 255,20.1473);\">0.9210</td><td style=\"background-color: rgb(254.9999, 255,254.9999);\">0.0000</td><td style=\"background-color: rgb(254.3687, 255,254.3687);\">0.0025</td><td style=\"background-color: rgb(235.4841, 255,235.4841);\">0.0765</td></tr></table>"
      ],
      "text/plain": [
       "<IPython.core.display.HTML object>"
      ]
     },
     "metadata": {},
     "output_type": "display_data"
    },
    {
     "name": "stdout",
     "output_type": "stream",
     "text": [
      "true Following pred_h Following pred_fnh Following\n"
     ]
    },
    {
     "data": {
      "text/html": [
       "<table><tr><td><b>words</b></td><td style=\"background-color: rgb(255,255,255);\">follow</td><td style=\"background-color: rgb(255,255,255);\">me</td><td style=\"background-color: rgb(255,255,255);\">very</td><td style=\"background-color: rgb(255,255,255);\">fast</td></tr><tr><td><b>lu</b></td><td style=\"background-color: rgb(0.0000, 255,0.0000);\">1.0000</td><td style=\"background-color: rgb(255.0000, 255,255.0000);\">0.0000</td><td style=\"background-color: rgb(255.0000, 255,255.0000);\">0.0000</td><td style=\"background-color: rgb(255.0000, 255,255.0000);\">0.0000</td></tr><tr><td><b>h->h</b></td><td style=\"background-color: rgb(254.9449, 255,254.9449);\">0.0002</td><td style=\"background-color: rgb(253.7812, 255,253.7812);\">0.0048</td><td style=\"background-color: rgb(115.2139, 255,115.2139);\">0.5482</td><td style=\"background-color: rgb(141.0662, 255,141.0662);\">0.4468</td></tr><tr><td><b>fn+h->h</b></td><td style=\"background-color: rgb(0.0000, 255,0.0000);\">1.0000</td><td style=\"background-color: rgb(255.0000, 255,255.0000);\">0.0000</td><td style=\"background-color: rgb(255.0000, 255,255.0000);\">0.0000</td><td style=\"background-color: rgb(255.0000, 255,255.0000);\">0.0000</td></tr></table>"
      ],
      "text/plain": [
       "<IPython.core.display.HTML object>"
      ]
     },
     "metadata": {},
     "output_type": "display_data"
    },
    {
     "name": "stdout",
     "output_type": "stream",
     "text": [
      "true Following pred_h Following pred_fnh Following\n"
     ]
    },
    {
     "data": {
      "text/html": [
       "<table><tr><td><b>words</b></td><td style=\"background-color: rgb(255,255,255);\">robot</td><td style=\"background-color: rgb(255,255,255);\">please</td><td style=\"background-color: rgb(255,255,255);\">follow</td><td style=\"background-color: rgb(255,255,255);\">the</td><td style=\"background-color: rgb(255,255,255);\">postman</td></tr><tr><td><b>lu</b></td><td style=\"background-color: rgb(255.0000, 255,255.0000);\">0.0000</td><td style=\"background-color: rgb(255.0000, 255,255.0000);\">0.0000</td><td style=\"background-color: rgb(0.0000, 255,0.0000);\">1.0000</td><td style=\"background-color: rgb(255.0000, 255,255.0000);\">0.0000</td><td style=\"background-color: rgb(255.0000, 255,255.0000);\">0.0000</td></tr><tr><td><b>h->h</b></td><td style=\"background-color: rgb(255.0000, 255,255.0000);\">0.0000</td><td style=\"background-color: rgb(255.0000, 255,255.0000);\">0.0000</td><td style=\"background-color: rgb(254.9284, 255,254.9284);\">0.0003</td><td style=\"background-color: rgb(10.4591, 255,10.4591);\">0.9590</td><td style=\"background-color: rgb(244.6198, 255,244.6198);\">0.0407</td></tr><tr><td><b>fn+h->h</b></td><td style=\"background-color: rgb(255.0000, 255,255.0000);\">0.0000</td><td style=\"background-color: rgb(255.0000, 255,255.0000);\">0.0000</td><td style=\"background-color: rgb(0.0000, 255,0.0000);\">1.0000</td><td style=\"background-color: rgb(255.0000, 255,255.0000);\">0.0000</td><td style=\"background-color: rgb(255.0000, 255,255.0000);\">0.0000</td></tr></table>"
      ],
      "text/plain": [
       "<IPython.core.display.HTML object>"
      ]
     },
     "metadata": {},
     "output_type": "display_data"
    },
    {
     "name": "stdout",
     "output_type": "stream",
     "text": [
      "true Motion pred_h Motion pred_fnh Motion\n"
     ]
    },
    {
     "data": {
      "text/html": [
       "<table><tr><td><b>words</b></td><td style=\"background-color: rgb(255,255,255);\">robot</td><td style=\"background-color: rgb(255,255,255);\">go</td><td style=\"background-color: rgb(255,255,255);\">to</td><td style=\"background-color: rgb(255,255,255);\">the</td><td style=\"background-color: rgb(255,255,255);\">shower</td></tr><tr><td><b>lu</b></td><td style=\"background-color: rgb(255.0000, 255,255.0000);\">0.0000</td><td style=\"background-color: rgb(0.0000, 255,0.0000);\">1.0000</td><td style=\"background-color: rgb(255.0000, 255,255.0000);\">0.0000</td><td style=\"background-color: rgb(255.0000, 255,255.0000);\">0.0000</td><td style=\"background-color: rgb(255.0000, 255,255.0000);\">0.0000</td></tr><tr><td><b>h->h</b></td><td style=\"background-color: rgb(255.0000, 255,255.0000);\">0.0000</td><td style=\"background-color: rgb(254.9999, 255,254.9999);\">0.0000</td><td style=\"background-color: rgb(252.6113, 255,252.6113);\">0.0094</td><td style=\"background-color: rgb(42.9253, 255,42.9253);\">0.8317</td><td style=\"background-color: rgb(214.4651, 255,214.4651);\">0.1590</td></tr><tr><td><b>fn+h->h</b></td><td style=\"background-color: rgb(255.0000, 255,255.0000);\">0.0000</td><td style=\"background-color: rgb(0.0021, 255,0.0021);\">1.0000</td><td style=\"background-color: rgb(254.9979, 255,254.9979);\">0.0000</td><td style=\"background-color: rgb(255.0000, 255,255.0000);\">0.0000</td><td style=\"background-color: rgb(255.0000, 255,255.0000);\">0.0000</td></tr></table>"
      ],
      "text/plain": [
       "<IPython.core.display.HTML object>"
      ]
     },
     "metadata": {},
     "output_type": "display_data"
    },
    {
     "name": "stdout",
     "output_type": "stream",
     "text": [
      "true Searching pred_h Searching pred_fnh Searching\n"
     ]
    },
    {
     "data": {
      "text/html": [
       "<table><tr><td><b>words</b></td><td style=\"background-color: rgb(255,255,255);\">please</td><td style=\"background-color: rgb(255,255,255);\">find</td><td style=\"background-color: rgb(255,255,255);\">the</td><td style=\"background-color: rgb(255,255,255);\">fruit</td></tr><tr><td><b>lu</b></td><td style=\"background-color: rgb(255.0000, 255,255.0000);\">0.0000</td><td style=\"background-color: rgb(0.0000, 255,0.0000);\">1.0000</td><td style=\"background-color: rgb(255.0000, 255,255.0000);\">0.0000</td><td style=\"background-color: rgb(255.0000, 255,255.0000);\">0.0000</td></tr><tr><td><b>h->h</b></td><td style=\"background-color: rgb(255.0000, 255,255.0000);\">0.0000</td><td style=\"background-color: rgb(254.9707, 255,254.9707);\">0.0001</td><td style=\"background-color: rgb(98.7964, 255,98.7964);\">0.6126</td><td style=\"background-color: rgb(156.2362, 255,156.2362);\">0.3873</td></tr><tr><td><b>fn+h->h</b></td><td style=\"background-color: rgb(255.0000, 255,255.0000);\">0.0000</td><td style=\"background-color: rgb(0.0000, 255,0.0000);\">1.0000</td><td style=\"background-color: rgb(255.0000, 255,255.0000);\">0.0000</td><td style=\"background-color: rgb(255.0000, 255,255.0000);\">0.0000</td></tr></table>"
      ],
      "text/plain": [
       "<IPython.core.display.HTML object>"
      ]
     },
     "metadata": {},
     "output_type": "display_data"
    },
    {
     "name": "stdout",
     "output_type": "stream",
     "text": [
      "true Motion pred_h Motion pred_fnh Motion\n"
     ]
    },
    {
     "data": {
      "text/html": [
       "<table><tr><td><b>words</b></td><td style=\"background-color: rgb(255,255,255);\">please</td><td style=\"background-color: rgb(255,255,255);\">go</td><td style=\"background-color: rgb(255,255,255);\">to</td><td style=\"background-color: rgb(255,255,255);\">the</td><td style=\"background-color: rgb(255,255,255);\">sink</td></tr><tr><td><b>lu</b></td><td style=\"background-color: rgb(255.0000, 255,255.0000);\">0.0000</td><td style=\"background-color: rgb(0.0000, 255,0.0000);\">1.0000</td><td style=\"background-color: rgb(255.0000, 255,255.0000);\">0.0000</td><td style=\"background-color: rgb(255.0000, 255,255.0000);\">0.0000</td><td style=\"background-color: rgb(255.0000, 255,255.0000);\">0.0000</td></tr><tr><td><b>h->h</b></td><td style=\"background-color: rgb(255.0000, 255,255.0000);\">0.0000</td><td style=\"background-color: rgb(254.9998, 255,254.9998);\">0.0000</td><td style=\"background-color: rgb(252.3316, 255,252.3316);\">0.0105</td><td style=\"background-color: rgb(75.1017, 255,75.1017);\">0.7055</td><td style=\"background-color: rgb(182.5677, 255,182.5677);\">0.2840</td></tr><tr><td><b>fn+h->h</b></td><td style=\"background-color: rgb(255.0000, 255,255.0000);\">0.0000</td><td style=\"background-color: rgb(0.0000, 255,0.0000);\">1.0000</td><td style=\"background-color: rgb(255.0000, 255,255.0000);\">0.0000</td><td style=\"background-color: rgb(255.0000, 255,255.0000);\">0.0000</td><td style=\"background-color: rgb(255.0000, 255,255.0000);\">0.0000</td></tr></table>"
      ],
      "text/plain": [
       "<IPython.core.display.HTML object>"
      ]
     },
     "metadata": {},
     "output_type": "display_data"
    },
    {
     "name": "stdout",
     "output_type": "stream",
     "text": [
      "true Following pred_h Following pred_fnh Following\n"
     ]
    },
    {
     "data": {
      "text/html": [
       "<table><tr><td><b>words</b></td><td style=\"background-color: rgb(255,255,255);\">please</td><td style=\"background-color: rgb(255,255,255);\">follow</td><td style=\"background-color: rgb(255,255,255);\">me</td><td style=\"background-color: rgb(255,255,255);\">to</td><td style=\"background-color: rgb(255,255,255);\">the</td><td style=\"background-color: rgb(255,255,255);\">table</td></tr><tr><td><b>lu</b></td><td style=\"background-color: rgb(255.0000, 255,255.0000);\">0.0000</td><td style=\"background-color: rgb(0.0000, 255,0.0000);\">1.0000</td><td style=\"background-color: rgb(255.0000, 255,255.0000);\">0.0000</td><td style=\"background-color: rgb(255.0000, 255,255.0000);\">0.0000</td><td style=\"background-color: rgb(255.0000, 255,255.0000);\">0.0000</td><td style=\"background-color: rgb(255.0000, 255,255.0000);\">0.0000</td></tr><tr><td><b>h->h</b></td><td style=\"background-color: rgb(255.0000, 255,255.0000);\">0.0000</td><td style=\"background-color: rgb(254.9886, 255,254.9886);\">0.0000</td><td style=\"background-color: rgb(254.9564, 255,254.9564);\">0.0002</td><td style=\"background-color: rgb(247.4683, 255,247.4683);\">0.0295</td><td style=\"background-color: rgb(53.9335, 255,53.9335);\">0.7885</td><td style=\"background-color: rgb(208.6559, 255,208.6559);\">0.1817</td></tr><tr><td><b>fn+h->h</b></td><td style=\"background-color: rgb(255.0000, 255,255.0000);\">0.0000</td><td style=\"background-color: rgb(0.7756, 255,0.7756);\">0.9970</td><td style=\"background-color: rgb(254.2244, 255,254.2244);\">0.0030</td><td style=\"background-color: rgb(255.0000, 255,255.0000);\">0.0000</td><td style=\"background-color: rgb(255.0000, 255,255.0000);\">0.0000</td><td style=\"background-color: rgb(255.0000, 255,255.0000);\">0.0000</td></tr></table>"
      ],
      "text/plain": [
       "<IPython.core.display.HTML object>"
      ]
     },
     "metadata": {},
     "output_type": "display_data"
    },
    {
     "name": "stdout",
     "output_type": "stream",
     "text": [
      "true Bringing pred_h Bringing pred_fnh Bringing\n"
     ]
    },
    {
     "data": {
      "text/html": [
       "<table><tr><td><b>words</b></td><td style=\"background-color: rgb(255,255,255);\">bring</td><td style=\"background-color: rgb(255,255,255);\">the</td><td style=\"background-color: rgb(255,255,255);\">cigarettes</td><td style=\"background-color: rgb(255,255,255);\">near</td><td style=\"background-color: rgb(255,255,255);\">the</td><td style=\"background-color: rgb(255,255,255);\">counter</td><td style=\"background-color: rgb(255,255,255);\">on</td><td style=\"background-color: rgb(255,255,255);\">the</td><td style=\"background-color: rgb(255,255,255);\">right</td></tr><tr><td><b>lu</b></td><td style=\"background-color: rgb(0.0000, 255,0.0000);\">1.0000</td><td style=\"background-color: rgb(255.0000, 255,255.0000);\">0.0000</td><td style=\"background-color: rgb(255.0000, 255,255.0000);\">0.0000</td><td style=\"background-color: rgb(255.0000, 255,255.0000);\">0.0000</td><td style=\"background-color: rgb(255.0000, 255,255.0000);\">0.0000</td><td style=\"background-color: rgb(255.0000, 255,255.0000);\">0.0000</td><td style=\"background-color: rgb(255.0000, 255,255.0000);\">0.0000</td><td style=\"background-color: rgb(255.0000, 255,255.0000);\">0.0000</td><td style=\"background-color: rgb(255.0000, 255,255.0000);\">0.0000</td></tr><tr><td><b>h->h</b></td><td style=\"background-color: rgb(254.9995, 255,254.9995);\">0.0000</td><td style=\"background-color: rgb(254.8382, 255,254.8382);\">0.0006</td><td style=\"background-color: rgb(254.9602, 255,254.9602);\">0.0002</td><td style=\"background-color: rgb(254.4127, 255,254.4127);\">0.0023</td><td style=\"background-color: rgb(250.7034, 255,250.7034);\">0.0168</td><td style=\"background-color: rgb(252.5548, 255,252.5548);\">0.0096</td><td style=\"background-color: rgb(249.6754, 255,249.6754);\">0.0209</td><td style=\"background-color: rgb(234.5998, 255,234.5998);\">0.0800</td><td style=\"background-color: rgb(33.2569, 255,33.2569);\">0.8696</td></tr><tr><td><b>fn+h->h</b></td><td style=\"background-color: rgb(0.0000, 255,0.0000);\">1.0000</td><td style=\"background-color: rgb(255.0000, 255,255.0000);\">0.0000</td><td style=\"background-color: rgb(255.0000, 255,255.0000);\">0.0000</td><td style=\"background-color: rgb(255.0000, 255,255.0000);\">0.0000</td><td style=\"background-color: rgb(255.0000, 255,255.0000);\">0.0000</td><td style=\"background-color: rgb(255.0000, 255,255.0000);\">0.0000</td><td style=\"background-color: rgb(255.0000, 255,255.0000);\">0.0000</td><td style=\"background-color: rgb(255.0000, 255,255.0000);\">0.0000</td><td style=\"background-color: rgb(255.0000, 255,255.0000);\">0.0000</td></tr></table>"
      ],
      "text/plain": [
       "<IPython.core.display.HTML object>"
      ]
     },
     "metadata": {},
     "output_type": "display_data"
    },
    {
     "name": "stdout",
     "output_type": "stream",
     "text": [
      "true Motion pred_h Motion pred_fnh Motion\n"
     ]
    },
    {
     "data": {
      "text/html": [
       "<table><tr><td><b>words</b></td><td style=\"background-color: rgb(255,255,255);\">go</td><td style=\"background-color: rgb(255,255,255);\">to</td><td style=\"background-color: rgb(255,255,255);\">the</td><td style=\"background-color: rgb(255,255,255);\">hall</td></tr><tr><td><b>lu</b></td><td style=\"background-color: rgb(0.0000, 255,0.0000);\">1.0000</td><td style=\"background-color: rgb(255.0000, 255,255.0000);\">0.0000</td><td style=\"background-color: rgb(255.0000, 255,255.0000);\">0.0000</td><td style=\"background-color: rgb(255.0000, 255,255.0000);\">0.0000</td></tr><tr><td><b>h->h</b></td><td style=\"background-color: rgb(254.9998, 255,254.9998);\">0.0000</td><td style=\"background-color: rgb(252.1629, 255,252.1629);\">0.0111</td><td style=\"background-color: rgb(76.8941, 255,76.8941);\">0.6985</td><td style=\"background-color: rgb(180.9439, 255,180.9439);\">0.2904</td></tr><tr><td><b>fn+h->h</b></td><td style=\"background-color: rgb(0.0009, 255,0.0009);\">1.0000</td><td style=\"background-color: rgb(254.9991, 255,254.9991);\">0.0000</td><td style=\"background-color: rgb(255.0000, 255,255.0000);\">0.0000</td><td style=\"background-color: rgb(255.0000, 255,255.0000);\">0.0000</td></tr></table>"
      ],
      "text/plain": [
       "<IPython.core.display.HTML object>"
      ]
     },
     "metadata": {},
     "output_type": "display_data"
    },
    {
     "name": "stdout",
     "output_type": "stream",
     "text": [
      "true Motion pred_h Motion pred_fnh Motion\n"
     ]
    },
    {
     "data": {
      "text/html": [
       "<table><tr><td><b>words</b></td><td style=\"background-color: rgb(255,255,255);\">go</td><td style=\"background-color: rgb(255,255,255);\">to</td><td style=\"background-color: rgb(255,255,255);\">the</td><td style=\"background-color: rgb(255,255,255);\">bathroom</td></tr><tr><td><b>lu</b></td><td style=\"background-color: rgb(0.0000, 255,0.0000);\">1.0000</td><td style=\"background-color: rgb(255.0000, 255,255.0000);\">0.0000</td><td style=\"background-color: rgb(255.0000, 255,255.0000);\">0.0000</td><td style=\"background-color: rgb(255.0000, 255,255.0000);\">0.0000</td></tr><tr><td><b>h->h</b></td><td style=\"background-color: rgb(254.9997, 255,254.9997);\">0.0000</td><td style=\"background-color: rgb(251.3682, 255,251.3682);\">0.0142</td><td style=\"background-color: rgb(35.0255, 255,35.0255);\">0.8626</td><td style=\"background-color: rgb(223.6074, 255,223.6074);\">0.1231</td></tr><tr><td><b>fn+h->h</b></td><td style=\"background-color: rgb(0.0380, 255,0.0380);\">0.9999</td><td style=\"background-color: rgb(254.9620, 255,254.9620);\">0.0001</td><td style=\"background-color: rgb(255.0000, 255,255.0000);\">0.0000</td><td style=\"background-color: rgb(255.0000, 255,255.0000);\">0.0000</td></tr></table>"
      ],
      "text/plain": [
       "<IPython.core.display.HTML object>"
      ]
     },
     "metadata": {},
     "output_type": "display_data"
    },
    {
     "name": "stdout",
     "output_type": "stream",
     "text": [
      "true Taking pred_h Taking pred_fnh Taking\n"
     ]
    },
    {
     "data": {
      "text/html": [
       "<table><tr><td><b>words</b></td><td style=\"background-color: rgb(255,255,255);\">take</td><td style=\"background-color: rgb(255,255,255);\">the</td><td style=\"background-color: rgb(255,255,255);\">rag</td></tr><tr><td><b>lu</b></td><td style=\"background-color: rgb(0.0000, 255,0.0000);\">1.0000</td><td style=\"background-color: rgb(255.0000, 255,255.0000);\">0.0000</td><td style=\"background-color: rgb(255.0000, 255,255.0000);\">0.0000</td></tr><tr><td><b>h->h</b></td><td style=\"background-color: rgb(254.9231, 255,254.9231);\">0.0003</td><td style=\"background-color: rgb(2.9591, 255,2.9591);\">0.9884</td><td style=\"background-color: rgb(252.1796, 255,252.1796);\">0.0111</td></tr><tr><td><b>fn+h->h</b></td><td style=\"background-color: rgb(0.0000, 255,0.0000);\">1.0000</td><td style=\"background-color: rgb(255.0000, 255,255.0000);\">0.0000</td><td style=\"background-color: rgb(255.0000, 255,255.0000);\">0.0000</td></tr></table>"
      ],
      "text/plain": [
       "<IPython.core.display.HTML object>"
      ]
     },
     "metadata": {},
     "output_type": "display_data"
    },
    {
     "name": "stdout",
     "output_type": "stream",
     "text": [
      "true Motion pred_h Motion pred_fnh Motion\n"
     ]
    },
    {
     "data": {
      "text/html": [
       "<table><tr><td><b>words</b></td><td style=\"background-color: rgb(255,255,255);\">move</td><td style=\"background-color: rgb(255,255,255);\">near</td><td style=\"background-color: rgb(255,255,255);\">the</td><td style=\"background-color: rgb(255,255,255);\">television</td><td style=\"background-color: rgb(255,255,255);\">of</td><td style=\"background-color: rgb(255,255,255);\">the</td><td style=\"background-color: rgb(255,255,255);\">kitchen</td></tr><tr><td><b>lu</b></td><td style=\"background-color: rgb(0.0000, 255,0.0000);\">1.0000</td><td style=\"background-color: rgb(255.0000, 255,255.0000);\">0.0000</td><td style=\"background-color: rgb(255.0000, 255,255.0000);\">0.0000</td><td style=\"background-color: rgb(255.0000, 255,255.0000);\">0.0000</td><td style=\"background-color: rgb(255.0000, 255,255.0000);\">0.0000</td><td style=\"background-color: rgb(255.0000, 255,255.0000);\">0.0000</td><td style=\"background-color: rgb(255.0000, 255,255.0000);\">0.0000</td></tr><tr><td><b>h->h</b></td><td style=\"background-color: rgb(254.9992, 255,254.9992);\">0.0000</td><td style=\"background-color: rgb(254.0756, 255,254.0756);\">0.0036</td><td style=\"background-color: rgb(248.1002, 255,248.1002);\">0.0271</td><td style=\"background-color: rgb(245.5811, 255,245.5811);\">0.0369</td><td style=\"background-color: rgb(176.8294, 255,176.8294);\">0.3066</td><td style=\"background-color: rgb(98.0405, 255,98.0405);\">0.6155</td><td style=\"background-color: rgb(252.3746, 255,252.3746);\">0.0103</td></tr><tr><td><b>fn+h->h</b></td><td style=\"background-color: rgb(0.0021, 255,0.0021);\">1.0000</td><td style=\"background-color: rgb(254.9979, 255,254.9979);\">0.0000</td><td style=\"background-color: rgb(255.0000, 255,255.0000);\">0.0000</td><td style=\"background-color: rgb(255.0000, 255,255.0000);\">0.0000</td><td style=\"background-color: rgb(255.0000, 255,255.0000);\">0.0000</td><td style=\"background-color: rgb(255.0000, 255,255.0000);\">0.0000</td><td style=\"background-color: rgb(255.0000, 255,255.0000);\">0.0000</td></tr></table>"
      ],
      "text/plain": [
       "<IPython.core.display.HTML object>"
      ]
     },
     "metadata": {},
     "output_type": "display_data"
    },
    {
     "name": "stdout",
     "output_type": "stream",
     "text": [
      "true Bringing pred_h Bringing pred_fnh Bringing\n"
     ]
    },
    {
     "data": {
      "text/html": [
       "<table><tr><td><b>words</b></td><td style=\"background-color: rgb(255,255,255);\">bring</td><td style=\"background-color: rgb(255,255,255);\">me</td><td style=\"background-color: rgb(255,255,255);\">my</td><td style=\"background-color: rgb(255,255,255);\">towel</td><td style=\"background-color: rgb(255,255,255);\">that</td><td style=\"background-color: rgb(255,255,255);\">is</td><td style=\"background-color: rgb(255,255,255);\">in</td><td style=\"background-color: rgb(255,255,255);\">the</td><td style=\"background-color: rgb(255,255,255);\">bathroom</td></tr><tr><td><b>lu</b></td><td style=\"background-color: rgb(0.0000, 255,0.0000);\">1.0000</td><td style=\"background-color: rgb(255.0000, 255,255.0000);\">0.0000</td><td style=\"background-color: rgb(255.0000, 255,255.0000);\">0.0000</td><td style=\"background-color: rgb(255.0000, 255,255.0000);\">0.0000</td><td style=\"background-color: rgb(255.0000, 255,255.0000);\">0.0000</td><td style=\"background-color: rgb(255.0000, 255,255.0000);\">0.0000</td><td style=\"background-color: rgb(255.0000, 255,255.0000);\">0.0000</td><td style=\"background-color: rgb(255.0000, 255,255.0000);\">0.0000</td><td style=\"background-color: rgb(255.0000, 255,255.0000);\">0.0000</td></tr><tr><td><b>h->h</b></td><td style=\"background-color: rgb(254.9999, 255,254.9999);\">0.0000</td><td style=\"background-color: rgb(254.9872, 255,254.9872);\">0.0001</td><td style=\"background-color: rgb(254.7522, 255,254.7522);\">0.0010</td><td style=\"background-color: rgb(254.6099, 255,254.6099);\">0.0015</td><td style=\"background-color: rgb(254.8674, 255,254.8674);\">0.0005</td><td style=\"background-color: rgb(254.8102, 255,254.8102);\">0.0007</td><td style=\"background-color: rgb(249.7834, 255,249.7834);\">0.0205</td><td style=\"background-color: rgb(215.1836, 255,215.1836);\">0.1561</td><td style=\"background-color: rgb(46.0070, 255,46.0070);\">0.8196</td></tr><tr><td><b>fn+h->h</b></td><td style=\"background-color: rgb(39.1073, 255,39.1073);\">0.8466</td><td style=\"background-color: rgb(215.8927, 255,215.8927);\">0.1534</td><td style=\"background-color: rgb(255.0000, 255,255.0000);\">0.0000</td><td style=\"background-color: rgb(255.0000, 255,255.0000);\">0.0000</td><td style=\"background-color: rgb(255.0000, 255,255.0000);\">0.0000</td><td style=\"background-color: rgb(255.0000, 255,255.0000);\">0.0000</td><td style=\"background-color: rgb(255.0000, 255,255.0000);\">0.0000</td><td style=\"background-color: rgb(255.0000, 255,255.0000);\">0.0000</td><td style=\"background-color: rgb(255.0000, 255,255.0000);\">0.0000</td></tr></table>"
      ],
      "text/plain": [
       "<IPython.core.display.HTML object>"
      ]
     },
     "metadata": {},
     "output_type": "display_data"
    },
    {
     "name": "stdout",
     "output_type": "stream",
     "text": [
      "true Bringing pred_h Bringing pred_fnh Bringing\n"
     ]
    },
    {
     "data": {
      "text/html": [
       "<table><tr><td><b>words</b></td><td style=\"background-color: rgb(255,255,255);\">deliver</td><td style=\"background-color: rgb(255,255,255);\">this</td><td style=\"background-color: rgb(255,255,255);\">message</td><td style=\"background-color: rgb(255,255,255);\">to</td><td style=\"background-color: rgb(255,255,255);\">the</td><td style=\"background-color: rgb(255,255,255);\">person</td><td style=\"background-color: rgb(255,255,255);\">in</td><td style=\"background-color: rgb(255,255,255);\">the</td><td style=\"background-color: rgb(255,255,255);\">living</td><td style=\"background-color: rgb(255,255,255);\">room</td></tr><tr><td><b>lu</b></td><td style=\"background-color: rgb(0.0000, 255,0.0000);\">1.0000</td><td style=\"background-color: rgb(255.0000, 255,255.0000);\">0.0000</td><td style=\"background-color: rgb(255.0000, 255,255.0000);\">0.0000</td><td style=\"background-color: rgb(255.0000, 255,255.0000);\">0.0000</td><td style=\"background-color: rgb(255.0000, 255,255.0000);\">0.0000</td><td style=\"background-color: rgb(255.0000, 255,255.0000);\">0.0000</td><td style=\"background-color: rgb(255.0000, 255,255.0000);\">0.0000</td><td style=\"background-color: rgb(255.0000, 255,255.0000);\">0.0000</td><td style=\"background-color: rgb(255.0000, 255,255.0000);\">0.0000</td><td style=\"background-color: rgb(255.0000, 255,255.0000);\">0.0000</td></tr><tr><td><b>h->h</b></td><td style=\"background-color: rgb(254.9999, 255,254.9999);\">0.0000</td><td style=\"background-color: rgb(254.9911, 255,254.9911);\">0.0000</td><td style=\"background-color: rgb(254.9951, 255,254.9951);\">0.0000</td><td style=\"background-color: rgb(254.9308, 255,254.9308);\">0.0003</td><td style=\"background-color: rgb(254.7832, 255,254.7832);\">0.0009</td><td style=\"background-color: rgb(254.9258, 255,254.9258);\">0.0003</td><td style=\"background-color: rgb(252.8885, 255,252.8885);\">0.0083</td><td style=\"background-color: rgb(248.8945, 255,248.8945);\">0.0239</td><td style=\"background-color: rgb(231.1096, 255,231.1096);\">0.0937</td><td style=\"background-color: rgb(32.4822, 255,32.4822);\">0.8726</td></tr><tr><td><b>fn+h->h</b></td><td style=\"background-color: rgb(26.3419, 255,26.3419);\">0.8967</td><td style=\"background-color: rgb(255.0000, 255,255.0000);\">0.0000</td><td style=\"background-color: rgb(229.3523, 255,229.3523);\">0.1006</td><td style=\"background-color: rgb(254.3058, 255,254.3058);\">0.0027</td><td style=\"background-color: rgb(255.0000, 255,255.0000);\">0.0000</td><td style=\"background-color: rgb(255.0000, 255,255.0000);\">0.0000</td><td style=\"background-color: rgb(255.0000, 255,255.0000);\">0.0000</td><td style=\"background-color: rgb(255.0000, 255,255.0000);\">0.0000</td><td style=\"background-color: rgb(255.0000, 255,255.0000);\">0.0000</td><td style=\"background-color: rgb(255.0000, 255,255.0000);\">0.0000</td></tr></table>"
      ],
      "text/plain": [
       "<IPython.core.display.HTML object>"
      ]
     },
     "metadata": {},
     "output_type": "display_data"
    },
    {
     "name": "stdout",
     "output_type": "stream",
     "text": [
      "true Motion pred_h Motion pred_fnh Motion\n"
     ]
    },
    {
     "data": {
      "text/html": [
       "<table><tr><td><b>words</b></td><td style=\"background-color: rgb(255,255,255);\">go</td><td style=\"background-color: rgb(255,255,255);\">to</td><td style=\"background-color: rgb(255,255,255);\">living</td><td style=\"background-color: rgb(255,255,255);\">room</td></tr><tr><td><b>lu</b></td><td style=\"background-color: rgb(0.0000, 255,0.0000);\">1.0000</td><td style=\"background-color: rgb(255.0000, 255,255.0000);\">0.0000</td><td style=\"background-color: rgb(255.0000, 255,255.0000);\">0.0000</td><td style=\"background-color: rgb(255.0000, 255,255.0000);\">0.0000</td></tr><tr><td><b>h->h</b></td><td style=\"background-color: rgb(254.9997, 255,254.9997);\">0.0000</td><td style=\"background-color: rgb(250.0105, 255,250.0105);\">0.0196</td><td style=\"background-color: rgb(56.9024, 255,56.9024);\">0.7769</td><td style=\"background-color: rgb(203.0884, 255,203.0884);\">0.2036</td></tr><tr><td><b>fn+h->h</b></td><td style=\"background-color: rgb(0.0144, 255,0.0144);\">0.9999</td><td style=\"background-color: rgb(254.9856, 255,254.9856);\">0.0001</td><td style=\"background-color: rgb(255.0000, 255,255.0000);\">0.0000</td><td style=\"background-color: rgb(255.0000, 255,255.0000);\">0.0000</td></tr></table>"
      ],
      "text/plain": [
       "<IPython.core.display.HTML object>"
      ]
     },
     "metadata": {},
     "output_type": "display_data"
    },
    {
     "name": "stdout",
     "output_type": "stream",
     "text": [
      "true Taking pred_h Taking pred_fnh Taking\n"
     ]
    },
    {
     "data": {
      "text/html": [
       "<table><tr><td><b>words</b></td><td style=\"background-color: rgb(255,255,255);\">take</td><td style=\"background-color: rgb(255,255,255);\">the</td><td style=\"background-color: rgb(255,255,255);\">remote</td><td style=\"background-color: rgb(255,255,255);\">control</td></tr><tr><td><b>lu</b></td><td style=\"background-color: rgb(0.0000, 255,0.0000);\">1.0000</td><td style=\"background-color: rgb(255.0000, 255,255.0000);\">0.0000</td><td style=\"background-color: rgb(255.0000, 255,255.0000);\">0.0000</td><td style=\"background-color: rgb(255.0000, 255,255.0000);\">0.0000</td></tr><tr><td><b>h->h</b></td><td style=\"background-color: rgb(254.9773, 255,254.9773);\">0.0001</td><td style=\"background-color: rgb(237.1427, 255,237.1427);\">0.0700</td><td style=\"background-color: rgb(18.2080, 255,18.2080);\">0.9286</td><td style=\"background-color: rgb(254.6888, 255,254.6888);\">0.0012</td></tr><tr><td><b>fn+h->h</b></td><td style=\"background-color: rgb(0.5794, 255,0.5794);\">0.9977</td><td style=\"background-color: rgb(254.9999, 255,254.9999);\">0.0000</td><td style=\"background-color: rgb(254.4207, 255,254.4207);\">0.0023</td><td style=\"background-color: rgb(255.0000, 255,255.0000);\">0.0000</td></tr></table>"
      ],
      "text/plain": [
       "<IPython.core.display.HTML object>"
      ]
     },
     "metadata": {},
     "output_type": "display_data"
    },
    {
     "name": "stdout",
     "output_type": "stream",
     "text": [
      "true Motion pred_h Motion pred_fnh Motion\n"
     ]
    },
    {
     "data": {
      "text/html": [
       "<table><tr><td><b>words</b></td><td style=\"background-color: rgb(255,255,255);\">go</td><td style=\"background-color: rgb(255,255,255);\">in</td><td style=\"background-color: rgb(255,255,255);\">front</td><td style=\"background-color: rgb(255,255,255);\">of</td><td style=\"background-color: rgb(255,255,255);\">the</td><td style=\"background-color: rgb(255,255,255);\">main</td><td style=\"background-color: rgb(255,255,255);\">door</td></tr><tr><td><b>lu</b></td><td style=\"background-color: rgb(0.0000, 255,0.0000);\">1.0000</td><td style=\"background-color: rgb(255.0000, 255,255.0000);\">0.0000</td><td style=\"background-color: rgb(255.0000, 255,255.0000);\">0.0000</td><td style=\"background-color: rgb(255.0000, 255,255.0000);\">0.0000</td><td style=\"background-color: rgb(255.0000, 255,255.0000);\">0.0000</td><td style=\"background-color: rgb(255.0000, 255,255.0000);\">0.0000</td><td style=\"background-color: rgb(255.0000, 255,255.0000);\">0.0000</td></tr><tr><td><b>h->h</b></td><td style=\"background-color: rgb(254.9998, 255,254.9998);\">0.0000</td><td style=\"background-color: rgb(250.1307, 255,250.1307);\">0.0191</td><td style=\"background-color: rgb(222.9422, 255,222.9422);\">0.1257</td><td style=\"background-color: rgb(211.5671, 255,211.5671);\">0.1703</td><td style=\"background-color: rgb(180.8193, 255,180.8193);\">0.2909</td><td style=\"background-color: rgb(155.5455, 255,155.5455);\">0.3900</td><td style=\"background-color: rgb(253.9958, 255,253.9958);\">0.0039</td></tr><tr><td><b>fn+h->h</b></td><td style=\"background-color: rgb(0.0000, 255,0.0000);\">1.0000</td><td style=\"background-color: rgb(255.0000, 255,255.0000);\">0.0000</td><td style=\"background-color: rgb(255.0000, 255,255.0000);\">0.0000</td><td style=\"background-color: rgb(255.0000, 255,255.0000);\">0.0000</td><td style=\"background-color: rgb(255.0000, 255,255.0000);\">0.0000</td><td style=\"background-color: rgb(255.0000, 255,255.0000);\">0.0000</td><td style=\"background-color: rgb(255.0000, 255,255.0000);\">0.0000</td></tr></table>"
      ],
      "text/plain": [
       "<IPython.core.display.HTML object>"
      ]
     },
     "metadata": {},
     "output_type": "display_data"
    },
    {
     "name": "stdout",
     "output_type": "stream",
     "text": [
      "true Taking pred_h Taking pred_fnh Taking\n"
     ]
    },
    {
     "data": {
      "text/html": [
       "<table><tr><td><b>words</b></td><td style=\"background-color: rgb(255,255,255);\">grab</td><td style=\"background-color: rgb(255,255,255);\">the</td><td style=\"background-color: rgb(255,255,255);\">box</td><td style=\"background-color: rgb(255,255,255);\">on</td><td style=\"background-color: rgb(255,255,255);\">the</td><td style=\"background-color: rgb(255,255,255);\">left</td><td style=\"background-color: rgb(255,255,255);\">of</td><td style=\"background-color: rgb(255,255,255);\">the</td><td style=\"background-color: rgb(255,255,255);\">desktop</td></tr><tr><td><b>lu</b></td><td style=\"background-color: rgb(0.0000, 255,0.0000);\">1.0000</td><td style=\"background-color: rgb(255.0000, 255,255.0000);\">0.0000</td><td style=\"background-color: rgb(255.0000, 255,255.0000);\">0.0000</td><td style=\"background-color: rgb(255.0000, 255,255.0000);\">0.0000</td><td style=\"background-color: rgb(255.0000, 255,255.0000);\">0.0000</td><td style=\"background-color: rgb(255.0000, 255,255.0000);\">0.0000</td><td style=\"background-color: rgb(255.0000, 255,255.0000);\">0.0000</td><td style=\"background-color: rgb(255.0000, 255,255.0000);\">0.0000</td><td style=\"background-color: rgb(255.0000, 255,255.0000);\">0.0000</td></tr><tr><td><b>h->h</b></td><td style=\"background-color: rgb(254.9419, 255,254.9419);\">0.0002</td><td style=\"background-color: rgb(236.7661, 255,236.7661);\">0.0715</td><td style=\"background-color: rgb(251.6495, 255,251.6495);\">0.0131</td><td style=\"background-color: rgb(250.7809, 255,250.7809);\">0.0165</td><td style=\"background-color: rgb(254.8764, 255,254.8764);\">0.0005</td><td style=\"background-color: rgb(254.8637, 255,254.8637);\">0.0005</td><td style=\"background-color: rgb(248.8909, 255,248.8909);\">0.0240</td><td style=\"background-color: rgb(33.9076, 255,33.9076);\">0.8670</td><td style=\"background-color: rgb(253.3323, 255,253.3323);\">0.0065</td></tr><tr><td><b>fn+h->h</b></td><td style=\"background-color: rgb(0.0000, 255,0.0000);\">1.0000</td><td style=\"background-color: rgb(255.0000, 255,255.0000);\">0.0000</td><td style=\"background-color: rgb(255.0000, 255,255.0000);\">0.0000</td><td style=\"background-color: rgb(255.0000, 255,255.0000);\">0.0000</td><td style=\"background-color: rgb(255.0000, 255,255.0000);\">0.0000</td><td style=\"background-color: rgb(255.0000, 255,255.0000);\">0.0000</td><td style=\"background-color: rgb(255.0000, 255,255.0000);\">0.0000</td><td style=\"background-color: rgb(255.0000, 255,255.0000);\">0.0000</td><td style=\"background-color: rgb(255.0000, 255,255.0000);\">0.0000</td></tr></table>"
      ],
      "text/plain": [
       "<IPython.core.display.HTML object>"
      ]
     },
     "metadata": {},
     "output_type": "display_data"
    },
    {
     "name": "stdout",
     "output_type": "stream",
     "text": [
      "true Inspecting pred_h Inspecting pred_fnh Inspecting\n"
     ]
    },
    {
     "data": {
      "text/html": [
       "<table><tr><td><b>words</b></td><td style=\"background-color: rgb(255,255,255);\">check</td><td style=\"background-color: rgb(255,255,255);\">the</td><td style=\"background-color: rgb(255,255,255);\">toilet</td><td style=\"background-color: rgb(255,255,255);\">paper</td></tr><tr><td><b>lu</b></td><td style=\"background-color: rgb(0.0000, 255,0.0000);\">1.0000</td><td style=\"background-color: rgb(255.0000, 255,255.0000);\">0.0000</td><td style=\"background-color: rgb(255.0000, 255,255.0000);\">0.0000</td><td style=\"background-color: rgb(255.0000, 255,255.0000);\">0.0000</td></tr><tr><td><b>h->h</b></td><td style=\"background-color: rgb(254.9399, 255,254.9399);\">0.0002</td><td style=\"background-color: rgb(246.0848, 255,246.0848);\">0.0350</td><td style=\"background-color: rgb(77.4056, 255,77.4056);\">0.6964</td><td style=\"background-color: rgb(186.6851, 255,186.6851);\">0.2679</td></tr><tr><td><b>fn+h->h</b></td><td style=\"background-color: rgb(0.0000, 255,0.0000);\">1.0000</td><td style=\"background-color: rgb(255.0000, 255,255.0000);\">0.0000</td><td style=\"background-color: rgb(255.0000, 255,255.0000);\">0.0000</td><td style=\"background-color: rgb(255.0000, 255,255.0000);\">0.0000</td></tr></table>"
      ],
      "text/plain": [
       "<IPython.core.display.HTML object>"
      ]
     },
     "metadata": {},
     "output_type": "display_data"
    },
    {
     "name": "stdout",
     "output_type": "stream",
     "text": [
      "true Motion pred_h Motion pred_fnh Motion\n"
     ]
    },
    {
     "data": {
      "text/html": [
       "<table><tr><td><b>words</b></td><td style=\"background-color: rgb(255,255,255);\">please</td><td style=\"background-color: rgb(255,255,255);\">move</td><td style=\"background-color: rgb(255,255,255);\">to</td><td style=\"background-color: rgb(255,255,255);\">the</td><td style=\"background-color: rgb(255,255,255);\">front</td><td style=\"background-color: rgb(255,255,255);\">of</td><td style=\"background-color: rgb(255,255,255);\">the</td><td style=\"background-color: rgb(255,255,255);\">fridge</td></tr><tr><td><b>lu</b></td><td style=\"background-color: rgb(255.0000, 255,255.0000);\">0.0000</td><td style=\"background-color: rgb(0.0000, 255,0.0000);\">1.0000</td><td style=\"background-color: rgb(255.0000, 255,255.0000);\">0.0000</td><td style=\"background-color: rgb(255.0000, 255,255.0000);\">0.0000</td><td style=\"background-color: rgb(255.0000, 255,255.0000);\">0.0000</td><td style=\"background-color: rgb(255.0000, 255,255.0000);\">0.0000</td><td style=\"background-color: rgb(255.0000, 255,255.0000);\">0.0000</td><td style=\"background-color: rgb(255.0000, 255,255.0000);\">0.0000</td></tr><tr><td><b>h->h</b></td><td style=\"background-color: rgb(255.0000, 255,255.0000);\">0.0000</td><td style=\"background-color: rgb(254.9998, 255,254.9998);\">0.0000</td><td style=\"background-color: rgb(254.8167, 255,254.8167);\">0.0007</td><td style=\"background-color: rgb(247.9114, 255,247.9114);\">0.0278</td><td style=\"background-color: rgb(237.3300, 255,237.3300);\">0.0693</td><td style=\"background-color: rgb(194.2602, 255,194.2602);\">0.2382</td><td style=\"background-color: rgb(104.0094, 255,104.0094);\">0.5921</td><td style=\"background-color: rgb(236.6732, 255,236.6732);\">0.0719</td></tr><tr><td><b>fn+h->h</b></td><td style=\"background-color: rgb(255.0000, 255,255.0000);\">0.0000</td><td style=\"background-color: rgb(0.0002, 255,0.0002);\">1.0000</td><td style=\"background-color: rgb(254.9998, 255,254.9998);\">0.0000</td><td style=\"background-color: rgb(255.0000, 255,255.0000);\">0.0000</td><td style=\"background-color: rgb(255.0000, 255,255.0000);\">0.0000</td><td style=\"background-color: rgb(255.0000, 255,255.0000);\">0.0000</td><td style=\"background-color: rgb(255.0000, 255,255.0000);\">0.0000</td><td style=\"background-color: rgb(255.0000, 255,255.0000);\">0.0000</td></tr></table>"
      ],
      "text/plain": [
       "<IPython.core.display.HTML object>"
      ]
     },
     "metadata": {},
     "output_type": "display_data"
    },
    {
     "name": "stdout",
     "output_type": "stream",
     "text": [
      "true Inspecting pred_h Inspecting pred_fnh Inspecting\n"
     ]
    },
    {
     "data": {
      "text/html": [
       "<table><tr><td><b>words</b></td><td style=\"background-color: rgb(255,255,255);\">could</td><td style=\"background-color: rgb(255,255,255);\">you</td><td style=\"background-color: rgb(255,255,255);\">please</td><td style=\"background-color: rgb(255,255,255);\">check</td><td style=\"background-color: rgb(255,255,255);\">if</td><td style=\"background-color: rgb(255,255,255);\">the</td><td style=\"background-color: rgb(255,255,255);\">coffee</td><td style=\"background-color: rgb(255,255,255);\">is</td><td style=\"background-color: rgb(255,255,255);\">ready</td></tr><tr><td><b>lu</b></td><td style=\"background-color: rgb(255.0000, 255,255.0000);\">0.0000</td><td style=\"background-color: rgb(255.0000, 255,255.0000);\">0.0000</td><td style=\"background-color: rgb(255.0000, 255,255.0000);\">0.0000</td><td style=\"background-color: rgb(0.0000, 255,0.0000);\">1.0000</td><td style=\"background-color: rgb(255.0000, 255,255.0000);\">0.0000</td><td style=\"background-color: rgb(255.0000, 255,255.0000);\">0.0000</td><td style=\"background-color: rgb(255.0000, 255,255.0000);\">0.0000</td><td style=\"background-color: rgb(255.0000, 255,255.0000);\">0.0000</td><td style=\"background-color: rgb(255.0000, 255,255.0000);\">0.0000</td></tr><tr><td><b>h->h</b></td><td style=\"background-color: rgb(254.9999, 255,254.9999);\">0.0000</td><td style=\"background-color: rgb(255.0000, 255,255.0000);\">0.0000</td><td style=\"background-color: rgb(255.0000, 255,255.0000);\">0.0000</td><td style=\"background-color: rgb(255.0000, 255,255.0000);\">0.0000</td><td style=\"background-color: rgb(254.9651, 255,254.9651);\">0.0001</td><td style=\"background-color: rgb(230.1828, 255,230.1828);\">0.0973</td><td style=\"background-color: rgb(25.4059, 255,25.4059);\">0.9004</td><td style=\"background-color: rgb(254.4851, 255,254.4851);\">0.0020</td><td style=\"background-color: rgb(254.9796, 255,254.9796);\">0.0001</td></tr><tr><td><b>fn+h->h</b></td><td style=\"background-color: rgb(255.0000, 255,255.0000);\">0.0000</td><td style=\"background-color: rgb(255.0000, 255,255.0000);\">0.0000</td><td style=\"background-color: rgb(255.0000, 255,255.0000);\">0.0000</td><td style=\"background-color: rgb(0.0027, 255,0.0027);\">1.0000</td><td style=\"background-color: rgb(254.9973, 255,254.9973);\">0.0000</td><td style=\"background-color: rgb(255.0000, 255,255.0000);\">0.0000</td><td style=\"background-color: rgb(255.0000, 255,255.0000);\">0.0000</td><td style=\"background-color: rgb(255.0000, 255,255.0000);\">0.0000</td><td style=\"background-color: rgb(255.0000, 255,255.0000);\">0.0000</td></tr></table>"
      ],
      "text/plain": [
       "<IPython.core.display.HTML object>"
      ]
     },
     "metadata": {},
     "output_type": "display_data"
    },
    {
     "name": "stdout",
     "output_type": "stream",
     "text": [
      "true Giving pred_h Bringing pred_fnh Giving\n"
     ]
    },
    {
     "data": {
      "text/html": [
       "<table><tr><td><b>words</b></td><td style=\"background-color: rgb(255,255,255);\">give</td><td style=\"background-color: rgb(255,255,255);\">me</td><td style=\"background-color: rgb(255,255,255);\">the</td><td style=\"background-color: rgb(255,255,255);\">towel</td></tr><tr><td><b>lu</b></td><td style=\"background-color: rgb(0.0000, 255,0.0000);\">1.0000</td><td style=\"background-color: rgb(255.0000, 255,255.0000);\">0.0000</td><td style=\"background-color: rgb(255.0000, 255,255.0000);\">0.0000</td><td style=\"background-color: rgb(255.0000, 255,255.0000);\">0.0000</td></tr><tr><td><b>h->h</b></td><td style=\"background-color: rgb(254.9998, 255,254.9998);\">0.0000</td><td style=\"background-color: rgb(254.9461, 255,254.9461);\">0.0002</td><td style=\"background-color: rgb(243.4886, 255,243.4886);\">0.0451</td><td style=\"background-color: rgb(11.5785, 255,11.5785);\">0.9546</td></tr><tr><td><b>fn+h->h</b></td><td style=\"background-color: rgb(89.6156, 255,89.6156);\">0.6486</td><td style=\"background-color: rgb(165.3844, 255,165.3844);\">0.3514</td><td style=\"background-color: rgb(255.0000, 255,255.0000);\">0.0000</td><td style=\"background-color: rgb(255.0000, 255,255.0000);\">0.0000</td></tr></table>"
      ],
      "text/plain": [
       "<IPython.core.display.HTML object>"
      ]
     },
     "metadata": {},
     "output_type": "display_data"
    },
    {
     "name": "stdout",
     "output_type": "stream",
     "text": [
      "true Bringing pred_h Bringing pred_fnh Bringing\n"
     ]
    },
    {
     "data": {
      "text/html": [
       "<table><tr><td><b>words</b></td><td style=\"background-color: rgb(255,255,255);\">bring</td><td style=\"background-color: rgb(255,255,255);\">the</td><td style=\"background-color: rgb(255,255,255);\">box</td><td style=\"background-color: rgb(255,255,255);\">near</td><td style=\"background-color: rgb(255,255,255);\">the</td><td style=\"background-color: rgb(255,255,255);\">closet</td><td style=\"background-color: rgb(255,255,255);\">of</td><td style=\"background-color: rgb(255,255,255);\">the</td><td style=\"background-color: rgb(255,255,255);\">bedroom</td></tr><tr><td><b>lu</b></td><td style=\"background-color: rgb(0.0000, 255,0.0000);\">1.0000</td><td style=\"background-color: rgb(255.0000, 255,255.0000);\">0.0000</td><td style=\"background-color: rgb(255.0000, 255,255.0000);\">0.0000</td><td style=\"background-color: rgb(255.0000, 255,255.0000);\">0.0000</td><td style=\"background-color: rgb(255.0000, 255,255.0000);\">0.0000</td><td style=\"background-color: rgb(255.0000, 255,255.0000);\">0.0000</td><td style=\"background-color: rgb(255.0000, 255,255.0000);\">0.0000</td><td style=\"background-color: rgb(255.0000, 255,255.0000);\">0.0000</td><td style=\"background-color: rgb(255.0000, 255,255.0000);\">0.0000</td></tr><tr><td><b>h->h</b></td><td style=\"background-color: rgb(254.9998, 255,254.9998);\">0.0000</td><td style=\"background-color: rgb(254.9254, 255,254.9254);\">0.0003</td><td style=\"background-color: rgb(254.9552, 255,254.9552);\">0.0002</td><td style=\"background-color: rgb(254.7977, 255,254.7977);\">0.0008</td><td style=\"background-color: rgb(253.7119, 255,253.7119);\">0.0051</td><td style=\"background-color: rgb(253.7866, 255,253.7866);\">0.0048</td><td style=\"background-color: rgb(246.1103, 255,246.1103);\">0.0349</td><td style=\"background-color: rgb(229.2214, 255,229.2214);\">0.1011</td><td style=\"background-color: rgb(37.4926, 255,37.4926);\">0.8530</td></tr><tr><td><b>fn+h->h</b></td><td style=\"background-color: rgb(0.0927, 255,0.0927);\">0.9996</td><td style=\"background-color: rgb(255.0000, 255,255.0000);\">0.0000</td><td style=\"background-color: rgb(254.9079, 255,254.9079);\">0.0004</td><td style=\"background-color: rgb(254.9995, 255,254.9995);\">0.0000</td><td style=\"background-color: rgb(255.0000, 255,255.0000);\">0.0000</td><td style=\"background-color: rgb(255.0000, 255,255.0000);\">0.0000</td><td style=\"background-color: rgb(255.0000, 255,255.0000);\">0.0000</td><td style=\"background-color: rgb(255.0000, 255,255.0000);\">0.0000</td><td style=\"background-color: rgb(255.0000, 255,255.0000);\">0.0000</td></tr></table>"
      ],
      "text/plain": [
       "<IPython.core.display.HTML object>"
      ]
     },
     "metadata": {},
     "output_type": "display_data"
    },
    {
     "name": "stdout",
     "output_type": "stream",
     "text": [
      "true Entering pred_h Entering pred_fnh Entering\n"
     ]
    },
    {
     "data": {
      "text/html": [
       "<table><tr><td><b>words</b></td><td style=\"background-color: rgb(255,255,255);\">enter</td><td style=\"background-color: rgb(255,255,255);\">the</td><td style=\"background-color: rgb(255,255,255);\">door</td></tr><tr><td><b>lu</b></td><td style=\"background-color: rgb(0.0000, 255,0.0000);\">1.0000</td><td style=\"background-color: rgb(255.0000, 255,255.0000);\">0.0000</td><td style=\"background-color: rgb(255.0000, 255,255.0000);\">0.0000</td></tr><tr><td><b>h->h</b></td><td style=\"background-color: rgb(254.9050, 255,254.9050);\">0.0004</td><td style=\"background-color: rgb(13.3195, 255,13.3195);\">0.9478</td><td style=\"background-color: rgb(241.8001, 255,241.8001);\">0.0518</td></tr><tr><td><b>fn+h->h</b></td><td style=\"background-color: rgb(0.0000, 255,0.0000);\">1.0000</td><td style=\"background-color: rgb(255.0000, 255,255.0000);\">0.0000</td><td style=\"background-color: rgb(255.0000, 255,255.0000);\">0.0000</td></tr></table>"
      ],
      "text/plain": [
       "<IPython.core.display.HTML object>"
      ]
     },
     "metadata": {},
     "output_type": "display_data"
    },
    {
     "name": "stdout",
     "output_type": "stream",
     "text": [
      "true Closure pred_h Closure pred_fnh Closure\n"
     ]
    },
    {
     "data": {
      "text/html": [
       "<table><tr><td><b>words</b></td><td style=\"background-color: rgb(255,255,255);\">open</td><td style=\"background-color: rgb(255,255,255);\">the</td><td style=\"background-color: rgb(255,255,255);\">bottle</td></tr><tr><td><b>lu</b></td><td style=\"background-color: rgb(0.0000, 255,0.0000);\">1.0000</td><td style=\"background-color: rgb(255.0000, 255,255.0000);\">0.0000</td><td style=\"background-color: rgb(255.0000, 255,255.0000);\">0.0000</td></tr><tr><td><b>h->h</b></td><td style=\"background-color: rgb(254.7805, 255,254.7805);\">0.0009</td><td style=\"background-color: rgb(1.7024, 255,1.7024);\">0.9933</td><td style=\"background-color: rgb(253.6131, 255,253.6131);\">0.0054</td></tr><tr><td><b>fn+h->h</b></td><td style=\"background-color: rgb(0.0028, 255,0.0028);\">1.0000</td><td style=\"background-color: rgb(255.0000, 255,255.0000);\">0.0000</td><td style=\"background-color: rgb(254.9972, 255,254.9972);\">0.0000</td></tr></table>"
      ],
      "text/plain": [
       "<IPython.core.display.HTML object>"
      ]
     },
     "metadata": {},
     "output_type": "display_data"
    },
    {
     "name": "stdout",
     "output_type": "stream",
     "text": [
      "true Bringing pred_h Bringing pred_fnh Bringing\n"
     ]
    },
    {
     "data": {
      "text/html": [
       "<table><tr><td><b>words</b></td><td style=\"background-color: rgb(255,255,255);\">bring</td><td style=\"background-color: rgb(255,255,255);\">the</td><td style=\"background-color: rgb(255,255,255);\">paper</td><td style=\"background-color: rgb(255,255,255);\">near</td><td style=\"background-color: rgb(255,255,255);\">the</td><td style=\"background-color: rgb(255,255,255);\">television</td></tr><tr><td><b>lu</b></td><td style=\"background-color: rgb(0.0000, 255,0.0000);\">1.0000</td><td style=\"background-color: rgb(255.0000, 255,255.0000);\">0.0000</td><td style=\"background-color: rgb(255.0000, 255,255.0000);\">0.0000</td><td style=\"background-color: rgb(255.0000, 255,255.0000);\">0.0000</td><td style=\"background-color: rgb(255.0000, 255,255.0000);\">0.0000</td><td style=\"background-color: rgb(255.0000, 255,255.0000);\">0.0000</td></tr><tr><td><b>h->h</b></td><td style=\"background-color: rgb(254.9993, 255,254.9993);\">0.0000</td><td style=\"background-color: rgb(254.9179, 255,254.9179);\">0.0003</td><td style=\"background-color: rgb(254.9577, 255,254.9577);\">0.0002</td><td style=\"background-color: rgb(253.7868, 255,253.7868);\">0.0048</td><td style=\"background-color: rgb(203.5833, 255,203.5833);\">0.2016</td><td style=\"background-color: rgb(52.7556, 255,52.7556);\">0.7931</td></tr><tr><td><b>fn+h->h</b></td><td style=\"background-color: rgb(0.0424, 255,0.0424);\">0.9998</td><td style=\"background-color: rgb(255.0000, 255,255.0000);\">0.0000</td><td style=\"background-color: rgb(255.0000, 255,255.0000);\">0.0000</td><td style=\"background-color: rgb(254.9576, 255,254.9576);\">0.0002</td><td style=\"background-color: rgb(255.0000, 255,255.0000);\">0.0000</td><td style=\"background-color: rgb(255.0000, 255,255.0000);\">0.0000</td></tr></table>"
      ],
      "text/plain": [
       "<IPython.core.display.HTML object>"
      ]
     },
     "metadata": {},
     "output_type": "display_data"
    },
    {
     "name": "stdout",
     "output_type": "stream",
     "text": [
      "true Bringing pred_h Bringing pred_fnh Bringing\n"
     ]
    },
    {
     "data": {
      "text/html": [
       "<table><tr><td><b>words</b></td><td style=\"background-color: rgb(255,255,255);\">bring</td><td style=\"background-color: rgb(255,255,255);\">the</td><td style=\"background-color: rgb(255,255,255);\">pillow</td><td style=\"background-color: rgb(255,255,255);\">to</td><td style=\"background-color: rgb(255,255,255);\">the</td><td style=\"background-color: rgb(255,255,255);\">couch</td><td style=\"background-color: rgb(255,255,255);\">of</td><td style=\"background-color: rgb(255,255,255);\">the</td><td style=\"background-color: rgb(255,255,255);\">bedroom</td></tr><tr><td><b>lu</b></td><td style=\"background-color: rgb(0.0000, 255,0.0000);\">1.0000</td><td style=\"background-color: rgb(255.0000, 255,255.0000);\">0.0000</td><td style=\"background-color: rgb(255.0000, 255,255.0000);\">0.0000</td><td style=\"background-color: rgb(255.0000, 255,255.0000);\">0.0000</td><td style=\"background-color: rgb(255.0000, 255,255.0000);\">0.0000</td><td style=\"background-color: rgb(255.0000, 255,255.0000);\">0.0000</td><td style=\"background-color: rgb(255.0000, 255,255.0000);\">0.0000</td><td style=\"background-color: rgb(255.0000, 255,255.0000);\">0.0000</td><td style=\"background-color: rgb(255.0000, 255,255.0000);\">0.0000</td></tr><tr><td><b>h->h</b></td><td style=\"background-color: rgb(254.9997, 255,254.9997);\">0.0000</td><td style=\"background-color: rgb(254.9112, 255,254.9112);\">0.0003</td><td style=\"background-color: rgb(254.9570, 255,254.9570);\">0.0002</td><td style=\"background-color: rgb(254.8312, 255,254.8312);\">0.0007</td><td style=\"background-color: rgb(253.5414, 255,253.5414);\">0.0057</td><td style=\"background-color: rgb(253.6799, 255,253.6799);\">0.0052</td><td style=\"background-color: rgb(247.5744, 255,247.5744);\">0.0291</td><td style=\"background-color: rgb(232.3657, 255,232.3657);\">0.0888</td><td style=\"background-color: rgb(33.1404, 255,33.1404);\">0.8700</td></tr><tr><td><b>fn+h->h</b></td><td style=\"background-color: rgb(3.8718, 255,3.8718);\">0.9848</td><td style=\"background-color: rgb(255.0000, 255,255.0000);\">0.0000</td><td style=\"background-color: rgb(255.0000, 255,255.0000);\">0.0000</td><td style=\"background-color: rgb(251.1282, 255,251.1282);\">0.0152</td><td style=\"background-color: rgb(255.0000, 255,255.0000);\">0.0000</td><td style=\"background-color: rgb(255.0000, 255,255.0000);\">0.0000</td><td style=\"background-color: rgb(255.0000, 255,255.0000);\">0.0000</td><td style=\"background-color: rgb(255.0000, 255,255.0000);\">0.0000</td><td style=\"background-color: rgb(255.0000, 255,255.0000);\">0.0000</td></tr></table>"
      ],
      "text/plain": [
       "<IPython.core.display.HTML object>"
      ]
     },
     "metadata": {},
     "output_type": "display_data"
    },
    {
     "name": "stdout",
     "output_type": "stream",
     "text": [
      "true Bringing pred_h Bringing pred_fnh Bringing\n"
     ]
    },
    {
     "data": {
      "text/html": [
       "<table><tr><td><b>words</b></td><td style=\"background-color: rgb(255,255,255);\">carry</td><td style=\"background-color: rgb(255,255,255);\">the</td><td style=\"background-color: rgb(255,255,255);\">paper</td><td style=\"background-color: rgb(255,255,255);\">near</td><td style=\"background-color: rgb(255,255,255);\">the</td><td style=\"background-color: rgb(255,255,255);\">counter</td></tr><tr><td><b>lu</b></td><td style=\"background-color: rgb(0.0000, 255,0.0000);\">1.0000</td><td style=\"background-color: rgb(255.0000, 255,255.0000);\">0.0000</td><td style=\"background-color: rgb(255.0000, 255,255.0000);\">0.0000</td><td style=\"background-color: rgb(255.0000, 255,255.0000);\">0.0000</td><td style=\"background-color: rgb(255.0000, 255,255.0000);\">0.0000</td><td style=\"background-color: rgb(255.0000, 255,255.0000);\">0.0000</td></tr><tr><td><b>h->h</b></td><td style=\"background-color: rgb(254.9998, 255,254.9998);\">0.0000</td><td style=\"background-color: rgb(254.9132, 255,254.9132);\">0.0003</td><td style=\"background-color: rgb(254.9900, 255,254.9900);\">0.0000</td><td style=\"background-color: rgb(253.8402, 255,253.8402);\">0.0045</td><td style=\"background-color: rgb(210.8975, 255,210.8975);\">0.1730</td><td style=\"background-color: rgb(45.3601, 255,45.3601);\">0.8221</td></tr><tr><td><b>fn+h->h</b></td><td style=\"background-color: rgb(0.0894, 255,0.0894);\">0.9996</td><td style=\"background-color: rgb(255.0000, 255,255.0000);\">0.0000</td><td style=\"background-color: rgb(255.0000, 255,255.0000);\">0.0000</td><td style=\"background-color: rgb(254.9107, 255,254.9107);\">0.0004</td><td style=\"background-color: rgb(255.0000, 255,255.0000);\">0.0000</td><td style=\"background-color: rgb(255.0000, 255,255.0000);\">0.0000</td></tr></table>"
      ],
      "text/plain": [
       "<IPython.core.display.HTML object>"
      ]
     },
     "metadata": {},
     "output_type": "display_data"
    },
    {
     "name": "stdout",
     "output_type": "stream",
     "text": [
      "true Bringing pred_h Bringing pred_fnh Bringing\n"
     ]
    },
    {
     "data": {
      "text/html": [
       "<table><tr><td><b>words</b></td><td style=\"background-color: rgb(255,255,255);\">carry</td><td style=\"background-color: rgb(255,255,255);\">the</td><td style=\"background-color: rgb(255,255,255);\">pillow</td><td style=\"background-color: rgb(255,255,255);\">near</td><td style=\"background-color: rgb(255,255,255);\">the</td><td style=\"background-color: rgb(255,255,255);\">window</td><td style=\"background-color: rgb(255,255,255);\">of</td><td style=\"background-color: rgb(255,255,255);\">the</td><td style=\"background-color: rgb(255,255,255);\">bedroom</td></tr><tr><td><b>lu</b></td><td style=\"background-color: rgb(0.0000, 255,0.0000);\">1.0000</td><td style=\"background-color: rgb(255.0000, 255,255.0000);\">0.0000</td><td style=\"background-color: rgb(255.0000, 255,255.0000);\">0.0000</td><td style=\"background-color: rgb(255.0000, 255,255.0000);\">0.0000</td><td style=\"background-color: rgb(255.0000, 255,255.0000);\">0.0000</td><td style=\"background-color: rgb(255.0000, 255,255.0000);\">0.0000</td><td style=\"background-color: rgb(255.0000, 255,255.0000);\">0.0000</td><td style=\"background-color: rgb(255.0000, 255,255.0000);\">0.0000</td><td style=\"background-color: rgb(255.0000, 255,255.0000);\">0.0000</td></tr><tr><td><b>h->h</b></td><td style=\"background-color: rgb(254.9997, 255,254.9997);\">0.0000</td><td style=\"background-color: rgb(254.8060, 255,254.8060);\">0.0008</td><td style=\"background-color: rgb(254.9708, 255,254.9708);\">0.0001</td><td style=\"background-color: rgb(254.4329, 255,254.4329);\">0.0022</td><td style=\"background-color: rgb(248.7686, 255,248.7686);\">0.0244</td><td style=\"background-color: rgb(250.7387, 255,250.7387);\">0.0167</td><td style=\"background-color: rgb(246.7508, 255,246.7508);\">0.0323</td><td style=\"background-color: rgb(230.1258, 255,230.1258);\">0.0975</td><td style=\"background-color: rgb(44.4074, 255,44.4074);\">0.8259</td></tr><tr><td><b>fn+h->h</b></td><td style=\"background-color: rgb(0.0063, 255,0.0063);\">1.0000</td><td style=\"background-color: rgb(255.0000, 255,255.0000);\">0.0000</td><td style=\"background-color: rgb(255.0000, 255,255.0000);\">0.0000</td><td style=\"background-color: rgb(254.9937, 255,254.9937);\">0.0000</td><td style=\"background-color: rgb(255.0000, 255,255.0000);\">0.0000</td><td style=\"background-color: rgb(255.0000, 255,255.0000);\">0.0000</td><td style=\"background-color: rgb(255.0000, 255,255.0000);\">0.0000</td><td style=\"background-color: rgb(255.0000, 255,255.0000);\">0.0000</td><td style=\"background-color: rgb(255.0000, 255,255.0000);\">0.0000</td></tr></table>"
      ],
      "text/plain": [
       "<IPython.core.display.HTML object>"
      ]
     },
     "metadata": {},
     "output_type": "display_data"
    },
    {
     "name": "stdout",
     "output_type": "stream",
     "text": [
      "true Taking pred_h Taking pred_fnh Taking\n"
     ]
    },
    {
     "data": {
      "text/html": [
       "<table><tr><td><b>words</b></td><td style=\"background-color: rgb(255,255,255);\">catch</td><td style=\"background-color: rgb(255,255,255);\">the</td><td style=\"background-color: rgb(255,255,255);\">phone</td><td style=\"background-color: rgb(255,255,255);\">at</td><td style=\"background-color: rgb(255,255,255);\">the</td><td style=\"background-color: rgb(255,255,255);\">right</td><td style=\"background-color: rgb(255,255,255);\">of</td><td style=\"background-color: rgb(255,255,255);\">the</td><td style=\"background-color: rgb(255,255,255);\">desk</td></tr><tr><td><b>lu</b></td><td style=\"background-color: rgb(0.0000, 255,0.0000);\">1.0000</td><td style=\"background-color: rgb(255.0000, 255,255.0000);\">0.0000</td><td style=\"background-color: rgb(255.0000, 255,255.0000);\">0.0000</td><td style=\"background-color: rgb(255.0000, 255,255.0000);\">0.0000</td><td style=\"background-color: rgb(255.0000, 255,255.0000);\">0.0000</td><td style=\"background-color: rgb(255.0000, 255,255.0000);\">0.0000</td><td style=\"background-color: rgb(255.0000, 255,255.0000);\">0.0000</td><td style=\"background-color: rgb(255.0000, 255,255.0000);\">0.0000</td><td style=\"background-color: rgb(255.0000, 255,255.0000);\">0.0000</td></tr><tr><td><b>h->h</b></td><td style=\"background-color: rgb(254.9898, 255,254.9898);\">0.0000</td><td style=\"background-color: rgb(254.6548, 255,254.6548);\">0.0014</td><td style=\"background-color: rgb(254.9929, 255,254.9929);\">0.0000</td><td style=\"background-color: rgb(254.9671, 255,254.9671);\">0.0001</td><td style=\"background-color: rgb(254.9794, 255,254.9794);\">0.0001</td><td style=\"background-color: rgb(254.9636, 255,254.9636);\">0.0001</td><td style=\"background-color: rgb(243.7108, 255,243.7108);\">0.0443</td><td style=\"background-color: rgb(12.3221, 255,12.3221);\">0.9517</td><td style=\"background-color: rgb(254.4250, 255,254.4250);\">0.0023</td></tr><tr><td><b>fn+h->h</b></td><td style=\"background-color: rgb(0.0000, 255,0.0000);\">1.0000</td><td style=\"background-color: rgb(255.0000, 255,255.0000);\">0.0000</td><td style=\"background-color: rgb(255.0000, 255,255.0000);\">0.0000</td><td style=\"background-color: rgb(255.0000, 255,255.0000);\">0.0000</td><td style=\"background-color: rgb(255.0000, 255,255.0000);\">0.0000</td><td style=\"background-color: rgb(255.0000, 255,255.0000);\">0.0000</td><td style=\"background-color: rgb(255.0000, 255,255.0000);\">0.0000</td><td style=\"background-color: rgb(255.0000, 255,255.0000);\">0.0000</td><td style=\"background-color: rgb(255.0000, 255,255.0000);\">0.0000</td></tr></table>"
      ],
      "text/plain": [
       "<IPython.core.display.HTML object>"
      ]
     },
     "metadata": {},
     "output_type": "display_data"
    },
    {
     "name": "stdout",
     "output_type": "stream",
     "text": [
      "true Taking pred_h Taking pred_fnh Taking\n"
     ]
    },
    {
     "data": {
      "text/html": [
       "<table><tr><td><b>words</b></td><td style=\"background-color: rgb(255,255,255);\">catch</td><td style=\"background-color: rgb(255,255,255);\">the</td><td style=\"background-color: rgb(255,255,255);\">pillow</td></tr><tr><td><b>lu</b></td><td style=\"background-color: rgb(0.0000, 255,0.0000);\">1.0000</td><td style=\"background-color: rgb(255.0000, 255,255.0000);\">0.0000</td><td style=\"background-color: rgb(255.0000, 255,255.0000);\">0.0000</td></tr><tr><td><b>h->h</b></td><td style=\"background-color: rgb(254.8519, 255,254.8519);\">0.0006</td><td style=\"background-color: rgb(2.1027, 255,2.1027);\">0.9918</td><td style=\"background-color: rgb(253.0598, 255,253.0598);\">0.0076</td></tr><tr><td><b>fn+h->h</b></td><td style=\"background-color: rgb(0.0000, 255,0.0000);\">1.0000</td><td style=\"background-color: rgb(255.0000, 255,255.0000);\">0.0000</td><td style=\"background-color: rgb(255.0000, 255,255.0000);\">0.0000</td></tr></table>"
      ],
      "text/plain": [
       "<IPython.core.display.HTML object>"
      ]
     },
     "metadata": {},
     "output_type": "display_data"
    },
    {
     "name": "stdout",
     "output_type": "stream",
     "text": [
      "true Closure pred_h Closure pred_fnh Closure\n"
     ]
    },
    {
     "data": {
      "text/html": [
       "<table><tr><td><b>words</b></td><td style=\"background-color: rgb(255,255,255);\">close</td><td style=\"background-color: rgb(255,255,255);\">the</td><td style=\"background-color: rgb(255,255,255);\">door</td><td style=\"background-color: rgb(255,255,255);\">on</td><td style=\"background-color: rgb(255,255,255);\">the</td><td style=\"background-color: rgb(255,255,255);\">right</td></tr><tr><td><b>lu</b></td><td style=\"background-color: rgb(0.0000, 255,0.0000);\">1.0000</td><td style=\"background-color: rgb(255.0000, 255,255.0000);\">0.0000</td><td style=\"background-color: rgb(255.0000, 255,255.0000);\">0.0000</td><td style=\"background-color: rgb(255.0000, 255,255.0000);\">0.0000</td><td style=\"background-color: rgb(255.0000, 255,255.0000);\">0.0000</td><td style=\"background-color: rgb(255.0000, 255,255.0000);\">0.0000</td></tr><tr><td><b>h->h</b></td><td style=\"background-color: rgb(254.9512, 255,254.9512);\">0.0002</td><td style=\"background-color: rgb(247.8872, 255,247.8872);\">0.0279</td><td style=\"background-color: rgb(248.4434, 255,248.4434);\">0.0257</td><td style=\"background-color: rgb(250.3882, 255,250.3882);\">0.0181</td><td style=\"background-color: rgb(18.6263, 255,18.6263);\">0.9270</td><td style=\"background-color: rgb(254.7097, 255,254.7097);\">0.0011</td></tr><tr><td><b>fn+h->h</b></td><td style=\"background-color: rgb(78.3039, 255,78.3039);\">0.6929</td><td style=\"background-color: rgb(255.0000, 255,255.0000);\">0.0000</td><td style=\"background-color: rgb(176.6996, 255,176.6996);\">0.3071</td><td style=\"background-color: rgb(254.9965, 255,254.9965);\">0.0000</td><td style=\"background-color: rgb(255.0000, 255,255.0000);\">0.0000</td><td style=\"background-color: rgb(255.0000, 255,255.0000);\">0.0000</td></tr></table>"
      ],
      "text/plain": [
       "<IPython.core.display.HTML object>"
      ]
     },
     "metadata": {},
     "output_type": "display_data"
    },
    {
     "name": "stdout",
     "output_type": "stream",
     "text": [
      "true Closure pred_h Closure pred_fnh Closure\n"
     ]
    },
    {
     "data": {
      "text/html": [
       "<table><tr><td><b>words</b></td><td style=\"background-color: rgb(255,255,255);\">close</td><td style=\"background-color: rgb(255,255,255);\">the</td><td style=\"background-color: rgb(255,255,255);\">jar</td></tr><tr><td><b>lu</b></td><td style=\"background-color: rgb(0.0000, 255,0.0000);\">1.0000</td><td style=\"background-color: rgb(255.0000, 255,255.0000);\">0.0000</td><td style=\"background-color: rgb(255.0000, 255,255.0000);\">0.0000</td></tr><tr><td><b>h->h</b></td><td style=\"background-color: rgb(254.8549, 255,254.8549);\">0.0006</td><td style=\"background-color: rgb(0.3746, 255,0.3746);\">0.9985</td><td style=\"background-color: rgb(254.7823, 255,254.7823);\">0.0009</td></tr><tr><td><b>fn+h->h</b></td><td style=\"background-color: rgb(0.0000, 255,0.0000);\">1.0000</td><td style=\"background-color: rgb(255.0000, 255,255.0000);\">0.0000</td><td style=\"background-color: rgb(255.0000, 255,255.0000);\">0.0000</td></tr></table>"
      ],
      "text/plain": [
       "<IPython.core.display.HTML object>"
      ]
     },
     "metadata": {},
     "output_type": "display_data"
    },
    {
     "name": "stdout",
     "output_type": "stream",
     "text": [
      "true Closure pred_h Closure pred_fnh Closure\n"
     ]
    },
    {
     "data": {
      "text/html": [
       "<table><tr><td><b>words</b></td><td style=\"background-color: rgb(255,255,255);\">close</td><td style=\"background-color: rgb(255,255,255);\">the</td><td style=\"background-color: rgb(255,255,255);\">window</td><td style=\"background-color: rgb(255,255,255);\">on</td><td style=\"background-color: rgb(255,255,255);\">the</td><td style=\"background-color: rgb(255,255,255);\">left</td></tr><tr><td><b>lu</b></td><td style=\"background-color: rgb(0.0000, 255,0.0000);\">1.0000</td><td style=\"background-color: rgb(255.0000, 255,255.0000);\">0.0000</td><td style=\"background-color: rgb(255.0000, 255,255.0000);\">0.0000</td><td style=\"background-color: rgb(255.0000, 255,255.0000);\">0.0000</td><td style=\"background-color: rgb(255.0000, 255,255.0000);\">0.0000</td><td style=\"background-color: rgb(255.0000, 255,255.0000);\">0.0000</td></tr><tr><td><b>h->h</b></td><td style=\"background-color: rgb(254.9555, 255,254.9555);\">0.0002</td><td style=\"background-color: rgb(241.4599, 255,241.4599);\">0.0531</td><td style=\"background-color: rgb(246.8072, 255,246.8072);\">0.0321</td><td style=\"background-color: rgb(251.9244, 255,251.9244);\">0.0121</td><td style=\"background-color: rgb(25.0503, 255,25.0503);\">0.9018</td><td style=\"background-color: rgb(254.8102, 255,254.8102);\">0.0007</td></tr><tr><td><b>fn+h->h</b></td><td style=\"background-color: rgb(0.0004, 255,0.0004);\">1.0000</td><td style=\"background-color: rgb(255.0000, 255,255.0000);\">0.0000</td><td style=\"background-color: rgb(254.9996, 255,254.9996);\">0.0000</td><td style=\"background-color: rgb(255.0000, 255,255.0000);\">0.0000</td><td style=\"background-color: rgb(255.0000, 255,255.0000);\">0.0000</td><td style=\"background-color: rgb(255.0000, 255,255.0000);\">0.0000</td></tr></table>"
      ],
      "text/plain": [
       "<IPython.core.display.HTML object>"
      ]
     },
     "metadata": {},
     "output_type": "display_data"
    },
    {
     "name": "stdout",
     "output_type": "stream",
     "text": [
      "true Entering pred_h Entering pred_fnh Entering\n"
     ]
    },
    {
     "data": {
      "text/html": [
       "<table><tr><td><b>words</b></td><td style=\"background-color: rgb(255,255,255);\">enter</td><td style=\"background-color: rgb(255,255,255);\">the</td><td style=\"background-color: rgb(255,255,255);\">bathroom</td></tr><tr><td><b>lu</b></td><td style=\"background-color: rgb(0.0000, 255,0.0000);\">1.0000</td><td style=\"background-color: rgb(255.0000, 255,255.0000);\">0.0000</td><td style=\"background-color: rgb(255.0000, 255,255.0000);\">0.0000</td></tr><tr><td><b>h->h</b></td><td style=\"background-color: rgb(254.8468, 255,254.8468);\">0.0006</td><td style=\"background-color: rgb(0.9861, 255,0.9861);\">0.9961</td><td style=\"background-color: rgb(254.1915, 255,254.1915);\">0.0032</td></tr><tr><td><b>fn+h->h</b></td><td style=\"background-color: rgb(0.0000, 255,0.0000);\">1.0000</td><td style=\"background-color: rgb(255.0000, 255,255.0000);\">0.0000</td><td style=\"background-color: rgb(255.0000, 255,255.0000);\">0.0000</td></tr></table>"
      ],
      "text/plain": [
       "<IPython.core.display.HTML object>"
      ]
     },
     "metadata": {},
     "output_type": "display_data"
    },
    {
     "name": "stdout",
     "output_type": "stream",
     "text": [
      "true Entering pred_h Entering pred_fnh Entering\n"
     ]
    },
    {
     "data": {
      "text/html": [
       "<table><tr><td><b>words</b></td><td style=\"background-color: rgb(255,255,255);\">enter</td><td style=\"background-color: rgb(255,255,255);\">the</td><td style=\"background-color: rgb(255,255,255);\">door</td><td style=\"background-color: rgb(255,255,255);\">of</td><td style=\"background-color: rgb(255,255,255);\">the</td><td style=\"background-color: rgb(255,255,255);\">kitchen</td></tr><tr><td><b>lu</b></td><td style=\"background-color: rgb(0.0000, 255,0.0000);\">1.0000</td><td style=\"background-color: rgb(255.0000, 255,255.0000);\">0.0000</td><td style=\"background-color: rgb(255.0000, 255,255.0000);\">0.0000</td><td style=\"background-color: rgb(255.0000, 255,255.0000);\">0.0000</td><td style=\"background-color: rgb(255.0000, 255,255.0000);\">0.0000</td><td style=\"background-color: rgb(255.0000, 255,255.0000);\">0.0000</td></tr><tr><td><b>h->h</b></td><td style=\"background-color: rgb(254.9938, 255,254.9938);\">0.0000</td><td style=\"background-color: rgb(253.9463, 255,253.9463);\">0.0041</td><td style=\"background-color: rgb(252.1074, 255,252.1074);\">0.0113</td><td style=\"background-color: rgb(245.5431, 255,245.5431);\">0.0371</td><td style=\"background-color: rgb(16.2536, 255,16.2536);\">0.9363</td><td style=\"background-color: rgb(252.1743, 255,252.1743);\">0.0111</td></tr><tr><td><b>fn+h->h</b></td><td style=\"background-color: rgb(0.0000, 255,0.0000);\">1.0000</td><td style=\"background-color: rgb(255.0000, 255,255.0000);\">0.0000</td><td style=\"background-color: rgb(255.0000, 255,255.0000);\">0.0000</td><td style=\"background-color: rgb(255.0000, 255,255.0000);\">0.0000</td><td style=\"background-color: rgb(255.0000, 255,255.0000);\">0.0000</td><td style=\"background-color: rgb(255.0000, 255,255.0000);\">0.0000</td></tr></table>"
      ],
      "text/plain": [
       "<IPython.core.display.HTML object>"
      ]
     },
     "metadata": {},
     "output_type": "display_data"
    },
    {
     "name": "stdout",
     "output_type": "stream",
     "text": [
      "true Entering pred_h Entering pred_fnh Entering\n"
     ]
    },
    {
     "data": {
      "text/html": [
       "<table><tr><td><b>words</b></td><td style=\"background-color: rgb(255,255,255);\">enter</td><td style=\"background-color: rgb(255,255,255);\">the</td><td style=\"background-color: rgb(255,255,255);\">kitchen</td></tr><tr><td><b>lu</b></td><td style=\"background-color: rgb(0.0000, 255,0.0000);\">1.0000</td><td style=\"background-color: rgb(255.0000, 255,255.0000);\">0.0000</td><td style=\"background-color: rgb(255.0000, 255,255.0000);\">0.0000</td></tr><tr><td><b>h->h</b></td><td style=\"background-color: rgb(254.8696, 255,254.8696);\">0.0005</td><td style=\"background-color: rgb(1.7032, 255,1.7032);\">0.9933</td><td style=\"background-color: rgb(253.4538, 255,253.4538);\">0.0061</td></tr><tr><td><b>fn+h->h</b></td><td style=\"background-color: rgb(0.0000, 255,0.0000);\">1.0000</td><td style=\"background-color: rgb(255.0000, 255,255.0000);\">0.0000</td><td style=\"background-color: rgb(255.0000, 255,255.0000);\">0.0000</td></tr></table>"
      ],
      "text/plain": [
       "<IPython.core.display.HTML object>"
      ]
     },
     "metadata": {},
     "output_type": "display_data"
    },
    {
     "name": "stdout",
     "output_type": "stream",
     "text": [
      "true Motion pred_h Motion pred_fnh Motion\n"
     ]
    },
    {
     "data": {
      "text/html": [
       "<table><tr><td><b>words</b></td><td style=\"background-color: rgb(255,255,255);\">go</td><td style=\"background-color: rgb(255,255,255);\">to</td><td style=\"background-color: rgb(255,255,255);\">the</td><td style=\"background-color: rgb(255,255,255);\">counter</td><td style=\"background-color: rgb(255,255,255);\">at</td><td style=\"background-color: rgb(255,255,255);\">your</td><td style=\"background-color: rgb(255,255,255);\">left</td></tr><tr><td><b>lu</b></td><td style=\"background-color: rgb(0.0000, 255,0.0000);\">1.0000</td><td style=\"background-color: rgb(255.0000, 255,255.0000);\">0.0000</td><td style=\"background-color: rgb(255.0000, 255,255.0000);\">0.0000</td><td style=\"background-color: rgb(255.0000, 255,255.0000);\">0.0000</td><td style=\"background-color: rgb(255.0000, 255,255.0000);\">0.0000</td><td style=\"background-color: rgb(255.0000, 255,255.0000);\">0.0000</td><td style=\"background-color: rgb(255.0000, 255,255.0000);\">0.0000</td></tr><tr><td><b>h->h</b></td><td style=\"background-color: rgb(254.9998, 255,254.9998);\">0.0000</td><td style=\"background-color: rgb(253.2545, 255,253.2545);\">0.0068</td><td style=\"background-color: rgb(224.3546, 255,224.3546);\">0.1202</td><td style=\"background-color: rgb(226.8770, 255,226.8770);\">0.1103</td><td style=\"background-color: rgb(251.3135, 255,251.3135);\">0.0145</td><td style=\"background-color: rgb(132.4616, 255,132.4616);\">0.4805</td><td style=\"background-color: rgb(186.7401, 255,186.7401);\">0.2677</td></tr><tr><td><b>fn+h->h</b></td><td style=\"background-color: rgb(0.0100, 255,0.0100);\">1.0000</td><td style=\"background-color: rgb(254.9900, 255,254.9900);\">0.0000</td><td style=\"background-color: rgb(255.0000, 255,255.0000);\">0.0000</td><td style=\"background-color: rgb(255.0000, 255,255.0000);\">0.0000</td><td style=\"background-color: rgb(255.0000, 255,255.0000);\">0.0000</td><td style=\"background-color: rgb(255.0000, 255,255.0000);\">0.0000</td><td style=\"background-color: rgb(255.0000, 255,255.0000);\">0.0000</td></tr></table>"
      ],
      "text/plain": [
       "<IPython.core.display.HTML object>"
      ]
     },
     "metadata": {},
     "output_type": "display_data"
    },
    {
     "name": "stdout",
     "output_type": "stream",
     "text": [
      "true Motion pred_h Motion pred_fnh Motion\n"
     ]
    },
    {
     "data": {
      "text/html": [
       "<table><tr><td><b>words</b></td><td style=\"background-color: rgb(255,255,255);\">go</td><td style=\"background-color: rgb(255,255,255);\">to</td><td style=\"background-color: rgb(255,255,255);\">the</td><td style=\"background-color: rgb(255,255,255);\">toilet</td></tr><tr><td><b>lu</b></td><td style=\"background-color: rgb(0.0000, 255,0.0000);\">1.0000</td><td style=\"background-color: rgb(255.0000, 255,255.0000);\">0.0000</td><td style=\"background-color: rgb(255.0000, 255,255.0000);\">0.0000</td><td style=\"background-color: rgb(255.0000, 255,255.0000);\">0.0000</td></tr><tr><td><b>h->h</b></td><td style=\"background-color: rgb(254.9998, 255,254.9998);\">0.0000</td><td style=\"background-color: rgb(251.9953, 255,251.9953);\">0.0118</td><td style=\"background-color: rgb(65.3094, 255,65.3094);\">0.7439</td><td style=\"background-color: rgb(192.6964, 255,192.6964);\">0.2443</td></tr><tr><td><b>fn+h->h</b></td><td style=\"background-color: rgb(0.0108, 255,0.0108);\">1.0000</td><td style=\"background-color: rgb(254.9892, 255,254.9892);\">0.0000</td><td style=\"background-color: rgb(255.0000, 255,255.0000);\">0.0000</td><td style=\"background-color: rgb(255.0000, 255,255.0000);\">0.0000</td></tr></table>"
      ],
      "text/plain": [
       "<IPython.core.display.HTML object>"
      ]
     },
     "metadata": {},
     "output_type": "display_data"
    },
    {
     "name": "stdout",
     "output_type": "stream",
     "text": [
      "true Taking pred_h Taking pred_fnh Taking\n"
     ]
    },
    {
     "data": {
      "text/html": [
       "<table><tr><td><b>words</b></td><td style=\"background-color: rgb(255,255,255);\">grab</td><td style=\"background-color: rgb(255,255,255);\">the</td><td style=\"background-color: rgb(255,255,255);\">cigarettes</td><td style=\"background-color: rgb(255,255,255);\">next</td><td style=\"background-color: rgb(255,255,255);\">to</td><td style=\"background-color: rgb(255,255,255);\">the</td><td style=\"background-color: rgb(255,255,255);\">phone</td></tr><tr><td><b>lu</b></td><td style=\"background-color: rgb(0.0000, 255,0.0000);\">1.0000</td><td style=\"background-color: rgb(255.0000, 255,255.0000);\">0.0000</td><td style=\"background-color: rgb(255.0000, 255,255.0000);\">0.0000</td><td style=\"background-color: rgb(255.0000, 255,255.0000);\">0.0000</td><td style=\"background-color: rgb(255.0000, 255,255.0000);\">0.0000</td><td style=\"background-color: rgb(255.0000, 255,255.0000);\">0.0000</td><td style=\"background-color: rgb(255.0000, 255,255.0000);\">0.0000</td></tr><tr><td><b>h->h</b></td><td style=\"background-color: rgb(254.6781, 255,254.6781);\">0.0013</td><td style=\"background-color: rgb(205.5562, 255,205.5562);\">0.1939</td><td style=\"background-color: rgb(254.8187, 255,254.8187);\">0.0007</td><td style=\"background-color: rgb(254.9925, 255,254.9925);\">0.0000</td><td style=\"background-color: rgb(253.0985, 255,253.0985);\">0.0075</td><td style=\"background-color: rgb(52.2370, 255,52.2370);\">0.7951</td><td style=\"background-color: rgb(254.6415, 255,254.6415);\">0.0014</td></tr><tr><td><b>fn+h->h</b></td><td style=\"background-color: rgb(0.0322, 255,0.0322);\">0.9999</td><td style=\"background-color: rgb(255.0000, 255,255.0000);\">0.0000</td><td style=\"background-color: rgb(255.0000, 255,255.0000);\">0.0000</td><td style=\"background-color: rgb(254.9998, 255,254.9998);\">0.0000</td><td style=\"background-color: rgb(254.9679, 255,254.9679);\">0.0001</td><td style=\"background-color: rgb(255.0000, 255,255.0000);\">0.0000</td><td style=\"background-color: rgb(255.0000, 255,255.0000);\">0.0000</td></tr></table>"
      ],
      "text/plain": [
       "<IPython.core.display.HTML object>"
      ]
     },
     "metadata": {},
     "output_type": "display_data"
    },
    {
     "name": "stdout",
     "output_type": "stream",
     "text": [
      "true Taking pred_h Taking pred_fnh Taking\n"
     ]
    },
    {
     "data": {
      "text/html": [
       "<table><tr><td><b>words</b></td><td style=\"background-color: rgb(255,255,255);\">grab</td><td style=\"background-color: rgb(255,255,255);\">the</td><td style=\"background-color: rgb(255,255,255);\">bottle</td></tr><tr><td><b>lu</b></td><td style=\"background-color: rgb(0.0000, 255,0.0000);\">1.0000</td><td style=\"background-color: rgb(255.0000, 255,255.0000);\">0.0000</td><td style=\"background-color: rgb(255.0000, 255,255.0000);\">0.0000</td></tr><tr><td><b>h->h</b></td><td style=\"background-color: rgb(254.8563, 255,254.8563);\">0.0006</td><td style=\"background-color: rgb(1.5700, 255,1.5700);\">0.9938</td><td style=\"background-color: rgb(253.5863, 255,253.5863);\">0.0055</td></tr><tr><td><b>fn+h->h</b></td><td style=\"background-color: rgb(0.0000, 255,0.0000);\">1.0000</td><td style=\"background-color: rgb(255.0000, 255,255.0000);\">0.0000</td><td style=\"background-color: rgb(255.0000, 255,255.0000);\">0.0000</td></tr></table>"
      ],
      "text/plain": [
       "<IPython.core.display.HTML object>"
      ]
     },
     "metadata": {},
     "output_type": "display_data"
    },
    {
     "name": "stdout",
     "output_type": "stream",
     "text": [
      "true Taking pred_h Taking pred_fnh Taking\n"
     ]
    },
    {
     "data": {
      "text/html": [
       "<table><tr><td><b>words</b></td><td style=\"background-color: rgb(255,255,255);\">grab</td><td style=\"background-color: rgb(255,255,255);\">the</td><td style=\"background-color: rgb(255,255,255);\">pillow</td><td style=\"background-color: rgb(255,255,255);\">at</td><td style=\"background-color: rgb(255,255,255);\">the</td><td style=\"background-color: rgb(255,255,255);\">left</td><td style=\"background-color: rgb(255,255,255);\">of</td><td style=\"background-color: rgb(255,255,255);\">the</td><td style=\"background-color: rgb(255,255,255);\">couch</td></tr><tr><td><b>lu</b></td><td style=\"background-color: rgb(0.0000, 255,0.0000);\">1.0000</td><td style=\"background-color: rgb(255.0000, 255,255.0000);\">0.0000</td><td style=\"background-color: rgb(255.0000, 255,255.0000);\">0.0000</td><td style=\"background-color: rgb(255.0000, 255,255.0000);\">0.0000</td><td style=\"background-color: rgb(255.0000, 255,255.0000);\">0.0000</td><td style=\"background-color: rgb(255.0000, 255,255.0000);\">0.0000</td><td style=\"background-color: rgb(255.0000, 255,255.0000);\">0.0000</td><td style=\"background-color: rgb(255.0000, 255,255.0000);\">0.0000</td><td style=\"background-color: rgb(255.0000, 255,255.0000);\">0.0000</td></tr><tr><td><b>h->h</b></td><td style=\"background-color: rgb(254.9788, 255,254.9788);\">0.0001</td><td style=\"background-color: rgb(250.3721, 255,250.3721);\">0.0181</td><td style=\"background-color: rgb(254.9292, 255,254.9292);\">0.0003</td><td style=\"background-color: rgb(254.7534, 255,254.7534);\">0.0010</td><td style=\"background-color: rgb(254.8361, 255,254.8361);\">0.0006</td><td style=\"background-color: rgb(254.9063, 255,254.9063);\">0.0004</td><td style=\"background-color: rgb(246.0123, 255,246.0123);\">0.0352</td><td style=\"background-color: rgb(14.8754, 255,14.8754);\">0.9417</td><td style=\"background-color: rgb(254.3426, 255,254.3426);\">0.0026</td></tr><tr><td><b>fn+h->h</b></td><td style=\"background-color: rgb(0.0000, 255,0.0000);\">1.0000</td><td style=\"background-color: rgb(255.0000, 255,255.0000);\">0.0000</td><td style=\"background-color: rgb(255.0000, 255,255.0000);\">0.0000</td><td style=\"background-color: rgb(255.0000, 255,255.0000);\">0.0000</td><td style=\"background-color: rgb(255.0000, 255,255.0000);\">0.0000</td><td style=\"background-color: rgb(255.0000, 255,255.0000);\">0.0000</td><td style=\"background-color: rgb(255.0000, 255,255.0000);\">0.0000</td><td style=\"background-color: rgb(255.0000, 255,255.0000);\">0.0000</td><td style=\"background-color: rgb(255.0000, 255,255.0000);\">0.0000</td></tr></table>"
      ],
      "text/plain": [
       "<IPython.core.display.HTML object>"
      ]
     },
     "metadata": {},
     "output_type": "display_data"
    },
    {
     "name": "stdout",
     "output_type": "stream",
     "text": [
      "true Searching pred_h Searching pred_fnh Searching\n"
     ]
    },
    {
     "data": {
      "text/html": [
       "<table><tr><td><b>words</b></td><td style=\"background-color: rgb(255,255,255);\">look</td><td style=\"background-color: rgb(255,255,255);\">for</td><td style=\"background-color: rgb(255,255,255);\">the</td><td style=\"background-color: rgb(255,255,255);\">glass</td><td style=\"background-color: rgb(255,255,255);\">in</td><td style=\"background-color: rgb(255,255,255);\">the</td><td style=\"background-color: rgb(255,255,255);\">bedroom</td></tr><tr><td><b>lu</b></td><td style=\"background-color: rgb(0.0000, 255,0.0000);\">1.0000</td><td style=\"background-color: rgb(255.0000, 255,255.0000);\">0.0000</td><td style=\"background-color: rgb(255.0000, 255,255.0000);\">0.0000</td><td style=\"background-color: rgb(255.0000, 255,255.0000);\">0.0000</td><td style=\"background-color: rgb(255.0000, 255,255.0000);\">0.0000</td><td style=\"background-color: rgb(255.0000, 255,255.0000);\">0.0000</td><td style=\"background-color: rgb(255.0000, 255,255.0000);\">0.0000</td></tr><tr><td><b>h->h</b></td><td style=\"background-color: rgb(254.9995, 255,254.9995);\">0.0000</td><td style=\"background-color: rgb(254.9772, 255,254.9772);\">0.0001</td><td style=\"background-color: rgb(254.8188, 255,254.8188);\">0.0007</td><td style=\"background-color: rgb(254.9338, 255,254.9338);\">0.0003</td><td style=\"background-color: rgb(237.2989, 255,237.2989);\">0.0694</td><td style=\"background-color: rgb(83.2429, 255,83.2429);\">0.6736</td><td style=\"background-color: rgb(189.7295, 255,189.7295);\">0.2560</td></tr><tr><td><b>fn+h->h</b></td><td style=\"background-color: rgb(0.0012, 255,0.0012);\">1.0000</td><td style=\"background-color: rgb(255.0000, 255,255.0000);\">0.0000</td><td style=\"background-color: rgb(255.0000, 255,255.0000);\">0.0000</td><td style=\"background-color: rgb(254.9998, 255,254.9998);\">0.0000</td><td style=\"background-color: rgb(254.9991, 255,254.9991);\">0.0000</td><td style=\"background-color: rgb(255.0000, 255,255.0000);\">0.0000</td><td style=\"background-color: rgb(255.0000, 255,255.0000);\">0.0000</td></tr></table>"
      ],
      "text/plain": [
       "<IPython.core.display.HTML object>"
      ]
     },
     "metadata": {},
     "output_type": "display_data"
    },
    {
     "name": "stdout",
     "output_type": "stream",
     "text": [
      "true Searching pred_h Searching pred_fnh Searching\n"
     ]
    },
    {
     "data": {
      "text/html": [
       "<table><tr><td><b>words</b></td><td style=\"background-color: rgb(255,255,255);\">look</td><td style=\"background-color: rgb(255,255,255);\">for</td><td style=\"background-color: rgb(255,255,255);\">the</td><td style=\"background-color: rgb(255,255,255);\">wrench</td><td style=\"background-color: rgb(255,255,255);\">in</td><td style=\"background-color: rgb(255,255,255);\">the</td><td style=\"background-color: rgb(255,255,255);\">bathroom</td></tr><tr><td><b>lu</b></td><td style=\"background-color: rgb(0.0000, 255,0.0000);\">1.0000</td><td style=\"background-color: rgb(255.0000, 255,255.0000);\">0.0000</td><td style=\"background-color: rgb(255.0000, 255,255.0000);\">0.0000</td><td style=\"background-color: rgb(255.0000, 255,255.0000);\">0.0000</td><td style=\"background-color: rgb(255.0000, 255,255.0000);\">0.0000</td><td style=\"background-color: rgb(255.0000, 255,255.0000);\">0.0000</td><td style=\"background-color: rgb(255.0000, 255,255.0000);\">0.0000</td></tr><tr><td><b>h->h</b></td><td style=\"background-color: rgb(254.9993, 255,254.9993);\">0.0000</td><td style=\"background-color: rgb(254.9844, 255,254.9844);\">0.0001</td><td style=\"background-color: rgb(254.9052, 255,254.9052);\">0.0004</td><td style=\"background-color: rgb(254.9061, 255,254.9061);\">0.0004</td><td style=\"background-color: rgb(226.1065, 255,226.1065);\">0.1133</td><td style=\"background-color: rgb(57.1614, 255,57.1614);\">0.7758</td><td style=\"background-color: rgb(226.9377, 255,226.9377);\">0.1100</td></tr><tr><td><b>fn+h->h</b></td><td style=\"background-color: rgb(0.0021, 255,0.0021);\">1.0000</td><td style=\"background-color: rgb(255.0000, 255,255.0000);\">0.0000</td><td style=\"background-color: rgb(255.0000, 255,255.0000);\">0.0000</td><td style=\"background-color: rgb(254.9982, 255,254.9982);\">0.0000</td><td style=\"background-color: rgb(254.9997, 255,254.9997);\">0.0000</td><td style=\"background-color: rgb(255.0000, 255,255.0000);\">0.0000</td><td style=\"background-color: rgb(255.0000, 255,255.0000);\">0.0000</td></tr></table>"
      ],
      "text/plain": [
       "<IPython.core.display.HTML object>"
      ]
     },
     "metadata": {},
     "output_type": "display_data"
    },
    {
     "name": "stdout",
     "output_type": "stream",
     "text": [
      "true Motion pred_h Motion pred_fnh Motion\n"
     ]
    },
    {
     "data": {
      "text/html": [
       "<table><tr><td><b>words</b></td><td style=\"background-color: rgb(255,255,255);\">move</td><td style=\"background-color: rgb(255,255,255);\">near</td><td style=\"background-color: rgb(255,255,255);\">the</td><td style=\"background-color: rgb(255,255,255);\">couch</td><td style=\"background-color: rgb(255,255,255);\">of</td><td style=\"background-color: rgb(255,255,255);\">the</td><td style=\"background-color: rgb(255,255,255);\">bedroom</td><td style=\"background-color: rgb(255,255,255);\">slowly</td></tr><tr><td><b>lu</b></td><td style=\"background-color: rgb(0.0000, 255,0.0000);\">1.0000</td><td style=\"background-color: rgb(255.0000, 255,255.0000);\">0.0000</td><td style=\"background-color: rgb(255.0000, 255,255.0000);\">0.0000</td><td style=\"background-color: rgb(255.0000, 255,255.0000);\">0.0000</td><td style=\"background-color: rgb(255.0000, 255,255.0000);\">0.0000</td><td style=\"background-color: rgb(255.0000, 255,255.0000);\">0.0000</td><td style=\"background-color: rgb(255.0000, 255,255.0000);\">0.0000</td><td style=\"background-color: rgb(255.0000, 255,255.0000);\">0.0000</td></tr><tr><td><b>h->h</b></td><td style=\"background-color: rgb(254.9898, 255,254.9898);\">0.0000</td><td style=\"background-color: rgb(249.9276, 255,249.9276);\">0.0199</td><td style=\"background-color: rgb(217.9354, 255,217.9354);\">0.1454</td><td style=\"background-color: rgb(212.8799, 255,212.8799);\">0.1652</td><td style=\"background-color: rgb(194.2356, 255,194.2356);\">0.2383</td><td style=\"background-color: rgb(231.7532, 255,231.7532);\">0.0912</td><td style=\"background-color: rgb(185.9566, 255,185.9566);\">0.2708</td><td style=\"background-color: rgb(237.3267, 255,237.3267);\">0.0693</td></tr><tr><td><b>fn+h->h</b></td><td style=\"background-color: rgb(0.0032, 255,0.0032);\">1.0000</td><td style=\"background-color: rgb(254.9968, 255,254.9968);\">0.0000</td><td style=\"background-color: rgb(255.0000, 255,255.0000);\">0.0000</td><td style=\"background-color: rgb(255.0000, 255,255.0000);\">0.0000</td><td style=\"background-color: rgb(255.0000, 255,255.0000);\">0.0000</td><td style=\"background-color: rgb(255.0000, 255,255.0000);\">0.0000</td><td style=\"background-color: rgb(255.0000, 255,255.0000);\">0.0000</td><td style=\"background-color: rgb(255.0000, 255,255.0000);\">0.0000</td></tr></table>"
      ],
      "text/plain": [
       "<IPython.core.display.HTML object>"
      ]
     },
     "metadata": {},
     "output_type": "display_data"
    },
    {
     "name": "stdout",
     "output_type": "stream",
     "text": [
      "true Motion pred_h Motion pred_fnh Motion\n"
     ]
    },
    {
     "data": {
      "text/html": [
       "<table><tr><td><b>words</b></td><td style=\"background-color: rgb(255,255,255);\">move</td><td style=\"background-color: rgb(255,255,255);\">near</td><td style=\"background-color: rgb(255,255,255);\">the</td><td style=\"background-color: rgb(255,255,255);\">counter</td></tr><tr><td><b>lu</b></td><td style=\"background-color: rgb(0.0000, 255,0.0000);\">1.0000</td><td style=\"background-color: rgb(255.0000, 255,255.0000);\">0.0000</td><td style=\"background-color: rgb(255.0000, 255,255.0000);\">0.0000</td><td style=\"background-color: rgb(255.0000, 255,255.0000);\">0.0000</td></tr><tr><td><b>h->h</b></td><td style=\"background-color: rgb(254.9984, 255,254.9984);\">0.0000</td><td style=\"background-color: rgb(251.7325, 255,251.7325);\">0.0128</td><td style=\"background-color: rgb(85.7129, 255,85.7129);\">0.6639</td><td style=\"background-color: rgb(172.5571, 255,172.5571);\">0.3233</td></tr><tr><td><b>fn+h->h</b></td><td style=\"background-color: rgb(0.0024, 255,0.0024);\">1.0000</td><td style=\"background-color: rgb(254.9976, 255,254.9976);\">0.0000</td><td style=\"background-color: rgb(255.0000, 255,255.0000);\">0.0000</td><td style=\"background-color: rgb(255.0000, 255,255.0000);\">0.0000</td></tr></table>"
      ],
      "text/plain": [
       "<IPython.core.display.HTML object>"
      ]
     },
     "metadata": {},
     "output_type": "display_data"
    },
    {
     "name": "stdout",
     "output_type": "stream",
     "text": [
      "true Motion pred_h Motion pred_fnh Motion\n"
     ]
    },
    {
     "data": {
      "text/html": [
       "<table><tr><td><b>words</b></td><td style=\"background-color: rgb(255,255,255);\">move</td><td style=\"background-color: rgb(255,255,255);\">near</td><td style=\"background-color: rgb(255,255,255);\">the</td><td style=\"background-color: rgb(255,255,255);\">window</td></tr><tr><td><b>lu</b></td><td style=\"background-color: rgb(0.0000, 255,0.0000);\">1.0000</td><td style=\"background-color: rgb(255.0000, 255,255.0000);\">0.0000</td><td style=\"background-color: rgb(255.0000, 255,255.0000);\">0.0000</td><td style=\"background-color: rgb(255.0000, 255,255.0000);\">0.0000</td></tr><tr><td><b>h->h</b></td><td style=\"background-color: rgb(254.9968, 255,254.9968);\">0.0000</td><td style=\"background-color: rgb(251.4110, 255,251.4110);\">0.0141</td><td style=\"background-color: rgb(128.1623, 255,128.1623);\">0.4974</td><td style=\"background-color: rgb(130.4308, 255,130.4308);\">0.4885</td></tr><tr><td><b>fn+h->h</b></td><td style=\"background-color: rgb(0.0495, 255,0.0495);\">0.9998</td><td style=\"background-color: rgb(254.9505, 255,254.9505);\">0.0002</td><td style=\"background-color: rgb(255.0000, 255,255.0000);\">0.0000</td><td style=\"background-color: rgb(255.0000, 255,255.0000);\">0.0000</td></tr></table>"
      ],
      "text/plain": [
       "<IPython.core.display.HTML object>"
      ]
     },
     "metadata": {},
     "output_type": "display_data"
    },
    {
     "name": "stdout",
     "output_type": "stream",
     "text": [
      "true Motion pred_h Motion pred_fnh Motion\n"
     ]
    },
    {
     "data": {
      "text/html": [
       "<table><tr><td><b>words</b></td><td style=\"background-color: rgb(255,255,255);\">move</td><td style=\"background-color: rgb(255,255,255);\">to</td><td style=\"background-color: rgb(255,255,255);\">the</td><td style=\"background-color: rgb(255,255,255);\">fridge</td></tr><tr><td><b>lu</b></td><td style=\"background-color: rgb(0.0000, 255,0.0000);\">1.0000</td><td style=\"background-color: rgb(255.0000, 255,255.0000);\">0.0000</td><td style=\"background-color: rgb(255.0000, 255,255.0000);\">0.0000</td><td style=\"background-color: rgb(255.0000, 255,255.0000);\">0.0000</td></tr><tr><td><b>h->h</b></td><td style=\"background-color: rgb(254.9985, 255,254.9985);\">0.0000</td><td style=\"background-color: rgb(251.6901, 255,251.6901);\">0.0130</td><td style=\"background-color: rgb(68.5002, 255,68.5002);\">0.7314</td><td style=\"background-color: rgb(189.8123, 255,189.8123);\">0.2556</td></tr><tr><td><b>fn+h->h</b></td><td style=\"background-color: rgb(0.0156, 255,0.0156);\">0.9999</td><td style=\"background-color: rgb(254.9844, 255,254.9844);\">0.0001</td><td style=\"background-color: rgb(255.0000, 255,255.0000);\">0.0000</td><td style=\"background-color: rgb(255.0000, 255,255.0000);\">0.0000</td></tr></table>"
      ],
      "text/plain": [
       "<IPython.core.display.HTML object>"
      ]
     },
     "metadata": {},
     "output_type": "display_data"
    },
    {
     "name": "stdout",
     "output_type": "stream",
     "text": [
      "true Closure pred_h Closure pred_fnh Closure\n"
     ]
    },
    {
     "data": {
      "text/html": [
       "<table><tr><td><b>words</b></td><td style=\"background-color: rgb(255,255,255);\">open</td><td style=\"background-color: rgb(255,255,255);\">the</td><td style=\"background-color: rgb(255,255,255);\">box</td><td style=\"background-color: rgb(255,255,255);\">on</td><td style=\"background-color: rgb(255,255,255);\">the</td><td style=\"background-color: rgb(255,255,255);\">left</td><td style=\"background-color: rgb(255,255,255);\">of</td><td style=\"background-color: rgb(255,255,255);\">the</td><td style=\"background-color: rgb(255,255,255);\">recorder</td></tr><tr><td><b>lu</b></td><td style=\"background-color: rgb(0.0000, 255,0.0000);\">1.0000</td><td style=\"background-color: rgb(255.0000, 255,255.0000);\">0.0000</td><td style=\"background-color: rgb(255.0000, 255,255.0000);\">0.0000</td><td style=\"background-color: rgb(255.0000, 255,255.0000);\">0.0000</td><td style=\"background-color: rgb(255.0000, 255,255.0000);\">0.0000</td><td style=\"background-color: rgb(255.0000, 255,255.0000);\">0.0000</td><td style=\"background-color: rgb(255.0000, 255,255.0000);\">0.0000</td><td style=\"background-color: rgb(255.0000, 255,255.0000);\">0.0000</td><td style=\"background-color: rgb(255.0000, 255,255.0000);\">0.0000</td></tr><tr><td><b>h->h</b></td><td style=\"background-color: rgb(254.9985, 255,254.9985);\">0.0000</td><td style=\"background-color: rgb(254.9791, 255,254.9791);\">0.0001</td><td style=\"background-color: rgb(254.8426, 255,254.8426);\">0.0006</td><td style=\"background-color: rgb(254.2841, 255,254.2841);\">0.0028</td><td style=\"background-color: rgb(254.8825, 255,254.8825);\">0.0005</td><td style=\"background-color: rgb(254.6496, 255,254.6496);\">0.0014</td><td style=\"background-color: rgb(247.5983, 255,247.5983);\">0.0290</td><td style=\"background-color: rgb(9.2266, 255,9.2266);\">0.9638</td><td style=\"background-color: rgb(254.5450, 255,254.5450);\">0.0018</td></tr><tr><td><b>fn+h->h</b></td><td style=\"background-color: rgb(9.8537, 255,9.8537);\">0.9614</td><td style=\"background-color: rgb(255.0000, 255,255.0000);\">0.0000</td><td style=\"background-color: rgb(254.0609, 255,254.0609);\">0.0037</td><td style=\"background-color: rgb(246.0856, 255,246.0856);\">0.0350</td><td style=\"background-color: rgb(255.0000, 255,255.0000);\">0.0000</td><td style=\"background-color: rgb(255.0000, 255,255.0000);\">0.0000</td><td style=\"background-color: rgb(255.0000, 255,255.0000);\">0.0000</td><td style=\"background-color: rgb(255.0000, 255,255.0000);\">0.0000</td><td style=\"background-color: rgb(254.9999, 255,254.9999);\">0.0000</td></tr></table>"
      ],
      "text/plain": [
       "<IPython.core.display.HTML object>"
      ]
     },
     "metadata": {},
     "output_type": "display_data"
    },
    {
     "name": "stdout",
     "output_type": "stream",
     "text": [
      "true Searching pred_h Searching pred_fnh Searching\n"
     ]
    },
    {
     "data": {
      "text/html": [
       "<table><tr><td><b>words</b></td><td style=\"background-color: rgb(255,255,255);\">search</td><td style=\"background-color: rgb(255,255,255);\">in</td><td style=\"background-color: rgb(255,255,255);\">the</td><td style=\"background-color: rgb(255,255,255);\">corridor</td><td style=\"background-color: rgb(255,255,255);\">for</td><td style=\"background-color: rgb(255,255,255);\">the</td><td style=\"background-color: rgb(255,255,255);\">jar</td></tr><tr><td><b>lu</b></td><td style=\"background-color: rgb(0.0000, 255,0.0000);\">1.0000</td><td style=\"background-color: rgb(255.0000, 255,255.0000);\">0.0000</td><td style=\"background-color: rgb(255.0000, 255,255.0000);\">0.0000</td><td style=\"background-color: rgb(255.0000, 255,255.0000);\">0.0000</td><td style=\"background-color: rgb(255.0000, 255,255.0000);\">0.0000</td><td style=\"background-color: rgb(255.0000, 255,255.0000);\">0.0000</td><td style=\"background-color: rgb(255.0000, 255,255.0000);\">0.0000</td></tr><tr><td><b>h->h</b></td><td style=\"background-color: rgb(254.9980, 255,254.9980);\">0.0000</td><td style=\"background-color: rgb(254.7668, 255,254.7668);\">0.0009</td><td style=\"background-color: rgb(254.9299, 255,254.9299);\">0.0003</td><td style=\"background-color: rgb(254.9647, 255,254.9647);\">0.0001</td><td style=\"background-color: rgb(251.3029, 255,251.3029);\">0.0145</td><td style=\"background-color: rgb(122.2485, 255,122.2485);\">0.5206</td><td style=\"background-color: rgb(136.7903, 255,136.7903);\">0.4636</td></tr><tr><td><b>fn+h->h</b></td><td style=\"background-color: rgb(0.0000, 255,0.0000);\">1.0000</td><td style=\"background-color: rgb(255.0000, 255,255.0000);\">0.0000</td><td style=\"background-color: rgb(255.0000, 255,255.0000);\">0.0000</td><td style=\"background-color: rgb(255.0000, 255,255.0000);\">0.0000</td><td style=\"background-color: rgb(255.0000, 255,255.0000);\">0.0000</td><td style=\"background-color: rgb(255.0000, 255,255.0000);\">0.0000</td><td style=\"background-color: rgb(255.0000, 255,255.0000);\">0.0000</td></tr></table>"
      ],
      "text/plain": [
       "<IPython.core.display.HTML object>"
      ]
     },
     "metadata": {},
     "output_type": "display_data"
    },
    {
     "name": "stdout",
     "output_type": "stream",
     "text": [
      "true Taking pred_h Taking pred_fnh Taking\n"
     ]
    },
    {
     "data": {
      "text/html": [
       "<table><tr><td><b>words</b></td><td style=\"background-color: rgb(255,255,255);\">take</td><td style=\"background-color: rgb(255,255,255);\">the</td><td style=\"background-color: rgb(255,255,255);\">bottle</td><td style=\"background-color: rgb(255,255,255);\">near</td><td style=\"background-color: rgb(255,255,255);\">the</td><td style=\"background-color: rgb(255,255,255);\">fridge</td></tr><tr><td><b>lu</b></td><td style=\"background-color: rgb(0.0000, 255,0.0000);\">1.0000</td><td style=\"background-color: rgb(255.0000, 255,255.0000);\">0.0000</td><td style=\"background-color: rgb(255.0000, 255,255.0000);\">0.0000</td><td style=\"background-color: rgb(255.0000, 255,255.0000);\">0.0000</td><td style=\"background-color: rgb(255.0000, 255,255.0000);\">0.0000</td><td style=\"background-color: rgb(255.0000, 255,255.0000);\">0.0000</td></tr><tr><td><b>h->h</b></td><td style=\"background-color: rgb(254.9989, 255,254.9989);\">0.0000</td><td style=\"background-color: rgb(254.9643, 255,254.9643);\">0.0001</td><td style=\"background-color: rgb(254.9987, 255,254.9987);\">0.0000</td><td style=\"background-color: rgb(252.4508, 255,252.4508);\">0.0100</td><td style=\"background-color: rgb(3.0228, 255,3.0228);\">0.9881</td><td style=\"background-color: rgb(254.5688, 255,254.5688);\">0.0017</td></tr><tr><td><b>fn+h->h</b></td><td style=\"background-color: rgb(0.0479, 255,0.0479);\">0.9998</td><td style=\"background-color: rgb(255.0000, 255,255.0000);\">0.0000</td><td style=\"background-color: rgb(255.0000, 255,255.0000);\">0.0000</td><td style=\"background-color: rgb(254.9522, 255,254.9522);\">0.0002</td><td style=\"background-color: rgb(255.0000, 255,255.0000);\">0.0000</td><td style=\"background-color: rgb(255.0000, 255,255.0000);\">0.0000</td></tr></table>"
      ],
      "text/plain": [
       "<IPython.core.display.HTML object>"
      ]
     },
     "metadata": {},
     "output_type": "display_data"
    },
    {
     "name": "stdout",
     "output_type": "stream",
     "text": [
      "true Taking pred_h Taking pred_fnh Taking\n"
     ]
    },
    {
     "data": {
      "text/html": [
       "<table><tr><td><b>words</b></td><td style=\"background-color: rgb(255,255,255);\">take</td><td style=\"background-color: rgb(255,255,255);\">the</td><td style=\"background-color: rgb(255,255,255);\">phone</td><td style=\"background-color: rgb(255,255,255);\">on</td><td style=\"background-color: rgb(255,255,255);\">the</td><td style=\"background-color: rgb(255,255,255);\">couch</td></tr><tr><td><b>lu</b></td><td style=\"background-color: rgb(0.0000, 255,0.0000);\">1.0000</td><td style=\"background-color: rgb(255.0000, 255,255.0000);\">0.0000</td><td style=\"background-color: rgb(255.0000, 255,255.0000);\">0.0000</td><td style=\"background-color: rgb(255.0000, 255,255.0000);\">0.0000</td><td style=\"background-color: rgb(255.0000, 255,255.0000);\">0.0000</td><td style=\"background-color: rgb(255.0000, 255,255.0000);\">0.0000</td></tr><tr><td><b>h->h</b></td><td style=\"background-color: rgb(254.9977, 255,254.9977);\">0.0000</td><td style=\"background-color: rgb(254.9456, 255,254.9456);\">0.0002</td><td style=\"background-color: rgb(254.9908, 255,254.9908);\">0.0000</td><td style=\"background-color: rgb(253.5221, 255,253.5221);\">0.0058</td><td style=\"background-color: rgb(2.5069, 255,2.5069);\">0.9902</td><td style=\"background-color: rgb(254.0451, 255,254.0451);\">0.0037</td></tr><tr><td><b>fn+h->h</b></td><td style=\"background-color: rgb(8.0293, 255,8.0293);\">0.9685</td><td style=\"background-color: rgb(255.0000, 255,255.0000);\">0.0000</td><td style=\"background-color: rgb(255.0000, 255,255.0000);\">0.0000</td><td style=\"background-color: rgb(246.9707, 255,246.9707);\">0.0315</td><td style=\"background-color: rgb(255.0000, 255,255.0000);\">0.0000</td><td style=\"background-color: rgb(255.0000, 255,255.0000);\">0.0000</td></tr></table>"
      ],
      "text/plain": [
       "<IPython.core.display.HTML object>"
      ]
     },
     "metadata": {},
     "output_type": "display_data"
    },
    {
     "name": "stdout",
     "output_type": "stream",
     "text": [
      "true Taking pred_h Taking pred_fnh Taking\n"
     ]
    },
    {
     "data": {
      "text/html": [
       "<table><tr><td><b>words</b></td><td style=\"background-color: rgb(255,255,255);\">take</td><td style=\"background-color: rgb(255,255,255);\">the</td><td style=\"background-color: rgb(255,255,255);\">phone</td><td style=\"background-color: rgb(255,255,255);\">on</td><td style=\"background-color: rgb(255,255,255);\">the</td><td style=\"background-color: rgb(255,255,255);\">left</td><td style=\"background-color: rgb(255,255,255);\">of</td><td style=\"background-color: rgb(255,255,255);\">the</td><td style=\"background-color: rgb(255,255,255);\">pc</td></tr><tr><td><b>lu</b></td><td style=\"background-color: rgb(0.0000, 255,0.0000);\">1.0000</td><td style=\"background-color: rgb(255.0000, 255,255.0000);\">0.0000</td><td style=\"background-color: rgb(255.0000, 255,255.0000);\">0.0000</td><td style=\"background-color: rgb(255.0000, 255,255.0000);\">0.0000</td><td style=\"background-color: rgb(255.0000, 255,255.0000);\">0.0000</td><td style=\"background-color: rgb(255.0000, 255,255.0000);\">0.0000</td><td style=\"background-color: rgb(255.0000, 255,255.0000);\">0.0000</td><td style=\"background-color: rgb(255.0000, 255,255.0000);\">0.0000</td><td style=\"background-color: rgb(255.0000, 255,255.0000);\">0.0000</td></tr><tr><td><b>h->h</b></td><td style=\"background-color: rgb(254.9934, 255,254.9934);\">0.0000</td><td style=\"background-color: rgb(254.8804, 255,254.8804);\">0.0005</td><td style=\"background-color: rgb(254.8434, 255,254.8434);\">0.0006</td><td style=\"background-color: rgb(253.4111, 255,253.4111);\">0.0062</td><td style=\"background-color: rgb(254.8969, 255,254.8969);\">0.0004</td><td style=\"background-color: rgb(254.8244, 255,254.8244);\">0.0007</td><td style=\"background-color: rgb(247.3959, 255,247.3959);\">0.0298</td><td style=\"background-color: rgb(10.1029, 255,10.1029);\">0.9604</td><td style=\"background-color: rgb(254.6676, 255,254.6676);\">0.0013</td></tr><tr><td><b>fn+h->h</b></td><td style=\"background-color: rgb(0.0001, 255,0.0001);\">1.0000</td><td style=\"background-color: rgb(255.0000, 255,255.0000);\">0.0000</td><td style=\"background-color: rgb(255.0000, 255,255.0000);\">0.0000</td><td style=\"background-color: rgb(254.9999, 255,254.9999);\">0.0000</td><td style=\"background-color: rgb(255.0000, 255,255.0000);\">0.0000</td><td style=\"background-color: rgb(255.0000, 255,255.0000);\">0.0000</td><td style=\"background-color: rgb(255.0000, 255,255.0000);\">0.0000</td><td style=\"background-color: rgb(255.0000, 255,255.0000);\">0.0000</td><td style=\"background-color: rgb(255.0000, 255,255.0000);\">0.0000</td></tr></table>"
      ],
      "text/plain": [
       "<IPython.core.display.HTML object>"
      ]
     },
     "metadata": {},
     "output_type": "display_data"
    },
    {
     "name": "stdout",
     "output_type": "stream",
     "text": [
      "true Motion pred_h Motion pred_fnh Motion\n"
     ]
    },
    {
     "data": {
      "text/html": [
       "<table><tr><td><b>words</b></td><td style=\"background-color: rgb(255,255,255);\">walk</td><td style=\"background-color: rgb(255,255,255);\">to</td><td style=\"background-color: rgb(255,255,255);\">the</td><td style=\"background-color: rgb(255,255,255);\">stairs</td><td style=\"background-color: rgb(255,255,255);\">quickly</td></tr><tr><td><b>lu</b></td><td style=\"background-color: rgb(0.0000, 255,0.0000);\">1.0000</td><td style=\"background-color: rgb(255.0000, 255,255.0000);\">0.0000</td><td style=\"background-color: rgb(255.0000, 255,255.0000);\">0.0000</td><td style=\"background-color: rgb(255.0000, 255,255.0000);\">0.0000</td><td style=\"background-color: rgb(255.0000, 255,255.0000);\">0.0000</td></tr><tr><td><b>h->h</b></td><td style=\"background-color: rgb(254.9950, 255,254.9950);\">0.0000</td><td style=\"background-color: rgb(254.1354, 255,254.1354);\">0.0034</td><td style=\"background-color: rgb(213.8883, 255,213.8883);\">0.1612</td><td style=\"background-color: rgb(60.3280, 255,60.3280);\">0.7634</td><td style=\"background-color: rgb(236.6545, 255,236.6545);\">0.0719</td></tr><tr><td><b>fn+h->h</b></td><td style=\"background-color: rgb(31.1197, 255,31.1197);\">0.8780</td><td style=\"background-color: rgb(223.8804, 255,223.8804);\">0.1220</td><td style=\"background-color: rgb(255.0000, 255,255.0000);\">0.0000</td><td style=\"background-color: rgb(255.0000, 255,255.0000);\">0.0000</td><td style=\"background-color: rgb(254.9999, 255,254.9999);\">0.0000</td></tr></table>"
      ],
      "text/plain": [
       "<IPython.core.display.HTML object>"
      ]
     },
     "metadata": {},
     "output_type": "display_data"
    },
    {
     "name": "stdout",
     "output_type": "stream",
     "text": [
      "true Change_operational_state pred_h Change_operational_state pred_fnh Change_operational_state\n"
     ]
    },
    {
     "data": {
      "text/html": [
       "<table><tr><td><b>words</b></td><td style=\"background-color: rgb(255,255,255);\">activate</td><td style=\"background-color: rgb(255,255,255);\">the</td><td style=\"background-color: rgb(255,255,255);\">television</td></tr><tr><td><b>lu</b></td><td style=\"background-color: rgb(0.0000, 255,0.0000);\">1.0000</td><td style=\"background-color: rgb(255.0000, 255,255.0000);\">0.0000</td><td style=\"background-color: rgb(255.0000, 255,255.0000);\">0.0000</td></tr><tr><td><b>h->h</b></td><td style=\"background-color: rgb(254.7913, 255,254.7913);\">0.0008</td><td style=\"background-color: rgb(227.3584, 255,227.3584);\">0.1084</td><td style=\"background-color: rgb(27.8519, 255,27.8519);\">0.8908</td></tr><tr><td><b>fn+h->h</b></td><td style=\"background-color: rgb(0.0000, 255,0.0000);\">1.0000</td><td style=\"background-color: rgb(255.0000, 255,255.0000);\">0.0000</td><td style=\"background-color: rgb(255.0000, 255,255.0000);\">0.0000</td></tr></table>"
      ],
      "text/plain": [
       "<IPython.core.display.HTML object>"
      ]
     },
     "metadata": {},
     "output_type": "display_data"
    },
    {
     "name": "stdout",
     "output_type": "stream",
     "text": [
      "true Change_operational_state pred_h Change_operational_state pred_fnh Change_operational_state\n"
     ]
    },
    {
     "data": {
      "text/html": [
       "<table><tr><td><b>words</b></td><td style=\"background-color: rgb(255,255,255);\">activate</td><td style=\"background-color: rgb(255,255,255);\">the</td><td style=\"background-color: rgb(255,255,255);\">television</td><td style=\"background-color: rgb(255,255,255);\">at</td><td style=\"background-color: rgb(255,255,255);\">the</td><td style=\"background-color: rgb(255,255,255);\">right</td><td style=\"background-color: rgb(255,255,255);\">of</td><td style=\"background-color: rgb(255,255,255);\">the</td><td style=\"background-color: rgb(255,255,255);\">console</td></tr><tr><td><b>lu</b></td><td style=\"background-color: rgb(0.0000, 255,0.0000);\">1.0000</td><td style=\"background-color: rgb(255.0000, 255,255.0000);\">0.0000</td><td style=\"background-color: rgb(255.0000, 255,255.0000);\">0.0000</td><td style=\"background-color: rgb(255.0000, 255,255.0000);\">0.0000</td><td style=\"background-color: rgb(255.0000, 255,255.0000);\">0.0000</td><td style=\"background-color: rgb(255.0000, 255,255.0000);\">0.0000</td><td style=\"background-color: rgb(255.0000, 255,255.0000);\">0.0000</td><td style=\"background-color: rgb(255.0000, 255,255.0000);\">0.0000</td><td style=\"background-color: rgb(255.0000, 255,255.0000);\">0.0000</td></tr><tr><td><b>h->h</b></td><td style=\"background-color: rgb(254.9707, 255,254.9707);\">0.0001</td><td style=\"background-color: rgb(254.2721, 255,254.2721);\">0.0029</td><td style=\"background-color: rgb(254.1133, 255,254.1133);\">0.0035</td><td style=\"background-color: rgb(254.4895, 255,254.4895);\">0.0020</td><td style=\"background-color: rgb(254.7246, 255,254.7246);\">0.0011</td><td style=\"background-color: rgb(254.5667, 255,254.5667);\">0.0017</td><td style=\"background-color: rgb(252.2391, 255,252.2391);\">0.0108</td><td style=\"background-color: rgb(234.7099, 255,234.7099);\">0.0796</td><td style=\"background-color: rgb(25.9159, 255,25.9159);\">0.8984</td></tr><tr><td><b>fn+h->h</b></td><td style=\"background-color: rgb(0.0000, 255,0.0000);\">1.0000</td><td style=\"background-color: rgb(255.0000, 255,255.0000);\">0.0000</td><td style=\"background-color: rgb(255.0000, 255,255.0000);\">0.0000</td><td style=\"background-color: rgb(255.0000, 255,255.0000);\">0.0000</td><td style=\"background-color: rgb(255.0000, 255,255.0000);\">0.0000</td><td style=\"background-color: rgb(255.0000, 255,255.0000);\">0.0000</td><td style=\"background-color: rgb(255.0000, 255,255.0000);\">0.0000</td><td style=\"background-color: rgb(255.0000, 255,255.0000);\">0.0000</td><td style=\"background-color: rgb(255.0000, 255,255.0000);\">0.0000</td></tr></table>"
      ],
      "text/plain": [
       "<IPython.core.display.HTML object>"
      ]
     },
     "metadata": {},
     "output_type": "display_data"
    },
    {
     "name": "stdout",
     "output_type": "stream",
     "text": [
      "true Bringing pred_h Bringing pred_fnh Bringing\n"
     ]
    },
    {
     "data": {
      "text/html": [
       "<table><tr><td><b>words</b></td><td style=\"background-color: rgb(255,255,255);\">bring</td><td style=\"background-color: rgb(255,255,255);\">me</td><td style=\"background-color: rgb(255,255,255);\">the</td><td style=\"background-color: rgb(255,255,255);\">bottle</td></tr><tr><td><b>lu</b></td><td style=\"background-color: rgb(0.0000, 255,0.0000);\">1.0000</td><td style=\"background-color: rgb(255.0000, 255,255.0000);\">0.0000</td><td style=\"background-color: rgb(255.0000, 255,255.0000);\">0.0000</td><td style=\"background-color: rgb(255.0000, 255,255.0000);\">0.0000</td></tr><tr><td><b>h->h</b></td><td style=\"background-color: rgb(254.9998, 255,254.9998);\">0.0000</td><td style=\"background-color: rgb(254.9572, 255,254.9572);\">0.0002</td><td style=\"background-color: rgb(248.5665, 255,248.5665);\">0.0252</td><td style=\"background-color: rgb(6.4789, 255,6.4789);\">0.9746</td></tr><tr><td><b>fn+h->h</b></td><td style=\"background-color: rgb(29.2424, 255,29.2424);\">0.8853</td><td style=\"background-color: rgb(225.7576, 255,225.7576);\">0.1147</td><td style=\"background-color: rgb(255.0000, 255,255.0000);\">0.0000</td><td style=\"background-color: rgb(255.0000, 255,255.0000);\">0.0000</td></tr></table>"
      ],
      "text/plain": [
       "<IPython.core.display.HTML object>"
      ]
     },
     "metadata": {},
     "output_type": "display_data"
    },
    {
     "name": "stdout",
     "output_type": "stream",
     "text": [
      "true Bringing pred_h Bringing pred_fnh Bringing\n"
     ]
    },
    {
     "data": {
      "text/html": [
       "<table><tr><td><b>words</b></td><td style=\"background-color: rgb(255,255,255);\">bring</td><td style=\"background-color: rgb(255,255,255);\">the</td><td style=\"background-color: rgb(255,255,255);\">book</td><td style=\"background-color: rgb(255,255,255);\">to</td><td style=\"background-color: rgb(255,255,255);\">the</td><td style=\"background-color: rgb(255,255,255);\">dining</td><td style=\"background-color: rgb(255,255,255);\">room</td></tr><tr><td><b>lu</b></td><td style=\"background-color: rgb(0.0000, 255,0.0000);\">1.0000</td><td style=\"background-color: rgb(255.0000, 255,255.0000);\">0.0000</td><td style=\"background-color: rgb(255.0000, 255,255.0000);\">0.0000</td><td style=\"background-color: rgb(255.0000, 255,255.0000);\">0.0000</td><td style=\"background-color: rgb(255.0000, 255,255.0000);\">0.0000</td><td style=\"background-color: rgb(255.0000, 255,255.0000);\">0.0000</td><td style=\"background-color: rgb(255.0000, 255,255.0000);\">0.0000</td></tr><tr><td><b>h->h</b></td><td style=\"background-color: rgb(254.9998, 255,254.9998);\">0.0000</td><td style=\"background-color: rgb(254.9695, 255,254.9695);\">0.0001</td><td style=\"background-color: rgb(254.9925, 255,254.9925);\">0.0000</td><td style=\"background-color: rgb(254.7104, 255,254.7104);\">0.0011</td><td style=\"background-color: rgb(247.6009, 255,247.6009);\">0.0290</td><td style=\"background-color: rgb(225.1653, 255,225.1653);\">0.1170</td><td style=\"background-color: rgb(37.5624, 255,37.5624);\">0.8527</td></tr><tr><td><b>fn+h->h</b></td><td style=\"background-color: rgb(30.9168, 255,30.9168);\">0.8788</td><td style=\"background-color: rgb(255.0000, 255,255.0000);\">0.0000</td><td style=\"background-color: rgb(254.9999, 255,254.9999);\">0.0000</td><td style=\"background-color: rgb(224.0833, 255,224.0833);\">0.1212</td><td style=\"background-color: rgb(255.0000, 255,255.0000);\">0.0000</td><td style=\"background-color: rgb(255.0000, 255,255.0000);\">0.0000</td><td style=\"background-color: rgb(255.0000, 255,255.0000);\">0.0000</td></tr></table>"
      ],
      "text/plain": [
       "<IPython.core.display.HTML object>"
      ]
     },
     "metadata": {},
     "output_type": "display_data"
    },
    {
     "name": "stdout",
     "output_type": "stream",
     "text": [
      "true Bringing pred_h Bringing pred_fnh Bringing\n"
     ]
    },
    {
     "data": {
      "text/html": [
       "<table><tr><td><b>words</b></td><td style=\"background-color: rgb(255,255,255);\">bring</td><td style=\"background-color: rgb(255,255,255);\">the</td><td style=\"background-color: rgb(255,255,255);\">mobile</td><td style=\"background-color: rgb(255,255,255);\">to</td><td style=\"background-color: rgb(255,255,255);\">the</td><td style=\"background-color: rgb(255,255,255);\">dining</td><td style=\"background-color: rgb(255,255,255);\">room</td></tr><tr><td><b>lu</b></td><td style=\"background-color: rgb(0.0000, 255,0.0000);\">1.0000</td><td style=\"background-color: rgb(255.0000, 255,255.0000);\">0.0000</td><td style=\"background-color: rgb(255.0000, 255,255.0000);\">0.0000</td><td style=\"background-color: rgb(255.0000, 255,255.0000);\">0.0000</td><td style=\"background-color: rgb(255.0000, 255,255.0000);\">0.0000</td><td style=\"background-color: rgb(255.0000, 255,255.0000);\">0.0000</td><td style=\"background-color: rgb(255.0000, 255,255.0000);\">0.0000</td></tr><tr><td><b>h->h</b></td><td style=\"background-color: rgb(254.9998, 255,254.9998);\">0.0000</td><td style=\"background-color: rgb(254.9765, 255,254.9765);\">0.0001</td><td style=\"background-color: rgb(254.9860, 255,254.9860);\">0.0001</td><td style=\"background-color: rgb(254.7767, 255,254.7767);\">0.0009</td><td style=\"background-color: rgb(249.8611, 255,249.8611);\">0.0202</td><td style=\"background-color: rgb(228.2480, 255,228.2480);\">0.1049</td><td style=\"background-color: rgb(32.1527, 255,32.1527);\">0.8739</td></tr><tr><td><b>fn+h->h</b></td><td style=\"background-color: rgb(118.7196, 255,118.7196);\">0.5344</td><td style=\"background-color: rgb(255.0000, 255,255.0000);\">0.0000</td><td style=\"background-color: rgb(255.0000, 255,255.0000);\">0.0000</td><td style=\"background-color: rgb(136.2805, 255,136.2805);\">0.4656</td><td style=\"background-color: rgb(255.0000, 255,255.0000);\">0.0000</td><td style=\"background-color: rgb(255.0000, 255,255.0000);\">0.0000</td><td style=\"background-color: rgb(255.0000, 255,255.0000);\">0.0000</td></tr></table>"
      ],
      "text/plain": [
       "<IPython.core.display.HTML object>"
      ]
     },
     "metadata": {},
     "output_type": "display_data"
    },
    {
     "name": "stdout",
     "output_type": "stream",
     "text": [
      "true Motion pred_h Motion pred_fnh Motion\n"
     ]
    },
    {
     "data": {
      "text/html": [
       "<table><tr><td><b>words</b></td><td style=\"background-color: rgb(255,255,255);\">come</td><td style=\"background-color: rgb(255,255,255);\">to</td><td style=\"background-color: rgb(255,255,255);\">the</td><td style=\"background-color: rgb(255,255,255);\">table</td></tr><tr><td><b>lu</b></td><td style=\"background-color: rgb(0.0000, 255,0.0000);\">1.0000</td><td style=\"background-color: rgb(255.0000, 255,255.0000);\">0.0000</td><td style=\"background-color: rgb(255.0000, 255,255.0000);\">0.0000</td><td style=\"background-color: rgb(255.0000, 255,255.0000);\">0.0000</td></tr><tr><td><b>h->h</b></td><td style=\"background-color: rgb(255.0000, 255,255.0000);\">0.0000</td><td style=\"background-color: rgb(253.9943, 255,253.9943);\">0.0039</td><td style=\"background-color: rgb(138.4633, 255,138.4633);\">0.4570</td><td style=\"background-color: rgb(117.5436, 255,117.5436);\">0.5390</td></tr><tr><td><b>fn+h->h</b></td><td style=\"background-color: rgb(0.0050, 255,0.0050);\">1.0000</td><td style=\"background-color: rgb(254.9950, 255,254.9950);\">0.0000</td><td style=\"background-color: rgb(255.0000, 255,255.0000);\">0.0000</td><td style=\"background-color: rgb(255.0000, 255,255.0000);\">0.0000</td></tr></table>"
      ],
      "text/plain": [
       "<IPython.core.display.HTML object>"
      ]
     },
     "metadata": {},
     "output_type": "display_data"
    },
    {
     "name": "stdout",
     "output_type": "stream",
     "text": [
      "true Searching pred_h Searching pred_fnh Searching\n"
     ]
    },
    {
     "data": {
      "text/html": [
       "<table><tr><td><b>words</b></td><td style=\"background-color: rgb(255,255,255);\">find</td><td style=\"background-color: rgb(255,255,255);\">a</td><td style=\"background-color: rgb(255,255,255);\">bottle</td><td style=\"background-color: rgb(255,255,255);\">in</td><td style=\"background-color: rgb(255,255,255);\">the</td><td style=\"background-color: rgb(255,255,255);\">kitchen</td></tr><tr><td><b>lu</b></td><td style=\"background-color: rgb(0.0000, 255,0.0000);\">1.0000</td><td style=\"background-color: rgb(255.0000, 255,255.0000);\">0.0000</td><td style=\"background-color: rgb(255.0000, 255,255.0000);\">0.0000</td><td style=\"background-color: rgb(255.0000, 255,255.0000);\">0.0000</td><td style=\"background-color: rgb(255.0000, 255,255.0000);\">0.0000</td><td style=\"background-color: rgb(255.0000, 255,255.0000);\">0.0000</td></tr><tr><td><b>h->h</b></td><td style=\"background-color: rgb(254.9987, 255,254.9987);\">0.0000</td><td style=\"background-color: rgb(254.8857, 255,254.8857);\">0.0004</td><td style=\"background-color: rgb(254.9067, 255,254.9067);\">0.0004</td><td style=\"background-color: rgb(232.9555, 255,232.9555);\">0.0864</td><td style=\"background-color: rgb(71.1627, 255,71.1627);\">0.7209</td><td style=\"background-color: rgb(206.0913, 255,206.0913);\">0.1918</td></tr><tr><td><b>fn+h->h</b></td><td style=\"background-color: rgb(0.0000, 255,0.0000);\">1.0000</td><td style=\"background-color: rgb(255.0000, 255,255.0000);\">0.0000</td><td style=\"background-color: rgb(255.0000, 255,255.0000);\">0.0000</td><td style=\"background-color: rgb(255.0000, 255,255.0000);\">0.0000</td><td style=\"background-color: rgb(255.0000, 255,255.0000);\">0.0000</td><td style=\"background-color: rgb(255.0000, 255,255.0000);\">0.0000</td></tr></table>"
      ],
      "text/plain": [
       "<IPython.core.display.HTML object>"
      ]
     },
     "metadata": {},
     "output_type": "display_data"
    },
    {
     "name": "stdout",
     "output_type": "stream",
     "text": [
      "true Searching pred_h Searching pred_fnh Searching\n"
     ]
    },
    {
     "data": {
      "text/html": [
       "<table><tr><td><b>words</b></td><td style=\"background-color: rgb(255,255,255);\">find</td><td style=\"background-color: rgb(255,255,255);\">my</td><td style=\"background-color: rgb(255,255,255);\">address</td><td style=\"background-color: rgb(255,255,255);\">book</td><td style=\"background-color: rgb(255,255,255);\">in</td><td style=\"background-color: rgb(255,255,255);\">the</td><td style=\"background-color: rgb(255,255,255);\">living</td><td style=\"background-color: rgb(255,255,255);\">room</td></tr><tr><td><b>lu</b></td><td style=\"background-color: rgb(0.0000, 255,0.0000);\">1.0000</td><td style=\"background-color: rgb(255.0000, 255,255.0000);\">0.0000</td><td style=\"background-color: rgb(255.0000, 255,255.0000);\">0.0000</td><td style=\"background-color: rgb(255.0000, 255,255.0000);\">0.0000</td><td style=\"background-color: rgb(255.0000, 255,255.0000);\">0.0000</td><td style=\"background-color: rgb(255.0000, 255,255.0000);\">0.0000</td><td style=\"background-color: rgb(255.0000, 255,255.0000);\">0.0000</td><td style=\"background-color: rgb(255.0000, 255,255.0000);\">0.0000</td></tr><tr><td><b>h->h</b></td><td style=\"background-color: rgb(254.9988, 255,254.9988);\">0.0000</td><td style=\"background-color: rgb(254.9234, 255,254.9234);\">0.0003</td><td style=\"background-color: rgb(254.9545, 255,254.9545);\">0.0002</td><td style=\"background-color: rgb(254.9642, 255,254.9642);\">0.0001</td><td style=\"background-color: rgb(245.6418, 255,245.6418);\">0.0367</td><td style=\"background-color: rgb(201.2154, 255,201.2154);\">0.2109</td><td style=\"background-color: rgb(145.2094, 255,145.2094);\">0.4306</td><td style=\"background-color: rgb(173.0930, 255,173.0930);\">0.3212</td></tr><tr><td><b>fn+h->h</b></td><td style=\"background-color: rgb(0.0000, 255,0.0000);\">1.0000</td><td style=\"background-color: rgb(255.0000, 255,255.0000);\">0.0000</td><td style=\"background-color: rgb(255.0000, 255,255.0000);\">0.0000</td><td style=\"background-color: rgb(255.0000, 255,255.0000);\">0.0000</td><td style=\"background-color: rgb(255.0000, 255,255.0000);\">0.0000</td><td style=\"background-color: rgb(255.0000, 255,255.0000);\">0.0000</td><td style=\"background-color: rgb(255.0000, 255,255.0000);\">0.0000</td><td style=\"background-color: rgb(255.0000, 255,255.0000);\">0.0000</td></tr></table>"
      ],
      "text/plain": [
       "<IPython.core.display.HTML object>"
      ]
     },
     "metadata": {},
     "output_type": "display_data"
    },
    {
     "name": "stdout",
     "output_type": "stream",
     "text": [
      "true Searching pred_h Searching pred_fnh Searching\n"
     ]
    },
    {
     "data": {
      "text/html": [
       "<table><tr><td><b>words</b></td><td style=\"background-color: rgb(255,255,255);\">find</td><td style=\"background-color: rgb(255,255,255);\">my</td><td style=\"background-color: rgb(255,255,255);\">hat</td><td style=\"background-color: rgb(255,255,255);\">on</td><td style=\"background-color: rgb(255,255,255);\">the</td><td style=\"background-color: rgb(255,255,255);\">bed</td><td style=\"background-color: rgb(255,255,255);\">in</td><td style=\"background-color: rgb(255,255,255);\">the</td><td style=\"background-color: rgb(255,255,255);\">bedroom</td></tr><tr><td><b>lu</b></td><td style=\"background-color: rgb(0.0000, 255,0.0000);\">1.0000</td><td style=\"background-color: rgb(255.0000, 255,255.0000);\">0.0000</td><td style=\"background-color: rgb(255.0000, 255,255.0000);\">0.0000</td><td style=\"background-color: rgb(255.0000, 255,255.0000);\">0.0000</td><td style=\"background-color: rgb(255.0000, 255,255.0000);\">0.0000</td><td style=\"background-color: rgb(255.0000, 255,255.0000);\">0.0000</td><td style=\"background-color: rgb(255.0000, 255,255.0000);\">0.0000</td><td style=\"background-color: rgb(255.0000, 255,255.0000);\">0.0000</td><td style=\"background-color: rgb(255.0000, 255,255.0000);\">0.0000</td></tr><tr><td><b>h->h</b></td><td style=\"background-color: rgb(254.9986, 255,254.9986);\">0.0000</td><td style=\"background-color: rgb(254.8936, 255,254.8936);\">0.0004</td><td style=\"background-color: rgb(254.9859, 255,254.9859);\">0.0001</td><td style=\"background-color: rgb(253.8474, 255,253.8474);\">0.0045</td><td style=\"background-color: rgb(252.8794, 255,252.8794);\">0.0083</td><td style=\"background-color: rgb(253.7274, 255,253.7274);\">0.0050</td><td style=\"background-color: rgb(228.7790, 255,228.7790);\">0.1028</td><td style=\"background-color: rgb(114.9367, 255,114.9367);\">0.5493</td><td style=\"background-color: rgb(170.9524, 255,170.9524);\">0.3296</td></tr><tr><td><b>fn+h->h</b></td><td style=\"background-color: rgb(0.0000, 255,0.0000);\">1.0000</td><td style=\"background-color: rgb(255.0000, 255,255.0000);\">0.0000</td><td style=\"background-color: rgb(255.0000, 255,255.0000);\">0.0000</td><td style=\"background-color: rgb(255.0000, 255,255.0000);\">0.0000</td><td style=\"background-color: rgb(255.0000, 255,255.0000);\">0.0000</td><td style=\"background-color: rgb(255.0000, 255,255.0000);\">0.0000</td><td style=\"background-color: rgb(255.0000, 255,255.0000);\">0.0000</td><td style=\"background-color: rgb(255.0000, 255,255.0000);\">0.0000</td><td style=\"background-color: rgb(255.0000, 255,255.0000);\">0.0000</td></tr></table>"
      ],
      "text/plain": [
       "<IPython.core.display.HTML object>"
      ]
     },
     "metadata": {},
     "output_type": "display_data"
    },
    {
     "name": "stdout",
     "output_type": "stream",
     "text": [
      "true Searching pred_h Searching pred_fnh Searching\n"
     ]
    },
    {
     "data": {
      "text/html": [
       "<table><tr><td><b>words</b></td><td style=\"background-color: rgb(255,255,255);\">find</td><td style=\"background-color: rgb(255,255,255);\">the</td><td style=\"background-color: rgb(255,255,255);\">bed</td><td style=\"background-color: rgb(255,255,255);\">in</td><td style=\"background-color: rgb(255,255,255);\">the</td><td style=\"background-color: rgb(255,255,255);\">bathroom</td></tr><tr><td><b>lu</b></td><td style=\"background-color: rgb(0.0000, 255,0.0000);\">1.0000</td><td style=\"background-color: rgb(255.0000, 255,255.0000);\">0.0000</td><td style=\"background-color: rgb(255.0000, 255,255.0000);\">0.0000</td><td style=\"background-color: rgb(255.0000, 255,255.0000);\">0.0000</td><td style=\"background-color: rgb(255.0000, 255,255.0000);\">0.0000</td><td style=\"background-color: rgb(255.0000, 255,255.0000);\">0.0000</td></tr><tr><td><b>h->h</b></td><td style=\"background-color: rgb(254.9993, 255,254.9993);\">0.0000</td><td style=\"background-color: rgb(254.8879, 255,254.8879);\">0.0004</td><td style=\"background-color: rgb(254.8174, 255,254.8174);\">0.0007</td><td style=\"background-color: rgb(226.5335, 255,226.5335);\">0.1116</td><td style=\"background-color: rgb(68.4384, 255,68.4384);\">0.7316</td><td style=\"background-color: rgb(215.3241, 255,215.3241);\">0.1556</td></tr><tr><td><b>fn+h->h</b></td><td style=\"background-color: rgb(0.0000, 255,0.0000);\">1.0000</td><td style=\"background-color: rgb(255.0000, 255,255.0000);\">0.0000</td><td style=\"background-color: rgb(255.0000, 255,255.0000);\">0.0000</td><td style=\"background-color: rgb(255.0000, 255,255.0000);\">0.0000</td><td style=\"background-color: rgb(255.0000, 255,255.0000);\">0.0000</td><td style=\"background-color: rgb(255.0000, 255,255.0000);\">0.0000</td></tr></table>"
      ],
      "text/plain": [
       "<IPython.core.display.HTML object>"
      ]
     },
     "metadata": {},
     "output_type": "display_data"
    },
    {
     "name": "stdout",
     "output_type": "stream",
     "text": [
      "true Searching pred_h Searching pred_fnh Searching\n"
     ]
    },
    {
     "data": {
      "text/html": [
       "<table><tr><td><b>words</b></td><td style=\"background-color: rgb(255,255,255);\">find</td><td style=\"background-color: rgb(255,255,255);\">the</td><td style=\"background-color: rgb(255,255,255);\">bottle</td></tr><tr><td><b>lu</b></td><td style=\"background-color: rgb(0.0000, 255,0.0000);\">1.0000</td><td style=\"background-color: rgb(255.0000, 255,255.0000);\">0.0000</td><td style=\"background-color: rgb(255.0000, 255,255.0000);\">0.0000</td></tr><tr><td><b>h->h</b></td><td style=\"background-color: rgb(254.9846, 255,254.9846);\">0.0001</td><td style=\"background-color: rgb(229.7532, 255,229.7532);\">0.0990</td><td style=\"background-color: rgb(25.2644, 255,25.2644);\">0.9009</td></tr><tr><td><b>fn+h->h</b></td><td style=\"background-color: rgb(0.0000, 255,0.0000);\">1.0000</td><td style=\"background-color: rgb(255.0000, 255,255.0000);\">0.0000</td><td style=\"background-color: rgb(255.0000, 255,255.0000);\">0.0000</td></tr></table>"
      ],
      "text/plain": [
       "<IPython.core.display.HTML object>"
      ]
     },
     "metadata": {},
     "output_type": "display_data"
    },
    {
     "name": "stdout",
     "output_type": "stream",
     "text": [
      "true Searching pred_h Searching pred_fnh Searching\n"
     ]
    },
    {
     "data": {
      "text/html": [
       "<table><tr><td><b>words</b></td><td style=\"background-color: rgb(255,255,255);\">find</td><td style=\"background-color: rgb(255,255,255);\">the</td><td style=\"background-color: rgb(255,255,255);\">bottle</td><td style=\"background-color: rgb(255,255,255);\">of</td><td style=\"background-color: rgb(255,255,255);\">wine</td><td style=\"background-color: rgb(255,255,255);\">in</td><td style=\"background-color: rgb(255,255,255);\">the</td><td style=\"background-color: rgb(255,255,255);\">kitchen</td></tr><tr><td><b>lu</b></td><td style=\"background-color: rgb(0.0000, 255,0.0000);\">1.0000</td><td style=\"background-color: rgb(255.0000, 255,255.0000);\">0.0000</td><td style=\"background-color: rgb(255.0000, 255,255.0000);\">0.0000</td><td style=\"background-color: rgb(255.0000, 255,255.0000);\">0.0000</td><td style=\"background-color: rgb(255.0000, 255,255.0000);\">0.0000</td><td style=\"background-color: rgb(255.0000, 255,255.0000);\">0.0000</td><td style=\"background-color: rgb(255.0000, 255,255.0000);\">0.0000</td><td style=\"background-color: rgb(255.0000, 255,255.0000);\">0.0000</td></tr><tr><td><b>h->h</b></td><td style=\"background-color: rgb(254.9978, 255,254.9978);\">0.0000</td><td style=\"background-color: rgb(254.9755, 255,254.9755);\">0.0001</td><td style=\"background-color: rgb(254.7816, 255,254.7816);\">0.0009</td><td style=\"background-color: rgb(254.2344, 255,254.2344);\">0.0030</td><td style=\"background-color: rgb(254.9282, 255,254.9282);\">0.0003</td><td style=\"background-color: rgb(227.7417, 255,227.7417);\">0.1069</td><td style=\"background-color: rgb(45.1858, 255,45.1858);\">0.8228</td><td style=\"background-color: rgb(238.1557, 255,238.1557);\">0.0661</td></tr><tr><td><b>fn+h->h</b></td><td style=\"background-color: rgb(0.0000, 255,0.0000);\">1.0000</td><td style=\"background-color: rgb(255.0000, 255,255.0000);\">0.0000</td><td style=\"background-color: rgb(255.0000, 255,255.0000);\">0.0000</td><td style=\"background-color: rgb(255.0000, 255,255.0000);\">0.0000</td><td style=\"background-color: rgb(255.0000, 255,255.0000);\">0.0000</td><td style=\"background-color: rgb(255.0000, 255,255.0000);\">0.0000</td><td style=\"background-color: rgb(255.0000, 255,255.0000);\">0.0000</td><td style=\"background-color: rgb(255.0000, 255,255.0000);\">0.0000</td></tr></table>"
      ],
      "text/plain": [
       "<IPython.core.display.HTML object>"
      ]
     },
     "metadata": {},
     "output_type": "display_data"
    },
    {
     "name": "stdout",
     "output_type": "stream",
     "text": [
      "true Searching pred_h Searching pred_fnh Searching\n"
     ]
    },
    {
     "data": {
      "text/html": [
       "<table><tr><td><b>words</b></td><td style=\"background-color: rgb(255,255,255);\">find</td><td style=\"background-color: rgb(255,255,255);\">the</td><td style=\"background-color: rgb(255,255,255);\">phone</td></tr><tr><td><b>lu</b></td><td style=\"background-color: rgb(0.0000, 255,0.0000);\">1.0000</td><td style=\"background-color: rgb(255.0000, 255,255.0000);\">0.0000</td><td style=\"background-color: rgb(255.0000, 255,255.0000);\">0.0000</td></tr><tr><td><b>h->h</b></td><td style=\"background-color: rgb(254.9886, 255,254.9886);\">0.0000</td><td style=\"background-color: rgb(242.0011, 255,242.0011);\">0.0510</td><td style=\"background-color: rgb(13.0120, 255,13.0120);\">0.9490</td></tr><tr><td><b>fn+h->h</b></td><td style=\"background-color: rgb(0.0000, 255,0.0000);\">1.0000</td><td style=\"background-color: rgb(255.0000, 255,255.0000);\">0.0000</td><td style=\"background-color: rgb(255.0000, 255,255.0000);\">0.0000</td></tr></table>"
      ],
      "text/plain": [
       "<IPython.core.display.HTML object>"
      ]
     },
     "metadata": {},
     "output_type": "display_data"
    },
    {
     "name": "stdout",
     "output_type": "stream",
     "text": [
      "true Searching pred_h Searching pred_fnh Searching\n"
     ]
    },
    {
     "data": {
      "text/html": [
       "<table><tr><td><b>words</b></td><td style=\"background-color: rgb(255,255,255);\">find</td><td style=\"background-color: rgb(255,255,255);\">the</td><td style=\"background-color: rgb(255,255,255);\">phone</td><td style=\"background-color: rgb(255,255,255);\">in</td><td style=\"background-color: rgb(255,255,255);\">the</td><td style=\"background-color: rgb(255,255,255);\">studio</td></tr><tr><td><b>lu</b></td><td style=\"background-color: rgb(0.0000, 255,0.0000);\">1.0000</td><td style=\"background-color: rgb(255.0000, 255,255.0000);\">0.0000</td><td style=\"background-color: rgb(255.0000, 255,255.0000);\">0.0000</td><td style=\"background-color: rgb(255.0000, 255,255.0000);\">0.0000</td><td style=\"background-color: rgb(255.0000, 255,255.0000);\">0.0000</td><td style=\"background-color: rgb(255.0000, 255,255.0000);\">0.0000</td></tr><tr><td><b>h->h</b></td><td style=\"background-color: rgb(254.9988, 255,254.9988);\">0.0000</td><td style=\"background-color: rgb(254.9803, 255,254.9803);\">0.0001</td><td style=\"background-color: rgb(254.9522, 255,254.9522);\">0.0002</td><td style=\"background-color: rgb(239.7552, 255,239.7552);\">0.0598</td><td style=\"background-color: rgb(104.0245, 255,104.0245);\">0.5921</td><td style=\"background-color: rgb(166.2896, 255,166.2896);\">0.3479</td></tr><tr><td><b>fn+h->h</b></td><td style=\"background-color: rgb(0.0000, 255,0.0000);\">1.0000</td><td style=\"background-color: rgb(255.0000, 255,255.0000);\">0.0000</td><td style=\"background-color: rgb(255.0000, 255,255.0000);\">0.0000</td><td style=\"background-color: rgb(255.0000, 255,255.0000);\">0.0000</td><td style=\"background-color: rgb(255.0000, 255,255.0000);\">0.0000</td><td style=\"background-color: rgb(255.0000, 255,255.0000);\">0.0000</td></tr></table>"
      ],
      "text/plain": [
       "<IPython.core.display.HTML object>"
      ]
     },
     "metadata": {},
     "output_type": "display_data"
    },
    {
     "name": "stdout",
     "output_type": "stream",
     "text": [
      "true Searching pred_h Searching pred_fnh Searching\n"
     ]
    },
    {
     "data": {
      "text/html": [
       "<table><tr><td><b>words</b></td><td style=\"background-color: rgb(255,255,255);\">find</td><td style=\"background-color: rgb(255,255,255);\">the</td><td style=\"background-color: rgb(255,255,255);\">pillow</td></tr><tr><td><b>lu</b></td><td style=\"background-color: rgb(0.0000, 255,0.0000);\">1.0000</td><td style=\"background-color: rgb(255.0000, 255,255.0000);\">0.0000</td><td style=\"background-color: rgb(255.0000, 255,255.0000);\">0.0000</td></tr><tr><td><b>h->h</b></td><td style=\"background-color: rgb(254.9878, 255,254.9878);\">0.0000</td><td style=\"background-color: rgb(240.3087, 255,240.3087);\">0.0576</td><td style=\"background-color: rgb(14.7054, 255,14.7054);\">0.9423</td></tr><tr><td><b>fn+h->h</b></td><td style=\"background-color: rgb(0.0000, 255,0.0000);\">1.0000</td><td style=\"background-color: rgb(255.0000, 255,255.0000);\">0.0000</td><td style=\"background-color: rgb(255.0000, 255,255.0000);\">0.0000</td></tr></table>"
      ],
      "text/plain": [
       "<IPython.core.display.HTML object>"
      ]
     },
     "metadata": {},
     "output_type": "display_data"
    },
    {
     "name": "stdout",
     "output_type": "stream",
     "text": [
      "true Searching pred_h Searching pred_fnh Searching\n"
     ]
    },
    {
     "data": {
      "text/html": [
       "<table><tr><td><b>words</b></td><td style=\"background-color: rgb(255,255,255);\">find</td><td style=\"background-color: rgb(255,255,255);\">the</td><td style=\"background-color: rgb(255,255,255);\">plates</td><td style=\"background-color: rgb(255,255,255);\">on</td><td style=\"background-color: rgb(255,255,255);\">the</td><td style=\"background-color: rgb(255,255,255);\">table</td></tr><tr><td><b>lu</b></td><td style=\"background-color: rgb(0.0000, 255,0.0000);\">1.0000</td><td style=\"background-color: rgb(255.0000, 255,255.0000);\">0.0000</td><td style=\"background-color: rgb(255.0000, 255,255.0000);\">0.0000</td><td style=\"background-color: rgb(255.0000, 255,255.0000);\">0.0000</td><td style=\"background-color: rgb(255.0000, 255,255.0000);\">0.0000</td><td style=\"background-color: rgb(255.0000, 255,255.0000);\">0.0000</td></tr><tr><td><b>h->h</b></td><td style=\"background-color: rgb(254.9989, 255,254.9989);\">0.0000</td><td style=\"background-color: rgb(254.9044, 255,254.9044);\">0.0004</td><td style=\"background-color: rgb(254.9495, 255,254.9495);\">0.0002</td><td style=\"background-color: rgb(243.1682, 255,243.1682);\">0.0464</td><td style=\"background-color: rgb(105.1529, 255,105.1529);\">0.5876</td><td style=\"background-color: rgb(161.8267, 255,161.8267);\">0.3654</td></tr><tr><td><b>fn+h->h</b></td><td style=\"background-color: rgb(0.0000, 255,0.0000);\">1.0000</td><td style=\"background-color: rgb(255.0000, 255,255.0000);\">0.0000</td><td style=\"background-color: rgb(255.0000, 255,255.0000);\">0.0000</td><td style=\"background-color: rgb(255.0000, 255,255.0000);\">0.0000</td><td style=\"background-color: rgb(255.0000, 255,255.0000);\">0.0000</td><td style=\"background-color: rgb(255.0000, 255,255.0000);\">0.0000</td></tr></table>"
      ],
      "text/plain": [
       "<IPython.core.display.HTML object>"
      ]
     },
     "metadata": {},
     "output_type": "display_data"
    },
    {
     "name": "stdout",
     "output_type": "stream",
     "text": [
      "true Searching pred_h Searching pred_fnh Searching\n"
     ]
    },
    {
     "data": {
      "text/html": [
       "<table><tr><td><b>words</b></td><td style=\"background-color: rgb(255,255,255);\">find</td><td style=\"background-color: rgb(255,255,255);\">the</td><td style=\"background-color: rgb(255,255,255);\">shower</td></tr><tr><td><b>lu</b></td><td style=\"background-color: rgb(0.0000, 255,0.0000);\">1.0000</td><td style=\"background-color: rgb(255.0000, 255,255.0000);\">0.0000</td><td style=\"background-color: rgb(255.0000, 255,255.0000);\">0.0000</td></tr><tr><td><b>h->h</b></td><td style=\"background-color: rgb(254.9684, 255,254.9684);\">0.0001</td><td style=\"background-color: rgb(146.0370, 255,146.0370);\">0.4273</td><td style=\"background-color: rgb(108.9978, 255,108.9978);\">0.5726</td></tr><tr><td><b>fn+h->h</b></td><td style=\"background-color: rgb(0.0000, 255,0.0000);\">1.0000</td><td style=\"background-color: rgb(255.0000, 255,255.0000);\">0.0000</td><td style=\"background-color: rgb(255.0000, 255,255.0000);\">0.0000</td></tr></table>"
      ],
      "text/plain": [
       "<IPython.core.display.HTML object>"
      ]
     },
     "metadata": {},
     "output_type": "display_data"
    },
    {
     "name": "stdout",
     "output_type": "stream",
     "text": [
      "true Searching pred_h Searching pred_fnh Searching\n"
     ]
    },
    {
     "data": {
      "text/html": [
       "<table><tr><td><b>words</b></td><td style=\"background-color: rgb(255,255,255);\">find</td><td style=\"background-color: rgb(255,255,255);\">the</td><td style=\"background-color: rgb(255,255,255);\">stove</td><td style=\"background-color: rgb(255,255,255);\">in</td><td style=\"background-color: rgb(255,255,255);\">the</td><td style=\"background-color: rgb(255,255,255);\">studio</td></tr><tr><td><b>lu</b></td><td style=\"background-color: rgb(0.0000, 255,0.0000);\">1.0000</td><td style=\"background-color: rgb(255.0000, 255,255.0000);\">0.0000</td><td style=\"background-color: rgb(255.0000, 255,255.0000);\">0.0000</td><td style=\"background-color: rgb(255.0000, 255,255.0000);\">0.0000</td><td style=\"background-color: rgb(255.0000, 255,255.0000);\">0.0000</td><td style=\"background-color: rgb(255.0000, 255,255.0000);\">0.0000</td></tr><tr><td><b>h->h</b></td><td style=\"background-color: rgb(254.9990, 255,254.9990);\">0.0000</td><td style=\"background-color: rgb(254.8960, 255,254.8960);\">0.0004</td><td style=\"background-color: rgb(254.8649, 255,254.8649);\">0.0005</td><td style=\"background-color: rgb(240.4062, 255,240.4062);\">0.0572</td><td style=\"background-color: rgb(95.8929, 255,95.8929);\">0.6239</td><td style=\"background-color: rgb(173.9417, 255,173.9417);\">0.3179</td></tr><tr><td><b>fn+h->h</b></td><td style=\"background-color: rgb(0.0000, 255,0.0000);\">1.0000</td><td style=\"background-color: rgb(255.0000, 255,255.0000);\">0.0000</td><td style=\"background-color: rgb(255.0000, 255,255.0000);\">0.0000</td><td style=\"background-color: rgb(255.0000, 255,255.0000);\">0.0000</td><td style=\"background-color: rgb(255.0000, 255,255.0000);\">0.0000</td><td style=\"background-color: rgb(255.0000, 255,255.0000);\">0.0000</td></tr></table>"
      ],
      "text/plain": [
       "<IPython.core.display.HTML object>"
      ]
     },
     "metadata": {},
     "output_type": "display_data"
    },
    {
     "name": "stdout",
     "output_type": "stream",
     "text": [
      "true Searching pred_h Searching pred_fnh Searching\n"
     ]
    },
    {
     "data": {
      "text/html": [
       "<table><tr><td><b>words</b></td><td style=\"background-color: rgb(255,255,255);\">find</td><td style=\"background-color: rgb(255,255,255);\">the</td><td style=\"background-color: rgb(255,255,255);\">table</td><td style=\"background-color: rgb(255,255,255);\">in</td><td style=\"background-color: rgb(255,255,255);\">the</td><td style=\"background-color: rgb(255,255,255);\">bedroom</td></tr><tr><td><b>lu</b></td><td style=\"background-color: rgb(0.0000, 255,0.0000);\">1.0000</td><td style=\"background-color: rgb(255.0000, 255,255.0000);\">0.0000</td><td style=\"background-color: rgb(255.0000, 255,255.0000);\">0.0000</td><td style=\"background-color: rgb(255.0000, 255,255.0000);\">0.0000</td><td style=\"background-color: rgb(255.0000, 255,255.0000);\">0.0000</td><td style=\"background-color: rgb(255.0000, 255,255.0000);\">0.0000</td></tr><tr><td><b>h->h</b></td><td style=\"background-color: rgb(254.9991, 255,254.9991);\">0.0000</td><td style=\"background-color: rgb(254.3763, 255,254.3763);\">0.0024</td><td style=\"background-color: rgb(252.4946, 255,252.4946);\">0.0098</td><td style=\"background-color: rgb(236.0673, 255,236.0673);\">0.0742</td><td style=\"background-color: rgb(87.2055, 255,87.2055);\">0.6580</td><td style=\"background-color: rgb(189.8579, 255,189.8579);\">0.2555</td></tr><tr><td><b>fn+h->h</b></td><td style=\"background-color: rgb(0.0000, 255,0.0000);\">1.0000</td><td style=\"background-color: rgb(255.0000, 255,255.0000);\">0.0000</td><td style=\"background-color: rgb(255.0000, 255,255.0000);\">0.0000</td><td style=\"background-color: rgb(255.0000, 255,255.0000);\">0.0000</td><td style=\"background-color: rgb(255.0000, 255,255.0000);\">0.0000</td><td style=\"background-color: rgb(255.0000, 255,255.0000);\">0.0000</td></tr></table>"
      ],
      "text/plain": [
       "<IPython.core.display.HTML object>"
      ]
     },
     "metadata": {},
     "output_type": "display_data"
    },
    {
     "name": "stdout",
     "output_type": "stream",
     "text": [
      "true Searching pred_h Searching pred_fnh Searching\n"
     ]
    },
    {
     "data": {
      "text/html": [
       "<table><tr><td><b>words</b></td><td style=\"background-color: rgb(255,255,255);\">find</td><td style=\"background-color: rgb(255,255,255);\">the</td><td style=\"background-color: rgb(255,255,255);\">television</td></tr><tr><td><b>lu</b></td><td style=\"background-color: rgb(0.0000, 255,0.0000);\">1.0000</td><td style=\"background-color: rgb(255.0000, 255,255.0000);\">0.0000</td><td style=\"background-color: rgb(255.0000, 255,255.0000);\">0.0000</td></tr><tr><td><b>h->h</b></td><td style=\"background-color: rgb(254.9851, 255,254.9851);\">0.0001</td><td style=\"background-color: rgb(184.1421, 255,184.1421);\">0.2779</td><td style=\"background-color: rgb(70.8738, 255,70.8738);\">0.7221</td></tr><tr><td><b>fn+h->h</b></td><td style=\"background-color: rgb(0.0000, 255,0.0000);\">1.0000</td><td style=\"background-color: rgb(255.0000, 255,255.0000);\">0.0000</td><td style=\"background-color: rgb(255.0000, 255,255.0000);\">0.0000</td></tr></table>"
      ],
      "text/plain": [
       "<IPython.core.display.HTML object>"
      ]
     },
     "metadata": {},
     "output_type": "display_data"
    },
    {
     "name": "stdout",
     "output_type": "stream",
     "text": [
      "true Searching pred_h Searching pred_fnh Searching\n"
     ]
    },
    {
     "data": {
      "text/html": [
       "<table><tr><td><b>words</b></td><td style=\"background-color: rgb(255,255,255);\">find</td><td style=\"background-color: rgb(255,255,255);\">the</td><td style=\"background-color: rgb(255,255,255);\">white</td><td style=\"background-color: rgb(255,255,255);\">vase</td></tr><tr><td><b>lu</b></td><td style=\"background-color: rgb(0.0000, 255,0.0000);\">1.0000</td><td style=\"background-color: rgb(255.0000, 255,255.0000);\">0.0000</td><td style=\"background-color: rgb(255.0000, 255,255.0000);\">0.0000</td><td style=\"background-color: rgb(255.0000, 255,255.0000);\">0.0000</td></tr><tr><td><b>h->h</b></td><td style=\"background-color: rgb(254.9910, 255,254.9910);\">0.0000</td><td style=\"background-color: rgb(246.3684, 255,246.3684);\">0.0338</td><td style=\"background-color: rgb(71.8739, 255,71.8739);\">0.7181</td><td style=\"background-color: rgb(191.7696, 255,191.7696);\">0.2480</td></tr><tr><td><b>fn+h->h</b></td><td style=\"background-color: rgb(0.0000, 255,0.0000);\">1.0000</td><td style=\"background-color: rgb(255.0000, 255,255.0000);\">0.0000</td><td style=\"background-color: rgb(255.0000, 255,255.0000);\">0.0000</td><td style=\"background-color: rgb(255.0000, 255,255.0000);\">0.0000</td></tr></table>"
      ],
      "text/plain": [
       "<IPython.core.display.HTML object>"
      ]
     },
     "metadata": {},
     "output_type": "display_data"
    },
    {
     "name": "stdout",
     "output_type": "stream",
     "text": [
      "true Searching pred_h Searching pred_fnh Searching\n"
     ]
    },
    {
     "data": {
      "text/html": [
       "<table><tr><td><b>words</b></td><td style=\"background-color: rgb(255,255,255);\">find</td><td style=\"background-color: rgb(255,255,255);\">vittorio</td><td style=\"background-color: rgb(255,255,255);\">'s</td><td style=\"background-color: rgb(255,255,255);\">phone</td></tr><tr><td><b>lu</b></td><td style=\"background-color: rgb(0.0000, 255,0.0000);\">1.0000</td><td style=\"background-color: rgb(255.0000, 255,255.0000);\">0.0000</td><td style=\"background-color: rgb(255.0000, 255,255.0000);\">0.0000</td><td style=\"background-color: rgb(255.0000, 255,255.0000);\">0.0000</td></tr><tr><td><b>h->h</b></td><td style=\"background-color: rgb(254.9969, 255,254.9969);\">0.0000</td><td style=\"background-color: rgb(254.6624, 255,254.6624);\">0.0013</td><td style=\"background-color: rgb(250.3365, 255,250.3365);\">0.0183</td><td style=\"background-color: rgb(5.0060, 255,5.0060);\">0.9804</td></tr><tr><td><b>fn+h->h</b></td><td style=\"background-color: rgb(0.0000, 255,0.0000);\">1.0000</td><td style=\"background-color: rgb(255.0000, 255,255.0000);\">0.0000</td><td style=\"background-color: rgb(255.0000, 255,255.0000);\">0.0000</td><td style=\"background-color: rgb(255.0000, 255,255.0000);\">0.0000</td></tr></table>"
      ],
      "text/plain": [
       "<IPython.core.display.HTML object>"
      ]
     },
     "metadata": {},
     "output_type": "display_data"
    },
    {
     "name": "stdout",
     "output_type": "stream",
     "text": [
      "true Following pred_h Following pred_fnh Following\n"
     ]
    },
    {
     "data": {
      "text/html": [
       "<table><tr><td><b>words</b></td><td style=\"background-color: rgb(255,255,255);\">follow</td><td style=\"background-color: rgb(255,255,255);\">john</td><td style=\"background-color: rgb(255,255,255);\">slowly</td></tr><tr><td><b>lu</b></td><td style=\"background-color: rgb(0.0000, 255,0.0000);\">1.0000</td><td style=\"background-color: rgb(255.0000, 255,255.0000);\">0.0000</td><td style=\"background-color: rgb(255.0000, 255,255.0000);\">0.0000</td></tr><tr><td><b>h->h</b></td><td style=\"background-color: rgb(254.8454, 255,254.8454);\">0.0006</td><td style=\"background-color: rgb(246.5153, 255,246.5153);\">0.0333</td><td style=\"background-color: rgb(8.6498, 255,8.6498);\">0.9661</td></tr><tr><td><b>fn+h->h</b></td><td style=\"background-color: rgb(0.0000, 255,0.0000);\">1.0000</td><td style=\"background-color: rgb(255.0000, 255,255.0000);\">0.0000</td><td style=\"background-color: rgb(255.0000, 255,255.0000);\">0.0000</td></tr></table>"
      ],
      "text/plain": [
       "<IPython.core.display.HTML object>"
      ]
     },
     "metadata": {},
     "output_type": "display_data"
    },
    {
     "name": "stdout",
     "output_type": "stream",
     "text": [
      "true Following pred_h Following pred_fnh Following\n"
     ]
    },
    {
     "data": {
      "text/html": [
       "<table><tr><td><b>words</b></td><td style=\"background-color: rgb(255,255,255);\">follow</td><td style=\"background-color: rgb(255,255,255);\">mark</td><td style=\"background-color: rgb(255,255,255);\">slowly</td></tr><tr><td><b>lu</b></td><td style=\"background-color: rgb(0.0000, 255,0.0000);\">1.0000</td><td style=\"background-color: rgb(255.0000, 255,255.0000);\">0.0000</td><td style=\"background-color: rgb(255.0000, 255,255.0000);\">0.0000</td></tr><tr><td><b>h->h</b></td><td style=\"background-color: rgb(254.8257, 255,254.8257);\">0.0007</td><td style=\"background-color: rgb(139.7889, 255,139.7889);\">0.4518</td><td style=\"background-color: rgb(115.3997, 255,115.3997);\">0.5475</td></tr><tr><td><b>fn+h->h</b></td><td style=\"background-color: rgb(0.0001, 255,0.0001);\">1.0000</td><td style=\"background-color: rgb(255.0000, 255,255.0000);\">0.0000</td><td style=\"background-color: rgb(254.9999, 255,254.9999);\">0.0000</td></tr></table>"
      ],
      "text/plain": [
       "<IPython.core.display.HTML object>"
      ]
     },
     "metadata": {},
     "output_type": "display_data"
    },
    {
     "name": "stdout",
     "output_type": "stream",
     "text": [
      "true Following pred_h Following pred_fnh Following\n"
     ]
    },
    {
     "data": {
      "text/html": [
       "<table><tr><td><b>words</b></td><td style=\"background-color: rgb(255,255,255);\">follow</td><td style=\"background-color: rgb(255,255,255);\">me</td><td style=\"background-color: rgb(255,255,255);\">slowly</td></tr><tr><td><b>lu</b></td><td style=\"background-color: rgb(0.0000, 255,0.0000);\">1.0000</td><td style=\"background-color: rgb(255.0000, 255,255.0000);\">0.0000</td><td style=\"background-color: rgb(255.0000, 255,255.0000);\">0.0000</td></tr><tr><td><b>h->h</b></td><td style=\"background-color: rgb(254.8461, 255,254.8461);\">0.0006</td><td style=\"background-color: rgb(107.5537, 255,107.5537);\">0.5782</td><td style=\"background-color: rgb(147.6070, 255,147.6070);\">0.4211</td></tr><tr><td><b>fn+h->h</b></td><td style=\"background-color: rgb(0.0082, 255,0.0082);\">1.0000</td><td style=\"background-color: rgb(254.9918, 255,254.9918);\">0.0000</td><td style=\"background-color: rgb(255.0000, 255,255.0000);\">0.0000</td></tr></table>"
      ],
      "text/plain": [
       "<IPython.core.display.HTML object>"
      ]
     },
     "metadata": {},
     "output_type": "display_data"
    },
    {
     "name": "stdout",
     "output_type": "stream",
     "text": [
      "true Following pred_h Following pred_fnh Following\n"
     ]
    },
    {
     "data": {
      "text/html": [
       "<table><tr><td><b>words</b></td><td style=\"background-color: rgb(255,255,255);\">follow</td><td style=\"background-color: rgb(255,255,255);\">the</td><td style=\"background-color: rgb(255,255,255);\">guy</td><td style=\"background-color: rgb(255,255,255);\">in</td><td style=\"background-color: rgb(255,255,255);\">the</td><td style=\"background-color: rgb(255,255,255);\">blue</td><td style=\"background-color: rgb(255,255,255);\">hoodie</td></tr><tr><td><b>lu</b></td><td style=\"background-color: rgb(0.0000, 255,0.0000);\">1.0000</td><td style=\"background-color: rgb(255.0000, 255,255.0000);\">0.0000</td><td style=\"background-color: rgb(255.0000, 255,255.0000);\">0.0000</td><td style=\"background-color: rgb(255.0000, 255,255.0000);\">0.0000</td><td style=\"background-color: rgb(255.0000, 255,255.0000);\">0.0000</td><td style=\"background-color: rgb(255.0000, 255,255.0000);\">0.0000</td><td style=\"background-color: rgb(255.0000, 255,255.0000);\">0.0000</td></tr><tr><td><b>h->h</b></td><td style=\"background-color: rgb(254.9466, 255,254.9466);\">0.0002</td><td style=\"background-color: rgb(247.3098, 255,247.3098);\">0.0302</td><td style=\"background-color: rgb(253.0758, 255,253.0758);\">0.0075</td><td style=\"background-color: rgb(230.2455, 255,230.2455);\">0.0971</td><td style=\"background-color: rgb(226.7457, 255,226.7457);\">0.1108</td><td style=\"background-color: rgb(211.7136, 255,211.7136);\">0.1698</td><td style=\"background-color: rgb(105.9664, 255,105.9664);\">0.5844</td></tr><tr><td><b>fn+h->h</b></td><td style=\"background-color: rgb(0.0000, 255,0.0000);\">1.0000</td><td style=\"background-color: rgb(255.0000, 255,255.0000);\">0.0000</td><td style=\"background-color: rgb(255.0000, 255,255.0000);\">0.0000</td><td style=\"background-color: rgb(255.0000, 255,255.0000);\">0.0000</td><td style=\"background-color: rgb(255.0000, 255,255.0000);\">0.0000</td><td style=\"background-color: rgb(255.0000, 255,255.0000);\">0.0000</td><td style=\"background-color: rgb(255.0000, 255,255.0000);\">0.0000</td></tr></table>"
      ],
      "text/plain": [
       "<IPython.core.display.HTML object>"
      ]
     },
     "metadata": {},
     "output_type": "display_data"
    },
    {
     "name": "stdout",
     "output_type": "stream",
     "text": [
      "true Taking pred_h Taking pred_fnh Taking\n"
     ]
    },
    {
     "data": {
      "text/html": [
       "<table><tr><td><b>words</b></td><td style=\"background-color: rgb(255,255,255);\">get</td><td style=\"background-color: rgb(255,255,255);\">the</td><td style=\"background-color: rgb(255,255,255);\">phone</td></tr><tr><td><b>lu</b></td><td style=\"background-color: rgb(0.0000, 255,0.0000);\">1.0000</td><td style=\"background-color: rgb(255.0000, 255,255.0000);\">0.0000</td><td style=\"background-color: rgb(255.0000, 255,255.0000);\">0.0000</td></tr><tr><td><b>h->h</b></td><td style=\"background-color: rgb(254.9230, 255,254.9230);\">0.0003</td><td style=\"background-color: rgb(2.1231, 255,2.1231);\">0.9917</td><td style=\"background-color: rgb(252.9761, 255,252.9761);\">0.0079</td></tr><tr><td><b>fn+h->h</b></td><td style=\"background-color: rgb(0.0001, 255,0.0001);\">1.0000</td><td style=\"background-color: rgb(254.9999, 255,254.9999);\">0.0000</td><td style=\"background-color: rgb(255.0000, 255,255.0000);\">0.0000</td></tr></table>"
      ],
      "text/plain": [
       "<IPython.core.display.HTML object>"
      ]
     },
     "metadata": {},
     "output_type": "display_data"
    },
    {
     "name": "stdout",
     "output_type": "stream",
     "text": [
      "true Searching pred_h Searching pred_fnh Searching\n"
     ]
    },
    {
     "data": {
      "text/html": [
       "<table><tr><td><b>words</b></td><td style=\"background-color: rgb(255,255,255);\">go</td><td style=\"background-color: rgb(255,255,255);\">find</td><td style=\"background-color: rgb(255,255,255);\">the</td><td style=\"background-color: rgb(255,255,255);\">book</td></tr><tr><td><b>lu</b></td><td style=\"background-color: rgb(255.0000, 255,255.0000);\">0.0000</td><td style=\"background-color: rgb(0.0000, 255,0.0000);\">1.0000</td><td style=\"background-color: rgb(255.0000, 255,255.0000);\">0.0000</td><td style=\"background-color: rgb(255.0000, 255,255.0000);\">0.0000</td></tr><tr><td><b>h->h</b></td><td style=\"background-color: rgb(255.0000, 255,255.0000);\">0.0000</td><td style=\"background-color: rgb(254.9536, 255,254.9536);\">0.0002</td><td style=\"background-color: rgb(224.2762, 255,224.2762);\">0.1205</td><td style=\"background-color: rgb(30.7718, 255,30.7718);\">0.8793</td></tr><tr><td><b>fn+h->h</b></td><td style=\"background-color: rgb(255.0000, 255,255.0000);\">0.0000</td><td style=\"background-color: rgb(0.0000, 255,0.0000);\">1.0000</td><td style=\"background-color: rgb(255.0000, 255,255.0000);\">0.0000</td><td style=\"background-color: rgb(255.0000, 255,255.0000);\">0.0000</td></tr></table>"
      ],
      "text/plain": [
       "<IPython.core.display.HTML object>"
      ]
     },
     "metadata": {},
     "output_type": "display_data"
    },
    {
     "name": "stdout",
     "output_type": "stream",
     "text": [
      "true Taking pred_h Taking pred_fnh Taking\n"
     ]
    },
    {
     "data": {
      "text/html": [
       "<table><tr><td><b>words</b></td><td style=\"background-color: rgb(255,255,255);\">go</td><td style=\"background-color: rgb(255,255,255);\">get</td><td style=\"background-color: rgb(255,255,255);\">the</td><td style=\"background-color: rgb(255,255,255);\">book</td></tr><tr><td><b>lu</b></td><td style=\"background-color: rgb(255.0000, 255,255.0000);\">0.0000</td><td style=\"background-color: rgb(0.0000, 255,0.0000);\">1.0000</td><td style=\"background-color: rgb(255.0000, 255,255.0000);\">0.0000</td><td style=\"background-color: rgb(255.0000, 255,255.0000);\">0.0000</td></tr><tr><td><b>h->h</b></td><td style=\"background-color: rgb(255.0000, 255,255.0000);\">0.0000</td><td style=\"background-color: rgb(254.8908, 255,254.8908);\">0.0004</td><td style=\"background-color: rgb(57.7421, 255,57.7421);\">0.7736</td><td style=\"background-color: rgb(197.3759, 255,197.3759);\">0.2260</td></tr><tr><td><b>fn+h->h</b></td><td style=\"background-color: rgb(255.0000, 255,255.0000);\">0.0000</td><td style=\"background-color: rgb(0.0000, 255,0.0000);\">1.0000</td><td style=\"background-color: rgb(255.0000, 255,255.0000);\">0.0000</td><td style=\"background-color: rgb(255.0000, 255,255.0000);\">0.0000</td></tr></table>"
      ],
      "text/plain": [
       "<IPython.core.display.HTML object>"
      ]
     },
     "metadata": {},
     "output_type": "display_data"
    },
    {
     "name": "stdout",
     "output_type": "stream",
     "text": [
      "true Motion pred_h Motion pred_fnh Motion\n"
     ]
    },
    {
     "data": {
      "text/html": [
       "<table><tr><td><b>words</b></td><td style=\"background-color: rgb(255,255,255);\">go</td><td style=\"background-color: rgb(255,255,255);\">into</td><td style=\"background-color: rgb(255,255,255);\">the</td><td style=\"background-color: rgb(255,255,255);\">bathroom</td></tr><tr><td><b>lu</b></td><td style=\"background-color: rgb(0.0000, 255,0.0000);\">1.0000</td><td style=\"background-color: rgb(255.0000, 255,255.0000);\">0.0000</td><td style=\"background-color: rgb(255.0000, 255,255.0000);\">0.0000</td><td style=\"background-color: rgb(255.0000, 255,255.0000);\">0.0000</td></tr><tr><td><b>h->h</b></td><td style=\"background-color: rgb(254.9997, 255,254.9997);\">0.0000</td><td style=\"background-color: rgb(246.6204, 255,246.6204);\">0.0329</td><td style=\"background-color: rgb(39.3737, 255,39.3737);\">0.8456</td><td style=\"background-color: rgb(224.0068, 255,224.0068);\">0.1215</td></tr><tr><td><b>fn+h->h</b></td><td style=\"background-color: rgb(0.0055, 255,0.0055);\">1.0000</td><td style=\"background-color: rgb(254.9945, 255,254.9945);\">0.0000</td><td style=\"background-color: rgb(255.0000, 255,255.0000);\">0.0000</td><td style=\"background-color: rgb(255.0000, 255,255.0000);\">0.0000</td></tr></table>"
      ],
      "text/plain": [
       "<IPython.core.display.HTML object>"
      ]
     },
     "metadata": {},
     "output_type": "display_data"
    },
    {
     "name": "stdout",
     "output_type": "stream",
     "text": [
      "true Motion pred_h Motion pred_fnh Motion\n"
     ]
    },
    {
     "data": {
      "text/html": [
       "<table><tr><td><b>words</b></td><td style=\"background-color: rgb(255,255,255);\">go</td><td style=\"background-color: rgb(255,255,255);\">into</td><td style=\"background-color: rgb(255,255,255);\">the</td><td style=\"background-color: rgb(255,255,255);\">dining</td><td style=\"background-color: rgb(255,255,255);\">room</td></tr><tr><td><b>lu</b></td><td style=\"background-color: rgb(0.0000, 255,0.0000);\">1.0000</td><td style=\"background-color: rgb(255.0000, 255,255.0000);\">0.0000</td><td style=\"background-color: rgb(255.0000, 255,255.0000);\">0.0000</td><td style=\"background-color: rgb(255.0000, 255,255.0000);\">0.0000</td><td style=\"background-color: rgb(255.0000, 255,255.0000);\">0.0000</td></tr><tr><td><b>h->h</b></td><td style=\"background-color: rgb(254.9999, 255,254.9999);\">0.0000</td><td style=\"background-color: rgb(252.0707, 255,252.0707);\">0.0115</td><td style=\"background-color: rgb(168.1298, 255,168.1298);\">0.3407</td><td style=\"background-color: rgb(108.1315, 255,108.1315);\">0.5760</td><td style=\"background-color: rgb(236.6685, 255,236.6685);\">0.0719</td></tr><tr><td><b>fn+h->h</b></td><td style=\"background-color: rgb(0.0021, 255,0.0021);\">1.0000</td><td style=\"background-color: rgb(254.9979, 255,254.9979);\">0.0000</td><td style=\"background-color: rgb(255.0000, 255,255.0000);\">0.0000</td><td style=\"background-color: rgb(255.0000, 255,255.0000);\">0.0000</td><td style=\"background-color: rgb(255.0000, 255,255.0000);\">0.0000</td></tr></table>"
      ],
      "text/plain": [
       "<IPython.core.display.HTML object>"
      ]
     },
     "metadata": {},
     "output_type": "display_data"
    },
    {
     "name": "stdout",
     "output_type": "stream",
     "text": [
      "true Motion pred_h Motion pred_fnh Motion\n"
     ]
    },
    {
     "data": {
      "text/html": [
       "<table><tr><td><b>words</b></td><td style=\"background-color: rgb(255,255,255);\">go</td><td style=\"background-color: rgb(255,255,255);\">near</td><td style=\"background-color: rgb(255,255,255);\">the</td><td style=\"background-color: rgb(255,255,255);\">couch</td></tr><tr><td><b>lu</b></td><td style=\"background-color: rgb(0.0000, 255,0.0000);\">1.0000</td><td style=\"background-color: rgb(255.0000, 255,255.0000);\">0.0000</td><td style=\"background-color: rgb(255.0000, 255,255.0000);\">0.0000</td><td style=\"background-color: rgb(255.0000, 255,255.0000);\">0.0000</td></tr><tr><td><b>h->h</b></td><td style=\"background-color: rgb(254.9999, 255,254.9999);\">0.0000</td><td style=\"background-color: rgb(252.9223, 255,252.9223);\">0.0081</td><td style=\"background-color: rgb(89.3712, 255,89.3712);\">0.6495</td><td style=\"background-color: rgb(167.7073, 255,167.7073);\">0.3423</td></tr><tr><td><b>fn+h->h</b></td><td style=\"background-color: rgb(0.0002, 255,0.0002);\">1.0000</td><td style=\"background-color: rgb(254.9998, 255,254.9998);\">0.0000</td><td style=\"background-color: rgb(255.0000, 255,255.0000);\">0.0000</td><td style=\"background-color: rgb(255.0000, 255,255.0000);\">0.0000</td></tr></table>"
      ],
      "text/plain": [
       "<IPython.core.display.HTML object>"
      ]
     },
     "metadata": {},
     "output_type": "display_data"
    },
    {
     "name": "stdout",
     "output_type": "stream",
     "text": [
      "true Motion pred_h Motion pred_fnh Motion\n"
     ]
    },
    {
     "data": {
      "text/html": [
       "<table><tr><td><b>words</b></td><td style=\"background-color: rgb(255,255,255);\">go</td><td style=\"background-color: rgb(255,255,255);\">to</td><td style=\"background-color: rgb(255,255,255);\">dining</td><td style=\"background-color: rgb(255,255,255);\">room</td></tr><tr><td><b>lu</b></td><td style=\"background-color: rgb(0.0000, 255,0.0000);\">1.0000</td><td style=\"background-color: rgb(255.0000, 255,255.0000);\">0.0000</td><td style=\"background-color: rgb(255.0000, 255,255.0000);\">0.0000</td><td style=\"background-color: rgb(255.0000, 255,255.0000);\">0.0000</td></tr><tr><td><b>h->h</b></td><td style=\"background-color: rgb(254.9998, 255,254.9998);\">0.0000</td><td style=\"background-color: rgb(251.1441, 255,251.1441);\">0.0151</td><td style=\"background-color: rgb(44.4923, 255,44.4923);\">0.8255</td><td style=\"background-color: rgb(214.3646, 255,214.3646);\">0.1594</td></tr><tr><td><b>fn+h->h</b></td><td style=\"background-color: rgb(0.0001, 255,0.0001);\">1.0000</td><td style=\"background-color: rgb(254.9999, 255,254.9999);\">0.0000</td><td style=\"background-color: rgb(255.0000, 255,255.0000);\">0.0000</td><td style=\"background-color: rgb(255.0000, 255,255.0000);\">0.0000</td></tr></table>"
      ],
      "text/plain": [
       "<IPython.core.display.HTML object>"
      ]
     },
     "metadata": {},
     "output_type": "display_data"
    },
    {
     "name": "stdout",
     "output_type": "stream",
     "text": [
      "true Motion pred_h Motion pred_fnh Motion\n"
     ]
    },
    {
     "data": {
      "text/html": [
       "<table><tr><td><b>words</b></td><td style=\"background-color: rgb(255,255,255);\">go</td><td style=\"background-color: rgb(255,255,255);\">to</td><td style=\"background-color: rgb(255,255,255);\">studio</td></tr><tr><td><b>lu</b></td><td style=\"background-color: rgb(0.0000, 255,0.0000);\">1.0000</td><td style=\"background-color: rgb(255.0000, 255,255.0000);\">0.0000</td><td style=\"background-color: rgb(255.0000, 255,255.0000);\">0.0000</td></tr><tr><td><b>h->h</b></td><td style=\"background-color: rgb(254.9963, 255,254.9963);\">0.0000</td><td style=\"background-color: rgb(161.2133, 255,161.2133);\">0.3678</td><td style=\"background-color: rgb(93.7920, 255,93.7920);\">0.6322</td></tr><tr><td><b>fn+h->h</b></td><td style=\"background-color: rgb(0.0057, 255,0.0057);\">1.0000</td><td style=\"background-color: rgb(254.9943, 255,254.9943);\">0.0000</td><td style=\"background-color: rgb(255.0000, 255,255.0000);\">0.0000</td></tr></table>"
      ],
      "text/plain": [
       "<IPython.core.display.HTML object>"
      ]
     },
     "metadata": {},
     "output_type": "display_data"
    },
    {
     "name": "stdout",
     "output_type": "stream",
     "text": [
      "true Motion pred_h Motion pred_fnh Motion\n"
     ]
    },
    {
     "data": {
      "text/html": [
       "<table><tr><td><b>words</b></td><td style=\"background-color: rgb(255,255,255);\">go</td><td style=\"background-color: rgb(255,255,255);\">to</td><td style=\"background-color: rgb(255,255,255);\">the</td><td style=\"background-color: rgb(255,255,255);\">closet</td><td style=\"background-color: rgb(255,255,255);\">of</td><td style=\"background-color: rgb(255,255,255);\">the</td><td style=\"background-color: rgb(255,255,255);\">dining</td><td style=\"background-color: rgb(255,255,255);\">room</td></tr><tr><td><b>lu</b></td><td style=\"background-color: rgb(0.0000, 255,0.0000);\">1.0000</td><td style=\"background-color: rgb(255.0000, 255,255.0000);\">0.0000</td><td style=\"background-color: rgb(255.0000, 255,255.0000);\">0.0000</td><td style=\"background-color: rgb(255.0000, 255,255.0000);\">0.0000</td><td style=\"background-color: rgb(255.0000, 255,255.0000);\">0.0000</td><td style=\"background-color: rgb(255.0000, 255,255.0000);\">0.0000</td><td style=\"background-color: rgb(255.0000, 255,255.0000);\">0.0000</td><td style=\"background-color: rgb(255.0000, 255,255.0000);\">0.0000</td></tr><tr><td><b>h->h</b></td><td style=\"background-color: rgb(255.0000, 255,255.0000);\">0.0000</td><td style=\"background-color: rgb(254.7973, 255,254.7973);\">0.0008</td><td style=\"background-color: rgb(245.7363, 255,245.7363);\">0.0363</td><td style=\"background-color: rgb(247.6210, 255,247.6210);\">0.0289</td><td style=\"background-color: rgb(205.7178, 255,205.7178);\">0.1933</td><td style=\"background-color: rgb(173.8814, 255,173.8814);\">0.3181</td><td style=\"background-color: rgb(153.6208, 255,153.6208);\">0.3976</td><td style=\"background-color: rgb(248.6260, 255,248.6260);\">0.0250</td></tr><tr><td><b>fn+h->h</b></td><td style=\"background-color: rgb(0.0035, 255,0.0035);\">1.0000</td><td style=\"background-color: rgb(254.9965, 255,254.9965);\">0.0000</td><td style=\"background-color: rgb(255.0000, 255,255.0000);\">0.0000</td><td style=\"background-color: rgb(255.0000, 255,255.0000);\">0.0000</td><td style=\"background-color: rgb(255.0000, 255,255.0000);\">0.0000</td><td style=\"background-color: rgb(255.0000, 255,255.0000);\">0.0000</td><td style=\"background-color: rgb(255.0000, 255,255.0000);\">0.0000</td><td style=\"background-color: rgb(255.0000, 255,255.0000);\">0.0000</td></tr></table>"
      ],
      "text/plain": [
       "<IPython.core.display.HTML object>"
      ]
     },
     "metadata": {},
     "output_type": "display_data"
    },
    {
     "name": "stdout",
     "output_type": "stream",
     "text": [
      "true Motion pred_h Motion pred_fnh Motion\n"
     ]
    },
    {
     "data": {
      "text/html": [
       "<table><tr><td><b>words</b></td><td style=\"background-color: rgb(255,255,255);\">go</td><td style=\"background-color: rgb(255,255,255);\">to</td><td style=\"background-color: rgb(255,255,255);\">the</td><td style=\"background-color: rgb(255,255,255);\">fridge</td></tr><tr><td><b>lu</b></td><td style=\"background-color: rgb(0.0000, 255,0.0000);\">1.0000</td><td style=\"background-color: rgb(255.0000, 255,255.0000);\">0.0000</td><td style=\"background-color: rgb(255.0000, 255,255.0000);\">0.0000</td><td style=\"background-color: rgb(255.0000, 255,255.0000);\">0.0000</td></tr><tr><td><b>h->h</b></td><td style=\"background-color: rgb(254.9999, 255,254.9999);\">0.0000</td><td style=\"background-color: rgb(251.7234, 255,251.7234);\">0.0128</td><td style=\"background-color: rgb(75.2041, 255,75.2041);\">0.7051</td><td style=\"background-color: rgb(183.0734, 255,183.0734);\">0.2821</td></tr><tr><td><b>fn+h->h</b></td><td style=\"background-color: rgb(0.0188, 255,0.0188);\">0.9999</td><td style=\"background-color: rgb(254.9812, 255,254.9812);\">0.0001</td><td style=\"background-color: rgb(255.0000, 255,255.0000);\">0.0000</td><td style=\"background-color: rgb(255.0000, 255,255.0000);\">0.0000</td></tr></table>"
      ],
      "text/plain": [
       "<IPython.core.display.HTML object>"
      ]
     },
     "metadata": {},
     "output_type": "display_data"
    },
    {
     "name": "stdout",
     "output_type": "stream",
     "text": [
      "true Motion pred_h Motion pred_fnh Motion\n"
     ]
    },
    {
     "data": {
      "text/html": [
       "<table><tr><td><b>words</b></td><td style=\"background-color: rgb(255,255,255);\">go</td><td style=\"background-color: rgb(255,255,255);\">to</td><td style=\"background-color: rgb(255,255,255);\">the</td><td style=\"background-color: rgb(255,255,255);\">living</td><td style=\"background-color: rgb(255,255,255);\">room</td></tr><tr><td><b>lu</b></td><td style=\"background-color: rgb(0.0000, 255,0.0000);\">1.0000</td><td style=\"background-color: rgb(255.0000, 255,255.0000);\">0.0000</td><td style=\"background-color: rgb(255.0000, 255,255.0000);\">0.0000</td><td style=\"background-color: rgb(255.0000, 255,255.0000);\">0.0000</td><td style=\"background-color: rgb(255.0000, 255,255.0000);\">0.0000</td></tr><tr><td><b>h->h</b></td><td style=\"background-color: rgb(254.9999, 255,254.9999);\">0.0000</td><td style=\"background-color: rgb(254.0458, 255,254.0458);\">0.0037</td><td style=\"background-color: rgb(185.3823, 255,185.3823);\">0.2730</td><td style=\"background-color: rgb(94.6567, 255,94.6567);\">0.6288</td><td style=\"background-color: rgb(230.9159, 255,230.9159);\">0.0944</td></tr><tr><td><b>fn+h->h</b></td><td style=\"background-color: rgb(0.1103, 255,0.1103);\">0.9996</td><td style=\"background-color: rgb(254.8897, 255,254.8897);\">0.0004</td><td style=\"background-color: rgb(255.0000, 255,255.0000);\">0.0000</td><td style=\"background-color: rgb(255.0000, 255,255.0000);\">0.0000</td><td style=\"background-color: rgb(255.0000, 255,255.0000);\">0.0000</td></tr></table>"
      ],
      "text/plain": [
       "<IPython.core.display.HTML object>"
      ]
     },
     "metadata": {},
     "output_type": "display_data"
    },
    {
     "name": "stdout",
     "output_type": "stream",
     "text": [
      "true Motion pred_h Motion pred_fnh Motion\n"
     ]
    },
    {
     "data": {
      "text/html": [
       "<table><tr><td><b>words</b></td><td style=\"background-color: rgb(255,255,255);\">go</td><td style=\"background-color: rgb(255,255,255);\">to</td><td style=\"background-color: rgb(255,255,255);\">the</td><td style=\"background-color: rgb(255,255,255);\">lounge</td></tr><tr><td><b>lu</b></td><td style=\"background-color: rgb(0.0000, 255,0.0000);\">1.0000</td><td style=\"background-color: rgb(255.0000, 255,255.0000);\">0.0000</td><td style=\"background-color: rgb(255.0000, 255,255.0000);\">0.0000</td><td style=\"background-color: rgb(255.0000, 255,255.0000);\">0.0000</td></tr><tr><td><b>h->h</b></td><td style=\"background-color: rgb(254.9999, 255,254.9999);\">0.0000</td><td style=\"background-color: rgb(252.6589, 255,252.6589);\">0.0092</td><td style=\"background-color: rgb(80.6947, 255,80.6947);\">0.6836</td><td style=\"background-color: rgb(176.6473, 255,176.6473);\">0.3073</td></tr><tr><td><b>fn+h->h</b></td><td style=\"background-color: rgb(0.0296, 255,0.0296);\">0.9999</td><td style=\"background-color: rgb(254.9704, 255,254.9704);\">0.0001</td><td style=\"background-color: rgb(255.0000, 255,255.0000);\">0.0000</td><td style=\"background-color: rgb(255.0000, 255,255.0000);\">0.0000</td></tr></table>"
      ],
      "text/plain": [
       "<IPython.core.display.HTML object>"
      ]
     },
     "metadata": {},
     "output_type": "display_data"
    },
    {
     "name": "stdout",
     "output_type": "stream",
     "text": [
      "true Motion pred_h Motion pred_fnh Motion\n"
     ]
    },
    {
     "data": {
      "text/html": [
       "<table><tr><td><b>words</b></td><td style=\"background-color: rgb(255,255,255);\">go</td><td style=\"background-color: rgb(255,255,255);\">to</td><td style=\"background-color: rgb(255,255,255);\">the</td><td style=\"background-color: rgb(255,255,255);\">studio</td></tr><tr><td><b>lu</b></td><td style=\"background-color: rgb(0.0000, 255,0.0000);\">1.0000</td><td style=\"background-color: rgb(255.0000, 255,255.0000);\">0.0000</td><td style=\"background-color: rgb(255.0000, 255,255.0000);\">0.0000</td><td style=\"background-color: rgb(255.0000, 255,255.0000);\">0.0000</td></tr><tr><td><b>h->h</b></td><td style=\"background-color: rgb(254.9998, 255,254.9998);\">0.0000</td><td style=\"background-color: rgb(252.8393, 255,252.8393);\">0.0085</td><td style=\"background-color: rgb(68.7326, 255,68.7326);\">0.7305</td><td style=\"background-color: rgb(188.4290, 255,188.4290);\">0.2611</td></tr><tr><td><b>fn+h->h</b></td><td style=\"background-color: rgb(0.0642, 255,0.0642);\">0.9997</td><td style=\"background-color: rgb(254.9358, 255,254.9358);\">0.0003</td><td style=\"background-color: rgb(255.0000, 255,255.0000);\">0.0000</td><td style=\"background-color: rgb(255.0000, 255,255.0000);\">0.0000</td></tr></table>"
      ],
      "text/plain": [
       "<IPython.core.display.HTML object>"
      ]
     },
     "metadata": {},
     "output_type": "display_data"
    },
    {
     "name": "stdout",
     "output_type": "stream",
     "text": [
      "true Motion pred_h Motion pred_fnh Motion\n"
     ]
    },
    {
     "data": {
      "text/html": [
       "<table><tr><td><b>words</b></td><td style=\"background-color: rgb(255,255,255);\">go</td><td style=\"background-color: rgb(255,255,255);\">to</td><td style=\"background-color: rgb(255,255,255);\">the</td><td style=\"background-color: rgb(255,255,255);\">television</td><td style=\"background-color: rgb(255,255,255);\">in</td><td style=\"background-color: rgb(255,255,255);\">the</td><td style=\"background-color: rgb(255,255,255);\">living</td><td style=\"background-color: rgb(255,255,255);\">room</td></tr><tr><td><b>lu</b></td><td style=\"background-color: rgb(0.0000, 255,0.0000);\">1.0000</td><td style=\"background-color: rgb(255.0000, 255,255.0000);\">0.0000</td><td style=\"background-color: rgb(255.0000, 255,255.0000);\">0.0000</td><td style=\"background-color: rgb(255.0000, 255,255.0000);\">0.0000</td><td style=\"background-color: rgb(255.0000, 255,255.0000);\">0.0000</td><td style=\"background-color: rgb(255.0000, 255,255.0000);\">0.0000</td><td style=\"background-color: rgb(255.0000, 255,255.0000);\">0.0000</td><td style=\"background-color: rgb(255.0000, 255,255.0000);\">0.0000</td></tr><tr><td><b>h->h</b></td><td style=\"background-color: rgb(255.0000, 255,255.0000);\">0.0000</td><td style=\"background-color: rgb(254.6529, 255,254.6529);\">0.0014</td><td style=\"background-color: rgb(245.5540, 255,245.5540);\">0.0370</td><td style=\"background-color: rgb(240.3531, 255,240.3531);\">0.0574</td><td style=\"background-color: rgb(231.7961, 255,231.7961);\">0.0910</td><td style=\"background-color: rgb(172.7419, 255,172.7419);\">0.3226</td><td style=\"background-color: rgb(135.9844, 255,135.9844);\">0.4667</td><td style=\"background-color: rgb(248.9182, 255,248.9182);\">0.0239</td></tr><tr><td><b>fn+h->h</b></td><td style=\"background-color: rgb(0.0002, 255,0.0002);\">1.0000</td><td style=\"background-color: rgb(254.9997, 255,254.9997);\">0.0000</td><td style=\"background-color: rgb(255.0000, 255,255.0000);\">0.0000</td><td style=\"background-color: rgb(255.0000, 255,255.0000);\">0.0000</td><td style=\"background-color: rgb(255.0000, 255,255.0000);\">0.0000</td><td style=\"background-color: rgb(255.0000, 255,255.0000);\">0.0000</td><td style=\"background-color: rgb(255.0000, 255,255.0000);\">0.0000</td><td style=\"background-color: rgb(255.0000, 255,255.0000);\">0.0000</td></tr></table>"
      ],
      "text/plain": [
       "<IPython.core.display.HTML object>"
      ]
     },
     "metadata": {},
     "output_type": "display_data"
    },
    {
     "name": "stdout",
     "output_type": "stream",
     "text": [
      "true Motion pred_h Motion pred_fnh Motion\n"
     ]
    },
    {
     "data": {
      "text/html": [
       "<table><tr><td><b>words</b></td><td style=\"background-color: rgb(255,255,255);\">go</td><td style=\"background-color: rgb(255,255,255);\">to</td><td style=\"background-color: rgb(255,255,255);\">the</td><td style=\"background-color: rgb(255,255,255);\">television</td><td style=\"background-color: rgb(255,255,255);\">in</td><td style=\"background-color: rgb(255,255,255);\">the</td><td style=\"background-color: rgb(255,255,255);\">studio</td></tr><tr><td><b>lu</b></td><td style=\"background-color: rgb(0.0000, 255,0.0000);\">1.0000</td><td style=\"background-color: rgb(255.0000, 255,255.0000);\">0.0000</td><td style=\"background-color: rgb(255.0000, 255,255.0000);\">0.0000</td><td style=\"background-color: rgb(255.0000, 255,255.0000);\">0.0000</td><td style=\"background-color: rgb(255.0000, 255,255.0000);\">0.0000</td><td style=\"background-color: rgb(255.0000, 255,255.0000);\">0.0000</td><td style=\"background-color: rgb(255.0000, 255,255.0000);\">0.0000</td></tr><tr><td><b>h->h</b></td><td style=\"background-color: rgb(255.0000, 255,255.0000);\">0.0000</td><td style=\"background-color: rgb(254.7952, 255,254.7952);\">0.0008</td><td style=\"background-color: rgb(251.0288, 255,251.0288);\">0.0156</td><td style=\"background-color: rgb(247.6782, 255,247.6782);\">0.0287</td><td style=\"background-color: rgb(220.4037, 255,220.4037);\">0.1357</td><td style=\"background-color: rgb(70.7450, 255,70.7450);\">0.7226</td><td style=\"background-color: rgb(230.3497, 255,230.3497);\">0.0967</td></tr><tr><td><b>fn+h->h</b></td><td style=\"background-color: rgb(0.0005, 255,0.0005);\">1.0000</td><td style=\"background-color: rgb(254.9995, 255,254.9995);\">0.0000</td><td style=\"background-color: rgb(255.0000, 255,255.0000);\">0.0000</td><td style=\"background-color: rgb(255.0000, 255,255.0000);\">0.0000</td><td style=\"background-color: rgb(255.0000, 255,255.0000);\">0.0000</td><td style=\"background-color: rgb(255.0000, 255,255.0000);\">0.0000</td><td style=\"background-color: rgb(255.0000, 255,255.0000);\">0.0000</td></tr></table>"
      ],
      "text/plain": [
       "<IPython.core.display.HTML object>"
      ]
     },
     "metadata": {},
     "output_type": "display_data"
    },
    {
     "name": "stdout",
     "output_type": "stream",
     "text": [
      "true Searching pred_h Searching pred_fnh Searching\n"
     ]
    },
    {
     "data": {
      "text/html": [
       "<table><tr><td><b>words</b></td><td style=\"background-color: rgb(255,255,255);\">look</td><td style=\"background-color: rgb(255,255,255);\">for</td><td style=\"background-color: rgb(255,255,255);\">my</td><td style=\"background-color: rgb(255,255,255);\">handbag</td><td style=\"background-color: rgb(255,255,255);\">in</td><td style=\"background-color: rgb(255,255,255);\">the</td><td style=\"background-color: rgb(255,255,255);\">dining</td><td style=\"background-color: rgb(255,255,255);\">room</td></tr><tr><td><b>lu</b></td><td style=\"background-color: rgb(0.0000, 255,0.0000);\">1.0000</td><td style=\"background-color: rgb(255.0000, 255,255.0000);\">0.0000</td><td style=\"background-color: rgb(255.0000, 255,255.0000);\">0.0000</td><td style=\"background-color: rgb(255.0000, 255,255.0000);\">0.0000</td><td style=\"background-color: rgb(255.0000, 255,255.0000);\">0.0000</td><td style=\"background-color: rgb(255.0000, 255,255.0000);\">0.0000</td><td style=\"background-color: rgb(255.0000, 255,255.0000);\">0.0000</td><td style=\"background-color: rgb(255.0000, 255,255.0000);\">0.0000</td></tr><tr><td><b>h->h</b></td><td style=\"background-color: rgb(254.9996, 255,254.9996);\">0.0000</td><td style=\"background-color: rgb(254.9914, 255,254.9914);\">0.0000</td><td style=\"background-color: rgb(254.8827, 255,254.8827);\">0.0005</td><td style=\"background-color: rgb(254.9484, 255,254.9484);\">0.0002</td><td style=\"background-color: rgb(244.3184, 255,244.3184);\">0.0419</td><td style=\"background-color: rgb(177.1193, 255,177.1193);\">0.3054</td><td style=\"background-color: rgb(148.2535, 255,148.2535);\">0.4186</td><td style=\"background-color: rgb(195.4872, 255,195.4872);\">0.2334</td></tr><tr><td><b>fn+h->h</b></td><td style=\"background-color: rgb(0.0004, 255,0.0004);\">1.0000</td><td style=\"background-color: rgb(255.0000, 255,255.0000);\">0.0000</td><td style=\"background-color: rgb(255.0000, 255,255.0000);\">0.0000</td><td style=\"background-color: rgb(255.0000, 255,255.0000);\">0.0000</td><td style=\"background-color: rgb(254.9997, 255,254.9997);\">0.0000</td><td style=\"background-color: rgb(255.0000, 255,255.0000);\">0.0000</td><td style=\"background-color: rgb(255.0000, 255,255.0000);\">0.0000</td><td style=\"background-color: rgb(255.0000, 255,255.0000);\">0.0000</td></tr></table>"
      ],
      "text/plain": [
       "<IPython.core.display.HTML object>"
      ]
     },
     "metadata": {},
     "output_type": "display_data"
    },
    {
     "name": "stdout",
     "output_type": "stream",
     "text": [
      "true Searching pred_h Searching pred_fnh Searching\n"
     ]
    },
    {
     "data": {
      "text/html": [
       "<table><tr><td><b>words</b></td><td style=\"background-color: rgb(255,255,255);\">look</td><td style=\"background-color: rgb(255,255,255);\">for</td><td style=\"background-color: rgb(255,255,255);\">my</td><td style=\"background-color: rgb(255,255,255);\">phone</td></tr><tr><td><b>lu</b></td><td style=\"background-color: rgb(0.0000, 255,0.0000);\">1.0000</td><td style=\"background-color: rgb(255.0000, 255,255.0000);\">0.0000</td><td style=\"background-color: rgb(255.0000, 255,255.0000);\">0.0000</td><td style=\"background-color: rgb(255.0000, 255,255.0000);\">0.0000</td></tr><tr><td><b>h->h</b></td><td style=\"background-color: rgb(254.9952, 255,254.9952);\">0.0000</td><td style=\"background-color: rgb(254.7431, 255,254.7431);\">0.0010</td><td style=\"background-color: rgb(238.8350, 255,238.8350);\">0.0634</td><td style=\"background-color: rgb(16.4279, 255,16.4279);\">0.9356</td></tr><tr><td><b>fn+h->h</b></td><td style=\"background-color: rgb(0.0000, 255,0.0000);\">1.0000</td><td style=\"background-color: rgb(255.0000, 255,255.0000);\">0.0000</td><td style=\"background-color: rgb(255.0000, 255,255.0000);\">0.0000</td><td style=\"background-color: rgb(255.0000, 255,255.0000);\">0.0000</td></tr></table>"
      ],
      "text/plain": [
       "<IPython.core.display.HTML object>"
      ]
     },
     "metadata": {},
     "output_type": "display_data"
    },
    {
     "name": "stdout",
     "output_type": "stream",
     "text": [
      "true Searching pred_h Searching pred_fnh Searching\n"
     ]
    },
    {
     "data": {
      "text/html": [
       "<table><tr><td><b>words</b></td><td style=\"background-color: rgb(255,255,255);\">look</td><td style=\"background-color: rgb(255,255,255);\">for</td><td style=\"background-color: rgb(255,255,255);\">my</td><td style=\"background-color: rgb(255,255,255);\">phone</td><td style=\"background-color: rgb(255,255,255);\">in</td><td style=\"background-color: rgb(255,255,255);\">the</td><td style=\"background-color: rgb(255,255,255);\">bathroom</td><td style=\"background-color: rgb(255,255,255);\">and</td><td style=\"background-color: rgb(255,255,255);\">the</td><td style=\"background-color: rgb(255,255,255);\">bedroom</td></tr><tr><td><b>lu</b></td><td style=\"background-color: rgb(0.0000, 255,0.0000);\">1.0000</td><td style=\"background-color: rgb(255.0000, 255,255.0000);\">0.0000</td><td style=\"background-color: rgb(255.0000, 255,255.0000);\">0.0000</td><td style=\"background-color: rgb(255.0000, 255,255.0000);\">0.0000</td><td style=\"background-color: rgb(255.0000, 255,255.0000);\">0.0000</td><td style=\"background-color: rgb(255.0000, 255,255.0000);\">0.0000</td><td style=\"background-color: rgb(255.0000, 255,255.0000);\">0.0000</td><td style=\"background-color: rgb(255.0000, 255,255.0000);\">0.0000</td><td style=\"background-color: rgb(255.0000, 255,255.0000);\">0.0000</td><td style=\"background-color: rgb(255.0000, 255,255.0000);\">0.0000</td></tr><tr><td><b>h->h</b></td><td style=\"background-color: rgb(254.9994, 255,254.9994);\">0.0000</td><td style=\"background-color: rgb(254.9863, 255,254.9863);\">0.0001</td><td style=\"background-color: rgb(254.7416, 255,254.7416);\">0.0010</td><td style=\"background-color: rgb(254.8226, 255,254.8226);\">0.0007</td><td style=\"background-color: rgb(248.0764, 255,248.0764);\">0.0272</td><td style=\"background-color: rgb(248.3889, 255,248.3889);\">0.0259</td><td style=\"background-color: rgb(253.8989, 255,253.8989);\">0.0043</td><td style=\"background-color: rgb(245.4051, 255,245.4051);\">0.0376</td><td style=\"background-color: rgb(112.3269, 255,112.3269);\">0.5595</td><td style=\"background-color: rgb(167.3545, 255,167.3545);\">0.3437</td></tr><tr><td><b>fn+h->h</b></td><td style=\"background-color: rgb(0.0001, 255,0.0001);\">1.0000</td><td style=\"background-color: rgb(255.0000, 255,255.0000);\">0.0000</td><td style=\"background-color: rgb(255.0000, 255,255.0000);\">0.0000</td><td style=\"background-color: rgb(255.0000, 255,255.0000);\">0.0000</td><td style=\"background-color: rgb(255.0000, 255,255.0000);\">0.0000</td><td style=\"background-color: rgb(255.0000, 255,255.0000);\">0.0000</td><td style=\"background-color: rgb(255.0000, 255,255.0000);\">0.0000</td><td style=\"background-color: rgb(255.0000, 255,255.0000);\">0.0000</td><td style=\"background-color: rgb(255.0000, 255,255.0000);\">0.0000</td><td style=\"background-color: rgb(255.0000, 255,255.0000);\">0.0000</td></tr></table>"
      ],
      "text/plain": [
       "<IPython.core.display.HTML object>"
      ]
     },
     "metadata": {},
     "output_type": "display_data"
    },
    {
     "name": "stdout",
     "output_type": "stream",
     "text": [
      "true Searching pred_h Searching pred_fnh Searching\n"
     ]
    },
    {
     "data": {
      "text/html": [
       "<table><tr><td><b>words</b></td><td style=\"background-color: rgb(255,255,255);\">look</td><td style=\"background-color: rgb(255,255,255);\">for</td><td style=\"background-color: rgb(255,255,255);\">the</td><td style=\"background-color: rgb(255,255,255);\">bed</td><td style=\"background-color: rgb(255,255,255);\">in</td><td style=\"background-color: rgb(255,255,255);\">the</td><td style=\"background-color: rgb(255,255,255);\">bathroom</td></tr><tr><td><b>lu</b></td><td style=\"background-color: rgb(0.0000, 255,0.0000);\">1.0000</td><td style=\"background-color: rgb(255.0000, 255,255.0000);\">0.0000</td><td style=\"background-color: rgb(255.0000, 255,255.0000);\">0.0000</td><td style=\"background-color: rgb(255.0000, 255,255.0000);\">0.0000</td><td style=\"background-color: rgb(255.0000, 255,255.0000);\">0.0000</td><td style=\"background-color: rgb(255.0000, 255,255.0000);\">0.0000</td><td style=\"background-color: rgb(255.0000, 255,255.0000);\">0.0000</td></tr><tr><td><b>h->h</b></td><td style=\"background-color: rgb(254.9997, 255,254.9997);\">0.0000</td><td style=\"background-color: rgb(254.9770, 255,254.9770);\">0.0001</td><td style=\"background-color: rgb(254.8152, 255,254.8152);\">0.0007</td><td style=\"background-color: rgb(254.8473, 255,254.8473);\">0.0006</td><td style=\"background-color: rgb(227.3956, 255,227.3956);\">0.1083</td><td style=\"background-color: rgb(64.1888, 255,64.1888);\">0.7483</td><td style=\"background-color: rgb(218.7770, 255,218.7770);\">0.1421</td></tr><tr><td><b>fn+h->h</b></td><td style=\"background-color: rgb(0.0072, 255,0.0072);\">1.0000</td><td style=\"background-color: rgb(255.0000, 255,255.0000);\">0.0000</td><td style=\"background-color: rgb(255.0000, 255,255.0000);\">0.0000</td><td style=\"background-color: rgb(254.9944, 255,254.9944);\">0.0000</td><td style=\"background-color: rgb(254.9984, 255,254.9984);\">0.0000</td><td style=\"background-color: rgb(255.0000, 255,255.0000);\">0.0000</td><td style=\"background-color: rgb(255.0000, 255,255.0000);\">0.0000</td></tr></table>"
      ],
      "text/plain": [
       "<IPython.core.display.HTML object>"
      ]
     },
     "metadata": {},
     "output_type": "display_data"
    },
    {
     "name": "stdout",
     "output_type": "stream",
     "text": [
      "true Searching pred_h Searching pred_fnh Searching\n"
     ]
    },
    {
     "data": {
      "text/html": [
       "<table><tr><td><b>words</b></td><td style=\"background-color: rgb(255,255,255);\">look</td><td style=\"background-color: rgb(255,255,255);\">for</td><td style=\"background-color: rgb(255,255,255);\">the</td><td style=\"background-color: rgb(255,255,255);\">soap</td><td style=\"background-color: rgb(255,255,255);\">in</td><td style=\"background-color: rgb(255,255,255);\">the</td><td style=\"background-color: rgb(255,255,255);\">bathroom</td></tr><tr><td><b>lu</b></td><td style=\"background-color: rgb(0.0000, 255,0.0000);\">1.0000</td><td style=\"background-color: rgb(255.0000, 255,255.0000);\">0.0000</td><td style=\"background-color: rgb(255.0000, 255,255.0000);\">0.0000</td><td style=\"background-color: rgb(255.0000, 255,255.0000);\">0.0000</td><td style=\"background-color: rgb(255.0000, 255,255.0000);\">0.0000</td><td style=\"background-color: rgb(255.0000, 255,255.0000);\">0.0000</td><td style=\"background-color: rgb(255.0000, 255,255.0000);\">0.0000</td></tr><tr><td><b>h->h</b></td><td style=\"background-color: rgb(254.9992, 255,254.9992);\">0.0000</td><td style=\"background-color: rgb(254.9837, 255,254.9837);\">0.0001</td><td style=\"background-color: rgb(254.9278, 255,254.9278);\">0.0003</td><td style=\"background-color: rgb(254.9119, 255,254.9119);\">0.0003</td><td style=\"background-color: rgb(227.4386, 255,227.4386);\">0.1081</td><td style=\"background-color: rgb(57.7140, 255,57.7140);\">0.7737</td><td style=\"background-color: rgb(225.0253, 255,225.0253);\">0.1175</td></tr><tr><td><b>fn+h->h</b></td><td style=\"background-color: rgb(0.2978, 255,0.2978);\">0.9988</td><td style=\"background-color: rgb(255.0000, 255,255.0000);\">0.0000</td><td style=\"background-color: rgb(255.0000, 255,255.0000);\">0.0000</td><td style=\"background-color: rgb(255.0000, 255,255.0000);\">0.0000</td><td style=\"background-color: rgb(254.7022, 255,254.7022);\">0.0012</td><td style=\"background-color: rgb(255.0000, 255,255.0000);\">0.0000</td><td style=\"background-color: rgb(255.0000, 255,255.0000);\">0.0000</td></tr></table>"
      ],
      "text/plain": [
       "<IPython.core.display.HTML object>"
      ]
     },
     "metadata": {},
     "output_type": "display_data"
    },
    {
     "name": "stdout",
     "output_type": "stream",
     "text": [
      "true Motion pred_h Motion pred_fnh Motion\n"
     ]
    },
    {
     "data": {
      "text/html": [
       "<table><tr><td><b>words</b></td><td style=\"background-color: rgb(255,255,255);\">move</td><td style=\"background-color: rgb(255,255,255);\">towards</td><td style=\"background-color: rgb(255,255,255);\">the</td><td style=\"background-color: rgb(255,255,255);\">bedroom</td></tr><tr><td><b>lu</b></td><td style=\"background-color: rgb(0.0000, 255,0.0000);\">1.0000</td><td style=\"background-color: rgb(255.0000, 255,255.0000);\">0.0000</td><td style=\"background-color: rgb(255.0000, 255,255.0000);\">0.0000</td><td style=\"background-color: rgb(255.0000, 255,255.0000);\">0.0000</td></tr><tr><td><b>h->h</b></td><td style=\"background-color: rgb(254.9934, 255,254.9934);\">0.0000</td><td style=\"background-color: rgb(248.1305, 255,248.1305);\">0.0269</td><td style=\"background-color: rgb(41.0357, 255,41.0357);\">0.8391</td><td style=\"background-color: rgb(220.8421, 255,220.8421);\">0.1340</td></tr><tr><td><b>fn+h->h</b></td><td style=\"background-color: rgb(1.1995, 255,1.1995);\">0.9953</td><td style=\"background-color: rgb(253.8005, 255,253.8005);\">0.0047</td><td style=\"background-color: rgb(255.0000, 255,255.0000);\">0.0000</td><td style=\"background-color: rgb(255.0000, 255,255.0000);\">0.0000</td></tr></table>"
      ],
      "text/plain": [
       "<IPython.core.display.HTML object>"
      ]
     },
     "metadata": {},
     "output_type": "display_data"
    },
    {
     "name": "stdout",
     "output_type": "stream",
     "text": [
      "true Motion pred_h Motion pred_fnh Motion\n"
     ]
    },
    {
     "data": {
      "text/html": [
       "<table><tr><td><b>words</b></td><td style=\"background-color: rgb(255,255,255);\">move</td><td style=\"background-color: rgb(255,255,255);\">towards</td><td style=\"background-color: rgb(255,255,255);\">the</td><td style=\"background-color: rgb(255,255,255);\">kitchen</td></tr><tr><td><b>lu</b></td><td style=\"background-color: rgb(0.0000, 255,0.0000);\">1.0000</td><td style=\"background-color: rgb(255.0000, 255,255.0000);\">0.0000</td><td style=\"background-color: rgb(255.0000, 255,255.0000);\">0.0000</td><td style=\"background-color: rgb(255.0000, 255,255.0000);\">0.0000</td></tr><tr><td><b>h->h</b></td><td style=\"background-color: rgb(254.9969, 255,254.9969);\">0.0000</td><td style=\"background-color: rgb(248.2017, 255,248.2017);\">0.0267</td><td style=\"background-color: rgb(38.8574, 255,38.8574);\">0.8476</td><td style=\"background-color: rgb(222.9449, 255,222.9449);\">0.1257</td></tr><tr><td><b>fn+h->h</b></td><td style=\"background-color: rgb(1.1246, 255,1.1246);\">0.9956</td><td style=\"background-color: rgb(253.8754, 255,253.8754);\">0.0044</td><td style=\"background-color: rgb(255.0000, 255,255.0000);\">0.0000</td><td style=\"background-color: rgb(255.0000, 255,255.0000);\">0.0000</td></tr></table>"
      ],
      "text/plain": [
       "<IPython.core.display.HTML object>"
      ]
     },
     "metadata": {},
     "output_type": "display_data"
    },
    {
     "name": "stdout",
     "output_type": "stream",
     "text": [
      "true Searching pred_h Searching pred_fnh Searching\n"
     ]
    },
    {
     "data": {
      "text/html": [
       "<table><tr><td><b>words</b></td><td style=\"background-color: rgb(255,255,255);\">please</td><td style=\"background-color: rgb(255,255,255);\">find</td><td style=\"background-color: rgb(255,255,255);\">the</td><td style=\"background-color: rgb(255,255,255);\">bed</td></tr><tr><td><b>lu</b></td><td style=\"background-color: rgb(255.0000, 255,255.0000);\">0.0000</td><td style=\"background-color: rgb(0.0000, 255,0.0000);\">1.0000</td><td style=\"background-color: rgb(255.0000, 255,255.0000);\">0.0000</td><td style=\"background-color: rgb(255.0000, 255,255.0000);\">0.0000</td></tr><tr><td><b>h->h</b></td><td style=\"background-color: rgb(255.0000, 255,255.0000);\">0.0000</td><td style=\"background-color: rgb(254.9797, 255,254.9797);\">0.0001</td><td style=\"background-color: rgb(199.1317, 255,199.1317);\">0.2191</td><td style=\"background-color: rgb(55.8908, 255,55.8908);\">0.7808</td></tr><tr><td><b>fn+h->h</b></td><td style=\"background-color: rgb(255.0000, 255,255.0000);\">0.0000</td><td style=\"background-color: rgb(0.0000, 255,0.0000);\">1.0000</td><td style=\"background-color: rgb(255.0000, 255,255.0000);\">0.0000</td><td style=\"background-color: rgb(255.0000, 255,255.0000);\">0.0000</td></tr></table>"
      ],
      "text/plain": [
       "<IPython.core.display.HTML object>"
      ]
     },
     "metadata": {},
     "output_type": "display_data"
    },
    {
     "name": "stdout",
     "output_type": "stream",
     "text": [
      "true Searching pred_h Searching pred_fnh Searching\n"
     ]
    },
    {
     "data": {
      "text/html": [
       "<table><tr><td><b>words</b></td><td style=\"background-color: rgb(255,255,255);\">please</td><td style=\"background-color: rgb(255,255,255);\">find</td><td style=\"background-color: rgb(255,255,255);\">the</td><td style=\"background-color: rgb(255,255,255);\">table</td><td style=\"background-color: rgb(255,255,255);\">in</td><td style=\"background-color: rgb(255,255,255);\">the</td><td style=\"background-color: rgb(255,255,255);\">bedroom</td></tr><tr><td><b>lu</b></td><td style=\"background-color: rgb(255.0000, 255,255.0000);\">0.0000</td><td style=\"background-color: rgb(0.0000, 255,0.0000);\">1.0000</td><td style=\"background-color: rgb(255.0000, 255,255.0000);\">0.0000</td><td style=\"background-color: rgb(255.0000, 255,255.0000);\">0.0000</td><td style=\"background-color: rgb(255.0000, 255,255.0000);\">0.0000</td><td style=\"background-color: rgb(255.0000, 255,255.0000);\">0.0000</td><td style=\"background-color: rgb(255.0000, 255,255.0000);\">0.0000</td></tr><tr><td><b>h->h</b></td><td style=\"background-color: rgb(255.0000, 255,255.0000);\">0.0000</td><td style=\"background-color: rgb(254.9992, 255,254.9992);\">0.0000</td><td style=\"background-color: rgb(254.4615, 255,254.4615);\">0.0021</td><td style=\"background-color: rgb(252.7457, 255,252.7457);\">0.0088</td><td style=\"background-color: rgb(237.2534, 255,237.2534);\">0.0696</td><td style=\"background-color: rgb(92.0111, 255,92.0111);\">0.6392</td><td style=\"background-color: rgb(183.5298, 255,183.5298);\">0.2803</td></tr><tr><td><b>fn+h->h</b></td><td style=\"background-color: rgb(255.0000, 255,255.0000);\">0.0000</td><td style=\"background-color: rgb(0.0000, 255,0.0000);\">1.0000</td><td style=\"background-color: rgb(255.0000, 255,255.0000);\">0.0000</td><td style=\"background-color: rgb(255.0000, 255,255.0000);\">0.0000</td><td style=\"background-color: rgb(255.0000, 255,255.0000);\">0.0000</td><td style=\"background-color: rgb(255.0000, 255,255.0000);\">0.0000</td><td style=\"background-color: rgb(255.0000, 255,255.0000);\">0.0000</td></tr></table>"
      ],
      "text/plain": [
       "<IPython.core.display.HTML object>"
      ]
     },
     "metadata": {},
     "output_type": "display_data"
    },
    {
     "name": "stdout",
     "output_type": "stream",
     "text": [
      "true Following pred_h Following pred_fnh Following\n"
     ]
    },
    {
     "data": {
      "text/html": [
       "<table><tr><td><b>words</b></td><td style=\"background-color: rgb(255,255,255);\">please</td><td style=\"background-color: rgb(255,255,255);\">follow</td><td style=\"background-color: rgb(255,255,255);\">me</td><td style=\"background-color: rgb(255,255,255);\">to</td><td style=\"background-color: rgb(255,255,255);\">the</td><td style=\"background-color: rgb(255,255,255);\">living</td><td style=\"background-color: rgb(255,255,255);\">room</td></tr><tr><td><b>lu</b></td><td style=\"background-color: rgb(255.0000, 255,255.0000);\">0.0000</td><td style=\"background-color: rgb(0.0000, 255,0.0000);\">1.0000</td><td style=\"background-color: rgb(255.0000, 255,255.0000);\">0.0000</td><td style=\"background-color: rgb(255.0000, 255,255.0000);\">0.0000</td><td style=\"background-color: rgb(255.0000, 255,255.0000);\">0.0000</td><td style=\"background-color: rgb(255.0000, 255,255.0000);\">0.0000</td><td style=\"background-color: rgb(255.0000, 255,255.0000);\">0.0000</td></tr><tr><td><b>h->h</b></td><td style=\"background-color: rgb(255.0000, 255,255.0000);\">0.0000</td><td style=\"background-color: rgb(254.9861, 255,254.9861);\">0.0001</td><td style=\"background-color: rgb(254.9783, 255,254.9783);\">0.0001</td><td style=\"background-color: rgb(250.8081, 255,250.8081);\">0.0164</td><td style=\"background-color: rgb(160.9418, 255,160.9418);\">0.3689</td><td style=\"background-color: rgb(105.3724, 255,105.3724);\">0.5868</td><td style=\"background-color: rgb(247.9166, 255,247.9166);\">0.0278</td></tr><tr><td><b>fn+h->h</b></td><td style=\"background-color: rgb(255.0000, 255,255.0000);\">0.0000</td><td style=\"background-color: rgb(0.8231, 255,0.8231);\">0.9968</td><td style=\"background-color: rgb(254.1770, 255,254.1770);\">0.0032</td><td style=\"background-color: rgb(254.9999, 255,254.9999);\">0.0000</td><td style=\"background-color: rgb(255.0000, 255,255.0000);\">0.0000</td><td style=\"background-color: rgb(255.0000, 255,255.0000);\">0.0000</td><td style=\"background-color: rgb(255.0000, 255,255.0000);\">0.0000</td></tr></table>"
      ],
      "text/plain": [
       "<IPython.core.display.HTML object>"
      ]
     },
     "metadata": {},
     "output_type": "display_data"
    },
    {
     "name": "stdout",
     "output_type": "stream",
     "text": [
      "true Following pred_h Following pred_fnh Following\n"
     ]
    },
    {
     "data": {
      "text/html": [
       "<table><tr><td><b>words</b></td><td style=\"background-color: rgb(255,255,255);\">please</td><td style=\"background-color: rgb(255,255,255);\">follow</td><td style=\"background-color: rgb(255,255,255);\">that</td><td style=\"background-color: rgb(255,255,255);\">person</td></tr><tr><td><b>lu</b></td><td style=\"background-color: rgb(255.0000, 255,255.0000);\">0.0000</td><td style=\"background-color: rgb(0.0000, 255,0.0000);\">1.0000</td><td style=\"background-color: rgb(255.0000, 255,255.0000);\">0.0000</td><td style=\"background-color: rgb(255.0000, 255,255.0000);\">0.0000</td></tr><tr><td><b>h->h</b></td><td style=\"background-color: rgb(255.0000, 255,255.0000);\">0.0000</td><td style=\"background-color: rgb(254.8976, 255,254.8976);\">0.0004</td><td style=\"background-color: rgb(34.7607, 255,34.7607);\">0.8637</td><td style=\"background-color: rgb(220.3510, 255,220.3510);\">0.1359</td></tr><tr><td><b>fn+h->h</b></td><td style=\"background-color: rgb(255.0000, 255,255.0000);\">0.0000</td><td style=\"background-color: rgb(0.0001, 255,0.0001);\">1.0000</td><td style=\"background-color: rgb(254.9999, 255,254.9999);\">0.0000</td><td style=\"background-color: rgb(255.0000, 255,255.0000);\">0.0000</td></tr></table>"
      ],
      "text/plain": [
       "<IPython.core.display.HTML object>"
      ]
     },
     "metadata": {},
     "output_type": "display_data"
    },
    {
     "name": "stdout",
     "output_type": "stream",
     "text": [
      "true Taking pred_h Taking pred_fnh Taking\n"
     ]
    },
    {
     "data": {
      "text/html": [
       "<table><tr><td><b>words</b></td><td style=\"background-color: rgb(255,255,255);\">please</td><td style=\"background-color: rgb(255,255,255);\">get</td><td style=\"background-color: rgb(255,255,255);\">the</td><td style=\"background-color: rgb(255,255,255);\">cushion</td><td style=\"background-color: rgb(255,255,255);\">from</td><td style=\"background-color: rgb(255,255,255);\">the</td><td style=\"background-color: rgb(255,255,255);\">bed</td></tr><tr><td><b>lu</b></td><td style=\"background-color: rgb(255.0000, 255,255.0000);\">0.0000</td><td style=\"background-color: rgb(0.0000, 255,0.0000);\">1.0000</td><td style=\"background-color: rgb(255.0000, 255,255.0000);\">0.0000</td><td style=\"background-color: rgb(255.0000, 255,255.0000);\">0.0000</td><td style=\"background-color: rgb(255.0000, 255,255.0000);\">0.0000</td><td style=\"background-color: rgb(255.0000, 255,255.0000);\">0.0000</td><td style=\"background-color: rgb(255.0000, 255,255.0000);\">0.0000</td></tr><tr><td><b>h->h</b></td><td style=\"background-color: rgb(255.0000, 255,255.0000);\">0.0000</td><td style=\"background-color: rgb(254.9863, 255,254.9863);\">0.0001</td><td style=\"background-color: rgb(250.8311, 255,250.8311);\">0.0163</td><td style=\"background-color: rgb(254.9634, 255,254.9634);\">0.0001</td><td style=\"background-color: rgb(248.8752, 255,248.8752);\">0.0240</td><td style=\"background-color: rgb(10.5513, 255,10.5513);\">0.9586</td><td style=\"background-color: rgb(254.7975, 255,254.7975);\">0.0008</td></tr><tr><td><b>fn+h->h</b></td><td style=\"background-color: rgb(255.0000, 255,255.0000);\">0.0000</td><td style=\"background-color: rgb(0.0000, 255,0.0000);\">1.0000</td><td style=\"background-color: rgb(255.0000, 255,255.0000);\">0.0000</td><td style=\"background-color: rgb(255.0000, 255,255.0000);\">0.0000</td><td style=\"background-color: rgb(255.0000, 255,255.0000);\">0.0000</td><td style=\"background-color: rgb(255.0000, 255,255.0000);\">0.0000</td><td style=\"background-color: rgb(255.0000, 255,255.0000);\">0.0000</td></tr></table>"
      ],
      "text/plain": [
       "<IPython.core.display.HTML object>"
      ]
     },
     "metadata": {},
     "output_type": "display_data"
    },
    {
     "name": "stdout",
     "output_type": "stream",
     "text": [
      "true Motion pred_h Motion pred_fnh Motion\n"
     ]
    },
    {
     "data": {
      "text/html": [
       "<table><tr><td><b>words</b></td><td style=\"background-color: rgb(255,255,255);\">please</td><td style=\"background-color: rgb(255,255,255);\">move</td><td style=\"background-color: rgb(255,255,255);\">towards</td><td style=\"background-color: rgb(255,255,255);\">the</td><td style=\"background-color: rgb(255,255,255);\">living</td><td style=\"background-color: rgb(255,255,255);\">room</td></tr><tr><td><b>lu</b></td><td style=\"background-color: rgb(255.0000, 255,255.0000);\">0.0000</td><td style=\"background-color: rgb(0.0000, 255,0.0000);\">1.0000</td><td style=\"background-color: rgb(255.0000, 255,255.0000);\">0.0000</td><td style=\"background-color: rgb(255.0000, 255,255.0000);\">0.0000</td><td style=\"background-color: rgb(255.0000, 255,255.0000);\">0.0000</td><td style=\"background-color: rgb(255.0000, 255,255.0000);\">0.0000</td></tr><tr><td><b>h->h</b></td><td style=\"background-color: rgb(255.0000, 255,255.0000);\">0.0000</td><td style=\"background-color: rgb(254.9982, 255,254.9982);\">0.0000</td><td style=\"background-color: rgb(252.6995, 255,252.6995);\">0.0090</td><td style=\"background-color: rgb(195.0598, 255,195.0598);\">0.2351</td><td style=\"background-color: rgb(80.2110, 255,80.2110);\">0.6854</td><td style=\"background-color: rgb(237.0323, 255,237.0323);\">0.0705</td></tr><tr><td><b>fn+h->h</b></td><td style=\"background-color: rgb(255.0000, 255,255.0000);\">0.0000</td><td style=\"background-color: rgb(1.6147, 255,1.6147);\">0.9937</td><td style=\"background-color: rgb(253.3853, 255,253.3853);\">0.0063</td><td style=\"background-color: rgb(255.0000, 255,255.0000);\">0.0000</td><td style=\"background-color: rgb(255.0000, 255,255.0000);\">0.0000</td><td style=\"background-color: rgb(255.0000, 255,255.0000);\">0.0000</td></tr></table>"
      ],
      "text/plain": [
       "<IPython.core.display.HTML object>"
      ]
     },
     "metadata": {},
     "output_type": "display_data"
    },
    {
     "name": "stdout",
     "output_type": "stream",
     "text": [
      "true Searching pred_h Searching pred_fnh Searching\n"
     ]
    },
    {
     "data": {
      "text/html": [
       "<table><tr><td><b>words</b></td><td style=\"background-color: rgb(255,255,255);\">search</td><td style=\"background-color: rgb(255,255,255);\">for</td><td style=\"background-color: rgb(255,255,255);\">a</td><td style=\"background-color: rgb(255,255,255);\">pillow</td><td style=\"background-color: rgb(255,255,255);\">in</td><td style=\"background-color: rgb(255,255,255);\">the</td><td style=\"background-color: rgb(255,255,255);\">living</td><td style=\"background-color: rgb(255,255,255);\">room</td></tr><tr><td><b>lu</b></td><td style=\"background-color: rgb(0.0000, 255,0.0000);\">1.0000</td><td style=\"background-color: rgb(255.0000, 255,255.0000);\">0.0000</td><td style=\"background-color: rgb(255.0000, 255,255.0000);\">0.0000</td><td style=\"background-color: rgb(255.0000, 255,255.0000);\">0.0000</td><td style=\"background-color: rgb(255.0000, 255,255.0000);\">0.0000</td><td style=\"background-color: rgb(255.0000, 255,255.0000);\">0.0000</td><td style=\"background-color: rgb(255.0000, 255,255.0000);\">0.0000</td><td style=\"background-color: rgb(255.0000, 255,255.0000);\">0.0000</td></tr><tr><td><b>h->h</b></td><td style=\"background-color: rgb(254.9993, 255,254.9993);\">0.0000</td><td style=\"background-color: rgb(254.9279, 255,254.9279);\">0.0003</td><td style=\"background-color: rgb(254.5260, 255,254.5260);\">0.0019</td><td style=\"background-color: rgb(254.6317, 255,254.6317);\">0.0014</td><td style=\"background-color: rgb(243.0998, 255,243.0998);\">0.0467</td><td style=\"background-color: rgb(193.1899, 255,193.1899);\">0.2424</td><td style=\"background-color: rgb(147.9016, 255,147.9016);\">0.4200</td><td style=\"background-color: rgb(181.7241, 255,181.7241);\">0.2874</td></tr><tr><td><b>fn+h->h</b></td><td style=\"background-color: rgb(0.0000, 255,0.0000);\">1.0000</td><td style=\"background-color: rgb(255.0000, 255,255.0000);\">0.0000</td><td style=\"background-color: rgb(255.0000, 255,255.0000);\">0.0000</td><td style=\"background-color: rgb(255.0000, 255,255.0000);\">0.0000</td><td style=\"background-color: rgb(255.0000, 255,255.0000);\">0.0000</td><td style=\"background-color: rgb(255.0000, 255,255.0000);\">0.0000</td><td style=\"background-color: rgb(255.0000, 255,255.0000);\">0.0000</td><td style=\"background-color: rgb(255.0000, 255,255.0000);\">0.0000</td></tr></table>"
      ],
      "text/plain": [
       "<IPython.core.display.HTML object>"
      ]
     },
     "metadata": {},
     "output_type": "display_data"
    },
    {
     "name": "stdout",
     "output_type": "stream",
     "text": [
      "true Searching pred_h Searching pred_fnh Searching\n"
     ]
    },
    {
     "data": {
      "text/html": [
       "<table><tr><td><b>words</b></td><td style=\"background-color: rgb(255,255,255);\">search</td><td style=\"background-color: rgb(255,255,255);\">for</td><td style=\"background-color: rgb(255,255,255);\">the</td><td style=\"background-color: rgb(255,255,255);\">bottle</td></tr><tr><td><b>lu</b></td><td style=\"background-color: rgb(0.0000, 255,0.0000);\">1.0000</td><td style=\"background-color: rgb(255.0000, 255,255.0000);\">0.0000</td><td style=\"background-color: rgb(255.0000, 255,255.0000);\">0.0000</td><td style=\"background-color: rgb(255.0000, 255,255.0000);\">0.0000</td></tr><tr><td><b>h->h</b></td><td style=\"background-color: rgb(254.9936, 255,254.9936);\">0.0000</td><td style=\"background-color: rgb(253.9894, 255,253.9894);\">0.0040</td><td style=\"background-color: rgb(215.8161, 255,215.8161);\">0.1537</td><td style=\"background-color: rgb(40.2024, 255,40.2024);\">0.8423</td></tr><tr><td><b>fn+h->h</b></td><td style=\"background-color: rgb(0.0000, 255,0.0000);\">1.0000</td><td style=\"background-color: rgb(255.0000, 255,255.0000);\">0.0000</td><td style=\"background-color: rgb(255.0000, 255,255.0000);\">0.0000</td><td style=\"background-color: rgb(255.0000, 255,255.0000);\">0.0000</td></tr></table>"
      ],
      "text/plain": [
       "<IPython.core.display.HTML object>"
      ]
     },
     "metadata": {},
     "output_type": "display_data"
    },
    {
     "name": "stdout",
     "output_type": "stream",
     "text": [
      "true Searching pred_h Searching pred_fnh Searching\n"
     ]
    },
    {
     "data": {
      "text/html": [
       "<table><tr><td><b>words</b></td><td style=\"background-color: rgb(255,255,255);\">search</td><td style=\"background-color: rgb(255,255,255);\">for</td><td style=\"background-color: rgb(255,255,255);\">the</td><td style=\"background-color: rgb(255,255,255);\">stove</td><td style=\"background-color: rgb(255,255,255);\">in</td><td style=\"background-color: rgb(255,255,255);\">the</td><td style=\"background-color: rgb(255,255,255);\">studio</td></tr><tr><td><b>lu</b></td><td style=\"background-color: rgb(0.0000, 255,0.0000);\">1.0000</td><td style=\"background-color: rgb(255.0000, 255,255.0000);\">0.0000</td><td style=\"background-color: rgb(255.0000, 255,255.0000);\">0.0000</td><td style=\"background-color: rgb(255.0000, 255,255.0000);\">0.0000</td><td style=\"background-color: rgb(255.0000, 255,255.0000);\">0.0000</td><td style=\"background-color: rgb(255.0000, 255,255.0000);\">0.0000</td><td style=\"background-color: rgb(255.0000, 255,255.0000);\">0.0000</td></tr><tr><td><b>h->h</b></td><td style=\"background-color: rgb(254.9992, 255,254.9992);\">0.0000</td><td style=\"background-color: rgb(254.8936, 255,254.8936);\">0.0004</td><td style=\"background-color: rgb(254.6386, 255,254.6386);\">0.0014</td><td style=\"background-color: rgb(254.6485, 255,254.6485);\">0.0014</td><td style=\"background-color: rgb(235.9906, 255,235.9906);\">0.0745</td><td style=\"background-color: rgb(104.9221, 255,104.9221);\">0.5885</td><td style=\"background-color: rgb(169.9079, 255,169.9079);\">0.3337</td></tr><tr><td><b>fn+h->h</b></td><td style=\"background-color: rgb(0.0000, 255,0.0000);\">1.0000</td><td style=\"background-color: rgb(255.0000, 255,255.0000);\">0.0000</td><td style=\"background-color: rgb(255.0000, 255,255.0000);\">0.0000</td><td style=\"background-color: rgb(255.0000, 255,255.0000);\">0.0000</td><td style=\"background-color: rgb(255.0000, 255,255.0000);\">0.0000</td><td style=\"background-color: rgb(255.0000, 255,255.0000);\">0.0000</td><td style=\"background-color: rgb(255.0000, 255,255.0000);\">0.0000</td></tr></table>"
      ],
      "text/plain": [
       "<IPython.core.display.HTML object>"
      ]
     },
     "metadata": {},
     "output_type": "display_data"
    },
    {
     "name": "stdout",
     "output_type": "stream",
     "text": [
      "true Releasing pred_h Releasing pred_fnh Releasing\n"
     ]
    },
    {
     "data": {
      "text/html": [
       "<table><tr><td><b>words</b></td><td style=\"background-color: rgb(255,255,255);\">leave</td><td style=\"background-color: rgb(255,255,255);\">the</td><td style=\"background-color: rgb(255,255,255);\">book</td><td style=\"background-color: rgb(255,255,255);\">in</td><td style=\"background-color: rgb(255,255,255);\">the</td><td style=\"background-color: rgb(255,255,255);\">bedroom</td></tr><tr><td><b>lu</b></td><td style=\"background-color: rgb(0.0000, 255,0.0000);\">1.0000</td><td style=\"background-color: rgb(255.0000, 255,255.0000);\">0.0000</td><td style=\"background-color: rgb(255.0000, 255,255.0000);\">0.0000</td><td style=\"background-color: rgb(255.0000, 255,255.0000);\">0.0000</td><td style=\"background-color: rgb(255.0000, 255,255.0000);\">0.0000</td><td style=\"background-color: rgb(255.0000, 255,255.0000);\">0.0000</td></tr><tr><td><b>h->h</b></td><td style=\"background-color: rgb(254.9993, 255,254.9993);\">0.0000</td><td style=\"background-color: rgb(254.9156, 255,254.9156);\">0.0003</td><td style=\"background-color: rgb(254.9968, 255,254.9968);\">0.0000</td><td style=\"background-color: rgb(254.0773, 255,254.0773);\">0.0036</td><td style=\"background-color: rgb(1.0221, 255,1.0221);\">0.9960</td><td style=\"background-color: rgb(254.9980, 255,254.9980);\">0.0000</td></tr><tr><td><b>fn+h->h</b></td><td style=\"background-color: rgb(0.0009, 255,0.0009);\">1.0000</td><td style=\"background-color: rgb(255.0000, 255,255.0000);\">0.0000</td><td style=\"background-color: rgb(255.0000, 255,255.0000);\">0.0000</td><td style=\"background-color: rgb(254.9991, 255,254.9991);\">0.0000</td><td style=\"background-color: rgb(255.0000, 255,255.0000);\">0.0000</td><td style=\"background-color: rgb(255.0000, 255,255.0000);\">0.0000</td></tr></table>"
      ],
      "text/plain": [
       "<IPython.core.display.HTML object>"
      ]
     },
     "metadata": {},
     "output_type": "display_data"
    },
    {
     "name": "stdout",
     "output_type": "stream",
     "text": [
      "true Giving pred_h Giving pred_fnh Giving\n"
     ]
    },
    {
     "data": {
      "text/html": [
       "<table><tr><td><b>words</b></td><td style=\"background-color: rgb(255,255,255);\">give</td><td style=\"background-color: rgb(255,255,255);\">me</td><td style=\"background-color: rgb(255,255,255);\">one</td><td style=\"background-color: rgb(255,255,255);\">apple</td><td style=\"background-color: rgb(255,255,255);\">from</td><td style=\"background-color: rgb(255,255,255);\">the</td><td style=\"background-color: rgb(255,255,255);\">table</td></tr><tr><td><b>lu</b></td><td style=\"background-color: rgb(0.0000, 255,0.0000);\">1.0000</td><td style=\"background-color: rgb(255.0000, 255,255.0000);\">0.0000</td><td style=\"background-color: rgb(255.0000, 255,255.0000);\">0.0000</td><td style=\"background-color: rgb(255.0000, 255,255.0000);\">0.0000</td><td style=\"background-color: rgb(255.0000, 255,255.0000);\">0.0000</td><td style=\"background-color: rgb(255.0000, 255,255.0000);\">0.0000</td><td style=\"background-color: rgb(255.0000, 255,255.0000);\">0.0000</td></tr><tr><td><b>h->h</b></td><td style=\"background-color: rgb(254.9954, 255,254.9954);\">0.0000</td><td style=\"background-color: rgb(254.7833, 255,254.7833);\">0.0008</td><td style=\"background-color: rgb(254.2116, 255,254.2116);\">0.0031</td><td style=\"background-color: rgb(254.0167, 255,254.0167);\">0.0039</td><td style=\"background-color: rgb(230.7138, 255,230.7138);\">0.0952</td><td style=\"background-color: rgb(26.4423, 255,26.4423);\">0.8963</td><td style=\"background-color: rgb(254.9591, 255,254.9591);\">0.0002</td></tr><tr><td><b>fn+h->h</b></td><td style=\"background-color: rgb(0.3178, 255,0.3178);\">0.9988</td><td style=\"background-color: rgb(254.6822, 255,254.6822);\">0.0012</td><td style=\"background-color: rgb(255.0000, 255,255.0000);\">0.0000</td><td style=\"background-color: rgb(255.0000, 255,255.0000);\">0.0000</td><td style=\"background-color: rgb(255.0000, 255,255.0000);\">0.0000</td><td style=\"background-color: rgb(255.0000, 255,255.0000);\">0.0000</td><td style=\"background-color: rgb(255.0000, 255,255.0000);\">0.0000</td></tr></table>"
      ],
      "text/plain": [
       "<IPython.core.display.HTML object>"
      ]
     },
     "metadata": {},
     "output_type": "display_data"
    },
    {
     "name": "stdout",
     "output_type": "stream",
     "text": [
      "true Bringing pred_h Bringing pred_fnh Bringing\n"
     ]
    },
    {
     "data": {
      "text/html": [
       "<table><tr><td><b>words</b></td><td style=\"background-color: rgb(255,255,255);\">bring</td><td style=\"background-color: rgb(255,255,255);\">me</td><td style=\"background-color: rgb(255,255,255);\">a</td><td style=\"background-color: rgb(255,255,255);\">glass</td><td style=\"background-color: rgb(255,255,255);\">of</td><td style=\"background-color: rgb(255,255,255);\">water</td></tr><tr><td><b>lu</b></td><td style=\"background-color: rgb(0.0000, 255,0.0000);\">1.0000</td><td style=\"background-color: rgb(255.0000, 255,255.0000);\">0.0000</td><td style=\"background-color: rgb(255.0000, 255,255.0000);\">0.0000</td><td style=\"background-color: rgb(255.0000, 255,255.0000);\">0.0000</td><td style=\"background-color: rgb(255.0000, 255,255.0000);\">0.0000</td><td style=\"background-color: rgb(255.0000, 255,255.0000);\">0.0000</td></tr><tr><td><b>h->h</b></td><td style=\"background-color: rgb(254.9995, 255,254.9995);\">0.0000</td><td style=\"background-color: rgb(254.9383, 255,254.9383);\">0.0002</td><td style=\"background-color: rgb(252.9591, 255,252.9591);\">0.0080</td><td style=\"background-color: rgb(249.8402, 255,249.8402);\">0.0202</td><td style=\"background-color: rgb(233.0701, 255,233.0701);\">0.0860</td><td style=\"background-color: rgb(29.1946, 255,29.1946);\">0.8855</td></tr><tr><td><b>fn+h->h</b></td><td style=\"background-color: rgb(39.3751, 255,39.3751);\">0.8456</td><td style=\"background-color: rgb(215.6249, 255,215.6249);\">0.1544</td><td style=\"background-color: rgb(255.0000, 255,255.0000);\">0.0000</td><td style=\"background-color: rgb(255.0000, 255,255.0000);\">0.0000</td><td style=\"background-color: rgb(255.0000, 255,255.0000);\">0.0000</td><td style=\"background-color: rgb(255.0000, 255,255.0000);\">0.0000</td></tr></table>"
      ],
      "text/plain": [
       "<IPython.core.display.HTML object>"
      ]
     },
     "metadata": {},
     "output_type": "display_data"
    },
    {
     "name": "stdout",
     "output_type": "stream",
     "text": [
      "true Bringing pred_h Bringing pred_fnh Bringing\n"
     ]
    },
    {
     "data": {
      "text/html": [
       "<table><tr><td><b>words</b></td><td style=\"background-color: rgb(255,255,255);\">bring</td><td style=\"background-color: rgb(255,255,255);\">me</td><td style=\"background-color: rgb(255,255,255);\">the</td><td style=\"background-color: rgb(255,255,255);\">cereals</td><td style=\"background-color: rgb(255,255,255);\">and</td><td style=\"background-color: rgb(255,255,255);\">the</td><td style=\"background-color: rgb(255,255,255);\">milk</td></tr><tr><td><b>lu</b></td><td style=\"background-color: rgb(0.0000, 255,0.0000);\">1.0000</td><td style=\"background-color: rgb(255.0000, 255,255.0000);\">0.0000</td><td style=\"background-color: rgb(255.0000, 255,255.0000);\">0.0000</td><td style=\"background-color: rgb(255.0000, 255,255.0000);\">0.0000</td><td style=\"background-color: rgb(255.0000, 255,255.0000);\">0.0000</td><td style=\"background-color: rgb(255.0000, 255,255.0000);\">0.0000</td><td style=\"background-color: rgb(255.0000, 255,255.0000);\">0.0000</td></tr><tr><td><b>h->h</b></td><td style=\"background-color: rgb(254.9995, 255,254.9995);\">0.0000</td><td style=\"background-color: rgb(254.9073, 255,254.9073);\">0.0004</td><td style=\"background-color: rgb(254.1296, 255,254.1296);\">0.0034</td><td style=\"background-color: rgb(253.6540, 255,253.6540);\">0.0053</td><td style=\"background-color: rgb(252.7726, 255,252.7726);\">0.0087</td><td style=\"background-color: rgb(230.0372, 255,230.0372);\">0.0979</td><td style=\"background-color: rgb(29.5030, 255,29.5030);\">0.8843</td></tr><tr><td><b>fn+h->h</b></td><td style=\"background-color: rgb(32.8012, 255,32.8012);\">0.8714</td><td style=\"background-color: rgb(222.1988, 255,222.1988);\">0.1286</td><td style=\"background-color: rgb(255.0000, 255,255.0000);\">0.0000</td><td style=\"background-color: rgb(255.0000, 255,255.0000);\">0.0000</td><td style=\"background-color: rgb(255.0000, 255,255.0000);\">0.0000</td><td style=\"background-color: rgb(255.0000, 255,255.0000);\">0.0000</td><td style=\"background-color: rgb(255.0000, 255,255.0000);\">0.0000</td></tr></table>"
      ],
      "text/plain": [
       "<IPython.core.display.HTML object>"
      ]
     },
     "metadata": {},
     "output_type": "display_data"
    },
    {
     "name": "stdout",
     "output_type": "stream",
     "text": [
      "true Bringing pred_h Bringing pred_fnh Bringing\n"
     ]
    },
    {
     "data": {
      "text/html": [
       "<table><tr><td><b>words</b></td><td style=\"background-color: rgb(255,255,255);\">bring</td><td style=\"background-color: rgb(255,255,255);\">me</td><td style=\"background-color: rgb(255,255,255);\">the</td><td style=\"background-color: rgb(255,255,255);\">cookie</td><td style=\"background-color: rgb(255,255,255);\">jar</td></tr><tr><td><b>lu</b></td><td style=\"background-color: rgb(0.0000, 255,0.0000);\">1.0000</td><td style=\"background-color: rgb(255.0000, 255,255.0000);\">0.0000</td><td style=\"background-color: rgb(255.0000, 255,255.0000);\">0.0000</td><td style=\"background-color: rgb(255.0000, 255,255.0000);\">0.0000</td><td style=\"background-color: rgb(255.0000, 255,255.0000);\">0.0000</td></tr><tr><td><b>h->h</b></td><td style=\"background-color: rgb(254.9997, 255,254.9997);\">0.0000</td><td style=\"background-color: rgb(254.9479, 255,254.9479);\">0.0002</td><td style=\"background-color: rgb(253.8745, 255,253.8745);\">0.0044</td><td style=\"background-color: rgb(247.9814, 255,247.9814);\">0.0275</td><td style=\"background-color: rgb(8.1993, 255,8.1993);\">0.9678</td></tr><tr><td><b>fn+h->h</b></td><td style=\"background-color: rgb(18.9753, 255,18.9753);\">0.9256</td><td style=\"background-color: rgb(236.0247, 255,236.0247);\">0.0744</td><td style=\"background-color: rgb(255.0000, 255,255.0000);\">0.0000</td><td style=\"background-color: rgb(255.0000, 255,255.0000);\">0.0000</td><td style=\"background-color: rgb(255.0000, 255,255.0000);\">0.0000</td></tr></table>"
      ],
      "text/plain": [
       "<IPython.core.display.HTML object>"
      ]
     },
     "metadata": {},
     "output_type": "display_data"
    },
    {
     "name": "stdout",
     "output_type": "stream",
     "text": [
      "true Bringing pred_h Bringing pred_fnh Bringing\n"
     ]
    },
    {
     "data": {
      "text/html": [
       "<table><tr><td><b>words</b></td><td style=\"background-color: rgb(255,255,255);\">bring</td><td style=\"background-color: rgb(255,255,255);\">me</td><td style=\"background-color: rgb(255,255,255);\">the</td><td style=\"background-color: rgb(255,255,255);\">glasses</td></tr><tr><td><b>lu</b></td><td style=\"background-color: rgb(0.0000, 255,0.0000);\">1.0000</td><td style=\"background-color: rgb(255.0000, 255,255.0000);\">0.0000</td><td style=\"background-color: rgb(255.0000, 255,255.0000);\">0.0000</td><td style=\"background-color: rgb(255.0000, 255,255.0000);\">0.0000</td></tr><tr><td><b>h->h</b></td><td style=\"background-color: rgb(254.9998, 255,254.9998);\">0.0000</td><td style=\"background-color: rgb(254.9477, 255,254.9477);\">0.0002</td><td style=\"background-color: rgb(249.6550, 255,249.6550);\">0.0210</td><td style=\"background-color: rgb(5.4005, 255,5.4005);\">0.9788</td></tr><tr><td><b>fn+h->h</b></td><td style=\"background-color: rgb(19.2214, 255,19.2214);\">0.9246</td><td style=\"background-color: rgb(235.7786, 255,235.7786);\">0.0754</td><td style=\"background-color: rgb(255.0000, 255,255.0000);\">0.0000</td><td style=\"background-color: rgb(255.0000, 255,255.0000);\">0.0000</td></tr></table>"
      ],
      "text/plain": [
       "<IPython.core.display.HTML object>"
      ]
     },
     "metadata": {},
     "output_type": "display_data"
    },
    {
     "name": "stdout",
     "output_type": "stream",
     "text": [
      "true Bringing pred_h Bringing pred_fnh Bringing\n"
     ]
    },
    {
     "data": {
      "text/html": [
       "<table><tr><td><b>words</b></td><td style=\"background-color: rgb(255,255,255);\">bring</td><td style=\"background-color: rgb(255,255,255);\">the</td><td style=\"background-color: rgb(255,255,255);\">beers</td><td style=\"background-color: rgb(255,255,255);\">here</td></tr><tr><td><b>lu</b></td><td style=\"background-color: rgb(0.0000, 255,0.0000);\">1.0000</td><td style=\"background-color: rgb(255.0000, 255,255.0000);\">0.0000</td><td style=\"background-color: rgb(255.0000, 255,255.0000);\">0.0000</td><td style=\"background-color: rgb(255.0000, 255,255.0000);\">0.0000</td></tr><tr><td><b>h->h</b></td><td style=\"background-color: rgb(254.9959, 255,254.9959);\">0.0000</td><td style=\"background-color: rgb(253.8013, 255,253.8013);\">0.0047</td><td style=\"background-color: rgb(251.2829, 255,251.2829);\">0.0146</td><td style=\"background-color: rgb(4.9236, 255,4.9236);\">0.9807</td></tr><tr><td><b>fn+h->h</b></td><td style=\"background-color: rgb(2.3352, 255,2.3352);\">0.9908</td><td style=\"background-color: rgb(255.0000, 255,255.0000);\">0.0000</td><td style=\"background-color: rgb(255.0000, 255,255.0000);\">0.0000</td><td style=\"background-color: rgb(252.6648, 255,252.6648);\">0.0092</td></tr></table>"
      ],
      "text/plain": [
       "<IPython.core.display.HTML object>"
      ]
     },
     "metadata": {},
     "output_type": "display_data"
    },
    {
     "name": "stdout",
     "output_type": "stream",
     "text": [
      "true Bringing pred_h Bringing pred_fnh Bringing\n"
     ]
    },
    {
     "data": {
      "text/html": [
       "<table><tr><td><b>words</b></td><td style=\"background-color: rgb(255,255,255);\">bring</td><td style=\"background-color: rgb(255,255,255);\">the</td><td style=\"background-color: rgb(255,255,255);\">fruit</td><td style=\"background-color: rgb(255,255,255);\">onto</td><td style=\"background-color: rgb(255,255,255);\">the</td><td style=\"background-color: rgb(255,255,255);\">dining</td><td style=\"background-color: rgb(255,255,255);\">table</td></tr><tr><td><b>lu</b></td><td style=\"background-color: rgb(0.0000, 255,0.0000);\">1.0000</td><td style=\"background-color: rgb(255.0000, 255,255.0000);\">0.0000</td><td style=\"background-color: rgb(255.0000, 255,255.0000);\">0.0000</td><td style=\"background-color: rgb(255.0000, 255,255.0000);\">0.0000</td><td style=\"background-color: rgb(255.0000, 255,255.0000);\">0.0000</td><td style=\"background-color: rgb(255.0000, 255,255.0000);\">0.0000</td><td style=\"background-color: rgb(255.0000, 255,255.0000);\">0.0000</td></tr><tr><td><b>h->h</b></td><td style=\"background-color: rgb(254.9997, 255,254.9997);\">0.0000</td><td style=\"background-color: rgb(254.9375, 255,254.9375);\">0.0002</td><td style=\"background-color: rgb(254.9950, 255,254.9950);\">0.0000</td><td style=\"background-color: rgb(254.6097, 255,254.6097);\">0.0015</td><td style=\"background-color: rgb(247.1965, 255,247.1965);\">0.0306</td><td style=\"background-color: rgb(234.0622, 255,234.0622);\">0.0821</td><td style=\"background-color: rgb(29.2002, 255,29.2002);\">0.8855</td></tr><tr><td><b>fn+h->h</b></td><td style=\"background-color: rgb(2.5341, 255,2.5341);\">0.9901</td><td style=\"background-color: rgb(255.0000, 255,255.0000);\">0.0000</td><td style=\"background-color: rgb(255.0000, 255,255.0000);\">0.0000</td><td style=\"background-color: rgb(252.4659, 255,252.4659);\">0.0099</td><td style=\"background-color: rgb(255.0000, 255,255.0000);\">0.0000</td><td style=\"background-color: rgb(255.0000, 255,255.0000);\">0.0000</td><td style=\"background-color: rgb(255.0000, 255,255.0000);\">0.0000</td></tr></table>"
      ],
      "text/plain": [
       "<IPython.core.display.HTML object>"
      ]
     },
     "metadata": {},
     "output_type": "display_data"
    },
    {
     "name": "stdout",
     "output_type": "stream",
     "text": [
      "true Bringing pred_h Bringing pred_fnh Bringing\n"
     ]
    },
    {
     "data": {
      "text/html": [
       "<table><tr><td><b>words</b></td><td style=\"background-color: rgb(255,255,255);\">bring</td><td style=\"background-color: rgb(255,255,255);\">the</td><td style=\"background-color: rgb(255,255,255);\">toilet</td><td style=\"background-color: rgb(255,255,255);\">paper</td><td style=\"background-color: rgb(255,255,255);\">to</td><td style=\"background-color: rgb(255,255,255);\">the</td><td style=\"background-color: rgb(255,255,255);\">bathroom</td></tr><tr><td><b>lu</b></td><td style=\"background-color: rgb(0.0000, 255,0.0000);\">1.0000</td><td style=\"background-color: rgb(255.0000, 255,255.0000);\">0.0000</td><td style=\"background-color: rgb(255.0000, 255,255.0000);\">0.0000</td><td style=\"background-color: rgb(255.0000, 255,255.0000);\">0.0000</td><td style=\"background-color: rgb(255.0000, 255,255.0000);\">0.0000</td><td style=\"background-color: rgb(255.0000, 255,255.0000);\">0.0000</td><td style=\"background-color: rgb(255.0000, 255,255.0000);\">0.0000</td></tr><tr><td><b>h->h</b></td><td style=\"background-color: rgb(254.9997, 255,254.9997);\">0.0000</td><td style=\"background-color: rgb(254.9819, 255,254.9819);\">0.0001</td><td style=\"background-color: rgb(254.9271, 255,254.9271);\">0.0003</td><td style=\"background-color: rgb(254.9398, 255,254.9398);\">0.0002</td><td style=\"background-color: rgb(253.8814, 255,253.8814);\">0.0044</td><td style=\"background-color: rgb(216.0066, 255,216.0066);\">0.1529</td><td style=\"background-color: rgb(40.2644, 255,40.2644);\">0.8421</td></tr><tr><td><b>fn+h->h</b></td><td style=\"background-color: rgb(31.4794, 255,31.4794);\">0.8766</td><td style=\"background-color: rgb(255.0000, 255,255.0000);\">0.0000</td><td style=\"background-color: rgb(255.0000, 255,255.0000);\">0.0000</td><td style=\"background-color: rgb(254.9989, 255,254.9989);\">0.0000</td><td style=\"background-color: rgb(223.5216, 255,223.5216);\">0.1234</td><td style=\"background-color: rgb(255.0000, 255,255.0000);\">0.0000</td><td style=\"background-color: rgb(255.0000, 255,255.0000);\">0.0000</td></tr></table>"
      ],
      "text/plain": [
       "<IPython.core.display.HTML object>"
      ]
     },
     "metadata": {},
     "output_type": "display_data"
    },
    {
     "name": "stdout",
     "output_type": "stream",
     "text": [
      "true Searching pred_h Searching pred_fnh Searching\n"
     ]
    },
    {
     "data": {
      "text/html": [
       "<table><tr><td><b>words</b></td><td style=\"background-color: rgb(255,255,255);\">you</td><td style=\"background-color: rgb(255,255,255);\">can</td><td style=\"background-color: rgb(255,255,255);\">find</td><td style=\"background-color: rgb(255,255,255);\">it</td><td style=\"background-color: rgb(255,255,255);\">on</td><td style=\"background-color: rgb(255,255,255);\">the</td><td style=\"background-color: rgb(255,255,255);\">table</td><td style=\"background-color: rgb(255,255,255);\">in</td><td style=\"background-color: rgb(255,255,255);\">the</td><td style=\"background-color: rgb(255,255,255);\">dining</td><td style=\"background-color: rgb(255,255,255);\">room</td></tr><tr><td><b>lu</b></td><td style=\"background-color: rgb(255.0000, 255,255.0000);\">0.0000</td><td style=\"background-color: rgb(255.0000, 255,255.0000);\">0.0000</td><td style=\"background-color: rgb(0.0000, 255,0.0000);\">1.0000</td><td style=\"background-color: rgb(255.0000, 255,255.0000);\">0.0000</td><td style=\"background-color: rgb(255.0000, 255,255.0000);\">0.0000</td><td style=\"background-color: rgb(255.0000, 255,255.0000);\">0.0000</td><td style=\"background-color: rgb(255.0000, 255,255.0000);\">0.0000</td><td style=\"background-color: rgb(255.0000, 255,255.0000);\">0.0000</td><td style=\"background-color: rgb(255.0000, 255,255.0000);\">0.0000</td><td style=\"background-color: rgb(255.0000, 255,255.0000);\">0.0000</td><td style=\"background-color: rgb(255.0000, 255,255.0000);\">0.0000</td></tr><tr><td><b>h->h</b></td><td style=\"background-color: rgb(255.0000, 255,255.0000);\">0.0000</td><td style=\"background-color: rgb(255.0000, 255,255.0000);\">0.0000</td><td style=\"background-color: rgb(254.9996, 255,254.9996);\">0.0000</td><td style=\"background-color: rgb(254.9940, 255,254.9940);\">0.0000</td><td style=\"background-color: rgb(253.7006, 255,253.7006);\">0.0051</td><td style=\"background-color: rgb(243.8134, 255,243.8134);\">0.0439</td><td style=\"background-color: rgb(234.9447, 255,234.9447);\">0.0786</td><td style=\"background-color: rgb(237.9529, 255,237.9529);\">0.0669</td><td style=\"background-color: rgb(185.2226, 255,185.2226);\">0.2736</td><td style=\"background-color: rgb(169.8802, 255,169.8802);\">0.3338</td><td style=\"background-color: rgb(204.4922, 255,204.4922);\">0.1981</td></tr><tr><td><b>fn+h->h</b></td><td style=\"background-color: rgb(255.0000, 255,255.0000);\">0.0000</td><td style=\"background-color: rgb(255.0000, 255,255.0000);\">0.0000</td><td style=\"background-color: rgb(0.0000, 255,0.0000);\">1.0000</td><td style=\"background-color: rgb(255.0000, 255,255.0000);\">0.0000</td><td style=\"background-color: rgb(255.0000, 255,255.0000);\">0.0000</td><td style=\"background-color: rgb(255.0000, 255,255.0000);\">0.0000</td><td style=\"background-color: rgb(255.0000, 255,255.0000);\">0.0000</td><td style=\"background-color: rgb(255.0000, 255,255.0000);\">0.0000</td><td style=\"background-color: rgb(255.0000, 255,255.0000);\">0.0000</td><td style=\"background-color: rgb(255.0000, 255,255.0000);\">0.0000</td><td style=\"background-color: rgb(255.0000, 255,255.0000);\">0.0000</td></tr></table>"
      ],
      "text/plain": [
       "<IPython.core.display.HTML object>"
      ]
     },
     "metadata": {},
     "output_type": "display_data"
    },
    {
     "name": "stdout",
     "output_type": "stream",
     "text": [
      "true Bringing pred_h Bringing pred_fnh Bringing\n"
     ]
    },
    {
     "data": {
      "text/html": [
       "<table><tr><td><b>words</b></td><td style=\"background-color: rgb(255,255,255);\">can</td><td style=\"background-color: rgb(255,255,255);\">you</td><td style=\"background-color: rgb(255,255,255);\">bring</td><td style=\"background-color: rgb(255,255,255);\">me</td><td style=\"background-color: rgb(255,255,255);\">my</td><td style=\"background-color: rgb(255,255,255);\">eyeglass</td></tr><tr><td><b>lu</b></td><td style=\"background-color: rgb(255.0000, 255,255.0000);\">0.0000</td><td style=\"background-color: rgb(255.0000, 255,255.0000);\">0.0000</td><td style=\"background-color: rgb(0.0000, 255,0.0000);\">1.0000</td><td style=\"background-color: rgb(255.0000, 255,255.0000);\">0.0000</td><td style=\"background-color: rgb(255.0000, 255,255.0000);\">0.0000</td><td style=\"background-color: rgb(255.0000, 255,255.0000);\">0.0000</td></tr><tr><td><b>h->h</b></td><td style=\"background-color: rgb(255.0000, 255,255.0000);\">0.0000</td><td style=\"background-color: rgb(255.0000, 255,255.0000);\">0.0000</td><td style=\"background-color: rgb(254.9996, 255,254.9996);\">0.0000</td><td style=\"background-color: rgb(254.8851, 255,254.8851);\">0.0005</td><td style=\"background-color: rgb(240.5979, 255,240.5979);\">0.0565</td><td style=\"background-color: rgb(14.5236, 255,14.5236);\">0.9430</td></tr><tr><td><b>fn+h->h</b></td><td style=\"background-color: rgb(255.0000, 255,255.0000);\">0.0000</td><td style=\"background-color: rgb(255.0000, 255,255.0000);\">0.0000</td><td style=\"background-color: rgb(8.3911, 255,8.3911);\">0.9671</td><td style=\"background-color: rgb(246.6098, 255,246.6098);\">0.0329</td><td style=\"background-color: rgb(255.0000, 255,255.0000);\">0.0000</td><td style=\"background-color: rgb(254.9991, 255,254.9991);\">0.0000</td></tr></table>"
      ],
      "text/plain": [
       "<IPython.core.display.HTML object>"
      ]
     },
     "metadata": {},
     "output_type": "display_data"
    },
    {
     "name": "stdout",
     "output_type": "stream",
     "text": [
      "true Bringing pred_h Bringing pred_fnh Bringing\n"
     ]
    },
    {
     "data": {
      "text/html": [
       "<table><tr><td><b>words</b></td><td style=\"background-color: rgb(255,255,255);\">can</td><td style=\"background-color: rgb(255,255,255);\">you</td><td style=\"background-color: rgb(255,255,255);\">bring</td><td style=\"background-color: rgb(255,255,255);\">me</td><td style=\"background-color: rgb(255,255,255);\">my</td><td style=\"background-color: rgb(255,255,255);\">tablet</td></tr><tr><td><b>lu</b></td><td style=\"background-color: rgb(255.0000, 255,255.0000);\">0.0000</td><td style=\"background-color: rgb(255.0000, 255,255.0000);\">0.0000</td><td style=\"background-color: rgb(0.0000, 255,0.0000);\">1.0000</td><td style=\"background-color: rgb(255.0000, 255,255.0000);\">0.0000</td><td style=\"background-color: rgb(255.0000, 255,255.0000);\">0.0000</td><td style=\"background-color: rgb(255.0000, 255,255.0000);\">0.0000</td></tr><tr><td><b>h->h</b></td><td style=\"background-color: rgb(255.0000, 255,255.0000);\">0.0000</td><td style=\"background-color: rgb(255.0000, 255,255.0000);\">0.0000</td><td style=\"background-color: rgb(254.9997, 255,254.9997);\">0.0000</td><td style=\"background-color: rgb(254.9506, 255,254.9506);\">0.0002</td><td style=\"background-color: rgb(247.9268, 255,247.9268);\">0.0277</td><td style=\"background-color: rgb(7.1253, 255,7.1253);\">0.9721</td></tr><tr><td><b>fn+h->h</b></td><td style=\"background-color: rgb(255.0000, 255,255.0000);\">0.0000</td><td style=\"background-color: rgb(255.0000, 255,255.0000);\">0.0000</td><td style=\"background-color: rgb(11.9905, 255,11.9905);\">0.9530</td><td style=\"background-color: rgb(243.0098, 255,243.0098);\">0.0470</td><td style=\"background-color: rgb(254.9997, 255,254.9997);\">0.0000</td><td style=\"background-color: rgb(255.0000, 255,255.0000);\">0.0000</td></tr></table>"
      ],
      "text/plain": [
       "<IPython.core.display.HTML object>"
      ]
     },
     "metadata": {},
     "output_type": "display_data"
    },
    {
     "name": "stdout",
     "output_type": "stream",
     "text": [
      "true Bringing pred_h Bringing pred_fnh Bringing\n"
     ]
    },
    {
     "data": {
      "text/html": [
       "<table><tr><td><b>words</b></td><td style=\"background-color: rgb(255,255,255);\">can</td><td style=\"background-color: rgb(255,255,255);\">you</td><td style=\"background-color: rgb(255,255,255);\">bring</td><td style=\"background-color: rgb(255,255,255);\">the</td><td style=\"background-color: rgb(255,255,255);\">mayo</td><td style=\"background-color: rgb(255,255,255);\">over</td><td style=\"background-color: rgb(255,255,255);\">here</td></tr><tr><td><b>lu</b></td><td style=\"background-color: rgb(255.0000, 255,255.0000);\">0.0000</td><td style=\"background-color: rgb(255.0000, 255,255.0000);\">0.0000</td><td style=\"background-color: rgb(0.0000, 255,0.0000);\">1.0000</td><td style=\"background-color: rgb(255.0000, 255,255.0000);\">0.0000</td><td style=\"background-color: rgb(255.0000, 255,255.0000);\">0.0000</td><td style=\"background-color: rgb(255.0000, 255,255.0000);\">0.0000</td><td style=\"background-color: rgb(255.0000, 255,255.0000);\">0.0000</td></tr><tr><td><b>h->h</b></td><td style=\"background-color: rgb(255.0000, 255,255.0000);\">0.0000</td><td style=\"background-color: rgb(255.0000, 255,255.0000);\">0.0000</td><td style=\"background-color: rgb(254.9984, 255,254.9984);\">0.0000</td><td style=\"background-color: rgb(254.8049, 255,254.8049);\">0.0008</td><td style=\"background-color: rgb(254.6345, 255,254.6345);\">0.0014</td><td style=\"background-color: rgb(220.3263, 255,220.3263);\">0.1360</td><td style=\"background-color: rgb(35.2383, 255,35.2383);\">0.8618</td></tr><tr><td><b>fn+h->h</b></td><td style=\"background-color: rgb(255.0000, 255,255.0000);\">0.0000</td><td style=\"background-color: rgb(255.0000, 255,255.0000);\">0.0000</td><td style=\"background-color: rgb(3.8843, 255,3.8843);\">0.9848</td><td style=\"background-color: rgb(255.0000, 255,255.0000);\">0.0000</td><td style=\"background-color: rgb(255.0000, 255,255.0000);\">0.0000</td><td style=\"background-color: rgb(255.0000, 255,255.0000);\">0.0000</td><td style=\"background-color: rgb(251.1158, 255,251.1158);\">0.0152</td></tr></table>"
      ],
      "text/plain": [
       "<IPython.core.display.HTML object>"
      ]
     },
     "metadata": {},
     "output_type": "display_data"
    },
    {
     "name": "stdout",
     "output_type": "stream",
     "text": [
      "true Searching pred_h Searching pred_fnh Searching\n"
     ]
    },
    {
     "data": {
      "text/html": [
       "<table><tr><td><b>words</b></td><td style=\"background-color: rgb(255,255,255);\">can</td><td style=\"background-color: rgb(255,255,255);\">you</td><td style=\"background-color: rgb(255,255,255);\">find</td><td style=\"background-color: rgb(255,255,255);\">a</td><td style=\"background-color: rgb(255,255,255);\">red</td><td style=\"background-color: rgb(255,255,255);\">t-shirt</td><td style=\"background-color: rgb(255,255,255);\">in</td><td style=\"background-color: rgb(255,255,255);\">the</td><td style=\"background-color: rgb(255,255,255);\">dresser</td></tr><tr><td><b>lu</b></td><td style=\"background-color: rgb(255.0000, 255,255.0000);\">0.0000</td><td style=\"background-color: rgb(255.0000, 255,255.0000);\">0.0000</td><td style=\"background-color: rgb(0.0000, 255,0.0000);\">1.0000</td><td style=\"background-color: rgb(255.0000, 255,255.0000);\">0.0000</td><td style=\"background-color: rgb(255.0000, 255,255.0000);\">0.0000</td><td style=\"background-color: rgb(255.0000, 255,255.0000);\">0.0000</td><td style=\"background-color: rgb(255.0000, 255,255.0000);\">0.0000</td><td style=\"background-color: rgb(255.0000, 255,255.0000);\">0.0000</td><td style=\"background-color: rgb(255.0000, 255,255.0000);\">0.0000</td></tr><tr><td><b>h->h</b></td><td style=\"background-color: rgb(255.0000, 255,255.0000);\">0.0000</td><td style=\"background-color: rgb(255.0000, 255,255.0000);\">0.0000</td><td style=\"background-color: rgb(254.9993, 255,254.9993);\">0.0000</td><td style=\"background-color: rgb(253.9482, 255,253.9482);\">0.0041</td><td style=\"background-color: rgb(254.7488, 255,254.7488);\">0.0010</td><td style=\"background-color: rgb(254.9636, 255,254.9636);\">0.0001</td><td style=\"background-color: rgb(254.8932, 255,254.8932);\">0.0004</td><td style=\"background-color: rgb(188.7396, 255,188.7396);\">0.2598</td><td style=\"background-color: rgb(67.7088, 255,67.7088);\">0.7345</td></tr><tr><td><b>fn+h->h</b></td><td style=\"background-color: rgb(255.0000, 255,255.0000);\">0.0000</td><td style=\"background-color: rgb(255.0000, 255,255.0000);\">0.0000</td><td style=\"background-color: rgb(0.0000, 255,0.0000);\">1.0000</td><td style=\"background-color: rgb(255.0000, 255,255.0000);\">0.0000</td><td style=\"background-color: rgb(255.0000, 255,255.0000);\">0.0000</td><td style=\"background-color: rgb(255.0000, 255,255.0000);\">0.0000</td><td style=\"background-color: rgb(255.0000, 255,255.0000);\">0.0000</td><td style=\"background-color: rgb(255.0000, 255,255.0000);\">0.0000</td><td style=\"background-color: rgb(255.0000, 255,255.0000);\">0.0000</td></tr></table>"
      ],
      "text/plain": [
       "<IPython.core.display.HTML object>"
      ]
     },
     "metadata": {},
     "output_type": "display_data"
    },
    {
     "name": "stdout",
     "output_type": "stream",
     "text": [
      "true Searching pred_h Searching pred_fnh Searching\n"
     ]
    },
    {
     "data": {
      "text/html": [
       "<table><tr><td><b>words</b></td><td style=\"background-color: rgb(255,255,255);\">find</td><td style=\"background-color: rgb(255,255,255);\">a</td><td style=\"background-color: rgb(255,255,255);\">glass</td></tr><tr><td><b>lu</b></td><td style=\"background-color: rgb(0.0000, 255,0.0000);\">1.0000</td><td style=\"background-color: rgb(255.0000, 255,255.0000);\">0.0000</td><td style=\"background-color: rgb(255.0000, 255,255.0000);\">0.0000</td></tr><tr><td><b>h->h</b></td><td style=\"background-color: rgb(254.9875, 255,254.9875);\">0.0000</td><td style=\"background-color: rgb(194.7761, 255,194.7761);\">0.2362</td><td style=\"background-color: rgb(60.2382, 255,60.2382);\">0.7638</td></tr><tr><td><b>fn+h->h</b></td><td style=\"background-color: rgb(0.0000, 255,0.0000);\">1.0000</td><td style=\"background-color: rgb(255.0000, 255,255.0000);\">0.0000</td><td style=\"background-color: rgb(255.0000, 255,255.0000);\">0.0000</td></tr></table>"
      ],
      "text/plain": [
       "<IPython.core.display.HTML object>"
      ]
     },
     "metadata": {},
     "output_type": "display_data"
    },
    {
     "name": "stdout",
     "output_type": "stream",
     "text": [
      "true Bringing pred_h Bringing pred_fnh Bringing\n"
     ]
    },
    {
     "data": {
      "text/html": [
       "<table><tr><td><b>words</b></td><td style=\"background-color: rgb(255,255,255);\">bring</td><td style=\"background-color: rgb(255,255,255);\">it</td><td style=\"background-color: rgb(255,255,255);\">to</td><td style=\"background-color: rgb(255,255,255);\">me</td></tr><tr><td><b>lu</b></td><td style=\"background-color: rgb(0.0000, 255,0.0000);\">1.0000</td><td style=\"background-color: rgb(255.0000, 255,255.0000);\">0.0000</td><td style=\"background-color: rgb(255.0000, 255,255.0000);\">0.0000</td><td style=\"background-color: rgb(255.0000, 255,255.0000);\">0.0000</td></tr><tr><td><b>h->h</b></td><td style=\"background-color: rgb(254.9887, 255,254.9887);\">0.0000</td><td style=\"background-color: rgb(254.8624, 255,254.8624);\">0.0005</td><td style=\"background-color: rgb(249.7083, 255,249.7083);\">0.0208</td><td style=\"background-color: rgb(5.4444, 255,5.4444);\">0.9786</td></tr><tr><td><b>fn+h->h</b></td><td style=\"background-color: rgb(20.1473, 255,20.1473);\">0.9210</td><td style=\"background-color: rgb(254.9999, 255,254.9999);\">0.0000</td><td style=\"background-color: rgb(254.3687, 255,254.3687);\">0.0025</td><td style=\"background-color: rgb(235.4841, 255,235.4841);\">0.0765</td></tr></table>"
      ],
      "text/plain": [
       "<IPython.core.display.HTML object>"
      ]
     },
     "metadata": {},
     "output_type": "display_data"
    },
    {
     "name": "stdout",
     "output_type": "stream",
     "text": [
      "true Motion pred_h Motion pred_fnh Motion\n"
     ]
    },
    {
     "data": {
      "text/html": [
       "<table><tr><td><b>words</b></td><td style=\"background-color: rgb(255,255,255);\">can</td><td style=\"background-color: rgb(255,255,255);\">you</td><td style=\"background-color: rgb(255,255,255);\">go</td><td style=\"background-color: rgb(255,255,255);\">to</td><td style=\"background-color: rgb(255,255,255);\">the</td><td style=\"background-color: rgb(255,255,255);\">kitchen</td></tr><tr><td><b>lu</b></td><td style=\"background-color: rgb(255.0000, 255,255.0000);\">0.0000</td><td style=\"background-color: rgb(255.0000, 255,255.0000);\">0.0000</td><td style=\"background-color: rgb(0.0000, 255,0.0000);\">1.0000</td><td style=\"background-color: rgb(255.0000, 255,255.0000);\">0.0000</td><td style=\"background-color: rgb(255.0000, 255,255.0000);\">0.0000</td><td style=\"background-color: rgb(255.0000, 255,255.0000);\">0.0000</td></tr><tr><td><b>h->h</b></td><td style=\"background-color: rgb(255.0000, 255,255.0000);\">0.0000</td><td style=\"background-color: rgb(255.0000, 255,255.0000);\">0.0000</td><td style=\"background-color: rgb(254.9999, 255,254.9999);\">0.0000</td><td style=\"background-color: rgb(252.8219, 255,252.8219);\">0.0085</td><td style=\"background-color: rgb(54.4437, 255,54.4437);\">0.7865</td><td style=\"background-color: rgb(202.7354, 255,202.7354);\">0.2050</td></tr><tr><td><b>fn+h->h</b></td><td style=\"background-color: rgb(255.0000, 255,255.0000);\">0.0000</td><td style=\"background-color: rgb(255.0000, 255,255.0000);\">0.0000</td><td style=\"background-color: rgb(1.3666, 255,1.3666);\">0.9946</td><td style=\"background-color: rgb(253.6334, 255,253.6334);\">0.0054</td><td style=\"background-color: rgb(255.0000, 255,255.0000);\">0.0000</td><td style=\"background-color: rgb(255.0000, 255,255.0000);\">0.0000</td></tr></table>"
      ],
      "text/plain": [
       "<IPython.core.display.HTML object>"
      ]
     },
     "metadata": {},
     "output_type": "display_data"
    },
    {
     "name": "stdout",
     "output_type": "stream",
     "text": [
      "true Searching pred_h Searching pred_fnh Searching\n"
     ]
    },
    {
     "data": {
      "text/html": [
       "<table><tr><td><b>words</b></td><td style=\"background-color: rgb(255,255,255);\">carefully</td><td style=\"background-color: rgb(255,255,255);\">search</td><td style=\"background-color: rgb(255,255,255);\">for</td><td style=\"background-color: rgb(255,255,255);\">my</td><td style=\"background-color: rgb(255,255,255);\">wallet</td></tr><tr><td><b>lu</b></td><td style=\"background-color: rgb(255.0000, 255,255.0000);\">0.0000</td><td style=\"background-color: rgb(0.0000, 255,0.0000);\">1.0000</td><td style=\"background-color: rgb(255.0000, 255,255.0000);\">0.0000</td><td style=\"background-color: rgb(255.0000, 255,255.0000);\">0.0000</td><td style=\"background-color: rgb(255.0000, 255,255.0000);\">0.0000</td></tr><tr><td><b>h->h</b></td><td style=\"background-color: rgb(255.0000, 255,255.0000);\">0.0000</td><td style=\"background-color: rgb(254.9947, 255,254.9947);\">0.0000</td><td style=\"background-color: rgb(254.6345, 255,254.6345);\">0.0014</td><td style=\"background-color: rgb(230.7778, 255,230.7778);\">0.0950</td><td style=\"background-color: rgb(24.5942, 255,24.5942);\">0.9036</td></tr><tr><td><b>fn+h->h</b></td><td style=\"background-color: rgb(255.0000, 255,255.0000);\">0.0000</td><td style=\"background-color: rgb(0.0000, 255,0.0000);\">1.0000</td><td style=\"background-color: rgb(255.0000, 255,255.0000);\">0.0000</td><td style=\"background-color: rgb(255.0000, 255,255.0000);\">0.0000</td><td style=\"background-color: rgb(255.0000, 255,255.0000);\">0.0000</td></tr></table>"
      ],
      "text/plain": [
       "<IPython.core.display.HTML object>"
      ]
     },
     "metadata": {},
     "output_type": "display_data"
    },
    {
     "name": "stdout",
     "output_type": "stream",
     "text": [
      "true Motion pred_h Motion pred_fnh Motion\n"
     ]
    },
    {
     "data": {
      "text/html": [
       "<table><tr><td><b>words</b></td><td style=\"background-color: rgb(255,255,255);\">could</td><td style=\"background-color: rgb(255,255,255);\">you</td><td style=\"background-color: rgb(255,255,255);\">go</td><td style=\"background-color: rgb(255,255,255);\">to</td><td style=\"background-color: rgb(255,255,255);\">the</td><td style=\"background-color: rgb(255,255,255);\">bedroom</td></tr><tr><td><b>lu</b></td><td style=\"background-color: rgb(255.0000, 255,255.0000);\">0.0000</td><td style=\"background-color: rgb(255.0000, 255,255.0000);\">0.0000</td><td style=\"background-color: rgb(0.0000, 255,0.0000);\">1.0000</td><td style=\"background-color: rgb(255.0000, 255,255.0000);\">0.0000</td><td style=\"background-color: rgb(255.0000, 255,255.0000);\">0.0000</td><td style=\"background-color: rgb(255.0000, 255,255.0000);\">0.0000</td></tr><tr><td><b>h->h</b></td><td style=\"background-color: rgb(255.0000, 255,255.0000);\">0.0000</td><td style=\"background-color: rgb(255.0000, 255,255.0000);\">0.0000</td><td style=\"background-color: rgb(254.9999, 255,254.9999);\">0.0000</td><td style=\"background-color: rgb(253.4587, 255,253.4587);\">0.0060</td><td style=\"background-color: rgb(54.5494, 255,54.5494);\">0.7861</td><td style=\"background-color: rgb(201.9934, 255,201.9934);\">0.2079</td></tr><tr><td><b>fn+h->h</b></td><td style=\"background-color: rgb(255.0000, 255,255.0000);\">0.0000</td><td style=\"background-color: rgb(255.0000, 255,255.0000);\">0.0000</td><td style=\"background-color: rgb(0.0711, 255,0.0711);\">0.9997</td><td style=\"background-color: rgb(254.9289, 255,254.9289);\">0.0003</td><td style=\"background-color: rgb(255.0000, 255,255.0000);\">0.0000</td><td style=\"background-color: rgb(255.0000, 255,255.0000);\">0.0000</td></tr></table>"
      ],
      "text/plain": [
       "<IPython.core.display.HTML object>"
      ]
     },
     "metadata": {},
     "output_type": "display_data"
    },
    {
     "name": "stdout",
     "output_type": "stream",
     "text": [
      "true Taking pred_h Taking pred_fnh Taking\n"
     ]
    },
    {
     "data": {
      "text/html": [
       "<table><tr><td><b>words</b></td><td style=\"background-color: rgb(255,255,255);\">take</td><td style=\"background-color: rgb(255,255,255);\">the</td><td style=\"background-color: rgb(255,255,255);\">postcard</td><td style=\"background-color: rgb(255,255,255);\">on</td><td style=\"background-color: rgb(255,255,255);\">the</td><td style=\"background-color: rgb(255,255,255);\">nightstand</td></tr><tr><td><b>lu</b></td><td style=\"background-color: rgb(0.0000, 255,0.0000);\">1.0000</td><td style=\"background-color: rgb(255.0000, 255,255.0000);\">0.0000</td><td style=\"background-color: rgb(255.0000, 255,255.0000);\">0.0000</td><td style=\"background-color: rgb(255.0000, 255,255.0000);\">0.0000</td><td style=\"background-color: rgb(255.0000, 255,255.0000);\">0.0000</td><td style=\"background-color: rgb(255.0000, 255,255.0000);\">0.0000</td></tr><tr><td><b>h->h</b></td><td style=\"background-color: rgb(254.9979, 255,254.9979);\">0.0000</td><td style=\"background-color: rgb(254.8333, 255,254.8333);\">0.0007</td><td style=\"background-color: rgb(254.9991, 255,254.9991);\">0.0000</td><td style=\"background-color: rgb(253.4979, 255,253.4979);\">0.0059</td><td style=\"background-color: rgb(2.0280, 255,2.0280);\">0.9920</td><td style=\"background-color: rgb(254.6524, 255,254.6524);\">0.0014</td></tr><tr><td><b>fn+h->h</b></td><td style=\"background-color: rgb(0.0328, 255,0.0328);\">0.9999</td><td style=\"background-color: rgb(255.0000, 255,255.0000);\">0.0000</td><td style=\"background-color: rgb(255.0000, 255,255.0000);\">0.0000</td><td style=\"background-color: rgb(254.9672, 255,254.9672);\">0.0001</td><td style=\"background-color: rgb(255.0000, 255,255.0000);\">0.0000</td><td style=\"background-color: rgb(255.0000, 255,255.0000);\">0.0000</td></tr></table>"
      ],
      "text/plain": [
       "<IPython.core.display.HTML object>"
      ]
     },
     "metadata": {},
     "output_type": "display_data"
    },
    {
     "name": "stdout",
     "output_type": "stream",
     "text": [
      "true Taking pred_h Taking pred_fnh Taking\n"
     ]
    },
    {
     "data": {
      "text/html": [
       "<table><tr><td><b>words</b></td><td style=\"background-color: rgb(255,255,255);\">could</td><td style=\"background-color: rgb(255,255,255);\">you</td><td style=\"background-color: rgb(255,255,255);\">take</td><td style=\"background-color: rgb(255,255,255);\">the</td><td style=\"background-color: rgb(255,255,255);\">knife</td><td style=\"background-color: rgb(255,255,255);\">on</td><td style=\"background-color: rgb(255,255,255);\">the</td><td style=\"background-color: rgb(255,255,255);\">cutting</td><td style=\"background-color: rgb(255,255,255);\">board</td></tr><tr><td><b>lu</b></td><td style=\"background-color: rgb(255.0000, 255,255.0000);\">0.0000</td><td style=\"background-color: rgb(255.0000, 255,255.0000);\">0.0000</td><td style=\"background-color: rgb(0.0000, 255,0.0000);\">1.0000</td><td style=\"background-color: rgb(255.0000, 255,255.0000);\">0.0000</td><td style=\"background-color: rgb(255.0000, 255,255.0000);\">0.0000</td><td style=\"background-color: rgb(255.0000, 255,255.0000);\">0.0000</td><td style=\"background-color: rgb(255.0000, 255,255.0000);\">0.0000</td><td style=\"background-color: rgb(255.0000, 255,255.0000);\">0.0000</td><td style=\"background-color: rgb(255.0000, 255,255.0000);\">0.0000</td></tr><tr><td><b>h->h</b></td><td style=\"background-color: rgb(255.0000, 255,255.0000);\">0.0000</td><td style=\"background-color: rgb(255.0000, 255,255.0000);\">0.0000</td><td style=\"background-color: rgb(254.9986, 255,254.9986);\">0.0000</td><td style=\"background-color: rgb(254.9225, 255,254.9225);\">0.0003</td><td style=\"background-color: rgb(254.9747, 255,254.9747);\">0.0001</td><td style=\"background-color: rgb(253.2269, 255,253.2269);\">0.0070</td><td style=\"background-color: rgb(208.3149, 255,208.3149);\">0.1831</td><td style=\"background-color: rgb(49.2329, 255,49.2329);\">0.8069</td><td style=\"background-color: rgb(254.3381, 255,254.3381);\">0.0026</td></tr><tr><td><b>fn+h->h</b></td><td style=\"background-color: rgb(255.0000, 255,255.0000);\">0.0000</td><td style=\"background-color: rgb(255.0000, 255,255.0000);\">0.0000</td><td style=\"background-color: rgb(0.0026, 255,0.0026);\">1.0000</td><td style=\"background-color: rgb(255.0000, 255,255.0000);\">0.0000</td><td style=\"background-color: rgb(255.0000, 255,255.0000);\">0.0000</td><td style=\"background-color: rgb(254.9974, 255,254.9974);\">0.0000</td><td style=\"background-color: rgb(255.0000, 255,255.0000);\">0.0000</td><td style=\"background-color: rgb(255.0000, 255,255.0000);\">0.0000</td><td style=\"background-color: rgb(255.0000, 255,255.0000);\">0.0000</td></tr></table>"
      ],
      "text/plain": [
       "<IPython.core.display.HTML object>"
      ]
     },
     "metadata": {},
     "output_type": "display_data"
    },
    {
     "name": "stdout",
     "output_type": "stream",
     "text": [
      "true Searching pred_h Searching pred_fnh Searching\n"
     ]
    },
    {
     "data": {
      "text/html": [
       "<table><tr><td><b>words</b></td><td style=\"background-color: rgb(255,255,255);\">do</td><td style=\"background-color: rgb(255,255,255);\">you</td><td style=\"background-color: rgb(255,255,255);\">think</td><td style=\"background-color: rgb(255,255,255);\">you</td><td style=\"background-color: rgb(255,255,255);\">can</td><td style=\"background-color: rgb(255,255,255);\">find</td><td style=\"background-color: rgb(255,255,255);\">my</td><td style=\"background-color: rgb(255,255,255);\">wallet</td></tr><tr><td><b>lu</b></td><td style=\"background-color: rgb(255.0000, 255,255.0000);\">0.0000</td><td style=\"background-color: rgb(255.0000, 255,255.0000);\">0.0000</td><td style=\"background-color: rgb(255.0000, 255,255.0000);\">0.0000</td><td style=\"background-color: rgb(255.0000, 255,255.0000);\">0.0000</td><td style=\"background-color: rgb(255.0000, 255,255.0000);\">0.0000</td><td style=\"background-color: rgb(0.0000, 255,0.0000);\">1.0000</td><td style=\"background-color: rgb(255.0000, 255,255.0000);\">0.0000</td><td style=\"background-color: rgb(255.0000, 255,255.0000);\">0.0000</td></tr><tr><td><b>h->h</b></td><td style=\"background-color: rgb(255.0000, 255,255.0000);\">0.0000</td><td style=\"background-color: rgb(255.0000, 255,255.0000);\">0.0000</td><td style=\"background-color: rgb(255.0000, 255,255.0000);\">0.0000</td><td style=\"background-color: rgb(255.0000, 255,255.0000);\">0.0000</td><td style=\"background-color: rgb(255.0000, 255,255.0000);\">0.0000</td><td style=\"background-color: rgb(254.9932, 255,254.9932);\">0.0000</td><td style=\"background-color: rgb(250.0637, 255,250.0637);\">0.0194</td><td style=\"background-color: rgb(4.9448, 255,4.9448);\">0.9806</td></tr><tr><td><b>fn+h->h</b></td><td style=\"background-color: rgb(255.0000, 255,255.0000);\">0.0000</td><td style=\"background-color: rgb(255.0000, 255,255.0000);\">0.0000</td><td style=\"background-color: rgb(255.0000, 255,255.0000);\">0.0000</td><td style=\"background-color: rgb(255.0000, 255,255.0000);\">0.0000</td><td style=\"background-color: rgb(255.0000, 255,255.0000);\">0.0000</td><td style=\"background-color: rgb(0.0000, 255,0.0000);\">1.0000</td><td style=\"background-color: rgb(255.0000, 255,255.0000);\">0.0000</td><td style=\"background-color: rgb(255.0000, 255,255.0000);\">0.0000</td></tr></table>"
      ],
      "text/plain": [
       "<IPython.core.display.HTML object>"
      ]
     },
     "metadata": {},
     "output_type": "display_data"
    },
    {
     "name": "stdout",
     "output_type": "stream",
     "text": [
      "true Releasing pred_h Releasing pred_fnh Releasing\n"
     ]
    },
    {
     "data": {
      "text/html": [
       "<table><tr><td><b>words</b></td><td style=\"background-color: rgb(255,255,255);\">drop</td><td style=\"background-color: rgb(255,255,255);\">the</td><td style=\"background-color: rgb(255,255,255);\">vase</td></tr><tr><td><b>lu</b></td><td style=\"background-color: rgb(0.0000, 255,0.0000);\">1.0000</td><td style=\"background-color: rgb(255.0000, 255,255.0000);\">0.0000</td><td style=\"background-color: rgb(255.0000, 255,255.0000);\">0.0000</td></tr><tr><td><b>h->h</b></td><td style=\"background-color: rgb(254.9819, 255,254.9819);\">0.0001</td><td style=\"background-color: rgb(0.1139, 255,0.1139);\">0.9996</td><td style=\"background-color: rgb(254.9991, 255,254.9991);\">0.0000</td></tr><tr><td><b>fn+h->h</b></td><td style=\"background-color: rgb(0.0000, 255,0.0000);\">1.0000</td><td style=\"background-color: rgb(255.0000, 255,255.0000);\">0.0000</td><td style=\"background-color: rgb(255.0000, 255,255.0000);\">0.0000</td></tr></table>"
      ],
      "text/plain": [
       "<IPython.core.display.HTML object>"
      ]
     },
     "metadata": {},
     "output_type": "display_data"
    },
    {
     "name": "stdout",
     "output_type": "stream",
     "text": [
      "true Searching pred_h Searching pred_fnh Searching\n"
     ]
    },
    {
     "data": {
      "text/html": [
       "<table><tr><td><b>words</b></td><td style=\"background-color: rgb(255,255,255);\">find</td><td style=\"background-color: rgb(255,255,255);\">a</td><td style=\"background-color: rgb(255,255,255);\">bottle</td><td style=\"background-color: rgb(255,255,255);\">of</td><td style=\"background-color: rgb(255,255,255);\">water</td></tr><tr><td><b>lu</b></td><td style=\"background-color: rgb(0.0000, 255,0.0000);\">1.0000</td><td style=\"background-color: rgb(255.0000, 255,255.0000);\">0.0000</td><td style=\"background-color: rgb(255.0000, 255,255.0000);\">0.0000</td><td style=\"background-color: rgb(255.0000, 255,255.0000);\">0.0000</td><td style=\"background-color: rgb(255.0000, 255,255.0000);\">0.0000</td></tr><tr><td><b>h->h</b></td><td style=\"background-color: rgb(254.9945, 255,254.9945);\">0.0000</td><td style=\"background-color: rgb(254.0598, 255,254.0598);\">0.0037</td><td style=\"background-color: rgb(249.1568, 255,249.1568);\">0.0229</td><td style=\"background-color: rgb(142.6392, 255,142.6392);\">0.4406</td><td style=\"background-color: rgb(119.1508, 255,119.1508);\">0.5327</td></tr><tr><td><b>fn+h->h</b></td><td style=\"background-color: rgb(0.0000, 255,0.0000);\">1.0000</td><td style=\"background-color: rgb(255.0000, 255,255.0000);\">0.0000</td><td style=\"background-color: rgb(255.0000, 255,255.0000);\">0.0000</td><td style=\"background-color: rgb(255.0000, 255,255.0000);\">0.0000</td><td style=\"background-color: rgb(255.0000, 255,255.0000);\">0.0000</td></tr></table>"
      ],
      "text/plain": [
       "<IPython.core.display.HTML object>"
      ]
     },
     "metadata": {},
     "output_type": "display_data"
    },
    {
     "name": "stdout",
     "output_type": "stream",
     "text": [
      "true Searching pred_h Searching pred_fnh Searching\n"
     ]
    },
    {
     "data": {
      "text/html": [
       "<table><tr><td><b>words</b></td><td style=\"background-color: rgb(255,255,255);\">find</td><td style=\"background-color: rgb(255,255,255);\">a</td><td style=\"background-color: rgb(255,255,255);\">magazine</td></tr><tr><td><b>lu</b></td><td style=\"background-color: rgb(0.0000, 255,0.0000);\">1.0000</td><td style=\"background-color: rgb(255.0000, 255,255.0000);\">0.0000</td><td style=\"background-color: rgb(255.0000, 255,255.0000);\">0.0000</td></tr><tr><td><b>h->h</b></td><td style=\"background-color: rgb(254.9912, 255,254.9912);\">0.0000</td><td style=\"background-color: rgb(213.4538, 255,213.4538);\">0.1629</td><td style=\"background-color: rgb(41.5568, 255,41.5568);\">0.8370</td></tr><tr><td><b>fn+h->h</b></td><td style=\"background-color: rgb(0.0000, 255,0.0000);\">1.0000</td><td style=\"background-color: rgb(255.0000, 255,255.0000);\">0.0000</td><td style=\"background-color: rgb(255.0000, 255,255.0000);\">0.0000</td></tr></table>"
      ],
      "text/plain": [
       "<IPython.core.display.HTML object>"
      ]
     },
     "metadata": {},
     "output_type": "display_data"
    },
    {
     "name": "stdout",
     "output_type": "stream",
     "text": [
      "true Searching pred_h Searching pred_fnh Searching\n"
     ]
    },
    {
     "data": {
      "text/html": [
       "<table><tr><td><b>words</b></td><td style=\"background-color: rgb(255,255,255);\">find</td><td style=\"background-color: rgb(255,255,255);\">my</td><td style=\"background-color: rgb(255,255,255);\">tablet</td></tr><tr><td><b>lu</b></td><td style=\"background-color: rgb(0.0000, 255,0.0000);\">1.0000</td><td style=\"background-color: rgb(255.0000, 255,255.0000);\">0.0000</td><td style=\"background-color: rgb(255.0000, 255,255.0000);\">0.0000</td></tr><tr><td><b>h->h</b></td><td style=\"background-color: rgb(254.9912, 255,254.9912);\">0.0000</td><td style=\"background-color: rgb(240.7911, 255,240.7911);\">0.0557</td><td style=\"background-color: rgb(14.2186, 255,14.2186);\">0.9442</td></tr><tr><td><b>fn+h->h</b></td><td style=\"background-color: rgb(0.0000, 255,0.0000);\">1.0000</td><td style=\"background-color: rgb(255.0000, 255,255.0000);\">0.0000</td><td style=\"background-color: rgb(255.0000, 255,255.0000);\">0.0000</td></tr></table>"
      ],
      "text/plain": [
       "<IPython.core.display.HTML object>"
      ]
     },
     "metadata": {},
     "output_type": "display_data"
    },
    {
     "name": "stdout",
     "output_type": "stream",
     "text": [
      "true Searching pred_h Searching pred_fnh Searching\n"
     ]
    },
    {
     "data": {
      "text/html": [
       "<table><tr><td><b>words</b></td><td style=\"background-color: rgb(255,255,255);\">find</td><td style=\"background-color: rgb(255,255,255);\">the</td><td style=\"background-color: rgb(255,255,255);\">keys</td></tr><tr><td><b>lu</b></td><td style=\"background-color: rgb(0.0000, 255,0.0000);\">1.0000</td><td style=\"background-color: rgb(255.0000, 255,255.0000);\">0.0000</td><td style=\"background-color: rgb(255.0000, 255,255.0000);\">0.0000</td></tr><tr><td><b>h->h</b></td><td style=\"background-color: rgb(254.9917, 255,254.9917);\">0.0000</td><td style=\"background-color: rgb(224.8078, 255,224.8078);\">0.1184</td><td style=\"background-color: rgb(30.2021, 255,30.2021);\">0.8816</td></tr><tr><td><b>fn+h->h</b></td><td style=\"background-color: rgb(0.0000, 255,0.0000);\">1.0000</td><td style=\"background-color: rgb(255.0000, 255,255.0000);\">0.0000</td><td style=\"background-color: rgb(255.0000, 255,255.0000);\">0.0000</td></tr></table>"
      ],
      "text/plain": [
       "<IPython.core.display.HTML object>"
      ]
     },
     "metadata": {},
     "output_type": "display_data"
    },
    {
     "name": "stdout",
     "output_type": "stream",
     "text": [
      "true Searching pred_h Searching pred_fnh Searching\n"
     ]
    },
    {
     "data": {
      "text/html": [
       "<table><tr><td><b>words</b></td><td style=\"background-color: rgb(255,255,255);\">find</td><td style=\"background-color: rgb(255,255,255);\">the</td><td style=\"background-color: rgb(255,255,255);\">wallet</td></tr><tr><td><b>lu</b></td><td style=\"background-color: rgb(0.0000, 255,0.0000);\">1.0000</td><td style=\"background-color: rgb(255.0000, 255,255.0000);\">0.0000</td><td style=\"background-color: rgb(255.0000, 255,255.0000);\">0.0000</td></tr><tr><td><b>h->h</b></td><td style=\"background-color: rgb(254.9886, 255,254.9886);\">0.0000</td><td style=\"background-color: rgb(234.6377, 255,234.6377);\">0.0799</td><td style=\"background-color: rgb(20.3758, 255,20.3758);\">0.9201</td></tr><tr><td><b>fn+h->h</b></td><td style=\"background-color: rgb(0.0000, 255,0.0000);\">1.0000</td><td style=\"background-color: rgb(255.0000, 255,255.0000);\">0.0000</td><td style=\"background-color: rgb(255.0000, 255,255.0000);\">0.0000</td></tr></table>"
      ],
      "text/plain": [
       "<IPython.core.display.HTML object>"
      ]
     },
     "metadata": {},
     "output_type": "display_data"
    },
    {
     "name": "stdout",
     "output_type": "stream",
     "text": [
      "true Motion pred_h Motion pred_fnh Motion\n"
     ]
    },
    {
     "data": {
      "text/html": [
       "<table><tr><td><b>words</b></td><td style=\"background-color: rgb(255,255,255);\">go</td><td style=\"background-color: rgb(255,255,255);\">close</td><td style=\"background-color: rgb(255,255,255);\">to</td><td style=\"background-color: rgb(255,255,255);\">the</td><td style=\"background-color: rgb(255,255,255);\">window</td></tr><tr><td><b>lu</b></td><td style=\"background-color: rgb(0.0000, 255,0.0000);\">1.0000</td><td style=\"background-color: rgb(255.0000, 255,255.0000);\">0.0000</td><td style=\"background-color: rgb(255.0000, 255,255.0000);\">0.0000</td><td style=\"background-color: rgb(255.0000, 255,255.0000);\">0.0000</td><td style=\"background-color: rgb(255.0000, 255,255.0000);\">0.0000</td></tr><tr><td><b>h->h</b></td><td style=\"background-color: rgb(255.0000, 255,255.0000);\">0.0000</td><td style=\"background-color: rgb(254.7700, 255,254.7700);\">0.0009</td><td style=\"background-color: rgb(246.0113, 255,246.0113);\">0.0352</td><td style=\"background-color: rgb(116.6930, 255,116.6930);\">0.5424</td><td style=\"background-color: rgb(147.5263, 255,147.5263);\">0.4215</td></tr><tr><td><b>fn+h->h</b></td><td style=\"background-color: rgb(0.0306, 255,0.0306);\">0.9999</td><td style=\"background-color: rgb(254.9695, 255,254.9695);\">0.0001</td><td style=\"background-color: rgb(255.0000, 255,255.0000);\">0.0000</td><td style=\"background-color: rgb(255.0000, 255,255.0000);\">0.0000</td><td style=\"background-color: rgb(255.0000, 255,255.0000);\">0.0000</td></tr></table>"
      ],
      "text/plain": [
       "<IPython.core.display.HTML object>"
      ]
     },
     "metadata": {},
     "output_type": "display_data"
    },
    {
     "name": "stdout",
     "output_type": "stream",
     "text": [
      "true Motion pred_h Motion pred_fnh Motion\n"
     ]
    },
    {
     "data": {
      "text/html": [
       "<table><tr><td><b>words</b></td><td style=\"background-color: rgb(255,255,255);\">go</td><td style=\"background-color: rgb(255,255,255);\">in</td><td style=\"background-color: rgb(255,255,255);\">front</td><td style=\"background-color: rgb(255,255,255);\">of</td><td style=\"background-color: rgb(255,255,255);\">the</td><td style=\"background-color: rgb(255,255,255);\">poster</td></tr><tr><td><b>lu</b></td><td style=\"background-color: rgb(0.0000, 255,0.0000);\">1.0000</td><td style=\"background-color: rgb(255.0000, 255,255.0000);\">0.0000</td><td style=\"background-color: rgb(255.0000, 255,255.0000);\">0.0000</td><td style=\"background-color: rgb(255.0000, 255,255.0000);\">0.0000</td><td style=\"background-color: rgb(255.0000, 255,255.0000);\">0.0000</td><td style=\"background-color: rgb(255.0000, 255,255.0000);\">0.0000</td></tr><tr><td><b>h->h</b></td><td style=\"background-color: rgb(254.9997, 255,254.9997);\">0.0000</td><td style=\"background-color: rgb(250.8685, 255,250.8685);\">0.0162</td><td style=\"background-color: rgb(230.0136, 255,230.0136);\">0.0980</td><td style=\"background-color: rgb(186.7171, 255,186.7171);\">0.2678</td><td style=\"background-color: rgb(101.5573, 255,101.5573);\">0.6017</td><td style=\"background-color: rgb(250.8445, 255,250.8445);\">0.0163</td></tr><tr><td><b>fn+h->h</b></td><td style=\"background-color: rgb(0.0000, 255,0.0000);\">1.0000</td><td style=\"background-color: rgb(255.0000, 255,255.0000);\">0.0000</td><td style=\"background-color: rgb(255.0000, 255,255.0000);\">0.0000</td><td style=\"background-color: rgb(255.0000, 255,255.0000);\">0.0000</td><td style=\"background-color: rgb(255.0000, 255,255.0000);\">0.0000</td><td style=\"background-color: rgb(255.0000, 255,255.0000);\">0.0000</td></tr></table>"
      ],
      "text/plain": [
       "<IPython.core.display.HTML object>"
      ]
     },
     "metadata": {},
     "output_type": "display_data"
    },
    {
     "name": "stdout",
     "output_type": "stream",
     "text": [
      "true Searching pred_h Searching pred_fnh Searching\n"
     ]
    },
    {
     "data": {
      "text/html": [
       "<table><tr><td><b>words</b></td><td style=\"background-color: rgb(255,255,255);\">find</td><td style=\"background-color: rgb(255,255,255);\">the</td><td style=\"background-color: rgb(255,255,255);\">newspaper</td></tr><tr><td><b>lu</b></td><td style=\"background-color: rgb(0.0000, 255,0.0000);\">1.0000</td><td style=\"background-color: rgb(255.0000, 255,255.0000);\">0.0000</td><td style=\"background-color: rgb(255.0000, 255,255.0000);\">0.0000</td></tr><tr><td><b>h->h</b></td><td style=\"background-color: rgb(254.9926, 255,254.9926);\">0.0000</td><td style=\"background-color: rgb(221.8807, 255,221.8807);\">0.1299</td><td style=\"background-color: rgb(33.1283, 255,33.1283);\">0.8701</td></tr><tr><td><b>fn+h->h</b></td><td style=\"background-color: rgb(0.0000, 255,0.0000);\">1.0000</td><td style=\"background-color: rgb(255.0000, 255,255.0000);\">0.0000</td><td style=\"background-color: rgb(255.0000, 255,255.0000);\">0.0000</td></tr></table>"
      ],
      "text/plain": [
       "<IPython.core.display.HTML object>"
      ]
     },
     "metadata": {},
     "output_type": "display_data"
    },
    {
     "name": "stdout",
     "output_type": "stream",
     "text": [
      "true Motion pred_h Motion pred_fnh Motion\n"
     ]
    },
    {
     "data": {
      "text/html": [
       "<table><tr><td><b>words</b></td><td style=\"background-color: rgb(255,255,255);\">go</td><td style=\"background-color: rgb(255,255,255);\">in</td><td style=\"background-color: rgb(255,255,255);\">the</td><td style=\"background-color: rgb(255,255,255);\">bathroom</td></tr><tr><td><b>lu</b></td><td style=\"background-color: rgb(0.0000, 255,0.0000);\">1.0000</td><td style=\"background-color: rgb(255.0000, 255,255.0000);\">0.0000</td><td style=\"background-color: rgb(255.0000, 255,255.0000);\">0.0000</td><td style=\"background-color: rgb(255.0000, 255,255.0000);\">0.0000</td></tr><tr><td><b>h->h</b></td><td style=\"background-color: rgb(254.9995, 255,254.9995);\">0.0000</td><td style=\"background-color: rgb(234.3357, 255,234.3357);\">0.0810</td><td style=\"background-color: rgb(24.5708, 255,24.5708);\">0.9036</td><td style=\"background-color: rgb(251.0948, 255,251.0948);\">0.0153</td></tr><tr><td><b>fn+h->h</b></td><td style=\"background-color: rgb(0.0034, 255,0.0034);\">1.0000</td><td style=\"background-color: rgb(254.9966, 255,254.9966);\">0.0000</td><td style=\"background-color: rgb(255.0000, 255,255.0000);\">0.0000</td><td style=\"background-color: rgb(255.0000, 255,255.0000);\">0.0000</td></tr></table>"
      ],
      "text/plain": [
       "<IPython.core.display.HTML object>"
      ]
     },
     "metadata": {},
     "output_type": "display_data"
    },
    {
     "name": "stdout",
     "output_type": "stream",
     "text": [
      "true Motion pred_h Motion pred_fnh Motion\n"
     ]
    },
    {
     "data": {
      "text/html": [
       "<table><tr><td><b>words</b></td><td style=\"background-color: rgb(255,255,255);\">go</td><td style=\"background-color: rgb(255,255,255);\">in</td><td style=\"background-color: rgb(255,255,255);\">the</td><td style=\"background-color: rgb(255,255,255);\">dining</td><td style=\"background-color: rgb(255,255,255);\">room</td></tr><tr><td><b>lu</b></td><td style=\"background-color: rgb(0.0000, 255,0.0000);\">1.0000</td><td style=\"background-color: rgb(255.0000, 255,255.0000);\">0.0000</td><td style=\"background-color: rgb(255.0000, 255,255.0000);\">0.0000</td><td style=\"background-color: rgb(255.0000, 255,255.0000);\">0.0000</td><td style=\"background-color: rgb(255.0000, 255,255.0000);\">0.0000</td></tr><tr><td><b>h->h</b></td><td style=\"background-color: rgb(254.9998, 255,254.9998);\">0.0000</td><td style=\"background-color: rgb(248.9438, 255,248.9438);\">0.0237</td><td style=\"background-color: rgb(150.1422, 255,150.1422);\">0.4112</td><td style=\"background-color: rgb(112.1461, 255,112.1461);\">0.5602</td><td style=\"background-color: rgb(253.7688, 255,253.7688);\">0.0048</td></tr><tr><td><b>fn+h->h</b></td><td style=\"background-color: rgb(0.0007, 255,0.0007);\">1.0000</td><td style=\"background-color: rgb(254.9993, 255,254.9993);\">0.0000</td><td style=\"background-color: rgb(255.0000, 255,255.0000);\">0.0000</td><td style=\"background-color: rgb(255.0000, 255,255.0000);\">0.0000</td><td style=\"background-color: rgb(255.0000, 255,255.0000);\">0.0000</td></tr></table>"
      ],
      "text/plain": [
       "<IPython.core.display.HTML object>"
      ]
     },
     "metadata": {},
     "output_type": "display_data"
    },
    {
     "name": "stdout",
     "output_type": "stream",
     "text": [
      "true Taking pred_h Taking pred_fnh Taking\n"
     ]
    },
    {
     "data": {
      "text/html": [
       "<table><tr><td><b>words</b></td><td style=\"background-color: rgb(255,255,255);\">remove</td><td style=\"background-color: rgb(255,255,255);\">the</td><td style=\"background-color: rgb(255,255,255);\">tablecloth</td></tr><tr><td><b>lu</b></td><td style=\"background-color: rgb(0.0000, 255,0.0000);\">1.0000</td><td style=\"background-color: rgb(255.0000, 255,255.0000);\">0.0000</td><td style=\"background-color: rgb(255.0000, 255,255.0000);\">0.0000</td></tr><tr><td><b>h->h</b></td><td style=\"background-color: rgb(254.6393, 255,254.6393);\">0.0014</td><td style=\"background-color: rgb(3.3565, 255,3.3565);\">0.9868</td><td style=\"background-color: rgb(252.0385, 255,252.0385);\">0.0116</td></tr><tr><td><b>fn+h->h</b></td><td style=\"background-color: rgb(0.0881, 255,0.0881);\">0.9997</td><td style=\"background-color: rgb(254.9119, 255,254.9119);\">0.0003</td><td style=\"background-color: rgb(255.0000, 255,255.0000);\">0.0000</td></tr></table>"
      ],
      "text/plain": [
       "<IPython.core.display.HTML object>"
      ]
     },
     "metadata": {},
     "output_type": "display_data"
    },
    {
     "name": "stdout",
     "output_type": "stream",
     "text": [
      "true Motion pred_h Motion pred_fnh Motion\n"
     ]
    },
    {
     "data": {
      "text/html": [
       "<table><tr><td><b>words</b></td><td style=\"background-color: rgb(255,255,255);\">go</td><td style=\"background-color: rgb(255,255,255);\">in</td><td style=\"background-color: rgb(255,255,255);\">the</td><td style=\"background-color: rgb(255,255,255);\">kitchen</td></tr><tr><td><b>lu</b></td><td style=\"background-color: rgb(0.0000, 255,0.0000);\">1.0000</td><td style=\"background-color: rgb(255.0000, 255,255.0000);\">0.0000</td><td style=\"background-color: rgb(255.0000, 255,255.0000);\">0.0000</td><td style=\"background-color: rgb(255.0000, 255,255.0000);\">0.0000</td></tr><tr><td><b>h->h</b></td><td style=\"background-color: rgb(254.9996, 255,254.9996);\">0.0000</td><td style=\"background-color: rgb(234.9789, 255,234.9789);\">0.0785</td><td style=\"background-color: rgb(24.6225, 255,24.6225);\">0.9034</td><td style=\"background-color: rgb(250.3998, 255,250.3998);\">0.0180</td></tr><tr><td><b>fn+h->h</b></td><td style=\"background-color: rgb(0.0076, 255,0.0076);\">1.0000</td><td style=\"background-color: rgb(254.9924, 255,254.9924);\">0.0000</td><td style=\"background-color: rgb(255.0000, 255,255.0000);\">0.0000</td><td style=\"background-color: rgb(255.0000, 255,255.0000);\">0.0000</td></tr></table>"
      ],
      "text/plain": [
       "<IPython.core.display.HTML object>"
      ]
     },
     "metadata": {},
     "output_type": "display_data"
    },
    {
     "name": "stdout",
     "output_type": "stream",
     "text": [
      "true Motion pred_h Motion pred_fnh Motion\n"
     ]
    },
    {
     "data": {
      "text/html": [
       "<table><tr><td><b>words</b></td><td style=\"background-color: rgb(255,255,255);\">go</td><td style=\"background-color: rgb(255,255,255);\">near</td><td style=\"background-color: rgb(255,255,255);\">the</td><td style=\"background-color: rgb(255,255,255);\">lamp</td></tr><tr><td><b>lu</b></td><td style=\"background-color: rgb(0.0000, 255,0.0000);\">1.0000</td><td style=\"background-color: rgb(255.0000, 255,255.0000);\">0.0000</td><td style=\"background-color: rgb(255.0000, 255,255.0000);\">0.0000</td><td style=\"background-color: rgb(255.0000, 255,255.0000);\">0.0000</td></tr><tr><td><b>h->h</b></td><td style=\"background-color: rgb(254.9999, 255,254.9999);\">0.0000</td><td style=\"background-color: rgb(251.6976, 255,251.6976);\">0.0130</td><td style=\"background-color: rgb(77.9335, 255,77.9335);\">0.6944</td><td style=\"background-color: rgb(180.3697, 255,180.3697);\">0.2927</td></tr><tr><td><b>fn+h->h</b></td><td style=\"background-color: rgb(0.0029, 255,0.0029);\">1.0000</td><td style=\"background-color: rgb(254.9971, 255,254.9971);\">0.0000</td><td style=\"background-color: rgb(255.0000, 255,255.0000);\">0.0000</td><td style=\"background-color: rgb(255.0000, 255,255.0000);\">0.0000</td></tr></table>"
      ],
      "text/plain": [
       "<IPython.core.display.HTML object>"
      ]
     },
     "metadata": {},
     "output_type": "display_data"
    },
    {
     "name": "stdout",
     "output_type": "stream",
     "text": [
      "true Motion pred_h Motion pred_fnh Motion\n"
     ]
    },
    {
     "data": {
      "text/html": [
       "<table><tr><td><b>words</b></td><td style=\"background-color: rgb(255,255,255);\">go</td><td style=\"background-color: rgb(255,255,255);\">near</td><td style=\"background-color: rgb(255,255,255);\">the</td><td style=\"background-color: rgb(255,255,255);\">window</td></tr><tr><td><b>lu</b></td><td style=\"background-color: rgb(0.0000, 255,0.0000);\">1.0000</td><td style=\"background-color: rgb(255.0000, 255,255.0000);\">0.0000</td><td style=\"background-color: rgb(255.0000, 255,255.0000);\">0.0000</td><td style=\"background-color: rgb(255.0000, 255,255.0000);\">0.0000</td></tr><tr><td><b>h->h</b></td><td style=\"background-color: rgb(254.9999, 255,254.9999);\">0.0000</td><td style=\"background-color: rgb(251.4544, 255,251.4544);\">0.0139</td><td style=\"background-color: rgb(119.1022, 255,119.1022);\">0.5329</td><td style=\"background-color: rgb(139.4441, 255,139.4441);\">0.4532</td></tr><tr><td><b>fn+h->h</b></td><td style=\"background-color: rgb(0.0148, 255,0.0148);\">0.9999</td><td style=\"background-color: rgb(254.9852, 255,254.9852);\">0.0001</td><td style=\"background-color: rgb(255.0000, 255,255.0000);\">0.0000</td><td style=\"background-color: rgb(255.0000, 255,255.0000);\">0.0000</td></tr></table>"
      ],
      "text/plain": [
       "<IPython.core.display.HTML object>"
      ]
     },
     "metadata": {},
     "output_type": "display_data"
    },
    {
     "name": "stdout",
     "output_type": "stream",
     "text": [
      "true Motion pred_h Motion pred_fnh Motion\n"
     ]
    },
    {
     "data": {
      "text/html": [
       "<table><tr><td><b>words</b></td><td style=\"background-color: rgb(255,255,255);\">go</td><td style=\"background-color: rgb(255,255,255);\">next</td><td style=\"background-color: rgb(255,255,255);\">to</td><td style=\"background-color: rgb(255,255,255);\">the</td><td style=\"background-color: rgb(255,255,255);\">door</td></tr><tr><td><b>lu</b></td><td style=\"background-color: rgb(0.0000, 255,0.0000);\">1.0000</td><td style=\"background-color: rgb(255.0000, 255,255.0000);\">0.0000</td><td style=\"background-color: rgb(255.0000, 255,255.0000);\">0.0000</td><td style=\"background-color: rgb(255.0000, 255,255.0000);\">0.0000</td><td style=\"background-color: rgb(255.0000, 255,255.0000);\">0.0000</td></tr><tr><td><b>h->h</b></td><td style=\"background-color: rgb(255.0000, 255,255.0000);\">0.0000</td><td style=\"background-color: rgb(254.9370, 255,254.9370);\">0.0002</td><td style=\"background-color: rgb(240.3592, 255,240.3592);\">0.0574</td><td style=\"background-color: rgb(78.1679, 255,78.1679);\">0.6935</td><td style=\"background-color: rgb(191.5365, 255,191.5365);\">0.2489</td></tr><tr><td><b>fn+h->h</b></td><td style=\"background-color: rgb(9.9605, 255,9.9605);\">0.9609</td><td style=\"background-color: rgb(245.0404, 255,245.0404);\">0.0391</td><td style=\"background-color: rgb(254.9991, 255,254.9991);\">0.0000</td><td style=\"background-color: rgb(255.0000, 255,255.0000);\">0.0000</td><td style=\"background-color: rgb(255.0000, 255,255.0000);\">0.0000</td></tr></table>"
      ],
      "text/plain": [
       "<IPython.core.display.HTML object>"
      ]
     },
     "metadata": {},
     "output_type": "display_data"
    },
    {
     "name": "stdout",
     "output_type": "stream",
     "text": [
      "true Motion pred_h Motion pred_fnh Motion\n"
     ]
    },
    {
     "data": {
      "text/html": [
       "<table><tr><td><b>words</b></td><td style=\"background-color: rgb(255,255,255);\">go</td><td style=\"background-color: rgb(255,255,255);\">to</td><td style=\"background-color: rgb(255,255,255);\">the</td><td style=\"background-color: rgb(255,255,255);\">coffee</td><td style=\"background-color: rgb(255,255,255);\">machine</td></tr><tr><td><b>lu</b></td><td style=\"background-color: rgb(0.0000, 255,0.0000);\">1.0000</td><td style=\"background-color: rgb(255.0000, 255,255.0000);\">0.0000</td><td style=\"background-color: rgb(255.0000, 255,255.0000);\">0.0000</td><td style=\"background-color: rgb(255.0000, 255,255.0000);\">0.0000</td><td style=\"background-color: rgb(255.0000, 255,255.0000);\">0.0000</td></tr><tr><td><b>h->h</b></td><td style=\"background-color: rgb(254.9999, 255,254.9999);\">0.0000</td><td style=\"background-color: rgb(254.1183, 255,254.1183);\">0.0035</td><td style=\"background-color: rgb(223.7839, 255,223.7839);\">0.1224</td><td style=\"background-color: rgb(120.3631, 255,120.3631);\">0.5280</td><td style=\"background-color: rgb(166.7355, 255,166.7355);\">0.3461</td></tr><tr><td><b>fn+h->h</b></td><td style=\"background-color: rgb(0.0090, 255,0.0090);\">1.0000</td><td style=\"background-color: rgb(254.9910, 255,254.9910);\">0.0000</td><td style=\"background-color: rgb(255.0000, 255,255.0000);\">0.0000</td><td style=\"background-color: rgb(255.0000, 255,255.0000);\">0.0000</td><td style=\"background-color: rgb(255.0000, 255,255.0000);\">0.0000</td></tr></table>"
      ],
      "text/plain": [
       "<IPython.core.display.HTML object>"
      ]
     },
     "metadata": {},
     "output_type": "display_data"
    },
    {
     "name": "stdout",
     "output_type": "stream",
     "text": [
      "true Motion pred_h Motion pred_fnh Motion\n"
     ]
    },
    {
     "data": {
      "text/html": [
       "<table><tr><td><b>words</b></td><td style=\"background-color: rgb(255,255,255);\">go</td><td style=\"background-color: rgb(255,255,255);\">to</td><td style=\"background-color: rgb(255,255,255);\">the</td><td style=\"background-color: rgb(255,255,255);\">dining</td><td style=\"background-color: rgb(255,255,255);\">room</td></tr><tr><td><b>lu</b></td><td style=\"background-color: rgb(0.0000, 255,0.0000);\">1.0000</td><td style=\"background-color: rgb(255.0000, 255,255.0000);\">0.0000</td><td style=\"background-color: rgb(255.0000, 255,255.0000);\">0.0000</td><td style=\"background-color: rgb(255.0000, 255,255.0000);\">0.0000</td><td style=\"background-color: rgb(255.0000, 255,255.0000);\">0.0000</td></tr><tr><td><b>h->h</b></td><td style=\"background-color: rgb(254.9999, 255,254.9999);\">0.0000</td><td style=\"background-color: rgb(254.1775, 255,254.1775);\">0.0032</td><td style=\"background-color: rgb(178.5180, 255,178.5180);\">0.2999</td><td style=\"background-color: rgb(96.7164, 255,96.7164);\">0.6207</td><td style=\"background-color: rgb(235.5888, 255,235.5888);\">0.0761</td></tr><tr><td><b>fn+h->h</b></td><td style=\"background-color: rgb(0.0139, 255,0.0139);\">0.9999</td><td style=\"background-color: rgb(254.9862, 255,254.9862);\">0.0001</td><td style=\"background-color: rgb(255.0000, 255,255.0000);\">0.0000</td><td style=\"background-color: rgb(255.0000, 255,255.0000);\">0.0000</td><td style=\"background-color: rgb(255.0000, 255,255.0000);\">0.0000</td></tr></table>"
      ],
      "text/plain": [
       "<IPython.core.display.HTML object>"
      ]
     },
     "metadata": {},
     "output_type": "display_data"
    },
    {
     "name": "stdout",
     "output_type": "stream",
     "text": [
      "true Taking pred_h Taking pred_fnh Taking\n"
     ]
    },
    {
     "data": {
      "text/html": [
       "<table><tr><td><b>words</b></td><td style=\"background-color: rgb(255,255,255);\">take</td><td style=\"background-color: rgb(255,255,255);\">all</td><td style=\"background-color: rgb(255,255,255);\">the</td><td style=\"background-color: rgb(255,255,255);\">plates</td><td style=\"background-color: rgb(255,255,255);\">from</td><td style=\"background-color: rgb(255,255,255);\">the</td><td style=\"background-color: rgb(255,255,255);\">table</td></tr><tr><td><b>lu</b></td><td style=\"background-color: rgb(0.0000, 255,0.0000);\">1.0000</td><td style=\"background-color: rgb(255.0000, 255,255.0000);\">0.0000</td><td style=\"background-color: rgb(255.0000, 255,255.0000);\">0.0000</td><td style=\"background-color: rgb(255.0000, 255,255.0000);\">0.0000</td><td style=\"background-color: rgb(255.0000, 255,255.0000);\">0.0000</td><td style=\"background-color: rgb(255.0000, 255,255.0000);\">0.0000</td><td style=\"background-color: rgb(255.0000, 255,255.0000);\">0.0000</td></tr><tr><td><b>h->h</b></td><td style=\"background-color: rgb(254.9956, 255,254.9956);\">0.0000</td><td style=\"background-color: rgb(254.9271, 255,254.9271);\">0.0003</td><td style=\"background-color: rgb(254.2013, 255,254.2013);\">0.0031</td><td style=\"background-color: rgb(254.9993, 255,254.9993);\">0.0000</td><td style=\"background-color: rgb(253.4527, 255,253.4527);\">0.0061</td><td style=\"background-color: rgb(2.7780, 255,2.7780);\">0.9891</td><td style=\"background-color: rgb(254.6601, 255,254.6601);\">0.0013</td></tr><tr><td><b>fn+h->h</b></td><td style=\"background-color: rgb(0.1586, 255,0.1586);\">0.9994</td><td style=\"background-color: rgb(254.8414, 255,254.8414);\">0.0006</td><td style=\"background-color: rgb(255.0000, 255,255.0000);\">0.0000</td><td style=\"background-color: rgb(255.0000, 255,255.0000);\">0.0000</td><td style=\"background-color: rgb(255.0000, 255,255.0000);\">0.0000</td><td style=\"background-color: rgb(255.0000, 255,255.0000);\">0.0000</td><td style=\"background-color: rgb(255.0000, 255,255.0000);\">0.0000</td></tr></table>"
      ],
      "text/plain": [
       "<IPython.core.display.HTML object>"
      ]
     },
     "metadata": {},
     "output_type": "display_data"
    },
    {
     "name": "stdout",
     "output_type": "stream",
     "text": [
      "true Motion pred_h Motion pred_fnh Motion\n"
     ]
    },
    {
     "data": {
      "text/html": [
       "<table><tr><td><b>words</b></td><td style=\"background-color: rgb(255,255,255);\">go</td><td style=\"background-color: rgb(255,255,255);\">to</td><td style=\"background-color: rgb(255,255,255);\">the</td><td style=\"background-color: rgb(255,255,255);\">garden</td></tr><tr><td><b>lu</b></td><td style=\"background-color: rgb(0.0000, 255,0.0000);\">1.0000</td><td style=\"background-color: rgb(255.0000, 255,255.0000);\">0.0000</td><td style=\"background-color: rgb(255.0000, 255,255.0000);\">0.0000</td><td style=\"background-color: rgb(255.0000, 255,255.0000);\">0.0000</td></tr><tr><td><b>h->h</b></td><td style=\"background-color: rgb(254.9998, 255,254.9998);\">0.0000</td><td style=\"background-color: rgb(252.9362, 255,252.9362);\">0.0081</td><td style=\"background-color: rgb(69.4872, 255,69.4872);\">0.7275</td><td style=\"background-color: rgb(187.5776, 255,187.5776);\">0.2644</td></tr><tr><td><b>fn+h->h</b></td><td style=\"background-color: rgb(0.0131, 255,0.0131);\">0.9999</td><td style=\"background-color: rgb(254.9869, 255,254.9869);\">0.0001</td><td style=\"background-color: rgb(255.0000, 255,255.0000);\">0.0000</td><td style=\"background-color: rgb(255.0000, 255,255.0000);\">0.0000</td></tr></table>"
      ],
      "text/plain": [
       "<IPython.core.display.HTML object>"
      ]
     },
     "metadata": {},
     "output_type": "display_data"
    },
    {
     "name": "stdout",
     "output_type": "stream",
     "text": [
      "true Motion pred_h Motion pred_fnh Motion\n"
     ]
    },
    {
     "data": {
      "text/html": [
       "<table><tr><td><b>words</b></td><td style=\"background-color: rgb(255,255,255);\">go</td><td style=\"background-color: rgb(255,255,255);\">to</td><td style=\"background-color: rgb(255,255,255);\">the</td><td style=\"background-color: rgb(255,255,255);\">right</td><td style=\"background-color: rgb(255,255,255);\">of</td><td style=\"background-color: rgb(255,255,255);\">the</td><td style=\"background-color: rgb(255,255,255);\">sofa</td></tr><tr><td><b>lu</b></td><td style=\"background-color: rgb(0.0000, 255,0.0000);\">1.0000</td><td style=\"background-color: rgb(255.0000, 255,255.0000);\">0.0000</td><td style=\"background-color: rgb(255.0000, 255,255.0000);\">0.0000</td><td style=\"background-color: rgb(255.0000, 255,255.0000);\">0.0000</td><td style=\"background-color: rgb(255.0000, 255,255.0000);\">0.0000</td><td style=\"background-color: rgb(255.0000, 255,255.0000);\">0.0000</td><td style=\"background-color: rgb(255.0000, 255,255.0000);\">0.0000</td></tr><tr><td><b>h->h</b></td><td style=\"background-color: rgb(255.0000, 255,255.0000);\">0.0000</td><td style=\"background-color: rgb(254.7426, 255,254.7426);\">0.0010</td><td style=\"background-color: rgb(251.4351, 255,251.4351);\">0.0140</td><td style=\"background-color: rgb(251.9855, 255,251.9855);\">0.0118</td><td style=\"background-color: rgb(177.6608, 255,177.6608);\">0.3033</td><td style=\"background-color: rgb(104.1181, 255,104.1181);\">0.5917</td><td style=\"background-color: rgb(235.0586, 255,235.0586);\">0.0782</td></tr><tr><td><b>fn+h->h</b></td><td style=\"background-color: rgb(0.0006, 255,0.0006);\">1.0000</td><td style=\"background-color: rgb(254.9994, 255,254.9994);\">0.0000</td><td style=\"background-color: rgb(255.0000, 255,255.0000);\">0.0000</td><td style=\"background-color: rgb(255.0000, 255,255.0000);\">0.0000</td><td style=\"background-color: rgb(255.0000, 255,255.0000);\">0.0000</td><td style=\"background-color: rgb(255.0000, 255,255.0000);\">0.0000</td><td style=\"background-color: rgb(255.0000, 255,255.0000);\">0.0000</td></tr></table>"
      ],
      "text/plain": [
       "<IPython.core.display.HTML object>"
      ]
     },
     "metadata": {},
     "output_type": "display_data"
    },
    {
     "name": "stdout",
     "output_type": "stream",
     "text": [
      "true Taking pred_h Taking pred_fnh Taking\n"
     ]
    },
    {
     "data": {
      "text/html": [
       "<table><tr><td><b>words</b></td><td style=\"background-color: rgb(255,255,255);\">grab</td><td style=\"background-color: rgb(255,255,255);\">the</td><td style=\"background-color: rgb(255,255,255);\">beer</td><td style=\"background-color: rgb(255,255,255);\">pack</td><td style=\"background-color: rgb(255,255,255);\">near</td><td style=\"background-color: rgb(255,255,255);\">the</td><td style=\"background-color: rgb(255,255,255);\">kitchen</td><td style=\"background-color: rgb(255,255,255);\">door</td></tr><tr><td><b>lu</b></td><td style=\"background-color: rgb(0.0000, 255,0.0000);\">1.0000</td><td style=\"background-color: rgb(255.0000, 255,255.0000);\">0.0000</td><td style=\"background-color: rgb(255.0000, 255,255.0000);\">0.0000</td><td style=\"background-color: rgb(255.0000, 255,255.0000);\">0.0000</td><td style=\"background-color: rgb(255.0000, 255,255.0000);\">0.0000</td><td style=\"background-color: rgb(255.0000, 255,255.0000);\">0.0000</td><td style=\"background-color: rgb(255.0000, 255,255.0000);\">0.0000</td><td style=\"background-color: rgb(255.0000, 255,255.0000);\">0.0000</td></tr><tr><td><b>h->h</b></td><td style=\"background-color: rgb(254.9791, 255,254.9791);\">0.0001</td><td style=\"background-color: rgb(254.5016, 255,254.5016);\">0.0020</td><td style=\"background-color: rgb(254.9683, 255,254.9683);\">0.0001</td><td style=\"background-color: rgb(254.9989, 255,254.9989);\">0.0000</td><td style=\"background-color: rgb(254.6318, 255,254.6318);\">0.0014</td><td style=\"background-color: rgb(90.4084, 255,90.4084);\">0.6455</td><td style=\"background-color: rgb(166.9315, 255,166.9315);\">0.3454</td><td style=\"background-color: rgb(253.5889, 255,253.5889);\">0.0055</td></tr><tr><td><b>fn+h->h</b></td><td style=\"background-color: rgb(0.0000, 255,0.0000);\">1.0000</td><td style=\"background-color: rgb(255.0000, 255,255.0000);\">0.0000</td><td style=\"background-color: rgb(255.0000, 255,255.0000);\">0.0000</td><td style=\"background-color: rgb(255.0000, 255,255.0000);\">0.0000</td><td style=\"background-color: rgb(255.0000, 255,255.0000);\">0.0000</td><td style=\"background-color: rgb(255.0000, 255,255.0000);\">0.0000</td><td style=\"background-color: rgb(255.0000, 255,255.0000);\">0.0000</td><td style=\"background-color: rgb(255.0000, 255,255.0000);\">0.0000</td></tr></table>"
      ],
      "text/plain": [
       "<IPython.core.display.HTML object>"
      ]
     },
     "metadata": {},
     "output_type": "display_data"
    },
    {
     "name": "stdout",
     "output_type": "stream",
     "text": [
      "true Taking pred_h Taking pred_fnh Taking\n"
     ]
    },
    {
     "data": {
      "text/html": [
       "<table><tr><td><b>words</b></td><td style=\"background-color: rgb(255,255,255);\">grab</td><td style=\"background-color: rgb(255,255,255);\">the</td><td style=\"background-color: rgb(255,255,255);\">book</td><td style=\"background-color: rgb(255,255,255);\">with</td><td style=\"background-color: rgb(255,255,255);\">the</td><td style=\"background-color: rgb(255,255,255);\">blue</td><td style=\"background-color: rgb(255,255,255);\">cover</td></tr><tr><td><b>lu</b></td><td style=\"background-color: rgb(0.0000, 255,0.0000);\">1.0000</td><td style=\"background-color: rgb(255.0000, 255,255.0000);\">0.0000</td><td style=\"background-color: rgb(255.0000, 255,255.0000);\">0.0000</td><td style=\"background-color: rgb(255.0000, 255,255.0000);\">0.0000</td><td style=\"background-color: rgb(255.0000, 255,255.0000);\">0.0000</td><td style=\"background-color: rgb(255.0000, 255,255.0000);\">0.0000</td><td style=\"background-color: rgb(255.0000, 255,255.0000);\">0.0000</td></tr><tr><td><b>h->h</b></td><td style=\"background-color: rgb(252.6619, 255,252.6619);\">0.0092</td><td style=\"background-color: rgb(188.0488, 255,188.0488);\">0.2626</td><td style=\"background-color: rgb(252.8773, 255,252.8773);\">0.0083</td><td style=\"background-color: rgb(250.1211, 255,250.1211);\">0.0191</td><td style=\"background-color: rgb(236.9110, 255,236.9110);\">0.0709</td><td style=\"background-color: rgb(108.5305, 255,108.5305);\">0.5744</td><td style=\"background-color: rgb(241.2408, 255,241.2408);\">0.0540</td></tr><tr><td><b>fn+h->h</b></td><td style=\"background-color: rgb(0.0000, 255,0.0000);\">1.0000</td><td style=\"background-color: rgb(255.0000, 255,255.0000);\">0.0000</td><td style=\"background-color: rgb(255.0000, 255,255.0000);\">0.0000</td><td style=\"background-color: rgb(255.0000, 255,255.0000);\">0.0000</td><td style=\"background-color: rgb(255.0000, 255,255.0000);\">0.0000</td><td style=\"background-color: rgb(255.0000, 255,255.0000);\">0.0000</td><td style=\"background-color: rgb(255.0000, 255,255.0000);\">0.0000</td></tr></table>"
      ],
      "text/plain": [
       "<IPython.core.display.HTML object>"
      ]
     },
     "metadata": {},
     "output_type": "display_data"
    },
    {
     "name": "stdout",
     "output_type": "stream",
     "text": [
      "true Taking pred_h Taking pred_fnh Taking\n"
     ]
    },
    {
     "data": {
      "text/html": [
       "<table><tr><td><b>words</b></td><td style=\"background-color: rgb(255,255,255);\">grab</td><td style=\"background-color: rgb(255,255,255);\">the</td><td style=\"background-color: rgb(255,255,255);\">cake</td><td style=\"background-color: rgb(255,255,255);\">plate</td></tr><tr><td><b>lu</b></td><td style=\"background-color: rgb(0.0000, 255,0.0000);\">1.0000</td><td style=\"background-color: rgb(255.0000, 255,255.0000);\">0.0000</td><td style=\"background-color: rgb(255.0000, 255,255.0000);\">0.0000</td><td style=\"background-color: rgb(255.0000, 255,255.0000);\">0.0000</td></tr><tr><td><b>h->h</b></td><td style=\"background-color: rgb(254.6947, 255,254.6947);\">0.0012</td><td style=\"background-color: rgb(152.1466, 255,152.1466);\">0.4033</td><td style=\"background-color: rgb(107.9141, 255,107.9141);\">0.5768</td><td style=\"background-color: rgb(250.2914, 255,250.2914);\">0.0185</td></tr><tr><td><b>fn+h->h</b></td><td style=\"background-color: rgb(0.0000, 255,0.0000);\">1.0000</td><td style=\"background-color: rgb(255.0000, 255,255.0000);\">0.0000</td><td style=\"background-color: rgb(255.0000, 255,255.0000);\">0.0000</td><td style=\"background-color: rgb(255.0000, 255,255.0000);\">0.0000</td></tr></table>"
      ],
      "text/plain": [
       "<IPython.core.display.HTML object>"
      ]
     },
     "metadata": {},
     "output_type": "display_data"
    },
    {
     "name": "stdout",
     "output_type": "stream",
     "text": [
      "true Taking pred_h Taking pred_fnh Taking\n"
     ]
    },
    {
     "data": {
      "text/html": [
       "<table><tr><td><b>words</b></td><td style=\"background-color: rgb(255,255,255);\">grab</td><td style=\"background-color: rgb(255,255,255);\">the</td><td style=\"background-color: rgb(255,255,255);\">key</td><td style=\"background-color: rgb(255,255,255);\">lanyard</td></tr><tr><td><b>lu</b></td><td style=\"background-color: rgb(0.0000, 255,0.0000);\">1.0000</td><td style=\"background-color: rgb(255.0000, 255,255.0000);\">0.0000</td><td style=\"background-color: rgb(255.0000, 255,255.0000);\">0.0000</td><td style=\"background-color: rgb(255.0000, 255,255.0000);\">0.0000</td></tr><tr><td><b>h->h</b></td><td style=\"background-color: rgb(254.8676, 255,254.8676);\">0.0005</td><td style=\"background-color: rgb(214.1897, 255,214.1897);\">0.1600</td><td style=\"background-color: rgb(45.2236, 255,45.2236);\">0.8227</td><td style=\"background-color: rgb(250.7472, 255,250.7472);\">0.0167</td></tr><tr><td><b>fn+h->h</b></td><td style=\"background-color: rgb(0.0000, 255,0.0000);\">1.0000</td><td style=\"background-color: rgb(255.0000, 255,255.0000);\">0.0000</td><td style=\"background-color: rgb(255.0000, 255,255.0000);\">0.0000</td><td style=\"background-color: rgb(255.0000, 255,255.0000);\">0.0000</td></tr></table>"
      ],
      "text/plain": [
       "<IPython.core.display.HTML object>"
      ]
     },
     "metadata": {},
     "output_type": "display_data"
    },
    {
     "name": "stdout",
     "output_type": "stream",
     "text": [
      "true Taking pred_h Taking pred_fnh Taking\n"
     ]
    },
    {
     "data": {
      "text/html": [
       "<table><tr><td><b>words</b></td><td style=\"background-color: rgb(255,255,255);\">grab</td><td style=\"background-color: rgb(255,255,255);\">this</td><td style=\"background-color: rgb(255,255,255);\">mug</td></tr><tr><td><b>lu</b></td><td style=\"background-color: rgb(0.0000, 255,0.0000);\">1.0000</td><td style=\"background-color: rgb(255.0000, 255,255.0000);\">0.0000</td><td style=\"background-color: rgb(255.0000, 255,255.0000);\">0.0000</td></tr><tr><td><b>h->h</b></td><td style=\"background-color: rgb(254.6481, 255,254.6481);\">0.0014</td><td style=\"background-color: rgb(1.4395, 255,1.4395);\">0.9944</td><td style=\"background-color: rgb(253.9732, 255,253.9732);\">0.0040</td></tr><tr><td><b>fn+h->h</b></td><td style=\"background-color: rgb(0.0012, 255,0.0012);\">1.0000</td><td style=\"background-color: rgb(254.9988, 255,254.9988);\">0.0000</td><td style=\"background-color: rgb(255.0000, 255,255.0000);\">0.0000</td></tr></table>"
      ],
      "text/plain": [
       "<IPython.core.display.HTML object>"
      ]
     },
     "metadata": {},
     "output_type": "display_data"
    },
    {
     "name": "stdout",
     "output_type": "stream",
     "text": [
      "true Searching pred_h Searching pred_fnh Searching\n"
     ]
    },
    {
     "data": {
      "text/html": [
       "<table><tr><td><b>words</b></td><td style=\"background-color: rgb(255,255,255);\">i</td><td style=\"background-color: rgb(255,255,255);\">need</td><td style=\"background-color: rgb(255,255,255);\">my</td><td style=\"background-color: rgb(255,255,255);\">watch</td><td style=\"background-color: rgb(255,255,255);\">find</td><td style=\"background-color: rgb(255,255,255);\">it</td></tr><tr><td><b>lu</b></td><td style=\"background-color: rgb(255.0000, 255,255.0000);\">0.0000</td><td style=\"background-color: rgb(255.0000, 255,255.0000);\">0.0000</td><td style=\"background-color: rgb(255.0000, 255,255.0000);\">0.0000</td><td style=\"background-color: rgb(255.0000, 255,255.0000);\">0.0000</td><td style=\"background-color: rgb(0.0000, 255,0.0000);\">1.0000</td><td style=\"background-color: rgb(255.0000, 255,255.0000);\">0.0000</td></tr><tr><td><b>h->h</b></td><td style=\"background-color: rgb(255.0000, 255,255.0000);\">0.0000</td><td style=\"background-color: rgb(255.0000, 255,255.0000);\">0.0000</td><td style=\"background-color: rgb(254.9999, 255,254.9999);\">0.0000</td><td style=\"background-color: rgb(255.0000, 255,255.0000);\">0.0000</td><td style=\"background-color: rgb(254.5061, 255,254.5061);\">0.0019</td><td style=\"background-color: rgb(0.5016, 255,0.5016);\">0.9980</td></tr><tr><td><b>fn+h->h</b></td><td style=\"background-color: rgb(255.0000, 255,255.0000);\">0.0000</td><td style=\"background-color: rgb(255.0000, 255,255.0000);\">0.0000</td><td style=\"background-color: rgb(255.0000, 255,255.0000);\">0.0000</td><td style=\"background-color: rgb(254.9998, 255,254.9998);\">0.0000</td><td style=\"background-color: rgb(0.0002, 255,0.0002);\">1.0000</td><td style=\"background-color: rgb(255.0000, 255,255.0000);\">0.0000</td></tr></table>"
      ],
      "text/plain": [
       "<IPython.core.display.HTML object>"
      ]
     },
     "metadata": {},
     "output_type": "display_data"
    },
    {
     "name": "stdout",
     "output_type": "stream",
     "text": [
      "true Bringing pred_h Bringing pred_fnh Bringing\n"
     ]
    },
    {
     "data": {
      "text/html": [
       "<table><tr><td><b>words</b></td><td style=\"background-color: rgb(255,255,255);\">i</td><td style=\"background-color: rgb(255,255,255);\">really</td><td style=\"background-color: rgb(255,255,255);\">need</td><td style=\"background-color: rgb(255,255,255);\">you</td><td style=\"background-color: rgb(255,255,255);\">to</td><td style=\"background-color: rgb(255,255,255);\">bring</td><td style=\"background-color: rgb(255,255,255);\">me</td><td style=\"background-color: rgb(255,255,255);\">my</td><td style=\"background-color: rgb(255,255,255);\">aspirin</td></tr><tr><td><b>lu</b></td><td style=\"background-color: rgb(255.0000, 255,255.0000);\">0.0000</td><td style=\"background-color: rgb(255.0000, 255,255.0000);\">0.0000</td><td style=\"background-color: rgb(255.0000, 255,255.0000);\">0.0000</td><td style=\"background-color: rgb(255.0000, 255,255.0000);\">0.0000</td><td style=\"background-color: rgb(255.0000, 255,255.0000);\">0.0000</td><td style=\"background-color: rgb(0.0000, 255,0.0000);\">1.0000</td><td style=\"background-color: rgb(255.0000, 255,255.0000);\">0.0000</td><td style=\"background-color: rgb(255.0000, 255,255.0000);\">0.0000</td><td style=\"background-color: rgb(255.0000, 255,255.0000);\">0.0000</td></tr><tr><td><b>h->h</b></td><td style=\"background-color: rgb(255.0000, 255,255.0000);\">0.0000</td><td style=\"background-color: rgb(255.0000, 255,255.0000);\">0.0000</td><td style=\"background-color: rgb(255.0000, 255,255.0000);\">0.0000</td><td style=\"background-color: rgb(255.0000, 255,255.0000);\">0.0000</td><td style=\"background-color: rgb(255.0000, 255,255.0000);\">0.0000</td><td style=\"background-color: rgb(254.9840, 255,254.9840);\">0.0001</td><td style=\"background-color: rgb(254.6695, 255,254.6695);\">0.0013</td><td style=\"background-color: rgb(236.3115, 255,236.3115);\">0.0733</td><td style=\"background-color: rgb(19.0451, 255,19.0451);\">0.9253</td></tr><tr><td><b>fn+h->h</b></td><td style=\"background-color: rgb(255.0000, 255,255.0000);\">0.0000</td><td style=\"background-color: rgb(255.0000, 255,255.0000);\">0.0000</td><td style=\"background-color: rgb(255.0000, 255,255.0000);\">0.0000</td><td style=\"background-color: rgb(255.0000, 255,255.0000);\">0.0000</td><td style=\"background-color: rgb(255.0000, 255,255.0000);\">0.0000</td><td style=\"background-color: rgb(17.5816, 255,17.5816);\">0.9311</td><td style=\"background-color: rgb(237.4185, 255,237.4185);\">0.0689</td><td style=\"background-color: rgb(254.9999, 255,254.9999);\">0.0000</td><td style=\"background-color: rgb(255.0000, 255,255.0000);\">0.0000</td></tr></table>"
      ],
      "text/plain": [
       "<IPython.core.display.HTML object>"
      ]
     },
     "metadata": {},
     "output_type": "display_data"
    },
    {
     "name": "stdout",
     "output_type": "stream",
     "text": [
      "true Bringing pred_h Bringing pred_fnh Bringing\n"
     ]
    },
    {
     "data": {
      "text/html": [
       "<table><tr><td><b>words</b></td><td style=\"background-color: rgb(255,255,255);\">i</td><td style=\"background-color: rgb(255,255,255);\">want</td><td style=\"background-color: rgb(255,255,255);\">some</td><td style=\"background-color: rgb(255,255,255);\">fruit</td><td style=\"background-color: rgb(255,255,255);\">bring</td><td style=\"background-color: rgb(255,255,255);\">me</td><td style=\"background-color: rgb(255,255,255);\">an</td><td style=\"background-color: rgb(255,255,255);\">apple</td><td style=\"background-color: rgb(255,255,255);\">or</td><td style=\"background-color: rgb(255,255,255);\">an</td><td style=\"background-color: rgb(255,255,255);\">orange</td></tr><tr><td><b>lu</b></td><td style=\"background-color: rgb(255.0000, 255,255.0000);\">0.0000</td><td style=\"background-color: rgb(255.0000, 255,255.0000);\">0.0000</td><td style=\"background-color: rgb(255.0000, 255,255.0000);\">0.0000</td><td style=\"background-color: rgb(255.0000, 255,255.0000);\">0.0000</td><td style=\"background-color: rgb(0.0000, 255,0.0000);\">1.0000</td><td style=\"background-color: rgb(255.0000, 255,255.0000);\">0.0000</td><td style=\"background-color: rgb(255.0000, 255,255.0000);\">0.0000</td><td style=\"background-color: rgb(255.0000, 255,255.0000);\">0.0000</td><td style=\"background-color: rgb(255.0000, 255,255.0000);\">0.0000</td><td style=\"background-color: rgb(255.0000, 255,255.0000);\">0.0000</td><td style=\"background-color: rgb(255.0000, 255,255.0000);\">0.0000</td></tr><tr><td><b>h->h</b></td><td style=\"background-color: rgb(255.0000, 255,255.0000);\">0.0000</td><td style=\"background-color: rgb(255.0000, 255,255.0000);\">0.0000</td><td style=\"background-color: rgb(255.0000, 255,255.0000);\">0.0000</td><td style=\"background-color: rgb(255.0000, 255,255.0000);\">0.0000</td><td style=\"background-color: rgb(255.0000, 255,255.0000);\">0.0000</td><td style=\"background-color: rgb(254.9882, 255,254.9882);\">0.0000</td><td style=\"background-color: rgb(254.4664, 255,254.4664);\">0.0021</td><td style=\"background-color: rgb(254.5261, 255,254.5261);\">0.0019</td><td style=\"background-color: rgb(254.5505, 255,254.5505);\">0.0018</td><td style=\"background-color: rgb(246.1978, 255,246.1978);\">0.0345</td><td style=\"background-color: rgb(10.2759, 255,10.2759);\">0.9597</td></tr><tr><td><b>fn+h->h</b></td><td style=\"background-color: rgb(255.0000, 255,255.0000);\">0.0000</td><td style=\"background-color: rgb(255.0000, 255,255.0000);\">0.0000</td><td style=\"background-color: rgb(255.0000, 255,255.0000);\">0.0000</td><td style=\"background-color: rgb(255.0000, 255,255.0000);\">0.0000</td><td style=\"background-color: rgb(29.5818, 255,29.5818);\">0.8840</td><td style=\"background-color: rgb(225.4182, 255,225.4182);\">0.1160</td><td style=\"background-color: rgb(255.0000, 255,255.0000);\">0.0000</td><td style=\"background-color: rgb(255.0000, 255,255.0000);\">0.0000</td><td style=\"background-color: rgb(255.0000, 255,255.0000);\">0.0000</td><td style=\"background-color: rgb(255.0000, 255,255.0000);\">0.0000</td><td style=\"background-color: rgb(255.0000, 255,255.0000);\">0.0000</td></tr></table>"
      ],
      "text/plain": [
       "<IPython.core.display.HTML object>"
      ]
     },
     "metadata": {},
     "output_type": "display_data"
    },
    {
     "name": "stdout",
     "output_type": "stream",
     "text": [
      "true Taking pred_h Taking pred_fnh Taking\n"
     ]
    },
    {
     "data": {
      "text/html": [
       "<table><tr><td><b>words</b></td><td style=\"background-color: rgb(255,255,255);\">i</td><td style=\"background-color: rgb(255,255,255);\">would</td><td style=\"background-color: rgb(255,255,255);\">like</td><td style=\"background-color: rgb(255,255,255);\">some</td><td style=\"background-color: rgb(255,255,255);\">beer</td><td style=\"background-color: rgb(255,255,255);\">can</td><td style=\"background-color: rgb(255,255,255);\">you</td><td style=\"background-color: rgb(255,255,255);\">grab</td><td style=\"background-color: rgb(255,255,255);\">one</td><td style=\"background-color: rgb(255,255,255);\">from</td><td style=\"background-color: rgb(255,255,255);\">the</td><td style=\"background-color: rgb(255,255,255);\">fridge</td></tr><tr><td><b>lu</b></td><td style=\"background-color: rgb(255.0000, 255,255.0000);\">0.0000</td><td style=\"background-color: rgb(255.0000, 255,255.0000);\">0.0000</td><td style=\"background-color: rgb(255.0000, 255,255.0000);\">0.0000</td><td style=\"background-color: rgb(255.0000, 255,255.0000);\">0.0000</td><td style=\"background-color: rgb(255.0000, 255,255.0000);\">0.0000</td><td style=\"background-color: rgb(255.0000, 255,255.0000);\">0.0000</td><td style=\"background-color: rgb(255.0000, 255,255.0000);\">0.0000</td><td style=\"background-color: rgb(0.0000, 255,0.0000);\">1.0000</td><td style=\"background-color: rgb(255.0000, 255,255.0000);\">0.0000</td><td style=\"background-color: rgb(255.0000, 255,255.0000);\">0.0000</td><td style=\"background-color: rgb(255.0000, 255,255.0000);\">0.0000</td><td style=\"background-color: rgb(255.0000, 255,255.0000);\">0.0000</td></tr><tr><td><b>h->h</b></td><td style=\"background-color: rgb(255.0000, 255,255.0000);\">0.0000</td><td style=\"background-color: rgb(255.0000, 255,255.0000);\">0.0000</td><td style=\"background-color: rgb(255.0000, 255,255.0000);\">0.0000</td><td style=\"background-color: rgb(255.0000, 255,255.0000);\">0.0000</td><td style=\"background-color: rgb(255.0000, 255,255.0000);\">0.0000</td><td style=\"background-color: rgb(255.0000, 255,255.0000);\">0.0000</td><td style=\"background-color: rgb(255.0000, 255,255.0000);\">0.0000</td><td style=\"background-color: rgb(254.9866, 255,254.9866);\">0.0001</td><td style=\"background-color: rgb(254.8661, 255,254.8661);\">0.0005</td><td style=\"background-color: rgb(240.6676, 255,240.6676);\">0.0562</td><td style=\"background-color: rgb(14.8929, 255,14.8929);\">0.9416</td><td style=\"background-color: rgb(254.5889, 255,254.5889);\">0.0016</td></tr><tr><td><b>fn+h->h</b></td><td style=\"background-color: rgb(255.0000, 255,255.0000);\">0.0000</td><td style=\"background-color: rgb(255.0000, 255,255.0000);\">0.0000</td><td style=\"background-color: rgb(255.0000, 255,255.0000);\">0.0000</td><td style=\"background-color: rgb(255.0000, 255,255.0000);\">0.0000</td><td style=\"background-color: rgb(255.0000, 255,255.0000);\">0.0000</td><td style=\"background-color: rgb(255.0000, 255,255.0000);\">0.0000</td><td style=\"background-color: rgb(255.0000, 255,255.0000);\">0.0000</td><td style=\"background-color: rgb(0.0001, 255,0.0001);\">1.0000</td><td style=\"background-color: rgb(254.9999, 255,254.9999);\">0.0000</td><td style=\"background-color: rgb(255.0000, 255,255.0000);\">0.0000</td><td style=\"background-color: rgb(255.0000, 255,255.0000);\">0.0000</td><td style=\"background-color: rgb(255.0000, 255,255.0000);\">0.0000</td></tr></table>"
      ],
      "text/plain": [
       "<IPython.core.display.HTML object>"
      ]
     },
     "metadata": {},
     "output_type": "display_data"
    },
    {
     "name": "stdout",
     "output_type": "stream",
     "text": [
      "true Searching pred_h Searching pred_fnh Searching\n"
     ]
    },
    {
     "data": {
      "text/html": [
       "<table><tr><td><b>words</b></td><td style=\"background-color: rgb(255,255,255);\">look</td><td style=\"background-color: rgb(255,255,255);\">for</td><td style=\"background-color: rgb(255,255,255);\">a</td><td style=\"background-color: rgb(255,255,255);\">blue</td><td style=\"background-color: rgb(255,255,255);\">book</td><td style=\"background-color: rgb(255,255,255);\">in</td><td style=\"background-color: rgb(255,255,255);\">the</td><td style=\"background-color: rgb(255,255,255);\">lounge</td></tr><tr><td><b>lu</b></td><td style=\"background-color: rgb(0.0000, 255,0.0000);\">1.0000</td><td style=\"background-color: rgb(255.0000, 255,255.0000);\">0.0000</td><td style=\"background-color: rgb(255.0000, 255,255.0000);\">0.0000</td><td style=\"background-color: rgb(255.0000, 255,255.0000);\">0.0000</td><td style=\"background-color: rgb(255.0000, 255,255.0000);\">0.0000</td><td style=\"background-color: rgb(255.0000, 255,255.0000);\">0.0000</td><td style=\"background-color: rgb(255.0000, 255,255.0000);\">0.0000</td><td style=\"background-color: rgb(255.0000, 255,255.0000);\">0.0000</td></tr><tr><td><b>h->h</b></td><td style=\"background-color: rgb(254.9994, 255,254.9994);\">0.0000</td><td style=\"background-color: rgb(254.9904, 255,254.9904);\">0.0000</td><td style=\"background-color: rgb(254.8594, 255,254.8594);\">0.0006</td><td style=\"background-color: rgb(254.9570, 255,254.9570);\">0.0002</td><td style=\"background-color: rgb(254.9726, 255,254.9726);\">0.0001</td><td style=\"background-color: rgb(238.8734, 255,238.8734);\">0.0632</td><td style=\"background-color: rgb(125.9722, 255,125.9722);\">0.5060</td><td style=\"background-color: rgb(145.3761, 255,145.3761);\">0.4299</td></tr><tr><td><b>fn+h->h</b></td><td style=\"background-color: rgb(0.0005, 255,0.0005);\">1.0000</td><td style=\"background-color: rgb(255.0000, 255,255.0000);\">0.0000</td><td style=\"background-color: rgb(255.0000, 255,255.0000);\">0.0000</td><td style=\"background-color: rgb(255.0000, 255,255.0000);\">0.0000</td><td style=\"background-color: rgb(255.0000, 255,255.0000);\">0.0000</td><td style=\"background-color: rgb(254.9995, 255,254.9995);\">0.0000</td><td style=\"background-color: rgb(255.0000, 255,255.0000);\">0.0000</td><td style=\"background-color: rgb(255.0000, 255,255.0000);\">0.0000</td></tr></table>"
      ],
      "text/plain": [
       "<IPython.core.display.HTML object>"
      ]
     },
     "metadata": {},
     "output_type": "display_data"
    },
    {
     "name": "stdout",
     "output_type": "stream",
     "text": [
      "true Searching pred_h Searching pred_fnh Searching\n"
     ]
    },
    {
     "data": {
      "text/html": [
       "<table><tr><td><b>words</b></td><td style=\"background-color: rgb(255,255,255);\">look</td><td style=\"background-color: rgb(255,255,255);\">for</td><td style=\"background-color: rgb(255,255,255);\">my</td><td style=\"background-color: rgb(255,255,255);\">mobile</td><td style=\"background-color: rgb(255,255,255);\">phone</td></tr><tr><td><b>lu</b></td><td style=\"background-color: rgb(0.0000, 255,0.0000);\">1.0000</td><td style=\"background-color: rgb(255.0000, 255,255.0000);\">0.0000</td><td style=\"background-color: rgb(255.0000, 255,255.0000);\">0.0000</td><td style=\"background-color: rgb(255.0000, 255,255.0000);\">0.0000</td><td style=\"background-color: rgb(255.0000, 255,255.0000);\">0.0000</td></tr><tr><td><b>h->h</b></td><td style=\"background-color: rgb(254.9948, 255,254.9948);\">0.0000</td><td style=\"background-color: rgb(254.6611, 255,254.6611);\">0.0013</td><td style=\"background-color: rgb(251.3021, 255,251.3021);\">0.0145</td><td style=\"background-color: rgb(236.8405, 255,236.8405);\">0.0712</td><td style=\"background-color: rgb(22.2026, 255,22.2026);\">0.9129</td></tr><tr><td><b>fn+h->h</b></td><td style=\"background-color: rgb(0.0000, 255,0.0000);\">1.0000</td><td style=\"background-color: rgb(255.0000, 255,255.0000);\">0.0000</td><td style=\"background-color: rgb(255.0000, 255,255.0000);\">0.0000</td><td style=\"background-color: rgb(255.0000, 255,255.0000);\">0.0000</td><td style=\"background-color: rgb(255.0000, 255,255.0000);\">0.0000</td></tr></table>"
      ],
      "text/plain": [
       "<IPython.core.display.HTML object>"
      ]
     },
     "metadata": {},
     "output_type": "display_data"
    },
    {
     "name": "stdout",
     "output_type": "stream",
     "text": [
      "true Motion pred_h Motion pred_fnh Motion\n"
     ]
    },
    {
     "data": {
      "text/html": [
       "<table><tr><td><b>words</b></td><td style=\"background-color: rgb(255,255,255);\">move</td><td style=\"background-color: rgb(255,255,255);\">along</td><td style=\"background-color: rgb(255,255,255);\">the</td><td style=\"background-color: rgb(255,255,255);\">wall</td></tr><tr><td><b>lu</b></td><td style=\"background-color: rgb(0.0000, 255,0.0000);\">1.0000</td><td style=\"background-color: rgb(255.0000, 255,255.0000);\">0.0000</td><td style=\"background-color: rgb(255.0000, 255,255.0000);\">0.0000</td><td style=\"background-color: rgb(255.0000, 255,255.0000);\">0.0000</td></tr><tr><td><b>h->h</b></td><td style=\"background-color: rgb(254.9940, 255,254.9940);\">0.0000</td><td style=\"background-color: rgb(249.7990, 255,249.7990);\">0.0204</td><td style=\"background-color: rgb(117.3789, 255,117.3789);\">0.5397</td><td style=\"background-color: rgb(142.8291, 255,142.8291);\">0.4399</td></tr><tr><td><b>fn+h->h</b></td><td style=\"background-color: rgb(0.0002, 255,0.0002);\">1.0000</td><td style=\"background-color: rgb(254.9998, 255,254.9998);\">0.0000</td><td style=\"background-color: rgb(255.0000, 255,255.0000);\">0.0000</td><td style=\"background-color: rgb(255.0000, 255,255.0000);\">0.0000</td></tr></table>"
      ],
      "text/plain": [
       "<IPython.core.display.HTML object>"
      ]
     },
     "metadata": {},
     "output_type": "display_data"
    },
    {
     "name": "stdout",
     "output_type": "stream",
     "text": [
      "true Motion pred_h Motion pred_fnh Motion\n"
     ]
    },
    {
     "data": {
      "text/html": [
       "<table><tr><td><b>words</b></td><td style=\"background-color: rgb(255,255,255);\">move</td><td style=\"background-color: rgb(255,255,255);\">away</td><td style=\"background-color: rgb(255,255,255);\">from</td><td style=\"background-color: rgb(255,255,255);\">the</td><td style=\"background-color: rgb(255,255,255);\">oven</td></tr><tr><td><b>lu</b></td><td style=\"background-color: rgb(0.0000, 255,0.0000);\">1.0000</td><td style=\"background-color: rgb(255.0000, 255,255.0000);\">0.0000</td><td style=\"background-color: rgb(255.0000, 255,255.0000);\">0.0000</td><td style=\"background-color: rgb(255.0000, 255,255.0000);\">0.0000</td><td style=\"background-color: rgb(255.0000, 255,255.0000);\">0.0000</td></tr><tr><td><b>h->h</b></td><td style=\"background-color: rgb(254.9969, 255,254.9969);\">0.0000</td><td style=\"background-color: rgb(248.9404, 255,248.9404);\">0.0238</td><td style=\"background-color: rgb(166.4818, 255,166.4818);\">0.3471</td><td style=\"background-color: rgb(105.5622, 255,105.5622);\">0.5860</td><td style=\"background-color: rgb(244.0191, 255,244.0191);\">0.0431</td></tr><tr><td><b>fn+h->h</b></td><td style=\"background-color: rgb(0.0003, 255,0.0003);\">1.0000</td><td style=\"background-color: rgb(254.9999, 255,254.9999);\">0.0000</td><td style=\"background-color: rgb(254.9999, 255,254.9999);\">0.0000</td><td style=\"background-color: rgb(255.0000, 255,255.0000);\">0.0000</td><td style=\"background-color: rgb(255.0000, 255,255.0000);\">0.0000</td></tr></table>"
      ],
      "text/plain": [
       "<IPython.core.display.HTML object>"
      ]
     },
     "metadata": {},
     "output_type": "display_data"
    },
    {
     "name": "stdout",
     "output_type": "stream",
     "text": [
      "true Motion pred_h Motion pred_fnh Motion\n"
     ]
    },
    {
     "data": {
      "text/html": [
       "<table><tr><td><b>words</b></td><td style=\"background-color: rgb(255,255,255);\">move</td><td style=\"background-color: rgb(255,255,255);\">to</td><td style=\"background-color: rgb(255,255,255);\">bedroom</td></tr><tr><td><b>lu</b></td><td style=\"background-color: rgb(0.0000, 255,0.0000);\">1.0000</td><td style=\"background-color: rgb(255.0000, 255,255.0000);\">0.0000</td><td style=\"background-color: rgb(255.0000, 255,255.0000);\">0.0000</td></tr><tr><td><b>h->h</b></td><td style=\"background-color: rgb(254.9536, 255,254.9536);\">0.0002</td><td style=\"background-color: rgb(138.4614, 255,138.4614);\">0.4570</td><td style=\"background-color: rgb(116.5884, 255,116.5884);\">0.5428</td></tr><tr><td><b>fn+h->h</b></td><td style=\"background-color: rgb(0.0023, 255,0.0023);\">1.0000</td><td style=\"background-color: rgb(254.9977, 255,254.9977);\">0.0000</td><td style=\"background-color: rgb(255.0000, 255,255.0000);\">0.0000</td></tr></table>"
      ],
      "text/plain": [
       "<IPython.core.display.HTML object>"
      ]
     },
     "metadata": {},
     "output_type": "display_data"
    },
    {
     "name": "stdout",
     "output_type": "stream",
     "text": [
      "true Motion pred_h Motion pred_fnh Motion\n"
     ]
    },
    {
     "data": {
      "text/html": [
       "<table><tr><td><b>words</b></td><td style=\"background-color: rgb(255,255,255);\">move</td><td style=\"background-color: rgb(255,255,255);\">to</td><td style=\"background-color: rgb(255,255,255);\">the</td><td style=\"background-color: rgb(255,255,255);\">bedroom</td></tr><tr><td><b>lu</b></td><td style=\"background-color: rgb(0.0000, 255,0.0000);\">1.0000</td><td style=\"background-color: rgb(255.0000, 255,255.0000);\">0.0000</td><td style=\"background-color: rgb(255.0000, 255,255.0000);\">0.0000</td><td style=\"background-color: rgb(255.0000, 255,255.0000);\">0.0000</td></tr><tr><td><b>h->h</b></td><td style=\"background-color: rgb(254.9961, 255,254.9961);\">0.0000</td><td style=\"background-color: rgb(252.3215, 255,252.3215);\">0.0105</td><td style=\"background-color: rgb(42.4627, 255,42.4627);\">0.8335</td><td style=\"background-color: rgb(215.2213, 255,215.2213);\">0.1560</td></tr><tr><td><b>fn+h->h</b></td><td style=\"background-color: rgb(0.0215, 255,0.0215);\">0.9999</td><td style=\"background-color: rgb(254.9785, 255,254.9785);\">0.0001</td><td style=\"background-color: rgb(255.0000, 255,255.0000);\">0.0000</td><td style=\"background-color: rgb(255.0000, 255,255.0000);\">0.0000</td></tr></table>"
      ],
      "text/plain": [
       "<IPython.core.display.HTML object>"
      ]
     },
     "metadata": {},
     "output_type": "display_data"
    },
    {
     "name": "stdout",
     "output_type": "stream",
     "text": [
      "true Motion pred_h Motion pred_fnh Motion\n"
     ]
    },
    {
     "data": {
      "text/html": [
       "<table><tr><td><b>words</b></td><td style=\"background-color: rgb(255,255,255);\">move</td><td style=\"background-color: rgb(255,255,255);\">to</td><td style=\"background-color: rgb(255,255,255);\">the</td><td style=\"background-color: rgb(255,255,255);\">dining</td><td style=\"background-color: rgb(255,255,255);\">room</td></tr><tr><td><b>lu</b></td><td style=\"background-color: rgb(0.0000, 255,0.0000);\">1.0000</td><td style=\"background-color: rgb(255.0000, 255,255.0000);\">0.0000</td><td style=\"background-color: rgb(255.0000, 255,255.0000);\">0.0000</td><td style=\"background-color: rgb(255.0000, 255,255.0000);\">0.0000</td><td style=\"background-color: rgb(255.0000, 255,255.0000);\">0.0000</td></tr><tr><td><b>h->h</b></td><td style=\"background-color: rgb(254.9988, 255,254.9988);\">0.0000</td><td style=\"background-color: rgb(254.3125, 255,254.3125);\">0.0027</td><td style=\"background-color: rgb(195.8443, 255,195.8443);\">0.2320</td><td style=\"background-color: rgb(72.3062, 255,72.3062);\">0.7164</td><td style=\"background-color: rgb(242.5390, 255,242.5390);\">0.0489</td></tr><tr><td><b>fn+h->h</b></td><td style=\"background-color: rgb(0.0134, 255,0.0134);\">0.9999</td><td style=\"background-color: rgb(254.9865, 255,254.9865);\">0.0001</td><td style=\"background-color: rgb(255.0000, 255,255.0000);\">0.0000</td><td style=\"background-color: rgb(255.0000, 255,255.0000);\">0.0000</td><td style=\"background-color: rgb(255.0000, 255,255.0000);\">0.0000</td></tr></table>"
      ],
      "text/plain": [
       "<IPython.core.display.HTML object>"
      ]
     },
     "metadata": {},
     "output_type": "display_data"
    },
    {
     "name": "stdout",
     "output_type": "stream",
     "text": [
      "true Searching pred_h Searching pred_fnh Searching\n"
     ]
    },
    {
     "data": {
      "text/html": [
       "<table><tr><td><b>words</b></td><td style=\"background-color: rgb(255,255,255);\">please</td><td style=\"background-color: rgb(255,255,255);\">find</td><td style=\"background-color: rgb(255,255,255);\">the</td><td style=\"background-color: rgb(255,255,255);\">sunglasses</td></tr><tr><td><b>lu</b></td><td style=\"background-color: rgb(255.0000, 255,255.0000);\">0.0000</td><td style=\"background-color: rgb(0.0000, 255,0.0000);\">1.0000</td><td style=\"background-color: rgb(255.0000, 255,255.0000);\">0.0000</td><td style=\"background-color: rgb(255.0000, 255,255.0000);\">0.0000</td></tr><tr><td><b>h->h</b></td><td style=\"background-color: rgb(255.0000, 255,255.0000);\">0.0000</td><td style=\"background-color: rgb(254.9816, 255,254.9816);\">0.0001</td><td style=\"background-color: rgb(220.8103, 255,220.8103);\">0.1341</td><td style=\"background-color: rgb(34.2113, 255,34.2113);\">0.8658</td></tr><tr><td><b>fn+h->h</b></td><td style=\"background-color: rgb(255.0000, 255,255.0000);\">0.0000</td><td style=\"background-color: rgb(0.0000, 255,0.0000);\">1.0000</td><td style=\"background-color: rgb(255.0000, 255,255.0000);\">0.0000</td><td style=\"background-color: rgb(255.0000, 255,255.0000);\">0.0000</td></tr></table>"
      ],
      "text/plain": [
       "<IPython.core.display.HTML object>"
      ]
     },
     "metadata": {},
     "output_type": "display_data"
    },
    {
     "name": "stdout",
     "output_type": "stream",
     "text": [
      "true Searching pred_h Searching pred_fnh Searching\n"
     ]
    },
    {
     "data": {
      "text/html": [
       "<table><tr><td><b>words</b></td><td style=\"background-color: rgb(255,255,255);\">please</td><td style=\"background-color: rgb(255,255,255);\">find</td><td style=\"background-color: rgb(255,255,255);\">the</td><td style=\"background-color: rgb(255,255,255);\">toilet</td><td style=\"background-color: rgb(255,255,255);\">paper</td></tr><tr><td><b>lu</b></td><td style=\"background-color: rgb(255.0000, 255,255.0000);\">0.0000</td><td style=\"background-color: rgb(0.0000, 255,0.0000);\">1.0000</td><td style=\"background-color: rgb(255.0000, 255,255.0000);\">0.0000</td><td style=\"background-color: rgb(255.0000, 255,255.0000);\">0.0000</td><td style=\"background-color: rgb(255.0000, 255,255.0000);\">0.0000</td></tr><tr><td><b>h->h</b></td><td style=\"background-color: rgb(255.0000, 255,255.0000);\">0.0000</td><td style=\"background-color: rgb(254.9971, 255,254.9971);\">0.0000</td><td style=\"background-color: rgb(254.4375, 255,254.4375);\">0.0022</td><td style=\"background-color: rgb(243.9166, 255,243.9166);\">0.0435</td><td style=\"background-color: rgb(11.6499, 255,11.6499);\">0.9543</td></tr><tr><td><b>fn+h->h</b></td><td style=\"background-color: rgb(255.0000, 255,255.0000);\">0.0000</td><td style=\"background-color: rgb(0.0000, 255,0.0000);\">1.0000</td><td style=\"background-color: rgb(255.0000, 255,255.0000);\">0.0000</td><td style=\"background-color: rgb(255.0000, 255,255.0000);\">0.0000</td><td style=\"background-color: rgb(255.0000, 255,255.0000);\">0.0000</td></tr></table>"
      ],
      "text/plain": [
       "<IPython.core.display.HTML object>"
      ]
     },
     "metadata": {},
     "output_type": "display_data"
    },
    {
     "name": "stdout",
     "output_type": "stream",
     "text": [
      "true Motion pred_h Motion pred_fnh Motion\n"
     ]
    },
    {
     "data": {
      "text/html": [
       "<table><tr><td><b>words</b></td><td style=\"background-color: rgb(255,255,255);\">please</td><td style=\"background-color: rgb(255,255,255);\">move</td><td style=\"background-color: rgb(255,255,255);\">along</td><td style=\"background-color: rgb(255,255,255);\">the</td><td style=\"background-color: rgb(255,255,255);\">fences</td></tr><tr><td><b>lu</b></td><td style=\"background-color: rgb(255.0000, 255,255.0000);\">0.0000</td><td style=\"background-color: rgb(0.0000, 255,0.0000);\">1.0000</td><td style=\"background-color: rgb(255.0000, 255,255.0000);\">0.0000</td><td style=\"background-color: rgb(255.0000, 255,255.0000);\">0.0000</td><td style=\"background-color: rgb(255.0000, 255,255.0000);\">0.0000</td></tr><tr><td><b>h->h</b></td><td style=\"background-color: rgb(255.0000, 255,255.0000);\">0.0000</td><td style=\"background-color: rgb(254.9946, 255,254.9946);\">0.0000</td><td style=\"background-color: rgb(249.4561, 255,249.4561);\">0.0217</td><td style=\"background-color: rgb(99.0972, 255,99.0972);\">0.6114</td><td style=\"background-color: rgb(161.4532, 255,161.4532);\">0.3669</td></tr><tr><td><b>fn+h->h</b></td><td style=\"background-color: rgb(254.9995, 255,254.9995);\">0.0000</td><td style=\"background-color: rgb(0.0016, 255,0.0016);\">1.0000</td><td style=\"background-color: rgb(254.9989, 255,254.9989);\">0.0000</td><td style=\"background-color: rgb(255.0000, 255,255.0000);\">0.0000</td><td style=\"background-color: rgb(255.0000, 255,255.0000);\">0.0000</td></tr></table>"
      ],
      "text/plain": [
       "<IPython.core.display.HTML object>"
      ]
     },
     "metadata": {},
     "output_type": "display_data"
    },
    {
     "name": "stdout",
     "output_type": "stream",
     "text": [
      "true Taking pred_h Taking pred_fnh Taking\n"
     ]
    },
    {
     "data": {
      "text/html": [
       "<table><tr><td><b>words</b></td><td style=\"background-color: rgb(255,255,255);\">please</td><td style=\"background-color: rgb(255,255,255);\">take</td><td style=\"background-color: rgb(255,255,255);\">some</td><td style=\"background-color: rgb(255,255,255);\">pasta</td><td style=\"background-color: rgb(255,255,255);\">from</td><td style=\"background-color: rgb(255,255,255);\">the</td><td style=\"background-color: rgb(255,255,255);\">kitchen</td><td style=\"background-color: rgb(255,255,255);\">cabinet</td></tr><tr><td><b>lu</b></td><td style=\"background-color: rgb(255.0000, 255,255.0000);\">0.0000</td><td style=\"background-color: rgb(0.0000, 255,0.0000);\">1.0000</td><td style=\"background-color: rgb(255.0000, 255,255.0000);\">0.0000</td><td style=\"background-color: rgb(255.0000, 255,255.0000);\">0.0000</td><td style=\"background-color: rgb(255.0000, 255,255.0000);\">0.0000</td><td style=\"background-color: rgb(255.0000, 255,255.0000);\">0.0000</td><td style=\"background-color: rgb(255.0000, 255,255.0000);\">0.0000</td><td style=\"background-color: rgb(255.0000, 255,255.0000);\">0.0000</td></tr><tr><td><b>h->h</b></td><td style=\"background-color: rgb(255.0000, 255,255.0000);\">0.0000</td><td style=\"background-color: rgb(254.9963, 255,254.9963);\">0.0000</td><td style=\"background-color: rgb(254.6295, 255,254.6295);\">0.0015</td><td style=\"background-color: rgb(254.9710, 255,254.9710);\">0.0001</td><td style=\"background-color: rgb(242.6737, 255,242.6737);\">0.0483</td><td style=\"background-color: rgb(114.0484, 255,114.0484);\">0.5528</td><td style=\"background-color: rgb(154.1515, 255,154.1515);\">0.3955</td><td style=\"background-color: rgb(254.5422, 255,254.5422);\">0.0018</td></tr><tr><td><b>fn+h->h</b></td><td style=\"background-color: rgb(255.0000, 255,255.0000);\">0.0000</td><td style=\"background-color: rgb(0.0000, 255,0.0000);\">1.0000</td><td style=\"background-color: rgb(255.0000, 255,255.0000);\">0.0000</td><td style=\"background-color: rgb(255.0000, 255,255.0000);\">0.0000</td><td style=\"background-color: rgb(255.0000, 255,255.0000);\">0.0000</td><td style=\"background-color: rgb(255.0000, 255,255.0000);\">0.0000</td><td style=\"background-color: rgb(255.0000, 255,255.0000);\">0.0000</td><td style=\"background-color: rgb(255.0000, 255,255.0000);\">0.0000</td></tr></table>"
      ],
      "text/plain": [
       "<IPython.core.display.HTML object>"
      ]
     },
     "metadata": {},
     "output_type": "display_data"
    },
    {
     "name": "stdout",
     "output_type": "stream",
     "text": [
      "true Releasing pred_h Releasing pred_fnh Releasing\n"
     ]
    },
    {
     "data": {
      "text/html": [
       "<table><tr><td><b>words</b></td><td style=\"background-color: rgb(255,255,255);\">release</td><td style=\"background-color: rgb(255,255,255);\">the</td><td style=\"background-color: rgb(255,255,255);\">bag</td></tr><tr><td><b>lu</b></td><td style=\"background-color: rgb(0.0000, 255,0.0000);\">1.0000</td><td style=\"background-color: rgb(255.0000, 255,255.0000);\">0.0000</td><td style=\"background-color: rgb(255.0000, 255,255.0000);\">0.0000</td></tr><tr><td><b>h->h</b></td><td style=\"background-color: rgb(254.7796, 255,254.7796);\">0.0009</td><td style=\"background-color: rgb(0.4652, 255,0.4652);\">0.9982</td><td style=\"background-color: rgb(254.9977, 255,254.9977);\">0.0000</td></tr><tr><td><b>fn+h->h</b></td><td style=\"background-color: rgb(0.0000, 255,0.0000);\">1.0000</td><td style=\"background-color: rgb(255.0000, 255,255.0000);\">0.0000</td><td style=\"background-color: rgb(255.0000, 255,255.0000);\">0.0000</td></tr></table>"
      ],
      "text/plain": [
       "<IPython.core.display.HTML object>"
      ]
     },
     "metadata": {},
     "output_type": "display_data"
    },
    {
     "name": "stdout",
     "output_type": "stream",
     "text": [
      "true Releasing pred_h Releasing pred_fnh Releasing\n"
     ]
    },
    {
     "data": {
      "text/html": [
       "<table><tr><td><b>words</b></td><td style=\"background-color: rgb(255,255,255);\">release</td><td style=\"background-color: rgb(255,255,255);\">the</td><td style=\"background-color: rgb(255,255,255);\">pot</td></tr><tr><td><b>lu</b></td><td style=\"background-color: rgb(0.0000, 255,0.0000);\">1.0000</td><td style=\"background-color: rgb(255.0000, 255,255.0000);\">0.0000</td><td style=\"background-color: rgb(255.0000, 255,255.0000);\">0.0000</td></tr><tr><td><b>h->h</b></td><td style=\"background-color: rgb(254.8652, 255,254.8652);\">0.0005</td><td style=\"background-color: rgb(0.1853, 255,0.1853);\">0.9993</td><td style=\"background-color: rgb(254.9994, 255,254.9994);\">0.0000</td></tr><tr><td><b>fn+h->h</b></td><td style=\"background-color: rgb(0.0000, 255,0.0000);\">1.0000</td><td style=\"background-color: rgb(255.0000, 255,255.0000);\">0.0000</td><td style=\"background-color: rgb(255.0000, 255,255.0000);\">0.0000</td></tr></table>"
      ],
      "text/plain": [
       "<IPython.core.display.HTML object>"
      ]
     },
     "metadata": {},
     "output_type": "display_data"
    },
    {
     "name": "stdout",
     "output_type": "stream",
     "text": [
      "true Bringing pred_h Bringing pred_fnh Bringing\n"
     ]
    },
    {
     "data": {
      "text/html": [
       "<table><tr><td><b>words</b></td><td style=\"background-color: rgb(255,255,255);\">robot</td><td style=\"background-color: rgb(255,255,255);\">can</td><td style=\"background-color: rgb(255,255,255);\">you</td><td style=\"background-color: rgb(255,255,255);\">bring</td><td style=\"background-color: rgb(255,255,255);\">the</td><td style=\"background-color: rgb(255,255,255);\">cornflakes</td><td style=\"background-color: rgb(255,255,255);\">box</td><td style=\"background-color: rgb(255,255,255);\">from</td><td style=\"background-color: rgb(255,255,255);\">the</td><td style=\"background-color: rgb(255,255,255);\">kitchen</td><td style=\"background-color: rgb(255,255,255);\">table</td></tr><tr><td><b>lu</b></td><td style=\"background-color: rgb(255.0000, 255,255.0000);\">0.0000</td><td style=\"background-color: rgb(255.0000, 255,255.0000);\">0.0000</td><td style=\"background-color: rgb(255.0000, 255,255.0000);\">0.0000</td><td style=\"background-color: rgb(0.0000, 255,0.0000);\">1.0000</td><td style=\"background-color: rgb(255.0000, 255,255.0000);\">0.0000</td><td style=\"background-color: rgb(255.0000, 255,255.0000);\">0.0000</td><td style=\"background-color: rgb(255.0000, 255,255.0000);\">0.0000</td><td style=\"background-color: rgb(255.0000, 255,255.0000);\">0.0000</td><td style=\"background-color: rgb(255.0000, 255,255.0000);\">0.0000</td><td style=\"background-color: rgb(255.0000, 255,255.0000);\">0.0000</td><td style=\"background-color: rgb(255.0000, 255,255.0000);\">0.0000</td></tr><tr><td><b>h->h</b></td><td style=\"background-color: rgb(255.0000, 255,255.0000);\">0.0000</td><td style=\"background-color: rgb(255.0000, 255,255.0000);\">0.0000</td><td style=\"background-color: rgb(255.0000, 255,255.0000);\">0.0000</td><td style=\"background-color: rgb(254.9995, 255,254.9995);\">0.0000</td><td style=\"background-color: rgb(254.9440, 255,254.9440);\">0.0002</td><td style=\"background-color: rgb(254.8744, 255,254.8744);\">0.0005</td><td style=\"background-color: rgb(254.6902, 255,254.6902);\">0.0012</td><td style=\"background-color: rgb(248.0910, 255,248.0910);\">0.0271</td><td style=\"background-color: rgb(246.0210, 255,246.0210);\">0.0352</td><td style=\"background-color: rgb(227.6342, 255,227.6342);\">0.1073</td><td style=\"background-color: rgb(43.7465, 255,43.7465);\">0.8284</td></tr><tr><td><b>fn+h->h</b></td><td style=\"background-color: rgb(255.0000, 255,255.0000);\">0.0000</td><td style=\"background-color: rgb(255.0000, 255,255.0000);\">0.0000</td><td style=\"background-color: rgb(255.0000, 255,255.0000);\">0.0000</td><td style=\"background-color: rgb(0.2747, 255,0.2747);\">0.9989</td><td style=\"background-color: rgb(255.0000, 255,255.0000);\">0.0000</td><td style=\"background-color: rgb(255.0000, 255,255.0000);\">0.0000</td><td style=\"background-color: rgb(254.7253, 255,254.7253);\">0.0011</td><td style=\"background-color: rgb(255.0000, 255,255.0000);\">0.0000</td><td style=\"background-color: rgb(255.0000, 255,255.0000);\">0.0000</td><td style=\"background-color: rgb(255.0000, 255,255.0000);\">0.0000</td><td style=\"background-color: rgb(255.0000, 255,255.0000);\">0.0000</td></tr></table>"
      ],
      "text/plain": [
       "<IPython.core.display.HTML object>"
      ]
     },
     "metadata": {},
     "output_type": "display_data"
    },
    {
     "name": "stdout",
     "output_type": "stream",
     "text": [
      "true Searching pred_h Searching pred_fnh Searching\n"
     ]
    },
    {
     "data": {
      "text/html": [
       "<table><tr><td><b>words</b></td><td style=\"background-color: rgb(255,255,255);\">robot</td><td style=\"background-color: rgb(255,255,255);\">can</td><td style=\"background-color: rgb(255,255,255);\">you</td><td style=\"background-color: rgb(255,255,255);\">find</td><td style=\"background-color: rgb(255,255,255);\">a</td><td style=\"background-color: rgb(255,255,255);\">pack</td><td style=\"background-color: rgb(255,255,255);\">of</td><td style=\"background-color: rgb(255,255,255);\">napkins</td></tr><tr><td><b>lu</b></td><td style=\"background-color: rgb(255.0000, 255,255.0000);\">0.0000</td><td style=\"background-color: rgb(255.0000, 255,255.0000);\">0.0000</td><td style=\"background-color: rgb(255.0000, 255,255.0000);\">0.0000</td><td style=\"background-color: rgb(0.0000, 255,0.0000);\">1.0000</td><td style=\"background-color: rgb(255.0000, 255,255.0000);\">0.0000</td><td style=\"background-color: rgb(255.0000, 255,255.0000);\">0.0000</td><td style=\"background-color: rgb(255.0000, 255,255.0000);\">0.0000</td><td style=\"background-color: rgb(255.0000, 255,255.0000);\">0.0000</td></tr><tr><td><b>h->h</b></td><td style=\"background-color: rgb(255.0000, 255,255.0000);\">0.0000</td><td style=\"background-color: rgb(255.0000, 255,255.0000);\">0.0000</td><td style=\"background-color: rgb(255.0000, 255,255.0000);\">0.0000</td><td style=\"background-color: rgb(254.9952, 255,254.9952);\">0.0000</td><td style=\"background-color: rgb(254.8025, 255,254.8025);\">0.0008</td><td style=\"background-color: rgb(254.7531, 255,254.7531);\">0.0010</td><td style=\"background-color: rgb(213.7619, 255,213.7619);\">0.1617</td><td style=\"background-color: rgb(41.6920, 255,41.6920);\">0.8365</td></tr><tr><td><b>fn+h->h</b></td><td style=\"background-color: rgb(255.0000, 255,255.0000);\">0.0000</td><td style=\"background-color: rgb(255.0000, 255,255.0000);\">0.0000</td><td style=\"background-color: rgb(255.0000, 255,255.0000);\">0.0000</td><td style=\"background-color: rgb(0.0000, 255,0.0000);\">1.0000</td><td style=\"background-color: rgb(255.0000, 255,255.0000);\">0.0000</td><td style=\"background-color: rgb(255.0000, 255,255.0000);\">0.0000</td><td style=\"background-color: rgb(255.0000, 255,255.0000);\">0.0000</td><td style=\"background-color: rgb(255.0000, 255,255.0000);\">0.0000</td></tr></table>"
      ],
      "text/plain": [
       "<IPython.core.display.HTML object>"
      ]
     },
     "metadata": {},
     "output_type": "display_data"
    },
    {
     "name": "stdout",
     "output_type": "stream",
     "text": [
      "true Searching pred_h Searching pred_fnh Searching\n"
     ]
    },
    {
     "data": {
      "text/html": [
       "<table><tr><td><b>words</b></td><td style=\"background-color: rgb(255,255,255);\">robot</td><td style=\"background-color: rgb(255,255,255);\">carefully</td><td style=\"background-color: rgb(255,255,255);\">search</td><td style=\"background-color: rgb(255,255,255);\">the</td><td style=\"background-color: rgb(255,255,255);\">bedroom</td><td style=\"background-color: rgb(255,255,255);\">for</td><td style=\"background-color: rgb(255,255,255);\">my</td><td style=\"background-color: rgb(255,255,255);\">mobile</td><td style=\"background-color: rgb(255,255,255);\">phone</td></tr><tr><td><b>lu</b></td><td style=\"background-color: rgb(255.0000, 255,255.0000);\">0.0000</td><td style=\"background-color: rgb(255.0000, 255,255.0000);\">0.0000</td><td style=\"background-color: rgb(0.0000, 255,0.0000);\">1.0000</td><td style=\"background-color: rgb(255.0000, 255,255.0000);\">0.0000</td><td style=\"background-color: rgb(255.0000, 255,255.0000);\">0.0000</td><td style=\"background-color: rgb(255.0000, 255,255.0000);\">0.0000</td><td style=\"background-color: rgb(255.0000, 255,255.0000);\">0.0000</td><td style=\"background-color: rgb(255.0000, 255,255.0000);\">0.0000</td><td style=\"background-color: rgb(255.0000, 255,255.0000);\">0.0000</td></tr><tr><td><b>h->h</b></td><td style=\"background-color: rgb(254.9992, 255,254.9992);\">0.0000</td><td style=\"background-color: rgb(255.0000, 255,255.0000);\">0.0000</td><td style=\"background-color: rgb(254.9991, 255,254.9991);\">0.0000</td><td style=\"background-color: rgb(254.9770, 255,254.9770);\">0.0001</td><td style=\"background-color: rgb(254.9305, 255,254.9305);\">0.0003</td><td style=\"background-color: rgb(253.6086, 255,253.6086);\">0.0055</td><td style=\"background-color: rgb(244.6730, 255,244.6730);\">0.0405</td><td style=\"background-color: rgb(231.8509, 255,231.8509);\">0.0908</td><td style=\"background-color: rgb(34.9628, 255,34.9628);\">0.8629</td></tr><tr><td><b>fn+h->h</b></td><td style=\"background-color: rgb(255.0000, 255,255.0000);\">0.0000</td><td style=\"background-color: rgb(255.0000, 255,255.0000);\">0.0000</td><td style=\"background-color: rgb(0.0000, 255,0.0000);\">1.0000</td><td style=\"background-color: rgb(255.0000, 255,255.0000);\">0.0000</td><td style=\"background-color: rgb(255.0000, 255,255.0000);\">0.0000</td><td style=\"background-color: rgb(255.0000, 255,255.0000);\">0.0000</td><td style=\"background-color: rgb(255.0000, 255,255.0000);\">0.0000</td><td style=\"background-color: rgb(255.0000, 255,255.0000);\">0.0000</td><td style=\"background-color: rgb(255.0000, 255,255.0000);\">0.0000</td></tr></table>"
      ],
      "text/plain": [
       "<IPython.core.display.HTML object>"
      ]
     },
     "metadata": {},
     "output_type": "display_data"
    },
    {
     "name": "stdout",
     "output_type": "stream",
     "text": [
      "true Motion pred_h Motion pred_fnh Motion\n"
     ]
    },
    {
     "data": {
      "text/html": [
       "<table><tr><td><b>words</b></td><td style=\"background-color: rgb(255,255,255);\">robot</td><td style=\"background-color: rgb(255,255,255);\">could</td><td style=\"background-color: rgb(255,255,255);\">you</td><td style=\"background-color: rgb(255,255,255);\">move</td><td style=\"background-color: rgb(255,255,255);\">near</td><td style=\"background-color: rgb(255,255,255);\">the</td><td style=\"background-color: rgb(255,255,255);\">table</td></tr><tr><td><b>lu</b></td><td style=\"background-color: rgb(255.0000, 255,255.0000);\">0.0000</td><td style=\"background-color: rgb(255.0000, 255,255.0000);\">0.0000</td><td style=\"background-color: rgb(255.0000, 255,255.0000);\">0.0000</td><td style=\"background-color: rgb(0.0000, 255,0.0000);\">1.0000</td><td style=\"background-color: rgb(255.0000, 255,255.0000);\">0.0000</td><td style=\"background-color: rgb(255.0000, 255,255.0000);\">0.0000</td><td style=\"background-color: rgb(255.0000, 255,255.0000);\">0.0000</td></tr><tr><td><b>h->h</b></td><td style=\"background-color: rgb(255.0000, 255,255.0000);\">0.0000</td><td style=\"background-color: rgb(255.0000, 255,255.0000);\">0.0000</td><td style=\"background-color: rgb(255.0000, 255,255.0000);\">0.0000</td><td style=\"background-color: rgb(254.9988, 255,254.9988);\">0.0000</td><td style=\"background-color: rgb(252.3362, 255,252.3362);\">0.0104</td><td style=\"background-color: rgb(86.6764, 255,86.6764);\">0.6601</td><td style=\"background-color: rgb(170.9904, 255,170.9904);\">0.3294</td></tr><tr><td><b>fn+h->h</b></td><td style=\"background-color: rgb(255.0000, 255,255.0000);\">0.0000</td><td style=\"background-color: rgb(255.0000, 255,255.0000);\">0.0000</td><td style=\"background-color: rgb(255.0000, 255,255.0000);\">0.0000</td><td style=\"background-color: rgb(0.0123, 255,0.0123);\">1.0000</td><td style=\"background-color: rgb(254.9877, 255,254.9877);\">0.0000</td><td style=\"background-color: rgb(255.0000, 255,255.0000);\">0.0000</td><td style=\"background-color: rgb(255.0000, 255,255.0000);\">0.0000</td></tr></table>"
      ],
      "text/plain": [
       "<IPython.core.display.HTML object>"
      ]
     },
     "metadata": {},
     "output_type": "display_data"
    },
    {
     "name": "stdout",
     "output_type": "stream",
     "text": [
      "true Motion pred_h Motion pred_fnh Motion\n"
     ]
    },
    {
     "data": {
      "text/html": [
       "<table><tr><td><b>words</b></td><td style=\"background-color: rgb(255,255,255);\">robot</td><td style=\"background-color: rgb(255,255,255);\">i</td><td style=\"background-color: rgb(255,255,255);\">need</td><td style=\"background-color: rgb(255,255,255);\">you</td><td style=\"background-color: rgb(255,255,255);\">in</td><td style=\"background-color: rgb(255,255,255);\">the</td><td style=\"background-color: rgb(255,255,255);\">bathroom</td><td style=\"background-color: rgb(255,255,255);\">go</td><td style=\"background-color: rgb(255,255,255);\">there</td></tr><tr><td><b>lu</b></td><td style=\"background-color: rgb(255.0000, 255,255.0000);\">0.0000</td><td style=\"background-color: rgb(255.0000, 255,255.0000);\">0.0000</td><td style=\"background-color: rgb(255.0000, 255,255.0000);\">0.0000</td><td style=\"background-color: rgb(255.0000, 255,255.0000);\">0.0000</td><td style=\"background-color: rgb(255.0000, 255,255.0000);\">0.0000</td><td style=\"background-color: rgb(255.0000, 255,255.0000);\">0.0000</td><td style=\"background-color: rgb(255.0000, 255,255.0000);\">0.0000</td><td style=\"background-color: rgb(0.0000, 255,0.0000);\">1.0000</td><td style=\"background-color: rgb(255.0000, 255,255.0000);\">0.0000</td></tr><tr><td><b>h->h</b></td><td style=\"background-color: rgb(254.9996, 255,254.9996);\">0.0000</td><td style=\"background-color: rgb(255.0000, 255,255.0000);\">0.0000</td><td style=\"background-color: rgb(255.0000, 255,255.0000);\">0.0000</td><td style=\"background-color: rgb(255.0000, 255,255.0000);\">0.0000</td><td style=\"background-color: rgb(255.0000, 255,255.0000);\">0.0000</td><td style=\"background-color: rgb(254.9999, 255,254.9999);\">0.0000</td><td style=\"background-color: rgb(254.9829, 255,254.9829);\">0.0001</td><td style=\"background-color: rgb(164.1035, 255,164.1035);\">0.3565</td><td style=\"background-color: rgb(90.9335, 255,90.9335);\">0.6434</td></tr><tr><td><b>fn+h->h</b></td><td style=\"background-color: rgb(255.0000, 255,255.0000);\">0.0000</td><td style=\"background-color: rgb(255.0000, 255,255.0000);\">0.0000</td><td style=\"background-color: rgb(255.0000, 255,255.0000);\">0.0000</td><td style=\"background-color: rgb(255.0000, 255,255.0000);\">0.0000</td><td style=\"background-color: rgb(255.0000, 255,255.0000);\">0.0000</td><td style=\"background-color: rgb(255.0000, 255,255.0000);\">0.0000</td><td style=\"background-color: rgb(255.0000, 255,255.0000);\">0.0000</td><td style=\"background-color: rgb(0.0004, 255,0.0004);\">1.0000</td><td style=\"background-color: rgb(254.9996, 255,254.9996);\">0.0000</td></tr></table>"
      ],
      "text/plain": [
       "<IPython.core.display.HTML object>"
      ]
     },
     "metadata": {},
     "output_type": "display_data"
    },
    {
     "name": "stdout",
     "output_type": "stream",
     "text": [
      "true Motion pred_h Motion pred_fnh Motion\n"
     ]
    },
    {
     "data": {
      "text/html": [
       "<table><tr><td><b>words</b></td><td style=\"background-color: rgb(255,255,255);\">robot</td><td style=\"background-color: rgb(255,255,255);\">listen</td><td style=\"background-color: rgb(255,255,255);\">go</td><td style=\"background-color: rgb(255,255,255);\">into</td><td style=\"background-color: rgb(255,255,255);\">the</td><td style=\"background-color: rgb(255,255,255);\">bedroom</td></tr><tr><td><b>lu</b></td><td style=\"background-color: rgb(255.0000, 255,255.0000);\">0.0000</td><td style=\"background-color: rgb(255.0000, 255,255.0000);\">0.0000</td><td style=\"background-color: rgb(0.0000, 255,0.0000);\">1.0000</td><td style=\"background-color: rgb(255.0000, 255,255.0000);\">0.0000</td><td style=\"background-color: rgb(255.0000, 255,255.0000);\">0.0000</td><td style=\"background-color: rgb(255.0000, 255,255.0000);\">0.0000</td></tr><tr><td><b>h->h</b></td><td style=\"background-color: rgb(255.0000, 255,255.0000);\">0.0000</td><td style=\"background-color: rgb(255.0000, 255,255.0000);\">0.0000</td><td style=\"background-color: rgb(254.9996, 255,254.9996);\">0.0000</td><td style=\"background-color: rgb(251.2766, 255,251.2766);\">0.0146</td><td style=\"background-color: rgb(50.9958, 255,50.9958);\">0.8000</td><td style=\"background-color: rgb(207.7289, 255,207.7289);\">0.1854</td></tr><tr><td><b>fn+h->h</b></td><td style=\"background-color: rgb(255.0000, 255,255.0000);\">0.0000</td><td style=\"background-color: rgb(255.0000, 255,255.0000);\">0.0000</td><td style=\"background-color: rgb(0.2781, 255,0.2781);\">0.9989</td><td style=\"background-color: rgb(254.7219, 255,254.7219);\">0.0011</td><td style=\"background-color: rgb(255.0000, 255,255.0000);\">0.0000</td><td style=\"background-color: rgb(255.0000, 255,255.0000);\">0.0000</td></tr></table>"
      ],
      "text/plain": [
       "<IPython.core.display.HTML object>"
      ]
     },
     "metadata": {},
     "output_type": "display_data"
    },
    {
     "name": "stdout",
     "output_type": "stream",
     "text": [
      "true Searching pred_h Searching pred_fnh Searching\n"
     ]
    },
    {
     "data": {
      "text/html": [
       "<table><tr><td><b>words</b></td><td style=\"background-color: rgb(255,255,255);\">find</td><td style=\"background-color: rgb(255,255,255);\">the</td><td style=\"background-color: rgb(255,255,255);\">black</td><td style=\"background-color: rgb(255,255,255);\">pen</td></tr><tr><td><b>lu</b></td><td style=\"background-color: rgb(0.0000, 255,0.0000);\">1.0000</td><td style=\"background-color: rgb(255.0000, 255,255.0000);\">0.0000</td><td style=\"background-color: rgb(255.0000, 255,255.0000);\">0.0000</td><td style=\"background-color: rgb(255.0000, 255,255.0000);\">0.0000</td></tr><tr><td><b>h->h</b></td><td style=\"background-color: rgb(254.9947, 255,254.9947);\">0.0000</td><td style=\"background-color: rgb(253.9763, 255,253.9763);\">0.0040</td><td style=\"background-color: rgb(233.8105, 255,233.8105);\">0.0831</td><td style=\"background-color: rgb(22.2195, 255,22.2195);\">0.9129</td></tr><tr><td><b>fn+h->h</b></td><td style=\"background-color: rgb(0.0000, 255,0.0000);\">1.0000</td><td style=\"background-color: rgb(255.0000, 255,255.0000);\">0.0000</td><td style=\"background-color: rgb(255.0000, 255,255.0000);\">0.0000</td><td style=\"background-color: rgb(255.0000, 255,255.0000);\">0.0000</td></tr></table>"
      ],
      "text/plain": [
       "<IPython.core.display.HTML object>"
      ]
     },
     "metadata": {},
     "output_type": "display_data"
    },
    {
     "name": "stdout",
     "output_type": "stream",
     "text": [
      "true Searching pred_h Searching pred_fnh Searching\n"
     ]
    },
    {
     "data": {
      "text/html": [
       "<table><tr><td><b>words</b></td><td style=\"background-color: rgb(255,255,255);\">robot</td><td style=\"background-color: rgb(255,255,255);\">please</td><td style=\"background-color: rgb(255,255,255);\">search</td><td style=\"background-color: rgb(255,255,255);\">for</td><td style=\"background-color: rgb(255,255,255);\">the</td><td style=\"background-color: rgb(255,255,255);\">horn</td><td style=\"background-color: rgb(255,255,255);\">glasses</td></tr><tr><td><b>lu</b></td><td style=\"background-color: rgb(255.0000, 255,255.0000);\">0.0000</td><td style=\"background-color: rgb(255.0000, 255,255.0000);\">0.0000</td><td style=\"background-color: rgb(0.0000, 255,0.0000);\">1.0000</td><td style=\"background-color: rgb(255.0000, 255,255.0000);\">0.0000</td><td style=\"background-color: rgb(255.0000, 255,255.0000);\">0.0000</td><td style=\"background-color: rgb(255.0000, 255,255.0000);\">0.0000</td><td style=\"background-color: rgb(255.0000, 255,255.0000);\">0.0000</td></tr><tr><td><b>h->h</b></td><td style=\"background-color: rgb(255.0000, 255,255.0000);\">0.0000</td><td style=\"background-color: rgb(255.0000, 255,255.0000);\">0.0000</td><td style=\"background-color: rgb(254.9958, 255,254.9958);\">0.0000</td><td style=\"background-color: rgb(254.0273, 255,254.0273);\">0.0038</td><td style=\"background-color: rgb(249.9930, 255,249.9930);\">0.0196</td><td style=\"background-color: rgb(229.0291, 255,229.0291);\">0.1018</td><td style=\"background-color: rgb(31.9566, 255,31.9566);\">0.8747</td></tr><tr><td><b>fn+h->h</b></td><td style=\"background-color: rgb(255.0000, 255,255.0000);\">0.0000</td><td style=\"background-color: rgb(255.0000, 255,255.0000);\">0.0000</td><td style=\"background-color: rgb(0.0000, 255,0.0000);\">1.0000</td><td style=\"background-color: rgb(255.0000, 255,255.0000);\">0.0000</td><td style=\"background-color: rgb(255.0000, 255,255.0000);\">0.0000</td><td style=\"background-color: rgb(255.0000, 255,255.0000);\">0.0000</td><td style=\"background-color: rgb(255.0000, 255,255.0000);\">0.0000</td></tr></table>"
      ],
      "text/plain": [
       "<IPython.core.display.HTML object>"
      ]
     },
     "metadata": {},
     "output_type": "display_data"
    },
    {
     "name": "stdout",
     "output_type": "stream",
     "text": [
      "true Motion pred_h Motion pred_fnh Motion\n"
     ]
    },
    {
     "data": {
      "text/html": [
       "<table><tr><td><b>words</b></td><td style=\"background-color: rgb(255,255,255);\">robot</td><td style=\"background-color: rgb(255,255,255);\">why</td><td style=\"background-color: rgb(255,255,255);\">do</td><td style=\"background-color: rgb(255,255,255);\">n't</td><td style=\"background-color: rgb(255,255,255);\">you</td><td style=\"background-color: rgb(255,255,255);\">go</td><td style=\"background-color: rgb(255,255,255);\">around</td></tr><tr><td><b>lu</b></td><td style=\"background-color: rgb(255.0000, 255,255.0000);\">0.0000</td><td style=\"background-color: rgb(255.0000, 255,255.0000);\">0.0000</td><td style=\"background-color: rgb(255.0000, 255,255.0000);\">0.0000</td><td style=\"background-color: rgb(255.0000, 255,255.0000);\">0.0000</td><td style=\"background-color: rgb(255.0000, 255,255.0000);\">0.0000</td><td style=\"background-color: rgb(0.0000, 255,0.0000);\">1.0000</td><td style=\"background-color: rgb(255.0000, 255,255.0000);\">0.0000</td></tr><tr><td><b>h->h</b></td><td style=\"background-color: rgb(255.0000, 255,255.0000);\">0.0000</td><td style=\"background-color: rgb(255.0000, 255,255.0000);\">0.0000</td><td style=\"background-color: rgb(255.0000, 255,255.0000);\">0.0000</td><td style=\"background-color: rgb(254.9996, 255,254.9996);\">0.0000</td><td style=\"background-color: rgb(255.0000, 255,255.0000);\">0.0000</td><td style=\"background-color: rgb(254.5950, 255,254.5950);\">0.0016</td><td style=\"background-color: rgb(0.4220, 255,0.4220);\">0.9983</td></tr><tr><td><b>fn+h->h</b></td><td style=\"background-color: rgb(255.0000, 255,255.0000);\">0.0000</td><td style=\"background-color: rgb(255.0000, 255,255.0000);\">0.0000</td><td style=\"background-color: rgb(255.0000, 255,255.0000);\">0.0000</td><td style=\"background-color: rgb(255.0000, 255,255.0000);\">0.0000</td><td style=\"background-color: rgb(255.0000, 255,255.0000);\">0.0000</td><td style=\"background-color: rgb(0.0000, 255,0.0000);\">1.0000</td><td style=\"background-color: rgb(255.0000, 255,255.0000);\">0.0000</td></tr></table>"
      ],
      "text/plain": [
       "<IPython.core.display.HTML object>"
      ]
     },
     "metadata": {},
     "output_type": "display_data"
    },
    {
     "name": "stdout",
     "output_type": "stream",
     "text": [
      "true Searching pred_h Searching pred_fnh Searching\n"
     ]
    },
    {
     "data": {
      "text/html": [
       "<table><tr><td><b>words</b></td><td style=\"background-color: rgb(255,255,255);\">search</td><td style=\"background-color: rgb(255,255,255);\">for</td><td style=\"background-color: rgb(255,255,255);\">my</td><td style=\"background-color: rgb(255,255,255);\">hat</td></tr><tr><td><b>lu</b></td><td style=\"background-color: rgb(0.0000, 255,0.0000);\">1.0000</td><td style=\"background-color: rgb(255.0000, 255,255.0000);\">0.0000</td><td style=\"background-color: rgb(255.0000, 255,255.0000);\">0.0000</td><td style=\"background-color: rgb(255.0000, 255,255.0000);\">0.0000</td></tr><tr><td><b>h->h</b></td><td style=\"background-color: rgb(254.9933, 255,254.9933);\">0.0000</td><td style=\"background-color: rgb(254.5827, 255,254.5827);\">0.0016</td><td style=\"background-color: rgb(240.1622, 255,240.1622);\">0.0582</td><td style=\"background-color: rgb(15.2636, 255,15.2636);\">0.9401</td></tr><tr><td><b>fn+h->h</b></td><td style=\"background-color: rgb(0.0000, 255,0.0000);\">1.0000</td><td style=\"background-color: rgb(255.0000, 255,255.0000);\">0.0000</td><td style=\"background-color: rgb(255.0000, 255,255.0000);\">0.0000</td><td style=\"background-color: rgb(255.0000, 255,255.0000);\">0.0000</td></tr></table>"
      ],
      "text/plain": [
       "<IPython.core.display.HTML object>"
      ]
     },
     "metadata": {},
     "output_type": "display_data"
    },
    {
     "name": "stdout",
     "output_type": "stream",
     "text": [
      "true Searching pred_h Searching pred_fnh Searching\n"
     ]
    },
    {
     "data": {
      "text/html": [
       "<table><tr><td><b>words</b></td><td style=\"background-color: rgb(255,255,255);\">search</td><td style=\"background-color: rgb(255,255,255);\">for</td><td style=\"background-color: rgb(255,255,255);\">a</td><td style=\"background-color: rgb(255,255,255);\">blue</td><td style=\"background-color: rgb(255,255,255);\">plate</td></tr><tr><td><b>lu</b></td><td style=\"background-color: rgb(0.0000, 255,0.0000);\">1.0000</td><td style=\"background-color: rgb(255.0000, 255,255.0000);\">0.0000</td><td style=\"background-color: rgb(255.0000, 255,255.0000);\">0.0000</td><td style=\"background-color: rgb(255.0000, 255,255.0000);\">0.0000</td><td style=\"background-color: rgb(255.0000, 255,255.0000);\">0.0000</td></tr><tr><td><b>h->h</b></td><td style=\"background-color: rgb(254.9960, 255,254.9960);\">0.0000</td><td style=\"background-color: rgb(254.3983, 255,254.3983);\">0.0024</td><td style=\"background-color: rgb(246.7720, 255,246.7720);\">0.0323</td><td style=\"background-color: rgb(206.3928, 255,206.3928);\">0.1906</td><td style=\"background-color: rgb(57.4417, 255,57.4417);\">0.7747</td></tr><tr><td><b>fn+h->h</b></td><td style=\"background-color: rgb(0.0000, 255,0.0000);\">1.0000</td><td style=\"background-color: rgb(255.0000, 255,255.0000);\">0.0000</td><td style=\"background-color: rgb(255.0000, 255,255.0000);\">0.0000</td><td style=\"background-color: rgb(255.0000, 255,255.0000);\">0.0000</td><td style=\"background-color: rgb(255.0000, 255,255.0000);\">0.0000</td></tr></table>"
      ],
      "text/plain": [
       "<IPython.core.display.HTML object>"
      ]
     },
     "metadata": {},
     "output_type": "display_data"
    },
    {
     "name": "stdout",
     "output_type": "stream",
     "text": [
      "true Searching pred_h Searching pred_fnh Searching\n"
     ]
    },
    {
     "data": {
      "text/html": [
       "<table><tr><td><b>words</b></td><td style=\"background-color: rgb(255,255,255);\">search</td><td style=\"background-color: rgb(255,255,255);\">for</td><td style=\"background-color: rgb(255,255,255);\">the</td><td style=\"background-color: rgb(255,255,255);\">scissors</td><td style=\"background-color: rgb(255,255,255);\">in</td><td style=\"background-color: rgb(255,255,255);\">the</td><td style=\"background-color: rgb(255,255,255);\">red</td><td style=\"background-color: rgb(255,255,255);\">drawer</td></tr><tr><td><b>lu</b></td><td style=\"background-color: rgb(0.0000, 255,0.0000);\">1.0000</td><td style=\"background-color: rgb(255.0000, 255,255.0000);\">0.0000</td><td style=\"background-color: rgb(255.0000, 255,255.0000);\">0.0000</td><td style=\"background-color: rgb(255.0000, 255,255.0000);\">0.0000</td><td style=\"background-color: rgb(255.0000, 255,255.0000);\">0.0000</td><td style=\"background-color: rgb(255.0000, 255,255.0000);\">0.0000</td><td style=\"background-color: rgb(255.0000, 255,255.0000);\">0.0000</td><td style=\"background-color: rgb(255.0000, 255,255.0000);\">0.0000</td></tr><tr><td><b>h->h</b></td><td style=\"background-color: rgb(254.9992, 255,254.9992);\">0.0000</td><td style=\"background-color: rgb(254.9237, 255,254.9237);\">0.0003</td><td style=\"background-color: rgb(254.8235, 255,254.8235);\">0.0007</td><td style=\"background-color: rgb(254.9511, 255,254.9511);\">0.0002</td><td style=\"background-color: rgb(245.4989, 255,245.4989);\">0.0373</td><td style=\"background-color: rgb(206.8539, 255,206.8539);\">0.1888</td><td style=\"background-color: rgb(204.3079, 255,204.3079);\">0.1988</td><td style=\"background-color: rgb(108.6424, 255,108.6424);\">0.5740</td></tr><tr><td><b>fn+h->h</b></td><td style=\"background-color: rgb(0.0000, 255,0.0000);\">1.0000</td><td style=\"background-color: rgb(255.0000, 255,255.0000);\">0.0000</td><td style=\"background-color: rgb(255.0000, 255,255.0000);\">0.0000</td><td style=\"background-color: rgb(255.0000, 255,255.0000);\">0.0000</td><td style=\"background-color: rgb(255.0000, 255,255.0000);\">0.0000</td><td style=\"background-color: rgb(255.0000, 255,255.0000);\">0.0000</td><td style=\"background-color: rgb(255.0000, 255,255.0000);\">0.0000</td><td style=\"background-color: rgb(255.0000, 255,255.0000);\">0.0000</td></tr></table>"
      ],
      "text/plain": [
       "<IPython.core.display.HTML object>"
      ]
     },
     "metadata": {},
     "output_type": "display_data"
    },
    {
     "name": "stdout",
     "output_type": "stream",
     "text": [
      "true Searching pred_h Searching pred_fnh Searching\n"
     ]
    },
    {
     "data": {
      "text/html": [
       "<table><tr><td><b>words</b></td><td style=\"background-color: rgb(255,255,255);\">search</td><td style=\"background-color: rgb(255,255,255);\">for</td><td style=\"background-color: rgb(255,255,255);\">the</td><td style=\"background-color: rgb(255,255,255);\">scissors</td></tr><tr><td><b>lu</b></td><td style=\"background-color: rgb(0.0000, 255,0.0000);\">1.0000</td><td style=\"background-color: rgb(255.0000, 255,255.0000);\">0.0000</td><td style=\"background-color: rgb(255.0000, 255,255.0000);\">0.0000</td><td style=\"background-color: rgb(255.0000, 255,255.0000);\">0.0000</td></tr><tr><td><b>h->h</b></td><td style=\"background-color: rgb(254.9923, 255,254.9923);\">0.0000</td><td style=\"background-color: rgb(253.8065, 255,253.8065);\">0.0047</td><td style=\"background-color: rgb(233.5006, 255,233.5006);\">0.0843</td><td style=\"background-color: rgb(22.7030, 255,22.7030);\">0.9110</td></tr><tr><td><b>fn+h->h</b></td><td style=\"background-color: rgb(0.0000, 255,0.0000);\">1.0000</td><td style=\"background-color: rgb(255.0000, 255,255.0000);\">0.0000</td><td style=\"background-color: rgb(255.0000, 255,255.0000);\">0.0000</td><td style=\"background-color: rgb(255.0000, 255,255.0000);\">0.0000</td></tr></table>"
      ],
      "text/plain": [
       "<IPython.core.display.HTML object>"
      ]
     },
     "metadata": {},
     "output_type": "display_data"
    },
    {
     "name": "stdout",
     "output_type": "stream",
     "text": [
      "true Searching pred_h Searching pred_fnh Searching\n"
     ]
    },
    {
     "data": {
      "text/html": [
       "<table><tr><td><b>words</b></td><td style=\"background-color: rgb(255,255,255);\">search</td><td style=\"background-color: rgb(255,255,255);\">the</td><td style=\"background-color: rgb(255,255,255);\">living</td><td style=\"background-color: rgb(255,255,255);\">room</td><td style=\"background-color: rgb(255,255,255);\">for</td><td style=\"background-color: rgb(255,255,255);\">my</td><td style=\"background-color: rgb(255,255,255);\">mobile</td><td style=\"background-color: rgb(255,255,255);\">phone</td></tr><tr><td><b>lu</b></td><td style=\"background-color: rgb(0.0000, 255,0.0000);\">1.0000</td><td style=\"background-color: rgb(255.0000, 255,255.0000);\">0.0000</td><td style=\"background-color: rgb(255.0000, 255,255.0000);\">0.0000</td><td style=\"background-color: rgb(255.0000, 255,255.0000);\">0.0000</td><td style=\"background-color: rgb(255.0000, 255,255.0000);\">0.0000</td><td style=\"background-color: rgb(255.0000, 255,255.0000);\">0.0000</td><td style=\"background-color: rgb(255.0000, 255,255.0000);\">0.0000</td><td style=\"background-color: rgb(255.0000, 255,255.0000);\">0.0000</td></tr><tr><td><b>h->h</b></td><td style=\"background-color: rgb(254.9964, 255,254.9964);\">0.0000</td><td style=\"background-color: rgb(254.9439, 255,254.9439);\">0.0002</td><td style=\"background-color: rgb(254.9373, 255,254.9373);\">0.0002</td><td style=\"background-color: rgb(254.2632, 255,254.2632);\">0.0029</td><td style=\"background-color: rgb(251.0823, 255,251.0823);\">0.0154</td><td style=\"background-color: rgb(222.0510, 255,222.0510);\">0.1292</td><td style=\"background-color: rgb(213.6414, 255,213.6414);\">0.1622</td><td style=\"background-color: rgb(79.0852, 255,79.0852);\">0.6899</td></tr><tr><td><b>fn+h->h</b></td><td style=\"background-color: rgb(0.0000, 255,0.0000);\">1.0000</td><td style=\"background-color: rgb(255.0000, 255,255.0000);\">0.0000</td><td style=\"background-color: rgb(255.0000, 255,255.0000);\">0.0000</td><td style=\"background-color: rgb(255.0000, 255,255.0000);\">0.0000</td><td style=\"background-color: rgb(255.0000, 255,255.0000);\">0.0000</td><td style=\"background-color: rgb(255.0000, 255,255.0000);\">0.0000</td><td style=\"background-color: rgb(255.0000, 255,255.0000);\">0.0000</td><td style=\"background-color: rgb(255.0000, 255,255.0000);\">0.0000</td></tr></table>"
      ],
      "text/plain": [
       "<IPython.core.display.HTML object>"
      ]
     },
     "metadata": {},
     "output_type": "display_data"
    },
    {
     "name": "stdout",
     "output_type": "stream",
     "text": [
      "true Searching pred_h Searching pred_fnh Searching\n"
     ]
    },
    {
     "data": {
      "text/html": [
       "<table><tr><td><b>words</b></td><td style=\"background-color: rgb(255,255,255);\">search</td><td style=\"background-color: rgb(255,255,255);\">the</td><td style=\"background-color: rgb(255,255,255);\">living</td><td style=\"background-color: rgb(255,255,255);\">room</td><td style=\"background-color: rgb(255,255,255);\">for</td><td style=\"background-color: rgb(255,255,255);\">the</td><td style=\"background-color: rgb(255,255,255);\">remote</td><td style=\"background-color: rgb(255,255,255);\">control</td></tr><tr><td><b>lu</b></td><td style=\"background-color: rgb(0.0000, 255,0.0000);\">1.0000</td><td style=\"background-color: rgb(255.0000, 255,255.0000);\">0.0000</td><td style=\"background-color: rgb(255.0000, 255,255.0000);\">0.0000</td><td style=\"background-color: rgb(255.0000, 255,255.0000);\">0.0000</td><td style=\"background-color: rgb(255.0000, 255,255.0000);\">0.0000</td><td style=\"background-color: rgb(255.0000, 255,255.0000);\">0.0000</td><td style=\"background-color: rgb(255.0000, 255,255.0000);\">0.0000</td><td style=\"background-color: rgb(255.0000, 255,255.0000);\">0.0000</td></tr><tr><td><b>h->h</b></td><td style=\"background-color: rgb(254.9973, 255,254.9973);\">0.0000</td><td style=\"background-color: rgb(254.7146, 255,254.7146);\">0.0011</td><td style=\"background-color: rgb(254.8898, 255,254.8898);\">0.0004</td><td style=\"background-color: rgb(254.3162, 255,254.3162);\">0.0027</td><td style=\"background-color: rgb(252.3504, 255,252.3504);\">0.0104</td><td style=\"background-color: rgb(239.5723, 255,239.5723);\">0.0605</td><td style=\"background-color: rgb(141.0691, 255,141.0691);\">0.4468</td><td style=\"background-color: rgb(133.0908, 255,133.0908);\">0.4781</td></tr><tr><td><b>fn+h->h</b></td><td style=\"background-color: rgb(0.0001, 255,0.0001);\">1.0000</td><td style=\"background-color: rgb(255.0000, 255,255.0000);\">0.0000</td><td style=\"background-color: rgb(255.0000, 255,255.0000);\">0.0000</td><td style=\"background-color: rgb(255.0000, 255,255.0000);\">0.0000</td><td style=\"background-color: rgb(255.0000, 255,255.0000);\">0.0000</td><td style=\"background-color: rgb(255.0000, 255,255.0000);\">0.0000</td><td style=\"background-color: rgb(254.9999, 255,254.9999);\">0.0000</td><td style=\"background-color: rgb(255.0000, 255,255.0000);\">0.0000</td></tr></table>"
      ],
      "text/plain": [
       "<IPython.core.display.HTML object>"
      ]
     },
     "metadata": {},
     "output_type": "display_data"
    },
    {
     "name": "stdout",
     "output_type": "stream",
     "text": [
      "true Motion pred_h Motion pred_fnh Motion\n"
     ]
    },
    {
     "data": {
      "text/html": [
       "<table><tr><td><b>words</b></td><td style=\"background-color: rgb(255,255,255);\">sorry</td><td style=\"background-color: rgb(255,255,255);\">robot</td><td style=\"background-color: rgb(255,255,255);\">can</td><td style=\"background-color: rgb(255,255,255);\">you</td><td style=\"background-color: rgb(255,255,255);\">go</td><td style=\"background-color: rgb(255,255,255);\">to</td><td style=\"background-color: rgb(255,255,255);\">the</td><td style=\"background-color: rgb(255,255,255);\">kitchen</td></tr><tr><td><b>lu</b></td><td style=\"background-color: rgb(255.0000, 255,255.0000);\">0.0000</td><td style=\"background-color: rgb(255.0000, 255,255.0000);\">0.0000</td><td style=\"background-color: rgb(255.0000, 255,255.0000);\">0.0000</td><td style=\"background-color: rgb(255.0000, 255,255.0000);\">0.0000</td><td style=\"background-color: rgb(0.0000, 255,0.0000);\">1.0000</td><td style=\"background-color: rgb(255.0000, 255,255.0000);\">0.0000</td><td style=\"background-color: rgb(255.0000, 255,255.0000);\">0.0000</td><td style=\"background-color: rgb(255.0000, 255,255.0000);\">0.0000</td></tr><tr><td><b>h->h</b></td><td style=\"background-color: rgb(255.0000, 255,255.0000);\">0.0000</td><td style=\"background-color: rgb(255.0000, 255,255.0000);\">0.0000</td><td style=\"background-color: rgb(255.0000, 255,255.0000);\">0.0000</td><td style=\"background-color: rgb(255.0000, 255,255.0000);\">0.0000</td><td style=\"background-color: rgb(254.9999, 255,254.9999);\">0.0000</td><td style=\"background-color: rgb(253.4043, 255,253.4043);\">0.0063</td><td style=\"background-color: rgb(42.1715, 255,42.1715);\">0.8346</td><td style=\"background-color: rgb(214.4252, 255,214.4252);\">0.1591</td></tr><tr><td><b>fn+h->h</b></td><td style=\"background-color: rgb(255.0000, 255,255.0000);\">0.0000</td><td style=\"background-color: rgb(255.0000, 255,255.0000);\">0.0000</td><td style=\"background-color: rgb(255.0000, 255,255.0000);\">0.0000</td><td style=\"background-color: rgb(255.0000, 255,255.0000);\">0.0000</td><td style=\"background-color: rgb(0.1106, 255,0.1106);\">0.9996</td><td style=\"background-color: rgb(254.8894, 255,254.8894);\">0.0004</td><td style=\"background-color: rgb(255.0000, 255,255.0000);\">0.0000</td><td style=\"background-color: rgb(255.0000, 255,255.0000);\">0.0000</td></tr></table>"
      ],
      "text/plain": [
       "<IPython.core.display.HTML object>"
      ]
     },
     "metadata": {},
     "output_type": "display_data"
    },
    {
     "name": "stdout",
     "output_type": "stream",
     "text": [
      "true Taking pred_h Taking pred_fnh Taking\n"
     ]
    },
    {
     "data": {
      "text/html": [
       "<table><tr><td><b>words</b></td><td style=\"background-color: rgb(255,255,255);\">take</td><td style=\"background-color: rgb(255,255,255);\">a</td><td style=\"background-color: rgb(255,255,255);\">coffee</td><td style=\"background-color: rgb(255,255,255);\">mug</td></tr><tr><td><b>lu</b></td><td style=\"background-color: rgb(0.0000, 255,0.0000);\">1.0000</td><td style=\"background-color: rgb(255.0000, 255,255.0000);\">0.0000</td><td style=\"background-color: rgb(255.0000, 255,255.0000);\">0.0000</td><td style=\"background-color: rgb(255.0000, 255,255.0000);\">0.0000</td></tr><tr><td><b>h->h</b></td><td style=\"background-color: rgb(254.9830, 255,254.9830);\">0.0001</td><td style=\"background-color: rgb(234.9567, 255,234.9567);\">0.0786</td><td style=\"background-color: rgb(20.1640, 255,20.1640);\">0.9209</td><td style=\"background-color: rgb(254.9155, 255,254.9155);\">0.0003</td></tr><tr><td><b>fn+h->h</b></td><td style=\"background-color: rgb(0.0374, 255,0.0374);\">0.9999</td><td style=\"background-color: rgb(254.9626, 255,254.9626);\">0.0001</td><td style=\"background-color: rgb(255.0000, 255,255.0000);\">0.0000</td><td style=\"background-color: rgb(255.0000, 255,255.0000);\">0.0000</td></tr></table>"
      ],
      "text/plain": [
       "<IPython.core.display.HTML object>"
      ]
     },
     "metadata": {},
     "output_type": "display_data"
    },
    {
     "name": "stdout",
     "output_type": "stream",
     "text": [
      "true Taking pred_h Taking pred_fnh Taking\n"
     ]
    },
    {
     "data": {
      "text/html": [
       "<table><tr><td><b>words</b></td><td style=\"background-color: rgb(255,255,255);\">take</td><td style=\"background-color: rgb(255,255,255);\">my</td><td style=\"background-color: rgb(255,255,255);\">trousers</td><td style=\"background-color: rgb(255,255,255);\">on</td><td style=\"background-color: rgb(255,255,255);\">the</td><td style=\"background-color: rgb(255,255,255);\">bed</td></tr><tr><td><b>lu</b></td><td style=\"background-color: rgb(0.0000, 255,0.0000);\">1.0000</td><td style=\"background-color: rgb(255.0000, 255,255.0000);\">0.0000</td><td style=\"background-color: rgb(255.0000, 255,255.0000);\">0.0000</td><td style=\"background-color: rgb(255.0000, 255,255.0000);\">0.0000</td><td style=\"background-color: rgb(255.0000, 255,255.0000);\">0.0000</td><td style=\"background-color: rgb(255.0000, 255,255.0000);\">0.0000</td></tr><tr><td><b>h->h</b></td><td style=\"background-color: rgb(254.9960, 255,254.9960);\">0.0000</td><td style=\"background-color: rgb(254.5894, 255,254.5894);\">0.0016</td><td style=\"background-color: rgb(254.9635, 255,254.9635);\">0.0001</td><td style=\"background-color: rgb(252.7107, 255,252.7107);\">0.0090</td><td style=\"background-color: rgb(2.9484, 255,2.9484);\">0.9884</td><td style=\"background-color: rgb(254.8030, 255,254.8030);\">0.0008</td></tr><tr><td><b>fn+h->h</b></td><td style=\"background-color: rgb(0.0013, 255,0.0013);\">1.0000</td><td style=\"background-color: rgb(255.0000, 255,255.0000);\">0.0000</td><td style=\"background-color: rgb(255.0000, 255,255.0000);\">0.0000</td><td style=\"background-color: rgb(254.9987, 255,254.9987);\">0.0000</td><td style=\"background-color: rgb(255.0000, 255,255.0000);\">0.0000</td><td style=\"background-color: rgb(255.0000, 255,255.0000);\">0.0000</td></tr></table>"
      ],
      "text/plain": [
       "<IPython.core.display.HTML object>"
      ]
     },
     "metadata": {},
     "output_type": "display_data"
    },
    {
     "name": "stdout",
     "output_type": "stream",
     "text": [
      "true Taking pred_h Taking pred_fnh Taking\n"
     ]
    },
    {
     "data": {
      "text/html": [
       "<table><tr><td><b>words</b></td><td style=\"background-color: rgb(255,255,255);\">take</td><td style=\"background-color: rgb(255,255,255);\">my</td><td style=\"background-color: rgb(255,255,255);\">wristwatch</td></tr><tr><td><b>lu</b></td><td style=\"background-color: rgb(0.0000, 255,0.0000);\">1.0000</td><td style=\"background-color: rgb(255.0000, 255,255.0000);\">0.0000</td><td style=\"background-color: rgb(255.0000, 255,255.0000);\">0.0000</td></tr><tr><td><b>h->h</b></td><td style=\"background-color: rgb(254.9000, 255,254.9000);\">0.0004</td><td style=\"background-color: rgb(0.3203, 255,0.3203);\">0.9987</td><td style=\"background-color: rgb(254.8478, 255,254.8478);\">0.0006</td></tr><tr><td><b>fn+h->h</b></td><td style=\"background-color: rgb(0.0016, 255,0.0016);\">1.0000</td><td style=\"background-color: rgb(254.9984, 255,254.9984);\">0.0000</td><td style=\"background-color: rgb(255.0000, 255,255.0000);\">0.0000</td></tr></table>"
      ],
      "text/plain": [
       "<IPython.core.display.HTML object>"
      ]
     },
     "metadata": {},
     "output_type": "display_data"
    },
    {
     "name": "stdout",
     "output_type": "stream",
     "text": [
      "true Taking pred_h Taking pred_fnh Taking\n"
     ]
    },
    {
     "data": {
      "text/html": [
       "<table><tr><td><b>words</b></td><td style=\"background-color: rgb(255,255,255);\">take</td><td style=\"background-color: rgb(255,255,255);\">the</td><td style=\"background-color: rgb(255,255,255);\">apple</td><td style=\"background-color: rgb(255,255,255);\">jam</td><td style=\"background-color: rgb(255,255,255);\">jar</td></tr><tr><td><b>lu</b></td><td style=\"background-color: rgb(0.0000, 255,0.0000);\">1.0000</td><td style=\"background-color: rgb(255.0000, 255,255.0000);\">0.0000</td><td style=\"background-color: rgb(255.0000, 255,255.0000);\">0.0000</td><td style=\"background-color: rgb(255.0000, 255,255.0000);\">0.0000</td><td style=\"background-color: rgb(255.0000, 255,255.0000);\">0.0000</td></tr><tr><td><b>h->h</b></td><td style=\"background-color: rgb(254.5559, 255,254.5559);\">0.0017</td><td style=\"background-color: rgb(241.0003, 255,241.0003);\">0.0549</td><td style=\"background-color: rgb(250.2993, 255,250.2993);\">0.0184</td><td style=\"background-color: rgb(21.1469, 255,21.1469);\">0.9171</td><td style=\"background-color: rgb(253.7099, 255,253.7099);\">0.0051</td></tr><tr><td><b>fn+h->h</b></td><td style=\"background-color: rgb(0.0000, 255,0.0000);\">1.0000</td><td style=\"background-color: rgb(255.0000, 255,255.0000);\">0.0000</td><td style=\"background-color: rgb(255.0000, 255,255.0000);\">0.0000</td><td style=\"background-color: rgb(255.0000, 255,255.0000);\">0.0000</td><td style=\"background-color: rgb(255.0000, 255,255.0000);\">0.0000</td></tr></table>"
      ],
      "text/plain": [
       "<IPython.core.display.HTML object>"
      ]
     },
     "metadata": {},
     "output_type": "display_data"
    },
    {
     "name": "stdout",
     "output_type": "stream",
     "text": [
      "true Taking pred_h Taking pred_fnh Taking\n"
     ]
    },
    {
     "data": {
      "text/html": [
       "<table><tr><td><b>words</b></td><td style=\"background-color: rgb(255,255,255);\">take</td><td style=\"background-color: rgb(255,255,255);\">the</td><td style=\"background-color: rgb(255,255,255);\">beer</td><td style=\"background-color: rgb(255,255,255);\">cans</td><td style=\"background-color: rgb(255,255,255);\">in</td><td style=\"background-color: rgb(255,255,255);\">the</td><td style=\"background-color: rgb(255,255,255);\">kitchen</td></tr><tr><td><b>lu</b></td><td style=\"background-color: rgb(0.0000, 255,0.0000);\">1.0000</td><td style=\"background-color: rgb(255.0000, 255,255.0000);\">0.0000</td><td style=\"background-color: rgb(255.0000, 255,255.0000);\">0.0000</td><td style=\"background-color: rgb(255.0000, 255,255.0000);\">0.0000</td><td style=\"background-color: rgb(255.0000, 255,255.0000);\">0.0000</td><td style=\"background-color: rgb(255.0000, 255,255.0000);\">0.0000</td><td style=\"background-color: rgb(255.0000, 255,255.0000);\">0.0000</td></tr><tr><td><b>h->h</b></td><td style=\"background-color: rgb(254.9986, 255,254.9986);\">0.0000</td><td style=\"background-color: rgb(254.9863, 255,254.9863);\">0.0001</td><td style=\"background-color: rgb(254.9957, 255,254.9957);\">0.0000</td><td style=\"background-color: rgb(254.9983, 255,254.9983);\">0.0000</td><td style=\"background-color: rgb(254.0133, 255,254.0133);\">0.0039</td><td style=\"background-color: rgb(1.1270, 255,1.1270);\">0.9956</td><td style=\"background-color: rgb(254.8853, 255,254.8853);\">0.0004</td></tr><tr><td><b>fn+h->h</b></td><td style=\"background-color: rgb(0.0005, 255,0.0005);\">1.0000</td><td style=\"background-color: rgb(255.0000, 255,255.0000);\">0.0000</td><td style=\"background-color: rgb(255.0000, 255,255.0000);\">0.0000</td><td style=\"background-color: rgb(255.0000, 255,255.0000);\">0.0000</td><td style=\"background-color: rgb(254.9995, 255,254.9995);\">0.0000</td><td style=\"background-color: rgb(255.0000, 255,255.0000);\">0.0000</td><td style=\"background-color: rgb(255.0000, 255,255.0000);\">0.0000</td></tr></table>"
      ],
      "text/plain": [
       "<IPython.core.display.HTML object>"
      ]
     },
     "metadata": {},
     "output_type": "display_data"
    },
    {
     "name": "stdout",
     "output_type": "stream",
     "text": [
      "true Taking pred_h Taking pred_fnh Taking\n"
     ]
    },
    {
     "data": {
      "text/html": [
       "<table><tr><td><b>words</b></td><td style=\"background-color: rgb(255,255,255);\">take</td><td style=\"background-color: rgb(255,255,255);\">the</td><td style=\"background-color: rgb(255,255,255);\">black</td><td style=\"background-color: rgb(255,255,255);\">paperback</td><td style=\"background-color: rgb(255,255,255);\">from</td><td style=\"background-color: rgb(255,255,255);\">the</td><td style=\"background-color: rgb(255,255,255);\">bookshelf</td></tr><tr><td><b>lu</b></td><td style=\"background-color: rgb(0.0000, 255,0.0000);\">1.0000</td><td style=\"background-color: rgb(255.0000, 255,255.0000);\">0.0000</td><td style=\"background-color: rgb(255.0000, 255,255.0000);\">0.0000</td><td style=\"background-color: rgb(255.0000, 255,255.0000);\">0.0000</td><td style=\"background-color: rgb(255.0000, 255,255.0000);\">0.0000</td><td style=\"background-color: rgb(255.0000, 255,255.0000);\">0.0000</td><td style=\"background-color: rgb(255.0000, 255,255.0000);\">0.0000</td></tr><tr><td><b>h->h</b></td><td style=\"background-color: rgb(254.9952, 255,254.9952);\">0.0000</td><td style=\"background-color: rgb(254.7934, 255,254.7934);\">0.0008</td><td style=\"background-color: rgb(254.9864, 255,254.9864);\">0.0001</td><td style=\"background-color: rgb(254.9989, 255,254.9989);\">0.0000</td><td style=\"background-color: rgb(254.2360, 255,254.2360);\">0.0030</td><td style=\"background-color: rgb(1.2735, 255,1.2735);\">0.9950</td><td style=\"background-color: rgb(254.7282, 255,254.7282);\">0.0011</td></tr><tr><td><b>fn+h->h</b></td><td style=\"background-color: rgb(0.0000, 255,0.0000);\">1.0000</td><td style=\"background-color: rgb(255.0000, 255,255.0000);\">0.0000</td><td style=\"background-color: rgb(255.0000, 255,255.0000);\">0.0000</td><td style=\"background-color: rgb(255.0000, 255,255.0000);\">0.0000</td><td style=\"background-color: rgb(255.0000, 255,255.0000);\">0.0000</td><td style=\"background-color: rgb(255.0000, 255,255.0000);\">0.0000</td><td style=\"background-color: rgb(255.0000, 255,255.0000);\">0.0000</td></tr></table>"
      ],
      "text/plain": [
       "<IPython.core.display.HTML object>"
      ]
     },
     "metadata": {},
     "output_type": "display_data"
    },
    {
     "name": "stdout",
     "output_type": "stream",
     "text": [
      "true Taking pred_h Taking pred_fnh Taking\n"
     ]
    },
    {
     "data": {
      "text/html": [
       "<table><tr><td><b>words</b></td><td style=\"background-color: rgb(255,255,255);\">take</td><td style=\"background-color: rgb(255,255,255);\">the</td><td style=\"background-color: rgb(255,255,255);\">bottle</td><td style=\"background-color: rgb(255,255,255);\">of</td><td style=\"background-color: rgb(255,255,255);\">water</td><td style=\"background-color: rgb(255,255,255);\">on</td><td style=\"background-color: rgb(255,255,255);\">the</td><td style=\"background-color: rgb(255,255,255);\">table</td></tr><tr><td><b>lu</b></td><td style=\"background-color: rgb(0.0000, 255,0.0000);\">1.0000</td><td style=\"background-color: rgb(255.0000, 255,255.0000);\">0.0000</td><td style=\"background-color: rgb(255.0000, 255,255.0000);\">0.0000</td><td style=\"background-color: rgb(255.0000, 255,255.0000);\">0.0000</td><td style=\"background-color: rgb(255.0000, 255,255.0000);\">0.0000</td><td style=\"background-color: rgb(255.0000, 255,255.0000);\">0.0000</td><td style=\"background-color: rgb(255.0000, 255,255.0000);\">0.0000</td><td style=\"background-color: rgb(255.0000, 255,255.0000);\">0.0000</td></tr><tr><td><b>h->h</b></td><td style=\"background-color: rgb(254.9953, 255,254.9953);\">0.0000</td><td style=\"background-color: rgb(254.9426, 255,254.9426);\">0.0002</td><td style=\"background-color: rgb(254.9668, 255,254.9668);\">0.0001</td><td style=\"background-color: rgb(254.9707, 255,254.9707);\">0.0001</td><td style=\"background-color: rgb(254.9983, 255,254.9983);\">0.0000</td><td style=\"background-color: rgb(254.1096, 255,254.1096);\">0.0035</td><td style=\"background-color: rgb(1.4193, 255,1.4193);\">0.9944</td><td style=\"background-color: rgb(254.6081, 255,254.6081);\">0.0015</td></tr><tr><td><b>fn+h->h</b></td><td style=\"background-color: rgb(0.8916, 255,0.8916);\">0.9965</td><td style=\"background-color: rgb(255.0000, 255,255.0000);\">0.0000</td><td style=\"background-color: rgb(254.9999, 255,254.9999);\">0.0000</td><td style=\"background-color: rgb(255.0000, 255,255.0000);\">0.0000</td><td style=\"background-color: rgb(255.0000, 255,255.0000);\">0.0000</td><td style=\"background-color: rgb(254.1085, 255,254.1085);\">0.0035</td><td style=\"background-color: rgb(255.0000, 255,255.0000);\">0.0000</td><td style=\"background-color: rgb(255.0000, 255,255.0000);\">0.0000</td></tr></table>"
      ],
      "text/plain": [
       "<IPython.core.display.HTML object>"
      ]
     },
     "metadata": {},
     "output_type": "display_data"
    },
    {
     "name": "stdout",
     "output_type": "stream",
     "text": [
      "true Taking pred_h Taking pred_fnh Taking\n"
     ]
    },
    {
     "data": {
      "text/html": [
       "<table><tr><td><b>words</b></td><td style=\"background-color: rgb(255,255,255);\">take</td><td style=\"background-color: rgb(255,255,255);\">the</td><td style=\"background-color: rgb(255,255,255);\">cereal</td><td style=\"background-color: rgb(255,255,255);\">box</td></tr><tr><td><b>lu</b></td><td style=\"background-color: rgb(0.0000, 255,0.0000);\">1.0000</td><td style=\"background-color: rgb(255.0000, 255,255.0000);\">0.0000</td><td style=\"background-color: rgb(255.0000, 255,255.0000);\">0.0000</td><td style=\"background-color: rgb(255.0000, 255,255.0000);\">0.0000</td></tr><tr><td><b>h->h</b></td><td style=\"background-color: rgb(254.9412, 255,254.9412);\">0.0002</td><td style=\"background-color: rgb(243.8758, 255,243.8758);\">0.0436</td><td style=\"background-color: rgb(20.8045, 255,20.8045);\">0.9184</td><td style=\"background-color: rgb(245.4713, 255,245.4713);\">0.0374</td></tr><tr><td><b>fn+h->h</b></td><td style=\"background-color: rgb(0.3488, 255,0.3488);\">0.9986</td><td style=\"background-color: rgb(255.0000, 255,255.0000);\">0.0000</td><td style=\"background-color: rgb(255.0000, 255,255.0000);\">0.0000</td><td style=\"background-color: rgb(254.6512, 255,254.6512);\">0.0014</td></tr></table>"
      ],
      "text/plain": [
       "<IPython.core.display.HTML object>"
      ]
     },
     "metadata": {},
     "output_type": "display_data"
    },
    {
     "name": "stdout",
     "output_type": "stream",
     "text": [
      "true Taking pred_h Taking pred_fnh Taking\n"
     ]
    },
    {
     "data": {
      "text/html": [
       "<table><tr><td><b>words</b></td><td style=\"background-color: rgb(255,255,255);\">take</td><td style=\"background-color: rgb(255,255,255);\">the</td><td style=\"background-color: rgb(255,255,255);\">coffee</td><td style=\"background-color: rgb(255,255,255);\">mugs</td><td style=\"background-color: rgb(255,255,255);\">from</td><td style=\"background-color: rgb(255,255,255);\">the</td><td style=\"background-color: rgb(255,255,255);\">kitchen</td><td style=\"background-color: rgb(255,255,255);\">cabinet</td></tr><tr><td><b>lu</b></td><td style=\"background-color: rgb(0.0000, 255,0.0000);\">1.0000</td><td style=\"background-color: rgb(255.0000, 255,255.0000);\">0.0000</td><td style=\"background-color: rgb(255.0000, 255,255.0000);\">0.0000</td><td style=\"background-color: rgb(255.0000, 255,255.0000);\">0.0000</td><td style=\"background-color: rgb(255.0000, 255,255.0000);\">0.0000</td><td style=\"background-color: rgb(255.0000, 255,255.0000);\">0.0000</td><td style=\"background-color: rgb(255.0000, 255,255.0000);\">0.0000</td><td style=\"background-color: rgb(255.0000, 255,255.0000);\">0.0000</td></tr><tr><td><b>h->h</b></td><td style=\"background-color: rgb(254.9891, 255,254.9891);\">0.0000</td><td style=\"background-color: rgb(254.4000, 255,254.4000);\">0.0024</td><td style=\"background-color: rgb(254.5727, 255,254.5727);\">0.0017</td><td style=\"background-color: rgb(254.9988, 255,254.9988);\">0.0000</td><td style=\"background-color: rgb(254.3931, 255,254.3931);\">0.0024</td><td style=\"background-color: rgb(128.9475, 255,128.9475);\">0.4943</td><td style=\"background-color: rgb(128.2806, 255,128.2806);\">0.4969</td><td style=\"background-color: rgb(254.4354, 255,254.4354);\">0.0022</td></tr><tr><td><b>fn+h->h</b></td><td style=\"background-color: rgb(0.0000, 255,0.0000);\">1.0000</td><td style=\"background-color: rgb(255.0000, 255,255.0000);\">0.0000</td><td style=\"background-color: rgb(255.0000, 255,255.0000);\">0.0000</td><td style=\"background-color: rgb(255.0000, 255,255.0000);\">0.0000</td><td style=\"background-color: rgb(255.0000, 255,255.0000);\">0.0000</td><td style=\"background-color: rgb(255.0000, 255,255.0000);\">0.0000</td><td style=\"background-color: rgb(255.0000, 255,255.0000);\">0.0000</td><td style=\"background-color: rgb(255.0000, 255,255.0000);\">0.0000</td></tr></table>"
      ],
      "text/plain": [
       "<IPython.core.display.HTML object>"
      ]
     },
     "metadata": {},
     "output_type": "display_data"
    },
    {
     "name": "stdout",
     "output_type": "stream",
     "text": [
      "true Taking pred_h Taking pred_fnh Taking\n"
     ]
    },
    {
     "data": {
      "text/html": [
       "<table><tr><td><b>words</b></td><td style=\"background-color: rgb(255,255,255);\">take</td><td style=\"background-color: rgb(255,255,255);\">the</td><td style=\"background-color: rgb(255,255,255);\">coke</td><td style=\"background-color: rgb(255,255,255);\">that</td><td style=\"background-color: rgb(255,255,255);\">is</td><td style=\"background-color: rgb(255,255,255);\">in</td><td style=\"background-color: rgb(255,255,255);\">the</td><td style=\"background-color: rgb(255,255,255);\">kitchen</td></tr><tr><td><b>lu</b></td><td style=\"background-color: rgb(0.0000, 255,0.0000);\">1.0000</td><td style=\"background-color: rgb(255.0000, 255,255.0000);\">0.0000</td><td style=\"background-color: rgb(255.0000, 255,255.0000);\">0.0000</td><td style=\"background-color: rgb(255.0000, 255,255.0000);\">0.0000</td><td style=\"background-color: rgb(255.0000, 255,255.0000);\">0.0000</td><td style=\"background-color: rgb(255.0000, 255,255.0000);\">0.0000</td><td style=\"background-color: rgb(255.0000, 255,255.0000);\">0.0000</td><td style=\"background-color: rgb(255.0000, 255,255.0000);\">0.0000</td></tr><tr><td><b>h->h</b></td><td style=\"background-color: rgb(254.9979, 255,254.9979);\">0.0000</td><td style=\"background-color: rgb(254.9226, 255,254.9226);\">0.0003</td><td style=\"background-color: rgb(254.9126, 255,254.9126);\">0.0003</td><td style=\"background-color: rgb(254.9996, 255,254.9996);\">0.0000</td><td style=\"background-color: rgb(254.9995, 255,254.9995);\">0.0000</td><td style=\"background-color: rgb(254.5471, 255,254.5471);\">0.0018</td><td style=\"background-color: rgb(0.7452, 255,0.7452);\">0.9971</td><td style=\"background-color: rgb(254.8818, 255,254.8818);\">0.0005</td></tr><tr><td><b>fn+h->h</b></td><td style=\"background-color: rgb(0.0001, 255,0.0001);\">1.0000</td><td style=\"background-color: rgb(255.0000, 255,255.0000);\">0.0000</td><td style=\"background-color: rgb(255.0000, 255,255.0000);\">0.0000</td><td style=\"background-color: rgb(255.0000, 255,255.0000);\">0.0000</td><td style=\"background-color: rgb(255.0000, 255,255.0000);\">0.0000</td><td style=\"background-color: rgb(254.9999, 255,254.9999);\">0.0000</td><td style=\"background-color: rgb(255.0000, 255,255.0000);\">0.0000</td><td style=\"background-color: rgb(255.0000, 255,255.0000);\">0.0000</td></tr></table>"
      ],
      "text/plain": [
       "<IPython.core.display.HTML object>"
      ]
     },
     "metadata": {},
     "output_type": "display_data"
    },
    {
     "name": "stdout",
     "output_type": "stream",
     "text": [
      "true Taking pred_h Taking pred_fnh Taking\n"
     ]
    },
    {
     "data": {
      "text/html": [
       "<table><tr><td><b>words</b></td><td style=\"background-color: rgb(255,255,255);\">take</td><td style=\"background-color: rgb(255,255,255);\">the</td><td style=\"background-color: rgb(255,255,255);\">corn</td><td style=\"background-color: rgb(255,255,255);\">can</td><td style=\"background-color: rgb(255,255,255);\">on</td><td style=\"background-color: rgb(255,255,255);\">the</td><td style=\"background-color: rgb(255,255,255);\">kitchen</td><td style=\"background-color: rgb(255,255,255);\">table</td></tr><tr><td><b>lu</b></td><td style=\"background-color: rgb(0.0000, 255,0.0000);\">1.0000</td><td style=\"background-color: rgb(255.0000, 255,255.0000);\">0.0000</td><td style=\"background-color: rgb(255.0000, 255,255.0000);\">0.0000</td><td style=\"background-color: rgb(255.0000, 255,255.0000);\">0.0000</td><td style=\"background-color: rgb(255.0000, 255,255.0000);\">0.0000</td><td style=\"background-color: rgb(255.0000, 255,255.0000);\">0.0000</td><td style=\"background-color: rgb(255.0000, 255,255.0000);\">0.0000</td><td style=\"background-color: rgb(255.0000, 255,255.0000);\">0.0000</td></tr><tr><td><b>h->h</b></td><td style=\"background-color: rgb(254.9971, 255,254.9971);\">0.0000</td><td style=\"background-color: rgb(254.8501, 255,254.8501);\">0.0006</td><td style=\"background-color: rgb(254.9997, 255,254.9997);\">0.0000</td><td style=\"background-color: rgb(254.9999, 255,254.9999);\">0.0000</td><td style=\"background-color: rgb(254.1286, 255,254.1286);\">0.0034</td><td style=\"background-color: rgb(71.9624, 255,71.9624);\">0.7178</td><td style=\"background-color: rgb(184.6175, 255,184.6175);\">0.2760</td><td style=\"background-color: rgb(254.4651, 255,254.4651);\">0.0021</td></tr><tr><td><b>fn+h->h</b></td><td style=\"background-color: rgb(0.3701, 255,0.3701);\">0.9985</td><td style=\"background-color: rgb(255.0000, 255,255.0000);\">0.0000</td><td style=\"background-color: rgb(255.0000, 255,255.0000);\">0.0000</td><td style=\"background-color: rgb(254.9998, 255,254.9998);\">0.0000</td><td style=\"background-color: rgb(254.6301, 255,254.6301);\">0.0015</td><td style=\"background-color: rgb(255.0000, 255,255.0000);\">0.0000</td><td style=\"background-color: rgb(255.0000, 255,255.0000);\">0.0000</td><td style=\"background-color: rgb(255.0000, 255,255.0000);\">0.0000</td></tr></table>"
      ],
      "text/plain": [
       "<IPython.core.display.HTML object>"
      ]
     },
     "metadata": {},
     "output_type": "display_data"
    },
    {
     "name": "stdout",
     "output_type": "stream",
     "text": [
      "true Taking pred_h Taking pred_fnh Taking\n"
     ]
    },
    {
     "data": {
      "text/html": [
       "<table><tr><td><b>words</b></td><td style=\"background-color: rgb(255,255,255);\">take</td><td style=\"background-color: rgb(255,255,255);\">the</td><td style=\"background-color: rgb(255,255,255);\">forks</td><td style=\"background-color: rgb(255,255,255);\">from</td><td style=\"background-color: rgb(255,255,255);\">the</td><td style=\"background-color: rgb(255,255,255);\">dishwasher</td></tr><tr><td><b>lu</b></td><td style=\"background-color: rgb(0.0000, 255,0.0000);\">1.0000</td><td style=\"background-color: rgb(255.0000, 255,255.0000);\">0.0000</td><td style=\"background-color: rgb(255.0000, 255,255.0000);\">0.0000</td><td style=\"background-color: rgb(255.0000, 255,255.0000);\">0.0000</td><td style=\"background-color: rgb(255.0000, 255,255.0000);\">0.0000</td><td style=\"background-color: rgb(255.0000, 255,255.0000);\">0.0000</td></tr><tr><td><b>h->h</b></td><td style=\"background-color: rgb(254.9951, 255,254.9951);\">0.0000</td><td style=\"background-color: rgb(254.8226, 255,254.8226);\">0.0007</td><td style=\"background-color: rgb(254.9989, 255,254.9989);\">0.0000</td><td style=\"background-color: rgb(252.6596, 255,252.6596);\">0.0092</td><td style=\"background-color: rgb(2.6270, 255,2.6270);\">0.9897</td><td style=\"background-color: rgb(254.9026, 255,254.9026);\">0.0004</td></tr><tr><td><b>fn+h->h</b></td><td style=\"background-color: rgb(0.0000, 255,0.0000);\">1.0000</td><td style=\"background-color: rgb(255.0000, 255,255.0000);\">0.0000</td><td style=\"background-color: rgb(255.0000, 255,255.0000);\">0.0000</td><td style=\"background-color: rgb(255.0000, 255,255.0000);\">0.0000</td><td style=\"background-color: rgb(255.0000, 255,255.0000);\">0.0000</td><td style=\"background-color: rgb(255.0000, 255,255.0000);\">0.0000</td></tr></table>"
      ],
      "text/plain": [
       "<IPython.core.display.HTML object>"
      ]
     },
     "metadata": {},
     "output_type": "display_data"
    },
    {
     "name": "stdout",
     "output_type": "stream",
     "text": [
      "true Taking pred_h Taking pred_fnh Taking\n"
     ]
    },
    {
     "data": {
      "text/html": [
       "<table><tr><td><b>words</b></td><td style=\"background-color: rgb(255,255,255);\">take</td><td style=\"background-color: rgb(255,255,255);\">the</td><td style=\"background-color: rgb(255,255,255);\">glass</td><td style=\"background-color: rgb(255,255,255);\">jar</td></tr><tr><td><b>lu</b></td><td style=\"background-color: rgb(0.0000, 255,0.0000);\">1.0000</td><td style=\"background-color: rgb(255.0000, 255,255.0000);\">0.0000</td><td style=\"background-color: rgb(255.0000, 255,255.0000);\">0.0000</td><td style=\"background-color: rgb(255.0000, 255,255.0000);\">0.0000</td></tr><tr><td><b>h->h</b></td><td style=\"background-color: rgb(254.8605, 255,254.8605);\">0.0005</td><td style=\"background-color: rgb(125.5177, 255,125.5177);\">0.5078</td><td style=\"background-color: rgb(130.1554, 255,130.1554);\">0.4896</td><td style=\"background-color: rgb(254.6854, 255,254.6854);\">0.0012</td></tr><tr><td><b>fn+h->h</b></td><td style=\"background-color: rgb(0.0000, 255,0.0000);\">1.0000</td><td style=\"background-color: rgb(255.0000, 255,255.0000);\">0.0000</td><td style=\"background-color: rgb(255.0000, 255,255.0000);\">0.0000</td><td style=\"background-color: rgb(255.0000, 255,255.0000);\">0.0000</td></tr></table>"
      ],
      "text/plain": [
       "<IPython.core.display.HTML object>"
      ]
     },
     "metadata": {},
     "output_type": "display_data"
    },
    {
     "name": "stdout",
     "output_type": "stream",
     "text": [
      "true Taking pred_h Taking pred_fnh Taking\n"
     ]
    },
    {
     "data": {
      "text/html": [
       "<table><tr><td><b>words</b></td><td style=\"background-color: rgb(255,255,255);\">take</td><td style=\"background-color: rgb(255,255,255);\">the</td><td style=\"background-color: rgb(255,255,255);\">knife</td><td style=\"background-color: rgb(255,255,255);\">with</td><td style=\"background-color: rgb(255,255,255);\">the</td><td style=\"background-color: rgb(255,255,255);\">black</td><td style=\"background-color: rgb(255,255,255);\">handle</td></tr><tr><td><b>lu</b></td><td style=\"background-color: rgb(0.0000, 255,0.0000);\">1.0000</td><td style=\"background-color: rgb(255.0000, 255,255.0000);\">0.0000</td><td style=\"background-color: rgb(255.0000, 255,255.0000);\">0.0000</td><td style=\"background-color: rgb(255.0000, 255,255.0000);\">0.0000</td><td style=\"background-color: rgb(255.0000, 255,255.0000);\">0.0000</td><td style=\"background-color: rgb(255.0000, 255,255.0000);\">0.0000</td><td style=\"background-color: rgb(255.0000, 255,255.0000);\">0.0000</td></tr><tr><td><b>h->h</b></td><td style=\"background-color: rgb(254.7628, 255,254.7628);\">0.0009</td><td style=\"background-color: rgb(245.1840, 255,245.1840);\">0.0385</td><td style=\"background-color: rgb(253.5232, 255,253.5232);\">0.0058</td><td style=\"background-color: rgb(246.7958, 255,246.7958);\">0.0322</td><td style=\"background-color: rgb(114.3311, 255,114.3311);\">0.5516</td><td style=\"background-color: rgb(162.4966, 255,162.4966);\">0.3628</td><td style=\"background-color: rgb(253.5189, 255,253.5189);\">0.0058</td></tr><tr><td><b>fn+h->h</b></td><td style=\"background-color: rgb(0.0000, 255,0.0000);\">1.0000</td><td style=\"background-color: rgb(255.0000, 255,255.0000);\">0.0000</td><td style=\"background-color: rgb(255.0000, 255,255.0000);\">0.0000</td><td style=\"background-color: rgb(255.0000, 255,255.0000);\">0.0000</td><td style=\"background-color: rgb(255.0000, 255,255.0000);\">0.0000</td><td style=\"background-color: rgb(255.0000, 255,255.0000);\">0.0000</td><td style=\"background-color: rgb(255.0000, 255,255.0000);\">0.0000</td></tr></table>"
      ],
      "text/plain": [
       "<IPython.core.display.HTML object>"
      ]
     },
     "metadata": {},
     "output_type": "display_data"
    },
    {
     "name": "stdout",
     "output_type": "stream",
     "text": [
      "true Taking pred_h Taking pred_fnh Taking\n"
     ]
    },
    {
     "data": {
      "text/html": [
       "<table><tr><td><b>words</b></td><td style=\"background-color: rgb(255,255,255);\">take</td><td style=\"background-color: rgb(255,255,255);\">the</td><td style=\"background-color: rgb(255,255,255);\">magazine</td><td style=\"background-color: rgb(255,255,255);\">that</td><td style=\"background-color: rgb(255,255,255);\">is</td><td style=\"background-color: rgb(255,255,255);\">in</td><td style=\"background-color: rgb(255,255,255);\">the</td><td style=\"background-color: rgb(255,255,255);\">bathroom</td></tr><tr><td><b>lu</b></td><td style=\"background-color: rgb(0.0000, 255,0.0000);\">1.0000</td><td style=\"background-color: rgb(255.0000, 255,255.0000);\">0.0000</td><td style=\"background-color: rgb(255.0000, 255,255.0000);\">0.0000</td><td style=\"background-color: rgb(255.0000, 255,255.0000);\">0.0000</td><td style=\"background-color: rgb(255.0000, 255,255.0000);\">0.0000</td><td style=\"background-color: rgb(255.0000, 255,255.0000);\">0.0000</td><td style=\"background-color: rgb(255.0000, 255,255.0000);\">0.0000</td><td style=\"background-color: rgb(255.0000, 255,255.0000);\">0.0000</td></tr><tr><td><b>h->h</b></td><td style=\"background-color: rgb(254.9977, 255,254.9977);\">0.0000</td><td style=\"background-color: rgb(254.8999, 255,254.8999);\">0.0004</td><td style=\"background-color: rgb(254.9976, 255,254.9976);\">0.0000</td><td style=\"background-color: rgb(254.9999, 255,254.9999);\">0.0000</td><td style=\"background-color: rgb(254.9998, 255,254.9998);\">0.0000</td><td style=\"background-color: rgb(254.6176, 255,254.6176);\">0.0015</td><td style=\"background-color: rgb(0.6000, 255,0.6000);\">0.9976</td><td style=\"background-color: rgb(254.8964, 255,254.8964);\">0.0004</td></tr><tr><td><b>fn+h->h</b></td><td style=\"background-color: rgb(0.0003, 255,0.0003);\">1.0000</td><td style=\"background-color: rgb(255.0000, 255,255.0000);\">0.0000</td><td style=\"background-color: rgb(255.0000, 255,255.0000);\">0.0000</td><td style=\"background-color: rgb(255.0000, 255,255.0000);\">0.0000</td><td style=\"background-color: rgb(255.0000, 255,255.0000);\">0.0000</td><td style=\"background-color: rgb(254.9997, 255,254.9997);\">0.0000</td><td style=\"background-color: rgb(255.0000, 255,255.0000);\">0.0000</td><td style=\"background-color: rgb(255.0000, 255,255.0000);\">0.0000</td></tr></table>"
      ],
      "text/plain": [
       "<IPython.core.display.HTML object>"
      ]
     },
     "metadata": {},
     "output_type": "display_data"
    },
    {
     "name": "stdout",
     "output_type": "stream",
     "text": [
      "true Taking pred_h Taking pred_fnh Taking\n"
     ]
    },
    {
     "data": {
      "text/html": [
       "<table><tr><td><b>words</b></td><td style=\"background-color: rgb(255,255,255);\">take</td><td style=\"background-color: rgb(255,255,255);\">the</td><td style=\"background-color: rgb(255,255,255);\">orange</td><td style=\"background-color: rgb(255,255,255);\">juice</td><td style=\"background-color: rgb(255,255,255);\">from</td><td style=\"background-color: rgb(255,255,255);\">the</td><td style=\"background-color: rgb(255,255,255);\">fridge</td></tr><tr><td><b>lu</b></td><td style=\"background-color: rgb(0.0000, 255,0.0000);\">1.0000</td><td style=\"background-color: rgb(255.0000, 255,255.0000);\">0.0000</td><td style=\"background-color: rgb(255.0000, 255,255.0000);\">0.0000</td><td style=\"background-color: rgb(255.0000, 255,255.0000);\">0.0000</td><td style=\"background-color: rgb(255.0000, 255,255.0000);\">0.0000</td><td style=\"background-color: rgb(255.0000, 255,255.0000);\">0.0000</td><td style=\"background-color: rgb(255.0000, 255,255.0000);\">0.0000</td></tr><tr><td><b>h->h</b></td><td style=\"background-color: rgb(254.9975, 255,254.9975);\">0.0000</td><td style=\"background-color: rgb(254.9547, 255,254.9547);\">0.0002</td><td style=\"background-color: rgb(254.9891, 255,254.9891);\">0.0000</td><td style=\"background-color: rgb(254.9995, 255,254.9995);\">0.0000</td><td style=\"background-color: rgb(253.9284, 255,253.9284);\">0.0042</td><td style=\"background-color: rgb(1.3754, 255,1.3754);\">0.9946</td><td style=\"background-color: rgb(254.7604, 255,254.7604);\">0.0009</td></tr><tr><td><b>fn+h->h</b></td><td style=\"background-color: rgb(0.0000, 255,0.0000);\">1.0000</td><td style=\"background-color: rgb(255.0000, 255,255.0000);\">0.0000</td><td style=\"background-color: rgb(255.0000, 255,255.0000);\">0.0000</td><td style=\"background-color: rgb(255.0000, 255,255.0000);\">0.0000</td><td style=\"background-color: rgb(255.0000, 255,255.0000);\">0.0000</td><td style=\"background-color: rgb(255.0000, 255,255.0000);\">0.0000</td><td style=\"background-color: rgb(255.0000, 255,255.0000);\">0.0000</td></tr></table>"
      ],
      "text/plain": [
       "<IPython.core.display.HTML object>"
      ]
     },
     "metadata": {},
     "output_type": "display_data"
    },
    {
     "name": "stdout",
     "output_type": "stream",
     "text": [
      "true Taking pred_h Taking pred_fnh Taking\n"
     ]
    },
    {
     "data": {
      "text/html": [
       "<table><tr><td><b>words</b></td><td style=\"background-color: rgb(255,255,255);\">take</td><td style=\"background-color: rgb(255,255,255);\">the</td><td style=\"background-color: rgb(255,255,255);\">salt</td><td style=\"background-color: rgb(255,255,255);\">box</td></tr><tr><td><b>lu</b></td><td style=\"background-color: rgb(0.0000, 255,0.0000);\">1.0000</td><td style=\"background-color: rgb(255.0000, 255,255.0000);\">0.0000</td><td style=\"background-color: rgb(255.0000, 255,255.0000);\">0.0000</td><td style=\"background-color: rgb(255.0000, 255,255.0000);\">0.0000</td></tr><tr><td><b>h->h</b></td><td style=\"background-color: rgb(254.5441, 255,254.5441);\">0.0018</td><td style=\"background-color: rgb(208.7679, 255,208.7679);\">0.1813</td><td style=\"background-color: rgb(89.8287, 255,89.8287);\">0.6477</td><td style=\"background-color: rgb(212.5552, 255,212.5552);\">0.1665</td></tr><tr><td><b>fn+h->h</b></td><td style=\"background-color: rgb(0.8645, 255,0.8645);\">0.9966</td><td style=\"background-color: rgb(255.0000, 255,255.0000);\">0.0000</td><td style=\"background-color: rgb(255.0000, 255,255.0000);\">0.0000</td><td style=\"background-color: rgb(254.1355, 255,254.1355);\">0.0034</td></tr></table>"
      ],
      "text/plain": [
       "<IPython.core.display.HTML object>"
      ]
     },
     "metadata": {},
     "output_type": "display_data"
    },
    {
     "name": "stdout",
     "output_type": "stream",
     "text": [
      "true Taking pred_h Taking pred_fnh Taking\n"
     ]
    },
    {
     "data": {
      "text/html": [
       "<table><tr><td><b>words</b></td><td style=\"background-color: rgb(255,255,255);\">take</td><td style=\"background-color: rgb(255,255,255);\">three</td><td style=\"background-color: rgb(255,255,255);\">coffee</td><td style=\"background-color: rgb(255,255,255);\">cups</td></tr><tr><td><b>lu</b></td><td style=\"background-color: rgb(0.0000, 255,0.0000);\">1.0000</td><td style=\"background-color: rgb(255.0000, 255,255.0000);\">0.0000</td><td style=\"background-color: rgb(255.0000, 255,255.0000);\">0.0000</td><td style=\"background-color: rgb(255.0000, 255,255.0000);\">0.0000</td></tr><tr><td><b>h->h</b></td><td style=\"background-color: rgb(254.9898, 255,254.9898);\">0.0000</td><td style=\"background-color: rgb(253.5212, 255,253.5212);\">0.0058</td><td style=\"background-color: rgb(1.6300, 255,1.6300);\">0.9936</td><td style=\"background-color: rgb(254.8849, 255,254.8849);\">0.0005</td></tr><tr><td><b>fn+h->h</b></td><td style=\"background-color: rgb(0.0693, 255,0.0693);\">0.9997</td><td style=\"background-color: rgb(254.9307, 255,254.9307);\">0.0003</td><td style=\"background-color: rgb(255.0000, 255,255.0000);\">0.0000</td><td style=\"background-color: rgb(255.0000, 255,255.0000);\">0.0000</td></tr></table>"
      ],
      "text/plain": [
       "<IPython.core.display.HTML object>"
      ]
     },
     "metadata": {},
     "output_type": "display_data"
    },
    {
     "name": "stdout",
     "output_type": "stream",
     "text": [
      "true Bringing pred_h Bringing pred_fnh Bringing\n"
     ]
    },
    {
     "data": {
      "text/html": [
       "<table><tr><td><b>words</b></td><td style=\"background-color: rgb(255,255,255);\">bring</td><td style=\"background-color: rgb(255,255,255);\">them</td><td style=\"background-color: rgb(255,255,255);\">to</td><td style=\"background-color: rgb(255,255,255);\">me</td></tr><tr><td><b>lu</b></td><td style=\"background-color: rgb(0.0000, 255,0.0000);\">1.0000</td><td style=\"background-color: rgb(255.0000, 255,255.0000);\">0.0000</td><td style=\"background-color: rgb(255.0000, 255,255.0000);\">0.0000</td><td style=\"background-color: rgb(255.0000, 255,255.0000);\">0.0000</td></tr><tr><td><b>h->h</b></td><td style=\"background-color: rgb(254.9909, 255,254.9909);\">0.0000</td><td style=\"background-color: rgb(254.8791, 255,254.8791);\">0.0005</td><td style=\"background-color: rgb(248.5045, 255,248.5045);\">0.0255</td><td style=\"background-color: rgb(6.6287, 255,6.6287);\">0.9740</td></tr><tr><td><b>fn+h->h</b></td><td style=\"background-color: rgb(17.2701, 255,17.2701);\">0.9323</td><td style=\"background-color: rgb(254.7307, 255,254.7307);\">0.0011</td><td style=\"background-color: rgb(254.7599, 255,254.7599);\">0.0009</td><td style=\"background-color: rgb(238.2393, 255,238.2393);\">0.0657</td></tr></table>"
      ],
      "text/plain": [
       "<IPython.core.display.HTML object>"
      ]
     },
     "metadata": {},
     "output_type": "display_data"
    },
    {
     "name": "stdout",
     "output_type": "stream",
     "text": [
      "true Taking pred_h Taking pred_fnh Taking\n"
     ]
    },
    {
     "data": {
      "text/html": [
       "<table><tr><td><b>words</b></td><td style=\"background-color: rgb(255,255,255);\">can</td><td style=\"background-color: rgb(255,255,255);\">you</td><td style=\"background-color: rgb(255,255,255);\">take</td><td style=\"background-color: rgb(255,255,255);\">one</td></tr><tr><td><b>lu</b></td><td style=\"background-color: rgb(255.0000, 255,255.0000);\">0.0000</td><td style=\"background-color: rgb(255.0000, 255,255.0000);\">0.0000</td><td style=\"background-color: rgb(0.0000, 255,0.0000);\">1.0000</td><td style=\"background-color: rgb(255.0000, 255,255.0000);\">0.0000</td></tr><tr><td><b>h->h</b></td><td style=\"background-color: rgb(255.0000, 255,255.0000);\">0.0000</td><td style=\"background-color: rgb(255.0000, 255,255.0000);\">0.0000</td><td style=\"background-color: rgb(251.8411, 255,251.8411);\">0.0124</td><td style=\"background-color: rgb(3.4677, 255,3.4677);\">0.9864</td></tr><tr><td><b>fn+h->h</b></td><td style=\"background-color: rgb(255.0000, 255,255.0000);\">0.0000</td><td style=\"background-color: rgb(255.0000, 255,255.0000);\">0.0000</td><td style=\"background-color: rgb(0.0011, 255,0.0011);\">1.0000</td><td style=\"background-color: rgb(254.9989, 255,254.9989);\">0.0000</td></tr></table>"
      ],
      "text/plain": [
       "<IPython.core.display.HTML object>"
      ]
     },
     "metadata": {},
     "output_type": "display_data"
    },
    {
     "name": "stdout",
     "output_type": "stream",
     "text": [
      "true Bringing pred_h Bringing pred_fnh Bringing\n"
     ]
    },
    {
     "data": {
      "text/html": [
       "<table><tr><td><b>words</b></td><td style=\"background-color: rgb(255,255,255);\">can</td><td style=\"background-color: rgb(255,255,255);\">you</td><td style=\"background-color: rgb(255,255,255);\">bring</td><td style=\"background-color: rgb(255,255,255);\">it</td><td style=\"background-color: rgb(255,255,255);\">to</td><td style=\"background-color: rgb(255,255,255);\">me</td></tr><tr><td><b>lu</b></td><td style=\"background-color: rgb(255.0000, 255,255.0000);\">0.0000</td><td style=\"background-color: rgb(255.0000, 255,255.0000);\">0.0000</td><td style=\"background-color: rgb(0.0000, 255,0.0000);\">1.0000</td><td style=\"background-color: rgb(255.0000, 255,255.0000);\">0.0000</td><td style=\"background-color: rgb(255.0000, 255,255.0000);\">0.0000</td><td style=\"background-color: rgb(255.0000, 255,255.0000);\">0.0000</td></tr><tr><td><b>h->h</b></td><td style=\"background-color: rgb(255.0000, 255,255.0000);\">0.0000</td><td style=\"background-color: rgb(255.0000, 255,255.0000);\">0.0000</td><td style=\"background-color: rgb(254.9908, 255,254.9908);\">0.0000</td><td style=\"background-color: rgb(254.8852, 255,254.8852);\">0.0005</td><td style=\"background-color: rgb(249.5925, 255,249.5925);\">0.0212</td><td style=\"background-color: rgb(5.5349, 255,5.5349);\">0.9783</td></tr><tr><td><b>fn+h->h</b></td><td style=\"background-color: rgb(255.0000, 255,255.0000);\">0.0000</td><td style=\"background-color: rgb(255.0000, 255,255.0000);\">0.0000</td><td style=\"background-color: rgb(127.2127, 255,127.2127);\">0.5011</td><td style=\"background-color: rgb(255.0000, 255,255.0000);\">0.0000</td><td style=\"background-color: rgb(254.5813, 255,254.5813);\">0.0016</td><td style=\"background-color: rgb(128.2060, 255,128.2060);\">0.4972</td></tr></table>"
      ],
      "text/plain": [
       "<IPython.core.display.HTML object>"
      ]
     },
     "metadata": {},
     "output_type": "display_data"
    },
    {
     "name": "stdout",
     "output_type": "stream",
     "text": [
      "true Bringing pred_h Bringing pred_fnh Bringing\n"
     ]
    },
    {
     "data": {
      "text/html": [
       "<table><tr><td><b>words</b></td><td style=\"background-color: rgb(255,255,255);\">can</td><td style=\"background-color: rgb(255,255,255);\">you</td><td style=\"background-color: rgb(255,255,255);\">bring</td><td style=\"background-color: rgb(255,255,255);\">it</td><td style=\"background-color: rgb(255,255,255);\">to</td><td style=\"background-color: rgb(255,255,255);\">me</td></tr><tr><td><b>lu</b></td><td style=\"background-color: rgb(255.0000, 255,255.0000);\">0.0000</td><td style=\"background-color: rgb(255.0000, 255,255.0000);\">0.0000</td><td style=\"background-color: rgb(0.0000, 255,0.0000);\">1.0000</td><td style=\"background-color: rgb(255.0000, 255,255.0000);\">0.0000</td><td style=\"background-color: rgb(255.0000, 255,255.0000);\">0.0000</td><td style=\"background-color: rgb(255.0000, 255,255.0000);\">0.0000</td></tr><tr><td><b>h->h</b></td><td style=\"background-color: rgb(255.0000, 255,255.0000);\">0.0000</td><td style=\"background-color: rgb(255.0000, 255,255.0000);\">0.0000</td><td style=\"background-color: rgb(254.9908, 255,254.9908);\">0.0000</td><td style=\"background-color: rgb(254.8852, 255,254.8852);\">0.0005</td><td style=\"background-color: rgb(249.5925, 255,249.5925);\">0.0212</td><td style=\"background-color: rgb(5.5349, 255,5.5349);\">0.9783</td></tr><tr><td><b>fn+h->h</b></td><td style=\"background-color: rgb(255.0000, 255,255.0000);\">0.0000</td><td style=\"background-color: rgb(255.0000, 255,255.0000);\">0.0000</td><td style=\"background-color: rgb(127.2127, 255,127.2127);\">0.5011</td><td style=\"background-color: rgb(255.0000, 255,255.0000);\">0.0000</td><td style=\"background-color: rgb(254.5813, 255,254.5813);\">0.0016</td><td style=\"background-color: rgb(128.2060, 255,128.2060);\">0.4972</td></tr></table>"
      ],
      "text/plain": [
       "<IPython.core.display.HTML object>"
      ]
     },
     "metadata": {},
     "output_type": "display_data"
    },
    {
     "name": "stdout",
     "output_type": "stream",
     "text": [
      "true Bringing pred_h Bringing pred_fnh Bringing\n"
     ]
    },
    {
     "data": {
      "text/html": [
       "<table><tr><td><b>words</b></td><td style=\"background-color: rgb(255,255,255);\">you</td><td style=\"background-color: rgb(255,255,255);\">should</td><td style=\"background-color: rgb(255,255,255);\">bring</td><td style=\"background-color: rgb(255,255,255);\">me</td><td style=\"background-color: rgb(255,255,255);\">the</td><td style=\"background-color: rgb(255,255,255);\">brown</td><td style=\"background-color: rgb(255,255,255);\">envelope</td><td style=\"background-color: rgb(255,255,255);\">that</td><td style=\"background-color: rgb(255,255,255);\">is</td><td style=\"background-color: rgb(255,255,255);\">on</td><td style=\"background-color: rgb(255,255,255);\">the</td><td style=\"background-color: rgb(255,255,255);\">table</td></tr><tr><td><b>lu</b></td><td style=\"background-color: rgb(255.0000, 255,255.0000);\">0.0000</td><td style=\"background-color: rgb(255.0000, 255,255.0000);\">0.0000</td><td style=\"background-color: rgb(0.0000, 255,0.0000);\">1.0000</td><td style=\"background-color: rgb(255.0000, 255,255.0000);\">0.0000</td><td style=\"background-color: rgb(255.0000, 255,255.0000);\">0.0000</td><td style=\"background-color: rgb(255.0000, 255,255.0000);\">0.0000</td><td style=\"background-color: rgb(255.0000, 255,255.0000);\">0.0000</td><td style=\"background-color: rgb(255.0000, 255,255.0000);\">0.0000</td><td style=\"background-color: rgb(255.0000, 255,255.0000);\">0.0000</td><td style=\"background-color: rgb(255.0000, 255,255.0000);\">0.0000</td><td style=\"background-color: rgb(255.0000, 255,255.0000);\">0.0000</td><td style=\"background-color: rgb(255.0000, 255,255.0000);\">0.0000</td></tr><tr><td><b>h->h</b></td><td style=\"background-color: rgb(255.0000, 255,255.0000);\">0.0000</td><td style=\"background-color: rgb(255.0000, 255,255.0000);\">0.0000</td><td style=\"background-color: rgb(255.0000, 255,255.0000);\">0.0000</td><td style=\"background-color: rgb(254.9849, 255,254.9849);\">0.0001</td><td style=\"background-color: rgb(254.0529, 255,254.0529);\">0.0037</td><td style=\"background-color: rgb(253.9894, 255,253.9894);\">0.0040</td><td style=\"background-color: rgb(253.9081, 255,253.9081);\">0.0043</td><td style=\"background-color: rgb(254.7983, 255,254.7983);\">0.0008</td><td style=\"background-color: rgb(254.7382, 255,254.7382);\">0.0010</td><td style=\"background-color: rgb(251.5683, 255,251.5683);\">0.0135</td><td style=\"background-color: rgb(234.2893, 255,234.2893);\">0.0812</td><td style=\"background-color: rgb(27.6714, 255,27.6714);\">0.8915</td></tr><tr><td><b>fn+h->h</b></td><td style=\"background-color: rgb(255.0000, 255,255.0000);\">0.0000</td><td style=\"background-color: rgb(255.0000, 255,255.0000);\">0.0000</td><td style=\"background-color: rgb(14.7559, 255,14.7559);\">0.9421</td><td style=\"background-color: rgb(240.7382, 255,240.7382);\">0.0559</td><td style=\"background-color: rgb(255.0000, 255,255.0000);\">0.0000</td><td style=\"background-color: rgb(255.0000, 255,255.0000);\">0.0000</td><td style=\"background-color: rgb(255.0000, 255,255.0000);\">0.0000</td><td style=\"background-color: rgb(255.0000, 255,255.0000);\">0.0000</td><td style=\"background-color: rgb(255.0000, 255,255.0000);\">0.0000</td><td style=\"background-color: rgb(254.5058, 255,254.5058);\">0.0019</td><td style=\"background-color: rgb(255.0000, 255,255.0000);\">0.0000</td><td style=\"background-color: rgb(255.0000, 255,255.0000);\">0.0000</td></tr></table>"
      ],
      "text/plain": [
       "<IPython.core.display.HTML object>"
      ]
     },
     "metadata": {},
     "output_type": "display_data"
    },
    {
     "name": "stdout",
     "output_type": "stream",
     "text": [
      "true Bringing pred_h Bringing pred_fnh Bringing\n"
     ]
    },
    {
     "data": {
      "text/html": [
       "<table><tr><td><b>words</b></td><td style=\"background-color: rgb(255,255,255);\">bring</td><td style=\"background-color: rgb(255,255,255);\">me</td><td style=\"background-color: rgb(255,255,255);\">a</td><td style=\"background-color: rgb(255,255,255);\">chair</td><td style=\"background-color: rgb(255,255,255);\">from</td><td style=\"background-color: rgb(255,255,255);\">the</td><td style=\"background-color: rgb(255,255,255);\">studio</td></tr><tr><td><b>lu</b></td><td style=\"background-color: rgb(0.0000, 255,0.0000);\">1.0000</td><td style=\"background-color: rgb(255.0000, 255,255.0000);\">0.0000</td><td style=\"background-color: rgb(255.0000, 255,255.0000);\">0.0000</td><td style=\"background-color: rgb(255.0000, 255,255.0000);\">0.0000</td><td style=\"background-color: rgb(255.0000, 255,255.0000);\">0.0000</td><td style=\"background-color: rgb(255.0000, 255,255.0000);\">0.0000</td><td style=\"background-color: rgb(255.0000, 255,255.0000);\">0.0000</td></tr><tr><td><b>h->h</b></td><td style=\"background-color: rgb(254.9999, 255,254.9999);\">0.0000</td><td style=\"background-color: rgb(254.9905, 255,254.9905);\">0.0000</td><td style=\"background-color: rgb(254.6331, 255,254.6331);\">0.0014</td><td style=\"background-color: rgb(251.8257, 255,251.8257);\">0.0124</td><td style=\"background-color: rgb(246.7687, 255,246.7687);\">0.0323</td><td style=\"background-color: rgb(212.4591, 255,212.4591);\">0.1668</td><td style=\"background-color: rgb(54.3236, 255,54.3236);\">0.7870</td></tr><tr><td><b>fn+h->h</b></td><td style=\"background-color: rgb(82.2152, 255,82.2152);\">0.6776</td><td style=\"background-color: rgb(172.7848, 255,172.7848);\">0.3224</td><td style=\"background-color: rgb(255.0000, 255,255.0000);\">0.0000</td><td style=\"background-color: rgb(255.0000, 255,255.0000);\">0.0000</td><td style=\"background-color: rgb(255.0000, 255,255.0000);\">0.0000</td><td style=\"background-color: rgb(255.0000, 255,255.0000);\">0.0000</td><td style=\"background-color: rgb(255.0000, 255,255.0000);\">0.0000</td></tr></table>"
      ],
      "text/plain": [
       "<IPython.core.display.HTML object>"
      ]
     },
     "metadata": {},
     "output_type": "display_data"
    },
    {
     "name": "stdout",
     "output_type": "stream",
     "text": [
      "true Bringing pred_h Bringing pred_fnh Bringing\n"
     ]
    },
    {
     "data": {
      "text/html": [
       "<table><tr><td><b>words</b></td><td style=\"background-color: rgb(255,255,255);\">bring</td><td style=\"background-color: rgb(255,255,255);\">me</td><td style=\"background-color: rgb(255,255,255);\">a</td><td style=\"background-color: rgb(255,255,255);\">fork</td><td style=\"background-color: rgb(255,255,255);\">from</td><td style=\"background-color: rgb(255,255,255);\">the</td><td style=\"background-color: rgb(255,255,255);\">press</td></tr><tr><td><b>lu</b></td><td style=\"background-color: rgb(0.0000, 255,0.0000);\">1.0000</td><td style=\"background-color: rgb(255.0000, 255,255.0000);\">0.0000</td><td style=\"background-color: rgb(255.0000, 255,255.0000);\">0.0000</td><td style=\"background-color: rgb(255.0000, 255,255.0000);\">0.0000</td><td style=\"background-color: rgb(255.0000, 255,255.0000);\">0.0000</td><td style=\"background-color: rgb(255.0000, 255,255.0000);\">0.0000</td><td style=\"background-color: rgb(255.0000, 255,255.0000);\">0.0000</td></tr><tr><td><b>h->h</b></td><td style=\"background-color: rgb(254.9999, 255,254.9999);\">0.0000</td><td style=\"background-color: rgb(254.9866, 255,254.9866);\">0.0001</td><td style=\"background-color: rgb(254.6740, 255,254.6740);\">0.0013</td><td style=\"background-color: rgb(254.8518, 255,254.8518);\">0.0006</td><td style=\"background-color: rgb(246.1682, 255,246.1682);\">0.0346</td><td style=\"background-color: rgb(232.6550, 255,232.6550);\">0.0876</td><td style=\"background-color: rgb(31.6654, 255,31.6654);\">0.8758</td></tr><tr><td><b>fn+h->h</b></td><td style=\"background-color: rgb(38.2879, 255,38.2879);\">0.8499</td><td style=\"background-color: rgb(216.7121, 255,216.7121);\">0.1501</td><td style=\"background-color: rgb(255.0000, 255,255.0000);\">0.0000</td><td style=\"background-color: rgb(255.0000, 255,255.0000);\">0.0000</td><td style=\"background-color: rgb(255.0000, 255,255.0000);\">0.0000</td><td style=\"background-color: rgb(255.0000, 255,255.0000);\">0.0000</td><td style=\"background-color: rgb(255.0000, 255,255.0000);\">0.0000</td></tr></table>"
      ],
      "text/plain": [
       "<IPython.core.display.HTML object>"
      ]
     },
     "metadata": {},
     "output_type": "display_data"
    },
    {
     "name": "stdout",
     "output_type": "stream",
     "text": [
      "true Bringing pred_h Bringing pred_fnh Bringing\n"
     ]
    },
    {
     "data": {
      "text/html": [
       "<table><tr><td><b>words</b></td><td style=\"background-color: rgb(255,255,255);\">robot</td><td style=\"background-color: rgb(255,255,255);\">can</td><td style=\"background-color: rgb(255,255,255);\">you</td><td style=\"background-color: rgb(255,255,255);\">bring</td><td style=\"background-color: rgb(255,255,255);\">me</td><td style=\"background-color: rgb(255,255,255);\">a</td><td style=\"background-color: rgb(255,255,255);\">magazine</td></tr><tr><td><b>lu</b></td><td style=\"background-color: rgb(255.0000, 255,255.0000);\">0.0000</td><td style=\"background-color: rgb(255.0000, 255,255.0000);\">0.0000</td><td style=\"background-color: rgb(255.0000, 255,255.0000);\">0.0000</td><td style=\"background-color: rgb(0.0000, 255,0.0000);\">1.0000</td><td style=\"background-color: rgb(255.0000, 255,255.0000);\">0.0000</td><td style=\"background-color: rgb(255.0000, 255,255.0000);\">0.0000</td><td style=\"background-color: rgb(255.0000, 255,255.0000);\">0.0000</td></tr><tr><td><b>h->h</b></td><td style=\"background-color: rgb(255.0000, 255,255.0000);\">0.0000</td><td style=\"background-color: rgb(255.0000, 255,255.0000);\">0.0000</td><td style=\"background-color: rgb(255.0000, 255,255.0000);\">0.0000</td><td style=\"background-color: rgb(254.9999, 255,254.9999);\">0.0000</td><td style=\"background-color: rgb(254.9654, 255,254.9654);\">0.0001</td><td style=\"background-color: rgb(245.8510, 255,245.8510);\">0.0359</td><td style=\"background-color: rgb(9.1859, 255,9.1859);\">0.9640</td></tr><tr><td><b>fn+h->h</b></td><td style=\"background-color: rgb(255.0000, 255,255.0000);\">0.0000</td><td style=\"background-color: rgb(255.0000, 255,255.0000);\">0.0000</td><td style=\"background-color: rgb(255.0000, 255,255.0000);\">0.0000</td><td style=\"background-color: rgb(126.9815, 255,126.9815);\">0.5020</td><td style=\"background-color: rgb(128.0185, 255,128.0185);\">0.4980</td><td style=\"background-color: rgb(255.0000, 255,255.0000);\">0.0000</td><td style=\"background-color: rgb(255.0000, 255,255.0000);\">0.0000</td></tr></table>"
      ],
      "text/plain": [
       "<IPython.core.display.HTML object>"
      ]
     },
     "metadata": {},
     "output_type": "display_data"
    },
    {
     "name": "stdout",
     "output_type": "stream",
     "text": [
      "true Bringing pred_h Bringing pred_fnh Bringing\n"
     ]
    },
    {
     "data": {
      "text/html": [
       "<table><tr><td><b>words</b></td><td style=\"background-color: rgb(255,255,255);\">robot</td><td style=\"background-color: rgb(255,255,255);\">can</td><td style=\"background-color: rgb(255,255,255);\">you</td><td style=\"background-color: rgb(255,255,255);\">bring</td><td style=\"background-color: rgb(255,255,255);\">me</td><td style=\"background-color: rgb(255,255,255);\">my</td><td style=\"background-color: rgb(255,255,255);\">reading</td><td style=\"background-color: rgb(255,255,255);\">glasses</td><td style=\"background-color: rgb(255,255,255);\">from</td><td style=\"background-color: rgb(255,255,255);\">the</td><td style=\"background-color: rgb(255,255,255);\">bedroom</td></tr><tr><td><b>lu</b></td><td style=\"background-color: rgb(255.0000, 255,255.0000);\">0.0000</td><td style=\"background-color: rgb(255.0000, 255,255.0000);\">0.0000</td><td style=\"background-color: rgb(255.0000, 255,255.0000);\">0.0000</td><td style=\"background-color: rgb(0.0000, 255,0.0000);\">1.0000</td><td style=\"background-color: rgb(255.0000, 255,255.0000);\">0.0000</td><td style=\"background-color: rgb(255.0000, 255,255.0000);\">0.0000</td><td style=\"background-color: rgb(255.0000, 255,255.0000);\">0.0000</td><td style=\"background-color: rgb(255.0000, 255,255.0000);\">0.0000</td><td style=\"background-color: rgb(255.0000, 255,255.0000);\">0.0000</td><td style=\"background-color: rgb(255.0000, 255,255.0000);\">0.0000</td><td style=\"background-color: rgb(255.0000, 255,255.0000);\">0.0000</td></tr><tr><td><b>h->h</b></td><td style=\"background-color: rgb(255.0000, 255,255.0000);\">0.0000</td><td style=\"background-color: rgb(255.0000, 255,255.0000);\">0.0000</td><td style=\"background-color: rgb(255.0000, 255,255.0000);\">0.0000</td><td style=\"background-color: rgb(254.9999, 255,254.9999);\">0.0000</td><td style=\"background-color: rgb(254.9910, 255,254.9910);\">0.0000</td><td style=\"background-color: rgb(254.9286, 255,254.9286);\">0.0003</td><td style=\"background-color: rgb(254.8910, 255,254.8910);\">0.0004</td><td style=\"background-color: rgb(254.7968, 255,254.7968);\">0.0008</td><td style=\"background-color: rgb(245.5546, 255,245.5546);\">0.0370</td><td style=\"background-color: rgb(232.5864, 255,232.5864);\">0.0879</td><td style=\"background-color: rgb(32.2524, 255,32.2524);\">0.8735</td></tr><tr><td><b>fn+h->h</b></td><td style=\"background-color: rgb(255.0000, 255,255.0000);\">0.0000</td><td style=\"background-color: rgb(255.0000, 255,255.0000);\">0.0000</td><td style=\"background-color: rgb(255.0000, 255,255.0000);\">0.0000</td><td style=\"background-color: rgb(57.9467, 255,57.9467);\">0.7728</td><td style=\"background-color: rgb(197.0534, 255,197.0534);\">0.2272</td><td style=\"background-color: rgb(255.0000, 255,255.0000);\">0.0000</td><td style=\"background-color: rgb(255.0000, 255,255.0000);\">0.0000</td><td style=\"background-color: rgb(254.9999, 255,254.9999);\">0.0000</td><td style=\"background-color: rgb(255.0000, 255,255.0000);\">0.0000</td><td style=\"background-color: rgb(255.0000, 255,255.0000);\">0.0000</td><td style=\"background-color: rgb(255.0000, 255,255.0000);\">0.0000</td></tr></table>"
      ],
      "text/plain": [
       "<IPython.core.display.HTML object>"
      ]
     },
     "metadata": {},
     "output_type": "display_data"
    },
    {
     "name": "stdout",
     "output_type": "stream",
     "text": [
      "true Closure pred_h Closure pred_fnh Closure\n"
     ]
    },
    {
     "data": {
      "text/html": [
       "<table><tr><td><b>words</b></td><td style=\"background-color: rgb(255,255,255);\">robot</td><td style=\"background-color: rgb(255,255,255);\">can</td><td style=\"background-color: rgb(255,255,255);\">you</td><td style=\"background-color: rgb(255,255,255);\">open</td><td style=\"background-color: rgb(255,255,255);\">the</td><td style=\"background-color: rgb(255,255,255);\">cabinet</td></tr><tr><td><b>lu</b></td><td style=\"background-color: rgb(255.0000, 255,255.0000);\">0.0000</td><td style=\"background-color: rgb(255.0000, 255,255.0000);\">0.0000</td><td style=\"background-color: rgb(255.0000, 255,255.0000);\">0.0000</td><td style=\"background-color: rgb(0.0000, 255,0.0000);\">1.0000</td><td style=\"background-color: rgb(255.0000, 255,255.0000);\">0.0000</td><td style=\"background-color: rgb(255.0000, 255,255.0000);\">0.0000</td></tr><tr><td><b>h->h</b></td><td style=\"background-color: rgb(254.9999, 255,254.9999);\">0.0000</td><td style=\"background-color: rgb(255.0000, 255,255.0000);\">0.0000</td><td style=\"background-color: rgb(255.0000, 255,255.0000);\">0.0000</td><td style=\"background-color: rgb(254.9061, 255,254.9061);\">0.0004</td><td style=\"background-color: rgb(0.7093, 255,0.7093);\">0.9972</td><td style=\"background-color: rgb(254.4107, 255,254.4107);\">0.0023</td></tr><tr><td><b>fn+h->h</b></td><td style=\"background-color: rgb(255.0000, 255,255.0000);\">0.0000</td><td style=\"background-color: rgb(255.0000, 255,255.0000);\">0.0000</td><td style=\"background-color: rgb(255.0000, 255,255.0000);\">0.0000</td><td style=\"background-color: rgb(0.0004, 255,0.0004);\">1.0000</td><td style=\"background-color: rgb(255.0000, 255,255.0000);\">0.0000</td><td style=\"background-color: rgb(254.9996, 255,254.9996);\">0.0000</td></tr></table>"
      ],
      "text/plain": [
       "<IPython.core.display.HTML object>"
      ]
     },
     "metadata": {},
     "output_type": "display_data"
    },
    {
     "name": "stdout",
     "output_type": "stream",
     "text": [
      "true Giving pred_h Giving pred_fnh Giving\n"
     ]
    },
    {
     "data": {
      "text/html": [
       "<table><tr><td><b>words</b></td><td style=\"background-color: rgb(255,255,255);\">robot</td><td style=\"background-color: rgb(255,255,255);\">can</td><td style=\"background-color: rgb(255,255,255);\">you</td><td style=\"background-color: rgb(255,255,255);\">pass</td><td style=\"background-color: rgb(255,255,255);\">me</td><td style=\"background-color: rgb(255,255,255);\">the</td><td style=\"background-color: rgb(255,255,255);\">television</td><td style=\"background-color: rgb(255,255,255);\">remote</td></tr><tr><td><b>lu</b></td><td style=\"background-color: rgb(255.0000, 255,255.0000);\">0.0000</td><td style=\"background-color: rgb(255.0000, 255,255.0000);\">0.0000</td><td style=\"background-color: rgb(255.0000, 255,255.0000);\">0.0000</td><td style=\"background-color: rgb(0.0000, 255,0.0000);\">1.0000</td><td style=\"background-color: rgb(255.0000, 255,255.0000);\">0.0000</td><td style=\"background-color: rgb(255.0000, 255,255.0000);\">0.0000</td><td style=\"background-color: rgb(255.0000, 255,255.0000);\">0.0000</td><td style=\"background-color: rgb(255.0000, 255,255.0000);\">0.0000</td></tr><tr><td><b>h->h</b></td><td style=\"background-color: rgb(254.9999, 255,254.9999);\">0.0000</td><td style=\"background-color: rgb(254.9999, 255,254.9999);\">0.0000</td><td style=\"background-color: rgb(255.0000, 255,255.0000);\">0.0000</td><td style=\"background-color: rgb(254.9844, 255,254.9844);\">0.0001</td><td style=\"background-color: rgb(254.7210, 255,254.7210);\">0.0011</td><td style=\"background-color: rgb(200.7177, 255,200.7177);\">0.2129</td><td style=\"background-color: rgb(55.8197, 255,55.8197);\">0.7811</td><td style=\"background-color: rgb(253.9178, 255,253.9178);\">0.0042</td></tr><tr><td><b>fn+h->h</b></td><td style=\"background-color: rgb(255.0000, 255,255.0000);\">0.0000</td><td style=\"background-color: rgb(255.0000, 255,255.0000);\">0.0000</td><td style=\"background-color: rgb(255.0000, 255,255.0000);\">0.0000</td><td style=\"background-color: rgb(0.1398, 255,0.1398);\">0.9995</td><td style=\"background-color: rgb(254.8602, 255,254.8602);\">0.0005</td><td style=\"background-color: rgb(255.0000, 255,255.0000);\">0.0000</td><td style=\"background-color: rgb(255.0000, 255,255.0000);\">0.0000</td><td style=\"background-color: rgb(255.0000, 255,255.0000);\">0.0000</td></tr></table>"
      ],
      "text/plain": [
       "<IPython.core.display.HTML object>"
      ]
     },
     "metadata": {},
     "output_type": "display_data"
    },
    {
     "name": "stdout",
     "output_type": "stream",
     "text": [
      "true Taking pred_h Taking pred_fnh Taking\n"
     ]
    },
    {
     "data": {
      "text/html": [
       "<table><tr><td><b>words</b></td><td style=\"background-color: rgb(255,255,255);\">take</td><td style=\"background-color: rgb(255,255,255);\">the</td><td style=\"background-color: rgb(255,255,255);\">laptop</td><td style=\"background-color: rgb(255,255,255);\">near</td><td style=\"background-color: rgb(255,255,255);\">the</td><td style=\"background-color: rgb(255,255,255);\">table</td><td style=\"background-color: rgb(255,255,255);\">of</td><td style=\"background-color: rgb(255,255,255);\">the</td><td style=\"background-color: rgb(255,255,255);\">dining</td><td style=\"background-color: rgb(255,255,255);\">room</td></tr><tr><td><b>lu</b></td><td style=\"background-color: rgb(0.0000, 255,0.0000);\">1.0000</td><td style=\"background-color: rgb(255.0000, 255,255.0000);\">0.0000</td><td style=\"background-color: rgb(255.0000, 255,255.0000);\">0.0000</td><td style=\"background-color: rgb(255.0000, 255,255.0000);\">0.0000</td><td style=\"background-color: rgb(255.0000, 255,255.0000);\">0.0000</td><td style=\"background-color: rgb(255.0000, 255,255.0000);\">0.0000</td><td style=\"background-color: rgb(255.0000, 255,255.0000);\">0.0000</td><td style=\"background-color: rgb(255.0000, 255,255.0000);\">0.0000</td><td style=\"background-color: rgb(255.0000, 255,255.0000);\">0.0000</td><td style=\"background-color: rgb(255.0000, 255,255.0000);\">0.0000</td></tr><tr><td><b>h->h</b></td><td style=\"background-color: rgb(254.9938, 255,254.9938);\">0.0000</td><td style=\"background-color: rgb(254.1809, 255,254.1809);\">0.0032</td><td style=\"background-color: rgb(254.9693, 255,254.9693);\">0.0001</td><td style=\"background-color: rgb(254.6350, 255,254.6350);\">0.0014</td><td style=\"background-color: rgb(233.4767, 255,233.4767);\">0.0844</td><td style=\"background-color: rgb(254.3887, 255,254.3887);\">0.0024</td><td style=\"background-color: rgb(252.7412, 255,252.7412);\">0.0089</td><td style=\"background-color: rgb(139.3126, 255,139.3126);\">0.4537</td><td style=\"background-color: rgb(142.3494, 255,142.3494);\">0.4418</td><td style=\"background-color: rgb(253.9775, 255,253.9775);\">0.0040</td></tr><tr><td><b>fn+h->h</b></td><td style=\"background-color: rgb(0.0000, 255,0.0000);\">1.0000</td><td style=\"background-color: rgb(255.0000, 255,255.0000);\">0.0000</td><td style=\"background-color: rgb(255.0000, 255,255.0000);\">0.0000</td><td style=\"background-color: rgb(255.0000, 255,255.0000);\">0.0000</td><td style=\"background-color: rgb(255.0000, 255,255.0000);\">0.0000</td><td style=\"background-color: rgb(255.0000, 255,255.0000);\">0.0000</td><td style=\"background-color: rgb(255.0000, 255,255.0000);\">0.0000</td><td style=\"background-color: rgb(255.0000, 255,255.0000);\">0.0000</td><td style=\"background-color: rgb(255.0000, 255,255.0000);\">0.0000</td><td style=\"background-color: rgb(255.0000, 255,255.0000);\">0.0000</td></tr></table>"
      ],
      "text/plain": [
       "<IPython.core.display.HTML object>"
      ]
     },
     "metadata": {},
     "output_type": "display_data"
    },
    {
     "name": "stdout",
     "output_type": "stream",
     "text": [
      "true Taking pred_h Taking pred_fnh Taking\n"
     ]
    },
    {
     "data": {
      "text/html": [
       "<table><tr><td><b>words</b></td><td style=\"background-color: rgb(255,255,255);\">take</td><td style=\"background-color: rgb(255,255,255);\">the</td><td style=\"background-color: rgb(255,255,255);\">phone</td><td style=\"background-color: rgb(255,255,255);\">near</td><td style=\"background-color: rgb(255,255,255);\">the</td><td style=\"background-color: rgb(255,255,255);\">table</td><td style=\"background-color: rgb(255,255,255);\">at</td><td style=\"background-color: rgb(255,255,255);\">your</td><td style=\"background-color: rgb(255,255,255);\">right</td></tr><tr><td><b>lu</b></td><td style=\"background-color: rgb(0.0000, 255,0.0000);\">1.0000</td><td style=\"background-color: rgb(255.0000, 255,255.0000);\">0.0000</td><td style=\"background-color: rgb(255.0000, 255,255.0000);\">0.0000</td><td style=\"background-color: rgb(255.0000, 255,255.0000);\">0.0000</td><td style=\"background-color: rgb(255.0000, 255,255.0000);\">0.0000</td><td style=\"background-color: rgb(255.0000, 255,255.0000);\">0.0000</td><td style=\"background-color: rgb(255.0000, 255,255.0000);\">0.0000</td><td style=\"background-color: rgb(255.0000, 255,255.0000);\">0.0000</td><td style=\"background-color: rgb(255.0000, 255,255.0000);\">0.0000</td></tr><tr><td><b>h->h</b></td><td style=\"background-color: rgb(254.9962, 255,254.9962);\">0.0000</td><td style=\"background-color: rgb(254.6740, 255,254.6740);\">0.0013</td><td style=\"background-color: rgb(254.9881, 255,254.9881);\">0.0000</td><td style=\"background-color: rgb(254.1914, 255,254.1914);\">0.0032</td><td style=\"background-color: rgb(250.6194, 255,250.6194);\">0.0172</td><td style=\"background-color: rgb(254.9475, 255,254.9475);\">0.0002</td><td style=\"background-color: rgb(254.6346, 255,254.6346);\">0.0014</td><td style=\"background-color: rgb(10.2870, 255,10.2870);\">0.9597</td><td style=\"background-color: rgb(250.6832, 255,250.6832);\">0.0169</td></tr><tr><td><b>fn+h->h</b></td><td style=\"background-color: rgb(0.0592, 255,0.0592);\">0.9998</td><td style=\"background-color: rgb(255.0000, 255,255.0000);\">0.0000</td><td style=\"background-color: rgb(255.0000, 255,255.0000);\">0.0000</td><td style=\"background-color: rgb(254.9408, 255,254.9408);\">0.0002</td><td style=\"background-color: rgb(255.0000, 255,255.0000);\">0.0000</td><td style=\"background-color: rgb(255.0000, 255,255.0000);\">0.0000</td><td style=\"background-color: rgb(255.0000, 255,255.0000);\">0.0000</td><td style=\"background-color: rgb(255.0000, 255,255.0000);\">0.0000</td><td style=\"background-color: rgb(255.0000, 255,255.0000);\">0.0000</td></tr></table>"
      ],
      "text/plain": [
       "<IPython.core.display.HTML object>"
      ]
     },
     "metadata": {},
     "output_type": "display_data"
    },
    {
     "name": "stdout",
     "output_type": "stream",
     "text": [
      "true Taking pred_h Taking pred_fnh Taking\n"
     ]
    },
    {
     "data": {
      "text/html": [
       "<table><tr><td><b>words</b></td><td style=\"background-color: rgb(255,255,255);\">take</td><td style=\"background-color: rgb(255,255,255);\">the</td><td style=\"background-color: rgb(255,255,255);\">mug</td><td style=\"background-color: rgb(255,255,255);\">on</td><td style=\"background-color: rgb(255,255,255);\">the</td><td style=\"background-color: rgb(255,255,255);\">table</td><td style=\"background-color: rgb(255,255,255);\">in</td><td style=\"background-color: rgb(255,255,255);\">the</td><td style=\"background-color: rgb(255,255,255);\">living</td><td style=\"background-color: rgb(255,255,255);\">room</td></tr><tr><td><b>lu</b></td><td style=\"background-color: rgb(0.0000, 255,0.0000);\">1.0000</td><td style=\"background-color: rgb(255.0000, 255,255.0000);\">0.0000</td><td style=\"background-color: rgb(255.0000, 255,255.0000);\">0.0000</td><td style=\"background-color: rgb(255.0000, 255,255.0000);\">0.0000</td><td style=\"background-color: rgb(255.0000, 255,255.0000);\">0.0000</td><td style=\"background-color: rgb(255.0000, 255,255.0000);\">0.0000</td><td style=\"background-color: rgb(255.0000, 255,255.0000);\">0.0000</td><td style=\"background-color: rgb(255.0000, 255,255.0000);\">0.0000</td><td style=\"background-color: rgb(255.0000, 255,255.0000);\">0.0000</td><td style=\"background-color: rgb(255.0000, 255,255.0000);\">0.0000</td></tr><tr><td><b>h->h</b></td><td style=\"background-color: rgb(254.9852, 255,254.9852);\">0.0001</td><td style=\"background-color: rgb(254.0202, 255,254.0202);\">0.0038</td><td style=\"background-color: rgb(254.9557, 255,254.9557);\">0.0002</td><td style=\"background-color: rgb(245.1387, 255,245.1387);\">0.0387</td><td style=\"background-color: rgb(222.2178, 255,222.2178);\">0.1286</td><td style=\"background-color: rgb(254.3911, 255,254.3911);\">0.0024</td><td style=\"background-color: rgb(253.8949, 255,253.8949);\">0.0043</td><td style=\"background-color: rgb(120.4455, 255,120.4455);\">0.5277</td><td style=\"background-color: rgb(181.9292, 255,181.9292);\">0.2866</td><td style=\"background-color: rgb(253.0893, 255,253.0893);\">0.0075</td></tr><tr><td><b>fn+h->h</b></td><td style=\"background-color: rgb(1.7864, 255,1.7864);\">0.9930</td><td style=\"background-color: rgb(255.0000, 255,255.0000);\">0.0000</td><td style=\"background-color: rgb(255.0000, 255,255.0000);\">0.0000</td><td style=\"background-color: rgb(253.2148, 255,253.2148);\">0.0070</td><td style=\"background-color: rgb(255.0000, 255,255.0000);\">0.0000</td><td style=\"background-color: rgb(255.0000, 255,255.0000);\">0.0000</td><td style=\"background-color: rgb(254.9988, 255,254.9988);\">0.0000</td><td style=\"background-color: rgb(255.0000, 255,255.0000);\">0.0000</td><td style=\"background-color: rgb(255.0000, 255,255.0000);\">0.0000</td><td style=\"background-color: rgb(255.0000, 255,255.0000);\">0.0000</td></tr></table>"
      ],
      "text/plain": [
       "<IPython.core.display.HTML object>"
      ]
     },
     "metadata": {},
     "output_type": "display_data"
    },
    {
     "name": "stdout",
     "output_type": "stream",
     "text": [
      "true Taking pred_h Taking pred_fnh Taking\n"
     ]
    },
    {
     "data": {
      "text/html": [
       "<table><tr><td><b>words</b></td><td style=\"background-color: rgb(255,255,255);\">take</td><td style=\"background-color: rgb(255,255,255);\">my</td><td style=\"background-color: rgb(255,255,255);\">jacket</td><td style=\"background-color: rgb(255,255,255);\">from</td><td style=\"background-color: rgb(255,255,255);\">the</td><td style=\"background-color: rgb(255,255,255);\">jacket</td><td style=\"background-color: rgb(255,255,255);\">hook</td><td style=\"background-color: rgb(255,255,255);\">in</td><td style=\"background-color: rgb(255,255,255);\">my</td><td style=\"background-color: rgb(255,255,255);\">bedroom</td></tr><tr><td><b>lu</b></td><td style=\"background-color: rgb(0.0000, 255,0.0000);\">1.0000</td><td style=\"background-color: rgb(255.0000, 255,255.0000);\">0.0000</td><td style=\"background-color: rgb(255.0000, 255,255.0000);\">0.0000</td><td style=\"background-color: rgb(255.0000, 255,255.0000);\">0.0000</td><td style=\"background-color: rgb(255.0000, 255,255.0000);\">0.0000</td><td style=\"background-color: rgb(255.0000, 255,255.0000);\">0.0000</td><td style=\"background-color: rgb(255.0000, 255,255.0000);\">0.0000</td><td style=\"background-color: rgb(255.0000, 255,255.0000);\">0.0000</td><td style=\"background-color: rgb(255.0000, 255,255.0000);\">0.0000</td><td style=\"background-color: rgb(255.0000, 255,255.0000);\">0.0000</td></tr><tr><td><b>h->h</b></td><td style=\"background-color: rgb(254.9710, 255,254.9710);\">0.0001</td><td style=\"background-color: rgb(252.6699, 255,252.6699);\">0.0091</td><td style=\"background-color: rgb(254.9487, 255,254.9487);\">0.0002</td><td style=\"background-color: rgb(254.9830, 255,254.9830);\">0.0001</td><td style=\"background-color: rgb(254.8003, 255,254.8003);\">0.0008</td><td style=\"background-color: rgb(254.9946, 255,254.9946);\">0.0000</td><td style=\"background-color: rgb(254.9958, 255,254.9958);\">0.0000</td><td style=\"background-color: rgb(253.8681, 255,253.8681);\">0.0044</td><td style=\"background-color: rgb(4.6610, 255,4.6610);\">0.9817</td><td style=\"background-color: rgb(254.1597, 255,254.1597);\">0.0033</td></tr><tr><td><b>fn+h->h</b></td><td style=\"background-color: rgb(0.0243, 255,0.0243);\">0.9999</td><td style=\"background-color: rgb(255.0000, 255,255.0000);\">0.0000</td><td style=\"background-color: rgb(255.0000, 255,255.0000);\">0.0000</td><td style=\"background-color: rgb(255.0000, 255,255.0000);\">0.0000</td><td style=\"background-color: rgb(255.0000, 255,255.0000);\">0.0000</td><td style=\"background-color: rgb(255.0000, 255,255.0000);\">0.0000</td><td style=\"background-color: rgb(255.0000, 255,255.0000);\">0.0000</td><td style=\"background-color: rgb(254.9963, 255,254.9963);\">0.0000</td><td style=\"background-color: rgb(254.9794, 255,254.9794);\">0.0001</td><td style=\"background-color: rgb(255.0000, 255,255.0000);\">0.0000</td></tr></table>"
      ],
      "text/plain": [
       "<IPython.core.display.HTML object>"
      ]
     },
     "metadata": {},
     "output_type": "display_data"
    },
    {
     "name": "stdout",
     "output_type": "stream",
     "text": [
      "true Bringing pred_h Bringing pred_fnh Bringing\n"
     ]
    },
    {
     "data": {
      "text/html": [
       "<table><tr><td><b>words</b></td><td style=\"background-color: rgb(255,255,255);\">bring</td><td style=\"background-color: rgb(255,255,255);\">me</td><td style=\"background-color: rgb(255,255,255);\">my</td><td style=\"background-color: rgb(255,255,255);\">book</td><td style=\"background-color: rgb(255,255,255);\">from</td><td style=\"background-color: rgb(255,255,255);\">the</td><td style=\"background-color: rgb(255,255,255);\">table</td></tr><tr><td><b>lu</b></td><td style=\"background-color: rgb(0.0000, 255,0.0000);\">1.0000</td><td style=\"background-color: rgb(255.0000, 255,255.0000);\">0.0000</td><td style=\"background-color: rgb(255.0000, 255,255.0000);\">0.0000</td><td style=\"background-color: rgb(255.0000, 255,255.0000);\">0.0000</td><td style=\"background-color: rgb(255.0000, 255,255.0000);\">0.0000</td><td style=\"background-color: rgb(255.0000, 255,255.0000);\">0.0000</td><td style=\"background-color: rgb(255.0000, 255,255.0000);\">0.0000</td></tr><tr><td><b>h->h</b></td><td style=\"background-color: rgb(254.9999, 255,254.9999);\">0.0000</td><td style=\"background-color: rgb(254.9899, 255,254.9899);\">0.0000</td><td style=\"background-color: rgb(254.7341, 255,254.7341);\">0.0010</td><td style=\"background-color: rgb(254.8432, 255,254.8432);\">0.0006</td><td style=\"background-color: rgb(243.8248, 255,243.8248);\">0.0438</td><td style=\"background-color: rgb(229.8251, 255,229.8251);\">0.0987</td><td style=\"background-color: rgb(36.7837, 255,36.7837);\">0.8558</td></tr><tr><td><b>fn+h->h</b></td><td style=\"background-color: rgb(91.4156, 255,91.4156);\">0.6415</td><td style=\"background-color: rgb(163.5843, 255,163.5843);\">0.3585</td><td style=\"background-color: rgb(255.0000, 255,255.0000);\">0.0000</td><td style=\"background-color: rgb(255.0000, 255,255.0000);\">0.0000</td><td style=\"background-color: rgb(255.0000, 255,255.0000);\">0.0000</td><td style=\"background-color: rgb(255.0000, 255,255.0000);\">0.0000</td><td style=\"background-color: rgb(255.0000, 255,255.0000);\">0.0000</td></tr></table>"
      ],
      "text/plain": [
       "<IPython.core.display.HTML object>"
      ]
     },
     "metadata": {},
     "output_type": "display_data"
    },
    {
     "name": "stdout",
     "output_type": "stream",
     "text": [
      "true Bringing pred_h Bringing pred_fnh Bringing\n"
     ]
    },
    {
     "data": {
      "text/html": [
       "<table><tr><td><b>words</b></td><td style=\"background-color: rgb(255,255,255);\">bring</td><td style=\"background-color: rgb(255,255,255);\">me</td><td style=\"background-color: rgb(255,255,255);\">my</td><td style=\"background-color: rgb(255,255,255);\">coat</td></tr><tr><td><b>lu</b></td><td style=\"background-color: rgb(0.0000, 255,0.0000);\">1.0000</td><td style=\"background-color: rgb(255.0000, 255,255.0000);\">0.0000</td><td style=\"background-color: rgb(255.0000, 255,255.0000);\">0.0000</td><td style=\"background-color: rgb(255.0000, 255,255.0000);\">0.0000</td></tr><tr><td><b>h->h</b></td><td style=\"background-color: rgb(254.9999, 255,254.9999);\">0.0000</td><td style=\"background-color: rgb(254.9750, 255,254.9750);\">0.0001</td><td style=\"background-color: rgb(251.9873, 255,251.9873);\">0.0118</td><td style=\"background-color: rgb(3.0396, 255,3.0396);\">0.9881</td></tr><tr><td><b>fn+h->h</b></td><td style=\"background-color: rgb(13.0265, 255,13.0265);\">0.9489</td><td style=\"background-color: rgb(241.9735, 255,241.9735);\">0.0511</td><td style=\"background-color: rgb(255.0000, 255,255.0000);\">0.0000</td><td style=\"background-color: rgb(255.0000, 255,255.0000);\">0.0000</td></tr></table>"
      ],
      "text/plain": [
       "<IPython.core.display.HTML object>"
      ]
     },
     "metadata": {},
     "output_type": "display_data"
    },
    {
     "name": "stdout",
     "output_type": "stream",
     "text": [
      "true Bringing pred_h Bringing pred_fnh Bringing\n"
     ]
    },
    {
     "data": {
      "text/html": [
       "<table><tr><td><b>words</b></td><td style=\"background-color: rgb(255,255,255);\">bring</td><td style=\"background-color: rgb(255,255,255);\">me</td><td style=\"background-color: rgb(255,255,255);\">my</td><td style=\"background-color: rgb(255,255,255);\">towel</td></tr><tr><td><b>lu</b></td><td style=\"background-color: rgb(0.0000, 255,0.0000);\">1.0000</td><td style=\"background-color: rgb(255.0000, 255,255.0000);\">0.0000</td><td style=\"background-color: rgb(255.0000, 255,255.0000);\">0.0000</td><td style=\"background-color: rgb(255.0000, 255,255.0000);\">0.0000</td></tr><tr><td><b>h->h</b></td><td style=\"background-color: rgb(254.9998, 255,254.9998);\">0.0000</td><td style=\"background-color: rgb(254.9719, 255,254.9719);\">0.0001</td><td style=\"background-color: rgb(252.4079, 255,252.4079);\">0.0102</td><td style=\"background-color: rgb(2.6222, 255,2.6222);\">0.9897</td></tr><tr><td><b>fn+h->h</b></td><td style=\"background-color: rgb(69.2584, 255,69.2584);\">0.7284</td><td style=\"background-color: rgb(185.7416, 255,185.7416);\">0.2716</td><td style=\"background-color: rgb(255.0000, 255,255.0000);\">0.0000</td><td style=\"background-color: rgb(255.0000, 255,255.0000);\">0.0000</td></tr></table>"
      ],
      "text/plain": [
       "<IPython.core.display.HTML object>"
      ]
     },
     "metadata": {},
     "output_type": "display_data"
    },
    {
     "name": "stdout",
     "output_type": "stream",
     "text": [
      "true Bringing pred_h Bringing pred_fnh Bringing\n"
     ]
    },
    {
     "data": {
      "text/html": [
       "<table><tr><td><b>words</b></td><td style=\"background-color: rgb(255,255,255);\">bring</td><td style=\"background-color: rgb(255,255,255);\">me</td><td style=\"background-color: rgb(255,255,255);\">the</td><td style=\"background-color: rgb(255,255,255);\">remote</td><td style=\"background-color: rgb(255,255,255);\">control</td></tr><tr><td><b>lu</b></td><td style=\"background-color: rgb(0.0000, 255,0.0000);\">1.0000</td><td style=\"background-color: rgb(255.0000, 255,255.0000);\">0.0000</td><td style=\"background-color: rgb(255.0000, 255,255.0000);\">0.0000</td><td style=\"background-color: rgb(255.0000, 255,255.0000);\">0.0000</td><td style=\"background-color: rgb(255.0000, 255,255.0000);\">0.0000</td></tr><tr><td><b>h->h</b></td><td style=\"background-color: rgb(254.9999, 255,254.9999);\">0.0000</td><td style=\"background-color: rgb(254.9609, 255,254.9609);\">0.0002</td><td style=\"background-color: rgb(253.1116, 255,253.1116);\">0.0074</td><td style=\"background-color: rgb(230.8534, 255,230.8534);\">0.0947</td><td style=\"background-color: rgb(26.0759, 255,26.0759);\">0.8977</td></tr><tr><td><b>fn+h->h</b></td><td style=\"background-color: rgb(18.2562, 255,18.2562);\">0.9284</td><td style=\"background-color: rgb(236.7441, 255,236.7441);\">0.0716</td><td style=\"background-color: rgb(255.0000, 255,255.0000);\">0.0000</td><td style=\"background-color: rgb(254.9997, 255,254.9997);\">0.0000</td><td style=\"background-color: rgb(255.0000, 255,255.0000);\">0.0000</td></tr></table>"
      ],
      "text/plain": [
       "<IPython.core.display.HTML object>"
      ]
     },
     "metadata": {},
     "output_type": "display_data"
    },
    {
     "name": "stdout",
     "output_type": "stream",
     "text": [
      "true Bringing pred_h Bringing pred_fnh Bringing\n"
     ]
    },
    {
     "data": {
      "text/html": [
       "<table><tr><td><b>words</b></td><td style=\"background-color: rgb(255,255,255);\">bring</td><td style=\"background-color: rgb(255,255,255);\">me</td><td style=\"background-color: rgb(255,255,255);\">the</td><td style=\"background-color: rgb(255,255,255);\">towel</td><td style=\"background-color: rgb(255,255,255);\">from</td><td style=\"background-color: rgb(255,255,255);\">the</td><td style=\"background-color: rgb(255,255,255);\">drawer</td></tr><tr><td><b>lu</b></td><td style=\"background-color: rgb(0.0000, 255,0.0000);\">1.0000</td><td style=\"background-color: rgb(255.0000, 255,255.0000);\">0.0000</td><td style=\"background-color: rgb(255.0000, 255,255.0000);\">0.0000</td><td style=\"background-color: rgb(255.0000, 255,255.0000);\">0.0000</td><td style=\"background-color: rgb(255.0000, 255,255.0000);\">0.0000</td><td style=\"background-color: rgb(255.0000, 255,255.0000);\">0.0000</td><td style=\"background-color: rgb(255.0000, 255,255.0000);\">0.0000</td></tr><tr><td><b>h->h</b></td><td style=\"background-color: rgb(254.9999, 255,254.9999);\">0.0000</td><td style=\"background-color: rgb(254.9885, 255,254.9885);\">0.0000</td><td style=\"background-color: rgb(254.7037, 255,254.7037);\">0.0012</td><td style=\"background-color: rgb(254.6600, 255,254.6600);\">0.0013</td><td style=\"background-color: rgb(248.3802, 255,248.3802);\">0.0260</td><td style=\"background-color: rgb(242.0792, 255,242.0792);\">0.0507</td><td style=\"background-color: rgb(20.1892, 255,20.1892);\">0.9208</td></tr><tr><td><b>fn+h->h</b></td><td style=\"background-color: rgb(22.9245, 255,22.9245);\">0.9101</td><td style=\"background-color: rgb(232.0755, 255,232.0755);\">0.0899</td><td style=\"background-color: rgb(255.0000, 255,255.0000);\">0.0000</td><td style=\"background-color: rgb(255.0000, 255,255.0000);\">0.0000</td><td style=\"background-color: rgb(255.0000, 255,255.0000);\">0.0000</td><td style=\"background-color: rgb(255.0000, 255,255.0000);\">0.0000</td><td style=\"background-color: rgb(255.0000, 255,255.0000);\">0.0000</td></tr></table>"
      ],
      "text/plain": [
       "<IPython.core.display.HTML object>"
      ]
     },
     "metadata": {},
     "output_type": "display_data"
    },
    {
     "name": "stdout",
     "output_type": "stream",
     "text": [
      "true Bringing pred_h Bringing pred_fnh Bringing\n"
     ]
    },
    {
     "data": {
      "text/html": [
       "<table><tr><td><b>words</b></td><td style=\"background-color: rgb(255,255,255);\">bring</td><td style=\"background-color: rgb(255,255,255);\">over</td><td style=\"background-color: rgb(255,255,255);\">the</td><td style=\"background-color: rgb(255,255,255);\">gray</td><td style=\"background-color: rgb(255,255,255);\">folder</td></tr><tr><td><b>lu</b></td><td style=\"background-color: rgb(0.0000, 255,0.0000);\">1.0000</td><td style=\"background-color: rgb(255.0000, 255,255.0000);\">0.0000</td><td style=\"background-color: rgb(255.0000, 255,255.0000);\">0.0000</td><td style=\"background-color: rgb(255.0000, 255,255.0000);\">0.0000</td><td style=\"background-color: rgb(255.0000, 255,255.0000);\">0.0000</td></tr><tr><td><b>h->h</b></td><td style=\"background-color: rgb(254.9999, 255,254.9999);\">0.0000</td><td style=\"background-color: rgb(254.9067, 255,254.9067);\">0.0004</td><td style=\"background-color: rgb(252.1485, 255,252.1485);\">0.0112</td><td style=\"background-color: rgb(244.1933, 255,244.1933);\">0.0424</td><td style=\"background-color: rgb(13.7539, 255,13.7539);\">0.9461</td></tr><tr><td><b>fn+h->h</b></td><td style=\"background-color: rgb(0.0002, 255,0.0002);\">1.0000</td><td style=\"background-color: rgb(254.9998, 255,254.9998);\">0.0000</td><td style=\"background-color: rgb(255.0000, 255,255.0000);\">0.0000</td><td style=\"background-color: rgb(255.0000, 255,255.0000);\">0.0000</td><td style=\"background-color: rgb(255.0000, 255,255.0000);\">0.0000</td></tr></table>"
      ],
      "text/plain": [
       "<IPython.core.display.HTML object>"
      ]
     },
     "metadata": {},
     "output_type": "display_data"
    },
    {
     "name": "stdout",
     "output_type": "stream",
     "text": [
      "true Bringing pred_h Bringing pred_fnh Bringing\n"
     ]
    },
    {
     "data": {
      "text/html": [
       "<table><tr><td><b>words</b></td><td style=\"background-color: rgb(255,255,255);\">bring</td><td style=\"background-color: rgb(255,255,255);\">the</td><td style=\"background-color: rgb(255,255,255);\">newspaper</td><td style=\"background-color: rgb(255,255,255);\">to</td><td style=\"background-color: rgb(255,255,255);\">the</td><td style=\"background-color: rgb(255,255,255);\">studio</td></tr><tr><td><b>lu</b></td><td style=\"background-color: rgb(0.0000, 255,0.0000);\">1.0000</td><td style=\"background-color: rgb(255.0000, 255,255.0000);\">0.0000</td><td style=\"background-color: rgb(255.0000, 255,255.0000);\">0.0000</td><td style=\"background-color: rgb(255.0000, 255,255.0000);\">0.0000</td><td style=\"background-color: rgb(255.0000, 255,255.0000);\">0.0000</td><td style=\"background-color: rgb(255.0000, 255,255.0000);\">0.0000</td></tr><tr><td><b>h->h</b></td><td style=\"background-color: rgb(254.9997, 255,254.9997);\">0.0000</td><td style=\"background-color: rgb(254.9654, 255,254.9654);\">0.0001</td><td style=\"background-color: rgb(254.9750, 255,254.9750);\">0.0001</td><td style=\"background-color: rgb(254.4164, 255,254.4164);\">0.0023</td><td style=\"background-color: rgb(205.6036, 255,205.6036);\">0.1937</td><td style=\"background-color: rgb(50.0406, 255,50.0406);\">0.8038</td></tr><tr><td><b>fn+h->h</b></td><td style=\"background-color: rgb(39.7299, 255,39.7299);\">0.8442</td><td style=\"background-color: rgb(255.0000, 255,255.0000);\">0.0000</td><td style=\"background-color: rgb(255.0000, 255,255.0000);\">0.0000</td><td style=\"background-color: rgb(215.2701, 255,215.2701);\">0.1558</td><td style=\"background-color: rgb(255.0000, 255,255.0000);\">0.0000</td><td style=\"background-color: rgb(255.0000, 255,255.0000);\">0.0000</td></tr></table>"
      ],
      "text/plain": [
       "<IPython.core.display.HTML object>"
      ]
     },
     "metadata": {},
     "output_type": "display_data"
    },
    {
     "name": "stdout",
     "output_type": "stream",
     "text": [
      "true Bringing pred_h Bringing pred_fnh Bringing\n"
     ]
    },
    {
     "data": {
      "text/html": [
       "<table><tr><td><b>words</b></td><td style=\"background-color: rgb(255,255,255);\">bring</td><td style=\"background-color: rgb(255,255,255);\">the</td><td style=\"background-color: rgb(255,255,255);\">shampoo</td><td style=\"background-color: rgb(255,255,255);\">to</td><td style=\"background-color: rgb(255,255,255);\">the</td><td style=\"background-color: rgb(255,255,255);\">shower</td></tr><tr><td><b>lu</b></td><td style=\"background-color: rgb(0.0000, 255,0.0000);\">1.0000</td><td style=\"background-color: rgb(255.0000, 255,255.0000);\">0.0000</td><td style=\"background-color: rgb(255.0000, 255,255.0000);\">0.0000</td><td style=\"background-color: rgb(255.0000, 255,255.0000);\">0.0000</td><td style=\"background-color: rgb(255.0000, 255,255.0000);\">0.0000</td><td style=\"background-color: rgb(255.0000, 255,255.0000);\">0.0000</td></tr><tr><td><b>h->h</b></td><td style=\"background-color: rgb(254.9995, 255,254.9995);\">0.0000</td><td style=\"background-color: rgb(254.9590, 255,254.9590);\">0.0002</td><td style=\"background-color: rgb(254.9437, 255,254.9437);\">0.0002</td><td style=\"background-color: rgb(254.2203, 255,254.2203);\">0.0031</td><td style=\"background-color: rgb(232.0896, 255,232.0896);\">0.0898</td><td style=\"background-color: rgb(23.7890, 255,23.7890);\">0.9067</td></tr><tr><td><b>fn+h->h</b></td><td style=\"background-color: rgb(124.8001, 255,124.8001);\">0.5106</td><td style=\"background-color: rgb(255.0000, 255,255.0000);\">0.0000</td><td style=\"background-color: rgb(254.9999, 255,254.9999);\">0.0000</td><td style=\"background-color: rgb(130.2000, 255,130.2000);\">0.4894</td><td style=\"background-color: rgb(255.0000, 255,255.0000);\">0.0000</td><td style=\"background-color: rgb(255.0000, 255,255.0000);\">0.0000</td></tr></table>"
      ],
      "text/plain": [
       "<IPython.core.display.HTML object>"
      ]
     },
     "metadata": {},
     "output_type": "display_data"
    },
    {
     "name": "stdout",
     "output_type": "stream",
     "text": [
      "true Bringing pred_h Bringing pred_fnh Bringing\n"
     ]
    },
    {
     "data": {
      "text/html": [
       "<table><tr><td><b>words</b></td><td style=\"background-color: rgb(255,255,255);\">bring</td><td style=\"background-color: rgb(255,255,255);\">the</td><td style=\"background-color: rgb(255,255,255);\">soap</td><td style=\"background-color: rgb(255,255,255);\">to</td><td style=\"background-color: rgb(255,255,255);\">the</td><td style=\"background-color: rgb(255,255,255);\">shower</td></tr><tr><td><b>lu</b></td><td style=\"background-color: rgb(0.0000, 255,0.0000);\">1.0000</td><td style=\"background-color: rgb(255.0000, 255,255.0000);\">0.0000</td><td style=\"background-color: rgb(255.0000, 255,255.0000);\">0.0000</td><td style=\"background-color: rgb(255.0000, 255,255.0000);\">0.0000</td><td style=\"background-color: rgb(255.0000, 255,255.0000);\">0.0000</td><td style=\"background-color: rgb(255.0000, 255,255.0000);\">0.0000</td></tr><tr><td><b>h->h</b></td><td style=\"background-color: rgb(254.9995, 255,254.9995);\">0.0000</td><td style=\"background-color: rgb(254.9499, 255,254.9499);\">0.0002</td><td style=\"background-color: rgb(254.9726, 255,254.9726);\">0.0001</td><td style=\"background-color: rgb(254.2608, 255,254.2608);\">0.0029</td><td style=\"background-color: rgb(236.4696, 255,236.4696);\">0.0727</td><td style=\"background-color: rgb(19.3489, 255,19.3489);\">0.9241</td></tr><tr><td><b>fn+h->h</b></td><td style=\"background-color: rgb(101.7540, 255,101.7540);\">0.6010</td><td style=\"background-color: rgb(255.0000, 255,255.0000);\">0.0000</td><td style=\"background-color: rgb(254.9998, 255,254.9998);\">0.0000</td><td style=\"background-color: rgb(153.2462, 255,153.2462);\">0.3990</td><td style=\"background-color: rgb(255.0000, 255,255.0000);\">0.0000</td><td style=\"background-color: rgb(255.0000, 255,255.0000);\">0.0000</td></tr></table>"
      ],
      "text/plain": [
       "<IPython.core.display.HTML object>"
      ]
     },
     "metadata": {},
     "output_type": "display_data"
    },
    {
     "name": "stdout",
     "output_type": "stream",
     "text": [
      "true Inspecting pred_h Inspecting pred_fnh Inspecting\n"
     ]
    },
    {
     "data": {
      "text/html": [
       "<table><tr><td><b>words</b></td><td style=\"background-color: rgb(255,255,255);\">check</td><td style=\"background-color: rgb(255,255,255);\">if</td><td style=\"background-color: rgb(255,255,255);\">there</td><td style=\"background-color: rgb(255,255,255);\">'s</td><td style=\"background-color: rgb(255,255,255);\">clothes</td><td style=\"background-color: rgb(255,255,255);\">in</td><td style=\"background-color: rgb(255,255,255);\">the</td><td style=\"background-color: rgb(255,255,255);\">washing</td><td style=\"background-color: rgb(255,255,255);\">machine</td></tr><tr><td><b>lu</b></td><td style=\"background-color: rgb(0.0000, 255,0.0000);\">1.0000</td><td style=\"background-color: rgb(255.0000, 255,255.0000);\">0.0000</td><td style=\"background-color: rgb(255.0000, 255,255.0000);\">0.0000</td><td style=\"background-color: rgb(255.0000, 255,255.0000);\">0.0000</td><td style=\"background-color: rgb(255.0000, 255,255.0000);\">0.0000</td><td style=\"background-color: rgb(255.0000, 255,255.0000);\">0.0000</td><td style=\"background-color: rgb(255.0000, 255,255.0000);\">0.0000</td><td style=\"background-color: rgb(255.0000, 255,255.0000);\">0.0000</td><td style=\"background-color: rgb(255.0000, 255,255.0000);\">0.0000</td></tr><tr><td><b>h->h</b></td><td style=\"background-color: rgb(255.0000, 255,255.0000);\">0.0000</td><td style=\"background-color: rgb(255.0000, 255,255.0000);\">0.0000</td><td style=\"background-color: rgb(254.9977, 255,254.9977);\">0.0000</td><td style=\"background-color: rgb(254.9996, 255,254.9996);\">0.0000</td><td style=\"background-color: rgb(254.8895, 255,254.8895);\">0.0004</td><td style=\"background-color: rgb(254.8499, 255,254.8499);\">0.0006</td><td style=\"background-color: rgb(246.7132, 255,246.7132);\">0.0325</td><td style=\"background-color: rgb(10.3044, 255,10.3044);\">0.9596</td><td style=\"background-color: rgb(253.2610, 255,253.2610);\">0.0068</td></tr><tr><td><b>fn+h->h</b></td><td style=\"background-color: rgb(0.0204, 255,0.0204);\">0.9999</td><td style=\"background-color: rgb(254.9816, 255,254.9816);\">0.0001</td><td style=\"background-color: rgb(255.0000, 255,255.0000);\">0.0000</td><td style=\"background-color: rgb(255.0000, 255,255.0000);\">0.0000</td><td style=\"background-color: rgb(254.9999, 255,254.9999);\">0.0000</td><td style=\"background-color: rgb(254.9998, 255,254.9998);\">0.0000</td><td style=\"background-color: rgb(255.0000, 255,255.0000);\">0.0000</td><td style=\"background-color: rgb(254.9994, 255,254.9994);\">0.0000</td><td style=\"background-color: rgb(254.9988, 255,254.9988);\">0.0000</td></tr></table>"
      ],
      "text/plain": [
       "<IPython.core.display.HTML object>"
      ]
     },
     "metadata": {},
     "output_type": "display_data"
    },
    {
     "name": "stdout",
     "output_type": "stream",
     "text": [
      "true Inspecting pred_h Inspecting pred_fnh Inspecting\n"
     ]
    },
    {
     "data": {
      "text/html": [
       "<table><tr><td><b>words</b></td><td style=\"background-color: rgb(255,255,255);\">check</td><td style=\"background-color: rgb(255,255,255);\">the</td><td style=\"background-color: rgb(255,255,255);\">answer</td><td style=\"background-color: rgb(255,255,255);\">machine</td><td style=\"background-color: rgb(255,255,255);\">for</td><td style=\"background-color: rgb(255,255,255);\">any</td><td style=\"background-color: rgb(255,255,255);\">messages</td></tr><tr><td><b>lu</b></td><td style=\"background-color: rgb(0.0000, 255,0.0000);\">1.0000</td><td style=\"background-color: rgb(255.0000, 255,255.0000);\">0.0000</td><td style=\"background-color: rgb(255.0000, 255,255.0000);\">0.0000</td><td style=\"background-color: rgb(255.0000, 255,255.0000);\">0.0000</td><td style=\"background-color: rgb(255.0000, 255,255.0000);\">0.0000</td><td style=\"background-color: rgb(255.0000, 255,255.0000);\">0.0000</td><td style=\"background-color: rgb(255.0000, 255,255.0000);\">0.0000</td></tr><tr><td><b>h->h</b></td><td style=\"background-color: rgb(254.7106, 255,254.7106);\">0.0011</td><td style=\"background-color: rgb(254.9023, 255,254.9023);\">0.0004</td><td style=\"background-color: rgb(254.1432, 255,254.1432);\">0.0034</td><td style=\"background-color: rgb(133.1885, 255,133.1885);\">0.4777</td><td style=\"background-color: rgb(253.4073, 255,253.4073);\">0.0062</td><td style=\"background-color: rgb(124.7462, 255,124.7462);\">0.5108</td><td style=\"background-color: rgb(254.9579, 255,254.9579);\">0.0002</td></tr><tr><td><b>fn+h->h</b></td><td style=\"background-color: rgb(0.0000, 255,0.0000);\">1.0000</td><td style=\"background-color: rgb(255.0000, 255,255.0000);\">0.0000</td><td style=\"background-color: rgb(255.0000, 255,255.0000);\">0.0000</td><td style=\"background-color: rgb(255.0000, 255,255.0000);\">0.0000</td><td style=\"background-color: rgb(255.0000, 255,255.0000);\">0.0000</td><td style=\"background-color: rgb(255.0000, 255,255.0000);\">0.0000</td><td style=\"background-color: rgb(255.0000, 255,255.0000);\">0.0000</td></tr></table>"
      ],
      "text/plain": [
       "<IPython.core.display.HTML object>"
      ]
     },
     "metadata": {},
     "output_type": "display_data"
    },
    {
     "name": "stdout",
     "output_type": "stream",
     "text": [
      "true Closure pred_h Closure pred_fnh Closure\n"
     ]
    },
    {
     "data": {
      "text/html": [
       "<table><tr><td><b>words</b></td><td style=\"background-color: rgb(255,255,255);\">close</td><td style=\"background-color: rgb(255,255,255);\">the</td><td style=\"background-color: rgb(255,255,255);\">curtains</td><td style=\"background-color: rgb(255,255,255);\">in</td><td style=\"background-color: rgb(255,255,255);\">the</td><td style=\"background-color: rgb(255,255,255);\">living</td><td style=\"background-color: rgb(255,255,255);\">room</td></tr><tr><td><b>lu</b></td><td style=\"background-color: rgb(0.0000, 255,0.0000);\">1.0000</td><td style=\"background-color: rgb(255.0000, 255,255.0000);\">0.0000</td><td style=\"background-color: rgb(255.0000, 255,255.0000);\">0.0000</td><td style=\"background-color: rgb(255.0000, 255,255.0000);\">0.0000</td><td style=\"background-color: rgb(255.0000, 255,255.0000);\">0.0000</td><td style=\"background-color: rgb(255.0000, 255,255.0000);\">0.0000</td><td style=\"background-color: rgb(255.0000, 255,255.0000);\">0.0000</td></tr><tr><td><b>h->h</b></td><td style=\"background-color: rgb(254.8340, 255,254.8340);\">0.0007</td><td style=\"background-color: rgb(236.5630, 255,236.5630);\">0.0723</td><td style=\"background-color: rgb(245.9921, 255,245.9921);\">0.0353</td><td style=\"background-color: rgb(253.6479, 255,253.6479);\">0.0053</td><td style=\"background-color: rgb(141.8720, 255,141.8720);\">0.4436</td><td style=\"background-color: rgb(142.1877, 255,142.1877);\">0.4424</td><td style=\"background-color: rgb(254.9421, 255,254.9421);\">0.0002</td></tr><tr><td><b>fn+h->h</b></td><td style=\"background-color: rgb(7.4576, 255,7.4576);\">0.9708</td><td style=\"background-color: rgb(255.0000, 255,255.0000);\">0.0000</td><td style=\"background-color: rgb(254.4462, 255,254.4462);\">0.0022</td><td style=\"background-color: rgb(248.0968, 255,248.0968);\">0.0271</td><td style=\"background-color: rgb(254.9993, 255,254.9993);\">0.0000</td><td style=\"background-color: rgb(255.0000, 255,255.0000);\">0.0000</td><td style=\"background-color: rgb(255.0000, 255,255.0000);\">0.0000</td></tr></table>"
      ],
      "text/plain": [
       "<IPython.core.display.HTML object>"
      ]
     },
     "metadata": {},
     "output_type": "display_data"
    },
    {
     "name": "stdout",
     "output_type": "stream",
     "text": [
      "true Bringing pred_h Bringing pred_fnh Bringing\n"
     ]
    },
    {
     "data": {
      "text/html": [
       "<table><tr><td><b>words</b></td><td style=\"background-color: rgb(255,255,255);\">could</td><td style=\"background-color: rgb(255,255,255);\">you</td><td style=\"background-color: rgb(255,255,255);\">bring</td><td style=\"background-color: rgb(255,255,255);\">my</td><td style=\"background-color: rgb(255,255,255);\">water</td><td style=\"background-color: rgb(255,255,255);\">into</td><td style=\"background-color: rgb(255,255,255);\">the</td><td style=\"background-color: rgb(255,255,255);\">bedroom</td></tr><tr><td><b>lu</b></td><td style=\"background-color: rgb(255.0000, 255,255.0000);\">0.0000</td><td style=\"background-color: rgb(255.0000, 255,255.0000);\">0.0000</td><td style=\"background-color: rgb(0.0000, 255,0.0000);\">1.0000</td><td style=\"background-color: rgb(255.0000, 255,255.0000);\">0.0000</td><td style=\"background-color: rgb(255.0000, 255,255.0000);\">0.0000</td><td style=\"background-color: rgb(255.0000, 255,255.0000);\">0.0000</td><td style=\"background-color: rgb(255.0000, 255,255.0000);\">0.0000</td><td style=\"background-color: rgb(255.0000, 255,255.0000);\">0.0000</td></tr><tr><td><b>h->h</b></td><td style=\"background-color: rgb(255.0000, 255,255.0000);\">0.0000</td><td style=\"background-color: rgb(255.0000, 255,255.0000);\">0.0000</td><td style=\"background-color: rgb(254.9995, 255,254.9995);\">0.0000</td><td style=\"background-color: rgb(254.9460, 255,254.9460);\">0.0002</td><td style=\"background-color: rgb(254.8853, 255,254.8853);\">0.0004</td><td style=\"background-color: rgb(253.2892, 255,253.2892);\">0.0067</td><td style=\"background-color: rgb(229.0696, 255,229.0696);\">0.1017</td><td style=\"background-color: rgb(27.8113, 255,27.8113);\">0.8909</td></tr><tr><td><b>fn+h->h</b></td><td style=\"background-color: rgb(255.0000, 255,255.0000);\">0.0000</td><td style=\"background-color: rgb(255.0000, 255,255.0000);\">0.0000</td><td style=\"background-color: rgb(77.4037, 255,77.4037);\">0.6965</td><td style=\"background-color: rgb(255.0000, 255,255.0000);\">0.0000</td><td style=\"background-color: rgb(255.0000, 255,255.0000);\">0.0000</td><td style=\"background-color: rgb(177.5963, 255,177.5963);\">0.3035</td><td style=\"background-color: rgb(255.0000, 255,255.0000);\">0.0000</td><td style=\"background-color: rgb(255.0000, 255,255.0000);\">0.0000</td></tr></table>"
      ],
      "text/plain": [
       "<IPython.core.display.HTML object>"
      ]
     },
     "metadata": {},
     "output_type": "display_data"
    },
    {
     "name": "stdout",
     "output_type": "stream",
     "text": [
      "true Closure pred_h Closure pred_fnh Closure\n"
     ]
    },
    {
     "data": {
      "text/html": [
       "<table><tr><td><b>words</b></td><td style=\"background-color: rgb(255,255,255);\">could</td><td style=\"background-color: rgb(255,255,255);\">you</td><td style=\"background-color: rgb(255,255,255);\">close</td><td style=\"background-color: rgb(255,255,255);\">the</td><td style=\"background-color: rgb(255,255,255);\">shutters</td></tr><tr><td><b>lu</b></td><td style=\"background-color: rgb(255.0000, 255,255.0000);\">0.0000</td><td style=\"background-color: rgb(255.0000, 255,255.0000);\">0.0000</td><td style=\"background-color: rgb(0.0000, 255,0.0000);\">1.0000</td><td style=\"background-color: rgb(255.0000, 255,255.0000);\">0.0000</td><td style=\"background-color: rgb(255.0000, 255,255.0000);\">0.0000</td></tr><tr><td><b>h->h</b></td><td style=\"background-color: rgb(255.0000, 255,255.0000);\">0.0000</td><td style=\"background-color: rgb(255.0000, 255,255.0000);\">0.0000</td><td style=\"background-color: rgb(254.9590, 255,254.9590);\">0.0002</td><td style=\"background-color: rgb(8.1191, 255,8.1191);\">0.9682</td><td style=\"background-color: rgb(246.9376, 255,246.9376);\">0.0316</td></tr><tr><td><b>fn+h->h</b></td><td style=\"background-color: rgb(255.0000, 255,255.0000);\">0.0000</td><td style=\"background-color: rgb(255.0000, 255,255.0000);\">0.0000</td><td style=\"background-color: rgb(0.0000, 255,0.0000);\">1.0000</td><td style=\"background-color: rgb(255.0000, 255,255.0000);\">0.0000</td><td style=\"background-color: rgb(255.0000, 255,255.0000);\">0.0000</td></tr></table>"
      ],
      "text/plain": [
       "<IPython.core.display.HTML object>"
      ]
     },
     "metadata": {},
     "output_type": "display_data"
    },
    {
     "name": "stdout",
     "output_type": "stream",
     "text": [
      "true Taking pred_h Taking pred_fnh Taking\n"
     ]
    },
    {
     "data": {
      "text/html": [
       "<table><tr><td><b>words</b></td><td style=\"background-color: rgb(255,255,255);\">could</td><td style=\"background-color: rgb(255,255,255);\">you</td><td style=\"background-color: rgb(255,255,255);\">pick</td><td style=\"background-color: rgb(255,255,255);\">up</td><td style=\"background-color: rgb(255,255,255);\">the</td><td style=\"background-color: rgb(255,255,255);\">telephone</td></tr><tr><td><b>lu</b></td><td style=\"background-color: rgb(255.0000, 255,255.0000);\">0.0000</td><td style=\"background-color: rgb(255.0000, 255,255.0000);\">0.0000</td><td style=\"background-color: rgb(0.0000, 255,0.0000);\">1.0000</td><td style=\"background-color: rgb(0.0000, 255,0.0000);\">1.0000</td><td style=\"background-color: rgb(255.0000, 255,255.0000);\">0.0000</td><td style=\"background-color: rgb(255.0000, 255,255.0000);\">0.0000</td></tr><tr><td><b>h->h</b></td><td style=\"background-color: rgb(255.0000, 255,255.0000);\">0.0000</td><td style=\"background-color: rgb(255.0000, 255,255.0000);\">0.0000</td><td style=\"background-color: rgb(255.0000, 255,255.0000);\">0.0000</td><td style=\"background-color: rgb(254.7173, 255,254.7173);\">0.0011</td><td style=\"background-color: rgb(0.7829, 255,0.7829);\">0.9969</td><td style=\"background-color: rgb(254.5071, 255,254.5071);\">0.0019</td></tr><tr><td><b>fn+h->h</b></td><td style=\"background-color: rgb(255.0000, 255,255.0000);\">0.0000</td><td style=\"background-color: rgb(255.0000, 255,255.0000);\">0.0000</td><td style=\"background-color: rgb(0.0154, 255,0.0154);\">0.9999</td><td style=\"background-color: rgb(254.9846, 255,254.9846);\">0.0001</td><td style=\"background-color: rgb(255.0000, 255,255.0000);\">0.0000</td><td style=\"background-color: rgb(255.0000, 255,255.0000);\">0.0000</td></tr></table>"
      ],
      "text/plain": [
       "<IPython.core.display.HTML object>"
      ]
     },
     "metadata": {},
     "output_type": "display_data"
    },
    {
     "name": "stdout",
     "output_type": "stream",
     "text": [
      "true Searching pred_h Searching pred_fnh Searching\n"
     ]
    },
    {
     "data": {
      "text/html": [
       "<table><tr><td><b>words</b></td><td style=\"background-color: rgb(255,255,255);\">find</td><td style=\"background-color: rgb(255,255,255);\">the</td><td style=\"background-color: rgb(255,255,255);\">bottle</td><td style=\"background-color: rgb(255,255,255);\">of</td><td style=\"background-color: rgb(255,255,255);\">water</td></tr><tr><td><b>lu</b></td><td style=\"background-color: rgb(0.0000, 255,0.0000);\">1.0000</td><td style=\"background-color: rgb(255.0000, 255,255.0000);\">0.0000</td><td style=\"background-color: rgb(255.0000, 255,255.0000);\">0.0000</td><td style=\"background-color: rgb(255.0000, 255,255.0000);\">0.0000</td><td style=\"background-color: rgb(255.0000, 255,255.0000);\">0.0000</td></tr><tr><td><b>h->h</b></td><td style=\"background-color: rgb(254.9939, 255,254.9939);\">0.0000</td><td style=\"background-color: rgb(254.7598, 255,254.7598);\">0.0009</td><td style=\"background-color: rgb(247.0162, 255,247.0162);\">0.0313</td><td style=\"background-color: rgb(118.2908, 255,118.2908);\">0.5361</td><td style=\"background-color: rgb(144.9406, 255,144.9406);\">0.4316</td></tr><tr><td><b>fn+h->h</b></td><td style=\"background-color: rgb(0.0000, 255,0.0000);\">1.0000</td><td style=\"background-color: rgb(255.0000, 255,255.0000);\">0.0000</td><td style=\"background-color: rgb(255.0000, 255,255.0000);\">0.0000</td><td style=\"background-color: rgb(255.0000, 255,255.0000);\">0.0000</td><td style=\"background-color: rgb(255.0000, 255,255.0000);\">0.0000</td></tr></table>"
      ],
      "text/plain": [
       "<IPython.core.display.HTML object>"
      ]
     },
     "metadata": {},
     "output_type": "display_data"
    },
    {
     "name": "stdout",
     "output_type": "stream",
     "text": [
      "true Searching pred_h Searching pred_fnh Searching\n"
     ]
    },
    {
     "data": {
      "text/html": [
       "<table><tr><td><b>words</b></td><td style=\"background-color: rgb(255,255,255);\">find</td><td style=\"background-color: rgb(255,255,255);\">the</td><td style=\"background-color: rgb(255,255,255);\">magazine</td></tr><tr><td><b>lu</b></td><td style=\"background-color: rgb(0.0000, 255,0.0000);\">1.0000</td><td style=\"background-color: rgb(255.0000, 255,255.0000);\">0.0000</td><td style=\"background-color: rgb(255.0000, 255,255.0000);\">0.0000</td></tr><tr><td><b>h->h</b></td><td style=\"background-color: rgb(254.9874, 255,254.9874);\">0.0000</td><td style=\"background-color: rgb(188.2261, 255,188.2261);\">0.2619</td><td style=\"background-color: rgb(66.7885, 255,66.7885);\">0.7381</td></tr><tr><td><b>fn+h->h</b></td><td style=\"background-color: rgb(0.0000, 255,0.0000);\">1.0000</td><td style=\"background-color: rgb(255.0000, 255,255.0000);\">0.0000</td><td style=\"background-color: rgb(255.0000, 255,255.0000);\">0.0000</td></tr></table>"
      ],
      "text/plain": [
       "<IPython.core.display.HTML object>"
      ]
     },
     "metadata": {},
     "output_type": "display_data"
    },
    {
     "name": "stdout",
     "output_type": "stream",
     "text": [
      "true Searching pred_h Searching pred_fnh Searching\n"
     ]
    },
    {
     "data": {
      "text/html": [
       "<table><tr><td><b>words</b></td><td style=\"background-color: rgb(255,255,255);\">find</td><td style=\"background-color: rgb(255,255,255);\">the</td><td style=\"background-color: rgb(255,255,255);\">towel</td></tr><tr><td><b>lu</b></td><td style=\"background-color: rgb(0.0000, 255,0.0000);\">1.0000</td><td style=\"background-color: rgb(255.0000, 255,255.0000);\">0.0000</td><td style=\"background-color: rgb(255.0000, 255,255.0000);\">0.0000</td></tr><tr><td><b>h->h</b></td><td style=\"background-color: rgb(254.9787, 255,254.9787);\">0.0001</td><td style=\"background-color: rgb(234.5963, 255,234.5963);\">0.0800</td><td style=\"background-color: rgb(20.4277, 255,20.4277);\">0.9199</td></tr><tr><td><b>fn+h->h</b></td><td style=\"background-color: rgb(0.0000, 255,0.0000);\">1.0000</td><td style=\"background-color: rgb(255.0000, 255,255.0000);\">0.0000</td><td style=\"background-color: rgb(255.0000, 255,255.0000);\">0.0000</td></tr></table>"
      ],
      "text/plain": [
       "<IPython.core.display.HTML object>"
      ]
     },
     "metadata": {},
     "output_type": "display_data"
    },
    {
     "name": "stdout",
     "output_type": "stream",
     "text": [
      "true Following pred_h Following pred_fnh Following\n"
     ]
    },
    {
     "data": {
      "text/html": [
       "<table><tr><td><b>words</b></td><td style=\"background-color: rgb(255,255,255);\">follow</td><td style=\"background-color: rgb(255,255,255);\">me</td><td style=\"background-color: rgb(255,255,255);\">to</td><td style=\"background-color: rgb(255,255,255);\">the</td><td style=\"background-color: rgb(255,255,255);\">bathroom</td></tr><tr><td><b>lu</b></td><td style=\"background-color: rgb(0.0000, 255,0.0000);\">1.0000</td><td style=\"background-color: rgb(255.0000, 255,255.0000);\">0.0000</td><td style=\"background-color: rgb(255.0000, 255,255.0000);\">0.0000</td><td style=\"background-color: rgb(255.0000, 255,255.0000);\">0.0000</td><td style=\"background-color: rgb(255.0000, 255,255.0000);\">0.0000</td></tr><tr><td><b>h->h</b></td><td style=\"background-color: rgb(254.9923, 255,254.9923);\">0.0000</td><td style=\"background-color: rgb(254.9793, 255,254.9793);\">0.0001</td><td style=\"background-color: rgb(245.4406, 255,245.4406);\">0.0375</td><td style=\"background-color: rgb(18.2212, 255,18.2212);\">0.9285</td><td style=\"background-color: rgb(246.3696, 255,246.3696);\">0.0338</td></tr><tr><td><b>fn+h->h</b></td><td style=\"background-color: rgb(0.2361, 255,0.2361);\">0.9991</td><td style=\"background-color: rgb(254.7639, 255,254.7639);\">0.0009</td><td style=\"background-color: rgb(255.0000, 255,255.0000);\">0.0000</td><td style=\"background-color: rgb(255.0000, 255,255.0000);\">0.0000</td><td style=\"background-color: rgb(255.0000, 255,255.0000);\">0.0000</td></tr></table>"
      ],
      "text/plain": [
       "<IPython.core.display.HTML object>"
      ]
     },
     "metadata": {},
     "output_type": "display_data"
    },
    {
     "name": "stdout",
     "output_type": "stream",
     "text": [
      "true Taking pred_h Taking pred_fnh Taking\n"
     ]
    },
    {
     "data": {
      "text/html": [
       "<table><tr><td><b>words</b></td><td style=\"background-color: rgb(255,255,255);\">get</td><td style=\"background-color: rgb(255,255,255);\">a</td><td style=\"background-color: rgb(255,255,255);\">fork</td><td style=\"background-color: rgb(255,255,255);\">from</td><td style=\"background-color: rgb(255,255,255);\">the</td><td style=\"background-color: rgb(255,255,255);\">drawer</td></tr><tr><td><b>lu</b></td><td style=\"background-color: rgb(0.0000, 255,0.0000);\">1.0000</td><td style=\"background-color: rgb(255.0000, 255,255.0000);\">0.0000</td><td style=\"background-color: rgb(255.0000, 255,255.0000);\">0.0000</td><td style=\"background-color: rgb(255.0000, 255,255.0000);\">0.0000</td><td style=\"background-color: rgb(255.0000, 255,255.0000);\">0.0000</td><td style=\"background-color: rgb(255.0000, 255,255.0000);\">0.0000</td></tr><tr><td><b>h->h</b></td><td style=\"background-color: rgb(254.9907, 255,254.9907);\">0.0000</td><td style=\"background-color: rgb(253.4153, 255,253.4153);\">0.0062</td><td style=\"background-color: rgb(254.9718, 255,254.9718);\">0.0001</td><td style=\"background-color: rgb(246.0751, 255,246.0751);\">0.0350</td><td style=\"background-color: rgb(12.8529, 255,12.8529);\">0.9496</td><td style=\"background-color: rgb(252.7006, 255,252.7006);\">0.0090</td></tr><tr><td><b>fn+h->h</b></td><td style=\"background-color: rgb(0.2073, 255,0.2073);\">0.9992</td><td style=\"background-color: rgb(255.0000, 255,255.0000);\">0.0000</td><td style=\"background-color: rgb(254.7927, 255,254.7927);\">0.0008</td><td style=\"background-color: rgb(255.0000, 255,255.0000);\">0.0000</td><td style=\"background-color: rgb(255.0000, 255,255.0000);\">0.0000</td><td style=\"background-color: rgb(255.0000, 255,255.0000);\">0.0000</td></tr></table>"
      ],
      "text/plain": [
       "<IPython.core.display.HTML object>"
      ]
     },
     "metadata": {},
     "output_type": "display_data"
    },
    {
     "name": "stdout",
     "output_type": "stream",
     "text": [
      "true Bringing pred_h Bringing pred_fnh Bringing\n"
     ]
    },
    {
     "data": {
      "text/html": [
       "<table><tr><td><b>words</b></td><td style=\"background-color: rgb(255,255,255);\">get</td><td style=\"background-color: rgb(255,255,255);\">me</td><td style=\"background-color: rgb(255,255,255);\">my</td><td style=\"background-color: rgb(255,255,255);\">catalogue</td><td style=\"background-color: rgb(255,255,255);\">on</td><td style=\"background-color: rgb(255,255,255);\">the</td><td style=\"background-color: rgb(255,255,255);\">bedside</td><td style=\"background-color: rgb(255,255,255);\">table</td></tr><tr><td><b>lu</b></td><td style=\"background-color: rgb(0.0000, 255,0.0000);\">1.0000</td><td style=\"background-color: rgb(255.0000, 255,255.0000);\">0.0000</td><td style=\"background-color: rgb(255.0000, 255,255.0000);\">0.0000</td><td style=\"background-color: rgb(255.0000, 255,255.0000);\">0.0000</td><td style=\"background-color: rgb(255.0000, 255,255.0000);\">0.0000</td><td style=\"background-color: rgb(255.0000, 255,255.0000);\">0.0000</td><td style=\"background-color: rgb(255.0000, 255,255.0000);\">0.0000</td><td style=\"background-color: rgb(255.0000, 255,255.0000);\">0.0000</td></tr><tr><td><b>h->h</b></td><td style=\"background-color: rgb(254.9996, 255,254.9996);\">0.0000</td><td style=\"background-color: rgb(254.9935, 255,254.9935);\">0.0000</td><td style=\"background-color: rgb(254.6888, 255,254.6888);\">0.0012</td><td style=\"background-color: rgb(254.8166, 255,254.8166);\">0.0007</td><td style=\"background-color: rgb(252.2091, 255,252.2091);\">0.0109</td><td style=\"background-color: rgb(243.1577, 255,243.1577);\">0.0464</td><td style=\"background-color: rgb(228.4326, 255,228.4326);\">0.1042</td><td style=\"background-color: rgb(41.7027, 255,41.7027);\">0.8365</td></tr><tr><td><b>fn+h->h</b></td><td style=\"background-color: rgb(123.2056, 255,123.2056);\">0.5168</td><td style=\"background-color: rgb(131.7945, 255,131.7945);\">0.4832</td><td style=\"background-color: rgb(255.0000, 255,255.0000);\">0.0000</td><td style=\"background-color: rgb(254.9998, 255,254.9998);\">0.0000</td><td style=\"background-color: rgb(255.0000, 255,255.0000);\">0.0000</td><td style=\"background-color: rgb(255.0000, 255,255.0000);\">0.0000</td><td style=\"background-color: rgb(255.0000, 255,255.0000);\">0.0000</td><td style=\"background-color: rgb(255.0000, 255,255.0000);\">0.0000</td></tr></table>"
      ],
      "text/plain": [
       "<IPython.core.display.HTML object>"
      ]
     },
     "metadata": {},
     "output_type": "display_data"
    },
    {
     "name": "stdout",
     "output_type": "stream",
     "text": [
      "true Bringing pred_h Bringing pred_fnh Bringing\n"
     ]
    },
    {
     "data": {
      "text/html": [
       "<table><tr><td><b>words</b></td><td style=\"background-color: rgb(255,255,255);\">get</td><td style=\"background-color: rgb(255,255,255);\">me</td><td style=\"background-color: rgb(255,255,255);\">my</td><td style=\"background-color: rgb(255,255,255);\">jacket</td></tr><tr><td><b>lu</b></td><td style=\"background-color: rgb(0.0000, 255,0.0000);\">1.0000</td><td style=\"background-color: rgb(255.0000, 255,255.0000);\">0.0000</td><td style=\"background-color: rgb(255.0000, 255,255.0000);\">0.0000</td><td style=\"background-color: rgb(255.0000, 255,255.0000);\">0.0000</td></tr><tr><td><b>h->h</b></td><td style=\"background-color: rgb(254.9992, 255,254.9992);\">0.0000</td><td style=\"background-color: rgb(254.9792, 255,254.9792);\">0.0001</td><td style=\"background-color: rgb(251.2172, 255,251.2172);\">0.0148</td><td style=\"background-color: rgb(3.8065, 255,3.8065);\">0.9851</td></tr><tr><td><b>fn+h->h</b></td><td style=\"background-color: rgb(26.3734, 255,26.3734);\">0.8966</td><td style=\"background-color: rgb(228.6266, 255,228.6266);\">0.1034</td><td style=\"background-color: rgb(255.0000, 255,255.0000);\">0.0000</td><td style=\"background-color: rgb(255.0000, 255,255.0000);\">0.0000</td></tr></table>"
      ],
      "text/plain": [
       "<IPython.core.display.HTML object>"
      ]
     },
     "metadata": {},
     "output_type": "display_data"
    },
    {
     "name": "stdout",
     "output_type": "stream",
     "text": [
      "true Bringing pred_h Bringing pred_fnh Bringing\n"
     ]
    },
    {
     "data": {
      "text/html": [
       "<table><tr><td><b>words</b></td><td style=\"background-color: rgb(255,255,255);\">get</td><td style=\"background-color: rgb(255,255,255);\">me</td><td style=\"background-color: rgb(255,255,255);\">my</td><td style=\"background-color: rgb(255,255,255);\">towel</td></tr><tr><td><b>lu</b></td><td style=\"background-color: rgb(0.0000, 255,0.0000);\">1.0000</td><td style=\"background-color: rgb(255.0000, 255,255.0000);\">0.0000</td><td style=\"background-color: rgb(255.0000, 255,255.0000);\">0.0000</td><td style=\"background-color: rgb(255.0000, 255,255.0000);\">0.0000</td></tr><tr><td><b>h->h</b></td><td style=\"background-color: rgb(254.9990, 255,254.9990);\">0.0000</td><td style=\"background-color: rgb(254.9806, 255,254.9806);\">0.0001</td><td style=\"background-color: rgb(250.7824, 255,250.7824);\">0.0165</td><td style=\"background-color: rgb(4.2397, 255,4.2397);\">0.9834</td></tr><tr><td><b>fn+h->h</b></td><td style=\"background-color: rgb(86.7492, 255,86.7492);\">0.6598</td><td style=\"background-color: rgb(168.2509, 255,168.2509);\">0.3402</td><td style=\"background-color: rgb(255.0000, 255,255.0000);\">0.0000</td><td style=\"background-color: rgb(255.0000, 255,255.0000);\">0.0000</td></tr></table>"
      ],
      "text/plain": [
       "<IPython.core.display.HTML object>"
      ]
     },
     "metadata": {},
     "output_type": "display_data"
    },
    {
     "name": "stdout",
     "output_type": "stream",
     "text": [
      "true Taking pred_h Taking pred_fnh Taking\n"
     ]
    },
    {
     "data": {
      "text/html": [
       "<table><tr><td><b>words</b></td><td style=\"background-color: rgb(255,255,255);\">get</td><td style=\"background-color: rgb(255,255,255);\">my</td><td style=\"background-color: rgb(255,255,255);\">computer</td><td style=\"background-color: rgb(255,255,255);\">from</td><td style=\"background-color: rgb(255,255,255);\">the</td><td style=\"background-color: rgb(255,255,255);\">seat</td></tr><tr><td><b>lu</b></td><td style=\"background-color: rgb(0.0000, 255,0.0000);\">1.0000</td><td style=\"background-color: rgb(255.0000, 255,255.0000);\">0.0000</td><td style=\"background-color: rgb(255.0000, 255,255.0000);\">0.0000</td><td style=\"background-color: rgb(255.0000, 255,255.0000);\">0.0000</td><td style=\"background-color: rgb(255.0000, 255,255.0000);\">0.0000</td><td style=\"background-color: rgb(255.0000, 255,255.0000);\">0.0000</td></tr><tr><td><b>h->h</b></td><td style=\"background-color: rgb(254.9812, 255,254.9812);\">0.0001</td><td style=\"background-color: rgb(251.8016, 255,251.8016);\">0.0125</td><td style=\"background-color: rgb(254.5269, 255,254.5269);\">0.0019</td><td style=\"background-color: rgb(252.8958, 255,252.8958);\">0.0083</td><td style=\"background-color: rgb(6.2176, 255,6.2176);\">0.9756</td><td style=\"background-color: rgb(254.5855, 255,254.5855);\">0.0016</td></tr><tr><td><b>fn+h->h</b></td><td style=\"background-color: rgb(0.0001, 255,0.0001);\">1.0000</td><td style=\"background-color: rgb(255.0000, 255,255.0000);\">0.0000</td><td style=\"background-color: rgb(255.0000, 255,255.0000);\">0.0000</td><td style=\"background-color: rgb(255.0000, 255,255.0000);\">0.0000</td><td style=\"background-color: rgb(255.0000, 255,255.0000);\">0.0000</td><td style=\"background-color: rgb(255.0000, 255,255.0000);\">0.0000</td></tr></table>"
      ],
      "text/plain": [
       "<IPython.core.display.HTML object>"
      ]
     },
     "metadata": {},
     "output_type": "display_data"
    },
    {
     "name": "stdout",
     "output_type": "stream",
     "text": [
      "true Motion pred_h Motion pred_fnh Motion\n"
     ]
    },
    {
     "data": {
      "text/html": [
       "<table><tr><td><b>words</b></td><td style=\"background-color: rgb(255,255,255);\">go</td><td style=\"background-color: rgb(255,255,255);\">straight</td><td style=\"background-color: rgb(255,255,255);\">to</td><td style=\"background-color: rgb(255,255,255);\">the</td><td style=\"background-color: rgb(255,255,255);\">living</td><td style=\"background-color: rgb(255,255,255);\">room</td></tr><tr><td><b>lu</b></td><td style=\"background-color: rgb(0.0000, 255,0.0000);\">1.0000</td><td style=\"background-color: rgb(255.0000, 255,255.0000);\">0.0000</td><td style=\"background-color: rgb(255.0000, 255,255.0000);\">0.0000</td><td style=\"background-color: rgb(255.0000, 255,255.0000);\">0.0000</td><td style=\"background-color: rgb(255.0000, 255,255.0000);\">0.0000</td><td style=\"background-color: rgb(255.0000, 255,255.0000);\">0.0000</td></tr><tr><td><b>h->h</b></td><td style=\"background-color: rgb(255.0000, 255,255.0000);\">0.0000</td><td style=\"background-color: rgb(254.6983, 255,254.6983);\">0.0012</td><td style=\"background-color: rgb(245.7507, 255,245.7507);\">0.0363</td><td style=\"background-color: rgb(157.7118, 255,157.7118);\">0.3815</td><td style=\"background-color: rgb(123.1363, 255,123.1363);\">0.5171</td><td style=\"background-color: rgb(238.7034, 255,238.7034);\">0.0639</td></tr><tr><td><b>fn+h->h</b></td><td style=\"background-color: rgb(1.1124, 255,1.1124);\">0.9956</td><td style=\"background-color: rgb(253.8897, 255,253.8897);\">0.0044</td><td style=\"background-color: rgb(254.9979, 255,254.9979);\">0.0000</td><td style=\"background-color: rgb(255.0000, 255,255.0000);\">0.0000</td><td style=\"background-color: rgb(255.0000, 255,255.0000);\">0.0000</td><td style=\"background-color: rgb(255.0000, 255,255.0000);\">0.0000</td></tr></table>"
      ],
      "text/plain": [
       "<IPython.core.display.HTML object>"
      ]
     },
     "metadata": {},
     "output_type": "display_data"
    },
    {
     "name": "stdout",
     "output_type": "stream",
     "text": [
      "true Bringing pred_h Bringing pred_fnh Bringing\n"
     ]
    },
    {
     "data": {
      "text/html": [
       "<table><tr><td><b>words</b></td><td style=\"background-color: rgb(255,255,255);\">bring</td><td style=\"background-color: rgb(255,255,255);\">me</td><td style=\"background-color: rgb(255,255,255);\">my</td><td style=\"background-color: rgb(255,255,255);\">laptop</td></tr><tr><td><b>lu</b></td><td style=\"background-color: rgb(0.0000, 255,0.0000);\">1.0000</td><td style=\"background-color: rgb(255.0000, 255,255.0000);\">0.0000</td><td style=\"background-color: rgb(255.0000, 255,255.0000);\">0.0000</td><td style=\"background-color: rgb(255.0000, 255,255.0000);\">0.0000</td></tr><tr><td><b>h->h</b></td><td style=\"background-color: rgb(254.9998, 255,254.9998);\">0.0000</td><td style=\"background-color: rgb(254.9648, 255,254.9648);\">0.0001</td><td style=\"background-color: rgb(244.7773, 255,244.7773);\">0.0401</td><td style=\"background-color: rgb(10.2593, 255,10.2593);\">0.9598</td></tr><tr><td><b>fn+h->h</b></td><td style=\"background-color: rgb(89.9343, 255,89.9343);\">0.6473</td><td style=\"background-color: rgb(165.0657, 255,165.0657);\">0.3527</td><td style=\"background-color: rgb(255.0000, 255,255.0000);\">0.0000</td><td style=\"background-color: rgb(255.0000, 255,255.0000);\">0.0000</td></tr></table>"
      ],
      "text/plain": [
       "<IPython.core.display.HTML object>"
      ]
     },
     "metadata": {},
     "output_type": "display_data"
    },
    {
     "name": "stdout",
     "output_type": "stream",
     "text": [
      "true Motion pred_h Motion pred_fnh Motion\n"
     ]
    },
    {
     "data": {
      "text/html": [
       "<table><tr><td><b>words</b></td><td style=\"background-color: rgb(255,255,255);\">go</td><td style=\"background-color: rgb(255,255,255);\">to</td><td style=\"background-color: rgb(255,255,255);\">the</td><td style=\"background-color: rgb(255,255,255);\">couch</td></tr><tr><td><b>lu</b></td><td style=\"background-color: rgb(0.0000, 255,0.0000);\">1.0000</td><td style=\"background-color: rgb(255.0000, 255,255.0000);\">0.0000</td><td style=\"background-color: rgb(255.0000, 255,255.0000);\">0.0000</td><td style=\"background-color: rgb(255.0000, 255,255.0000);\">0.0000</td></tr><tr><td><b>h->h</b></td><td style=\"background-color: rgb(254.9999, 255,254.9999);\">0.0000</td><td style=\"background-color: rgb(252.8754, 255,252.8754);\">0.0083</td><td style=\"background-color: rgb(117.5060, 255,117.5060);\">0.5392</td><td style=\"background-color: rgb(139.6197, 255,139.6197);\">0.4525</td></tr><tr><td><b>fn+h->h</b></td><td style=\"background-color: rgb(0.0081, 255,0.0081);\">1.0000</td><td style=\"background-color: rgb(254.9919, 255,254.9919);\">0.0000</td><td style=\"background-color: rgb(255.0000, 255,255.0000);\">0.0000</td><td style=\"background-color: rgb(255.0000, 255,255.0000);\">0.0000</td></tr></table>"
      ],
      "text/plain": [
       "<IPython.core.display.HTML object>"
      ]
     },
     "metadata": {},
     "output_type": "display_data"
    },
    {
     "name": "stdout",
     "output_type": "stream",
     "text": [
      "true Motion pred_h Motion pred_fnh Motion\n"
     ]
    },
    {
     "data": {
      "text/html": [
       "<table><tr><td><b>words</b></td><td style=\"background-color: rgb(255,255,255);\">go</td><td style=\"background-color: rgb(255,255,255);\">to</td><td style=\"background-color: rgb(255,255,255);\">the</td><td style=\"background-color: rgb(255,255,255);\">laundry</td><td style=\"background-color: rgb(255,255,255);\">room</td></tr><tr><td><b>lu</b></td><td style=\"background-color: rgb(0.0000, 255,0.0000);\">1.0000</td><td style=\"background-color: rgb(255.0000, 255,255.0000);\">0.0000</td><td style=\"background-color: rgb(255.0000, 255,255.0000);\">0.0000</td><td style=\"background-color: rgb(255.0000, 255,255.0000);\">0.0000</td><td style=\"background-color: rgb(255.0000, 255,255.0000);\">0.0000</td></tr><tr><td><b>h->h</b></td><td style=\"background-color: rgb(254.9999, 255,254.9999);\">0.0000</td><td style=\"background-color: rgb(254.1195, 255,254.1195);\">0.0035</td><td style=\"background-color: rgb(181.7040, 255,181.7040);\">0.2874</td><td style=\"background-color: rgb(96.5611, 255,96.5611);\">0.6213</td><td style=\"background-color: rgb(232.6165, 255,232.6165);\">0.0878</td></tr><tr><td><b>fn+h->h</b></td><td style=\"background-color: rgb(0.0333, 255,0.0333);\">0.9999</td><td style=\"background-color: rgb(254.9667, 255,254.9667);\">0.0001</td><td style=\"background-color: rgb(255.0000, 255,255.0000);\">0.0000</td><td style=\"background-color: rgb(255.0000, 255,255.0000);\">0.0000</td><td style=\"background-color: rgb(255.0000, 255,255.0000);\">0.0000</td></tr></table>"
      ],
      "text/plain": [
       "<IPython.core.display.HTML object>"
      ]
     },
     "metadata": {},
     "output_type": "display_data"
    },
    {
     "name": "stdout",
     "output_type": "stream",
     "text": [
      "true Motion pred_h Motion pred_fnh Motion\n"
     ]
    },
    {
     "data": {
      "text/html": [
       "<table><tr><td><b>words</b></td><td style=\"background-color: rgb(255,255,255);\">go</td><td style=\"background-color: rgb(255,255,255);\">to</td><td style=\"background-color: rgb(255,255,255);\">the</td><td style=\"background-color: rgb(255,255,255);\">telephone</td></tr><tr><td><b>lu</b></td><td style=\"background-color: rgb(0.0000, 255,0.0000);\">1.0000</td><td style=\"background-color: rgb(255.0000, 255,255.0000);\">0.0000</td><td style=\"background-color: rgb(255.0000, 255,255.0000);\">0.0000</td><td style=\"background-color: rgb(255.0000, 255,255.0000);\">0.0000</td></tr><tr><td><b>h->h</b></td><td style=\"background-color: rgb(254.9998, 255,254.9998);\">0.0000</td><td style=\"background-color: rgb(252.1355, 255,252.1355);\">0.0112</td><td style=\"background-color: rgb(105.1007, 255,105.1007);\">0.5878</td><td style=\"background-color: rgb(152.7657, 255,152.7657);\">0.4009</td></tr><tr><td><b>fn+h->h</b></td><td style=\"background-color: rgb(0.0007, 255,0.0007);\">1.0000</td><td style=\"background-color: rgb(254.9993, 255,254.9993);\">0.0000</td><td style=\"background-color: rgb(255.0000, 255,255.0000);\">0.0000</td><td style=\"background-color: rgb(255.0000, 255,255.0000);\">0.0000</td></tr></table>"
      ],
      "text/plain": [
       "<IPython.core.display.HTML object>"
      ]
     },
     "metadata": {},
     "output_type": "display_data"
    },
    {
     "name": "stdout",
     "output_type": "stream",
     "text": [
      "true Inspecting pred_h Inspecting pred_fnh Inspecting\n"
     ]
    },
    {
     "data": {
      "text/html": [
       "<table><tr><td><b>words</b></td><td style=\"background-color: rgb(255,255,255);\">check</td><td style=\"background-color: rgb(255,255,255);\">for</td><td style=\"background-color: rgb(255,255,255);\">any</td><td style=\"background-color: rgb(255,255,255);\">messages</td></tr><tr><td><b>lu</b></td><td style=\"background-color: rgb(0.0000, 255,0.0000);\">1.0000</td><td style=\"background-color: rgb(255.0000, 255,255.0000);\">0.0000</td><td style=\"background-color: rgb(255.0000, 255,255.0000);\">0.0000</td><td style=\"background-color: rgb(255.0000, 255,255.0000);\">0.0000</td></tr><tr><td><b>h->h</b></td><td style=\"background-color: rgb(254.8620, 255,254.8620);\">0.0005</td><td style=\"background-color: rgb(249.8551, 255,249.8551);\">0.0202</td><td style=\"background-color: rgb(5.4052, 255,5.4052);\">0.9788</td><td style=\"background-color: rgb(254.9050, 255,254.9050);\">0.0004</td></tr><tr><td><b>fn+h->h</b></td><td style=\"background-color: rgb(0.0000, 255,0.0000);\">1.0000</td><td style=\"background-color: rgb(255.0000, 255,255.0000);\">0.0000</td><td style=\"background-color: rgb(255.0000, 255,255.0000);\">0.0000</td><td style=\"background-color: rgb(255.0000, 255,255.0000);\">0.0000</td></tr></table>"
      ],
      "text/plain": [
       "<IPython.core.display.HTML object>"
      ]
     },
     "metadata": {},
     "output_type": "display_data"
    },
    {
     "name": "stdout",
     "output_type": "stream",
     "text": [
      "true Bringing pred_h Bringing pred_fnh Bringing\n"
     ]
    },
    {
     "data": {
      "text/html": [
       "<table><tr><td><b>words</b></td><td style=\"background-color: rgb(255,255,255);\">i</td><td style=\"background-color: rgb(255,255,255);\">need</td><td style=\"background-color: rgb(255,255,255);\">some</td><td style=\"background-color: rgb(255,255,255);\">toilet</td><td style=\"background-color: rgb(255,255,255);\">paper</td><td style=\"background-color: rgb(255,255,255);\">can</td><td style=\"background-color: rgb(255,255,255);\">you</td><td style=\"background-color: rgb(255,255,255);\">get</td><td style=\"background-color: rgb(255,255,255);\">me</td><td style=\"background-color: rgb(255,255,255);\">some</td></tr><tr><td><b>lu</b></td><td style=\"background-color: rgb(255.0000, 255,255.0000);\">0.0000</td><td style=\"background-color: rgb(255.0000, 255,255.0000);\">0.0000</td><td style=\"background-color: rgb(255.0000, 255,255.0000);\">0.0000</td><td style=\"background-color: rgb(255.0000, 255,255.0000);\">0.0000</td><td style=\"background-color: rgb(255.0000, 255,255.0000);\">0.0000</td><td style=\"background-color: rgb(255.0000, 255,255.0000);\">0.0000</td><td style=\"background-color: rgb(255.0000, 255,255.0000);\">0.0000</td><td style=\"background-color: rgb(0.0000, 255,0.0000);\">1.0000</td><td style=\"background-color: rgb(255.0000, 255,255.0000);\">0.0000</td><td style=\"background-color: rgb(255.0000, 255,255.0000);\">0.0000</td></tr><tr><td><b>h->h</b></td><td style=\"background-color: rgb(255.0000, 255,255.0000);\">0.0000</td><td style=\"background-color: rgb(255.0000, 255,255.0000);\">0.0000</td><td style=\"background-color: rgb(255.0000, 255,255.0000);\">0.0000</td><td style=\"background-color: rgb(254.9992, 255,254.9992);\">0.0000</td><td style=\"background-color: rgb(254.9999, 255,254.9999);\">0.0000</td><td style=\"background-color: rgb(254.9992, 255,254.9992);\">0.0000</td><td style=\"background-color: rgb(255.0000, 255,255.0000);\">0.0000</td><td style=\"background-color: rgb(254.9475, 255,254.9475);\">0.0002</td><td style=\"background-color: rgb(253.0127, 255,253.0127);\">0.0078</td><td style=\"background-color: rgb(2.0460, 255,2.0460);\">0.9920</td></tr><tr><td><b>fn+h->h</b></td><td style=\"background-color: rgb(255.0000, 255,255.0000);\">0.0000</td><td style=\"background-color: rgb(255.0000, 255,255.0000);\">0.0000</td><td style=\"background-color: rgb(255.0000, 255,255.0000);\">0.0000</td><td style=\"background-color: rgb(255.0000, 255,255.0000);\">0.0000</td><td style=\"background-color: rgb(255.0000, 255,255.0000);\">0.0000</td><td style=\"background-color: rgb(255.0000, 255,255.0000);\">0.0000</td><td style=\"background-color: rgb(255.0000, 255,255.0000);\">0.0000</td><td style=\"background-color: rgb(101.7822, 255,101.7822);\">0.6009</td><td style=\"background-color: rgb(153.2189, 255,153.2189);\">0.3991</td><td style=\"background-color: rgb(254.9989, 255,254.9989);\">0.0000</td></tr></table>"
      ],
      "text/plain": [
       "<IPython.core.display.HTML object>"
      ]
     },
     "metadata": {},
     "output_type": "display_data"
    },
    {
     "name": "stdout",
     "output_type": "stream",
     "text": [
      "true Bringing pred_h Bringing pred_fnh Bringing\n"
     ]
    },
    {
     "data": {
      "text/html": [
       "<table><tr><td><b>words</b></td><td style=\"background-color: rgb(255,255,255);\">i</td><td style=\"background-color: rgb(255,255,255);\">would</td><td style=\"background-color: rgb(255,255,255);\">like</td><td style=\"background-color: rgb(255,255,255);\">some</td><td style=\"background-color: rgb(255,255,255);\">cutlery</td><td style=\"background-color: rgb(255,255,255);\">can</td><td style=\"background-color: rgb(255,255,255);\">you</td><td style=\"background-color: rgb(255,255,255);\">get</td><td style=\"background-color: rgb(255,255,255);\">me</td><td style=\"background-color: rgb(255,255,255);\">some</td></tr><tr><td><b>lu</b></td><td style=\"background-color: rgb(255.0000, 255,255.0000);\">0.0000</td><td style=\"background-color: rgb(255.0000, 255,255.0000);\">0.0000</td><td style=\"background-color: rgb(255.0000, 255,255.0000);\">0.0000</td><td style=\"background-color: rgb(255.0000, 255,255.0000);\">0.0000</td><td style=\"background-color: rgb(255.0000, 255,255.0000);\">0.0000</td><td style=\"background-color: rgb(255.0000, 255,255.0000);\">0.0000</td><td style=\"background-color: rgb(255.0000, 255,255.0000);\">0.0000</td><td style=\"background-color: rgb(0.0000, 255,0.0000);\">1.0000</td><td style=\"background-color: rgb(255.0000, 255,255.0000);\">0.0000</td><td style=\"background-color: rgb(255.0000, 255,255.0000);\">0.0000</td></tr><tr><td><b>h->h</b></td><td style=\"background-color: rgb(255.0000, 255,255.0000);\">0.0000</td><td style=\"background-color: rgb(255.0000, 255,255.0000);\">0.0000</td><td style=\"background-color: rgb(255.0000, 255,255.0000);\">0.0000</td><td style=\"background-color: rgb(255.0000, 255,255.0000);\">0.0000</td><td style=\"background-color: rgb(255.0000, 255,255.0000);\">0.0000</td><td style=\"background-color: rgb(255.0000, 255,255.0000);\">0.0000</td><td style=\"background-color: rgb(255.0000, 255,255.0000);\">0.0000</td><td style=\"background-color: rgb(254.9808, 255,254.9808);\">0.0001</td><td style=\"background-color: rgb(253.9787, 255,253.9787);\">0.0040</td><td style=\"background-color: rgb(1.0461, 255,1.0461);\">0.9959</td></tr><tr><td><b>fn+h->h</b></td><td style=\"background-color: rgb(255.0000, 255,255.0000);\">0.0000</td><td style=\"background-color: rgb(255.0000, 255,255.0000);\">0.0000</td><td style=\"background-color: rgb(255.0000, 255,255.0000);\">0.0000</td><td style=\"background-color: rgb(255.0000, 255,255.0000);\">0.0000</td><td style=\"background-color: rgb(255.0000, 255,255.0000);\">0.0000</td><td style=\"background-color: rgb(255.0000, 255,255.0000);\">0.0000</td><td style=\"background-color: rgb(255.0000, 255,255.0000);\">0.0000</td><td style=\"background-color: rgb(92.1579, 255,92.1579);\">0.6386</td><td style=\"background-color: rgb(162.8421, 255,162.8421);\">0.3614</td><td style=\"background-color: rgb(255.0000, 255,255.0000);\">0.0000</td></tr></table>"
      ],
      "text/plain": [
       "<IPython.core.display.HTML object>"
      ]
     },
     "metadata": {},
     "output_type": "display_data"
    },
    {
     "name": "stdout",
     "output_type": "stream",
     "text": [
      "true Bringing pred_h Bringing pred_fnh Bringing\n"
     ]
    },
    {
     "data": {
      "text/html": [
       "<table><tr><td><b>words</b></td><td style=\"background-color: rgb(255,255,255);\">i</td><td style=\"background-color: rgb(255,255,255);\">would</td><td style=\"background-color: rgb(255,255,255);\">like</td><td style=\"background-color: rgb(255,255,255);\">some</td><td style=\"background-color: rgb(255,255,255);\">loo</td><td style=\"background-color: rgb(255,255,255);\">roll</td><td style=\"background-color: rgb(255,255,255);\">can</td><td style=\"background-color: rgb(255,255,255);\">you</td><td style=\"background-color: rgb(255,255,255);\">get</td><td style=\"background-color: rgb(255,255,255);\">me</td><td style=\"background-color: rgb(255,255,255);\">some</td><td style=\"background-color: rgb(255,255,255);\">loo</td><td style=\"background-color: rgb(255,255,255);\">roll</td></tr><tr><td><b>lu</b></td><td style=\"background-color: rgb(255.0000, 255,255.0000);\">0.0000</td><td style=\"background-color: rgb(255.0000, 255,255.0000);\">0.0000</td><td style=\"background-color: rgb(255.0000, 255,255.0000);\">0.0000</td><td style=\"background-color: rgb(255.0000, 255,255.0000);\">0.0000</td><td style=\"background-color: rgb(255.0000, 255,255.0000);\">0.0000</td><td style=\"background-color: rgb(255.0000, 255,255.0000);\">0.0000</td><td style=\"background-color: rgb(255.0000, 255,255.0000);\">0.0000</td><td style=\"background-color: rgb(255.0000, 255,255.0000);\">0.0000</td><td style=\"background-color: rgb(0.0000, 255,0.0000);\">1.0000</td><td style=\"background-color: rgb(255.0000, 255,255.0000);\">0.0000</td><td style=\"background-color: rgb(255.0000, 255,255.0000);\">0.0000</td><td style=\"background-color: rgb(255.0000, 255,255.0000);\">0.0000</td><td style=\"background-color: rgb(255.0000, 255,255.0000);\">0.0000</td></tr><tr><td><b>h->h</b></td><td style=\"background-color: rgb(255.0000, 255,255.0000);\">0.0000</td><td style=\"background-color: rgb(255.0000, 255,255.0000);\">0.0000</td><td style=\"background-color: rgb(255.0000, 255,255.0000);\">0.0000</td><td style=\"background-color: rgb(255.0000, 255,255.0000);\">0.0000</td><td style=\"background-color: rgb(255.0000, 255,255.0000);\">0.0000</td><td style=\"background-color: rgb(255.0000, 255,255.0000);\">0.0000</td><td style=\"background-color: rgb(255.0000, 255,255.0000);\">0.0000</td><td style=\"background-color: rgb(255.0000, 255,255.0000);\">0.0000</td><td style=\"background-color: rgb(254.9980, 255,254.9980);\">0.0000</td><td style=\"background-color: rgb(254.9595, 255,254.9595);\">0.0002</td><td style=\"background-color: rgb(254.5831, 255,254.5831);\">0.0016</td><td style=\"background-color: rgb(246.9006, 255,246.9006);\">0.0318</td><td style=\"background-color: rgb(8.5608, 255,8.5608);\">0.9664</td></tr><tr><td><b>fn+h->h</b></td><td style=\"background-color: rgb(255.0000, 255,255.0000);\">0.0000</td><td style=\"background-color: rgb(255.0000, 255,255.0000);\">0.0000</td><td style=\"background-color: rgb(255.0000, 255,255.0000);\">0.0000</td><td style=\"background-color: rgb(255.0000, 255,255.0000);\">0.0000</td><td style=\"background-color: rgb(255.0000, 255,255.0000);\">0.0000</td><td style=\"background-color: rgb(255.0000, 255,255.0000);\">0.0000</td><td style=\"background-color: rgb(255.0000, 255,255.0000);\">0.0000</td><td style=\"background-color: rgb(255.0000, 255,255.0000);\">0.0000</td><td style=\"background-color: rgb(40.2137, 255,40.2137);\">0.8423</td><td style=\"background-color: rgb(214.7863, 255,214.7863);\">0.1577</td><td style=\"background-color: rgb(255.0000, 255,255.0000);\">0.0000</td><td style=\"background-color: rgb(255.0000, 255,255.0000);\">0.0000</td><td style=\"background-color: rgb(255.0000, 255,255.0000);\">0.0000</td></tr></table>"
      ],
      "text/plain": [
       "<IPython.core.display.HTML object>"
      ]
     },
     "metadata": {},
     "output_type": "display_data"
    },
    {
     "name": "stdout",
     "output_type": "stream",
     "text": [
      "true Bringing pred_h Bringing pred_fnh Bringing\n"
     ]
    },
    {
     "data": {
      "text/html": [
       "<table><tr><td><b>words</b></td><td style=\"background-color: rgb(255,255,255);\">i</td><td style=\"background-color: rgb(255,255,255);\">would</td><td style=\"background-color: rgb(255,255,255);\">like</td><td style=\"background-color: rgb(255,255,255);\">to</td><td style=\"background-color: rgb(255,255,255);\">read</td><td style=\"background-color: rgb(255,255,255);\">an</td><td style=\"background-color: rgb(255,255,255);\">architecture</td><td style=\"background-color: rgb(255,255,255);\">magazine</td><td style=\"background-color: rgb(255,255,255);\">can</td><td style=\"background-color: rgb(255,255,255);\">you</td><td style=\"background-color: rgb(255,255,255);\">bring</td><td style=\"background-color: rgb(255,255,255);\">me</td><td style=\"background-color: rgb(255,255,255);\">one</td></tr><tr><td><b>lu</b></td><td style=\"background-color: rgb(255.0000, 255,255.0000);\">0.0000</td><td style=\"background-color: rgb(255.0000, 255,255.0000);\">0.0000</td><td style=\"background-color: rgb(255.0000, 255,255.0000);\">0.0000</td><td style=\"background-color: rgb(255.0000, 255,255.0000);\">0.0000</td><td style=\"background-color: rgb(255.0000, 255,255.0000);\">0.0000</td><td style=\"background-color: rgb(255.0000, 255,255.0000);\">0.0000</td><td style=\"background-color: rgb(255.0000, 255,255.0000);\">0.0000</td><td style=\"background-color: rgb(255.0000, 255,255.0000);\">0.0000</td><td style=\"background-color: rgb(255.0000, 255,255.0000);\">0.0000</td><td style=\"background-color: rgb(255.0000, 255,255.0000);\">0.0000</td><td style=\"background-color: rgb(0.0000, 255,0.0000);\">1.0000</td><td style=\"background-color: rgb(255.0000, 255,255.0000);\">0.0000</td><td style=\"background-color: rgb(255.0000, 255,255.0000);\">0.0000</td></tr><tr><td><b>h->h</b></td><td style=\"background-color: rgb(255.0000, 255,255.0000);\">0.0000</td><td style=\"background-color: rgb(255.0000, 255,255.0000);\">0.0000</td><td style=\"background-color: rgb(255.0000, 255,255.0000);\">0.0000</td><td style=\"background-color: rgb(255.0000, 255,255.0000);\">0.0000</td><td style=\"background-color: rgb(255.0000, 255,255.0000);\">0.0000</td><td style=\"background-color: rgb(255.0000, 255,255.0000);\">0.0000</td><td style=\"background-color: rgb(255.0000, 255,255.0000);\">0.0000</td><td style=\"background-color: rgb(255.0000, 255,255.0000);\">0.0000</td><td style=\"background-color: rgb(255.0000, 255,255.0000);\">0.0000</td><td style=\"background-color: rgb(255.0000, 255,255.0000);\">0.0000</td><td style=\"background-color: rgb(254.9548, 255,254.9548);\">0.0002</td><td style=\"background-color: rgb(251.0448, 255,251.0448);\">0.0155</td><td style=\"background-color: rgb(4.0213, 255,4.0213);\">0.9842</td></tr><tr><td><b>fn+h->h</b></td><td style=\"background-color: rgb(255.0000, 255,255.0000);\">0.0000</td><td style=\"background-color: rgb(255.0000, 255,255.0000);\">0.0000</td><td style=\"background-color: rgb(255.0000, 255,255.0000);\">0.0000</td><td style=\"background-color: rgb(255.0000, 255,255.0000);\">0.0000</td><td style=\"background-color: rgb(255.0000, 255,255.0000);\">0.0000</td><td style=\"background-color: rgb(255.0000, 255,255.0000);\">0.0000</td><td style=\"background-color: rgb(255.0000, 255,255.0000);\">0.0000</td><td style=\"background-color: rgb(255.0000, 255,255.0000);\">0.0000</td><td style=\"background-color: rgb(255.0000, 255,255.0000);\">0.0000</td><td style=\"background-color: rgb(255.0000, 255,255.0000);\">0.0000</td><td style=\"background-color: rgb(7.8258, 255,7.8258);\">0.9693</td><td style=\"background-color: rgb(247.1742, 255,247.1742);\">0.0307</td><td style=\"background-color: rgb(255.0000, 255,255.0000);\">0.0000</td></tr></table>"
      ],
      "text/plain": [
       "<IPython.core.display.HTML object>"
      ]
     },
     "metadata": {},
     "output_type": "display_data"
    },
    {
     "name": "stdout",
     "output_type": "stream",
     "text": [
      "true Motion pred_h Motion pred_fnh Motion\n"
     ]
    },
    {
     "data": {
      "text/html": [
       "<table><tr><td><b>words</b></td><td style=\"background-color: rgb(255,255,255);\">i</td><td style=\"background-color: rgb(255,255,255);\">'m</td><td style=\"background-color: rgb(255,255,255);\">hungry</td><td style=\"background-color: rgb(255,255,255);\">go</td><td style=\"background-color: rgb(255,255,255);\">to</td><td style=\"background-color: rgb(255,255,255);\">the</td><td style=\"background-color: rgb(255,255,255);\">kitchen</td></tr><tr><td><b>lu</b></td><td style=\"background-color: rgb(255.0000, 255,255.0000);\">0.0000</td><td style=\"background-color: rgb(255.0000, 255,255.0000);\">0.0000</td><td style=\"background-color: rgb(255.0000, 255,255.0000);\">0.0000</td><td style=\"background-color: rgb(0.0000, 255,0.0000);\">1.0000</td><td style=\"background-color: rgb(255.0000, 255,255.0000);\">0.0000</td><td style=\"background-color: rgb(255.0000, 255,255.0000);\">0.0000</td><td style=\"background-color: rgb(255.0000, 255,255.0000);\">0.0000</td></tr><tr><td><b>h->h</b></td><td style=\"background-color: rgb(255.0000, 255,255.0000);\">0.0000</td><td style=\"background-color: rgb(255.0000, 255,255.0000);\">0.0000</td><td style=\"background-color: rgb(255.0000, 255,255.0000);\">0.0000</td><td style=\"background-color: rgb(255.0000, 255,255.0000);\">0.0000</td><td style=\"background-color: rgb(253.2868, 255,253.2868);\">0.0067</td><td style=\"background-color: rgb(25.5376, 255,25.5376);\">0.8999</td><td style=\"background-color: rgb(231.1767, 255,231.1767);\">0.0934</td></tr><tr><td><b>fn+h->h</b></td><td style=\"background-color: rgb(255.0000, 255,255.0000);\">0.0000</td><td style=\"background-color: rgb(255.0000, 255,255.0000);\">0.0000</td><td style=\"background-color: rgb(255.0000, 255,255.0000);\">0.0000</td><td style=\"background-color: rgb(0.6893, 255,0.6893);\">0.9973</td><td style=\"background-color: rgb(254.3107, 255,254.3107);\">0.0027</td><td style=\"background-color: rgb(255.0000, 255,255.0000);\">0.0000</td><td style=\"background-color: rgb(255.0000, 255,255.0000);\">0.0000</td></tr></table>"
      ],
      "text/plain": [
       "<IPython.core.display.HTML object>"
      ]
     },
     "metadata": {},
     "output_type": "display_data"
    },
    {
     "name": "stdout",
     "output_type": "stream",
     "text": [
      "true Taking pred_h Taking pred_fnh Taking\n"
     ]
    },
    {
     "data": {
      "text/html": [
       "<table><tr><td><b>words</b></td><td style=\"background-color: rgb(255,255,255);\">let</td><td style=\"background-color: rgb(255,255,255);\">'s</td><td style=\"background-color: rgb(255,255,255);\">go</td><td style=\"background-color: rgb(255,255,255);\">get</td><td style=\"background-color: rgb(255,255,255);\">my</td><td style=\"background-color: rgb(255,255,255);\">book</td><td style=\"background-color: rgb(255,255,255);\">in</td><td style=\"background-color: rgb(255,255,255);\">the</td><td style=\"background-color: rgb(255,255,255);\">living</td><td style=\"background-color: rgb(255,255,255);\">room</td></tr><tr><td><b>lu</b></td><td style=\"background-color: rgb(255.0000, 255,255.0000);\">0.0000</td><td style=\"background-color: rgb(255.0000, 255,255.0000);\">0.0000</td><td style=\"background-color: rgb(255.0000, 255,255.0000);\">0.0000</td><td style=\"background-color: rgb(0.0000, 255,0.0000);\">1.0000</td><td style=\"background-color: rgb(255.0000, 255,255.0000);\">0.0000</td><td style=\"background-color: rgb(255.0000, 255,255.0000);\">0.0000</td><td style=\"background-color: rgb(255.0000, 255,255.0000);\">0.0000</td><td style=\"background-color: rgb(255.0000, 255,255.0000);\">0.0000</td><td style=\"background-color: rgb(255.0000, 255,255.0000);\">0.0000</td><td style=\"background-color: rgb(255.0000, 255,255.0000);\">0.0000</td></tr><tr><td><b>h->h</b></td><td style=\"background-color: rgb(255.0000, 255,255.0000);\">0.0000</td><td style=\"background-color: rgb(255.0000, 255,255.0000);\">0.0000</td><td style=\"background-color: rgb(255.0000, 255,255.0000);\">0.0000</td><td style=\"background-color: rgb(254.8270, 255,254.8270);\">0.0007</td><td style=\"background-color: rgb(205.9240, 255,205.9240);\">0.1925</td><td style=\"background-color: rgb(254.7187, 255,254.7187);\">0.0011</td><td style=\"background-color: rgb(252.8078, 255,252.8078);\">0.0086</td><td style=\"background-color: rgb(133.1428, 255,133.1428);\">0.4779</td><td style=\"background-color: rgb(174.8306, 255,174.8306);\">0.3144</td><td style=\"background-color: rgb(253.7841, 255,253.7841);\">0.0048</td></tr><tr><td><b>fn+h->h</b></td><td style=\"background-color: rgb(255.0000, 255,255.0000);\">0.0000</td><td style=\"background-color: rgb(255.0000, 255,255.0000);\">0.0000</td><td style=\"background-color: rgb(254.9999, 255,254.9999);\">0.0000</td><td style=\"background-color: rgb(0.0001, 255,0.0001);\">1.0000</td><td style=\"background-color: rgb(255.0000, 255,255.0000);\">0.0000</td><td style=\"background-color: rgb(255.0000, 255,255.0000);\">0.0000</td><td style=\"background-color: rgb(255.0000, 255,255.0000);\">0.0000</td><td style=\"background-color: rgb(255.0000, 255,255.0000);\">0.0000</td><td style=\"background-color: rgb(255.0000, 255,255.0000);\">0.0000</td><td style=\"background-color: rgb(255.0000, 255,255.0000);\">0.0000</td></tr></table>"
      ],
      "text/plain": [
       "<IPython.core.display.HTML object>"
      ]
     },
     "metadata": {},
     "output_type": "display_data"
    },
    {
     "name": "stdout",
     "output_type": "stream",
     "text": [
      "true Motion pred_h Motion pred_fnh Motion\n"
     ]
    },
    {
     "data": {
      "text/html": [
       "<table><tr><td><b>words</b></td><td style=\"background-color: rgb(255,255,255);\">let</td><td style=\"background-color: rgb(255,255,255);\">'s</td><td style=\"background-color: rgb(255,255,255);\">go</td><td style=\"background-color: rgb(255,255,255);\">to</td><td style=\"background-color: rgb(255,255,255);\">the</td><td style=\"background-color: rgb(255,255,255);\">guest</td><td style=\"background-color: rgb(255,255,255);\">bedroom</td></tr><tr><td><b>lu</b></td><td style=\"background-color: rgb(255.0000, 255,255.0000);\">0.0000</td><td style=\"background-color: rgb(255.0000, 255,255.0000);\">0.0000</td><td style=\"background-color: rgb(0.0000, 255,0.0000);\">1.0000</td><td style=\"background-color: rgb(255.0000, 255,255.0000);\">0.0000</td><td style=\"background-color: rgb(255.0000, 255,255.0000);\">0.0000</td><td style=\"background-color: rgb(255.0000, 255,255.0000);\">0.0000</td><td style=\"background-color: rgb(255.0000, 255,255.0000);\">0.0000</td></tr><tr><td><b>h->h</b></td><td style=\"background-color: rgb(255.0000, 255,255.0000);\">0.0000</td><td style=\"background-color: rgb(255.0000, 255,255.0000);\">0.0000</td><td style=\"background-color: rgb(254.9999, 255,254.9999);\">0.0000</td><td style=\"background-color: rgb(254.5297, 255,254.5297);\">0.0018</td><td style=\"background-color: rgb(199.5721, 255,199.5721);\">0.2174</td><td style=\"background-color: rgb(71.7531, 255,71.7531);\">0.7186</td><td style=\"background-color: rgb(239.1467, 255,239.1467);\">0.0622</td></tr><tr><td><b>fn+h->h</b></td><td style=\"background-color: rgb(255.0000, 255,255.0000);\">0.0000</td><td style=\"background-color: rgb(255.0000, 255,255.0000);\">0.0000</td><td style=\"background-color: rgb(0.0009, 255,0.0009);\">1.0000</td><td style=\"background-color: rgb(254.9991, 255,254.9991);\">0.0000</td><td style=\"background-color: rgb(255.0000, 255,255.0000);\">0.0000</td><td style=\"background-color: rgb(255.0000, 255,255.0000);\">0.0000</td><td style=\"background-color: rgb(255.0000, 255,255.0000);\">0.0000</td></tr></table>"
      ],
      "text/plain": [
       "<IPython.core.display.HTML object>"
      ]
     },
     "metadata": {},
     "output_type": "display_data"
    },
    {
     "name": "stdout",
     "output_type": "stream",
     "text": [
      "true Motion pred_h Motion pred_fnh Motion\n"
     ]
    },
    {
     "data": {
      "text/html": [
       "<table><tr><td><b>words</b></td><td style=\"background-color: rgb(255,255,255);\">let</td><td style=\"background-color: rgb(255,255,255);\">'s</td><td style=\"background-color: rgb(255,255,255);\">go</td><td style=\"background-color: rgb(255,255,255);\">to</td><td style=\"background-color: rgb(255,255,255);\">the</td><td style=\"background-color: rgb(255,255,255);\">laundry</td><td style=\"background-color: rgb(255,255,255);\">room</td></tr><tr><td><b>lu</b></td><td style=\"background-color: rgb(255.0000, 255,255.0000);\">0.0000</td><td style=\"background-color: rgb(255.0000, 255,255.0000);\">0.0000</td><td style=\"background-color: rgb(0.0000, 255,0.0000);\">1.0000</td><td style=\"background-color: rgb(255.0000, 255,255.0000);\">0.0000</td><td style=\"background-color: rgb(255.0000, 255,255.0000);\">0.0000</td><td style=\"background-color: rgb(255.0000, 255,255.0000);\">0.0000</td><td style=\"background-color: rgb(255.0000, 255,255.0000);\">0.0000</td></tr><tr><td><b>h->h</b></td><td style=\"background-color: rgb(255.0000, 255,255.0000);\">0.0000</td><td style=\"background-color: rgb(255.0000, 255,255.0000);\">0.0000</td><td style=\"background-color: rgb(254.9999, 255,254.9999);\">0.0000</td><td style=\"background-color: rgb(254.5162, 255,254.5162);\">0.0019</td><td style=\"background-color: rgb(192.6464, 255,192.6464);\">0.2445</td><td style=\"background-color: rgb(72.9643, 255,72.9643);\">0.7139</td><td style=\"background-color: rgb(244.8744, 255,244.8744);\">0.0397</td></tr><tr><td><b>fn+h->h</b></td><td style=\"background-color: rgb(255.0000, 255,255.0000);\">0.0000</td><td style=\"background-color: rgb(255.0000, 255,255.0000);\">0.0000</td><td style=\"background-color: rgb(0.0015, 255,0.0015);\">1.0000</td><td style=\"background-color: rgb(254.9985, 255,254.9985);\">0.0000</td><td style=\"background-color: rgb(255.0000, 255,255.0000);\">0.0000</td><td style=\"background-color: rgb(255.0000, 255,255.0000);\">0.0000</td><td style=\"background-color: rgb(255.0000, 255,255.0000);\">0.0000</td></tr></table>"
      ],
      "text/plain": [
       "<IPython.core.display.HTML object>"
      ]
     },
     "metadata": {},
     "output_type": "display_data"
    },
    {
     "name": "stdout",
     "output_type": "stream",
     "text": [
      "true Searching pred_h Searching pred_fnh Searching\n"
     ]
    },
    {
     "data": {
      "text/html": [
       "<table><tr><td><b>words</b></td><td style=\"background-color: rgb(255,255,255);\">look</td><td style=\"background-color: rgb(255,255,255);\">for</td><td style=\"background-color: rgb(255,255,255);\">the</td><td style=\"background-color: rgb(255,255,255);\">towel</td></tr><tr><td><b>lu</b></td><td style=\"background-color: rgb(0.0000, 255,0.0000);\">1.0000</td><td style=\"background-color: rgb(255.0000, 255,255.0000);\">0.0000</td><td style=\"background-color: rgb(255.0000, 255,255.0000);\">0.0000</td><td style=\"background-color: rgb(255.0000, 255,255.0000);\">0.0000</td></tr><tr><td><b>h->h</b></td><td style=\"background-color: rgb(254.9935, 255,254.9935);\">0.0000</td><td style=\"background-color: rgb(254.4442, 255,254.4442);\">0.0022</td><td style=\"background-color: rgb(223.3137, 255,223.3137);\">0.1243</td><td style=\"background-color: rgb(32.2515, 255,32.2515);\">0.8735</td></tr><tr><td><b>fn+h->h</b></td><td style=\"background-color: rgb(0.0000, 255,0.0000);\">1.0000</td><td style=\"background-color: rgb(255.0000, 255,255.0000);\">0.0000</td><td style=\"background-color: rgb(255.0000, 255,255.0000);\">0.0000</td><td style=\"background-color: rgb(255.0000, 255,255.0000);\">0.0000</td></tr></table>"
      ],
      "text/plain": [
       "<IPython.core.display.HTML object>"
      ]
     },
     "metadata": {},
     "output_type": "display_data"
    },
    {
     "name": "stdout",
     "output_type": "stream",
     "text": [
      "true Closure pred_h Closure pred_fnh Closure\n"
     ]
    },
    {
     "data": {
      "text/html": [
       "<table><tr><td><b>words</b></td><td style=\"background-color: rgb(255,255,255);\">open</td><td style=\"background-color: rgb(255,255,255);\">the</td><td style=\"background-color: rgb(255,255,255);\">press</td></tr><tr><td><b>lu</b></td><td style=\"background-color: rgb(0.0000, 255,0.0000);\">1.0000</td><td style=\"background-color: rgb(255.0000, 255,255.0000);\">0.0000</td><td style=\"background-color: rgb(255.0000, 255,255.0000);\">0.0000</td></tr><tr><td><b>h->h</b></td><td style=\"background-color: rgb(254.9373, 255,254.9373);\">0.0002</td><td style=\"background-color: rgb(0.9756, 255,0.9756);\">0.9962</td><td style=\"background-color: rgb(254.0982, 255,254.0982);\">0.0035</td></tr><tr><td><b>fn+h->h</b></td><td style=\"background-color: rgb(0.0000, 255,0.0000);\">1.0000</td><td style=\"background-color: rgb(255.0000, 255,255.0000);\">0.0000</td><td style=\"background-color: rgb(255.0000, 255,255.0000);\">0.0000</td></tr></table>"
      ],
      "text/plain": [
       "<IPython.core.display.HTML object>"
      ]
     },
     "metadata": {},
     "output_type": "display_data"
    },
    {
     "name": "stdout",
     "output_type": "stream",
     "text": [
      "true Closure pred_h Closure pred_fnh Closure\n"
     ]
    },
    {
     "data": {
      "text/html": [
       "<table><tr><td><b>words</b></td><td style=\"background-color: rgb(255,255,255);\">please</td><td style=\"background-color: rgb(255,255,255);\">close</td><td style=\"background-color: rgb(255,255,255);\">the</td><td style=\"background-color: rgb(255,255,255);\">blinds</td></tr><tr><td><b>lu</b></td><td style=\"background-color: rgb(255.0000, 255,255.0000);\">0.0000</td><td style=\"background-color: rgb(0.0000, 255,0.0000);\">1.0000</td><td style=\"background-color: rgb(255.0000, 255,255.0000);\">0.0000</td><td style=\"background-color: rgb(255.0000, 255,255.0000);\">0.0000</td></tr><tr><td><b>h->h</b></td><td style=\"background-color: rgb(255.0000, 255,255.0000);\">0.0000</td><td style=\"background-color: rgb(254.9258, 255,254.9258);\">0.0003</td><td style=\"background-color: rgb(2.2598, 255,2.2598);\">0.9911</td><td style=\"background-color: rgb(252.8209, 255,252.8209);\">0.0085</td></tr><tr><td><b>fn+h->h</b></td><td style=\"background-color: rgb(255.0000, 255,255.0000);\">0.0000</td><td style=\"background-color: rgb(0.0000, 255,0.0000);\">1.0000</td><td style=\"background-color: rgb(255.0000, 255,255.0000);\">0.0000</td><td style=\"background-color: rgb(255.0000, 255,255.0000);\">0.0000</td></tr></table>"
      ],
      "text/plain": [
       "<IPython.core.display.HTML object>"
      ]
     },
     "metadata": {},
     "output_type": "display_data"
    },
    {
     "name": "stdout",
     "output_type": "stream",
     "text": [
      "true Closure pred_h Closure pred_fnh Closure\n"
     ]
    },
    {
     "data": {
      "text/html": [
       "<table><tr><td><b>words</b></td><td style=\"background-color: rgb(255,255,255);\">please</td><td style=\"background-color: rgb(255,255,255);\">open</td><td style=\"background-color: rgb(255,255,255);\">the</td><td style=\"background-color: rgb(255,255,255);\">pantry</td></tr><tr><td><b>lu</b></td><td style=\"background-color: rgb(255.0000, 255,255.0000);\">0.0000</td><td style=\"background-color: rgb(0.0000, 255,0.0000);\">1.0000</td><td style=\"background-color: rgb(255.0000, 255,255.0000);\">0.0000</td><td style=\"background-color: rgb(255.0000, 255,255.0000);\">0.0000</td></tr><tr><td><b>h->h</b></td><td style=\"background-color: rgb(255.0000, 255,255.0000);\">0.0000</td><td style=\"background-color: rgb(254.9675, 255,254.9675);\">0.0001</td><td style=\"background-color: rgb(0.3796, 255,0.3796);\">0.9985</td><td style=\"background-color: rgb(254.6692, 255,254.6692);\">0.0013</td></tr><tr><td><b>fn+h->h</b></td><td style=\"background-color: rgb(255.0000, 255,255.0000);\">0.0000</td><td style=\"background-color: rgb(0.0000, 255,0.0000);\">1.0000</td><td style=\"background-color: rgb(255.0000, 255,255.0000);\">0.0000</td><td style=\"background-color: rgb(255.0000, 255,255.0000);\">0.0000</td></tr></table>"
      ],
      "text/plain": [
       "<IPython.core.display.HTML object>"
      ]
     },
     "metadata": {},
     "output_type": "display_data"
    },
    {
     "name": "stdout",
     "output_type": "stream",
     "text": [
      "true Closure pred_h Closure pred_fnh Closure\n"
     ]
    },
    {
     "data": {
      "text/html": [
       "<table><tr><td><b>words</b></td><td style=\"background-color: rgb(255,255,255);\">please</td><td style=\"background-color: rgb(255,255,255);\">open</td><td style=\"background-color: rgb(255,255,255);\">the</td><td style=\"background-color: rgb(255,255,255);\">storage</td><td style=\"background-color: rgb(255,255,255);\">cupboard</td></tr><tr><td><b>lu</b></td><td style=\"background-color: rgb(255.0000, 255,255.0000);\">0.0000</td><td style=\"background-color: rgb(0.0000, 255,0.0000);\">1.0000</td><td style=\"background-color: rgb(255.0000, 255,255.0000);\">0.0000</td><td style=\"background-color: rgb(255.0000, 255,255.0000);\">0.0000</td><td style=\"background-color: rgb(255.0000, 255,255.0000);\">0.0000</td></tr><tr><td><b>h->h</b></td><td style=\"background-color: rgb(255.0000, 255,255.0000);\">0.0000</td><td style=\"background-color: rgb(254.9924, 255,254.9924);\">0.0000</td><td style=\"background-color: rgb(243.6160, 255,243.6160);\">0.0446</td><td style=\"background-color: rgb(11.5452, 255,11.5452);\">0.9547</td><td style=\"background-color: rgb(254.8612, 255,254.8612);\">0.0005</td></tr><tr><td><b>fn+h->h</b></td><td style=\"background-color: rgb(255.0000, 255,255.0000);\">0.0000</td><td style=\"background-color: rgb(0.0000, 255,0.0000);\">1.0000</td><td style=\"background-color: rgb(255.0000, 255,255.0000);\">0.0000</td><td style=\"background-color: rgb(255.0000, 255,255.0000);\">0.0000</td><td style=\"background-color: rgb(255.0000, 255,255.0000);\">0.0000</td></tr></table>"
      ],
      "text/plain": [
       "<IPython.core.display.HTML object>"
      ]
     },
     "metadata": {},
     "output_type": "display_data"
    },
    {
     "name": "stdout",
     "output_type": "stream",
     "text": [
      "true Taking pred_h Taking pred_fnh Taking\n"
     ]
    },
    {
     "data": {
      "text/html": [
       "<table><tr><td><b>words</b></td><td style=\"background-color: rgb(255,255,255);\">please</td><td style=\"background-color: rgb(255,255,255);\">pick</td><td style=\"background-color: rgb(255,255,255);\">up</td><td style=\"background-color: rgb(255,255,255);\">the</td><td style=\"background-color: rgb(255,255,255);\">phone</td></tr><tr><td><b>lu</b></td><td style=\"background-color: rgb(255.0000, 255,255.0000);\">0.0000</td><td style=\"background-color: rgb(0.0000, 255,0.0000);\">1.0000</td><td style=\"background-color: rgb(0.0000, 255,0.0000);\">1.0000</td><td style=\"background-color: rgb(255.0000, 255,255.0000);\">0.0000</td><td style=\"background-color: rgb(255.0000, 255,255.0000);\">0.0000</td></tr><tr><td><b>h->h</b></td><td style=\"background-color: rgb(255.0000, 255,255.0000);\">0.0000</td><td style=\"background-color: rgb(255.0000, 255,255.0000);\">0.0000</td><td style=\"background-color: rgb(254.6868, 255,254.6868);\">0.0012</td><td style=\"background-color: rgb(1.8525, 255,1.8525);\">0.9927</td><td style=\"background-color: rgb(253.4685, 255,253.4685);\">0.0060</td></tr><tr><td><b>fn+h->h</b></td><td style=\"background-color: rgb(255.0000, 255,255.0000);\">0.0000</td><td style=\"background-color: rgb(0.0002, 255,0.0002);\">1.0000</td><td style=\"background-color: rgb(254.9999, 255,254.9999);\">0.0000</td><td style=\"background-color: rgb(255.0000, 255,255.0000);\">0.0000</td><td style=\"background-color: rgb(255.0000, 255,255.0000);\">0.0000</td></tr></table>"
      ],
      "text/plain": [
       "<IPython.core.display.HTML object>"
      ]
     },
     "metadata": {},
     "output_type": "display_data"
    },
    {
     "name": "stdout",
     "output_type": "stream",
     "text": [
      "true Bringing pred_h Bringing pred_fnh Bringing\n"
     ]
    },
    {
     "data": {
      "text/html": [
       "<table><tr><td><b>words</b></td><td style=\"background-color: rgb(255,255,255);\">robot</td><td style=\"background-color: rgb(255,255,255);\">can</td><td style=\"background-color: rgb(255,255,255);\">you</td><td style=\"background-color: rgb(255,255,255);\">bring</td><td style=\"background-color: rgb(255,255,255);\">me</td><td style=\"background-color: rgb(255,255,255);\">the</td><td style=\"background-color: rgb(255,255,255);\">phone</td></tr><tr><td><b>lu</b></td><td style=\"background-color: rgb(255.0000, 255,255.0000);\">0.0000</td><td style=\"background-color: rgb(255.0000, 255,255.0000);\">0.0000</td><td style=\"background-color: rgb(255.0000, 255,255.0000);\">0.0000</td><td style=\"background-color: rgb(0.0000, 255,0.0000);\">1.0000</td><td style=\"background-color: rgb(255.0000, 255,255.0000);\">0.0000</td><td style=\"background-color: rgb(255.0000, 255,255.0000);\">0.0000</td><td style=\"background-color: rgb(255.0000, 255,255.0000);\">0.0000</td></tr><tr><td><b>h->h</b></td><td style=\"background-color: rgb(255.0000, 255,255.0000);\">0.0000</td><td style=\"background-color: rgb(255.0000, 255,255.0000);\">0.0000</td><td style=\"background-color: rgb(255.0000, 255,255.0000);\">0.0000</td><td style=\"background-color: rgb(254.9997, 255,254.9997);\">0.0000</td><td style=\"background-color: rgb(254.9268, 255,254.9268);\">0.0003</td><td style=\"background-color: rgb(248.8668, 255,248.8668);\">0.0241</td><td style=\"background-color: rgb(6.2107, 255,6.2107);\">0.9756</td></tr><tr><td><b>fn+h->h</b></td><td style=\"background-color: rgb(255.0000, 255,255.0000);\">0.0000</td><td style=\"background-color: rgb(255.0000, 255,255.0000);\">0.0000</td><td style=\"background-color: rgb(255.0000, 255,255.0000);\">0.0000</td><td style=\"background-color: rgb(81.1466, 255,81.1466);\">0.6818</td><td style=\"background-color: rgb(173.8534, 255,173.8534);\">0.3182</td><td style=\"background-color: rgb(255.0000, 255,255.0000);\">0.0000</td><td style=\"background-color: rgb(255.0000, 255,255.0000);\">0.0000</td></tr></table>"
      ],
      "text/plain": [
       "<IPython.core.display.HTML object>"
      ]
     },
     "metadata": {},
     "output_type": "display_data"
    },
    {
     "name": "stdout",
     "output_type": "stream",
     "text": [
      "true Bringing pred_h Bringing pred_fnh Bringing\n"
     ]
    },
    {
     "data": {
      "text/html": [
       "<table><tr><td><b>words</b></td><td style=\"background-color: rgb(255,255,255);\">robot</td><td style=\"background-color: rgb(255,255,255);\">can</td><td style=\"background-color: rgb(255,255,255);\">you</td><td style=\"background-color: rgb(255,255,255);\">bring</td><td style=\"background-color: rgb(255,255,255);\">me</td><td style=\"background-color: rgb(255,255,255);\">the</td><td style=\"background-color: rgb(255,255,255);\">telephone</td></tr><tr><td><b>lu</b></td><td style=\"background-color: rgb(255.0000, 255,255.0000);\">0.0000</td><td style=\"background-color: rgb(255.0000, 255,255.0000);\">0.0000</td><td style=\"background-color: rgb(255.0000, 255,255.0000);\">0.0000</td><td style=\"background-color: rgb(0.0000, 255,0.0000);\">1.0000</td><td style=\"background-color: rgb(255.0000, 255,255.0000);\">0.0000</td><td style=\"background-color: rgb(255.0000, 255,255.0000);\">0.0000</td><td style=\"background-color: rgb(255.0000, 255,255.0000);\">0.0000</td></tr><tr><td><b>h->h</b></td><td style=\"background-color: rgb(255.0000, 255,255.0000);\">0.0000</td><td style=\"background-color: rgb(255.0000, 255,255.0000);\">0.0000</td><td style=\"background-color: rgb(255.0000, 255,255.0000);\">0.0000</td><td style=\"background-color: rgb(254.9999, 255,254.9999);\">0.0000</td><td style=\"background-color: rgb(254.9530, 255,254.9530);\">0.0002</td><td style=\"background-color: rgb(249.4765, 255,249.4765);\">0.0217</td><td style=\"background-color: rgb(5.5727, 255,5.5727);\">0.9781</td></tr><tr><td><b>fn+h->h</b></td><td style=\"background-color: rgb(255.0000, 255,255.0000);\">0.0000</td><td style=\"background-color: rgb(255.0000, 255,255.0000);\">0.0000</td><td style=\"background-color: rgb(255.0000, 255,255.0000);\">0.0000</td><td style=\"background-color: rgb(95.2224, 255,95.2224);\">0.6266</td><td style=\"background-color: rgb(159.7775, 255,159.7775);\">0.3734</td><td style=\"background-color: rgb(255.0000, 255,255.0000);\">0.0000</td><td style=\"background-color: rgb(255.0000, 255,255.0000);\">0.0000</td></tr></table>"
      ],
      "text/plain": [
       "<IPython.core.display.HTML object>"
      ]
     },
     "metadata": {},
     "output_type": "display_data"
    },
    {
     "name": "stdout",
     "output_type": "stream",
     "text": [
      "true Motion pred_h Motion pred_fnh Motion\n"
     ]
    },
    {
     "data": {
      "text/html": [
       "<table><tr><td><b>words</b></td><td style=\"background-color: rgb(255,255,255);\">robot</td><td style=\"background-color: rgb(255,255,255);\">can</td><td style=\"background-color: rgb(255,255,255);\">you</td><td style=\"background-color: rgb(255,255,255);\">come</td><td style=\"background-color: rgb(255,255,255);\">to</td><td style=\"background-color: rgb(255,255,255);\">the</td><td style=\"background-color: rgb(255,255,255);\">studio</td></tr><tr><td><b>lu</b></td><td style=\"background-color: rgb(255.0000, 255,255.0000);\">0.0000</td><td style=\"background-color: rgb(255.0000, 255,255.0000);\">0.0000</td><td style=\"background-color: rgb(255.0000, 255,255.0000);\">0.0000</td><td style=\"background-color: rgb(0.0000, 255,0.0000);\">1.0000</td><td style=\"background-color: rgb(255.0000, 255,255.0000);\">0.0000</td><td style=\"background-color: rgb(255.0000, 255,255.0000);\">0.0000</td><td style=\"background-color: rgb(255.0000, 255,255.0000);\">0.0000</td></tr><tr><td><b>h->h</b></td><td style=\"background-color: rgb(255.0000, 255,255.0000);\">0.0000</td><td style=\"background-color: rgb(255.0000, 255,255.0000);\">0.0000</td><td style=\"background-color: rgb(255.0000, 255,255.0000);\">0.0000</td><td style=\"background-color: rgb(254.9999, 255,254.9999);\">0.0000</td><td style=\"background-color: rgb(254.4251, 255,254.4251);\">0.0023</td><td style=\"background-color: rgb(48.4604, 255,48.4604);\">0.8100</td><td style=\"background-color: rgb(207.1162, 255,207.1162);\">0.1878</td></tr><tr><td><b>fn+h->h</b></td><td style=\"background-color: rgb(255.0000, 255,255.0000);\">0.0000</td><td style=\"background-color: rgb(255.0000, 255,255.0000);\">0.0000</td><td style=\"background-color: rgb(255.0000, 255,255.0000);\">0.0000</td><td style=\"background-color: rgb(0.1432, 255,0.1432);\">0.9994</td><td style=\"background-color: rgb(254.8568, 255,254.8568);\">0.0006</td><td style=\"background-color: rgb(255.0000, 255,255.0000);\">0.0000</td><td style=\"background-color: rgb(255.0000, 255,255.0000);\">0.0000</td></tr></table>"
      ],
      "text/plain": [
       "<IPython.core.display.HTML object>"
      ]
     },
     "metadata": {},
     "output_type": "display_data"
    },
    {
     "name": "stdout",
     "output_type": "stream",
     "text": [
      "true Closure pred_h Closure pred_fnh Closure\n"
     ]
    },
    {
     "data": {
      "text/html": [
       "<table><tr><td><b>words</b></td><td style=\"background-color: rgb(255,255,255);\">robot</td><td style=\"background-color: rgb(255,255,255);\">can</td><td style=\"background-color: rgb(255,255,255);\">you</td><td style=\"background-color: rgb(255,255,255);\">fully</td><td style=\"background-color: rgb(255,255,255);\">lower</td><td style=\"background-color: rgb(255,255,255);\">the</td><td style=\"background-color: rgb(255,255,255);\">window</td><td style=\"background-color: rgb(255,255,255);\">blinds</td></tr><tr><td><b>lu</b></td><td style=\"background-color: rgb(255.0000, 255,255.0000);\">0.0000</td><td style=\"background-color: rgb(255.0000, 255,255.0000);\">0.0000</td><td style=\"background-color: rgb(255.0000, 255,255.0000);\">0.0000</td><td style=\"background-color: rgb(255.0000, 255,255.0000);\">0.0000</td><td style=\"background-color: rgb(0.0000, 255,0.0000);\">1.0000</td><td style=\"background-color: rgb(255.0000, 255,255.0000);\">0.0000</td><td style=\"background-color: rgb(255.0000, 255,255.0000);\">0.0000</td><td style=\"background-color: rgb(255.0000, 255,255.0000);\">0.0000</td></tr><tr><td><b>h->h</b></td><td style=\"background-color: rgb(255.0000, 255,255.0000);\">0.0000</td><td style=\"background-color: rgb(255.0000, 255,255.0000);\">0.0000</td><td style=\"background-color: rgb(255.0000, 255,255.0000);\">0.0000</td><td style=\"background-color: rgb(255.0000, 255,255.0000);\">0.0000</td><td style=\"background-color: rgb(254.9914, 255,254.9914);\">0.0000</td><td style=\"background-color: rgb(237.6961, 255,237.6961);\">0.0679</td><td style=\"background-color: rgb(17.6487, 255,17.6487);\">0.9308</td><td style=\"background-color: rgb(254.6680, 255,254.6680);\">0.0013</td></tr><tr><td><b>fn+h->h</b></td><td style=\"background-color: rgb(255.0000, 255,255.0000);\">0.0000</td><td style=\"background-color: rgb(255.0000, 255,255.0000);\">0.0000</td><td style=\"background-color: rgb(255.0000, 255,255.0000);\">0.0000</td><td style=\"background-color: rgb(255.0000, 255,255.0000);\">0.0000</td><td style=\"background-color: rgb(4.8417, 255,4.8417);\">0.9810</td><td style=\"background-color: rgb(253.6013, 255,253.6013);\">0.0055</td><td style=\"background-color: rgb(251.5570, 255,251.5570);\">0.0135</td><td style=\"background-color: rgb(255.0000, 255,255.0000);\">0.0000</td></tr></table>"
      ],
      "text/plain": [
       "<IPython.core.display.HTML object>"
      ]
     },
     "metadata": {},
     "output_type": "display_data"
    },
    {
     "name": "stdout",
     "output_type": "stream",
     "text": [
      "true Bringing pred_h Bringing pred_fnh Bringing\n"
     ]
    },
    {
     "data": {
      "text/html": [
       "<table><tr><td><b>words</b></td><td style=\"background-color: rgb(255,255,255);\">robot</td><td style=\"background-color: rgb(255,255,255);\">can</td><td style=\"background-color: rgb(255,255,255);\">you</td><td style=\"background-color: rgb(255,255,255);\">get</td><td style=\"background-color: rgb(255,255,255);\">me</td><td style=\"background-color: rgb(255,255,255);\">a</td><td style=\"background-color: rgb(255,255,255);\">glass</td><td style=\"background-color: rgb(255,255,255);\">of</td><td style=\"background-color: rgb(255,255,255);\">water</td><td style=\"background-color: rgb(255,255,255);\">from</td><td style=\"background-color: rgb(255,255,255);\">the</td><td style=\"background-color: rgb(255,255,255);\">kitchen</td></tr><tr><td><b>lu</b></td><td style=\"background-color: rgb(255.0000, 255,255.0000);\">0.0000</td><td style=\"background-color: rgb(255.0000, 255,255.0000);\">0.0000</td><td style=\"background-color: rgb(255.0000, 255,255.0000);\">0.0000</td><td style=\"background-color: rgb(0.0000, 255,0.0000);\">1.0000</td><td style=\"background-color: rgb(255.0000, 255,255.0000);\">0.0000</td><td style=\"background-color: rgb(255.0000, 255,255.0000);\">0.0000</td><td style=\"background-color: rgb(255.0000, 255,255.0000);\">0.0000</td><td style=\"background-color: rgb(255.0000, 255,255.0000);\">0.0000</td><td style=\"background-color: rgb(255.0000, 255,255.0000);\">0.0000</td><td style=\"background-color: rgb(255.0000, 255,255.0000);\">0.0000</td><td style=\"background-color: rgb(255.0000, 255,255.0000);\">0.0000</td><td style=\"background-color: rgb(255.0000, 255,255.0000);\">0.0000</td></tr><tr><td><b>h->h</b></td><td style=\"background-color: rgb(255.0000, 255,255.0000);\">0.0000</td><td style=\"background-color: rgb(255.0000, 255,255.0000);\">0.0000</td><td style=\"background-color: rgb(255.0000, 255,255.0000);\">0.0000</td><td style=\"background-color: rgb(254.9998, 255,254.9998);\">0.0000</td><td style=\"background-color: rgb(254.9935, 255,254.9935);\">0.0000</td><td style=\"background-color: rgb(254.8578, 255,254.8578);\">0.0006</td><td style=\"background-color: rgb(254.7857, 255,254.7857);\">0.0008</td><td style=\"background-color: rgb(254.3331, 255,254.3331);\">0.0026</td><td style=\"background-color: rgb(254.5528, 255,254.5528);\">0.0018</td><td style=\"background-color: rgb(243.8682, 255,243.8682);\">0.0437</td><td style=\"background-color: rgb(228.1136, 255,228.1136);\">0.1054</td><td style=\"background-color: rgb(39.4963, 255,39.4963);\">0.8451</td></tr><tr><td><b>fn+h->h</b></td><td style=\"background-color: rgb(255.0000, 255,255.0000);\">0.0000</td><td style=\"background-color: rgb(255.0000, 255,255.0000);\">0.0000</td><td style=\"background-color: rgb(255.0000, 255,255.0000);\">0.0000</td><td style=\"background-color: rgb(71.8411, 255,71.8411);\">0.7183</td><td style=\"background-color: rgb(183.1589, 255,183.1589);\">0.2817</td><td style=\"background-color: rgb(255.0000, 255,255.0000);\">0.0000</td><td style=\"background-color: rgb(255.0000, 255,255.0000);\">0.0000</td><td style=\"background-color: rgb(255.0000, 255,255.0000);\">0.0000</td><td style=\"background-color: rgb(255.0000, 255,255.0000);\">0.0000</td><td style=\"background-color: rgb(255.0000, 255,255.0000);\">0.0000</td><td style=\"background-color: rgb(255.0000, 255,255.0000);\">0.0000</td><td style=\"background-color: rgb(255.0000, 255,255.0000);\">0.0000</td></tr></table>"
      ],
      "text/plain": [
       "<IPython.core.display.HTML object>"
      ]
     },
     "metadata": {},
     "output_type": "display_data"
    },
    {
     "name": "stdout",
     "output_type": "stream",
     "text": [
      "true Closure pred_h Closure pred_fnh Closure\n"
     ]
    },
    {
     "data": {
      "text/html": [
       "<table><tr><td><b>words</b></td><td style=\"background-color: rgb(255,255,255);\">robot</td><td style=\"background-color: rgb(255,255,255);\">can</td><td style=\"background-color: rgb(255,255,255);\">you</td><td style=\"background-color: rgb(255,255,255);\">open</td><td style=\"background-color: rgb(255,255,255);\">the</td><td style=\"background-color: rgb(255,255,255);\">laundry</td><td style=\"background-color: rgb(255,255,255);\">room</td><td style=\"background-color: rgb(255,255,255);\">cabinet</td></tr><tr><td><b>lu</b></td><td style=\"background-color: rgb(255.0000, 255,255.0000);\">0.0000</td><td style=\"background-color: rgb(255.0000, 255,255.0000);\">0.0000</td><td style=\"background-color: rgb(255.0000, 255,255.0000);\">0.0000</td><td style=\"background-color: rgb(0.0000, 255,0.0000);\">1.0000</td><td style=\"background-color: rgb(255.0000, 255,255.0000);\">0.0000</td><td style=\"background-color: rgb(255.0000, 255,255.0000);\">0.0000</td><td style=\"background-color: rgb(255.0000, 255,255.0000);\">0.0000</td><td style=\"background-color: rgb(255.0000, 255,255.0000);\">0.0000</td></tr><tr><td><b>h->h</b></td><td style=\"background-color: rgb(255.0000, 255,255.0000);\">0.0000</td><td style=\"background-color: rgb(255.0000, 255,255.0000);\">0.0000</td><td style=\"background-color: rgb(255.0000, 255,255.0000);\">0.0000</td><td style=\"background-color: rgb(254.9993, 255,254.9993);\">0.0000</td><td style=\"background-color: rgb(254.9724, 255,254.9724);\">0.0001</td><td style=\"background-color: rgb(254.3215, 255,254.3215);\">0.0027</td><td style=\"background-color: rgb(0.8428, 255,0.8428);\">0.9967</td><td style=\"background-color: rgb(254.8745, 255,254.8745);\">0.0005</td></tr><tr><td><b>fn+h->h</b></td><td style=\"background-color: rgb(255.0000, 255,255.0000);\">0.0000</td><td style=\"background-color: rgb(255.0000, 255,255.0000);\">0.0000</td><td style=\"background-color: rgb(255.0000, 255,255.0000);\">0.0000</td><td style=\"background-color: rgb(8.7129, 255,8.7129);\">0.9658</td><td style=\"background-color: rgb(255.0000, 255,255.0000);\">0.0000</td><td style=\"background-color: rgb(254.9864, 255,254.9864);\">0.0001</td><td style=\"background-color: rgb(254.9992, 255,254.9992);\">0.0000</td><td style=\"background-color: rgb(246.3014, 255,246.3014);\">0.0341</td></tr></table>"
      ],
      "text/plain": [
       "<IPython.core.display.HTML object>"
      ]
     },
     "metadata": {},
     "output_type": "display_data"
    },
    {
     "name": "stdout",
     "output_type": "stream",
     "text": [
      "true Closure pred_h Closure pred_fnh Closure\n"
     ]
    },
    {
     "data": {
      "text/html": [
       "<table><tr><td><b>words</b></td><td style=\"background-color: rgb(255,255,255);\">robot</td><td style=\"background-color: rgb(255,255,255);\">can</td><td style=\"background-color: rgb(255,255,255);\">you</td><td style=\"background-color: rgb(255,255,255);\">open</td><td style=\"background-color: rgb(255,255,255);\">the</td><td style=\"background-color: rgb(255,255,255);\">washer</td></tr><tr><td><b>lu</b></td><td style=\"background-color: rgb(255.0000, 255,255.0000);\">0.0000</td><td style=\"background-color: rgb(255.0000, 255,255.0000);\">0.0000</td><td style=\"background-color: rgb(255.0000, 255,255.0000);\">0.0000</td><td style=\"background-color: rgb(0.0000, 255,0.0000);\">1.0000</td><td style=\"background-color: rgb(255.0000, 255,255.0000);\">0.0000</td><td style=\"background-color: rgb(255.0000, 255,255.0000);\">0.0000</td></tr><tr><td><b>h->h</b></td><td style=\"background-color: rgb(254.9999, 255,254.9999);\">0.0000</td><td style=\"background-color: rgb(255.0000, 255,255.0000);\">0.0000</td><td style=\"background-color: rgb(255.0000, 255,255.0000);\">0.0000</td><td style=\"background-color: rgb(254.8821, 255,254.8821);\">0.0005</td><td style=\"background-color: rgb(7.5579, 255,7.5579);\">0.9704</td><td style=\"background-color: rgb(247.6017, 255,247.6017);\">0.0290</td></tr><tr><td><b>fn+h->h</b></td><td style=\"background-color: rgb(255.0000, 255,255.0000);\">0.0000</td><td style=\"background-color: rgb(255.0000, 255,255.0000);\">0.0000</td><td style=\"background-color: rgb(255.0000, 255,255.0000);\">0.0000</td><td style=\"background-color: rgb(0.3048, 255,0.3048);\">0.9988</td><td style=\"background-color: rgb(255.0000, 255,255.0000);\">0.0000</td><td style=\"background-color: rgb(254.6952, 255,254.6952);\">0.0012</td></tr></table>"
      ],
      "text/plain": [
       "<IPython.core.display.HTML object>"
      ]
     },
     "metadata": {},
     "output_type": "display_data"
    },
    {
     "name": "stdout",
     "output_type": "stream",
     "text": [
      "true Closure pred_h Closure pred_fnh Change_operational_state\n"
     ]
    },
    {
     "data": {
      "text/html": [
       "<table><tr><td><b>words</b></td><td style=\"background-color: rgb(255,255,255);\">robot</td><td style=\"background-color: rgb(255,255,255);\">can</td><td style=\"background-color: rgb(255,255,255);\">you</td><td style=\"background-color: rgb(255,255,255);\">open</td><td style=\"background-color: rgb(255,255,255);\">the</td><td style=\"background-color: rgb(255,255,255);\">washing</td><td style=\"background-color: rgb(255,255,255);\">machine</td></tr><tr><td><b>lu</b></td><td style=\"background-color: rgb(255.0000, 255,255.0000);\">0.0000</td><td style=\"background-color: rgb(255.0000, 255,255.0000);\">0.0000</td><td style=\"background-color: rgb(255.0000, 255,255.0000);\">0.0000</td><td style=\"background-color: rgb(0.0000, 255,0.0000);\">1.0000</td><td style=\"background-color: rgb(255.0000, 255,255.0000);\">0.0000</td><td style=\"background-color: rgb(255.0000, 255,255.0000);\">0.0000</td><td style=\"background-color: rgb(255.0000, 255,255.0000);\">0.0000</td></tr><tr><td><b>h->h</b></td><td style=\"background-color: rgb(254.9999, 255,254.9999);\">0.0000</td><td style=\"background-color: rgb(255.0000, 255,255.0000);\">0.0000</td><td style=\"background-color: rgb(255.0000, 255,255.0000);\">0.0000</td><td style=\"background-color: rgb(254.9542, 255,254.9542);\">0.0002</td><td style=\"background-color: rgb(252.1456, 255,252.1456);\">0.0112</td><td style=\"background-color: rgb(23.4701, 255,23.4701);\">0.9080</td><td style=\"background-color: rgb(234.4811, 255,234.4811);\">0.0805</td></tr><tr><td><b>fn+h->h</b></td><td style=\"background-color: rgb(255.0000, 255,255.0000);\">0.0000</td><td style=\"background-color: rgb(255.0000, 255,255.0000);\">0.0000</td><td style=\"background-color: rgb(255.0000, 255,255.0000);\">0.0000</td><td style=\"background-color: rgb(59.0053, 255,59.0053);\">0.7686</td><td style=\"background-color: rgb(255.0000, 255,255.0000);\">0.0000</td><td style=\"background-color: rgb(254.9680, 255,254.9680);\">0.0001</td><td style=\"background-color: rgb(196.0267, 255,196.0267);\">0.2313</td></tr></table>"
      ],
      "text/plain": [
       "<IPython.core.display.HTML object>"
      ]
     },
     "metadata": {},
     "output_type": "display_data"
    },
    {
     "name": "stdout",
     "output_type": "stream",
     "text": [
      "true Giving pred_h Giving pred_fnh Giving\n"
     ]
    },
    {
     "data": {
      "text/html": [
       "<table><tr><td><b>words</b></td><td style=\"background-color: rgb(255,255,255);\">robot</td><td style=\"background-color: rgb(255,255,255);\">can</td><td style=\"background-color: rgb(255,255,255);\">you</td><td style=\"background-color: rgb(255,255,255);\">pass</td><td style=\"background-color: rgb(255,255,255);\">me</td><td style=\"background-color: rgb(255,255,255);\">a</td><td style=\"background-color: rgb(255,255,255);\">plastic</td><td style=\"background-color: rgb(255,255,255);\">plate</td></tr><tr><td><b>lu</b></td><td style=\"background-color: rgb(255.0000, 255,255.0000);\">0.0000</td><td style=\"background-color: rgb(255.0000, 255,255.0000);\">0.0000</td><td style=\"background-color: rgb(255.0000, 255,255.0000);\">0.0000</td><td style=\"background-color: rgb(0.0000, 255,0.0000);\">1.0000</td><td style=\"background-color: rgb(255.0000, 255,255.0000);\">0.0000</td><td style=\"background-color: rgb(255.0000, 255,255.0000);\">0.0000</td><td style=\"background-color: rgb(255.0000, 255,255.0000);\">0.0000</td><td style=\"background-color: rgb(255.0000, 255,255.0000);\">0.0000</td></tr><tr><td><b>h->h</b></td><td style=\"background-color: rgb(254.9998, 255,254.9998);\">0.0000</td><td style=\"background-color: rgb(254.9998, 255,254.9998);\">0.0000</td><td style=\"background-color: rgb(255.0000, 255,255.0000);\">0.0000</td><td style=\"background-color: rgb(254.9894, 255,254.9894);\">0.0000</td><td style=\"background-color: rgb(254.7317, 255,254.7317);\">0.0011</td><td style=\"background-color: rgb(161.7880, 255,161.7880);\">0.3655</td><td style=\"background-color: rgb(94.4664, 255,94.4664);\">0.6295</td><td style=\"background-color: rgb(254.3829, 255,254.3829);\">0.0024</td></tr><tr><td><b>fn+h->h</b></td><td style=\"background-color: rgb(255.0000, 255,255.0000);\">0.0000</td><td style=\"background-color: rgb(255.0000, 255,255.0000);\">0.0000</td><td style=\"background-color: rgb(255.0000, 255,255.0000);\">0.0000</td><td style=\"background-color: rgb(0.0366, 255,0.0366);\">0.9999</td><td style=\"background-color: rgb(254.9641, 255,254.9641);\">0.0001</td><td style=\"background-color: rgb(255.0000, 255,255.0000);\">0.0000</td><td style=\"background-color: rgb(255.0000, 255,255.0000);\">0.0000</td><td style=\"background-color: rgb(254.9993, 255,254.9993);\">0.0000</td></tr></table>"
      ],
      "text/plain": [
       "<IPython.core.display.HTML object>"
      ]
     },
     "metadata": {},
     "output_type": "display_data"
    },
    {
     "name": "stdout",
     "output_type": "stream",
     "text": [
      "true Giving pred_h Giving pred_fnh Giving\n"
     ]
    },
    {
     "data": {
      "text/html": [
       "<table><tr><td><b>words</b></td><td style=\"background-color: rgb(255,255,255);\">robot</td><td style=\"background-color: rgb(255,255,255);\">can</td><td style=\"background-color: rgb(255,255,255);\">you</td><td style=\"background-color: rgb(255,255,255);\">pass</td><td style=\"background-color: rgb(255,255,255);\">me</td><td style=\"background-color: rgb(255,255,255);\">a</td><td style=\"background-color: rgb(255,255,255);\">plate</td></tr><tr><td><b>lu</b></td><td style=\"background-color: rgb(255.0000, 255,255.0000);\">0.0000</td><td style=\"background-color: rgb(255.0000, 255,255.0000);\">0.0000</td><td style=\"background-color: rgb(255.0000, 255,255.0000);\">0.0000</td><td style=\"background-color: rgb(0.0000, 255,0.0000);\">1.0000</td><td style=\"background-color: rgb(255.0000, 255,255.0000);\">0.0000</td><td style=\"background-color: rgb(255.0000, 255,255.0000);\">0.0000</td><td style=\"background-color: rgb(255.0000, 255,255.0000);\">0.0000</td></tr><tr><td><b>h->h</b></td><td style=\"background-color: rgb(254.9999, 255,254.9999);\">0.0000</td><td style=\"background-color: rgb(254.9999, 255,254.9999);\">0.0000</td><td style=\"background-color: rgb(255.0000, 255,255.0000);\">0.0000</td><td style=\"background-color: rgb(254.9951, 255,254.9951);\">0.0000</td><td style=\"background-color: rgb(254.7709, 255,254.7709);\">0.0009</td><td style=\"background-color: rgb(2.0394, 255,2.0394);\">0.9920</td><td style=\"background-color: rgb(253.3806, 255,253.3806);\">0.0064</td></tr><tr><td><b>fn+h->h</b></td><td style=\"background-color: rgb(255.0000, 255,255.0000);\">0.0000</td><td style=\"background-color: rgb(255.0000, 255,255.0000);\">0.0000</td><td style=\"background-color: rgb(255.0000, 255,255.0000);\">0.0000</td><td style=\"background-color: rgb(0.0072, 255,0.0072);\">1.0000</td><td style=\"background-color: rgb(254.9928, 255,254.9928);\">0.0000</td><td style=\"background-color: rgb(255.0000, 255,255.0000);\">0.0000</td><td style=\"background-color: rgb(255.0000, 255,255.0000);\">0.0000</td></tr></table>"
      ],
      "text/plain": [
       "<IPython.core.display.HTML object>"
      ]
     },
     "metadata": {},
     "output_type": "display_data"
    },
    {
     "name": "stdout",
     "output_type": "stream",
     "text": [
      "true Giving pred_h Giving pred_fnh Giving\n"
     ]
    },
    {
     "data": {
      "text/html": [
       "<table><tr><td><b>words</b></td><td style=\"background-color: rgb(255,255,255);\">robot</td><td style=\"background-color: rgb(255,255,255);\">can</td><td style=\"background-color: rgb(255,255,255);\">you</td><td style=\"background-color: rgb(255,255,255);\">pass</td><td style=\"background-color: rgb(255,255,255);\">me</td><td style=\"background-color: rgb(255,255,255);\">the</td><td style=\"background-color: rgb(255,255,255);\">remote</td><td style=\"background-color: rgb(255,255,255);\">for</td><td style=\"background-color: rgb(255,255,255);\">the</td><td style=\"background-color: rgb(255,255,255);\">television</td></tr><tr><td><b>lu</b></td><td style=\"background-color: rgb(255.0000, 255,255.0000);\">0.0000</td><td style=\"background-color: rgb(255.0000, 255,255.0000);\">0.0000</td><td style=\"background-color: rgb(255.0000, 255,255.0000);\">0.0000</td><td style=\"background-color: rgb(0.0000, 255,0.0000);\">1.0000</td><td style=\"background-color: rgb(255.0000, 255,255.0000);\">0.0000</td><td style=\"background-color: rgb(255.0000, 255,255.0000);\">0.0000</td><td style=\"background-color: rgb(255.0000, 255,255.0000);\">0.0000</td><td style=\"background-color: rgb(255.0000, 255,255.0000);\">0.0000</td><td style=\"background-color: rgb(255.0000, 255,255.0000);\">0.0000</td><td style=\"background-color: rgb(255.0000, 255,255.0000);\">0.0000</td></tr><tr><td><b>h->h</b></td><td style=\"background-color: rgb(254.9999, 255,254.9999);\">0.0000</td><td style=\"background-color: rgb(255.0000, 255,255.0000);\">0.0000</td><td style=\"background-color: rgb(255.0000, 255,255.0000);\">0.0000</td><td style=\"background-color: rgb(254.9928, 255,254.9928);\">0.0000</td><td style=\"background-color: rgb(254.8835, 255,254.8835);\">0.0005</td><td style=\"background-color: rgb(251.1754, 255,251.1754);\">0.0150</td><td style=\"background-color: rgb(254.2621, 255,254.2621);\">0.0029</td><td style=\"background-color: rgb(253.2500, 255,253.2500);\">0.0069</td><td style=\"background-color: rgb(7.1339, 255,7.1339);\">0.9720</td><td style=\"background-color: rgb(254.3845, 255,254.3845);\">0.0024</td></tr><tr><td><b>fn+h->h</b></td><td style=\"background-color: rgb(255.0000, 255,255.0000);\">0.0000</td><td style=\"background-color: rgb(255.0000, 255,255.0000);\">0.0000</td><td style=\"background-color: rgb(255.0000, 255,255.0000);\">0.0000</td><td style=\"background-color: rgb(0.1236, 255,0.1236);\">0.9995</td><td style=\"background-color: rgb(254.8764, 255,254.8764);\">0.0005</td><td style=\"background-color: rgb(255.0000, 255,255.0000);\">0.0000</td><td style=\"background-color: rgb(255.0000, 255,255.0000);\">0.0000</td><td style=\"background-color: rgb(255.0000, 255,255.0000);\">0.0000</td><td style=\"background-color: rgb(255.0000, 255,255.0000);\">0.0000</td><td style=\"background-color: rgb(255.0000, 255,255.0000);\">0.0000</td></tr></table>"
      ],
      "text/plain": [
       "<IPython.core.display.HTML object>"
      ]
     },
     "metadata": {},
     "output_type": "display_data"
    },
    {
     "name": "stdout",
     "output_type": "stream",
     "text": [
      "true Closure pred_h Closure pred_fnh Closure\n"
     ]
    },
    {
     "data": {
      "text/html": [
       "<table><tr><td><b>words</b></td><td style=\"background-color: rgb(255,255,255);\">robot</td><td style=\"background-color: rgb(255,255,255);\">can</td><td style=\"background-color: rgb(255,255,255);\">you</td><td style=\"background-color: rgb(255,255,255);\">put</td><td style=\"background-color: rgb(255,255,255);\">the</td><td style=\"background-color: rgb(255,255,255);\">blinds</td><td style=\"background-color: rgb(255,255,255);\">all</td><td style=\"background-color: rgb(255,255,255);\">the</td><td style=\"background-color: rgb(255,255,255);\">way</td><td style=\"background-color: rgb(255,255,255);\">down</td></tr><tr><td><b>lu</b></td><td style=\"background-color: rgb(255.0000, 255,255.0000);\">0.0000</td><td style=\"background-color: rgb(255.0000, 255,255.0000);\">0.0000</td><td style=\"background-color: rgb(255.0000, 255,255.0000);\">0.0000</td><td style=\"background-color: rgb(0.0000, 255,0.0000);\">1.0000</td><td style=\"background-color: rgb(255.0000, 255,255.0000);\">0.0000</td><td style=\"background-color: rgb(255.0000, 255,255.0000);\">0.0000</td><td style=\"background-color: rgb(255.0000, 255,255.0000);\">0.0000</td><td style=\"background-color: rgb(255.0000, 255,255.0000);\">0.0000</td><td style=\"background-color: rgb(255.0000, 255,255.0000);\">0.0000</td><td style=\"background-color: rgb(255.0000, 255,255.0000);\">0.0000</td></tr><tr><td><b>h->h</b></td><td style=\"background-color: rgb(254.9995, 255,254.9995);\">0.0000</td><td style=\"background-color: rgb(255.0000, 255,255.0000);\">0.0000</td><td style=\"background-color: rgb(255.0000, 255,255.0000);\">0.0000</td><td style=\"background-color: rgb(254.9917, 255,254.9917);\">0.0000</td><td style=\"background-color: rgb(253.1529, 255,253.1529);\">0.0072</td><td style=\"background-color: rgb(254.8458, 255,254.8458);\">0.0006</td><td style=\"background-color: rgb(254.9994, 255,254.9994);\">0.0000</td><td style=\"background-color: rgb(253.6319, 255,253.6319);\">0.0054</td><td style=\"background-color: rgb(4.9091, 255,4.9091);\">0.9807</td><td style=\"background-color: rgb(253.5702, 255,253.5702);\">0.0056</td></tr><tr><td><b>fn+h->h</b></td><td style=\"background-color: rgb(255.0000, 255,255.0000);\">0.0000</td><td style=\"background-color: rgb(255.0000, 255,255.0000);\">0.0000</td><td style=\"background-color: rgb(255.0000, 255,255.0000);\">0.0000</td><td style=\"background-color: rgb(0.1629, 255,0.1629);\">0.9994</td><td style=\"background-color: rgb(254.9619, 255,254.9619);\">0.0001</td><td style=\"background-color: rgb(255.0000, 255,255.0000);\">0.0000</td><td style=\"background-color: rgb(254.9863, 255,254.9863);\">0.0001</td><td style=\"background-color: rgb(254.9999, 255,254.9999);\">0.0000</td><td style=\"background-color: rgb(254.8996, 255,254.8996);\">0.0004</td><td style=\"background-color: rgb(254.9894, 255,254.9894);\">0.0000</td></tr></table>"
      ],
      "text/plain": [
       "<IPython.core.display.HTML object>"
      ]
     },
     "metadata": {},
     "output_type": "display_data"
    },
    {
     "name": "stdout",
     "output_type": "stream",
     "text": [
      "true Taking pred_h Taking pred_fnh Taking\n"
     ]
    },
    {
     "data": {
      "text/html": [
       "<table><tr><td><b>words</b></td><td style=\"background-color: rgb(255,255,255);\">take</td><td style=\"background-color: rgb(255,255,255);\">the</td><td style=\"background-color: rgb(255,255,255);\">bottle</td><td style=\"background-color: rgb(255,255,255);\">from</td><td style=\"background-color: rgb(255,255,255);\">the</td><td style=\"background-color: rgb(255,255,255);\">table</td></tr><tr><td><b>lu</b></td><td style=\"background-color: rgb(0.0000, 255,0.0000);\">1.0000</td><td style=\"background-color: rgb(255.0000, 255,255.0000);\">0.0000</td><td style=\"background-color: rgb(255.0000, 255,255.0000);\">0.0000</td><td style=\"background-color: rgb(255.0000, 255,255.0000);\">0.0000</td><td style=\"background-color: rgb(255.0000, 255,255.0000);\">0.0000</td><td style=\"background-color: rgb(255.0000, 255,255.0000);\">0.0000</td></tr><tr><td><b>h->h</b></td><td style=\"background-color: rgb(254.9932, 255,254.9932);\">0.0000</td><td style=\"background-color: rgb(254.3919, 255,254.3919);\">0.0024</td><td style=\"background-color: rgb(254.9818, 255,254.9818);\">0.0001</td><td style=\"background-color: rgb(250.7477, 255,250.7477);\">0.0167</td><td style=\"background-color: rgb(5.1433, 255,5.1433);\">0.9798</td><td style=\"background-color: rgb(254.7537, 255,254.7537);\">0.0010</td></tr><tr><td><b>fn+h->h</b></td><td style=\"background-color: rgb(0.0001, 255,0.0001);\">1.0000</td><td style=\"background-color: rgb(255.0000, 255,255.0000);\">0.0000</td><td style=\"background-color: rgb(255.0000, 255,255.0000);\">0.0000</td><td style=\"background-color: rgb(255.0000, 255,255.0000);\">0.0000</td><td style=\"background-color: rgb(255.0000, 255,255.0000);\">0.0000</td><td style=\"background-color: rgb(255.0000, 255,255.0000);\">0.0000</td></tr></table>"
      ],
      "text/plain": [
       "<IPython.core.display.HTML object>"
      ]
     },
     "metadata": {},
     "output_type": "display_data"
    },
    {
     "name": "stdout",
     "output_type": "stream",
     "text": [
      "true Taking pred_h Taking pred_fnh Taking\n"
     ]
    },
    {
     "data": {
      "text/html": [
       "<table><tr><td><b>words</b></td><td style=\"background-color: rgb(255,255,255);\">take</td><td style=\"background-color: rgb(255,255,255);\">the</td><td style=\"background-color: rgb(255,255,255);\">newspaper</td><td style=\"background-color: rgb(255,255,255);\">from</td><td style=\"background-color: rgb(255,255,255);\">the</td><td style=\"background-color: rgb(255,255,255);\">stand</td></tr><tr><td><b>lu</b></td><td style=\"background-color: rgb(0.0000, 255,0.0000);\">1.0000</td><td style=\"background-color: rgb(255.0000, 255,255.0000);\">0.0000</td><td style=\"background-color: rgb(255.0000, 255,255.0000);\">0.0000</td><td style=\"background-color: rgb(255.0000, 255,255.0000);\">0.0000</td><td style=\"background-color: rgb(255.0000, 255,255.0000);\">0.0000</td><td style=\"background-color: rgb(255.0000, 255,255.0000);\">0.0000</td></tr><tr><td><b>h->h</b></td><td style=\"background-color: rgb(254.9926, 255,254.9926);\">0.0000</td><td style=\"background-color: rgb(254.4691, 255,254.4691);\">0.0021</td><td style=\"background-color: rgb(254.9956, 255,254.9956);\">0.0000</td><td style=\"background-color: rgb(252.9556, 255,252.9556);\">0.0080</td><td style=\"background-color: rgb(2.7743, 255,2.7743);\">0.9891</td><td style=\"background-color: rgb(254.8236, 255,254.8236);\">0.0007</td></tr><tr><td><b>fn+h->h</b></td><td style=\"background-color: rgb(0.0000, 255,0.0000);\">1.0000</td><td style=\"background-color: rgb(255.0000, 255,255.0000);\">0.0000</td><td style=\"background-color: rgb(255.0000, 255,255.0000);\">0.0000</td><td style=\"background-color: rgb(255.0000, 255,255.0000);\">0.0000</td><td style=\"background-color: rgb(255.0000, 255,255.0000);\">0.0000</td><td style=\"background-color: rgb(255.0000, 255,255.0000);\">0.0000</td></tr></table>"
      ],
      "text/plain": [
       "<IPython.core.display.HTML object>"
      ]
     },
     "metadata": {},
     "output_type": "display_data"
    },
    {
     "name": "stdout",
     "output_type": "stream",
     "text": [
      "true Motion pred_h Motion pred_fnh Motion\n"
     ]
    },
    {
     "data": {
      "text/html": [
       "<table><tr><td><b>words</b></td><td style=\"background-color: rgb(255,255,255);\">go</td><td style=\"background-color: rgb(255,255,255);\">to</td><td style=\"background-color: rgb(255,255,255);\">the</td><td style=\"background-color: rgb(255,255,255);\">computer</td></tr><tr><td><b>lu</b></td><td style=\"background-color: rgb(0.0000, 255,0.0000);\">1.0000</td><td style=\"background-color: rgb(255.0000, 255,255.0000);\">0.0000</td><td style=\"background-color: rgb(255.0000, 255,255.0000);\">0.0000</td><td style=\"background-color: rgb(255.0000, 255,255.0000);\">0.0000</td></tr><tr><td><b>h->h</b></td><td style=\"background-color: rgb(254.9997, 255,254.9997);\">0.0000</td><td style=\"background-color: rgb(252.5368, 255,252.5368);\">0.0097</td><td style=\"background-color: rgb(156.8619, 255,156.8619);\">0.3849</td><td style=\"background-color: rgb(100.6023, 255,100.6023);\">0.6055</td></tr><tr><td><b>fn+h->h</b></td><td style=\"background-color: rgb(0.0013, 255,0.0013);\">1.0000</td><td style=\"background-color: rgb(254.9987, 255,254.9987);\">0.0000</td><td style=\"background-color: rgb(255.0000, 255,255.0000);\">0.0000</td><td style=\"background-color: rgb(255.0000, 255,255.0000);\">0.0000</td></tr></table>"
      ],
      "text/plain": [
       "<IPython.core.display.HTML object>"
      ]
     },
     "metadata": {},
     "output_type": "display_data"
    },
    {
     "name": "stdout",
     "output_type": "stream",
     "text": [
      "true Change_operational_state pred_h Change_operational_state pred_fnh Change_operational_state\n"
     ]
    },
    {
     "data": {
      "text/html": [
       "<table><tr><td><b>words</b></td><td style=\"background-color: rgb(255,255,255);\">restart</td><td style=\"background-color: rgb(255,255,255);\">the</td><td style=\"background-color: rgb(255,255,255);\">wifi</td></tr><tr><td><b>lu</b></td><td style=\"background-color: rgb(0.0000, 255,0.0000);\">1.0000</td><td style=\"background-color: rgb(255.0000, 255,255.0000);\">0.0000</td><td style=\"background-color: rgb(255.0000, 255,255.0000);\">0.0000</td></tr><tr><td><b>h->h</b></td><td style=\"background-color: rgb(254.7570, 255,254.7570);\">0.0010</td><td style=\"background-color: rgb(239.9422, 255,239.9422);\">0.0591</td><td style=\"background-color: rgb(15.3032, 255,15.3032);\">0.9400</td></tr><tr><td><b>fn+h->h</b></td><td style=\"background-color: rgb(0.0799, 255,0.0799);\">0.9997</td><td style=\"background-color: rgb(255.0000, 255,255.0000);\">0.0000</td><td style=\"background-color: rgb(254.9201, 255,254.9201);\">0.0003</td></tr></table>"
      ],
      "text/plain": [
       "<IPython.core.display.HTML object>"
      ]
     },
     "metadata": {},
     "output_type": "display_data"
    },
    {
     "name": "stdout",
     "output_type": "stream",
     "text": [
      "true Bringing pred_h Bringing pred_fnh Bringing\n"
     ]
    },
    {
     "data": {
      "text/html": [
       "<table><tr><td><b>words</b></td><td style=\"background-color: rgb(255,255,255);\">michael</td><td style=\"background-color: rgb(255,255,255);\">carry</td><td style=\"background-color: rgb(255,255,255);\">me</td><td style=\"background-color: rgb(255,255,255);\">the</td><td style=\"background-color: rgb(255,255,255);\">phone</td><td style=\"background-color: rgb(255,255,255);\">that</td><td style=\"background-color: rgb(255,255,255);\">is</td><td style=\"background-color: rgb(255,255,255);\">on</td><td style=\"background-color: rgb(255,255,255);\">the</td><td style=\"background-color: rgb(255,255,255);\">glass</td><td style=\"background-color: rgb(255,255,255);\">table</td><td style=\"background-color: rgb(255,255,255);\">in</td><td style=\"background-color: rgb(255,255,255);\">the</td><td style=\"background-color: rgb(255,255,255);\">dining</td><td style=\"background-color: rgb(255,255,255);\">room</td></tr><tr><td><b>lu</b></td><td style=\"background-color: rgb(255.0000, 255,255.0000);\">0.0000</td><td style=\"background-color: rgb(0.0000, 255,0.0000);\">1.0000</td><td style=\"background-color: rgb(255.0000, 255,255.0000);\">0.0000</td><td style=\"background-color: rgb(255.0000, 255,255.0000);\">0.0000</td><td style=\"background-color: rgb(255.0000, 255,255.0000);\">0.0000</td><td style=\"background-color: rgb(255.0000, 255,255.0000);\">0.0000</td><td style=\"background-color: rgb(255.0000, 255,255.0000);\">0.0000</td><td style=\"background-color: rgb(255.0000, 255,255.0000);\">0.0000</td><td style=\"background-color: rgb(255.0000, 255,255.0000);\">0.0000</td><td style=\"background-color: rgb(255.0000, 255,255.0000);\">0.0000</td><td style=\"background-color: rgb(255.0000, 255,255.0000);\">0.0000</td><td style=\"background-color: rgb(255.0000, 255,255.0000);\">0.0000</td><td style=\"background-color: rgb(255.0000, 255,255.0000);\">0.0000</td><td style=\"background-color: rgb(255.0000, 255,255.0000);\">0.0000</td><td style=\"background-color: rgb(255.0000, 255,255.0000);\">0.0000</td></tr><tr><td><b>h->h</b></td><td style=\"background-color: rgb(255.0000, 255,255.0000);\">0.0000</td><td style=\"background-color: rgb(254.9998, 255,254.9998);\">0.0000</td><td style=\"background-color: rgb(254.8725, 255,254.8725);\">0.0005</td><td style=\"background-color: rgb(254.4001, 255,254.4001);\">0.0024</td><td style=\"background-color: rgb(254.0950, 255,254.0950);\">0.0035</td><td style=\"background-color: rgb(254.5542, 255,254.5542);\">0.0017</td><td style=\"background-color: rgb(254.7863, 255,254.7863);\">0.0008</td><td style=\"background-color: rgb(252.6366, 255,252.6366);\">0.0093</td><td style=\"background-color: rgb(253.4392, 255,253.4392);\">0.0061</td><td style=\"background-color: rgb(254.5989, 255,254.5989);\">0.0016</td><td style=\"background-color: rgb(252.9637, 255,252.9637);\">0.0080</td><td style=\"background-color: rgb(251.4408, 255,251.4408);\">0.0140</td><td style=\"background-color: rgb(246.2178, 255,246.2178);\">0.0344</td><td style=\"background-color: rgb(207.4902, 255,207.4902);\">0.1863</td><td style=\"background-color: rgb(68.5056, 255,68.5056);\">0.7314</td></tr><tr><td><b>fn+h->h</b></td><td style=\"background-color: rgb(255.0000, 255,255.0000);\">0.0000</td><td style=\"background-color: rgb(90.1225, 255,90.1225);\">0.6466</td><td style=\"background-color: rgb(164.8776, 255,164.8776);\">0.3534</td><td style=\"background-color: rgb(255.0000, 255,255.0000);\">0.0000</td><td style=\"background-color: rgb(255.0000, 255,255.0000);\">0.0000</td><td style=\"background-color: rgb(255.0000, 255,255.0000);\">0.0000</td><td style=\"background-color: rgb(255.0000, 255,255.0000);\">0.0000</td><td style=\"background-color: rgb(255.0000, 255,255.0000);\">0.0000</td><td style=\"background-color: rgb(255.0000, 255,255.0000);\">0.0000</td><td style=\"background-color: rgb(255.0000, 255,255.0000);\">0.0000</td><td style=\"background-color: rgb(255.0000, 255,255.0000);\">0.0000</td><td style=\"background-color: rgb(254.9999, 255,254.9999);\">0.0000</td><td style=\"background-color: rgb(255.0000, 255,255.0000);\">0.0000</td><td style=\"background-color: rgb(255.0000, 255,255.0000);\">0.0000</td><td style=\"background-color: rgb(255.0000, 255,255.0000);\">0.0000</td></tr></table>"
      ],
      "text/plain": [
       "<IPython.core.display.HTML object>"
      ]
     },
     "metadata": {},
     "output_type": "display_data"
    }
   ],
   "source": [
    "for p1, p2 in zip(sorted(h_pred, key=lambda x: x['file']), sorted(fnh_pred, key=lambda x: x['file'])):\n",
    "    lu, attn1 = utils.get_intent_attention_arrays(p1)\n",
    "    _, attn2 = utils.get_intent_attention_arrays(p2)\n",
    "    lu_idx = np.argmax(lu)\n",
    "    at1_idx = np.argmax(attn1)\n",
    "    at2_idx = np.argmax(attn2)\n",
    "    if lu_idx != at1_idx and lu_idx == at2_idx:\n",
    "        print('true', p1['intent_true'], 'pred_h', p1['intent_pred'], 'pred_fnh', p2['intent_pred'])\n",
    "        utils.display_sequences(['words', 'lu', 'h->h', 'fn+h->h'], [p1['words'], lu, attn1, attn2])\n",
    "    #if p1['intent_pred'] != p1['intent_true']:\n",
    "    #    print('true', p1['intent_true'], 'pred_h', p1['intent_pred'], 'pred_fnh', p2['intent_pred'])\n",
    "    #    utils.display_sequences(['words', 'lu', 'h->h', 'fn+h->h'], [p1['words'], lu, attn1, attn2])"
   ]
  },
  {
   "cell_type": "code",
   "execution_count": null,
   "metadata": {},
   "outputs": [],
   "source": []
  }
 ],
 "metadata": {
  "kernelspec": {
   "display_name": "python3.6",
   "language": "python",
   "name": "python3.6"
  },
  "language_info": {
   "codemirror_mode": {
    "name": "ipython",
    "version": 3
   },
   "file_extension": ".py",
   "mimetype": "text/x-python",
   "name": "python",
   "nbconvert_exporter": "python",
   "pygments_lexer": "ipython3",
   "version": "3.6.6"
  }
 },
 "nbformat": 4,
 "nbformat_minor": 2
}
