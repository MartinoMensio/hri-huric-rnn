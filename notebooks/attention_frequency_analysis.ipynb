{
 "cells": [
  {
   "cell_type": "code",
   "execution_count": 1,
   "metadata": {},
   "outputs": [
    {
     "name": "stdout",
     "output_type": "stream",
     "text": [
      "[('the', 0.38963990999300896), ('to', 0.2392337658943037), ('me', 0.08148177708736276), ('bring', 0.029849433277815005), ('for', 0.024124365912198468), ('a', 0.02220087630828655), ('into', 0.020340657482544582), ('on', 0.018799257440857926), ('in', 0.015943492385986247), ('with', 0.01409482492642753)]\n"
     ]
    }
   ],
   "source": [
    "from itertools import groupby\n",
    "from collections import defaultdict\n",
    "\n",
    "import utils\n",
    "\n",
    "def group_samples_by_frame(samples):\n",
    "    groups = {k: list(v) for k,v in groupby(sorted(samples, key=lambda s: s['intent_true']), key=lambda s: s['intent_true'])}\n",
    "    return groups\n",
    "\n",
    "def get_words_by_attention(samples):\n",
    "    \"\"\"Given a set of samples, returns a list of (word, average_attention) sorted by decreasing attention\"\"\"\n",
    "    bow_cumulative = defaultdict(lambda: 0)\n",
    "    for s in samples:\n",
    "        for w_idx, w in enumerate(s['words']):\n",
    "            bow_cumulative[w] += s['intent_attentions'][w_idx]\n",
    "        #print(s['intent_attentions'])\n",
    "    bow_cumulative = {k: score / len(samples) for k, score in bow_cumulative.items()}\n",
    "    result = sorted([(w, w_sum) for (w, w_sum) in bow_cumulative.items()], key=lambda x: x[1], reverse=True)\n",
    "    return result\n",
    "\n",
    "FOLDER_3_BI_RNN='../nlunetwork/results/viz/eval_loss_both_slottype_full_we_large_recurrent_cell_lstm_attention_both_three_stages___hyper:LABEL_EMB_SIZE=64,LSTM_SIZE=128,BATCH_SIZE=2,MAX_EPOCHS=100/huric_eb/modern'\n",
    "\n",
    "# I want to show for each frame, top words gaining attention\n",
    "samples = utils.load_json(FOLDER_3_BI_RNN)\n",
    "groups = group_samples_by_frame(samples)\n",
    "all_w_sorted = get_words_by_attention(samples)\n",
    "# words capturing attention on the whole dataset\n",
    "print(all_w_sorted[:10])"
   ]
  },
  {
   "cell_type": "code",
   "execution_count": 2,
   "metadata": {},
   "outputs": [
    {
     "name": "stdout",
     "output_type": "stream",
     "text": [
      "Being_in_category 4\n",
      "[('a', 0.6137917917221785), ('with', 0.19370362907648087), ('white', 0.12150877714157104)]\n",
      "Being_located 8\n",
      "[('the', 0.6440814584493637), ('two', 0.18038612604141235), ('with', 0.06721475906670094)]\n",
      "Bringing 50\n",
      "[('to', 0.4918789803981781), ('me', 0.2667546909628436), ('bring', 0.12894955176016082)]\n",
      "Change_operational_state 14\n",
      "[('the', 0.5435391967164053), ('off', 0.1169189065694809), ('turn', 0.10339143355349734)]\n",
      "Closure 6\n",
      "[('the', 0.6891984889904658), ('open', 0.11340286792255938), ('window', 0.07664586445995762)]\n",
      "Entering 2\n",
      "[('the', 0.9835158586502075), ('enter', 0.015942811500281096), ('bathroom', 1.9818291747242256e-05)]\n",
      "Following 14\n",
      "[('the', 0.2342401902590479), ('to', 0.11274542340210505), ('with', 0.10306815041362175)]\n",
      "Giving 2\n",
      "[('me', 0.8505103290081024), ('for', 0.11157463490962982), ('the', 0.02154954127036035)]\n",
      "Inspecting 2\n",
      "[('the', 0.7082578837871552), ('toilet', 0.26299844682216644), ('paper', 0.028125233482569456)]\n",
      "Motion 38\n",
      "[('to', 0.6575087575536025), ('the', 0.22931991675623545), ('into', 0.07114484984623759)]\n",
      "Placing 20\n",
      "[('the', 0.6083688392609474), ('in', 0.11128993071615696), ('on', 0.10353675317019224)]\n",
      "Releasing 2\n",
      "[('the', 0.9218655601143837), ('in', 0.0652468188200146), ('leave', 0.007574724091682583)]\n",
      "Searching 32\n",
      "[('the', 0.6509031209279783), ('for', 0.10800824913894758), ('a', 0.06976273888722062)]\n",
      "Taking 22\n",
      "[('the', 0.7043598796358723), ('for', 0.06961135430769487), ('take', 0.06508060798461718)]\n"
     ]
    }
   ],
   "source": [
    "# attention on the single frames\n",
    "for g_name, g_samples in groups.items():\n",
    "    print(g_name, len(g_samples))\n",
    "    bow_sorted_attn = get_words_by_attention(g_samples)\n",
    "    print(bow_sorted_attn[:3])"
   ]
  },
  {
   "cell_type": "code",
   "execution_count": null,
   "metadata": {},
   "outputs": [],
   "source": []
  }
 ],
 "metadata": {
  "kernelspec": {
   "display_name": "Python 3",
   "language": "python",
   "name": "python3"
  },
  "language_info": {
   "codemirror_mode": {
    "name": "ipython",
    "version": 3
   },
   "file_extension": ".py",
   "mimetype": "text/x-python",
   "name": "python",
   "nbconvert_exporter": "python",
   "pygments_lexer": "ipython3",
   "version": "3.6.6"
  }
 },
 "nbformat": 4,
 "nbformat_minor": 2
}
