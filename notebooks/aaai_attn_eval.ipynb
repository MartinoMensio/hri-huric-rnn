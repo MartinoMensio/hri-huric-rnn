{
 "cells": [
  {
   "cell_type": "code",
   "execution_count": 1,
   "metadata": {},
   "outputs": [],
   "source": [
    "import numpy as np\n",
    "import matplotlib.pyplot as plt\n",
    "\n",
    "from collections import defaultdict\n",
    "from sklearn.metrics import f1_score\n",
    "\n",
    "import utils\n",
    "\n",
    "H_ONLY='../nlunetwork/results/tuning/optimized/h_only/conf_4/huric/modern_right/'\n",
    "FN_FT='../nlunetwork/results/tuning/optimized/fn_only_hyper_h/huric/modern_right/'\n",
    "FN_LU='../nlunetwork/results/tuning/optimized/fn_lu_only_hyper_h/huric/modern_right/'\n",
    "H_FN_FT='../nlunetwork/results/tuning/optimized/h_and_fn_ft/conf_4/huric/with_framenet_ft/'\n",
    "H_FN_LU='../nlunetwork/results/tuning/optimized/h_and_fn_lu/conf_4/huric/with_framenet_lu/'\n",
    "\n",
    "samples_h = utils.load_json(H_ONLY,16)\n",
    "#samples_fn_ft = utils.load_json(FN_FT, 0)\n",
    "samples_fn = utils.load_json(FN_LU, 0)\n",
    "#samples_h_fn_ft = utils.load_json(H_FN_FT,48)\n",
    "samples_h_fn = utils.load_json(H_FN_LU,25)\n",
    "\n",
    "# also the XML stuff\n",
    "HURIC_LOCATION = '../data/huric/modern/source'\n",
    "gold_attn = utils.load_attention_gold('../data/huric/modern_right/lu_disc_final.tsv')"
   ]
  },
  {
   "cell_type": "code",
   "execution_count": 2,
   "metadata": {},
   "outputs": [],
   "source": [
    "def eval_align_tops(pred_attn_vals, gold_one_hot, args):\n",
    "    # how many targets are there (non-zero elements)\n",
    "    n_targets = sum(gold_one_hot)\n",
    "    # take n_targets best values from the predicted attention values\n",
    "    if n_targets:\n",
    "        pred_target_indexes = np.argpartition(pred_attn_vals, -n_targets)[-n_targets:]\n",
    "    else:\n",
    "        # just be careful when n_targets is zero, argpartition would return all the indexes\n",
    "        pred_target_indexes = []\n",
    "    # now from the indexes found, get the 0/1 representation\n",
    "    pred_targets = [1 if el in pred_target_indexes else 0 for el in range(len(pred_attn_vals))]\n",
    "    #print(n_targets, pred_target_indexes, gold_one_hot, pred_targets)\n",
    "    # and get the f1 score only on the 1 class (average is binary)    \n",
    "    f1 = f1_score(gold_one_hot, pred_targets, average='binary')\n",
    "    return f1\n",
    "\n",
    "def eval_align_treshold(pred_attn_vals, gold_one_hot, args):\n",
    "    treshold = args['treshold']\n",
    "    pred = [1 if el > treshold else 0 for el in pred_attn_vals]\n",
    "    f1 = f1_score(gold_one_hot, pred, average='binary')\n",
    "    return f1\n",
    "\n",
    "def evaluate_attn(samples, golds, eval_fn, eval_args):\n",
    "    total = defaultdict(lambda: 0)\n",
    "    total_only_correct = defaultdict(lambda: 0)\n",
    "    correct_frame_cnt = 0\n",
    "    for s in samples:\n",
    "        #print(s['id'])\n",
    "        gold = golds[str(s['id'])]\n",
    "        for what in ['lu', 'lu+disc', 'lu+disc2']:\n",
    "            gold_one_hot = gold[what]\n",
    "            measure = eval_fn(s['intent_attentions'], gold_one_hot, eval_args)\n",
    "            total[what] += measure\n",
    "        if gold['frame'] == s['intent_pred']:\n",
    "            correct_frame_cnt += 1\n",
    "            for what in ['lu', 'lu+disc', 'lu+disc2']:\n",
    "                gold_one_hot = gold[what]\n",
    "                measure = eval_fn(s['intent_attentions'], gold_one_hot, eval_args)\n",
    "                total_only_correct['only_correct_frame_{}'.format(what)] += measure\n",
    "    for what, val in total.items():\n",
    "        print(what, val/len(samples))\n",
    "    for what, val in total_only_correct.items():\n",
    "        print(what, val/correct_frame_cnt)\n",
    "        "
   ]
  },
  {
   "cell_type": "code",
   "execution_count": 3,
   "metadata": {},
   "outputs": [
    {
     "name": "stdout",
     "output_type": "stream",
     "text": [
      "lu 0.0636998254799302\n",
      "lu+disc 0.1273996509598604\n",
      "lu+disc2 0.14761489237929026\n",
      "only_correct_frame_lu 0.0625\n",
      "only_correct_frame_lu+disc 0.12409420289855072\n",
      "only_correct_frame_lu+disc2 0.1444746376811594\n"
     ]
    }
   ],
   "source": [
    "evaluate_attn(samples_h, gold_attn, eval_align_tops, {})"
   ]
  },
  {
   "cell_type": "code",
   "execution_count": 4,
   "metadata": {
    "scrolled": true
   },
   "outputs": [
    {
     "name": "stdout",
     "output_type": "stream",
     "text": [
      "lu 0.9511343804537522\n",
      "lu+disc 0.8685282140779523\n",
      "lu+disc2 0.8454043048283887\n",
      "only_correct_frame_lu 0.9923076923076923\n",
      "only_correct_frame_lu+disc 0.8884615384615384\n",
      "only_correct_frame_lu+disc2 0.8867521367521367\n"
     ]
    }
   ],
   "source": [
    "evaluate_attn(samples_fn, gold_attn, eval_align_tops, {})"
   ]
  },
  {
   "cell_type": "code",
   "execution_count": 5,
   "metadata": {},
   "outputs": [
    {
     "name": "stdout",
     "output_type": "stream",
     "text": [
      "lu 0.44851657940663175\n",
      "lu+disc 0.45898778359511344\n",
      "lu+disc2 0.4714950552646888\n",
      "only_correct_frame_lu 0.4601593625498008\n",
      "only_correct_frame_lu+disc 0.4677954847277556\n",
      "only_correct_frame_lu+disc2 0.48240371845949526\n"
     ]
    }
   ],
   "source": [
    "evaluate_attn(samples_h_fn, gold_attn, eval_align_tops, {})"
   ]
  },
  {
   "cell_type": "code",
   "execution_count": 6,
   "metadata": {},
   "outputs": [
    {
     "name": "stdout",
     "output_type": "stream",
     "text": [
      "treshold 0.01\n",
      "lu 0.11176071359317429\n",
      "lu+disc 0.18781142262817688\n",
      "lu+disc2 0.20534540115691982\n",
      "only_correct_frame_lu 0.1114834943639291\n",
      "only_correct_frame_lu+disc 0.1859056402534666\n",
      "only_correct_frame_lu+disc2 0.20381022962544731\n",
      "treshold 0.05\n",
      "lu 0.08232361007230111\n",
      "lu+disc 0.15999335161638842\n",
      "lu+disc2 0.17728330424665523\n",
      "only_correct_frame_lu 0.08153036576949615\n",
      "only_correct_frame_lu+disc 0.15780710835058678\n",
      "only_correct_frame_lu+disc2 0.1751509661835751\n",
      "treshold 0.08\n",
      "lu 0.07963932518906336\n",
      "lu+disc 0.1557176099060917\n",
      "lu+disc2 0.1740255962769054\n",
      "only_correct_frame_lu 0.07874396135265696\n",
      "only_correct_frame_lu+disc 0.15312715665976548\n",
      "only_correct_frame_lu+disc2 0.17152777777777803\n",
      "treshold 0.1\n",
      "lu 0.08027923211169281\n",
      "lu+disc 0.1520236017618218\n",
      "lu+disc2 0.17116263608410223\n",
      "only_correct_frame_lu 0.07940821256038644\n",
      "only_correct_frame_lu+disc 0.14929261559696355\n",
      "only_correct_frame_lu+disc2 0.16855590062111817\n"
     ]
    }
   ],
   "source": [
    "# treshold-based measurements\n",
    "for treshold in [0.01, 0.05, 0.08, 0.1]:\n",
    "    print('treshold',treshold)\n",
    "    evaluate_attn(samples_h, gold_attn, eval_align_treshold, {'treshold': treshold})"
   ]
  },
  {
   "cell_type": "code",
   "execution_count": 7,
   "metadata": {},
   "outputs": [
    {
     "name": "stdout",
     "output_type": "stream",
     "text": [
      "treshold 0.01\n",
      "lu 0.9392088423502045\n",
      "lu+disc 0.8661431064572455\n",
      "lu+disc2 0.8464805119255415\n",
      "only_correct_frame_lu 0.9717948717948723\n",
      "only_correct_frame_lu+disc 0.8850427350427362\n",
      "only_correct_frame_lu+disc2 0.8824786324786337\n",
      "treshold 0.05\n"
     ]
    },
    {
     "name": "stderr",
     "output_type": "stream",
     "text": [
      "/home/martino/kmi/huric_rnn/venv/lib/python3.6/site-packages/sklearn/metrics/classification.py:1135: UndefinedMetricWarning: F-score is ill-defined and being set to 0.0 due to no predicted samples.\n",
      "  'precision', 'predicted', average, warn_for)\n"
     ]
    },
    {
     "name": "stdout",
     "output_type": "stream",
     "text": [
      "lu 0.9421175101803378\n",
      "lu+disc 0.8686445607911604\n",
      "lu+disc2 0.8489819662594564\n",
      "only_correct_frame_lu 0.9820512820512824\n",
      "only_correct_frame_lu+disc 0.8948717948717961\n",
      "only_correct_frame_lu+disc2 0.8923076923076936\n",
      "treshold 0.08\n",
      "lu 0.9450261780104716\n",
      "lu+disc 0.871553228621294\n",
      "lu+disc2 0.85189063408959\n",
      "only_correct_frame_lu 0.9854700854700857\n",
      "only_correct_frame_lu+disc 0.8982905982905994\n",
      "only_correct_frame_lu+disc2 0.8957264957264969\n",
      "treshold 0.1\n",
      "lu 0.9456079115764984\n",
      "lu+disc 0.8721349621873208\n",
      "lu+disc2 0.8524723676556168\n",
      "only_correct_frame_lu 0.9863247863247865\n",
      "only_correct_frame_lu+disc 0.8991452991453004\n",
      "only_correct_frame_lu+disc2 0.8965811965811978\n"
     ]
    }
   ],
   "source": [
    "for treshold in [0.01, 0.05, 0.08, 0.1]:\n",
    "    print('treshold',treshold)\n",
    "    evaluate_attn(samples_fn, gold_attn, eval_align_treshold, {'treshold': treshold})"
   ]
  },
  {
   "cell_type": "code",
   "execution_count": 8,
   "metadata": {},
   "outputs": [
    {
     "name": "stdout",
     "output_type": "stream",
     "text": [
      "treshold 0.01\n",
      "lu 0.5131760521812879\n",
      "lu+disc 0.5025441787221888\n",
      "lu+disc2 0.5083462785033462\n",
      "only_correct_frame_lu 0.5271577913012172\n",
      "only_correct_frame_lu+disc 0.5157747520297311\n",
      "only_correct_frame_lu+disc2 0.5243120314833453\n",
      "treshold 0.05\n",
      "lu 0.4916562785672731\n",
      "lu+disc 0.4797390509432387\n",
      "lu+disc2 0.486312640239341\n",
      "only_correct_frame_lu 0.5047524188958447\n",
      "only_correct_frame_lu+disc 0.49400493265034984\n",
      "only_correct_frame_lu+disc2 0.5030354771390616\n",
      "treshold 0.08\n",
      "lu 0.4801628853984873\n",
      "lu+disc 0.4688273913404795\n",
      "lu+disc2 0.475400980636582\n",
      "only_correct_frame_lu 0.4949535192563077\n",
      "only_correct_frame_lu+disc 0.4836748245114769\n",
      "only_correct_frame_lu+disc2 0.4927053690001887\n",
      "treshold 0.1\n",
      "lu 0.4724258289703315\n",
      "lu+disc 0.4598603839441527\n",
      "lu+disc2 0.46643397324025493\n",
      "only_correct_frame_lu 0.4861221779548469\n",
      "only_correct_frame_lu+disc 0.47410358565736965\n",
      "only_correct_frame_lu+disc2 0.4831341301460814\n"
     ]
    }
   ],
   "source": [
    "for treshold in [0.01, 0.05, 0.08, 0.1]:\n",
    "    print('treshold',treshold)\n",
    "    evaluate_attn(samples_h_fn, gold_attn, eval_align_treshold, {'treshold': treshold})"
   ]
  }
 ],
 "metadata": {
  "kernelspec": {
   "display_name": "python3.6",
   "language": "python",
   "name": "python3.6"
  },
  "language_info": {
   "codemirror_mode": {
    "name": "ipython",
    "version": 3
   },
   "file_extension": ".py",
   "mimetype": "text/x-python",
   "name": "python",
   "nbconvert_exporter": "python",
   "pygments_lexer": "ipython3",
   "version": "3.6.6"
  }
 },
 "nbformat": 4,
 "nbformat_minor": 2
}
